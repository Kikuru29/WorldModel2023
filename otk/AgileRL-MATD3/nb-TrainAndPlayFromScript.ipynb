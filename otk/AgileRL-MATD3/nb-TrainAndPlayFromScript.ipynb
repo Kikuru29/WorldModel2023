{
 "cells": [
  {
   "cell_type": "markdown",
   "id": "ff4488f4",
   "metadata": {},
   "source": [
    "# AgileRL Speaker-Listener with MATD3\n",
    "https://docs.agilerl.com/en/latest/tutorials/pettingzoo/matd3.html"
   ]
  },
  {
   "cell_type": "code",
   "execution_count": 8,
   "id": "a9b039f0",
   "metadata": {},
   "outputs": [
    {
     "name": "stdout",
     "output_type": "stream",
     "text": [
      "Requirement already satisfied: pip in /Users/work/work-worldmodel2023/venv-mpe/lib/python3.8/site-packages (23.3.2)\n"
     ]
    }
   ],
   "source": [
    "!pip install --upgrade pip"
   ]
  },
  {
   "cell_type": "code",
   "execution_count": 9,
   "id": "cfadb438-9362-4b9d-9d05-ae54b857ffcf",
   "metadata": {
    "scrolled": true
   },
   "outputs": [
    {
     "name": "stdout",
     "output_type": "stream",
     "text": [
      "Requirement already satisfied: playsound in /Users/work/work-worldmodel2023/venv-mpe/lib/python3.8/site-packages (1.3.0)\n",
      "Requirement already satisfied: PyObjC in /Users/work/work-worldmodel2023/venv-mpe/lib/python3.8/site-packages (10.1)\n",
      "Requirement already satisfied: pyobjc-core==10.1 in /Users/work/work-worldmodel2023/venv-mpe/lib/python3.8/site-packages (from PyObjC) (10.1)\n",
      "Requirement already satisfied: pyobjc-framework-AddressBook==10.1 in /Users/work/work-worldmodel2023/venv-mpe/lib/python3.8/site-packages (from PyObjC) (10.1)\n",
      "Requirement already satisfied: pyobjc-framework-AppleScriptKit==10.1 in /Users/work/work-worldmodel2023/venv-mpe/lib/python3.8/site-packages (from PyObjC) (10.1)\n",
      "Requirement already satisfied: pyobjc-framework-ApplicationServices==10.1 in /Users/work/work-worldmodel2023/venv-mpe/lib/python3.8/site-packages (from PyObjC) (10.1)\n",
      "Requirement already satisfied: pyobjc-framework-Automator==10.1 in /Users/work/work-worldmodel2023/venv-mpe/lib/python3.8/site-packages (from PyObjC) (10.1)\n",
      "Requirement already satisfied: pyobjc-framework-CFNetwork==10.1 in /Users/work/work-worldmodel2023/venv-mpe/lib/python3.8/site-packages (from PyObjC) (10.1)\n",
      "Requirement already satisfied: pyobjc-framework-Cocoa==10.1 in /Users/work/work-worldmodel2023/venv-mpe/lib/python3.8/site-packages (from PyObjC) (10.1)\n",
      "Requirement already satisfied: pyobjc-framework-CoreAudio==10.1 in /Users/work/work-worldmodel2023/venv-mpe/lib/python3.8/site-packages (from PyObjC) (10.1)\n",
      "Requirement already satisfied: pyobjc-framework-CoreAudioKit==10.1 in /Users/work/work-worldmodel2023/venv-mpe/lib/python3.8/site-packages (from PyObjC) (10.1)\n",
      "Requirement already satisfied: pyobjc-framework-CoreData==10.1 in /Users/work/work-worldmodel2023/venv-mpe/lib/python3.8/site-packages (from PyObjC) (10.1)\n",
      "Requirement already satisfied: pyobjc-framework-CoreMIDI==10.1 in /Users/work/work-worldmodel2023/venv-mpe/lib/python3.8/site-packages (from PyObjC) (10.1)\n",
      "Requirement already satisfied: pyobjc-framework-CoreServices==10.1 in /Users/work/work-worldmodel2023/venv-mpe/lib/python3.8/site-packages (from PyObjC) (10.1)\n",
      "Requirement already satisfied: pyobjc-framework-CoreText==10.1 in /Users/work/work-worldmodel2023/venv-mpe/lib/python3.8/site-packages (from PyObjC) (10.1)\n",
      "Requirement already satisfied: pyobjc-framework-DiscRecording==10.1 in /Users/work/work-worldmodel2023/venv-mpe/lib/python3.8/site-packages (from PyObjC) (10.1)\n",
      "Requirement already satisfied: pyobjc-framework-DiscRecordingUI==10.1 in /Users/work/work-worldmodel2023/venv-mpe/lib/python3.8/site-packages (from PyObjC) (10.1)\n",
      "Requirement already satisfied: pyobjc-framework-DiskArbitration==10.1 in /Users/work/work-worldmodel2023/venv-mpe/lib/python3.8/site-packages (from PyObjC) (10.1)\n",
      "Requirement already satisfied: pyobjc-framework-DVDPlayback==10.1 in /Users/work/work-worldmodel2023/venv-mpe/lib/python3.8/site-packages (from PyObjC) (10.1)\n",
      "Requirement already satisfied: pyobjc-framework-ExceptionHandling==10.1 in /Users/work/work-worldmodel2023/venv-mpe/lib/python3.8/site-packages (from PyObjC) (10.1)\n",
      "Requirement already satisfied: pyobjc-framework-InstallerPlugins==10.1 in /Users/work/work-worldmodel2023/venv-mpe/lib/python3.8/site-packages (from PyObjC) (10.1)\n",
      "Requirement already satisfied: pyobjc-framework-IOBluetooth==10.1 in /Users/work/work-worldmodel2023/venv-mpe/lib/python3.8/site-packages (from PyObjC) (10.1)\n",
      "Requirement already satisfied: pyobjc-framework-IOBluetoothUI==10.1 in /Users/work/work-worldmodel2023/venv-mpe/lib/python3.8/site-packages (from PyObjC) (10.1)\n",
      "Requirement already satisfied: pyobjc-framework-LatentSemanticMapping==10.1 in /Users/work/work-worldmodel2023/venv-mpe/lib/python3.8/site-packages (from PyObjC) (10.1)\n",
      "Requirement already satisfied: pyobjc-framework-LaunchServices==10.1 in /Users/work/work-worldmodel2023/venv-mpe/lib/python3.8/site-packages (from PyObjC) (10.1)\n",
      "Requirement already satisfied: pyobjc-framework-OSAKit==10.1 in /Users/work/work-worldmodel2023/venv-mpe/lib/python3.8/site-packages (from PyObjC) (10.1)\n",
      "Requirement already satisfied: pyobjc-framework-PreferencePanes==10.1 in /Users/work/work-worldmodel2023/venv-mpe/lib/python3.8/site-packages (from PyObjC) (10.1)\n",
      "Requirement already satisfied: pyobjc-framework-Quartz==10.1 in /Users/work/work-worldmodel2023/venv-mpe/lib/python3.8/site-packages (from PyObjC) (10.1)\n",
      "Requirement already satisfied: pyobjc-framework-ScreenSaver==10.1 in /Users/work/work-worldmodel2023/venv-mpe/lib/python3.8/site-packages (from PyObjC) (10.1)\n",
      "Requirement already satisfied: pyobjc-framework-Security==10.1 in /Users/work/work-worldmodel2023/venv-mpe/lib/python3.8/site-packages (from PyObjC) (10.1)\n",
      "Requirement already satisfied: pyobjc-framework-SecurityFoundation==10.1 in /Users/work/work-worldmodel2023/venv-mpe/lib/python3.8/site-packages (from PyObjC) (10.1)\n",
      "Requirement already satisfied: pyobjc-framework-SecurityInterface==10.1 in /Users/work/work-worldmodel2023/venv-mpe/lib/python3.8/site-packages (from PyObjC) (10.1)\n",
      "Requirement already satisfied: pyobjc-framework-SearchKit==10.1 in /Users/work/work-worldmodel2023/venv-mpe/lib/python3.8/site-packages (from PyObjC) (10.1)\n",
      "Requirement already satisfied: pyobjc-framework-SyncServices==10.1 in /Users/work/work-worldmodel2023/venv-mpe/lib/python3.8/site-packages (from PyObjC) (10.1)\n",
      "Requirement already satisfied: pyobjc-framework-SystemConfiguration==10.1 in /Users/work/work-worldmodel2023/venv-mpe/lib/python3.8/site-packages (from PyObjC) (10.1)\n",
      "Requirement already satisfied: pyobjc-framework-WebKit==10.1 in /Users/work/work-worldmodel2023/venv-mpe/lib/python3.8/site-packages (from PyObjC) (10.1)\n",
      "Requirement already satisfied: pyobjc-framework-AppleScriptObjC==10.1 in /Users/work/work-worldmodel2023/venv-mpe/lib/python3.8/site-packages (from PyObjC) (10.1)\n",
      "Requirement already satisfied: pyobjc-framework-CoreLocation==10.1 in /Users/work/work-worldmodel2023/venv-mpe/lib/python3.8/site-packages (from PyObjC) (10.1)\n",
      "Requirement already satisfied: pyobjc-framework-CoreWLAN==10.1 in /Users/work/work-worldmodel2023/venv-mpe/lib/python3.8/site-packages (from PyObjC) (10.1)\n",
      "Requirement already satisfied: pyobjc-framework-ImageCaptureCore==10.1 in /Users/work/work-worldmodel2023/venv-mpe/lib/python3.8/site-packages (from PyObjC) (10.1)\n",
      "Requirement already satisfied: pyobjc-framework-IOSurface==10.1 in /Users/work/work-worldmodel2023/venv-mpe/lib/python3.8/site-packages (from PyObjC) (10.1)\n",
      "Requirement already satisfied: pyobjc-framework-NetFS==10.1 in /Users/work/work-worldmodel2023/venv-mpe/lib/python3.8/site-packages (from PyObjC) (10.1)\n",
      "Requirement already satisfied: pyobjc-framework-OpenDirectory==10.1 in /Users/work/work-worldmodel2023/venv-mpe/lib/python3.8/site-packages (from PyObjC) (10.1)\n",
      "Requirement already satisfied: pyobjc-framework-ServiceManagement==10.1 in /Users/work/work-worldmodel2023/venv-mpe/lib/python3.8/site-packages (from PyObjC) (10.1)\n",
      "Requirement already satisfied: pyobjc-framework-iTunesLibrary==10.1 in /Users/work/work-worldmodel2023/venv-mpe/lib/python3.8/site-packages (from PyObjC) (10.1)\n",
      "Requirement already satisfied: pyobjc-framework-AVFoundation==10.1 in /Users/work/work-worldmodel2023/venv-mpe/lib/python3.8/site-packages (from PyObjC) (10.1)\n",
      "Requirement already satisfied: pyobjc-framework-CoreMedia==10.1 in /Users/work/work-worldmodel2023/venv-mpe/lib/python3.8/site-packages (from PyObjC) (10.1)\n",
      "Requirement already satisfied: pyobjc-framework-CoreMediaIO==10.1 in /Users/work/work-worldmodel2023/venv-mpe/lib/python3.8/site-packages (from PyObjC) (10.1)\n",
      "Requirement already satisfied: pyobjc-framework-StoreKit==10.1 in /Users/work/work-worldmodel2023/venv-mpe/lib/python3.8/site-packages (from PyObjC) (10.1)\n",
      "Requirement already satisfied: pyobjc-framework-SceneKit==10.1 in /Users/work/work-worldmodel2023/venv-mpe/lib/python3.8/site-packages (from PyObjC) (10.1)\n",
      "Requirement already satisfied: pyobjc-framework-libdispatch==10.1 in /Users/work/work-worldmodel2023/venv-mpe/lib/python3.8/site-packages (from PyObjC) (10.1)\n",
      "Requirement already satisfied: pyobjc-framework-libxpc==10.1 in /Users/work/work-worldmodel2023/venv-mpe/lib/python3.8/site-packages (from PyObjC) (10.1)\n",
      "Requirement already satisfied: pyobjc-framework-AudioVideoBridging==10.1 in /Users/work/work-worldmodel2023/venv-mpe/lib/python3.8/site-packages (from PyObjC) (10.1)\n",
      "Requirement already satisfied: pyobjc-framework-Accounts==10.1 in /Users/work/work-worldmodel2023/venv-mpe/lib/python3.8/site-packages (from PyObjC) (10.1)\n",
      "Requirement already satisfied: pyobjc-framework-EventKit==10.1 in /Users/work/work-worldmodel2023/venv-mpe/lib/python3.8/site-packages (from PyObjC) (10.1)\n",
      "Requirement already satisfied: pyobjc-framework-GameCenter==10.1 in /Users/work/work-worldmodel2023/venv-mpe/lib/python3.8/site-packages (from PyObjC) (10.1)\n",
      "Requirement already satisfied: pyobjc-framework-Social==10.1 in /Users/work/work-worldmodel2023/venv-mpe/lib/python3.8/site-packages (from PyObjC) (10.1)\n",
      "Requirement already satisfied: pyobjc-framework-GameKit==10.1 in /Users/work/work-worldmodel2023/venv-mpe/lib/python3.8/site-packages (from PyObjC) (10.1)\n",
      "Requirement already satisfied: pyobjc-framework-VideoToolbox==10.1 in /Users/work/work-worldmodel2023/venv-mpe/lib/python3.8/site-packages (from PyObjC) (10.1)\n",
      "Requirement already satisfied: pyobjc-framework-AVKit==10.1 in /Users/work/work-worldmodel2023/venv-mpe/lib/python3.8/site-packages (from PyObjC) (10.1)\n",
      "Requirement already satisfied: pyobjc-framework-GameController==10.1 in /Users/work/work-worldmodel2023/venv-mpe/lib/python3.8/site-packages (from PyObjC) (10.1)\n",
      "Requirement already satisfied: pyobjc-framework-MapKit==10.1 in /Users/work/work-worldmodel2023/venv-mpe/lib/python3.8/site-packages (from PyObjC) (10.1)\n",
      "Requirement already satisfied: pyobjc-framework-MediaAccessibility==10.1 in /Users/work/work-worldmodel2023/venv-mpe/lib/python3.8/site-packages (from PyObjC) (10.1)\n",
      "Requirement already satisfied: pyobjc-framework-MediaLibrary==10.1 in /Users/work/work-worldmodel2023/venv-mpe/lib/python3.8/site-packages (from PyObjC) (10.1)\n",
      "Requirement already satisfied: pyobjc-framework-MediaToolbox==10.1 in /Users/work/work-worldmodel2023/venv-mpe/lib/python3.8/site-packages (from PyObjC) (10.1)\n",
      "Requirement already satisfied: pyobjc-framework-SpriteKit==10.1 in /Users/work/work-worldmodel2023/venv-mpe/lib/python3.8/site-packages (from PyObjC) (10.1)\n",
      "Requirement already satisfied: pyobjc-framework-CloudKit==10.1 in /Users/work/work-worldmodel2023/venv-mpe/lib/python3.8/site-packages (from PyObjC) (10.1)\n",
      "Requirement already satisfied: pyobjc-framework-CoreBluetooth==10.1 in /Users/work/work-worldmodel2023/venv-mpe/lib/python3.8/site-packages (from PyObjC) (10.1)\n",
      "Requirement already satisfied: pyobjc-framework-CryptoTokenKit==10.1 in /Users/work/work-worldmodel2023/venv-mpe/lib/python3.8/site-packages (from PyObjC) (10.1)\n",
      "Requirement already satisfied: pyobjc-framework-FinderSync==10.1 in /Users/work/work-worldmodel2023/venv-mpe/lib/python3.8/site-packages (from PyObjC) (10.1)\n",
      "Requirement already satisfied: pyobjc-framework-LocalAuthentication==10.1 in /Users/work/work-worldmodel2023/venv-mpe/lib/python3.8/site-packages (from PyObjC) (10.1)\n",
      "Requirement already satisfied: pyobjc-framework-MultipeerConnectivity==10.1 in /Users/work/work-worldmodel2023/venv-mpe/lib/python3.8/site-packages (from PyObjC) (10.1)\n",
      "Requirement already satisfied: pyobjc-framework-NotificationCenter==10.1 in /Users/work/work-worldmodel2023/venv-mpe/lib/python3.8/site-packages (from PyObjC) (10.1)\n",
      "Requirement already satisfied: pyobjc-framework-Contacts==10.1 in /Users/work/work-worldmodel2023/venv-mpe/lib/python3.8/site-packages (from PyObjC) (10.1)\n",
      "Requirement already satisfied: pyobjc-framework-ContactsUI==10.1 in /Users/work/work-worldmodel2023/venv-mpe/lib/python3.8/site-packages (from PyObjC) (10.1)\n",
      "Requirement already satisfied: pyobjc-framework-Metal==10.1 in /Users/work/work-worldmodel2023/venv-mpe/lib/python3.8/site-packages (from PyObjC) (10.1)\n",
      "Requirement already satisfied: pyobjc-framework-MetalKit==10.1 in /Users/work/work-worldmodel2023/venv-mpe/lib/python3.8/site-packages (from PyObjC) (10.1)\n",
      "Requirement already satisfied: pyobjc-framework-ModelIO==10.1 in /Users/work/work-worldmodel2023/venv-mpe/lib/python3.8/site-packages (from PyObjC) (10.1)\n",
      "Requirement already satisfied: pyobjc-framework-NetworkExtension==10.1 in /Users/work/work-worldmodel2023/venv-mpe/lib/python3.8/site-packages (from PyObjC) (10.1)\n",
      "Requirement already satisfied: pyobjc-framework-Photos==10.1 in /Users/work/work-worldmodel2023/venv-mpe/lib/python3.8/site-packages (from PyObjC) (10.1)\n",
      "Requirement already satisfied: pyobjc-framework-PhotosUI==10.1 in /Users/work/work-worldmodel2023/venv-mpe/lib/python3.8/site-packages (from PyObjC) (10.1)\n",
      "Requirement already satisfied: pyobjc-framework-GameplayKit==10.1 in /Users/work/work-worldmodel2023/venv-mpe/lib/python3.8/site-packages (from PyObjC) (10.1)\n",
      "Requirement already satisfied: pyobjc-framework-Intents==10.1 in /Users/work/work-worldmodel2023/venv-mpe/lib/python3.8/site-packages (from PyObjC) (10.1)\n",
      "Requirement already satisfied: pyobjc-framework-MediaPlayer==10.1 in /Users/work/work-worldmodel2023/venv-mpe/lib/python3.8/site-packages (from PyObjC) (10.1)\n",
      "Requirement already satisfied: pyobjc-framework-SafariServices==10.1 in /Users/work/work-worldmodel2023/venv-mpe/lib/python3.8/site-packages (from PyObjC) (10.1)\n",
      "Requirement already satisfied: pyobjc-framework-ColorSync==10.1 in /Users/work/work-worldmodel2023/venv-mpe/lib/python3.8/site-packages (from PyObjC) (10.1)\n",
      "Requirement already satisfied: pyobjc-framework-CoreML==10.1 in /Users/work/work-worldmodel2023/venv-mpe/lib/python3.8/site-packages (from PyObjC) (10.1)\n",
      "Requirement already satisfied: pyobjc-framework-CoreSpotlight==10.1 in /Users/work/work-worldmodel2023/venv-mpe/lib/python3.8/site-packages (from PyObjC) (10.1)\n",
      "Requirement already satisfied: pyobjc-framework-ExternalAccessory==10.1 in /Users/work/work-worldmodel2023/venv-mpe/lib/python3.8/site-packages (from PyObjC) (10.1)\n",
      "Requirement already satisfied: pyobjc-framework-MetalPerformanceShaders==10.1 in /Users/work/work-worldmodel2023/venv-mpe/lib/python3.8/site-packages (from PyObjC) (10.1)\n",
      "Requirement already satisfied: pyobjc-framework-Vision==10.1 in /Users/work/work-worldmodel2023/venv-mpe/lib/python3.8/site-packages (from PyObjC) (10.1)\n",
      "Requirement already satisfied: pyobjc-framework-AdSupport==10.1 in /Users/work/work-worldmodel2023/venv-mpe/lib/python3.8/site-packages (from PyObjC) (10.1)\n",
      "Requirement already satisfied: pyobjc-framework-BusinessChat==10.1 in /Users/work/work-worldmodel2023/venv-mpe/lib/python3.8/site-packages (from PyObjC) (10.1)\n",
      "Requirement already satisfied: pyobjc-framework-NaturalLanguage==10.1 in /Users/work/work-worldmodel2023/venv-mpe/lib/python3.8/site-packages (from PyObjC) (10.1)\n",
      "Requirement already satisfied: pyobjc-framework-Network==10.1 in /Users/work/work-worldmodel2023/venv-mpe/lib/python3.8/site-packages (from PyObjC) (10.1)\n",
      "Requirement already satisfied: pyobjc-framework-UserNotifications==10.1 in /Users/work/work-worldmodel2023/venv-mpe/lib/python3.8/site-packages (from PyObjC) (10.1)\n",
      "Requirement already satisfied: pyobjc-framework-VideoSubscriberAccount==10.1 in /Users/work/work-worldmodel2023/venv-mpe/lib/python3.8/site-packages (from PyObjC) (10.1)\n",
      "Requirement already satisfied: pyobjc-framework-AuthenticationServices==10.1 in /Users/work/work-worldmodel2023/venv-mpe/lib/python3.8/site-packages (from PyObjC) (10.1)\n",
      "Requirement already satisfied: pyobjc-framework-AutomaticAssessmentConfiguration==10.1 in /Users/work/work-worldmodel2023/venv-mpe/lib/python3.8/site-packages (from PyObjC) (10.1)\n",
      "Requirement already satisfied: pyobjc-framework-CoreHaptics==10.1 in /Users/work/work-worldmodel2023/venv-mpe/lib/python3.8/site-packages (from PyObjC) (10.1)\n",
      "Requirement already satisfied: pyobjc-framework-CoreMotion==10.1 in /Users/work/work-worldmodel2023/venv-mpe/lib/python3.8/site-packages (from PyObjC) (10.1)\n",
      "Requirement already satisfied: pyobjc-framework-DeviceCheck==10.1 in /Users/work/work-worldmodel2023/venv-mpe/lib/python3.8/site-packages (from PyObjC) (10.1)\n",
      "Requirement already satisfied: pyobjc-framework-ExecutionPolicy==10.1 in /Users/work/work-worldmodel2023/venv-mpe/lib/python3.8/site-packages (from PyObjC) (10.1)\n",
      "Requirement already satisfied: pyobjc-framework-FileProvider==10.1 in /Users/work/work-worldmodel2023/venv-mpe/lib/python3.8/site-packages (from PyObjC) (10.1)\n",
      "Requirement already satisfied: pyobjc-framework-FileProviderUI==10.1 in /Users/work/work-worldmodel2023/venv-mpe/lib/python3.8/site-packages (from PyObjC) (10.1)\n",
      "Requirement already satisfied: pyobjc-framework-LinkPresentation==10.1 in /Users/work/work-worldmodel2023/venv-mpe/lib/python3.8/site-packages (from PyObjC) (10.1)\n",
      "Requirement already satisfied: pyobjc-framework-OSLog==10.1 in /Users/work/work-worldmodel2023/venv-mpe/lib/python3.8/site-packages (from PyObjC) (10.1)\n",
      "Requirement already satisfied: pyobjc-framework-PencilKit==10.1 in /Users/work/work-worldmodel2023/venv-mpe/lib/python3.8/site-packages (from PyObjC) (10.1)\n",
      "Requirement already satisfied: pyobjc-framework-PushKit==10.1 in /Users/work/work-worldmodel2023/venv-mpe/lib/python3.8/site-packages (from PyObjC) (10.1)\n",
      "Requirement already satisfied: pyobjc-framework-QuickLookThumbnailing==10.1 in /Users/work/work-worldmodel2023/venv-mpe/lib/python3.8/site-packages (from PyObjC) (10.1)\n",
      "Requirement already satisfied: pyobjc-framework-Speech==10.1 in /Users/work/work-worldmodel2023/venv-mpe/lib/python3.8/site-packages (from PyObjC) (10.1)\n",
      "Requirement already satisfied: pyobjc-framework-SoundAnalysis==10.1 in /Users/work/work-worldmodel2023/venv-mpe/lib/python3.8/site-packages (from PyObjC) (10.1)\n",
      "Requirement already satisfied: pyobjc-framework-SystemExtensions==10.1 in /Users/work/work-worldmodel2023/venv-mpe/lib/python3.8/site-packages (from PyObjC) (10.1)\n",
      "Requirement already satisfied: pyobjc-framework-Accessibility==10.1 in /Users/work/work-worldmodel2023/venv-mpe/lib/python3.8/site-packages (from PyObjC) (10.1)\n",
      "Requirement already satisfied: pyobjc-framework-AdServices==10.1 in /Users/work/work-worldmodel2023/venv-mpe/lib/python3.8/site-packages (from PyObjC) (10.1)\n",
      "Requirement already satisfied: pyobjc-framework-AppTrackingTransparency==10.1 in /Users/work/work-worldmodel2023/venv-mpe/lib/python3.8/site-packages (from PyObjC) (10.1)\n",
      "Requirement already satisfied: pyobjc-framework-CallKit==10.1 in /Users/work/work-worldmodel2023/venv-mpe/lib/python3.8/site-packages (from PyObjC) (10.1)\n",
      "Requirement already satisfied: pyobjc-framework-ClassKit==10.1 in /Users/work/work-worldmodel2023/venv-mpe/lib/python3.8/site-packages (from PyObjC) (10.1)\n",
      "Requirement already satisfied: pyobjc-framework-KernelManagement==10.1 in /Users/work/work-worldmodel2023/venv-mpe/lib/python3.8/site-packages (from PyObjC) (10.1)\n",
      "Requirement already satisfied: pyobjc-framework-MetalPerformanceShadersGraph==10.1 in /Users/work/work-worldmodel2023/venv-mpe/lib/python3.8/site-packages (from PyObjC) (10.1)\n",
      "Requirement already satisfied: pyobjc-framework-MLCompute==10.1 in /Users/work/work-worldmodel2023/venv-mpe/lib/python3.8/site-packages (from PyObjC) (10.1)\n",
      "Requirement already satisfied: pyobjc-framework-PassKit==10.1 in /Users/work/work-worldmodel2023/venv-mpe/lib/python3.8/site-packages (from PyObjC) (10.1)\n",
      "Requirement already satisfied: pyobjc-framework-ReplayKit==10.1 in /Users/work/work-worldmodel2023/venv-mpe/lib/python3.8/site-packages (from PyObjC) (10.1)\n",
      "Requirement already satisfied: pyobjc-framework-ScreenTime==10.1 in /Users/work/work-worldmodel2023/venv-mpe/lib/python3.8/site-packages (from PyObjC) (10.1)\n",
      "Requirement already satisfied: pyobjc-framework-UniformTypeIdentifiers==10.1 in /Users/work/work-worldmodel2023/venv-mpe/lib/python3.8/site-packages (from PyObjC) (10.1)\n",
      "Requirement already satisfied: pyobjc-framework-UserNotificationsUI==10.1 in /Users/work/work-worldmodel2023/venv-mpe/lib/python3.8/site-packages (from PyObjC) (10.1)\n",
      "Requirement already satisfied: pyobjc-framework-Virtualization==10.1 in /Users/work/work-worldmodel2023/venv-mpe/lib/python3.8/site-packages (from PyObjC) (10.1)\n",
      "Requirement already satisfied: pyobjc-framework-DataDetection==10.1 in /Users/work/work-worldmodel2023/venv-mpe/lib/python3.8/site-packages (from PyObjC) (10.1)\n",
      "Requirement already satisfied: pyobjc-framework-IntentsUI==10.1 in /Users/work/work-worldmodel2023/venv-mpe/lib/python3.8/site-packages (from PyObjC) (10.1)\n",
      "Requirement already satisfied: pyobjc-framework-LocalAuthenticationEmbeddedUI==10.1 in /Users/work/work-worldmodel2023/venv-mpe/lib/python3.8/site-packages (from PyObjC) (10.1)\n",
      "Requirement already satisfied: pyobjc-framework-MailKit==10.1 in /Users/work/work-worldmodel2023/venv-mpe/lib/python3.8/site-packages (from PyObjC) (10.1)\n",
      "Requirement already satisfied: pyobjc-framework-MetricKit==10.1 in /Users/work/work-worldmodel2023/venv-mpe/lib/python3.8/site-packages (from PyObjC) (10.1)\n",
      "Requirement already satisfied: pyobjc-framework-PHASE==10.1 in /Users/work/work-worldmodel2023/venv-mpe/lib/python3.8/site-packages (from PyObjC) (10.1)\n",
      "Requirement already satisfied: pyobjc-framework-ShazamKit==10.1 in /Users/work/work-worldmodel2023/venv-mpe/lib/python3.8/site-packages (from PyObjC) (10.1)\n",
      "Requirement already satisfied: pyobjc-framework-ScreenCaptureKit==10.1 in /Users/work/work-worldmodel2023/venv-mpe/lib/python3.8/site-packages (from PyObjC) (10.1)\n",
      "Requirement already satisfied: pyobjc-framework-AVRouting==10.1 in /Users/work/work-worldmodel2023/venv-mpe/lib/python3.8/site-packages (from PyObjC) (10.1)\n",
      "Requirement already satisfied: pyobjc-framework-BackgroundAssets==10.1 in /Users/work/work-worldmodel2023/venv-mpe/lib/python3.8/site-packages (from PyObjC) (10.1)\n",
      "Requirement already satisfied: pyobjc-framework-ExtensionKit==10.1 in /Users/work/work-worldmodel2023/venv-mpe/lib/python3.8/site-packages (from PyObjC) (10.1)\n",
      "Requirement already satisfied: pyobjc-framework-HealthKit==10.1 in /Users/work/work-worldmodel2023/venv-mpe/lib/python3.8/site-packages (from PyObjC) (10.1)\n",
      "Requirement already satisfied: pyobjc-framework-MetalFX==10.1 in /Users/work/work-worldmodel2023/venv-mpe/lib/python3.8/site-packages (from PyObjC) (10.1)\n",
      "Requirement already satisfied: pyobjc-framework-SafetyKit==10.1 in /Users/work/work-worldmodel2023/venv-mpe/lib/python3.8/site-packages (from PyObjC) (10.1)\n",
      "Requirement already satisfied: pyobjc-framework-SharedWithYouCore==10.1 in /Users/work/work-worldmodel2023/venv-mpe/lib/python3.8/site-packages (from PyObjC) (10.1)\n",
      "Requirement already satisfied: pyobjc-framework-SharedWithYou==10.1 in /Users/work/work-worldmodel2023/venv-mpe/lib/python3.8/site-packages (from PyObjC) (10.1)\n",
      "Requirement already satisfied: pyobjc-framework-ThreadNetwork==10.1 in /Users/work/work-worldmodel2023/venv-mpe/lib/python3.8/site-packages (from PyObjC) (10.1)\n",
      "Requirement already satisfied: pyobjc-framework-CalendarStore==10.1 in /Users/work/work-worldmodel2023/venv-mpe/lib/python3.8/site-packages (from PyObjC) (10.1)\n",
      "Requirement already satisfied: pyobjc-framework-Collaboration==10.1 in /Users/work/work-worldmodel2023/venv-mpe/lib/python3.8/site-packages (from PyObjC) (10.1)\n",
      "Requirement already satisfied: pyobjc-framework-DictionaryServices==10.1 in /Users/work/work-worldmodel2023/venv-mpe/lib/python3.8/site-packages (from PyObjC) (10.1)\n",
      "Requirement already satisfied: pyobjc-framework-FSEvents==10.1 in /Users/work/work-worldmodel2023/venv-mpe/lib/python3.8/site-packages (from PyObjC) (10.1)\n",
      "Requirement already satisfied: pyobjc-framework-InputMethodKit==10.1 in /Users/work/work-worldmodel2023/venv-mpe/lib/python3.8/site-packages (from PyObjC) (10.1)\n",
      "Requirement already satisfied: pyobjc-framework-InstantMessage==10.1 in /Users/work/work-worldmodel2023/venv-mpe/lib/python3.8/site-packages (from PyObjC) (10.1)\n",
      "Requirement already satisfied: pyobjc-framework-ScriptingBridge==10.1 in /Users/work/work-worldmodel2023/venv-mpe/lib/python3.8/site-packages (from PyObjC) (10.1)\n"
     ]
    }
   ],
   "source": [
    "!python3 -m pip install playsound\n",
    "!python3 -m pip install PyObjC"
   ]
  },
  {
   "cell_type": "code",
   "execution_count": 10,
   "id": "3d2e6aa6",
   "metadata": {
    "scrolled": true
   },
   "outputs": [
    {
     "name": "stdout",
     "output_type": "stream",
     "text": [
      "zsh:1: no matches found: pettingzoo[mpe]\n",
      "Requirement already satisfied: agilerl in /Users/work/work-worldmodel2023/venv-mpe/lib/python3.8/site-packages (0.1.19)\n",
      "Requirement already satisfied: SuperSuit<4.0.0,>=3.9.0 in /Users/work/work-worldmodel2023/venv-mpe/lib/python3.8/site-packages (from agilerl) (3.9.1)\n",
      "Requirement already satisfied: accelerate<0.19.0,>=0.18.0 in /Users/work/work-worldmodel2023/venv-mpe/lib/python3.8/site-packages (from agilerl) (0.18.0)\n",
      "Requirement already satisfied: dill<0.4.0,>=0.3.7 in /Users/work/work-worldmodel2023/venv-mpe/lib/python3.8/site-packages (from agilerl) (0.3.7)\n",
      "Requirement already satisfied: fastrand<2.0.0,>=1.3.0 in /Users/work/work-worldmodel2023/venv-mpe/lib/python3.8/site-packages (from agilerl) (1.8.0)\n",
      "Requirement already satisfied: flatten_dict<0.5.0,>=0.4.2 in /Users/work/work-worldmodel2023/venv-mpe/lib/python3.8/site-packages (from agilerl) (0.4.2)\n",
      "Requirement already satisfied: gymnasium<0.29.0,>=0.28.1 in /Users/work/work-worldmodel2023/venv-mpe/lib/python3.8/site-packages (from agilerl) (0.28.1)\n",
      "Requirement already satisfied: h5py<4.0.0,>=3.8.0 in /Users/work/work-worldmodel2023/venv-mpe/lib/python3.8/site-packages (from agilerl) (3.10.0)\n",
      "Requirement already satisfied: hydra-core<2.0.0,>=1.3.2 in /Users/work/work-worldmodel2023/venv-mpe/lib/python3.8/site-packages (from agilerl) (1.3.2)\n",
      "Requirement already satisfied: matplotlib<4.0.0,>=3.4.3 in /Users/work/work-worldmodel2023/venv-mpe/lib/python3.8/site-packages (from agilerl) (3.7.4)\n",
      "Requirement already satisfied: minari<0.5.0,>=0.4.1 in /Users/work/work-worldmodel2023/venv-mpe/lib/python3.8/site-packages (from agilerl) (0.4.2)\n",
      "Requirement already satisfied: numpy<2.0.0,>=1.24.2 in /Users/work/work-worldmodel2023/venv-mpe/lib/python3.8/site-packages (from agilerl) (1.24.4)\n",
      "Requirement already satisfied: omegaconf<3.0.0,>=2.3.0 in /Users/work/work-worldmodel2023/venv-mpe/lib/python3.8/site-packages (from agilerl) (2.3.0)\n",
      "Requirement already satisfied: pettingzoo<2.0.0,>=1.23.1 in /Users/work/work-worldmodel2023/venv-mpe/lib/python3.8/site-packages (from agilerl) (1.24.2)\n",
      "Requirement already satisfied: pre-commit<4.0.0,>=3.4.0 in /Users/work/work-worldmodel2023/venv-mpe/lib/python3.8/site-packages (from agilerl) (3.5.0)\n",
      "Requirement already satisfied: redis<5.0.0,>=4.4.4 in /Users/work/work-worldmodel2023/venv-mpe/lib/python3.8/site-packages (from agilerl) (4.6.0)\n",
      "Requirement already satisfied: termcolor<2.0.0,>=1.1.0 in /Users/work/work-worldmodel2023/venv-mpe/lib/python3.8/site-packages (from agilerl) (1.1.0)\n",
      "Requirement already satisfied: torch<3.0.0,>=2.0.1 in /Users/work/work-worldmodel2023/venv-mpe/lib/python3.8/site-packages (from agilerl) (2.1.2)\n",
      "Requirement already satisfied: tqdm<5.0.0,>=4.65.0 in /Users/work/work-worldmodel2023/venv-mpe/lib/python3.8/site-packages (from agilerl) (4.66.1)\n",
      "Requirement already satisfied: transformers<5.0.0,>=4.30.0 in /Users/work/work-worldmodel2023/venv-mpe/lib/python3.8/site-packages (from agilerl) (4.36.1)\n",
      "Requirement already satisfied: wandb<0.14.0,>=0.13.10 in /Users/work/work-worldmodel2023/venv-mpe/lib/python3.8/site-packages (from agilerl) (0.13.11)\n",
      "Requirement already satisfied: packaging>=20.0 in /Users/work/work-worldmodel2023/venv-mpe/lib/python3.8/site-packages (from accelerate<0.19.0,>=0.18.0->agilerl) (23.1)\n",
      "Requirement already satisfied: psutil in /Users/work/work-worldmodel2023/venv-mpe/lib/python3.8/site-packages (from accelerate<0.19.0,>=0.18.0->agilerl) (5.9.6)\n",
      "Requirement already satisfied: pyyaml in /Users/work/work-worldmodel2023/venv-mpe/lib/python3.8/site-packages (from accelerate<0.19.0,>=0.18.0->agilerl) (6.0.1)\n",
      "Requirement already satisfied: six<2.0,>=1.12 in /Users/work/work-worldmodel2023/venv-mpe/lib/python3.8/site-packages (from flatten_dict<0.5.0,>=0.4.2->agilerl) (1.16.0)\n",
      "Requirement already satisfied: jax-jumpy>=1.0.0 in /Users/work/work-worldmodel2023/venv-mpe/lib/python3.8/site-packages (from gymnasium<0.29.0,>=0.28.1->agilerl) (1.0.0)\n",
      "Requirement already satisfied: cloudpickle>=1.2.0 in /Users/work/work-worldmodel2023/venv-mpe/lib/python3.8/site-packages (from gymnasium<0.29.0,>=0.28.1->agilerl) (3.0.0)\n",
      "Requirement already satisfied: typing-extensions>=4.3.0 in /Users/work/work-worldmodel2023/venv-mpe/lib/python3.8/site-packages (from gymnasium<0.29.0,>=0.28.1->agilerl) (4.8.0)\n",
      "Requirement already satisfied: farama-notifications>=0.0.1 in /Users/work/work-worldmodel2023/venv-mpe/lib/python3.8/site-packages (from gymnasium<0.29.0,>=0.28.1->agilerl) (0.0.4)\n",
      "Requirement already satisfied: importlib-metadata>=4.8.0 in /Users/work/work-worldmodel2023/venv-mpe/lib/python3.8/site-packages (from gymnasium<0.29.0,>=0.28.1->agilerl) (6.8.0)\n",
      "Requirement already satisfied: antlr4-python3-runtime==4.9.* in /Users/work/work-worldmodel2023/venv-mpe/lib/python3.8/site-packages (from hydra-core<2.0.0,>=1.3.2->agilerl) (4.9.3)\n",
      "Requirement already satisfied: importlib-resources in /Users/work/work-worldmodel2023/venv-mpe/lib/python3.8/site-packages (from hydra-core<2.0.0,>=1.3.2->agilerl) (6.1.1)\n",
      "Requirement already satisfied: contourpy>=1.0.1 in /Users/work/work-worldmodel2023/venv-mpe/lib/python3.8/site-packages (from matplotlib<4.0.0,>=3.4.3->agilerl) (1.1.1)\n",
      "Requirement already satisfied: cycler>=0.10 in /Users/work/work-worldmodel2023/venv-mpe/lib/python3.8/site-packages (from matplotlib<4.0.0,>=3.4.3->agilerl) (0.12.1)\n",
      "Requirement already satisfied: fonttools>=4.22.0 in /Users/work/work-worldmodel2023/venv-mpe/lib/python3.8/site-packages (from matplotlib<4.0.0,>=3.4.3->agilerl) (4.46.0)\n",
      "Requirement already satisfied: kiwisolver>=1.0.1 in /Users/work/work-worldmodel2023/venv-mpe/lib/python3.8/site-packages (from matplotlib<4.0.0,>=3.4.3->agilerl) (1.4.5)\n",
      "Requirement already satisfied: pillow>=6.2.0 in /Users/work/work-worldmodel2023/venv-mpe/lib/python3.8/site-packages (from matplotlib<4.0.0,>=3.4.3->agilerl) (10.1.0)\n",
      "Requirement already satisfied: pyparsing>=2.3.1 in /Users/work/work-worldmodel2023/venv-mpe/lib/python3.8/site-packages (from matplotlib<4.0.0,>=3.4.3->agilerl) (3.1.1)\n",
      "Requirement already satisfied: python-dateutil>=2.7 in /Users/work/work-worldmodel2023/venv-mpe/lib/python3.8/site-packages (from matplotlib<4.0.0,>=3.4.3->agilerl) (2.8.2)\n",
      "Requirement already satisfied: google-cloud-storage==2.5.0 in /Users/work/work-worldmodel2023/venv-mpe/lib/python3.8/site-packages (from minari<0.5.0,>=0.4.1->agilerl) (2.5.0)\n",
      "Requirement already satisfied: typer==0.9.0 in /Users/work/work-worldmodel2023/venv-mpe/lib/python3.8/site-packages (from typer[all]==0.9.0->minari<0.5.0,>=0.4.1->agilerl) (0.9.0)\n",
      "Requirement already satisfied: portion==2.4.0 in /Users/work/work-worldmodel2023/venv-mpe/lib/python3.8/site-packages (from minari<0.5.0,>=0.4.1->agilerl) (2.4.0)\n",
      "Requirement already satisfied: google-auth<3.0dev,>=1.25.0 in /Users/work/work-worldmodel2023/venv-mpe/lib/python3.8/site-packages (from google-cloud-storage==2.5.0->minari<0.5.0,>=0.4.1->agilerl) (2.25.2)\n",
      "Requirement already satisfied: google-api-core!=2.0.*,!=2.1.*,!=2.2.*,!=2.3.0,<3.0.0dev,>=1.31.5 in /Users/work/work-worldmodel2023/venv-mpe/lib/python3.8/site-packages (from google-cloud-storage==2.5.0->minari<0.5.0,>=0.4.1->agilerl) (2.15.0)\n",
      "Requirement already satisfied: google-cloud-core<3.0dev,>=2.3.0 in /Users/work/work-worldmodel2023/venv-mpe/lib/python3.8/site-packages (from google-cloud-storage==2.5.0->minari<0.5.0,>=0.4.1->agilerl) (2.4.1)\n",
      "Requirement already satisfied: google-resumable-media>=2.3.2 in /Users/work/work-worldmodel2023/venv-mpe/lib/python3.8/site-packages (from google-cloud-storage==2.5.0->minari<0.5.0,>=0.4.1->agilerl) (2.7.0)\n",
      "Requirement already satisfied: requests<3.0.0dev,>=2.18.0 in /Users/work/work-worldmodel2023/venv-mpe/lib/python3.8/site-packages (from google-cloud-storage==2.5.0->minari<0.5.0,>=0.4.1->agilerl) (2.31.0)\n",
      "Requirement already satisfied: sortedcontainers~=2.2 in /Users/work/work-worldmodel2023/venv-mpe/lib/python3.8/site-packages (from portion==2.4.0->minari<0.5.0,>=0.4.1->agilerl) (2.4.0)\n",
      "Requirement already satisfied: click<9.0.0,>=7.1.1 in /Users/work/work-worldmodel2023/venv-mpe/lib/python3.8/site-packages (from typer==0.9.0->typer[all]==0.9.0->minari<0.5.0,>=0.4.1->agilerl) (8.1.7)\n",
      "Requirement already satisfied: colorama<0.5.0,>=0.4.3 in /Users/work/work-worldmodel2023/venv-mpe/lib/python3.8/site-packages (from typer[all]==0.9.0->minari<0.5.0,>=0.4.1->agilerl) (0.4.6)\n",
      "Requirement already satisfied: shellingham<2.0.0,>=1.3.0 in /Users/work/work-worldmodel2023/venv-mpe/lib/python3.8/site-packages (from typer[all]==0.9.0->minari<0.5.0,>=0.4.1->agilerl) (1.5.4)\n",
      "Requirement already satisfied: rich<14.0.0,>=10.11.0 in /Users/work/work-worldmodel2023/venv-mpe/lib/python3.8/site-packages (from typer[all]==0.9.0->minari<0.5.0,>=0.4.1->agilerl) (13.7.0)\n",
      "Requirement already satisfied: cfgv>=2.0.0 in /Users/work/work-worldmodel2023/venv-mpe/lib/python3.8/site-packages (from pre-commit<4.0.0,>=3.4.0->agilerl) (3.4.0)\n",
      "Requirement already satisfied: identify>=1.0.0 in /Users/work/work-worldmodel2023/venv-mpe/lib/python3.8/site-packages (from pre-commit<4.0.0,>=3.4.0->agilerl) (2.5.33)\n",
      "Requirement already satisfied: nodeenv>=0.11.1 in /Users/work/work-worldmodel2023/venv-mpe/lib/python3.8/site-packages (from pre-commit<4.0.0,>=3.4.0->agilerl) (1.8.0)\n",
      "Requirement already satisfied: virtualenv>=20.10.0 in /Users/work/work-worldmodel2023/venv-mpe/lib/python3.8/site-packages (from pre-commit<4.0.0,>=3.4.0->agilerl) (20.25.0)\n",
      "Requirement already satisfied: async-timeout>=4.0.2 in /Users/work/work-worldmodel2023/venv-mpe/lib/python3.8/site-packages (from redis<5.0.0,>=4.4.4->agilerl) (4.0.3)\n",
      "Requirement already satisfied: tinyscaler>=1.2.6 in /Users/work/work-worldmodel2023/venv-mpe/lib/python3.8/site-packages (from SuperSuit<4.0.0,>=3.9.0->agilerl) (1.2.7)\n",
      "Requirement already satisfied: filelock in /Users/work/work-worldmodel2023/venv-mpe/lib/python3.8/site-packages (from torch<3.0.0,>=2.0.1->agilerl) (3.13.1)\n",
      "Requirement already satisfied: sympy in /Users/work/work-worldmodel2023/venv-mpe/lib/python3.8/site-packages (from torch<3.0.0,>=2.0.1->agilerl) (1.12)\n",
      "Requirement already satisfied: networkx in /Users/work/work-worldmodel2023/venv-mpe/lib/python3.8/site-packages (from torch<3.0.0,>=2.0.1->agilerl) (3.1)\n",
      "Requirement already satisfied: jinja2 in /Users/work/work-worldmodel2023/venv-mpe/lib/python3.8/site-packages (from torch<3.0.0,>=2.0.1->agilerl) (3.1.2)\n",
      "Requirement already satisfied: fsspec in /Users/work/work-worldmodel2023/venv-mpe/lib/python3.8/site-packages (from torch<3.0.0,>=2.0.1->agilerl) (2023.12.2)\n",
      "Requirement already satisfied: huggingface-hub<1.0,>=0.19.3 in /Users/work/work-worldmodel2023/venv-mpe/lib/python3.8/site-packages (from transformers<5.0.0,>=4.30.0->agilerl) (0.19.4)\n",
      "Requirement already satisfied: regex!=2019.12.17 in /Users/work/work-worldmodel2023/venv-mpe/lib/python3.8/site-packages (from transformers<5.0.0,>=4.30.0->agilerl) (2023.10.3)\n",
      "Requirement already satisfied: tokenizers<0.19,>=0.14 in /Users/work/work-worldmodel2023/venv-mpe/lib/python3.8/site-packages (from transformers<5.0.0,>=4.30.0->agilerl) (0.15.0)\n",
      "Requirement already satisfied: safetensors>=0.3.1 in /Users/work/work-worldmodel2023/venv-mpe/lib/python3.8/site-packages (from transformers<5.0.0,>=4.30.0->agilerl) (0.4.1)\n",
      "Requirement already satisfied: GitPython!=3.1.29,>=1.0.0 in /Users/work/work-worldmodel2023/venv-mpe/lib/python3.8/site-packages (from wandb<0.14.0,>=0.13.10->agilerl) (3.1.40)\n",
      "Requirement already satisfied: sentry-sdk>=1.0.0 in /Users/work/work-worldmodel2023/venv-mpe/lib/python3.8/site-packages (from wandb<0.14.0,>=0.13.10->agilerl) (1.39.1)\n",
      "Requirement already satisfied: docker-pycreds>=0.4.0 in /Users/work/work-worldmodel2023/venv-mpe/lib/python3.8/site-packages (from wandb<0.14.0,>=0.13.10->agilerl) (0.4.0)\n",
      "Requirement already satisfied: pathtools in /Users/work/work-worldmodel2023/venv-mpe/lib/python3.8/site-packages (from wandb<0.14.0,>=0.13.10->agilerl) (0.1.2)\n",
      "Requirement already satisfied: setproctitle in /Users/work/work-worldmodel2023/venv-mpe/lib/python3.8/site-packages (from wandb<0.14.0,>=0.13.10->agilerl) (1.3.3)\n",
      "Requirement already satisfied: setuptools in /Users/work/work-worldmodel2023/venv-mpe/lib/python3.8/site-packages (from wandb<0.14.0,>=0.13.10->agilerl) (41.2.0)\n",
      "Requirement already satisfied: appdirs>=1.4.3 in /Users/work/work-worldmodel2023/venv-mpe/lib/python3.8/site-packages (from wandb<0.14.0,>=0.13.10->agilerl) (1.4.4)\n",
      "Requirement already satisfied: protobuf!=4.21.0,<5,>=3.19.0 in /Users/work/work-worldmodel2023/venv-mpe/lib/python3.8/site-packages (from wandb<0.14.0,>=0.13.10->agilerl) (4.25.1)\n",
      "Requirement already satisfied: gitdb<5,>=4.0.1 in /Users/work/work-worldmodel2023/venv-mpe/lib/python3.8/site-packages (from GitPython!=3.1.29,>=1.0.0->wandb<0.14.0,>=0.13.10->agilerl) (4.0.11)\n",
      "Requirement already satisfied: zipp>=0.5 in /Users/work/work-worldmodel2023/venv-mpe/lib/python3.8/site-packages (from importlib-metadata>=4.8.0->gymnasium<0.29.0,>=0.28.1->agilerl) (3.17.0)\n",
      "Requirement already satisfied: charset-normalizer<4,>=2 in /Users/work/work-worldmodel2023/venv-mpe/lib/python3.8/site-packages (from requests<3.0.0dev,>=2.18.0->google-cloud-storage==2.5.0->minari<0.5.0,>=0.4.1->agilerl) (3.3.2)\n",
      "Requirement already satisfied: idna<4,>=2.5 in /Users/work/work-worldmodel2023/venv-mpe/lib/python3.8/site-packages (from requests<3.0.0dev,>=2.18.0->google-cloud-storage==2.5.0->minari<0.5.0,>=0.4.1->agilerl) (3.6)\n",
      "Requirement already satisfied: urllib3<3,>=1.21.1 in /Users/work/work-worldmodel2023/venv-mpe/lib/python3.8/site-packages (from requests<3.0.0dev,>=2.18.0->google-cloud-storage==2.5.0->minari<0.5.0,>=0.4.1->agilerl) (2.1.0)\n",
      "Requirement already satisfied: certifi>=2017.4.17 in /Users/work/work-worldmodel2023/venv-mpe/lib/python3.8/site-packages (from requests<3.0.0dev,>=2.18.0->google-cloud-storage==2.5.0->minari<0.5.0,>=0.4.1->agilerl) (2023.11.17)\n",
      "Requirement already satisfied: distlib<1,>=0.3.7 in /Users/work/work-worldmodel2023/venv-mpe/lib/python3.8/site-packages (from virtualenv>=20.10.0->pre-commit<4.0.0,>=3.4.0->agilerl) (0.3.8)\n",
      "Requirement already satisfied: platformdirs<5,>=3.9.1 in /Users/work/work-worldmodel2023/venv-mpe/lib/python3.8/site-packages (from virtualenv>=20.10.0->pre-commit<4.0.0,>=3.4.0->agilerl) (4.1.0)\n",
      "Requirement already satisfied: MarkupSafe>=2.0 in /Users/work/work-worldmodel2023/venv-mpe/lib/python3.8/site-packages (from jinja2->torch<3.0.0,>=2.0.1->agilerl) (2.1.3)\n",
      "Requirement already satisfied: mpmath>=0.19 in /Users/work/work-worldmodel2023/venv-mpe/lib/python3.8/site-packages (from sympy->torch<3.0.0,>=2.0.1->agilerl) (1.3.0)\n",
      "Requirement already satisfied: smmap<6,>=3.0.1 in /Users/work/work-worldmodel2023/venv-mpe/lib/python3.8/site-packages (from gitdb<5,>=4.0.1->GitPython!=3.1.29,>=1.0.0->wandb<0.14.0,>=0.13.10->agilerl) (5.0.1)\n",
      "Requirement already satisfied: googleapis-common-protos<2.0.dev0,>=1.56.2 in /Users/work/work-worldmodel2023/venv-mpe/lib/python3.8/site-packages (from google-api-core!=2.0.*,!=2.1.*,!=2.2.*,!=2.3.0,<3.0.0dev,>=1.31.5->google-cloud-storage==2.5.0->minari<0.5.0,>=0.4.1->agilerl) (1.62.0)\n",
      "Requirement already satisfied: cachetools<6.0,>=2.0.0 in /Users/work/work-worldmodel2023/venv-mpe/lib/python3.8/site-packages (from google-auth<3.0dev,>=1.25.0->google-cloud-storage==2.5.0->minari<0.5.0,>=0.4.1->agilerl) (5.3.2)\n",
      "Requirement already satisfied: pyasn1-modules>=0.2.1 in /Users/work/work-worldmodel2023/venv-mpe/lib/python3.8/site-packages (from google-auth<3.0dev,>=1.25.0->google-cloud-storage==2.5.0->minari<0.5.0,>=0.4.1->agilerl) (0.3.0)\n",
      "Requirement already satisfied: rsa<5,>=3.1.4 in /Users/work/work-worldmodel2023/venv-mpe/lib/python3.8/site-packages (from google-auth<3.0dev,>=1.25.0->google-cloud-storage==2.5.0->minari<0.5.0,>=0.4.1->agilerl) (4.9)\n",
      "Requirement already satisfied: google-crc32c<2.0dev,>=1.0 in /Users/work/work-worldmodel2023/venv-mpe/lib/python3.8/site-packages (from google-resumable-media>=2.3.2->google-cloud-storage==2.5.0->minari<0.5.0,>=0.4.1->agilerl) (1.5.0)\n",
      "Requirement already satisfied: markdown-it-py>=2.2.0 in /Users/work/work-worldmodel2023/venv-mpe/lib/python3.8/site-packages (from rich<14.0.0,>=10.11.0->typer[all]==0.9.0->minari<0.5.0,>=0.4.1->agilerl) (3.0.0)\n",
      "Requirement already satisfied: pygments<3.0.0,>=2.13.0 in /Users/work/work-worldmodel2023/venv-mpe/lib/python3.8/site-packages (from rich<14.0.0,>=10.11.0->typer[all]==0.9.0->minari<0.5.0,>=0.4.1->agilerl) (2.17.2)\n",
      "Requirement already satisfied: mdurl~=0.1 in /Users/work/work-worldmodel2023/venv-mpe/lib/python3.8/site-packages (from markdown-it-py>=2.2.0->rich<14.0.0,>=10.11.0->typer[all]==0.9.0->minari<0.5.0,>=0.4.1->agilerl) (0.1.2)\n",
      "Requirement already satisfied: pyasn1<0.6.0,>=0.4.6 in /Users/work/work-worldmodel2023/venv-mpe/lib/python3.8/site-packages (from pyasn1-modules>=0.2.1->google-auth<3.0dev,>=1.25.0->google-cloud-storage==2.5.0->minari<0.5.0,>=0.4.1->agilerl) (0.5.1)\n",
      "Requirement already satisfied: imageio in /Users/work/work-worldmodel2023/venv-mpe/lib/python3.8/site-packages (2.33.1)\n",
      "Requirement already satisfied: numpy in /Users/work/work-worldmodel2023/venv-mpe/lib/python3.8/site-packages (from imageio) (1.24.4)\n",
      "Requirement already satisfied: pillow>=8.3.2 in /Users/work/work-worldmodel2023/venv-mpe/lib/python3.8/site-packages (from imageio) (10.1.0)\n"
     ]
    }
   ],
   "source": [
    "!pip install pettingzoo[mpe]\n",
    "!pip install agilerl\n",
    "!pip install imageio"
   ]
  },
  {
   "cell_type": "code",
   "execution_count": 18,
   "id": "650780a5-3d68-4be5-86f0-c82da80a1cbc",
   "metadata": {},
   "outputs": [
    {
     "name": "stdout",
     "output_type": "stream",
     "text": [
      "20231224-1315\n"
     ]
    }
   ],
   "source": [
    "#現在日時を取得\n",
    "import datetime\n",
    "\n",
    "dt_now = datetime.datetime.now()\n",
    "str_dt_now = dt_now.strftime(\"%Y%m%d-%H%M\")\n",
    "print(str_dt_now)"
   ]
  },
  {
   "cell_type": "code",
   "execution_count": 26,
   "id": "947fe8d6-7155-469c-8ee5-462ded068335",
   "metadata": {},
   "outputs": [
    {
     "name": "stdout",
     "output_type": "stream",
     "text": [
      "/Users/work/work-worldmodel2023/WorldModel2023/otk/AgileRL-MATD3\n"
     ]
    }
   ],
   "source": [
    "!pwd"
   ]
  },
  {
   "cell_type": "code",
   "execution_count": 41,
   "id": "b763bc86-f7c4-4ab5-adf3-98068042f627",
   "metadata": {},
   "outputs": [
    {
     "name": "stdout",
     "output_type": "stream",
     "text": [
      "===== AgileRL Online Multi-Agent Demo =====\n",
      "state_dim [(3,), (11,)]\n",
      "action_dim [3, 5]\n",
      "one_hot False\n",
      "NET_CONFIG\n",
      "{'arch': 'mlp', 'h_size': [32, 32]}\n",
      "INIT_HP\n",
      "{'AGENT_IDS': ['speaker_0', 'listener_0'],\n",
      " 'ALGO': 'MATD3',\n",
      " 'BATCH_SIZE': 32,\n",
      " 'CHANNELS_LAST': False,\n",
      " 'DISCRETE_ACTIONS': False,\n",
      " 'GAMMA': 0.95,\n",
      " 'LEARN_STEP': 5,\n",
      " 'LR': 0.01,\n",
      " 'MAX_ACTION': [array([1., 1., 1.], dtype=float32),\n",
      "                array([1., 1., 1., 1., 1.], dtype=float32)],\n",
      " 'MEMORY_SIZE': 200000,\n",
      " 'MIN_ACTION': [array([0., 0., 0.], dtype=float32),\n",
      "                array([0., 0., 0., 0., 0.], dtype=float32)],\n",
      " 'N_AGENTS': 2,\n",
      " 'POLICY_FREQ': 2,\n",
      " 'POPULATION_SIZE': 4,\n",
      " 'TAU': 0.01}\n",
      "device cpu\n"
     ]
    },
    {
     "name": "stderr",
     "output_type": "stream",
     "text": [
      "  1%|█                                                                                                               | 19/2000 [00:04<08:48,  3.75it/s]"
     ]
    },
    {
     "name": "stdout",
     "output_type": "stream",
     "text": [
      "Episode 20/2000\n",
      "Fitnesses: ['-38.99', '-124.77', '-23.45', '-4.35']\n",
      "100 fitness avgs: ['-27.38', '-28.23', '-27.22', '-27.13']\n"
     ]
    },
    {
     "name": "stderr",
     "output_type": "stream",
     "text": [
      "  2%|██▏                                                                                                             | 39/2000 [00:11<07:52,  4.15it/s]"
     ]
    },
    {
     "name": "stdout",
     "output_type": "stream",
     "text": [
      "Episode 40/2000\n",
      "Fitnesses: ['-13.90', '-43.19', '-26.86', '-7.12']\n",
      "100 fitness avgs: ['-26.89', '-28.28', '-27.11', '-27.06']\n"
     ]
    },
    {
     "name": "stderr",
     "output_type": "stream",
     "text": [
      "  3%|███▎                                                                                                            | 59/2000 [00:17<08:06,  3.99it/s]"
     ]
    },
    {
     "name": "stdout",
     "output_type": "stream",
     "text": [
      "Episode 60/2000\n",
      "Fitnesses: ['-10.28', '-87.21', '-72.68', '-32.08']\n",
      "100 fitness avgs: ['-26.97', '-27.74', '-27.42', '-27.23']\n"
     ]
    },
    {
     "name": "stderr",
     "output_type": "stream",
     "text": [
      "  4%|████▍                                                                                                           | 79/2000 [00:26<12:39,  2.53it/s]"
     ]
    },
    {
     "name": "stdout",
     "output_type": "stream",
     "text": [
      "Episode 80/2000\n",
      "Fitnesses: ['-79.44', '-7.59', '-181.45', '-160.23']\n",
      "100 fitness avgs: ['-27.61', '-26.89', '-28.89', '-28.42']\n"
     ]
    },
    {
     "name": "stderr",
     "output_type": "stream",
     "text": [
      "  5%|█████▌                                                                                                          | 99/2000 [00:34<11:32,  2.75it/s]"
     ]
    },
    {
     "name": "stdout",
     "output_type": "stream",
     "text": [
      "Episode 100/2000\n",
      "Fitnesses: ['-26.89', '-41.42', '-41.43', '-111.49']\n",
      "100 fitness avgs: ['-27.01', '-27.16', '-27.16', '-28.58']\n"
     ]
    },
    {
     "name": "stderr",
     "output_type": "stream",
     "text": [
      "  6%|██████▌                                                                                                        | 119/2000 [00:42<10:11,  3.08it/s]"
     ]
    },
    {
     "name": "stdout",
     "output_type": "stream",
     "text": [
      "Episode 120/2000\n",
      "Fitnesses: ['-15.18', '-16.12', '-56.59', '-34.60']\n",
      "100 fitness avgs: ['-27.09', '-27.10', '-27.65', '-27.28']\n"
     ]
    },
    {
     "name": "stderr",
     "output_type": "stream",
     "text": [
      "  7%|███████▋                                                                                                       | 139/2000 [00:53<11:04,  2.80it/s]"
     ]
    },
    {
     "name": "stdout",
     "output_type": "stream",
     "text": [
      "Episode 140/2000\n",
      "Fitnesses: ['-18.79', '-15.62', '-35.12', '-17.77']\n",
      "100 fitness avgs: ['-27.18', '-27.15', '-27.34', '-27.36']\n"
     ]
    },
    {
     "name": "stderr",
     "output_type": "stream",
     "text": [
      "  8%|████████▊                                                                                                      | 159/2000 [01:03<14:14,  2.16it/s]"
     ]
    },
    {
     "name": "stdout",
     "output_type": "stream",
     "text": [
      "Episode 160/2000\n",
      "Fitnesses: ['-7.58', '-75.85', '-187.81', '-119.48']\n",
      "100 fitness avgs: ['-26.96', '-27.64', '-28.97', '-28.11']\n"
     ]
    },
    {
     "name": "stderr",
     "output_type": "stream",
     "text": [
      "  9%|█████████▉                                                                                                     | 179/2000 [01:16<14:14,  2.13it/s]"
     ]
    },
    {
     "name": "stdout",
     "output_type": "stream",
     "text": [
      "Episode 180/2000\n",
      "Fitnesses: ['-104.70', '-14.94', '-29.34', '-66.54']\n",
      "100 fitness avgs: ['-27.86', '-28.11', '-28.26', '-27.48']\n"
     ]
    },
    {
     "name": "stderr",
     "output_type": "stream",
     "text": [
      " 10%|███████████                                                                                                    | 199/2000 [01:31<17:03,  1.76it/s]"
     ]
    },
    {
     "name": "stdout",
     "output_type": "stream",
     "text": [
      "Episode 200/2000\n",
      "Fitnesses: ['-55.40', '-28.22', '-17.08', '-43.73']\n",
      "100 fitness avgs: ['-28.56', '-28.29', '-28.18', '-28.45']\n"
     ]
    },
    {
     "name": "stderr",
     "output_type": "stream",
     "text": [
      " 11%|████████████▏                                                                                                  | 219/2000 [01:45<15:22,  1.93it/s]"
     ]
    },
    {
     "name": "stdout",
     "output_type": "stream",
     "text": [
      "Episode 220/2000\n",
      "Fitnesses: ['-91.88', '-17.95', '-46.19', '-87.11']\n",
      "100 fitness avgs: ['-28.95', '-28.21', '-28.49', '-29.29']\n"
     ]
    },
    {
     "name": "stderr",
     "output_type": "stream",
     "text": [
      " 12%|█████████████▎                                                                                                 | 239/2000 [01:57<14:17,  2.05it/s]"
     ]
    },
    {
     "name": "stdout",
     "output_type": "stream",
     "text": [
      "Episode 240/2000\n",
      "Fitnesses: ['-12.52', '-146.65', '-81.65', '-21.66']\n",
      "100 fitness avgs: ['-28.06', '-29.68', '-29.03', '-28.15']\n"
     ]
    },
    {
     "name": "stderr",
     "output_type": "stream",
     "text": [
      " 13%|██████████████▎                                                                                                | 259/2000 [02:11<16:31,  1.76it/s]"
     ]
    },
    {
     "name": "stdout",
     "output_type": "stream",
     "text": [
      "Episode 260/2000\n",
      "Fitnesses: ['-63.86', '-10.69', '-40.94', '-301.01']\n",
      "100 fitness avgs: ['-28.57', '-28.04', '-28.43', '-30.94']\n"
     ]
    },
    {
     "name": "stderr",
     "output_type": "stream",
     "text": [
      " 14%|███████████████▍                                                                                               | 279/2000 [02:21<13:57,  2.05it/s]"
     ]
    },
    {
     "name": "stdout",
     "output_type": "stream",
     "text": [
      "Episode 280/2000\n",
      "Fitnesses: ['-44.71', '-16.73', '-37.32', '-23.42']\n",
      "100 fitness avgs: ['-28.34', '-28.59', '-28.66', '-28.52']\n"
     ]
    },
    {
     "name": "stderr",
     "output_type": "stream",
     "text": [
      " 15%|████████████████▌                                                                                              | 299/2000 [02:33<17:38,  1.61it/s]"
     ]
    },
    {
     "name": "stdout",
     "output_type": "stream",
     "text": [
      "Episode 300/2000\n",
      "Fitnesses: ['-93.07', '-29.07', '-751.02', '-56.59']\n",
      "100 fitness avgs: ['-29.09', '-28.45', '-35.67', '-28.80']\n"
     ]
    },
    {
     "name": "stderr",
     "output_type": "stream",
     "text": [
      " 16%|█████████████████▋                                                                                             | 319/2000 [02:46<14:31,  1.93it/s]"
     ]
    },
    {
     "name": "stdout",
     "output_type": "stream",
     "text": [
      "Episode 320/2000\n",
      "Fitnesses: ['-13.17', '-15.26', '-33.89', '-18.66']\n",
      "100 fitness avgs: ['-28.46', '-29.12', '-29.01', '-28.52']\n"
     ]
    },
    {
     "name": "stderr",
     "output_type": "stream",
     "text": [
      " 17%|██████████████████▊                                                                                            | 339/2000 [02:59<16:24,  1.69it/s]"
     ]
    },
    {
     "name": "stdout",
     "output_type": "stream",
     "text": [
      "Episode 340/2000\n",
      "Fitnesses: ['-55.95', '-4.08', '-148.91', '-102.96']\n",
      "100 fitness avgs: ['-28.92', '-29.06', '-29.90', '-29.94']\n"
     ]
    },
    {
     "name": "stderr",
     "output_type": "stream",
     "text": [
      " 18%|███████████████████▉                                                                                           | 359/2000 [03:13<16:20,  1.67it/s]"
     ]
    },
    {
     "name": "stdout",
     "output_type": "stream",
     "text": [
      "Episode 360/2000\n",
      "Fitnesses: ['-54.99', '-20.66', '-150.58', '-33.24']\n",
      "100 fitness avgs: ['-29.52', '-29.18', '-31.36', '-29.30']\n"
     ]
    },
    {
     "name": "stderr",
     "output_type": "stream",
     "text": [
      " 19%|█████████████████████                                                                                          | 379/2000 [03:27<17:01,  1.59it/s]"
     ]
    },
    {
     "name": "stdout",
     "output_type": "stream",
     "text": [
      "Episode 380/2000\n",
      "Fitnesses: ['-6.63', '-23.02', '-73.78', '-34.66']\n",
      "100 fitness avgs: ['-29.03', '-29.54', '-29.83', '-29.31']\n"
     ]
    },
    {
     "name": "stderr",
     "output_type": "stream",
     "text": [
      " 20%|██████████████████████▏                                                                                        | 399/2000 [03:42<16:18,  1.64it/s]"
     ]
    },
    {
     "name": "stdout",
     "output_type": "stream",
     "text": [
      "Episode 400/2000\n",
      "Fitnesses: ['-200.77', '-42.76', '-18.87', '-31.77']\n",
      "100 fitness avgs: ['-30.82', '-29.24', '-29.51', '-29.63']\n"
     ]
    },
    {
     "name": "stderr",
     "output_type": "stream",
     "text": [
      " 21%|███████████████████████▎                                                                                       | 419/2000 [03:54<14:18,  1.84it/s]"
     ]
    },
    {
     "name": "stdout",
     "output_type": "stream",
     "text": [
      "Episode 420/2000\n",
      "Fitnesses: ['-58.56', '-12.38', '-68.56', '-73.88']\n",
      "100 fitness avgs: ['-29.99', '-29.53', '-30.22', '-29.88']\n"
     ]
    },
    {
     "name": "stderr",
     "output_type": "stream",
     "text": [
      " 22%|████████████████████████▎                                                                                      | 439/2000 [04:06<13:48,  1.88it/s]"
     ]
    },
    {
     "name": "stdout",
     "output_type": "stream",
     "text": [
      "Episode 440/2000\n",
      "Fitnesses: ['-24.20', '-112.12', '-53.84', '-34.22']\n",
      "100 fitness avgs: ['-29.60', '-30.48', '-29.89', '-30.16']\n"
     ]
    },
    {
     "name": "stderr",
     "output_type": "stream",
     "text": [
      " 23%|█████████████████████████▍                                                                                     | 459/2000 [04:17<13:27,  1.91it/s]"
     ]
    },
    {
     "name": "stdout",
     "output_type": "stream",
     "text": [
      "Episode 460/2000\n",
      "Fitnesses: ['-92.90', '-45.54', '-56.46', '-59.06']\n",
      "100 fitness avgs: ['-30.28', '-29.81', '-30.48', '-30.50']\n"
     ]
    },
    {
     "name": "stderr",
     "output_type": "stream",
     "text": [
      " 24%|██████████████████████████▌                                                                                    | 479/2000 [04:32<15:10,  1.67it/s]"
     ]
    },
    {
     "name": "stdout",
     "output_type": "stream",
     "text": [
      "Episode 480/2000\n",
      "Fitnesses: ['-18.03', '-4.21', '-757.70', '-2.59']\n",
      "100 fitness avgs: ['-29.96', '-30.52', '-37.36', '-30.48']\n"
     ]
    },
    {
     "name": "stderr",
     "output_type": "stream",
     "text": [
      " 25%|███████████████████████████▋                                                                                   | 499/2000 [04:42<12:22,  2.02it/s]"
     ]
    },
    {
     "name": "stdout",
     "output_type": "stream",
     "text": [
      "Episode 500/2000\n",
      "Fitnesses: ['-22.10', '-20.46', '-32.02', '-55.65']\n",
      "100 fitness avgs: ['-30.51', '-30.53', '-30.65', '-30.89']\n"
     ]
    },
    {
     "name": "stderr",
     "output_type": "stream",
     "text": [
      " 26%|████████████████████████████▊                                                                                  | 519/2000 [04:54<14:06,  1.75it/s]"
     ]
    },
    {
     "name": "stdout",
     "output_type": "stream",
     "text": [
      "Episode 520/2000\n",
      "Fitnesses: ['-36.23', '-22.35', '-10.93', '-64.96']\n",
      "100 fitness avgs: ['-29.86', '-29.72', '-29.96', '-30.50']\n"
     ]
    },
    {
     "name": "stderr",
     "output_type": "stream",
     "text": [
      " 27%|█████████████████████████████▉                                                                                 | 539/2000 [05:08<18:00,  1.35it/s]"
     ]
    },
    {
     "name": "stdout",
     "output_type": "stream",
     "text": [
      "Episode 540/2000\n",
      "Fitnesses: ['-35.77', '-26.10', '-111.88', '-43.61']\n",
      "100 fitness avgs: ['-29.83', '-29.73', '-30.35', '-29.91']\n"
     ]
    },
    {
     "name": "stderr",
     "output_type": "stream",
     "text": [
      " 28%|███████████████████████████████                                                                                | 559/2000 [05:19<12:16,  1.96it/s]"
     ]
    },
    {
     "name": "stdout",
     "output_type": "stream",
     "text": [
      "Episode 560/2000\n",
      "Fitnesses: ['-25.66', '-78.70', '-14.58', '-30.05']\n",
      "100 fitness avgs: ['-29.84', '-30.99', '-29.91', '-29.98']\n"
     ]
    },
    {
     "name": "stderr",
     "output_type": "stream",
     "text": [
      " 29%|████████████████████████████████▏                                                                              | 579/2000 [05:28<08:36,  2.75it/s]"
     ]
    },
    {
     "name": "stdout",
     "output_type": "stream",
     "text": [
      "Episode 580/2000\n",
      "Fitnesses: ['-151.76', '-42.14', '-14.27', '-62.36']\n",
      "100 fitness avgs: ['-31.39', '-30.30', '-29.95', '-30.50']\n"
     ]
    },
    {
     "name": "stderr",
     "output_type": "stream",
     "text": [
      " 30%|█████████████████████████████████▏                                                                             | 599/2000 [05:39<12:11,  1.92it/s]"
     ]
    },
    {
     "name": "stdout",
     "output_type": "stream",
     "text": [
      "Episode 600/2000\n",
      "Fitnesses: ['-84.79', '-9.45', '-11.29', '-19.20']\n",
      "100 fitness avgs: ['-30.63', '-30.22', '-30.24', '-30.52']\n"
     ]
    },
    {
     "name": "stderr",
     "output_type": "stream",
     "text": [
      " 31%|██████████████████████████████████▎                                                                            | 619/2000 [05:54<13:51,  1.66it/s]"
     ]
    },
    {
     "name": "stdout",
     "output_type": "stream",
     "text": [
      "Episode 620/2000\n",
      "Fitnesses: ['-39.37', '-52.85', '-58.20', '-26.26']\n",
      "100 fitness avgs: ['-30.52', '-30.66', '-30.73', '-30.69']\n"
     ]
    },
    {
     "name": "stderr",
     "output_type": "stream",
     "text": [
      " 32%|███████████████████████████████████▍                                                                           | 639/2000 [06:07<14:16,  1.59it/s]"
     ]
    },
    {
     "name": "stdout",
     "output_type": "stream",
     "text": [
      "Episode 640/2000\n",
      "Fitnesses: ['-52.61', '-18.40', '-56.93', '-252.22']\n",
      "100 fitness avgs: ['-31.22', '-30.71', '-31.23', '-33.21']\n"
     ]
    },
    {
     "name": "stderr",
     "output_type": "stream",
     "text": [
      " 33%|████████████████████████████████████▌                                                                          | 659/2000 [06:22<17:32,  1.27it/s]"
     ]
    },
    {
     "name": "stdout",
     "output_type": "stream",
     "text": [
      "Episode 660/2000\n",
      "Fitnesses: ['-44.57', '-18.94', '-460.25', '-2.93']\n",
      "100 fitness avgs: ['-31.09', '-31.34', '-35.77', '-30.67']\n"
     ]
    },
    {
     "name": "stderr",
     "output_type": "stream",
     "text": [
      " 34%|█████████████████████████████████████▋                                                                         | 679/2000 [06:35<12:25,  1.77it/s]"
     ]
    },
    {
     "name": "stdout",
     "output_type": "stream",
     "text": [
      "Episode 680/2000\n",
      "Fitnesses: ['-17.89', '-65.04', '-11.09', '-49.90']\n",
      "100 fitness avgs: ['-30.75', '-31.22', '-30.68', '-31.74']\n"
     ]
    },
    {
     "name": "stderr",
     "output_type": "stream",
     "text": [
      " 35%|██████████████████████████████████████▊                                                                        | 699/2000 [06:47<11:42,  1.85it/s]"
     ]
    },
    {
     "name": "stdout",
     "output_type": "stream",
     "text": [
      "Episode 700/2000\n",
      "Fitnesses: ['-34.37', '-30.36', '-87.58', '-114.85']\n",
      "100 fitness avgs: ['-31.02', '-32.04', '-31.62', '-31.89']\n"
     ]
    },
    {
     "name": "stderr",
     "output_type": "stream",
     "text": [
      " 36%|███████████████████████████████████████▉                                                                       | 719/2000 [07:00<11:31,  1.85it/s]"
     ]
    },
    {
     "name": "stdout",
     "output_type": "stream",
     "text": [
      "Episode 720/2000\n",
      "Fitnesses: ['-69.67', '-81.96', '-95.70', '-28.32']\n",
      "100 fitness avgs: ['-32.07', '-32.19', '-31.31', '-31.65']\n"
     ]
    },
    {
     "name": "stderr",
     "output_type": "stream",
     "text": [
      " 37%|█████████████████████████████████████████                                                                      | 739/2000 [07:10<10:21,  2.03it/s]"
     ]
    },
    {
     "name": "stdout",
     "output_type": "stream",
     "text": [
      "Episode 740/2000\n",
      "Fitnesses: ['-1.85', '-35.06', '-101.28', '-62.67']\n",
      "100 fitness avgs: ['-31.59', '-31.92', '-33.12', '-32.74']\n"
     ]
    },
    {
     "name": "stderr",
     "output_type": "stream",
     "text": [
      " 38%|██████████████████████████████████████████                                                                     | 759/2000 [07:26<13:19,  1.55it/s]"
     ]
    },
    {
     "name": "stdout",
     "output_type": "stream",
     "text": [
      "Episode 760/2000\n",
      "Fitnesses: ['-82.21', '-30.32', '-52.89', '-219.26']\n",
      "100 fitness avgs: ['-32.08', '-31.56', '-32.12', '-33.79']\n"
     ]
    },
    {
     "name": "stderr",
     "output_type": "stream",
     "text": [
      " 39%|███████████████████████████████████████████▏                                                                   | 779/2000 [07:40<13:59,  1.45it/s]"
     ]
    },
    {
     "name": "stdout",
     "output_type": "stream",
     "text": [
      "Episode 780/2000\n",
      "Fitnesses: ['-22.33', '-30.31', '-28.99', '-57.63']\n",
      "100 fitness avgs: ['-31.29', '-31.37', '-31.87', '-31.64']\n"
     ]
    },
    {
     "name": "stderr",
     "output_type": "stream",
     "text": [
      " 40%|████████████████████████████████████████████▎                                                                  | 799/2000 [07:54<13:42,  1.46it/s]"
     ]
    },
    {
     "name": "stdout",
     "output_type": "stream",
     "text": [
      "Episode 800/2000\n",
      "Fitnesses: ['-19.34', '-50.93', '-5.45', '-52.82']\n",
      "100 fitness avgs: ['-31.08', '-31.39', '-31.52', '-31.41']\n"
     ]
    },
    {
     "name": "stderr",
     "output_type": "stream",
     "text": [
      " 41%|█████████████████████████████████████████████▍                                                                 | 819/2000 [08:10<14:59,  1.31it/s]"
     ]
    },
    {
     "name": "stdout",
     "output_type": "stream",
     "text": [
      "Episode 820/2000\n",
      "Fitnesses: ['-14.53', '-16.38', '-13.19', '-86.74']\n",
      "100 fitness avgs: ['-31.58', '-31.60', '-31.43', '-32.19']\n"
     ]
    },
    {
     "name": "stderr",
     "output_type": "stream",
     "text": [
      " 42%|██████████████████████████████████████████████▌                                                                | 839/2000 [08:24<10:57,  1.77it/s]"
     ]
    },
    {
     "name": "stdout",
     "output_type": "stream",
     "text": [
      "Episode 840/2000\n",
      "Fitnesses: ['-6.20', '-6.02', '-43.77', '-19.70']\n",
      "100 fitness avgs: ['-31.16', '-31.16', '-31.54', '-31.46']\n"
     ]
    },
    {
     "name": "stderr",
     "output_type": "stream",
     "text": [
      " 43%|███████████████████████████████████████████████▋                                                               | 859/2000 [08:36<10:53,  1.75it/s]"
     ]
    },
    {
     "name": "stdout",
     "output_type": "stream",
     "text": [
      "Episode 860/2000\n",
      "Fitnesses: ['-29.65', '-11.23', '-21.93', '-51.14']\n",
      "100 fitness avgs: ['-31.27', '-31.09', '-31.20', '-31.49']\n"
     ]
    },
    {
     "name": "stderr",
     "output_type": "stream",
     "text": [
      " 44%|████████████████████████████████████████████████▊                                                              | 879/2000 [08:49<12:01,  1.55it/s]"
     ]
    },
    {
     "name": "stdout",
     "output_type": "stream",
     "text": [
      "Episode 880/2000\n",
      "Fitnesses: ['-13.04', '-108.52', '-15.95', '-30.04']\n",
      "100 fitness avgs: ['-31.02', '-32.08', '-31.15', '-31.19']\n"
     ]
    },
    {
     "name": "stderr",
     "output_type": "stream",
     "text": [
      " 45%|█████████████████████████████████████████████████▉                                                             | 899/2000 [09:03<12:27,  1.47it/s]"
     ]
    },
    {
     "name": "stdout",
     "output_type": "stream",
     "text": [
      "Episode 900/2000\n",
      "Fitnesses: ['-11.09', '-61.88', '-3.73', '-99.05']\n",
      "100 fitness avgs: ['-31.02', '-31.53', '-31.09', '-32.07']\n"
     ]
    },
    {
     "name": "stderr",
     "output_type": "stream",
     "text": [
      " 46%|███████████████████████████████████████████████████                                                            | 919/2000 [09:14<08:44,  2.06it/s]"
     ]
    },
    {
     "name": "stdout",
     "output_type": "stream",
     "text": [
      "Episode 920/2000\n",
      "Fitnesses: ['-26.16', '-115.01', '-42.97', '-40.90']\n",
      "100 fitness avgs: ['-29.93', '-30.82', '-30.10', '-30.52']\n"
     ]
    },
    {
     "name": "stderr",
     "output_type": "stream",
     "text": [
      " 47%|████████████████████████████████████████████████████                                                           | 939/2000 [09:24<08:35,  2.06it/s]"
     ]
    },
    {
     "name": "stdout",
     "output_type": "stream",
     "text": [
      "Episode 940/2000\n",
      "Fitnesses: ['-38.51', '-11.75', '-17.86', '-20.06']\n",
      "100 fitness avgs: ['-28.55', '-28.29', '-28.35', '-28.96']\n"
     ]
    },
    {
     "name": "stderr",
     "output_type": "stream",
     "text": [
      " 48%|█████████████████████████████████████████████████████▏                                                         | 959/2000 [09:32<05:57,  2.91it/s]"
     ]
    },
    {
     "name": "stdout",
     "output_type": "stream",
     "text": [
      "Episode 960/2000\n",
      "Fitnesses: ['-16.86', '-110.59', '-31.16', '-2.57']\n",
      "100 fitness avgs: ['-27.79', '-28.79', '-27.94', '-28.33']\n"
     ]
    },
    {
     "name": "stderr",
     "output_type": "stream",
     "text": [
      " 49%|██████████████████████████████████████████████████████▎                                                        | 979/2000 [09:38<05:15,  3.24it/s]"
     ]
    },
    {
     "name": "stdout",
     "output_type": "stream",
     "text": [
      "Episode 980/2000\n",
      "Fitnesses: ['-45.11', '-4.61', '-13.59', '-75.95']\n",
      "100 fitness avgs: ['-28.73', '-28.33', '-27.88', '-28.51']\n"
     ]
    },
    {
     "name": "stderr",
     "output_type": "stream",
     "text": [
      " 50%|███████████████████████████████████████████████████████▍                                                       | 999/2000 [09:41<02:27,  6.77it/s]"
     ]
    },
    {
     "name": "stdout",
     "output_type": "stream",
     "text": [
      "Episode 1000/2000\n",
      "Fitnesses: ['-76.79', '-49.19', '-7.85', '-82.95']\n",
      "100 fitness avgs: ['-28.62', '-28.34', '-27.93', '-28.68']\n"
     ]
    },
    {
     "name": "stderr",
     "output_type": "stream",
     "text": [
      " 51%|████████████████████████████████████████████████████████                                                      | 1020/2000 [09:45<03:44,  4.36it/s]"
     ]
    },
    {
     "name": "stdout",
     "output_type": "stream",
     "text": [
      "Episode 1020/2000\n",
      "Fitnesses: ['-6.06', '-45.63', '-56.67', '-82.62']\n",
      "100 fitness avgs: ['-27.95', '-28.35', '-28.46', '-28.72']\n"
     ]
    },
    {
     "name": "stderr",
     "output_type": "stream",
     "text": [
      " 52%|█████████████████████████████████████████████████████████▏                                                    | 1039/2000 [09:48<02:28,  6.45it/s]"
     ]
    },
    {
     "name": "stdout",
     "output_type": "stream",
     "text": [
      "Episode 1040/2000\n",
      "Fitnesses: ['-78.54', '-19.41', '-36.78', '-15.69']\n",
      "100 fitness avgs: ['-28.22', '-27.62', '-27.80', '-27.98']\n"
     ]
    },
    {
     "name": "stderr",
     "output_type": "stream",
     "text": [
      " 53%|██████████████████████████████████████████████████████████▏                                                   | 1059/2000 [09:51<02:24,  6.50it/s]"
     ]
    },
    {
     "name": "stdout",
     "output_type": "stream",
     "text": [
      "Episode 1060/2000\n",
      "Fitnesses: ['-13.63', '-41.90', '-91.16', '-28.35']\n",
      "100 fitness avgs: ['-28.11', '-28.20', '-28.88', '-28.25']\n"
     ]
    },
    {
     "name": "stderr",
     "output_type": "stream",
     "text": [
      " 54%|███████████████████████████████████████████████████████████▎                                                  | 1079/2000 [09:55<02:25,  6.35it/s]"
     ]
    },
    {
     "name": "stdout",
     "output_type": "stream",
     "text": [
      "Episode 1080/2000\n",
      "Fitnesses: ['-40.15', '-27.02', '-33.50', '-32.79']\n",
      "100 fitness avgs: ['-28.21', '-28.08', '-28.29', '-28.92']\n"
     ]
    },
    {
     "name": "stderr",
     "output_type": "stream",
     "text": [
      " 55%|████████████████████████████████████████████████████████████▍                                                 | 1099/2000 [09:58<02:12,  6.79it/s]"
     ]
    },
    {
     "name": "stdout",
     "output_type": "stream",
     "text": [
      "Episode 1100/2000\n",
      "Fitnesses: ['-93.43', '-59.75', '-49.78', '-106.57']\n",
      "100 fitness avgs: ['-28.89', '-29.38', '-28.66', '-29.85']\n"
     ]
    },
    {
     "name": "stderr",
     "output_type": "stream",
     "text": [
      " 56%|█████████████████████████████████████████████████████████████▌                                                | 1119/2000 [10:01<02:17,  6.40it/s]"
     ]
    },
    {
     "name": "stdout",
     "output_type": "stream",
     "text": [
      "Episode 1120/2000\n",
      "Fitnesses: ['-25.64', '-44.19', '-35.55', '-37.48']\n",
      "100 fitness avgs: ['-28.87', '-29.05', '-29.19', '-29.21']\n"
     ]
    },
    {
     "name": "stderr",
     "output_type": "stream",
     "text": [
      " 57%|██████████████████████████████████████████████████████████████▋                                               | 1139/2000 [10:05<02:14,  6.38it/s]"
     ]
    },
    {
     "name": "stdout",
     "output_type": "stream",
     "text": [
      "Episode 1140/2000\n",
      "Fitnesses: ['-17.19', '-40.55', '-33.37', '-10.24']\n",
      "100 fitness avgs: ['-28.74', '-29.30', '-28.90', '-28.67']\n"
     ]
    },
    {
     "name": "stderr",
     "output_type": "stream",
     "text": [
      " 58%|███████████████████████████████████████████████████████████████▊                                              | 1160/2000 [10:08<03:06,  4.49it/s]"
     ]
    },
    {
     "name": "stdout",
     "output_type": "stream",
     "text": [
      "Episode 1160/2000\n",
      "Fitnesses: ['-47.17', '-61.20', '-41.49', '-10.73']\n",
      "100 fitness avgs: ['-29.06', '-29.27', '-29.07', '-28.70']\n"
     ]
    },
    {
     "name": "stderr",
     "output_type": "stream",
     "text": [
      " 59%|████████████████████████████████████████████████████████████████▊                                             | 1179/2000 [10:11<02:00,  6.82it/s]"
     ]
    },
    {
     "name": "stdout",
     "output_type": "stream",
     "text": [
      "Episode 1180/2000\n",
      "Fitnesses: ['-27.69', '-68.61', '-7.59', '-138.11']\n",
      "100 fitness avgs: ['-28.86', '-29.27', '-28.66', '-29.96']\n"
     ]
    },
    {
     "name": "stderr",
     "output_type": "stream",
     "text": [
      " 60%|█████████████████████████████████████████████████████████████████▉                                            | 1199/2000 [10:14<02:08,  6.22it/s]"
     ]
    },
    {
     "name": "stdout",
     "output_type": "stream",
     "text": [
      "Episode 1200/2000\n",
      "Fitnesses: ['-31.87', '-109.03', '-37.62', '-93.52']\n",
      "100 fitness avgs: ['-28.37', '-29.34', '-28.63', '-30.29']\n"
     ]
    },
    {
     "name": "stderr",
     "output_type": "stream",
     "text": [
      " 61%|███████████████████████████████████████████████████████████████████                                           | 1219/2000 [10:19<02:37,  4.95it/s]"
     ]
    },
    {
     "name": "stdout",
     "output_type": "stream",
     "text": [
      "Episode 1220/2000\n",
      "Fitnesses: ['-6.50', '-60.78', '-230.82', '-50.95']\n",
      "100 fitness avgs: ['-27.54', '-28.09', '-31.71', '-28.25']\n"
     ]
    },
    {
     "name": "stderr",
     "output_type": "stream",
     "text": [
      " 62%|████████████████████████████████████████████████████████████████████▏                                         | 1239/2000 [10:23<02:12,  5.75it/s]"
     ]
    },
    {
     "name": "stdout",
     "output_type": "stream",
     "text": [
      "Episode 1240/2000\n",
      "Fitnesses: ['-22.13', '-1.09', '-13.77', '-49.08']\n",
      "100 fitness avgs: ['-27.67', '-27.46', '-28.13', '-28.64']\n"
     ]
    },
    {
     "name": "stderr",
     "output_type": "stream",
     "text": [
      " 63%|█████████████████████████████████████████████████████████████████████▏                                        | 1259/2000 [10:27<02:21,  5.23it/s]"
     ]
    },
    {
     "name": "stdout",
     "output_type": "stream",
     "text": [
      "Episode 1260/2000\n",
      "Fitnesses: ['-4.85', '-106.98', '-8.77', '-20.42']\n",
      "100 fitness avgs: ['-27.48', '-28.50', '-27.51', '-27.63']\n"
     ]
    },
    {
     "name": "stderr",
     "output_type": "stream",
     "text": [
      " 64%|██████████████████████████████████████████████████████████████████████▍                                       | 1280/2000 [10:31<03:01,  3.96it/s]"
     ]
    },
    {
     "name": "stdout",
     "output_type": "stream",
     "text": [
      "Episode 1280/2000\n",
      "Fitnesses: ['-48.11', '-8.17', '-15.37', '-60.87']\n",
      "100 fitness avgs: ['-27.95', '-27.59', '-27.66', '-28.08']\n"
     ]
    },
    {
     "name": "stderr",
     "output_type": "stream",
     "text": [
      " 65%|███████████████████████████████████████████████████████████████████████▍                                      | 1299/2000 [10:35<02:08,  5.44it/s]"
     ]
    },
    {
     "name": "stdout",
     "output_type": "stream",
     "text": [
      "Episode 1300/2000\n",
      "Fitnesses: ['-34.40', '-123.97', '-22.32', '-30.55']\n",
      "100 fitness avgs: ['-27.78', '-29.04', '-27.73', '-27.74']\n"
     ]
    },
    {
     "name": "stderr",
     "output_type": "stream",
     "text": [
      " 66%|████████████████████████████████████████████████████████████████████████▌                                     | 1320/2000 [10:39<02:50,  3.98it/s]"
     ]
    },
    {
     "name": "stdout",
     "output_type": "stream",
     "text": [
      "Episode 1320/2000\n",
      "Fitnesses: ['-8.99', '-51.13', '-33.25', '-7.39']\n",
      "100 fitness avgs: ['-27.58', '-28.01', '-27.83', '-27.56']\n"
     ]
    },
    {
     "name": "stderr",
     "output_type": "stream",
     "text": [
      " 67%|█████████████████████████████████████████████████████████████████████████▋                                    | 1339/2000 [10:42<01:56,  5.67it/s]"
     ]
    },
    {
     "name": "stdout",
     "output_type": "stream",
     "text": [
      "Episode 1340/2000\n",
      "Fitnesses: ['-71.65', '-27.49', '-34.27', '-76.04']\n",
      "100 fitness avgs: ['-27.87', '-27.44', '-27.51', '-28.18']\n"
     ]
    },
    {
     "name": "stderr",
     "output_type": "stream",
     "text": [
      " 68%|██████████████████████████████████████████████████████████████████████████▋                                   | 1359/2000 [10:47<02:32,  4.21it/s]"
     ]
    },
    {
     "name": "stdout",
     "output_type": "stream",
     "text": [
      "Episode 1360/2000\n",
      "Fitnesses: ['-22.01', '-60.39', '-279.48', '-22.93']\n",
      "100 fitness avgs: ['-27.23', '-28.04', '-29.87', '-27.23']\n"
     ]
    },
    {
     "name": "stderr",
     "output_type": "stream",
     "text": [
      " 69%|███████████████████████████████████████████████████████████████████████████▊                                  | 1379/2000 [10:53<02:31,  4.10it/s]"
     ]
    },
    {
     "name": "stdout",
     "output_type": "stream",
     "text": [
      "Episode 1380/2000\n",
      "Fitnesses: ['-37.41', '-14.92', '-32.24', '-159.88']\n",
      "100 fitness avgs: ['-27.20', '-26.98', '-27.14', '-31.06']\n"
     ]
    },
    {
     "name": "stderr",
     "output_type": "stream",
     "text": [
      " 70%|████████████████████████████████████████████████████████████████████████████▉                                 | 1399/2000 [10:59<02:31,  3.97it/s]"
     ]
    },
    {
     "name": "stdout",
     "output_type": "stream",
     "text": [
      "Episode 1400/2000\n",
      "Fitnesses: ['-10.27', '-58.10', '-36.48', '-260.20']\n",
      "100 fitness avgs: ['-27.00', '-27.70', '-27.43', '-33.59']\n"
     ]
    },
    {
     "name": "stderr",
     "output_type": "stream",
     "text": [
      " 71%|██████████████████████████████████████████████████████████████████████████████                                | 1419/2000 [11:03<02:09,  4.47it/s]"
     ]
    },
    {
     "name": "stdout",
     "output_type": "stream",
     "text": [
      "Episode 1420/2000\n",
      "Fitnesses: ['-26.73', '-37.35', '-51.85', '-30.86']\n",
      "100 fitness avgs: ['-27.16', '-27.69', '-27.84', '-27.90']\n"
     ]
    },
    {
     "name": "stderr",
     "output_type": "stream",
     "text": [
      " 72%|███████████████████████████████████████████████████████████████████████████████▏                              | 1439/2000 [11:07<01:38,  5.72it/s]"
     ]
    },
    {
     "name": "stdout",
     "output_type": "stream",
     "text": [
      "Episode 1440/2000\n",
      "Fitnesses: ['-57.34', '-66.06', '-38.68', '-138.44']\n",
      "100 fitness avgs: ['-27.71', '-27.80', '-27.52', '-28.52']\n"
     ]
    },
    {
     "name": "stderr",
     "output_type": "stream",
     "text": [
      " 73%|████████████████████████████████████████████████████████████████████████████████▏                             | 1459/2000 [11:11<01:37,  5.56it/s]"
     ]
    },
    {
     "name": "stdout",
     "output_type": "stream",
     "text": [
      "Episode 1460/2000\n",
      "Fitnesses: ['-45.71', '-46.36', '-26.72', '-39.00']\n",
      "100 fitness avgs: ['-27.89', '-28.08', '-27.70', '-27.82']\n"
     ]
    },
    {
     "name": "stderr",
     "output_type": "stream",
     "text": [
      " 74%|█████████████████████████████████████████████████████████████████████████████████▍                            | 1480/2000 [11:15<02:09,  4.01it/s]"
     ]
    },
    {
     "name": "stdout",
     "output_type": "stream",
     "text": [
      "Episode 1480/2000\n",
      "Fitnesses: ['-63.33', '-16.65', '-40.73', '-13.70']\n",
      "100 fitness avgs: ['-28.02', '-27.74', '-27.80', '-27.65']\n"
     ]
    },
    {
     "name": "stderr",
     "output_type": "stream",
     "text": [
      " 75%|██████████████████████████████████████████████████████████████████████████████████▍                           | 1499/2000 [11:18<01:28,  5.65it/s]"
     ]
    },
    {
     "name": "stdout",
     "output_type": "stream",
     "text": [
      "Episode 1500/2000\n",
      "Fitnesses: ['-34.87', '-26.36', '-3.31', '-20.76']\n",
      "100 fitness avgs: ['-27.85', '-27.86', '-27.53', '-28.08']\n"
     ]
    },
    {
     "name": "stderr",
     "output_type": "stream",
     "text": [
      " 76%|███████████████████████████████████████████████████████████████████████████████████▌                          | 1519/2000 [11:22<01:25,  5.61it/s]"
     ]
    },
    {
     "name": "stdout",
     "output_type": "stream",
     "text": [
      "Episode 1520/2000\n",
      "Fitnesses: ['-22.33', '-30.22', '-27.90', '-13.99']\n",
      "100 fitness avgs: ['-27.70', '-27.78', '-28.30', '-28.16']\n"
     ]
    },
    {
     "name": "stderr",
     "output_type": "stream",
     "text": [
      " 77%|████████████████████████████████████████████████████████████████████████████████████▋                         | 1539/2000 [11:27<01:49,  4.22it/s]"
     ]
    },
    {
     "name": "stdout",
     "output_type": "stream",
     "text": [
      "Episode 1540/2000\n",
      "Fitnesses: ['-37.77', '-25.23', '-34.85', '-6.84']\n",
      "100 fitness avgs: ['-28.22', '-28.10', '-28.19', '-27.91']\n"
     ]
    },
    {
     "name": "stderr",
     "output_type": "stream",
     "text": [
      " 78%|█████████████████████████████████████████████████████████████████████████████████████▋                        | 1559/2000 [11:31<01:11,  6.13it/s]"
     ]
    },
    {
     "name": "stdout",
     "output_type": "stream",
     "text": [
      "Episode 1560/2000\n",
      "Fitnesses: ['-3.01', '-17.78', '-24.68', '-50.85']\n",
      "100 fitness avgs: ['-27.93', '-28.35', '-28.42', '-28.40']\n"
     ]
    },
    {
     "name": "stderr",
     "output_type": "stream",
     "text": [
      " 79%|██████████████████████████████████████████████████████████████████████████████████████▊                       | 1579/2000 [11:35<01:10,  5.97it/s]"
     ]
    },
    {
     "name": "stdout",
     "output_type": "stream",
     "text": [
      "Episode 1580/2000\n",
      "Fitnesses: ['-1.45', '-127.20', '-10.11', '-13.70']\n",
      "100 fitness avgs: ['-27.82', '-29.08', '-28.40', '-28.37']\n"
     ]
    },
    {
     "name": "stderr",
     "output_type": "stream",
     "text": [
      " 80%|███████████████████████████████████████████████████████████████████████████████████████▉                      | 1599/2000 [11:38<01:06,  6.01it/s]"
     ]
    },
    {
     "name": "stdout",
     "output_type": "stream",
     "text": [
      "Episode 1600/2000\n",
      "Fitnesses: ['-11.75', '-22.87', '-16.15', '-48.24']\n",
      "100 fitness avgs: ['-27.64', '-27.75', '-28.27', '-28.59']\n"
     ]
    },
    {
     "name": "stderr",
     "output_type": "stream",
     "text": [
      " 81%|█████████████████████████████████████████████████████████████████████████████████████████                     | 1619/2000 [11:43<01:13,  5.19it/s]"
     ]
    },
    {
     "name": "stdout",
     "output_type": "stream",
     "text": [
      "Episode 1620/2000\n",
      "Fitnesses: ['-12.83', '-68.88', '-39.85', '-57.13']\n",
      "100 fitness avgs: ['-26.80', '-27.47', '-27.18', '-27.87']\n"
     ]
    },
    {
     "name": "stderr",
     "output_type": "stream",
     "text": [
      " 82%|██████████████████████████████████████████████████████████████████████████████████████████▏                   | 1639/2000 [11:47<01:11,  5.04it/s]"
     ]
    },
    {
     "name": "stdout",
     "output_type": "stream",
     "text": [
      "Episode 1640/2000\n",
      "Fitnesses: ['-19.69', '-8.53', '-87.84', '-16.79']\n",
      "100 fitness avgs: ['-26.66', '-27.23', '-27.73', '-27.02']\n"
     ]
    },
    {
     "name": "stderr",
     "output_type": "stream",
     "text": [
      " 83%|███████████████████████████████████████████████████████████████████████████████████████████▏                  | 1659/2000 [11:51<01:11,  4.77it/s]"
     ]
    },
    {
     "name": "stdout",
     "output_type": "stream",
     "text": [
      "Episode 1660/2000\n",
      "Fitnesses: ['-13.91', '-42.56', '-40.43', '-80.35']\n",
      "100 fitness avgs: ['-27.29', '-27.36', '-27.34', '-27.95']\n"
     ]
    },
    {
     "name": "stderr",
     "output_type": "stream",
     "text": [
      " 84%|████████████████████████████████████████████████████████████████████████████████████████████▎                 | 1679/2000 [11:56<01:12,  4.40it/s]"
     ]
    },
    {
     "name": "stdout",
     "output_type": "stream",
     "text": [
      "Episode 1680/2000\n",
      "Fitnesses: ['-43.86', '-32.92', '-32.41', '-3.50']\n",
      "100 fitness avgs: ['-27.56', '-27.45', '-27.52', '-27.16']\n"
     ]
    },
    {
     "name": "stderr",
     "output_type": "stream",
     "text": [
      " 85%|█████████████████████████████████████████████████████████████████████████████████████████████▍                | 1699/2000 [12:01<01:09,  4.36it/s]"
     ]
    },
    {
     "name": "stdout",
     "output_type": "stream",
     "text": [
      "Episode 1700/2000\n",
      "Fitnesses: ['-48.93', '-8.76', '-28.96', '-2.48']\n",
      "100 fitness avgs: ['-27.29', '-26.89', '-27.46', '-26.82']\n"
     ]
    },
    {
     "name": "stderr",
     "output_type": "stream",
     "text": [
      " 86%|██████████████████████████████████████████████████████████████████████████████████████████████▌               | 1719/2000 [12:06<01:07,  4.15it/s]"
     ]
    },
    {
     "name": "stdout",
     "output_type": "stream",
     "text": [
      "Episode 1720/2000\n",
      "Fitnesses: ['-25.83', '-62.39', '-39.98', '-23.94']\n",
      "100 fitness avgs: ['-26.94', '-27.37', '-27.08', '-26.99']\n"
     ]
    },
    {
     "name": "stderr",
     "output_type": "stream",
     "text": [
      " 87%|███████████████████████████████████████████████████████████████████████████████████████████████▋              | 1739/2000 [12:11<01:05,  3.98it/s]"
     ]
    },
    {
     "name": "stdout",
     "output_type": "stream",
     "text": [
      "Episode 1740/2000\n",
      "Fitnesses: ['-4.77', '-77.43', '-28.39', '-36.73']\n",
      "100 fitness avgs: ['-25.30', '-25.98', '-25.53', '-25.62']\n"
     ]
    },
    {
     "name": "stderr",
     "output_type": "stream",
     "text": [
      " 88%|████████████████████████████████████████████████████████████████████████████████████████████████▋             | 1759/2000 [12:16<00:58,  4.13it/s]"
     ]
    },
    {
     "name": "stdout",
     "output_type": "stream",
     "text": [
      "Episode 1760/2000\n",
      "Fitnesses: ['-16.28', '-59.04', '-109.17', '-49.62']\n",
      "100 fitness avgs: ['-25.20', '-25.95', '-26.13', '-25.53']\n"
     ]
    },
    {
     "name": "stderr",
     "output_type": "stream",
     "text": [
      " 89%|█████████████████████████████████████████████████████████████████████████████████████████████████▊            | 1779/2000 [12:21<00:54,  4.09it/s]"
     ]
    },
    {
     "name": "stdout",
     "output_type": "stream",
     "text": [
      "Episode 1780/2000\n",
      "Fitnesses: ['-12.54', '-3.66', '-101.54', '-8.40']\n",
      "100 fitness avgs: ['-25.21', '-25.12', '-26.43', '-25.50']\n"
     ]
    },
    {
     "name": "stderr",
     "output_type": "stream",
     "text": [
      " 90%|██████████████████████████████████████████████████████████████████████████████████████████████████▉           | 1799/2000 [12:26<00:49,  4.09it/s]"
     ]
    },
    {
     "name": "stdout",
     "output_type": "stream",
     "text": [
      "Episode 1800/2000\n",
      "Fitnesses: ['-24.30', '-133.65', '-22.49', '-20.56']\n",
      "100 fitness avgs: ['-24.94', '-26.12', '-25.30', '-24.90']\n"
     ]
    },
    {
     "name": "stderr",
     "output_type": "stream",
     "text": [
      " 91%|████████████████████████████████████████████████████████████████████████████████████████████████████          | 1819/2000 [12:31<00:45,  4.00it/s]"
     ]
    },
    {
     "name": "stdout",
     "output_type": "stream",
     "text": [
      "Episode 1820/2000\n",
      "Fitnesses: ['-34.70', '-38.85', '-28.89', '-42.19']\n",
      "100 fitness avgs: ['-24.30', '-24.38', '-24.64', '-24.77']\n"
     ]
    },
    {
     "name": "stderr",
     "output_type": "stream",
     "text": [
      " 92%|█████████████████████████████████████████████████████████████████████████████████████████████████████▏        | 1839/2000 [12:36<00:36,  4.36it/s]"
     ]
    },
    {
     "name": "stdout",
     "output_type": "stream",
     "text": [
      "Episode 1840/2000\n",
      "Fitnesses: ['-22.05', '-6.64', '-46.57', '-53.56']\n",
      "100 fitness avgs: ['-24.75', '-24.26', '-24.66', '-25.07']\n"
     ]
    },
    {
     "name": "stderr",
     "output_type": "stream",
     "text": [
      " 93%|██████████████████████████████████████████████████████████████████████████████████████████████████████▏       | 1859/2000 [12:41<00:28,  4.87it/s]"
     ]
    },
    {
     "name": "stdout",
     "output_type": "stream",
     "text": [
      "Episode 1860/2000\n",
      "Fitnesses: ['-8.66', '-32.57', '-82.87', '-3.04']\n",
      "100 fitness avgs: ['-23.85', '-24.09', '-24.59', '-24.19']\n"
     ]
    },
    {
     "name": "stderr",
     "output_type": "stream",
     "text": [
      " 94%|███████████████████████████████████████████████████████████████████████████████████████████████████████▎      | 1879/2000 [12:46<00:32,  3.70it/s]"
     ]
    },
    {
     "name": "stdout",
     "output_type": "stream",
     "text": [
      "Episode 1880/2000\n",
      "Fitnesses: ['-14.50', '-37.82', '-3.99', '-13.36']\n",
      "100 fitness avgs: ['-24.27', '-24.50', '-23.82', '-24.26']\n"
     ]
    },
    {
     "name": "stderr",
     "output_type": "stream",
     "text": [
      " 95%|████████████████████████████████████████████████████████████████████████████████████████████████████████▍     | 1899/2000 [12:52<00:28,  3.55it/s]"
     ]
    },
    {
     "name": "stdout",
     "output_type": "stream",
     "text": [
      "Episode 1900/2000\n",
      "Fitnesses: ['-67.58', '-42.80', '-1.86', '-38.32']\n",
      "100 fitness avgs: ['-24.07', '-23.83', '-23.87', '-24.22']\n"
     ]
    },
    {
     "name": "stderr",
     "output_type": "stream",
     "text": [
      " 96%|█████████████████████████████████████████████████████████████████████████████████████████████████████████▌    | 1919/2000 [12:58<00:26,  3.10it/s]"
     ]
    },
    {
     "name": "stdout",
     "output_type": "stream",
     "text": [
      "Episode 1920/2000\n",
      "Fitnesses: ['-80.17', '-74.06', '-22.56', '-36.70']\n",
      "100 fitness avgs: ['-24.64', '-24.58', '-24.06', '-24.17']\n"
     ]
    },
    {
     "name": "stderr",
     "output_type": "stream",
     "text": [
      " 97%|██████████████████████████████████████████████████████████████████████████████████████████████████████████▋   | 1939/2000 [13:05<00:20,  2.96it/s]"
     ]
    },
    {
     "name": "stdout",
     "output_type": "stream",
     "text": [
      "Episode 1940/2000\n",
      "Fitnesses: ['-63.14', '-13.45', '-27.04', '-74.03']\n",
      "100 fitness avgs: ['-24.65', '-24.26', '-24.87', '-24.76']\n"
     ]
    },
    {
     "name": "stderr",
     "output_type": "stream",
     "text": [
      " 98%|███████████████████████████████████████████████████████████████████████████████████████████████████████████▋  | 1959/2000 [13:12<00:12,  3.27it/s]"
     ]
    },
    {
     "name": "stdout",
     "output_type": "stream",
     "text": [
      "Episode 1960/2000\n",
      "Fitnesses: ['-95.47', '-49.61', '-16.81', '-20.19']\n",
      "100 fitness avgs: ['-25.06', '-25.21', '-24.88', '-24.31']\n"
     ]
    },
    {
     "name": "stderr",
     "output_type": "stream",
     "text": [
      " 99%|████████████████████████████████████████████████████████████████████████████████████████████████████████████▊ | 1979/2000 [13:19<00:07,  2.93it/s]"
     ]
    },
    {
     "name": "stdout",
     "output_type": "stream",
     "text": [
      "Episode 1980/2000\n",
      "Fitnesses: ['-11.96', '-45.21', '-88.79', '-46.62']\n",
      "100 fitness avgs: ['-24.90', '-25.23', '-25.09', '-25.25']\n"
     ]
    },
    {
     "name": "stderr",
     "output_type": "stream",
     "text": [
      "100%|█████████████████████████████████████████████████████████████████████████████████████████████████████████████▉| 1999/2000 [13:26<00:00,  2.96it/s]"
     ]
    },
    {
     "name": "stdout",
     "output_type": "stream",
     "text": [
      "Episode 2000/2000\n",
      "Fitnesses: ['-9.14', '-26.31', '-16.82', '-27.02']\n",
      "100 fitness avgs: ['-24.93', '-25.43', '-25.20', '-25.11']\n"
     ]
    },
    {
     "name": "stderr",
     "output_type": "stream",
     "text": [
      "100%|██████████████████████████████████████████████████████████████████████████████████████████████████████████████| 2000/2000 [13:26<00:00,  2.48it/s]\n"
     ]
    }
   ],
   "source": [
    "#%run script-1-train.py -dt $str_dt_now\n",
    "%run script-1-train.py -dt $str_dt_now -pop \"./result/20231224-1315/population.pkl\" -r \"./result/20231224-1315/replaybuffer.pkl\" -t \"./result/20231224-1315/tournament.pkl\" -m \"./result/20231224-1315/mutations.pkl\"\n"
   ]
  },
  {
   "cell_type": "code",
   "execution_count": 42,
   "id": "0f1b4bc6-043a-48e4-ae2b-b83912f09b3b",
   "metadata": {
    "scrolled": true
   },
   "outputs": [
    {
     "name": "stdout",
     "output_type": "stream",
     "text": [
      "--------------- Episode: 0 ---------------\n",
      "Episodic Reward:  -31.130385820457125\n",
      "speaker_0 reward: -15.565192910228562\n",
      "listener_0 reward: -15.565192910228562\n",
      "--------------- Episode: 1 ---------------\n",
      "Episodic Reward:  -9.83356293561761\n",
      "speaker_0 reward: -4.916781467808805\n",
      "listener_0 reward: -4.916781467808805\n",
      "--------------- Episode: 2 ---------------\n",
      "Episodic Reward:  -1.258689574924637\n",
      "speaker_0 reward: -0.6293447874623185\n",
      "listener_0 reward: -0.6293447874623185\n",
      "--------------- Episode: 3 ---------------\n",
      "Episodic Reward:  -17.597058049384344\n",
      "speaker_0 reward: -8.798529024692172\n",
      "listener_0 reward: -8.798529024692172\n",
      "--------------- Episode: 4 ---------------\n",
      "Episodic Reward:  -13.399383848003467\n",
      "speaker_0 reward: -6.699691924001733\n",
      "listener_0 reward: -6.699691924001733\n",
      "--------------- Episode: 5 ---------------\n",
      "Episodic Reward:  -37.64794220712486\n",
      "speaker_0 reward: -18.82397110356243\n",
      "listener_0 reward: -18.82397110356243\n",
      "--------------- Episode: 6 ---------------\n",
      "Episodic Reward:  -20.177115625269245\n",
      "speaker_0 reward: -10.088557812634622\n",
      "listener_0 reward: -10.088557812634622\n",
      "--------------- Episode: 7 ---------------\n",
      "Episodic Reward:  -85.94906301492631\n",
      "speaker_0 reward: -42.974531507463155\n",
      "listener_0 reward: -42.974531507463155\n",
      "--------------- Episode: 8 ---------------\n",
      "Episodic Reward:  -62.29141745112886\n",
      "speaker_0 reward: -31.14570872556443\n",
      "listener_0 reward: -31.14570872556443\n",
      "--------------- Episode: 9 ---------------\n",
      "Episodic Reward:  -15.839940389378498\n",
      "speaker_0 reward: -7.919970194689249\n",
      "listener_0 reward: -7.919970194689249\n",
      "./result/20231224-1315/speaker_listener.gif\n"
     ]
    }
   ],
   "source": [
    "%run script-2-play.py -dt $str_dt_now"
   ]
  },
  {
   "cell_type": "code",
   "execution_count": 14,
   "id": "fd62d1b5-7785-4023-8de1-0ff1f36b4239",
   "metadata": {},
   "outputs": [
    {
     "ename": "KeyboardInterrupt",
     "evalue": "",
     "output_type": "error",
     "traceback": [
      "\u001b[0;31m---------------------------------------------------------------------------\u001b[0m",
      "\u001b[0;31mKeyboardInterrupt\u001b[0m                         Traceback (most recent call last)",
      "Cell \u001b[0;32mIn[14], line 4\u001b[0m\n\u001b[1;32m      1\u001b[0m \u001b[38;5;28;01mimport\u001b[39;00m \u001b[38;5;21;01mplaysound\u001b[39;00m\n\u001b[1;32m      3\u001b[0m \u001b[38;5;28;01mwhile\u001b[39;00m \u001b[38;5;28;01mTrue\u001b[39;00m:\n\u001b[0;32m----> 4\u001b[0m     \u001b[43mplaysound\u001b[49m\u001b[38;5;241;43m.\u001b[39;49m\u001b[43mplaysound\u001b[49m\u001b[43m(\u001b[49m\u001b[38;5;124;43m\"\u001b[39;49m\u001b[38;5;124;43mfireworks.mp3\u001b[39;49m\u001b[38;5;124;43m\"\u001b[39;49m\u001b[43m)\u001b[49m\n",
      "File \u001b[0;32m~/work-worldmodel2023/venv-mpe/lib/python3.8/site-packages/playsound.py:144\u001b[0m, in \u001b[0;36m_playsoundOSX\u001b[0;34m(sound, block)\u001b[0m\n\u001b[1;32m    141\u001b[0m nssound\u001b[38;5;241m.\u001b[39mplay()\n\u001b[1;32m    143\u001b[0m \u001b[38;5;28;01mif\u001b[39;00m block:\n\u001b[0;32m--> 144\u001b[0m     \u001b[43msleep\u001b[49m\u001b[43m(\u001b[49m\u001b[43mnssound\u001b[49m\u001b[38;5;241;43m.\u001b[39;49m\u001b[43mduration\u001b[49m\u001b[43m(\u001b[49m\u001b[43m)\u001b[49m\u001b[43m)\u001b[49m\n",
      "\u001b[0;31mKeyboardInterrupt\u001b[0m: "
     ]
    }
   ],
   "source": [
    "import playsound\n",
    "\n",
    "while True:\n",
    "    playsound.playsound(\"fireworks.mp3\")"
   ]
  },
  {
   "cell_type": "code",
   "execution_count": null,
   "id": "5d75d986-de09-4449-ab01-394fcb3ce289",
   "metadata": {},
   "outputs": [],
   "source": []
  }
 ],
 "metadata": {
  "kernelspec": {
   "display_name": "Python 3 (ipykernel)",
   "language": "python",
   "name": "python3"
  },
  "language_info": {
   "codemirror_mode": {
    "name": "ipython",
    "version": 3
   },
   "file_extension": ".py",
   "mimetype": "text/x-python",
   "name": "python",
   "nbconvert_exporter": "python",
   "pygments_lexer": "ipython3",
   "version": "3.8.2"
  }
 },
 "nbformat": 4,
 "nbformat_minor": 5
}
