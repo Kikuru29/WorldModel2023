{
 "cells": [
  {
   "cell_type": "markdown",
   "id": "ff4488f4",
   "metadata": {},
   "source": [
    "# AgileRL Speaker-Listener with MATD3\n",
    "https://docs.agilerl.com/en/latest/tutorials/pettingzoo/matd3.html"
   ]
  },
  {
   "cell_type": "code",
   "execution_count": 1,
   "id": "a9b039f0",
   "metadata": {},
   "outputs": [
    {
     "name": "stdout",
     "output_type": "stream",
     "text": [
      "Requirement already satisfied: pip in /Users/work/work-worldmodel2023/venv-mpe/lib/python3.8/site-packages (23.3.2)\n"
     ]
    }
   ],
   "source": [
    "!pip install --upgrade pip"
   ]
  },
  {
   "cell_type": "code",
   "execution_count": 2,
   "id": "cfadb438-9362-4b9d-9d05-ae54b857ffcf",
   "metadata": {
    "scrolled": true
   },
   "outputs": [
    {
     "name": "stdout",
     "output_type": "stream",
     "text": [
      "Requirement already satisfied: playsound in /Users/work/work-worldmodel2023/venv-mpe/lib/python3.8/site-packages (1.3.0)\n",
      "Requirement already satisfied: PyObjC in /Users/work/work-worldmodel2023/venv-mpe/lib/python3.8/site-packages (10.1)\n",
      "Requirement already satisfied: pyobjc-core==10.1 in /Users/work/work-worldmodel2023/venv-mpe/lib/python3.8/site-packages (from PyObjC) (10.1)\n",
      "Requirement already satisfied: pyobjc-framework-AddressBook==10.1 in /Users/work/work-worldmodel2023/venv-mpe/lib/python3.8/site-packages (from PyObjC) (10.1)\n",
      "Requirement already satisfied: pyobjc-framework-AppleScriptKit==10.1 in /Users/work/work-worldmodel2023/venv-mpe/lib/python3.8/site-packages (from PyObjC) (10.1)\n",
      "Requirement already satisfied: pyobjc-framework-ApplicationServices==10.1 in /Users/work/work-worldmodel2023/venv-mpe/lib/python3.8/site-packages (from PyObjC) (10.1)\n",
      "Requirement already satisfied: pyobjc-framework-Automator==10.1 in /Users/work/work-worldmodel2023/venv-mpe/lib/python3.8/site-packages (from PyObjC) (10.1)\n",
      "Requirement already satisfied: pyobjc-framework-CFNetwork==10.1 in /Users/work/work-worldmodel2023/venv-mpe/lib/python3.8/site-packages (from PyObjC) (10.1)\n",
      "Requirement already satisfied: pyobjc-framework-Cocoa==10.1 in /Users/work/work-worldmodel2023/venv-mpe/lib/python3.8/site-packages (from PyObjC) (10.1)\n",
      "Requirement already satisfied: pyobjc-framework-CoreAudio==10.1 in /Users/work/work-worldmodel2023/venv-mpe/lib/python3.8/site-packages (from PyObjC) (10.1)\n",
      "Requirement already satisfied: pyobjc-framework-CoreAudioKit==10.1 in /Users/work/work-worldmodel2023/venv-mpe/lib/python3.8/site-packages (from PyObjC) (10.1)\n",
      "Requirement already satisfied: pyobjc-framework-CoreData==10.1 in /Users/work/work-worldmodel2023/venv-mpe/lib/python3.8/site-packages (from PyObjC) (10.1)\n",
      "Requirement already satisfied: pyobjc-framework-CoreMIDI==10.1 in /Users/work/work-worldmodel2023/venv-mpe/lib/python3.8/site-packages (from PyObjC) (10.1)\n",
      "Requirement already satisfied: pyobjc-framework-CoreServices==10.1 in /Users/work/work-worldmodel2023/venv-mpe/lib/python3.8/site-packages (from PyObjC) (10.1)\n",
      "Requirement already satisfied: pyobjc-framework-CoreText==10.1 in /Users/work/work-worldmodel2023/venv-mpe/lib/python3.8/site-packages (from PyObjC) (10.1)\n",
      "Requirement already satisfied: pyobjc-framework-DiscRecording==10.1 in /Users/work/work-worldmodel2023/venv-mpe/lib/python3.8/site-packages (from PyObjC) (10.1)\n",
      "Requirement already satisfied: pyobjc-framework-DiscRecordingUI==10.1 in /Users/work/work-worldmodel2023/venv-mpe/lib/python3.8/site-packages (from PyObjC) (10.1)\n",
      "Requirement already satisfied: pyobjc-framework-DiskArbitration==10.1 in /Users/work/work-worldmodel2023/venv-mpe/lib/python3.8/site-packages (from PyObjC) (10.1)\n",
      "Requirement already satisfied: pyobjc-framework-DVDPlayback==10.1 in /Users/work/work-worldmodel2023/venv-mpe/lib/python3.8/site-packages (from PyObjC) (10.1)\n",
      "Requirement already satisfied: pyobjc-framework-ExceptionHandling==10.1 in /Users/work/work-worldmodel2023/venv-mpe/lib/python3.8/site-packages (from PyObjC) (10.1)\n",
      "Requirement already satisfied: pyobjc-framework-InstallerPlugins==10.1 in /Users/work/work-worldmodel2023/venv-mpe/lib/python3.8/site-packages (from PyObjC) (10.1)\n",
      "Requirement already satisfied: pyobjc-framework-IOBluetooth==10.1 in /Users/work/work-worldmodel2023/venv-mpe/lib/python3.8/site-packages (from PyObjC) (10.1)\n",
      "Requirement already satisfied: pyobjc-framework-IOBluetoothUI==10.1 in /Users/work/work-worldmodel2023/venv-mpe/lib/python3.8/site-packages (from PyObjC) (10.1)\n",
      "Requirement already satisfied: pyobjc-framework-LatentSemanticMapping==10.1 in /Users/work/work-worldmodel2023/venv-mpe/lib/python3.8/site-packages (from PyObjC) (10.1)\n",
      "Requirement already satisfied: pyobjc-framework-LaunchServices==10.1 in /Users/work/work-worldmodel2023/venv-mpe/lib/python3.8/site-packages (from PyObjC) (10.1)\n",
      "Requirement already satisfied: pyobjc-framework-OSAKit==10.1 in /Users/work/work-worldmodel2023/venv-mpe/lib/python3.8/site-packages (from PyObjC) (10.1)\n",
      "Requirement already satisfied: pyobjc-framework-PreferencePanes==10.1 in /Users/work/work-worldmodel2023/venv-mpe/lib/python3.8/site-packages (from PyObjC) (10.1)\n",
      "Requirement already satisfied: pyobjc-framework-Quartz==10.1 in /Users/work/work-worldmodel2023/venv-mpe/lib/python3.8/site-packages (from PyObjC) (10.1)\n",
      "Requirement already satisfied: pyobjc-framework-ScreenSaver==10.1 in /Users/work/work-worldmodel2023/venv-mpe/lib/python3.8/site-packages (from PyObjC) (10.1)\n",
      "Requirement already satisfied: pyobjc-framework-Security==10.1 in /Users/work/work-worldmodel2023/venv-mpe/lib/python3.8/site-packages (from PyObjC) (10.1)\n",
      "Requirement already satisfied: pyobjc-framework-SecurityFoundation==10.1 in /Users/work/work-worldmodel2023/venv-mpe/lib/python3.8/site-packages (from PyObjC) (10.1)\n",
      "Requirement already satisfied: pyobjc-framework-SecurityInterface==10.1 in /Users/work/work-worldmodel2023/venv-mpe/lib/python3.8/site-packages (from PyObjC) (10.1)\n",
      "Requirement already satisfied: pyobjc-framework-SearchKit==10.1 in /Users/work/work-worldmodel2023/venv-mpe/lib/python3.8/site-packages (from PyObjC) (10.1)\n",
      "Requirement already satisfied: pyobjc-framework-SyncServices==10.1 in /Users/work/work-worldmodel2023/venv-mpe/lib/python3.8/site-packages (from PyObjC) (10.1)\n",
      "Requirement already satisfied: pyobjc-framework-SystemConfiguration==10.1 in /Users/work/work-worldmodel2023/venv-mpe/lib/python3.8/site-packages (from PyObjC) (10.1)\n",
      "Requirement already satisfied: pyobjc-framework-WebKit==10.1 in /Users/work/work-worldmodel2023/venv-mpe/lib/python3.8/site-packages (from PyObjC) (10.1)\n",
      "Requirement already satisfied: pyobjc-framework-AppleScriptObjC==10.1 in /Users/work/work-worldmodel2023/venv-mpe/lib/python3.8/site-packages (from PyObjC) (10.1)\n",
      "Requirement already satisfied: pyobjc-framework-CoreLocation==10.1 in /Users/work/work-worldmodel2023/venv-mpe/lib/python3.8/site-packages (from PyObjC) (10.1)\n",
      "Requirement already satisfied: pyobjc-framework-CoreWLAN==10.1 in /Users/work/work-worldmodel2023/venv-mpe/lib/python3.8/site-packages (from PyObjC) (10.1)\n",
      "Requirement already satisfied: pyobjc-framework-ImageCaptureCore==10.1 in /Users/work/work-worldmodel2023/venv-mpe/lib/python3.8/site-packages (from PyObjC) (10.1)\n",
      "Requirement already satisfied: pyobjc-framework-IOSurface==10.1 in /Users/work/work-worldmodel2023/venv-mpe/lib/python3.8/site-packages (from PyObjC) (10.1)\n",
      "Requirement already satisfied: pyobjc-framework-NetFS==10.1 in /Users/work/work-worldmodel2023/venv-mpe/lib/python3.8/site-packages (from PyObjC) (10.1)\n",
      "Requirement already satisfied: pyobjc-framework-OpenDirectory==10.1 in /Users/work/work-worldmodel2023/venv-mpe/lib/python3.8/site-packages (from PyObjC) (10.1)\n",
      "Requirement already satisfied: pyobjc-framework-ServiceManagement==10.1 in /Users/work/work-worldmodel2023/venv-mpe/lib/python3.8/site-packages (from PyObjC) (10.1)\n",
      "Requirement already satisfied: pyobjc-framework-iTunesLibrary==10.1 in /Users/work/work-worldmodel2023/venv-mpe/lib/python3.8/site-packages (from PyObjC) (10.1)\n",
      "Requirement already satisfied: pyobjc-framework-AVFoundation==10.1 in /Users/work/work-worldmodel2023/venv-mpe/lib/python3.8/site-packages (from PyObjC) (10.1)\n",
      "Requirement already satisfied: pyobjc-framework-CoreMedia==10.1 in /Users/work/work-worldmodel2023/venv-mpe/lib/python3.8/site-packages (from PyObjC) (10.1)\n",
      "Requirement already satisfied: pyobjc-framework-CoreMediaIO==10.1 in /Users/work/work-worldmodel2023/venv-mpe/lib/python3.8/site-packages (from PyObjC) (10.1)\n",
      "Requirement already satisfied: pyobjc-framework-StoreKit==10.1 in /Users/work/work-worldmodel2023/venv-mpe/lib/python3.8/site-packages (from PyObjC) (10.1)\n",
      "Requirement already satisfied: pyobjc-framework-SceneKit==10.1 in /Users/work/work-worldmodel2023/venv-mpe/lib/python3.8/site-packages (from PyObjC) (10.1)\n",
      "Requirement already satisfied: pyobjc-framework-libdispatch==10.1 in /Users/work/work-worldmodel2023/venv-mpe/lib/python3.8/site-packages (from PyObjC) (10.1)\n",
      "Requirement already satisfied: pyobjc-framework-libxpc==10.1 in /Users/work/work-worldmodel2023/venv-mpe/lib/python3.8/site-packages (from PyObjC) (10.1)\n",
      "Requirement already satisfied: pyobjc-framework-AudioVideoBridging==10.1 in /Users/work/work-worldmodel2023/venv-mpe/lib/python3.8/site-packages (from PyObjC) (10.1)\n",
      "Requirement already satisfied: pyobjc-framework-Accounts==10.1 in /Users/work/work-worldmodel2023/venv-mpe/lib/python3.8/site-packages (from PyObjC) (10.1)\n",
      "Requirement already satisfied: pyobjc-framework-EventKit==10.1 in /Users/work/work-worldmodel2023/venv-mpe/lib/python3.8/site-packages (from PyObjC) (10.1)\n",
      "Requirement already satisfied: pyobjc-framework-GameCenter==10.1 in /Users/work/work-worldmodel2023/venv-mpe/lib/python3.8/site-packages (from PyObjC) (10.1)\n",
      "Requirement already satisfied: pyobjc-framework-Social==10.1 in /Users/work/work-worldmodel2023/venv-mpe/lib/python3.8/site-packages (from PyObjC) (10.1)\n",
      "Requirement already satisfied: pyobjc-framework-GameKit==10.1 in /Users/work/work-worldmodel2023/venv-mpe/lib/python3.8/site-packages (from PyObjC) (10.1)\n",
      "Requirement already satisfied: pyobjc-framework-VideoToolbox==10.1 in /Users/work/work-worldmodel2023/venv-mpe/lib/python3.8/site-packages (from PyObjC) (10.1)\n",
      "Requirement already satisfied: pyobjc-framework-AVKit==10.1 in /Users/work/work-worldmodel2023/venv-mpe/lib/python3.8/site-packages (from PyObjC) (10.1)\n",
      "Requirement already satisfied: pyobjc-framework-GameController==10.1 in /Users/work/work-worldmodel2023/venv-mpe/lib/python3.8/site-packages (from PyObjC) (10.1)\n",
      "Requirement already satisfied: pyobjc-framework-MapKit==10.1 in /Users/work/work-worldmodel2023/venv-mpe/lib/python3.8/site-packages (from PyObjC) (10.1)\n",
      "Requirement already satisfied: pyobjc-framework-MediaAccessibility==10.1 in /Users/work/work-worldmodel2023/venv-mpe/lib/python3.8/site-packages (from PyObjC) (10.1)\n",
      "Requirement already satisfied: pyobjc-framework-MediaLibrary==10.1 in /Users/work/work-worldmodel2023/venv-mpe/lib/python3.8/site-packages (from PyObjC) (10.1)\n",
      "Requirement already satisfied: pyobjc-framework-MediaToolbox==10.1 in /Users/work/work-worldmodel2023/venv-mpe/lib/python3.8/site-packages (from PyObjC) (10.1)\n",
      "Requirement already satisfied: pyobjc-framework-SpriteKit==10.1 in /Users/work/work-worldmodel2023/venv-mpe/lib/python3.8/site-packages (from PyObjC) (10.1)\n",
      "Requirement already satisfied: pyobjc-framework-CloudKit==10.1 in /Users/work/work-worldmodel2023/venv-mpe/lib/python3.8/site-packages (from PyObjC) (10.1)\n",
      "Requirement already satisfied: pyobjc-framework-CoreBluetooth==10.1 in /Users/work/work-worldmodel2023/venv-mpe/lib/python3.8/site-packages (from PyObjC) (10.1)\n",
      "Requirement already satisfied: pyobjc-framework-CryptoTokenKit==10.1 in /Users/work/work-worldmodel2023/venv-mpe/lib/python3.8/site-packages (from PyObjC) (10.1)\n",
      "Requirement already satisfied: pyobjc-framework-FinderSync==10.1 in /Users/work/work-worldmodel2023/venv-mpe/lib/python3.8/site-packages (from PyObjC) (10.1)\n",
      "Requirement already satisfied: pyobjc-framework-LocalAuthentication==10.1 in /Users/work/work-worldmodel2023/venv-mpe/lib/python3.8/site-packages (from PyObjC) (10.1)\n",
      "Requirement already satisfied: pyobjc-framework-MultipeerConnectivity==10.1 in /Users/work/work-worldmodel2023/venv-mpe/lib/python3.8/site-packages (from PyObjC) (10.1)\n",
      "Requirement already satisfied: pyobjc-framework-NotificationCenter==10.1 in /Users/work/work-worldmodel2023/venv-mpe/lib/python3.8/site-packages (from PyObjC) (10.1)\n",
      "Requirement already satisfied: pyobjc-framework-Contacts==10.1 in /Users/work/work-worldmodel2023/venv-mpe/lib/python3.8/site-packages (from PyObjC) (10.1)\n",
      "Requirement already satisfied: pyobjc-framework-ContactsUI==10.1 in /Users/work/work-worldmodel2023/venv-mpe/lib/python3.8/site-packages (from PyObjC) (10.1)\n",
      "Requirement already satisfied: pyobjc-framework-Metal==10.1 in /Users/work/work-worldmodel2023/venv-mpe/lib/python3.8/site-packages (from PyObjC) (10.1)\n",
      "Requirement already satisfied: pyobjc-framework-MetalKit==10.1 in /Users/work/work-worldmodel2023/venv-mpe/lib/python3.8/site-packages (from PyObjC) (10.1)\n",
      "Requirement already satisfied: pyobjc-framework-ModelIO==10.1 in /Users/work/work-worldmodel2023/venv-mpe/lib/python3.8/site-packages (from PyObjC) (10.1)\n",
      "Requirement already satisfied: pyobjc-framework-NetworkExtension==10.1 in /Users/work/work-worldmodel2023/venv-mpe/lib/python3.8/site-packages (from PyObjC) (10.1)\n",
      "Requirement already satisfied: pyobjc-framework-Photos==10.1 in /Users/work/work-worldmodel2023/venv-mpe/lib/python3.8/site-packages (from PyObjC) (10.1)\n",
      "Requirement already satisfied: pyobjc-framework-PhotosUI==10.1 in /Users/work/work-worldmodel2023/venv-mpe/lib/python3.8/site-packages (from PyObjC) (10.1)\n",
      "Requirement already satisfied: pyobjc-framework-GameplayKit==10.1 in /Users/work/work-worldmodel2023/venv-mpe/lib/python3.8/site-packages (from PyObjC) (10.1)\n",
      "Requirement already satisfied: pyobjc-framework-Intents==10.1 in /Users/work/work-worldmodel2023/venv-mpe/lib/python3.8/site-packages (from PyObjC) (10.1)\n",
      "Requirement already satisfied: pyobjc-framework-MediaPlayer==10.1 in /Users/work/work-worldmodel2023/venv-mpe/lib/python3.8/site-packages (from PyObjC) (10.1)\n",
      "Requirement already satisfied: pyobjc-framework-SafariServices==10.1 in /Users/work/work-worldmodel2023/venv-mpe/lib/python3.8/site-packages (from PyObjC) (10.1)\n",
      "Requirement already satisfied: pyobjc-framework-ColorSync==10.1 in /Users/work/work-worldmodel2023/venv-mpe/lib/python3.8/site-packages (from PyObjC) (10.1)\n",
      "Requirement already satisfied: pyobjc-framework-CoreML==10.1 in /Users/work/work-worldmodel2023/venv-mpe/lib/python3.8/site-packages (from PyObjC) (10.1)\n",
      "Requirement already satisfied: pyobjc-framework-CoreSpotlight==10.1 in /Users/work/work-worldmodel2023/venv-mpe/lib/python3.8/site-packages (from PyObjC) (10.1)\n",
      "Requirement already satisfied: pyobjc-framework-ExternalAccessory==10.1 in /Users/work/work-worldmodel2023/venv-mpe/lib/python3.8/site-packages (from PyObjC) (10.1)\n",
      "Requirement already satisfied: pyobjc-framework-MetalPerformanceShaders==10.1 in /Users/work/work-worldmodel2023/venv-mpe/lib/python3.8/site-packages (from PyObjC) (10.1)\n",
      "Requirement already satisfied: pyobjc-framework-Vision==10.1 in /Users/work/work-worldmodel2023/venv-mpe/lib/python3.8/site-packages (from PyObjC) (10.1)\n",
      "Requirement already satisfied: pyobjc-framework-AdSupport==10.1 in /Users/work/work-worldmodel2023/venv-mpe/lib/python3.8/site-packages (from PyObjC) (10.1)\n",
      "Requirement already satisfied: pyobjc-framework-BusinessChat==10.1 in /Users/work/work-worldmodel2023/venv-mpe/lib/python3.8/site-packages (from PyObjC) (10.1)\n",
      "Requirement already satisfied: pyobjc-framework-NaturalLanguage==10.1 in /Users/work/work-worldmodel2023/venv-mpe/lib/python3.8/site-packages (from PyObjC) (10.1)\n",
      "Requirement already satisfied: pyobjc-framework-Network==10.1 in /Users/work/work-worldmodel2023/venv-mpe/lib/python3.8/site-packages (from PyObjC) (10.1)\n",
      "Requirement already satisfied: pyobjc-framework-UserNotifications==10.1 in /Users/work/work-worldmodel2023/venv-mpe/lib/python3.8/site-packages (from PyObjC) (10.1)\n",
      "Requirement already satisfied: pyobjc-framework-VideoSubscriberAccount==10.1 in /Users/work/work-worldmodel2023/venv-mpe/lib/python3.8/site-packages (from PyObjC) (10.1)\n",
      "Requirement already satisfied: pyobjc-framework-AuthenticationServices==10.1 in /Users/work/work-worldmodel2023/venv-mpe/lib/python3.8/site-packages (from PyObjC) (10.1)\n",
      "Requirement already satisfied: pyobjc-framework-AutomaticAssessmentConfiguration==10.1 in /Users/work/work-worldmodel2023/venv-mpe/lib/python3.8/site-packages (from PyObjC) (10.1)\n",
      "Requirement already satisfied: pyobjc-framework-CoreHaptics==10.1 in /Users/work/work-worldmodel2023/venv-mpe/lib/python3.8/site-packages (from PyObjC) (10.1)\n",
      "Requirement already satisfied: pyobjc-framework-CoreMotion==10.1 in /Users/work/work-worldmodel2023/venv-mpe/lib/python3.8/site-packages (from PyObjC) (10.1)\n",
      "Requirement already satisfied: pyobjc-framework-DeviceCheck==10.1 in /Users/work/work-worldmodel2023/venv-mpe/lib/python3.8/site-packages (from PyObjC) (10.1)\n",
      "Requirement already satisfied: pyobjc-framework-ExecutionPolicy==10.1 in /Users/work/work-worldmodel2023/venv-mpe/lib/python3.8/site-packages (from PyObjC) (10.1)\n",
      "Requirement already satisfied: pyobjc-framework-FileProvider==10.1 in /Users/work/work-worldmodel2023/venv-mpe/lib/python3.8/site-packages (from PyObjC) (10.1)\n",
      "Requirement already satisfied: pyobjc-framework-FileProviderUI==10.1 in /Users/work/work-worldmodel2023/venv-mpe/lib/python3.8/site-packages (from PyObjC) (10.1)\n",
      "Requirement already satisfied: pyobjc-framework-LinkPresentation==10.1 in /Users/work/work-worldmodel2023/venv-mpe/lib/python3.8/site-packages (from PyObjC) (10.1)\n",
      "Requirement already satisfied: pyobjc-framework-OSLog==10.1 in /Users/work/work-worldmodel2023/venv-mpe/lib/python3.8/site-packages (from PyObjC) (10.1)\n",
      "Requirement already satisfied: pyobjc-framework-PencilKit==10.1 in /Users/work/work-worldmodel2023/venv-mpe/lib/python3.8/site-packages (from PyObjC) (10.1)\n",
      "Requirement already satisfied: pyobjc-framework-PushKit==10.1 in /Users/work/work-worldmodel2023/venv-mpe/lib/python3.8/site-packages (from PyObjC) (10.1)\n",
      "Requirement already satisfied: pyobjc-framework-QuickLookThumbnailing==10.1 in /Users/work/work-worldmodel2023/venv-mpe/lib/python3.8/site-packages (from PyObjC) (10.1)\n",
      "Requirement already satisfied: pyobjc-framework-Speech==10.1 in /Users/work/work-worldmodel2023/venv-mpe/lib/python3.8/site-packages (from PyObjC) (10.1)\n",
      "Requirement already satisfied: pyobjc-framework-SoundAnalysis==10.1 in /Users/work/work-worldmodel2023/venv-mpe/lib/python3.8/site-packages (from PyObjC) (10.1)\n",
      "Requirement already satisfied: pyobjc-framework-SystemExtensions==10.1 in /Users/work/work-worldmodel2023/venv-mpe/lib/python3.8/site-packages (from PyObjC) (10.1)\n",
      "Requirement already satisfied: pyobjc-framework-Accessibility==10.1 in /Users/work/work-worldmodel2023/venv-mpe/lib/python3.8/site-packages (from PyObjC) (10.1)\n",
      "Requirement already satisfied: pyobjc-framework-AdServices==10.1 in /Users/work/work-worldmodel2023/venv-mpe/lib/python3.8/site-packages (from PyObjC) (10.1)\n",
      "Requirement already satisfied: pyobjc-framework-AppTrackingTransparency==10.1 in /Users/work/work-worldmodel2023/venv-mpe/lib/python3.8/site-packages (from PyObjC) (10.1)\n",
      "Requirement already satisfied: pyobjc-framework-CallKit==10.1 in /Users/work/work-worldmodel2023/venv-mpe/lib/python3.8/site-packages (from PyObjC) (10.1)\n",
      "Requirement already satisfied: pyobjc-framework-ClassKit==10.1 in /Users/work/work-worldmodel2023/venv-mpe/lib/python3.8/site-packages (from PyObjC) (10.1)\n",
      "Requirement already satisfied: pyobjc-framework-KernelManagement==10.1 in /Users/work/work-worldmodel2023/venv-mpe/lib/python3.8/site-packages (from PyObjC) (10.1)\n",
      "Requirement already satisfied: pyobjc-framework-MetalPerformanceShadersGraph==10.1 in /Users/work/work-worldmodel2023/venv-mpe/lib/python3.8/site-packages (from PyObjC) (10.1)\n",
      "Requirement already satisfied: pyobjc-framework-MLCompute==10.1 in /Users/work/work-worldmodel2023/venv-mpe/lib/python3.8/site-packages (from PyObjC) (10.1)\n",
      "Requirement already satisfied: pyobjc-framework-PassKit==10.1 in /Users/work/work-worldmodel2023/venv-mpe/lib/python3.8/site-packages (from PyObjC) (10.1)\n",
      "Requirement already satisfied: pyobjc-framework-ReplayKit==10.1 in /Users/work/work-worldmodel2023/venv-mpe/lib/python3.8/site-packages (from PyObjC) (10.1)\n",
      "Requirement already satisfied: pyobjc-framework-ScreenTime==10.1 in /Users/work/work-worldmodel2023/venv-mpe/lib/python3.8/site-packages (from PyObjC) (10.1)\n",
      "Requirement already satisfied: pyobjc-framework-UniformTypeIdentifiers==10.1 in /Users/work/work-worldmodel2023/venv-mpe/lib/python3.8/site-packages (from PyObjC) (10.1)\n",
      "Requirement already satisfied: pyobjc-framework-UserNotificationsUI==10.1 in /Users/work/work-worldmodel2023/venv-mpe/lib/python3.8/site-packages (from PyObjC) (10.1)\n",
      "Requirement already satisfied: pyobjc-framework-Virtualization==10.1 in /Users/work/work-worldmodel2023/venv-mpe/lib/python3.8/site-packages (from PyObjC) (10.1)\n",
      "Requirement already satisfied: pyobjc-framework-DataDetection==10.1 in /Users/work/work-worldmodel2023/venv-mpe/lib/python3.8/site-packages (from PyObjC) (10.1)\n",
      "Requirement already satisfied: pyobjc-framework-IntentsUI==10.1 in /Users/work/work-worldmodel2023/venv-mpe/lib/python3.8/site-packages (from PyObjC) (10.1)\n",
      "Requirement already satisfied: pyobjc-framework-LocalAuthenticationEmbeddedUI==10.1 in /Users/work/work-worldmodel2023/venv-mpe/lib/python3.8/site-packages (from PyObjC) (10.1)\n",
      "Requirement already satisfied: pyobjc-framework-MailKit==10.1 in /Users/work/work-worldmodel2023/venv-mpe/lib/python3.8/site-packages (from PyObjC) (10.1)\n",
      "Requirement already satisfied: pyobjc-framework-MetricKit==10.1 in /Users/work/work-worldmodel2023/venv-mpe/lib/python3.8/site-packages (from PyObjC) (10.1)\n",
      "Requirement already satisfied: pyobjc-framework-PHASE==10.1 in /Users/work/work-worldmodel2023/venv-mpe/lib/python3.8/site-packages (from PyObjC) (10.1)\n",
      "Requirement already satisfied: pyobjc-framework-ShazamKit==10.1 in /Users/work/work-worldmodel2023/venv-mpe/lib/python3.8/site-packages (from PyObjC) (10.1)\n",
      "Requirement already satisfied: pyobjc-framework-ScreenCaptureKit==10.1 in /Users/work/work-worldmodel2023/venv-mpe/lib/python3.8/site-packages (from PyObjC) (10.1)\n",
      "Requirement already satisfied: pyobjc-framework-AVRouting==10.1 in /Users/work/work-worldmodel2023/venv-mpe/lib/python3.8/site-packages (from PyObjC) (10.1)\n",
      "Requirement already satisfied: pyobjc-framework-BackgroundAssets==10.1 in /Users/work/work-worldmodel2023/venv-mpe/lib/python3.8/site-packages (from PyObjC) (10.1)\n",
      "Requirement already satisfied: pyobjc-framework-ExtensionKit==10.1 in /Users/work/work-worldmodel2023/venv-mpe/lib/python3.8/site-packages (from PyObjC) (10.1)\n",
      "Requirement already satisfied: pyobjc-framework-HealthKit==10.1 in /Users/work/work-worldmodel2023/venv-mpe/lib/python3.8/site-packages (from PyObjC) (10.1)\n",
      "Requirement already satisfied: pyobjc-framework-MetalFX==10.1 in /Users/work/work-worldmodel2023/venv-mpe/lib/python3.8/site-packages (from PyObjC) (10.1)\n",
      "Requirement already satisfied: pyobjc-framework-SafetyKit==10.1 in /Users/work/work-worldmodel2023/venv-mpe/lib/python3.8/site-packages (from PyObjC) (10.1)\n",
      "Requirement already satisfied: pyobjc-framework-SharedWithYouCore==10.1 in /Users/work/work-worldmodel2023/venv-mpe/lib/python3.8/site-packages (from PyObjC) (10.1)\n",
      "Requirement already satisfied: pyobjc-framework-SharedWithYou==10.1 in /Users/work/work-worldmodel2023/venv-mpe/lib/python3.8/site-packages (from PyObjC) (10.1)\n",
      "Requirement already satisfied: pyobjc-framework-ThreadNetwork==10.1 in /Users/work/work-worldmodel2023/venv-mpe/lib/python3.8/site-packages (from PyObjC) (10.1)\n",
      "Requirement already satisfied: pyobjc-framework-CalendarStore==10.1 in /Users/work/work-worldmodel2023/venv-mpe/lib/python3.8/site-packages (from PyObjC) (10.1)\n",
      "Requirement already satisfied: pyobjc-framework-Collaboration==10.1 in /Users/work/work-worldmodel2023/venv-mpe/lib/python3.8/site-packages (from PyObjC) (10.1)\n",
      "Requirement already satisfied: pyobjc-framework-DictionaryServices==10.1 in /Users/work/work-worldmodel2023/venv-mpe/lib/python3.8/site-packages (from PyObjC) (10.1)\n",
      "Requirement already satisfied: pyobjc-framework-FSEvents==10.1 in /Users/work/work-worldmodel2023/venv-mpe/lib/python3.8/site-packages (from PyObjC) (10.1)\n",
      "Requirement already satisfied: pyobjc-framework-InputMethodKit==10.1 in /Users/work/work-worldmodel2023/venv-mpe/lib/python3.8/site-packages (from PyObjC) (10.1)\n",
      "Requirement already satisfied: pyobjc-framework-InstantMessage==10.1 in /Users/work/work-worldmodel2023/venv-mpe/lib/python3.8/site-packages (from PyObjC) (10.1)\n",
      "Requirement already satisfied: pyobjc-framework-ScriptingBridge==10.1 in /Users/work/work-worldmodel2023/venv-mpe/lib/python3.8/site-packages (from PyObjC) (10.1)\n"
     ]
    }
   ],
   "source": [
    "!python3 -m pip install playsound\n",
    "!python3 -m pip install PyObjC"
   ]
  },
  {
   "cell_type": "code",
   "execution_count": 3,
   "id": "3d2e6aa6",
   "metadata": {
    "scrolled": true
   },
   "outputs": [
    {
     "name": "stdout",
     "output_type": "stream",
     "text": [
      "zsh:1: no matches found: pettingzoo[mpe]\n",
      "Requirement already satisfied: agilerl in /Users/work/work-worldmodel2023/venv-mpe/lib/python3.8/site-packages (0.1.19)\n",
      "Requirement already satisfied: SuperSuit<4.0.0,>=3.9.0 in /Users/work/work-worldmodel2023/venv-mpe/lib/python3.8/site-packages (from agilerl) (3.9.1)\n",
      "Requirement already satisfied: accelerate<0.19.0,>=0.18.0 in /Users/work/work-worldmodel2023/venv-mpe/lib/python3.8/site-packages (from agilerl) (0.18.0)\n",
      "Requirement already satisfied: dill<0.4.0,>=0.3.7 in /Users/work/work-worldmodel2023/venv-mpe/lib/python3.8/site-packages (from agilerl) (0.3.7)\n",
      "Requirement already satisfied: fastrand<2.0.0,>=1.3.0 in /Users/work/work-worldmodel2023/venv-mpe/lib/python3.8/site-packages (from agilerl) (1.8.0)\n",
      "Requirement already satisfied: flatten_dict<0.5.0,>=0.4.2 in /Users/work/work-worldmodel2023/venv-mpe/lib/python3.8/site-packages (from agilerl) (0.4.2)\n",
      "Requirement already satisfied: gymnasium<0.29.0,>=0.28.1 in /Users/work/work-worldmodel2023/venv-mpe/lib/python3.8/site-packages (from agilerl) (0.28.1)\n",
      "Requirement already satisfied: h5py<4.0.0,>=3.8.0 in /Users/work/work-worldmodel2023/venv-mpe/lib/python3.8/site-packages (from agilerl) (3.10.0)\n",
      "Requirement already satisfied: hydra-core<2.0.0,>=1.3.2 in /Users/work/work-worldmodel2023/venv-mpe/lib/python3.8/site-packages (from agilerl) (1.3.2)\n",
      "Requirement already satisfied: matplotlib<4.0.0,>=3.4.3 in /Users/work/work-worldmodel2023/venv-mpe/lib/python3.8/site-packages (from agilerl) (3.7.4)\n",
      "Requirement already satisfied: minari<0.5.0,>=0.4.1 in /Users/work/work-worldmodel2023/venv-mpe/lib/python3.8/site-packages (from agilerl) (0.4.2)\n",
      "Requirement already satisfied: numpy<2.0.0,>=1.24.2 in /Users/work/work-worldmodel2023/venv-mpe/lib/python3.8/site-packages (from agilerl) (1.24.4)\n",
      "Requirement already satisfied: omegaconf<3.0.0,>=2.3.0 in /Users/work/work-worldmodel2023/venv-mpe/lib/python3.8/site-packages (from agilerl) (2.3.0)\n",
      "Requirement already satisfied: pettingzoo<2.0.0,>=1.23.1 in /Users/work/work-worldmodel2023/venv-mpe/lib/python3.8/site-packages (from agilerl) (1.24.2)\n",
      "Requirement already satisfied: pre-commit<4.0.0,>=3.4.0 in /Users/work/work-worldmodel2023/venv-mpe/lib/python3.8/site-packages (from agilerl) (3.5.0)\n",
      "Requirement already satisfied: redis<5.0.0,>=4.4.4 in /Users/work/work-worldmodel2023/venv-mpe/lib/python3.8/site-packages (from agilerl) (4.6.0)\n",
      "Requirement already satisfied: termcolor<2.0.0,>=1.1.0 in /Users/work/work-worldmodel2023/venv-mpe/lib/python3.8/site-packages (from agilerl) (1.1.0)\n",
      "Requirement already satisfied: torch<3.0.0,>=2.0.1 in /Users/work/work-worldmodel2023/venv-mpe/lib/python3.8/site-packages (from agilerl) (2.1.2)\n",
      "Requirement already satisfied: tqdm<5.0.0,>=4.65.0 in /Users/work/work-worldmodel2023/venv-mpe/lib/python3.8/site-packages (from agilerl) (4.66.1)\n",
      "Requirement already satisfied: transformers<5.0.0,>=4.30.0 in /Users/work/work-worldmodel2023/venv-mpe/lib/python3.8/site-packages (from agilerl) (4.36.1)\n",
      "Requirement already satisfied: wandb<0.14.0,>=0.13.10 in /Users/work/work-worldmodel2023/venv-mpe/lib/python3.8/site-packages (from agilerl) (0.13.11)\n",
      "Requirement already satisfied: packaging>=20.0 in /Users/work/work-worldmodel2023/venv-mpe/lib/python3.8/site-packages (from accelerate<0.19.0,>=0.18.0->agilerl) (23.1)\n",
      "Requirement already satisfied: psutil in /Users/work/work-worldmodel2023/venv-mpe/lib/python3.8/site-packages (from accelerate<0.19.0,>=0.18.0->agilerl) (5.9.6)\n",
      "Requirement already satisfied: pyyaml in /Users/work/work-worldmodel2023/venv-mpe/lib/python3.8/site-packages (from accelerate<0.19.0,>=0.18.0->agilerl) (6.0.1)\n",
      "Requirement already satisfied: six<2.0,>=1.12 in /Users/work/work-worldmodel2023/venv-mpe/lib/python3.8/site-packages (from flatten_dict<0.5.0,>=0.4.2->agilerl) (1.16.0)\n",
      "Requirement already satisfied: jax-jumpy>=1.0.0 in /Users/work/work-worldmodel2023/venv-mpe/lib/python3.8/site-packages (from gymnasium<0.29.0,>=0.28.1->agilerl) (1.0.0)\n",
      "Requirement already satisfied: cloudpickle>=1.2.0 in /Users/work/work-worldmodel2023/venv-mpe/lib/python3.8/site-packages (from gymnasium<0.29.0,>=0.28.1->agilerl) (3.0.0)\n",
      "Requirement already satisfied: typing-extensions>=4.3.0 in /Users/work/work-worldmodel2023/venv-mpe/lib/python3.8/site-packages (from gymnasium<0.29.0,>=0.28.1->agilerl) (4.8.0)\n",
      "Requirement already satisfied: farama-notifications>=0.0.1 in /Users/work/work-worldmodel2023/venv-mpe/lib/python3.8/site-packages (from gymnasium<0.29.0,>=0.28.1->agilerl) (0.0.4)\n",
      "Requirement already satisfied: importlib-metadata>=4.8.0 in /Users/work/work-worldmodel2023/venv-mpe/lib/python3.8/site-packages (from gymnasium<0.29.0,>=0.28.1->agilerl) (6.8.0)\n",
      "Requirement already satisfied: antlr4-python3-runtime==4.9.* in /Users/work/work-worldmodel2023/venv-mpe/lib/python3.8/site-packages (from hydra-core<2.0.0,>=1.3.2->agilerl) (4.9.3)\n",
      "Requirement already satisfied: importlib-resources in /Users/work/work-worldmodel2023/venv-mpe/lib/python3.8/site-packages (from hydra-core<2.0.0,>=1.3.2->agilerl) (6.1.1)\n",
      "Requirement already satisfied: contourpy>=1.0.1 in /Users/work/work-worldmodel2023/venv-mpe/lib/python3.8/site-packages (from matplotlib<4.0.0,>=3.4.3->agilerl) (1.1.1)\n",
      "Requirement already satisfied: cycler>=0.10 in /Users/work/work-worldmodel2023/venv-mpe/lib/python3.8/site-packages (from matplotlib<4.0.0,>=3.4.3->agilerl) (0.12.1)\n",
      "Requirement already satisfied: fonttools>=4.22.0 in /Users/work/work-worldmodel2023/venv-mpe/lib/python3.8/site-packages (from matplotlib<4.0.0,>=3.4.3->agilerl) (4.46.0)\n",
      "Requirement already satisfied: kiwisolver>=1.0.1 in /Users/work/work-worldmodel2023/venv-mpe/lib/python3.8/site-packages (from matplotlib<4.0.0,>=3.4.3->agilerl) (1.4.5)\n",
      "Requirement already satisfied: pillow>=6.2.0 in /Users/work/work-worldmodel2023/venv-mpe/lib/python3.8/site-packages (from matplotlib<4.0.0,>=3.4.3->agilerl) (10.1.0)\n",
      "Requirement already satisfied: pyparsing>=2.3.1 in /Users/work/work-worldmodel2023/venv-mpe/lib/python3.8/site-packages (from matplotlib<4.0.0,>=3.4.3->agilerl) (3.1.1)\n",
      "Requirement already satisfied: python-dateutil>=2.7 in /Users/work/work-worldmodel2023/venv-mpe/lib/python3.8/site-packages (from matplotlib<4.0.0,>=3.4.3->agilerl) (2.8.2)\n",
      "Requirement already satisfied: google-cloud-storage==2.5.0 in /Users/work/work-worldmodel2023/venv-mpe/lib/python3.8/site-packages (from minari<0.5.0,>=0.4.1->agilerl) (2.5.0)\n",
      "Requirement already satisfied: typer==0.9.0 in /Users/work/work-worldmodel2023/venv-mpe/lib/python3.8/site-packages (from typer[all]==0.9.0->minari<0.5.0,>=0.4.1->agilerl) (0.9.0)\n",
      "Requirement already satisfied: portion==2.4.0 in /Users/work/work-worldmodel2023/venv-mpe/lib/python3.8/site-packages (from minari<0.5.0,>=0.4.1->agilerl) (2.4.0)\n",
      "Requirement already satisfied: google-auth<3.0dev,>=1.25.0 in /Users/work/work-worldmodel2023/venv-mpe/lib/python3.8/site-packages (from google-cloud-storage==2.5.0->minari<0.5.0,>=0.4.1->agilerl) (2.25.2)\n",
      "Requirement already satisfied: google-api-core!=2.0.*,!=2.1.*,!=2.2.*,!=2.3.0,<3.0.0dev,>=1.31.5 in /Users/work/work-worldmodel2023/venv-mpe/lib/python3.8/site-packages (from google-cloud-storage==2.5.0->minari<0.5.0,>=0.4.1->agilerl) (2.15.0)\n",
      "Requirement already satisfied: google-cloud-core<3.0dev,>=2.3.0 in /Users/work/work-worldmodel2023/venv-mpe/lib/python3.8/site-packages (from google-cloud-storage==2.5.0->minari<0.5.0,>=0.4.1->agilerl) (2.4.1)\n",
      "Requirement already satisfied: google-resumable-media>=2.3.2 in /Users/work/work-worldmodel2023/venv-mpe/lib/python3.8/site-packages (from google-cloud-storage==2.5.0->minari<0.5.0,>=0.4.1->agilerl) (2.7.0)\n",
      "Requirement already satisfied: requests<3.0.0dev,>=2.18.0 in /Users/work/work-worldmodel2023/venv-mpe/lib/python3.8/site-packages (from google-cloud-storage==2.5.0->minari<0.5.0,>=0.4.1->agilerl) (2.31.0)\n",
      "Requirement already satisfied: sortedcontainers~=2.2 in /Users/work/work-worldmodel2023/venv-mpe/lib/python3.8/site-packages (from portion==2.4.0->minari<0.5.0,>=0.4.1->agilerl) (2.4.0)\n",
      "Requirement already satisfied: click<9.0.0,>=7.1.1 in /Users/work/work-worldmodel2023/venv-mpe/lib/python3.8/site-packages (from typer==0.9.0->typer[all]==0.9.0->minari<0.5.0,>=0.4.1->agilerl) (8.1.7)\n",
      "Requirement already satisfied: colorama<0.5.0,>=0.4.3 in /Users/work/work-worldmodel2023/venv-mpe/lib/python3.8/site-packages (from typer[all]==0.9.0->minari<0.5.0,>=0.4.1->agilerl) (0.4.6)\n",
      "Requirement already satisfied: shellingham<2.0.0,>=1.3.0 in /Users/work/work-worldmodel2023/venv-mpe/lib/python3.8/site-packages (from typer[all]==0.9.0->minari<0.5.0,>=0.4.1->agilerl) (1.5.4)\n",
      "Requirement already satisfied: rich<14.0.0,>=10.11.0 in /Users/work/work-worldmodel2023/venv-mpe/lib/python3.8/site-packages (from typer[all]==0.9.0->minari<0.5.0,>=0.4.1->agilerl) (13.7.0)\n",
      "Requirement already satisfied: cfgv>=2.0.0 in /Users/work/work-worldmodel2023/venv-mpe/lib/python3.8/site-packages (from pre-commit<4.0.0,>=3.4.0->agilerl) (3.4.0)\n",
      "Requirement already satisfied: identify>=1.0.0 in /Users/work/work-worldmodel2023/venv-mpe/lib/python3.8/site-packages (from pre-commit<4.0.0,>=3.4.0->agilerl) (2.5.33)\n",
      "Requirement already satisfied: nodeenv>=0.11.1 in /Users/work/work-worldmodel2023/venv-mpe/lib/python3.8/site-packages (from pre-commit<4.0.0,>=3.4.0->agilerl) (1.8.0)\n",
      "Requirement already satisfied: virtualenv>=20.10.0 in /Users/work/work-worldmodel2023/venv-mpe/lib/python3.8/site-packages (from pre-commit<4.0.0,>=3.4.0->agilerl) (20.25.0)\n",
      "Requirement already satisfied: async-timeout>=4.0.2 in /Users/work/work-worldmodel2023/venv-mpe/lib/python3.8/site-packages (from redis<5.0.0,>=4.4.4->agilerl) (4.0.3)\n",
      "Requirement already satisfied: tinyscaler>=1.2.6 in /Users/work/work-worldmodel2023/venv-mpe/lib/python3.8/site-packages (from SuperSuit<4.0.0,>=3.9.0->agilerl) (1.2.7)\n",
      "Requirement already satisfied: filelock in /Users/work/work-worldmodel2023/venv-mpe/lib/python3.8/site-packages (from torch<3.0.0,>=2.0.1->agilerl) (3.13.1)\n",
      "Requirement already satisfied: sympy in /Users/work/work-worldmodel2023/venv-mpe/lib/python3.8/site-packages (from torch<3.0.0,>=2.0.1->agilerl) (1.12)\n",
      "Requirement already satisfied: networkx in /Users/work/work-worldmodel2023/venv-mpe/lib/python3.8/site-packages (from torch<3.0.0,>=2.0.1->agilerl) (3.1)\n",
      "Requirement already satisfied: jinja2 in /Users/work/work-worldmodel2023/venv-mpe/lib/python3.8/site-packages (from torch<3.0.0,>=2.0.1->agilerl) (3.1.2)\n",
      "Requirement already satisfied: fsspec in /Users/work/work-worldmodel2023/venv-mpe/lib/python3.8/site-packages (from torch<3.0.0,>=2.0.1->agilerl) (2023.12.2)\n",
      "Requirement already satisfied: huggingface-hub<1.0,>=0.19.3 in /Users/work/work-worldmodel2023/venv-mpe/lib/python3.8/site-packages (from transformers<5.0.0,>=4.30.0->agilerl) (0.19.4)\n",
      "Requirement already satisfied: regex!=2019.12.17 in /Users/work/work-worldmodel2023/venv-mpe/lib/python3.8/site-packages (from transformers<5.0.0,>=4.30.0->agilerl) (2023.10.3)\n",
      "Requirement already satisfied: tokenizers<0.19,>=0.14 in /Users/work/work-worldmodel2023/venv-mpe/lib/python3.8/site-packages (from transformers<5.0.0,>=4.30.0->agilerl) (0.15.0)\n",
      "Requirement already satisfied: safetensors>=0.3.1 in /Users/work/work-worldmodel2023/venv-mpe/lib/python3.8/site-packages (from transformers<5.0.0,>=4.30.0->agilerl) (0.4.1)\n",
      "Requirement already satisfied: GitPython!=3.1.29,>=1.0.0 in /Users/work/work-worldmodel2023/venv-mpe/lib/python3.8/site-packages (from wandb<0.14.0,>=0.13.10->agilerl) (3.1.40)\n",
      "Requirement already satisfied: sentry-sdk>=1.0.0 in /Users/work/work-worldmodel2023/venv-mpe/lib/python3.8/site-packages (from wandb<0.14.0,>=0.13.10->agilerl) (1.39.1)\n",
      "Requirement already satisfied: docker-pycreds>=0.4.0 in /Users/work/work-worldmodel2023/venv-mpe/lib/python3.8/site-packages (from wandb<0.14.0,>=0.13.10->agilerl) (0.4.0)\n",
      "Requirement already satisfied: pathtools in /Users/work/work-worldmodel2023/venv-mpe/lib/python3.8/site-packages (from wandb<0.14.0,>=0.13.10->agilerl) (0.1.2)\n",
      "Requirement already satisfied: setproctitle in /Users/work/work-worldmodel2023/venv-mpe/lib/python3.8/site-packages (from wandb<0.14.0,>=0.13.10->agilerl) (1.3.3)\n",
      "Requirement already satisfied: setuptools in /Users/work/work-worldmodel2023/venv-mpe/lib/python3.8/site-packages (from wandb<0.14.0,>=0.13.10->agilerl) (41.2.0)\n",
      "Requirement already satisfied: appdirs>=1.4.3 in /Users/work/work-worldmodel2023/venv-mpe/lib/python3.8/site-packages (from wandb<0.14.0,>=0.13.10->agilerl) (1.4.4)\n",
      "Requirement already satisfied: protobuf!=4.21.0,<5,>=3.19.0 in /Users/work/work-worldmodel2023/venv-mpe/lib/python3.8/site-packages (from wandb<0.14.0,>=0.13.10->agilerl) (4.25.1)\n",
      "Requirement already satisfied: gitdb<5,>=4.0.1 in /Users/work/work-worldmodel2023/venv-mpe/lib/python3.8/site-packages (from GitPython!=3.1.29,>=1.0.0->wandb<0.14.0,>=0.13.10->agilerl) (4.0.11)\n",
      "Requirement already satisfied: zipp>=0.5 in /Users/work/work-worldmodel2023/venv-mpe/lib/python3.8/site-packages (from importlib-metadata>=4.8.0->gymnasium<0.29.0,>=0.28.1->agilerl) (3.17.0)\n",
      "Requirement already satisfied: charset-normalizer<4,>=2 in /Users/work/work-worldmodel2023/venv-mpe/lib/python3.8/site-packages (from requests<3.0.0dev,>=2.18.0->google-cloud-storage==2.5.0->minari<0.5.0,>=0.4.1->agilerl) (3.3.2)\n",
      "Requirement already satisfied: idna<4,>=2.5 in /Users/work/work-worldmodel2023/venv-mpe/lib/python3.8/site-packages (from requests<3.0.0dev,>=2.18.0->google-cloud-storage==2.5.0->minari<0.5.0,>=0.4.1->agilerl) (3.6)\n",
      "Requirement already satisfied: urllib3<3,>=1.21.1 in /Users/work/work-worldmodel2023/venv-mpe/lib/python3.8/site-packages (from requests<3.0.0dev,>=2.18.0->google-cloud-storage==2.5.0->minari<0.5.0,>=0.4.1->agilerl) (2.1.0)\n",
      "Requirement already satisfied: certifi>=2017.4.17 in /Users/work/work-worldmodel2023/venv-mpe/lib/python3.8/site-packages (from requests<3.0.0dev,>=2.18.0->google-cloud-storage==2.5.0->minari<0.5.0,>=0.4.1->agilerl) (2023.11.17)\n",
      "Requirement already satisfied: distlib<1,>=0.3.7 in /Users/work/work-worldmodel2023/venv-mpe/lib/python3.8/site-packages (from virtualenv>=20.10.0->pre-commit<4.0.0,>=3.4.0->agilerl) (0.3.8)\n",
      "Requirement already satisfied: platformdirs<5,>=3.9.1 in /Users/work/work-worldmodel2023/venv-mpe/lib/python3.8/site-packages (from virtualenv>=20.10.0->pre-commit<4.0.0,>=3.4.0->agilerl) (4.1.0)\n",
      "Requirement already satisfied: MarkupSafe>=2.0 in /Users/work/work-worldmodel2023/venv-mpe/lib/python3.8/site-packages (from jinja2->torch<3.0.0,>=2.0.1->agilerl) (2.1.3)\n",
      "Requirement already satisfied: mpmath>=0.19 in /Users/work/work-worldmodel2023/venv-mpe/lib/python3.8/site-packages (from sympy->torch<3.0.0,>=2.0.1->agilerl) (1.3.0)\n",
      "Requirement already satisfied: smmap<6,>=3.0.1 in /Users/work/work-worldmodel2023/venv-mpe/lib/python3.8/site-packages (from gitdb<5,>=4.0.1->GitPython!=3.1.29,>=1.0.0->wandb<0.14.0,>=0.13.10->agilerl) (5.0.1)\n",
      "Requirement already satisfied: googleapis-common-protos<2.0.dev0,>=1.56.2 in /Users/work/work-worldmodel2023/venv-mpe/lib/python3.8/site-packages (from google-api-core!=2.0.*,!=2.1.*,!=2.2.*,!=2.3.0,<3.0.0dev,>=1.31.5->google-cloud-storage==2.5.0->minari<0.5.0,>=0.4.1->agilerl) (1.62.0)\n",
      "Requirement already satisfied: cachetools<6.0,>=2.0.0 in /Users/work/work-worldmodel2023/venv-mpe/lib/python3.8/site-packages (from google-auth<3.0dev,>=1.25.0->google-cloud-storage==2.5.0->minari<0.5.0,>=0.4.1->agilerl) (5.3.2)\n",
      "Requirement already satisfied: pyasn1-modules>=0.2.1 in /Users/work/work-worldmodel2023/venv-mpe/lib/python3.8/site-packages (from google-auth<3.0dev,>=1.25.0->google-cloud-storage==2.5.0->minari<0.5.0,>=0.4.1->agilerl) (0.3.0)\n",
      "Requirement already satisfied: rsa<5,>=3.1.4 in /Users/work/work-worldmodel2023/venv-mpe/lib/python3.8/site-packages (from google-auth<3.0dev,>=1.25.0->google-cloud-storage==2.5.0->minari<0.5.0,>=0.4.1->agilerl) (4.9)\n",
      "Requirement already satisfied: google-crc32c<2.0dev,>=1.0 in /Users/work/work-worldmodel2023/venv-mpe/lib/python3.8/site-packages (from google-resumable-media>=2.3.2->google-cloud-storage==2.5.0->minari<0.5.0,>=0.4.1->agilerl) (1.5.0)\n",
      "Requirement already satisfied: markdown-it-py>=2.2.0 in /Users/work/work-worldmodel2023/venv-mpe/lib/python3.8/site-packages (from rich<14.0.0,>=10.11.0->typer[all]==0.9.0->minari<0.5.0,>=0.4.1->agilerl) (3.0.0)\n",
      "Requirement already satisfied: pygments<3.0.0,>=2.13.0 in /Users/work/work-worldmodel2023/venv-mpe/lib/python3.8/site-packages (from rich<14.0.0,>=10.11.0->typer[all]==0.9.0->minari<0.5.0,>=0.4.1->agilerl) (2.17.2)\n",
      "Requirement already satisfied: mdurl~=0.1 in /Users/work/work-worldmodel2023/venv-mpe/lib/python3.8/site-packages (from markdown-it-py>=2.2.0->rich<14.0.0,>=10.11.0->typer[all]==0.9.0->minari<0.5.0,>=0.4.1->agilerl) (0.1.2)\n",
      "Requirement already satisfied: pyasn1<0.6.0,>=0.4.6 in /Users/work/work-worldmodel2023/venv-mpe/lib/python3.8/site-packages (from pyasn1-modules>=0.2.1->google-auth<3.0dev,>=1.25.0->google-cloud-storage==2.5.0->minari<0.5.0,>=0.4.1->agilerl) (0.5.1)\n",
      "Requirement already satisfied: imageio in /Users/work/work-worldmodel2023/venv-mpe/lib/python3.8/site-packages (2.33.1)\n",
      "Requirement already satisfied: numpy in /Users/work/work-worldmodel2023/venv-mpe/lib/python3.8/site-packages (from imageio) (1.24.4)\n",
      "Requirement already satisfied: pillow>=8.3.2 in /Users/work/work-worldmodel2023/venv-mpe/lib/python3.8/site-packages (from imageio) (10.1.0)\n"
     ]
    }
   ],
   "source": [
    "!pip install pettingzoo[mpe]\n",
    "!pip install agilerl\n",
    "!pip install imageio"
   ]
  },
  {
   "cell_type": "code",
   "execution_count": 18,
   "id": "650780a5-3d68-4be5-86f0-c82da80a1cbc",
   "metadata": {},
   "outputs": [
    {
     "name": "stdout",
     "output_type": "stream",
     "text": [
      "20231231-1732\n"
     ]
    }
   ],
   "source": [
    "#現在日時を取得\n",
    "import datetime\n",
    "\n",
    "if True: #新規採番\n",
    "    dt_now = datetime.datetime.now()\n",
    "    str_dt_now = dt_now.strftime(\"%Y%m%d-%H%M\")\n",
    "    print(str_dt_now)\n",
    "\n",
    "else: # 固定値\n",
    "    str_dt_now = \"20231230-1625\""
   ]
  },
  {
   "cell_type": "code",
   "execution_count": 19,
   "id": "947fe8d6-7155-469c-8ee5-462ded068335",
   "metadata": {},
   "outputs": [
    {
     "name": "stdout",
     "output_type": "stream",
     "text": [
      "/Users/work/work-worldmodel2023/WorldModel2023/otk/AgileRL-MATD3\n"
     ]
    }
   ],
   "source": [
    "!pwd"
   ]
  },
  {
   "cell_type": "code",
   "execution_count": 21,
   "id": "b763bc86-f7c4-4ab5-adf3-98068042f627",
   "metadata": {},
   "outputs": [
    {
     "name": "stdout",
     "output_type": "stream",
     "text": [
      "===== AgileRL Online Multi-Agent Demo =====\n",
      "state_dim [(16,), (16,), (16,), (14,)]\n",
      "action_dim [5, 5, 5, 5]\n",
      "one_hot False\n",
      "NET_CONFIG\n",
      "{'arch': 'mlp', 'h_size': [32, 32]}\n",
      "INIT_HP\n",
      "{'AGENT_IDS': ['adversary_0', 'adversary_1', 'adversary_2', 'agent_0'],\n",
      " 'ALGO': 'MATD3',\n",
      " 'BATCH_SIZE': 64,\n",
      " 'CHANNELS_LAST': False,\n",
      " 'DISCRETE_ACTIONS': False,\n",
      " 'GAMMA': 0.95,\n",
      " 'LEARN_STEP': 5,\n",
      " 'LR': 0.01,\n",
      " 'MAX_ACTION': [array([1., 1., 1., 1., 1.], dtype=float32),\n",
      "                array([1., 1., 1., 1., 1.], dtype=float32),\n",
      "                array([1., 1., 1., 1., 1.], dtype=float32),\n",
      "                array([1., 1., 1., 1., 1.], dtype=float32)],\n",
      " 'MEMORY_SIZE': 200000,\n",
      " 'MIN_ACTION': [array([0., 0., 0., 0., 0.], dtype=float32),\n",
      "                array([0., 0., 0., 0., 0.], dtype=float32),\n",
      "                array([0., 0., 0., 0., 0.], dtype=float32),\n",
      "                array([0., 0., 0., 0., 0.], dtype=float32)],\n",
      " 'N_AGENTS': 4,\n",
      " 'POLICY_FREQ': 2,\n",
      " 'POPULATION_SIZE': 1,\n",
      " 'TAU': 0.01}\n",
      "device cpu\n"
     ]
    },
    {
     "name": "stderr",
     "output_type": "stream",
     "text": [
      "  0%|▍                                                                                                 | 49/10000 [00:08<35:06,  4.72it/s]"
     ]
    },
    {
     "name": "stdout",
     "output_type": "stream",
     "text": [
      "Episode 50/10000\n",
      "Fitnesses: ['-156.95']\n",
      "100 fitness avgs: ['-156.95']\n",
      "Save Model at ep  50\n"
     ]
    },
    {
     "name": "stderr",
     "output_type": "stream",
     "text": [
      "  1%|▉                                                                                               | 99/10000 [00:22<1:08:17,  2.42it/s]"
     ]
    },
    {
     "name": "stdout",
     "output_type": "stream",
     "text": [
      "Episode 100/10000\n",
      "Fitnesses: ['-36.82']\n",
      "100 fitness avgs: ['-96.89']\n",
      "Save Model at ep  100\n"
     ]
    },
    {
     "name": "stderr",
     "output_type": "stream",
     "text": [
      "  1%|█▍                                                                                               | 149/10000 [00:35<42:25,  3.87it/s]"
     ]
    },
    {
     "name": "stdout",
     "output_type": "stream",
     "text": [
      "Episode 150/10000\n",
      "Fitnesses: ['11.46']\n",
      "100 fitness avgs: ['-60.77']\n",
      "Save Model at ep  150\n"
     ]
    },
    {
     "name": "stderr",
     "output_type": "stream",
     "text": [
      "  2%|█▉                                                                                               | 199/10000 [00:48<42:31,  3.84it/s]"
     ]
    },
    {
     "name": "stdout",
     "output_type": "stream",
     "text": [
      "Episode 200/10000\n",
      "Fitnesses: ['-29.54']\n",
      "100 fitness avgs: ['-52.96']\n",
      "Save Model at ep  200\n"
     ]
    },
    {
     "name": "stderr",
     "output_type": "stream",
     "text": [
      "  2%|██▍                                                                                              | 249/10000 [01:03<52:18,  3.11it/s]"
     ]
    },
    {
     "name": "stdout",
     "output_type": "stream",
     "text": [
      "Episode 250/10000\n",
      "Fitnesses: ['-47.19']\n",
      "100 fitness avgs: ['-51.81']\n",
      "Save Model at ep  250\n"
     ]
    },
    {
     "name": "stderr",
     "output_type": "stream",
     "text": [
      "  3%|██▉                                                                                              | 299/10000 [01:18<45:05,  3.59it/s]"
     ]
    },
    {
     "name": "stdout",
     "output_type": "stream",
     "text": [
      "Episode 300/10000\n",
      "Fitnesses: ['-84.61']\n",
      "100 fitness avgs: ['-57.27']\n",
      "Save Model at ep  300\n"
     ]
    },
    {
     "name": "stderr",
     "output_type": "stream",
     "text": [
      "  3%|███▏                                                                                             | 332/10000 [01:28<42:52,  3.76it/s]\n"
     ]
    },
    {
     "ename": "KeyboardInterrupt",
     "evalue": "",
     "output_type": "error",
     "traceback": [
      "\u001b[0;31m---------------------------------------------------------------------------\u001b[0m",
      "\u001b[0;31mKeyboardInterrupt\u001b[0m                         Traceback (most recent call last)",
      "File \u001b[0;32m~/work-worldmodel2023/WorldModel2023/otk/AgileRL-MATD3/script-1-train.py:247\u001b[0m\n\u001b[1;32m    239\u001b[0m env_defined_actions \u001b[38;5;241m=\u001b[39m (\n\u001b[1;32m    240\u001b[0m     info[\u001b[38;5;124m\"\u001b[39m\u001b[38;5;124menv_defined_actions\u001b[39m\u001b[38;5;124m\"\u001b[39m]\n\u001b[1;32m    241\u001b[0m     \u001b[38;5;28;01mif\u001b[39;00m \u001b[38;5;124m\"\u001b[39m\u001b[38;5;124menv_defined_actions\u001b[39m\u001b[38;5;124m\"\u001b[39m \u001b[38;5;129;01min\u001b[39;00m info\u001b[38;5;241m.\u001b[39mkeys()\n\u001b[1;32m    242\u001b[0m     \u001b[38;5;28;01melse\u001b[39;00m \u001b[38;5;28;01mNone\u001b[39;00m\n\u001b[1;32m    243\u001b[0m )\n\u001b[1;32m    245\u001b[0m \u001b[38;5;66;03m# Get next action from agent\u001b[39;00m\n\u001b[1;32m    246\u001b[0m \u001b[38;5;66;03m# エージェントから次の行動を取得する\u001b[39;00m\n\u001b[0;32m--> 247\u001b[0m cont_actions, discrete_action \u001b[38;5;241m=\u001b[39m \u001b[43magent\u001b[49m\u001b[38;5;241;43m.\u001b[39;49m\u001b[43mgetAction\u001b[49m\u001b[43m(\u001b[49m\n\u001b[1;32m    248\u001b[0m \u001b[43m    \u001b[49m\u001b[43mstate\u001b[49m\u001b[43m,\u001b[49m\u001b[43m \u001b[49m\u001b[43mepsilon\u001b[49m\u001b[43m,\u001b[49m\u001b[43m \u001b[49m\u001b[43magent_mask\u001b[49m\u001b[43m,\u001b[49m\u001b[43m \u001b[49m\u001b[43menv_defined_actions\u001b[49m\n\u001b[1;32m    249\u001b[0m \u001b[43m\u001b[49m\u001b[43m)\u001b[49m\n\u001b[1;32m    250\u001b[0m \u001b[38;5;28;01mif\u001b[39;00m agent\u001b[38;5;241m.\u001b[39mdiscrete_actions:\n\u001b[1;32m    251\u001b[0m     action \u001b[38;5;241m=\u001b[39m discrete_action\n",
      "File \u001b[0;32m~/work-worldmodel2023/venv-mpe/lib/python3.8/site-packages/agilerl/algorithms/matd3.py:454\u001b[0m, in \u001b[0;36mMATD3.getAction\u001b[0;34m(self, states, epsilon, agent_mask, env_defined_actions)\u001b[0m\n\u001b[1;32m    452\u001b[0m \u001b[38;5;28;01melse\u001b[39;00m:\n\u001b[1;32m    453\u001b[0m     \u001b[38;5;28;01mwith\u001b[39;00m torch\u001b[38;5;241m.\u001b[39mno_grad():\n\u001b[0;32m--> 454\u001b[0m         action_values \u001b[38;5;241m=\u001b[39m \u001b[43mactor\u001b[49m\u001b[43m(\u001b[49m\u001b[43mstate\u001b[49m\u001b[43m)\u001b[49m\n\u001b[1;32m    455\u001b[0m actor\u001b[38;5;241m.\u001b[39mtrain()\n\u001b[1;32m    456\u001b[0m \u001b[38;5;28;01mif\u001b[39;00m \u001b[38;5;28mself\u001b[39m\u001b[38;5;241m.\u001b[39mdiscrete_actions:\n",
      "File \u001b[0;32m~/work-worldmodel2023/venv-mpe/lib/python3.8/site-packages/torch/nn/modules/module.py:1518\u001b[0m, in \u001b[0;36mModule._wrapped_call_impl\u001b[0;34m(self, *args, **kwargs)\u001b[0m\n\u001b[1;32m   1516\u001b[0m     \u001b[38;5;28;01mreturn\u001b[39;00m \u001b[38;5;28mself\u001b[39m\u001b[38;5;241m.\u001b[39m_compiled_call_impl(\u001b[38;5;241m*\u001b[39margs, \u001b[38;5;241m*\u001b[39m\u001b[38;5;241m*\u001b[39mkwargs)  \u001b[38;5;66;03m# type: ignore[misc]\u001b[39;00m\n\u001b[1;32m   1517\u001b[0m \u001b[38;5;28;01melse\u001b[39;00m:\n\u001b[0;32m-> 1518\u001b[0m     \u001b[38;5;28;01mreturn\u001b[39;00m \u001b[38;5;28;43mself\u001b[39;49m\u001b[38;5;241;43m.\u001b[39;49m\u001b[43m_call_impl\u001b[49m\u001b[43m(\u001b[49m\u001b[38;5;241;43m*\u001b[39;49m\u001b[43margs\u001b[49m\u001b[43m,\u001b[49m\u001b[43m \u001b[49m\u001b[38;5;241;43m*\u001b[39;49m\u001b[38;5;241;43m*\u001b[39;49m\u001b[43mkwargs\u001b[49m\u001b[43m)\u001b[49m\n",
      "File \u001b[0;32m~/work-worldmodel2023/venv-mpe/lib/python3.8/site-packages/torch/nn/modules/module.py:1527\u001b[0m, in \u001b[0;36mModule._call_impl\u001b[0;34m(self, *args, **kwargs)\u001b[0m\n\u001b[1;32m   1522\u001b[0m \u001b[38;5;66;03m# If we don't have any hooks, we want to skip the rest of the logic in\u001b[39;00m\n\u001b[1;32m   1523\u001b[0m \u001b[38;5;66;03m# this function, and just call forward.\u001b[39;00m\n\u001b[1;32m   1524\u001b[0m \u001b[38;5;28;01mif\u001b[39;00m \u001b[38;5;129;01mnot\u001b[39;00m (\u001b[38;5;28mself\u001b[39m\u001b[38;5;241m.\u001b[39m_backward_hooks \u001b[38;5;129;01mor\u001b[39;00m \u001b[38;5;28mself\u001b[39m\u001b[38;5;241m.\u001b[39m_backward_pre_hooks \u001b[38;5;129;01mor\u001b[39;00m \u001b[38;5;28mself\u001b[39m\u001b[38;5;241m.\u001b[39m_forward_hooks \u001b[38;5;129;01mor\u001b[39;00m \u001b[38;5;28mself\u001b[39m\u001b[38;5;241m.\u001b[39m_forward_pre_hooks\n\u001b[1;32m   1525\u001b[0m         \u001b[38;5;129;01mor\u001b[39;00m _global_backward_pre_hooks \u001b[38;5;129;01mor\u001b[39;00m _global_backward_hooks\n\u001b[1;32m   1526\u001b[0m         \u001b[38;5;129;01mor\u001b[39;00m _global_forward_hooks \u001b[38;5;129;01mor\u001b[39;00m _global_forward_pre_hooks):\n\u001b[0;32m-> 1527\u001b[0m     \u001b[38;5;28;01mreturn\u001b[39;00m \u001b[43mforward_call\u001b[49m\u001b[43m(\u001b[49m\u001b[38;5;241;43m*\u001b[39;49m\u001b[43margs\u001b[49m\u001b[43m,\u001b[49m\u001b[43m \u001b[49m\u001b[38;5;241;43m*\u001b[39;49m\u001b[38;5;241;43m*\u001b[39;49m\u001b[43mkwargs\u001b[49m\u001b[43m)\u001b[49m\n\u001b[1;32m   1529\u001b[0m \u001b[38;5;28;01mtry\u001b[39;00m:\n\u001b[1;32m   1530\u001b[0m     result \u001b[38;5;241m=\u001b[39m \u001b[38;5;28;01mNone\u001b[39;00m\n",
      "File \u001b[0;32m~/work-worldmodel2023/venv-mpe/lib/python3.8/site-packages/agilerl/networks/evolvable_mlp.py:294\u001b[0m, in \u001b[0;36mEvolvableMLP.forward\u001b[0;34m(self, x, q)\u001b[0m\n\u001b[1;32m    292\u001b[0m \u001b[38;5;28;01mif\u001b[39;00m x\u001b[38;5;241m.\u001b[39mdtype \u001b[38;5;241m!=\u001b[39m torch\u001b[38;5;241m.\u001b[39mfloat32:\n\u001b[1;32m    293\u001b[0m     x \u001b[38;5;241m=\u001b[39m x\u001b[38;5;241m.\u001b[39mto(torch\u001b[38;5;241m.\u001b[39mfloat32)\n\u001b[0;32m--> 294\u001b[0m x \u001b[38;5;241m=\u001b[39m \u001b[38;5;28;43mself\u001b[39;49m\u001b[38;5;241;43m.\u001b[39;49m\u001b[43mfeature_net\u001b[49m\u001b[43m(\u001b[49m\u001b[43mx\u001b[49m\u001b[43m)\u001b[49m\n\u001b[1;32m    296\u001b[0m \u001b[38;5;28;01mif\u001b[39;00m \u001b[38;5;28mself\u001b[39m\u001b[38;5;241m.\u001b[39mrainbow:\n\u001b[1;32m    297\u001b[0m     value \u001b[38;5;241m=\u001b[39m \u001b[38;5;28mself\u001b[39m\u001b[38;5;241m.\u001b[39mvalue_net(x)\n",
      "File \u001b[0;32m~/work-worldmodel2023/venv-mpe/lib/python3.8/site-packages/torch/nn/modules/module.py:1518\u001b[0m, in \u001b[0;36mModule._wrapped_call_impl\u001b[0;34m(self, *args, **kwargs)\u001b[0m\n\u001b[1;32m   1516\u001b[0m     \u001b[38;5;28;01mreturn\u001b[39;00m \u001b[38;5;28mself\u001b[39m\u001b[38;5;241m.\u001b[39m_compiled_call_impl(\u001b[38;5;241m*\u001b[39margs, \u001b[38;5;241m*\u001b[39m\u001b[38;5;241m*\u001b[39mkwargs)  \u001b[38;5;66;03m# type: ignore[misc]\u001b[39;00m\n\u001b[1;32m   1517\u001b[0m \u001b[38;5;28;01melse\u001b[39;00m:\n\u001b[0;32m-> 1518\u001b[0m     \u001b[38;5;28;01mreturn\u001b[39;00m \u001b[38;5;28;43mself\u001b[39;49m\u001b[38;5;241;43m.\u001b[39;49m\u001b[43m_call_impl\u001b[49m\u001b[43m(\u001b[49m\u001b[38;5;241;43m*\u001b[39;49m\u001b[43margs\u001b[49m\u001b[43m,\u001b[49m\u001b[43m \u001b[49m\u001b[38;5;241;43m*\u001b[39;49m\u001b[38;5;241;43m*\u001b[39;49m\u001b[43mkwargs\u001b[49m\u001b[43m)\u001b[49m\n",
      "File \u001b[0;32m~/work-worldmodel2023/venv-mpe/lib/python3.8/site-packages/torch/nn/modules/module.py:1527\u001b[0m, in \u001b[0;36mModule._call_impl\u001b[0;34m(self, *args, **kwargs)\u001b[0m\n\u001b[1;32m   1522\u001b[0m \u001b[38;5;66;03m# If we don't have any hooks, we want to skip the rest of the logic in\u001b[39;00m\n\u001b[1;32m   1523\u001b[0m \u001b[38;5;66;03m# this function, and just call forward.\u001b[39;00m\n\u001b[1;32m   1524\u001b[0m \u001b[38;5;28;01mif\u001b[39;00m \u001b[38;5;129;01mnot\u001b[39;00m (\u001b[38;5;28mself\u001b[39m\u001b[38;5;241m.\u001b[39m_backward_hooks \u001b[38;5;129;01mor\u001b[39;00m \u001b[38;5;28mself\u001b[39m\u001b[38;5;241m.\u001b[39m_backward_pre_hooks \u001b[38;5;129;01mor\u001b[39;00m \u001b[38;5;28mself\u001b[39m\u001b[38;5;241m.\u001b[39m_forward_hooks \u001b[38;5;129;01mor\u001b[39;00m \u001b[38;5;28mself\u001b[39m\u001b[38;5;241m.\u001b[39m_forward_pre_hooks\n\u001b[1;32m   1525\u001b[0m         \u001b[38;5;129;01mor\u001b[39;00m _global_backward_pre_hooks \u001b[38;5;129;01mor\u001b[39;00m _global_backward_hooks\n\u001b[1;32m   1526\u001b[0m         \u001b[38;5;129;01mor\u001b[39;00m _global_forward_hooks \u001b[38;5;129;01mor\u001b[39;00m _global_forward_pre_hooks):\n\u001b[0;32m-> 1527\u001b[0m     \u001b[38;5;28;01mreturn\u001b[39;00m \u001b[43mforward_call\u001b[49m\u001b[43m(\u001b[49m\u001b[38;5;241;43m*\u001b[39;49m\u001b[43margs\u001b[49m\u001b[43m,\u001b[49m\u001b[43m \u001b[49m\u001b[38;5;241;43m*\u001b[39;49m\u001b[38;5;241;43m*\u001b[39;49m\u001b[43mkwargs\u001b[49m\u001b[43m)\u001b[49m\n\u001b[1;32m   1529\u001b[0m \u001b[38;5;28;01mtry\u001b[39;00m:\n\u001b[1;32m   1530\u001b[0m     result \u001b[38;5;241m=\u001b[39m \u001b[38;5;28;01mNone\u001b[39;00m\n",
      "File \u001b[0;32m~/work-worldmodel2023/venv-mpe/lib/python3.8/site-packages/torch/nn/modules/container.py:215\u001b[0m, in \u001b[0;36mSequential.forward\u001b[0;34m(self, input)\u001b[0m\n\u001b[1;32m    213\u001b[0m \u001b[38;5;28;01mdef\u001b[39;00m \u001b[38;5;21mforward\u001b[39m(\u001b[38;5;28mself\u001b[39m, \u001b[38;5;28minput\u001b[39m):\n\u001b[1;32m    214\u001b[0m     \u001b[38;5;28;01mfor\u001b[39;00m module \u001b[38;5;129;01min\u001b[39;00m \u001b[38;5;28mself\u001b[39m:\n\u001b[0;32m--> 215\u001b[0m         \u001b[38;5;28minput\u001b[39m \u001b[38;5;241m=\u001b[39m \u001b[43mmodule\u001b[49m\u001b[43m(\u001b[49m\u001b[38;5;28;43minput\u001b[39;49m\u001b[43m)\u001b[49m\n\u001b[1;32m    216\u001b[0m     \u001b[38;5;28;01mreturn\u001b[39;00m \u001b[38;5;28minput\u001b[39m\n",
      "File \u001b[0;32m~/work-worldmodel2023/venv-mpe/lib/python3.8/site-packages/torch/nn/modules/module.py:1518\u001b[0m, in \u001b[0;36mModule._wrapped_call_impl\u001b[0;34m(self, *args, **kwargs)\u001b[0m\n\u001b[1;32m   1516\u001b[0m     \u001b[38;5;28;01mreturn\u001b[39;00m \u001b[38;5;28mself\u001b[39m\u001b[38;5;241m.\u001b[39m_compiled_call_impl(\u001b[38;5;241m*\u001b[39margs, \u001b[38;5;241m*\u001b[39m\u001b[38;5;241m*\u001b[39mkwargs)  \u001b[38;5;66;03m# type: ignore[misc]\u001b[39;00m\n\u001b[1;32m   1517\u001b[0m \u001b[38;5;28;01melse\u001b[39;00m:\n\u001b[0;32m-> 1518\u001b[0m     \u001b[38;5;28;01mreturn\u001b[39;00m \u001b[38;5;28;43mself\u001b[39;49m\u001b[38;5;241;43m.\u001b[39;49m\u001b[43m_call_impl\u001b[49m\u001b[43m(\u001b[49m\u001b[38;5;241;43m*\u001b[39;49m\u001b[43margs\u001b[49m\u001b[43m,\u001b[49m\u001b[43m \u001b[49m\u001b[38;5;241;43m*\u001b[39;49m\u001b[38;5;241;43m*\u001b[39;49m\u001b[43mkwargs\u001b[49m\u001b[43m)\u001b[49m\n",
      "File \u001b[0;32m~/work-worldmodel2023/venv-mpe/lib/python3.8/site-packages/torch/nn/modules/module.py:1524\u001b[0m, in \u001b[0;36mModule._call_impl\u001b[0;34m(self, *args, **kwargs)\u001b[0m\n\u001b[1;32m   1521\u001b[0m forward_call \u001b[38;5;241m=\u001b[39m (\u001b[38;5;28mself\u001b[39m\u001b[38;5;241m.\u001b[39m_slow_forward \u001b[38;5;28;01mif\u001b[39;00m torch\u001b[38;5;241m.\u001b[39m_C\u001b[38;5;241m.\u001b[39m_get_tracing_state() \u001b[38;5;28;01melse\u001b[39;00m \u001b[38;5;28mself\u001b[39m\u001b[38;5;241m.\u001b[39mforward)\n\u001b[1;32m   1522\u001b[0m \u001b[38;5;66;03m# If we don't have any hooks, we want to skip the rest of the logic in\u001b[39;00m\n\u001b[1;32m   1523\u001b[0m \u001b[38;5;66;03m# this function, and just call forward.\u001b[39;00m\n\u001b[0;32m-> 1524\u001b[0m \u001b[38;5;28;01mif\u001b[39;00m \u001b[38;5;129;01mnot\u001b[39;00m (\u001b[38;5;28mself\u001b[39m\u001b[38;5;241m.\u001b[39m_backward_hooks \u001b[38;5;129;01mor\u001b[39;00m \u001b[38;5;28mself\u001b[39m\u001b[38;5;241m.\u001b[39m_backward_pre_hooks \u001b[38;5;129;01mor\u001b[39;00m \u001b[38;5;28mself\u001b[39m\u001b[38;5;241m.\u001b[39m_forward_hooks \u001b[38;5;129;01mor\u001b[39;00m \u001b[38;5;28mself\u001b[39m\u001b[38;5;241m.\u001b[39m_forward_pre_hooks\n\u001b[1;32m   1525\u001b[0m         \u001b[38;5;129;01mor\u001b[39;00m _global_backward_pre_hooks \u001b[38;5;129;01mor\u001b[39;00m _global_backward_hooks\n\u001b[1;32m   1526\u001b[0m         \u001b[38;5;129;01mor\u001b[39;00m _global_forward_hooks \u001b[38;5;129;01mor\u001b[39;00m _global_forward_pre_hooks):\n\u001b[1;32m   1527\u001b[0m     \u001b[38;5;28;01mreturn\u001b[39;00m forward_call(\u001b[38;5;241m*\u001b[39margs, \u001b[38;5;241m*\u001b[39m\u001b[38;5;241m*\u001b[39mkwargs)\n\u001b[1;32m   1529\u001b[0m \u001b[38;5;28;01mtry\u001b[39;00m:\n",
      "\u001b[0;31mKeyboardInterrupt\u001b[0m: "
     ]
    }
   ],
   "source": [
    "if False: # 続きから実行\n",
    "    path_p = \"./result/20231230-1625/pickle-population.pkl\"\n",
    "    path_r = \"./result/20231230-1625/pickle-replaybuffer.pkl\"\n",
    "    path_t = \"./result/20231230-1625/pickle-tournament.pkl\"\n",
    "    path_m = \"./result/20231230-1625/pickle-mutations.pkl\"\n",
    "\n",
    "    %run script-1-train.py -dt $str_dt_now -pop $path_p -r $path_r -t $path_t -m $path_m\n",
    "\n",
    "else: # 新規実行\n",
    "\n",
    "    %run script-1-train.py -dt $str_dt_now"
   ]
  },
  {
   "cell_type": "code",
   "execution_count": 17,
   "id": "0f1b4bc6-043a-48e4-ae2b-b83912f09b3b",
   "metadata": {},
   "outputs": [
    {
     "name": "stdout",
     "output_type": "stream",
     "text": [
      "--------------- Episode: 0 ---------------\n",
      "Episodic Reward:  -2.73342736832749\n",
      "adversary_0 reward: 0.0\n",
      "adversary_1 reward: 0.0\n",
      "adversary_2 reward: 0.0\n",
      "agent_0 reward: -2.73342736832749\n",
      "--------------- Episode: 1 ---------------\n",
      "Episodic Reward:  -2.201432203625145\n",
      "adversary_0 reward: 0.0\n",
      "adversary_1 reward: 0.0\n",
      "adversary_2 reward: 0.0\n",
      "agent_0 reward: -2.201432203625145\n",
      "--------------- Episode: 2 ---------------\n",
      "Episodic Reward:  -3.5082274594298326\n",
      "adversary_0 reward: 0.0\n",
      "adversary_1 reward: 0.0\n",
      "adversary_2 reward: 0.0\n",
      "agent_0 reward: -3.5082274594298326\n",
      "--------------- Episode: 3 ---------------\n",
      "Episodic Reward:  -8.780437665048282\n",
      "adversary_0 reward: 0.0\n",
      "adversary_1 reward: 0.0\n",
      "adversary_2 reward: 0.0\n",
      "agent_0 reward: -8.780437665048282\n",
      "--------------- Episode: 4 ---------------\n",
      "Episodic Reward:  0.0\n",
      "adversary_0 reward: 0.0\n",
      "adversary_1 reward: 0.0\n",
      "adversary_2 reward: 0.0\n",
      "agent_0 reward: 0.0\n",
      "--------------- Episode: 5 ---------------\n",
      "Episodic Reward:  -15.969273115321117\n",
      "adversary_0 reward: 0.0\n",
      "adversary_1 reward: 0.0\n",
      "adversary_2 reward: 0.0\n",
      "agent_0 reward: -15.969273115321117\n",
      "--------------- Episode: 6 ---------------\n",
      "Episodic Reward:  60.0\n",
      "adversary_0 reward: 30.0\n",
      "adversary_1 reward: 30.0\n",
      "adversary_2 reward: 30.0\n",
      "agent_0 reward: -30.0\n",
      "--------------- Episode: 7 ---------------\n",
      "Episodic Reward:  20.0\n",
      "adversary_0 reward: 10.0\n",
      "adversary_1 reward: 10.0\n",
      "adversary_2 reward: 10.0\n",
      "agent_0 reward: -10.0\n",
      "--------------- Episode: 8 ---------------\n",
      "Episodic Reward:  60.0\n",
      "adversary_0 reward: 30.0\n",
      "adversary_1 reward: 30.0\n",
      "adversary_2 reward: 30.0\n",
      "agent_0 reward: -30.0\n",
      "--------------- Episode: 9 ---------------\n",
      "Episodic Reward:  60.0\n",
      "adversary_0 reward: 30.0\n",
      "adversary_1 reward: 30.0\n",
      "adversary_2 reward: 30.0\n",
      "agent_0 reward: -30.0\n",
      "Done.\n"
     ]
    }
   ],
   "source": [
    "%run script-2-play.py -dt $str_dt_now"
   ]
  },
  {
   "cell_type": "code",
   "execution_count": 8,
   "id": "fd62d1b5-7785-4023-8de1-0ff1f36b4239",
   "metadata": {},
   "outputs": [
    {
     "ename": "KeyboardInterrupt",
     "evalue": "",
     "output_type": "error",
     "traceback": [
      "\u001b[0;31m---------------------------------------------------------------------------\u001b[0m",
      "\u001b[0;31mKeyboardInterrupt\u001b[0m                         Traceback (most recent call last)",
      "Cell \u001b[0;32mIn[8], line 4\u001b[0m\n\u001b[1;32m      1\u001b[0m \u001b[38;5;28;01mimport\u001b[39;00m \u001b[38;5;21;01mplaysound\u001b[39;00m\n\u001b[1;32m      3\u001b[0m \u001b[38;5;28;01mwhile\u001b[39;00m \u001b[38;5;28;01mTrue\u001b[39;00m:\n\u001b[0;32m----> 4\u001b[0m     \u001b[43mplaysound\u001b[49m\u001b[38;5;241;43m.\u001b[39;49m\u001b[43mplaysound\u001b[49m\u001b[43m(\u001b[49m\u001b[38;5;124;43m\"\u001b[39;49m\u001b[38;5;124;43mfireworks.mp3\u001b[39;49m\u001b[38;5;124;43m\"\u001b[39;49m\u001b[43m)\u001b[49m\n",
      "File \u001b[0;32m~/work-worldmodel2023/venv-mpe/lib/python3.8/site-packages/playsound.py:144\u001b[0m, in \u001b[0;36m_playsoundOSX\u001b[0;34m(sound, block)\u001b[0m\n\u001b[1;32m    141\u001b[0m nssound\u001b[38;5;241m.\u001b[39mplay()\n\u001b[1;32m    143\u001b[0m \u001b[38;5;28;01mif\u001b[39;00m block:\n\u001b[0;32m--> 144\u001b[0m     \u001b[43msleep\u001b[49m\u001b[43m(\u001b[49m\u001b[43mnssound\u001b[49m\u001b[38;5;241;43m.\u001b[39;49m\u001b[43mduration\u001b[49m\u001b[43m(\u001b[49m\u001b[43m)\u001b[49m\u001b[43m)\u001b[49m\n",
      "\u001b[0;31mKeyboardInterrupt\u001b[0m: "
     ]
    }
   ],
   "source": [
    "import playsound\n",
    "\n",
    "while True:\n",
    "    playsound.playsound(\"fireworks.mp3\")"
   ]
  },
  {
   "cell_type": "code",
   "execution_count": null,
   "id": "5d75d986-de09-4449-ab01-394fcb3ce289",
   "metadata": {},
   "outputs": [],
   "source": []
  }
 ],
 "metadata": {
  "kernelspec": {
   "display_name": "Python 3 (ipykernel)",
   "language": "python",
   "name": "python3"
  },
  "language_info": {
   "codemirror_mode": {
    "name": "ipython",
    "version": 3
   },
   "file_extension": ".py",
   "mimetype": "text/x-python",
   "name": "python",
   "nbconvert_exporter": "python",
   "pygments_lexer": "ipython3",
   "version": "3.8.2"
  }
 },
 "nbformat": 4,
 "nbformat_minor": 5
}
