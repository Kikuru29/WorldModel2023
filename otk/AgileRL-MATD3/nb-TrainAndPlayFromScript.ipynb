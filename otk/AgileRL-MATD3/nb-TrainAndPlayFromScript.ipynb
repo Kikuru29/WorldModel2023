{
 "cells": [
  {
   "cell_type": "markdown",
   "id": "ff4488f4",
   "metadata": {},
   "source": [
    "# AgileRL Speaker-Listener with MATD3\n",
    "https://docs.agilerl.com/en/latest/tutorials/pettingzoo/matd3.html"
   ]
  },
  {
   "cell_type": "code",
   "execution_count": 1,
   "id": "a9b039f0",
   "metadata": {},
   "outputs": [
    {
     "name": "stdout",
     "output_type": "stream",
     "text": [
      "Requirement already satisfied: pip in /Users/work/work-worldmodel2023/venv-mpe/lib/python3.8/site-packages (23.3.2)\n"
     ]
    }
   ],
   "source": [
    "!pip install --upgrade pip"
   ]
  },
  {
   "cell_type": "code",
   "execution_count": 2,
   "id": "cfadb438-9362-4b9d-9d05-ae54b857ffcf",
   "metadata": {
    "scrolled": true
   },
   "outputs": [
    {
     "name": "stdout",
     "output_type": "stream",
     "text": [
      "Requirement already satisfied: playsound in /Users/work/work-worldmodel2023/venv-mpe/lib/python3.8/site-packages (1.3.0)\n",
      "Requirement already satisfied: PyObjC in /Users/work/work-worldmodel2023/venv-mpe/lib/python3.8/site-packages (10.1)\n",
      "Requirement already satisfied: pyobjc-core==10.1 in /Users/work/work-worldmodel2023/venv-mpe/lib/python3.8/site-packages (from PyObjC) (10.1)\n",
      "Requirement already satisfied: pyobjc-framework-AddressBook==10.1 in /Users/work/work-worldmodel2023/venv-mpe/lib/python3.8/site-packages (from PyObjC) (10.1)\n",
      "Requirement already satisfied: pyobjc-framework-AppleScriptKit==10.1 in /Users/work/work-worldmodel2023/venv-mpe/lib/python3.8/site-packages (from PyObjC) (10.1)\n",
      "Requirement already satisfied: pyobjc-framework-ApplicationServices==10.1 in /Users/work/work-worldmodel2023/venv-mpe/lib/python3.8/site-packages (from PyObjC) (10.1)\n",
      "Requirement already satisfied: pyobjc-framework-Automator==10.1 in /Users/work/work-worldmodel2023/venv-mpe/lib/python3.8/site-packages (from PyObjC) (10.1)\n",
      "Requirement already satisfied: pyobjc-framework-CFNetwork==10.1 in /Users/work/work-worldmodel2023/venv-mpe/lib/python3.8/site-packages (from PyObjC) (10.1)\n",
      "Requirement already satisfied: pyobjc-framework-Cocoa==10.1 in /Users/work/work-worldmodel2023/venv-mpe/lib/python3.8/site-packages (from PyObjC) (10.1)\n",
      "Requirement already satisfied: pyobjc-framework-CoreAudio==10.1 in /Users/work/work-worldmodel2023/venv-mpe/lib/python3.8/site-packages (from PyObjC) (10.1)\n",
      "Requirement already satisfied: pyobjc-framework-CoreAudioKit==10.1 in /Users/work/work-worldmodel2023/venv-mpe/lib/python3.8/site-packages (from PyObjC) (10.1)\n",
      "Requirement already satisfied: pyobjc-framework-CoreData==10.1 in /Users/work/work-worldmodel2023/venv-mpe/lib/python3.8/site-packages (from PyObjC) (10.1)\n",
      "Requirement already satisfied: pyobjc-framework-CoreMIDI==10.1 in /Users/work/work-worldmodel2023/venv-mpe/lib/python3.8/site-packages (from PyObjC) (10.1)\n",
      "Requirement already satisfied: pyobjc-framework-CoreServices==10.1 in /Users/work/work-worldmodel2023/venv-mpe/lib/python3.8/site-packages (from PyObjC) (10.1)\n",
      "Requirement already satisfied: pyobjc-framework-CoreText==10.1 in /Users/work/work-worldmodel2023/venv-mpe/lib/python3.8/site-packages (from PyObjC) (10.1)\n",
      "Requirement already satisfied: pyobjc-framework-DiscRecording==10.1 in /Users/work/work-worldmodel2023/venv-mpe/lib/python3.8/site-packages (from PyObjC) (10.1)\n",
      "Requirement already satisfied: pyobjc-framework-DiscRecordingUI==10.1 in /Users/work/work-worldmodel2023/venv-mpe/lib/python3.8/site-packages (from PyObjC) (10.1)\n",
      "Requirement already satisfied: pyobjc-framework-DiskArbitration==10.1 in /Users/work/work-worldmodel2023/venv-mpe/lib/python3.8/site-packages (from PyObjC) (10.1)\n",
      "Requirement already satisfied: pyobjc-framework-DVDPlayback==10.1 in /Users/work/work-worldmodel2023/venv-mpe/lib/python3.8/site-packages (from PyObjC) (10.1)\n",
      "Requirement already satisfied: pyobjc-framework-ExceptionHandling==10.1 in /Users/work/work-worldmodel2023/venv-mpe/lib/python3.8/site-packages (from PyObjC) (10.1)\n",
      "Requirement already satisfied: pyobjc-framework-InstallerPlugins==10.1 in /Users/work/work-worldmodel2023/venv-mpe/lib/python3.8/site-packages (from PyObjC) (10.1)\n",
      "Requirement already satisfied: pyobjc-framework-IOBluetooth==10.1 in /Users/work/work-worldmodel2023/venv-mpe/lib/python3.8/site-packages (from PyObjC) (10.1)\n",
      "Requirement already satisfied: pyobjc-framework-IOBluetoothUI==10.1 in /Users/work/work-worldmodel2023/venv-mpe/lib/python3.8/site-packages (from PyObjC) (10.1)\n",
      "Requirement already satisfied: pyobjc-framework-LatentSemanticMapping==10.1 in /Users/work/work-worldmodel2023/venv-mpe/lib/python3.8/site-packages (from PyObjC) (10.1)\n",
      "Requirement already satisfied: pyobjc-framework-LaunchServices==10.1 in /Users/work/work-worldmodel2023/venv-mpe/lib/python3.8/site-packages (from PyObjC) (10.1)\n",
      "Requirement already satisfied: pyobjc-framework-OSAKit==10.1 in /Users/work/work-worldmodel2023/venv-mpe/lib/python3.8/site-packages (from PyObjC) (10.1)\n",
      "Requirement already satisfied: pyobjc-framework-PreferencePanes==10.1 in /Users/work/work-worldmodel2023/venv-mpe/lib/python3.8/site-packages (from PyObjC) (10.1)\n",
      "Requirement already satisfied: pyobjc-framework-Quartz==10.1 in /Users/work/work-worldmodel2023/venv-mpe/lib/python3.8/site-packages (from PyObjC) (10.1)\n",
      "Requirement already satisfied: pyobjc-framework-ScreenSaver==10.1 in /Users/work/work-worldmodel2023/venv-mpe/lib/python3.8/site-packages (from PyObjC) (10.1)\n",
      "Requirement already satisfied: pyobjc-framework-Security==10.1 in /Users/work/work-worldmodel2023/venv-mpe/lib/python3.8/site-packages (from PyObjC) (10.1)\n",
      "Requirement already satisfied: pyobjc-framework-SecurityFoundation==10.1 in /Users/work/work-worldmodel2023/venv-mpe/lib/python3.8/site-packages (from PyObjC) (10.1)\n",
      "Requirement already satisfied: pyobjc-framework-SecurityInterface==10.1 in /Users/work/work-worldmodel2023/venv-mpe/lib/python3.8/site-packages (from PyObjC) (10.1)\n",
      "Requirement already satisfied: pyobjc-framework-SearchKit==10.1 in /Users/work/work-worldmodel2023/venv-mpe/lib/python3.8/site-packages (from PyObjC) (10.1)\n",
      "Requirement already satisfied: pyobjc-framework-SyncServices==10.1 in /Users/work/work-worldmodel2023/venv-mpe/lib/python3.8/site-packages (from PyObjC) (10.1)\n",
      "Requirement already satisfied: pyobjc-framework-SystemConfiguration==10.1 in /Users/work/work-worldmodel2023/venv-mpe/lib/python3.8/site-packages (from PyObjC) (10.1)\n",
      "Requirement already satisfied: pyobjc-framework-WebKit==10.1 in /Users/work/work-worldmodel2023/venv-mpe/lib/python3.8/site-packages (from PyObjC) (10.1)\n",
      "Requirement already satisfied: pyobjc-framework-AppleScriptObjC==10.1 in /Users/work/work-worldmodel2023/venv-mpe/lib/python3.8/site-packages (from PyObjC) (10.1)\n",
      "Requirement already satisfied: pyobjc-framework-CoreLocation==10.1 in /Users/work/work-worldmodel2023/venv-mpe/lib/python3.8/site-packages (from PyObjC) (10.1)\n",
      "Requirement already satisfied: pyobjc-framework-CoreWLAN==10.1 in /Users/work/work-worldmodel2023/venv-mpe/lib/python3.8/site-packages (from PyObjC) (10.1)\n",
      "Requirement already satisfied: pyobjc-framework-ImageCaptureCore==10.1 in /Users/work/work-worldmodel2023/venv-mpe/lib/python3.8/site-packages (from PyObjC) (10.1)\n",
      "Requirement already satisfied: pyobjc-framework-IOSurface==10.1 in /Users/work/work-worldmodel2023/venv-mpe/lib/python3.8/site-packages (from PyObjC) (10.1)\n",
      "Requirement already satisfied: pyobjc-framework-NetFS==10.1 in /Users/work/work-worldmodel2023/venv-mpe/lib/python3.8/site-packages (from PyObjC) (10.1)\n",
      "Requirement already satisfied: pyobjc-framework-OpenDirectory==10.1 in /Users/work/work-worldmodel2023/venv-mpe/lib/python3.8/site-packages (from PyObjC) (10.1)\n",
      "Requirement already satisfied: pyobjc-framework-ServiceManagement==10.1 in /Users/work/work-worldmodel2023/venv-mpe/lib/python3.8/site-packages (from PyObjC) (10.1)\n",
      "Requirement already satisfied: pyobjc-framework-iTunesLibrary==10.1 in /Users/work/work-worldmodel2023/venv-mpe/lib/python3.8/site-packages (from PyObjC) (10.1)\n",
      "Requirement already satisfied: pyobjc-framework-AVFoundation==10.1 in /Users/work/work-worldmodel2023/venv-mpe/lib/python3.8/site-packages (from PyObjC) (10.1)\n",
      "Requirement already satisfied: pyobjc-framework-CoreMedia==10.1 in /Users/work/work-worldmodel2023/venv-mpe/lib/python3.8/site-packages (from PyObjC) (10.1)\n",
      "Requirement already satisfied: pyobjc-framework-CoreMediaIO==10.1 in /Users/work/work-worldmodel2023/venv-mpe/lib/python3.8/site-packages (from PyObjC) (10.1)\n",
      "Requirement already satisfied: pyobjc-framework-StoreKit==10.1 in /Users/work/work-worldmodel2023/venv-mpe/lib/python3.8/site-packages (from PyObjC) (10.1)\n",
      "Requirement already satisfied: pyobjc-framework-SceneKit==10.1 in /Users/work/work-worldmodel2023/venv-mpe/lib/python3.8/site-packages (from PyObjC) (10.1)\n",
      "Requirement already satisfied: pyobjc-framework-libdispatch==10.1 in /Users/work/work-worldmodel2023/venv-mpe/lib/python3.8/site-packages (from PyObjC) (10.1)\n",
      "Requirement already satisfied: pyobjc-framework-libxpc==10.1 in /Users/work/work-worldmodel2023/venv-mpe/lib/python3.8/site-packages (from PyObjC) (10.1)\n",
      "Requirement already satisfied: pyobjc-framework-AudioVideoBridging==10.1 in /Users/work/work-worldmodel2023/venv-mpe/lib/python3.8/site-packages (from PyObjC) (10.1)\n",
      "Requirement already satisfied: pyobjc-framework-Accounts==10.1 in /Users/work/work-worldmodel2023/venv-mpe/lib/python3.8/site-packages (from PyObjC) (10.1)\n",
      "Requirement already satisfied: pyobjc-framework-EventKit==10.1 in /Users/work/work-worldmodel2023/venv-mpe/lib/python3.8/site-packages (from PyObjC) (10.1)\n",
      "Requirement already satisfied: pyobjc-framework-GameCenter==10.1 in /Users/work/work-worldmodel2023/venv-mpe/lib/python3.8/site-packages (from PyObjC) (10.1)\n",
      "Requirement already satisfied: pyobjc-framework-Social==10.1 in /Users/work/work-worldmodel2023/venv-mpe/lib/python3.8/site-packages (from PyObjC) (10.1)\n",
      "Requirement already satisfied: pyobjc-framework-GameKit==10.1 in /Users/work/work-worldmodel2023/venv-mpe/lib/python3.8/site-packages (from PyObjC) (10.1)\n",
      "Requirement already satisfied: pyobjc-framework-VideoToolbox==10.1 in /Users/work/work-worldmodel2023/venv-mpe/lib/python3.8/site-packages (from PyObjC) (10.1)\n",
      "Requirement already satisfied: pyobjc-framework-AVKit==10.1 in /Users/work/work-worldmodel2023/venv-mpe/lib/python3.8/site-packages (from PyObjC) (10.1)\n",
      "Requirement already satisfied: pyobjc-framework-GameController==10.1 in /Users/work/work-worldmodel2023/venv-mpe/lib/python3.8/site-packages (from PyObjC) (10.1)\n",
      "Requirement already satisfied: pyobjc-framework-MapKit==10.1 in /Users/work/work-worldmodel2023/venv-mpe/lib/python3.8/site-packages (from PyObjC) (10.1)\n",
      "Requirement already satisfied: pyobjc-framework-MediaAccessibility==10.1 in /Users/work/work-worldmodel2023/venv-mpe/lib/python3.8/site-packages (from PyObjC) (10.1)\n",
      "Requirement already satisfied: pyobjc-framework-MediaLibrary==10.1 in /Users/work/work-worldmodel2023/venv-mpe/lib/python3.8/site-packages (from PyObjC) (10.1)\n",
      "Requirement already satisfied: pyobjc-framework-MediaToolbox==10.1 in /Users/work/work-worldmodel2023/venv-mpe/lib/python3.8/site-packages (from PyObjC) (10.1)\n",
      "Requirement already satisfied: pyobjc-framework-SpriteKit==10.1 in /Users/work/work-worldmodel2023/venv-mpe/lib/python3.8/site-packages (from PyObjC) (10.1)\n",
      "Requirement already satisfied: pyobjc-framework-CloudKit==10.1 in /Users/work/work-worldmodel2023/venv-mpe/lib/python3.8/site-packages (from PyObjC) (10.1)\n",
      "Requirement already satisfied: pyobjc-framework-CoreBluetooth==10.1 in /Users/work/work-worldmodel2023/venv-mpe/lib/python3.8/site-packages (from PyObjC) (10.1)\n",
      "Requirement already satisfied: pyobjc-framework-CryptoTokenKit==10.1 in /Users/work/work-worldmodel2023/venv-mpe/lib/python3.8/site-packages (from PyObjC) (10.1)\n",
      "Requirement already satisfied: pyobjc-framework-FinderSync==10.1 in /Users/work/work-worldmodel2023/venv-mpe/lib/python3.8/site-packages (from PyObjC) (10.1)\n",
      "Requirement already satisfied: pyobjc-framework-LocalAuthentication==10.1 in /Users/work/work-worldmodel2023/venv-mpe/lib/python3.8/site-packages (from PyObjC) (10.1)\n",
      "Requirement already satisfied: pyobjc-framework-MultipeerConnectivity==10.1 in /Users/work/work-worldmodel2023/venv-mpe/lib/python3.8/site-packages (from PyObjC) (10.1)\n",
      "Requirement already satisfied: pyobjc-framework-NotificationCenter==10.1 in /Users/work/work-worldmodel2023/venv-mpe/lib/python3.8/site-packages (from PyObjC) (10.1)\n",
      "Requirement already satisfied: pyobjc-framework-Contacts==10.1 in /Users/work/work-worldmodel2023/venv-mpe/lib/python3.8/site-packages (from PyObjC) (10.1)\n",
      "Requirement already satisfied: pyobjc-framework-ContactsUI==10.1 in /Users/work/work-worldmodel2023/venv-mpe/lib/python3.8/site-packages (from PyObjC) (10.1)\n",
      "Requirement already satisfied: pyobjc-framework-Metal==10.1 in /Users/work/work-worldmodel2023/venv-mpe/lib/python3.8/site-packages (from PyObjC) (10.1)\n",
      "Requirement already satisfied: pyobjc-framework-MetalKit==10.1 in /Users/work/work-worldmodel2023/venv-mpe/lib/python3.8/site-packages (from PyObjC) (10.1)\n",
      "Requirement already satisfied: pyobjc-framework-ModelIO==10.1 in /Users/work/work-worldmodel2023/venv-mpe/lib/python3.8/site-packages (from PyObjC) (10.1)\n",
      "Requirement already satisfied: pyobjc-framework-NetworkExtension==10.1 in /Users/work/work-worldmodel2023/venv-mpe/lib/python3.8/site-packages (from PyObjC) (10.1)\n",
      "Requirement already satisfied: pyobjc-framework-Photos==10.1 in /Users/work/work-worldmodel2023/venv-mpe/lib/python3.8/site-packages (from PyObjC) (10.1)\n",
      "Requirement already satisfied: pyobjc-framework-PhotosUI==10.1 in /Users/work/work-worldmodel2023/venv-mpe/lib/python3.8/site-packages (from PyObjC) (10.1)\n",
      "Requirement already satisfied: pyobjc-framework-GameplayKit==10.1 in /Users/work/work-worldmodel2023/venv-mpe/lib/python3.8/site-packages (from PyObjC) (10.1)\n",
      "Requirement already satisfied: pyobjc-framework-Intents==10.1 in /Users/work/work-worldmodel2023/venv-mpe/lib/python3.8/site-packages (from PyObjC) (10.1)\n",
      "Requirement already satisfied: pyobjc-framework-MediaPlayer==10.1 in /Users/work/work-worldmodel2023/venv-mpe/lib/python3.8/site-packages (from PyObjC) (10.1)\n",
      "Requirement already satisfied: pyobjc-framework-SafariServices==10.1 in /Users/work/work-worldmodel2023/venv-mpe/lib/python3.8/site-packages (from PyObjC) (10.1)\n",
      "Requirement already satisfied: pyobjc-framework-ColorSync==10.1 in /Users/work/work-worldmodel2023/venv-mpe/lib/python3.8/site-packages (from PyObjC) (10.1)\n",
      "Requirement already satisfied: pyobjc-framework-CoreML==10.1 in /Users/work/work-worldmodel2023/venv-mpe/lib/python3.8/site-packages (from PyObjC) (10.1)\n",
      "Requirement already satisfied: pyobjc-framework-CoreSpotlight==10.1 in /Users/work/work-worldmodel2023/venv-mpe/lib/python3.8/site-packages (from PyObjC) (10.1)\n",
      "Requirement already satisfied: pyobjc-framework-ExternalAccessory==10.1 in /Users/work/work-worldmodel2023/venv-mpe/lib/python3.8/site-packages (from PyObjC) (10.1)\n",
      "Requirement already satisfied: pyobjc-framework-MetalPerformanceShaders==10.1 in /Users/work/work-worldmodel2023/venv-mpe/lib/python3.8/site-packages (from PyObjC) (10.1)\n",
      "Requirement already satisfied: pyobjc-framework-Vision==10.1 in /Users/work/work-worldmodel2023/venv-mpe/lib/python3.8/site-packages (from PyObjC) (10.1)\n",
      "Requirement already satisfied: pyobjc-framework-AdSupport==10.1 in /Users/work/work-worldmodel2023/venv-mpe/lib/python3.8/site-packages (from PyObjC) (10.1)\n",
      "Requirement already satisfied: pyobjc-framework-BusinessChat==10.1 in /Users/work/work-worldmodel2023/venv-mpe/lib/python3.8/site-packages (from PyObjC) (10.1)\n",
      "Requirement already satisfied: pyobjc-framework-NaturalLanguage==10.1 in /Users/work/work-worldmodel2023/venv-mpe/lib/python3.8/site-packages (from PyObjC) (10.1)\n",
      "Requirement already satisfied: pyobjc-framework-Network==10.1 in /Users/work/work-worldmodel2023/venv-mpe/lib/python3.8/site-packages (from PyObjC) (10.1)\n",
      "Requirement already satisfied: pyobjc-framework-UserNotifications==10.1 in /Users/work/work-worldmodel2023/venv-mpe/lib/python3.8/site-packages (from PyObjC) (10.1)\n",
      "Requirement already satisfied: pyobjc-framework-VideoSubscriberAccount==10.1 in /Users/work/work-worldmodel2023/venv-mpe/lib/python3.8/site-packages (from PyObjC) (10.1)\n",
      "Requirement already satisfied: pyobjc-framework-AuthenticationServices==10.1 in /Users/work/work-worldmodel2023/venv-mpe/lib/python3.8/site-packages (from PyObjC) (10.1)\n",
      "Requirement already satisfied: pyobjc-framework-AutomaticAssessmentConfiguration==10.1 in /Users/work/work-worldmodel2023/venv-mpe/lib/python3.8/site-packages (from PyObjC) (10.1)\n",
      "Requirement already satisfied: pyobjc-framework-CoreHaptics==10.1 in /Users/work/work-worldmodel2023/venv-mpe/lib/python3.8/site-packages (from PyObjC) (10.1)\n",
      "Requirement already satisfied: pyobjc-framework-CoreMotion==10.1 in /Users/work/work-worldmodel2023/venv-mpe/lib/python3.8/site-packages (from PyObjC) (10.1)\n",
      "Requirement already satisfied: pyobjc-framework-DeviceCheck==10.1 in /Users/work/work-worldmodel2023/venv-mpe/lib/python3.8/site-packages (from PyObjC) (10.1)\n",
      "Requirement already satisfied: pyobjc-framework-ExecutionPolicy==10.1 in /Users/work/work-worldmodel2023/venv-mpe/lib/python3.8/site-packages (from PyObjC) (10.1)\n",
      "Requirement already satisfied: pyobjc-framework-FileProvider==10.1 in /Users/work/work-worldmodel2023/venv-mpe/lib/python3.8/site-packages (from PyObjC) (10.1)\n",
      "Requirement already satisfied: pyobjc-framework-FileProviderUI==10.1 in /Users/work/work-worldmodel2023/venv-mpe/lib/python3.8/site-packages (from PyObjC) (10.1)\n",
      "Requirement already satisfied: pyobjc-framework-LinkPresentation==10.1 in /Users/work/work-worldmodel2023/venv-mpe/lib/python3.8/site-packages (from PyObjC) (10.1)\n",
      "Requirement already satisfied: pyobjc-framework-OSLog==10.1 in /Users/work/work-worldmodel2023/venv-mpe/lib/python3.8/site-packages (from PyObjC) (10.1)\n",
      "Requirement already satisfied: pyobjc-framework-PencilKit==10.1 in /Users/work/work-worldmodel2023/venv-mpe/lib/python3.8/site-packages (from PyObjC) (10.1)\n",
      "Requirement already satisfied: pyobjc-framework-PushKit==10.1 in /Users/work/work-worldmodel2023/venv-mpe/lib/python3.8/site-packages (from PyObjC) (10.1)\n",
      "Requirement already satisfied: pyobjc-framework-QuickLookThumbnailing==10.1 in /Users/work/work-worldmodel2023/venv-mpe/lib/python3.8/site-packages (from PyObjC) (10.1)\n",
      "Requirement already satisfied: pyobjc-framework-Speech==10.1 in /Users/work/work-worldmodel2023/venv-mpe/lib/python3.8/site-packages (from PyObjC) (10.1)\n",
      "Requirement already satisfied: pyobjc-framework-SoundAnalysis==10.1 in /Users/work/work-worldmodel2023/venv-mpe/lib/python3.8/site-packages (from PyObjC) (10.1)\n",
      "Requirement already satisfied: pyobjc-framework-SystemExtensions==10.1 in /Users/work/work-worldmodel2023/venv-mpe/lib/python3.8/site-packages (from PyObjC) (10.1)\n",
      "Requirement already satisfied: pyobjc-framework-Accessibility==10.1 in /Users/work/work-worldmodel2023/venv-mpe/lib/python3.8/site-packages (from PyObjC) (10.1)\n",
      "Requirement already satisfied: pyobjc-framework-AdServices==10.1 in /Users/work/work-worldmodel2023/venv-mpe/lib/python3.8/site-packages (from PyObjC) (10.1)\n",
      "Requirement already satisfied: pyobjc-framework-AppTrackingTransparency==10.1 in /Users/work/work-worldmodel2023/venv-mpe/lib/python3.8/site-packages (from PyObjC) (10.1)\n",
      "Requirement already satisfied: pyobjc-framework-CallKit==10.1 in /Users/work/work-worldmodel2023/venv-mpe/lib/python3.8/site-packages (from PyObjC) (10.1)\n",
      "Requirement already satisfied: pyobjc-framework-ClassKit==10.1 in /Users/work/work-worldmodel2023/venv-mpe/lib/python3.8/site-packages (from PyObjC) (10.1)\n",
      "Requirement already satisfied: pyobjc-framework-KernelManagement==10.1 in /Users/work/work-worldmodel2023/venv-mpe/lib/python3.8/site-packages (from PyObjC) (10.1)\n",
      "Requirement already satisfied: pyobjc-framework-MetalPerformanceShadersGraph==10.1 in /Users/work/work-worldmodel2023/venv-mpe/lib/python3.8/site-packages (from PyObjC) (10.1)\n",
      "Requirement already satisfied: pyobjc-framework-MLCompute==10.1 in /Users/work/work-worldmodel2023/venv-mpe/lib/python3.8/site-packages (from PyObjC) (10.1)\n",
      "Requirement already satisfied: pyobjc-framework-PassKit==10.1 in /Users/work/work-worldmodel2023/venv-mpe/lib/python3.8/site-packages (from PyObjC) (10.1)\n",
      "Requirement already satisfied: pyobjc-framework-ReplayKit==10.1 in /Users/work/work-worldmodel2023/venv-mpe/lib/python3.8/site-packages (from PyObjC) (10.1)\n",
      "Requirement already satisfied: pyobjc-framework-ScreenTime==10.1 in /Users/work/work-worldmodel2023/venv-mpe/lib/python3.8/site-packages (from PyObjC) (10.1)\n",
      "Requirement already satisfied: pyobjc-framework-UniformTypeIdentifiers==10.1 in /Users/work/work-worldmodel2023/venv-mpe/lib/python3.8/site-packages (from PyObjC) (10.1)\n",
      "Requirement already satisfied: pyobjc-framework-UserNotificationsUI==10.1 in /Users/work/work-worldmodel2023/venv-mpe/lib/python3.8/site-packages (from PyObjC) (10.1)\n",
      "Requirement already satisfied: pyobjc-framework-Virtualization==10.1 in /Users/work/work-worldmodel2023/venv-mpe/lib/python3.8/site-packages (from PyObjC) (10.1)\n",
      "Requirement already satisfied: pyobjc-framework-DataDetection==10.1 in /Users/work/work-worldmodel2023/venv-mpe/lib/python3.8/site-packages (from PyObjC) (10.1)\n",
      "Requirement already satisfied: pyobjc-framework-IntentsUI==10.1 in /Users/work/work-worldmodel2023/venv-mpe/lib/python3.8/site-packages (from PyObjC) (10.1)\n",
      "Requirement already satisfied: pyobjc-framework-LocalAuthenticationEmbeddedUI==10.1 in /Users/work/work-worldmodel2023/venv-mpe/lib/python3.8/site-packages (from PyObjC) (10.1)\n",
      "Requirement already satisfied: pyobjc-framework-MailKit==10.1 in /Users/work/work-worldmodel2023/venv-mpe/lib/python3.8/site-packages (from PyObjC) (10.1)\n",
      "Requirement already satisfied: pyobjc-framework-MetricKit==10.1 in /Users/work/work-worldmodel2023/venv-mpe/lib/python3.8/site-packages (from PyObjC) (10.1)\n",
      "Requirement already satisfied: pyobjc-framework-PHASE==10.1 in /Users/work/work-worldmodel2023/venv-mpe/lib/python3.8/site-packages (from PyObjC) (10.1)\n",
      "Requirement already satisfied: pyobjc-framework-ShazamKit==10.1 in /Users/work/work-worldmodel2023/venv-mpe/lib/python3.8/site-packages (from PyObjC) (10.1)\n",
      "Requirement already satisfied: pyobjc-framework-ScreenCaptureKit==10.1 in /Users/work/work-worldmodel2023/venv-mpe/lib/python3.8/site-packages (from PyObjC) (10.1)\n",
      "Requirement already satisfied: pyobjc-framework-AVRouting==10.1 in /Users/work/work-worldmodel2023/venv-mpe/lib/python3.8/site-packages (from PyObjC) (10.1)\n",
      "Requirement already satisfied: pyobjc-framework-BackgroundAssets==10.1 in /Users/work/work-worldmodel2023/venv-mpe/lib/python3.8/site-packages (from PyObjC) (10.1)\n",
      "Requirement already satisfied: pyobjc-framework-ExtensionKit==10.1 in /Users/work/work-worldmodel2023/venv-mpe/lib/python3.8/site-packages (from PyObjC) (10.1)\n",
      "Requirement already satisfied: pyobjc-framework-HealthKit==10.1 in /Users/work/work-worldmodel2023/venv-mpe/lib/python3.8/site-packages (from PyObjC) (10.1)\n",
      "Requirement already satisfied: pyobjc-framework-MetalFX==10.1 in /Users/work/work-worldmodel2023/venv-mpe/lib/python3.8/site-packages (from PyObjC) (10.1)\n",
      "Requirement already satisfied: pyobjc-framework-SafetyKit==10.1 in /Users/work/work-worldmodel2023/venv-mpe/lib/python3.8/site-packages (from PyObjC) (10.1)\n",
      "Requirement already satisfied: pyobjc-framework-SharedWithYouCore==10.1 in /Users/work/work-worldmodel2023/venv-mpe/lib/python3.8/site-packages (from PyObjC) (10.1)\n",
      "Requirement already satisfied: pyobjc-framework-SharedWithYou==10.1 in /Users/work/work-worldmodel2023/venv-mpe/lib/python3.8/site-packages (from PyObjC) (10.1)\n",
      "Requirement already satisfied: pyobjc-framework-ThreadNetwork==10.1 in /Users/work/work-worldmodel2023/venv-mpe/lib/python3.8/site-packages (from PyObjC) (10.1)\n",
      "Requirement already satisfied: pyobjc-framework-CalendarStore==10.1 in /Users/work/work-worldmodel2023/venv-mpe/lib/python3.8/site-packages (from PyObjC) (10.1)\n",
      "Requirement already satisfied: pyobjc-framework-Collaboration==10.1 in /Users/work/work-worldmodel2023/venv-mpe/lib/python3.8/site-packages (from PyObjC) (10.1)\n",
      "Requirement already satisfied: pyobjc-framework-DictionaryServices==10.1 in /Users/work/work-worldmodel2023/venv-mpe/lib/python3.8/site-packages (from PyObjC) (10.1)\n",
      "Requirement already satisfied: pyobjc-framework-FSEvents==10.1 in /Users/work/work-worldmodel2023/venv-mpe/lib/python3.8/site-packages (from PyObjC) (10.1)\n",
      "Requirement already satisfied: pyobjc-framework-InputMethodKit==10.1 in /Users/work/work-worldmodel2023/venv-mpe/lib/python3.8/site-packages (from PyObjC) (10.1)\n",
      "Requirement already satisfied: pyobjc-framework-InstantMessage==10.1 in /Users/work/work-worldmodel2023/venv-mpe/lib/python3.8/site-packages (from PyObjC) (10.1)\n",
      "Requirement already satisfied: pyobjc-framework-ScriptingBridge==10.1 in /Users/work/work-worldmodel2023/venv-mpe/lib/python3.8/site-packages (from PyObjC) (10.1)\n"
     ]
    }
   ],
   "source": [
    "!python3 -m pip install playsound\n",
    "!python3 -m pip install PyObjC"
   ]
  },
  {
   "cell_type": "code",
   "execution_count": 3,
   "id": "3d2e6aa6",
   "metadata": {
    "scrolled": true
   },
   "outputs": [
    {
     "name": "stdout",
     "output_type": "stream",
     "text": [
      "zsh:1: no matches found: pettingzoo[mpe]\n",
      "Requirement already satisfied: agilerl in /Users/work/work-worldmodel2023/venv-mpe/lib/python3.8/site-packages (0.1.19)\n",
      "Requirement already satisfied: SuperSuit<4.0.0,>=3.9.0 in /Users/work/work-worldmodel2023/venv-mpe/lib/python3.8/site-packages (from agilerl) (3.9.1)\n",
      "Requirement already satisfied: accelerate<0.19.0,>=0.18.0 in /Users/work/work-worldmodel2023/venv-mpe/lib/python3.8/site-packages (from agilerl) (0.18.0)\n",
      "Requirement already satisfied: dill<0.4.0,>=0.3.7 in /Users/work/work-worldmodel2023/venv-mpe/lib/python3.8/site-packages (from agilerl) (0.3.7)\n",
      "Requirement already satisfied: fastrand<2.0.0,>=1.3.0 in /Users/work/work-worldmodel2023/venv-mpe/lib/python3.8/site-packages (from agilerl) (1.8.0)\n",
      "Requirement already satisfied: flatten_dict<0.5.0,>=0.4.2 in /Users/work/work-worldmodel2023/venv-mpe/lib/python3.8/site-packages (from agilerl) (0.4.2)\n",
      "Requirement already satisfied: gymnasium<0.29.0,>=0.28.1 in /Users/work/work-worldmodel2023/venv-mpe/lib/python3.8/site-packages (from agilerl) (0.28.1)\n",
      "Requirement already satisfied: h5py<4.0.0,>=3.8.0 in /Users/work/work-worldmodel2023/venv-mpe/lib/python3.8/site-packages (from agilerl) (3.10.0)\n",
      "Requirement already satisfied: hydra-core<2.0.0,>=1.3.2 in /Users/work/work-worldmodel2023/venv-mpe/lib/python3.8/site-packages (from agilerl) (1.3.2)\n",
      "Requirement already satisfied: matplotlib<4.0.0,>=3.4.3 in /Users/work/work-worldmodel2023/venv-mpe/lib/python3.8/site-packages (from agilerl) (3.7.4)\n",
      "Requirement already satisfied: minari<0.5.0,>=0.4.1 in /Users/work/work-worldmodel2023/venv-mpe/lib/python3.8/site-packages (from agilerl) (0.4.2)\n",
      "Requirement already satisfied: numpy<2.0.0,>=1.24.2 in /Users/work/work-worldmodel2023/venv-mpe/lib/python3.8/site-packages (from agilerl) (1.24.4)\n",
      "Requirement already satisfied: omegaconf<3.0.0,>=2.3.0 in /Users/work/work-worldmodel2023/venv-mpe/lib/python3.8/site-packages (from agilerl) (2.3.0)\n",
      "Requirement already satisfied: pettingzoo<2.0.0,>=1.23.1 in /Users/work/work-worldmodel2023/venv-mpe/lib/python3.8/site-packages (from agilerl) (1.24.2)\n",
      "Requirement already satisfied: pre-commit<4.0.0,>=3.4.0 in /Users/work/work-worldmodel2023/venv-mpe/lib/python3.8/site-packages (from agilerl) (3.5.0)\n",
      "Requirement already satisfied: redis<5.0.0,>=4.4.4 in /Users/work/work-worldmodel2023/venv-mpe/lib/python3.8/site-packages (from agilerl) (4.6.0)\n",
      "Requirement already satisfied: termcolor<2.0.0,>=1.1.0 in /Users/work/work-worldmodel2023/venv-mpe/lib/python3.8/site-packages (from agilerl) (1.1.0)\n",
      "Requirement already satisfied: torch<3.0.0,>=2.0.1 in /Users/work/work-worldmodel2023/venv-mpe/lib/python3.8/site-packages (from agilerl) (2.1.2)\n",
      "Requirement already satisfied: tqdm<5.0.0,>=4.65.0 in /Users/work/work-worldmodel2023/venv-mpe/lib/python3.8/site-packages (from agilerl) (4.66.1)\n",
      "Requirement already satisfied: transformers<5.0.0,>=4.30.0 in /Users/work/work-worldmodel2023/venv-mpe/lib/python3.8/site-packages (from agilerl) (4.36.1)\n",
      "Requirement already satisfied: wandb<0.14.0,>=0.13.10 in /Users/work/work-worldmodel2023/venv-mpe/lib/python3.8/site-packages (from agilerl) (0.13.11)\n",
      "Requirement already satisfied: packaging>=20.0 in /Users/work/work-worldmodel2023/venv-mpe/lib/python3.8/site-packages (from accelerate<0.19.0,>=0.18.0->agilerl) (23.1)\n",
      "Requirement already satisfied: psutil in /Users/work/work-worldmodel2023/venv-mpe/lib/python3.8/site-packages (from accelerate<0.19.0,>=0.18.0->agilerl) (5.9.6)\n",
      "Requirement already satisfied: pyyaml in /Users/work/work-worldmodel2023/venv-mpe/lib/python3.8/site-packages (from accelerate<0.19.0,>=0.18.0->agilerl) (6.0.1)\n",
      "Requirement already satisfied: six<2.0,>=1.12 in /Users/work/work-worldmodel2023/venv-mpe/lib/python3.8/site-packages (from flatten_dict<0.5.0,>=0.4.2->agilerl) (1.16.0)\n",
      "Requirement already satisfied: jax-jumpy>=1.0.0 in /Users/work/work-worldmodel2023/venv-mpe/lib/python3.8/site-packages (from gymnasium<0.29.0,>=0.28.1->agilerl) (1.0.0)\n",
      "Requirement already satisfied: cloudpickle>=1.2.0 in /Users/work/work-worldmodel2023/venv-mpe/lib/python3.8/site-packages (from gymnasium<0.29.0,>=0.28.1->agilerl) (3.0.0)\n",
      "Requirement already satisfied: typing-extensions>=4.3.0 in /Users/work/work-worldmodel2023/venv-mpe/lib/python3.8/site-packages (from gymnasium<0.29.0,>=0.28.1->agilerl) (4.8.0)\n",
      "Requirement already satisfied: farama-notifications>=0.0.1 in /Users/work/work-worldmodel2023/venv-mpe/lib/python3.8/site-packages (from gymnasium<0.29.0,>=0.28.1->agilerl) (0.0.4)\n",
      "Requirement already satisfied: importlib-metadata>=4.8.0 in /Users/work/work-worldmodel2023/venv-mpe/lib/python3.8/site-packages (from gymnasium<0.29.0,>=0.28.1->agilerl) (6.8.0)\n",
      "Requirement already satisfied: antlr4-python3-runtime==4.9.* in /Users/work/work-worldmodel2023/venv-mpe/lib/python3.8/site-packages (from hydra-core<2.0.0,>=1.3.2->agilerl) (4.9.3)\n",
      "Requirement already satisfied: importlib-resources in /Users/work/work-worldmodel2023/venv-mpe/lib/python3.8/site-packages (from hydra-core<2.0.0,>=1.3.2->agilerl) (6.1.1)\n",
      "Requirement already satisfied: contourpy>=1.0.1 in /Users/work/work-worldmodel2023/venv-mpe/lib/python3.8/site-packages (from matplotlib<4.0.0,>=3.4.3->agilerl) (1.1.1)\n",
      "Requirement already satisfied: cycler>=0.10 in /Users/work/work-worldmodel2023/venv-mpe/lib/python3.8/site-packages (from matplotlib<4.0.0,>=3.4.3->agilerl) (0.12.1)\n",
      "Requirement already satisfied: fonttools>=4.22.0 in /Users/work/work-worldmodel2023/venv-mpe/lib/python3.8/site-packages (from matplotlib<4.0.0,>=3.4.3->agilerl) (4.46.0)\n",
      "Requirement already satisfied: kiwisolver>=1.0.1 in /Users/work/work-worldmodel2023/venv-mpe/lib/python3.8/site-packages (from matplotlib<4.0.0,>=3.4.3->agilerl) (1.4.5)\n",
      "Requirement already satisfied: pillow>=6.2.0 in /Users/work/work-worldmodel2023/venv-mpe/lib/python3.8/site-packages (from matplotlib<4.0.0,>=3.4.3->agilerl) (10.1.0)\n",
      "Requirement already satisfied: pyparsing>=2.3.1 in /Users/work/work-worldmodel2023/venv-mpe/lib/python3.8/site-packages (from matplotlib<4.0.0,>=3.4.3->agilerl) (3.1.1)\n",
      "Requirement already satisfied: python-dateutil>=2.7 in /Users/work/work-worldmodel2023/venv-mpe/lib/python3.8/site-packages (from matplotlib<4.0.0,>=3.4.3->agilerl) (2.8.2)\n",
      "Requirement already satisfied: google-cloud-storage==2.5.0 in /Users/work/work-worldmodel2023/venv-mpe/lib/python3.8/site-packages (from minari<0.5.0,>=0.4.1->agilerl) (2.5.0)\n",
      "Requirement already satisfied: typer==0.9.0 in /Users/work/work-worldmodel2023/venv-mpe/lib/python3.8/site-packages (from typer[all]==0.9.0->minari<0.5.0,>=0.4.1->agilerl) (0.9.0)\n",
      "Requirement already satisfied: portion==2.4.0 in /Users/work/work-worldmodel2023/venv-mpe/lib/python3.8/site-packages (from minari<0.5.0,>=0.4.1->agilerl) (2.4.0)\n",
      "Requirement already satisfied: google-auth<3.0dev,>=1.25.0 in /Users/work/work-worldmodel2023/venv-mpe/lib/python3.8/site-packages (from google-cloud-storage==2.5.0->minari<0.5.0,>=0.4.1->agilerl) (2.25.2)\n",
      "Requirement already satisfied: google-api-core!=2.0.*,!=2.1.*,!=2.2.*,!=2.3.0,<3.0.0dev,>=1.31.5 in /Users/work/work-worldmodel2023/venv-mpe/lib/python3.8/site-packages (from google-cloud-storage==2.5.0->minari<0.5.0,>=0.4.1->agilerl) (2.15.0)\n",
      "Requirement already satisfied: google-cloud-core<3.0dev,>=2.3.0 in /Users/work/work-worldmodel2023/venv-mpe/lib/python3.8/site-packages (from google-cloud-storage==2.5.0->minari<0.5.0,>=0.4.1->agilerl) (2.4.1)\n",
      "Requirement already satisfied: google-resumable-media>=2.3.2 in /Users/work/work-worldmodel2023/venv-mpe/lib/python3.8/site-packages (from google-cloud-storage==2.5.0->minari<0.5.0,>=0.4.1->agilerl) (2.7.0)\n",
      "Requirement already satisfied: requests<3.0.0dev,>=2.18.0 in /Users/work/work-worldmodel2023/venv-mpe/lib/python3.8/site-packages (from google-cloud-storage==2.5.0->minari<0.5.0,>=0.4.1->agilerl) (2.31.0)\n",
      "Requirement already satisfied: sortedcontainers~=2.2 in /Users/work/work-worldmodel2023/venv-mpe/lib/python3.8/site-packages (from portion==2.4.0->minari<0.5.0,>=0.4.1->agilerl) (2.4.0)\n",
      "Requirement already satisfied: click<9.0.0,>=7.1.1 in /Users/work/work-worldmodel2023/venv-mpe/lib/python3.8/site-packages (from typer==0.9.0->typer[all]==0.9.0->minari<0.5.0,>=0.4.1->agilerl) (8.1.7)\n",
      "Requirement already satisfied: colorama<0.5.0,>=0.4.3 in /Users/work/work-worldmodel2023/venv-mpe/lib/python3.8/site-packages (from typer[all]==0.9.0->minari<0.5.0,>=0.4.1->agilerl) (0.4.6)\n",
      "Requirement already satisfied: shellingham<2.0.0,>=1.3.0 in /Users/work/work-worldmodel2023/venv-mpe/lib/python3.8/site-packages (from typer[all]==0.9.0->minari<0.5.0,>=0.4.1->agilerl) (1.5.4)\n",
      "Requirement already satisfied: rich<14.0.0,>=10.11.0 in /Users/work/work-worldmodel2023/venv-mpe/lib/python3.8/site-packages (from typer[all]==0.9.0->minari<0.5.0,>=0.4.1->agilerl) (13.7.0)\n",
      "Requirement already satisfied: cfgv>=2.0.0 in /Users/work/work-worldmodel2023/venv-mpe/lib/python3.8/site-packages (from pre-commit<4.0.0,>=3.4.0->agilerl) (3.4.0)\n",
      "Requirement already satisfied: identify>=1.0.0 in /Users/work/work-worldmodel2023/venv-mpe/lib/python3.8/site-packages (from pre-commit<4.0.0,>=3.4.0->agilerl) (2.5.33)\n",
      "Requirement already satisfied: nodeenv>=0.11.1 in /Users/work/work-worldmodel2023/venv-mpe/lib/python3.8/site-packages (from pre-commit<4.0.0,>=3.4.0->agilerl) (1.8.0)\n",
      "Requirement already satisfied: virtualenv>=20.10.0 in /Users/work/work-worldmodel2023/venv-mpe/lib/python3.8/site-packages (from pre-commit<4.0.0,>=3.4.0->agilerl) (20.25.0)\n",
      "Requirement already satisfied: async-timeout>=4.0.2 in /Users/work/work-worldmodel2023/venv-mpe/lib/python3.8/site-packages (from redis<5.0.0,>=4.4.4->agilerl) (4.0.3)\n",
      "Requirement already satisfied: tinyscaler>=1.2.6 in /Users/work/work-worldmodel2023/venv-mpe/lib/python3.8/site-packages (from SuperSuit<4.0.0,>=3.9.0->agilerl) (1.2.7)\n",
      "Requirement already satisfied: filelock in /Users/work/work-worldmodel2023/venv-mpe/lib/python3.8/site-packages (from torch<3.0.0,>=2.0.1->agilerl) (3.13.1)\n",
      "Requirement already satisfied: sympy in /Users/work/work-worldmodel2023/venv-mpe/lib/python3.8/site-packages (from torch<3.0.0,>=2.0.1->agilerl) (1.12)\n",
      "Requirement already satisfied: networkx in /Users/work/work-worldmodel2023/venv-mpe/lib/python3.8/site-packages (from torch<3.0.0,>=2.0.1->agilerl) (3.1)\n",
      "Requirement already satisfied: jinja2 in /Users/work/work-worldmodel2023/venv-mpe/lib/python3.8/site-packages (from torch<3.0.0,>=2.0.1->agilerl) (3.1.2)\n",
      "Requirement already satisfied: fsspec in /Users/work/work-worldmodel2023/venv-mpe/lib/python3.8/site-packages (from torch<3.0.0,>=2.0.1->agilerl) (2023.12.2)\n",
      "Requirement already satisfied: huggingface-hub<1.0,>=0.19.3 in /Users/work/work-worldmodel2023/venv-mpe/lib/python3.8/site-packages (from transformers<5.0.0,>=4.30.0->agilerl) (0.19.4)\n",
      "Requirement already satisfied: regex!=2019.12.17 in /Users/work/work-worldmodel2023/venv-mpe/lib/python3.8/site-packages (from transformers<5.0.0,>=4.30.0->agilerl) (2023.10.3)\n",
      "Requirement already satisfied: tokenizers<0.19,>=0.14 in /Users/work/work-worldmodel2023/venv-mpe/lib/python3.8/site-packages (from transformers<5.0.0,>=4.30.0->agilerl) (0.15.0)\n",
      "Requirement already satisfied: safetensors>=0.3.1 in /Users/work/work-worldmodel2023/venv-mpe/lib/python3.8/site-packages (from transformers<5.0.0,>=4.30.0->agilerl) (0.4.1)\n",
      "Requirement already satisfied: GitPython!=3.1.29,>=1.0.0 in /Users/work/work-worldmodel2023/venv-mpe/lib/python3.8/site-packages (from wandb<0.14.0,>=0.13.10->agilerl) (3.1.40)\n",
      "Requirement already satisfied: sentry-sdk>=1.0.0 in /Users/work/work-worldmodel2023/venv-mpe/lib/python3.8/site-packages (from wandb<0.14.0,>=0.13.10->agilerl) (1.39.1)\n",
      "Requirement already satisfied: docker-pycreds>=0.4.0 in /Users/work/work-worldmodel2023/venv-mpe/lib/python3.8/site-packages (from wandb<0.14.0,>=0.13.10->agilerl) (0.4.0)\n",
      "Requirement already satisfied: pathtools in /Users/work/work-worldmodel2023/venv-mpe/lib/python3.8/site-packages (from wandb<0.14.0,>=0.13.10->agilerl) (0.1.2)\n",
      "Requirement already satisfied: setproctitle in /Users/work/work-worldmodel2023/venv-mpe/lib/python3.8/site-packages (from wandb<0.14.0,>=0.13.10->agilerl) (1.3.3)\n",
      "Requirement already satisfied: setuptools in /Users/work/work-worldmodel2023/venv-mpe/lib/python3.8/site-packages (from wandb<0.14.0,>=0.13.10->agilerl) (41.2.0)\n",
      "Requirement already satisfied: appdirs>=1.4.3 in /Users/work/work-worldmodel2023/venv-mpe/lib/python3.8/site-packages (from wandb<0.14.0,>=0.13.10->agilerl) (1.4.4)\n",
      "Requirement already satisfied: protobuf!=4.21.0,<5,>=3.19.0 in /Users/work/work-worldmodel2023/venv-mpe/lib/python3.8/site-packages (from wandb<0.14.0,>=0.13.10->agilerl) (4.25.1)\n",
      "Requirement already satisfied: gitdb<5,>=4.0.1 in /Users/work/work-worldmodel2023/venv-mpe/lib/python3.8/site-packages (from GitPython!=3.1.29,>=1.0.0->wandb<0.14.0,>=0.13.10->agilerl) (4.0.11)\n",
      "Requirement already satisfied: zipp>=0.5 in /Users/work/work-worldmodel2023/venv-mpe/lib/python3.8/site-packages (from importlib-metadata>=4.8.0->gymnasium<0.29.0,>=0.28.1->agilerl) (3.17.0)\n",
      "Requirement already satisfied: charset-normalizer<4,>=2 in /Users/work/work-worldmodel2023/venv-mpe/lib/python3.8/site-packages (from requests<3.0.0dev,>=2.18.0->google-cloud-storage==2.5.0->minari<0.5.0,>=0.4.1->agilerl) (3.3.2)\n",
      "Requirement already satisfied: idna<4,>=2.5 in /Users/work/work-worldmodel2023/venv-mpe/lib/python3.8/site-packages (from requests<3.0.0dev,>=2.18.0->google-cloud-storage==2.5.0->minari<0.5.0,>=0.4.1->agilerl) (3.6)\n",
      "Requirement already satisfied: urllib3<3,>=1.21.1 in /Users/work/work-worldmodel2023/venv-mpe/lib/python3.8/site-packages (from requests<3.0.0dev,>=2.18.0->google-cloud-storage==2.5.0->minari<0.5.0,>=0.4.1->agilerl) (2.1.0)\n",
      "Requirement already satisfied: certifi>=2017.4.17 in /Users/work/work-worldmodel2023/venv-mpe/lib/python3.8/site-packages (from requests<3.0.0dev,>=2.18.0->google-cloud-storage==2.5.0->minari<0.5.0,>=0.4.1->agilerl) (2023.11.17)\n",
      "Requirement already satisfied: distlib<1,>=0.3.7 in /Users/work/work-worldmodel2023/venv-mpe/lib/python3.8/site-packages (from virtualenv>=20.10.0->pre-commit<4.0.0,>=3.4.0->agilerl) (0.3.8)\n",
      "Requirement already satisfied: platformdirs<5,>=3.9.1 in /Users/work/work-worldmodel2023/venv-mpe/lib/python3.8/site-packages (from virtualenv>=20.10.0->pre-commit<4.0.0,>=3.4.0->agilerl) (4.1.0)\n",
      "Requirement already satisfied: MarkupSafe>=2.0 in /Users/work/work-worldmodel2023/venv-mpe/lib/python3.8/site-packages (from jinja2->torch<3.0.0,>=2.0.1->agilerl) (2.1.3)\n",
      "Requirement already satisfied: mpmath>=0.19 in /Users/work/work-worldmodel2023/venv-mpe/lib/python3.8/site-packages (from sympy->torch<3.0.0,>=2.0.1->agilerl) (1.3.0)\n",
      "Requirement already satisfied: smmap<6,>=3.0.1 in /Users/work/work-worldmodel2023/venv-mpe/lib/python3.8/site-packages (from gitdb<5,>=4.0.1->GitPython!=3.1.29,>=1.0.0->wandb<0.14.0,>=0.13.10->agilerl) (5.0.1)\n",
      "Requirement already satisfied: googleapis-common-protos<2.0.dev0,>=1.56.2 in /Users/work/work-worldmodel2023/venv-mpe/lib/python3.8/site-packages (from google-api-core!=2.0.*,!=2.1.*,!=2.2.*,!=2.3.0,<3.0.0dev,>=1.31.5->google-cloud-storage==2.5.0->minari<0.5.0,>=0.4.1->agilerl) (1.62.0)\n",
      "Requirement already satisfied: cachetools<6.0,>=2.0.0 in /Users/work/work-worldmodel2023/venv-mpe/lib/python3.8/site-packages (from google-auth<3.0dev,>=1.25.0->google-cloud-storage==2.5.0->minari<0.5.0,>=0.4.1->agilerl) (5.3.2)\n",
      "Requirement already satisfied: pyasn1-modules>=0.2.1 in /Users/work/work-worldmodel2023/venv-mpe/lib/python3.8/site-packages (from google-auth<3.0dev,>=1.25.0->google-cloud-storage==2.5.0->minari<0.5.0,>=0.4.1->agilerl) (0.3.0)\n",
      "Requirement already satisfied: rsa<5,>=3.1.4 in /Users/work/work-worldmodel2023/venv-mpe/lib/python3.8/site-packages (from google-auth<3.0dev,>=1.25.0->google-cloud-storage==2.5.0->minari<0.5.0,>=0.4.1->agilerl) (4.9)\n",
      "Requirement already satisfied: google-crc32c<2.0dev,>=1.0 in /Users/work/work-worldmodel2023/venv-mpe/lib/python3.8/site-packages (from google-resumable-media>=2.3.2->google-cloud-storage==2.5.0->minari<0.5.0,>=0.4.1->agilerl) (1.5.0)\n",
      "Requirement already satisfied: markdown-it-py>=2.2.0 in /Users/work/work-worldmodel2023/venv-mpe/lib/python3.8/site-packages (from rich<14.0.0,>=10.11.0->typer[all]==0.9.0->minari<0.5.0,>=0.4.1->agilerl) (3.0.0)\n",
      "Requirement already satisfied: pygments<3.0.0,>=2.13.0 in /Users/work/work-worldmodel2023/venv-mpe/lib/python3.8/site-packages (from rich<14.0.0,>=10.11.0->typer[all]==0.9.0->minari<0.5.0,>=0.4.1->agilerl) (2.17.2)\n",
      "Requirement already satisfied: mdurl~=0.1 in /Users/work/work-worldmodel2023/venv-mpe/lib/python3.8/site-packages (from markdown-it-py>=2.2.0->rich<14.0.0,>=10.11.0->typer[all]==0.9.0->minari<0.5.0,>=0.4.1->agilerl) (0.1.2)\n",
      "Requirement already satisfied: pyasn1<0.6.0,>=0.4.6 in /Users/work/work-worldmodel2023/venv-mpe/lib/python3.8/site-packages (from pyasn1-modules>=0.2.1->google-auth<3.0dev,>=1.25.0->google-cloud-storage==2.5.0->minari<0.5.0,>=0.4.1->agilerl) (0.5.1)\n",
      "Requirement already satisfied: imageio in /Users/work/work-worldmodel2023/venv-mpe/lib/python3.8/site-packages (2.33.1)\n",
      "Requirement already satisfied: numpy in /Users/work/work-worldmodel2023/venv-mpe/lib/python3.8/site-packages (from imageio) (1.24.4)\n",
      "Requirement already satisfied: pillow>=8.3.2 in /Users/work/work-worldmodel2023/venv-mpe/lib/python3.8/site-packages (from imageio) (10.1.0)\n"
     ]
    }
   ],
   "source": [
    "!pip install pettingzoo[mpe]\n",
    "!pip install agilerl\n",
    "!pip install imageio"
   ]
  },
  {
   "cell_type": "code",
   "execution_count": 4,
   "id": "650780a5-3d68-4be5-86f0-c82da80a1cbc",
   "metadata": {},
   "outputs": [
    {
     "name": "stdout",
     "output_type": "stream",
     "text": [
      "20231224-1008\n"
     ]
    }
   ],
   "source": [
    "#現在日時を取得\n",
    "import datetime\n",
    "\n",
    "dt_now = datetime.datetime.now()\n",
    "str_dt_now = dt_now.strftime(\"%Y%m%d-%H%M\")\n",
    "print(str_dt_now)"
   ]
  },
  {
   "cell_type": "code",
   "execution_count": 5,
   "id": "b763bc86-f7c4-4ab5-adf3-98068042f627",
   "metadata": {},
   "outputs": [
    {
     "name": "stdout",
     "output_type": "stream",
     "text": [
      "===== AgileRL Online Multi-Agent Demo =====\n",
      "state_dim [(3,), (11,)]\n",
      "action_dim [3, 5]\n",
      "one_hot False\n",
      "NET_CONFIG\n",
      "{'arch': 'mlp', 'h_size': [32, 32]}\n",
      "INIT_HP\n",
      "{'AGENT_IDS': ['speaker_0', 'listener_0'],\n",
      " 'ALGO': 'MATD3',\n",
      " 'BATCH_SIZE': 32,\n",
      " 'CHANNELS_LAST': False,\n",
      " 'DISCRETE_ACTIONS': False,\n",
      " 'GAMMA': 0.95,\n",
      " 'LEARN_STEP': 5,\n",
      " 'LR': 0.01,\n",
      " 'MAX_ACTION': [array([1., 1., 1.], dtype=float32),\n",
      "                array([1., 1., 1., 1., 1.], dtype=float32)],\n",
      " 'MEMORY_SIZE': 100000,\n",
      " 'MIN_ACTION': [array([0., 0., 0.], dtype=float32),\n",
      "                array([0., 0., 0., 0., 0.], dtype=float32)],\n",
      " 'N_AGENTS': 2,\n",
      " 'POLICY_FREQ': 2,\n",
      " 'POPULATION_SIZE': 4,\n",
      " 'TAU': 0.01}\n",
      "device cpu\n"
     ]
    },
    {
     "name": "stderr",
     "output_type": "stream",
     "text": [
      "/Users/work/work-worldmodel2023/venv-mpe/lib/python3.8/site-packages/urllib3/__init__.py:34: NotOpenSSLWarning: urllib3 v2 only supports OpenSSL 1.1.1+, currently the 'ssl' module is compiled with 'LibreSSL 2.8.3'. See: https://github.com/urllib3/urllib3/issues/3020\n",
      "  warnings.warn(\n",
      "/Users/work/work-worldmodel2023/venv-mpe/lib/python3.8/site-packages/tqdm/auto.py:21: TqdmWarning: IProgress not found. Please update jupyter and ipywidgets. See https://ipywidgets.readthedocs.io/en/stable/user_install.html\n",
      "  from .autonotebook import tqdm as notebook_tqdm\n",
      "  1%|▎                                        | 19/3000 [00:05<13:27,  3.69it/s]"
     ]
    },
    {
     "name": "stdout",
     "output_type": "stream",
     "text": [
      "Episode 20/3000\n",
      "Fitnesses: ['-77.74', '-48.08', '-621.77', '-396.56']\n",
      "100 fitness avgs: ['-77.74', '-48.08', '-621.77', '-396.56']\n"
     ]
    },
    {
     "name": "stderr",
     "output_type": "stream",
     "text": [
      "  1%|▌                                        | 39/3000 [00:11<13:52,  3.56it/s]"
     ]
    },
    {
     "name": "stdout",
     "output_type": "stream",
     "text": [
      "Episode 40/3000\n",
      "Fitnesses: ['-7.33', '-75.92', '-559.58', '-210.39']\n",
      "100 fitness avgs: ['-27.70', '-62.00', '-478.07', '-144.07']\n"
     ]
    },
    {
     "name": "stderr",
     "output_type": "stream",
     "text": [
      "  2%|▊                                        | 59/3000 [00:16<13:43,  3.57it/s]"
     ]
    },
    {
     "name": "stdout",
     "output_type": "stream",
     "text": [
      "Episode 60/3000\n",
      "Fitnesses: ['-96.86', '-162.52', '-66.75', '-59.18']\n",
      "100 fitness avgs: ['-50.75', '-95.50', '-63.58', '-115.77']\n"
     ]
    },
    {
     "name": "stderr",
     "output_type": "stream",
     "text": [
      "  3%|█                                        | 79/3000 [00:22<13:32,  3.60it/s]"
     ]
    },
    {
     "name": "stdout",
     "output_type": "stream",
     "text": [
      "Episode 80/3000\n",
      "Fitnesses: ['-8.76', '-155.22', '-7.88', '-83.76']\n",
      "100 fitness avgs: ['-89.02', '-86.49', '-40.04', '-68.63']\n"
     ]
    },
    {
     "name": "stderr",
     "output_type": "stream",
     "text": [
      "  3%|█▎                                       | 99/3000 [00:29<16:34,  2.92it/s]"
     ]
    },
    {
     "name": "stdout",
     "output_type": "stream",
     "text": [
      "Episode 100/3000\n",
      "Fitnesses: ['-102.77', '-176.44', '-100.25', '-19.42']\n",
      "100 fitness avgs: ['-52.58', '-67.32', '-91.26', '-35.91']\n"
     ]
    },
    {
     "name": "stderr",
     "output_type": "stream",
     "text": [
      "  4%|█▌                                      | 119/3000 [00:36<17:26,  2.75it/s]"
     ]
    },
    {
     "name": "stdout",
     "output_type": "stream",
     "text": [
      "Episode 120/3000\n",
      "Fitnesses: ['-29.09', '-29.90', '-10.99', '-14.39']\n",
      "100 fitness avgs: ['-34.78', '-34.91', '-31.76', '-46.22']\n"
     ]
    },
    {
     "name": "stderr",
     "output_type": "stream",
     "text": [
      "  5%|█▊                                      | 139/3000 [00:43<17:03,  2.80it/s]"
     ]
    },
    {
     "name": "stdout",
     "output_type": "stream",
     "text": [
      "Episode 140/3000\n",
      "Fitnesses: ['-4.61', '-7.37', '-26.53', '-58.66']\n",
      "100 fitness avgs: ['-27.88', '-30.86', '-43.40', '-38.19']\n"
     ]
    },
    {
     "name": "stderr",
     "output_type": "stream",
     "text": [
      "  5%|██                                      | 159/3000 [00:51<18:21,  2.58it/s]"
     ]
    },
    {
     "name": "stdout",
     "output_type": "stream",
     "text": [
      "Episode 160/3000\n",
      "Fitnesses: ['-27.26', '-96.70', '-22.38', '-1.44']\n",
      "100 fitness avgs: ['-27.80', '-50.07', '-36.21', '-27.18']\n"
     ]
    },
    {
     "name": "stderr",
     "output_type": "stream",
     "text": [
      "  6%|██▍                                     | 179/3000 [00:59<18:48,  2.50it/s]"
     ]
    },
    {
     "name": "stdout",
     "output_type": "stream",
     "text": [
      "Episode 180/3000\n",
      "Fitnesses: ['-39.04', '-72.27', '-46.15', '-54.48']\n",
      "100 fitness avgs: ['-28.50', '-32.74', '-29.29', '-30.22']\n"
     ]
    },
    {
     "name": "stderr",
     "output_type": "stream",
     "text": [
      "  7%|██▋                                     | 199/3000 [01:07<18:44,  2.49it/s]"
     ]
    },
    {
     "name": "stdout",
     "output_type": "stream",
     "text": [
      "Episode 200/3000\n",
      "Fitnesses: ['-42.39', '-41.40', '-3.02', '-14.44']\n",
      "100 fitness avgs: ['-29.89', '-29.79', '-25.95', '-27.81']\n"
     ]
    },
    {
     "name": "stderr",
     "output_type": "stream",
     "text": [
      "  7%|██▉                                     | 219/3000 [01:15<17:22,  2.67it/s]"
     ]
    },
    {
     "name": "stdout",
     "output_type": "stream",
     "text": [
      "Episode 220/3000\n",
      "Fitnesses: ['-15.35', '-26.02', '-67.52', '-32.87']\n",
      "100 fitness avgs: ['-24.99', '-29.54', '-31.42', '-30.07']\n"
     ]
    },
    {
     "name": "stderr",
     "output_type": "stream",
     "text": [
      "  8%|███▏                                    | 239/3000 [01:22<17:07,  2.69it/s]"
     ]
    },
    {
     "name": "stdout",
     "output_type": "stream",
     "text": [
      "Episode 240/3000\n",
      "Fitnesses: ['-126.60', '-115.02', '-29.01', '-6.62']\n",
      "100 fitness avgs: ['-33.46', '-36.66', '-29.49', '-27.63']\n"
     ]
    },
    {
     "name": "stderr",
     "output_type": "stream",
     "text": [
      "  9%|███▍                                    | 259/3000 [01:31<20:11,  2.26it/s]"
     ]
    },
    {
     "name": "stdout",
     "output_type": "stream",
     "text": [
      "Episode 260/3000\n",
      "Fitnesses: ['-46.11', '-8.10', '-8.22', '-27.52']\n",
      "100 fitness avgs: ['-29.05', '-34.47', '-26.14', '-27.62']\n"
     ]
    },
    {
     "name": "stderr",
     "output_type": "stream",
     "text": [
      "  9%|███▋                                    | 280/3000 [01:41<22:33,  2.01it/s]"
     ]
    },
    {
     "name": "stdout",
     "output_type": "stream",
     "text": [
      "Episode 280/3000\n",
      "Fitnesses: ['-19.66', '-68.64', '-152.31', '-25.80']\n",
      "100 fitness avgs: ['-33.41', '-36.91', '-42.88', '-26.11']\n"
     ]
    },
    {
     "name": "stderr",
     "output_type": "stream",
     "text": [
      " 10%|███▉                                    | 299/3000 [01:47<14:13,  3.17it/s]"
     ]
    },
    {
     "name": "stdout",
     "output_type": "stream",
     "text": [
      "Episode 300/3000\n",
      "Fitnesses: ['-46.81', '-31.83', '-51.56', '-30.15']\n",
      "100 fitness avgs: ['-34.30', '-26.49', '-34.62', '-33.19']\n"
     ]
    },
    {
     "name": "stderr",
     "output_type": "stream",
     "text": [
      " 11%|████▎                                   | 319/3000 [01:53<14:07,  3.17it/s]"
     ]
    },
    {
     "name": "stdout",
     "output_type": "stream",
     "text": [
      "Episode 320/3000\n",
      "Fitnesses: ['-18.45', '-103.45', '-85.35', '-55.34']\n",
      "100 fitness avgs: ['-32.27', '-31.30', '-36.45', '-35.91']\n"
     ]
    },
    {
     "name": "stderr",
     "output_type": "stream",
     "text": [
      " 11%|████▌                                   | 340/3000 [01:59<15:11,  2.92it/s]"
     ]
    },
    {
     "name": "stdout",
     "output_type": "stream",
     "text": [
      "Episode 340/3000\n",
      "Fitnesses: ['-124.02', '-7.00', '-3.72', '-37.60']\n",
      "100 fitness avgs: ['-37.67', '-34.21', '-34.02', '-36.01']\n"
     ]
    },
    {
     "name": "stderr",
     "output_type": "stream",
     "text": [
      " 12%|████▊                                   | 360/3000 [02:05<15:07,  2.91it/s]"
     ]
    },
    {
     "name": "stdout",
     "output_type": "stream",
     "text": [
      "Episode 360/3000\n",
      "Fitnesses: ['-23.55', '-20.81', '-44.11', '-33.27']\n",
      "100 fitness avgs: ['-33.44', '-33.47', '-34.58', '-33.98']\n"
     ]
    },
    {
     "name": "stderr",
     "output_type": "stream",
     "text": [
      " 13%|█████                                   | 379/3000 [02:11<12:40,  3.44it/s]"
     ]
    },
    {
     "name": "stdout",
     "output_type": "stream",
     "text": [
      "Episode 380/3000\n",
      "Fitnesses: ['-9.80', '-44.35', '-20.31', '-39.94']\n",
      "100 fitness avgs: ['-32.22', '-34.01', '-33.26', '-34.29']\n"
     ]
    },
    {
     "name": "stderr",
     "output_type": "stream",
     "text": [
      " 13%|█████▎                                  | 400/3000 [02:17<15:19,  2.83it/s]"
     ]
    },
    {
     "name": "stdout",
     "output_type": "stream",
     "text": [
      "Episode 400/3000\n",
      "Fitnesses: ['-2.42', '-12.24', '-68.35', '-27.82']\n",
      "100 fitness avgs: ['-30.73', '-31.22', '-35.01', '-32.00']\n"
     ]
    },
    {
     "name": "stderr",
     "output_type": "stream",
     "text": [
      " 14%|█████▌                                  | 419/3000 [02:22<12:07,  3.55it/s]"
     ]
    },
    {
     "name": "stdout",
     "output_type": "stream",
     "text": [
      "Episode 420/3000\n",
      "Fitnesses: ['-92.15', '-29.04', '-29.37', '-35.33']\n",
      "100 fitness avgs: ['-33.66', '-31.12', '-34.74', '-30.95']\n"
     ]
    },
    {
     "name": "stderr",
     "output_type": "stream",
     "text": [
      " 15%|█████▊                                  | 440/3000 [02:29<14:58,  2.85it/s]"
     ]
    },
    {
     "name": "stdout",
     "output_type": "stream",
     "text": [
      "Episode 440/3000\n",
      "Fitnesses: ['-68.76', '-27.45', '-14.58', '-70.33']\n",
      "100 fitness avgs: ['-32.83', '-30.95', '-30.37', '-32.90']\n"
     ]
    },
    {
     "name": "stderr",
     "output_type": "stream",
     "text": [
      " 15%|██████▏                                 | 460/3000 [02:34<14:21,  2.95it/s]"
     ]
    },
    {
     "name": "stdout",
     "output_type": "stream",
     "text": [
      "Episode 460/3000\n",
      "Fitnesses: ['-30.71', '-62.91', '-13.03', '-40.19']\n",
      "100 fitness avgs: ['-30.38', '-31.78', '-29.61', '-31.35']\n"
     ]
    },
    {
     "name": "stderr",
     "output_type": "stream",
     "text": [
      " 16%|██████▍                                 | 479/3000 [02:40<12:13,  3.44it/s]"
     ]
    },
    {
     "name": "stdout",
     "output_type": "stream",
     "text": [
      "Episode 480/3000\n",
      "Fitnesses: ['-69.16', '-28.31', '-16.13', '-37.94']\n",
      "100 fitness avgs: ['-31.26', '-30.30', '-29.79', '-30.70']\n"
     ]
    },
    {
     "name": "stderr",
     "output_type": "stream",
     "text": [
      " 17%|██████▋                                 | 500/3000 [02:46<14:34,  2.86it/s]"
     ]
    },
    {
     "name": "stdout",
     "output_type": "stream",
     "text": [
      "Episode 500/3000\n",
      "Fitnesses: ['-23.66', '-18.24', '-12.86', '-70.02']\n",
      "100 fitness avgs: ['-29.54', '-30.20', '-29.11', '-32.27']\n"
     ]
    },
    {
     "name": "stderr",
     "output_type": "stream",
     "text": [
      " 17%|██████▉                                 | 520/3000 [02:53<15:26,  2.68it/s]"
     ]
    },
    {
     "name": "stdout",
     "output_type": "stream",
     "text": [
      "Episode 520/3000\n",
      "Fitnesses: ['-24.01', '-26.92', '-56.29', '-10.86']\n",
      "100 fitness avgs: ['-28.91', '-29.03', '-31.20', '-29.45']\n"
     ]
    },
    {
     "name": "stderr",
     "output_type": "stream",
     "text": [
      " 18%|███████▏                                | 540/3000 [02:59<15:34,  2.63it/s]"
     ]
    },
    {
     "name": "stdout",
     "output_type": "stream",
     "text": [
      "Episode 540/3000\n",
      "Fitnesses: ['-13.22', '-13.69', '-12.24', '-18.05']\n",
      "100 fitness avgs: ['-28.85', '-28.35', '-28.82', '-28.62']\n"
     ]
    },
    {
     "name": "stderr",
     "output_type": "stream",
     "text": [
      " 19%|███████▍                                | 559/3000 [03:05<13:50,  2.94it/s]"
     ]
    },
    {
     "name": "stdout",
     "output_type": "stream",
     "text": [
      "Episode 560/3000\n",
      "Fitnesses: ['-21.67', '-58.18', '-9.74', '-31.44']\n",
      "100 fitness avgs: ['-28.56', '-29.90', '-27.69', '-28.91']\n"
     ]
    },
    {
     "name": "stderr",
     "output_type": "stream",
     "text": [
      " 19%|███████▋                                | 579/3000 [03:12<12:49,  3.15it/s]"
     ]
    },
    {
     "name": "stdout",
     "output_type": "stream",
     "text": [
      "Episode 580/3000\n",
      "Fitnesses: ['-10.54', '-14.22', '-47.12', '-32.23']\n",
      "100 fitness avgs: ['-27.10', '-27.22', '-29.54', '-27.84']\n"
     ]
    },
    {
     "name": "stderr",
     "output_type": "stream",
     "text": [
      " 20%|███████▉                                | 599/3000 [03:18<11:30,  3.48it/s]"
     ]
    },
    {
     "name": "stdout",
     "output_type": "stream",
     "text": [
      "Episode 600/3000\n",
      "Fitnesses: ['-29.76', '-18.30', '-35.54', '-22.00']\n",
      "100 fitness avgs: ['-27.18', '-29.16', '-28.10', '-27.05']\n"
     ]
    },
    {
     "name": "stderr",
     "output_type": "stream",
     "text": [
      " 21%|████████▎                               | 620/3000 [03:24<13:23,  2.96it/s]"
     ]
    },
    {
     "name": "stdout",
     "output_type": "stream",
     "text": [
      "Episode 620/3000\n",
      "Fitnesses: ['-92.39', '-9.12', '-53.93', '-22.21']\n",
      "100 fitness avgs: ['-31.20', '-28.52', '-28.93', '-28.94']\n"
     ]
    },
    {
     "name": "stderr",
     "output_type": "stream",
     "text": [
      " 21%|████████▌                               | 640/3000 [03:29<11:39,  3.37it/s]"
     ]
    },
    {
     "name": "stdout",
     "output_type": "stream",
     "text": [
      "Episode 640/3000\n",
      "Fitnesses: ['-18.20', '-11.91', '-15.93', '-30.69']\n",
      "100 fitness avgs: ['-28.20', '-28.00', '-28.53', '-31.19']\n"
     ]
    },
    {
     "name": "stderr",
     "output_type": "stream",
     "text": [
      " 22%|████████▊                               | 660/3000 [03:34<13:15,  2.94it/s]"
     ]
    },
    {
     "name": "stdout",
     "output_type": "stream",
     "text": [
      "Episode 660/3000\n",
      "Fitnesses: ['-14.00', '-25.46', '-42.26', '-19.33']\n",
      "100 fitness avgs: ['-27.57', '-28.44', '-28.62', '-27.74']\n"
     ]
    },
    {
     "name": "stderr",
     "output_type": "stream",
     "text": [
      " 23%|█████████                               | 679/3000 [03:41<13:11,  2.93it/s]"
     ]
    },
    {
     "name": "stdout",
     "output_type": "stream",
     "text": [
      "Episode 680/3000\n",
      "Fitnesses: ['-51.28', '-65.98', '-342.92', '-108.59']\n",
      "100 fitness avgs: ['-28.27', '-28.70', '-37.87', '-29.96']\n"
     ]
    },
    {
     "name": "stderr",
     "output_type": "stream",
     "text": [
      " 23%|█████████▎                              | 699/3000 [03:47<11:46,  3.26it/s]"
     ]
    },
    {
     "name": "stdout",
     "output_type": "stream",
     "text": [
      "Episode 700/3000\n",
      "Fitnesses: ['-9.18', '-31.03', '-15.26', '-40.70']\n",
      "100 fitness avgs: ['-27.73', '-29.99', '-29.54', '-29.05']\n"
     ]
    },
    {
     "name": "stderr",
     "output_type": "stream",
     "text": [
      " 24%|█████████▌                              | 719/3000 [03:53<11:25,  3.33it/s]"
     ]
    },
    {
     "name": "stdout",
     "output_type": "stream",
     "text": [
      "Episode 720/3000\n",
      "Fitnesses: ['-44.19', '-28.95', '-43.05', '-27.73']\n",
      "100 fitness avgs: ['-28.18', '-29.52', '-30.35', '-27.73']\n"
     ]
    },
    {
     "name": "stderr",
     "output_type": "stream",
     "text": [
      " 25%|█████████▊                              | 739/3000 [04:00<13:17,  2.84it/s]"
     ]
    },
    {
     "name": "stdout",
     "output_type": "stream",
     "text": [
      "Episode 740/3000\n",
      "Fitnesses: ['-23.67', '-32.63', '-372.54', '-2.91']\n",
      "100 fitness avgs: ['-27.62', '-30.41', '-39.60', '-29.61']\n"
     ]
    },
    {
     "name": "stderr",
     "output_type": "stream",
     "text": [
      " 25%|██████████                              | 759/3000 [04:06<10:52,  3.44it/s]"
     ]
    },
    {
     "name": "stdout",
     "output_type": "stream",
     "text": [
      "Episode 760/3000\n",
      "Fitnesses: ['-47.21', '-42.03', '-35.74', '-37.98']\n",
      "100 fitness avgs: ['-30.07', '-29.94', '-29.77', '-30.61']\n"
     ]
    },
    {
     "name": "stderr",
     "output_type": "stream",
     "text": [
      " 26%|██████████▍                             | 780/3000 [04:13<14:17,  2.59it/s]"
     ]
    },
    {
     "name": "stdout",
     "output_type": "stream",
     "text": [
      "Episode 780/3000\n",
      "Fitnesses: ['-36.10', '-44.10', '-24.27', '-11.27']\n",
      "100 fitness avgs: ['-29.93', '-30.96', '-29.79', '-29.30']\n"
     ]
    },
    {
     "name": "stderr",
     "output_type": "stream",
     "text": [
      " 27%|██████████▋                             | 800/3000 [04:20<13:48,  2.66it/s]"
     ]
    },
    {
     "name": "stdout",
     "output_type": "stream",
     "text": [
      "Episode 800/3000\n",
      "Fitnesses: ['-21.13', '-21.26', '-36.31', '-10.39']\n",
      "100 fitness avgs: ['-29.09', '-29.10', '-30.09', '-29.31']\n"
     ]
    },
    {
     "name": "stderr",
     "output_type": "stream",
     "text": [
      " 27%|██████████▉                             | 819/3000 [04:25<11:19,  3.21it/s]"
     ]
    },
    {
     "name": "stdout",
     "output_type": "stream",
     "text": [
      "Episode 820/3000\n",
      "Fitnesses: ['-74.77', '-1.59', '-29.29', '-31.75']\n",
      "100 fitness avgs: ['-30.41', '-28.42', '-29.10', '-29.16']\n"
     ]
    },
    {
     "name": "stderr",
     "output_type": "stream",
     "text": [
      " 28%|███████████▏                            | 839/3000 [04:33<12:50,  2.80it/s]"
     ]
    },
    {
     "name": "stdout",
     "output_type": "stream",
     "text": [
      "Episode 840/3000\n",
      "Fitnesses: ['-11.15', '-14.32', '-15.62', '-1.79']\n",
      "100 fitness avgs: ['-28.01', '-28.09', '-28.12', '-28.51']\n"
     ]
    },
    {
     "name": "stderr",
     "output_type": "stream",
     "text": [
      " 29%|███████████▍                            | 859/3000 [04:44<20:57,  1.70it/s]"
     ]
    },
    {
     "name": "stdout",
     "output_type": "stream",
     "text": [
      "Episode 860/3000\n",
      "Fitnesses: ['-13.55', '-21.65', '-75.26', '-7.98']\n",
      "100 fitness avgs: ['-28.16', '-28.35', '-29.59', '-28.03']\n"
     ]
    },
    {
     "name": "stderr",
     "output_type": "stream",
     "text": [
      " 29%|███████████▋                            | 879/3000 [04:54<15:40,  2.25it/s]"
     ]
    },
    {
     "name": "stdout",
     "output_type": "stream",
     "text": [
      "Episode 880/3000\n",
      "Fitnesses: ['-44.60', '-17.86', '-14.66', '-13.52']\n",
      "100 fitness avgs: ['-28.40', '-27.92', '-27.72', '-27.70']\n"
     ]
    },
    {
     "name": "stderr",
     "output_type": "stream",
     "text": [
      " 30%|███████████▉                            | 899/3000 [05:03<16:27,  2.13it/s]"
     ]
    },
    {
     "name": "stdout",
     "output_type": "stream",
     "text": [
      "Episode 900/3000\n",
      "Fitnesses: ['-92.68', '-47.61', '-22.77', '-70.36']\n",
      "100 fitness avgs: ['-29.14', '-28.17', '-27.61', '-28.87']\n"
     ]
    },
    {
     "name": "stderr",
     "output_type": "stream",
     "text": [
      " 31%|████████████▎                           | 919/3000 [05:14<19:28,  1.78it/s]"
     ]
    },
    {
     "name": "stdout",
     "output_type": "stream",
     "text": [
      "Episode 920/3000\n",
      "Fitnesses: ['-34.65', '-28.24', '-254.80', '-49.87']\n",
      "100 fitness avgs: ['-27.77', '-28.85', '-33.09', '-28.10']\n"
     ]
    },
    {
     "name": "stderr",
     "output_type": "stream",
     "text": [
      " 31%|████████████▌                           | 939/3000 [05:24<16:03,  2.14it/s]"
     ]
    },
    {
     "name": "stdout",
     "output_type": "stream",
     "text": [
      "Episode 940/3000\n",
      "Fitnesses: ['-7.91', '-93.24', '-40.15', '-34.17']\n",
      "100 fitness avgs: ['-28.41', '-29.16', '-28.03', '-27.90']\n"
     ]
    },
    {
     "name": "stderr",
     "output_type": "stream",
     "text": [
      " 32%|████████████▊                           | 959/3000 [05:33<15:06,  2.25it/s]"
     ]
    },
    {
     "name": "stdout",
     "output_type": "stream",
     "text": [
      "Episode 960/3000\n",
      "Fitnesses: ['-1.52', '-29.27', '-27.18', '-14.45']\n",
      "100 fitness avgs: ['-27.85', '-28.43', '-28.01', '-28.12']\n"
     ]
    },
    {
     "name": "stderr",
     "output_type": "stream",
     "text": [
      " 33%|█████████████                           | 979/3000 [05:42<14:45,  2.28it/s]"
     ]
    },
    {
     "name": "stdout",
     "output_type": "stream",
     "text": [
      "Episode 980/3000\n",
      "Fitnesses: ['-86.15', '-59.58', '-6.58', '-13.52']\n",
      "100 fitness avgs: ['-29.04', '-29.06', '-27.41', '-27.72']\n"
     ]
    },
    {
     "name": "stderr",
     "output_type": "stream",
     "text": [
      " 33%|█████████████                          | 1000/3000 [05:53<20:12,  1.65it/s]"
     ]
    },
    {
     "name": "stdout",
     "output_type": "stream",
     "text": [
      "Episode 1000/3000\n",
      "Fitnesses: ['-35.51', '-24.54', '-47.75', '-20.78']\n",
      "100 fitness avgs: ['-27.58', '-27.36', '-27.82', '-27.28']\n"
     ]
    },
    {
     "name": "stderr",
     "output_type": "stream",
     "text": [
      " 34%|█████████████▎                         | 1020/3000 [06:03<17:26,  1.89it/s]"
     ]
    },
    {
     "name": "stdout",
     "output_type": "stream",
     "text": [
      "Episode 1020/3000\n",
      "Fitnesses: ['-51.50', '-18.53', '-18.26', '-6.97']\n",
      "100 fitness avgs: ['-27.76', '-27.18', '-27.10', '-26.88']\n"
     ]
    },
    {
     "name": "stderr",
     "output_type": "stream",
     "text": [
      " 35%|█████████████▌                         | 1039/3000 [06:12<15:12,  2.15it/s]"
     ]
    },
    {
     "name": "stdout",
     "output_type": "stream",
     "text": [
      "Episode 1040/3000\n",
      "Fitnesses: ['-16.96', '-31.54', '-23.51', '-57.36']\n",
      "100 fitness avgs: ['-26.69', '-27.19', '-26.82', '-27.47']\n"
     ]
    },
    {
     "name": "stderr",
     "output_type": "stream",
     "text": [
      " 35%|█████████████▊                         | 1059/3000 [06:22<18:09,  1.78it/s]"
     ]
    },
    {
     "name": "stdout",
     "output_type": "stream",
     "text": [
      "Episode 1060/3000\n",
      "Fitnesses: ['-341.20', '-7.83', '-22.63', '-43.09']\n",
      "100 fitness avgs: ['-32.63', '-26.34', '-26.74', '-27.12']\n"
     ]
    },
    {
     "name": "stderr",
     "output_type": "stream",
     "text": [
      " 36%|██████████████                         | 1079/3000 [06:34<18:11,  1.76it/s]"
     ]
    },
    {
     "name": "stdout",
     "output_type": "stream",
     "text": [
      "Episode 1080/3000\n",
      "Fitnesses: ['-71.43', '-596.31', '-49.96', '-29.51']\n",
      "100 fitness avgs: ['-27.17', '-37.29', '-27.17', '-26.39']\n"
     ]
    },
    {
     "name": "stderr",
     "output_type": "stream",
     "text": [
      " 37%|██████████████▎                        | 1099/3000 [06:43<14:25,  2.20it/s]"
     ]
    },
    {
     "name": "stdout",
     "output_type": "stream",
     "text": [
      "Episode 1100/3000\n",
      "Fitnesses: ['-57.90', '-18.00', '-86.05', '-15.83']\n",
      "100 fitness avgs: ['-26.97', '-27.00', '-28.24', '-26.20']\n"
     ]
    },
    {
     "name": "stderr",
     "output_type": "stream",
     "text": [
      " 37%|██████████████▌                        | 1119/3000 [06:53<14:41,  2.13it/s]"
     ]
    },
    {
     "name": "stdout",
     "output_type": "stream",
     "text": [
      "Episode 1120/3000\n",
      "Fitnesses: ['-60.68', '-60.31', '-6.58', '-34.91']\n",
      "100 fitness avgs: ['-26.82', '-27.56', '-26.64', '-27.14']\n"
     ]
    },
    {
     "name": "stderr",
     "output_type": "stream",
     "text": [
      " 38%|██████████████▊                        | 1140/3000 [07:03<16:13,  1.91it/s]"
     ]
    },
    {
     "name": "stdout",
     "output_type": "stream",
     "text": [
      "Episode 1140/3000\n",
      "Fitnesses: ['-25.00', '-38.85', '-16.61', '-30.05']\n",
      "100 fitness avgs: ['-26.61', '-27.76', '-26.64', '-26.70']\n"
     ]
    },
    {
     "name": "stderr",
     "output_type": "stream",
     "text": [
      " 39%|███████████████                        | 1159/3000 [07:11<14:46,  2.08it/s]"
     ]
    },
    {
     "name": "stdout",
     "output_type": "stream",
     "text": [
      "Episode 1160/3000\n",
      "Fitnesses: ['-34.95', '-39.36', '-5.14', '-21.42']\n",
      "100 fitness avgs: ['-26.78', '-26.86', '-26.27', '-26.52']\n"
     ]
    },
    {
     "name": "stderr",
     "output_type": "stream",
     "text": [
      " 39%|███████████████▎                       | 1179/3000 [07:21<14:41,  2.06it/s]"
     ]
    },
    {
     "name": "stdout",
     "output_type": "stream",
     "text": [
      "Episode 1180/3000\n",
      "Fitnesses: ['-29.95', '-3.46', '-29.46', '-35.22']\n",
      "100 fitness avgs: ['-26.33', '-26.13', '-26.83', '-26.42']\n"
     ]
    },
    {
     "name": "stderr",
     "output_type": "stream",
     "text": [
      " 40%|███████████████▌                       | 1199/3000 [07:30<13:42,  2.19it/s]"
     ]
    },
    {
     "name": "stdout",
     "output_type": "stream",
     "text": [
      "Episode 1200/3000\n",
      "Fitnesses: ['-10.60', '-3.59', '-11.50', '-37.98']\n",
      "100 fitness avgs: ['-25.87', '-25.75', '-25.88', '-27.01']\n"
     ]
    },
    {
     "name": "stderr",
     "output_type": "stream",
     "text": [
      " 41%|███████████████▊                       | 1219/3000 [07:39<13:13,  2.24it/s]"
     ]
    },
    {
     "name": "stdout",
     "output_type": "stream",
     "text": [
      "Episode 1220/3000\n",
      "Fitnesses: ['-13.33', '-3.09', '-7.45', '-27.87']\n",
      "100 fitness avgs: ['-25.55', '-25.38', '-26.69', '-25.79']\n"
     ]
    },
    {
     "name": "stderr",
     "output_type": "stream",
     "text": [
      " 41%|████████████████                       | 1240/3000 [07:49<14:37,  2.01it/s]"
     ]
    },
    {
     "name": "stdout",
     "output_type": "stream",
     "text": [
      "Episode 1240/3000\n",
      "Fitnesses: ['-46.84', '-48.11', '-62.44', '-95.54']\n",
      "100 fitness avgs: ['-25.73', '-25.75', '-26.14', '-26.91']\n"
     ]
    },
    {
     "name": "stderr",
     "output_type": "stream",
     "text": [
      " 42%|████████████████▎                      | 1259/3000 [07:57<13:06,  2.21it/s]"
     ]
    },
    {
     "name": "stdout",
     "output_type": "stream",
     "text": [
      "Episode 1260/3000\n",
      "Fitnesses: ['-33.60', '-22.00', '-31.23', '-11.49']\n",
      "100 fitness avgs: ['-25.85', '-25.67', '-25.81', '-25.50']\n"
     ]
    },
    {
     "name": "stderr",
     "output_type": "stream",
     "text": [
      " 43%|████████████████▋                      | 1279/3000 [08:06<12:46,  2.25it/s]"
     ]
    },
    {
     "name": "stdout",
     "output_type": "stream",
     "text": [
      "Episode 1280/3000\n",
      "Fitnesses: ['-11.96', '-37.83', '-56.56', '-12.15']\n",
      "100 fitness avgs: ['-25.29', '-25.69', '-25.99', '-25.29']\n"
     ]
    },
    {
     "name": "stderr",
     "output_type": "stream",
     "text": [
      " 43%|████████████████▉                      | 1299/3000 [08:15<12:31,  2.26it/s]"
     ]
    },
    {
     "name": "stdout",
     "output_type": "stream",
     "text": [
      "Episode 1300/3000\n",
      "Fitnesses: ['-27.21', '-79.80', '-26.22', '-15.89']\n",
      "100 fitness avgs: ['-25.32', '-26.13', '-25.31', '-25.15']\n"
     ]
    },
    {
     "name": "stderr",
     "output_type": "stream",
     "text": [
      " 44%|█████████████████▏                     | 1320/3000 [08:25<13:53,  2.02it/s]"
     ]
    },
    {
     "name": "stdout",
     "output_type": "stream",
     "text": [
      "Episode 1320/3000\n",
      "Fitnesses: ['-10.17', '-45.03', '-8.54', '-59.78']\n",
      "100 fitness avgs: ['-24.92', '-25.61', '-24.90', '-25.67']\n"
     ]
    },
    {
     "name": "stderr",
     "output_type": "stream",
     "text": [
      " 45%|█████████████████▍                     | 1340/3000 [08:33<13:50,  2.00it/s]"
     ]
    },
    {
     "name": "stdout",
     "output_type": "stream",
     "text": [
      "Episode 1340/3000\n",
      "Fitnesses: ['-37.53', '-8.93', '-38.55', '-25.77']\n",
      "100 fitness avgs: ['-25.08', '-25.42', '-25.80', '-25.61']\n"
     ]
    },
    {
     "name": "stderr",
     "output_type": "stream",
     "text": [
      " 45%|█████████████████▋                     | 1360/3000 [08:42<14:26,  1.89it/s]"
     ]
    },
    {
     "name": "stdout",
     "output_type": "stream",
     "text": [
      "Episode 1360/3000\n",
      "Fitnesses: ['-18.47', '-22.99', '-58.09', '-87.13']\n",
      "100 fitness avgs: ['-25.32', '-25.39', '-25.90', '-26.33']\n"
     ]
    },
    {
     "name": "stderr",
     "output_type": "stream",
     "text": [
      " 46%|█████████████████▉                     | 1379/3000 [08:51<13:40,  1.98it/s]"
     ]
    },
    {
     "name": "stdout",
     "output_type": "stream",
     "text": [
      "Episode 1380/3000\n",
      "Fitnesses: ['-14.91', '-27.02', '-70.55', '-28.16']\n",
      "100 fitness avgs: ['-25.17', '-25.35', '-25.98', '-25.36']\n"
     ]
    },
    {
     "name": "stderr",
     "output_type": "stream",
     "text": [
      " 47%|██████████████████▏                    | 1400/3000 [09:02<14:32,  1.83it/s]"
     ]
    },
    {
     "name": "stdout",
     "output_type": "stream",
     "text": [
      "Episode 1400/3000\n",
      "Fitnesses: ['-22.08', '-50.83', '-12.35', '-17.35']\n",
      "100 fitness avgs: ['-25.13', '-25.54', '-24.99', '-25.23']\n"
     ]
    },
    {
     "name": "stderr",
     "output_type": "stream",
     "text": [
      " 47%|██████████████████▍                    | 1419/3000 [09:10<11:01,  2.39it/s]"
     ]
    },
    {
     "name": "stdout",
     "output_type": "stream",
     "text": [
      "Episode 1420/3000\n",
      "Fitnesses: ['-61.68', '-62.63', '-34.30', '-11.92']\n",
      "100 fitness avgs: ['-25.50', '-25.52', '-25.12', '-24.80']\n"
     ]
    },
    {
     "name": "stderr",
     "output_type": "stream",
     "text": [
      " 48%|██████████████████▋                    | 1440/3000 [09:18<11:54,  2.18it/s]"
     ]
    },
    {
     "name": "stdout",
     "output_type": "stream",
     "text": [
      "Episode 1440/3000\n",
      "Fitnesses: ['-35.40', '-61.21', '-39.08', '-34.33']\n",
      "100 fitness avgs: ['-24.95', '-25.31', '-25.31', '-25.63']\n"
     ]
    },
    {
     "name": "stderr",
     "output_type": "stream",
     "text": [
      " 49%|██████████████████▉                    | 1459/3000 [09:24<07:42,  3.33it/s]"
     ]
    },
    {
     "name": "stdout",
     "output_type": "stream",
     "text": [
      "Episode 1460/3000\n",
      "Fitnesses: ['-42.09', '-35.16', '-11.15', '-19.27']\n",
      "100 fitness avgs: ['-25.85', '-25.76', '-24.76', '-25.54']\n"
     ]
    },
    {
     "name": "stderr",
     "output_type": "stream",
     "text": [
      " 49%|███████████████████▏                   | 1479/3000 [09:33<11:47,  2.15it/s]"
     ]
    },
    {
     "name": "stdout",
     "output_type": "stream",
     "text": [
      "Episode 1480/3000\n",
      "Fitnesses: ['-22.95', '-412.86', '-46.22', '-54.40']\n",
      "100 fitness avgs: ['-24.74', '-30.99', '-25.05', '-25.16']\n"
     ]
    },
    {
     "name": "stderr",
     "output_type": "stream",
     "text": [
      " 50%|███████████████████▍                   | 1499/3000 [09:43<11:38,  2.15it/s]"
     ]
    },
    {
     "name": "stdout",
     "output_type": "stream",
     "text": [
      "Episode 1500/3000\n",
      "Fitnesses: ['-31.78', '-46.62', '-56.36', '-37.47']\n",
      "100 fitness avgs: ['-24.83', '-25.03', '-25.47', '-25.22']\n"
     ]
    },
    {
     "name": "stderr",
     "output_type": "stream",
     "text": [
      " 51%|███████████████████▋                   | 1519/3000 [09:54<13:42,  1.80it/s]"
     ]
    },
    {
     "name": "stdout",
     "output_type": "stream",
     "text": [
      "Episode 1520/3000\n",
      "Fitnesses: ['-7.76', '-1.62', '-1.73', '-9.51']\n",
      "100 fitness avgs: ['-24.61', '-24.91', '-24.53', '-24.82']\n"
     ]
    },
    {
     "name": "stderr",
     "output_type": "stream",
     "text": [
      " 51%|████████████████████                   | 1539/3000 [10:11<21:47,  1.12it/s]"
     ]
    },
    {
     "name": "stdout",
     "output_type": "stream",
     "text": [
      "Episode 1540/3000\n",
      "Fitnesses: ['-16.19', '-12.07', '-350.66', '-425.68']\n",
      "100 fitness avgs: ['-24.79', '-24.74', '-29.14', '-29.74']\n"
     ]
    },
    {
     "name": "stderr",
     "output_type": "stream",
     "text": [
      " 52%|████████████████████▎                  | 1559/3000 [10:27<19:43,  1.22it/s]"
     ]
    },
    {
     "name": "stdout",
     "output_type": "stream",
     "text": [
      "Episode 1560/3000\n",
      "Fitnesses: ['-32.75', '-31.27', '-194.30', '-75.50']\n",
      "100 fitness avgs: ['-24.84', '-24.88', '-31.25', '-25.39']\n"
     ]
    },
    {
     "name": "stderr",
     "output_type": "stream",
     "text": [
      " 53%|████████████████████▌                  | 1579/3000 [10:40<15:03,  1.57it/s]"
     ]
    },
    {
     "name": "stdout",
     "output_type": "stream",
     "text": [
      "Episode 1580/3000\n",
      "Fitnesses: ['-36.32', '-5.16', '-14.95', '-10.32']\n",
      "100 fitness avgs: ['-25.02', '-24.63', '-24.75', '-24.66']\n"
     ]
    },
    {
     "name": "stderr",
     "output_type": "stream",
     "text": [
      " 53%|████████████████████▊                  | 1600/3000 [10:52<14:49,  1.57it/s]"
     ]
    },
    {
     "name": "stdout",
     "output_type": "stream",
     "text": [
      "Episode 1600/3000\n",
      "Fitnesses: ['-15.88', '-54.33', '-27.96', '-19.17']\n",
      "100 fitness avgs: ['-24.52', '-25.03', '-24.79', '-24.59']\n"
     ]
    },
    {
     "name": "stderr",
     "output_type": "stream",
     "text": [
      " 54%|█████████████████████                  | 1619/3000 [11:05<15:36,  1.48it/s]"
     ]
    },
    {
     "name": "stdout",
     "output_type": "stream",
     "text": [
      "Episode 1620/3000\n",
      "Fitnesses: ['-80.05', '-99.48', '-3.32', '-26.46']\n",
      "100 fitness avgs: ['-25.20', '-25.51', '-24.52', '-24.54']\n"
     ]
    },
    {
     "name": "stderr",
     "output_type": "stream",
     "text": [
      " 55%|█████████████████████▎                 | 1640/3000 [11:18<14:40,  1.55it/s]"
     ]
    },
    {
     "name": "stdout",
     "output_type": "stream",
     "text": [
      "Episode 1640/3000\n",
      "Fitnesses: ['-84.69', '-25.75', '-4.51', '-20.97']\n",
      "100 fitness avgs: ['-25.26', '-24.54', '-24.28', '-24.48']\n"
     ]
    },
    {
     "name": "stderr",
     "output_type": "stream",
     "text": [
      " 55%|█████████████████████▌                 | 1659/3000 [11:32<17:12,  1.30it/s]"
     ]
    },
    {
     "name": "stdout",
     "output_type": "stream",
     "text": [
      "Episode 1660/3000\n",
      "Fitnesses: ['-58.61', '-53.43', '-57.83', '-10.24']\n",
      "100 fitness avgs: ['-24.69', '-24.63', '-24.88', '-24.37']\n"
     ]
    },
    {
     "name": "stderr",
     "output_type": "stream",
     "text": [
      " 56%|█████████████████████▊                 | 1679/3000 [11:44<12:29,  1.76it/s]"
     ]
    },
    {
     "name": "stdout",
     "output_type": "stream",
     "text": [
      "Episode 1680/3000\n",
      "Fitnesses: ['-14.49', '-4.76', '-13.20', '-15.31']\n",
      "100 fitness avgs: ['-24.25', '-24.13', '-24.23', '-24.52']\n"
     ]
    },
    {
     "name": "stderr",
     "output_type": "stream",
     "text": [
      " 57%|██████████████████████                 | 1700/3000 [11:57<14:05,  1.54it/s]"
     ]
    },
    {
     "name": "stdout",
     "output_type": "stream",
     "text": [
      "Episode 1700/3000\n",
      "Fitnesses: ['-46.66', '-2.14', '-16.15', '-23.30']\n",
      "100 fitness avgs: ['-24.40', '-23.88', '-24.42', '-24.12']\n"
     ]
    },
    {
     "name": "stderr",
     "output_type": "stream",
     "text": [
      " 57%|██████████████████████▎                | 1720/3000 [12:09<13:46,  1.55it/s]"
     ]
    },
    {
     "name": "stdout",
     "output_type": "stream",
     "text": [
      "Episode 1720/3000\n",
      "Fitnesses: ['-77.62', '-27.71', '-9.07', '-94.64']\n",
      "100 fitness avgs: ['-24.50', '-23.92', '-23.70', '-25.24']\n"
     ]
    },
    {
     "name": "stderr",
     "output_type": "stream",
     "text": [
      " 58%|██████████████████████▌                | 1739/3000 [12:20<12:45,  1.65it/s]"
     ]
    },
    {
     "name": "stdout",
     "output_type": "stream",
     "text": [
      "Episode 1740/3000\n",
      "Fitnesses: ['-56.99', '-6.20', '-15.75', '-7.06']\n",
      "100 fitness avgs: ['-24.09', '-24.29', '-23.83', '-23.51']\n"
     ]
    },
    {
     "name": "stderr",
     "output_type": "stream",
     "text": [
      " 59%|██████████████████████▊                | 1759/3000 [12:35<15:24,  1.34it/s]"
     ]
    },
    {
     "name": "stdout",
     "output_type": "stream",
     "text": [
      "Episode 1760/3000\n",
      "Fitnesses: ['-6.54', '-41.45', '-12.98', '-42.74']\n",
      "100 fitness avgs: ['-24.09', '-24.48', '-23.39', '-23.73']\n"
     ]
    },
    {
     "name": "stderr",
     "output_type": "stream",
     "text": [
      " 59%|███████████████████████▏               | 1780/3000 [12:48<13:25,  1.51it/s]"
     ]
    },
    {
     "name": "stdout",
     "output_type": "stream",
     "text": [
      "Episode 1780/3000\n",
      "Fitnesses: ['-60.91', '-21.32', '-13.80', '-27.61']\n",
      "100 fitness avgs: ['-24.50', '-24.06', '-24.36', '-23.44']\n"
     ]
    },
    {
     "name": "stderr",
     "output_type": "stream",
     "text": [
      " 60%|███████████████████████▍               | 1800/3000 [13:03<16:04,  1.24it/s]"
     ]
    },
    {
     "name": "stdout",
     "output_type": "stream",
     "text": [
      "Episode 1800/3000\n",
      "Fitnesses: ['-50.14', '-43.05', '-43.40', '-29.68']\n",
      "100 fitness avgs: ['-24.65', '-24.27', '-24.58', '-24.42']\n"
     ]
    },
    {
     "name": "stderr",
     "output_type": "stream",
     "text": [
      " 61%|███████████████████████▋               | 1819/3000 [13:17<15:13,  1.29it/s]"
     ]
    },
    {
     "name": "stdout",
     "output_type": "stream",
     "text": [
      "Episode 1820/3000\n",
      "Fitnesses: ['-61.37', '-36.33', '-21.96', '-32.67']\n",
      "100 fitness avgs: ['-24.83', '-24.55', '-24.55', '-24.36']\n"
     ]
    },
    {
     "name": "stderr",
     "output_type": "stream",
     "text": [
      " 61%|███████████████████████▉               | 1840/3000 [13:39<20:29,  1.06s/it]"
     ]
    },
    {
     "name": "stdout",
     "output_type": "stream",
     "text": [
      "Episode 1840/3000\n",
      "Fitnesses: ['-94.84', '-83.91', '-8.98', '-38.91']\n",
      "100 fitness avgs: ['-25.31', '-25.01', '-24.38', '-24.70']\n"
     ]
    },
    {
     "name": "stderr",
     "output_type": "stream",
     "text": [
      " 62%|████████████████████████▏              | 1859/3000 [13:58<19:48,  1.04s/it]"
     ]
    },
    {
     "name": "stdout",
     "output_type": "stream",
     "text": [
      "Episode 1860/3000\n",
      "Fitnesses: ['-7.62', '-36.43', '-26.72', '-10.07']\n",
      "100 fitness avgs: ['-24.20', '-24.83', '-25.03', '-24.55']\n"
     ]
    },
    {
     "name": "stderr",
     "output_type": "stream",
     "text": [
      " 63%|████████████████████████▍              | 1879/3000 [14:19<19:45,  1.06s/it]"
     ]
    },
    {
     "name": "stdout",
     "output_type": "stream",
     "text": [
      "Episode 1880/3000\n",
      "Fitnesses: ['-56.83', '-24.13', '-4.54', '-18.38']\n",
      "100 fitness avgs: ['-24.55', '-25.02', '-24.33', '-24.48']\n"
     ]
    },
    {
     "name": "stderr",
     "output_type": "stream",
     "text": [
      " 63%|████████████████████████▋              | 1899/3000 [14:42<21:59,  1.20s/it]"
     ]
    },
    {
     "name": "stdout",
     "output_type": "stream",
     "text": [
      "Episode 1900/3000\n",
      "Fitnesses: ['-24.59', '-55.42', '-46.33', '-67.88']\n",
      "100 fitness avgs: ['-24.34', '-24.66', '-25.24', '-24.94']\n"
     ]
    },
    {
     "name": "stderr",
     "output_type": "stream",
     "text": [
      " 64%|████████████████████████▉              | 1919/3000 [15:05<21:10,  1.18s/it]"
     ]
    },
    {
     "name": "stdout",
     "output_type": "stream",
     "text": [
      "Episode 1920/3000\n",
      "Fitnesses: ['-14.13', '-17.24', '-39.04', '-22.49']\n",
      "100 fitness avgs: ['-24.23', '-25.16', '-25.08', '-25.21']\n"
     ]
    },
    {
     "name": "stderr",
     "output_type": "stream",
     "text": [
      " 65%|█████████████████████████▏             | 1940/3000 [15:30<20:57,  1.19s/it]"
     ]
    },
    {
     "name": "stdout",
     "output_type": "stream",
     "text": [
      "Episode 1940/3000\n",
      "Fitnesses: ['-94.81', '-58.90', '-34.46', '-59.54']\n",
      "100 fitness avgs: ['-24.96', '-25.51', '-24.34', '-24.59']\n"
     ]
    },
    {
     "name": "stderr",
     "output_type": "stream",
     "text": [
      " 65%|█████████████████████████▍             | 1960/3000 [15:53<20:52,  1.20s/it]"
     ]
    },
    {
     "name": "stdout",
     "output_type": "stream",
     "text": [
      "Episode 1960/3000\n",
      "Fitnesses: ['-37.29', '-10.85', '-28.13', '-5.63']\n",
      "100 fitness avgs: ['-24.47', '-24.20', '-24.37', '-24.14']\n"
     ]
    },
    {
     "name": "stderr",
     "output_type": "stream",
     "text": [
      " 66%|█████████████████████████▋             | 1980/3000 [16:17<20:30,  1.21s/it]"
     ]
    },
    {
     "name": "stdout",
     "output_type": "stream",
     "text": [
      "Episode 1980/3000\n",
      "Fitnesses: ['-35.19', '-11.20', '-19.85', '-24.75']\n",
      "100 fitness avgs: ['-24.26', '-24.07', '-24.15', '-24.38']\n"
     ]
    },
    {
     "name": "stderr",
     "output_type": "stream",
     "text": [
      " 67%|█████████████████████████▉             | 1999/3000 [16:39<20:21,  1.22s/it]"
     ]
    },
    {
     "name": "stdout",
     "output_type": "stream",
     "text": [
      "Episode 2000/3000\n",
      "Fitnesses: ['-15.40', '-12.92', '-19.57', '-4.71']\n",
      "100 fitness avgs: ['-23.98', '-23.96', '-24.11', '-23.96']\n"
     ]
    },
    {
     "name": "stderr",
     "output_type": "stream",
     "text": [
      " 67%|██████████████████████████▏            | 2019/3000 [17:03<19:56,  1.22s/it]"
     ]
    },
    {
     "name": "stdout",
     "output_type": "stream",
     "text": [
      "Episode 2020/3000\n",
      "Fitnesses: ['-42.73', '-3.16', '-31.13', '-30.36']\n",
      "100 fitness avgs: ['-23.91', '-23.51', '-23.79', '-23.78']\n"
     ]
    },
    {
     "name": "stderr",
     "output_type": "stream",
     "text": [
      " 68%|██████████████████████████▌            | 2039/3000 [17:27<19:34,  1.22s/it]"
     ]
    },
    {
     "name": "stdout",
     "output_type": "stream",
     "text": [
      "Episode 2040/3000\n",
      "Fitnesses: ['-7.28', '-24.91', '-17.34', '-19.22']\n",
      "100 fitness avgs: ['-23.51', '-23.95', '-24.01', '-23.62']\n"
     ]
    },
    {
     "name": "stderr",
     "output_type": "stream",
     "text": [
      " 69%|██████████████████████████▊            | 2059/3000 [17:51<19:13,  1.23s/it]"
     ]
    },
    {
     "name": "stdout",
     "output_type": "stream",
     "text": [
      "Episode 2060/3000\n",
      "Fitnesses: ['-21.76', '-24.90', '-38.80', '-9.32']\n",
      "100 fitness avgs: ['-22.75', '-22.91', '-23.04', '-22.63']\n"
     ]
    },
    {
     "name": "stderr",
     "output_type": "stream",
     "text": [
      " 69%|███████████████████████████            | 2080/3000 [18:16<18:48,  1.23s/it]"
     ]
    },
    {
     "name": "stdout",
     "output_type": "stream",
     "text": [
      "Episode 2080/3000\n",
      "Fitnesses: ['-23.61', '-16.26', '-16.39', '-13.47']\n",
      "100 fitness avgs: ['-22.79', '-22.84', '-22.72', '-22.96']\n"
     ]
    },
    {
     "name": "stderr",
     "output_type": "stream",
     "text": [
      " 70%|███████████████████████████▎           | 2099/3000 [18:39<18:13,  1.21s/it]"
     ]
    },
    {
     "name": "stdout",
     "output_type": "stream",
     "text": [
      "Episode 2100/3000\n",
      "Fitnesses: ['-101.32', '-18.19', '-2.12', '-24.60']\n",
      "100 fitness avgs: ['-23.78', '-22.95', '-22.54', '-23.01']\n"
     ]
    },
    {
     "name": "stderr",
     "output_type": "stream",
     "text": [
      " 71%|███████████████████████████▌           | 2119/3000 [19:03<18:37,  1.27s/it]"
     ]
    },
    {
     "name": "stdout",
     "output_type": "stream",
     "text": [
      "Episode 2120/3000\n",
      "Fitnesses: ['-10.24', '-3.20', '-21.17', '-8.35']\n",
      "100 fitness avgs: ['-22.35', '-22.69', '-22.46', '-22.81']\n"
     ]
    },
    {
     "name": "stderr",
     "output_type": "stream",
     "text": [
      " 71%|███████████████████████████▊           | 2140/3000 [19:28<17:36,  1.23s/it]"
     ]
    },
    {
     "name": "stdout",
     "output_type": "stream",
     "text": [
      "Episode 2140/3000\n",
      "Fitnesses: ['-8.22', '-42.98', '-5.00', '-38.40']\n",
      "100 fitness avgs: ['-22.70', '-22.82', '-22.67', '-23.00']\n"
     ]
    },
    {
     "name": "stderr",
     "output_type": "stream",
     "text": [
      " 72%|████████████████████████████           | 2159/3000 [19:51<16:58,  1.21s/it]"
     ]
    },
    {
     "name": "stdout",
     "output_type": "stream",
     "text": [
      "Episode 2160/3000\n",
      "Fitnesses: ['-8.59', '-16.25', '-84.88', '-41.54']\n",
      "100 fitness avgs: ['-22.74', '-22.81', '-23.50', '-23.10']\n"
     ]
    },
    {
     "name": "stderr",
     "output_type": "stream",
     "text": [
      " 73%|████████████████████████████▎          | 2179/3000 [20:14<16:41,  1.22s/it]"
     ]
    },
    {
     "name": "stdout",
     "output_type": "stream",
     "text": [
      "Episode 2180/3000\n",
      "Fitnesses: ['-24.24', '-18.93', '-130.92', '-94.67']\n",
      "100 fitness avgs: ['-22.59', '-22.61', '-23.73', '-23.66']\n"
     ]
    },
    {
     "name": "stderr",
     "output_type": "stream",
     "text": [
      " 73%|████████████████████████████▌          | 2200/3000 [20:39<15:59,  1.20s/it]"
     ]
    },
    {
     "name": "stdout",
     "output_type": "stream",
     "text": [
      "Episode 2200/3000\n",
      "Fitnesses: ['-7.81', '-35.12', '-38.04', '-26.32']\n",
      "100 fitness avgs: ['-22.27', '-22.52', '-22.55', '-22.45']\n"
     ]
    },
    {
     "name": "stderr",
     "output_type": "stream",
     "text": [
      " 74%|████████████████████████████▊          | 2220/3000 [21:03<15:45,  1.21s/it]"
     ]
    },
    {
     "name": "stdout",
     "output_type": "stream",
     "text": [
      "Episode 2220/3000\n",
      "Fitnesses: ['-80.18', '-2.90', '-19.98', '-35.31']\n",
      "100 fitness avgs: ['-22.81', '-22.22', '-22.39', '-22.55']\n"
     ]
    },
    {
     "name": "stderr",
     "output_type": "stream",
     "text": [
      " 75%|█████████████████████████████          | 2240/3000 [21:27<15:10,  1.20s/it]"
     ]
    },
    {
     "name": "stdout",
     "output_type": "stream",
     "text": [
      "Episode 2240/3000\n",
      "Fitnesses: ['-65.49', '-27.65', '-33.58', '-28.26']\n",
      "100 fitness avgs: ['-21.73', '-21.35', '-21.41', '-21.52']\n"
     ]
    },
    {
     "name": "stderr",
     "output_type": "stream",
     "text": [
      " 75%|█████████████████████████████▍         | 2260/3000 [21:50<14:48,  1.20s/it]"
     ]
    },
    {
     "name": "stdout",
     "output_type": "stream",
     "text": [
      "Episode 2260/3000\n",
      "Fitnesses: ['-17.38', '-20.01', '-7.26', '-5.14']\n",
      "100 fitness avgs: ['-21.44', '-21.64', '-21.52', '-21.49']\n"
     ]
    },
    {
     "name": "stderr",
     "output_type": "stream",
     "text": [
      " 76%|█████████████████████████████▋         | 2279/3000 [22:12<14:10,  1.18s/it]"
     ]
    },
    {
     "name": "stdout",
     "output_type": "stream",
     "text": [
      "Episode 2280/3000\n",
      "Fitnesses: ['-10.13', '-34.30', '-9.84', '-31.89']\n",
      "100 fitness avgs: ['-21.40', '-21.66', '-21.40', '-21.62']\n"
     ]
    },
    {
     "name": "stderr",
     "output_type": "stream",
     "text": [
      " 77%|█████████████████████████████▉         | 2299/3000 [22:35<13:47,  1.18s/it]"
     ]
    },
    {
     "name": "stdout",
     "output_type": "stream",
     "text": [
      "Episode 2300/3000\n",
      "Fitnesses: ['-18.07', '-20.99', '-71.52', '-3.25']\n",
      "100 fitness avgs: ['-21.06', '-21.09', '-21.86', '-20.91']\n"
     ]
    },
    {
     "name": "stderr",
     "output_type": "stream",
     "text": [
      " 77%|██████████████████████████████▏        | 2320/3000 [22:59<13:03,  1.15s/it]"
     ]
    },
    {
     "name": "stdout",
     "output_type": "stream",
     "text": [
      "Episode 2320/3000\n",
      "Fitnesses: ['-51.37', '-23.21', '-122.10', '-33.67']\n",
      "100 fitness avgs: ['-20.87', '-20.59', '-21.76', '-20.85']\n"
     ]
    },
    {
     "name": "stderr",
     "output_type": "stream",
     "text": [
      " 78%|██████████████████████████████▍        | 2339/3000 [23:20<12:29,  1.13s/it]"
     ]
    },
    {
     "name": "stdout",
     "output_type": "stream",
     "text": [
      "Episode 2340/3000\n",
      "Fitnesses: ['-7.60', '-35.56', '-28.90', '-41.90']\n",
      "100 fitness avgs: ['-20.60', '-20.88', '-21.09', '-22.11']\n"
     ]
    },
    {
     "name": "stderr",
     "output_type": "stream",
     "text": [
      " 79%|██████████████████████████████▋        | 2359/3000 [23:43<12:17,  1.15s/it]"
     ]
    },
    {
     "name": "stdout",
     "output_type": "stream",
     "text": [
      "Episode 2360/3000\n",
      "Fitnesses: ['-32.68', '-50.89', '-5.92', '-27.82']\n",
      "100 fitness avgs: ['-20.72', '-21.39', '-20.94', '-20.95']\n"
     ]
    },
    {
     "name": "stderr",
     "output_type": "stream",
     "text": [
      " 79%|██████████████████████████████▉        | 2379/3000 [24:05<12:02,  1.16s/it]"
     ]
    },
    {
     "name": "stdout",
     "output_type": "stream",
     "text": [
      "Episode 2380/3000\n",
      "Fitnesses: ['-39.61', '-51.31', '-10.88', '-54.64']\n",
      "100 fitness avgs: ['-21.24', '-21.36', '-20.95', '-21.40']\n"
     ]
    },
    {
     "name": "stderr",
     "output_type": "stream",
     "text": [
      " 80%|███████████████████████████████▏       | 2399/3000 [24:28<11:37,  1.16s/it]"
     ]
    },
    {
     "name": "stdout",
     "output_type": "stream",
     "text": [
      "Episode 2400/3000\n",
      "Fitnesses: ['-25.42', '-20.37', '-25.31', '-26.37']\n",
      "100 fitness avgs: ['-21.09', '-21.04', '-21.37', '-21.38']\n"
     ]
    },
    {
     "name": "stderr",
     "output_type": "stream",
     "text": [
      " 81%|███████████████████████████████▍       | 2419/3000 [24:51<11:12,  1.16s/it]"
     ]
    },
    {
     "name": "stdout",
     "output_type": "stream",
     "text": [
      "Episode 2420/3000\n",
      "Fitnesses: ['-13.68', '-36.36', '-15.73', '-8.55']\n",
      "100 fitness avgs: ['-20.88', '-21.46', '-20.90', '-21.17']\n"
     ]
    },
    {
     "name": "stderr",
     "output_type": "stream",
     "text": [
      " 81%|███████████████████████████████▋       | 2439/3000 [25:14<11:05,  1.19s/it]"
     ]
    },
    {
     "name": "stdout",
     "output_type": "stream",
     "text": [
      "Episode 2440/3000\n",
      "Fitnesses: ['-41.20', '-20.27', '-24.46', '-26.53']\n",
      "100 fitness avgs: ['-21.43', '-21.22', '-21.56', '-21.29']\n"
     ]
    },
    {
     "name": "stderr",
     "output_type": "stream",
     "text": [
      " 82%|███████████████████████████████▉       | 2459/3000 [25:37<10:30,  1.17s/it]"
     ]
    },
    {
     "name": "stdout",
     "output_type": "stream",
     "text": [
      "Episode 2460/3000\n",
      "Fitnesses: ['-18.38', '-18.04', '-52.71', '-8.93']\n",
      "100 fitness avgs: ['-21.10', '-21.43', '-21.51', '-21.34']\n"
     ]
    },
    {
     "name": "stderr",
     "output_type": "stream",
     "text": [
      " 83%|████████████████████████████████▏      | 2479/3000 [26:00<12:13,  1.41s/it]"
     ]
    },
    {
     "name": "stdout",
     "output_type": "stream",
     "text": [
      "Episode 2480/3000\n",
      "Fitnesses: ['-11.49', '-5.10', '-20.67', '-66.43']\n",
      "100 fitness avgs: ['-21.07', '-21.18', '-21.16', '-21.62']\n"
     ]
    },
    {
     "name": "stderr",
     "output_type": "stream",
     "text": [
      " 83%|████████████████████████████████▍      | 2499/3000 [26:25<09:59,  1.20s/it]"
     ]
    },
    {
     "name": "stdout",
     "output_type": "stream",
     "text": [
      "Episode 2500/3000\n",
      "Fitnesses: ['-42.26', '-7.92', '-19.33', '-49.19']\n",
      "100 fitness avgs: ['-21.42', '-21.06', '-21.19', '-21.49']\n"
     ]
    },
    {
     "name": "stderr",
     "output_type": "stream",
     "text": [
      " 84%|████████████████████████████████▋      | 2519/3000 [26:48<09:20,  1.16s/it]"
     ]
    },
    {
     "name": "stdout",
     "output_type": "stream",
     "text": [
      "Episode 2520/3000\n",
      "Fitnesses: ['-45.77', '-19.92', '-57.41', '-17.12']\n",
      "100 fitness avgs: ['-21.41', '-21.51', '-21.53', '-21.12']\n"
     ]
    },
    {
     "name": "stderr",
     "output_type": "stream",
     "text": [
      " 85%|█████████████████████████████████      | 2539/3000 [27:11<08:55,  1.16s/it]"
     ]
    },
    {
     "name": "stdout",
     "output_type": "stream",
     "text": [
      "Episode 2540/3000\n",
      "Fitnesses: ['-60.67', '-16.33', '-13.66', '-15.25']\n",
      "100 fitness avgs: ['-21.61', '-21.45', '-21.42', '-21.15']\n"
     ]
    },
    {
     "name": "stderr",
     "output_type": "stream",
     "text": [
      " 85%|█████████████████████████████████▎     | 2559/3000 [27:34<08:46,  1.19s/it]"
     ]
    },
    {
     "name": "stdout",
     "output_type": "stream",
     "text": [
      "Episode 2560/3000\n",
      "Fitnesses: ['-7.06', '-27.88', '-6.33', '-45.35']\n",
      "100 fitness avgs: ['-21.18', '-21.39', '-21.17', '-21.56']\n"
     ]
    },
    {
     "name": "stderr",
     "output_type": "stream",
     "text": [
      " 86%|█████████████████████████████████▌     | 2579/3000 [27:57<08:22,  1.19s/it]"
     ]
    },
    {
     "name": "stdout",
     "output_type": "stream",
     "text": [
      "Episode 2580/3000\n",
      "Fitnesses: ['-15.81', '-23.64', '-21.04', '-12.62']\n",
      "100 fitness avgs: ['-20.86', '-20.94', '-20.91', '-20.84']\n"
     ]
    },
    {
     "name": "stderr",
     "output_type": "stream",
     "text": [
      " 87%|█████████████████████████████████▊     | 2600/3000 [28:22<07:50,  1.18s/it]"
     ]
    },
    {
     "name": "stdout",
     "output_type": "stream",
     "text": [
      "Episode 2600/3000\n",
      "Fitnesses: ['-8.08', '-11.95', '-18.22', '-55.43']\n",
      "100 fitness avgs: ['-20.73', '-20.88', '-20.86', '-21.28']\n"
     ]
    },
    {
     "name": "stderr",
     "output_type": "stream",
     "text": [
      " 87%|██████████████████████████████████     | 2619/3000 [28:44<07:28,  1.18s/it]"
     ]
    },
    {
     "name": "stdout",
     "output_type": "stream",
     "text": [
      "Episode 2620/3000\n",
      "Fitnesses: ['-16.03', '-0.75', '-4.98', '-17.17']\n",
      "100 fitness avgs: ['-20.80', '-20.78', '-20.69', '-20.94']\n"
     ]
    },
    {
     "name": "stderr",
     "output_type": "stream",
     "text": [
      " 88%|██████████████████████████████████▎    | 2639/3000 [29:06<06:53,  1.15s/it]"
     ]
    },
    {
     "name": "stdout",
     "output_type": "stream",
     "text": [
      "Episode 2640/3000\n",
      "Fitnesses: ['-6.89', '-6.02', '-9.10', '-8.92']\n",
      "100 fitness avgs: ['-20.73', '-20.72', '-20.91', '-20.91']\n"
     ]
    },
    {
     "name": "stderr",
     "output_type": "stream",
     "text": [
      " 89%|██████████████████████████████████▌    | 2659/3000 [29:28<06:27,  1.14s/it]"
     ]
    },
    {
     "name": "stdout",
     "output_type": "stream",
     "text": [
      "Episode 2660/3000\n",
      "Fitnesses: ['-18.77', '-10.82', '-36.51', '-16.46']\n",
      "100 fitness avgs: ['-20.76', '-20.69', '-21.14', '-20.75']\n"
     ]
    },
    {
     "name": "stderr",
     "output_type": "stream",
     "text": [
      " 89%|██████████████████████████████████▊    | 2680/3000 [29:51<05:58,  1.12s/it]"
     ]
    },
    {
     "name": "stdout",
     "output_type": "stream",
     "text": [
      "Episode 2680/3000\n",
      "Fitnesses: ['-33.75', '-16.94', '-8.18', '-40.16']\n",
      "100 fitness avgs: ['-19.94', '-19.77', '-19.75', '-20.08']\n"
     ]
    },
    {
     "name": "stderr",
     "output_type": "stream",
     "text": [
      " 90%|███████████████████████████████████    | 2699/3000 [30:12<05:32,  1.11s/it]"
     ]
    },
    {
     "name": "stdout",
     "output_type": "stream",
     "text": [
      "Episode 2700/3000\n",
      "Fitnesses: ['-26.26', '-26.62', '-7.72', '-10.59']\n",
      "100 fitness avgs: ['-19.70', '-19.70', '-19.70', '-19.54']\n"
     ]
    },
    {
     "name": "stderr",
     "output_type": "stream",
     "text": [
      " 91%|███████████████████████████████████▎   | 2719/3000 [30:35<05:17,  1.13s/it]"
     ]
    },
    {
     "name": "stdout",
     "output_type": "stream",
     "text": [
      "Episode 2720/3000\n",
      "Fitnesses: ['-17.50', '-5.13', '-42.97', '-22.00']\n",
      "100 fitness avgs: ['-19.45', '-19.32', '-19.70', '-19.49']\n"
     ]
    },
    {
     "name": "stderr",
     "output_type": "stream",
     "text": [
      " 91%|███████████████████████████████████▌   | 2740/3000 [30:58<04:51,  1.12s/it]"
     ]
    },
    {
     "name": "stdout",
     "output_type": "stream",
     "text": [
      "Episode 2740/3000\n",
      "Fitnesses: ['-9.14', '-17.15', '-28.45', '-24.38']\n",
      "100 fitness avgs: ['-19.39', '-19.59', '-19.75', '-19.66']\n"
     ]
    },
    {
     "name": "stderr",
     "output_type": "stream",
     "text": [
      " 92%|███████████████████████████████████▉   | 2760/3000 [31:20<04:28,  1.12s/it]"
     ]
    },
    {
     "name": "stdout",
     "output_type": "stream",
     "text": [
      "Episode 2760/3000\n",
      "Fitnesses: ['-63.20', '-7.31', '-4.83', '-34.99']\n",
      "100 fitness avgs: ['-19.66', '-19.31', '-19.08', '-19.58']\n"
     ]
    },
    {
     "name": "stderr",
     "output_type": "stream",
     "text": [
      " 93%|████████████████████████████████████▏  | 2779/3000 [31:41<04:11,  1.14s/it]"
     ]
    },
    {
     "name": "stdout",
     "output_type": "stream",
     "text": [
      "Episode 2780/3000\n",
      "Fitnesses: ['-19.07', '-34.03', '-17.76', '-12.23']\n",
      "100 fitness avgs: ['-19.16', '-19.89', '-19.14', '-19.59']\n"
     ]
    },
    {
     "name": "stderr",
     "output_type": "stream",
     "text": [
      " 93%|████████████████████████████████████▍  | 2799/3000 [32:04<03:54,  1.16s/it]"
     ]
    },
    {
     "name": "stdout",
     "output_type": "stream",
     "text": [
      "Episode 2800/3000\n",
      "Fitnesses: ['-44.41', '-8.64', '-6.59', '-25.22']\n",
      "100 fitness avgs: ['-19.83', '-19.76', '-19.01', '-19.18']\n"
     ]
    },
    {
     "name": "stderr",
     "output_type": "stream",
     "text": [
      " 94%|████████████████████████████████████▋  | 2819/3000 [32:26<03:27,  1.15s/it]"
     ]
    },
    {
     "name": "stdout",
     "output_type": "stream",
     "text": [
      "Episode 2820/3000\n",
      "Fitnesses: ['-37.86', '-2.75', '-23.31', '-5.41']\n",
      "100 fitness avgs: ['-19.07', '-19.47', '-18.93', '-19.50']\n"
     ]
    },
    {
     "name": "stderr",
     "output_type": "stream",
     "text": [
      " 95%|████████████████████████████████████▉  | 2839/3000 [32:50<03:12,  1.19s/it]"
     ]
    },
    {
     "name": "stdout",
     "output_type": "stream",
     "text": [
      "Episode 2840/3000\n",
      "Fitnesses: ['-19.68', '-10.31', '-34.39', '-8.47']\n",
      "100 fitness avgs: ['-19.65', '-19.59', '-19.83', '-19.54']\n"
     ]
    },
    {
     "name": "stderr",
     "output_type": "stream",
     "text": [
      " 95%|█████████████████████████████████████▏ | 2859/3000 [33:13<02:49,  1.20s/it]"
     ]
    },
    {
     "name": "stdout",
     "output_type": "stream",
     "text": [
      "Episode 2860/3000\n",
      "Fitnesses: ['-16.92', '-2.35', '-17.28', '-41.38']\n",
      "100 fitness avgs: ['-19.57', '-19.43', '-19.69', '-19.82']\n"
     ]
    },
    {
     "name": "stderr",
     "output_type": "stream",
     "text": [
      " 96%|█████████████████████████████████████▍ | 2879/3000 [33:37<02:25,  1.20s/it]"
     ]
    },
    {
     "name": "stdout",
     "output_type": "stream",
     "text": [
      "Episode 2880/3000\n",
      "Fitnesses: ['-16.80', '-12.22', '-24.41', '-12.76']\n",
      "100 fitness avgs: ['-19.42', '-19.52', '-19.49', '-19.77']\n"
     ]
    },
    {
     "name": "stderr",
     "output_type": "stream",
     "text": [
      " 97%|█████████████████████████████████████▋ | 2899/3000 [34:00<01:58,  1.18s/it]"
     ]
    },
    {
     "name": "stdout",
     "output_type": "stream",
     "text": [
      "Episode 2900/3000\n",
      "Fitnesses: ['-21.67', '-22.02', '-2.29', '-24.45']\n",
      "100 fitness avgs: ['-19.03', '-19.28', '-18.84', '-19.06']\n"
     ]
    },
    {
     "name": "stderr",
     "output_type": "stream",
     "text": [
      " 97%|█████████████████████████████████████▉ | 2919/3000 [34:23<01:36,  1.19s/it]"
     ]
    },
    {
     "name": "stdout",
     "output_type": "stream",
     "text": [
      "Episode 2920/3000\n",
      "Fitnesses: ['-21.45', '-4.04', '-30.53', '-14.47']\n",
      "100 fitness avgs: ['-18.77', '-18.60', '-19.08', '-18.70']\n"
     ]
    },
    {
     "name": "stderr",
     "output_type": "stream",
     "text": [
      " 98%|██████████████████████████████████████▏| 2939/3000 [34:46<01:14,  1.22s/it]"
     ]
    },
    {
     "name": "stdout",
     "output_type": "stream",
     "text": [
      "Episode 2940/3000\n",
      "Fitnesses: ['-3.80', '-0.94', '-29.50', '-2.66']\n",
      "100 fitness avgs: ['-18.55', '-18.63', '-18.92', '-18.72']\n"
     ]
    },
    {
     "name": "stderr",
     "output_type": "stream",
     "text": [
      " 99%|██████████████████████████████████████▍| 2959/3000 [35:10<00:49,  1.21s/it]"
     ]
    },
    {
     "name": "stdout",
     "output_type": "stream",
     "text": [
      "Episode 2960/3000\n",
      "Fitnesses: ['-7.87', '-16.27', '-8.86', '-30.39']\n",
      "100 fitness avgs: ['-18.69', '-18.86', '-18.70', '-18.92']\n"
     ]
    },
    {
     "name": "stderr",
     "output_type": "stream",
     "text": [
      " 99%|██████████████████████████████████████▋| 2980/3000 [35:50<00:37,  1.90s/it]"
     ]
    },
    {
     "name": "stdout",
     "output_type": "stream",
     "text": [
      "Episode 2980/3000\n",
      "Fitnesses: ['-144.07', '-0.75', '-17.29', '-242.50']\n",
      "100 fitness avgs: ['-20.07', '-18.65', '-18.81', '-21.22']\n"
     ]
    },
    {
     "name": "stderr",
     "output_type": "stream",
     "text": [
      "100%|███████████████████████████████████████| 3000/3000 [36:13<00:00,  1.16s/it]"
     ]
    },
    {
     "name": "stdout",
     "output_type": "stream",
     "text": [
      "Episode 3000/3000\n",
      "Fitnesses: ['-1.69', '-43.12', '-14.65', '-7.49']\n",
      "100 fitness avgs: ['-18.45', '-19.03', '-18.58', '-18.51']\n"
     ]
    },
    {
     "name": "stderr",
     "output_type": "stream",
     "text": [
      "100%|███████████████████████████████████████| 3000/3000 [36:13<00:00,  1.38it/s]\n"
     ]
    }
   ],
   "source": [
    "%run script-1-train.py -dt $str_dt_now"
   ]
  },
  {
   "cell_type": "code",
   "execution_count": 6,
   "id": "0f1b4bc6-043a-48e4-ae2b-b83912f09b3b",
   "metadata": {},
   "outputs": [
    {
     "name": "stdout",
     "output_type": "stream",
     "text": [
      "--------------- Episode: 0 ---------------\n",
      "Episodic Reward:  -12.671992517200586\n",
      "speaker_0 reward: -6.335996258600293\n",
      "listener_0 reward: -6.335996258600293\n",
      "--------------- Episode: 1 ---------------\n",
      "Episodic Reward:  -16.870416408885653\n",
      "speaker_0 reward: -8.435208204442826\n",
      "listener_0 reward: -8.435208204442826\n",
      "--------------- Episode: 2 ---------------\n",
      "Episodic Reward:  -9.236891177294371\n",
      "speaker_0 reward: -4.618445588647186\n",
      "listener_0 reward: -4.618445588647186\n",
      "--------------- Episode: 3 ---------------\n",
      "Episodic Reward:  -9.898820536829847\n",
      "speaker_0 reward: -4.9494102684149235\n",
      "listener_0 reward: -4.9494102684149235\n",
      "--------------- Episode: 4 ---------------\n",
      "Episodic Reward:  -13.317098017710027\n",
      "speaker_0 reward: -6.658549008855013\n",
      "listener_0 reward: -6.658549008855013\n",
      "--------------- Episode: 5 ---------------\n",
      "Episodic Reward:  -11.860010290817444\n",
      "speaker_0 reward: -5.930005145408722\n",
      "listener_0 reward: -5.930005145408722\n",
      "--------------- Episode: 6 ---------------\n",
      "Episodic Reward:  -26.328917226579176\n",
      "speaker_0 reward: -13.164458613289588\n",
      "listener_0 reward: -13.164458613289588\n",
      "--------------- Episode: 7 ---------------\n",
      "Episodic Reward:  -18.19957773190265\n",
      "speaker_0 reward: -9.099788865951325\n",
      "listener_0 reward: -9.099788865951325\n",
      "--------------- Episode: 8 ---------------\n",
      "Episodic Reward:  -40.94395225734775\n",
      "speaker_0 reward: -20.471976128673877\n",
      "listener_0 reward: -20.471976128673877\n",
      "--------------- Episode: 9 ---------------\n",
      "Episodic Reward:  -17.587459143433247\n",
      "speaker_0 reward: -8.793729571716623\n",
      "listener_0 reward: -8.793729571716623\n",
      "./result/20231224-1008/videos/speaker_listener.gif\n"
     ]
    }
   ],
   "source": [
    "%run script-2-play.py -dt $str_dt_now"
   ]
  },
  {
   "cell_type": "code",
   "execution_count": 7,
   "id": "fd62d1b5-7785-4023-8de1-0ff1f36b4239",
   "metadata": {},
   "outputs": [
    {
     "ename": "KeyboardInterrupt",
     "evalue": "",
     "output_type": "error",
     "traceback": [
      "\u001b[0;31m---------------------------------------------------------------------------\u001b[0m",
      "\u001b[0;31mKeyboardInterrupt\u001b[0m                         Traceback (most recent call last)",
      "Cell \u001b[0;32mIn[7], line 4\u001b[0m\n\u001b[1;32m      1\u001b[0m \u001b[38;5;28;01mimport\u001b[39;00m \u001b[38;5;21;01mplaysound\u001b[39;00m\n\u001b[1;32m      3\u001b[0m \u001b[38;5;28;01mwhile\u001b[39;00m \u001b[38;5;28;01mTrue\u001b[39;00m:\n\u001b[0;32m----> 4\u001b[0m     \u001b[43mplaysound\u001b[49m\u001b[38;5;241;43m.\u001b[39;49m\u001b[43mplaysound\u001b[49m\u001b[43m(\u001b[49m\u001b[38;5;124;43m\"\u001b[39;49m\u001b[38;5;124;43mfireworks.mp3\u001b[39;49m\u001b[38;5;124;43m\"\u001b[39;49m\u001b[43m)\u001b[49m\n",
      "File \u001b[0;32m~/work-worldmodel2023/venv-mpe/lib/python3.8/site-packages/playsound.py:144\u001b[0m, in \u001b[0;36m_playsoundOSX\u001b[0;34m(sound, block)\u001b[0m\n\u001b[1;32m    141\u001b[0m nssound\u001b[38;5;241m.\u001b[39mplay()\n\u001b[1;32m    143\u001b[0m \u001b[38;5;28;01mif\u001b[39;00m block:\n\u001b[0;32m--> 144\u001b[0m     \u001b[43msleep\u001b[49m\u001b[43m(\u001b[49m\u001b[43mnssound\u001b[49m\u001b[38;5;241;43m.\u001b[39;49m\u001b[43mduration\u001b[49m\u001b[43m(\u001b[49m\u001b[43m)\u001b[49m\u001b[43m)\u001b[49m\n",
      "\u001b[0;31mKeyboardInterrupt\u001b[0m: "
     ]
    }
   ],
   "source": [
    "import playsound\n",
    "\n",
    "while True:\n",
    "    playsound.playsound(\"fireworks.mp3\")"
   ]
  },
  {
   "cell_type": "code",
   "execution_count": null,
   "id": "5d75d986-de09-4449-ab01-394fcb3ce289",
   "metadata": {},
   "outputs": [],
   "source": []
  }
 ],
 "metadata": {
  "kernelspec": {
   "display_name": "Python 3 (ipykernel)",
   "language": "python",
   "name": "python3"
  },
  "language_info": {
   "codemirror_mode": {
    "name": "ipython",
    "version": 3
   },
   "file_extension": ".py",
   "mimetype": "text/x-python",
   "name": "python",
   "nbconvert_exporter": "python",
   "pygments_lexer": "ipython3",
   "version": "3.8.2"
  }
 },
 "nbformat": 4,
 "nbformat_minor": 5
}
