{
 "cells": [
  {
   "cell_type": "markdown",
   "id": "ff4488f4",
   "metadata": {},
   "source": [
    "# AgileRL Speaker-Listener with MATD3\n",
    "https://docs.agilerl.com/en/latest/tutorials/pettingzoo/matd3.html"
   ]
  },
  {
   "cell_type": "code",
   "execution_count": 1,
   "id": "a9b039f0",
   "metadata": {},
   "outputs": [
    {
     "name": "stdout",
     "output_type": "stream",
     "text": [
      "Requirement already satisfied: pip in /Users/work/work-worldmodel2023/venv-mpe/lib/python3.8/site-packages (23.3.1)\n"
     ]
    }
   ],
   "source": [
    "!pip install --upgrade pip"
   ]
  },
  {
   "cell_type": "code",
   "execution_count": 2,
   "id": "3d2e6aa6",
   "metadata": {},
   "outputs": [
    {
     "name": "stdout",
     "output_type": "stream",
     "text": [
      "zsh:1: no matches found: pettingzoo[mpe]\n",
      "Requirement already satisfied: agilerl in /Users/work/work-worldmodel2023/venv-mpe/lib/python3.8/site-packages (0.1.19)\n",
      "Requirement already satisfied: SuperSuit<4.0.0,>=3.9.0 in /Users/work/work-worldmodel2023/venv-mpe/lib/python3.8/site-packages (from agilerl) (3.9.1)\n",
      "Requirement already satisfied: accelerate<0.19.0,>=0.18.0 in /Users/work/work-worldmodel2023/venv-mpe/lib/python3.8/site-packages (from agilerl) (0.18.0)\n",
      "Requirement already satisfied: dill<0.4.0,>=0.3.7 in /Users/work/work-worldmodel2023/venv-mpe/lib/python3.8/site-packages (from agilerl) (0.3.7)\n",
      "Requirement already satisfied: fastrand<2.0.0,>=1.3.0 in /Users/work/work-worldmodel2023/venv-mpe/lib/python3.8/site-packages (from agilerl) (1.8.0)\n",
      "Requirement already satisfied: flatten_dict<0.5.0,>=0.4.2 in /Users/work/work-worldmodel2023/venv-mpe/lib/python3.8/site-packages (from agilerl) (0.4.2)\n",
      "Requirement already satisfied: gymnasium<0.29.0,>=0.28.1 in /Users/work/work-worldmodel2023/venv-mpe/lib/python3.8/site-packages (from agilerl) (0.28.1)\n",
      "Requirement already satisfied: h5py<4.0.0,>=3.8.0 in /Users/work/work-worldmodel2023/venv-mpe/lib/python3.8/site-packages (from agilerl) (3.10.0)\n",
      "Requirement already satisfied: hydra-core<2.0.0,>=1.3.2 in /Users/work/work-worldmodel2023/venv-mpe/lib/python3.8/site-packages (from agilerl) (1.3.2)\n",
      "Requirement already satisfied: matplotlib<4.0.0,>=3.4.3 in /Users/work/work-worldmodel2023/venv-mpe/lib/python3.8/site-packages (from agilerl) (3.7.4)\n",
      "Requirement already satisfied: minari<0.5.0,>=0.4.1 in /Users/work/work-worldmodel2023/venv-mpe/lib/python3.8/site-packages (from agilerl) (0.4.2)\n",
      "Requirement already satisfied: numpy<2.0.0,>=1.24.2 in /Users/work/work-worldmodel2023/venv-mpe/lib/python3.8/site-packages (from agilerl) (1.24.4)\n",
      "Requirement already satisfied: omegaconf<3.0.0,>=2.3.0 in /Users/work/work-worldmodel2023/venv-mpe/lib/python3.8/site-packages (from agilerl) (2.3.0)\n",
      "Requirement already satisfied: pettingzoo<2.0.0,>=1.23.1 in /Users/work/work-worldmodel2023/venv-mpe/lib/python3.8/site-packages (from agilerl) (1.24.2)\n",
      "Requirement already satisfied: pre-commit<4.0.0,>=3.4.0 in /Users/work/work-worldmodel2023/venv-mpe/lib/python3.8/site-packages (from agilerl) (3.5.0)\n",
      "Requirement already satisfied: redis<5.0.0,>=4.4.4 in /Users/work/work-worldmodel2023/venv-mpe/lib/python3.8/site-packages (from agilerl) (4.6.0)\n",
      "Requirement already satisfied: termcolor<2.0.0,>=1.1.0 in /Users/work/work-worldmodel2023/venv-mpe/lib/python3.8/site-packages (from agilerl) (1.1.0)\n",
      "Requirement already satisfied: torch<3.0.0,>=2.0.1 in /Users/work/work-worldmodel2023/venv-mpe/lib/python3.8/site-packages (from agilerl) (2.1.2)\n",
      "Requirement already satisfied: tqdm<5.0.0,>=4.65.0 in /Users/work/work-worldmodel2023/venv-mpe/lib/python3.8/site-packages (from agilerl) (4.66.1)\n",
      "Requirement already satisfied: transformers<5.0.0,>=4.30.0 in /Users/work/work-worldmodel2023/venv-mpe/lib/python3.8/site-packages (from agilerl) (4.36.1)\n",
      "Requirement already satisfied: wandb<0.14.0,>=0.13.10 in /Users/work/work-worldmodel2023/venv-mpe/lib/python3.8/site-packages (from agilerl) (0.13.11)\n",
      "Requirement already satisfied: packaging>=20.0 in /Users/work/work-worldmodel2023/venv-mpe/lib/python3.8/site-packages (from accelerate<0.19.0,>=0.18.0->agilerl) (23.1)\n",
      "Requirement already satisfied: psutil in /Users/work/work-worldmodel2023/venv-mpe/lib/python3.8/site-packages (from accelerate<0.19.0,>=0.18.0->agilerl) (5.9.6)\n",
      "Requirement already satisfied: pyyaml in /Users/work/work-worldmodel2023/venv-mpe/lib/python3.8/site-packages (from accelerate<0.19.0,>=0.18.0->agilerl) (6.0.1)\n",
      "Requirement already satisfied: six<2.0,>=1.12 in /Users/work/work-worldmodel2023/venv-mpe/lib/python3.8/site-packages (from flatten_dict<0.5.0,>=0.4.2->agilerl) (1.16.0)\n",
      "Requirement already satisfied: jax-jumpy>=1.0.0 in /Users/work/work-worldmodel2023/venv-mpe/lib/python3.8/site-packages (from gymnasium<0.29.0,>=0.28.1->agilerl) (1.0.0)\n",
      "Requirement already satisfied: cloudpickle>=1.2.0 in /Users/work/work-worldmodel2023/venv-mpe/lib/python3.8/site-packages (from gymnasium<0.29.0,>=0.28.1->agilerl) (3.0.0)\n",
      "Requirement already satisfied: typing-extensions>=4.3.0 in /Users/work/work-worldmodel2023/venv-mpe/lib/python3.8/site-packages (from gymnasium<0.29.0,>=0.28.1->agilerl) (4.8.0)\n",
      "Requirement already satisfied: farama-notifications>=0.0.1 in /Users/work/work-worldmodel2023/venv-mpe/lib/python3.8/site-packages (from gymnasium<0.29.0,>=0.28.1->agilerl) (0.0.4)\n",
      "Requirement already satisfied: importlib-metadata>=4.8.0 in /Users/work/work-worldmodel2023/venv-mpe/lib/python3.8/site-packages (from gymnasium<0.29.0,>=0.28.1->agilerl) (6.8.0)\n",
      "Requirement already satisfied: antlr4-python3-runtime==4.9.* in /Users/work/work-worldmodel2023/venv-mpe/lib/python3.8/site-packages (from hydra-core<2.0.0,>=1.3.2->agilerl) (4.9.3)\n",
      "Requirement already satisfied: importlib-resources in /Users/work/work-worldmodel2023/venv-mpe/lib/python3.8/site-packages (from hydra-core<2.0.0,>=1.3.2->agilerl) (6.1.1)\n",
      "Requirement already satisfied: contourpy>=1.0.1 in /Users/work/work-worldmodel2023/venv-mpe/lib/python3.8/site-packages (from matplotlib<4.0.0,>=3.4.3->agilerl) (1.1.1)\n",
      "Requirement already satisfied: cycler>=0.10 in /Users/work/work-worldmodel2023/venv-mpe/lib/python3.8/site-packages (from matplotlib<4.0.0,>=3.4.3->agilerl) (0.12.1)\n",
      "Requirement already satisfied: fonttools>=4.22.0 in /Users/work/work-worldmodel2023/venv-mpe/lib/python3.8/site-packages (from matplotlib<4.0.0,>=3.4.3->agilerl) (4.46.0)\n",
      "Requirement already satisfied: kiwisolver>=1.0.1 in /Users/work/work-worldmodel2023/venv-mpe/lib/python3.8/site-packages (from matplotlib<4.0.0,>=3.4.3->agilerl) (1.4.5)\n",
      "Requirement already satisfied: pillow>=6.2.0 in /Users/work/work-worldmodel2023/venv-mpe/lib/python3.8/site-packages (from matplotlib<4.0.0,>=3.4.3->agilerl) (10.1.0)\n",
      "Requirement already satisfied: pyparsing>=2.3.1 in /Users/work/work-worldmodel2023/venv-mpe/lib/python3.8/site-packages (from matplotlib<4.0.0,>=3.4.3->agilerl) (3.1.1)\n",
      "Requirement already satisfied: python-dateutil>=2.7 in /Users/work/work-worldmodel2023/venv-mpe/lib/python3.8/site-packages (from matplotlib<4.0.0,>=3.4.3->agilerl) (2.8.2)\n",
      "Requirement already satisfied: google-cloud-storage==2.5.0 in /Users/work/work-worldmodel2023/venv-mpe/lib/python3.8/site-packages (from minari<0.5.0,>=0.4.1->agilerl) (2.5.0)\n",
      "Requirement already satisfied: typer==0.9.0 in /Users/work/work-worldmodel2023/venv-mpe/lib/python3.8/site-packages (from typer[all]==0.9.0->minari<0.5.0,>=0.4.1->agilerl) (0.9.0)\n",
      "Requirement already satisfied: portion==2.4.0 in /Users/work/work-worldmodel2023/venv-mpe/lib/python3.8/site-packages (from minari<0.5.0,>=0.4.1->agilerl) (2.4.0)\n",
      "Requirement already satisfied: google-auth<3.0dev,>=1.25.0 in /Users/work/work-worldmodel2023/venv-mpe/lib/python3.8/site-packages (from google-cloud-storage==2.5.0->minari<0.5.0,>=0.4.1->agilerl) (2.25.2)\n",
      "Requirement already satisfied: google-api-core!=2.0.*,!=2.1.*,!=2.2.*,!=2.3.0,<3.0.0dev,>=1.31.5 in /Users/work/work-worldmodel2023/venv-mpe/lib/python3.8/site-packages (from google-cloud-storage==2.5.0->minari<0.5.0,>=0.4.1->agilerl) (2.15.0)\n",
      "Requirement already satisfied: google-cloud-core<3.0dev,>=2.3.0 in /Users/work/work-worldmodel2023/venv-mpe/lib/python3.8/site-packages (from google-cloud-storage==2.5.0->minari<0.5.0,>=0.4.1->agilerl) (2.4.1)\n",
      "Requirement already satisfied: google-resumable-media>=2.3.2 in /Users/work/work-worldmodel2023/venv-mpe/lib/python3.8/site-packages (from google-cloud-storage==2.5.0->minari<0.5.0,>=0.4.1->agilerl) (2.7.0)\n",
      "Requirement already satisfied: requests<3.0.0dev,>=2.18.0 in /Users/work/work-worldmodel2023/venv-mpe/lib/python3.8/site-packages (from google-cloud-storage==2.5.0->minari<0.5.0,>=0.4.1->agilerl) (2.31.0)\n",
      "Requirement already satisfied: sortedcontainers~=2.2 in /Users/work/work-worldmodel2023/venv-mpe/lib/python3.8/site-packages (from portion==2.4.0->minari<0.5.0,>=0.4.1->agilerl) (2.4.0)\n",
      "Requirement already satisfied: click<9.0.0,>=7.1.1 in /Users/work/work-worldmodel2023/venv-mpe/lib/python3.8/site-packages (from typer==0.9.0->typer[all]==0.9.0->minari<0.5.0,>=0.4.1->agilerl) (8.1.7)\n",
      "Requirement already satisfied: colorama<0.5.0,>=0.4.3 in /Users/work/work-worldmodel2023/venv-mpe/lib/python3.8/site-packages (from typer[all]==0.9.0->minari<0.5.0,>=0.4.1->agilerl) (0.4.6)\n",
      "Requirement already satisfied: shellingham<2.0.0,>=1.3.0 in /Users/work/work-worldmodel2023/venv-mpe/lib/python3.8/site-packages (from typer[all]==0.9.0->minari<0.5.0,>=0.4.1->agilerl) (1.5.4)\n",
      "Requirement already satisfied: rich<14.0.0,>=10.11.0 in /Users/work/work-worldmodel2023/venv-mpe/lib/python3.8/site-packages (from typer[all]==0.9.0->minari<0.5.0,>=0.4.1->agilerl) (13.7.0)\n",
      "Requirement already satisfied: cfgv>=2.0.0 in /Users/work/work-worldmodel2023/venv-mpe/lib/python3.8/site-packages (from pre-commit<4.0.0,>=3.4.0->agilerl) (3.4.0)\n",
      "Requirement already satisfied: identify>=1.0.0 in /Users/work/work-worldmodel2023/venv-mpe/lib/python3.8/site-packages (from pre-commit<4.0.0,>=3.4.0->agilerl) (2.5.33)\n",
      "Requirement already satisfied: nodeenv>=0.11.1 in /Users/work/work-worldmodel2023/venv-mpe/lib/python3.8/site-packages (from pre-commit<4.0.0,>=3.4.0->agilerl) (1.8.0)\n",
      "Requirement already satisfied: virtualenv>=20.10.0 in /Users/work/work-worldmodel2023/venv-mpe/lib/python3.8/site-packages (from pre-commit<4.0.0,>=3.4.0->agilerl) (20.25.0)\n",
      "Requirement already satisfied: async-timeout>=4.0.2 in /Users/work/work-worldmodel2023/venv-mpe/lib/python3.8/site-packages (from redis<5.0.0,>=4.4.4->agilerl) (4.0.3)\n",
      "Requirement already satisfied: tinyscaler>=1.2.6 in /Users/work/work-worldmodel2023/venv-mpe/lib/python3.8/site-packages (from SuperSuit<4.0.0,>=3.9.0->agilerl) (1.2.7)\n",
      "Requirement already satisfied: filelock in /Users/work/work-worldmodel2023/venv-mpe/lib/python3.8/site-packages (from torch<3.0.0,>=2.0.1->agilerl) (3.13.1)\n",
      "Requirement already satisfied: sympy in /Users/work/work-worldmodel2023/venv-mpe/lib/python3.8/site-packages (from torch<3.0.0,>=2.0.1->agilerl) (1.12)\n",
      "Requirement already satisfied: networkx in /Users/work/work-worldmodel2023/venv-mpe/lib/python3.8/site-packages (from torch<3.0.0,>=2.0.1->agilerl) (3.1)\n",
      "Requirement already satisfied: jinja2 in /Users/work/work-worldmodel2023/venv-mpe/lib/python3.8/site-packages (from torch<3.0.0,>=2.0.1->agilerl) (3.1.2)\n",
      "Requirement already satisfied: fsspec in /Users/work/work-worldmodel2023/venv-mpe/lib/python3.8/site-packages (from torch<3.0.0,>=2.0.1->agilerl) (2023.12.2)\n",
      "Requirement already satisfied: huggingface-hub<1.0,>=0.19.3 in /Users/work/work-worldmodel2023/venv-mpe/lib/python3.8/site-packages (from transformers<5.0.0,>=4.30.0->agilerl) (0.19.4)\n",
      "Requirement already satisfied: regex!=2019.12.17 in /Users/work/work-worldmodel2023/venv-mpe/lib/python3.8/site-packages (from transformers<5.0.0,>=4.30.0->agilerl) (2023.10.3)\n",
      "Requirement already satisfied: tokenizers<0.19,>=0.14 in /Users/work/work-worldmodel2023/venv-mpe/lib/python3.8/site-packages (from transformers<5.0.0,>=4.30.0->agilerl) (0.15.0)\n",
      "Requirement already satisfied: safetensors>=0.3.1 in /Users/work/work-worldmodel2023/venv-mpe/lib/python3.8/site-packages (from transformers<5.0.0,>=4.30.0->agilerl) (0.4.1)\n",
      "Requirement already satisfied: GitPython!=3.1.29,>=1.0.0 in /Users/work/work-worldmodel2023/venv-mpe/lib/python3.8/site-packages (from wandb<0.14.0,>=0.13.10->agilerl) (3.1.40)\n",
      "Requirement already satisfied: sentry-sdk>=1.0.0 in /Users/work/work-worldmodel2023/venv-mpe/lib/python3.8/site-packages (from wandb<0.14.0,>=0.13.10->agilerl) (1.39.1)\n",
      "Requirement already satisfied: docker-pycreds>=0.4.0 in /Users/work/work-worldmodel2023/venv-mpe/lib/python3.8/site-packages (from wandb<0.14.0,>=0.13.10->agilerl) (0.4.0)\n",
      "Requirement already satisfied: pathtools in /Users/work/work-worldmodel2023/venv-mpe/lib/python3.8/site-packages (from wandb<0.14.0,>=0.13.10->agilerl) (0.1.2)\n",
      "Requirement already satisfied: setproctitle in /Users/work/work-worldmodel2023/venv-mpe/lib/python3.8/site-packages (from wandb<0.14.0,>=0.13.10->agilerl) (1.3.3)\n",
      "Requirement already satisfied: setuptools in /Users/work/work-worldmodel2023/venv-mpe/lib/python3.8/site-packages (from wandb<0.14.0,>=0.13.10->agilerl) (41.2.0)\n",
      "Requirement already satisfied: appdirs>=1.4.3 in /Users/work/work-worldmodel2023/venv-mpe/lib/python3.8/site-packages (from wandb<0.14.0,>=0.13.10->agilerl) (1.4.4)\n",
      "Requirement already satisfied: protobuf!=4.21.0,<5,>=3.19.0 in /Users/work/work-worldmodel2023/venv-mpe/lib/python3.8/site-packages (from wandb<0.14.0,>=0.13.10->agilerl) (4.25.1)\n",
      "Requirement already satisfied: gitdb<5,>=4.0.1 in /Users/work/work-worldmodel2023/venv-mpe/lib/python3.8/site-packages (from GitPython!=3.1.29,>=1.0.0->wandb<0.14.0,>=0.13.10->agilerl) (4.0.11)\n",
      "Requirement already satisfied: zipp>=0.5 in /Users/work/work-worldmodel2023/venv-mpe/lib/python3.8/site-packages (from importlib-metadata>=4.8.0->gymnasium<0.29.0,>=0.28.1->agilerl) (3.17.0)\n",
      "Requirement already satisfied: charset-normalizer<4,>=2 in /Users/work/work-worldmodel2023/venv-mpe/lib/python3.8/site-packages (from requests<3.0.0dev,>=2.18.0->google-cloud-storage==2.5.0->minari<0.5.0,>=0.4.1->agilerl) (3.3.2)\n",
      "Requirement already satisfied: idna<4,>=2.5 in /Users/work/work-worldmodel2023/venv-mpe/lib/python3.8/site-packages (from requests<3.0.0dev,>=2.18.0->google-cloud-storage==2.5.0->minari<0.5.0,>=0.4.1->agilerl) (3.6)\n",
      "Requirement already satisfied: urllib3<3,>=1.21.1 in /Users/work/work-worldmodel2023/venv-mpe/lib/python3.8/site-packages (from requests<3.0.0dev,>=2.18.0->google-cloud-storage==2.5.0->minari<0.5.0,>=0.4.1->agilerl) (2.1.0)\n",
      "Requirement already satisfied: certifi>=2017.4.17 in /Users/work/work-worldmodel2023/venv-mpe/lib/python3.8/site-packages (from requests<3.0.0dev,>=2.18.0->google-cloud-storage==2.5.0->minari<0.5.0,>=0.4.1->agilerl) (2023.11.17)\n",
      "Requirement already satisfied: distlib<1,>=0.3.7 in /Users/work/work-worldmodel2023/venv-mpe/lib/python3.8/site-packages (from virtualenv>=20.10.0->pre-commit<4.0.0,>=3.4.0->agilerl) (0.3.8)\n",
      "Requirement already satisfied: platformdirs<5,>=3.9.1 in /Users/work/work-worldmodel2023/venv-mpe/lib/python3.8/site-packages (from virtualenv>=20.10.0->pre-commit<4.0.0,>=3.4.0->agilerl) (4.1.0)\n",
      "Requirement already satisfied: MarkupSafe>=2.0 in /Users/work/work-worldmodel2023/venv-mpe/lib/python3.8/site-packages (from jinja2->torch<3.0.0,>=2.0.1->agilerl) (2.1.3)\n",
      "Requirement already satisfied: mpmath>=0.19 in /Users/work/work-worldmodel2023/venv-mpe/lib/python3.8/site-packages (from sympy->torch<3.0.0,>=2.0.1->agilerl) (1.3.0)\n",
      "Requirement already satisfied: smmap<6,>=3.0.1 in /Users/work/work-worldmodel2023/venv-mpe/lib/python3.8/site-packages (from gitdb<5,>=4.0.1->GitPython!=3.1.29,>=1.0.0->wandb<0.14.0,>=0.13.10->agilerl) (5.0.1)\n",
      "Requirement already satisfied: googleapis-common-protos<2.0.dev0,>=1.56.2 in /Users/work/work-worldmodel2023/venv-mpe/lib/python3.8/site-packages (from google-api-core!=2.0.*,!=2.1.*,!=2.2.*,!=2.3.0,<3.0.0dev,>=1.31.5->google-cloud-storage==2.5.0->minari<0.5.0,>=0.4.1->agilerl) (1.62.0)\n",
      "Requirement already satisfied: cachetools<6.0,>=2.0.0 in /Users/work/work-worldmodel2023/venv-mpe/lib/python3.8/site-packages (from google-auth<3.0dev,>=1.25.0->google-cloud-storage==2.5.0->minari<0.5.0,>=0.4.1->agilerl) (5.3.2)\n",
      "Requirement already satisfied: pyasn1-modules>=0.2.1 in /Users/work/work-worldmodel2023/venv-mpe/lib/python3.8/site-packages (from google-auth<3.0dev,>=1.25.0->google-cloud-storage==2.5.0->minari<0.5.0,>=0.4.1->agilerl) (0.3.0)\n",
      "Requirement already satisfied: rsa<5,>=3.1.4 in /Users/work/work-worldmodel2023/venv-mpe/lib/python3.8/site-packages (from google-auth<3.0dev,>=1.25.0->google-cloud-storage==2.5.0->minari<0.5.0,>=0.4.1->agilerl) (4.9)\n",
      "Requirement already satisfied: google-crc32c<2.0dev,>=1.0 in /Users/work/work-worldmodel2023/venv-mpe/lib/python3.8/site-packages (from google-resumable-media>=2.3.2->google-cloud-storage==2.5.0->minari<0.5.0,>=0.4.1->agilerl) (1.5.0)\n",
      "Requirement already satisfied: markdown-it-py>=2.2.0 in /Users/work/work-worldmodel2023/venv-mpe/lib/python3.8/site-packages (from rich<14.0.0,>=10.11.0->typer[all]==0.9.0->minari<0.5.0,>=0.4.1->agilerl) (3.0.0)\n",
      "Requirement already satisfied: pygments<3.0.0,>=2.13.0 in /Users/work/work-worldmodel2023/venv-mpe/lib/python3.8/site-packages (from rich<14.0.0,>=10.11.0->typer[all]==0.9.0->minari<0.5.0,>=0.4.1->agilerl) (2.17.2)\n",
      "Requirement already satisfied: mdurl~=0.1 in /Users/work/work-worldmodel2023/venv-mpe/lib/python3.8/site-packages (from markdown-it-py>=2.2.0->rich<14.0.0,>=10.11.0->typer[all]==0.9.0->minari<0.5.0,>=0.4.1->agilerl) (0.1.2)\n",
      "Requirement already satisfied: pyasn1<0.6.0,>=0.4.6 in /Users/work/work-worldmodel2023/venv-mpe/lib/python3.8/site-packages (from pyasn1-modules>=0.2.1->google-auth<3.0dev,>=1.25.0->google-cloud-storage==2.5.0->minari<0.5.0,>=0.4.1->agilerl) (0.5.1)\n",
      "Requirement already satisfied: imageio in /Users/work/work-worldmodel2023/venv-mpe/lib/python3.8/site-packages (2.33.1)\n",
      "Requirement already satisfied: numpy in /Users/work/work-worldmodel2023/venv-mpe/lib/python3.8/site-packages (from imageio) (1.24.4)\n",
      "Requirement already satisfied: pillow>=8.3.2 in /Users/work/work-worldmodel2023/venv-mpe/lib/python3.8/site-packages (from imageio) (10.1.0)\n"
     ]
    }
   ],
   "source": [
    "!pip install pettingzoo[mpe]\n",
    "!pip install agilerl\n",
    "!pip install imageio"
   ]
  },
  {
   "cell_type": "code",
   "execution_count": 3,
   "id": "afb9d627",
   "metadata": {
    "scrolled": true
   },
   "outputs": [
    {
     "name": "stdout",
     "output_type": "stream",
     "text": [
      "===== AgileRL Online Multi-Agent Demo =====\n"
     ]
    },
    {
     "name": "stderr",
     "output_type": "stream",
     "text": [
      "/Users/work/work-worldmodel2023/venv-mpe/lib/python3.8/site-packages/urllib3/__init__.py:34: NotOpenSSLWarning: urllib3 v2 only supports OpenSSL 1.1.1+, currently the 'ssl' module is compiled with 'LibreSSL 2.8.3'. See: https://github.com/urllib3/urllib3/issues/3020\n",
      "  warnings.warn(\n",
      "/Users/work/work-worldmodel2023/venv-mpe/lib/python3.8/site-packages/tqdm/auto.py:21: TqdmWarning: IProgress not found. Please update jupyter and ipywidgets. See https://ipywidgets.readthedocs.io/en/stable/user_install.html\n",
      "  from .autonotebook import tqdm as notebook_tqdm\n",
      "  0%|▏                                                                                                         | 19/15000 [00:05<1:09:12,  3.61it/s]"
     ]
    },
    {
     "name": "stdout",
     "output_type": "stream",
     "text": [
      "Episode 20/15000\n",
      "Fitnesses: ['-613.08', '-114.30', '-769.42', '-425.84']\n",
      "100 fitness avgs: ['-613.08', '-114.30', '-769.42', '-425.84']\n"
     ]
    },
    {
     "name": "stderr",
     "output_type": "stream",
     "text": [
      "  0%|▎                                                                                                         | 39/15000 [00:11<1:15:30,  3.30it/s]"
     ]
    },
    {
     "name": "stdout",
     "output_type": "stream",
     "text": [
      "Episode 40/15000\n",
      "Fitnesses: ['-159.50', '-458.32', '-238.37', '-73.44']\n",
      "100 fitness avgs: ['-136.90', '-286.31', '-176.34', '-93.87']\n"
     ]
    },
    {
     "name": "stderr",
     "output_type": "stream",
     "text": [
      "  0%|▍                                                                                                         | 59/15000 [00:17<1:20:15,  3.10it/s]"
     ]
    },
    {
     "name": "stdout",
     "output_type": "stream",
     "text": [
      "Episode 60/15000\n",
      "Fitnesses: ['-121.42', '-193.00', '-4.92', '-3.21']\n",
      "100 fitness avgs: ['-103.06', '-181.89', '-92.91', '-63.65']\n"
     ]
    },
    {
     "name": "stderr",
     "output_type": "stream",
     "text": [
      "  1%|▌                                                                                                         | 79/15000 [00:24<1:24:55,  2.93it/s]"
     ]
    },
    {
     "name": "stdout",
     "output_type": "stream",
     "text": [
      "Episode 80/15000\n",
      "Fitnesses: ['-0.23', '-26.08', '-49.81', '-93.11']\n",
      "100 fitness avgs: ['-47.80', '-54.26', '-89.75', '-92.96']\n"
     ]
    },
    {
     "name": "stderr",
     "output_type": "stream",
     "text": [
      "  1%|▋                                                                                                         | 99/15000 [00:31<1:27:20,  2.84it/s]"
     ]
    },
    {
     "name": "stdout",
     "output_type": "stream",
     "text": [
      "Episode 100/15000\n",
      "Fitnesses: ['-7.45', '-63.93', '-75.68', '-58.61']\n",
      "100 fitness avgs: ['-39.73', '-87.15', '-53.37', '-83.52']\n"
     ]
    },
    {
     "name": "stderr",
     "output_type": "stream",
     "text": [
      "  1%|▊                                                                                                        | 119/15000 [00:39<1:26:52,  2.86it/s]"
     ]
    },
    {
     "name": "stdout",
     "output_type": "stream",
     "text": [
      "Episode 120/15000\n",
      "Fitnesses: ['-48.12', '-160.81', '-89.32', '-21.06']\n",
      "100 fitness avgs: ['-41.13', '-59.91', '-47.99', '-36.62']\n"
     ]
    },
    {
     "name": "stderr",
     "output_type": "stream",
     "text": [
      "  1%|▉                                                                                                        | 139/15000 [00:47<1:43:25,  2.39it/s]"
     ]
    },
    {
     "name": "stdout",
     "output_type": "stream",
     "text": [
      "Episode 140/15000\n",
      "Fitnesses: ['-18.32', '-8.33', '-31.96', '-88.87']\n",
      "100 fitness avgs: ['-34.00', '-32.58', '-39.82', '-47.95']\n"
     ]
    },
    {
     "name": "stderr",
     "output_type": "stream",
     "text": [
      "  1%|█                                                                                                        | 160/15000 [00:58<2:16:24,  1.81it/s]"
     ]
    },
    {
     "name": "stdout",
     "output_type": "stream",
     "text": [
      "Episode 160/15000\n",
      "Fitnesses: ['-1.52', '-2.95', '-45.37', '-141.26']\n",
      "100 fitness avgs: ['-28.69', '-28.87', '-35.42', '-47.41']\n"
     ]
    },
    {
     "name": "stderr",
     "output_type": "stream",
     "text": [
      "  1%|█▎                                                                                                       | 179/15000 [01:07<2:05:55,  1.96it/s]"
     ]
    },
    {
     "name": "stdout",
     "output_type": "stream",
     "text": [
      "Episode 180/15000\n",
      "Fitnesses: ['-174.16', '-86.77', '-61.51', '-8.79']\n",
      "100 fitness avgs: ['-44.86', '-35.30', '-32.34', '-26.48']\n"
     ]
    },
    {
     "name": "stderr",
     "output_type": "stream",
     "text": [
      "  1%|█▍                                                                                                       | 199/15000 [01:17<1:58:48,  2.08it/s]"
     ]
    },
    {
     "name": "stdout",
     "output_type": "stream",
     "text": [
      "Episode 200/15000\n",
      "Fitnesses: ['-46.38', '-8.95', '-26.44', '-4.72']\n",
      "100 fitness avgs: ['-28.47', '-32.67', '-26.48', '-32.25']\n"
     ]
    },
    {
     "name": "stderr",
     "output_type": "stream",
     "text": [
      "  1%|█▌                                                                                                       | 219/15000 [01:27<2:11:38,  1.87it/s]"
     ]
    },
    {
     "name": "stdout",
     "output_type": "stream",
     "text": [
      "Episode 220/15000\n",
      "Fitnesses: ['-16.07', '-32.32', '-14.29', '-73.95']\n",
      "100 fitness avgs: ['-30.78', '-27.01', '-30.61', '-36.42']\n"
     ]
    },
    {
     "name": "stderr",
     "output_type": "stream",
     "text": [
      "  2%|█▋                                                                                                       | 239/15000 [01:37<2:03:05,  2.00it/s]"
     ]
    },
    {
     "name": "stdout",
     "output_type": "stream",
     "text": [
      "Episode 240/15000\n",
      "Fitnesses: ['-451.86', '-32.05', '-7.26', '-20.01']\n",
      "100 fitness avgs: ['-65.72', '-27.43', '-28.82', '-26.42']\n"
     ]
    },
    {
     "name": "stderr",
     "output_type": "stream",
     "text": [
      "  2%|█▊                                                                                                       | 259/15000 [01:47<2:07:50,  1.92it/s]"
     ]
    },
    {
     "name": "stdout",
     "output_type": "stream",
     "text": [
      "Episode 260/15000\n",
      "Fitnesses: ['-29.09', '-95.56', '-53.83', '-3.67']\n",
      "100 fitness avgs: ['-28.84', '-31.74', '-28.53', '-26.88']\n"
     ]
    },
    {
     "name": "stderr",
     "output_type": "stream",
     "text": [
      "  2%|█▉                                                                                                       | 279/15000 [01:57<2:03:10,  1.99it/s]"
     ]
    },
    {
     "name": "stdout",
     "output_type": "stream",
     "text": [
      "Episode 280/15000\n",
      "Fitnesses: ['-45.51', '-24.82', '-30.09', '-57.58']\n",
      "100 fitness avgs: ['-28.21', '-26.73', '-28.93', '-30.89']\n"
     ]
    },
    {
     "name": "stderr",
     "output_type": "stream",
     "text": [
      "  2%|██                                                                                                       | 299/15000 [02:06<1:37:13,  2.52it/s]"
     ]
    },
    {
     "name": "stdout",
     "output_type": "stream",
     "text": [
      "Episode 300/15000\n",
      "Fitnesses: ['-66.22', '-28.83', '-15.49', '-21.52']\n",
      "100 fitness avgs: ['-29.37', '-26.87', '-25.98', '-28.43']\n"
     ]
    },
    {
     "name": "stderr",
     "output_type": "stream",
     "text": [
      "  2%|██▏                                                                                                      | 319/15000 [02:15<1:44:56,  2.33it/s]"
     ]
    },
    {
     "name": "stdout",
     "output_type": "stream",
     "text": [
      "Episode 320/15000\n",
      "Fitnesses: ['-22.03', '-21.13', '-23.08', '-126.72']\n",
      "100 fitness avgs: ['-25.74', '-25.68', '-28.10', '-34.58']\n"
     ]
    },
    {
     "name": "stderr",
     "output_type": "stream",
     "text": [
      "  2%|██▎                                                                                                      | 339/15000 [02:23<1:37:28,  2.51it/s]"
     ]
    },
    {
     "name": "stdout",
     "output_type": "stream",
     "text": [
      "Episode 340/15000\n",
      "Fitnesses: ['-23.02', '-98.44', '-63.90', '-69.58']\n",
      "100 fitness avgs: ['-25.52', '-29.96', '-27.93', '-36.63']\n"
     ]
    },
    {
     "name": "stderr",
     "output_type": "stream",
     "text": [
      "  2%|██▌                                                                                                      | 359/15000 [02:30<1:31:36,  2.66it/s]"
     ]
    },
    {
     "name": "stdout",
     "output_type": "stream",
     "text": [
      "Episode 360/15000\n",
      "Fitnesses: ['-25.36', '-66.42', '-34.05', '-8.25']\n",
      "100 fitness avgs: ['-25.52', '-30.07', '-28.27', '-24.56']\n"
     ]
    },
    {
     "name": "stderr",
     "output_type": "stream",
     "text": [
      "  3%|██▋                                                                                                      | 379/15000 [02:37<1:24:29,  2.88it/s]"
     ]
    },
    {
     "name": "stdout",
     "output_type": "stream",
     "text": [
      "Episode 380/15000\n",
      "Fitnesses: ['-25.68', '-56.11', '-10.86', '-49.47']\n",
      "100 fitness avgs: ['-24.62', '-26.23', '-24.74', '-25.88']\n"
     ]
    },
    {
     "name": "stderr",
     "output_type": "stream",
     "text": [
      "  3%|██▊                                                                                                      | 399/15000 [02:45<1:37:02,  2.51it/s]"
     ]
    },
    {
     "name": "stdout",
     "output_type": "stream",
     "text": [
      "Episode 400/15000\n",
      "Fitnesses: ['-66.71', '-21.12', '-34.61', '-37.89']\n",
      "100 fitness avgs: ['-26.84', '-24.45', '-26.31', '-25.40']\n"
     ]
    },
    {
     "name": "stderr",
     "output_type": "stream",
     "text": [
      "  3%|██▉                                                                                                      | 419/15000 [02:52<1:21:36,  2.98it/s]"
     ]
    },
    {
     "name": "stdout",
     "output_type": "stream",
     "text": [
      "Episode 420/15000\n",
      "Fitnesses: ['-336.20', '-24.98', '-38.38', '-4.61']\n",
      "100 fitness avgs: ['-39.29', '-24.47', '-26.89', '-25.28']\n"
     ]
    },
    {
     "name": "stderr",
     "output_type": "stream",
     "text": [
      "  3%|███                                                                                                      | 439/15000 [02:59<1:19:52,  3.04it/s]"
     ]
    },
    {
     "name": "stdout",
     "output_type": "stream",
     "text": [
      "Episode 440/15000\n",
      "Fitnesses: ['-41.26', '-13.61', '-26.06', '-1007.76']\n",
      "100 fitness avgs: ['-26.01', '-24.75', '-25.31', '-71.47']\n"
     ]
    },
    {
     "name": "stderr",
     "output_type": "stream",
     "text": [
      "  3%|███▏                                                                                                     | 459/15000 [03:05<1:08:57,  3.51it/s]"
     ]
    },
    {
     "name": "stdout",
     "output_type": "stream",
     "text": [
      "Episode 460/15000\n",
      "Fitnesses: ['-21.17', '-9.04', '-13.59', '-45.55']\n",
      "100 fitness avgs: ['-24.59', '-24.61', '-24.26', '-25.65']\n"
     ]
    },
    {
     "name": "stderr",
     "output_type": "stream",
     "text": [
      "  3%|███▎                                                                                                     | 479/15000 [03:12<1:17:56,  3.11it/s]"
     ]
    },
    {
     "name": "stdout",
     "output_type": "stream",
     "text": [
      "Episode 480/15000\n",
      "Fitnesses: ['-222.03', '-30.36', '-21.92', '-170.35']\n",
      "100 fitness avgs: ['-32.83', '-24.52', '-24.50', '-30.68']\n"
     ]
    },
    {
     "name": "stderr",
     "output_type": "stream",
     "text": [
      "  3%|███▍                                                                                                     | 499/15000 [03:20<1:31:51,  2.63it/s]"
     ]
    },
    {
     "name": "stdout",
     "output_type": "stream",
     "text": [
      "Episode 500/15000\n",
      "Fitnesses: ['-40.81', '-5.12', '-10.96', '-22.04']\n",
      "100 fitness avgs: ['-25.15', '-23.72', '-29.89', '-30.33']\n"
     ]
    },
    {
     "name": "stderr",
     "output_type": "stream",
     "text": [
      "  3%|███▋                                                                                                     | 519/15000 [03:27<1:24:09,  2.87it/s]"
     ]
    },
    {
     "name": "stdout",
     "output_type": "stream",
     "text": [
      "Episode 520/15000\n",
      "Fitnesses: ['-18.87', '-81.25', '-23.25', '-39.79']\n",
      "100 fitness avgs: ['-23.53', '-25.93', '-29.64', '-24.34']\n"
     ]
    },
    {
     "name": "stderr",
     "output_type": "stream",
     "text": [
      "  4%|███▊                                                                                                     | 539/15000 [03:35<1:30:58,  2.65it/s]"
     ]
    },
    {
     "name": "stdout",
     "output_type": "stream",
     "text": [
      "Episode 540/15000\n",
      "Fitnesses: ['-70.56', '-41.57', '-24.66', '-24.16']\n",
      "100 fitness avgs: ['-25.28', '-24.20', '-23.58', '-23.56']\n"
     ]
    },
    {
     "name": "stderr",
     "output_type": "stream",
     "text": [
      "  4%|███▉                                                                                                     | 559/15000 [03:44<1:38:36,  2.44it/s]"
     ]
    },
    {
     "name": "stdout",
     "output_type": "stream",
     "text": [
      "Episode 560/15000\n",
      "Fitnesses: ['-7.02', '-12.82', '-18.71', '-94.30']\n",
      "100 fitness avgs: ['-22.97', '-23.19', '-23.38', '-26.08']\n"
     ]
    },
    {
     "name": "stderr",
     "output_type": "stream",
     "text": [
      "  4%|████                                                                                                     | 579/15000 [03:51<1:30:34,  2.65it/s]"
     ]
    },
    {
     "name": "stdout",
     "output_type": "stream",
     "text": [
      "Episode 580/15000\n",
      "Fitnesses: ['-19.63', '-12.46', '-24.57', '-223.99']\n",
      "100 fitness avgs: ['-22.85', '-22.60', '-26.03', '-29.90']\n"
     ]
    },
    {
     "name": "stderr",
     "output_type": "stream",
     "text": [
      "  4%|████▏                                                                                                    | 599/15000 [03:59<1:26:27,  2.78it/s]"
     ]
    },
    {
     "name": "stdout",
     "output_type": "stream",
     "text": [
      "Episode 600/15000\n",
      "Fitnesses: ['-44.65', '-34.54', '-9.61', '-89.23']\n",
      "100 fitness avgs: ['-23.34', '-23.00', '-29.22', '-24.82']\n"
     ]
    },
    {
     "name": "stderr",
     "output_type": "stream",
     "text": [
      "  4%|████▎                                                                                                    | 619/15000 [04:06<1:38:09,  2.44it/s]"
     ]
    },
    {
     "name": "stdout",
     "output_type": "stream",
     "text": [
      "Episode 620/15000\n",
      "Fitnesses: ['-127.97', '-6.37', '-15.73', '-37.21']\n",
      "100 fitness avgs: ['-32.41', '-24.23', '-22.77', '-23.46']\n"
     ]
    },
    {
     "name": "stderr",
     "output_type": "stream",
     "text": [
      "  4%|████▍                                                                                                    | 639/15000 [04:18<2:21:13,  1.69it/s]"
     ]
    },
    {
     "name": "stdout",
     "output_type": "stream",
     "text": [
      "Episode 640/15000\n",
      "Fitnesses: ['-1.93', '-7.08', '-5.99', '-48.58']\n",
      "100 fitness avgs: ['-23.53', '-22.95', '-22.91', '-24.99']\n"
     ]
    },
    {
     "name": "stderr",
     "output_type": "stream",
     "text": [
      "  4%|████▌                                                                                                    | 659/15000 [04:28<1:40:56,  2.37it/s]"
     ]
    },
    {
     "name": "stdout",
     "output_type": "stream",
     "text": [
      "Episode 660/15000\n",
      "Fitnesses: ['-10.28', '-32.75', '-9.76', '-38.04']\n",
      "100 fitness avgs: ['-23.13', '-23.81', '-22.52', '-23.37']\n"
     ]
    },
    {
     "name": "stderr",
     "output_type": "stream",
     "text": [
      "  5%|████▊                                                                                                    | 679/15000 [04:37<1:46:15,  2.25it/s]"
     ]
    },
    {
     "name": "stdout",
     "output_type": "stream",
     "text": [
      "Episode 680/15000\n",
      "Fitnesses: ['-18.48', '-317.35', '-11.39', '-29.46']\n",
      "100 fitness avgs: ['-22.40', '-32.45', '-22.79', '-23.98']\n"
     ]
    },
    {
     "name": "stderr",
     "output_type": "stream",
     "text": [
      "  5%|████▉                                                                                                    | 699/15000 [04:47<2:01:40,  1.96it/s]"
     ]
    },
    {
     "name": "stdout",
     "output_type": "stream",
     "text": [
      "Episode 700/15000\n",
      "Fitnesses: ['-12.69', '-87.29', '-44.28', '-59.27']\n",
      "100 fitness avgs: ['-22.50', '-34.01', '-23.40', '-23.83']\n"
     ]
    },
    {
     "name": "stderr",
     "output_type": "stream",
     "text": [
      "  5%|█████                                                                                                    | 719/15000 [04:56<1:44:10,  2.28it/s]"
     ]
    },
    {
     "name": "stdout",
     "output_type": "stream",
     "text": [
      "Episode 720/15000\n",
      "Fitnesses: ['-31.51', '-108.52', '-42.13', '-36.29']\n",
      "100 fitness avgs: ['-22.75', '-24.89', '-23.92', '-23.76']\n"
     ]
    },
    {
     "name": "stderr",
     "output_type": "stream",
     "text": [
      "  5%|█████▏                                                                                                   | 739/15000 [05:05<1:39:27,  2.39it/s]"
     ]
    },
    {
     "name": "stdout",
     "output_type": "stream",
     "text": [
      "Episode 740/15000\n",
      "Fitnesses: ['-7.44', '-22.82', '-27.49', '-18.70']\n",
      "100 fitness avgs: ['-22.33', '-22.75', '-24.02', '-22.64']\n"
     ]
    },
    {
     "name": "stderr",
     "output_type": "stream",
     "text": [
      "  5%|█████▎                                                                                                   | 759/15000 [05:14<1:40:41,  2.36it/s]"
     ]
    },
    {
     "name": "stdout",
     "output_type": "stream",
     "text": [
      "Episode 760/15000\n",
      "Fitnesses: ['-41.41', '-52.02', '-54.17', '-36.51']\n",
      "100 fitness avgs: ['-22.84', '-23.12', '-23.17', '-23.00']\n"
     ]
    },
    {
     "name": "stderr",
     "output_type": "stream",
     "text": [
      "  5%|█████▍                                                                                                   | 779/15000 [05:23<1:34:27,  2.51it/s]"
     ]
    },
    {
     "name": "stdout",
     "output_type": "stream",
     "text": [
      "Episode 780/15000\n",
      "Fitnesses: ['-20.62', '-54.52', '-88.02', '-53.67']\n",
      "100 fitness avgs: ['-22.94', '-23.81', '-24.67', '-23.79']\n"
     ]
    },
    {
     "name": "stderr",
     "output_type": "stream",
     "text": [
      "  5%|█████▌                                                                                                   | 799/15000 [05:31<1:33:12,  2.54it/s]"
     ]
    },
    {
     "name": "stdout",
     "output_type": "stream",
     "text": [
      "Episode 800/15000\n",
      "Fitnesses: ['-29.53', '-14.03', '-30.00', '-32.59']\n",
      "100 fitness avgs: ['-23.11', '-22.72', '-23.12', '-23.18']\n"
     ]
    },
    {
     "name": "stderr",
     "output_type": "stream",
     "text": [
      "  5%|█████▋                                                                                                   | 819/15000 [05:39<1:34:06,  2.51it/s]"
     ]
    },
    {
     "name": "stdout",
     "output_type": "stream",
     "text": [
      "Episode 820/15000\n",
      "Fitnesses: ['-21.01', '-31.76', '-78.31', '-15.26']\n",
      "100 fitness avgs: ['-22.68', '-23.32', '-24.45', '-22.93']\n"
     ]
    },
    {
     "name": "stderr",
     "output_type": "stream",
     "text": [
      "  6%|█████▊                                                                                                   | 839/15000 [05:47<1:34:57,  2.49it/s]"
     ]
    },
    {
     "name": "stdout",
     "output_type": "stream",
     "text": [
      "Episode 840/15000\n",
      "Fitnesses: ['-17.46', '-27.25', '-15.54', '-25.06']\n",
      "100 fitness avgs: ['-22.80', '-22.79', '-23.13', '-22.73']\n"
     ]
    },
    {
     "name": "stderr",
     "output_type": "stream",
     "text": [
      "  6%|██████                                                                                                   | 859/15000 [05:55<1:26:59,  2.71it/s]"
     ]
    },
    {
     "name": "stdout",
     "output_type": "stream",
     "text": [
      "Episode 860/15000\n",
      "Fitnesses: ['-105.60', '-18.72', '-4.23', '-20.22']\n",
      "100 fitness avgs: ['-25.05', '-23.03', '-22.37', '-23.07']\n"
     ]
    },
    {
     "name": "stderr",
     "output_type": "stream",
     "text": [
      "  6%|██████▏                                                                                                  | 879/15000 [06:04<1:40:45,  2.34it/s]"
     ]
    },
    {
     "name": "stdout",
     "output_type": "stream",
     "text": [
      "Episode 880/15000\n",
      "Fitnesses: ['-45.66', '-45.31', '-2.78', '-55.49']\n",
      "100 fitness avgs: ['-22.89', '-22.89', '-22.57', '-23.12']\n"
     ]
    },
    {
     "name": "stderr",
     "output_type": "stream",
     "text": [
      "  6%|██████▎                                                                                                  | 899/15000 [06:13<1:48:52,  2.16it/s]"
     ]
    },
    {
     "name": "stdout",
     "output_type": "stream",
     "text": [
      "Episode 900/15000\n",
      "Fitnesses: ['-85.68', '-92.27', '-15.55', '-80.46']\n",
      "100 fitness avgs: ['-23.97', '-24.43', '-22.73', '-24.17']\n"
     ]
    },
    {
     "name": "stderr",
     "output_type": "stream",
     "text": [
      "  6%|██████▍                                                                                                  | 919/15000 [06:23<1:50:41,  2.12it/s]"
     ]
    },
    {
     "name": "stdout",
     "output_type": "stream",
     "text": [
      "Episode 920/15000\n",
      "Fitnesses: ['-28.93', '-19.77', '-32.57', '-30.01']\n",
      "100 fitness avgs: ['-22.87', '-23.88', '-24.16', '-22.89']\n"
     ]
    },
    {
     "name": "stderr",
     "output_type": "stream",
     "text": [
      "  6%|██████▌                                                                                                  | 939/15000 [06:32<1:44:59,  2.23it/s]"
     ]
    },
    {
     "name": "stdout",
     "output_type": "stream",
     "text": [
      "Episode 940/15000\n",
      "Fitnesses: ['-9.79', '-15.58', '-9.47', '-14.64']\n",
      "100 fitness avgs: ['-23.58', '-23.70', '-22.60', '-23.68']\n"
     ]
    },
    {
     "name": "stderr",
     "output_type": "stream",
     "text": [
      "  6%|██████▋                                                                                                  | 959/15000 [06:44<2:08:44,  1.82it/s]"
     ]
    },
    {
     "name": "stdout",
     "output_type": "stream",
     "text": [
      "Episode 960/15000\n",
      "Fitnesses: ['-18.20', '-8.01', '-49.53', '-43.91']\n",
      "100 fitness avgs: ['-22.51', '-22.30', '-23.16', '-23.05']\n"
     ]
    },
    {
     "name": "stderr",
     "output_type": "stream",
     "text": [
      "  7%|██████▊                                                                                                  | 979/15000 [06:56<2:41:55,  1.44it/s]"
     ]
    },
    {
     "name": "stdout",
     "output_type": "stream",
     "text": [
      "Episode 980/15000\n",
      "Fitnesses: ['-30.56', '-53.51', '-10.88', '-32.38']\n",
      "100 fitness avgs: ['-22.47', '-22.94', '-22.27', '-22.51']\n"
     ]
    },
    {
     "name": "stderr",
     "output_type": "stream",
     "text": [
      "  7%|██████▉                                                                                                  | 999/15000 [07:07<2:10:05,  1.79it/s]"
     ]
    },
    {
     "name": "stdout",
     "output_type": "stream",
     "text": [
      "Episode 1000/15000\n",
      "Fitnesses: ['-12.21', '-53.60', '-29.98', '-7.71']\n",
      "100 fitness avgs: ['-22.07', '-23.09', '-22.66', '-22.17']\n"
     ]
    },
    {
     "name": "stderr",
     "output_type": "stream",
     "text": [
      "  7%|███████                                                                                                 | 1019/15000 [07:19<2:17:00,  1.70it/s]"
     ]
    },
    {
     "name": "stdout",
     "output_type": "stream",
     "text": [
      "Episode 1020/15000\n",
      "Fitnesses: ['-100.11', '-59.09', '-30.23', '-19.08']\n",
      "100 fitness avgs: ['-23.70', '-22.90', '-22.33', '-22.01']\n"
     ]
    },
    {
     "name": "stderr",
     "output_type": "stream",
     "text": [
      "  7%|███████▏                                                                                                | 1039/15000 [07:31<2:14:29,  1.73it/s]"
     ]
    },
    {
     "name": "stdout",
     "output_type": "stream",
     "text": [
      "Episode 1040/15000\n",
      "Fitnesses: ['-70.17', '-37.16', '-0.85', '-1.82']\n",
      "100 fitness avgs: ['-22.94', '-22.62', '-21.92', '-21.94']\n"
     ]
    },
    {
     "name": "stderr",
     "output_type": "stream",
     "text": [
      "  7%|███████▎                                                                                                | 1059/15000 [07:42<2:04:28,  1.87it/s]"
     ]
    },
    {
     "name": "stdout",
     "output_type": "stream",
     "text": [
      "Episode 1060/15000\n",
      "Fitnesses: ['-9.34', '-40.72', '-32.13', '-48.00']\n",
      "100 fitness avgs: ['-21.68', '-22.27', '-22.11', '-23.10']\n"
     ]
    },
    {
     "name": "stderr",
     "output_type": "stream",
     "text": [
      "  7%|███████▍                                                                                                | 1079/15000 [07:54<2:22:07,  1.63it/s]"
     ]
    },
    {
     "name": "stdout",
     "output_type": "stream",
     "text": [
      "Episode 1080/15000\n",
      "Fitnesses: ['-6.93', '-66.23', '-42.81', '-34.59']\n",
      "100 fitness avgs: ['-21.41', '-22.93', '-22.07', '-21.92']\n"
     ]
    },
    {
     "name": "stderr",
     "output_type": "stream",
     "text": [
      "  7%|███████▌                                                                                                | 1099/15000 [08:06<2:16:07,  1.70it/s]"
     ]
    },
    {
     "name": "stdout",
     "output_type": "stream",
     "text": [
      "Episode 1100/15000\n",
      "Fitnesses: ['-54.79', '-97.40', '-11.49', '-15.97']\n",
      "100 fitness avgs: ['-22.01', '-23.29', '-21.73', '-21.81']\n"
     ]
    },
    {
     "name": "stderr",
     "output_type": "stream",
     "text": [
      "  7%|███████▊                                                                                                | 1119/15000 [08:18<2:10:30,  1.77it/s]"
     ]
    },
    {
     "name": "stdout",
     "output_type": "stream",
     "text": [
      "Episode 1120/15000\n",
      "Fitnesses: ['-11.28', '-11.51', '-22.13', '-21.80']\n",
      "100 fitness avgs: ['-21.54', '-21.55', '-21.74', '-21.73']\n"
     ]
    },
    {
     "name": "stderr",
     "output_type": "stream",
     "text": [
      "  8%|███████▉                                                                                                | 1139/15000 [08:30<2:22:40,  1.62it/s]"
     ]
    },
    {
     "name": "stdout",
     "output_type": "stream",
     "text": [
      "Episode 1140/15000\n",
      "Fitnesses: ['-14.84', '-13.33', '-43.61', '-20.13']\n",
      "100 fitness avgs: ['-21.43', '-21.40', '-21.93', '-21.52']\n"
     ]
    },
    {
     "name": "stderr",
     "output_type": "stream",
     "text": [
      "  8%|████████                                                                                                | 1159/15000 [08:42<2:14:12,  1.72it/s]"
     ]
    },
    {
     "name": "stdout",
     "output_type": "stream",
     "text": [
      "Episode 1160/15000\n",
      "Fitnesses: ['-7.14', '-20.67', '-4.76', '-33.97']\n",
      "100 fitness avgs: ['-21.15', '-21.91', '-21.11', '-21.73']\n"
     ]
    },
    {
     "name": "stderr",
     "output_type": "stream",
     "text": [
      "  8%|████████▏                                                                                               | 1179/15000 [08:53<1:57:52,  1.95it/s]"
     ]
    },
    {
     "name": "stdout",
     "output_type": "stream",
     "text": [
      "Episode 1180/15000\n",
      "Fitnesses: ['-22.55', '-11.73', '-17.01', '-213.81']\n",
      "100 fitness avgs: ['-21.14', '-20.99', '-21.04', '-24.38']\n"
     ]
    },
    {
     "name": "stderr",
     "output_type": "stream",
     "text": [
      "  8%|████████▎                                                                                               | 1199/15000 [09:02<1:43:36,  2.22it/s]"
     ]
    },
    {
     "name": "stdout",
     "output_type": "stream",
     "text": [
      "Episode 1200/15000\n",
      "Fitnesses: ['-7.40', '-67.00', '-64.73', '-18.04']\n",
      "100 fitness avgs: ['-20.77', '-25.09', '-25.05', '-20.94']\n"
     ]
    },
    {
     "name": "stderr",
     "output_type": "stream",
     "text": [
      "  8%|████████▍                                                                                               | 1219/15000 [09:13<2:08:59,  1.78it/s]"
     ]
    },
    {
     "name": "stdout",
     "output_type": "stream",
     "text": [
      "Episode 1220/15000\n",
      "Fitnesses: ['-68.31', '-25.84', '-31.69', '-28.48']\n",
      "100 fitness avgs: ['-21.55', '-21.02', '-25.16', '-21.07']\n"
     ]
    },
    {
     "name": "stderr",
     "output_type": "stream",
     "text": [
      "  8%|████████▌                                                                                               | 1239/15000 [09:25<2:14:06,  1.71it/s]"
     ]
    },
    {
     "name": "stdout",
     "output_type": "stream",
     "text": [
      "Episode 1240/15000\n",
      "Fitnesses: ['-1.20', '-37.24', '-47.71', '-19.04']\n",
      "100 fitness avgs: ['-20.71', '-21.29', '-21.46', '-21.04']\n"
     ]
    },
    {
     "name": "stderr",
     "output_type": "stream",
     "text": [
      "  8%|████████▋                                                                                               | 1259/15000 [09:37<1:59:49,  1.91it/s]"
     ]
    },
    {
     "name": "stdout",
     "output_type": "stream",
     "text": [
      "Episode 1260/15000\n",
      "Fitnesses: ['-13.90', '-96.48', '-111.95', '-83.82']\n",
      "100 fitness avgs: ['-20.60', '-21.91', '-22.15', '-22.28']\n"
     ]
    },
    {
     "name": "stderr",
     "output_type": "stream",
     "text": [
      "  9%|████████▊                                                                                               | 1279/15000 [09:48<2:05:27,  1.82it/s]"
     ]
    },
    {
     "name": "stdout",
     "output_type": "stream",
     "text": [
      "Episode 1280/15000\n",
      "Fitnesses: ['-32.89', '-7.34', '-105.20', '-20.89']\n",
      "100 fitness avgs: ['-20.79', '-22.05', '-21.92', '-22.26']\n"
     ]
    },
    {
     "name": "stderr",
     "output_type": "stream",
     "text": [
      "  9%|█████████                                                                                               | 1299/15000 [10:01<2:16:06,  1.68it/s]"
     ]
    },
    {
     "name": "stdout",
     "output_type": "stream",
     "text": [
      "Episode 1300/15000\n",
      "Fitnesses: ['-33.36', '-38.55', '-15.32', '-72.80']\n",
      "100 fitness avgs: ['-22.22', '-22.30', '-22.15', '-21.59']\n"
     ]
    },
    {
     "name": "stderr",
     "output_type": "stream",
     "text": [
      "  9%|█████████▏                                                                                              | 1319/15000 [10:14<2:12:21,  1.72it/s]"
     ]
    },
    {
     "name": "stdout",
     "output_type": "stream",
     "text": [
      "Episode 1320/15000\n",
      "Fitnesses: ['-56.40', '-21.99', '-17.99', '-3.78']\n",
      "100 fitness avgs: ['-22.67', '-22.22', '-22.16', '-21.87']\n"
     ]
    },
    {
     "name": "stderr",
     "output_type": "stream",
     "text": [
      "  9%|█████████▎                                                                                              | 1339/15000 [10:24<2:00:43,  1.89it/s]"
     ]
    },
    {
     "name": "stdout",
     "output_type": "stream",
     "text": [
      "Episode 1340/15000\n",
      "Fitnesses: ['-169.59', '-9.33', '-32.92', '-13.26']\n",
      "100 fitness avgs: ['-24.08', '-22.02', '-22.32', '-21.74']\n"
     ]
    },
    {
     "name": "stderr",
     "output_type": "stream",
     "text": [
      "  9%|█████████▍                                                                                              | 1359/15000 [10:36<1:55:39,  1.97it/s]"
     ]
    },
    {
     "name": "stdout",
     "output_type": "stream",
     "text": [
      "Episode 1360/15000\n",
      "Fitnesses: ['-716.66', '-29.64', '-10.30', '-14.13']\n",
      "100 fitness avgs: ['-32.24', '-21.86', '-21.85', '-21.91']\n"
     ]
    },
    {
     "name": "stderr",
     "output_type": "stream",
     "text": [
      "  9%|█████████▌                                                                                              | 1379/15000 [10:47<2:05:54,  1.80it/s]"
     ]
    },
    {
     "name": "stdout",
     "output_type": "stream",
     "text": [
      "Episode 1380/15000\n",
      "Fitnesses: ['-59.72', '-371.17', '-11.74', '-48.76']\n",
      "100 fitness avgs: ['-22.40', '-37.15', '-21.76', '-22.24']\n"
     ]
    },
    {
     "name": "stderr",
     "output_type": "stream",
     "text": [
      "  9%|█████████▋                                                                                              | 1399/15000 [11:00<2:15:51,  1.67it/s]"
     ]
    },
    {
     "name": "stdout",
     "output_type": "stream",
     "text": [
      "Episode 1400/15000\n",
      "Fitnesses: ['-19.40', '-61.34', '-47.36', '-70.82']\n",
      "100 fitness avgs: ['-21.73', '-22.96', '-22.13', '-22.46']\n"
     ]
    },
    {
     "name": "stderr",
     "output_type": "stream",
     "text": [
      "  9%|█████████▊                                                                                              | 1419/15000 [11:12<2:06:30,  1.79it/s]"
     ]
    },
    {
     "name": "stdout",
     "output_type": "stream",
     "text": [
      "Episode 1420/15000\n",
      "Fitnesses: ['-32.12', '-6.77', '-54.38', '-14.45']\n",
      "100 fitness avgs: ['-21.87', '-21.52', '-22.91', '-22.02']\n"
     ]
    },
    {
     "name": "stderr",
     "output_type": "stream",
     "text": [
      " 10%|█████████▉                                                                                              | 1439/15000 [11:22<1:56:29,  1.94it/s]"
     ]
    },
    {
     "name": "stdout",
     "output_type": "stream",
     "text": [
      "Episode 1440/15000\n",
      "Fitnesses: ['-16.07', '-91.94', '-4.83', '-13.77']\n",
      "100 fitness avgs: ['-21.44', '-22.99', '-21.78', '-21.76']\n"
     ]
    },
    {
     "name": "stderr",
     "output_type": "stream",
     "text": [
      " 10%|██████████                                                                                              | 1459/15000 [11:34<2:02:58,  1.84it/s]"
     ]
    },
    {
     "name": "stdout",
     "output_type": "stream",
     "text": [
      "Episode 1460/15000\n",
      "Fitnesses: ['-27.94', '-7.13', '-19.51', '-8.40']\n",
      "100 fitness avgs: ['-21.86', '-21.24', '-21.75', '-21.60']\n"
     ]
    },
    {
     "name": "stderr",
     "output_type": "stream",
     "text": [
      " 10%|██████████▎                                                                                             | 1479/15000 [11:45<1:54:34,  1.97it/s]"
     ]
    },
    {
     "name": "stdout",
     "output_type": "stream",
     "text": [
      "Episode 1480/15000\n",
      "Fitnesses: ['-66.23', '-23.27', '-62.44', '-17.12']\n",
      "100 fitness avgs: ['-21.85', '-21.27', '-21.80', '-21.19']\n"
     ]
    },
    {
     "name": "stderr",
     "output_type": "stream",
     "text": [
      " 10%|██████████▍                                                                                             | 1499/15000 [11:54<1:37:49,  2.30it/s]"
     ]
    },
    {
     "name": "stdout",
     "output_type": "stream",
     "text": [
      "Episode 1500/15000\n",
      "Fitnesses: ['-15.58', '-48.46', '-29.18', '-122.12']\n",
      "100 fitness avgs: ['-21.11', '-21.63', '-21.30', '-22.53']\n"
     ]
    },
    {
     "name": "stderr",
     "output_type": "stream",
     "text": [
      " 10%|██████████▌                                                                                             | 1519/15000 [12:04<1:35:27,  2.35it/s]"
     ]
    },
    {
     "name": "stdout",
     "output_type": "stream",
     "text": [
      "Episode 1520/15000\n",
      "Fitnesses: ['-25.74', '-86.20', '-46.71', '-27.43']\n",
      "100 fitness avgs: ['-21.17', '-21.97', '-21.96', '-21.38']\n"
     ]
    },
    {
     "name": "stderr",
     "output_type": "stream",
     "text": [
      " 10%|██████████▋                                                                                             | 1539/15000 [12:12<1:29:00,  2.52it/s]"
     ]
    },
    {
     "name": "stdout",
     "output_type": "stream",
     "text": [
      "Episode 1540/15000\n",
      "Fitnesses: ['-10.12', '-47.90', '-7.79', '-63.59']\n",
      "100 fitness avgs: ['-21.03', '-21.52', '-21.00', '-21.73']\n"
     ]
    },
    {
     "name": "stderr",
     "output_type": "stream",
     "text": [
      " 10%|██████████▊                                                                                             | 1559/15000 [12:21<1:27:25,  2.56it/s]"
     ]
    },
    {
     "name": "stdout",
     "output_type": "stream",
     "text": [
      "Episode 1560/15000\n",
      "Fitnesses: ['-53.37', '-23.60', '-39.07', '-29.55']\n",
      "100 fitness avgs: ['-21.42', '-21.03', '-21.23', '-21.11']\n"
     ]
    },
    {
     "name": "stderr",
     "output_type": "stream",
     "text": [
      " 11%|██████████▉                                                                                             | 1579/15000 [12:29<1:25:45,  2.61it/s]"
     ]
    },
    {
     "name": "stdout",
     "output_type": "stream",
     "text": [
      "Episode 1580/15000\n",
      "Fitnesses: ['-22.79', '-20.60', '-21.56', '-50.67']\n",
      "100 fitness avgs: ['-21.06', '-21.10', '-21.12', '-21.48']\n"
     ]
    },
    {
     "name": "stderr",
     "output_type": "stream",
     "text": [
      " 11%|███████████                                                                                             | 1599/15000 [12:37<1:25:47,  2.60it/s]"
     ]
    },
    {
     "name": "stdout",
     "output_type": "stream",
     "text": [
      "Episode 1600/15000\n",
      "Fitnesses: ['-36.18', '-11.25', '-31.66', '-57.39']\n",
      "100 fitness avgs: ['-21.29', '-20.93', '-21.24', '-21.51']\n"
     ]
    },
    {
     "name": "stderr",
     "output_type": "stream",
     "text": [
      " 11%|███████████▏                                                                                            | 1619/15000 [12:47<1:37:52,  2.28it/s]"
     ]
    },
    {
     "name": "stdout",
     "output_type": "stream",
     "text": [
      "Episode 1620/15000\n",
      "Fitnesses: ['-53.96', '-102.92', '-48.03', '-415.52']\n",
      "100 fitness avgs: ['-21.34', '-21.95', '-21.57', '-26.16']\n"
     ]
    },
    {
     "name": "stderr",
     "output_type": "stream",
     "text": [
      " 11%|███████████▎                                                                                            | 1639/15000 [12:55<1:36:40,  2.30it/s]"
     ]
    },
    {
     "name": "stdout",
     "output_type": "stream",
     "text": [
      "Episode 1640/15000\n",
      "Fitnesses: ['-38.61', '-7.78', '-45.91', '-211.91']\n",
      "100 fitness avgs: ['-21.77', '-21.18', '-21.86', '-28.42']\n"
     ]
    },
    {
     "name": "stderr",
     "output_type": "stream",
     "text": [
      " 11%|███████████▌                                                                                            | 1659/15000 [13:04<1:24:05,  2.64it/s]"
     ]
    },
    {
     "name": "stdout",
     "output_type": "stream",
     "text": [
      "Episode 1660/15000\n",
      "Fitnesses: ['-62.94', '-9.17', '-67.34', '-8.31']\n",
      "100 fitness avgs: ['-21.68', '-21.71', '-22.41', '-21.02']\n"
     ]
    },
    {
     "name": "stderr",
     "output_type": "stream",
     "text": [
      " 11%|███████████▋                                                                                            | 1679/15000 [13:13<1:45:18,  2.11it/s]"
     ]
    },
    {
     "name": "stdout",
     "output_type": "stream",
     "text": [
      "Episode 1680/15000\n",
      "Fitnesses: ['-229.38', '-186.41', '-27.36', '-8.01']\n",
      "100 fitness avgs: ['-23.50', '-22.99', '-21.75', '-21.55']\n"
     ]
    },
    {
     "name": "stderr",
     "output_type": "stream",
     "text": [
      " 11%|███████████▊                                                                                            | 1699/15000 [13:24<1:53:14,  1.96it/s]"
     ]
    },
    {
     "name": "stdout",
     "output_type": "stream",
     "text": [
      "Episode 1700/15000\n",
      "Fitnesses: ['-6.36', '-10.99', '-19.22', '-158.90']\n",
      "100 fitness avgs: ['-21.37', '-21.62', '-21.52', '-23.16']\n"
     ]
    },
    {
     "name": "stderr",
     "output_type": "stream",
     "text": [
      " 11%|███████████▉                                                                                            | 1719/15000 [13:36<2:03:42,  1.79it/s]"
     ]
    },
    {
     "name": "stdout",
     "output_type": "stream",
     "text": [
      "Episode 1720/15000\n",
      "Fitnesses: ['-71.22', '-56.78', '-24.63', '-64.52']\n",
      "100 fitness avgs: ['-21.95', '-22.03', '-21.56', '-21.87']\n"
     ]
    },
    {
     "name": "stderr",
     "output_type": "stream",
     "text": [
      " 12%|████████████                                                                                            | 1739/15000 [13:46<1:50:24,  2.00it/s]"
     ]
    },
    {
     "name": "stdout",
     "output_type": "stream",
     "text": [
      "Episode 1740/15000\n",
      "Fitnesses: ['-42.23', '-51.89', '-69.11', '-43.24']\n",
      "100 fitness avgs: ['-21.79', '-22.37', '-22.10', '-21.81']\n"
     ]
    },
    {
     "name": "stderr",
     "output_type": "stream",
     "text": [
      " 12%|████████████▏                                                                                           | 1759/15000 [13:56<1:51:52,  1.97it/s]"
     ]
    },
    {
     "name": "stdout",
     "output_type": "stream",
     "text": [
      "Episode 1760/15000\n",
      "Fitnesses: ['-42.35', '-37.06', '-17.92', '-33.25']\n",
      "100 fitness avgs: ['-22.03', '-21.98', '-22.32', '-21.92']\n"
     ]
    },
    {
     "name": "stderr",
     "output_type": "stream",
     "text": [
      " 12%|████████████▎                                                                                           | 1779/15000 [14:06<1:42:14,  2.16it/s]"
     ]
    },
    {
     "name": "stdout",
     "output_type": "stream",
     "text": [
      "Episode 1780/15000\n",
      "Fitnesses: ['-47.23', '-28.18', '-22.71', '-66.38']\n",
      "100 fitness avgs: ['-22.60', '-22.39', '-21.93', '-22.42']\n"
     ]
    },
    {
     "name": "stderr",
     "output_type": "stream",
     "text": [
      " 12%|████████████▍                                                                                           | 1799/15000 [14:15<1:30:22,  2.43it/s]"
     ]
    },
    {
     "name": "stdout",
     "output_type": "stream",
     "text": [
      "Episode 1800/15000\n",
      "Fitnesses: ['-35.55', '-42.43', '-21.70', '-156.85']\n",
      "100 fitness avgs: ['-22.08', '-22.61', '-22.59', '-23.88']\n"
     ]
    },
    {
     "name": "stderr",
     "output_type": "stream",
     "text": [
      " 12%|████████████▌                                                                                           | 1819/15000 [14:25<1:37:44,  2.25it/s]"
     ]
    },
    {
     "name": "stdout",
     "output_type": "stream",
     "text": [
      "Episode 1820/15000\n",
      "Fitnesses: ['-68.08', '-56.50', '-19.68', '-119.09']\n",
      "100 fitness avgs: ['-23.09', '-22.96', '-22.56', '-23.15']\n"
     ]
    },
    {
     "name": "stderr",
     "output_type": "stream",
     "text": [
      " 12%|████████████▊                                                                                           | 1839/15000 [14:35<1:51:37,  1.97it/s]"
     ]
    },
    {
     "name": "stdout",
     "output_type": "stream",
     "text": [
      "Episode 1840/15000\n",
      "Fitnesses: ['-18.82', '-31.94', '-117.12', '-155.45']\n",
      "100 fitness avgs: ['-22.52', '-23.19', '-23.59', '-24.00']\n"
     ]
    },
    {
     "name": "stderr",
     "output_type": "stream",
     "text": [
      " 12%|████████████▉                                                                                           | 1859/15000 [14:45<1:45:10,  2.08it/s]"
     ]
    },
    {
     "name": "stdout",
     "output_type": "stream",
     "text": [
      "Episode 1860/15000\n",
      "Fitnesses: ['-60.06', '-29.16', '-176.09', '-10.30']\n",
      "100 fitness avgs: ['-22.92', '-23.65', '-25.23', '-22.39']\n"
     ]
    },
    {
     "name": "stderr",
     "output_type": "stream",
     "text": [
      " 13%|█████████████                                                                                           | 1879/15000 [14:56<1:27:58,  2.49it/s]"
     ]
    },
    {
     "name": "stdout",
     "output_type": "stream",
     "text": [
      "Episode 1880/15000\n",
      "Fitnesses: ['-46.78', '-111.12', '-171.11', '-139.26']\n",
      "100 fitness avgs: ['-22.65', '-24.58', '-25.22', '-23.63']\n"
     ]
    },
    {
     "name": "stderr",
     "output_type": "stream",
     "text": [
      " 13%|█████████████▏                                                                                          | 1899/15000 [15:06<1:35:16,  2.29it/s]"
     ]
    },
    {
     "name": "stdout",
     "output_type": "stream",
     "text": [
      "Episode 1900/15000\n",
      "Fitnesses: ['-87.47', '-9.30', '-117.90', '-21.57']\n",
      "100 fitness avgs: ['-23.33', '-24.42', '-24.62', '-24.55']\n"
     ]
    },
    {
     "name": "stderr",
     "output_type": "stream",
     "text": [
      " 13%|█████████████▎                                                                                          | 1919/15000 [15:15<1:31:50,  2.37it/s]"
     ]
    },
    {
     "name": "stdout",
     "output_type": "stream",
     "text": [
      "Episode 1920/15000\n",
      "Fitnesses: ['-61.06', '-57.94', '-55.34', '-142.48']\n",
      "100 fitness avgs: ['-24.80', '-24.77', '-24.74', '-25.65']\n"
     ]
    },
    {
     "name": "stderr",
     "output_type": "stream",
     "text": [
      " 13%|█████████████▍                                                                                          | 1939/15000 [15:29<2:11:46,  1.65it/s]"
     ]
    },
    {
     "name": "stdout",
     "output_type": "stream",
     "text": [
      "Episode 1940/15000\n",
      "Fitnesses: ['-84.78', '-1.62', '-24.40', '-45.13']\n",
      "100 fitness avgs: ['-25.36', '-24.50', '-24.76', '-24.95']\n"
     ]
    },
    {
     "name": "stderr",
     "output_type": "stream",
     "text": [
      " 13%|█████████████▌                                                                                          | 1959/15000 [15:39<1:41:06,  2.15it/s]"
     ]
    },
    {
     "name": "stdout",
     "output_type": "stream",
     "text": [
      "Episode 1960/15000\n",
      "Fitnesses: ['-0.98', '-28.00', '-65.61', '-38.83']\n",
      "100 fitness avgs: ['-24.26', '-24.80', '-24.92', '-25.09']\n"
     ]
    },
    {
     "name": "stderr",
     "output_type": "stream",
     "text": [
      " 13%|█████████████▋                                                                                          | 1979/15000 [15:49<1:31:05,  2.38it/s]"
     ]
    },
    {
     "name": "stdout",
     "output_type": "stream",
     "text": [
      "Episode 1980/15000\n",
      "Fitnesses: ['-120.09', '-145.78', '-0.64', '-76.75']\n",
      "100 fitness avgs: ['-25.23', '-26.31', '-24.68', '-25.61']\n"
     ]
    },
    {
     "name": "stderr",
     "output_type": "stream",
     "text": [
      " 13%|█████████████▊                                                                                          | 1999/15000 [15:59<1:30:51,  2.38it/s]"
     ]
    },
    {
     "name": "stdout",
     "output_type": "stream",
     "text": [
      "Episode 2000/15000\n",
      "Fitnesses: ['-15.83', '-154.36', '-32.50', '-126.35']\n",
      "100 fitness avgs: ['-24.59', '-26.90', '-25.68', '-25.69']\n"
     ]
    },
    {
     "name": "stderr",
     "output_type": "stream",
     "text": [
      " 13%|█████████████▉                                                                                          | 2019/15000 [16:07<1:21:47,  2.65it/s]"
     ]
    },
    {
     "name": "stdout",
     "output_type": "stream",
     "text": [
      "Episode 2020/15000\n",
      "Fitnesses: ['-30.09', '-104.12', '-46.31', '-25.50']\n",
      "100 fitness avgs: ['-23.74', '-25.58', '-23.91', '-24.79']\n"
     ]
    },
    {
     "name": "stderr",
     "output_type": "stream",
     "text": [
      " 14%|██████████████▏                                                                                         | 2039/15000 [16:17<1:28:48,  2.43it/s]"
     ]
    },
    {
     "name": "stdout",
     "output_type": "stream",
     "text": [
      "Episode 2040/15000\n",
      "Fitnesses: ['-34.24', '-221.03', '-34.59', '-3.23']\n",
      "100 fitness avgs: ['-24.40', '-25.22', '-25.19', '-24.09']\n"
     ]
    },
    {
     "name": "stderr",
     "output_type": "stream",
     "text": [
      " 14%|██████████████▎                                                                                         | 2059/15000 [16:26<1:28:39,  2.43it/s]"
     ]
    },
    {
     "name": "stdout",
     "output_type": "stream",
     "text": [
      "Episode 2060/15000\n",
      "Fitnesses: ['-241.03', '-64.88', '-78.47', '-190.48']\n",
      "100 fitness avgs: ['-26.47', '-25.02', '-24.84', '-25.96']\n"
     ]
    },
    {
     "name": "stderr",
     "output_type": "stream",
     "text": [
      " 14%|██████████████▍                                                                                         | 2079/15000 [16:35<1:29:54,  2.40it/s]"
     ]
    },
    {
     "name": "stdout",
     "output_type": "stream",
     "text": [
      "Episode 2080/15000\n",
      "Fitnesses: ['-7.47', '-31.00', '-102.36', '-139.41']\n",
      "100 fitness avgs: ['-25.09', '-25.33', '-25.87', '-27.36']\n"
     ]
    },
    {
     "name": "stderr",
     "output_type": "stream",
     "text": [
      " 14%|██████████████▌                                                                                         | 2099/15000 [16:44<1:22:13,  2.62it/s]"
     ]
    },
    {
     "name": "stdout",
     "output_type": "stream",
     "text": [
      "Episode 2100/15000\n",
      "Fitnesses: ['-56.85', '-44.99', '-94.25', '-18.24']\n",
      "100 fitness avgs: ['-25.59', '-25.47', '-26.19', '-27.46']\n"
     ]
    },
    {
     "name": "stderr",
     "output_type": "stream",
     "text": [
      " 14%|██████████████▋                                                                                         | 2119/15000 [16:52<1:21:22,  2.64it/s]"
     ]
    },
    {
     "name": "stdout",
     "output_type": "stream",
     "text": [
      "Episode 2120/15000\n",
      "Fitnesses: ['-147.32', '-112.13', '-20.38', '-47.74']\n",
      "100 fitness avgs: ['-28.73', '-26.38', '-25.46', '-27.73']\n"
     ]
    },
    {
     "name": "stderr",
     "output_type": "stream",
     "text": [
      " 14%|██████████████▊                                                                                         | 2139/15000 [17:00<1:21:10,  2.64it/s]"
     ]
    },
    {
     "name": "stdout",
     "output_type": "stream",
     "text": [
      "Episode 2140/15000\n",
      "Fitnesses: ['-5.79', '-77.65', '-85.85', '-30.63']\n",
      "100 fitness avgs: ['-25.43', '-28.42', '-27.15', '-25.68']\n"
     ]
    },
    {
     "name": "stderr",
     "output_type": "stream",
     "text": [
      " 14%|██████████████▉                                                                                         | 2159/15000 [17:10<1:14:22,  2.88it/s]"
     ]
    },
    {
     "name": "stdout",
     "output_type": "stream",
     "text": [
      "Episode 2160/15000\n",
      "Fitnesses: ['-123.13', '-527.30', '-113.79', '-119.25']\n",
      "100 fitness avgs: ['-26.64', '-33.67', '-26.79', '-28.32']\n"
     ]
    },
    {
     "name": "stderr",
     "output_type": "stream",
     "text": [
      " 15%|███████████████                                                                                         | 2179/15000 [17:18<1:18:47,  2.71it/s]"
     ]
    },
    {
     "name": "stdout",
     "output_type": "stream",
     "text": [
      "Episode 2180/15000\n",
      "Fitnesses: ['-153.33', '-12.65', '-40.01', '-8.64']\n",
      "100 fitness avgs: ['-27.46', '-25.89', '-27.85', '-26.01']\n"
     ]
    },
    {
     "name": "stderr",
     "output_type": "stream",
     "text": [
      " 15%|███████████████▏                                                                                        | 2199/15000 [17:25<1:12:41,  2.93it/s]"
     ]
    },
    {
     "name": "stdout",
     "output_type": "stream",
     "text": [
      "Episode 2200/15000\n",
      "Fitnesses: ['-45.50', '-108.60', '-66.63', '-19.09']\n",
      "100 fitness avgs: ['-26.42', '-27.05', '-26.51', '-26.15']\n"
     ]
    },
    {
     "name": "stderr",
     "output_type": "stream",
     "text": [
      " 15%|███████████████▍                                                                                        | 2219/15000 [17:33<1:07:21,  3.16it/s]"
     ]
    },
    {
     "name": "stdout",
     "output_type": "stream",
     "text": [
      "Episode 2220/15000\n",
      "Fitnesses: ['-20.20', '-3.90', '-55.08', '-11.52']\n",
      "100 fitness avgs: ['-26.19', '-26.03', '-26.81', '-26.11']\n"
     ]
    },
    {
     "name": "stderr",
     "output_type": "stream",
     "text": [
      " 15%|███████████████▌                                                                                        | 2239/15000 [17:44<1:12:12,  2.95it/s]"
     ]
    },
    {
     "name": "stdout",
     "output_type": "stream",
     "text": [
      "Episode 2240/15000\n",
      "Fitnesses: ['-48.58', '-11.45', '-86.03', '-100.53']\n",
      "100 fitness avgs: ['-26.45', '-26.07', '-26.98', '-27.04']\n"
     ]
    },
    {
     "name": "stderr",
     "output_type": "stream",
     "text": [
      " 15%|███████████████▋                                                                                        | 2259/15000 [17:52<1:09:13,  3.07it/s]"
     ]
    },
    {
     "name": "stdout",
     "output_type": "stream",
     "text": [
      "Episode 2260/15000\n",
      "Fitnesses: ['-15.27', '-35.26', '-9.45', '-28.10']\n",
      "100 fitness avgs: ['-26.19', '-26.76', '-26.13', '-26.69']\n"
     ]
    },
    {
     "name": "stderr",
     "output_type": "stream",
     "text": [
      " 15%|███████████████▊                                                                                        | 2279/15000 [18:01<1:10:57,  2.99it/s]"
     ]
    },
    {
     "name": "stdout",
     "output_type": "stream",
     "text": [
      "Episode 2280/15000\n",
      "Fitnesses: ['-115.21', '-29.18', '-21.94', '-89.29']\n",
      "100 fitness avgs: ['-27.04', '-26.23', '-26.66', '-26.78']\n"
     ]
    },
    {
     "name": "stderr",
     "output_type": "stream",
     "text": [
      " 15%|███████████████▉                                                                                        | 2299/15000 [18:11<1:14:37,  2.84it/s]"
     ]
    },
    {
     "name": "stdout",
     "output_type": "stream",
     "text": [
      "Episode 2300/15000\n",
      "Fitnesses: ['-65.85', '-84.69', '-185.01', '-193.31']\n",
      "100 fitness avgs: ['-27.16', '-26.93', '-27.93', '-28.55']\n"
     ]
    },
    {
     "name": "stderr",
     "output_type": "stream",
     "text": [
      " 15%|████████████████                                                                                        | 2319/15000 [18:19<1:14:37,  2.83it/s]"
     ]
    },
    {
     "name": "stdout",
     "output_type": "stream",
     "text": [
      "Episode 2320/15000\n",
      "Fitnesses: ['-76.64', '-89.61', '-53.33', '-15.08']\n",
      "100 fitness avgs: ['-27.72', '-27.85', '-28.25', '-26.86']\n"
     ]
    },
    {
     "name": "stderr",
     "output_type": "stream",
     "text": [
      " 16%|████████████████▏                                                                                       | 2339/15000 [18:28<1:12:07,  2.93it/s]"
     ]
    },
    {
     "name": "stdout",
     "output_type": "stream",
     "text": [
      "Episode 2340/15000\n",
      "Fitnesses: ['-5.86', '-86.16', '-239.70', '-15.70']\n",
      "100 fitness avgs: ['-26.69', '-27.50', '-30.42', '-27.65']\n"
     ]
    },
    {
     "name": "stderr",
     "output_type": "stream",
     "text": [
      " 16%|████████████████▎                                                                                       | 2359/15000 [18:36<1:03:52,  3.30it/s]"
     ]
    },
    {
     "name": "stdout",
     "output_type": "stream",
     "text": [
      "Episode 2360/15000\n",
      "Fitnesses: ['-39.58', '-63.29', '-117.13', '-19.16']\n",
      "100 fitness avgs: ['-27.01', '-28.20', '-27.78', '-26.80']\n"
     ]
    },
    {
     "name": "stderr",
     "output_type": "stream",
     "text": [
      " 16%|████████████████▍                                                                                       | 2379/15000 [18:43<1:10:09,  3.00it/s]"
     ]
    },
    {
     "name": "stdout",
     "output_type": "stream",
     "text": [
      "Episode 2380/15000\n",
      "Fitnesses: ['-221.67', '-8.18', '-47.47', '-472.38']\n",
      "100 fitness avgs: ['-28.52', '-26.59', '-26.78', '-31.03']\n"
     ]
    },
    {
     "name": "stderr",
     "output_type": "stream",
     "text": [
      " 16%|████████████████▋                                                                                       | 2399/15000 [18:52<1:12:29,  2.90it/s]"
     ]
    },
    {
     "name": "stdout",
     "output_type": "stream",
     "text": [
      "Episode 2400/15000\n",
      "Fitnesses: ['-2.90', '-39.34', '-25.38', '-13.30']\n",
      "100 fitness avgs: ['-26.28', '-26.64', '-26.50', '-28.31']\n"
     ]
    },
    {
     "name": "stderr",
     "output_type": "stream",
     "text": [
      " 16%|████████████████▊                                                                                       | 2419/15000 [19:00<1:09:57,  3.00it/s]"
     ]
    },
    {
     "name": "stdout",
     "output_type": "stream",
     "text": [
      "Episode 2420/15000\n",
      "Fitnesses: ['-23.43', '-80.19', '-56.41', '-188.90']\n",
      "100 fitness avgs: ['-26.46', '-27.03', '-26.79', '-30.15']\n"
     ]
    },
    {
     "name": "stderr",
     "output_type": "stream",
     "text": [
      " 16%|████████████████▉                                                                                       | 2439/15000 [19:10<1:08:32,  3.05it/s]"
     ]
    },
    {
     "name": "stdout",
     "output_type": "stream",
     "text": [
      "Episode 2440/15000\n",
      "Fitnesses: ['-51.92', '-143.32', '-16.47', '-75.28']\n",
      "100 fitness avgs: ['-26.72', '-27.64', '-26.70', '-27.52']\n"
     ]
    },
    {
     "name": "stderr",
     "output_type": "stream",
     "text": [
      " 16%|█████████████████                                                                                       | 2459/15000 [19:20<1:07:17,  3.11it/s]"
     ]
    },
    {
     "name": "stdout",
     "output_type": "stream",
     "text": [
      "Episode 2460/15000\n",
      "Fitnesses: ['-11.61', '-73.68', '-13.35', '-44.01']\n",
      "100 fitness avgs: ['-26.72', '-27.35', '-26.77', '-27.07']\n"
     ]
    },
    {
     "name": "stderr",
     "output_type": "stream",
     "text": [
      " 17%|█████████████████▏                                                                                      | 2479/15000 [19:28<1:07:07,  3.11it/s]"
     ]
    },
    {
     "name": "stdout",
     "output_type": "stream",
     "text": [
      "Episode 2480/15000\n",
      "Fitnesses: ['-35.90', '-8.44', '-80.24', '-180.93']\n",
      "100 fitness avgs: ['-26.86', '-27.21', '-27.35', '-28.66']\n"
     ]
    },
    {
     "name": "stderr",
     "output_type": "stream",
     "text": [
      " 17%|█████████████████▎                                                                                      | 2499/15000 [19:36<1:11:45,  2.90it/s]"
     ]
    },
    {
     "name": "stdout",
     "output_type": "stream",
     "text": [
      "Episode 2500/15000\n",
      "Fitnesses: ['-8.01', '-172.87', '-58.63', '-223.70']\n",
      "100 fitness avgs: ['-27.24', '-28.89', '-27.75', '-29.40']\n"
     ]
    },
    {
     "name": "stderr",
     "output_type": "stream",
     "text": [
      " 17%|█████████████████▍                                                                                      | 2519/15000 [19:46<1:10:48,  2.94it/s]"
     ]
    },
    {
     "name": "stdout",
     "output_type": "stream",
     "text": [
      "Episode 2520/15000\n",
      "Fitnesses: ['-160.47', '-54.13', '-54.95', '-70.86']\n",
      "100 fitness avgs: ['-28.66', '-29.24', '-28.11', '-29.41']\n"
     ]
    },
    {
     "name": "stderr",
     "output_type": "stream",
     "text": [
      " 17%|█████████████████▌                                                                                      | 2539/15000 [19:54<1:07:46,  3.06it/s]"
     ]
    },
    {
     "name": "stdout",
     "output_type": "stream",
     "text": [
      "Episode 2540/15000\n",
      "Fitnesses: ['-13.60', '-254.07', '-48.59', '-54.16']\n",
      "100 fitness avgs: ['-29.13', '-31.54', '-29.48', '-29.71']\n"
     ]
    },
    {
     "name": "stderr",
     "output_type": "stream",
     "text": [
      " 17%|█████████████████▋                                                                                      | 2559/15000 [20:01<1:05:47,  3.15it/s]"
     ]
    },
    {
     "name": "stdout",
     "output_type": "stream",
     "text": [
      "Episode 2560/15000\n",
      "Fitnesses: ['-144.82', '-25.86', '-70.42', '-26.56']\n",
      "100 fitness avgs: ['-30.51', '-29.67', '-30.12', '-29.33']\n"
     ]
    },
    {
     "name": "stderr",
     "output_type": "stream",
     "text": [
      " 17%|█████████████████▉                                                                                      | 2579/15000 [20:09<1:02:34,  3.31it/s]"
     ]
    },
    {
     "name": "stdout",
     "output_type": "stream",
     "text": [
      "Episode 2580/15000\n",
      "Fitnesses: ['-76.12', '-43.37', '-15.42', '-51.50']\n",
      "100 fitness avgs: ['-30.31', '-30.43', '-29.70', '-29.72']\n"
     ]
    },
    {
     "name": "stderr",
     "output_type": "stream",
     "text": [
      " 17%|██████████████████                                                                                      | 2599/15000 [20:17<1:09:55,  2.96it/s]"
     ]
    },
    {
     "name": "stdout",
     "output_type": "stream",
     "text": [
      "Episode 2600/15000\n",
      "Fitnesses: ['-65.04', '-20.23', '-55.35', '-26.73']\n",
      "100 fitness avgs: ['-29.46', '-29.01', '-29.36', '-29.68']\n"
     ]
    },
    {
     "name": "stderr",
     "output_type": "stream",
     "text": [
      " 17%|██████████████████▏                                                                                     | 2619/15000 [20:25<1:10:35,  2.92it/s]"
     ]
    },
    {
     "name": "stdout",
     "output_type": "stream",
     "text": [
      "Episode 2620/15000\n",
      "Fitnesses: ['-16.44', '-19.67', '-8.10', '-184.63']\n",
      "100 fitness avgs: ['-29.11', '-29.50', '-29.70', '-31.15']\n"
     ]
    },
    {
     "name": "stderr",
     "output_type": "stream",
     "text": [
      " 18%|██████████████████▎                                                                                     | 2639/15000 [20:34<1:09:48,  2.95it/s]"
     ]
    },
    {
     "name": "stdout",
     "output_type": "stream",
     "text": [
      "Episode 2640/15000\n",
      "Fitnesses: ['-1.25', '-11.59', '-133.69', '-6.21']\n",
      "100 fitness avgs: ['-29.70', '-29.80', '-31.02', '-29.74']\n"
     ]
    },
    {
     "name": "stderr",
     "output_type": "stream",
     "text": [
      " 18%|██████████████████▍                                                                                     | 2659/15000 [20:42<1:07:50,  3.03it/s]"
     ]
    },
    {
     "name": "stdout",
     "output_type": "stream",
     "text": [
      "Episode 2660/15000\n",
      "Fitnesses: ['-36.44', '-74.51', '-3.45', '-67.75']\n",
      "100 fitness avgs: ['-29.96', '-30.34', '-29.73', '-30.32']\n"
     ]
    },
    {
     "name": "stderr",
     "output_type": "stream",
     "text": [
      " 18%|██████████████████▌                                                                                     | 2679/15000 [20:50<1:08:21,  3.00it/s]"
     ]
    },
    {
     "name": "stdout",
     "output_type": "stream",
     "text": [
      "Episode 2680/15000\n",
      "Fitnesses: ['-78.01', '-50.15', '-42.02', '-125.78']\n",
      "100 fitness avgs: ['-30.40', '-30.34', '-30.26', '-30.87']\n"
     ]
    },
    {
     "name": "stderr",
     "output_type": "stream",
     "text": [
      " 18%|██████████████████▋                                                                                     | 2699/15000 [21:00<1:16:03,  2.70it/s]"
     ]
    },
    {
     "name": "stdout",
     "output_type": "stream",
     "text": [
      "Episode 2700/15000\n",
      "Fitnesses: ['-20.58', '-37.82', '-21.16', '-104.91']\n",
      "100 fitness avgs: ['-30.34', '-30.65', '-30.48', '-31.80']\n"
     ]
    },
    {
     "name": "stderr",
     "output_type": "stream",
     "text": [
      " 18%|██████████████████▊                                                                                     | 2719/15000 [21:07<1:09:02,  2.96it/s]"
     ]
    },
    {
     "name": "stdout",
     "output_type": "stream",
     "text": [
      "Episode 2720/15000\n",
      "Fitnesses: ['-36.60', '-147.88', '-262.37', '-129.29']\n",
      "100 fitness avgs: ['-30.39', '-31.81', '-32.65', '-31.63']\n"
     ]
    },
    {
     "name": "stderr",
     "output_type": "stream",
     "text": [
      " 18%|██████████████████▉                                                                                     | 2739/15000 [21:16<1:14:39,  2.74it/s]"
     ]
    },
    {
     "name": "stdout",
     "output_type": "stream",
     "text": [
      "Episode 2740/15000\n",
      "Fitnesses: ['-94.02', '-32.22', '-36.63', '-1.39']\n",
      "100 fitness avgs: ['-31.15', '-31.76', '-30.57', '-30.22']\n"
     ]
    },
    {
     "name": "stderr",
     "output_type": "stream",
     "text": [
      " 18%|███████████████████▏                                                                                    | 2759/15000 [21:25<1:06:40,  3.06it/s]"
     ]
    },
    {
     "name": "stdout",
     "output_type": "stream",
     "text": [
      "Episode 2760/15000\n",
      "Fitnesses: ['-4.29', '-118.99', '-22.91', '-66.39']\n",
      "100 fitness avgs: ['-29.90', '-31.04', '-30.08', '-30.52']\n"
     ]
    },
    {
     "name": "stderr",
     "output_type": "stream",
     "text": [
      " 19%|███████████████████▎                                                                                    | 2779/15000 [21:33<1:03:39,  3.20it/s]"
     ]
    },
    {
     "name": "stdout",
     "output_type": "stream",
     "text": [
      "Episode 2780/15000\n",
      "Fitnesses: ['-7.51', '-61.53', '-42.30', '-40.07']\n",
      "100 fitness avgs: ['-29.77', '-30.49', '-30.11', '-30.09']\n"
     ]
    },
    {
     "name": "stderr",
     "output_type": "stream",
     "text": [
      " 19%|███████████████████▊                                                                                      | 2799/15000 [21:39<55:36,  3.66it/s]"
     ]
    },
    {
     "name": "stdout",
     "output_type": "stream",
     "text": [
      "Episode 2800/15000\n",
      "Fitnesses: ['-65.08', '-15.36', '-17.05', '-150.79']\n",
      "100 fitness avgs: ['-30.12', '-29.97', '-29.96', '-31.30']\n"
     ]
    },
    {
     "name": "stderr",
     "output_type": "stream",
     "text": [
      " 19%|███████████████████▌                                                                                    | 2819/15000 [21:47<1:11:23,  2.84it/s]"
     ]
    },
    {
     "name": "stdout",
     "output_type": "stream",
     "text": [
      "Episode 2820/15000\n",
      "Fitnesses: ['-88.23', '-6.84', '-56.37', '-23.30']\n",
      "100 fitness avgs: ['-30.70', '-29.88', '-30.37', '-30.05']\n"
     ]
    },
    {
     "name": "stderr",
     "output_type": "stream",
     "text": [
      " 19%|████████████████████                                                                                      | 2839/15000 [21:54<59:58,  3.38it/s]"
     ]
    },
    {
     "name": "stdout",
     "output_type": "stream",
     "text": [
      "Episode 2840/15000\n",
      "Fitnesses: ['-18.66', '-168.93', '-79.58', '-49.96']\n",
      "100 fitness avgs: ['-29.90', '-31.89', '-30.50', '-30.70']\n"
     ]
    },
    {
     "name": "stderr",
     "output_type": "stream",
     "text": [
      " 19%|███████████████████▊                                                                                    | 2859/15000 [22:04<1:09:15,  2.92it/s]"
     ]
    },
    {
     "name": "stdout",
     "output_type": "stream",
     "text": [
      "Episode 2860/15000\n",
      "Fitnesses: ['-45.37', '-21.06', '-94.37', '-102.66']\n",
      "100 fitness avgs: ['-30.31', '-30.67', '-30.80', '-30.88']\n"
     ]
    },
    {
     "name": "stderr",
     "output_type": "stream",
     "text": [
      " 19%|███████████████████▉                                                                                    | 2879/15000 [22:13<1:20:19,  2.51it/s]"
     ]
    },
    {
     "name": "stdout",
     "output_type": "stream",
     "text": [
      "Episode 2880/15000\n",
      "Fitnesses: ['-27.26', '-21.85', '-117.25', '-19.12']\n",
      "100 fitness avgs: ['-30.49', '-30.43', '-31.02', '-30.41']\n"
     ]
    },
    {
     "name": "stderr",
     "output_type": "stream",
     "text": [
      " 19%|████████████████████                                                                                    | 2899/15000 [22:23<1:23:27,  2.42it/s]"
     ]
    },
    {
     "name": "stdout",
     "output_type": "stream",
     "text": [
      "Episode 2900/15000\n",
      "Fitnesses: ['-103.64', '-27.88', '-104.77', '-78.49']\n",
      "100 fitness avgs: ['-31.29', '-30.56', '-31.33', '-31.06']\n"
     ]
    },
    {
     "name": "stderr",
     "output_type": "stream",
     "text": [
      " 19%|████████████████████▏                                                                                   | 2919/15000 [22:35<1:17:59,  2.58it/s]"
     ]
    },
    {
     "name": "stdout",
     "output_type": "stream",
     "text": [
      "Episode 2920/15000\n",
      "Fitnesses: ['-40.35', '-37.94', '-115.79', '-226.26']\n",
      "100 fitness avgs: ['-30.66', '-31.41', '-31.42', '-33.03']\n"
     ]
    },
    {
     "name": "stderr",
     "output_type": "stream",
     "text": [
      " 20%|████████████████████▍                                                                                   | 2939/15000 [22:43<1:11:48,  2.80it/s]"
     ]
    },
    {
     "name": "stdout",
     "output_type": "stream",
     "text": [
      "Episode 2940/15000\n",
      "Fitnesses: ['-10.59', '-166.25', '-81.15', '-35.11']\n",
      "100 fitness avgs: ['-31.42', '-32.97', '-32.12', '-30.92']\n"
     ]
    },
    {
     "name": "stderr",
     "output_type": "stream",
     "text": [
      " 20%|████████████████████▌                                                                                   | 2959/15000 [22:53<1:08:24,  2.93it/s]"
     ]
    },
    {
     "name": "stdout",
     "output_type": "stream",
     "text": [
      "Episode 2960/15000\n",
      "Fitnesses: ['-58.23', '-36.90', '-33.96', '-6.15']\n",
      "100 fitness avgs: ['-31.92', '-31.21', '-31.68', '-31.40']\n"
     ]
    },
    {
     "name": "stderr",
     "output_type": "stream",
     "text": [
      " 20%|████████████████████▋                                                                                   | 2979/15000 [23:02<1:08:46,  2.91it/s]"
     ]
    },
    {
     "name": "stdout",
     "output_type": "stream",
     "text": [
      "Episode 2980/15000\n",
      "Fitnesses: ['-133.95', '-17.72', '-26.13', '-3.28']\n",
      "100 fitness avgs: ['-32.43', '-31.08', '-31.88', '-31.13']\n"
     ]
    },
    {
     "name": "stderr",
     "output_type": "stream",
     "text": [
      " 20%|████████████████████▊                                                                                   | 2999/15000 [23:12<1:10:43,  2.83it/s]"
     ]
    },
    {
     "name": "stdout",
     "output_type": "stream",
     "text": [
      "Episode 3000/15000\n",
      "Fitnesses: ['-10.56', '-170.94', '-56.40', '-2.29']\n",
      "100 fitness avgs: ['-31.15', '-32.71', '-32.36', '-31.07']\n"
     ]
    },
    {
     "name": "stderr",
     "output_type": "stream",
     "text": [
      " 20%|█████████████████████▎                                                                                    | 3019/15000 [23:20<58:13,  3.43it/s]"
     ]
    },
    {
     "name": "stdout",
     "output_type": "stream",
     "text": [
      "Episode 3020/15000\n",
      "Fitnesses: ['-142.33', '-25.73', '-150.40', '-74.18']\n",
      "100 fitness avgs: ['-32.19', '-32.32', '-32.27', '-31.59']\n"
     ]
    },
    {
     "name": "stderr",
     "output_type": "stream",
     "text": [
      " 20%|█████████████████████▍                                                                                    | 3039/15000 [23:27<54:50,  3.63it/s]"
     ]
    },
    {
     "name": "stdout",
     "output_type": "stream",
     "text": [
      "Episode 3040/15000\n",
      "Fitnesses: ['-30.31', '-1.04', '-42.14', '-179.17']\n",
      "100 fitness avgs: ['-32.61', '-32.32', '-32.61', '-34.10']\n"
     ]
    },
    {
     "name": "stderr",
     "output_type": "stream",
     "text": [
      " 20%|█████████████████████▌                                                                                    | 3059/15000 [23:33<54:57,  3.62it/s]"
     ]
    },
    {
     "name": "stdout",
     "output_type": "stream",
     "text": [
      "Episode 3060/15000\n",
      "Fitnesses: ['-35.65', '-60.28', '-37.72', '-82.71']\n",
      "100 fitness avgs: ['-32.58', '-32.83', '-32.89', '-33.05']\n"
     ]
    },
    {
     "name": "stderr",
     "output_type": "stream",
     "text": [
      " 21%|█████████████████████▊                                                                                    | 3079/15000 [23:41<56:59,  3.49it/s]"
     ]
    },
    {
     "name": "stdout",
     "output_type": "stream",
     "text": [
      "Episode 3080/15000\n",
      "Fitnesses: ['-51.52', '-60.35', '-47.37', '-10.48']\n",
      "100 fitness avgs: ['-32.75', '-32.84', '-33.02', '-32.34']\n"
     ]
    },
    {
     "name": "stderr",
     "output_type": "stream",
     "text": [
      " 21%|█████████████████████▉                                                                                    | 3099/15000 [23:47<56:54,  3.49it/s]"
     ]
    },
    {
     "name": "stdout",
     "output_type": "stream",
     "text": [
      "Episode 3100/15000\n",
      "Fitnesses: ['-39.74', '-99.75', '-107.47', '-14.03']\n",
      "100 fitness avgs: ['-32.62', '-33.63', '-33.98', '-32.78']\n"
     ]
    },
    {
     "name": "stderr",
     "output_type": "stream",
     "text": [
      " 21%|██████████████████████                                                                                    | 3119/15000 [23:54<53:39,  3.69it/s]"
     ]
    },
    {
     "name": "stdout",
     "output_type": "stream",
     "text": [
      "Episode 3120/15000\n",
      "Fitnesses: ['-34.81', '-160.71', '-94.25', '-56.93']\n",
      "100 fitness avgs: ['-33.01', '-34.27', '-33.61', '-33.23']\n"
     ]
    },
    {
     "name": "stderr",
     "output_type": "stream",
     "text": [
      " 21%|██████████████████████▏                                                                                   | 3139/15000 [24:02<57:38,  3.43it/s]"
     ]
    },
    {
     "name": "stdout",
     "output_type": "stream",
     "text": [
      "Episode 3140/15000\n",
      "Fitnesses: ['-54.57', '-21.99', '-28.39', '-46.41']\n",
      "100 fitness avgs: ['-33.42', '-33.10', '-33.38', '-33.34']\n"
     ]
    },
    {
     "name": "stderr",
     "output_type": "stream",
     "text": [
      " 21%|██████████████████████▎                                                                                   | 3159/15000 [24:09<57:11,  3.45it/s]"
     ]
    },
    {
     "name": "stdout",
     "output_type": "stream",
     "text": [
      "Episode 3160/15000\n",
      "Fitnesses: ['-68.84', '-103.47', '-63.90', '-1.92']\n",
      "100 fitness avgs: ['-33.72', '-34.06', '-33.95', '-33.05']\n"
     ]
    },
    {
     "name": "stderr",
     "output_type": "stream",
     "text": [
      " 21%|██████████████████████                                                                                  | 3179/15000 [24:17<1:00:48,  3.24it/s]"
     ]
    },
    {
     "name": "stdout",
     "output_type": "stream",
     "text": [
      "Episode 3180/15000\n",
      "Fitnesses: ['-28.45', '-8.02', '-63.33', '-32.95']\n",
      "100 fitness avgs: ['-33.21', '-33.91', '-34.23', '-33.26']\n"
     ]
    },
    {
     "name": "stderr",
     "output_type": "stream",
     "text": [
      " 21%|██████████████████████▌                                                                                   | 3199/15000 [24:24<57:03,  3.45it/s]"
     ]
    },
    {
     "name": "stdout",
     "output_type": "stream",
     "text": [
      "Episode 3200/15000\n",
      "Fitnesses: ['-6.17', '-12.53', '-24.55', '-23.91']\n",
      "100 fitness avgs: ['-33.80', '-33.16', '-33.98', '-33.32']\n"
     ]
    },
    {
     "name": "stderr",
     "output_type": "stream",
     "text": [
      " 21%|██████████████████████▎                                                                                 | 3219/15000 [24:32<1:02:22,  3.15it/s]"
     ]
    },
    {
     "name": "stdout",
     "output_type": "stream",
     "text": [
      "Episode 3220/15000\n",
      "Fitnesses: ['-110.34', '-121.59', '-159.01', '-21.95']\n",
      "100 fitness avgs: ['-34.64', '-34.75', '-34.49', '-33.12']\n"
     ]
    },
    {
     "name": "stderr",
     "output_type": "stream",
     "text": [
      " 22%|██████████████████████▉                                                                                   | 3239/15000 [24:39<53:40,  3.65it/s]"
     ]
    },
    {
     "name": "stdout",
     "output_type": "stream",
     "text": [
      "Episode 3240/15000\n",
      "Fitnesses: ['-11.22', '-13.71', '-24.50', '-28.54']\n",
      "100 fitness avgs: ['-32.86', '-34.41', '-32.99', '-33.03']\n"
     ]
    },
    {
     "name": "stderr",
     "output_type": "stream",
     "text": [
      " 22%|███████████████████████                                                                                   | 3259/15000 [24:46<51:06,  3.83it/s]"
     ]
    },
    {
     "name": "stdout",
     "output_type": "stream",
     "text": [
      "Episode 3260/15000\n",
      "Fitnesses: ['-19.34', '-77.12', '-19.35', '-6.98']\n",
      "100 fitness avgs: ['-32.21', '-34.34', '-32.21', '-33.64']\n"
     ]
    },
    {
     "name": "stderr",
     "output_type": "stream",
     "text": [
      " 22%|███████████████████████▏                                                                                  | 3279/15000 [24:52<54:30,  3.58it/s]"
     ]
    },
    {
     "name": "stdout",
     "output_type": "stream",
     "text": [
      "Episode 3280/15000\n",
      "Fitnesses: ['-94.04', '-73.81', '-32.88', '-70.66']\n",
      "100 fitness avgs: ['-34.50', '-34.30', '-32.47', '-32.85']\n"
     ]
    },
    {
     "name": "stderr",
     "output_type": "stream",
     "text": [
      " 22%|███████████████████████▎                                                                                  | 3299/15000 [25:01<58:37,  3.33it/s]"
     ]
    },
    {
     "name": "stdout",
     "output_type": "stream",
     "text": [
      "Episode 3300/15000\n",
      "Fitnesses: ['-32.60', '-6.22', '-40.11', '-43.49']\n",
      "100 fitness avgs: ['-32.46', '-34.03', '-34.37', '-32.57']\n"
     ]
    },
    {
     "name": "stderr",
     "output_type": "stream",
     "text": [
      " 22%|███████████████████████▍                                                                                  | 3319/15000 [25:08<57:18,  3.40it/s]"
     ]
    },
    {
     "name": "stdout",
     "output_type": "stream",
     "text": [
      "Episode 3320/15000\n",
      "Fitnesses: ['-169.38', '-22.18', '-45.47', '-42.20']\n",
      "100 fitness avgs: ['-35.50', '-32.57', '-34.27', '-34.23']\n"
     ]
    },
    {
     "name": "stderr",
     "output_type": "stream",
     "text": [
      " 22%|███████████████████████▌                                                                                  | 3339/15000 [25:16<55:41,  3.49it/s]"
     ]
    },
    {
     "name": "stdout",
     "output_type": "stream",
     "text": [
      "Episode 3340/15000\n",
      "Fitnesses: ['-37.48', '-131.51', '-24.20', '-54.34']\n",
      "100 fitness avgs: ['-32.85', '-36.73', '-34.41', '-33.02']\n"
     ]
    },
    {
     "name": "stderr",
     "output_type": "stream",
     "text": [
      " 22%|███████████████████████▋                                                                                  | 3359/15000 [25:27<56:40,  3.42it/s]"
     ]
    },
    {
     "name": "stdout",
     "output_type": "stream",
     "text": [
      "Episode 3360/15000\n",
      "Fitnesses: ['-74.20', '-130.67', '-167.46', '-72.58']\n",
      "100 fitness avgs: ['-35.01', '-35.58', '-35.95', '-33.61']\n"
     ]
    },
    {
     "name": "stderr",
     "output_type": "stream",
     "text": [
      " 23%|███████████████████████▍                                                                                | 3379/15000 [25:41<1:42:37,  1.89it/s]"
     ]
    },
    {
     "name": "stdout",
     "output_type": "stream",
     "text": [
      "Episode 3380/15000\n",
      "Fitnesses: ['-29.06', '-50.50', '-32.77', '-51.48']\n",
      "100 fitness avgs: ['-33.78', '-35.97', '-36.16', '-34.01']\n"
     ]
    },
    {
     "name": "stderr",
     "output_type": "stream",
     "text": [
      " 23%|███████████████████████▌                                                                                | 3399/15000 [25:53<1:57:56,  1.64it/s]"
     ]
    },
    {
     "name": "stdout",
     "output_type": "stream",
     "text": [
      "Episode 3400/15000\n",
      "Fitnesses: ['-50.32', '-28.74', '-91.13', '-19.57']\n",
      "100 fitness avgs: ['-34.09', '-36.06', '-36.68', '-33.78']\n"
     ]
    },
    {
     "name": "stderr",
     "output_type": "stream",
     "text": [
      " 23%|███████████████████████▋                                                                                | 3419/15000 [26:05<1:21:18,  2.37it/s]"
     ]
    },
    {
     "name": "stdout",
     "output_type": "stream",
     "text": [
      "Episode 3420/15000\n",
      "Fitnesses: ['-68.56', '-40.19', '-51.10', '-11.56']\n",
      "100 fitness avgs: ['-34.40', '-34.12', '-34.23', '-33.83']\n"
     ]
    },
    {
     "name": "stderr",
     "output_type": "stream",
     "text": [
      " 23%|███████████████████████▊                                                                                | 3439/15000 [26:15<1:18:52,  2.44it/s]"
     ]
    },
    {
     "name": "stdout",
     "output_type": "stream",
     "text": [
      "Episode 3440/15000\n",
      "Fitnesses: ['-28.51', '-18.71', '-19.83', '-33.26']\n",
      "100 fitness avgs: ['-33.96', '-34.14', '-33.87', '-34.40']\n"
     ]
    },
    {
     "name": "stderr",
     "output_type": "stream",
     "text": [
      " 23%|███████████████████████▉                                                                                | 3459/15000 [26:25<1:29:46,  2.14it/s]"
     ]
    },
    {
     "name": "stdout",
     "output_type": "stream",
     "text": [
      "Episode 3460/15000\n",
      "Fitnesses: ['-11.94', '-74.39', '-16.25', '-47.44']\n",
      "100 fitness avgs: ['-34.19', '-34.63', '-34.05', '-34.55']\n"
     ]
    },
    {
     "name": "stderr",
     "output_type": "stream",
     "text": [
      " 23%|████████████████████████                                                                                | 3479/15000 [26:35<1:14:49,  2.57it/s]"
     ]
    },
    {
     "name": "stdout",
     "output_type": "stream",
     "text": [
      "Episode 3480/15000\n",
      "Fitnesses: ['-19.94', '-5.55', '-17.95', '-69.80']\n",
      "100 fitness avgs: ['-34.22', '-34.43', '-34.20', '-34.72']\n"
     ]
    },
    {
     "name": "stderr",
     "output_type": "stream",
     "text": [
      " 23%|████████████████████████▎                                                                               | 3499/15000 [26:43<1:13:14,  2.62it/s]"
     ]
    },
    {
     "name": "stdout",
     "output_type": "stream",
     "text": [
      "Episode 3500/15000\n",
      "Fitnesses: ['-37.37', '-34.30', '-29.34', '-166.14']\n",
      "100 fitness avgs: ['-34.65', '-34.39', '-34.57', '-35.94']\n"
     ]
    },
    {
     "name": "stderr",
     "output_type": "stream",
     "text": [
      " 23%|████████████████████████▍                                                                               | 3519/15000 [26:52<1:18:53,  2.43it/s]"
     ]
    },
    {
     "name": "stdout",
     "output_type": "stream",
     "text": [
      "Episode 3520/15000\n",
      "Fitnesses: ['-2.60', '-25.87', '-86.85', '-6.16']\n",
      "100 fitness avgs: ['-34.34', '-34.57', '-35.00', '-34.19']\n"
     ]
    },
    {
     "name": "stderr",
     "output_type": "stream",
     "text": [
      " 24%|████████████████████████▌                                                                               | 3539/15000 [27:03<1:33:15,  2.05it/s]"
     ]
    },
    {
     "name": "stdout",
     "output_type": "stream",
     "text": [
      "Episode 3540/15000\n",
      "Fitnesses: ['-80.82', '-66.87', '-69.28', '-92.24']\n",
      "100 fitness avgs: ['-35.07', '-34.78', '-34.95', '-35.18']\n"
     ]
    },
    {
     "name": "stderr",
     "output_type": "stream",
     "text": [
      " 24%|████████████████████████▋                                                                               | 3559/15000 [27:12<1:16:23,  2.50it/s]"
     ]
    },
    {
     "name": "stdout",
     "output_type": "stream",
     "text": [
      "Episode 3560/15000\n",
      "Fitnesses: ['-34.23', '-36.11', '-15.06', '-13.24']\n",
      "100 fitness avgs: ['-34.89', '-34.91', '-34.87', '-35.08']\n"
     ]
    },
    {
     "name": "stderr",
     "output_type": "stream",
     "text": [
      " 24%|████████████████████████▊                                                                               | 3579/15000 [27:24<1:22:18,  2.31it/s]"
     ]
    },
    {
     "name": "stdout",
     "output_type": "stream",
     "text": [
      "Episode 3580/15000\n",
      "Fitnesses: ['-36.46', '-34.56', '-92.33', '-10.00']\n",
      "100 fitness avgs: ['-35.21', '-34.98', '-35.58', '-34.74']\n"
     ]
    },
    {
     "name": "stderr",
     "output_type": "stream",
     "text": [
      " 24%|████████████████████████▉                                                                               | 3599/15000 [27:33<1:27:52,  2.16it/s]"
     ]
    },
    {
     "name": "stdout",
     "output_type": "stream",
     "text": [
      "Episode 3600/15000\n",
      "Fitnesses: ['-13.09', '-55.49', '-18.61', '-19.58']\n",
      "100 fitness avgs: ['-34.76', '-35.18', '-35.06', '-35.07']\n"
     ]
    },
    {
     "name": "stderr",
     "output_type": "stream",
     "text": [
      " 24%|█████████████████████████                                                                               | 3619/15000 [27:44<1:38:46,  1.92it/s]"
     ]
    },
    {
     "name": "stdout",
     "output_type": "stream",
     "text": [
      "Episode 3620/15000\n",
      "Fitnesses: ['-3.05', '-210.54', '-10.97', '-36.48']\n",
      "100 fitness avgs: ['-34.25', '-36.75', '-34.63', '-34.89']\n"
     ]
    },
    {
     "name": "stderr",
     "output_type": "stream",
     "text": [
      " 24%|█████████████████████████▏                                                                              | 3639/15000 [27:57<1:51:59,  1.69it/s]"
     ]
    },
    {
     "name": "stdout",
     "output_type": "stream",
     "text": [
      "Episode 3640/15000\n",
      "Fitnesses: ['-23.55', '-24.68', '-54.08', '-178.44']\n",
      "100 fitness avgs: ['-34.41', '-34.42', '-35.36', '-38.45']\n"
     ]
    },
    {
     "name": "stderr",
     "output_type": "stream",
     "text": [
      " 24%|█████████████████████████▎                                                                              | 3659/15000 [28:05<1:14:50,  2.53it/s]"
     ]
    },
    {
     "name": "stdout",
     "output_type": "stream",
     "text": [
      "Episode 3660/15000\n",
      "Fitnesses: ['-63.73', '-33.34', '-61.94', '-7.49']\n",
      "100 fitness avgs: ['-34.41', '-35.06', '-35.35', '-33.85']\n"
     ]
    },
    {
     "name": "stderr",
     "output_type": "stream",
     "text": [
      " 25%|█████████████████████████▉                                                                                | 3679/15000 [28:12<53:51,  3.50it/s]"
     ]
    },
    {
     "name": "stdout",
     "output_type": "stream",
     "text": [
      "Episode 3680/15000\n",
      "Fitnesses: ['-13.03', '-5.58', '-17.04', '-39.58']\n",
      "100 fitness avgs: ['-33.71', '-33.63', '-34.31', '-33.97']\n"
     ]
    },
    {
     "name": "stderr",
     "output_type": "stream",
     "text": [
      " 25%|██████████████████████████▏                                                                               | 3699/15000 [28:19<51:32,  3.65it/s]"
     ]
    },
    {
     "name": "stdout",
     "output_type": "stream",
     "text": [
      "Episode 3700/15000\n",
      "Fitnesses: ['-21.73', '-42.88', '-8.12', '-111.16']\n",
      "100 fitness avgs: ['-33.74', '-33.95', '-33.60', '-35.31']\n"
     ]
    },
    {
     "name": "stderr",
     "output_type": "stream",
     "text": [
      " 25%|██████████████████████████▎                                                                               | 3719/15000 [28:26<53:18,  3.53it/s]"
     ]
    },
    {
     "name": "stdout",
     "output_type": "stream",
     "text": [
      "Episode 3720/15000\n",
      "Fitnesses: ['-37.86', '-2.88', '-19.21', '-70.78']\n",
      "100 fitness avgs: ['-33.42', '-33.20', '-33.58', '-33.88']\n"
     ]
    },
    {
     "name": "stderr",
     "output_type": "stream",
     "text": [
      " 25%|██████████████████████████▍                                                                               | 3739/15000 [28:32<53:11,  3.53it/s]"
     ]
    },
    {
     "name": "stdout",
     "output_type": "stream",
     "text": [
      "Episode 3740/15000\n",
      "Fitnesses: ['-18.93', '-53.92', '-83.03', '-13.80']\n",
      "100 fitness avgs: ['-32.87', '-33.90', '-33.73', '-33.20']\n"
     ]
    },
    {
     "name": "stderr",
     "output_type": "stream",
     "text": [
      " 25%|██████████████████████████                                                                              | 3759/15000 [28:41<1:02:19,  3.01it/s]"
     ]
    },
    {
     "name": "stdout",
     "output_type": "stream",
     "text": [
      "Episode 3760/15000\n",
      "Fitnesses: ['-48.36', '-1.64', '-6.78', '-175.07']\n",
      "100 fitness avgs: ['-33.50', '-33.56', '-32.76', '-34.77']\n"
     ]
    },
    {
     "name": "stderr",
     "output_type": "stream",
     "text": [
      " 25%|██████████████████████████▋                                                                               | 3779/15000 [28:47<54:36,  3.42it/s]"
     ]
    },
    {
     "name": "stdout",
     "output_type": "stream",
     "text": [
      "Episode 3780/15000\n",
      "Fitnesses: ['-49.19', '-0.85', '-16.78', '-91.09']\n",
      "100 fitness avgs: ['-33.58', '-33.04', '-32.46', '-33.20']\n"
     ]
    },
    {
     "name": "stderr",
     "output_type": "stream",
     "text": [
      " 25%|██████████████████████████▊                                                                               | 3799/15000 [28:57<59:05,  3.16it/s]"
     ]
    },
    {
     "name": "stdout",
     "output_type": "stream",
     "text": [
      "Episode 3800/15000\n",
      "Fitnesses: ['-61.08', '-82.68', '-59.69', '-49.37']\n",
      "100 fitness avgs: ['-33.43', '-33.07', '-33.42', '-33.86']\n"
     ]
    },
    {
     "name": "stderr",
     "output_type": "stream",
     "text": [
      " 25%|██████████████████████████▉                                                                               | 3819/15000 [29:05<45:46,  4.07it/s]"
     ]
    },
    {
     "name": "stdout",
     "output_type": "stream",
     "text": [
      "Episode 3820/15000\n",
      "Fitnesses: ['-35.12', '-67.21', '-44.67', '-34.13']\n",
      "100 fitness avgs: ['-34.01', '-33.91', '-34.11', '-34.00']\n"
     ]
    },
    {
     "name": "stderr",
     "output_type": "stream",
     "text": [
      " 26%|███████████████████████████▏                                                                              | 3839/15000 [29:11<35:23,  5.26it/s]"
     ]
    },
    {
     "name": "stdout",
     "output_type": "stream",
     "text": [
      "Episode 3840/15000\n",
      "Fitnesses: ['-3.56', '-6.15', '-11.48', '-80.51']\n",
      "100 fitness avgs: ['-32.87', '-32.90', '-32.95', '-33.65']\n"
     ]
    },
    {
     "name": "stderr",
     "output_type": "stream",
     "text": [
      " 26%|███████████████████████████▎                                                                              | 3859/15000 [29:17<37:05,  5.01it/s]"
     ]
    },
    {
     "name": "stdout",
     "output_type": "stream",
     "text": [
      "Episode 3860/15000\n",
      "Fitnesses: ['-12.00', '-39.88', '-64.75', '-32.93']\n",
      "100 fitness avgs: ['-32.70', '-33.00', '-33.23', '-32.93']\n"
     ]
    },
    {
     "name": "stderr",
     "output_type": "stream",
     "text": [
      " 26%|███████████████████████████▍                                                                              | 3879/15000 [29:22<33:18,  5.56it/s]"
     ]
    },
    {
     "name": "stdout",
     "output_type": "stream",
     "text": [
      "Episode 3880/15000\n",
      "Fitnesses: ['-94.04', '-86.80', '-60.05', '-10.73']\n",
      "100 fitness avgs: ['-32.53', '-32.98', '-32.49', '-31.69']\n"
     ]
    },
    {
     "name": "stderr",
     "output_type": "stream",
     "text": [
      " 26%|███████████████████████████▌                                                                              | 3899/15000 [29:26<30:23,  6.09it/s]"
     ]
    },
    {
     "name": "stdout",
     "output_type": "stream",
     "text": [
      "Episode 3900/15000\n",
      "Fitnesses: ['-15.52', '-65.10', '-314.41', '-54.03']\n",
      "100 fitness avgs: ['-31.76', '-33.05', '-36.03', '-32.14']\n"
     ]
    },
    {
     "name": "stderr",
     "output_type": "stream",
     "text": [
      " 26%|███████████████████████████▋                                                                              | 3919/15000 [29:30<33:05,  5.58it/s]"
     ]
    },
    {
     "name": "stdout",
     "output_type": "stream",
     "text": [
      "Episode 3920/15000\n",
      "Fitnesses: ['-32.13', '-52.36', '-36.50', '-203.59']\n",
      "100 fitness avgs: ['-31.52', '-32.11', '-32.86', '-33.62']\n"
     ]
    },
    {
     "name": "stderr",
     "output_type": "stream",
     "text": [
      " 26%|███████████████████████████▊                                                                              | 3939/15000 [29:35<38:36,  4.78it/s]"
     ]
    },
    {
     "name": "stdout",
     "output_type": "stream",
     "text": [
      "Episode 3940/15000\n",
      "Fitnesses: ['-19.76', '-62.58', '-33.95', '-87.37']\n",
      "100 fitness avgs: ['-31.27', '-31.70', '-31.41', '-33.28']\n"
     ]
    },
    {
     "name": "stderr",
     "output_type": "stream",
     "text": [
      " 26%|███████████████████████████▉                                                                              | 3959/15000 [29:40<35:13,  5.22it/s]"
     ]
    },
    {
     "name": "stdout",
     "output_type": "stream",
     "text": [
      "Episode 3960/15000\n",
      "Fitnesses: ['-49.47', '-18.44', '-36.82', '-16.48']\n",
      "100 fitness avgs: ['-31.38', '-31.21', '-31.39', '-31.19']\n"
     ]
    },
    {
     "name": "stderr",
     "output_type": "stream",
     "text": [
      " 27%|████████████████████████████                                                                              | 3979/15000 [29:44<32:03,  5.73it/s]"
     ]
    },
    {
     "name": "stdout",
     "output_type": "stream",
     "text": [
      "Episode 3980/15000\n",
      "Fitnesses: ['-89.62', '-31.89', '-9.53', '-52.25']\n",
      "100 fitness avgs: ['-31.32', '-30.94', '-30.52', '-30.96']\n"
     ]
    },
    {
     "name": "stderr",
     "output_type": "stream",
     "text": [
      " 27%|████████████████████████████▎                                                                             | 3999/15000 [29:48<28:48,  6.36it/s]"
     ]
    },
    {
     "name": "stdout",
     "output_type": "stream",
     "text": [
      "Episode 4000/15000\n",
      "Fitnesses: ['-7.67', '-98.34', '-21.98', '-67.35']\n",
      "100 fitness avgs: ['-30.27', '-31.62', '-30.86', '-31.31']\n"
     ]
    },
    {
     "name": "stderr",
     "output_type": "stream",
     "text": [
      " 27%|████████████████████████████▍                                                                             | 4019/15000 [29:53<33:13,  5.51it/s]"
     ]
    },
    {
     "name": "stdout",
     "output_type": "stream",
     "text": [
      "Episode 4020/15000\n",
      "Fitnesses: ['-5.59', '-20.01', '-4.59', '-16.53']\n",
      "100 fitness avgs: ['-30.07', '-30.80', '-30.65', '-30.18']\n"
     ]
    },
    {
     "name": "stderr",
     "output_type": "stream",
     "text": [
      " 27%|████████████████████████████▌                                                                             | 4039/15000 [29:57<34:54,  5.23it/s]"
     ]
    },
    {
     "name": "stdout",
     "output_type": "stream",
     "text": [
      "Episode 4040/15000\n",
      "Fitnesses: ['-32.27', '-8.96', '-42.44', '-39.54']\n",
      "100 fitness avgs: ['-30.63', '-29.82', '-30.26', '-30.12']\n"
     ]
    },
    {
     "name": "stderr",
     "output_type": "stream",
     "text": [
      " 27%|████████████████████████████▋                                                                             | 4059/15000 [30:04<38:04,  4.79it/s]"
     ]
    },
    {
     "name": "stdout",
     "output_type": "stream",
     "text": [
      "Episode 4060/15000\n",
      "Fitnesses: ['-39.37', '-96.86', '-37.68', '-9.28']\n",
      "100 fitness avgs: ['-29.56', '-30.14', '-30.36', '-29.26']\n"
     ]
    },
    {
     "name": "stderr",
     "output_type": "stream",
     "text": [
      " 27%|████████████████████████████▊                                                                             | 4079/15000 [30:09<34:58,  5.20it/s]"
     ]
    },
    {
     "name": "stdout",
     "output_type": "stream",
     "text": [
      "Episode 4080/15000\n",
      "Fitnesses: ['-23.54', '-15.79', '-38.91', '-75.33']\n",
      "100 fitness avgs: ['-29.42', '-29.34', '-29.57', '-31.04']\n"
     ]
    },
    {
     "name": "stderr",
     "output_type": "stream",
     "text": [
      " 27%|████████████████████████████▉                                                                             | 4099/15000 [30:13<32:04,  5.67it/s]"
     ]
    },
    {
     "name": "stdout",
     "output_type": "stream",
     "text": [
      "Episode 4100/15000\n",
      "Fitnesses: ['-39.79', '-31.24', '-36.00', '-49.71']\n",
      "100 fitness avgs: ['-29.29', '-29.21', '-29.33', '-29.39']\n"
     ]
    },
    {
     "name": "stderr",
     "output_type": "stream",
     "text": [
      " 27%|█████████████████████████████                                                                             | 4119/15000 [30:18<34:53,  5.20it/s]"
     ]
    },
    {
     "name": "stdout",
     "output_type": "stream",
     "text": [
      "Episode 4120/15000\n",
      "Fitnesses: ['-13.30', '-17.94', '-43.01', '-78.65']\n",
      "100 fitness avgs: ['-29.14', '-29.31', '-29.52', '-29.79']\n"
     ]
    },
    {
     "name": "stderr",
     "output_type": "stream",
     "text": [
      " 28%|█████████████████████████████▏                                                                            | 4139/15000 [30:22<30:03,  6.02it/s]"
     ]
    },
    {
     "name": "stdout",
     "output_type": "stream",
     "text": [
      "Episode 4140/15000\n",
      "Fitnesses: ['-20.83', '-47.00', '-38.76', '-84.02']\n",
      "100 fitness avgs: ['-29.04', '-29.30', '-29.22', '-30.05']\n"
     ]
    },
    {
     "name": "stderr",
     "output_type": "stream",
     "text": [
      " 28%|█████████████████████████████▍                                                                            | 4159/15000 [30:26<29:11,  6.19it/s]"
     ]
    },
    {
     "name": "stdout",
     "output_type": "stream",
     "text": [
      "Episode 4160/15000\n",
      "Fitnesses: ['-8.64', '-7.96', '-14.11', '-27.89']\n",
      "100 fitness avgs: ['-27.99', '-28.99', '-28.04', '-28.18']\n"
     ]
    },
    {
     "name": "stderr",
     "output_type": "stream",
     "text": [
      " 28%|█████████████████████████████▌                                                                            | 4179/15000 [30:30<29:03,  6.21it/s]"
     ]
    },
    {
     "name": "stdout",
     "output_type": "stream",
     "text": [
      "Episode 4180/15000\n",
      "Fitnesses: ['-1.74', '-18.29', '-18.98', '-70.58']\n",
      "100 fitness avgs: ['-28.92', '-28.14', '-28.14', '-28.66']\n"
     ]
    },
    {
     "name": "stderr",
     "output_type": "stream",
     "text": [
      " 28%|█████████████████████████████▋                                                                            | 4199/15000 [30:35<29:16,  6.15it/s]"
     ]
    },
    {
     "name": "stdout",
     "output_type": "stream",
     "text": [
      "Episode 4200/15000\n",
      "Fitnesses: ['-2.23', '-21.46', '-13.23', '-13.42']\n",
      "100 fitness avgs: ['-28.76', '-28.16', '-28.87', '-28.87']\n"
     ]
    },
    {
     "name": "stderr",
     "output_type": "stream",
     "text": [
      " 28%|█████████████████████████████▊                                                                            | 4219/15000 [30:39<28:46,  6.24it/s]"
     ]
    },
    {
     "name": "stdout",
     "output_type": "stream",
     "text": [
      "Episode 4220/15000\n",
      "Fitnesses: ['-15.62', '-17.46', '-42.97', '-21.88']\n",
      "100 fitness avgs: ['-28.87', '-28.89', '-28.55', '-28.94']\n"
     ]
    },
    {
     "name": "stderr",
     "output_type": "stream",
     "text": [
      " 28%|█████████████████████████████▉                                                                            | 4239/15000 [30:44<24:57,  7.18it/s]"
     ]
    },
    {
     "name": "stdout",
     "output_type": "stream",
     "text": [
      "Episode 4240/15000\n",
      "Fitnesses: ['-45.03', '-3.89', '-70.50', '-68.49']\n",
      "100 fitness avgs: ['-29.21', '-28.80', '-29.46', '-29.44']\n"
     ]
    },
    {
     "name": "stderr",
     "output_type": "stream",
     "text": [
      " 28%|██████████████████████████████                                                                            | 4259/15000 [30:49<26:56,  6.64it/s]"
     ]
    },
    {
     "name": "stdout",
     "output_type": "stream",
     "text": [
      "Episode 4260/15000\n",
      "Fitnesses: ['-21.20', '-58.96', '-9.75', '-36.39']\n",
      "100 fitness avgs: ['-28.86', '-29.88', '-29.15', '-29.01']\n"
     ]
    },
    {
     "name": "stderr",
     "output_type": "stream",
     "text": [
      " 29%|██████████████████████████████▏                                                                           | 4279/15000 [30:53<28:08,  6.35it/s]"
     ]
    },
    {
     "name": "stdout",
     "output_type": "stream",
     "text": [
      "Episode 4280/15000\n",
      "Fitnesses: ['-47.98', '-29.18', '-29.57', '-2.82']\n",
      "100 fitness avgs: ['-29.34', '-28.86', '-29.16', '-28.59']\n"
     ]
    },
    {
     "name": "stderr",
     "output_type": "stream",
     "text": [
      " 29%|██████████████████████████████▍                                                                           | 4299/15000 [30:56<27:20,  6.52it/s]"
     ]
    },
    {
     "name": "stdout",
     "output_type": "stream",
     "text": [
      "Episode 4300/15000\n",
      "Fitnesses: ['-28.70', '-3.24', '-54.81', '-45.22']\n",
      "100 fitness avgs: ['-28.03', '-28.34', '-28.86', '-28.76']\n"
     ]
    },
    {
     "name": "stderr",
     "output_type": "stream",
     "text": [
      " 29%|██████████████████████████████▌                                                                           | 4319/15000 [31:01<33:23,  5.33it/s]"
     ]
    },
    {
     "name": "stdout",
     "output_type": "stream",
     "text": [
      "Episode 4320/15000\n",
      "Fitnesses: ['-22.06', '-13.78', '-36.46', '-92.25']\n",
      "100 fitness avgs: ['-28.41', '-28.33', '-28.98', '-29.11']\n"
     ]
    },
    {
     "name": "stderr",
     "output_type": "stream",
     "text": [
      " 29%|██████████████████████████████▋                                                                           | 4339/15000 [31:06<29:28,  6.03it/s]"
     ]
    },
    {
     "name": "stdout",
     "output_type": "stream",
     "text": [
      "Episode 4340/15000\n",
      "Fitnesses: ['-8.79', '-11.03', '-53.66', '-1.20']\n",
      "100 fitness avgs: ['-28.36', '-28.38', '-28.81', '-28.28']\n"
     ]
    },
    {
     "name": "stderr",
     "output_type": "stream",
     "text": [
      " 29%|██████████████████████████████▊                                                                           | 4359/15000 [31:12<27:26,  6.46it/s]"
     ]
    },
    {
     "name": "stdout",
     "output_type": "stream",
     "text": [
      "Episode 4360/15000\n",
      "Fitnesses: ['-96.77', '-66.46', '-43.62', '-102.64']\n",
      "100 fitness avgs: ['-28.86', '-28.55', '-28.32', '-28.99']\n"
     ]
    },
    {
     "name": "stderr",
     "output_type": "stream",
     "text": [
      " 29%|██████████████████████████████▉                                                                           | 4379/15000 [31:17<28:11,  6.28it/s]"
     ]
    },
    {
     "name": "stdout",
     "output_type": "stream",
     "text": [
      "Episode 4380/15000\n",
      "Fitnesses: ['-50.39', '-12.78', '-8.13', '-16.12']\n",
      "100 fitness avgs: ['-28.75', '-29.04', '-28.85', '-28.40']\n"
     ]
    },
    {
     "name": "stderr",
     "output_type": "stream",
     "text": [
      " 29%|███████████████████████████████                                                                           | 4399/15000 [31:22<27:27,  6.43it/s]"
     ]
    },
    {
     "name": "stdout",
     "output_type": "stream",
     "text": [
      "Episode 4400/15000\n",
      "Fitnesses: ['-83.03', '-31.81', '-28.84', '-6.85']\n",
      "100 fitness avgs: ['-29.66', '-29.14', '-29.11', '-28.44']\n"
     ]
    },
    {
     "name": "stderr",
     "output_type": "stream",
     "text": [
      " 29%|███████████████████████████████▏                                                                          | 4419/15000 [31:25<27:27,  6.42it/s]"
     ]
    },
    {
     "name": "stdout",
     "output_type": "stream",
     "text": [
      "Episode 4420/15000\n",
      "Fitnesses: ['-24.31', '-11.73', '-25.66', '-39.22']\n",
      "100 fitness avgs: ['-28.12', '-28.00', '-28.14', '-28.27']\n"
     ]
    },
    {
     "name": "stderr",
     "output_type": "stream",
     "text": [
      " 30%|███████████████████████████████▎                                                                          | 4439/15000 [31:31<26:57,  6.53it/s]"
     ]
    },
    {
     "name": "stdout",
     "output_type": "stream",
     "text": [
      "Episode 4440/15000\n",
      "Fitnesses: ['-43.31', '-53.23', '-87.86', '-13.34']\n",
      "100 fitness avgs: ['-28.26', '-28.50', '-28.84', '-28.10']\n"
     ]
    },
    {
     "name": "stderr",
     "output_type": "stream",
     "text": [
      " 30%|███████████████████████████████▌                                                                          | 4459/15000 [31:35<31:39,  5.55it/s]"
     ]
    },
    {
     "name": "stdout",
     "output_type": "stream",
     "text": [
      "Episode 4460/15000\n",
      "Fitnesses: ['-17.28', '-53.51', '-10.83', '-31.53']\n",
      "100 fitness avgs: ['-27.54', '-27.90', '-27.48', '-27.68']\n"
     ]
    },
    {
     "name": "stderr",
     "output_type": "stream",
     "text": [
      " 30%|███████████████████████████████▋                                                                          | 4479/15000 [31:42<26:36,  6.59it/s]"
     ]
    },
    {
     "name": "stdout",
     "output_type": "stream",
     "text": [
      "Episode 4480/15000\n",
      "Fitnesses: ['-33.66', '-31.92', '-15.19', '-60.34']\n",
      "100 fitness avgs: ['-27.73', '-27.71', '-27.75', '-27.99']\n"
     ]
    },
    {
     "name": "stderr",
     "output_type": "stream",
     "text": [
      " 30%|███████████████████████████████▊                                                                          | 4499/15000 [31:46<27:53,  6.28it/s]"
     ]
    },
    {
     "name": "stdout",
     "output_type": "stream",
     "text": [
      "Episode 4500/15000\n",
      "Fitnesses: ['-20.10', '-4.75', '-60.18', '-31.89']\n",
      "100 fitness avgs: ['-26.22', '-26.07', '-26.60', '-26.34']\n"
     ]
    },
    {
     "name": "stderr",
     "output_type": "stream",
     "text": [
      " 30%|███████████████████████████████▉                                                                          | 4519/15000 [31:51<30:28,  5.73it/s]"
     ]
    },
    {
     "name": "stdout",
     "output_type": "stream",
     "text": [
      "Episode 4520/15000\n",
      "Fitnesses: ['-54.40', '-20.16', '-3.09', '-27.03']\n",
      "100 fitness avgs: ['-26.07', '-25.73', '-25.56', '-25.95']\n"
     ]
    },
    {
     "name": "stderr",
     "output_type": "stream",
     "text": [
      " 30%|████████████████████████████████                                                                          | 4539/15000 [31:55<27:07,  6.43it/s]"
     ]
    },
    {
     "name": "stdout",
     "output_type": "stream",
     "text": [
      "Episode 4540/15000\n",
      "Fitnesses: ['-6.54', '-47.63', '-50.84', '-25.17']\n",
      "100 fitness avgs: ['-25.14', '-25.55', '-25.75', '-25.84']\n"
     ]
    },
    {
     "name": "stderr",
     "output_type": "stream",
     "text": [
      " 30%|████████████████████████████████▏                                                                         | 4559/15000 [31:59<23:18,  7.47it/s]"
     ]
    },
    {
     "name": "stdout",
     "output_type": "stream",
     "text": [
      "Episode 4560/15000\n",
      "Fitnesses: ['-11.51', '-126.60', '-10.10', '-12.95']\n",
      "100 fitness avgs: ['-24.99', '-26.15', '-24.98', '-25.01']\n"
     ]
    },
    {
     "name": "stderr",
     "output_type": "stream",
     "text": [
      " 31%|████████████████████████████████▎                                                                         | 4579/15000 [32:04<28:13,  6.15it/s]"
     ]
    },
    {
     "name": "stdout",
     "output_type": "stream",
     "text": [
      "Episode 4580/15000\n",
      "Fitnesses: ['-64.77', '-35.30', '-2.94', '-113.49']\n",
      "100 fitness avgs: ['-24.87', '-24.57', '-24.28', '-25.35']\n"
     ]
    },
    {
     "name": "stderr",
     "output_type": "stream",
     "text": [
      " 31%|████████████████████████████████▍                                                                         | 4599/15000 [32:08<23:57,  7.24it/s]"
     ]
    },
    {
     "name": "stdout",
     "output_type": "stream",
     "text": [
      "Episode 4600/15000\n",
      "Fitnesses: ['-17.81', '-16.99', '-123.04', '-41.36']\n",
      "100 fitness avgs: ['-24.19', '-24.77', '-25.54', '-24.72']\n"
     ]
    },
    {
     "name": "stderr",
     "output_type": "stream",
     "text": [
      " 31%|████████████████████████████████▋                                                                         | 4619/15000 [32:12<25:00,  6.92it/s]"
     ]
    },
    {
     "name": "stdout",
     "output_type": "stream",
     "text": [
      "Episode 4620/15000\n",
      "Fitnesses: ['-3.27', '-35.77', '-3.35', '-125.28']\n",
      "100 fitness avgs: ['-24.72', '-25.05', '-24.72', '-25.36']\n"
     ]
    },
    {
     "name": "stderr",
     "output_type": "stream",
     "text": [
      " 31%|████████████████████████████████▊                                                                         | 4639/15000 [32:17<26:12,  6.59it/s]"
     ]
    },
    {
     "name": "stdout",
     "output_type": "stream",
     "text": [
      "Episode 4640/15000\n",
      "Fitnesses: ['-51.54', '-41.18', '-53.27', '-11.55']\n",
      "100 fitness avgs: ['-25.22', '-25.12', '-25.24', '-24.82']\n"
     ]
    },
    {
     "name": "stderr",
     "output_type": "stream",
     "text": [
      " 31%|████████████████████████████████▉                                                                         | 4659/15000 [32:21<24:34,  7.01it/s]"
     ]
    },
    {
     "name": "stdout",
     "output_type": "stream",
     "text": [
      "Episode 4660/15000\n",
      "Fitnesses: ['-7.53', '-16.22', '-63.56', '-63.06']\n",
      "100 fitness avgs: ['-24.54', '-24.62', '-25.10', '-25.09']\n"
     ]
    },
    {
     "name": "stderr",
     "output_type": "stream",
     "text": [
      " 31%|█████████████████████████████████                                                                         | 4679/15000 [32:25<24:52,  6.91it/s]"
     ]
    },
    {
     "name": "stdout",
     "output_type": "stream",
     "text": [
      "Episode 4680/15000\n",
      "Fitnesses: ['-18.82', '-468.49', '-6.66', '-22.26']\n",
      "100 fitness avgs: ['-24.30', '-28.80', '-24.18', '-24.43']\n"
     ]
    },
    {
     "name": "stderr",
     "output_type": "stream",
     "text": [
      " 31%|█████████████████████████████████▏                                                                        | 4699/15000 [32:30<27:32,  6.23it/s]"
     ]
    },
    {
     "name": "stdout",
     "output_type": "stream",
     "text": [
      "Episode 4700/15000\n",
      "Fitnesses: ['-32.51', '-45.96', '-24.83', '-481.67']\n",
      "100 fitness avgs: ['-24.30', '-24.44', '-24.35', '-28.79']\n"
     ]
    },
    {
     "name": "stderr",
     "output_type": "stream",
     "text": [
      " 31%|█████████████████████████████████▎                                                                        | 4719/15000 [32:33<20:48,  8.23it/s]"
     ]
    },
    {
     "name": "stdout",
     "output_type": "stream",
     "text": [
      "Episode 4720/15000\n",
      "Fitnesses: ['-10.59', '-68.96', '-23.69', '-27.25']\n",
      "100 fitness avgs: ['-24.09', '-24.63', '-24.31', '-24.34']\n"
     ]
    },
    {
     "name": "stderr",
     "output_type": "stream",
     "text": [
      " 32%|█████████████████████████████████▍                                                                        | 4739/15000 [32:36<21:25,  7.98it/s]"
     ]
    },
    {
     "name": "stdout",
     "output_type": "stream",
     "text": [
      "Episode 4740/15000\n",
      "Fitnesses: ['-5.33', '-380.51', '-29.78', '-58.12']\n",
      "100 fitness avgs: ['-24.13', '-28.10', '-24.63', '-24.65']\n"
     ]
    },
    {
     "name": "stderr",
     "output_type": "stream",
     "text": [
      " 32%|█████████████████████████████████▋                                                                        | 4759/15000 [32:40<22:59,  7.43it/s]"
     ]
    },
    {
     "name": "stdout",
     "output_type": "stream",
     "text": [
      "Episode 4760/15000\n",
      "Fitnesses: ['-29.04', '-76.37', '-87.20', '-11.70']\n",
      "100 fitness avgs: ['-24.37', '-24.85', '-24.95', '-24.70']\n"
     ]
    },
    {
     "name": "stderr",
     "output_type": "stream",
     "text": [
      " 32%|█████████████████████████████████▊                                                                        | 4779/15000 [32:45<26:09,  6.51it/s]"
     ]
    },
    {
     "name": "stdout",
     "output_type": "stream",
     "text": [
      "Episode 4780/15000\n",
      "Fitnesses: ['-66.67', '-4.80', '-18.20', '-6.57']\n",
      "100 fitness avgs: ['-24.94', '-24.33', '-24.61', '-24.34']\n"
     ]
    },
    {
     "name": "stderr",
     "output_type": "stream",
     "text": [
      " 32%|█████████████████████████████████▉                                                                        | 4799/15000 [32:50<24:41,  6.89it/s]"
     ]
    },
    {
     "name": "stdout",
     "output_type": "stream",
     "text": [
      "Episode 4800/15000\n",
      "Fitnesses: ['-32.37', '-174.69', '-20.53', '-381.22']\n",
      "100 fitness avgs: ['-24.50', '-26.54', '-24.38', '-28.26']\n"
     ]
    },
    {
     "name": "stderr",
     "output_type": "stream",
     "text": [
      " 32%|██████████████████████████████████                                                                        | 4819/15000 [32:54<21:48,  7.78it/s]"
     ]
    },
    {
     "name": "stdout",
     "output_type": "stream",
     "text": [
      "Episode 4820/15000\n",
      "Fitnesses: ['-80.81', '-30.91', '-19.57', '-272.76']\n",
      "100 fitness avgs: ['-25.12', '-24.62', '-24.50', '-30.92']\n"
     ]
    },
    {
     "name": "stderr",
     "output_type": "stream",
     "text": [
      " 32%|██████████████████████████████████▏                                                                       | 4839/15000 [32:59<21:09,  8.01it/s]"
     ]
    },
    {
     "name": "stdout",
     "output_type": "stream",
     "text": [
      "Episode 4840/15000\n",
      "Fitnesses: ['-90.91', '-55.29', '-39.84', '-40.29']\n",
      "100 fitness avgs: ['-24.62', '-24.38', '-24.72', '-24.11']\n"
     ]
    },
    {
     "name": "stderr",
     "output_type": "stream",
     "text": [
      " 32%|██████████████████████████████████▎                                                                       | 4859/15000 [33:03<21:22,  7.91it/s]"
     ]
    },
    {
     "name": "stdout",
     "output_type": "stream",
     "text": [
      "Episode 4860/15000\n",
      "Fitnesses: ['-51.97', '-35.52', '-4.91', '-58.46']\n",
      "100 fitness avgs: ['-25.03', '-24.26', '-23.95', '-24.49']\n"
     ]
    },
    {
     "name": "stderr",
     "output_type": "stream",
     "text": [
      " 33%|██████████████████████████████████▍                                                                       | 4879/15000 [33:08<22:24,  7.53it/s]"
     ]
    },
    {
     "name": "stdout",
     "output_type": "stream",
     "text": [
      "Episode 4880/15000\n",
      "Fitnesses: ['-68.85', '-102.12', '-41.61', '-18.06']\n",
      "100 fitness avgs: ['-24.42', '-24.75', '-24.15', '-23.91']\n"
     ]
    },
    {
     "name": "stderr",
     "output_type": "stream",
     "text": [
      " 33%|██████████████████████████████████▌                                                                       | 4899/15000 [33:12<22:40,  7.42it/s]"
     ]
    },
    {
     "name": "stdout",
     "output_type": "stream",
     "text": [
      "Episode 4900/15000\n",
      "Fitnesses: ['-2.19', '-10.06', '-16.67', '-33.12']\n",
      "100 fitness avgs: ['-22.89', '-23.20', '-23.54', '-23.43']\n"
     ]
    },
    {
     "name": "stderr",
     "output_type": "stream",
     "text": [
      " 33%|██████████████████████████████████▊                                                                       | 4919/15000 [33:16<22:13,  7.56it/s]"
     ]
    },
    {
     "name": "stdout",
     "output_type": "stream",
     "text": [
      "Episode 4920/15000\n",
      "Fitnesses: ['-3.98', '-10.62', '-23.31', '-68.63']\n",
      "100 fitness avgs: ['-22.55', '-22.61', '-22.74', '-23.51']\n"
     ]
    },
    {
     "name": "stderr",
     "output_type": "stream",
     "text": [
      " 33%|██████████████████████████████████▉                                                                       | 4939/15000 [33:21<23:04,  7.27it/s]"
     ]
    },
    {
     "name": "stdout",
     "output_type": "stream",
     "text": [
      "Episode 4940/15000\n",
      "Fitnesses: ['-21.72', '-57.84', '-18.38', '-64.47']\n",
      "100 fitness avgs: ['-22.66', '-23.21', '-22.82', '-23.15']\n"
     ]
    },
    {
     "name": "stderr",
     "output_type": "stream",
     "text": [
      " 33%|███████████████████████████████████                                                                       | 4959/15000 [33:26<22:56,  7.29it/s]"
     ]
    },
    {
     "name": "stdout",
     "output_type": "stream",
     "text": [
      "Episode 4960/15000\n",
      "Fitnesses: ['-30.86', '-16.85', '-80.37', '-37.63']\n",
      "100 fitness avgs: ['-22.54', '-22.40', '-23.04', '-23.01']\n"
     ]
    },
    {
     "name": "stderr",
     "output_type": "stream",
     "text": [
      " 33%|███████████████████████████████████▏                                                                      | 4979/15000 [33:29<21:21,  7.82it/s]"
     ]
    },
    {
     "name": "stdout",
     "output_type": "stream",
     "text": [
      "Episode 4980/15000\n",
      "Fitnesses: ['-24.50', '-3.64', '-31.82', '-56.57']\n",
      "100 fitness avgs: ['-22.39', '-22.78', '-23.10', '-22.85']\n"
     ]
    },
    {
     "name": "stderr",
     "output_type": "stream",
     "text": [
      " 33%|███████████████████████████████████▎                                                                      | 4999/15000 [33:33<22:25,  7.43it/s]"
     ]
    },
    {
     "name": "stdout",
     "output_type": "stream",
     "text": [
      "Episode 5000/15000\n",
      "Fitnesses: ['-1.87', '-14.14', '-14.54', '-17.37']\n",
      "100 fitness avgs: ['-22.24', '-22.67', '-21.97', '-22.00']\n"
     ]
    },
    {
     "name": "stderr",
     "output_type": "stream",
     "text": [
      " 33%|███████████████████████████████████▍                                                                      | 5019/15000 [33:37<20:44,  8.02it/s]"
     ]
    },
    {
     "name": "stdout",
     "output_type": "stream",
     "text": [
      "Episode 5020/15000\n",
      "Fitnesses: ['-28.77', '-15.91', '-30.26', '-21.07']\n",
      "100 fitness avgs: ['-22.27', '-22.14', '-22.28', '-21.92']\n"
     ]
    },
    {
     "name": "stderr",
     "output_type": "stream",
     "text": [
      " 34%|███████████████████████████████████▌                                                                      | 5039/15000 [33:41<21:07,  7.86it/s]"
     ]
    },
    {
     "name": "stdout",
     "output_type": "stream",
     "text": [
      "Episode 5040/15000\n",
      "Fitnesses: ['-33.30', '-1.74', '-60.85', '-81.24']\n",
      "100 fitness avgs: ['-22.46', '-22.29', '-22.74', '-22.73']\n"
     ]
    },
    {
     "name": "stderr",
     "output_type": "stream",
     "text": [
      " 34%|███████████████████████████████████▊                                                                      | 5059/15000 [33:46<20:51,  7.94it/s]"
     ]
    },
    {
     "name": "stdout",
     "output_type": "stream",
     "text": [
      "Episode 5060/15000\n",
      "Fitnesses: ['-20.82', '-39.08', '-2.45', '-42.59']\n",
      "100 fitness avgs: ['-22.14', '-22.77', '-21.96', '-22.81']\n"
     ]
    },
    {
     "name": "stderr",
     "output_type": "stream",
     "text": [
      " 34%|███████████████████████████████████▉                                                                      | 5079/15000 [33:49<20:55,  7.90it/s]"
     ]
    },
    {
     "name": "stdout",
     "output_type": "stream",
     "text": [
      "Episode 5080/15000\n",
      "Fitnesses: ['-22.52', '-55.95', '-4.81', '-35.78']\n",
      "100 fitness avgs: ['-21.67', '-22.00', '-21.67', '-21.98']\n"
     ]
    },
    {
     "name": "stderr",
     "output_type": "stream",
     "text": [
      " 34%|████████████████████████████████████                                                                      | 5099/15000 [33:53<19:43,  8.36it/s]"
     ]
    },
    {
     "name": "stdout",
     "output_type": "stream",
     "text": [
      "Episode 5100/15000\n",
      "Fitnesses: ['-29.68', '-21.03', '-59.46', '-94.89']\n",
      "100 fitness avgs: ['-21.83', '-21.74', '-22.12', '-22.48']\n"
     ]
    },
    {
     "name": "stderr",
     "output_type": "stream",
     "text": [
      " 34%|████████████████████████████████████▏                                                                     | 5119/15000 [33:56<18:57,  8.69it/s]"
     ]
    },
    {
     "name": "stdout",
     "output_type": "stream",
     "text": [
      "Episode 5120/15000\n",
      "Fitnesses: ['-24.23', '-7.69', '-14.56', '-6.89']\n",
      "100 fitness avgs: ['-21.64', '-21.85', '-21.63', '-21.46']\n"
     ]
    },
    {
     "name": "stderr",
     "output_type": "stream",
     "text": [
      " 34%|████████████████████████████████████▎                                                                     | 5139/15000 [34:00<19:48,  8.30it/s]"
     ]
    },
    {
     "name": "stdout",
     "output_type": "stream",
     "text": [
      "Episode 5140/15000\n",
      "Fitnesses: ['-42.39', '-35.57', '-71.96', '-55.92']\n",
      "100 fitness avgs: ['-21.67', '-21.76', '-21.96', '-21.98']\n"
     ]
    },
    {
     "name": "stderr",
     "output_type": "stream",
     "text": [
      " 34%|████████████████████████████████████▍                                                                     | 5159/15000 [34:05<23:43,  6.91it/s]"
     ]
    },
    {
     "name": "stdout",
     "output_type": "stream",
     "text": [
      "Episode 5160/15000\n",
      "Fitnesses: ['-2.73', '-49.67', '-18.68', '-63.44']\n",
      "100 fitness avgs: ['-21.77', '-22.15', '-22.14', '-22.28']\n"
     ]
    },
    {
     "name": "stderr",
     "output_type": "stream",
     "text": [
      " 35%|████████████████████████████████████▌                                                                     | 5179/15000 [34:08<20:01,  8.17it/s]"
     ]
    },
    {
     "name": "stdout",
     "output_type": "stream",
     "text": [
      "Episode 5180/15000\n",
      "Fitnesses: ['-79.76', '-37.97', '-24.67', '-27.11']\n",
      "100 fitness avgs: ['-22.28', '-22.24', '-22.25', '-22.27']\n"
     ]
    },
    {
     "name": "stderr",
     "output_type": "stream",
     "text": [
      " 35%|████████████████████████████████████▋                                                                     | 5199/15000 [34:12<21:57,  7.44it/s]"
     ]
    },
    {
     "name": "stdout",
     "output_type": "stream",
     "text": [
      "Episode 5200/15000\n",
      "Fitnesses: ['-6.85', '-32.17', '-19.97', '-10.01']\n",
      "100 fitness avgs: ['-22.19', '-22.47', '-22.34', '-22.22']\n"
     ]
    },
    {
     "name": "stderr",
     "output_type": "stream",
     "text": [
      " 35%|████████████████████████████████████▉                                                                     | 5219/15000 [34:16<19:13,  8.48it/s]"
     ]
    },
    {
     "name": "stdout",
     "output_type": "stream",
     "text": [
      "Episode 5220/15000\n",
      "Fitnesses: ['-6.89', '-10.74', '-39.10', '-17.19']\n",
      "100 fitness avgs: ['-22.04', '-22.08', '-22.39', '-22.30']\n"
     ]
    },
    {
     "name": "stderr",
     "output_type": "stream",
     "text": [
      " 35%|█████████████████████████████████████                                                                     | 5239/15000 [34:19<18:13,  8.93it/s]"
     ]
    },
    {
     "name": "stdout",
     "output_type": "stream",
     "text": [
      "Episode 5240/15000\n",
      "Fitnesses: ['-6.92', '-62.57', '-29.30', '-7.79']\n",
      "100 fitness avgs: ['-22.00', '-22.91', '-22.22', '-22.00']\n"
     ]
    },
    {
     "name": "stderr",
     "output_type": "stream",
     "text": [
      " 35%|█████████████████████████████████████▏                                                                    | 5258/15000 [34:22<17:09,  9.46it/s]"
     ]
    },
    {
     "name": "stdout",
     "output_type": "stream",
     "text": [
      "Episode 5260/15000\n",
      "Fitnesses: ['-15.14', '-35.59', '-31.57', '-37.02']\n",
      "100 fitness avgs: ['-21.95', '-22.38', '-22.13', '-22.18']\n"
     ]
    },
    {
     "name": "stderr",
     "output_type": "stream",
     "text": [
      " 35%|█████████████████████████████████████▎                                                                    | 5278/15000 [34:24<12:05, 13.41it/s]"
     ]
    },
    {
     "name": "stdout",
     "output_type": "stream",
     "text": [
      "Episode 5280/15000\n",
      "Fitnesses: ['-107.76', '-77.57', '-117.35', '-253.85']\n",
      "100 fitness avgs: ['-22.70', '-22.40', '-22.80', '-24.16']\n"
     ]
    },
    {
     "name": "stderr",
     "output_type": "stream",
     "text": [
      " 35%|█████████████████████████████████████▍                                                                    | 5300/15000 [34:26<18:52,  8.56it/s]"
     ]
    },
    {
     "name": "stdout",
     "output_type": "stream",
     "text": [
      "Episode 5300/15000\n",
      "Fitnesses: ['-22.35', '-164.03', '-3.05', '-53.02']\n",
      "100 fitness avgs: ['-22.19', '-23.61', '-22.30', '-22.80']\n"
     ]
    },
    {
     "name": "stderr",
     "output_type": "stream",
     "text": [
      " 35%|█████████████████████████████████████▌                                                                    | 5318/15000 [34:27<12:29, 12.92it/s]"
     ]
    },
    {
     "name": "stdout",
     "output_type": "stream",
     "text": [
      "Episode 5320/15000\n",
      "Fitnesses: ['-81.36', '-443.84', '-134.43', '-6.72']\n",
      "100 fitness avgs: ['-22.89', '-26.51', '-23.31', '-22.14']\n"
     ]
    },
    {
     "name": "stderr",
     "output_type": "stream",
     "text": [
      " 36%|█████████████████████████████████████▋                                                                    | 5338/15000 [34:30<14:26, 11.15it/s]"
     ]
    },
    {
     "name": "stdout",
     "output_type": "stream",
     "text": [
      "Episode 5340/15000\n",
      "Fitnesses: ['-61.38', '-100.41', '-80.88', '-89.63']\n",
      "100 fitness avgs: ['-22.21', '-23.77', '-22.41', '-23.66']\n"
     ]
    },
    {
     "name": "stderr",
     "output_type": "stream",
     "text": [
      " 36%|█████████████████████████████████████▊                                                                    | 5358/15000 [34:32<12:55, 12.43it/s]"
     ]
    },
    {
     "name": "stdout",
     "output_type": "stream",
     "text": [
      "Episode 5360/15000\n",
      "Fitnesses: ['-527.20', '-364.70', '-12.98', '-368.99']\n",
      "100 fitness avgs: ['-26.76', '-26.69', '-21.81', '-25.37']\n"
     ]
    },
    {
     "name": "stderr",
     "output_type": "stream",
     "text": [
      " 36%|██████████████████████████████████████                                                                    | 5378/15000 [34:34<13:27, 11.92it/s]"
     ]
    },
    {
     "name": "stdout",
     "output_type": "stream",
     "text": [
      "Episode 5380/15000\n",
      "Fitnesses: ['-56.12', '-185.38', '-266.74', '-192.91']\n",
      "100 fitness avgs: ['-22.08', '-28.26', '-29.07', '-28.33']\n"
     ]
    },
    {
     "name": "stderr",
     "output_type": "stream",
     "text": [
      " 36%|██████████████████████████████████████▏                                                                   | 5398/15000 [34:35<11:46, 13.59it/s]"
     ]
    },
    {
     "name": "stdout",
     "output_type": "stream",
     "text": [
      "Episode 5400/15000\n",
      "Fitnesses: ['-144.33', '-274.81', '-317.71', '-64.26']\n",
      "100 fitness avgs: ['-23.33', '-24.64', '-25.06', '-28.70']\n"
     ]
    },
    {
     "name": "stderr",
     "output_type": "stream",
     "text": [
      " 36%|██████████████████████████████████████▎                                                                   | 5418/15000 [34:37<13:37, 11.72it/s]"
     ]
    },
    {
     "name": "stdout",
     "output_type": "stream",
     "text": [
      "Episode 5420/15000\n",
      "Fitnesses: ['-484.58', '-49.50', '-142.14', '-250.26']\n",
      "100 fitness avgs: ['-33.15', '-28.80', '-29.72', '-30.80']\n"
     ]
    },
    {
     "name": "stderr",
     "output_type": "stream",
     "text": [
      " 36%|██████████████████████████████████████▍                                                                   | 5439/15000 [34:39<14:34, 10.94it/s]"
     ]
    },
    {
     "name": "stdout",
     "output_type": "stream",
     "text": [
      "Episode 5440/15000\n",
      "Fitnesses: ['-182.64', '-100.42', '-143.15', '-105.85']\n",
      "100 fitness avgs: ['-30.44', '-29.61', '-32.05', '-29.67']\n"
     ]
    },
    {
     "name": "stderr",
     "output_type": "stream",
     "text": [
      " 36%|██████████████████████████████████████▌                                                                   | 5459/15000 [34:41<14:38, 10.86it/s]"
     ]
    },
    {
     "name": "stdout",
     "output_type": "stream",
     "text": [
      "Episode 5460/15000\n",
      "Fitnesses: ['-102.00', '-3.47', '-135.45', '-95.07']\n",
      "100 fitness avgs: ['-30.16', '-29.17', '-30.49', '-30.14']\n"
     ]
    },
    {
     "name": "stderr",
     "output_type": "stream",
     "text": [
      " 37%|██████████████████████████████████████▋                                                                   | 5479/15000 [34:44<14:52, 10.67it/s]"
     ]
    },
    {
     "name": "stdout",
     "output_type": "stream",
     "text": [
      "Episode 5480/15000\n",
      "Fitnesses: ['-112.19', '-17.71', '-150.13', '-71.10']\n",
      "100 fitness avgs: ['-30.24', '-29.30', '-31.59', '-30.80']\n"
     ]
    },
    {
     "name": "stderr",
     "output_type": "stream",
     "text": [
      " 37%|██████████████████████████████████████▊                                                                   | 5499/15000 [34:46<13:36, 11.64it/s]"
     ]
    },
    {
     "name": "stdout",
     "output_type": "stream",
     "text": [
      "Episode 5500/15000\n",
      "Fitnesses: ['-31.97', '-211.39', '-84.79', '-33.00']\n",
      "100 fitness avgs: ['-29.32', '-32.62', '-30.79', '-29.33']\n"
     ]
    },
    {
     "name": "stderr",
     "output_type": "stream",
     "text": [
      " 37%|███████████████████████████████████████                                                                   | 5519/15000 [34:48<13:50, 11.42it/s]"
     ]
    },
    {
     "name": "stdout",
     "output_type": "stream",
     "text": [
      "Episode 5520/15000\n",
      "Fitnesses: ['-97.27', '-269.17', '-263.12', '-42.60']\n",
      "100 fitness avgs: ['-30.27', '-31.99', '-31.93', '-29.73']\n"
     ]
    },
    {
     "name": "stderr",
     "output_type": "stream",
     "text": [
      " 37%|███████████████████████████████████████▏                                                                  | 5539/15000 [34:50<13:13, 11.92it/s]"
     ]
    },
    {
     "name": "stdout",
     "output_type": "stream",
     "text": [
      "Episode 5540/15000\n",
      "Fitnesses: ['-141.25', '-213.46', '-60.18', '-34.91']\n",
      "100 fitness avgs: ['-30.45', '-33.37', '-29.64', '-29.39']\n"
     ]
    },
    {
     "name": "stderr",
     "output_type": "stream",
     "text": [
      " 37%|███████████████████████████████████████▎                                                                  | 5559/15000 [34:52<12:48, 12.28it/s]"
     ]
    },
    {
     "name": "stdout",
     "output_type": "stream",
     "text": [
      "Episode 5560/15000\n",
      "Fitnesses: ['-92.00', '-52.05', '-85.65', '-19.73']\n",
      "100 fitness avgs: ['-30.16', '-30.01', '-30.35', '-29.44']\n"
     ]
    },
    {
     "name": "stderr",
     "output_type": "stream",
     "text": [
      " 37%|███████████████████████████████████████▍                                                                  | 5579/15000 [34:54<12:29, 12.57it/s]"
     ]
    },
    {
     "name": "stdout",
     "output_type": "stream",
     "text": [
      "Episode 5580/15000\n",
      "Fitnesses: ['-169.31', '-17.78', '-54.68', '-196.55']\n",
      "100 fitness avgs: ['-31.03', '-29.51', '-29.88', '-31.88']\n"
     ]
    },
    {
     "name": "stderr",
     "output_type": "stream",
     "text": [
      " 37%|███████████████████████████████████████▌                                                                  | 5599/15000 [34:56<12:48, 12.23it/s]"
     ]
    },
    {
     "name": "stdout",
     "output_type": "stream",
     "text": [
      "Episode 5600/15000\n",
      "Fitnesses: ['-32.47', '-28.88', '-112.67', '-20.34']\n",
      "100 fitness avgs: ['-29.71', '-30.04', '-30.51', '-31.10']\n"
     ]
    },
    {
     "name": "stderr",
     "output_type": "stream",
     "text": [
      " 37%|███████████████████████████████████████▋                                                                  | 5619/15000 [34:58<12:06, 12.92it/s]"
     ]
    },
    {
     "name": "stdout",
     "output_type": "stream",
     "text": [
      "Episode 5620/15000\n",
      "Fitnesses: ['-16.30', '-139.86', '-46.80', '-34.45']\n",
      "100 fitness avgs: ['-31.23', '-31.41', '-31.54', '-30.02']\n"
     ]
    },
    {
     "name": "stderr",
     "output_type": "stream",
     "text": [
      " 38%|███████████████████████████████████████▊                                                                  | 5639/15000 [34:59<12:51, 12.13it/s]"
     ]
    },
    {
     "name": "stdout",
     "output_type": "stream",
     "text": [
      "Episode 5640/15000\n",
      "Fitnesses: ['-59.36', '-18.25', '-49.22', '-52.81']\n",
      "100 fitness avgs: ['-31.59', '-31.18', '-30.28', '-31.53']\n"
     ]
    },
    {
     "name": "stderr",
     "output_type": "stream",
     "text": [
      " 38%|███████████████████████████████████████▉                                                                  | 5659/15000 [35:01<13:02, 11.93it/s]"
     ]
    },
    {
     "name": "stdout",
     "output_type": "stream",
     "text": [
      "Episode 5660/15000\n",
      "Fitnesses: ['-61.38', '-1.03', '-153.02', '-62.13']\n",
      "100 fitness avgs: ['-31.72', '-31.46', '-32.64', '-32.07']\n"
     ]
    },
    {
     "name": "stderr",
     "output_type": "stream",
     "text": [
      " 38%|████████████████████████████████████████▏                                                                 | 5679/15000 [35:04<13:51, 11.21it/s]"
     ]
    },
    {
     "name": "stdout",
     "output_type": "stream",
     "text": [
      "Episode 5680/15000\n",
      "Fitnesses: ['-26.95', '-154.06', '-71.98', '-120.91']\n",
      "100 fitness avgs: ['-31.68', '-33.20', '-32.13', '-32.87']\n"
     ]
    },
    {
     "name": "stderr",
     "output_type": "stream",
     "text": [
      " 38%|████████████████████████████████████████▎                                                                 | 5699/15000 [35:07<19:33,  7.92it/s]"
     ]
    },
    {
     "name": "stdout",
     "output_type": "stream",
     "text": [
      "Episode 5700/15000\n",
      "Fitnesses: ['-58.15', '-32.76', '-45.62', '-57.31']\n",
      "100 fitness avgs: ['-32.18', '-32.37', '-32.50', '-32.62']\n"
     ]
    },
    {
     "name": "stderr",
     "output_type": "stream",
     "text": [
      " 38%|████████████████████████████████████████▍                                                                 | 5719/15000 [35:12<19:27,  7.95it/s]"
     ]
    },
    {
     "name": "stdout",
     "output_type": "stream",
     "text": [
      "Episode 5720/15000\n",
      "Fitnesses: ['-43.06', '-95.88', '-76.59', '-130.67']\n",
      "100 fitness avgs: ['-32.42', '-32.95', '-32.89', '-33.43']\n"
     ]
    },
    {
     "name": "stderr",
     "output_type": "stream",
     "text": [
      " 38%|████████████████████████████████████████▌                                                                 | 5739/15000 [35:15<21:32,  7.16it/s]"
     ]
    },
    {
     "name": "stdout",
     "output_type": "stream",
     "text": [
      "Episode 5740/15000\n",
      "Fitnesses: ['-94.93', '-172.94', '-120.63', '-54.47']\n",
      "100 fitness avgs: ['-32.54', '-33.32', '-33.26', '-32.60']\n"
     ]
    },
    {
     "name": "stderr",
     "output_type": "stream",
     "text": [
      " 38%|████████████████████████████████████████▋                                                                 | 5759/15000 [35:19<19:59,  7.71it/s]"
     ]
    },
    {
     "name": "stdout",
     "output_type": "stream",
     "text": [
      "Episode 5760/15000\n",
      "Fitnesses: ['-35.29', '-100.85', '-46.76', '-3.75']\n",
      "100 fitness avgs: ['-32.94', '-33.59', '-33.71', '-32.62']\n"
     ]
    },
    {
     "name": "stderr",
     "output_type": "stream",
     "text": [
      " 39%|████████████████████████████████████████▊                                                                 | 5779/15000 [35:23<21:53,  7.02it/s]"
     ]
    },
    {
     "name": "stdout",
     "output_type": "stream",
     "text": [
      "Episode 5780/15000\n",
      "Fitnesses: ['-5.30', '-30.08', '-110.07', '-104.43']\n",
      "100 fitness avgs: ['-32.18', '-32.75', '-33.23', '-33.49']\n"
     ]
    },
    {
     "name": "stderr",
     "output_type": "stream",
     "text": [
      " 39%|████████████████████████████████████████▉                                                                 | 5799/15000 [35:28<21:45,  7.05it/s]"
     ]
    },
    {
     "name": "stdout",
     "output_type": "stream",
     "text": [
      "Episode 5800/15000\n",
      "Fitnesses: ['-129.15', '-25.65', '-39.23', '-83.85']\n",
      "100 fitness avgs: ['-32.98', '-31.95', '-32.08', '-33.09']\n"
     ]
    },
    {
     "name": "stderr",
     "output_type": "stream",
     "text": [
      " 39%|█████████████████████████████████████████                                                                 | 5819/15000 [35:31<18:31,  8.26it/s]"
     ]
    },
    {
     "name": "stdout",
     "output_type": "stream",
     "text": [
      "Episode 5820/15000\n",
      "Fitnesses: ['-62.92', '-69.91', '-179.61', '-131.46']\n",
      "100 fitness avgs: ['-32.23', '-32.44', '-34.55', '-33.06']\n"
     ]
    },
    {
     "name": "stderr",
     "output_type": "stream",
     "text": [
      " 39%|█████████████████████████████████████████▎                                                                | 5839/15000 [35:36<17:08,  8.91it/s]"
     ]
    },
    {
     "name": "stdout",
     "output_type": "stream",
     "text": [
      "Episode 5840/15000\n",
      "Fitnesses: ['-101.48', '-50.22', '-19.25', '-176.44']\n",
      "100 fitness avgs: ['-33.21', '-32.91', '-32.39', '-33.96']\n"
     ]
    },
    {
     "name": "stderr",
     "output_type": "stream",
     "text": [
      " 39%|█████████████████████████████████████████▍                                                                | 5858/15000 [35:39<14:34, 10.45it/s]"
     ]
    },
    {
     "name": "stdout",
     "output_type": "stream",
     "text": [
      "Episode 5860/15000\n",
      "Fitnesses: ['-78.15', '-71.03', '-22.46', '-29.20']\n",
      "100 fitness avgs: ['-33.05', '-33.50', '-33.32', '-33.08']\n"
     ]
    },
    {
     "name": "stderr",
     "output_type": "stream",
     "text": [
      " 39%|█████████████████████████████████████████▌                                                                | 5879/15000 [35:42<17:03,  8.91it/s]"
     ]
    },
    {
     "name": "stdout",
     "output_type": "stream",
     "text": [
      "Episode 5880/15000\n",
      "Fitnesses: ['-68.99', '-4.97', '-137.58', '-17.69']\n",
      "100 fitness avgs: ['-33.90', '-33.26', '-34.59', '-33.39']\n"
     ]
    },
    {
     "name": "stderr",
     "output_type": "stream",
     "text": [
      " 39%|█████████████████████████████████████████▋                                                                | 5899/15000 [35:46<19:02,  7.97it/s]"
     ]
    },
    {
     "name": "stdout",
     "output_type": "stream",
     "text": [
      "Episode 5900/15000\n",
      "Fitnesses: ['-26.52', '-69.33', '-51.51', '-32.91']\n",
      "100 fitness avgs: ['-33.37', '-33.80', '-33.62', '-33.56']\n"
     ]
    },
    {
     "name": "stderr",
     "output_type": "stream",
     "text": [
      " 39%|█████████████████████████████████████████▊                                                                | 5919/15000 [35:50<16:36,  9.11it/s]"
     ]
    },
    {
     "name": "stdout",
     "output_type": "stream",
     "text": [
      "Episode 5920/15000\n",
      "Fitnesses: ['-58.96', '-37.29', '-39.82', '-46.66']\n",
      "100 fitness avgs: ['-33.64', '-33.61', '-33.64', '-33.52']\n"
     ]
    },
    {
     "name": "stderr",
     "output_type": "stream",
     "text": [
      " 40%|█████████████████████████████████████████▉                                                                | 5939/15000 [35:53<16:47,  8.99it/s]"
     ]
    },
    {
     "name": "stdout",
     "output_type": "stream",
     "text": [
      "Episode 5940/15000\n",
      "Fitnesses: ['-113.99', '-4.35', '-165.11', '-20.02']\n",
      "100 fitness avgs: ['-34.41', '-33.34', '-34.93', '-33.38']\n"
     ]
    },
    {
     "name": "stderr",
     "output_type": "stream",
     "text": [
      " 40%|██████████████████████████████████████████                                                                | 5959/15000 [35:58<17:00,  8.86it/s]"
     ]
    },
    {
     "name": "stdout",
     "output_type": "stream",
     "text": [
      "Episode 5960/15000\n",
      "Fitnesses: ['-37.85', '-66.29', '-57.70', '-82.01']\n",
      "100 fitness avgs: ['-33.56', '-33.88', '-34.83', '-34.00']\n"
     ]
    },
    {
     "name": "stderr",
     "output_type": "stream",
     "text": [
      " 40%|██████████████████████████████████████████▏                                                               | 5978/15000 [36:01<17:51,  8.42it/s]"
     ]
    },
    {
     "name": "stdout",
     "output_type": "stream",
     "text": [
      "Episode 5980/15000\n",
      "Fitnesses: ['-159.24', '-205.48', '-174.92', '-50.37']\n",
      "100 fitness avgs: ['-35.05', '-35.83', '-36.48', '-33.97']\n"
     ]
    },
    {
     "name": "stderr",
     "output_type": "stream",
     "text": [
      " 40%|██████████████████████████████████████████▍                                                               | 5999/15000 [36:04<17:05,  8.78it/s]"
     ]
    },
    {
     "name": "stdout",
     "output_type": "stream",
     "text": [
      "Episode 6000/15000\n",
      "Fitnesses: ['-38.57', '-114.91', '-17.38', '-176.77']\n",
      "100 fitness avgs: ['-34.27', '-37.55', '-35.15', '-35.66']\n"
     ]
    },
    {
     "name": "stderr",
     "output_type": "stream",
     "text": [
      " 40%|██████████████████████████████████████████▌                                                               | 6019/15000 [36:08<16:09,  9.26it/s]"
     ]
    },
    {
     "name": "stdout",
     "output_type": "stream",
     "text": [
      "Episode 6020/15000\n",
      "Fitnesses: ['-6.46', '-226.55', '-4.70', '-113.97']\n",
      "100 fitness avgs: ['-35.16', '-37.36', '-35.14', '-36.24']\n"
     ]
    },
    {
     "name": "stderr",
     "output_type": "stream",
     "text": [
      " 40%|██████████████████████████████████████████▋                                                               | 6039/15000 [36:14<14:40, 10.17it/s]"
     ]
    },
    {
     "name": "stdout",
     "output_type": "stream",
     "text": [
      "Episode 6040/15000\n",
      "Fitnesses: ['-22.30', '-32.04', '-26.22', '-164.18']\n",
      "100 fitness avgs: ['-35.28', '-35.37', '-35.32', '-37.79']\n"
     ]
    },
    {
     "name": "stderr",
     "output_type": "stream",
     "text": [
      " 40%|██████████████████████████████████████████▊                                                               | 6059/15000 [36:17<15:03,  9.89it/s]"
     ]
    },
    {
     "name": "stdout",
     "output_type": "stream",
     "text": [
      "Episode 6060/15000\n",
      "Fitnesses: ['-53.99', '-55.60', '-46.09', '-98.31']\n",
      "100 fitness avgs: ['-35.72', '-35.78', '-35.68', '-36.17']\n"
     ]
    },
    {
     "name": "stderr",
     "output_type": "stream",
     "text": [
      " 41%|██████████████████████████████████████████▉                                                               | 6079/15000 [36:20<17:03,  8.71it/s]"
     ]
    },
    {
     "name": "stdout",
     "output_type": "stream",
     "text": [
      "Episode 6080/15000\n",
      "Fitnesses: ['-36.85', '-62.74', '-140.63', '-112.39']\n",
      "100 fitness avgs: ['-35.89', '-36.19', '-36.97', '-36.69']\n"
     ]
    },
    {
     "name": "stderr",
     "output_type": "stream",
     "text": [
      " 41%|███████████████████████████████████████████                                                               | 6099/15000 [36:24<16:17,  9.11it/s]"
     ]
    },
    {
     "name": "stdout",
     "output_type": "stream",
     "text": [
      "Episode 6100/15000\n",
      "Fitnesses: ['-16.70', '-182.76', '-3.17', '-14.74']\n",
      "100 fitness avgs: ['-35.66', '-37.32', '-36.32', '-35.64']\n"
     ]
    },
    {
     "name": "stderr",
     "output_type": "stream",
     "text": [
      " 41%|███████████████████████████████████████████▏                                                              | 6119/15000 [36:27<15:29,  9.55it/s]"
     ]
    },
    {
     "name": "stdout",
     "output_type": "stream",
     "text": [
      "Episode 6120/15000\n",
      "Fitnesses: ['-74.74', '-32.79', '-18.41', '-42.07']\n",
      "100 fitness avgs: ['-36.64', '-35.56', '-35.40', '-36.31']\n"
     ]
    },
    {
     "name": "stderr",
     "output_type": "stream",
     "text": [
      " 41%|███████████████████████████████████████████▍                                                              | 6138/15000 [36:30<17:03,  8.66it/s]"
     ]
    },
    {
     "name": "stdout",
     "output_type": "stream",
     "text": [
      "Episode 6140/15000\n",
      "Fitnesses: ['-56.55', '-151.46', '-2.15', '-6.91']\n",
      "100 fitness avgs: ['-35.12', '-36.07', '-35.49', '-34.79']\n"
     ]
    },
    {
     "name": "stderr",
     "output_type": "stream",
     "text": [
      " 41%|███████████████████████████████████████████▌                                                              | 6158/15000 [36:33<14:29, 10.17it/s]"
     ]
    },
    {
     "name": "stdout",
     "output_type": "stream",
     "text": [
      "Episode 6160/15000\n",
      "Fitnesses: ['-75.56', '-48.19', '-55.17', '-77.43']\n",
      "100 fitness avgs: ['-36.17', '-35.19', '-35.97', '-36.19']\n"
     ]
    },
    {
     "name": "stderr",
     "output_type": "stream",
     "text": [
      " 41%|███████████████████████████████████████████▋                                                              | 6179/15000 [36:38<15:40,  9.38it/s]"
     ]
    },
    {
     "name": "stdout",
     "output_type": "stream",
     "text": [
      "Episode 6180/15000\n",
      "Fitnesses: ['-50.20', '-37.44', '-18.58', '-8.33']\n",
      "100 fitness avgs: ['-35.68', '-35.55', '-35.36', '-36.26']\n"
     ]
    },
    {
     "name": "stderr",
     "output_type": "stream",
     "text": [
      " 41%|███████████████████████████████████████████▊                                                              | 6198/15000 [36:40<15:26,  9.50it/s]"
     ]
    },
    {
     "name": "stdout",
     "output_type": "stream",
     "text": [
      "Episode 6200/15000\n",
      "Fitnesses: ['-134.05', '-54.39', '-21.37', '-14.50']\n",
      "100 fitness avgs: ['-37.57', '-36.78', '-35.55', '-35.48']\n"
     ]
    },
    {
     "name": "stderr",
     "output_type": "stream",
     "text": [
      " 41%|███████████████████████████████████████████▉                                                              | 6219/15000 [36:43<13:20, 10.96it/s]"
     ]
    },
    {
     "name": "stdout",
     "output_type": "stream",
     "text": [
      "Episode 6220/15000\n",
      "Fitnesses: ['-31.86', '-122.03', '-18.27', '-27.04']\n",
      "100 fitness avgs: ['-35.65', '-36.62', '-35.51', '-35.67']\n"
     ]
    },
    {
     "name": "stderr",
     "output_type": "stream",
     "text": [
      " 42%|████████████████████████████████████████████                                                              | 6239/15000 [36:46<13:58, 10.45it/s]"
     ]
    },
    {
     "name": "stdout",
     "output_type": "stream",
     "text": [
      "Episode 6240/15000\n",
      "Fitnesses: ['-92.52', '-120.96', '-1.17', '-15.68']\n",
      "100 fitness avgs: ['-35.98', '-36.40', '-35.07', '-35.37']\n"
     ]
    },
    {
     "name": "stderr",
     "output_type": "stream",
     "text": [
      " 42%|████████████████████████████████████████████▏                                                             | 6259/15000 [36:49<13:15, 10.99it/s]"
     ]
    },
    {
     "name": "stdout",
     "output_type": "stream",
     "text": [
      "Episode 6260/15000\n",
      "Fitnesses: ['-211.91', '-65.95', '-17.65', '-111.85']\n",
      "100 fitness avgs: ['-37.09', '-36.55', '-35.15', '-36.39']\n"
     ]
    },
    {
     "name": "stderr",
     "output_type": "stream",
     "text": [
      " 42%|████████████████████████████████████████████▎                                                             | 6279/15000 [36:51<11:18, 12.86it/s]"
     ]
    },
    {
     "name": "stdout",
     "output_type": "stream",
     "text": [
      "Episode 6280/15000\n",
      "Fitnesses: ['-91.81', '-57.26', '-142.52', '-14.95']\n",
      "100 fitness avgs: ['-35.77', '-36.67', '-37.68', '-35.00']\n"
     ]
    },
    {
     "name": "stderr",
     "output_type": "stream",
     "text": [
      " 42%|████████████████████████████████████████████▌                                                             | 6299/15000 [36:53<12:08, 11.94it/s]"
     ]
    },
    {
     "name": "stdout",
     "output_type": "stream",
     "text": [
      "Episode 6300/15000\n",
      "Fitnesses: ['-2.94', '-1.55', '-6.96', '-84.93']\n",
      "100 fitness avgs: ['-35.00', '-36.65', '-35.04', '-35.82']\n"
     ]
    },
    {
     "name": "stderr",
     "output_type": "stream",
     "text": [
      " 42%|████████████████████████████████████████████▋                                                             | 6319/15000 [36:54<10:41, 13.53it/s]"
     ]
    },
    {
     "name": "stdout",
     "output_type": "stream",
     "text": [
      "Episode 6320/15000\n",
      "Fitnesses: ['-14.35', '-11.49', '-7.21', '-55.21']\n",
      "100 fitness avgs: ['-36.66', '-36.63', '-36.59', '-36.23']\n"
     ]
    },
    {
     "name": "stderr",
     "output_type": "stream",
     "text": [
      " 42%|████████████████████████████████████████████▊                                                             | 6339/15000 [36:56<10:27, 13.81it/s]"
     ]
    },
    {
     "name": "stdout",
     "output_type": "stream",
     "text": [
      "Episode 6340/15000\n",
      "Fitnesses: ['-54.65', '-111.99', '-28.29', '-26.21']\n",
      "100 fitness avgs: ['-37.12', '-37.70', '-36.86', '-36.88']\n"
     ]
    },
    {
     "name": "stderr",
     "output_type": "stream",
     "text": [
      " 42%|████████████████████████████████████████████▉                                                             | 6359/15000 [36:58<10:46, 13.37it/s]"
     ]
    },
    {
     "name": "stdout",
     "output_type": "stream",
     "text": [
      "Episode 6360/15000\n",
      "Fitnesses: ['-19.07', '-17.44', '-51.26', '-8.51']\n",
      "100 fitness avgs: ['-36.63', '-36.62', '-37.20', '-36.51']\n"
     ]
    },
    {
     "name": "stderr",
     "output_type": "stream",
     "text": [
      " 43%|█████████████████████████████████████████████                                                             | 6379/15000 [37:00<10:16, 13.98it/s]"
     ]
    },
    {
     "name": "stdout",
     "output_type": "stream",
     "text": [
      "Episode 6380/15000\n",
      "Fitnesses: ['-14.39', '-7.68', '-61.99', '-12.02']\n",
      "100 fitness avgs: ['-36.49', '-36.53', '-37.08', '-37.16']\n"
     ]
    },
    {
     "name": "stderr",
     "output_type": "stream",
     "text": [
      " 43%|█████████████████████████████████████████████▏                                                            | 6399/15000 [37:01<10:06, 14.18it/s]"
     ]
    },
    {
     "name": "stdout",
     "output_type": "stream",
     "text": [
      "Episode 6400/15000\n",
      "Fitnesses: ['-6.63', '-3.32', '-17.72', '-24.66']\n",
      "100 fitness avgs: ['-36.53', '-36.45', '-37.19', '-36.71']\n"
     ]
    },
    {
     "name": "stderr",
     "output_type": "stream",
     "text": [
      " 43%|█████████████████████████████████████████████▎                                                            | 6419/15000 [37:03<10:19, 13.86it/s]"
     ]
    },
    {
     "name": "stdout",
     "output_type": "stream",
     "text": [
      "Episode 6420/15000\n",
      "Fitnesses: ['-149.07', '-12.31', '-14.05', '-0.86']\n",
      "100 fitness avgs: ['-37.69', '-36.58', '-36.34', '-36.94']\n"
     ]
    },
    {
     "name": "stderr",
     "output_type": "stream",
     "text": [
      " 43%|█████████████████████████████████████████████▌                                                            | 6439/15000 [37:05<10:09, 14.05it/s]"
     ]
    },
    {
     "name": "stdout",
     "output_type": "stream",
     "text": [
      "Episode 6440/15000\n",
      "Fitnesses: ['-15.46', '-131.64', '-69.49', '-62.96']\n",
      "100 fitness avgs: ['-36.96', '-37.52', '-37.14', '-37.07']\n"
     ]
    },
    {
     "name": "stderr",
     "output_type": "stream",
     "text": [
      " 43%|█████████████████████████████████████████████▋                                                            | 6459/15000 [37:07<10:00, 14.22it/s]"
     ]
    },
    {
     "name": "stdout",
     "output_type": "stream",
     "text": [
      "Episode 6460/15000\n",
      "Fitnesses: ['-168.81', '-8.31', '-65.95', '-26.87']\n",
      "100 fitness avgs: ['-38.33', '-37.29', '-37.48', '-37.03']\n"
     ]
    },
    {
     "name": "stderr",
     "output_type": "stream",
     "text": [
      " 43%|█████████████████████████████████████████████▊                                                            | 6479/15000 [37:08<10:42, 13.27it/s]"
     ]
    },
    {
     "name": "stdout",
     "output_type": "stream",
     "text": [
      "Episode 6480/15000\n",
      "Fitnesses: ['-23.51', '-28.22', '-17.79', '-77.72']\n",
      "100 fitness avgs: ['-37.37', '-37.42', '-37.05', '-37.91']\n"
     ]
    },
    {
     "name": "stderr",
     "output_type": "stream",
     "text": [
      " 43%|█████████████████████████████████████████████▉                                                            | 6499/15000 [37:10<10:16, 13.79it/s]"
     ]
    },
    {
     "name": "stdout",
     "output_type": "stream",
     "text": [
      "Episode 6500/15000\n",
      "Fitnesses: ['-2.26', '-8.80', '-96.01', '-19.85']\n",
      "100 fitness avgs: ['-37.03', '-37.41', '-38.28', '-37.21']\n"
     ]
    },
    {
     "name": "stderr",
     "output_type": "stream",
     "text": [
      " 43%|██████████████████████████████████████████████                                                            | 6519/15000 [37:12<09:55, 14.23it/s]"
     ]
    },
    {
     "name": "stdout",
     "output_type": "stream",
     "text": [
      "Episode 6520/15000\n",
      "Fitnesses: ['-15.56', '-61.14', '-77.09', '-19.05']\n",
      "100 fitness avgs: ['-37.15', '-37.61', '-37.95', '-37.57']\n"
     ]
    },
    {
     "name": "stderr",
     "output_type": "stream",
     "text": [
      " 44%|██████████████████████████████████████████████▏                                                           | 6539/15000 [37:14<09:48, 14.38it/s]"
     ]
    },
    {
     "name": "stdout",
     "output_type": "stream",
     "text": [
      "Episode 6540/15000\n",
      "Fitnesses: ['-34.40', '-77.20', '-19.09', '-3.00']\n",
      "100 fitness avgs: ['-37.43', '-38.32', '-37.70', '-37.57']\n"
     ]
    },
    {
     "name": "stderr",
     "output_type": "stream",
     "text": [
      " 44%|██████████████████████████████████████████████▎                                                           | 6559/15000 [37:16<12:30, 11.24it/s]"
     ]
    },
    {
     "name": "stdout",
     "output_type": "stream",
     "text": [
      "Episode 6560/15000\n",
      "Fitnesses: ['-25.38', '-4.05', '-128.15', '-253.06']\n",
      "100 fitness avgs: ['-37.73', '-37.37', '-38.88', '-40.75']\n"
     ]
    },
    {
     "name": "stderr",
     "output_type": "stream",
     "text": [
      " 44%|██████████████████████████████████████████████▍                                                           | 6578/15000 [37:19<14:08,  9.93it/s]"
     ]
    },
    {
     "name": "stdout",
     "output_type": "stream",
     "text": [
      "Episode 6580/15000\n",
      "Fitnesses: ['-146.55', '-207.61', '-11.55', '-17.33']\n",
      "100 fitness avgs: ['-38.19', '-42.17', '-37.19', '-37.25']\n"
     ]
    },
    {
     "name": "stderr",
     "output_type": "stream",
     "text": [
      " 44%|██████████████████████████████████████████████▋                                                           | 6599/15000 [37:24<14:29,  9.66it/s]"
     ]
    },
    {
     "name": "stdout",
     "output_type": "stream",
     "text": [
      "Episode 6600/15000\n",
      "Fitnesses: ['-67.94', '-124.30', '-3.64', '-8.32']\n",
      "100 fitness avgs: ['-37.70', '-38.33', '-38.06', '-37.11']\n"
     ]
    },
    {
     "name": "stderr",
     "output_type": "stream",
     "text": [
      " 44%|██████████████████████████████████████████████▊                                                           | 6618/15000 [37:26<13:08, 10.63it/s]"
     ]
    },
    {
     "name": "stdout",
     "output_type": "stream",
     "text": [
      "Episode 6620/15000\n",
      "Fitnesses: ['-101.07', '-60.80', '-122.96', '-8.74']\n",
      "100 fitness avgs: ['-39.03', '-38.28', '-39.25', '-37.16']\n"
     ]
    },
    {
     "name": "stderr",
     "output_type": "stream",
     "text": [
      " 44%|██████████████████████████████████████████████▉                                                           | 6638/15000 [37:30<13:41, 10.18it/s]"
     ]
    },
    {
     "name": "stdout",
     "output_type": "stream",
     "text": [
      "Episode 6640/15000\n",
      "Fitnesses: ['-31.56', '-6.61', '-62.96', '-105.13']\n",
      "100 fitness avgs: ['-37.36', '-38.23', '-38.79', '-39.97']\n"
     ]
    },
    {
     "name": "stderr",
     "output_type": "stream",
     "text": [
      " 44%|███████████████████████████████████████████████                                                           | 6659/15000 [37:34<15:22,  9.05it/s]"
     ]
    },
    {
     "name": "stdout",
     "output_type": "stream",
     "text": [
      "Episode 6660/15000\n",
      "Fitnesses: ['-57.65', '-164.15', '-48.98', '-92.14']\n",
      "100 fitness avgs: ['-38.73', '-40.36', '-39.21', '-38.21']\n"
     ]
    },
    {
     "name": "stderr",
     "output_type": "stream",
     "text": [
      " 45%|███████████████████████████████████████████████▏                                                          | 6679/15000 [37:37<14:38,  9.47it/s]"
     ]
    },
    {
     "name": "stdout",
     "output_type": "stream",
     "text": [
      "Episode 6680/15000\n",
      "Fitnesses: ['-110.31', '-0.79', '-9.87', '-140.87']\n",
      "100 fitness avgs: ['-40.24', '-38.67', '-39.24', '-40.07']\n"
     ]
    },
    {
     "name": "stderr",
     "output_type": "stream",
     "text": [
      " 45%|███████████████████████████████████████████████▎                                                          | 6699/15000 [37:41<14:54,  9.28it/s]"
     ]
    },
    {
     "name": "stdout",
     "output_type": "stream",
     "text": [
      "Episode 6700/15000\n",
      "Fitnesses: ['-33.83', '-169.76', '-46.07', '-229.91']\n",
      "100 fitness avgs: ['-38.55', '-39.91', '-40.25', '-41.08']\n"
     ]
    },
    {
     "name": "stderr",
     "output_type": "stream",
     "text": [
      " 45%|███████████████████████████████████████████████▍                                                          | 6719/15000 [37:45<14:48,  9.32it/s]"
     ]
    },
    {
     "name": "stdout",
     "output_type": "stream",
     "text": [
      "Episode 6720/15000\n",
      "Fitnesses: ['-37.20', '-76.81', '-104.18', '-105.49']\n",
      "100 fitness avgs: ['-38.65', '-39.05', '-39.32', '-39.33']\n"
     ]
    },
    {
     "name": "stderr",
     "output_type": "stream",
     "text": [
      " 45%|███████████████████████████████████████████████▌                                                          | 6738/15000 [37:48<15:02,  9.16it/s]"
     ]
    },
    {
     "name": "stdout",
     "output_type": "stream",
     "text": [
      "Episode 6740/15000\n",
      "Fitnesses: ['-64.96', '-35.74', '-36.22', '-188.07']\n",
      "100 fitness avgs: ['-39.00', '-38.71', '-38.71', '-40.90']\n"
     ]
    },
    {
     "name": "stderr",
     "output_type": "stream",
     "text": [
      " 45%|███████████████████████████████████████████████▊                                                          | 6759/15000 [37:51<15:24,  8.91it/s]"
     ]
    },
    {
     "name": "stdout",
     "output_type": "stream",
     "text": [
      "Episode 6760/15000\n",
      "Fitnesses: ['-140.00', '-33.24', '-24.15', '-68.28']\n",
      "100 fitness avgs: ['-39.99', '-41.12', '-38.83', '-39.57']\n"
     ]
    },
    {
     "name": "stderr",
     "output_type": "stream",
     "text": [
      " 45%|███████████████████████████████████████████████▉                                                          | 6779/15000 [37:55<14:23,  9.52it/s]"
     ]
    },
    {
     "name": "stdout",
     "output_type": "stream",
     "text": [
      "Episode 6780/15000\n",
      "Fitnesses: ['-5.61', '-66.37', '-49.44', '-39.24']\n",
      "100 fitness avgs: ['-38.84', '-41.73', '-41.56', '-39.18']\n"
     ]
    },
    {
     "name": "stderr",
     "output_type": "stream",
     "text": [
      " 45%|████████████████████████████████████████████████                                                          | 6798/15000 [37:59<15:38,  8.74it/s]"
     ]
    },
    {
     "name": "stdout",
     "output_type": "stream",
     "text": [
      "Episode 6800/15000\n",
      "Fitnesses: ['-531.85', '-96.91', '-108.30', '-120.12']\n",
      "100 fitness avgs: ['-43.96', '-39.61', '-39.72', '-39.84']\n"
     ]
    },
    {
     "name": "stderr",
     "output_type": "stream",
     "text": [
      " 45%|████████████████████████████████████████████████▏                                                         | 6819/15000 [38:03<15:37,  8.72it/s]"
     ]
    },
    {
     "name": "stdout",
     "output_type": "stream",
     "text": [
      "Episode 6820/15000\n",
      "Fitnesses: ['-0.14', '-13.03', '-14.84', '-37.35']\n",
      "100 fitness avgs: ['-39.41', '-39.54', '-39.67', '-44.13']\n"
     ]
    },
    {
     "name": "stderr",
     "output_type": "stream",
     "text": [
      " 46%|████████████████████████████████████████████████▎                                                         | 6839/15000 [38:07<14:59,  9.07it/s]"
     ]
    },
    {
     "name": "stdout",
     "output_type": "stream",
     "text": [
      "Episode 6840/15000\n",
      "Fitnesses: ['-29.88', '-14.80', '-10.68', '-110.99']\n",
      "100 fitness avgs: ['-39.31', '-39.29', '-39.24', '-40.25']\n"
     ]
    },
    {
     "name": "stderr",
     "output_type": "stream",
     "text": [
      " 46%|████████████████████████████████████████████████▍                                                         | 6858/15000 [38:12<16:20,  8.31it/s]"
     ]
    },
    {
     "name": "stdout",
     "output_type": "stream",
     "text": [
      "Episode 6860/15000\n",
      "Fitnesses: ['-15.62', '-175.78', '-3.74', '-93.24']\n",
      "100 fitness avgs: ['-39.35', '-40.99', '-40.24', '-40.17']\n"
     ]
    },
    {
     "name": "stderr",
     "output_type": "stream",
     "text": [
      " 46%|████████████████████████████████████████████████▌                                                         | 6879/15000 [38:16<14:48,  9.14it/s]"
     ]
    },
    {
     "name": "stdout",
     "output_type": "stream",
     "text": [
      "Episode 6880/15000\n",
      "Fitnesses: ['-68.69', '-44.70', '-62.85', '-53.45']\n",
      "100 fitness avgs: ['-40.74', '-40.50', '-40.68', '-40.52']\n"
     ]
    },
    {
     "name": "stderr",
     "output_type": "stream",
     "text": [
      " 46%|████████████████████████████████████████████████▊                                                         | 6899/15000 [38:20<15:20,  8.80it/s]"
     ]
    },
    {
     "name": "stdout",
     "output_type": "stream",
     "text": [
      "Episode 6900/15000\n",
      "Fitnesses: ['-21.14', '-25.25', '-98.72', '-132.38']\n",
      "100 fitness avgs: ['-40.69', '-40.73', '-41.49', '-41.80']\n"
     ]
    },
    {
     "name": "stderr",
     "output_type": "stream",
     "text": [
      " 46%|████████████████████████████████████████████████▉                                                         | 6918/15000 [38:24<15:01,  8.97it/s]"
     ]
    },
    {
     "name": "stdout",
     "output_type": "stream",
     "text": [
      "Episode 6920/15000\n",
      "Fitnesses: ['-80.48', '-47.10', '-38.12', '-8.83']\n",
      "100 fitness avgs: ['-41.26', '-40.93', '-40.88', '-40.55']\n"
     ]
    },
    {
     "name": "stderr",
     "output_type": "stream",
     "text": [
      " 46%|█████████████████████████████████████████████████                                                         | 6939/15000 [38:28<14:14,  9.43it/s]"
     ]
    },
    {
     "name": "stdout",
     "output_type": "stream",
     "text": [
      "Episode 6940/15000\n",
      "Fitnesses: ['-69.67', '-188.88', '-23.56', '-136.73']\n",
      "100 fitness avgs: ['-40.67', '-41.86', '-40.20', '-41.34']\n"
     ]
    },
    {
     "name": "stderr",
     "output_type": "stream",
     "text": [
      " 46%|█████████████████████████████████████████████████▏                                                        | 6959/15000 [38:31<14:59,  8.94it/s]"
     ]
    },
    {
     "name": "stdout",
     "output_type": "stream",
     "text": [
      "Episode 6960/15000\n",
      "Fitnesses: ['-20.60', '-15.47', '-88.06', '-34.30']\n",
      "100 fitness avgs: ['-40.03', '-41.11', '-40.71', '-40.63']\n"
     ]
    },
    {
     "name": "stderr",
     "output_type": "stream",
     "text": [
      " 47%|█████████████████████████████████████████████████▎                                                        | 6979/15000 [38:35<13:37,  9.81it/s]"
     ]
    },
    {
     "name": "stdout",
     "output_type": "stream",
     "text": [
      "Episode 6980/15000\n",
      "Fitnesses: ['-99.70', '-47.68', '-13.96', '-93.72']\n",
      "100 fitness avgs: ['-42.08', '-41.55', '-41.22', '-42.02']\n"
     ]
    },
    {
     "name": "stderr",
     "output_type": "stream",
     "text": [
      " 47%|█████████████████████████████████████████████████▍                                                        | 6999/15000 [38:38<14:27,  9.22it/s]"
     ]
    },
    {
     "name": "stdout",
     "output_type": "stream",
     "text": [
      "Episode 7000/15000\n",
      "Fitnesses: ['-7.53', '-32.08', '-32.64', '-27.79']\n",
      "100 fitness avgs: ['-41.27', '-41.52', '-42.38', '-41.81']\n"
     ]
    },
    {
     "name": "stderr",
     "output_type": "stream",
     "text": [
      " 47%|█████████████████████████████████████████████████▌                                                        | 7018/15000 [38:42<13:51,  9.60it/s]"
     ]
    },
    {
     "name": "stdout",
     "output_type": "stream",
     "text": [
      "Episode 7020/15000\n",
      "Fitnesses: ['-11.85', '-292.20', '-126.16', '-49.52']\n",
      "100 fitness avgs: ['-41.09', '-44.43', '-42.23', '-41.71']\n"
     ]
    },
    {
     "name": "stderr",
     "output_type": "stream",
     "text": [
      " 47%|█████████████████████████████████████████████████▋                                                        | 7039/15000 [38:45<11:43, 11.31it/s]"
     ]
    },
    {
     "name": "stdout",
     "output_type": "stream",
     "text": [
      "Episode 7040/15000\n",
      "Fitnesses: ['-138.60', '-292.77', '-59.79', '-14.91']\n",
      "100 fitness avgs: ['-42.46', '-47.34', '-42.29', '-41.22']\n"
     ]
    },
    {
     "name": "stderr",
     "output_type": "stream",
     "text": [
      " 47%|█████████████████████████████████████████████████▉                                                        | 7058/15000 [38:47<12:36, 10.49it/s]"
     ]
    },
    {
     "name": "stdout",
     "output_type": "stream",
     "text": [
      "Episode 7060/15000\n",
      "Fitnesses: ['-61.96', '-41.55', '-79.41', '-108.35']\n",
      "100 fitness avgs: ['-41.63', '-41.43', '-42.88', '-43.17']\n"
     ]
    },
    {
     "name": "stderr",
     "output_type": "stream",
     "text": [
      " 47%|██████████████████████████████████████████████████                                                        | 7079/15000 [38:49<10:59, 12.02it/s]"
     ]
    },
    {
     "name": "stdout",
     "output_type": "stream",
     "text": [
      "Episode 7080/15000\n",
      "Fitnesses: ['-124.91', '-184.18', '-149.67', '-60.94']\n",
      "100 fitness avgs: ['-42.63', '-44.96', '-43.08', '-41.99']\n"
     ]
    },
    {
     "name": "stderr",
     "output_type": "stream",
     "text": [
      " 47%|██████████████████████████████████████████████████▏                                                       | 7099/15000 [38:51<09:38, 13.65it/s]"
     ]
    },
    {
     "name": "stdout",
     "output_type": "stream",
     "text": [
      "Episode 7100/15000\n",
      "Fitnesses: ['-83.78', '-54.56', '-58.05', '-80.22']\n",
      "100 fitness avgs: ['-42.62', '-42.33', '-43.00', '-42.58']\n"
     ]
    },
    {
     "name": "stderr",
     "output_type": "stream",
     "text": [
      " 47%|██████████████████████████████████████████████████▎                                                       | 7119/15000 [38:53<10:08, 12.95it/s]"
     ]
    },
    {
     "name": "stdout",
     "output_type": "stream",
     "text": [
      "Episode 7120/15000\n",
      "Fitnesses: ['-76.54', '-28.53', '-25.59', '-76.38']\n",
      "100 fitness avgs: ['-43.02', '-43.22', '-43.19', '-43.31']\n"
     ]
    },
    {
     "name": "stderr",
     "output_type": "stream",
     "text": [
      " 48%|██████████████████████████████████████████████████▍                                                       | 7139/15000 [38:55<10:03, 13.02it/s]"
     ]
    },
    {
     "name": "stdout",
     "output_type": "stream",
     "text": [
      "Episode 7140/15000\n",
      "Fitnesses: ['-31.55', '-63.59', '-16.55', '-17.67']\n",
      "100 fitness avgs: ['-43.08', '-43.43', '-42.76', '-42.94']\n"
     ]
    },
    {
     "name": "stderr",
     "output_type": "stream",
     "text": [
      " 48%|██████████████████████████████████████████████████▌                                                       | 7159/15000 [38:57<09:12, 14.20it/s]"
     ]
    },
    {
     "name": "stdout",
     "output_type": "stream",
     "text": [
      "Episode 7160/15000\n",
      "Fitnesses: ['-107.09', '-3.72', '-3.69', '-35.45']\n",
      "100 fitness avgs: ['-43.20', '-42.48', '-42.34', '-42.66']\n"
     ]
    },
    {
     "name": "stderr",
     "output_type": "stream",
     "text": [
      " 48%|██████████████████████████████████████████████████▋                                                       | 7179/15000 [38:58<09:26, 13.81it/s]"
     ]
    },
    {
     "name": "stdout",
     "output_type": "stream",
     "text": [
      "Episode 7180/15000\n",
      "Fitnesses: ['-36.30', '-57.91', '-53.98', '-27.20']\n",
      "100 fitness avgs: ['-42.46', '-42.99', '-42.77', '-43.23']\n"
     ]
    },
    {
     "name": "stderr",
     "output_type": "stream",
     "text": [
      " 48%|██████████████████████████████████████████████████▊                                                       | 7199/15000 [39:00<10:06, 12.87it/s]"
     ]
    },
    {
     "name": "stdout",
     "output_type": "stream",
     "text": [
      "Episode 7200/15000\n",
      "Fitnesses: ['-130.25', '-28.35', '-40.20', '-203.71']\n",
      "100 fitness avgs: ['-44.46', '-42.67', '-42.79', '-44.43']\n"
     ]
    },
    {
     "name": "stderr",
     "output_type": "stream",
     "text": [
      " 48%|███████████████████████████████████████████████████                                                       | 7219/15000 [39:02<09:02, 14.35it/s]"
     ]
    },
    {
     "name": "stdout",
     "output_type": "stream",
     "text": [
      "Episode 7220/15000\n",
      "Fitnesses: ['-44.25', '-41.17', '-19.93', '-116.77']\n",
      "100 fitness avgs: ['-43.05', '-43.14', '-42.92', '-43.77']\n"
     ]
    },
    {
     "name": "stderr",
     "output_type": "stream",
     "text": [
      " 48%|███████████████████████████████████████████████████▏                                                      | 7239/15000 [39:04<10:07, 12.77it/s]"
     ]
    },
    {
     "name": "stdout",
     "output_type": "stream",
     "text": [
      "Episode 7240/15000\n",
      "Fitnesses: ['-71.05', '-34.56', '-94.88', '-72.77']\n",
      "100 fitness avgs: ['-43.56', '-43.41', '-43.80', '-43.58']\n"
     ]
    },
    {
     "name": "stderr",
     "output_type": "stream",
     "text": [
      " 48%|███████████████████████████████████████████████████▎                                                      | 7259/15000 [39:06<09:28, 13.61it/s]"
     ]
    },
    {
     "name": "stdout",
     "output_type": "stream",
     "text": [
      "Episode 7260/15000\n",
      "Fitnesses: ['-208.64', '-48.04', '-10.59', '-172.89']\n",
      "100 fitness avgs: ['-45.35', '-43.89', '-43.76', '-45.14']\n"
     ]
    },
    {
     "name": "stderr",
     "output_type": "stream",
     "text": [
      " 49%|███████████████████████████████████████████████████▍                                                      | 7279/15000 [39:07<10:44, 11.97it/s]"
     ]
    },
    {
     "name": "stdout",
     "output_type": "stream",
     "text": [
      "Episode 7280/15000\n",
      "Fitnesses: ['-77.81', '-1.09', '-107.53', '-69.37']\n",
      "100 fitness avgs: ['-43.76', '-42.99', '-44.06', '-43.81']\n"
     ]
    },
    {
     "name": "stderr",
     "output_type": "stream",
     "text": [
      " 49%|███████████████████████████████████████████████████▌                                                      | 7299/15000 [39:09<09:33, 13.43it/s]"
     ]
    },
    {
     "name": "stdout",
     "output_type": "stream",
     "text": [
      "Episode 7300/15000\n",
      "Fitnesses: ['-67.58', '-42.22', '-154.22', '-91.92']\n",
      "100 fitness avgs: ['-43.44', '-44.01', '-44.31', '-43.69']\n"
     ]
    },
    {
     "name": "stderr",
     "output_type": "stream",
     "text": [
      " 49%|███████████████████████████████████████████████████▋                                                      | 7319/15000 [39:11<09:13, 13.89it/s]"
     ]
    },
    {
     "name": "stdout",
     "output_type": "stream",
     "text": [
      "Episode 7320/15000\n",
      "Fitnesses: ['-30.58', '-286.35', '-582.28', '-23.22']\n",
      "100 fitness avgs: ['-42.97', '-45.53', '-48.79', '-42.33']\n"
     ]
    },
    {
     "name": "stderr",
     "output_type": "stream",
     "text": [
      " 49%|███████████████████████████████████████████████████▊                                                      | 7339/15000 [39:13<09:38, 13.23it/s]"
     ]
    },
    {
     "name": "stdout",
     "output_type": "stream",
     "text": [
      "Episode 7340/15000\n",
      "Fitnesses: ['-20.07', '-100.30', '-31.43', '-42.76']\n",
      "100 fitness avgs: ['-41.53', '-42.33', '-44.84', '-42.39']\n"
     ]
    },
    {
     "name": "stderr",
     "output_type": "stream",
     "text": [
      " 49%|████████████████████████████████████████████████████                                                      | 7359/15000 [39:15<09:43, 13.11it/s]"
     ]
    },
    {
     "name": "stdout",
     "output_type": "stream",
     "text": [
      "Episode 7360/15000\n",
      "Fitnesses: ['-114.01', '-7.41', '-16.67', '-5.26']\n",
      "100 fitness avgs: ['-39.02', '-38.82', '-38.05', '-37.93']\n"
     ]
    },
    {
     "name": "stderr",
     "output_type": "stream",
     "text": [
      " 49%|████████████████████████████████████████████████████▏                                                     | 7379/15000 [39:16<09:11, 13.83it/s]"
     ]
    },
    {
     "name": "stdout",
     "output_type": "stream",
     "text": [
      "Episode 7380/15000\n",
      "Fitnesses: ['-116.12', '-43.69', '-98.49', '-18.13']\n",
      "100 fitness avgs: ['-37.24', '-37.41', '-37.18', '-36.26']\n"
     ]
    },
    {
     "name": "stderr",
     "output_type": "stream",
     "text": [
      " 49%|████████████████████████████████████████████████████▎                                                     | 7399/15000 [39:18<09:13, 13.73it/s]"
     ]
    },
    {
     "name": "stdout",
     "output_type": "stream",
     "text": [
      "Episode 7400/15000\n",
      "Fitnesses: ['-26.06', '-106.33', '-72.45', '-81.14']\n",
      "100 fitness avgs: ['-35.88', '-37.83', '-37.49', '-37.35']\n"
     ]
    },
    {
     "name": "stderr",
     "output_type": "stream",
     "text": [
      " 49%|████████████████████████████████████████████████████▍                                                     | 7419/15000 [39:20<09:01, 14.00it/s]"
     ]
    },
    {
     "name": "stdout",
     "output_type": "stream",
     "text": [
      "Episode 7420/15000\n",
      "Fitnesses: ['-236.67', '-192.35', '-9.91', '-27.59']\n",
      "100 fitness avgs: ['-37.75', '-37.31', '-37.09', '-37.27']\n"
     ]
    },
    {
     "name": "stderr",
     "output_type": "stream",
     "text": [
      " 50%|████████████████████████████████████████████████████▌                                                     | 7439/15000 [39:22<09:27, 13.31it/s]"
     ]
    },
    {
     "name": "stdout",
     "output_type": "stream",
     "text": [
      "Episode 7440/15000\n",
      "Fitnesses: ['-44.49', '-27.84', '-20.86', '-105.49']\n",
      "100 fitness avgs: ['-36.53', '-36.37', '-36.47', '-37.36']\n"
     ]
    },
    {
     "name": "stderr",
     "output_type": "stream",
     "text": [
      " 50%|████████████████████████████████████████████████████▋                                                     | 7459/15000 [39:24<09:34, 13.14it/s]"
     ]
    },
    {
     "name": "stdout",
     "output_type": "stream",
     "text": [
      "Episode 7460/15000\n",
      "Fitnesses: ['-47.19', '-17.69', '-70.25', '-21.74']\n",
      "100 fitness avgs: ['-36.91', '-36.51', '-38.03', '-36.71']\n"
     ]
    },
    {
     "name": "stderr",
     "output_type": "stream",
     "text": [
      " 50%|████████████████████████████████████████████████████▊                                                     | 7479/15000 [39:25<08:50, 14.19it/s]"
     ]
    },
    {
     "name": "stdout",
     "output_type": "stream",
     "text": [
      "Episode 7480/15000\n",
      "Fitnesses: ['-175.01', '-25.48', '-84.35', '-199.84']\n",
      "100 fitness avgs: ['-38.08', '-36.59', '-37.17', '-38.73']\n"
     ]
    },
    {
     "name": "stderr",
     "output_type": "stream",
     "text": [
      " 50%|████████████████████████████████████████████████████▉                                                     | 7499/15000 [39:27<09:37, 12.99it/s]"
     ]
    },
    {
     "name": "stdout",
     "output_type": "stream",
     "text": [
      "Episode 7500/15000\n",
      "Fitnesses: ['-82.87', '-6.36', '-169.77', '-90.34']\n",
      "100 fitness avgs: ['-37.08', '-36.32', '-38.54', '-37.16']\n"
     ]
    },
    {
     "name": "stderr",
     "output_type": "stream",
     "text": [
      " 50%|█████████████████████████████████████████████████████▏                                                    | 7519/15000 [39:29<08:30, 14.66it/s]"
     ]
    },
    {
     "name": "stdout",
     "output_type": "stream",
     "text": [
      "Episode 7520/15000\n",
      "Fitnesses: ['-46.95', '-255.42', '-89.16', '-169.75']\n",
      "100 fitness avgs: ['-36.36', '-39.21', '-37.62', '-37.59']\n"
     ]
    },
    {
     "name": "stderr",
     "output_type": "stream",
     "text": [
      " 50%|█████████████████████████████████████████████████████▎                                                    | 7539/15000 [39:31<09:12, 13.50it/s]"
     ]
    },
    {
     "name": "stdout",
     "output_type": "stream",
     "text": [
      "Episode 7540/15000\n",
      "Fitnesses: ['-38.09', '-75.00', '-4.76', '-90.99']\n",
      "100 fitness avgs: ['-36.39', '-37.99', '-36.06', '-36.92']\n"
     ]
    },
    {
     "name": "stderr",
     "output_type": "stream",
     "text": [
      " 50%|█████████████████████████████████████████████████████▍                                                    | 7559/15000 [39:32<09:04, 13.67it/s]"
     ]
    },
    {
     "name": "stdout",
     "output_type": "stream",
     "text": [
      "Episode 7560/15000\n",
      "Fitnesses: ['-21.49', '-71.30', '-103.84', '-2.20']\n",
      "100 fitness avgs: ['-36.08', '-36.91', '-36.90', '-37.82']\n"
     ]
    },
    {
     "name": "stderr",
     "output_type": "stream",
     "text": [
      " 51%|█████████████████████████████████████████████████████▌                                                    | 7579/15000 [39:34<09:16, 13.34it/s]"
     ]
    },
    {
     "name": "stdout",
     "output_type": "stream",
     "text": [
      "Episode 7580/15000\n",
      "Fitnesses: ['-53.88', '-235.90', '-523.66', '-67.23']\n",
      "100 fitness avgs: ['-36.66', '-37.57', '-41.36', '-36.80']\n"
     ]
    },
    {
     "name": "stderr",
     "output_type": "stream",
     "text": [
      " 51%|█████████████████████████████████████████████████████▋                                                    | 7599/15000 [39:36<09:08, 13.49it/s]"
     ]
    },
    {
     "name": "stdout",
     "output_type": "stream",
     "text": [
      "Episode 7600/15000\n",
      "Fitnesses: ['-238.12', '-196.68', '-87.11', '-253.79']\n",
      "100 fitness avgs: ['-38.84', '-38.43', '-38.24', '-39.00']\n"
     ]
    },
    {
     "name": "stderr",
     "output_type": "stream",
     "text": [
      " 51%|█████████████████████████████████████████████████████▊                                                    | 7619/15000 [39:38<09:16, 13.25it/s]"
     ]
    },
    {
     "name": "stdout",
     "output_type": "stream",
     "text": [
      "Episode 7620/15000\n",
      "Fitnesses: ['-65.19', '-427.98', '-83.63', '-492.50']\n",
      "100 fitness avgs: ['-38.72', '-42.54', '-38.91', '-43.60']\n"
     ]
    },
    {
     "name": "stderr",
     "output_type": "stream",
     "text": [
      " 51%|█████████████████████████████████████████████████████▉                                                    | 7639/15000 [39:40<09:11, 13.36it/s]"
     ]
    },
    {
     "name": "stdout",
     "output_type": "stream",
     "text": [
      "Episode 7640/15000\n",
      "Fitnesses: ['-312.30', '-105.78', '-107.10', '-148.80']\n",
      "100 fitness avgs: ['-41.32', '-39.25', '-39.27', '-39.68']\n"
     ]
    },
    {
     "name": "stderr",
     "output_type": "stream",
     "text": [
      " 51%|██████████████████████████████████████████████████████                                                    | 7659/15000 [39:41<09:11, 13.31it/s]"
     ]
    },
    {
     "name": "stdout",
     "output_type": "stream",
     "text": [
      "Episode 7660/15000\n",
      "Fitnesses: ['-125.71', '-15.41', '-140.40', '-185.04']\n",
      "100 fitness avgs: ['-40.50', '-39.40', '-41.08', '-41.09']\n"
     ]
    },
    {
     "name": "stderr",
     "output_type": "stream",
     "text": [
      " 51%|██████████████████████████████████████████████████████▎                                                   | 7679/15000 [39:43<08:50, 13.81it/s]"
     ]
    },
    {
     "name": "stdout",
     "output_type": "stream",
     "text": [
      "Episode 7680/15000\n",
      "Fitnesses: ['-135.48', '-252.90', '-129.07', '-33.42']\n",
      "100 fitness avgs: ['-40.03', '-41.21', '-39.97', '-39.01']\n"
     ]
    },
    {
     "name": "stderr",
     "output_type": "stream",
     "text": [
      " 51%|██████████████████████████████████████████████████████▍                                                   | 7699/15000 [39:45<08:29, 14.34it/s]"
     ]
    },
    {
     "name": "stdout",
     "output_type": "stream",
     "text": [
      "Episode 7700/15000\n",
      "Fitnesses: ['-261.10', '-326.42', '-20.25', '-62.80']\n",
      "100 fitness avgs: ['-41.17', '-41.82', '-39.72', '-39.18']\n"
     ]
    },
    {
     "name": "stderr",
     "output_type": "stream",
     "text": [
      " 51%|██████████████████████████████████████████████████████▌                                                   | 7719/15000 [39:47<08:36, 14.10it/s]"
     ]
    },
    {
     "name": "stdout",
     "output_type": "stream",
     "text": [
      "Episode 7720/15000\n",
      "Fitnesses: ['-106.39', '-96.81', '-94.47', '-437.42']\n",
      "100 fitness avgs: ['-40.01', '-42.02', '-39.89', '-44.78']\n"
     ]
    },
    {
     "name": "stderr",
     "output_type": "stream",
     "text": [
      " 52%|██████████████████████████████████████████████████████▋                                                   | 7739/15000 [39:48<08:41, 13.92it/s]"
     ]
    },
    {
     "name": "stdout",
     "output_type": "stream",
     "text": [
      "Episode 7740/15000\n",
      "Fitnesses: ['-200.12', '-91.41', '-392.33', '-103.06']\n",
      "100 fitness avgs: ['-41.35', '-42.39', '-43.27', '-40.38']\n"
     ]
    },
    {
     "name": "stderr",
     "output_type": "stream",
     "text": [
      " 52%|██████████████████████████████████████████████████████▊                                                   | 7759/15000 [39:50<08:13, 14.67it/s]"
     ]
    },
    {
     "name": "stdout",
     "output_type": "stream",
     "text": [
      "Episode 7760/15000\n",
      "Fitnesses: ['-342.25', '-280.90', '-129.59', '-162.02']\n",
      "100 fitness avgs: ['-45.78', '-44.12', '-41.64', '-42.93']\n"
     ]
    },
    {
     "name": "stderr",
     "output_type": "stream",
     "text": [
      " 52%|██████████████████████████████████████████████████████▉                                                   | 7779/15000 [39:52<09:02, 13.31it/s]"
     ]
    },
    {
     "name": "stdout",
     "output_type": "stream",
     "text": [
      "Episode 7780/15000\n",
      "Fitnesses: ['-625.02', '-2.06', '-144.50', '-27.25']\n",
      "100 fitness avgs: ['-47.84', '-41.61', '-44.33', '-41.86']\n"
     ]
    },
    {
     "name": "stderr",
     "output_type": "stream",
     "text": [
      " 52%|███████████████████████████████████████████████████████                                                   | 7799/15000 [39:53<08:41, 13.82it/s]"
     ]
    },
    {
     "name": "stdout",
     "output_type": "stream",
     "text": [
      "Episode 7800/15000\n",
      "Fitnesses: ['-206.55', '-152.09', '-20.31', '-432.73']\n",
      "100 fitness avgs: ['-43.41', '-42.87', '-41.55', '-48.40']\n"
     ]
    },
    {
     "name": "stderr",
     "output_type": "stream",
     "text": [
      " 52%|███████████████████████████████████████████████████████▎                                                  | 7819/15000 [39:55<09:10, 13.05it/s]"
     ]
    },
    {
     "name": "stdout",
     "output_type": "stream",
     "text": [
      "Episode 7820/15000\n",
      "Fitnesses: ['-64.15', '-345.18', '-3.13', '-184.36']\n",
      "100 fitness avgs: ['-41.56', '-46.24', '-42.27', '-42.77']\n"
     ]
    },
    {
     "name": "stderr",
     "output_type": "stream",
     "text": [
      " 52%|███████████████████████████████████████████████████████▍                                                  | 7839/15000 [39:57<08:55, 13.38it/s]"
     ]
    },
    {
     "name": "stdout",
     "output_type": "stream",
     "text": [
      "Episode 7840/15000\n",
      "Fitnesses: ['-17.90', '-391.96', '-141.80', '-316.45']\n",
      "100 fitness avgs: ['-41.44', '-45.18', '-43.17', '-43.71']\n"
     ]
    },
    {
     "name": "stderr",
     "output_type": "stream",
     "text": [
      " 52%|███████████████████████████████████████████████████████▌                                                  | 7859/15000 [39:59<08:44, 13.60it/s]"
     ]
    },
    {
     "name": "stdout",
     "output_type": "stream",
     "text": [
      "Episode 7860/15000\n",
      "Fitnesses: ['-203.90', '-187.89', '-64.99', '-9.79']\n",
      "100 fitness avgs: ['-43.25', '-43.09', '-44.14', '-43.59']\n"
     ]
    },
    {
     "name": "stderr",
     "output_type": "stream",
     "text": [
      " 53%|███████████████████████████████████████████████████████▋                                                  | 7879/15000 [40:01<08:38, 13.73it/s]"
     ]
    },
    {
     "name": "stdout",
     "output_type": "stream",
     "text": [
      "Episode 7880/15000\n",
      "Fitnesses: ['-202.65', '-138.57', '-167.00', '-46.65']\n",
      "100 fitness avgs: ['-45.56', '-44.43', '-45.21', '-44.56']\n"
     ]
    },
    {
     "name": "stderr",
     "output_type": "stream",
     "text": [
      " 53%|███████████████████████████████████████████████████████▊                                                  | 7899/15000 [40:02<08:33, 13.83it/s]"
     ]
    },
    {
     "name": "stdout",
     "output_type": "stream",
     "text": [
      "Episode 7900/15000\n",
      "Fitnesses: ['-362.16', '-467.46', '-180.22', '-198.78']\n",
      "100 fitness avgs: ['-47.91', '-48.97', '-45.96', '-46.15']\n"
     ]
    },
    {
     "name": "stderr",
     "output_type": "stream",
     "text": [
      " 53%|███████████████████████████████████████████████████████▉                                                  | 7919/15000 [40:04<08:59, 13.12it/s]"
     ]
    },
    {
     "name": "stdout",
     "output_type": "stream",
     "text": [
      "Episode 7920/15000\n",
      "Fitnesses: ['-562.19', '-50.40', '-544.19', '-478.48']\n",
      "100 fitness avgs: ['-51.00', '-45.88', '-51.00', '-52.11']\n"
     ]
    },
    {
     "name": "stderr",
     "output_type": "stream",
     "text": [
      " 53%|████████████████████████████████████████████████████████                                                  | 7939/15000 [40:06<08:41, 13.54it/s]"
     ]
    },
    {
     "name": "stdout",
     "output_type": "stream",
     "text": [
      "Episode 7940/15000\n",
      "Fitnesses: ['-26.78', '-148.74', '-79.15', '-68.30']\n",
      "100 fitness avgs: ['-46.10', '-47.32', '-46.63', '-46.52']\n"
     ]
    },
    {
     "name": "stderr",
     "output_type": "stream",
     "text": [
      " 53%|████████████████████████████████████████████████████████▏                                                 | 7959/15000 [40:08<09:05, 12.90it/s]"
     ]
    },
    {
     "name": "stdout",
     "output_type": "stream",
     "text": [
      "Episode 7960/15000\n",
      "Fitnesses: ['-492.30', '-18.97', '-62.23', '-608.72']\n",
      "100 fitness avgs: ['-50.65', '-45.91', '-46.76', '-51.81']\n"
     ]
    },
    {
     "name": "stderr",
     "output_type": "stream",
     "text": [
      " 53%|████████████████████████████████████████████████████████▍                                                 | 7979/15000 [40:11<10:55, 10.72it/s]"
     ]
    },
    {
     "name": "stdout",
     "output_type": "stream",
     "text": [
      "Episode 7980/15000\n",
      "Fitnesses: ['-376.48', '-333.33', '-173.41', '-606.96']\n",
      "100 fitness avgs: ['-48.09', '-48.50', '-51.95', '-50.39']\n"
     ]
    },
    {
     "name": "stderr",
     "output_type": "stream",
     "text": [
      " 53%|████████████████████████████████████████████████████████▌                                                 | 7999/15000 [40:13<08:46, 13.29it/s]"
     ]
    },
    {
     "name": "stdout",
     "output_type": "stream",
     "text": [
      "Episode 8000/15000\n",
      "Fitnesses: ['-25.92', '-53.30', '-75.97', '-128.23']\n",
      "100 fitness avgs: ['-52.04', '-48.45', '-48.67', '-53.06']\n"
     ]
    },
    {
     "name": "stderr",
     "output_type": "stream",
     "text": [
      " 53%|████████████████████████████████████████████████████████▋                                                 | 8019/15000 [40:15<11:08, 10.45it/s]"
     ]
    },
    {
     "name": "stdout",
     "output_type": "stream",
     "text": [
      "Episode 8020/15000\n",
      "Fitnesses: ['-78.58', '-792.58', '-16.15', '-204.45']\n",
      "100 fitness avgs: ['-52.78', '-56.32', '-52.15', '-54.04']\n"
     ]
    },
    {
     "name": "stderr",
     "output_type": "stream",
     "text": [
      " 54%|████████████████████████████████████████████████████████▊                                                 | 8039/15000 [40:18<11:22, 10.20it/s]"
     ]
    },
    {
     "name": "stdout",
     "output_type": "stream",
     "text": [
      "Episode 8040/15000\n",
      "Fitnesses: ['-273.05', '-351.48', '-49.08', '-1006.89']\n",
      "100 fitness avgs: ['-54.62', '-56.03', '-52.38', '-66.13']\n"
     ]
    },
    {
     "name": "stderr",
     "output_type": "stream",
     "text": [
      " 54%|████████████████████████████████████████████████████████▉                                                 | 8058/15000 [40:22<13:44,  8.42it/s]"
     ]
    },
    {
     "name": "stdout",
     "output_type": "stream",
     "text": [
      "Episode 8060/15000\n",
      "Fitnesses: ['-0.28', '-326.63', '-61.19', '-161.41']\n",
      "100 fitness avgs: ['-51.92', '-55.19', '-54.77', '-57.18']\n"
     ]
    },
    {
     "name": "stderr",
     "output_type": "stream",
     "text": [
      " 54%|█████████████████████████████████████████████████████████                                                 | 8079/15000 [40:27<11:36,  9.94it/s]"
     ]
    },
    {
     "name": "stdout",
     "output_type": "stream",
     "text": [
      "Episode 8080/15000\n",
      "Fitnesses: ['-104.67', '-273.91', '-0.87', '-223.15']\n",
      "100 fitness avgs: ['-52.60', '-54.29', '-51.56', '-53.79']\n"
     ]
    },
    {
     "name": "stderr",
     "output_type": "stream",
     "text": [
      " 54%|█████████████████████████████████████████████████████████▏                                                | 8098/15000 [40:30<10:46, 10.68it/s]"
     ]
    },
    {
     "name": "stdout",
     "output_type": "stream",
     "text": [
      "Episode 8100/15000\n",
      "Fitnesses: ['-11.69', '-70.17', '-6.35', '-136.14']\n",
      "100 fitness avgs: ['-51.51', '-52.10', '-53.68', '-53.80']\n"
     ]
    },
    {
     "name": "stderr",
     "output_type": "stream",
     "text": [
      " 54%|█████████████████████████████████████████████████████████▎                                                | 8119/15000 [40:33<11:06, 10.32it/s]"
     ]
    },
    {
     "name": "stdout",
     "output_type": "stream",
     "text": [
      "Episode 8120/15000\n",
      "Fitnesses: ['-115.17', '-326.94', '-78.80', '-139.52']\n",
      "100 fitness avgs: ['-54.51', '-56.62', '-54.26', '-54.75']\n"
     ]
    },
    {
     "name": "stderr",
     "output_type": "stream",
     "text": [
      " 54%|█████████████████████████████████████████████████████████▌                                                | 8139/15000 [40:38<11:44,  9.74it/s]"
     ]
    },
    {
     "name": "stdout",
     "output_type": "stream",
     "text": [
      "Episode 8140/15000\n",
      "Fitnesses: ['-465.54', '-103.93', '-41.64', '-530.61']\n",
      "100 fitness avgs: ['-58.84', '-55.48', '-54.60', '-59.99']\n"
     ]
    },
    {
     "name": "stderr",
     "output_type": "stream",
     "text": [
      " 54%|█████████████████████████████████████████████████████████▋                                                | 8159/15000 [40:42<11:59,  9.51it/s]"
     ]
    },
    {
     "name": "stdout",
     "output_type": "stream",
     "text": [
      "Episode 8160/15000\n",
      "Fitnesses: ['-88.01', '-176.50', '-287.35', '-241.51']\n",
      "100 fitness avgs: ['-55.00', '-60.13', '-57.00', '-56.54']\n"
     ]
    },
    {
     "name": "stderr",
     "output_type": "stream",
     "text": [
      " 55%|█████████████████████████████████████████████████████████▊                                                | 8178/15000 [40:45<10:58, 10.36it/s]"
     ]
    },
    {
     "name": "stdout",
     "output_type": "stream",
     "text": [
      "Episode 8180/15000\n",
      "Fitnesses: ['-2.29', '-650.86', '-532.07', '-32.02']\n",
      "100 fitness avgs: ['-54.84', '-61.32', '-65.26', '-55.14']\n"
     ]
    },
    {
     "name": "stderr",
     "output_type": "stream",
     "text": [
      " 55%|█████████████████████████████████████████████████████████▉                                                | 8199/15000 [40:48<12:03,  9.40it/s]"
     ]
    },
    {
     "name": "stdout",
     "output_type": "stream",
     "text": [
      "Episode 8200/15000\n",
      "Fitnesses: ['-32.41', '-357.04', '-23.39', '-4.36']\n",
      "100 fitness avgs: ['-54.95', '-68.62', '-55.16', '-54.67']\n"
     ]
    },
    {
     "name": "stderr",
     "output_type": "stream",
     "text": [
      " 55%|██████████████████████████████████████████████████████████                                                | 8218/15000 [40:52<11:11, 10.10it/s]"
     ]
    },
    {
     "name": "stdout",
     "output_type": "stream",
     "text": [
      "Episode 8220/15000\n",
      "Fitnesses: ['-37.25', '-651.43', '-19.39', '-132.43']\n",
      "100 fitness avgs: ['-54.77', '-61.40', '-54.59', '-56.00']\n"
     ]
    },
    {
     "name": "stderr",
     "output_type": "stream",
     "text": [
      " 55%|██████████████████████████████████████████████████████████▏                                               | 8239/15000 [40:55<11:05, 10.16it/s]"
     ]
    },
    {
     "name": "stdout",
     "output_type": "stream",
     "text": [
      "Episode 8240/15000\n",
      "Fitnesses: ['-520.80', '-176.26', '-86.87', '-280.67']\n",
      "100 fitness avgs: ['-59.64', '-56.20', '-62.11', '-57.42']\n"
     ]
    },
    {
     "name": "stderr",
     "output_type": "stream",
     "text": [
      " 55%|██████████████████████████████████████████████████████████▎                                               | 8259/15000 [40:57<08:47, 12.79it/s]"
     ]
    },
    {
     "name": "stdout",
     "output_type": "stream",
     "text": [
      "Episode 8260/15000\n",
      "Fitnesses: ['-270.12', '-112.63', '-284.77', '-394.00']\n",
      "100 fitness avgs: ['-63.70', '-62.12', '-57.93', '-64.93']\n"
     ]
    },
    {
     "name": "stderr",
     "output_type": "stream",
     "text": [
      " 55%|██████████████████████████████████████████████████████████▌                                               | 8279/15000 [40:59<08:44, 12.80it/s]"
     ]
    },
    {
     "name": "stdout",
     "output_type": "stream",
     "text": [
      "Episode 8280/15000\n",
      "Fitnesses: ['-483.88', '-291.04', '-84.13', '-908.37']\n",
      "100 fitness avgs: ['-66.39', '-64.46', '-62.39', '-72.21']\n"
     ]
    },
    {
     "name": "stderr",
     "output_type": "stream",
     "text": [
      " 55%|██████████████████████████████████████████████████████████▋                                               | 8299/15000 [41:01<08:28, 13.17it/s]"
     ]
    },
    {
     "name": "stdout",
     "output_type": "stream",
     "text": [
      "Episode 8300/15000\n",
      "Fitnesses: ['-677.23', '-1230.96', '-46.36', '-997.27']\n",
      "100 fitness avgs: ['-69.15', '-76.75', '-66.83', '-72.35']\n"
     ]
    },
    {
     "name": "stderr",
     "output_type": "stream",
     "text": [
      " 55%|██████████████████████████████████████████████████████████▊                                               | 8319/15000 [41:03<08:09, 13.65it/s]"
     ]
    },
    {
     "name": "stdout",
     "output_type": "stream",
     "text": [
      "Episode 8320/15000\n",
      "Fitnesses: ['-323.51', '-154.74', '-561.71', '-9.17']\n",
      "100 fitness avgs: ['-69.95', '-68.27', '-72.34', '-72.32']\n"
     ]
    },
    {
     "name": "stderr",
     "output_type": "stream",
     "text": [
      " 56%|██████████████████████████████████████████████████████████▉                                               | 8339/15000 [41:04<08:06, 13.68it/s]"
     ]
    },
    {
     "name": "stdout",
     "output_type": "stream",
     "text": [
      "Episode 8340/15000\n",
      "Fitnesses: ['-332.44', '-454.50', '-683.33', '-304.71']\n",
      "100 fitness avgs: ['-75.39', '-76.61', '-74.84', '-72.74']\n"
     ]
    },
    {
     "name": "stderr",
     "output_type": "stream",
     "text": [
      " 56%|███████████████████████████████████████████████████████████                                               | 8359/15000 [41:06<11:16,  9.82it/s]"
     ]
    },
    {
     "name": "stdout",
     "output_type": "stream",
     "text": [
      "Episode 8360/15000\n",
      "Fitnesses: ['-752.16', '-206.70', '-298.47', '-179.34']\n",
      "100 fitness avgs: ['-80.09', '-77.28', '-78.20', '-74.36']\n"
     ]
    },
    {
     "name": "stderr",
     "output_type": "stream",
     "text": [
      " 56%|███████████████████████████████████████████████████████████▏                                              | 8379/15000 [41:10<15:39,  7.05it/s]"
     ]
    },
    {
     "name": "stdout",
     "output_type": "stream",
     "text": [
      "Episode 8380/15000\n",
      "Fitnesses: ['-552.73', '-2.03', '-550.91', '-9.72']\n",
      "100 fitness avgs: ['-79.81', '-78.14', '-85.52', '-80.11']\n"
     ]
    },
    {
     "name": "stderr",
     "output_type": "stream",
     "text": [
      " 56%|███████████████████████████████████████████████████████████▎                                              | 8399/15000 [41:13<15:35,  7.06it/s]"
     ]
    },
    {
     "name": "stdout",
     "output_type": "stream",
     "text": [
      "Episode 8400/15000\n",
      "Fitnesses: ['-18.20', '-273.37', '-366.57', '-504.59']\n",
      "100 fitness avgs: ['-78.07', '-88.01', '-81.56', '-90.32']\n"
     ]
    },
    {
     "name": "stderr",
     "output_type": "stream",
     "text": [
      " 56%|███████████████████████████████████████████████████████████▍                                              | 8419/15000 [41:16<14:04,  7.79it/s]"
     ]
    },
    {
     "name": "stdout",
     "output_type": "stream",
     "text": [
      "Episode 8420/15000\n",
      "Fitnesses: ['-76.59', '-526.40', '-268.98', '-907.38']\n",
      "100 fitness avgs: ['-78.72', '-83.22', '-90.57', '-87.02']\n"
     ]
    },
    {
     "name": "stderr",
     "output_type": "stream",
     "text": [
      " 56%|███████████████████████████████████████████████████████████▋                                              | 8439/15000 [41:18<09:03, 12.06it/s]"
     ]
    },
    {
     "name": "stdout",
     "output_type": "stream",
     "text": [
      "Episode 8440/15000\n",
      "Fitnesses: ['-661.96', '-258.90', '-59.21', '-656.88']\n",
      "100 fitness avgs: ['-84.71', '-80.68', '-78.68', '-84.66']\n"
     ]
    },
    {
     "name": "stderr",
     "output_type": "stream",
     "text": [
      " 56%|███████████████████████████████████████████████████████████▊                                              | 8459/15000 [41:20<08:29, 12.83it/s]"
     ]
    },
    {
     "name": "stdout",
     "output_type": "stream",
     "text": [
      "Episode 8460/15000\n",
      "Fitnesses: ['-490.62', '-599.15', '-358.92', '-230.00']\n",
      "100 fitness avgs: ['-83.32', '-86.40', '-82.00', '-80.71']\n"
     ]
    },
    {
     "name": "stderr",
     "output_type": "stream",
     "text": [
      " 57%|███████████████████████████████████████████████████████████▉                                              | 8479/15000 [41:22<08:04, 13.47it/s]"
     ]
    },
    {
     "name": "stdout",
     "output_type": "stream",
     "text": [
      "Episode 8480/15000\n",
      "Fitnesses: ['-429.20', '-320.93', '-59.06', '-643.33']\n",
      "100 fitness avgs: ['-84.82', '-83.74', '-82.41', '-86.97']\n"
     ]
    },
    {
     "name": "stderr",
     "output_type": "stream",
     "text": [
      " 57%|████████████████████████████████████████████████████████████                                              | 8499/15000 [41:24<08:37, 12.56it/s]"
     ]
    },
    {
     "name": "stdout",
     "output_type": "stream",
     "text": [
      "Episode 8500/15000\n",
      "Fitnesses: ['-219.19', '-365.57', '-568.54', '-501.82']\n",
      "100 fitness avgs: ['-84.58', '-87.38', '-88.08', '-87.41']\n"
     ]
    },
    {
     "name": "stderr",
     "output_type": "stream",
     "text": [
      " 57%|████████████████████████████████████████████████████████████▏                                             | 8519/15000 [41:26<08:18, 13.00it/s]"
     ]
    },
    {
     "name": "stdout",
     "output_type": "stream",
     "text": [
      "Episode 8520/15000\n",
      "Fitnesses: ['-626.03', '-282.59', '-542.90', '-236.27']\n",
      "100 fitness avgs: ['-90.23', '-89.62', '-92.23', '-89.16']\n"
     ]
    },
    {
     "name": "stderr",
     "output_type": "stream",
     "text": [
      " 57%|████████████████████████████████████████████████████████████▎                                             | 8539/15000 [41:28<08:27, 12.73it/s]"
     ]
    },
    {
     "name": "stdout",
     "output_type": "stream",
     "text": [
      "Episode 8540/15000\n",
      "Fitnesses: ['-743.82', '-727.29', '-38.24', '-279.86']\n",
      "100 fitness avgs: ['-96.57', '-97.47', '-89.51', '-91.93']\n"
     ]
    },
    {
     "name": "stderr",
     "output_type": "stream",
     "text": [
      " 57%|████████████████████████████████████████████████████████████▍                                             | 8559/15000 [41:30<08:07, 13.20it/s]"
     ]
    },
    {
     "name": "stdout",
     "output_type": "stream",
     "text": [
      "Episode 8560/15000\n",
      "Fitnesses: ['-53.43', '-309.37', '-432.84', '-239.68']\n",
      "100 fitness avgs: ['-89.79', '-92.35', '-93.59', '-91.65']\n"
     ]
    },
    {
     "name": "stderr",
     "output_type": "stream",
     "text": [
      " 57%|████████████████████████████████████████████████████████████▌                                             | 8579/15000 [41:32<08:15, 12.95it/s]"
     ]
    },
    {
     "name": "stdout",
     "output_type": "stream",
     "text": [
      "Episode 8580/15000\n",
      "Fitnesses: ['-55.17', '-626.41', '-60.42', '-637.69']\n",
      "100 fitness avgs: ['-90.23', '-97.80', '-92.84', '-96.05']\n"
     ]
    },
    {
     "name": "stderr",
     "output_type": "stream",
     "text": [
      " 57%|████████████████████████████████████████████████████████████▊                                             | 8599/15000 [41:34<07:52, 13.54it/s]"
     ]
    },
    {
     "name": "stdout",
     "output_type": "stream",
     "text": [
      "Episode 8600/15000\n",
      "Fitnesses: ['-472.34', '-751.92', '-568.45', '-350.56']\n",
      "100 fitness avgs: ['-94.27', '-97.07', '-95.23', '-93.05']\n"
     ]
    },
    {
     "name": "stderr",
     "output_type": "stream",
     "text": [
      " 57%|████████████████████████████████████████████████████████████▉                                             | 8619/15000 [41:35<08:14, 12.90it/s]"
     ]
    },
    {
     "name": "stdout",
     "output_type": "stream",
     "text": [
      "Episode 8620/15000\n",
      "Fitnesses: ['-113.44', '-11.98', '-108.79', '-68.42']\n",
      "100 fitness avgs: ['-93.58', '-93.78', '-95.71', '-94.35']\n"
     ]
    },
    {
     "name": "stderr",
     "output_type": "stream",
     "text": [
      " 58%|█████████████████████████████████████████████████████████████                                             | 8639/15000 [41:37<08:25, 12.59it/s]"
     ]
    },
    {
     "name": "stdout",
     "output_type": "stream",
     "text": [
      "Episode 8640/15000\n",
      "Fitnesses: ['-405.38', '-607.24', '-294.42', '-693.61']\n",
      "100 fitness avgs: ['-97.77', '-100.36', '-96.66', '-100.65']\n"
     ]
    },
    {
     "name": "stderr",
     "output_type": "stream",
     "text": [
      " 58%|█████████████████████████████████████████████████████████████▏                                            | 8659/15000 [41:39<08:46, 12.04it/s]"
     ]
    },
    {
     "name": "stdout",
     "output_type": "stream",
     "text": [
      "Episode 8660/15000\n",
      "Fitnesses: ['-13.16', '-541.85', '-473.90', '-467.04']\n",
      "100 fitness avgs: ['-96.22', '-102.61', '-100.82', '-101.87']\n"
     ]
    },
    {
     "name": "stderr",
     "output_type": "stream",
     "text": [
      " 58%|█████████████████████████████████████████████████████████████▎                                            | 8679/15000 [41:41<08:05, 13.02it/s]"
     ]
    },
    {
     "name": "stdout",
     "output_type": "stream",
     "text": [
      "Episode 8680/15000\n",
      "Fitnesses: ['-111.16', '-729.10', '-494.61', '-89.14']\n",
      "100 fitness avgs: ['-97.32', '-109.15', '-106.80', '-97.10']\n"
     ]
    },
    {
     "name": "stderr",
     "output_type": "stream",
     "text": [
      " 58%|█████████████████████████████████████████████████████████████▍                                            | 8699/15000 [41:43<08:03, 13.02it/s]"
     ]
    },
    {
     "name": "stdout",
     "output_type": "stream",
     "text": [
      "Episode 8700/15000\n",
      "Fitnesses: ['-20.77', '-587.04', '-283.30', '-880.85']\n",
      "100 fitness avgs: ['-96.97', '-102.63', '-99.60', '-105.57']\n"
     ]
    },
    {
     "name": "stderr",
     "output_type": "stream",
     "text": [
      " 58%|█████████████████████████████████████████████████████████████▌                                            | 8719/15000 [41:45<07:55, 13.20it/s]"
     ]
    },
    {
     "name": "stdout",
     "output_type": "stream",
     "text": [
      "Episode 8720/15000\n",
      "Fitnesses: ['-846.81', '-425.49', '-643.71', '-271.94']\n",
      "100 fitness avgs: ['-105.07', '-100.85', '-103.04', '-101.94']\n"
     ]
    },
    {
     "name": "stderr",
     "output_type": "stream",
     "text": [
      " 58%|█████████████████████████████████████████████████████████████▊                                            | 8739/15000 [41:47<10:19, 10.10it/s]"
     ]
    },
    {
     "name": "stdout",
     "output_type": "stream",
     "text": [
      "Episode 8740/15000\n",
      "Fitnesses: ['-463.63', '-22.48', '-26.09', '-80.44']\n",
      "100 fitness avgs: ['-106.22', '-102.90', '-100.76', '-103.48']\n"
     ]
    },
    {
     "name": "stderr",
     "output_type": "stream",
     "text": [
      " 58%|█████████████████████████████████████████████████████████████▉                                            | 8759/15000 [41:50<09:03, 11.49it/s]"
     ]
    },
    {
     "name": "stdout",
     "output_type": "stream",
     "text": [
      "Episode 8760/15000\n",
      "Fitnesses: ['-224.86', '-187.18', '-72.65', '-37.86']\n",
      "100 fitness avgs: ['-104.91', '-102.39', '-101.24', '-103.04']\n"
     ]
    },
    {
     "name": "stderr",
     "output_type": "stream",
     "text": [
      " 59%|██████████████████████████████████████████████████████████████                                            | 8779/15000 [41:53<11:21,  9.12it/s]"
     ]
    },
    {
     "name": "stdout",
     "output_type": "stream",
     "text": [
      "Episode 8780/15000\n",
      "Fitnesses: ['-595.56', '-66.19', '-23.89', '-206.11']\n",
      "100 fitness avgs: ['-108.94', '-101.85', '-102.57', '-104.39']\n"
     ]
    },
    {
     "name": "stderr",
     "output_type": "stream",
     "text": [
      " 59%|██████████████████████████████████████████████████████████████▏                                           | 8799/15000 [41:56<09:52, 10.47it/s]"
     ]
    },
    {
     "name": "stdout",
     "output_type": "stream",
     "text": [
      "Episode 8800/15000\n",
      "Fitnesses: ['-62.66', '-286.69', '-25.16', '-324.85']\n",
      "100 fitness avgs: ['-102.23', '-103.75', '-101.13', '-106.67']\n"
     ]
    },
    {
     "name": "stderr",
     "output_type": "stream",
     "text": [
      " 59%|██████████████████████████████████████████████████████████████▎                                           | 8819/15000 [41:58<08:23, 12.27it/s]"
     ]
    },
    {
     "name": "stdout",
     "output_type": "stream",
     "text": [
      "Episode 8820/15000\n",
      "Fitnesses: ['-101.70', '-678.11', '-506.49', '-117.22']\n",
      "100 fitness avgs: ['-102.02', '-107.78', '-106.06', '-102.17']\n"
     ]
    },
    {
     "name": "stderr",
     "output_type": "stream",
     "text": [
      " 59%|██████████████████████████████████████████████████████████████▍                                           | 8839/15000 [42:00<08:18, 12.36it/s]"
     ]
    },
    {
     "name": "stdout",
     "output_type": "stream",
     "text": [
      "Episode 8840/15000\n",
      "Fitnesses: ['-238.36', '-316.43', '-94.37', '-81.71']\n",
      "100 fitness avgs: ['-103.29', '-104.07', '-101.85', '-101.72']\n"
     ]
    },
    {
     "name": "stderr",
     "output_type": "stream",
     "text": [
      " 59%|██████████████████████████████████████████████████████████████▌                                           | 8859/15000 [42:02<08:28, 12.07it/s]"
     ]
    },
    {
     "name": "stdout",
     "output_type": "stream",
     "text": [
      "Episode 8860/15000\n",
      "Fitnesses: ['-37.89', '-121.89', '-215.20', '-320.30']\n",
      "100 fitness avgs: ['-102.07', '-103.03', '-105.41', '-106.46']\n"
     ]
    },
    {
     "name": "stderr",
     "output_type": "stream",
     "text": [
      " 59%|██████████████████████████████████████████████████████████████▋                                           | 8879/15000 [42:04<08:37, 11.82it/s]"
     ]
    },
    {
     "name": "stdout",
     "output_type": "stream",
     "text": [
      "Episode 8880/15000\n",
      "Fitnesses: ['-25.81', '-28.79', '-20.40', '-11.98']\n",
      "100 fitness avgs: ['-101.88', '-102.87', '-105.16', '-101.74']\n"
     ]
    },
    {
     "name": "stderr",
     "output_type": "stream",
     "text": [
      " 59%|██████████████████████████████████████████████████████████████▉                                           | 8899/15000 [42:06<08:02, 12.65it/s]"
     ]
    },
    {
     "name": "stdout",
     "output_type": "stream",
     "text": [
      "Episode 8900/15000\n",
      "Fitnesses: ['-224.77', '-5.47', '-258.41', '-17.20']\n",
      "100 fitness avgs: ['-103.77', '-105.01', '-104.25', '-101.84']\n"
     ]
    },
    {
     "name": "stderr",
     "output_type": "stream",
     "text": [
      " 59%|███████████████████████████████████████████████████████████████                                           | 8919/15000 [42:08<07:56, 12.76it/s]"
     ]
    },
    {
     "name": "stdout",
     "output_type": "stream",
     "text": [
      "Episode 8920/15000\n",
      "Fitnesses: ['-16.08', '-28.88', '-141.70', '-36.63']\n",
      "100 fitness avgs: ['-105.08', '-103.98', '-103.17', '-104.05']\n"
     ]
    },
    {
     "name": "stderr",
     "output_type": "stream",
     "text": [
      " 60%|███████████████████████████████████████████████████████████████▏                                          | 8939/15000 [42:09<07:30, 13.45it/s]"
     ]
    },
    {
     "name": "stdout",
     "output_type": "stream",
     "text": [
      "Episode 8940/15000\n",
      "Fitnesses: ['-45.88', '-61.07', '-9.79', '-62.36']\n",
      "100 fitness avgs: ['-104.17', '-104.32', '-102.71', '-104.33']\n"
     ]
    },
    {
     "name": "stderr",
     "output_type": "stream",
     "text": [
      " 60%|███████████████████████████████████████████████████████████████▎                                          | 8959/15000 [42:11<07:58, 12.63it/s]"
     ]
    },
    {
     "name": "stdout",
     "output_type": "stream",
     "text": [
      "Episode 8960/15000\n",
      "Fitnesses: ['-28.20', '-221.22', '-107.95', '-0.61']\n",
      "100 fitness avgs: ['-102.83', '-106.23', '-103.63', '-102.56']\n"
     ]
    },
    {
     "name": "stderr",
     "output_type": "stream",
     "text": [
      " 60%|███████████████████████████████████████████████████████████████▍                                          | 8979/15000 [42:13<08:24, 11.93it/s]"
     ]
    },
    {
     "name": "stdout",
     "output_type": "stream",
     "text": [
      "Episode 8980/15000\n",
      "Fitnesses: ['-36.66', '-5.68', '-51.23', '-1.48']\n",
      "100 fitness avgs: ['-102.78', '-103.55', '-104.00', '-102.71']\n"
     ]
    },
    {
     "name": "stderr",
     "output_type": "stream",
     "text": [
      " 60%|███████████████████████████████████████████████████████████████▌                                          | 8999/15000 [42:17<11:32,  8.67it/s]"
     ]
    },
    {
     "name": "stdout",
     "output_type": "stream",
     "text": [
      "Episode 9000/15000\n",
      "Fitnesses: ['-48.54', '-190.86', '-217.62', '-262.13']\n",
      "100 fitness avgs: ['-103.12', '-104.62', '-104.89', '-105.33']\n"
     ]
    },
    {
     "name": "stderr",
     "output_type": "stream",
     "text": [
      " 60%|███████████████████████████████████████████████████████████████▋                                          | 9019/15000 [42:22<11:27,  8.70it/s]"
     ]
    },
    {
     "name": "stdout",
     "output_type": "stream",
     "text": [
      "Episode 9020/15000\n",
      "Fitnesses: ['-31.75', '-252.08', '-34.00', '-388.75']\n",
      "100 fitness avgs: ['-103.32', '-107.29', '-104.84', '-108.39']\n"
     ]
    },
    {
     "name": "stderr",
     "output_type": "stream",
     "text": [
      " 60%|███████████████████████████████████████████████████████████████▉                                          | 9039/15000 [42:25<10:37,  9.34it/s]"
     ]
    },
    {
     "name": "stdout",
     "output_type": "stream",
     "text": [
      "Episode 9040/15000\n",
      "Fitnesses: ['-68.46', '-12.48', '-146.38', '-361.31']\n",
      "100 fitness avgs: ['-103.85', '-103.29', '-108.60', '-108.30']\n"
     ]
    },
    {
     "name": "stderr",
     "output_type": "stream",
     "text": [
      " 60%|████████████████████████████████████████████████████████████████                                          | 9059/15000 [42:27<09:44, 10.16it/s]"
     ]
    },
    {
     "name": "stdout",
     "output_type": "stream",
     "text": [
      "Episode 9060/15000\n",
      "Fitnesses: ['-38.84', '-218.78', '-63.84', '-19.46']\n",
      "100 fitness avgs: ['-103.27', '-110.37', '-103.52', '-103.07']\n"
     ]
    },
    {
     "name": "stderr",
     "output_type": "stream",
     "text": [
      " 61%|████████████████████████████████████████████████████████████████▏                                         | 9079/15000 [42:29<08:15, 11.96it/s]"
     ]
    },
    {
     "name": "stdout",
     "output_type": "stream",
     "text": [
      "Episode 9080/15000\n",
      "Fitnesses: ['-1.22', '-66.01', '-79.40', '-23.52']\n",
      "100 fitness avgs: ['-101.84', '-102.93', '-102.62', '-102.50']\n"
     ]
    },
    {
     "name": "stderr",
     "output_type": "stream",
     "text": [
      " 61%|████████████████████████████████████████████████████████████████▎                                         | 9099/15000 [42:31<07:54, 12.43it/s]"
     ]
    },
    {
     "name": "stdout",
     "output_type": "stream",
     "text": [
      "Episode 9100/15000\n",
      "Fitnesses: ['-163.32', '-128.33', '-5.25', '-11.24']\n",
      "100 fitness avgs: ['-102.89', '-102.54', '-101.31', '-102.15']\n"
     ]
    },
    {
     "name": "stderr",
     "output_type": "stream",
     "text": [
      " 61%|████████████████████████████████████████████████████████████████▍                                         | 9119/15000 [42:33<07:58, 12.29it/s]"
     ]
    },
    {
     "name": "stdout",
     "output_type": "stream",
     "text": [
      "Episode 9120/15000\n",
      "Fitnesses: ['-3.24', '-116.02', '-40.10', '-17.14']\n",
      "100 fitness avgs: ['-101.08', '-103.44', '-102.68', '-102.06']\n"
     ]
    },
    {
     "name": "stderr",
     "output_type": "stream",
     "text": [
      " 61%|████████████████████████████████████████████████████████████████▌                                         | 9139/15000 [42:35<08:14, 11.85it/s]"
     ]
    },
    {
     "name": "stdout",
     "output_type": "stream",
     "text": [
      "Episode 9140/15000\n",
      "Fitnesses: ['-3.70', '-1.37', '-20.01', '-41.38']\n",
      "100 fitness avgs: ['-100.94', '-101.90', '-102.09', '-102.30']\n"
     ]
    },
    {
     "name": "stderr",
     "output_type": "stream",
     "text": [
      " 61%|████████████████████████████████████████████████████████████████▋                                         | 9159/15000 [42:37<08:12, 11.85it/s]"
     ]
    },
    {
     "name": "stdout",
     "output_type": "stream",
     "text": [
      "Episode 9160/15000\n",
      "Fitnesses: ['-130.04', '-179.39', '-106.41', '-94.89']\n",
      "100 fitness avgs: ['-103.17', '-104.06', '-102.93', '-101.86']\n"
     ]
    },
    {
     "name": "stderr",
     "output_type": "stream",
     "text": [
      " 61%|████████████████████████████████████████████████████████████████▊                                         | 9179/15000 [42:39<08:18, 11.67it/s]"
     ]
    },
    {
     "name": "stdout",
     "output_type": "stream",
     "text": [
      "Episode 9180/15000\n",
      "Fitnesses: ['-38.14', '-56.72', '-154.31', '-22.48']\n",
      "100 fitness avgs: ['-101.87', '-103.37', '-103.04', '-101.72']\n"
     ]
    },
    {
     "name": "stderr",
     "output_type": "stream",
     "text": [
      " 61%|█████████████████████████████████████████████████████████████████                                         | 9199/15000 [42:41<08:11, 11.80it/s]"
     ]
    },
    {
     "name": "stdout",
     "output_type": "stream",
     "text": [
      "Episode 9200/15000\n",
      "Fitnesses: ['-65.76', '-72.55', '-106.92', '-61.34']\n",
      "100 fitness avgs: ['-101.97', '-102.04', '-102.54', '-101.93']\n"
     ]
    },
    {
     "name": "stderr",
     "output_type": "stream",
     "text": [
      " 61%|█████████████████████████████████████████████████████████████████▏                                        | 9219/15000 [42:43<08:27, 11.39it/s]"
     ]
    },
    {
     "name": "stdout",
     "output_type": "stream",
     "text": [
      "Episode 9220/15000\n",
      "Fitnesses: ['-72.80', '-100.60', '-2.60', '-27.70']\n",
      "100 fitness avgs: ['-102.46', '-102.78', '-101.80', '-102.12']\n"
     ]
    },
    {
     "name": "stderr",
     "output_type": "stream",
     "text": [
      " 62%|█████████████████████████████████████████████████████████████████▎                                        | 9239/15000 [42:45<07:53, 12.18it/s]"
     ]
    },
    {
     "name": "stdout",
     "output_type": "stream",
     "text": [
      "Episode 9240/15000\n",
      "Fitnesses: ['-13.78', '-52.56', '-21.78', '-57.36']\n",
      "100 fitness avgs: ['-101.23', '-101.62', '-101.31', '-101.98']\n"
     ]
    },
    {
     "name": "stderr",
     "output_type": "stream",
     "text": [
      " 62%|█████████████████████████████████████████████████████████████████▍                                        | 9259/15000 [42:47<08:00, 11.96it/s]"
     ]
    },
    {
     "name": "stdout",
     "output_type": "stream",
     "text": [
      "Episode 9260/15000\n",
      "Fitnesses: ['-34.28', '-44.36', '-50.09', '-82.06']\n",
      "100 fitness avgs: ['-101.09', '-101.19', '-101.33', '-101.65']\n"
     ]
    },
    {
     "name": "stderr",
     "output_type": "stream",
     "text": [
      " 62%|█████████████████████████████████████████████████████████████████▌                                        | 9279/15000 [42:49<07:55, 12.02it/s]"
     ]
    },
    {
     "name": "stdout",
     "output_type": "stream",
     "text": [
      "Episode 9280/15000\n",
      "Fitnesses: ['-217.17', '-20.56', '-2.69', '-13.14']\n",
      "100 fitness avgs: ['-102.57', '-100.70', '-100.66', '-100.77']\n"
     ]
    },
    {
     "name": "stderr",
     "output_type": "stream",
     "text": [
      " 62%|█████████████████████████████████████████████████████████████████▋                                        | 9299/15000 [42:51<07:48, 12.16it/s]"
     ]
    },
    {
     "name": "stdout",
     "output_type": "stream",
     "text": [
      "Episode 9300/15000\n",
      "Fitnesses: ['-9.01', '-67.51', '-40.30', '-0.94']\n",
      "100 fitness avgs: ['-100.33', '-101.02', '-100.64', '-100.29']\n"
     ]
    },
    {
     "name": "stderr",
     "output_type": "stream",
     "text": [
      " 62%|█████████████████████████████████████████████████████████████████▊                                        | 9319/15000 [42:53<08:00, 11.82it/s]"
     ]
    },
    {
     "name": "stdout",
     "output_type": "stream",
     "text": [
      "Episode 9320/15000\n",
      "Fitnesses: ['-52.85', '-39.64', '-155.52', '-29.71']\n",
      "100 fitness avgs: ['-100.51', '-100.73', '-101.58', '-100.63']\n"
     ]
    },
    {
     "name": "stderr",
     "output_type": "stream",
     "text": [
      " 62%|█████████████████████████████████████████████████████████████████▉                                        | 9339/15000 [42:55<07:13, 13.05it/s]"
     ]
    },
    {
     "name": "stdout",
     "output_type": "stream",
     "text": [
      "Episode 9340/15000\n",
      "Fitnesses: ['-10.37', '-3.78', '-16.90', '-23.27']\n",
      "100 fitness avgs: ['-100.31', '-100.12', '-100.47', '-100.32']\n"
     ]
    },
    {
     "name": "stderr",
     "output_type": "stream",
     "text": [
      " 62%|██████████████████████████████████████████████████████████████████▏                                       | 9359/15000 [42:57<07:45, 12.11it/s]"
     ]
    },
    {
     "name": "stdout",
     "output_type": "stream",
     "text": [
      "Episode 9360/15000\n",
      "Fitnesses: ['-83.86', '-158.28', '-52.08', '-307.40']\n",
      "100 fitness avgs: ['-100.89', '-101.63', '-100.57', '-103.31']\n"
     ]
    },
    {
     "name": "stderr",
     "output_type": "stream",
     "text": [
      " 63%|██████████████████████████████████████████████████████████████████▎                                       | 9379/15000 [42:59<07:40, 12.21it/s]"
     ]
    },
    {
     "name": "stdout",
     "output_type": "stream",
     "text": [
      "Episode 9380/15000\n",
      "Fitnesses: ['-6.03', '-175.00', '-19.79', '-147.01']\n",
      "100 fitness avgs: ['-100.19', '-104.62', '-100.33', '-101.60']\n"
     ]
    },
    {
     "name": "stderr",
     "output_type": "stream",
     "text": [
      " 63%|██████████████████████████████████████████████████████████████████▍                                       | 9399/15000 [43:01<07:40, 12.17it/s]"
     ]
    },
    {
     "name": "stdout",
     "output_type": "stream",
     "text": [
      "Episode 9400/15000\n",
      "Fitnesses: ['-190.69', '-7.01', '-187.40', '-25.31']\n",
      "100 fitness avgs: ['-101.38', '-99.54', '-101.48', '-104.15']\n"
     ]
    },
    {
     "name": "stderr",
     "output_type": "stream",
     "text": [
      " 63%|██████████████████████████████████████████████████████████████████▌                                       | 9419/15000 [43:03<07:34, 12.29it/s]"
     ]
    },
    {
     "name": "stdout",
     "output_type": "stream",
     "text": [
      "Episode 9420/15000\n",
      "Fitnesses: ['-25.88', '-105.08', '-126.62', '-82.43']\n",
      "100 fitness avgs: ['-99.70', '-102.33', '-102.65', '-104.88']\n"
     ]
    },
    {
     "name": "stderr",
     "output_type": "stream",
     "text": [
      " 63%|██████████████████████████████████████████████████████████████████▋                                       | 9439/15000 [43:05<07:09, 12.95it/s]"
     ]
    },
    {
     "name": "stdout",
     "output_type": "stream",
     "text": [
      "Episode 9440/15000\n",
      "Fitnesses: ['-65.19', '-2.04', '-48.31', '-138.42']\n",
      "100 fitness avgs: ['-100.07', '-99.44', '-105.08', '-100.80']\n"
     ]
    },
    {
     "name": "stderr",
     "output_type": "stream",
     "text": [
      " 63%|██████████████████████████████████████████████████████████████████▊                                       | 9459/15000 [43:07<07:11, 12.84it/s]"
     ]
    },
    {
     "name": "stdout",
     "output_type": "stream",
     "text": [
      "Episode 9460/15000\n",
      "Fitnesses: ['-195.58', '-49.08', '-81.57', '-48.03']\n",
      "100 fitness avgs: ['-101.22', '-100.39', '-100.08', '-99.74']\n"
     ]
    },
    {
     "name": "stderr",
     "output_type": "stream",
     "text": [
      " 63%|██████████████████████████████████████████████████████████████████▉                                       | 9479/15000 [43:09<07:36, 12.08it/s]"
     ]
    },
    {
     "name": "stdout",
     "output_type": "stream",
     "text": [
      "Episode 9480/15000\n",
      "Fitnesses: ['-63.68', '-32.27', '-19.67', '-41.46']\n",
      "100 fitness avgs: ['-100.13', '-100.45', '-100.33', '-100.55']\n"
     ]
    },
    {
     "name": "stderr",
     "output_type": "stream",
     "text": [
      " 63%|███████████████████████████████████████████████████████████████████▏                                      | 9499/15000 [43:11<07:29, 12.25it/s]"
     ]
    },
    {
     "name": "stdout",
     "output_type": "stream",
     "text": [
      "Episode 9500/15000\n",
      "Fitnesses: ['-112.17', '-186.62', '-246.30', '-198.66']\n",
      "100 fitness avgs: ['-101.39', '-102.13', '-102.94', '-102.05']\n"
     ]
    },
    {
     "name": "stderr",
     "output_type": "stream",
     "text": [
      " 63%|███████████████████████████████████████████████████████████████████▎                                      | 9519/15000 [43:13<07:13, 12.64it/s]"
     ]
    },
    {
     "name": "stdout",
     "output_type": "stream",
     "text": [
      "Episode 9520/15000\n",
      "Fitnesses: ['-107.28', '-27.84', '-69.58', '-74.93']\n",
      "100 fitness avgs: ['-101.99', '-101.19', '-102.36', '-102.41']\n"
     ]
    },
    {
     "name": "stderr",
     "output_type": "stream",
     "text": [
      " 64%|███████████████████████████████████████████████████████████████████▍                                      | 9539/15000 [43:14<07:16, 12.50it/s]"
     ]
    },
    {
     "name": "stdout",
     "output_type": "stream",
     "text": [
      "Episode 9540/15000\n",
      "Fitnesses: ['-186.97', '-35.91', '-12.55', '-46.15']\n",
      "100 fitness avgs: ['-103.02', '-101.51', '-102.49', '-102.82']\n"
     ]
    },
    {
     "name": "stderr",
     "output_type": "stream",
     "text": [
      " 64%|███████████████████████████████████████████████████████████████████▌                                      | 9559/15000 [43:17<08:38, 10.50it/s]"
     ]
    },
    {
     "name": "stdout",
     "output_type": "stream",
     "text": [
      "Episode 9560/15000\n",
      "Fitnesses: ['-23.15', '-120.80', '-107.45', '-109.80']\n",
      "100 fitness avgs: ['-101.68', '-102.66', '-102.86', '-101.57']\n"
     ]
    },
    {
     "name": "stderr",
     "output_type": "stream",
     "text": [
      " 64%|███████████████████████████████████████████████████████████████████▋                                      | 9579/15000 [43:19<08:02, 11.24it/s]"
     ]
    },
    {
     "name": "stdout",
     "output_type": "stream",
     "text": [
      "Episode 9580/15000\n",
      "Fitnesses: ['-113.61', '-12.69', '-175.54', '-5.62']\n",
      "100 fitness avgs: ['-100.46', '-100.63', '-102.26', '-99.38']\n"
     ]
    },
    {
     "name": "stderr",
     "output_type": "stream",
     "text": [
      " 64%|███████████████████████████████████████████████████████████████████▊                                      | 9599/15000 [43:21<07:33, 11.91it/s]"
     ]
    },
    {
     "name": "stdout",
     "output_type": "stream",
     "text": [
      "Episode 9600/15000\n",
      "Fitnesses: ['-11.19', '-259.58', '-175.74', '-30.74']\n",
      "100 fitness avgs: ['-98.62', '-102.35', '-100.26', '-98.81']\n"
     ]
    },
    {
     "name": "stderr",
     "output_type": "stream",
     "text": [
      " 64%|███████████████████████████████████████████████████████████████████▉                                      | 9619/15000 [43:23<07:13, 12.41it/s]"
     ]
    },
    {
     "name": "stdout",
     "output_type": "stream",
     "text": [
      "Episode 9620/15000\n",
      "Fitnesses: ['-48.40', '-108.36', '-64.14', '-61.59']\n",
      "100 fitness avgs: ['-98.45', '-99.05', '-100.25', '-98.58']\n"
     ]
    },
    {
     "name": "stderr",
     "output_type": "stream",
     "text": [
      " 64%|████████████████████████████████████████████████████████████████████                                      | 9639/15000 [43:25<07:43, 11.56it/s]"
     ]
    },
    {
     "name": "stdout",
     "output_type": "stream",
     "text": [
      "Episode 9640/15000\n",
      "Fitnesses: ['-10.86', '-22.80', '-3.52', '-101.19']\n",
      "100 fitness avgs: ['-97.50', '-97.62', '-97.56', '-98.40']\n"
     ]
    },
    {
     "name": "stderr",
     "output_type": "stream",
     "text": [
      " 64%|████████████████████████████████████████████████████████████████████▎                                     | 9659/15000 [43:27<07:15, 12.28it/s]"
     ]
    },
    {
     "name": "stdout",
     "output_type": "stream",
     "text": [
      "Episode 9660/15000\n",
      "Fitnesses: ['-183.57', '-62.98', '-57.81', '-19.28']\n",
      "100 fitness avgs: ['-99.24', '-98.04', '-98.05', '-97.60']\n"
     ]
    },
    {
     "name": "stderr",
     "output_type": "stream",
     "text": [
      " 65%|████████████████████████████████████████████████████████████████████▍                                     | 9679/15000 [43:29<07:23, 12.01it/s]"
     ]
    },
    {
     "name": "stdout",
     "output_type": "stream",
     "text": [
      "Episode 9680/15000\n",
      "Fitnesses: ['-148.95', '-132.10', '-234.24', '-273.06']\n",
      "100 fitness avgs: ['-97.80', '-97.63', '-99.09', '-99.48']\n"
     ]
    },
    {
     "name": "stderr",
     "output_type": "stream",
     "text": [
      " 65%|████████████████████████████████████████████████████████████████████▌                                     | 9699/15000 [43:31<07:26, 11.87it/s]"
     ]
    },
    {
     "name": "stdout",
     "output_type": "stream",
     "text": [
      "Episode 9700/15000\n",
      "Fitnesses: ['-66.42', '-163.61', '-45.46', '-38.10']\n",
      "100 fitness avgs: ['-98.09', '-100.91', '-97.88', '-97.81']\n"
     ]
    },
    {
     "name": "stderr",
     "output_type": "stream",
     "text": [
      " 65%|████████████████████████████████████████████████████████████████████▋                                     | 9719/15000 [43:33<07:23, 11.91it/s]"
     ]
    },
    {
     "name": "stdout",
     "output_type": "stream",
     "text": [
      "Episode 9720/15000\n",
      "Fitnesses: ['-49.24', '-53.81', '-150.07', '-61.80']\n",
      "100 fitness avgs: ['-97.36', '-97.68', '-98.36', '-97.55']\n"
     ]
    },
    {
     "name": "stderr",
     "output_type": "stream",
     "text": [
      " 65%|████████████████████████████████████████████████████████████████████▊                                     | 9739/15000 [43:35<07:15, 12.08it/s]"
     ]
    },
    {
     "name": "stdout",
     "output_type": "stream",
     "text": [
      "Episode 9740/15000\n",
      "Fitnesses: ['-47.31', '-84.79', '-96.51', '-59.25']\n",
      "100 fitness avgs: ['-96.80', '-97.37', '-97.49', '-97.25']\n"
     ]
    },
    {
     "name": "stderr",
     "output_type": "stream",
     "text": [
      " 65%|████████████████████████████████████████████████████████████████████▉                                     | 9759/15000 [43:37<06:53, 12.67it/s]"
     ]
    },
    {
     "name": "stdout",
     "output_type": "stream",
     "text": [
      "Episode 9760/15000\n",
      "Fitnesses: ['-187.21', '-189.10', '-72.70', '-18.49']\n",
      "100 fitness avgs: ['-97.37', '-97.39', '-96.23', '-96.26']\n"
     ]
    },
    {
     "name": "stderr",
     "output_type": "stream",
     "text": [
      " 65%|█████████████████████████████████████████████████████████████████████                                     | 9779/15000 [43:39<08:16, 10.52it/s]"
     ]
    },
    {
     "name": "stdout",
     "output_type": "stream",
     "text": [
      "Episode 9780/15000\n",
      "Fitnesses: ['-32.37', '-35.28', '-0.54', '-313.98']\n",
      "100 fitness avgs: ['-96.56', '-96.56', '-96.25', '-99.38']\n"
     ]
    },
    {
     "name": "stderr",
     "output_type": "stream",
     "text": [
      " 65%|█████████████████████████████████████████████████████████████████████▏                                    | 9799/15000 [43:42<12:08,  7.14it/s]"
     ]
    },
    {
     "name": "stdout",
     "output_type": "stream",
     "text": [
      "Episode 9800/15000\n",
      "Fitnesses: ['-28.74', '-21.75', '-59.23', '-138.40']\n",
      "100 fitness avgs: ['-95.01', '-94.94', '-95.64', '-96.42']\n"
     ]
    },
    {
     "name": "stderr",
     "output_type": "stream",
     "text": [
      " 65%|█████████████████████████████████████████████████████████████████████▍                                    | 9818/15000 [43:44<08:33, 10.10it/s]"
     ]
    },
    {
     "name": "stdout",
     "output_type": "stream",
     "text": [
      "Episode 9820/15000\n",
      "Fitnesses: ['-11.24', '-109.47', '-3.18', '-198.22']\n",
      "100 fitness avgs: ['-95.02', '-96.01', '-95.64', '-96.96']\n"
     ]
    },
    {
     "name": "stderr",
     "output_type": "stream",
     "text": [
      " 66%|█████████████████████████████████████████████████████████████████████▌                                    | 9839/15000 [43:47<08:04, 10.64it/s]"
     ]
    },
    {
     "name": "stdout",
     "output_type": "stream",
     "text": [
      "Episode 9840/15000\n",
      "Fitnesses: ['-49.31', '-147.26', '-12.82', '-52.15']\n",
      "100 fitness avgs: ['-95.95', '-96.93', '-94.97', '-95.98']\n"
     ]
    },
    {
     "name": "stderr",
     "output_type": "stream",
     "text": [
      " 66%|█████████████████████████████████████████████████████████████████████▋                                    | 9859/15000 [43:49<08:24, 10.18it/s]"
     ]
    },
    {
     "name": "stdout",
     "output_type": "stream",
     "text": [
      "Episode 9860/15000\n",
      "Fitnesses: ['-246.80', '-103.53', '-246.20', '-105.80']\n",
      "100 fitness avgs: ['-95.56', '-94.13', '-96.53', '-95.16']\n"
     ]
    },
    {
     "name": "stderr",
     "output_type": "stream",
     "text": [
      " 66%|█████████████████████████████████████████████████████████████████████▊                                    | 9879/15000 [43:52<10:42,  7.97it/s]"
     ]
    },
    {
     "name": "stdout",
     "output_type": "stream",
     "text": [
      "Episode 9880/15000\n",
      "Fitnesses: ['-122.26', '-25.93', '-276.38', '-1.16']\n",
      "100 fitness avgs: ['-93.97', '-94.03', '-95.51', '-94.19']\n"
     ]
    },
    {
     "name": "stderr",
     "output_type": "stream",
     "text": [
      " 66%|█████████████████████████████████████████████████████████████████████▉                                    | 9899/15000 [43:54<07:43, 11.01it/s]"
     ]
    },
    {
     "name": "stdout",
     "output_type": "stream",
     "text": [
      "Episode 9900/15000\n",
      "Fitnesses: ['-214.28', '-26.69', '-235.87', '-53.00']\n",
      "100 fitness avgs: ['-94.53', '-92.65', '-94.74', '-92.69']\n"
     ]
    },
    {
     "name": "stderr",
     "output_type": "stream",
     "text": [
      " 66%|██████████████████████████████████████████████████████████████████████                                    | 9918/15000 [43:56<07:20, 11.52it/s]"
     ]
    },
    {
     "name": "stdout",
     "output_type": "stream",
     "text": [
      "Episode 9920/15000\n",
      "Fitnesses: ['-5.77', '-18.25', '-172.51', '-80.85']\n",
      "100 fitness avgs: ['-92.21', '-92.37', '-93.91', '-93.00']\n"
     ]
    },
    {
     "name": "stderr",
     "output_type": "stream",
     "text": [
      " 66%|██████████████████████████████████████████████████████████████████████▏                                   | 9939/15000 [43:58<07:12, 11.69it/s]"
     ]
    },
    {
     "name": "stdout",
     "output_type": "stream",
     "text": [
      "Episode 9940/15000\n",
      "Fitnesses: ['-29.43', '-9.31', '-119.48', '-246.55']\n",
      "100 fitness avgs: ['-92.23', '-92.82', '-93.30', '-94.57']\n"
     ]
    },
    {
     "name": "stderr",
     "output_type": "stream",
     "text": [
      " 66%|██████████████████████████████████████████████████████████████████████▎                                   | 9958/15000 [44:00<07:00, 11.99it/s]"
     ]
    },
    {
     "name": "stdout",
     "output_type": "stream",
     "text": [
      "Episode 9960/15000\n",
      "Fitnesses: ['-183.20', '-79.47', '-23.56', '-59.92']\n",
      "100 fitness avgs: ['-88.57', '-87.53', '-86.97', '-87.34']\n"
     ]
    },
    {
     "name": "stderr",
     "output_type": "stream",
     "text": [
      " 67%|██████████████████████████████████████████████████████████████████████▌                                   | 9978/15000 [44:03<07:59, 10.46it/s]"
     ]
    },
    {
     "name": "stdout",
     "output_type": "stream",
     "text": [
      "Episode 9980/15000\n",
      "Fitnesses: ['-33.67', '-252.49', '-204.89', '-110.28']\n",
      "100 fitness avgs: ['-85.57', '-88.32', '-87.29', '-86.90']\n"
     ]
    },
    {
     "name": "stderr",
     "output_type": "stream",
     "text": [
      " 67%|██████████████████████████████████████████████████████████████████████▋                                   | 9999/15000 [44:06<08:28,  9.84it/s]"
     ]
    },
    {
     "name": "stdout",
     "output_type": "stream",
     "text": [
      "Episode 10000/15000\n",
      "Fitnesses: ['-59.15', '-194.80', '-85.44', '-58.32']\n",
      "100 fitness avgs: ['-85.91', '-88.59', '-87.88', '-85.90']\n"
     ]
    },
    {
     "name": "stderr",
     "output_type": "stream",
     "text": [
      " 67%|██████████████████████████████████████████████████████████████████████▏                                  | 10019/15000 [44:10<18:48,  4.41it/s]"
     ]
    },
    {
     "name": "stdout",
     "output_type": "stream",
     "text": [
      "Episode 10020/15000\n",
      "Fitnesses: ['-299.16', '-120.55', '-56.11', '-98.73']\n",
      "100 fitness avgs: ['-88.73', '-86.94', '-86.30', '-86.73']\n"
     ]
    },
    {
     "name": "stderr",
     "output_type": "stream",
     "text": [
      " 67%|██████████████████████████████████████████████████████████████████████▎                                  | 10039/15000 [44:15<24:54,  3.32it/s]"
     ]
    },
    {
     "name": "stdout",
     "output_type": "stream",
     "text": [
      "Episode 10040/15000\n",
      "Fitnesses: ['-112.41', '-326.81', '-253.76', '-39.21']\n",
      "100 fitness avgs: ['-86.93', '-89.72', '-90.78', '-86.84']\n"
     ]
    },
    {
     "name": "stderr",
     "output_type": "stream",
     "text": [
      " 67%|██████████████████████████████████████████████████████████████████████▍                                  | 10059/15000 [44:20<24:06,  3.42it/s]"
     ]
    },
    {
     "name": "stdout",
     "output_type": "stream",
     "text": [
      "Episode 10060/15000\n",
      "Fitnesses: ['-235.14', '-274.50', '-105.26', '-94.36']\n",
      "100 fitness avgs: ['-89.19', '-89.59', '-87.89', '-87.78']\n"
     ]
    },
    {
     "name": "stderr",
     "output_type": "stream",
     "text": [
      " 67%|██████████████████████████████████████████████████████████████████████▌                                  | 10079/15000 [44:26<15:19,  5.35it/s]"
     ]
    },
    {
     "name": "stdout",
     "output_type": "stream",
     "text": [
      "Episode 10080/15000\n",
      "Fitnesses: ['-113.87', '-364.83', '-330.38', '-190.18']\n",
      "100 fitness avgs: ['-87.88', '-90.39', '-90.04', '-88.64']\n"
     ]
    },
    {
     "name": "stderr",
     "output_type": "stream",
     "text": [
      " 67%|██████████████████████████████████████████████████████████████████████▋                                  | 10099/15000 [44:28<07:57, 10.26it/s]"
     ]
    },
    {
     "name": "stdout",
     "output_type": "stream",
     "text": [
      "Episode 10100/15000\n",
      "Fitnesses: ['-425.51', '-106.71', '-349.37', '-97.92']\n",
      "100 fitness avgs: ['-90.77', '-89.75', '-90.77', '-87.49']\n"
     ]
    },
    {
     "name": "stderr",
     "output_type": "stream",
     "text": [
      " 67%|██████████████████████████████████████████████████████████████████████▊                                  | 10119/15000 [44:31<07:32, 10.78it/s]"
     ]
    },
    {
     "name": "stdout",
     "output_type": "stream",
     "text": [
      "Episode 10120/15000\n",
      "Fitnesses: ['-123.78', '-112.86', '-81.86', '-206.33']\n",
      "100 fitness avgs: ['-87.94', '-87.83', '-87.52', '-91.02']\n"
     ]
    },
    {
     "name": "stderr",
     "output_type": "stream",
     "text": [
      " 68%|██████████████████████████████████████████████████████████████████████▉                                  | 10139/15000 [44:33<07:39, 10.58it/s]"
     ]
    },
    {
     "name": "stdout",
     "output_type": "stream",
     "text": [
      "Episode 10140/15000\n",
      "Fitnesses: ['-202.90', '-143.97', '-435.06', '-264.23']\n",
      "100 fitness avgs: ['-89.14', '-88.55', '-91.77', '-89.75']\n"
     ]
    },
    {
     "name": "stderr",
     "output_type": "stream",
     "text": [
      " 68%|███████████████████████████████████████████████████████████████████████                                  | 10159/15000 [44:35<07:25, 10.86it/s]"
     ]
    },
    {
     "name": "stdout",
     "output_type": "stream",
     "text": [
      "Episode 10160/15000\n",
      "Fitnesses: ['-162.54', '-341.94', '-512.19', '-121.92']\n",
      "100 fitness avgs: ['-89.29', '-94.31', '-93.38', '-90.09']\n"
     ]
    },
    {
     "name": "stderr",
     "output_type": "stream",
     "text": [
      " 68%|███████████████████████████████████████████████████████████████████████▎                                 | 10179/15000 [44:37<06:52, 11.69it/s]"
     ]
    },
    {
     "name": "stdout",
     "output_type": "stream",
     "text": [
      "Episode 10180/15000\n",
      "Fitnesses: ['-665.59', '-102.95', '-502.43', '-431.53']\n",
      "100 fitness avgs: ['-96.43', '-90.00', '-94.79', '-94.08']\n"
     ]
    },
    {
     "name": "stderr",
     "output_type": "stream",
     "text": [
      " 68%|███████████████████████████████████████████████████████████████████████▍                                 | 10198/15000 [44:39<07:00, 11.42it/s]"
     ]
    },
    {
     "name": "stdout",
     "output_type": "stream",
     "text": [
      "Episode 10200/15000\n",
      "Fitnesses: ['-566.66', '-481.21', '-141.47', '-204.73']\n",
      "100 fitness avgs: ['-95.44', '-98.66', '-95.27', '-95.90']\n"
     ]
    },
    {
     "name": "stderr",
     "output_type": "stream",
     "text": [
      " 68%|███████████████████████████████████████████████████████████████████████▌                                 | 10219/15000 [44:41<07:24, 10.75it/s]"
     ]
    },
    {
     "name": "stdout",
     "output_type": "stream",
     "text": [
      "Episode 10220/15000\n",
      "Fitnesses: ['-334.77', '-485.27', '-291.22', '-533.14']\n",
      "100 fitness avgs: ['-92.10', '-94.24', '-92.30', '-97.48']\n"
     ]
    },
    {
     "name": "stderr",
     "output_type": "stream",
     "text": [
      " 68%|███████████████████████████████████████████████████████████████████████▋                                 | 10239/15000 [44:44<06:42, 11.83it/s]"
     ]
    },
    {
     "name": "stdout",
     "output_type": "stream",
     "text": [
      "Episode 10240/15000\n",
      "Fitnesses: ['-471.59', '-198.06', '-202.88', '-198.26']\n",
      "100 fitness avgs: ['-96.14', '-93.21', '-93.46', '-95.35']\n"
     ]
    },
    {
     "name": "stderr",
     "output_type": "stream",
     "text": [
      " 68%|███████████████████████████████████████████████████████████████████████▊                                 | 10259/15000 [44:46<07:02, 11.23it/s]"
     ]
    },
    {
     "name": "stdout",
     "output_type": "stream",
     "text": [
      "Episode 10260/15000\n",
      "Fitnesses: ['-240.72', '-277.55', '-195.61', '-562.83']\n",
      "100 fitness avgs: ['-94.49', '-94.86', '-94.04', '-97.96']\n"
     ]
    },
    {
     "name": "stderr",
     "output_type": "stream",
     "text": [
      " 69%|███████████████████████████████████████████████████████████████████████▉                                 | 10279/15000 [44:48<06:41, 11.77it/s]"
     ]
    },
    {
     "name": "stdout",
     "output_type": "stream",
     "text": [
      "Episode 10280/15000\n",
      "Fitnesses: ['-217.81', '-237.50', '-131.58', '-616.04']\n",
      "100 fitness avgs: ['-95.38', '-95.57', '-95.33', '-100.18']\n"
     ]
    },
    {
     "name": "stderr",
     "output_type": "stream",
     "text": [
      " 69%|████████████████████████████████████████████████████████████████████████                                 | 10299/15000 [44:50<06:41, 11.72it/s]"
     ]
    },
    {
     "name": "stdout",
     "output_type": "stream",
     "text": [
      "Episode 10300/15000\n",
      "Fitnesses: ['-418.73', '-182.92', '-424.73', '-661.54']\n",
      "100 fitness avgs: ['-89.55', '-87.19', '-89.61', '-92.22']\n"
     ]
    },
    {
     "name": "stderr",
     "output_type": "stream",
     "text": [
      " 69%|████████████████████████████████████████████████████████████████████████▏                                | 10319/15000 [44:52<06:52, 11.35it/s]"
     ]
    },
    {
     "name": "stdout",
     "output_type": "stream",
     "text": [
      "Episode 10320/15000\n",
      "Fitnesses: ['-128.87', '-142.16', '-151.29', '-651.44']\n",
      "100 fitness avgs: ['-88.39', '-90.88', '-90.97', '-96.03']\n"
     ]
    },
    {
     "name": "stderr",
     "output_type": "stream",
     "text": [
      " 69%|████████████████████████████████████████████████████████████████████████▎                                | 10339/15000 [44:54<06:55, 11.23it/s]"
     ]
    },
    {
     "name": "stdout",
     "output_type": "stream",
     "text": [
      "Episode 10340/15000\n",
      "Fitnesses: ['-236.11', '-476.53', '-264.62', '-390.77']\n",
      "100 fitness avgs: ['-87.42', '-89.83', '-90.29', '-88.97']\n"
     ]
    },
    {
     "name": "stderr",
     "output_type": "stream",
     "text": [
      " 69%|████████████████████████████████████████████████████████████████████████▌                                | 10359/15000 [44:56<06:13, 12.44it/s]"
     ]
    },
    {
     "name": "stdout",
     "output_type": "stream",
     "text": [
      "Episode 10360/15000\n",
      "Fitnesses: ['-318.85', '-239.67', '-872.46', '-331.78']\n",
      "100 fitness avgs: ['-87.63', '-88.38', '-93.16', '-90.63']\n"
     ]
    },
    {
     "name": "stderr",
     "output_type": "stream",
     "text": [
      " 69%|████████████████████████████████████████████████████████████████████████▋                                | 10379/15000 [44:58<06:24, 12.02it/s]"
     ]
    },
    {
     "name": "stdout",
     "output_type": "stream",
     "text": [
      "Episode 10380/15000\n",
      "Fitnesses: ['-148.08', '-224.09', '-196.36', '-283.66']\n",
      "100 fitness avgs: ['-89.84', '-89.85', '-90.33', '-93.44']\n"
     ]
    },
    {
     "name": "stderr",
     "output_type": "stream",
     "text": [
      " 69%|████████████████████████████████████████████████████████████████████████▊                                | 10399/15000 [45:00<06:21, 12.05it/s]"
     ]
    },
    {
     "name": "stdout",
     "output_type": "stream",
     "text": [
      "Episode 10400/15000\n",
      "Fitnesses: ['-323.12', '-246.98', '-198.40', '-249.71']\n",
      "100 fitness avgs: ['-92.89', '-92.13', '-91.65', '-92.16']\n"
     ]
    },
    {
     "name": "stderr",
     "output_type": "stream",
     "text": [
      " 69%|████████████████████████████████████████████████████████████████████████▉                                | 10419/15000 [45:02<06:28, 11.78it/s]"
     ]
    },
    {
     "name": "stdout",
     "output_type": "stream",
     "text": [
      "Episode 10420/15000\n",
      "Fitnesses: ['-108.71', '-201.10', '-88.70', '-307.33']\n",
      "100 fitness avgs: ['-91.97', '-93.38', '-92.25', '-94.44']\n"
     ]
    },
    {
     "name": "stderr",
     "output_type": "stream",
     "text": [
      " 70%|█████████████████████████████████████████████████████████████████████████                                | 10439/15000 [45:04<06:35, 11.53it/s]"
     ]
    },
    {
     "name": "stdout",
     "output_type": "stream",
     "text": [
      "Episode 10440/15000\n",
      "Fitnesses: ['-208.54', '-378.89', '-483.88', '-623.90']\n",
      "100 fitness avgs: ['-93.75', '-95.45', '-98.69', '-97.90']\n"
     ]
    },
    {
     "name": "stderr",
     "output_type": "stream",
     "text": [
      " 70%|█████████████████████████████████████████████████████████████████████████▏                               | 10459/15000 [45:06<06:21, 11.90it/s]"
     ]
    },
    {
     "name": "stdout",
     "output_type": "stream",
     "text": [
      "Episode 10460/15000\n",
      "Fitnesses: ['-394.76', '-121.75', '-260.62', '-411.26']\n",
      "100 fitness avgs: ['-94.10', '-91.37', '-97.70', '-95.97']\n"
     ]
    },
    {
     "name": "stderr",
     "output_type": "stream",
     "text": [
      " 70%|█████████████████████████████████████████████████████████████████████████▎                               | 10479/15000 [45:08<06:30, 11.56it/s]"
     ]
    },
    {
     "name": "stdout",
     "output_type": "stream",
     "text": [
      "Episode 10480/15000\n",
      "Fitnesses: ['-275.16', '-226.17', '-101.94', '-243.52']\n",
      "100 fitness avgs: ['-93.54', '-99.37', '-98.13', '-99.55']\n"
     ]
    },
    {
     "name": "stderr",
     "output_type": "stream",
     "text": [
      " 70%|█████████████████████████████████████████████████████████████████████████▍                               | 10499/15000 [45:10<06:28, 11.58it/s]"
     ]
    },
    {
     "name": "stdout",
     "output_type": "stream",
     "text": [
      "Episode 10500/15000\n",
      "Fitnesses: ['-106.24', '-354.23', '-267.42', '-405.44']\n",
      "100 fitness avgs: ['-94.18', '-96.66', '-95.79', '-98.58']\n"
     ]
    },
    {
     "name": "stderr",
     "output_type": "stream",
     "text": [
      " 70%|█████████████████████████████████████████████████████████████████████████▋                               | 10519/15000 [45:12<06:50, 10.91it/s]"
     ]
    },
    {
     "name": "stdout",
     "output_type": "stream",
     "text": [
      "Episode 10520/15000\n",
      "Fitnesses: ['-170.59', '-511.79', '-649.21', '-229.58']\n",
      "100 fitness avgs: ['-93.52', '-99.41', '-98.31', '-94.11']\n"
     ]
    },
    {
     "name": "stderr",
     "output_type": "stream",
     "text": [
      " 70%|█████████████████████████████████████████████████████████████████████████▊                               | 10539/15000 [45:15<08:03,  9.23it/s]"
     ]
    },
    {
     "name": "stdout",
     "output_type": "stream",
     "text": [
      "Episode 10540/15000\n",
      "Fitnesses: ['-44.73', '-121.57', '-532.56', '-592.16']\n",
      "100 fitness avgs: ['-93.58', '-100.24', '-98.46', '-99.65']\n"
     ]
    },
    {
     "name": "stderr",
     "output_type": "stream",
     "text": [
      " 70%|█████████████████████████████████████████████████████████████████████████▉                               | 10559/15000 [45:19<08:25,  8.79it/s]"
     ]
    },
    {
     "name": "stdout",
     "output_type": "stream",
     "text": [
      "Episode 10560/15000\n",
      "Fitnesses: ['-116.32', '-124.05', '-190.49', '-246.89']\n",
      "100 fitness avgs: ['-94.21', '-99.17', '-94.95', '-102.18']\n"
     ]
    },
    {
     "name": "stderr",
     "output_type": "stream",
     "text": [
      " 71%|██████████████████████████████████████████████████████████████████████████                               | 10579/15000 [45:24<10:39,  6.91it/s]"
     ]
    },
    {
     "name": "stdout",
     "output_type": "stream",
     "text": [
      "Episode 10580/15000\n",
      "Fitnesses: ['-237.46', '-205.63', '-226.85', '-316.94']\n",
      "100 fitness avgs: ['-96.04', '-95.72', '-95.93', '-101.79']\n"
     ]
    },
    {
     "name": "stderr",
     "output_type": "stream",
     "text": [
      " 71%|██████████████████████████████████████████████████████████████████████████▏                              | 10599/15000 [45:29<08:39,  8.48it/s]"
     ]
    },
    {
     "name": "stdout",
     "output_type": "stream",
     "text": [
      "Episode 10600/15000\n",
      "Fitnesses: ['-67.62', '-144.04', '-96.11', '-219.77']\n",
      "100 fitness avgs: ['-91.67', '-92.43', '-91.96', '-93.40']\n"
     ]
    },
    {
     "name": "stderr",
     "output_type": "stream",
     "text": [
      " 71%|██████████████████████████████████████████████████████████████████████████▎                              | 10619/15000 [45:33<10:12,  7.15it/s]"
     ]
    },
    {
     "name": "stdout",
     "output_type": "stream",
     "text": [
      "Episode 10620/15000\n",
      "Fitnesses: ['-229.97', '-159.26', '-26.51', '-237.62']\n",
      "100 fitness avgs: ['-93.85', '-93.43', '-92.10', '-94.69']\n"
     ]
    },
    {
     "name": "stderr",
     "output_type": "stream",
     "text": [
      " 71%|██████████████████████████████████████████████████████████████████████████▍                              | 10639/15000 [45:37<09:14,  7.87it/s]"
     ]
    },
    {
     "name": "stdout",
     "output_type": "stream",
     "text": [
      "Episode 10640/15000\n",
      "Fitnesses: ['-60.89', '-26.41', '-157.75', '-115.62']\n",
      "100 fitness avgs: ['-89.77', '-91.17', '-92.06', '-91.64']\n"
     ]
    },
    {
     "name": "stderr",
     "output_type": "stream",
     "text": [
      " 71%|██████████████████████████████████████████████████████████████████████████▌                              | 10659/15000 [45:41<09:13,  7.84it/s]"
     ]
    },
    {
     "name": "stdout",
     "output_type": "stream",
     "text": [
      "Episode 10660/15000\n",
      "Fitnesses: ['-116.53', '-71.87', '-30.55', '-18.06']\n",
      "100 fitness avgs: ['-92.20', '-91.76', '-92.24', '-91.69']\n"
     ]
    },
    {
     "name": "stderr",
     "output_type": "stream",
     "text": [
      " 71%|██████████████████████████████████████████████████████████████████████████▊                              | 10679/15000 [45:45<07:56,  9.07it/s]"
     ]
    },
    {
     "name": "stdout",
     "output_type": "stream",
     "text": [
      "Episode 10680/15000\n",
      "Fitnesses: ['-1.96', '-95.15', '-50.83', '-397.59']\n",
      "100 fitness avgs: ['-90.82', '-91.75', '-91.82', '-94.77']\n"
     ]
    },
    {
     "name": "stderr",
     "output_type": "stream",
     "text": [
      " 71%|██████████████████████████████████████████████████████████████████████████▉                              | 10699/15000 [45:50<07:49,  9.17it/s]"
     ]
    },
    {
     "name": "stdout",
     "output_type": "stream",
     "text": [
      "Episode 10700/15000\n",
      "Fitnesses: ['-24.96', '-30.05', '-80.97', '-3.82']\n",
      "100 fitness avgs: ['-90.86', '-91.91', '-91.42', '-90.65']\n"
     ]
    },
    {
     "name": "stderr",
     "output_type": "stream",
     "text": [
      " 71%|███████████████████████████████████████████████████████████████████████████                              | 10719/15000 [45:54<07:45,  9.20it/s]"
     ]
    },
    {
     "name": "stdout",
     "output_type": "stream",
     "text": [
      "Episode 10720/15000\n",
      "Fitnesses: ['-2.76', '-15.33', '-320.63', '-106.91']\n",
      "100 fitness avgs: ['-86.42', '-86.55', '-89.81', '-87.67']\n"
     ]
    },
    {
     "name": "stderr",
     "output_type": "stream",
     "text": [
      " 72%|███████████████████████████████████████████████████████████████████████████▏                             | 10738/15000 [45:57<08:09,  8.71it/s]"
     ]
    },
    {
     "name": "stdout",
     "output_type": "stream",
     "text": [
      "Episode 10740/15000\n",
      "Fitnesses: ['-204.91', '-60.73', '-433.69', '-55.32']\n",
      "100 fitness avgs: ['-88.21', '-86.77', '-91.75', '-86.84']\n"
     ]
    },
    {
     "name": "stderr",
     "output_type": "stream",
     "text": [
      " 72%|███████████████████████████████████████████████████████████████████████████▎                             | 10759/15000 [46:00<07:39,  9.24it/s]"
     ]
    },
    {
     "name": "stdout",
     "output_type": "stream",
     "text": [
      "Episode 10760/15000\n",
      "Fitnesses: ['-43.59', '-88.02', '-106.21', '-15.98']\n",
      "100 fitness avgs: ['-86.55', '-86.99', '-87.10', '-86.27']\n"
     ]
    },
    {
     "name": "stderr",
     "output_type": "stream",
     "text": [
      " 72%|███████████████████████████████████████████████████████████████████████████▍                             | 10779/15000 [46:04<08:39,  8.12it/s]"
     ]
    },
    {
     "name": "stdout",
     "output_type": "stream",
     "text": [
      "Episode 10780/15000\n",
      "Fitnesses: ['-67.24', '-94.48', '-106.18', '-40.62']\n",
      "100 fitness avgs: ['-86.28', '-86.55', '-86.67', '-86.02']\n"
     ]
    },
    {
     "name": "stderr",
     "output_type": "stream",
     "text": [
      " 72%|███████████████████████████████████████████████████████████████████████████▌                             | 10799/15000 [46:09<09:32,  7.33it/s]"
     ]
    },
    {
     "name": "stdout",
     "output_type": "stream",
     "text": [
      "Episode 10800/15000\n",
      "Fitnesses: ['-59.22', '-136.21', '-37.01', '-68.32']\n",
      "100 fitness avgs: ['-86.36', '-87.67', '-86.40', '-86.99']\n"
     ]
    },
    {
     "name": "stderr",
     "output_type": "stream",
     "text": [
      " 72%|███████████████████████████████████████████████████████████████████████████▋                             | 10819/15000 [46:13<07:58,  8.74it/s]"
     ]
    },
    {
     "name": "stdout",
     "output_type": "stream",
     "text": [
      "Episode 10820/15000\n",
      "Fitnesses: ['-103.95', '-10.70', '-40.69', '-46.88']\n",
      "100 fitness avgs: ['-86.42', '-85.45', '-85.75', '-85.81']\n"
     ]
    },
    {
     "name": "stderr",
     "output_type": "stream",
     "text": [
      " 72%|███████████████████████████████████████████████████████████████████████████▊                             | 10839/15000 [46:17<08:10,  8.48it/s]"
     ]
    },
    {
     "name": "stdout",
     "output_type": "stream",
     "text": [
      "Episode 10840/15000\n",
      "Fitnesses: ['-394.96', '-145.98', '-16.11', '-74.56']\n",
      "100 fitness avgs: ['-88.58', '-86.39', '-85.09', '-85.67']\n"
     ]
    },
    {
     "name": "stderr",
     "output_type": "stream",
     "text": [
      " 72%|████████████████████████████████████████████████████████████████████████████                             | 10859/15000 [46:21<07:57,  8.67it/s]"
     ]
    },
    {
     "name": "stdout",
     "output_type": "stream",
     "text": [
      "Episode 10860/15000\n",
      "Fitnesses: ['-266.45', '-14.61', '-15.10', '-425.49']\n",
      "100 fitness avgs: ['-87.38', '-84.86', '-85.45', '-92.45']\n"
     ]
    },
    {
     "name": "stderr",
     "output_type": "stream",
     "text": [
      " 73%|████████████████████████████████████████████████████████████████████████████▏                            | 10879/15000 [46:25<08:26,  8.13it/s]"
     ]
    },
    {
     "name": "stdout",
     "output_type": "stream",
     "text": [
      "Episode 10880/15000\n",
      "Fitnesses: ['-149.44', '-90.90', '-31.20', '-173.60']\n",
      "100 fitness avgs: ['-86.23', '-85.65', '-85.05', '-86.47']\n"
     ]
    },
    {
     "name": "stderr",
     "output_type": "stream",
     "text": [
      " 73%|████████████████████████████████████████████████████████████████████████████▎                            | 10899/15000 [46:29<08:20,  8.20it/s]"
     ]
    },
    {
     "name": "stdout",
     "output_type": "stream",
     "text": [
      "Episode 10900/15000\n",
      "Fitnesses: ['-75.33', '-108.30', '-152.98', '-91.79']\n",
      "100 fitness avgs: ['-83.56', '-85.07', '-84.33', '-85.14']\n"
     ]
    },
    {
     "name": "stderr",
     "output_type": "stream",
     "text": [
      " 73%|████████████████████████████████████████████████████████████████████████████▍                            | 10919/15000 [46:34<10:25,  6.52it/s]"
     ]
    },
    {
     "name": "stdout",
     "output_type": "stream",
     "text": [
      "Episode 10920/15000\n",
      "Fitnesses: ['-382.17', '-495.50', '-338.18', '-36.95']\n",
      "100 fitness avgs: ['-87.09', '-88.22', '-88.16', '-83.64']\n"
     ]
    },
    {
     "name": "stderr",
     "output_type": "stream",
     "text": [
      " 73%|████████████████████████████████████████████████████████████████████████████▌                            | 10939/15000 [46:40<09:03,  7.47it/s]"
     ]
    },
    {
     "name": "stdout",
     "output_type": "stream",
     "text": [
      "Episode 10940/15000\n",
      "Fitnesses: ['-98.03', '-313.82', '-28.12', '-103.13']\n",
      "100 fitness avgs: ['-84.52', '-86.68', '-88.34', '-89.09']\n"
     ]
    },
    {
     "name": "stderr",
     "output_type": "stream",
     "text": [
      " 73%|████████████████████████████████████████████████████████████████████████████▋                            | 10959/15000 [46:44<07:24,  9.08it/s]"
     ]
    },
    {
     "name": "stdout",
     "output_type": "stream",
     "text": [
      "Episode 10960/15000\n",
      "Fitnesses: ['-85.50', '-119.31', '-372.72', '-41.50']\n",
      "100 fitness avgs: ['-88.92', '-89.25', '-91.79', '-89.23']\n"
     ]
    },
    {
     "name": "stderr",
     "output_type": "stream",
     "text": [
      " 73%|████████████████████████████████████████████████████████████████████████████▊                            | 10979/15000 [46:47<08:26,  7.94it/s]"
     ]
    },
    {
     "name": "stdout",
     "output_type": "stream",
     "text": [
      "Episode 10980/15000\n",
      "Fitnesses: ['-4.74', '-17.25', '-88.51', '-11.99']\n",
      "100 fitness avgs: ['-89.26', '-89.07', '-89.79', '-89.33']\n"
     ]
    },
    {
     "name": "stderr",
     "output_type": "stream",
     "text": [
      " 73%|████████████████████████████████████████████████████████████████████████████▉                            | 10999/15000 [46:51<08:12,  8.12it/s]"
     ]
    },
    {
     "name": "stdout",
     "output_type": "stream",
     "text": [
      "Episode 11000/15000\n",
      "Fitnesses: ['-135.37', '-95.60', '-650.86', '-91.10']\n",
      "100 fitness avgs: ['-90.13', '-89.73', '-95.10', '-90.21']\n"
     ]
    },
    {
     "name": "stderr",
     "output_type": "stream",
     "text": [
      " 73%|█████████████████████████████████████████████████████████████████████████████▏                           | 11019/15000 [46:57<08:29,  7.81it/s]"
     ]
    },
    {
     "name": "stdout",
     "output_type": "stream",
     "text": [
      "Episode 11020/15000\n",
      "Fitnesses: ['-89.50', '-476.85', '-579.42', '-63.41']\n",
      "100 fitness avgs: ['-90.79', '-94.66', '-95.69', '-90.53']\n"
     ]
    },
    {
     "name": "stderr",
     "output_type": "stream",
     "text": [
      " 74%|█████████████████████████████████████████████████████████████████████████████▎                           | 11039/15000 [47:02<09:36,  6.87it/s]"
     ]
    },
    {
     "name": "stdout",
     "output_type": "stream",
     "text": [
      "Episode 11040/15000\n",
      "Fitnesses: ['-425.15', '-261.22', '-400.66', '-375.75']\n",
      "100 fitness avgs: ['-94.66', '-97.15', '-94.41', '-98.30']\n"
     ]
    },
    {
     "name": "stderr",
     "output_type": "stream",
     "text": [
      " 74%|█████████████████████████████████████████████████████████████████████████████▍                           | 11059/15000 [47:07<09:51,  6.67it/s]"
     ]
    },
    {
     "name": "stdout",
     "output_type": "stream",
     "text": [
      "Episode 11060/15000\n",
      "Fitnesses: ['-253.58', '-326.85', '-387.24', '-387.61']\n",
      "100 fitness avgs: ['-99.49', '-100.23', '-100.83', '-100.83']\n"
     ]
    },
    {
     "name": "stderr",
     "output_type": "stream",
     "text": [
      " 74%|█████████████████████████████████████████████████████████████████████████████▌                           | 11079/15000 [47:14<10:29,  6.22it/s]"
     ]
    },
    {
     "name": "stdout",
     "output_type": "stream",
     "text": [
      "Episode 11080/15000\n",
      "Fitnesses: ['-572.11', '-718.90', '-441.72', '-327.37']\n",
      "100 fitness avgs: ['-105.20', '-106.67', '-104.63', '-102.75']\n"
     ]
    },
    {
     "name": "stderr",
     "output_type": "stream",
     "text": [
      " 74%|█████████████████████████████████████████████████████████████████████████████▋                           | 11099/15000 [47:22<09:37,  6.75it/s]"
     ]
    },
    {
     "name": "stdout",
     "output_type": "stream",
     "text": [
      "Episode 11100/15000\n",
      "Fitnesses: ['-341.91', '-524.52', '-417.43', '-280.92']\n",
      "100 fitness avgs: ['-106.12', '-107.95', '-108.75', '-107.39']\n"
     ]
    },
    {
     "name": "stderr",
     "output_type": "stream",
     "text": [
      " 74%|█████████████████████████████████████████████████████████████████████████████▊                           | 11119/15000 [47:27<10:53,  5.94it/s]"
     ]
    },
    {
     "name": "stdout",
     "output_type": "stream",
     "text": [
      "Episode 11120/15000\n",
      "Fitnesses: ['-198.65', '-261.04', '-340.89', '-535.27']\n",
      "100 fitness avgs: ['-109.34', '-109.96', '-109.50', '-111.44']\n"
     ]
    },
    {
     "name": "stderr",
     "output_type": "stream",
     "text": [
      " 74%|█████████████████████████████████████████████████████████████████████████████▉                           | 11139/15000 [47:33<10:49,  5.95it/s]"
     ]
    },
    {
     "name": "stdout",
     "output_type": "stream",
     "text": [
      "Episode 11140/15000\n",
      "Fitnesses: ['-49.27', '-4.08', '-1.00', '-83.11']\n",
      "100 fitness avgs: ['-109.80', '-109.97', '-109.31', '-110.76']\n"
     ]
    },
    {
     "name": "stderr",
     "output_type": "stream",
     "text": [
      " 74%|██████████████████████████████████████████████████████████████████████████████                           | 11159/15000 [47:40<09:45,  6.56it/s]"
     ]
    },
    {
     "name": "stdout",
     "output_type": "stream",
     "text": [
      "Episode 11160/15000\n",
      "Fitnesses: ['-108.77', '-601.87', '-83.76', '-19.21']\n",
      "100 fitness avgs: ['-109.45', '-114.87', '-109.86', '-108.56']\n"
     ]
    },
    {
     "name": "stderr",
     "output_type": "stream",
     "text": [
      " 75%|██████████████████████████████████████████████████████████████████████████████▎                          | 11179/15000 [47:47<09:40,  6.58it/s]"
     ]
    },
    {
     "name": "stdout",
     "output_type": "stream",
     "text": [
      "Episode 11180/15000\n",
      "Fitnesses: ['-402.79', '-87.79', '-11.64', '-94.29']\n",
      "100 fitness avgs: ['-112.36', '-115.52', '-109.75', '-110.58']\n"
     ]
    },
    {
     "name": "stderr",
     "output_type": "stream",
     "text": [
      " 75%|██████████████████████████████████████████████████████████████████████████████▍                          | 11199/15000 [47:55<09:34,  6.62it/s]"
     ]
    },
    {
     "name": "stdout",
     "output_type": "stream",
     "text": [
      "Episode 11200/15000\n",
      "Fitnesses: ['-126.48', '-116.85', '-21.27', '-240.81']\n",
      "100 fitness avgs: ['-110.36', '-110.26', '-109.30', '-112.33']\n"
     ]
    },
    {
     "name": "stderr",
     "output_type": "stream",
     "text": [
      " 75%|██████████████████████████████████████████████████████████████████████████████▌                          | 11219/15000 [48:01<09:41,  6.50it/s]"
     ]
    },
    {
     "name": "stdout",
     "output_type": "stream",
     "text": [
      "Episode 11220/15000\n",
      "Fitnesses: ['-3.46', '-79.15', '-18.12', '-51.76']\n",
      "100 fitness avgs: ['-109.31', '-111.12', '-109.46', '-109.80']\n"
     ]
    },
    {
     "name": "stderr",
     "output_type": "stream",
     "text": [
      " 75%|██████████████████████████████████████████████████████████████████████████████▋                          | 11239/15000 [48:06<09:07,  6.87it/s]"
     ]
    },
    {
     "name": "stdout",
     "output_type": "stream",
     "text": [
      "Episode 11240/15000\n",
      "Fitnesses: ['-95.28', '-22.84', '-117.30', '-5.09']\n",
      "100 fitness avgs: ['-110.13', '-109.40', '-110.35', '-109.37']\n"
     ]
    },
    {
     "name": "stderr",
     "output_type": "stream",
     "text": [
      " 75%|██████████████████████████████████████████████████████████████████████████████▊                          | 11259/15000 [48:13<10:00,  6.23it/s]"
     ]
    },
    {
     "name": "stdout",
     "output_type": "stream",
     "text": [
      "Episode 11260/15000\n",
      "Fitnesses: ['-30.34', '-75.60', '-12.78', '-83.71']\n",
      "100 fitness avgs: ['-109.23', '-109.68', '-109.06', '-109.80']\n"
     ]
    },
    {
     "name": "stderr",
     "output_type": "stream",
     "text": [
      " 75%|██████████████████████████████████████████████████████████████████████████████▉                          | 11279/15000 [48:19<10:24,  5.96it/s]"
     ]
    },
    {
     "name": "stdout",
     "output_type": "stream",
     "text": [
      "Episode 11280/15000\n",
      "Fitnesses: ['-31.39', '-210.64', '-32.72', '-74.22']\n",
      "100 fitness avgs: ['-109.16', '-111.13', '-109.35', '-109.77']\n"
     ]
    },
    {
     "name": "stderr",
     "output_type": "stream",
     "text": [
      " 75%|███████████████████████████████████████████████████████████████████████████████                          | 11299/15000 [48:24<09:59,  6.17it/s]"
     ]
    },
    {
     "name": "stdout",
     "output_type": "stream",
     "text": [
      "Episode 11300/15000\n",
      "Fitnesses: ['-81.90', '-67.36', '-19.76', '-97.79']\n",
      "100 fitness avgs: ['-109.97', '-109.83', '-109.35', '-110.32']\n"
     ]
    },
    {
     "name": "stderr",
     "output_type": "stream",
     "text": [
      " 75%|███████████████████████████████████████████████████████████████████████████████▏                         | 11319/15000 [48:31<10:45,  5.70it/s]"
     ]
    },
    {
     "name": "stdout",
     "output_type": "stream",
     "text": [
      "Episode 11320/15000\n",
      "Fitnesses: ['-89.95', '-57.44', '-166.08', '-97.74']\n",
      "100 fitness avgs: ['-109.72', '-109.40', '-110.49', '-110.42']\n"
     ]
    },
    {
     "name": "stderr",
     "output_type": "stream",
     "text": [
      " 76%|███████████████████████████████████████████████████████████████████████████████▎                         | 11339/15000 [48:36<09:24,  6.49it/s]"
     ]
    },
    {
     "name": "stdout",
     "output_type": "stream",
     "text": [
      "Episode 11340/15000\n",
      "Fitnesses: ['-219.08', '-55.92', '-49.77', '-230.57']\n",
      "100 fitness avgs: ['-111.55', '-109.92', '-109.86', '-111.99']\n"
     ]
    },
    {
     "name": "stderr",
     "output_type": "stream",
     "text": [
      " 76%|███████████████████████████████████████████████████████████████████████████████▌                         | 11359/15000 [48:44<10:42,  5.67it/s]"
     ]
    },
    {
     "name": "stdout",
     "output_type": "stream",
     "text": [
      "Episode 11360/15000\n",
      "Fitnesses: ['-4.93', '-152.67', '-37.73', '-4.20']\n",
      "100 fitness avgs: ['-109.39', '-110.93', '-109.72', '-109.38']\n"
     ]
    },
    {
     "name": "stderr",
     "output_type": "stream",
     "text": [
      " 76%|███████████████████████████████████████████████████████████████████████████████▋                         | 11379/15000 [48:51<09:20,  6.46it/s]"
     ]
    },
    {
     "name": "stdout",
     "output_type": "stream",
     "text": [
      "Episode 11380/15000\n",
      "Fitnesses: ['-59.28', '-144.45', '-5.10', '-43.92']\n",
      "100 fitness avgs: ['-109.91', '-110.77', '-109.37', '-109.76']\n"
     ]
    },
    {
     "name": "stderr",
     "output_type": "stream",
     "text": [
      " 76%|███████████████████████████████████████████████████████████████████████████████▊                         | 11399/15000 [48:57<09:55,  6.05it/s]"
     ]
    },
    {
     "name": "stdout",
     "output_type": "stream",
     "text": [
      "Episode 11400/15000\n",
      "Fitnesses: ['-266.09', '-93.87', '-98.69', '-22.36']\n",
      "100 fitness avgs: ['-111.96', '-110.63', '-110.83', '-109.91']\n"
     ]
    },
    {
     "name": "stderr",
     "output_type": "stream",
     "text": [
      " 76%|███████████████████████████████████████████████████████████████████████████████▉                         | 11419/15000 [49:02<09:48,  6.09it/s]"
     ]
    },
    {
     "name": "stdout",
     "output_type": "stream",
     "text": [
      "Episode 11420/15000\n",
      "Fitnesses: ['-55.40', '-14.23', '-8.95', '-73.98']\n",
      "100 fitness avgs: ['-110.21', '-110.71', '-109.74', '-111.11']\n"
     ]
    },
    {
     "name": "stderr",
     "output_type": "stream",
     "text": [
      " 76%|████████████████████████████████████████████████████████████████████████████████                         | 11439/15000 [49:10<09:53,  6.00it/s]"
     ]
    },
    {
     "name": "stdout",
     "output_type": "stream",
     "text": [
      "Episode 11440/15000\n",
      "Fitnesses: ['-11.19', '-16.21', '-29.69', '-64.70']\n",
      "100 fitness avgs: ['-109.20', '-110.22', '-109.39', '-109.74']\n"
     ]
    },
    {
     "name": "stderr",
     "output_type": "stream",
     "text": [
      " 76%|████████████████████████████████████████████████████████████████████████████████▏                        | 11459/15000 [49:17<10:59,  5.37it/s]"
     ]
    },
    {
     "name": "stdout",
     "output_type": "stream",
     "text": [
      "Episode 11460/15000\n",
      "Fitnesses: ['-77.73', '-99.79', '-6.65', '-51.35']\n",
      "100 fitness avgs: ['-109.49', '-109.71', '-108.78', '-109.41']\n"
     ]
    },
    {
     "name": "stderr",
     "output_type": "stream",
     "text": [
      " 77%|████████████████████████████████████████████████████████████████████████████████▎                        | 11479/15000 [49:25<09:30,  6.18it/s]"
     ]
    },
    {
     "name": "stdout",
     "output_type": "stream",
     "text": [
      "Episode 11480/15000\n",
      "Fitnesses: ['-158.89', '-7.78', '-29.48', '-53.70']\n",
      "100 fitness avgs: ['-110.17', '-109.29', '-108.88', '-109.75']\n"
     ]
    },
    {
     "name": "stderr",
     "output_type": "stream",
     "text": [
      " 77%|████████████████████████████████████████████████████████████████████████████████▍                        | 11499/15000 [49:30<10:27,  5.58it/s]"
     ]
    },
    {
     "name": "stdout",
     "output_type": "stream",
     "text": [
      "Episode 11500/15000\n",
      "Fitnesses: ['-47.89', '-51.72', '-31.09', '-28.41']\n",
      "100 fitness avgs: ['-107.90', '-108.40', '-107.32', '-107.71']\n"
     ]
    },
    {
     "name": "stderr",
     "output_type": "stream",
     "text": [
      " 77%|████████████████████████████████████████████████████████████████████████████████▋                        | 11519/15000 [49:36<09:13,  6.28it/s]"
     ]
    },
    {
     "name": "stdout",
     "output_type": "stream",
     "text": [
      "Episode 11520/15000\n",
      "Fitnesses: ['-25.79', '-30.95', '-64.25', '-30.63']\n",
      "100 fitness avgs: ['-107.22', '-106.88', '-107.60', '-106.88']\n"
     ]
    },
    {
     "name": "stderr",
     "output_type": "stream",
     "text": [
      " 77%|████████████████████████████████████████████████████████████████████████████████▊                        | 11539/15000 [49:44<09:37,  5.99it/s]"
     ]
    },
    {
     "name": "stdout",
     "output_type": "stream",
     "text": [
      "Episode 11540/15000\n",
      "Fitnesses: ['-128.06', '-71.28', '-91.16', '-63.84']\n",
      "100 fitness avgs: ['-108.37', '-107.81', '-108.00', '-107.73']\n"
     ]
    },
    {
     "name": "stderr",
     "output_type": "stream",
     "text": [
      " 77%|████████████████████████████████████████████████████████████████████████████████▉                        | 11559/15000 [49:49<09:51,  5.81it/s]"
     ]
    },
    {
     "name": "stdout",
     "output_type": "stream",
     "text": [
      "Episode 11560/15000\n",
      "Fitnesses: ['-81.22', '-15.14', '-173.39', '-102.58']\n",
      "100 fitness avgs: ['-108.31', '-107.92', '-109.51', '-108.53']\n"
     ]
    },
    {
     "name": "stderr",
     "output_type": "stream",
     "text": [
      " 77%|█████████████████████████████████████████████████████████████████████████████████                        | 11579/15000 [49:59<10:11,  5.60it/s]"
     ]
    },
    {
     "name": "stdout",
     "output_type": "stream",
     "text": [
      "Episode 11580/15000\n",
      "Fitnesses: ['-25.67', '-4.15', '-100.74', '-81.88']\n",
      "100 fitness avgs: ['-108.12', '-108.51', '-109.26', '-108.69']\n"
     ]
    },
    {
     "name": "stderr",
     "output_type": "stream",
     "text": [
      " 77%|█████████████████████████████████████████████████████████████████████████████████▏                       | 11599/15000 [50:04<10:19,  5.49it/s]"
     ]
    },
    {
     "name": "stdout",
     "output_type": "stream",
     "text": [
      "Episode 11600/15000\n",
      "Fitnesses: ['-62.92', '-73.49', '-35.47', '-173.97']\n",
      "100 fitness avgs: ['-109.03', '-108.75', '-108.93', '-110.31']\n"
     ]
    },
    {
     "name": "stderr",
     "output_type": "stream",
     "text": [
      " 77%|█████████████████████████████████████████████████████████████████████████████████▎                       | 11619/15000 [50:10<08:16,  6.80it/s]"
     ]
    },
    {
     "name": "stdout",
     "output_type": "stream",
     "text": [
      "Episode 11620/15000\n",
      "Fitnesses: ['-152.18', '-17.41', '-25.74', '-27.40']\n",
      "100 fitness avgs: ['-109.84', '-108.31', '-108.67', '-108.59']\n"
     ]
    },
    {
     "name": "stderr",
     "output_type": "stream",
     "text": [
      " 78%|█████████████████████████████████████████████████████████████████████████████████▍                       | 11639/15000 [50:16<09:19,  6.01it/s]"
     ]
    },
    {
     "name": "stdout",
     "output_type": "stream",
     "text": [
      "Episode 11640/15000\n",
      "Fitnesses: ['-94.79', '-17.58', '-15.98', '-40.58']\n",
      "100 fitness avgs: ['-109.22', '-108.81', '-108.71', '-108.68']\n"
     ]
    },
    {
     "name": "stderr",
     "output_type": "stream",
     "text": [
      " 78%|█████████████████████████████████████████████████████████████████████████████████▌                       | 11659/15000 [50:21<08:44,  6.36it/s]"
     ]
    },
    {
     "name": "stdout",
     "output_type": "stream",
     "text": [
      "Episode 11660/15000\n",
      "Fitnesses: ['-106.66', '-10.32', '-90.88', '-72.19']\n",
      "100 fitness avgs: ['-109.59', '-108.62', '-109.43', '-109.21']\n"
     ]
    },
    {
     "name": "stderr",
     "output_type": "stream",
     "text": [
      " 78%|█████████████████████████████████████████████████████████████████████████████████▊                       | 11679/15000 [50:26<08:28,  6.53it/s]"
     ]
    },
    {
     "name": "stdout",
     "output_type": "stream",
     "text": [
      "Episode 11680/15000\n",
      "Fitnesses: ['-41.18', '-95.47', '-15.14', '-32.27']\n",
      "100 fitness avgs: ['-107.71', '-108.26', '-107.45', '-108.21']\n"
     ]
    },
    {
     "name": "stderr",
     "output_type": "stream",
     "text": [
      " 78%|█████████████████████████████████████████████████████████████████████████████████▉                       | 11699/15000 [50:37<08:32,  6.44it/s]"
     ]
    },
    {
     "name": "stdout",
     "output_type": "stream",
     "text": [
      "Episode 11700/15000\n",
      "Fitnesses: ['-95.35', '-67.80', '-121.21', '-40.20']\n",
      "100 fitness avgs: ['-107.95', '-108.43', '-108.97', '-108.15']\n"
     ]
    },
    {
     "name": "stderr",
     "output_type": "stream",
     "text": [
      " 78%|██████████████████████████████████████████████████████████████████████████████████                       | 11719/15000 [50:45<07:48,  7.01it/s]"
     ]
    },
    {
     "name": "stdout",
     "output_type": "stream",
     "text": [
      "Episode 11720/15000\n",
      "Fitnesses: ['-73.50', '-35.78', '-40.19', '-125.09']\n",
      "100 fitness avgs: ['-108.27', '-107.89', '-108.75', '-108.79']\n"
     ]
    },
    {
     "name": "stderr",
     "output_type": "stream",
     "text": [
      " 78%|██████████████████████████████████████████████████████████████████████████████████▏                      | 11739/15000 [50:53<07:36,  7.14it/s]"
     ]
    },
    {
     "name": "stdout",
     "output_type": "stream",
     "text": [
      "Episode 11740/15000\n",
      "Fitnesses: ['-104.01', '-41.30', '-78.40', '-89.02']\n",
      "100 fitness avgs: ['-108.09', '-107.46', '-108.72', '-108.31']\n"
     ]
    },
    {
     "name": "stderr",
     "output_type": "stream",
     "text": [
      " 78%|██████████████████████████████████████████████████████████████████████████████████▎                      | 11759/15000 [50:58<08:06,  6.66it/s]"
     ]
    },
    {
     "name": "stdout",
     "output_type": "stream",
     "text": [
      "Episode 11760/15000\n",
      "Fitnesses: ['-193.86', '-7.73', '-119.62', '-91.19']\n",
      "100 fitness avgs: ['-109.21', '-107.98', '-109.74', '-109.04']\n"
     ]
    },
    {
     "name": "stderr",
     "output_type": "stream",
     "text": [
      " 79%|██████████████████████████████████████████████████████████████████████████████████▍                      | 11779/15000 [51:03<07:19,  7.34it/s]"
     ]
    },
    {
     "name": "stdout",
     "output_type": "stream",
     "text": [
      "Episode 11780/15000\n",
      "Fitnesses: ['-1.87', '-70.80', '-71.61', '-178.17']\n",
      "100 fitness avgs: ['-107.99', '-110.44', '-109.92', '-110.82']\n"
     ]
    },
    {
     "name": "stderr",
     "output_type": "stream",
     "text": [
      " 79%|██████████████████████████████████████████████████████████████████████████████████▌                      | 11799/15000 [51:09<08:31,  6.26it/s]"
     ]
    },
    {
     "name": "stdout",
     "output_type": "stream",
     "text": [
      "Episode 11800/15000\n",
      "Fitnesses: ['-68.63', '-14.18', '-78.84', '-7.63']\n",
      "100 fitness avgs: ['-108.46', '-107.92', '-108.56', '-109.78']\n"
     ]
    },
    {
     "name": "stderr",
     "output_type": "stream",
     "text": [
      " 79%|██████████████████████████████████████████████████████████████████████████████████▋                      | 11819/15000 [51:14<08:16,  6.41it/s]"
     ]
    },
    {
     "name": "stdout",
     "output_type": "stream",
     "text": [
      "Episode 11820/15000\n",
      "Fitnesses: ['-197.17', '-86.49', '-12.70', '-29.80']\n",
      "100 fitness avgs: ['-111.64', '-110.54', '-108.48', '-108.65']\n"
     ]
    },
    {
     "name": "stderr",
     "output_type": "stream",
     "text": [
      " 79%|██████████████████████████████████████████████████████████████████████████████████▊                      | 11839/15000 [51:22<08:04,  6.52it/s]"
     ]
    },
    {
     "name": "stdout",
     "output_type": "stream",
     "text": [
      "Episode 11840/15000\n",
      "Fitnesses: ['-33.64', '-16.71', '-176.10', '-6.27']\n",
      "100 fitness avgs: ['-108.68', '-108.69', '-110.11', '-110.47']\n"
     ]
    },
    {
     "name": "stderr",
     "output_type": "stream",
     "text": [
      " 79%|███████████████████████████████████████████████████████████████████████████████████                      | 11859/15000 [51:28<07:58,  6.57it/s]"
     ]
    },
    {
     "name": "stdout",
     "output_type": "stream",
     "text": [
      "Episode 11860/15000\n",
      "Fitnesses: ['-146.03', '-201.17', '-18.26', '-35.29']\n",
      "100 fitness avgs: ['-110.90', '-111.45', '-109.62', '-108.00']\n"
     ]
    },
    {
     "name": "stderr",
     "output_type": "stream",
     "text": [
      " 79%|███████████████████████████████████████████████████████████████████████████████████▏                     | 11879/15000 [51:33<07:32,  6.89it/s]"
     ]
    },
    {
     "name": "stdout",
     "output_type": "stream",
     "text": [
      "Episode 11880/15000\n",
      "Fitnesses: ['-67.39', '-13.78', '-72.91', '-12.54']\n",
      "100 fitness avgs: ['-109.07', '-106.92', '-109.12', '-106.91']\n"
     ]
    },
    {
     "name": "stderr",
     "output_type": "stream",
     "text": [
      " 79%|███████████████████████████████████████████████████████████████████████████████████▎                     | 11899/15000 [51:41<07:43,  6.70it/s]"
     ]
    },
    {
     "name": "stdout",
     "output_type": "stream",
     "text": [
      "Episode 11900/15000\n",
      "Fitnesses: ['-30.69', '-17.15', '-35.01', '-70.10']\n",
      "100 fitness avgs: ['-106.68', '-106.55', '-106.74', '-109.24']\n"
     ]
    },
    {
     "name": "stderr",
     "output_type": "stream",
     "text": [
      " 79%|███████████████████████████████████████████████████████████████████████████████████▍                     | 11919/15000 [51:49<06:53,  7.45it/s]"
     ]
    },
    {
     "name": "stdout",
     "output_type": "stream",
     "text": [
      "Episode 11920/15000\n",
      "Fitnesses: ['-108.57', '-16.28', '-9.85', '-29.97']\n",
      "100 fitness avgs: ['-106.83', '-106.09', '-105.97', '-106.04']\n"
     ]
    },
    {
     "name": "stderr",
     "output_type": "stream",
     "text": [
      " 80%|███████████████████████████████████████████████████████████████████████████████████▌                     | 11939/15000 [51:56<07:53,  6.46it/s]"
     ]
    },
    {
     "name": "stdout",
     "output_type": "stream",
     "text": [
      "Episode 11940/15000\n",
      "Fitnesses: ['-130.34', '-22.87', '-6.20', '-223.33']\n",
      "100 fitness avgs: ['-107.18', '-106.11', '-106.79', '-108.97']\n"
     ]
    },
    {
     "name": "stderr",
     "output_type": "stream",
     "text": [
      " 80%|███████████████████████████████████████████████████████████████████████████████████▋                     | 11959/15000 [52:03<09:00,  5.63it/s]"
     ]
    },
    {
     "name": "stdout",
     "output_type": "stream",
     "text": [
      "Episode 11960/15000\n",
      "Fitnesses: ['-25.98', '-4.13', '-99.24', '-12.90']\n",
      "100 fitness avgs: ['-106.82', '-106.60', '-107.55', '-108.86']\n"
     ]
    },
    {
     "name": "stderr",
     "output_type": "stream",
     "text": [
      " 80%|███████████████████████████████████████████████████████████████████████████████████▊                     | 11979/15000 [52:09<10:17,  4.89it/s]"
     ]
    },
    {
     "name": "stdout",
     "output_type": "stream",
     "text": [
      "Episode 11980/15000\n",
      "Fitnesses: ['-27.14', '-22.78', '-134.59', '-158.10']\n",
      "100 fitness avgs: ['-106.53', '-106.49', '-109.87', '-107.84']\n"
     ]
    },
    {
     "name": "stderr",
     "output_type": "stream",
     "text": [
      " 80%|███████████████████████████████████████████████████████████████████████████████████▉                     | 11999/15000 [52:16<07:46,  6.44it/s]"
     ]
    },
    {
     "name": "stdout",
     "output_type": "stream",
     "text": [
      "Episode 12000/15000\n",
      "Fitnesses: ['-6.91', '-34.14', '-0.57', '-13.15']\n",
      "100 fitness avgs: ['-105.98', '-106.29', '-105.91', '-109.42']\n"
     ]
    },
    {
     "name": "stderr",
     "output_type": "stream",
     "text": [
      " 80%|████████████████████████████████████████████████████████████████████████████████████▏                    | 12019/15000 [52:23<08:17,  5.99it/s]"
     ]
    },
    {
     "name": "stdout",
     "output_type": "stream",
     "text": [
      "Episode 12020/15000\n",
      "Fitnesses: ['-17.53', '-132.57', '-1.27', '-132.66']\n",
      "100 fitness avgs: ['-104.88', '-106.03', '-104.72', '-106.03']\n"
     ]
    },
    {
     "name": "stderr",
     "output_type": "stream",
     "text": [
      " 80%|████████████████████████████████████████████████████████████████████████████████████▎                    | 12039/15000 [52:29<09:35,  5.15it/s]"
     ]
    },
    {
     "name": "stdout",
     "output_type": "stream",
     "text": [
      "Episode 12040/15000\n",
      "Fitnesses: ['-19.86', '-27.50', '-174.04', '-33.82']\n",
      "100 fitness avgs: ['-104.53', '-104.77', '-106.07', '-105.98']\n"
     ]
    },
    {
     "name": "stderr",
     "output_type": "stream",
     "text": [
      " 80%|████████████████████████████████████████████████████████████████████████████████████▍                    | 12059/15000 [52:37<09:12,  5.32it/s]"
     ]
    },
    {
     "name": "stdout",
     "output_type": "stream",
     "text": [
      "Episode 12060/15000\n",
      "Fitnesses: ['-73.00', '-48.11', '-186.28', '-15.53']\n",
      "100 fitness avgs: ['-104.31', '-104.30', '-105.45', '-103.74']\n"
     ]
    },
    {
     "name": "stderr",
     "output_type": "stream",
     "text": [
      " 81%|████████████████████████████████████████████████████████████████████████████████████▌                    | 12079/15000 [52:44<09:23,  5.19it/s]"
     ]
    },
    {
     "name": "stdout",
     "output_type": "stream",
     "text": [
      "Episode 12080/15000\n",
      "Fitnesses: ['-18.01', '-35.10', '-25.13', '-57.42']\n",
      "100 fitness avgs: ['-102.78', '-102.95', '-102.85', '-103.17']\n"
     ]
    },
    {
     "name": "stderr",
     "output_type": "stream",
     "text": [
      " 81%|████████████████████████████████████████████████████████████████████████████████████▋                    | 12099/15000 [52:50<10:30,  4.60it/s]"
     ]
    },
    {
     "name": "stdout",
     "output_type": "stream",
     "text": [
      "Episode 12100/15000\n",
      "Fitnesses: ['-85.33', '-81.47', '-55.20', '-141.13']\n",
      "100 fitness avgs: ['-102.65', '-102.79', '-102.52', '-103.28']\n"
     ]
    },
    {
     "name": "stderr",
     "output_type": "stream",
     "text": [
      " 81%|████████████████████████████████████████████████████████████████████████████████████▊                    | 12119/15000 [52:56<10:19,  4.65it/s]"
     ]
    },
    {
     "name": "stdout",
     "output_type": "stream",
     "text": [
      "Episode 12120/15000\n",
      "Fitnesses: ['-53.43', '-60.11', '-115.77', '-112.47']\n",
      "100 fitness avgs: ['-102.24', '-102.57', '-102.86', '-102.83']\n"
     ]
    },
    {
     "name": "stderr",
     "output_type": "stream",
     "text": [
      " 81%|████████████████████████████████████████████████████████████████████████████████████▉                    | 12139/15000 [53:04<10:28,  4.55it/s]"
     ]
    },
    {
     "name": "stdout",
     "output_type": "stream",
     "text": [
      "Episode 12140/15000\n",
      "Fitnesses: ['-19.59', '-101.49', '-4.35', '-64.02']\n",
      "100 fitness avgs: ['-99.79', '-100.61', '-100.26', '-100.57']\n"
     ]
    },
    {
     "name": "stderr",
     "output_type": "stream",
     "text": [
      " 81%|█████████████████████████████████████████████████████████████████████████████████████                    | 12159/15000 [53:11<10:47,  4.39it/s]"
     ]
    },
    {
     "name": "stdout",
     "output_type": "stream",
     "text": [
      "Episode 12160/15000\n",
      "Fitnesses: ['-10.72', '-23.93', '-28.16', '-80.59']\n",
      "100 fitness avgs: ['-99.15', '-99.28', '-98.86', '-99.38']\n"
     ]
    },
    {
     "name": "stderr",
     "output_type": "stream",
     "text": [
      " 81%|█████████████████████████████████████████████████████████████████████████████████████▎                   | 12179/15000 [53:19<10:32,  4.46it/s]"
     ]
    },
    {
     "name": "stdout",
     "output_type": "stream",
     "text": [
      "Episode 12180/15000\n",
      "Fitnesses: ['-141.67', '-48.63', '-10.19', '-59.78']\n",
      "100 fitness avgs: ['-96.25', '-95.32', '-95.07', '-95.57']\n"
     ]
    },
    {
     "name": "stderr",
     "output_type": "stream",
     "text": [
      " 81%|█████████████████████████████████████████████████████████████████████████████████████▍                   | 12199/15000 [53:25<10:35,  4.41it/s]"
     ]
    },
    {
     "name": "stdout",
     "output_type": "stream",
     "text": [
      "Episode 12200/15000\n",
      "Fitnesses: ['-71.44', '-90.27', '-87.98', '-29.31']\n",
      "100 fitness avgs: ['-94.37', '-95.05', '-95.03', '-94.20']\n"
     ]
    },
    {
     "name": "stderr",
     "output_type": "stream",
     "text": [
      " 81%|█████████████████████████████████████████████████████████████████████████████████████▌                   | 12219/15000 [53:35<11:06,  4.17it/s]"
     ]
    },
    {
     "name": "stdout",
     "output_type": "stream",
     "text": [
      "Episode 12220/15000\n",
      "Fitnesses: ['-16.74', '-5.45', '-61.62', '-59.61']\n",
      "100 fitness avgs: ['-91.02', '-91.74', '-91.47', '-91.45']\n"
     ]
    },
    {
     "name": "stderr",
     "output_type": "stream",
     "text": [
      " 82%|█████████████████████████████████████████████████████████████████████████████████████▋                   | 12239/15000 [53:42<11:23,  4.04it/s]"
     ]
    },
    {
     "name": "stdout",
     "output_type": "stream",
     "text": [
      "Episode 12240/15000\n",
      "Fitnesses: ['-90.53', '-91.26', '-7.16', '-123.98']\n",
      "100 fitness avgs: ['-90.66', '-89.95', '-89.56', '-91.00']\n"
     ]
    },
    {
     "name": "stderr",
     "output_type": "stream",
     "text": [
      " 82%|█████████████████████████████████████████████████████████████████████████████████████▊                   | 12259/15000 [53:49<10:26,  4.37it/s]"
     ]
    },
    {
     "name": "stdout",
     "output_type": "stream",
     "text": [
      "Episode 12260/15000\n",
      "Fitnesses: ['-70.73', '-73.20', '-63.06', '-95.39']\n",
      "100 fitness avgs: ['-87.49', '-87.91', '-87.81', '-87.74']\n"
     ]
    },
    {
     "name": "stderr",
     "output_type": "stream",
     "text": [
      " 82%|█████████████████████████████████████████████████████████████████████████████████████▉                   | 12279/15000 [53:58<10:57,  4.14it/s]"
     ]
    },
    {
     "name": "stdout",
     "output_type": "stream",
     "text": [
      "Episode 12280/15000\n",
      "Fitnesses: ['-27.05', '-12.79', '-52.23', '-19.99']\n",
      "100 fitness avgs: ['-86.76', '-86.30', '-87.01', '-86.38']\n"
     ]
    },
    {
     "name": "stderr",
     "output_type": "stream",
     "text": [
      " 82%|██████████████████████████████████████████████████████████████████████████████████████                   | 12299/15000 [54:05<10:59,  4.09it/s]"
     ]
    },
    {
     "name": "stdout",
     "output_type": "stream",
     "text": [
      "Episode 12300/15000\n",
      "Fitnesses: ['-25.28', '-28.28', '-35.89', '-4.64']\n",
      "100 fitness avgs: ['-84.73', '-85.22', '-84.83', '-84.52']\n"
     ]
    },
    {
     "name": "stderr",
     "output_type": "stream",
     "text": [
      " 82%|██████████████████████████████████████████████████████████████████████████████████████▏                  | 12319/15000 [54:12<08:50,  5.05it/s]"
     ]
    },
    {
     "name": "stdout",
     "output_type": "stream",
     "text": [
      "Episode 12320/15000\n",
      "Fitnesses: ['-9.01', '-39.59', '-62.81', '-16.74']\n",
      "100 fitness avgs: ['-83.32', '-83.84', '-84.56', '-83.40']\n"
     ]
    },
    {
     "name": "stderr",
     "output_type": "stream",
     "text": [
      " 82%|██████████████████████████████████████████████████████████████████████████████████████▎                  | 12339/15000 [54:21<09:53,  4.49it/s]"
     ]
    },
    {
     "name": "stdout",
     "output_type": "stream",
     "text": [
      "Episode 12340/15000\n",
      "Fitnesses: ['-62.30', '-12.48', '-15.28', '-51.52']\n",
      "100 fitness avgs: ['-80.04', '-79.54', '-79.65', '-80.01']\n"
     ]
    },
    {
     "name": "stderr",
     "output_type": "stream",
     "text": [
      " 82%|██████████████████████████████████████████████████████████████████████████████████████▌                  | 12359/15000 [54:29<08:45,  5.03it/s]"
     ]
    },
    {
     "name": "stdout",
     "output_type": "stream",
     "text": [
      "Episode 12360/15000\n",
      "Fitnesses: ['-17.88', '-43.71', '-12.81', '-6.78']\n",
      "100 fitness avgs: ['-77.32', '-77.58', '-77.38', '-77.21']\n"
     ]
    },
    {
     "name": "stderr",
     "output_type": "stream",
     "text": [
      " 83%|██████████████████████████████████████████████████████████████████████████████████████▋                  | 12379/15000 [54:35<08:37,  5.07it/s]"
     ]
    },
    {
     "name": "stdout",
     "output_type": "stream",
     "text": [
      "Episode 12380/15000\n",
      "Fitnesses: ['-9.52', '-77.77', '-22.05', '-116.80']\n",
      "100 fitness avgs: ['-75.83', '-76.67', '-75.95', '-76.90']\n"
     ]
    },
    {
     "name": "stderr",
     "output_type": "stream",
     "text": [
      " 83%|██████████████████████████████████████████████████████████████████████████████████████▊                  | 12399/15000 [54:41<07:23,  5.86it/s]"
     ]
    },
    {
     "name": "stdout",
     "output_type": "stream",
     "text": [
      "Episode 12400/15000\n",
      "Fitnesses: ['-58.62', '-13.11', '-89.91', '-53.17']\n",
      "100 fitness avgs: ['-73.94', '-73.61', '-74.38', '-74.01']\n"
     ]
    },
    {
     "name": "stderr",
     "output_type": "stream",
     "text": [
      " 83%|██████████████████████████████████████████████████████████████████████████████████████▉                  | 12419/15000 [54:46<06:48,  6.32it/s]"
     ]
    },
    {
     "name": "stdout",
     "output_type": "stream",
     "text": [
      "Episode 12420/15000\n",
      "Fitnesses: ['-151.60', '-17.71', '-211.15', '-166.22']\n",
      "100 fitness avgs: ['-72.06', '-71.05', '-72.65', '-72.60']\n"
     ]
    },
    {
     "name": "stderr",
     "output_type": "stream",
     "text": [
      " 83%|███████████████████████████████████████████████████████████████████████████████████████                  | 12439/15000 [54:51<07:40,  5.56it/s]"
     ]
    },
    {
     "name": "stdout",
     "output_type": "stream",
     "text": [
      "Episode 12440/15000\n",
      "Fitnesses: ['-28.99', '-42.96', '-9.78', '-147.81']\n",
      "100 fitness avgs: ['-66.50', '-66.64', '-66.31', '-68.69']\n"
     ]
    },
    {
     "name": "stderr",
     "output_type": "stream",
     "text": [
      " 83%|███████████████████████████████████████████████████████████████████████████████████████▏                 | 12459/15000 [54:57<07:37,  5.56it/s]"
     ]
    },
    {
     "name": "stdout",
     "output_type": "stream",
     "text": [
      "Episode 12460/15000\n",
      "Fitnesses: ['-38.92', '-14.60', '-89.43', '-28.88']\n",
      "100 fitness avgs: ['-64.09', '-63.85', '-64.59', '-63.99']\n"
     ]
    },
    {
     "name": "stderr",
     "output_type": "stream",
     "text": [
      " 83%|███████████████████████████████████████████████████████████████████████████████████████▎                 | 12479/15000 [55:06<07:21,  5.71it/s]"
     ]
    },
    {
     "name": "stdout",
     "output_type": "stream",
     "text": [
      "Episode 12480/15000\n",
      "Fitnesses: ['-47.38', '-15.14', '-36.74', '-120.17']\n",
      "100 fitness avgs: ['-63.30', '-63.22', '-63.34', '-64.03']\n"
     ]
    },
    {
     "name": "stderr",
     "output_type": "stream",
     "text": [
      " 83%|███████████████████████████████████████████████████████████████████████████████████████▍                 | 12499/15000 [55:12<06:57,  5.98it/s]"
     ]
    },
    {
     "name": "stdout",
     "output_type": "stream",
     "text": [
      "Episode 12500/15000\n",
      "Fitnesses: ['-107.77', '-32.93', '-24.12', '-38.95']\n",
      "100 fitness avgs: ['-63.24', '-62.49', '-62.40', '-62.63']\n"
     ]
    },
    {
     "name": "stderr",
     "output_type": "stream",
     "text": [
      " 83%|███████████████████████████████████████████████████████████████████████████████████████▋                 | 12519/15000 [55:18<07:19,  5.64it/s]"
     ]
    },
    {
     "name": "stdout",
     "output_type": "stream",
     "text": [
      "Episode 12520/15000\n",
      "Fitnesses: ['-117.06', '-65.59', '-8.42', '-106.56']\n",
      "100 fitness avgs: ['-61.86', '-61.44', '-60.78', '-61.76']\n"
     ]
    },
    {
     "name": "stderr",
     "output_type": "stream",
     "text": [
      " 84%|███████████████████████████████████████████████████████████████████████████████████████▊                 | 12539/15000 [55:24<08:15,  4.97it/s]"
     ]
    },
    {
     "name": "stdout",
     "output_type": "stream",
     "text": [
      "Episode 12540/15000\n",
      "Fitnesses: ['-3.98', '-102.65', '-145.13', '-57.12']\n",
      "100 fitness avgs: ['-60.37', '-62.02', '-61.78', '-61.56']\n"
     ]
    },
    {
     "name": "stderr",
     "output_type": "stream",
     "text": [
      " 84%|███████████████████████████████████████████████████████████████████████████████████████▉                 | 12559/15000 [55:29<06:50,  5.95it/s]"
     ]
    },
    {
     "name": "stdout",
     "output_type": "stream",
     "text": [
      "Episode 12560/15000\n",
      "Fitnesses: ['-38.73', '-105.70', '-55.06', '-8.29']\n",
      "100 fitness avgs: ['-59.59', '-61.45', '-59.76', '-60.48']\n"
     ]
    },
    {
     "name": "stderr",
     "output_type": "stream",
     "text": [
      " 84%|████████████████████████████████████████████████████████████████████████████████████████                 | 12579/15000 [55:36<06:19,  6.38it/s]"
     ]
    },
    {
     "name": "stdout",
     "output_type": "stream",
     "text": [
      "Episode 12580/15000\n",
      "Fitnesses: ['-63.45', '-0.51', '-5.29', '-197.09']\n",
      "100 fitness avgs: ['-59.06', '-58.43', '-58.48', '-60.40']\n"
     ]
    },
    {
     "name": "stderr",
     "output_type": "stream",
     "text": [
      " 84%|████████████████████████████████████████████████████████████████████████████████████████▏                | 12599/15000 [55:42<06:10,  6.48it/s]"
     ]
    },
    {
     "name": "stdout",
     "output_type": "stream",
     "text": [
      "Episode 12600/15000\n",
      "Fitnesses: ['-23.06', '-68.39', '-57.46', '-114.24']\n",
      "100 fitness avgs: ['-57.70', '-58.78', '-58.67', '-58.66']\n"
     ]
    },
    {
     "name": "stderr",
     "output_type": "stream",
     "text": [
      " 84%|████████████████████████████████████████████████████████████████████████████████████████▎                | 12619/15000 [55:47<06:44,  5.89it/s]"
     ]
    },
    {
     "name": "stdout",
     "output_type": "stream",
     "text": [
      "Episode 12620/15000\n",
      "Fitnesses: ['-20.89', '-19.64', '-15.06', '-56.51']\n",
      "100 fitness avgs: ['-56.32', '-57.39', '-57.23', '-56.67']\n"
     ]
    },
    {
     "name": "stderr",
     "output_type": "stream",
     "text": [
      " 84%|████████████████████████████████████████████████████████████████████████████████████████▍                | 12639/15000 [55:54<06:10,  6.37it/s]"
     ]
    },
    {
     "name": "stdout",
     "output_type": "stream",
     "text": [
      "Episode 12640/15000\n",
      "Fitnesses: ['-20.59', '-33.44', '-115.31', '-43.13']\n",
      "100 fitness avgs: ['-56.28', '-56.41', '-57.23', '-56.66']\n"
     ]
    },
    {
     "name": "stderr",
     "output_type": "stream",
     "text": [
      " 84%|████████████████████████████████████████████████████████████████████████████████████████▌                | 12659/15000 [55:59<06:00,  6.49it/s]"
     ]
    },
    {
     "name": "stdout",
     "output_type": "stream",
     "text": [
      "Episode 12660/15000\n",
      "Fitnesses: ['-4.67', '-52.03', '-70.70', '-23.82']\n",
      "100 fitness avgs: ['-56.15', '-57.57', '-56.94', '-56.47']\n"
     ]
    },
    {
     "name": "stderr",
     "output_type": "stream",
     "text": [
      " 85%|████████████████████████████████████████████████████████████████████████████████████████▊                | 12679/15000 [56:04<06:09,  6.28it/s]"
     ]
    },
    {
     "name": "stdout",
     "output_type": "stream",
     "text": [
      "Episode 12680/15000\n",
      "Fitnesses: ['-47.70', '-22.38', '-113.10', '-9.19']\n",
      "100 fitness avgs: ['-56.60', '-57.14', '-58.05', '-56.22']\n"
     ]
    },
    {
     "name": "stderr",
     "output_type": "stream",
     "text": [
      " 85%|████████████████████████████████████████████████████████████████████████████████████████▉                | 12699/15000 [56:09<06:14,  6.14it/s]"
     ]
    },
    {
     "name": "stdout",
     "output_type": "stream",
     "text": [
      "Episode 12700/15000\n",
      "Fitnesses: ['-109.22', '-108.85', '-25.54', '-39.54']\n",
      "100 fitness avgs: ['-57.27', '-57.27', '-56.44', '-58.40']\n"
     ]
    },
    {
     "name": "stderr",
     "output_type": "stream",
     "text": [
      " 85%|█████████████████████████████████████████████████████████████████████████████████████████                | 12719/15000 [56:15<05:44,  6.63it/s]"
     ]
    },
    {
     "name": "stdout",
     "output_type": "stream",
     "text": [
      "Episode 12720/15000\n",
      "Fitnesses: ['-114.34', '-78.32', '-57.07', '-75.63']\n",
      "100 fitness avgs: ['-57.43', '-57.90', '-58.82', '-59.01']\n"
     ]
    },
    {
     "name": "stderr",
     "output_type": "stream",
     "text": [
      " 85%|█████████████████████████████████████████████████████████████████████████████████████████▏               | 12739/15000 [56:20<05:00,  7.53it/s]"
     ]
    },
    {
     "name": "stdout",
     "output_type": "stream",
     "text": [
      "Episode 12740/15000\n",
      "Fitnesses: ['-203.44', '-36.74', '-27.51', '-44.03']\n",
      "100 fitness avgs: ['-60.30', '-58.64', '-58.73', '-58.89']\n"
     ]
    },
    {
     "name": "stderr",
     "output_type": "stream",
     "text": [
      " 85%|█████████████████████████████████████████████████████████████████████████████████████████▎               | 12759/15000 [56:25<05:24,  6.91it/s]"
     ]
    },
    {
     "name": "stdout",
     "output_type": "stream",
     "text": [
      "Episode 12760/15000\n",
      "Fitnesses: ['-28.69', '-76.17', '-6.32', '-56.29']\n",
      "100 fitness avgs: ['-58.86', '-59.50', '-58.80', '-59.30']\n"
     ]
    },
    {
     "name": "stderr",
     "output_type": "stream",
     "text": [
      " 85%|█████████████████████████████████████████████████████████████████████████████████████████▍               | 12779/15000 [56:30<06:42,  5.52it/s]"
     ]
    },
    {
     "name": "stdout",
     "output_type": "stream",
     "text": [
      "Episode 12780/15000\n",
      "Fitnesses: ['-38.61', '-7.45', '-18.06', '-21.46']\n",
      "100 fitness avgs: ['-58.78', '-58.97', '-58.57', '-58.66']\n"
     ]
    },
    {
     "name": "stderr",
     "output_type": "stream",
     "text": [
      " 85%|█████████████████████████████████████████████████████████████████████████████████████████▌               | 12799/15000 [56:36<05:33,  6.59it/s]"
     ]
    },
    {
     "name": "stdout",
     "output_type": "stream",
     "text": [
      "Episode 12800/15000\n",
      "Fitnesses: ['-75.89', '-11.42', '-3.67', '-23.05']\n",
      "100 fitness avgs: ['-59.13', '-58.09', '-58.41', '-58.21']\n"
     ]
    },
    {
     "name": "stderr",
     "output_type": "stream",
     "text": [
      " 85%|█████████████████████████████████████████████████████████████████████████████████████████▋               | 12819/15000 [56:41<05:02,  7.21it/s]"
     ]
    },
    {
     "name": "stdout",
     "output_type": "stream",
     "text": [
      "Episode 12820/15000\n",
      "Fitnesses: ['-22.14', '-410.96', '-94.47', '-20.53']\n",
      "100 fitness avgs: ['-58.22', '-62.11', '-58.95', '-58.21']\n"
     ]
    },
    {
     "name": "stderr",
     "output_type": "stream",
     "text": [
      " 86%|█████████████████████████████████████████████████████████████████████████████████████████▊               | 12839/15000 [56:49<05:08,  7.00it/s]"
     ]
    },
    {
     "name": "stdout",
     "output_type": "stream",
     "text": [
      "Episode 12840/15000\n",
      "Fitnesses: ['-133.37', '-42.61', '-3.45', '-21.54']\n",
      "100 fitness avgs: ['-59.38', '-58.49', '-61.99', '-58.28']\n"
     ]
    },
    {
     "name": "stderr",
     "output_type": "stream",
     "text": [
      " 86%|██████████████████████████████████████████████████████████████████████████████████████████               | 12859/15000 [56:54<04:18,  8.27it/s]"
     ]
    },
    {
     "name": "stdout",
     "output_type": "stream",
     "text": [
      "Episode 12860/15000\n",
      "Fitnesses: ['-19.16', '-12.51', '-45.90', '-19.77']\n",
      "100 fitness avgs: ['-62.03', '-61.97', '-62.30', '-58.33']\n"
     ]
    },
    {
     "name": "stderr",
     "output_type": "stream",
     "text": [
      " 86%|██████████████████████████████████████████████████████████████████████████████████████████▏              | 12879/15000 [56:59<04:32,  7.78it/s]"
     ]
    },
    {
     "name": "stdout",
     "output_type": "stream",
     "text": [
      "Episode 12880/15000\n",
      "Fitnesses: ['-25.17', '-77.01', '-71.57', '-133.69']\n",
      "100 fitness avgs: ['-60.72', '-61.31', '-61.25', '-61.81']\n"
     ]
    },
    {
     "name": "stderr",
     "output_type": "stream",
     "text": [
      " 86%|██████████████████████████████████████████████████████████████████████████████████████████▎              | 12899/15000 [57:03<04:10,  8.40it/s]"
     ]
    },
    {
     "name": "stdout",
     "output_type": "stream",
     "text": [
      "Episode 12900/15000\n",
      "Fitnesses: ['-33.87', '-174.28', '-42.85', '-1.10']\n",
      "100 fitness avgs: ['-59.98', '-61.38', '-60.07', '-60.18']\n"
     ]
    },
    {
     "name": "stderr",
     "output_type": "stream",
     "text": [
      " 86%|██████████████████████████████████████████████████████████████████████████████████████████▍              | 12919/15000 [57:07<04:20,  8.00it/s]"
     ]
    },
    {
     "name": "stdout",
     "output_type": "stream",
     "text": [
      "Episode 12920/15000\n",
      "Fitnesses: ['-210.74', '-116.11', '-18.15', '-85.12']\n",
      "100 fitness avgs: ['-58.91', '-57.96', '-56.98', '-57.65']\n"
     ]
    },
    {
     "name": "stderr",
     "output_type": "stream",
     "text": [
      " 86%|██████████████████████████████████████████████████████████████████████████████████████████▌              | 12939/15000 [57:11<04:03,  8.46it/s]"
     ]
    },
    {
     "name": "stdout",
     "output_type": "stream",
     "text": [
      "Episode 12940/15000\n",
      "Fitnesses: ['-46.05', '-18.05', '-3.64', '-39.31']\n",
      "100 fitness avgs: ['-57.16', '-56.88', '-56.74', '-57.09']\n"
     ]
    },
    {
     "name": "stderr",
     "output_type": "stream",
     "text": [
      " 86%|██████████████████████████████████████████████████████████████████████████████████████████▋              | 12959/15000 [57:14<03:44,  9.08it/s]"
     ]
    },
    {
     "name": "stdout",
     "output_type": "stream",
     "text": [
      "Episode 12960/15000\n",
      "Fitnesses: ['-208.51', '-24.44', '-26.40', '-5.41']\n",
      "100 fitness avgs: ['-57.97', '-56.13', '-56.50', '-56.08']\n"
     ]
    },
    {
     "name": "stderr",
     "output_type": "stream",
     "text": [
      " 87%|██████████████████████████████████████████████████████████████████████████████████████████▊              | 12979/15000 [57:18<04:08,  8.14it/s]"
     ]
    },
    {
     "name": "stdout",
     "output_type": "stream",
     "text": [
      "Episode 12980/15000\n",
      "Fitnesses: ['-17.16', '-72.39', '-53.99', '-16.16']\n",
      "100 fitness avgs: ['-55.37', '-55.92', '-55.73', '-55.36']\n"
     ]
    },
    {
     "name": "stderr",
     "output_type": "stream",
     "text": [
      " 87%|██████████████████████████████████████████████████████████████████████████████████████████▉              | 12999/15000 [57:21<03:50,  8.68it/s]"
     ]
    },
    {
     "name": "stdout",
     "output_type": "stream",
     "text": [
      "Episode 13000/15000\n",
      "Fitnesses: ['-152.86', '-28.53', '-5.12', '-96.94']\n",
      "100 fitness avgs: ['-55.97', '-54.73', '-54.51', '-55.41']\n"
     ]
    },
    {
     "name": "stderr",
     "output_type": "stream",
     "text": [
      " 87%|███████████████████████████████████████████████████████████████████████████████████████████▏             | 13019/15000 [57:26<03:51,  8.56it/s]"
     ]
    },
    {
     "name": "stdout",
     "output_type": "stream",
     "text": [
      "Episode 13020/15000\n",
      "Fitnesses: ['-66.64', '-64.26', '-171.42', '-106.33']\n",
      "100 fitness avgs: ['-50.40', '-50.60', '-51.68', '-52.27']\n"
     ]
    },
    {
     "name": "stderr",
     "output_type": "stream",
     "text": [
      " 87%|███████████████████████████████████████████████████████████████████████████████████████████▎             | 13039/15000 [57:30<03:39,  8.94it/s]"
     ]
    },
    {
     "name": "stdout",
     "output_type": "stream",
     "text": [
      "Episode 13040/15000\n",
      "Fitnesses: ['-51.07', '-129.86', '-52.52', '-72.91']\n",
      "100 fitness avgs: ['-48.50', '-49.29', '-48.52', '-48.72']\n"
     ]
    },
    {
     "name": "stderr",
     "output_type": "stream",
     "text": [
      " 87%|███████████████████████████████████████████████████████████████████████████████████████████▍             | 13059/15000 [57:34<03:37,  8.92it/s]"
     ]
    },
    {
     "name": "stdout",
     "output_type": "stream",
     "text": [
      "Episode 13060/15000\n",
      "Fitnesses: ['-50.35', '-141.12', '-134.96', '-47.18']\n",
      "100 fitness avgs: ['-45.74', '-46.66', '-46.60', '-46.49']\n"
     ]
    },
    {
     "name": "stderr",
     "output_type": "stream",
     "text": [
      " 87%|███████████████████████████████████████████████████████████████████████████████████████████▌             | 13079/15000 [57:38<03:44,  8.54it/s]"
     ]
    },
    {
     "name": "stdout",
     "output_type": "stream",
     "text": [
      "Episode 13080/15000\n",
      "Fitnesses: ['-24.68', '-94.37', '-163.81', '-63.68']\n",
      "100 fitness avgs: ['-42.32', '-43.02', '-42.96', '-42.71']\n"
     ]
    },
    {
     "name": "stderr",
     "output_type": "stream",
     "text": [
      " 87%|███████████████████████████████████████████████████████████████████████████████████████████▋             | 13099/15000 [57:42<03:38,  8.71it/s]"
     ]
    },
    {
     "name": "stdout",
     "output_type": "stream",
     "text": [
      "Episode 13100/15000\n",
      "Fitnesses: ['-124.25', '-204.74', '-419.46', '-98.44']\n",
      "100 fitness avgs: ['-40.76', '-41.95', '-43.71', '-41.19']\n"
     ]
    },
    {
     "name": "stderr",
     "output_type": "stream",
     "text": [
      " 87%|███████████████████████████████████████████████████████████████████████████████████████████▊             | 13119/15000 [57:46<03:32,  8.84it/s]"
     ]
    },
    {
     "name": "stdout",
     "output_type": "stream",
     "text": [
      "Episode 13120/15000\n",
      "Fitnesses: ['-207.49', '-93.92', '-14.76', '-19.10']\n",
      "100 fitness avgs: ['-40.66', '-40.28', '-38.29', '-38.78']\n"
     ]
    },
    {
     "name": "stderr",
     "output_type": "stream",
     "text": [
      " 88%|███████████████████████████████████████████████████████████████████████████████████████████▉             | 13139/15000 [57:49<03:42,  8.36it/s]"
     ]
    },
    {
     "name": "stdout",
     "output_type": "stream",
     "text": [
      "Episode 13140/15000\n",
      "Fitnesses: ['-40.62', '-85.90', '-54.27', '-209.59']\n",
      "100 fitness avgs: ['-38.66', '-39.11', '-38.80', '-40.83']\n"
     ]
    },
    {
     "name": "stderr",
     "output_type": "stream",
     "text": [
      " 88%|████████████████████████████████████████████████████████████████████████████████████████████             | 13159/15000 [57:53<03:25,  8.96it/s]"
     ]
    },
    {
     "name": "stdout",
     "output_type": "stream",
     "text": [
      "Episode 13160/15000\n",
      "Fitnesses: ['-101.80', '-91.72', '-77.78', '-106.68']\n",
      "100 fitness avgs: ['-38.84', '-39.19', '-39.05', '-38.89']\n"
     ]
    },
    {
     "name": "stderr",
     "output_type": "stream",
     "text": [
      " 88%|████████████████████████████████████████████████████████████████████████████████████████████▎            | 13179/15000 [57:57<03:16,  9.29it/s]"
     ]
    },
    {
     "name": "stdout",
     "output_type": "stream",
     "text": [
      "Episode 13180/15000\n",
      "Fitnesses: ['-12.89', '-0.10', '-33.12', '-133.43']\n",
      "100 fitness avgs: ['-39.06', '-38.94', '-39.41', '-40.11']\n"
     ]
    },
    {
     "name": "stderr",
     "output_type": "stream",
     "text": [
      " 88%|████████████████████████████████████████████████████████████████████████████████████████████▍            | 13199/15000 [58:01<03:23,  8.87it/s]"
     ]
    },
    {
     "name": "stdout",
     "output_type": "stream",
     "text": [
      "Episode 13200/15000\n",
      "Fitnesses: ['-35.31', '-88.17', '-68.56', '-22.51']\n",
      "100 fitness avgs: ['-39.08', '-39.73', '-39.41', '-39.08']\n"
     ]
    },
    {
     "name": "stderr",
     "output_type": "stream",
     "text": [
      " 88%|████████████████████████████████████████████████████████████████████████████████████████████▌            | 13219/15000 [58:06<03:28,  8.53it/s]"
     ]
    },
    {
     "name": "stdout",
     "output_type": "stream",
     "text": [
      "Episode 13220/15000\n",
      "Fitnesses: ['-157.33', '-146.91', '-76.89', '-158.44']\n",
      "100 fitness avgs: ['-40.47', '-40.36', '-40.00', '-40.48']\n"
     ]
    },
    {
     "name": "stderr",
     "output_type": "stream",
     "text": [
      " 88%|████████████████████████████████████████████████████████████████████████████████████████████▋            | 13239/15000 [58:10<03:33,  8.24it/s]"
     ]
    },
    {
     "name": "stdout",
     "output_type": "stream",
     "text": [
      "Episode 13240/15000\n",
      "Fitnesses: ['-22.42', '-66.68', '-65.29', '-160.69']\n",
      "100 fitness avgs: ['-40.17', '-40.98', '-40.60', '-42.04']\n"
     ]
    },
    {
     "name": "stderr",
     "output_type": "stream",
     "text": [
      " 88%|████████████████████████████████████████████████████████████████████████████████████████████▊            | 13259/15000 [58:14<03:13,  8.98it/s]"
     ]
    },
    {
     "name": "stdout",
     "output_type": "stream",
     "text": [
      "Episode 13260/15000\n",
      "Fitnesses: ['-2.61', '-226.10', '-76.00', '-104.11']\n",
      "100 fitness avgs: ['-40.07', '-44.17', '-41.61', '-41.51']\n"
     ]
    },
    {
     "name": "stderr",
     "output_type": "stream",
     "text": [
      " 89%|████████████████████████████████████████████████████████████████████████████████████████████▉            | 13279/15000 [58:18<03:35,  7.97it/s]"
     ]
    },
    {
     "name": "stdout",
     "output_type": "stream",
     "text": [
      "Episode 13280/15000\n",
      "Fitnesses: ['-27.57', '-23.29', '-39.70', '-12.13']\n",
      "100 fitness avgs: ['-40.03', '-41.53', '-40.15', '-39.88']\n"
     ]
    },
    {
     "name": "stderr",
     "output_type": "stream",
     "text": [
      " 89%|█████████████████████████████████████████████████████████████████████████████████████████████            | 13299/15000 [58:21<03:24,  8.34it/s]"
     ]
    },
    {
     "name": "stdout",
     "output_type": "stream",
     "text": [
      "Episode 13300/15000\n",
      "Fitnesses: ['-51.19', '-183.14', '-104.99', '-2.67']\n",
      "100 fitness avgs: ['-40.19', '-41.51', '-42.38', '-39.70']\n"
     ]
    },
    {
     "name": "stderr",
     "output_type": "stream",
     "text": [
      " 89%|█████████████████████████████████████████████████████████████████████████████████████████████▏           | 13319/15000 [58:25<02:50,  9.89it/s]"
     ]
    },
    {
     "name": "stdout",
     "output_type": "stream",
     "text": [
      "Episode 13320/15000\n",
      "Fitnesses: ['-85.90', '-47.57', '-22.42', '-83.01']\n",
      "100 fitness avgs: ['-39.99', '-39.61', '-39.84', '-40.45']\n"
     ]
    },
    {
     "name": "stderr",
     "output_type": "stream",
     "text": [
      " 89%|█████████████████████████████████████████████████████████████████████████████████████████████▎           | 13339/15000 [58:30<02:59,  9.25it/s]"
     ]
    },
    {
     "name": "stdout",
     "output_type": "stream",
     "text": [
      "Episode 13340/15000\n",
      "Fitnesses: ['-13.04', '-5.72', '-4.13', '-14.17']\n",
      "100 fitness avgs: ['-39.47', '-39.40', '-39.38', '-39.25']\n"
     ]
    },
    {
     "name": "stderr",
     "output_type": "stream",
     "text": [
      " 89%|█████████████████████████████████████████████████████████████████████████████████████████████▌           | 13359/15000 [58:33<03:07,  8.73it/s]"
     ]
    },
    {
     "name": "stdout",
     "output_type": "stream",
     "text": [
      "Episode 13360/15000\n",
      "Fitnesses: ['-74.97', '-87.55', '-112.52', '-50.51']\n",
      "100 fitness avgs: ['-40.09', '-40.31', '-40.56', '-39.85']\n"
     ]
    },
    {
     "name": "stderr",
     "output_type": "stream",
     "text": [
      " 89%|█████████████████████████████████████████████████████████████████████████████████████████████▋           | 13379/15000 [58:37<03:05,  8.72it/s]"
     ]
    },
    {
     "name": "stdout",
     "output_type": "stream",
     "text": [
      "Episode 13380/15000\n",
      "Fitnesses: ['-1.03', '-208.15', '-111.15', '-152.75']\n",
      "100 fitness avgs: ['-39.42', '-41.73', '-41.23', '-40.94']\n"
     ]
    },
    {
     "name": "stderr",
     "output_type": "stream",
     "text": [
      " 89%|█████████████████████████████████████████████████████████████████████████████████████████████▊           | 13399/15000 [58:41<02:54,  9.18it/s]"
     ]
    },
    {
     "name": "stdout",
     "output_type": "stream",
     "text": [
      "Episode 13400/15000\n",
      "Fitnesses: ['-87.92', '-64.07', '-84.53', '-72.36']\n",
      "100 fitness avgs: ['-40.07', '-41.35', '-40.04', '-39.92']\n"
     ]
    },
    {
     "name": "stderr",
     "output_type": "stream",
     "text": [
      " 89%|█████████████████████████████████████████████████████████████████████████████████████████████▉           | 13419/15000 [58:44<02:46,  9.52it/s]"
     ]
    },
    {
     "name": "stdout",
     "output_type": "stream",
     "text": [
      "Episode 13420/15000\n",
      "Fitnesses: ['-45.99', '-59.65', '-127.41', '-80.61']\n",
      "100 fitness avgs: ['-41.72', '-40.42', '-41.10', '-42.07']\n"
     ]
    },
    {
     "name": "stderr",
     "output_type": "stream",
     "text": [
      " 90%|██████████████████████████████████████████████████████████████████████████████████████████████           | 13439/15000 [58:48<03:00,  8.66it/s]"
     ]
    },
    {
     "name": "stdout",
     "output_type": "stream",
     "text": [
      "Episode 13440/15000\n",
      "Fitnesses: ['-24.37', '-39.64', '-27.70', '-29.06']\n",
      "100 fitness avgs: ['-41.67', '-40.52', '-41.70', '-41.72']\n"
     ]
    },
    {
     "name": "stderr",
     "output_type": "stream",
     "text": [
      " 90%|██████████████████████████████████████████████████████████████████████████████████████████████▏          | 13458/15000 [58:51<02:45,  9.31it/s]"
     ]
    },
    {
     "name": "stdout",
     "output_type": "stream",
     "text": [
      "Episode 13460/15000\n",
      "Fitnesses: ['-11.08', '-79.41', '-144.43', '-30.99']\n",
      "100 fitness avgs: ['-41.27', '-41.95', '-42.63', '-41.51']\n"
     ]
    },
    {
     "name": "stderr",
     "output_type": "stream",
     "text": [
      " 90%|██████████████████████████████████████████████████████████████████████████████████████████████▎          | 13479/15000 [58:55<02:40,  9.47it/s]"
     ]
    },
    {
     "name": "stdout",
     "output_type": "stream",
     "text": [
      "Episode 13480/15000\n",
      "Fitnesses: ['-54.48', '-177.43', '-46.55', '-137.38']\n",
      "100 fitness avgs: ['-41.73', '-43.21', '-41.65', '-42.56']\n"
     ]
    },
    {
     "name": "stderr",
     "output_type": "stream",
     "text": [
      " 90%|██████████████████████████████████████████████████████████████████████████████████████████████▍          | 13498/15000 [58:58<02:40,  9.37it/s]"
     ]
    },
    {
     "name": "stdout",
     "output_type": "stream",
     "text": [
      "Episode 13500/15000\n",
      "Fitnesses: ['-50.78', '-1.07', '-22.46', '-65.11']\n",
      "100 fitness avgs: ['-41.88', '-41.38', '-42.50', '-42.93']\n"
     ]
    },
    {
     "name": "stderr",
     "output_type": "stream",
     "text": [
      " 90%|██████████████████████████████████████████████████████████████████████████████████████████████▋          | 13518/15000 [59:02<02:40,  9.23it/s]"
     ]
    },
    {
     "name": "stdout",
     "output_type": "stream",
     "text": [
      "Episode 13520/15000\n",
      "Fitnesses: ['-36.45', '-56.69', '-189.19', '-95.71']\n",
      "100 fitness avgs: ['-41.49', '-42.81', '-43.01', '-43.20']\n"
     ]
    },
    {
     "name": "stderr",
     "output_type": "stream",
     "text": [
      " 90%|██████████████████████████████████████████████████████████████████████████████████████████████▊          | 13539/15000 [59:05<02:41,  9.06it/s]"
     ]
    },
    {
     "name": "stdout",
     "output_type": "stream",
     "text": [
      "Episode 13540/15000\n",
      "Fitnesses: ['-17.27', '-2.14', '-19.25', '-23.43']\n",
      "100 fitness avgs: ['-40.75', '-42.31', '-42.48', '-40.81']\n"
     ]
    },
    {
     "name": "stderr",
     "output_type": "stream",
     "text": [
      " 90%|██████████████████████████████████████████████████████████████████████████████████████████████▉          | 13559/15000 [59:10<02:29,  9.66it/s]"
     ]
    },
    {
     "name": "stdout",
     "output_type": "stream",
     "text": [
      "Episode 13560/15000\n",
      "Fitnesses: ['-156.78', '-8.59', '-33.80', '-11.94']\n",
      "100 fitness avgs: ['-43.73', '-40.68', '-42.50', '-42.45']\n"
     ]
    },
    {
     "name": "stderr",
     "output_type": "stream",
     "text": [
      " 91%|███████████████████████████████████████████████████████████████████████████████████████████████          | 13579/15000 [59:15<02:37,  9.03it/s]"
     ]
    },
    {
     "name": "stdout",
     "output_type": "stream",
     "text": [
      "Episode 13580/15000\n",
      "Fitnesses: ['-50.09', '-33.01', '-61.91', '-67.96']\n",
      "100 fitness avgs: ['-40.93', '-40.76', '-41.05', '-42.87']\n"
     ]
    },
    {
     "name": "stderr",
     "output_type": "stream",
     "text": [
      " 91%|███████████████████████████████████████████████████████████████████████████████████████████████▏         | 13599/15000 [59:17<02:26,  9.59it/s]"
     ]
    },
    {
     "name": "stdout",
     "output_type": "stream",
     "text": [
      "Episode 13600/15000\n",
      "Fitnesses: ['-59.56', '-62.21', '-78.06', '-81.04']\n",
      "100 fitness avgs: ['-40.62', '-40.64', '-40.97', '-41.00']\n"
     ]
    },
    {
     "name": "stderr",
     "output_type": "stream",
     "text": [
      " 91%|███████████████████████████████████████████████████████████████████████████████████████████████▎         | 13619/15000 [59:22<02:43,  8.46it/s]"
     ]
    },
    {
     "name": "stdout",
     "output_type": "stream",
     "text": [
      "Episode 13620/15000\n",
      "Fitnesses: ['-222.40', '-59.57', '-170.84', '-72.90']\n",
      "100 fitness avgs: ['-42.67', '-41.04', '-42.15', '-41.20']\n"
     ]
    },
    {
     "name": "stderr",
     "output_type": "stream",
     "text": [
      " 91%|███████████████████████████████████████████████████████████████████████████████████████████████▍         | 13638/15000 [59:26<02:25,  9.39it/s]"
     ]
    },
    {
     "name": "stdout",
     "output_type": "stream",
     "text": [
      "Episode 13640/15000\n",
      "Fitnesses: ['-163.89', '-66.27', '-54.97', '-122.06']\n",
      "100 fitness avgs: ['-42.27', '-42.41', '-41.34', '-41.85']\n"
     ]
    },
    {
     "name": "stderr",
     "output_type": "stream",
     "text": [
      " 91%|███████████████████████████████████████████████████████████████████████████████████████████████▌         | 13659/15000 [59:30<02:30,  8.93it/s]"
     ]
    },
    {
     "name": "stdout",
     "output_type": "stream",
     "text": [
      "Episode 13660/15000\n",
      "Fitnesses: ['-130.92', '-10.73', '-35.42', '-21.10']\n",
      "100 fitness avgs: ['-41.93', '-41.79', '-41.49', '-40.83']\n"
     ]
    },
    {
     "name": "stderr",
     "output_type": "stream",
     "text": [
      " 91%|███████████████████████████████████████████████████████████████████████████████████████████████▊         | 13679/15000 [59:34<02:22,  9.26it/s]"
     ]
    },
    {
     "name": "stdout",
     "output_type": "stream",
     "text": [
      "Episode 13680/15000\n",
      "Fitnesses: ['-3.01', '-20.10', '-100.38', '-16.27']\n",
      "100 fitness avgs: ['-41.50', '-41.36', '-41.51', '-41.77']\n"
     ]
    },
    {
     "name": "stderr",
     "output_type": "stream",
     "text": [
      " 91%|███████████████████████████████████████████████████████████████████████████████████████████████▉         | 13699/15000 [59:38<02:28,  8.78it/s]"
     ]
    },
    {
     "name": "stdout",
     "output_type": "stream",
     "text": [
      "Episode 13700/15000\n",
      "Fitnesses: ['-74.61', '-125.94', '-16.11', '-64.99']\n",
      "100 fitness avgs: ['-41.85', '-42.36', '-41.26', '-41.61']\n"
     ]
    },
    {
     "name": "stderr",
     "output_type": "stream",
     "text": [
      " 91%|████████████████████████████████████████████████████████████████████████████████████████████████         | 13719/15000 [59:42<02:11,  9.77it/s]"
     ]
    },
    {
     "name": "stdout",
     "output_type": "stream",
     "text": [
      "Episode 13720/15000\n",
      "Fitnesses: ['-8.19', '-80.78', '-3.95', '-92.42']\n",
      "100 fitness avgs: ['-40.98', '-42.06', '-40.94', '-41.83']\n"
     ]
    },
    {
     "name": "stderr",
     "output_type": "stream",
     "text": [
      " 92%|████████████████████████████████████████████████████████████████████████████████████████████████▏        | 13739/15000 [59:45<02:25,  8.65it/s]"
     ]
    },
    {
     "name": "stdout",
     "output_type": "stream",
     "text": [
      "Episode 13740/15000\n",
      "Fitnesses: ['-21.33', '-41.71', '-113.24', '-184.92']\n",
      "100 fitness avgs: ['-40.12', '-40.36', '-41.08', '-41.75']\n"
     ]
    },
    {
     "name": "stderr",
     "output_type": "stream",
     "text": [
      " 92%|████████████████████████████████████████████████████████████████████████████████████████████████▎        | 13758/15000 [59:49<02:22,  8.71it/s]"
     ]
    },
    {
     "name": "stdout",
     "output_type": "stream",
     "text": [
      "Episode 13760/15000\n",
      "Fitnesses: ['-471.74', '-49.57', '-12.88', '-17.58']\n",
      "100 fitness avgs: ['-44.76', '-40.78', '-40.41', '-40.21']\n"
     ]
    },
    {
     "name": "stderr",
     "output_type": "stream",
     "text": [
      " 92%|████████████████████████████████████████████████████████████████████████████████████████████████▍        | 13779/15000 [59:53<02:09,  9.40it/s]"
     ]
    },
    {
     "name": "stdout",
     "output_type": "stream",
     "text": [
      "Episode 13780/15000\n",
      "Fitnesses: ['-14.84', '-66.61', '-216.16', '-142.91']\n",
      "100 fitness avgs: ['-40.54', '-41.06', '-42.36', '-41.62']\n"
     ]
    },
    {
     "name": "stderr",
     "output_type": "stream",
     "text": [
      " 92%|████████████████████████████████████████████████████████████████████████████████████████████████▌        | 13799/15000 [59:57<02:25,  8.27it/s]"
     ]
    },
    {
     "name": "stdout",
     "output_type": "stream",
     "text": [
      "Episode 13800/15000\n",
      "Fitnesses: ['-173.23', '-108.54', '-129.66', '-38.40']\n",
      "100 fitness avgs: ['-41.59', '-42.02', '-41.15', '-40.76']\n"
     ]
    },
    {
     "name": "stderr",
     "output_type": "stream",
     "text": [
      " 92%|██████████████████████████████████████████████████████████████████████████████████████████████▉        | 13818/15000 [1:00:01<02:04,  9.53it/s]"
     ]
    },
    {
     "name": "stdout",
     "output_type": "stream",
     "text": [
      "Episode 13820/15000\n",
      "Fitnesses: ['-14.16', '-17.82', '-66.71', '-10.96']\n",
      "100 fitness avgs: ['-40.60', '-41.90', '-42.39', '-41.83']\n"
     ]
    },
    {
     "name": "stderr",
     "output_type": "stream",
     "text": [
      " 92%|███████████████████████████████████████████████████████████████████████████████████████████████        | 13839/15000 [1:00:05<02:09,  8.99it/s]"
     ]
    },
    {
     "name": "stdout",
     "output_type": "stream",
     "text": [
      "Episode 13840/15000\n",
      "Fitnesses: ['-9.28', '-68.34', '-27.01', '-51.48']\n",
      "100 fitness avgs: ['-41.76', '-42.35', '-40.70', '-42.18']\n"
     ]
    },
    {
     "name": "stderr",
     "output_type": "stream",
     "text": [
      " 92%|███████████████████████████████████████████████████████████████████████████████████████████████▏       | 13859/15000 [1:00:10<02:05,  9.10it/s]"
     ]
    },
    {
     "name": "stdout",
     "output_type": "stream",
     "text": [
      "Episode 13860/15000\n",
      "Fitnesses: ['-29.93', '-16.76', '-58.15', '-4.58']\n",
      "100 fitness avgs: ['-41.71', '-42.00', '-40.93', '-41.45']\n"
     ]
    },
    {
     "name": "stderr",
     "output_type": "stream",
     "text": [
      " 93%|███████████████████████████████████████████████████████████████████████████████████████████████▎       | 13879/15000 [1:00:13<01:56,  9.66it/s]"
     ]
    },
    {
     "name": "stdout",
     "output_type": "stream",
     "text": [
      "Episode 13880/15000\n",
      "Fitnesses: ['-56.54', '-7.97', '-154.23', '-81.69']\n",
      "100 fitness avgs: ['-41.89', '-41.95', '-43.41', '-42.14']\n"
     ]
    },
    {
     "name": "stderr",
     "output_type": "stream",
     "text": [
      " 93%|███████████████████████████████████████████████████████████████████████████████████████████████▍       | 13899/15000 [1:00:17<02:03,  8.93it/s]"
     ]
    },
    {
     "name": "stdout",
     "output_type": "stream",
     "text": [
      "Episode 13900/15000\n",
      "Fitnesses: ['-55.90', '-70.85', '-159.90', '-166.15']\n",
      "100 fitness avgs: ['-42.34', '-42.49', '-43.57', '-43.38']\n"
     ]
    },
    {
     "name": "stderr",
     "output_type": "stream",
     "text": [
      " 93%|███████████████████████████████████████████████████████████████████████████████████████████████▌       | 13919/15000 [1:00:22<01:54,  9.45it/s]"
     ]
    },
    {
     "name": "stdout",
     "output_type": "stream",
     "text": [
      "Episode 13920/15000\n",
      "Fitnesses: ['-101.07', '-89.22', '-80.33', '-83.95']\n",
      "100 fitness avgs: ['-42.26', '-42.30', '-42.06', '-42.09']\n"
     ]
    },
    {
     "name": "stderr",
     "output_type": "stream",
     "text": [
      " 93%|███████████████████████████████████████████████████████████████████████████████████████████████▋       | 13938/15000 [1:00:26<02:03,  8.60it/s]"
     ]
    },
    {
     "name": "stdout",
     "output_type": "stream",
     "text": [
      "Episode 13940/15000\n",
      "Fitnesses: ['-115.88', '-114.53', '-1.28', '-17.82']\n",
      "100 fitness avgs: ['-43.15', '-43.14', '-42.25', '-42.38']\n"
     ]
    },
    {
     "name": "stderr",
     "output_type": "stream",
     "text": [
      " 93%|███████████████████████████████████████████████████████████████████████████████████████████████▊       | 13959/15000 [1:00:29<01:48,  9.57it/s]"
     ]
    },
    {
     "name": "stdout",
     "output_type": "stream",
     "text": [
      "Episode 13960/15000\n",
      "Fitnesses: ['-0.60', '-115.47', '-42.97', '-84.23']\n",
      "100 fitness avgs: ['-42.21', '-44.25', '-43.53', '-43.94']\n"
     ]
    },
    {
     "name": "stderr",
     "output_type": "stream",
     "text": [
      " 93%|███████████████████████████████████████████████████████████████████████████████████████████████▉       | 13979/15000 [1:00:33<01:50,  9.21it/s]"
     ]
    },
    {
     "name": "stdout",
     "output_type": "stream",
     "text": [
      "Episode 13980/15000\n",
      "Fitnesses: ['-126.89', '-3.99', '-57.78', '-40.84']\n",
      "100 fitness avgs: ['-43.25', '-43.34', '-43.88', '-42.39']\n"
     ]
    },
    {
     "name": "stderr",
     "output_type": "stream",
     "text": [
      " 93%|████████████████████████████████████████████████████████████████████████████████████████████████▏      | 13999/15000 [1:00:38<01:46,  9.39it/s]"
     ]
    },
    {
     "name": "stdout",
     "output_type": "stream",
     "text": [
      "Episode 14000/15000\n",
      "Fitnesses: ['-77.64', '-54.49', '-6.66', '-100.22']\n",
      "100 fitness avgs: ['-44.11', '-43.88', '-43.94', '-43.39']\n"
     ]
    },
    {
     "name": "stderr",
     "output_type": "stream",
     "text": [
      " 93%|████████████████████████████████████████████████████████████████████████████████████████████████▎      | 14019/15000 [1:00:42<01:40,  9.76it/s]"
     ]
    },
    {
     "name": "stdout",
     "output_type": "stream",
     "text": [
      "Episode 14020/15000\n",
      "Fitnesses: ['-77.98', '-180.78', '-0.46', '-46.89']\n",
      "100 fitness avgs: ['-44.71', '-45.73', '-43.93', '-44.40']\n"
     ]
    },
    {
     "name": "stderr",
     "output_type": "stream",
     "text": [
      " 94%|████████████████████████████████████████████████████████████████████████████████████████████████▍      | 14039/15000 [1:00:47<01:47,  8.96it/s]"
     ]
    },
    {
     "name": "stdout",
     "output_type": "stream",
     "text": [
      "Episode 14040/15000\n",
      "Fitnesses: ['-9.32', '-38.02', '-492.91', '-24.53']\n",
      "100 fitness avgs: ['-43.83', '-44.89', '-49.13', '-44.44']\n"
     ]
    },
    {
     "name": "stderr",
     "output_type": "stream",
     "text": [
      " 94%|████████████████████████████████████████████████████████████████████████████████████████████████▌      | 14058/15000 [1:00:51<01:52,  8.37it/s]"
     ]
    },
    {
     "name": "stdout",
     "output_type": "stream",
     "text": [
      "Episode 14060/15000\n",
      "Fitnesses: ['-18.89', '-155.09', '-112.61', '-8.10']\n",
      "100 fitness avgs: ['-43.86', '-45.22', '-45.86', '-43.75']\n"
     ]
    },
    {
     "name": "stderr",
     "output_type": "stream",
     "text": [
      " 94%|████████████████████████████████████████████████████████████████████████████████████████████████▋      | 14078/15000 [1:00:54<01:27, 10.51it/s]"
     ]
    },
    {
     "name": "stdout",
     "output_type": "stream",
     "text": [
      "Episode 14080/15000\n",
      "Fitnesses: ['-304.40', '-38.36', '-76.66', '-57.30']\n",
      "100 fitness avgs: ['-46.44', '-45.89', '-44.17', '-44.08']\n"
     ]
    },
    {
     "name": "stderr",
     "output_type": "stream",
     "text": [
      " 94%|████████████████████████████████████████████████████████████████████████████████████████████████▊      | 14099/15000 [1:00:59<01:33,  9.64it/s]"
     ]
    },
    {
     "name": "stdout",
     "output_type": "stream",
     "text": [
      "Episode 14100/15000\n",
      "Fitnesses: ['-38.49', '-67.21', '-77.47', '-76.15']\n",
      "100 fitness avgs: ['-45.72', '-46.01', '-46.11', '-46.10']\n"
     ]
    },
    {
     "name": "stderr",
     "output_type": "stream",
     "text": [
      " 94%|████████████████████████████████████████████████████████████████████████████████████████████████▉      | 14119/15000 [1:01:02<01:31,  9.66it/s]"
     ]
    },
    {
     "name": "stdout",
     "output_type": "stream",
     "text": [
      "Episode 14120/15000\n",
      "Fitnesses: ['-71.92', '-94.17', '-110.81', '-143.25']\n",
      "100 fitness avgs: ['-45.29', '-45.90', '-45.67', '-46.29']\n"
     ]
    },
    {
     "name": "stderr",
     "output_type": "stream",
     "text": [
      " 94%|█████████████████████████████████████████████████████████████████████████████████████████████████      | 14139/15000 [1:01:06<01:26, 10.00it/s]"
     ]
    },
    {
     "name": "stdout",
     "output_type": "stream",
     "text": [
      "Episode 14140/15000\n",
      "Fitnesses: ['-10.07', '-38.59', '-117.62', '-12.31']\n",
      "100 fitness avgs: ['-45.34', '-45.63', '-46.42', '-45.37']\n"
     ]
    },
    {
     "name": "stderr",
     "output_type": "stream",
     "text": [
      " 94%|█████████████████████████████████████████████████████████████████████████████████████████████████▏     | 14159/15000 [1:01:10<01:37,  8.63it/s]"
     ]
    },
    {
     "name": "stdout",
     "output_type": "stream",
     "text": [
      "Episode 14160/15000\n",
      "Fitnesses: ['-96.36', '-37.96', '-43.09', '-210.57']\n",
      "100 fitness avgs: ['-46.20', '-45.64', '-45.95', '-47.63']\n"
     ]
    },
    {
     "name": "stderr",
     "output_type": "stream",
     "text": [
      " 95%|█████████████████████████████████████████████████████████████████████████████████████████████████▎     | 14179/15000 [1:01:13<01:26,  9.50it/s]"
     ]
    },
    {
     "name": "stdout",
     "output_type": "stream",
     "text": [
      "Episode 14180/15000\n",
      "Fitnesses: ['-55.32', '-141.64', '-151.97', '-114.18']\n",
      "100 fitness avgs: ['-45.70', '-46.88', '-46.99', '-46.29']\n"
     ]
    },
    {
     "name": "stderr",
     "output_type": "stream",
     "text": [
      " 95%|█████████████████████████████████████████████████████████████████████████████████████████████████▍     | 14199/15000 [1:01:17<01:28,  9.02it/s]"
     ]
    },
    {
     "name": "stdout",
     "output_type": "stream",
     "text": [
      "Episode 14200/15000\n",
      "Fitnesses: ['-103.68', '-95.07', '-11.17', '-40.57']\n",
      "100 fitness avgs: ['-46.45', '-46.36', '-46.11', '-46.41']\n"
     ]
    },
    {
     "name": "stderr",
     "output_type": "stream",
     "text": [
      " 95%|█████████████████████████████████████████████████████████████████████████████████████████████████▋     | 14219/15000 [1:01:20<01:18,  9.90it/s]"
     ]
    },
    {
     "name": "stdout",
     "output_type": "stream",
     "text": [
      "Episode 14220/15000\n",
      "Fitnesses: ['-47.40', '-252.87', '-132.69', '-17.44']\n",
      "100 fitness avgs: ['-45.97', '-48.32', '-47.16', '-45.92']\n"
     ]
    },
    {
     "name": "stderr",
     "output_type": "stream",
     "text": [
      " 95%|█████████████████████████████████████████████████████████████████████████████████████████████████▊     | 14239/15000 [1:01:24<01:23,  9.13it/s]"
     ]
    },
    {
     "name": "stdout",
     "output_type": "stream",
     "text": [
      "Episode 14240/15000\n",
      "Fitnesses: ['-68.34', '-74.23', '-9.05', '-63.89']\n",
      "100 fitness avgs: ['-46.53', '-46.59', '-47.18', '-46.54']\n"
     ]
    },
    {
     "name": "stderr",
     "output_type": "stream",
     "text": [
      " 95%|█████████████████████████████████████████████████████████████████████████████████████████████████▉     | 14259/15000 [1:01:27<01:19,  9.37it/s]"
     ]
    },
    {
     "name": "stdout",
     "output_type": "stream",
     "text": [
      "Episode 14260/15000\n",
      "Fitnesses: ['-81.80', '-25.35', '-53.71', '-235.63']\n",
      "100 fitness avgs: ['-47.29', '-46.08', '-46.36', '-48.83']\n"
     ]
    },
    {
     "name": "stderr",
     "output_type": "stream",
     "text": [
      " 95%|██████████████████████████████████████████████████████████████████████████████████████████████████     | 14279/15000 [1:01:32<01:20,  9.00it/s]"
     ]
    },
    {
     "name": "stdout",
     "output_type": "stream",
     "text": [
      "Episode 14280/15000\n",
      "Fitnesses: ['-7.83', '-120.87', '-78.47', '-81.15']\n",
      "100 fitness avgs: ['-46.03', '-47.16', '-47.02', '-46.76']\n"
     ]
    },
    {
     "name": "stderr",
     "output_type": "stream",
     "text": [
      " 95%|██████████████████████████████████████████████████████████████████████████████████████████████████▏    | 14299/15000 [1:01:35<01:11,  9.75it/s]"
     ]
    },
    {
     "name": "stdout",
     "output_type": "stream",
     "text": [
      "Episode 14300/15000\n",
      "Fitnesses: ['-3.40', '-15.00', '-128.98', '-122.72']\n",
      "100 fitness avgs: ['-46.02', '-46.87', '-48.40', '-47.21']\n"
     ]
    },
    {
     "name": "stderr",
     "output_type": "stream",
     "text": [
      " 95%|██████████████████████████████████████████████████████████████████████████████████████████████████▎    | 14319/15000 [1:01:39<01:24,  8.07it/s]"
     ]
    },
    {
     "name": "stdout",
     "output_type": "stream",
     "text": [
      "Episode 14320/15000\n",
      "Fitnesses: ['-47.48', '-83.49', '-72.82', '-59.14']\n",
      "100 fitness avgs: ['-46.40', '-47.61', '-47.85', '-46.52']\n"
     ]
    },
    {
     "name": "stderr",
     "output_type": "stream",
     "text": [
      " 96%|██████████████████████████████████████████████████████████████████████████████████████████████████▍    | 14339/15000 [1:01:43<01:09,  9.53it/s]"
     ]
    },
    {
     "name": "stdout",
     "output_type": "stream",
     "text": [
      "Episode 14340/15000\n",
      "Fitnesses: ['-74.59', '-144.24', '-6.84', '-26.94']\n",
      "100 fitness avgs: ['-47.02', '-47.72', '-46.46', '-46.55']\n"
     ]
    },
    {
     "name": "stderr",
     "output_type": "stream",
     "text": [
      " 96%|██████████████████████████████████████████████████████████████████████████████████████████████████▌    | 14358/15000 [1:01:46<01:07,  9.50it/s]"
     ]
    },
    {
     "name": "stdout",
     "output_type": "stream",
     "text": [
      "Episode 14360/15000\n",
      "Fitnesses: ['-29.88', '-117.20', '-166.13', '-33.61']\n",
      "100 fitness avgs: ['-46.69', '-47.57', '-48.05', '-46.81']\n"
     ]
    },
    {
     "name": "stderr",
     "output_type": "stream",
     "text": [
      " 96%|██████████████████████████████████████████████████████████████████████████████████████████████████▋    | 14379/15000 [1:01:49<01:08,  9.00it/s]"
     ]
    },
    {
     "name": "stdout",
     "output_type": "stream",
     "text": [
      "Episode 14380/15000\n",
      "Fitnesses: ['-20.35', '-105.70', '-55.86', '-8.61']\n",
      "100 fitness avgs: ['-46.80', '-47.78', '-47.28', '-46.81']\n"
     ]
    },
    {
     "name": "stderr",
     "output_type": "stream",
     "text": [
      " 96%|██████████████████████████████████████████████████████████████████████████████████████████████████▊    | 14399/15000 [1:01:53<01:05,  9.14it/s]"
     ]
    },
    {
     "name": "stdout",
     "output_type": "stream",
     "text": [
      "Episode 14400/15000\n",
      "Fitnesses: ['-89.36', '-172.23', '-53.21', '-1.65']\n",
      "100 fitness avgs: ['-47.11', '-47.94', '-46.75', '-46.24']\n"
     ]
    },
    {
     "name": "stderr",
     "output_type": "stream",
     "text": [
      " 96%|███████████████████████████████████████████████████████████████████████████████████████████████████    | 14419/15000 [1:01:56<00:54, 10.58it/s]"
     ]
    },
    {
     "name": "stdout",
     "output_type": "stream",
     "text": [
      "Episode 14420/15000\n",
      "Fitnesses: ['-12.69', '-28.42', '-15.12', '-31.72']\n",
      "100 fitness avgs: ['-46.19', '-46.85', '-46.21', '-46.89']\n"
     ]
    },
    {
     "name": "stderr",
     "output_type": "stream",
     "text": [
      " 96%|███████████████████████████████████████████████████████████████████████████████████████████████████▏   | 14438/15000 [1:01:59<00:57,  9.79it/s]"
     ]
    },
    {
     "name": "stdout",
     "output_type": "stream",
     "text": [
      "Episode 14440/15000\n",
      "Fitnesses: ['-36.56', '-16.59', '-57.31', '-156.06']\n",
      "100 fitness avgs: ['-46.45', '-46.25', '-47.33', '-47.65']\n"
     ]
    },
    {
     "name": "stderr",
     "output_type": "stream",
     "text": [
      " 96%|███████████████████████████████████████████████████████████████████████████████████████████████████▎   | 14459/15000 [1:02:02<00:52, 10.21it/s]"
     ]
    },
    {
     "name": "stdout",
     "output_type": "stream",
     "text": [
      "Episode 14460/15000\n",
      "Fitnesses: ['-20.78', '-63.53', '-194.41', '-30.64']\n",
      "100 fitness avgs: ['-46.07', '-47.89', '-48.01', '-47.25']\n"
     ]
    },
    {
     "name": "stderr",
     "output_type": "stream",
     "text": [
      " 97%|███████████████████████████████████████████████████████████████████████████████████████████████████▍   | 14479/15000 [1:02:05<00:52,  9.90it/s]"
     ]
    },
    {
     "name": "stdout",
     "output_type": "stream",
     "text": [
      "Episode 14480/15000\n",
      "Fitnesses: ['-15.70', '-54.34', '-105.45', '-40.27']\n",
      "100 fitness avgs: ['-46.08', '-46.46', '-48.80', '-46.32']\n"
     ]
    },
    {
     "name": "stderr",
     "output_type": "stream",
     "text": [
      " 97%|███████████████████████████████████████████████████████████████████████████████████████████████████▌   | 14498/15000 [1:02:08<00:49, 10.08it/s]"
     ]
    },
    {
     "name": "stdout",
     "output_type": "stream",
     "text": [
      "Episode 14500/15000\n",
      "Fitnesses: ['-75.04', '-71.88', '-53.30', '-75.18']\n",
      "100 fitness avgs: ['-46.50', '-46.47', '-46.28', '-49.22']\n"
     ]
    },
    {
     "name": "stderr",
     "output_type": "stream",
     "text": [
      " 97%|███████████████████████████████████████████████████████████████████████████████████████████████████▋   | 14519/15000 [1:02:12<00:55,  8.70it/s]"
     ]
    },
    {
     "name": "stdout",
     "output_type": "stream",
     "text": [
      "Episode 14520/15000\n",
      "Fitnesses: ['-106.84', '-38.60', '-564.59', '-5.80']\n",
      "100 fitness avgs: ['-46.69', '-46.01', '-51.27', '-48.62']\n"
     ]
    },
    {
     "name": "stderr",
     "output_type": "stream",
     "text": [
      " 97%|███████████████████████████████████████████████████████████████████████████████████████████████████▊   | 14539/15000 [1:02:17<00:46,  9.93it/s]"
     ]
    },
    {
     "name": "stdout",
     "output_type": "stream",
     "text": [
      "Episode 14540/15000\n",
      "Fitnesses: ['-35.30', '-43.27', '-58.99', '-112.61']\n",
      "100 fitness avgs: ['-48.40', '-45.87', '-46.71', '-49.18']\n"
     ]
    },
    {
     "name": "stderr",
     "output_type": "stream",
     "text": [
      " 97%|███████████████████████████████████████████████████████████████████████████████████████████████████▉   | 14559/15000 [1:02:20<00:45,  9.73it/s]"
     ]
    },
    {
     "name": "stdout",
     "output_type": "stream",
     "text": [
      "Episode 14560/15000\n",
      "Fitnesses: ['-26.51', '-134.21', '-13.96', '-31.55']\n",
      "100 fitness avgs: ['-48.59', '-49.66', '-48.46', '-46.94']\n"
     ]
    },
    {
     "name": "stderr",
     "output_type": "stream",
     "text": [
      " 97%|████████████████████████████████████████████████████████████████████████████████████████████████████   | 14579/15000 [1:02:24<00:45,  9.20it/s]"
     ]
    },
    {
     "name": "stdout",
     "output_type": "stream",
     "text": [
      "Episode 14580/15000\n",
      "Fitnesses: ['-63.11', '-122.16', '-55.28', '-212.16']\n",
      "100 fitness avgs: ['-48.46', '-49.05', '-48.50', '-50.07']\n"
     ]
    },
    {
     "name": "stderr",
     "output_type": "stream",
     "text": [
      " 97%|████████████████████████████████████████████████████████████████████████████████████████████████████▏  | 14599/15000 [1:02:27<00:39, 10.11it/s]"
     ]
    },
    {
     "name": "stdout",
     "output_type": "stream",
     "text": [
      "Episode 14600/15000\n",
      "Fitnesses: ['-128.67', '-74.26', '-73.51', '-16.21']\n",
      "100 fitness avgs: ['-49.22', '-48.67', '-48.66', '-48.04']\n"
     ]
    },
    {
     "name": "stderr",
     "output_type": "stream",
     "text": [
      " 97%|████████████████████████████████████████████████████████████████████████████████████████████████████▍  | 14619/15000 [1:02:31<00:41,  9.27it/s]"
     ]
    },
    {
     "name": "stdout",
     "output_type": "stream",
     "text": [
      "Episode 14620/15000\n",
      "Fitnesses: ['-141.34', '-9.49', '-67.66', '-149.87']\n",
      "100 fitness avgs: ['-49.31', '-47.99', '-49.19', '-49.39']\n"
     ]
    },
    {
     "name": "stderr",
     "output_type": "stream",
     "text": [
      " 98%|████████████████████████████████████████████████████████████████████████████████████████████████████▌  | 14639/15000 [1:02:34<00:44,  8.19it/s]"
     ]
    },
    {
     "name": "stdout",
     "output_type": "stream",
     "text": [
      "Episode 14640/15000\n",
      "Fitnesses: ['-48.86', '-69.18', '-1.74', '-121.00']\n",
      "100 fitness avgs: ['-48.14', '-48.35', '-48.87', '-50.18']\n"
     ]
    },
    {
     "name": "stderr",
     "output_type": "stream",
     "text": [
      " 98%|████████████████████████████████████████████████████████████████████████████████████████████████████▋  | 14659/15000 [1:02:38<00:35,  9.73it/s]"
     ]
    },
    {
     "name": "stdout",
     "output_type": "stream",
     "text": [
      "Episode 14660/15000\n",
      "Fitnesses: ['-74.52', '-118.44', '-72.44', '-57.50']\n",
      "100 fitness avgs: ['-48.91', '-49.35', '-48.89', '-48.21']\n"
     ]
    },
    {
     "name": "stderr",
     "output_type": "stream",
     "text": [
      " 98%|████████████████████████████████████████████████████████████████████████████████████████████████████▊  | 14679/15000 [1:02:43<00:38,  8.40it/s]"
     ]
    },
    {
     "name": "stdout",
     "output_type": "stream",
     "text": [
      "Episode 14680/15000\n",
      "Fitnesses: ['-31.48', '-17.70', '-5.48', '-87.18']\n",
      "100 fitness avgs: ['-47.40', '-47.26', '-47.14', '-48.63']\n"
     ]
    },
    {
     "name": "stderr",
     "output_type": "stream",
     "text": [
      " 98%|████████████████████████████████████████████████████████████████████████████████████████████████████▉  | 14699/15000 [1:02:46<00:35,  8.53it/s]"
     ]
    },
    {
     "name": "stdout",
     "output_type": "stream",
     "text": [
      "Episode 14700/15000\n",
      "Fitnesses: ['-69.38', '-98.57', '-76.91', '-99.48']\n",
      "100 fitness avgs: ['-47.44', '-47.99', '-47.77', '-47.74']\n"
     ]
    },
    {
     "name": "stderr",
     "output_type": "stream",
     "text": [
      " 98%|█████████████████████████████████████████████████████████████████████████████████████████████████████  | 14719/15000 [1:02:49<00:31,  9.05it/s]"
     ]
    },
    {
     "name": "stdout",
     "output_type": "stream",
     "text": [
      "Episode 14720/15000\n",
      "Fitnesses: ['-13.91', '-73.63', '-18.14', '-55.66']\n",
      "100 fitness avgs: ['-46.82', '-47.75', '-47.41', '-47.57']\n"
     ]
    },
    {
     "name": "stderr",
     "output_type": "stream",
     "text": [
      " 98%|█████████████████████████████████████████████████████████████████████████████████████████████████████▏ | 14739/15000 [1:02:53<00:28,  9.12it/s]"
     ]
    },
    {
     "name": "stdout",
     "output_type": "stream",
     "text": [
      "Episode 14740/15000\n",
      "Fitnesses: ['-89.42', '-125.19', '-32.99', '-59.01']\n",
      "100 fitness avgs: ['-47.27', '-48.38', '-46.71', '-46.97']\n"
     ]
    },
    {
     "name": "stderr",
     "output_type": "stream",
     "text": [
      " 98%|█████████████████████████████████████████████████████████████████████████████████████████████████████▎ | 14759/15000 [1:02:56<00:29,  8.06it/s]"
     ]
    },
    {
     "name": "stdout",
     "output_type": "stream",
     "text": [
      "Episode 14760/15000\n",
      "Fitnesses: ['-135.82', '-178.93', '-1.13', '-86.46']\n",
      "100 fitness avgs: ['-47.50', '-47.94', '-46.16', '-47.27']\n"
     ]
    },
    {
     "name": "stderr",
     "output_type": "stream",
     "text": [
      " 99%|█████████████████████████████████████████████████████████████████████████████████████████████████████▍ | 14779/15000 [1:03:00<00:23,  9.40it/s]"
     ]
    },
    {
     "name": "stdout",
     "output_type": "stream",
     "text": [
      "Episode 14780/15000\n",
      "Fitnesses: ['-15.59', '-31.58', '-137.98', '-86.83']\n",
      "100 fitness avgs: ['-46.24', '-48.18', '-48.58', '-46.95']\n"
     ]
    },
    {
     "name": "stderr",
     "output_type": "stream",
     "text": [
      " 99%|█████████████████████████████████████████████████████████████████████████████████████████████████████▌ | 14799/15000 [1:03:04<00:24,  8.31it/s]"
     ]
    },
    {
     "name": "stdout",
     "output_type": "stream",
     "text": [
      "Episode 14800/15000\n",
      "Fitnesses: ['-163.19', '-1.84', '-104.14', '-6.98']\n",
      "100 fitness avgs: ['-47.83', '-48.56', '-47.24', '-48.21']\n"
     ]
    },
    {
     "name": "stderr",
     "output_type": "stream",
     "text": [
      " 99%|█████████████████████████████████████████████████████████████████████████████████████████████████████▊ | 14819/15000 [1:03:07<00:18,  9.55it/s]"
     ]
    },
    {
     "name": "stdout",
     "output_type": "stream",
     "text": [
      "Episode 14820/15000\n",
      "Fitnesses: ['-88.09', '-60.51', '-223.62', '-37.40']\n",
      "100 fitness avgs: ['-45.33', '-45.05', '-46.34', '-44.47']\n"
     ]
    },
    {
     "name": "stderr",
     "output_type": "stream",
     "text": [
      " 99%|█████████████████████████████████████████████████████████████████████████████████████████████████████▉ | 14839/15000 [1:03:14<00:21,  7.58it/s]"
     ]
    },
    {
     "name": "stdout",
     "output_type": "stream",
     "text": [
      "Episode 14840/15000\n",
      "Fitnesses: ['-51.35', '-12.78', '-53.49', '-62.90']\n",
      "100 fitness avgs: ['-44.95', '-44.57', '-45.55', '-46.93']\n"
     ]
    },
    {
     "name": "stderr",
     "output_type": "stream",
     "text": [
      " 99%|██████████████████████████████████████████████████████████████████████████████████████████████████████ | 14859/15000 [1:03:17<00:19,  7.07it/s]"
     ]
    },
    {
     "name": "stdout",
     "output_type": "stream",
     "text": [
      "Episode 14860/15000\n",
      "Fitnesses: ['-80.16', '-15.95', '-34.70', '-117.07']\n",
      "100 fitness avgs: ['-45.18', '-44.54', '-45.11', '-46.53']\n"
     ]
    },
    {
     "name": "stderr",
     "output_type": "stream",
     "text": [
      " 99%|██████████████████████████████████████████████████████████████████████████████████████████████████████▏| 14879/15000 [1:03:21<00:13,  9.22it/s]"
     ]
    },
    {
     "name": "stdout",
     "output_type": "stream",
     "text": [
      "Episode 14880/15000\n",
      "Fitnesses: ['-122.97', '-183.39', '-29.73', '-69.39']\n",
      "100 fitness avgs: ['-45.05', '-45.65', '-44.12', '-45.09']\n"
     ]
    },
    {
     "name": "stderr",
     "output_type": "stream",
     "text": [
      " 99%|██████████████████████████████████████████████████████████████████████████████████████████████████████▎| 14899/15000 [1:03:24<00:11,  9.18it/s]"
     ]
    },
    {
     "name": "stdout",
     "output_type": "stream",
     "text": [
      "Episode 14900/15000\n",
      "Fitnesses: ['-165.66', '-140.03', '-99.70', '-92.06']\n",
      "100 fitness avgs: ['-45.76', '-46.48', '-45.10', '-46.00']\n"
     ]
    },
    {
     "name": "stderr",
     "output_type": "stream",
     "text": [
      " 99%|██████████████████████████████████████████████████████████████████████████████████████████████████████▍| 14919/15000 [1:03:28<00:08,  9.08it/s]"
     ]
    },
    {
     "name": "stdout",
     "output_type": "stream",
     "text": [
      "Episode 14920/15000\n",
      "Fitnesses: ['-67.31', '-183.83', '-62.38', '-104.00']\n",
      "100 fitness avgs: ['-46.49', '-47.65', '-46.44', '-46.85']\n"
     ]
    },
    {
     "name": "stderr",
     "output_type": "stream",
     "text": [
      "100%|██████████████████████████████████████████████████████████████████████████████████████████████████████▌| 14939/15000 [1:03:32<00:09,  6.57it/s]"
     ]
    },
    {
     "name": "stdout",
     "output_type": "stream",
     "text": [
      "Episode 14940/15000\n",
      "Fitnesses: ['-53.17', '-1039.90', '-101.61', '-34.61']\n",
      "100 fitness avgs: ['-46.79', '-56.66', '-47.27', '-46.60']\n"
     ]
    },
    {
     "name": "stderr",
     "output_type": "stream",
     "text": [
      "100%|██████████████████████████████████████████████████████████████████████████████████████████████████████▋| 14959/15000 [1:03:38<00:06,  6.55it/s]"
     ]
    },
    {
     "name": "stdout",
     "output_type": "stream",
     "text": [
      "Episode 14960/15000\n",
      "Fitnesses: ['-1251.75', '-135.41', '-1198.42', '-518.05']\n",
      "100 fitness avgs: ['-59.07', '-48.09', '-68.59', '-61.78']\n"
     ]
    },
    {
     "name": "stderr",
     "output_type": "stream",
     "text": [
      "100%|██████████████████████████████████████████████████████████████████████████████████████████████████████▊| 14979/15000 [1:03:42<00:02,  7.75it/s]"
     ]
    },
    {
     "name": "stdout",
     "output_type": "stream",
     "text": [
      "Episode 14980/15000\n",
      "Fitnesses: ['-58.60', '-20.92', '-476.34', '-64.87']\n",
      "100 fitness avgs: ['-48.51', '-48.14', '-66.39', '-48.58']\n"
     ]
    },
    {
     "name": "stderr",
     "output_type": "stream",
     "text": [
      "100%|██████████████████████████████████████████████████████████████████████████████████████████████████████▉| 14999/15000 [1:03:45<00:00,  8.84it/s]"
     ]
    },
    {
     "name": "stdout",
     "output_type": "stream",
     "text": [
      "Episode 15000/15000\n",
      "Fitnesses: ['-82.24', '-40.17', '-55.32', '-133.67']\n",
      "100 fitness avgs: ['-48.67', '-48.25', '-48.78', '-49.19']\n"
     ]
    },
    {
     "name": "stderr",
     "output_type": "stream",
     "text": [
      "100%|███████████████████████████████████████████████████████████████████████████████████████████████████████| 15000/15000 [1:03:47<00:00,  3.92it/s]\n"
     ]
    }
   ],
   "source": [
    "\"\"\"\n",
    "This tutorial shows how to train an MATD3 agent on the simple speaker listener multi-particle environment.\n",
    "\n",
    "Authors: Michael (https://github.com/mikepratt1), Nickua (https://github.com/nicku-a)\n",
    "\"\"\"\n",
    "\n",
    "import os\n",
    "\n",
    "import numpy as np\n",
    "import torch\n",
    "from pettingzoo.mpe import simple_speaker_listener_v4\n",
    "from tqdm import trange\n",
    "\n",
    "from agilerl.components.multi_agent_replay_buffer import MultiAgentReplayBuffer\n",
    "from agilerl.hpo.mutation import Mutations\n",
    "from agilerl.hpo.tournament import TournamentSelection\n",
    "from agilerl.utils.utils import initialPopulation\n",
    "\n",
    "if __name__ == \"__main__\":\n",
    "    device = torch.device(\"cuda\" if torch.cuda.is_available() else \"cpu\")\n",
    "    print(\"===== AgileRL Online Multi-Agent Demo =====\")\n",
    "\n",
    "    # Define the network configuration\n",
    "    NET_CONFIG = {\n",
    "        \"arch\": \"mlp\",  # Network architecture\n",
    "        \"h_size\": [32, 32],  # Actor hidden size\n",
    "    }\n",
    "\n",
    "    # Define the initial hyperparameters\n",
    "    INIT_HP = {\n",
    "        \"POPULATION_SIZE\": 4,\n",
    "        \"ALGO\": \"MATD3\",  # Algorithm\n",
    "        # Swap image channels dimension from last to first [H, W, C] -> [C, H, W]\n",
    "        \"CHANNELS_LAST\": False,\n",
    "        \"BATCH_SIZE\": 32,  # Batch size\n",
    "        \"LR\": 0.01,  # Learning rate\n",
    "        \"GAMMA\": 0.95,  # Discount factor\n",
    "        \"MEMORY_SIZE\": 100000,  # Max memory buffer size\n",
    "        \"LEARN_STEP\": 5,  # Learning frequency\n",
    "        \"TAU\": 0.01,  # For soft update of target parameters\n",
    "        \"POLICY_FREQ\": 2,  # Policy frequnecy\n",
    "    }\n",
    "\n",
    "    # Define the simple speaker listener environment as a parallel environment\n",
    "    env = simple_speaker_listener_v4.parallel_env(continuous_actions=True)\n",
    "    env.reset()\n",
    "\n",
    "    # Configure the multi-agent algo input arguments\n",
    "    try:\n",
    "        state_dim = [env.observation_space(agent).n for agent in env.agents]\n",
    "        one_hot = True\n",
    "    except Exception:\n",
    "        state_dim = [env.observation_space(agent).shape for agent in env.agents]\n",
    "        one_hot = False\n",
    "    try:\n",
    "        action_dim = [env.action_space(agent).n for agent in env.agents]\n",
    "        INIT_HP[\"DISCRETE_ACTIONS\"] = True\n",
    "        INIT_HP[\"MAX_ACTION\"] = None\n",
    "        INIT_HP[\"MIN_ACTION\"] = None\n",
    "    except Exception:\n",
    "        action_dim = [env.action_space(agent).shape[0] for agent in env.agents]\n",
    "        INIT_HP[\"DISCRETE_ACTIONS\"] = False\n",
    "        INIT_HP[\"MAX_ACTION\"] = [env.action_space(agent).high for agent in env.agents]\n",
    "        INIT_HP[\"MIN_ACTION\"] = [env.action_space(agent).low for agent in env.agents]\n",
    "\n",
    "    # Not applicable to MPE environments, used when images are used for observations (Atari environments)\n",
    "    if INIT_HP[\"CHANNELS_LAST\"]:\n",
    "        state_dim = [\n",
    "            (state_dim[2], state_dim[0], state_dim[1]) for state_dim in state_dim\n",
    "        ]\n",
    "\n",
    "    # Append number of agents and agent IDs to the initial hyperparameter dictionary\n",
    "    INIT_HP[\"N_AGENTS\"] = env.num_agents\n",
    "    INIT_HP[\"AGENT_IDS\"] = env.agents\n",
    "\n",
    "    # Create a population ready for evolutionary hyper-parameter optimisation\n",
    "    pop = initialPopulation(\n",
    "        INIT_HP[\"ALGO\"],\n",
    "        state_dim,\n",
    "        action_dim,\n",
    "        one_hot,\n",
    "        NET_CONFIG,\n",
    "        INIT_HP,\n",
    "        population_size=INIT_HP[\"POPULATION_SIZE\"],\n",
    "        device=device,\n",
    "    )\n",
    "\n",
    "    # Configure the multi-agent replay buffer\n",
    "    field_names = [\"state\", \"action\", \"reward\", \"next_state\", \"done\"]\n",
    "    memory = MultiAgentReplayBuffer(\n",
    "        INIT_HP[\"MEMORY_SIZE\"],\n",
    "        field_names=field_names,\n",
    "        agent_ids=INIT_HP[\"AGENT_IDS\"],\n",
    "        device=device,\n",
    "    )\n",
    "\n",
    "    # Instantiate a tournament selection object (used for HPO)\n",
    "    tournament = TournamentSelection(\n",
    "        tournament_size=2,  # Tournament selection size\n",
    "        elitism=True,  # Elitism in tournament selection\n",
    "        population_size=INIT_HP[\"POPULATION_SIZE\"],  # Population size\n",
    "        evo_step=1,\n",
    "    )  # Evaluate using last N fitness scores\n",
    "\n",
    "    # Instantiate a mutations object (used for HPO)\n",
    "    mutations = Mutations(\n",
    "        algo=INIT_HP[\"ALGO\"],\n",
    "        no_mutation=0.2,  # Probability of no mutation\n",
    "        architecture=0.2,  # Probability of architecture mutation\n",
    "        new_layer_prob=0.2,  # Probability of new layer mutation\n",
    "        parameters=0.2,  # Probability of parameter mutation\n",
    "        activation=0,  # Probability of activation function mutation\n",
    "        rl_hp=0.2,  # Probability of RL hyperparameter mutation\n",
    "        rl_hp_selection=[\n",
    "            \"lr\",\n",
    "            \"learn_step\",\n",
    "            \"batch_size\",\n",
    "        ],  # RL hyperparams selected for mutation\n",
    "        mutation_sd=0.1,  # Mutation strength\n",
    "        agent_ids=INIT_HP[\"AGENT_IDS\"],\n",
    "        arch=NET_CONFIG[\"arch\"],\n",
    "        rand_seed=1,\n",
    "        device=device,\n",
    "    )\n",
    "\n",
    "    # Define training loop parameters\n",
    "    max_episodes = 15000 # 6000 #500  # Total episodes (default: 6000)\n",
    "    max_steps = 25  # Maximum steps to take in each episode\n",
    "    epsilon = 1.0  # Starting epsilon value\n",
    "    eps_end = 0.1  # Final epsilon value\n",
    "    eps_decay = 0.995  # Epsilon decay\n",
    "    evo_epochs = 20  # Evolution frequency\n",
    "    evo_loop = 1  # Number of evaluation episodes\n",
    "    elite = pop[0]  # Assign a placeholder \"elite\" agent\n",
    "\n",
    "    # Training loop\n",
    "    for idx_epi in trange(max_episodes):\n",
    "        for agent in pop:  # Loop through population\n",
    "            state, info = env.reset()  # Reset environment at start of episode\n",
    "            agent_reward = {agent_id: 0 for agent_id in env.agents}\n",
    "            if INIT_HP[\"CHANNELS_LAST\"]:\n",
    "                state = {\n",
    "                    agent_id: np.moveaxis(np.expand_dims(s, 0), [-1], [-3])\n",
    "                    for agent_id, s in state.items()\n",
    "                }\n",
    "\n",
    "            for _ in range(max_steps):\n",
    "                agent_mask = info[\"agent_mask\"] if \"agent_mask\" in info.keys() else None\n",
    "                env_defined_actions = (\n",
    "                    info[\"env_defined_actions\"]\n",
    "                    if \"env_defined_actions\" in info.keys()\n",
    "                    else None\n",
    "                )\n",
    "\n",
    "                # Get next action from agent\n",
    "                cont_actions, discrete_action = agent.getAction(\n",
    "                    state, epsilon, agent_mask, env_defined_actions\n",
    "                )\n",
    "                if agent.discrete_actions:\n",
    "                    action = discrete_action\n",
    "                else:\n",
    "                    action = cont_actions\n",
    "\n",
    "                next_state, reward, termination, truncation, info = env.step(\n",
    "                    action\n",
    "                )  # Act in environment\n",
    "\n",
    "                # Image processing if necessary for the environment\n",
    "                if INIT_HP[\"CHANNELS_LAST\"]:\n",
    "                    state = {agent_id: np.squeeze(s) for agent_id, s in state.items()}\n",
    "                    next_state = {\n",
    "                        agent_id: np.moveaxis(ns, [-1], [-3])\n",
    "                        for agent_id, ns in next_state.items()\n",
    "                    }\n",
    "\n",
    "                # Save experiences to replay buffer\n",
    "                memory.save2memory(state, cont_actions, reward, next_state, termination)\n",
    "\n",
    "                # Collect the reward\n",
    "                for agent_id, r in reward.items():\n",
    "                    agent_reward[agent_id] += r\n",
    "\n",
    "                # Learn according to learning frequency\n",
    "                if (memory.counter % agent.learn_step == 0) and (\n",
    "                    len(memory) >= agent.batch_size\n",
    "                ):\n",
    "                    experiences = memory.sample(\n",
    "                        agent.batch_size\n",
    "                    )  # Sample replay buffer\n",
    "                    agent.learn(experiences)  # Learn according to agent's RL algorithm\n",
    "\n",
    "                # Update the state\n",
    "                if INIT_HP[\"CHANNELS_LAST\"]:\n",
    "                    next_state = {\n",
    "                        agent_id: np.expand_dims(ns, 0)\n",
    "                        for agent_id, ns in next_state.items()\n",
    "                    }\n",
    "                state = next_state\n",
    "\n",
    "                # Stop episode if any agents have terminated\n",
    "                if any(truncation.values()) or any(termination.values()):\n",
    "                    break\n",
    "\n",
    "            # Save the total episode reward\n",
    "            score = sum(agent_reward.values())\n",
    "            agent.scores.append(score)\n",
    "\n",
    "        # Update epsilon for exploration\n",
    "        epsilon = max(eps_end, epsilon * eps_decay)\n",
    "\n",
    "        # Now evolve population if necessary\n",
    "        if (idx_epi + 1) % evo_epochs == 0:\n",
    "            # Evaluate population\n",
    "            fitnesses = [\n",
    "                agent.test(\n",
    "                    env,\n",
    "                    swap_channels=INIT_HP[\"CHANNELS_LAST\"],\n",
    "                    max_steps=max_steps,\n",
    "                    loop=evo_loop,\n",
    "                )\n",
    "                for agent in pop\n",
    "            ]\n",
    "\n",
    "            print(f\"Episode {idx_epi + 1}/{max_episodes}\")\n",
    "            print(f'Fitnesses: {[\"%.2f\" % fitness for fitness in fitnesses]}')\n",
    "            print(\n",
    "                f'100 fitness avgs: {[\"%.2f\" % np.mean(agent.fitness[-100:]) for agent in pop]}'\n",
    "            )\n",
    "\n",
    "            # Tournament selection and population mutation\n",
    "            elite, pop = tournament.select(pop)\n",
    "            pop = mutations.mutation(pop)\n",
    "\n",
    "    # Save the trained algorithm\n",
    "    path = \"./models/MATD3\"\n",
    "    filename = \"MATD3_trained_agent.pt\"\n",
    "    os.makedirs(path, exist_ok=True)\n",
    "    save_path = os.path.join(path, filename)\n",
    "    elite.saveCheckpoint(save_path)"
   ]
  },
  {
   "cell_type": "code",
   "execution_count": 4,
   "id": "a4757375",
   "metadata": {},
   "outputs": [
    {
     "name": "stdout",
     "output_type": "stream",
     "text": [
      "--------------- Episode: 0 ---------------\n",
      "Episodic Reward:  -12.666551396812071\n",
      "speaker_0 reward: -6.333275698406036\n",
      "listener_0 reward: -6.333275698406036\n",
      "--------------- Episode: 1 ---------------\n",
      "Episodic Reward:  -8.63340274088957\n",
      "speaker_0 reward: -4.316701370444785\n",
      "listener_0 reward: -4.316701370444785\n",
      "--------------- Episode: 2 ---------------\n",
      "Episodic Reward:  -199.85117701040116\n",
      "speaker_0 reward: -99.92558850520058\n",
      "listener_0 reward: -99.92558850520058\n",
      "--------------- Episode: 3 ---------------\n",
      "Episodic Reward:  -88.89492233931549\n",
      "speaker_0 reward: -44.44746116965774\n",
      "listener_0 reward: -44.44746116965774\n",
      "--------------- Episode: 4 ---------------\n",
      "Episodic Reward:  -88.42836936353625\n",
      "speaker_0 reward: -44.214184681768124\n",
      "listener_0 reward: -44.214184681768124\n",
      "--------------- Episode: 5 ---------------\n",
      "Episodic Reward:  -98.24332841375062\n",
      "speaker_0 reward: -49.12166420687531\n",
      "listener_0 reward: -49.12166420687531\n",
      "--------------- Episode: 6 ---------------\n",
      "Episodic Reward:  -4.924951392315199\n",
      "speaker_0 reward: -2.4624756961575995\n",
      "listener_0 reward: -2.4624756961575995\n",
      "--------------- Episode: 7 ---------------\n",
      "Episodic Reward:  -132.23914219642995\n",
      "speaker_0 reward: -66.11957109821498\n",
      "listener_0 reward: -66.11957109821498\n",
      "--------------- Episode: 8 ---------------\n",
      "Episodic Reward:  -37.58821930048115\n",
      "speaker_0 reward: -18.794109650240575\n",
      "listener_0 reward: -18.794109650240575\n",
      "--------------- Episode: 9 ---------------\n",
      "Episodic Reward:  -35.454770281225755\n",
      "speaker_0 reward: -17.727385140612878\n",
      "listener_0 reward: -17.727385140612878\n"
     ]
    }
   ],
   "source": [
    "import os\n",
    "\n",
    "import imageio\n",
    "import numpy as np\n",
    "import torch\n",
    "from pettingzoo.mpe import simple_speaker_listener_v4\n",
    "from PIL import Image, ImageDraw\n",
    "\n",
    "from agilerl.algorithms.matd3 import MATD3\n",
    "\n",
    "\n",
    "# Define function to return image\n",
    "def _label_with_episode_number(frame, episode_num):\n",
    "    im = Image.fromarray(frame)\n",
    "\n",
    "    drawer = ImageDraw.Draw(im)\n",
    "\n",
    "    if np.mean(frame) < 128:\n",
    "        text_color = (255, 255, 255)\n",
    "    else:\n",
    "        text_color = (0, 0, 0)\n",
    "    drawer.text(\n",
    "        (im.size[0] / 20, im.size[1] / 18), f\"Episode: {episode_num+1}\", fill=text_color\n",
    "    )\n",
    "\n",
    "    return im\n",
    "\n",
    "\n",
    "if __name__ == \"__main__\":\n",
    "    device = torch.device(\"cuda\" if torch.cuda.is_available() else \"cpu\")\n",
    "\n",
    "    # Configure the environment\n",
    "    env = simple_speaker_listener_v4.parallel_env(\n",
    "        continuous_actions=True, render_mode=\"rgb_array\"\n",
    "    )\n",
    "    env.reset()\n",
    "    try:\n",
    "        state_dim = [env.observation_space(agent).n for agent in env.agents]\n",
    "        one_hot = True\n",
    "    except Exception:\n",
    "        state_dim = [env.observation_space(agent).shape for agent in env.agents]\n",
    "        one_hot = False\n",
    "    try:\n",
    "        action_dim = [env.action_space(agent).n for agent in env.agents]\n",
    "        discrete_actions = True\n",
    "        max_action = None\n",
    "        min_action = None\n",
    "    except Exception:\n",
    "        action_dim = [env.action_space(agent).shape[0] for agent in env.agents]\n",
    "        discrete_actions = False\n",
    "        max_action = [env.action_space(agent).high for agent in env.agents]\n",
    "        min_action = [env.action_space(agent).low for agent in env.agents]\n",
    "\n",
    "    # Append number of agents and agent IDs to the initial hyperparameter dictionary\n",
    "    n_agents = env.num_agents\n",
    "    agent_ids = env.agents\n",
    "\n",
    "    # Instantiate an MADDPG object\n",
    "    matd3 = MATD3(\n",
    "        state_dim,\n",
    "        action_dim,\n",
    "        one_hot,\n",
    "        n_agents,\n",
    "        agent_ids,\n",
    "        max_action,\n",
    "        min_action,\n",
    "        discrete_actions,\n",
    "        device=device,\n",
    "    )\n",
    "\n",
    "    # Load the saved algorithm into the MADDPG object\n",
    "    path = \"./models/MATD3/MATD3_trained_agent.pt\"\n",
    "    matd3.loadCheckpoint(path)\n",
    "\n",
    "    # Define test loop parameters\n",
    "    episodes = 10  # Number of episodes to test agent on\n",
    "    max_steps = 25  # Max number of steps to take in the environment in each episode\n",
    "\n",
    "    rewards = []  # List to collect total episodic reward\n",
    "    frames = []  # List to collect frames\n",
    "    indi_agent_rewards = {\n",
    "        agent_id: [] for agent_id in agent_ids\n",
    "    }  # Dictionary to collect inidivdual agent rewards\n",
    "\n",
    "    rewards = []  # List to collect total episodic reward\n",
    "    frames = []  # List to collect frames\n",
    "    indi_agent_rewards = {\n",
    "        agent_id: [] for agent_id in agent_ids\n",
    "    }  # Dictionary to collect inidivdual agent rewards\n",
    "\n",
    "    # Test loop for inference\n",
    "    for ep in range(episodes):\n",
    "        state, info = env.reset()\n",
    "        agent_reward = {agent_id: 0 for agent_id in agent_ids}\n",
    "        score = 0\n",
    "        for _ in range(max_steps):\n",
    "            agent_mask = info[\"agent_mask\"] if \"agent_mask\" in info.keys() else None\n",
    "            env_defined_actions = (\n",
    "                info[\"env_defined_actions\"]\n",
    "                if \"env_defined_actions\" in info.keys()\n",
    "                else None\n",
    "            )\n",
    "\n",
    "            # Get next action from agent\n",
    "            cont_actions, discrete_action = matd3.getAction(\n",
    "                state,\n",
    "                epsilon=0,\n",
    "                agent_mask=agent_mask,\n",
    "                env_defined_actions=env_defined_actions,\n",
    "            )\n",
    "            if matd3.discrete_actions:\n",
    "                action = discrete_action\n",
    "            else:\n",
    "                action = cont_actions\n",
    "\n",
    "            # Save the frame for this step and append to frames list\n",
    "            frame = env.render()\n",
    "            frames.append(_label_with_episode_number(frame, episode_num=ep))\n",
    "\n",
    "            # Take action in environment\n",
    "            state, reward, termination, truncation, info = env.step(action)\n",
    "\n",
    "            # Save agent's reward for this step in this episode\n",
    "            for agent_id, r in reward.items():\n",
    "                agent_reward[agent_id] += r\n",
    "\n",
    "            # Determine total score for the episode and then append to rewards list\n",
    "            score = sum(agent_reward.values())\n",
    "\n",
    "            # Stop episode if any agents have terminated\n",
    "            if any(truncation.values()) or any(termination.values()):\n",
    "                break\n",
    "\n",
    "        rewards.append(score)\n",
    "\n",
    "        # Record agent specific episodic reward\n",
    "        for agent_id in agent_ids:\n",
    "            indi_agent_rewards[agent_id].append(agent_reward[agent_id])\n",
    "\n",
    "        print(\"-\" * 15, f\"Episode: {ep}\", \"-\" * 15)\n",
    "        print(\"Episodic Reward: \", rewards[-1])\n",
    "        for agent_id, reward_list in indi_agent_rewards.items():\n",
    "            print(f\"{agent_id} reward: {reward_list[-1]}\")\n",
    "    env.close()\n",
    "\n",
    "    # Save the gif to specified path\n",
    "    gif_path = \"./videos/\"\n",
    "    os.makedirs(gif_path, exist_ok=True)\n",
    "    imageio.mimwrite(\n",
    "        os.path.join(\"./videos/\", \"speaker_listener.gif\"), frames, duration=10\n",
    "    )"
   ]
  },
  {
   "cell_type": "code",
   "execution_count": 5,
   "id": "cfadb438-9362-4b9d-9d05-ae54b857ffcf",
   "metadata": {},
   "outputs": [
    {
     "name": "stdout",
     "output_type": "stream",
     "text": [
      "/Users/work/work-worldmodel2023/venv-mpe/bin/python3: No module named pip3\n",
      "/Users/work/work-worldmodel2023/venv-mpe/bin/python3: No module named pip3\n"
     ]
    }
   ],
   "source": [
    "!python3 -m pip3 install playsound\n",
    "!python3 -m pip3 install PyObjC"
   ]
  },
  {
   "cell_type": "code",
   "execution_count": 6,
   "id": "fd62d1b5-7785-4023-8de1-0ff1f36b4239",
   "metadata": {},
   "outputs": [
    {
     "ename": "KeyboardInterrupt",
     "evalue": "",
     "output_type": "error",
     "traceback": [
      "\u001b[0;31m---------------------------------------------------------------------------\u001b[0m",
      "\u001b[0;31mKeyboardInterrupt\u001b[0m                         Traceback (most recent call last)",
      "Cell \u001b[0;32mIn[6], line 4\u001b[0m\n\u001b[1;32m      1\u001b[0m \u001b[38;5;28;01mimport\u001b[39;00m \u001b[38;5;21;01mplaysound\u001b[39;00m\n\u001b[1;32m      3\u001b[0m \u001b[38;5;28;01mwhile\u001b[39;00m \u001b[38;5;28;01mTrue\u001b[39;00m:\n\u001b[0;32m----> 4\u001b[0m     \u001b[43mplaysound\u001b[49m\u001b[38;5;241;43m.\u001b[39;49m\u001b[43mplaysound\u001b[49m\u001b[43m(\u001b[49m\u001b[38;5;124;43m\"\u001b[39;49m\u001b[38;5;124;43mfireworks.mp3\u001b[39;49m\u001b[38;5;124;43m\"\u001b[39;49m\u001b[43m)\u001b[49m\n",
      "File \u001b[0;32m~/work-worldmodel2023/venv-mpe/lib/python3.8/site-packages/playsound.py:144\u001b[0m, in \u001b[0;36m_playsoundOSX\u001b[0;34m(sound, block)\u001b[0m\n\u001b[1;32m    141\u001b[0m nssound\u001b[38;5;241m.\u001b[39mplay()\n\u001b[1;32m    143\u001b[0m \u001b[38;5;28;01mif\u001b[39;00m block:\n\u001b[0;32m--> 144\u001b[0m     \u001b[43msleep\u001b[49m\u001b[43m(\u001b[49m\u001b[43mnssound\u001b[49m\u001b[38;5;241;43m.\u001b[39;49m\u001b[43mduration\u001b[49m\u001b[43m(\u001b[49m\u001b[43m)\u001b[49m\u001b[43m)\u001b[49m\n",
      "\u001b[0;31mKeyboardInterrupt\u001b[0m: "
     ]
    }
   ],
   "source": [
    "import playsound\n",
    "\n",
    "while True:\n",
    "    playsound.playsound(\"fireworks.mp3\")"
   ]
  },
  {
   "cell_type": "code",
   "execution_count": null,
   "id": "5d75d986-de09-4449-ab01-394fcb3ce289",
   "metadata": {},
   "outputs": [],
   "source": []
  }
 ],
 "metadata": {
  "kernelspec": {
   "display_name": "Python 3 (ipykernel)",
   "language": "python",
   "name": "python3"
  },
  "language_info": {
   "codemirror_mode": {
    "name": "ipython",
    "version": 3
   },
   "file_extension": ".py",
   "mimetype": "text/x-python",
   "name": "python",
   "nbconvert_exporter": "python",
   "pygments_lexer": "ipython3",
   "version": "3.8.2"
  }
 },
 "nbformat": 4,
 "nbformat_minor": 5
}
