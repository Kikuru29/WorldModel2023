{
 "cells": [
  {
   "cell_type": "markdown",
   "id": "ff4488f4",
   "metadata": {},
   "source": [
    "# AgileRL Speaker-Listener with MATD3\n",
    "https://docs.agilerl.com/en/latest/tutorials/pettingzoo/matd3.html"
   ]
  },
  {
   "cell_type": "code",
   "execution_count": 1,
   "id": "a9b039f0",
   "metadata": {},
   "outputs": [
    {
     "name": "stdout",
     "output_type": "stream",
     "text": [
      "Requirement already satisfied: pip in /Users/work/work-worldmodel2023/venv-mpe/lib/python3.8/site-packages (23.3.1)\n"
     ]
    }
   ],
   "source": [
    "!pip install --upgrade pip"
   ]
  },
  {
   "cell_type": "code",
   "execution_count": 2,
   "id": "3d2e6aa6",
   "metadata": {},
   "outputs": [
    {
     "name": "stdout",
     "output_type": "stream",
     "text": [
      "zsh:1: no matches found: pettingzoo[mpe]\n",
      "Requirement already satisfied: agilerl in /Users/work/work-worldmodel2023/venv-mpe/lib/python3.8/site-packages (0.1.19)\n",
      "Requirement already satisfied: SuperSuit<4.0.0,>=3.9.0 in /Users/work/work-worldmodel2023/venv-mpe/lib/python3.8/site-packages (from agilerl) (3.9.1)\n",
      "Requirement already satisfied: accelerate<0.19.0,>=0.18.0 in /Users/work/work-worldmodel2023/venv-mpe/lib/python3.8/site-packages (from agilerl) (0.18.0)\n",
      "Requirement already satisfied: dill<0.4.0,>=0.3.7 in /Users/work/work-worldmodel2023/venv-mpe/lib/python3.8/site-packages (from agilerl) (0.3.7)\n",
      "Requirement already satisfied: fastrand<2.0.0,>=1.3.0 in /Users/work/work-worldmodel2023/venv-mpe/lib/python3.8/site-packages (from agilerl) (1.8.0)\n",
      "Requirement already satisfied: flatten_dict<0.5.0,>=0.4.2 in /Users/work/work-worldmodel2023/venv-mpe/lib/python3.8/site-packages (from agilerl) (0.4.2)\n",
      "Requirement already satisfied: gymnasium<0.29.0,>=0.28.1 in /Users/work/work-worldmodel2023/venv-mpe/lib/python3.8/site-packages (from agilerl) (0.28.1)\n",
      "Requirement already satisfied: h5py<4.0.0,>=3.8.0 in /Users/work/work-worldmodel2023/venv-mpe/lib/python3.8/site-packages (from agilerl) (3.10.0)\n",
      "Requirement already satisfied: hydra-core<2.0.0,>=1.3.2 in /Users/work/work-worldmodel2023/venv-mpe/lib/python3.8/site-packages (from agilerl) (1.3.2)\n",
      "Requirement already satisfied: matplotlib<4.0.0,>=3.4.3 in /Users/work/work-worldmodel2023/venv-mpe/lib/python3.8/site-packages (from agilerl) (3.7.4)\n",
      "Requirement already satisfied: minari<0.5.0,>=0.4.1 in /Users/work/work-worldmodel2023/venv-mpe/lib/python3.8/site-packages (from agilerl) (0.4.2)\n",
      "Requirement already satisfied: numpy<2.0.0,>=1.24.2 in /Users/work/work-worldmodel2023/venv-mpe/lib/python3.8/site-packages (from agilerl) (1.24.4)\n",
      "Requirement already satisfied: omegaconf<3.0.0,>=2.3.0 in /Users/work/work-worldmodel2023/venv-mpe/lib/python3.8/site-packages (from agilerl) (2.3.0)\n",
      "Requirement already satisfied: pettingzoo<2.0.0,>=1.23.1 in /Users/work/work-worldmodel2023/venv-mpe/lib/python3.8/site-packages (from agilerl) (1.24.2)\n",
      "Requirement already satisfied: pre-commit<4.0.0,>=3.4.0 in /Users/work/work-worldmodel2023/venv-mpe/lib/python3.8/site-packages (from agilerl) (3.5.0)\n",
      "Requirement already satisfied: redis<5.0.0,>=4.4.4 in /Users/work/work-worldmodel2023/venv-mpe/lib/python3.8/site-packages (from agilerl) (4.6.0)\n",
      "Requirement already satisfied: termcolor<2.0.0,>=1.1.0 in /Users/work/work-worldmodel2023/venv-mpe/lib/python3.8/site-packages (from agilerl) (1.1.0)\n",
      "Requirement already satisfied: torch<3.0.0,>=2.0.1 in /Users/work/work-worldmodel2023/venv-mpe/lib/python3.8/site-packages (from agilerl) (2.1.2)\n",
      "Requirement already satisfied: tqdm<5.0.0,>=4.65.0 in /Users/work/work-worldmodel2023/venv-mpe/lib/python3.8/site-packages (from agilerl) (4.66.1)\n",
      "Requirement already satisfied: transformers<5.0.0,>=4.30.0 in /Users/work/work-worldmodel2023/venv-mpe/lib/python3.8/site-packages (from agilerl) (4.36.1)\n",
      "Requirement already satisfied: wandb<0.14.0,>=0.13.10 in /Users/work/work-worldmodel2023/venv-mpe/lib/python3.8/site-packages (from agilerl) (0.13.11)\n",
      "Requirement already satisfied: packaging>=20.0 in /Users/work/work-worldmodel2023/venv-mpe/lib/python3.8/site-packages (from accelerate<0.19.0,>=0.18.0->agilerl) (23.1)\n",
      "Requirement already satisfied: psutil in /Users/work/work-worldmodel2023/venv-mpe/lib/python3.8/site-packages (from accelerate<0.19.0,>=0.18.0->agilerl) (5.9.6)\n",
      "Requirement already satisfied: pyyaml in /Users/work/work-worldmodel2023/venv-mpe/lib/python3.8/site-packages (from accelerate<0.19.0,>=0.18.0->agilerl) (6.0.1)\n",
      "Requirement already satisfied: six<2.0,>=1.12 in /Users/work/work-worldmodel2023/venv-mpe/lib/python3.8/site-packages (from flatten_dict<0.5.0,>=0.4.2->agilerl) (1.16.0)\n",
      "Requirement already satisfied: jax-jumpy>=1.0.0 in /Users/work/work-worldmodel2023/venv-mpe/lib/python3.8/site-packages (from gymnasium<0.29.0,>=0.28.1->agilerl) (1.0.0)\n",
      "Requirement already satisfied: cloudpickle>=1.2.0 in /Users/work/work-worldmodel2023/venv-mpe/lib/python3.8/site-packages (from gymnasium<0.29.0,>=0.28.1->agilerl) (3.0.0)\n",
      "Requirement already satisfied: typing-extensions>=4.3.0 in /Users/work/work-worldmodel2023/venv-mpe/lib/python3.8/site-packages (from gymnasium<0.29.0,>=0.28.1->agilerl) (4.8.0)\n",
      "Requirement already satisfied: farama-notifications>=0.0.1 in /Users/work/work-worldmodel2023/venv-mpe/lib/python3.8/site-packages (from gymnasium<0.29.0,>=0.28.1->agilerl) (0.0.4)\n",
      "Requirement already satisfied: importlib-metadata>=4.8.0 in /Users/work/work-worldmodel2023/venv-mpe/lib/python3.8/site-packages (from gymnasium<0.29.0,>=0.28.1->agilerl) (6.8.0)\n",
      "Requirement already satisfied: antlr4-python3-runtime==4.9.* in /Users/work/work-worldmodel2023/venv-mpe/lib/python3.8/site-packages (from hydra-core<2.0.0,>=1.3.2->agilerl) (4.9.3)\n",
      "Requirement already satisfied: importlib-resources in /Users/work/work-worldmodel2023/venv-mpe/lib/python3.8/site-packages (from hydra-core<2.0.0,>=1.3.2->agilerl) (6.1.1)\n",
      "Requirement already satisfied: contourpy>=1.0.1 in /Users/work/work-worldmodel2023/venv-mpe/lib/python3.8/site-packages (from matplotlib<4.0.0,>=3.4.3->agilerl) (1.1.1)\n",
      "Requirement already satisfied: cycler>=0.10 in /Users/work/work-worldmodel2023/venv-mpe/lib/python3.8/site-packages (from matplotlib<4.0.0,>=3.4.3->agilerl) (0.12.1)\n",
      "Requirement already satisfied: fonttools>=4.22.0 in /Users/work/work-worldmodel2023/venv-mpe/lib/python3.8/site-packages (from matplotlib<4.0.0,>=3.4.3->agilerl) (4.46.0)\n",
      "Requirement already satisfied: kiwisolver>=1.0.1 in /Users/work/work-worldmodel2023/venv-mpe/lib/python3.8/site-packages (from matplotlib<4.0.0,>=3.4.3->agilerl) (1.4.5)\n",
      "Requirement already satisfied: pillow>=6.2.0 in /Users/work/work-worldmodel2023/venv-mpe/lib/python3.8/site-packages (from matplotlib<4.0.0,>=3.4.3->agilerl) (10.1.0)\n",
      "Requirement already satisfied: pyparsing>=2.3.1 in /Users/work/work-worldmodel2023/venv-mpe/lib/python3.8/site-packages (from matplotlib<4.0.0,>=3.4.3->agilerl) (3.1.1)\n",
      "Requirement already satisfied: python-dateutil>=2.7 in /Users/work/work-worldmodel2023/venv-mpe/lib/python3.8/site-packages (from matplotlib<4.0.0,>=3.4.3->agilerl) (2.8.2)\n",
      "Requirement already satisfied: google-cloud-storage==2.5.0 in /Users/work/work-worldmodel2023/venv-mpe/lib/python3.8/site-packages (from minari<0.5.0,>=0.4.1->agilerl) (2.5.0)\n",
      "Requirement already satisfied: typer==0.9.0 in /Users/work/work-worldmodel2023/venv-mpe/lib/python3.8/site-packages (from typer[all]==0.9.0->minari<0.5.0,>=0.4.1->agilerl) (0.9.0)\n",
      "Requirement already satisfied: portion==2.4.0 in /Users/work/work-worldmodel2023/venv-mpe/lib/python3.8/site-packages (from minari<0.5.0,>=0.4.1->agilerl) (2.4.0)\n",
      "Requirement already satisfied: google-auth<3.0dev,>=1.25.0 in /Users/work/work-worldmodel2023/venv-mpe/lib/python3.8/site-packages (from google-cloud-storage==2.5.0->minari<0.5.0,>=0.4.1->agilerl) (2.25.2)\n",
      "Requirement already satisfied: google-api-core!=2.0.*,!=2.1.*,!=2.2.*,!=2.3.0,<3.0.0dev,>=1.31.5 in /Users/work/work-worldmodel2023/venv-mpe/lib/python3.8/site-packages (from google-cloud-storage==2.5.0->minari<0.5.0,>=0.4.1->agilerl) (2.15.0)\n",
      "Requirement already satisfied: google-cloud-core<3.0dev,>=2.3.0 in /Users/work/work-worldmodel2023/venv-mpe/lib/python3.8/site-packages (from google-cloud-storage==2.5.0->minari<0.5.0,>=0.4.1->agilerl) (2.4.1)\n",
      "Requirement already satisfied: google-resumable-media>=2.3.2 in /Users/work/work-worldmodel2023/venv-mpe/lib/python3.8/site-packages (from google-cloud-storage==2.5.0->minari<0.5.0,>=0.4.1->agilerl) (2.7.0)\n",
      "Requirement already satisfied: requests<3.0.0dev,>=2.18.0 in /Users/work/work-worldmodel2023/venv-mpe/lib/python3.8/site-packages (from google-cloud-storage==2.5.0->minari<0.5.0,>=0.4.1->agilerl) (2.31.0)\n",
      "Requirement already satisfied: sortedcontainers~=2.2 in /Users/work/work-worldmodel2023/venv-mpe/lib/python3.8/site-packages (from portion==2.4.0->minari<0.5.0,>=0.4.1->agilerl) (2.4.0)\n",
      "Requirement already satisfied: click<9.0.0,>=7.1.1 in /Users/work/work-worldmodel2023/venv-mpe/lib/python3.8/site-packages (from typer==0.9.0->typer[all]==0.9.0->minari<0.5.0,>=0.4.1->agilerl) (8.1.7)\n",
      "Requirement already satisfied: colorama<0.5.0,>=0.4.3 in /Users/work/work-worldmodel2023/venv-mpe/lib/python3.8/site-packages (from typer[all]==0.9.0->minari<0.5.0,>=0.4.1->agilerl) (0.4.6)\n",
      "Requirement already satisfied: shellingham<2.0.0,>=1.3.0 in /Users/work/work-worldmodel2023/venv-mpe/lib/python3.8/site-packages (from typer[all]==0.9.0->minari<0.5.0,>=0.4.1->agilerl) (1.5.4)\n",
      "Requirement already satisfied: rich<14.0.0,>=10.11.0 in /Users/work/work-worldmodel2023/venv-mpe/lib/python3.8/site-packages (from typer[all]==0.9.0->minari<0.5.0,>=0.4.1->agilerl) (13.7.0)\n",
      "Requirement already satisfied: cfgv>=2.0.0 in /Users/work/work-worldmodel2023/venv-mpe/lib/python3.8/site-packages (from pre-commit<4.0.0,>=3.4.0->agilerl) (3.4.0)\n",
      "Requirement already satisfied: identify>=1.0.0 in /Users/work/work-worldmodel2023/venv-mpe/lib/python3.8/site-packages (from pre-commit<4.0.0,>=3.4.0->agilerl) (2.5.33)\n",
      "Requirement already satisfied: nodeenv>=0.11.1 in /Users/work/work-worldmodel2023/venv-mpe/lib/python3.8/site-packages (from pre-commit<4.0.0,>=3.4.0->agilerl) (1.8.0)\n",
      "Requirement already satisfied: virtualenv>=20.10.0 in /Users/work/work-worldmodel2023/venv-mpe/lib/python3.8/site-packages (from pre-commit<4.0.0,>=3.4.0->agilerl) (20.25.0)\n",
      "Requirement already satisfied: async-timeout>=4.0.2 in /Users/work/work-worldmodel2023/venv-mpe/lib/python3.8/site-packages (from redis<5.0.0,>=4.4.4->agilerl) (4.0.3)\n",
      "Requirement already satisfied: tinyscaler>=1.2.6 in /Users/work/work-worldmodel2023/venv-mpe/lib/python3.8/site-packages (from SuperSuit<4.0.0,>=3.9.0->agilerl) (1.2.7)\n",
      "Requirement already satisfied: filelock in /Users/work/work-worldmodel2023/venv-mpe/lib/python3.8/site-packages (from torch<3.0.0,>=2.0.1->agilerl) (3.13.1)\n",
      "Requirement already satisfied: sympy in /Users/work/work-worldmodel2023/venv-mpe/lib/python3.8/site-packages (from torch<3.0.0,>=2.0.1->agilerl) (1.12)\n",
      "Requirement already satisfied: networkx in /Users/work/work-worldmodel2023/venv-mpe/lib/python3.8/site-packages (from torch<3.0.0,>=2.0.1->agilerl) (3.1)\n",
      "Requirement already satisfied: jinja2 in /Users/work/work-worldmodel2023/venv-mpe/lib/python3.8/site-packages (from torch<3.0.0,>=2.0.1->agilerl) (3.1.2)\n",
      "Requirement already satisfied: fsspec in /Users/work/work-worldmodel2023/venv-mpe/lib/python3.8/site-packages (from torch<3.0.0,>=2.0.1->agilerl) (2023.12.2)\n",
      "Requirement already satisfied: huggingface-hub<1.0,>=0.19.3 in /Users/work/work-worldmodel2023/venv-mpe/lib/python3.8/site-packages (from transformers<5.0.0,>=4.30.0->agilerl) (0.19.4)\n",
      "Requirement already satisfied: regex!=2019.12.17 in /Users/work/work-worldmodel2023/venv-mpe/lib/python3.8/site-packages (from transformers<5.0.0,>=4.30.0->agilerl) (2023.10.3)\n",
      "Requirement already satisfied: tokenizers<0.19,>=0.14 in /Users/work/work-worldmodel2023/venv-mpe/lib/python3.8/site-packages (from transformers<5.0.0,>=4.30.0->agilerl) (0.15.0)\n",
      "Requirement already satisfied: safetensors>=0.3.1 in /Users/work/work-worldmodel2023/venv-mpe/lib/python3.8/site-packages (from transformers<5.0.0,>=4.30.0->agilerl) (0.4.1)\n",
      "Requirement already satisfied: GitPython!=3.1.29,>=1.0.0 in /Users/work/work-worldmodel2023/venv-mpe/lib/python3.8/site-packages (from wandb<0.14.0,>=0.13.10->agilerl) (3.1.40)\n",
      "Requirement already satisfied: sentry-sdk>=1.0.0 in /Users/work/work-worldmodel2023/venv-mpe/lib/python3.8/site-packages (from wandb<0.14.0,>=0.13.10->agilerl) (1.39.1)\n",
      "Requirement already satisfied: docker-pycreds>=0.4.0 in /Users/work/work-worldmodel2023/venv-mpe/lib/python3.8/site-packages (from wandb<0.14.0,>=0.13.10->agilerl) (0.4.0)\n",
      "Requirement already satisfied: pathtools in /Users/work/work-worldmodel2023/venv-mpe/lib/python3.8/site-packages (from wandb<0.14.0,>=0.13.10->agilerl) (0.1.2)\n",
      "Requirement already satisfied: setproctitle in /Users/work/work-worldmodel2023/venv-mpe/lib/python3.8/site-packages (from wandb<0.14.0,>=0.13.10->agilerl) (1.3.3)\n",
      "Requirement already satisfied: setuptools in /Users/work/work-worldmodel2023/venv-mpe/lib/python3.8/site-packages (from wandb<0.14.0,>=0.13.10->agilerl) (41.2.0)\n",
      "Requirement already satisfied: appdirs>=1.4.3 in /Users/work/work-worldmodel2023/venv-mpe/lib/python3.8/site-packages (from wandb<0.14.0,>=0.13.10->agilerl) (1.4.4)\n",
      "Requirement already satisfied: protobuf!=4.21.0,<5,>=3.19.0 in /Users/work/work-worldmodel2023/venv-mpe/lib/python3.8/site-packages (from wandb<0.14.0,>=0.13.10->agilerl) (4.25.1)\n",
      "Requirement already satisfied: gitdb<5,>=4.0.1 in /Users/work/work-worldmodel2023/venv-mpe/lib/python3.8/site-packages (from GitPython!=3.1.29,>=1.0.0->wandb<0.14.0,>=0.13.10->agilerl) (4.0.11)\n",
      "Requirement already satisfied: zipp>=0.5 in /Users/work/work-worldmodel2023/venv-mpe/lib/python3.8/site-packages (from importlib-metadata>=4.8.0->gymnasium<0.29.0,>=0.28.1->agilerl) (3.17.0)\n",
      "Requirement already satisfied: charset-normalizer<4,>=2 in /Users/work/work-worldmodel2023/venv-mpe/lib/python3.8/site-packages (from requests<3.0.0dev,>=2.18.0->google-cloud-storage==2.5.0->minari<0.5.0,>=0.4.1->agilerl) (3.3.2)\n",
      "Requirement already satisfied: idna<4,>=2.5 in /Users/work/work-worldmodel2023/venv-mpe/lib/python3.8/site-packages (from requests<3.0.0dev,>=2.18.0->google-cloud-storage==2.5.0->minari<0.5.0,>=0.4.1->agilerl) (3.6)\n",
      "Requirement already satisfied: urllib3<3,>=1.21.1 in /Users/work/work-worldmodel2023/venv-mpe/lib/python3.8/site-packages (from requests<3.0.0dev,>=2.18.0->google-cloud-storage==2.5.0->minari<0.5.0,>=0.4.1->agilerl) (2.1.0)\n",
      "Requirement already satisfied: certifi>=2017.4.17 in /Users/work/work-worldmodel2023/venv-mpe/lib/python3.8/site-packages (from requests<3.0.0dev,>=2.18.0->google-cloud-storage==2.5.0->minari<0.5.0,>=0.4.1->agilerl) (2023.11.17)\n",
      "Requirement already satisfied: distlib<1,>=0.3.7 in /Users/work/work-worldmodel2023/venv-mpe/lib/python3.8/site-packages (from virtualenv>=20.10.0->pre-commit<4.0.0,>=3.4.0->agilerl) (0.3.8)\n",
      "Requirement already satisfied: platformdirs<5,>=3.9.1 in /Users/work/work-worldmodel2023/venv-mpe/lib/python3.8/site-packages (from virtualenv>=20.10.0->pre-commit<4.0.0,>=3.4.0->agilerl) (4.1.0)\n",
      "Requirement already satisfied: MarkupSafe>=2.0 in /Users/work/work-worldmodel2023/venv-mpe/lib/python3.8/site-packages (from jinja2->torch<3.0.0,>=2.0.1->agilerl) (2.1.3)\n",
      "Requirement already satisfied: mpmath>=0.19 in /Users/work/work-worldmodel2023/venv-mpe/lib/python3.8/site-packages (from sympy->torch<3.0.0,>=2.0.1->agilerl) (1.3.0)\n",
      "Requirement already satisfied: smmap<6,>=3.0.1 in /Users/work/work-worldmodel2023/venv-mpe/lib/python3.8/site-packages (from gitdb<5,>=4.0.1->GitPython!=3.1.29,>=1.0.0->wandb<0.14.0,>=0.13.10->agilerl) (5.0.1)\n",
      "Requirement already satisfied: googleapis-common-protos<2.0.dev0,>=1.56.2 in /Users/work/work-worldmodel2023/venv-mpe/lib/python3.8/site-packages (from google-api-core!=2.0.*,!=2.1.*,!=2.2.*,!=2.3.0,<3.0.0dev,>=1.31.5->google-cloud-storage==2.5.0->minari<0.5.0,>=0.4.1->agilerl) (1.62.0)\n",
      "Requirement already satisfied: cachetools<6.0,>=2.0.0 in /Users/work/work-worldmodel2023/venv-mpe/lib/python3.8/site-packages (from google-auth<3.0dev,>=1.25.0->google-cloud-storage==2.5.0->minari<0.5.0,>=0.4.1->agilerl) (5.3.2)\n",
      "Requirement already satisfied: pyasn1-modules>=0.2.1 in /Users/work/work-worldmodel2023/venv-mpe/lib/python3.8/site-packages (from google-auth<3.0dev,>=1.25.0->google-cloud-storage==2.5.0->minari<0.5.0,>=0.4.1->agilerl) (0.3.0)\n",
      "Requirement already satisfied: rsa<5,>=3.1.4 in /Users/work/work-worldmodel2023/venv-mpe/lib/python3.8/site-packages (from google-auth<3.0dev,>=1.25.0->google-cloud-storage==2.5.0->minari<0.5.0,>=0.4.1->agilerl) (4.9)\n",
      "Requirement already satisfied: google-crc32c<2.0dev,>=1.0 in /Users/work/work-worldmodel2023/venv-mpe/lib/python3.8/site-packages (from google-resumable-media>=2.3.2->google-cloud-storage==2.5.0->minari<0.5.0,>=0.4.1->agilerl) (1.5.0)\n",
      "Requirement already satisfied: markdown-it-py>=2.2.0 in /Users/work/work-worldmodel2023/venv-mpe/lib/python3.8/site-packages (from rich<14.0.0,>=10.11.0->typer[all]==0.9.0->minari<0.5.0,>=0.4.1->agilerl) (3.0.0)\n",
      "Requirement already satisfied: pygments<3.0.0,>=2.13.0 in /Users/work/work-worldmodel2023/venv-mpe/lib/python3.8/site-packages (from rich<14.0.0,>=10.11.0->typer[all]==0.9.0->minari<0.5.0,>=0.4.1->agilerl) (2.17.2)\n",
      "Requirement already satisfied: mdurl~=0.1 in /Users/work/work-worldmodel2023/venv-mpe/lib/python3.8/site-packages (from markdown-it-py>=2.2.0->rich<14.0.0,>=10.11.0->typer[all]==0.9.0->minari<0.5.0,>=0.4.1->agilerl) (0.1.2)\n",
      "Requirement already satisfied: pyasn1<0.6.0,>=0.4.6 in /Users/work/work-worldmodel2023/venv-mpe/lib/python3.8/site-packages (from pyasn1-modules>=0.2.1->google-auth<3.0dev,>=1.25.0->google-cloud-storage==2.5.0->minari<0.5.0,>=0.4.1->agilerl) (0.5.1)\n",
      "Requirement already satisfied: imageio in /Users/work/work-worldmodel2023/venv-mpe/lib/python3.8/site-packages (2.33.1)\n",
      "Requirement already satisfied: numpy in /Users/work/work-worldmodel2023/venv-mpe/lib/python3.8/site-packages (from imageio) (1.24.4)\n",
      "Requirement already satisfied: pillow>=8.3.2 in /Users/work/work-worldmodel2023/venv-mpe/lib/python3.8/site-packages (from imageio) (10.1.0)\n"
     ]
    }
   ],
   "source": [
    "!pip install pettingzoo[mpe]\n",
    "!pip install agilerl\n",
    "!pip install imageio"
   ]
  },
  {
   "cell_type": "code",
   "execution_count": 3,
   "id": "afb9d627",
   "metadata": {},
   "outputs": [
    {
     "name": "stdout",
     "output_type": "stream",
     "text": [
      "===== AgileRL Online Multi-Agent Demo =====\n"
     ]
    },
    {
     "name": "stderr",
     "output_type": "stream",
     "text": [
      "/Users/work/work-worldmodel2023/venv-mpe/lib/python3.8/site-packages/urllib3/__init__.py:34: NotOpenSSLWarning: urllib3 v2 only supports OpenSSL 1.1.1+, currently the 'ssl' module is compiled with 'LibreSSL 2.8.3'. See: https://github.com/urllib3/urllib3/issues/3020\n",
      "  warnings.warn(\n",
      "/Users/work/work-worldmodel2023/venv-mpe/lib/python3.8/site-packages/tqdm/auto.py:21: TqdmWarning: IProgress not found. Please update jupyter and ipywidgets. See https://ipywidgets.readthedocs.io/en/stable/user_install.html\n",
      "  from .autonotebook import tqdm as notebook_tqdm\n",
      "  1%|▋                                                                                                            | 19/3000 [00:07<26:31,  1.87it/s]"
     ]
    },
    {
     "name": "stdout",
     "output_type": "stream",
     "text": [
      "Episode 20/3000\n",
      "Fitnesses: ['-144.21', '-34.22', '-259.04', '-6.62']\n",
      "100 fitness avgs: ['-144.21', '-34.22', '-259.04', '-6.62']\n"
     ]
    },
    {
     "name": "stderr",
     "output_type": "stream",
     "text": [
      "  1%|█▍                                                                                                           | 39/3000 [00:18<21:44,  2.27it/s]"
     ]
    },
    {
     "name": "stdout",
     "output_type": "stream",
     "text": [
      "Episode 40/3000\n",
      "Fitnesses: ['-37.79', '-97.30', '-148.20', '-176.38']\n",
      "100 fitness avgs: ['-22.20', '-51.96', '-91.21', '-217.71']\n"
     ]
    },
    {
     "name": "stderr",
     "output_type": "stream",
     "text": [
      "  2%|██▏                                                                                                          | 59/3000 [00:30<42:25,  1.16it/s]"
     ]
    },
    {
     "name": "stdout",
     "output_type": "stream",
     "text": [
      "Episode 60/3000\n",
      "Fitnesses: ['-48.80', '-46.52', '-44.16', '-264.62']\n",
      "100 fitness avgs: ['-31.07', '-30.31', '-29.52', '-149.01']\n"
     ]
    },
    {
     "name": "stderr",
     "output_type": "stream",
     "text": [
      "  3%|██▊                                                                                                          | 79/3000 [00:43<39:27,  1.23it/s]"
     ]
    },
    {
     "name": "stdout",
     "output_type": "stream",
     "text": [
      "Episode 80/3000\n",
      "Fitnesses: ['-104.67', '-137.13', '-54.35', '-38.18']\n",
      "100 fitness avgs: ['-48.31', '-146.04', '-36.89', '-31.69']\n"
     ]
    },
    {
     "name": "stderr",
     "output_type": "stream",
     "text": [
      "  3%|███▌                                                                                                         | 99/3000 [01:01<42:35,  1.14it/s]"
     ]
    },
    {
     "name": "stdout",
     "output_type": "stream",
     "text": [
      "Episode 100/3000\n",
      "Fitnesses: ['-152.71', '-329.15', '-456.04', '-26.56']\n",
      "100 fitness avgs: ['-55.89', '-95.34', '-116.56', '-30.66']\n"
     ]
    },
    {
     "name": "stderr",
     "output_type": "stream",
     "text": [
      "  4%|████▎                                                                                                       | 119/3000 [01:18<32:24,  1.48it/s]"
     ]
    },
    {
     "name": "stdout",
     "output_type": "stream",
     "text": [
      "Episode 120/3000\n",
      "Fitnesses: ['-48.00', '-388.00', '-48.29', '-75.41']\n",
      "100 fitness avgs: ['-33.55', '-144.12', '-33.60', '-109.70']\n"
     ]
    },
    {
     "name": "stderr",
     "output_type": "stream",
     "text": [
      "  5%|█████                                                                                                       | 139/3000 [01:31<30:39,  1.56it/s]"
     ]
    },
    {
     "name": "stdout",
     "output_type": "stream",
     "text": [
      "Episode 140/3000\n",
      "Fitnesses: ['-78.39', '-154.72', '-20.90', '-62.61']\n",
      "100 fitness avgs: ['-39.96', '-50.86', '-31.79', '-37.74']\n"
     ]
    },
    {
     "name": "stderr",
     "output_type": "stream",
     "text": [
      "  5%|█████▋                                                                                                      | 159/3000 [01:42<25:42,  1.84it/s]"
     ]
    },
    {
     "name": "stdout",
     "output_type": "stream",
     "text": [
      "Episode 160/3000\n",
      "Fitnesses: ['-23.91', '-61.19', '-10.95', '-63.59']\n",
      "100 fitness avgs: ['-30.80', '-52.15', '-34.39', '-40.98']\n"
     ]
    },
    {
     "name": "stderr",
     "output_type": "stream",
     "text": [
      "  6%|██████▍                                                                                                     | 179/3000 [01:54<26:31,  1.77it/s]"
     ]
    },
    {
     "name": "stdout",
     "output_type": "stream",
     "text": [
      "Episode 180/3000\n",
      "Fitnesses: ['-133.33', '-58.84', '-36.21', '-54.43']\n",
      "100 fitness avgs: ['-45.39', '-37.11', '-40.45', '-36.62']\n"
     ]
    },
    {
     "name": "stderr",
     "output_type": "stream",
     "text": [
      "  7%|███████▏                                                                                                    | 199/3000 [02:05<24:16,  1.92it/s]"
     ]
    },
    {
     "name": "stdout",
     "output_type": "stream",
     "text": [
      "Episode 200/3000\n",
      "Fitnesses: ['-136.61', '-26.37', '-50.67', '-57.73']\n",
      "100 fitness avgs: ['-50.06', '-43.49', '-41.47', '-42.17']\n"
     ]
    },
    {
     "name": "stderr",
     "output_type": "stream",
     "text": [
      "  7%|███████▉                                                                                                    | 219/3000 [02:16<24:17,  1.91it/s]"
     ]
    },
    {
     "name": "stdout",
     "output_type": "stream",
     "text": [
      "Episode 220/3000\n",
      "Fitnesses: ['-49.34', '-80.24', '-24.75', '-18.60']\n",
      "100 fitness avgs: ['-44.02', '-46.83', '-40.59', '-41.22']\n"
     ]
    },
    {
     "name": "stderr",
     "output_type": "stream",
     "text": [
      "  8%|████████▌                                                                                                   | 239/3000 [02:26<24:18,  1.89it/s]"
     ]
    },
    {
     "name": "stdout",
     "output_type": "stream",
     "text": [
      "Episode 240/3000\n",
      "Fitnesses: ['-17.29', '-104.90', '-65.49', '-44.46']\n",
      "100 fitness avgs: ['-39.23', '-46.53', '-48.38', '-40.91']\n"
     ]
    },
    {
     "name": "stderr",
     "output_type": "stream",
     "text": [
      "  9%|█████████▎                                                                                                  | 259/3000 [02:37<23:04,  1.98it/s]"
     ]
    },
    {
     "name": "stdout",
     "output_type": "stream",
     "text": [
      "Episode 260/3000\n",
      "Fitnesses: ['-88.76', '-15.51', '-21.83', '-70.95']\n",
      "100 fitness avgs: ['-43.04', '-38.96', '-39.45', '-43.22']\n"
     ]
    },
    {
     "name": "stderr",
     "output_type": "stream",
     "text": [
      "  9%|██████████                                                                                                  | 279/3000 [02:47<22:16,  2.04it/s]"
     ]
    },
    {
     "name": "stdout",
     "output_type": "stream",
     "text": [
      "Episode 280/3000\n",
      "Fitnesses: ['-65.84', '-63.97', '-20.26', '-12.59']\n",
      "100 fitness avgs: ['-40.88', '-44.71', '-41.58', '-37.08']\n"
     ]
    },
    {
     "name": "stderr",
     "output_type": "stream",
     "text": [
      " 10%|██████████▊                                                                                                 | 299/3000 [02:56<20:22,  2.21it/s]"
     ]
    },
    {
     "name": "stdout",
     "output_type": "stream",
     "text": [
      "Episode 300/3000\n",
      "Fitnesses: ['-94.40', '-46.90', '-26.45', '-36.56']\n",
      "100 fitness avgs: ['-40.90', '-41.94', '-43.49', '-37.04']\n"
     ]
    },
    {
     "name": "stderr",
     "output_type": "stream",
     "text": [
      " 11%|███████████▍                                                                                                | 319/3000 [03:06<23:00,  1.94it/s]"
     ]
    },
    {
     "name": "stdout",
     "output_type": "stream",
     "text": [
      "Episode 320/3000\n",
      "Fitnesses: ['-7.70', '-13.33', '-19.70', '-42.86']\n",
      "100 fitness avgs: ['-41.25', '-41.60', '-40.55', '-43.45']\n"
     ]
    },
    {
     "name": "stderr",
     "output_type": "stream",
     "text": [
      " 11%|████████████▏                                                                                               | 339/3000 [03:16<22:08,  2.00it/s]"
     ]
    },
    {
     "name": "stdout",
     "output_type": "stream",
     "text": [
      "Episode 340/3000\n",
      "Fitnesses: ['-35.43', '-12.14', '-82.39', '-12.47']\n",
      "100 fitness avgs: ['-40.91', '-39.87', '-43.67', '-39.56']\n"
     ]
    },
    {
     "name": "stderr",
     "output_type": "stream",
     "text": [
      " 12%|████████████▉                                                                                               | 359/3000 [03:27<22:55,  1.92it/s]"
     ]
    },
    {
     "name": "stdout",
     "output_type": "stream",
     "text": [
      "Episode 360/3000\n",
      "Fitnesses: ['-12.37', '-26.82', '-12.55', '-29.95']\n",
      "100 fitness avgs: ['-38.34', '-40.13', '-38.35', '-39.32']\n"
     ]
    },
    {
     "name": "stderr",
     "output_type": "stream",
     "text": [
      " 13%|█████████████▋                                                                                              | 379/3000 [03:38<22:41,  1.92it/s]"
     ]
    },
    {
     "name": "stdout",
     "output_type": "stream",
     "text": [
      "Episode 380/3000\n",
      "Fitnesses: ['-9.25', '-22.52', '-8.72', '-14.42']\n",
      "100 fitness avgs: ['-36.81', '-37.51', '-36.78', '-37.09']\n"
     ]
    },
    {
     "name": "stderr",
     "output_type": "stream",
     "text": [
      " 13%|██████████████▎                                                                                             | 399/3000 [03:48<22:09,  1.96it/s]"
     ]
    },
    {
     "name": "stdout",
     "output_type": "stream",
     "text": [
      "Episode 400/3000\n",
      "Fitnesses: ['-36.92', '-67.44', '-46.58', '-63.65']\n",
      "100 fitness avgs: ['-36.79', '-38.32', '-37.27', '-38.15']\n"
     ]
    },
    {
     "name": "stderr",
     "output_type": "stream",
     "text": [
      " 14%|███████████████                                                                                             | 419/3000 [03:59<23:02,  1.87it/s]"
     ]
    },
    {
     "name": "stdout",
     "output_type": "stream",
     "text": [
      "Episode 420/3000\n",
      "Fitnesses: ['-25.29', '-54.93', '-73.13', '-79.98']\n",
      "100 fitness avgs: ['-36.24', '-38.11', '-38.52', '-38.85']\n"
     ]
    },
    {
     "name": "stderr",
     "output_type": "stream",
     "text": [
      " 15%|███████████████▊                                                                                            | 439/3000 [04:09<21:52,  1.95it/s]"
     ]
    },
    {
     "name": "stdout",
     "output_type": "stream",
     "text": [
      "Episode 440/3000\n",
      "Fitnesses: ['-12.24', '-106.96', '-12.85', '-21.72']\n",
      "100 fitness avgs: ['-35.15', '-41.24', '-36.97', '-37.37']\n"
     ]
    },
    {
     "name": "stderr",
     "output_type": "stream",
     "text": [
      " 15%|████████████████▌                                                                                           | 459/3000 [04:18<18:47,  2.25it/s]"
     ]
    },
    {
     "name": "stdout",
     "output_type": "stream",
     "text": [
      "Episode 460/3000\n",
      "Fitnesses: ['-35.12', '-10.88', '-36.63', '-70.22']\n",
      "100 fitness avgs: ['-35.15', '-39.92', '-35.22', '-36.68']\n"
     ]
    },
    {
     "name": "stderr",
     "output_type": "stream",
     "text": [
      " 16%|█████████████████▏                                                                                          | 479/3000 [04:28<19:59,  2.10it/s]"
     ]
    },
    {
     "name": "stdout",
     "output_type": "stream",
     "text": [
      "Episode 480/3000\n",
      "Fitnesses: ['-25.71', '-66.91', '-21.02', '-57.09']\n",
      "100 fitness avgs: ['-39.33', '-36.54', '-39.14', '-36.06']\n"
     ]
    },
    {
     "name": "stderr",
     "output_type": "stream",
     "text": [
      " 17%|█████████████████▉                                                                                          | 499/3000 [04:39<22:43,  1.83it/s]"
     ]
    },
    {
     "name": "stdout",
     "output_type": "stream",
     "text": [
      "Episode 500/3000\n",
      "Fitnesses: ['-42.53', '-21.18', '-54.83', '-35.88']\n",
      "100 fitness avgs: ['-39.27', '-38.60', '-39.95', '-39.19']\n"
     ]
    },
    {
     "name": "stderr",
     "output_type": "stream",
     "text": [
      " 17%|██████████████████▋                                                                                         | 519/3000 [04:51<24:18,  1.70it/s]"
     ]
    },
    {
     "name": "stdout",
     "output_type": "stream",
     "text": [
      "Episode 520/3000\n",
      "Fitnesses: ['-37.73', '-41.17', '-16.67', '-16.61']\n",
      "100 fitness avgs: ['-38.57', '-38.70', '-38.33', '-39.05']\n"
     ]
    },
    {
     "name": "stderr",
     "output_type": "stream",
     "text": [
      " 18%|███████████████████▍                                                                                        | 539/3000 [05:02<21:22,  1.92it/s]"
     ]
    },
    {
     "name": "stdout",
     "output_type": "stream",
     "text": [
      "Episode 540/3000\n",
      "Fitnesses: ['-40.34', '-37.74', '-8.38', '-15.29']\n",
      "100 fitness avgs: ['-39.10', '-38.30', '-37.22', '-37.47']\n"
     ]
    },
    {
     "name": "stderr",
     "output_type": "stream",
     "text": [
      " 19%|████████████████████                                                                                        | 559/3000 [05:12<21:49,  1.86it/s]"
     ]
    },
    {
     "name": "stdout",
     "output_type": "stream",
     "text": [
      "Episode 560/3000\n",
      "Fitnesses: ['-49.69', '-5.18', '-22.58', '-20.14']\n",
      "100 fitness avgs: ['-37.66', '-36.32', '-36.69', '-37.66']\n"
     ]
    },
    {
     "name": "stderr",
     "output_type": "stream",
     "text": [
      " 19%|████████████████████▊                                                                                       | 579/3000 [05:23<21:17,  1.89it/s]"
     ]
    },
    {
     "name": "stdout",
     "output_type": "stream",
     "text": [
      "Episode 580/3000\n",
      "Fitnesses: ['-49.90', '-6.97', '-37.50', '-19.14']\n",
      "100 fitness avgs: ['-36.79', '-36.60', '-37.65', '-35.73']\n"
     ]
    },
    {
     "name": "stderr",
     "output_type": "stream",
     "text": [
      " 20%|█████████████████████▌                                                                                      | 599/3000 [05:35<22:10,  1.80it/s]"
     ]
    },
    {
     "name": "stdout",
     "output_type": "stream",
     "text": [
      "Episode 600/3000\n",
      "Fitnesses: ['-18.19', '-75.77', '-9.31', '-19.66']\n",
      "100 fitness avgs: ['-35.99', '-38.09', '-35.87', '-37.05']\n"
     ]
    },
    {
     "name": "stderr",
     "output_type": "stream",
     "text": [
      " 21%|██████████████████████▎                                                                                     | 619/3000 [05:46<21:06,  1.88it/s]"
     ]
    },
    {
     "name": "stdout",
     "output_type": "stream",
     "text": [
      "Episode 620/3000\n",
      "Fitnesses: ['-48.51', '-13.85', '-108.27', '-7.53']\n",
      "100 fitness avgs: ['-36.28', '-36.30', '-38.21', '-35.07']\n"
     ]
    },
    {
     "name": "stderr",
     "output_type": "stream",
     "text": [
      " 21%|███████████████████████                                                                                     | 639/3000 [05:57<20:27,  1.92it/s]"
     ]
    },
    {
     "name": "stdout",
     "output_type": "stream",
     "text": [
      "Episode 640/3000\n",
      "Fitnesses: ['-6.72', '-37.27', '-7.74', '-25.86']\n",
      "100 fitness avgs: ['-34.19', '-35.14', '-35.41', '-34.78']\n"
     ]
    },
    {
     "name": "stderr",
     "output_type": "stream",
     "text": [
      " 22%|███████████████████████▋                                                                                    | 659/3000 [06:06<17:52,  2.18it/s]"
     ]
    },
    {
     "name": "stdout",
     "output_type": "stream",
     "text": [
      "Episode 660/3000\n",
      "Fitnesses: ['-24.47', '-48.51', '-20.50', '-11.91']\n",
      "100 fitness avgs: ['-33.89', '-35.81', '-33.77', '-34.09']\n"
     ]
    },
    {
     "name": "stderr",
     "output_type": "stream",
     "text": [
      " 23%|████████████████████████▍                                                                                   | 679/3000 [06:19<24:42,  1.57it/s]"
     ]
    },
    {
     "name": "stdout",
     "output_type": "stream",
     "text": [
      "Episode 680/3000\n",
      "Fitnesses: ['-56.39', '-54.40', '-28.03', '-83.46']\n",
      "100 fitness avgs: ['-34.75', '-34.38', '-33.72', '-35.54']\n"
     ]
    },
    {
     "name": "stderr",
     "output_type": "stream",
     "text": [
      " 23%|█████████████████████████▏                                                                                  | 699/3000 [06:34<29:34,  1.30it/s]"
     ]
    },
    {
     "name": "stdout",
     "output_type": "stream",
     "text": [
      "Episode 700/3000\n",
      "Fitnesses: ['-59.98', '-28.67', '-57.11', '-23.77']\n",
      "100 fitness avgs: ['-34.47', '-33.58', '-34.39', '-34.43']\n"
     ]
    },
    {
     "name": "stderr",
     "output_type": "stream",
     "text": [
      " 24%|█████████████████████████▉                                                                                  | 719/3000 [06:48<25:46,  1.47it/s]"
     ]
    },
    {
     "name": "stdout",
     "output_type": "stream",
     "text": [
      "Episode 720/3000\n",
      "Fitnesses: ['-26.69', '-10.13', '-39.02', '-73.63']\n",
      "100 fitness avgs: ['-34.22', '-33.76', '-34.52', '-35.52']\n"
     ]
    },
    {
     "name": "stderr",
     "output_type": "stream",
     "text": [
      " 25%|██████████████████████████▌                                                                                 | 739/3000 [07:01<23:10,  1.63it/s]"
     ]
    },
    {
     "name": "stdout",
     "output_type": "stream",
     "text": [
      "Episode 740/3000\n",
      "Fitnesses: ['-56.71', '-28.46', '-48.12', '-19.98']\n",
      "100 fitness avgs: ['-34.38', '-33.62', '-34.88', '-33.39']\n"
     ]
    },
    {
     "name": "stderr",
     "output_type": "stream",
     "text": [
      " 25%|███████████████████████████▎                                                                                | 759/3000 [07:13<23:37,  1.58it/s]"
     ]
    },
    {
     "name": "stdout",
     "output_type": "stream",
     "text": [
      "Episode 760/3000\n",
      "Fitnesses: ['-61.95', '-35.84', '-42.64', '-46.47']\n",
      "100 fitness avgs: ['-34.14', '-34.91', '-33.85', '-33.73']\n"
     ]
    },
    {
     "name": "stderr",
     "output_type": "stream",
     "text": [
      " 26%|████████████████████████████                                                                                | 779/3000 [07:24<19:00,  1.95it/s]"
     ]
    },
    {
     "name": "stdout",
     "output_type": "stream",
     "text": [
      "Episode 780/3000\n",
      "Fitnesses: ['-14.59', '-103.03', '-412.00', '-31.55']\n",
      "100 fitness avgs: ['-34.39', '-36.66', '-43.55', '-34.82']\n"
     ]
    },
    {
     "name": "stderr",
     "output_type": "stream",
     "text": [
      " 27%|████████████████████████████▊                                                                               | 799/3000 [07:36<21:36,  1.70it/s]"
     ]
    },
    {
     "name": "stdout",
     "output_type": "stream",
     "text": [
      "Episode 800/3000\n",
      "Fitnesses: ['-3.95', '-21.87', '-4.79', '-14.92']\n",
      "100 fitness avgs: ['-33.63', '-34.50', '-33.65', '-33.90']\n"
     ]
    },
    {
     "name": "stderr",
     "output_type": "stream",
     "text": [
      " 27%|█████████████████████████████▍                                                                              | 819/3000 [07:49<22:43,  1.60it/s]"
     ]
    },
    {
     "name": "stdout",
     "output_type": "stream",
     "text": [
      "Episode 820/3000\n",
      "Fitnesses: ['-17.43', '-32.69', '-53.12', '-7.29']\n",
      "100 fitness avgs: ['-33.23', '-33.60', '-34.10', '-33.25']\n"
     ]
    },
    {
     "name": "stderr",
     "output_type": "stream",
     "text": [
      " 28%|██████████████████████████████▏                                                                             | 839/3000 [08:02<22:51,  1.58it/s]"
     ]
    },
    {
     "name": "stdout",
     "output_type": "stream",
     "text": [
      "Episode 840/3000\n",
      "Fitnesses: ['-37.15', '-47.96', '-35.80', '-24.27']\n",
      "100 fitness avgs: ['-33.35', '-33.58', '-33.31', '-33.04']\n"
     ]
    },
    {
     "name": "stderr",
     "output_type": "stream",
     "text": [
      " 29%|██████████████████████████████▉                                                                             | 859/3000 [08:15<23:05,  1.54it/s]"
     ]
    },
    {
     "name": "stdout",
     "output_type": "stream",
     "text": [
      "Episode 860/3000\n",
      "Fitnesses: ['-31.10', '-42.01', '-39.27', '-28.03']\n",
      "100 fitness avgs: ['-32.99', '-33.25', '-33.18', '-33.19']\n"
     ]
    },
    {
     "name": "stderr",
     "output_type": "stream",
     "text": [
      " 29%|███████████████████████████████▋                                                                            | 879/3000 [08:29<23:17,  1.52it/s]"
     ]
    },
    {
     "name": "stdout",
     "output_type": "stream",
     "text": [
      "Episode 880/3000\n",
      "Fitnesses: ['-20.76', '-20.79', '-51.61', '-46.62']\n",
      "100 fitness avgs: ['-32.91', '-32.72', '-33.60', '-33.49']\n"
     ]
    },
    {
     "name": "stderr",
     "output_type": "stream",
     "text": [
      " 30%|████████████████████████████████▎                                                                           | 899/3000 [08:42<22:58,  1.52it/s]"
     ]
    },
    {
     "name": "stdout",
     "output_type": "stream",
     "text": [
      "Episode 900/3000\n",
      "Fitnesses: ['-26.93', '-41.55', '-17.99', '-31.65']\n",
      "100 fitness avgs: ['-32.78', '-32.91', '-32.58', '-32.88']\n"
     ]
    },
    {
     "name": "stderr",
     "output_type": "stream",
     "text": [
      " 31%|█████████████████████████████████                                                                           | 919/3000 [08:54<20:35,  1.68it/s]"
     ]
    },
    {
     "name": "stdout",
     "output_type": "stream",
     "text": [
      "Episode 920/3000\n",
      "Fitnesses: ['-2.82', '-33.97', '-23.58', '-82.23']\n",
      "100 fitness avgs: ['-31.93', '-32.61', '-32.58', '-33.66']\n"
     ]
    },
    {
     "name": "stderr",
     "output_type": "stream",
     "text": [
      " 31%|█████████████████████████████████▊                                                                          | 939/3000 [09:04<17:54,  1.92it/s]"
     ]
    },
    {
     "name": "stdout",
     "output_type": "stream",
     "text": [
      "Episode 940/3000\n",
      "Fitnesses: ['-23.27', '-28.80', '-61.71', '-2.62']\n",
      "100 fitness avgs: ['-31.75', '-31.86', '-33.23', '-31.31']\n"
     ]
    },
    {
     "name": "stderr",
     "output_type": "stream",
     "text": [
      " 32%|██████████████████████████████████▌                                                                         | 959/3000 [09:14<16:48,  2.02it/s]"
     ]
    },
    {
     "name": "stdout",
     "output_type": "stream",
     "text": [
      "Episode 960/3000\n",
      "Fitnesses: ['-22.23', '-18.90', '-18.49', '-18.96']\n",
      "100 fitness avgs: ['-31.12', '-31.05', '-32.92', '-31.48']\n"
     ]
    },
    {
     "name": "stderr",
     "output_type": "stream",
     "text": [
      " 33%|███████████████████████████████████▏                                                                        | 979/3000 [09:26<19:59,  1.68it/s]"
     ]
    },
    {
     "name": "stdout",
     "output_type": "stream",
     "text": [
      "Episode 980/3000\n",
      "Fitnesses: ['-425.29', '-79.37', '-23.38', '-25.45']\n",
      "100 fitness avgs: ['-40.93', '-33.87', '-32.72', '-30.93']\n"
     ]
    },
    {
     "name": "stderr",
     "output_type": "stream",
     "text": [
      " 33%|███████████████████████████████████▉                                                                        | 999/3000 [09:39<21:07,  1.58it/s]"
     ]
    },
    {
     "name": "stdout",
     "output_type": "stream",
     "text": [
      "Episode 1000/3000\n",
      "Fitnesses: ['-5.45', '-8.47', '-6.39', '-33.00']\n",
      "100 fitness avgs: ['-32.18', '-32.24', '-30.44', '-32.73']\n"
     ]
    },
    {
     "name": "stderr",
     "output_type": "stream",
     "text": [
      " 34%|████████████████████████████████████▎                                                                      | 1019/3000 [09:51<18:52,  1.75it/s]"
     ]
    },
    {
     "name": "stdout",
     "output_type": "stream",
     "text": [
      "Episode 1020/3000\n",
      "Fitnesses: ['-95.43', '-34.62', '-42.31', '-39.63']\n",
      "100 fitness avgs: ['-33.42', '-32.23', '-32.38', '-30.62']\n"
     ]
    },
    {
     "name": "stderr",
     "output_type": "stream",
     "text": [
      " 35%|█████████████████████████████████████                                                                      | 1039/3000 [10:04<19:57,  1.64it/s]"
     ]
    },
    {
     "name": "stdout",
     "output_type": "stream",
     "text": [
      "Episode 1040/3000\n",
      "Fitnesses: ['-60.31', '-4.68', '-11.67', '-5.67']\n",
      "100 fitness avgs: ['-32.77', '-30.12', '-31.98', '-31.86']\n"
     ]
    },
    {
     "name": "stderr",
     "output_type": "stream",
     "text": [
      " 35%|█████████████████████████████████████▊                                                                     | 1059/3000 [10:14<17:18,  1.87it/s]"
     ]
    },
    {
     "name": "stdout",
     "output_type": "stream",
     "text": [
      "Episode 1060/3000\n",
      "Fitnesses: ['-3.70', '-66.18', '-35.14', '-13.66']\n",
      "100 fitness avgs: ['-29.63', '-32.62', '-30.22', '-29.81']\n"
     ]
    },
    {
     "name": "stderr",
     "output_type": "stream",
     "text": [
      " 36%|██████████████████████████████████████▍                                                                    | 1079/3000 [10:25<15:44,  2.03it/s]"
     ]
    },
    {
     "name": "stdout",
     "output_type": "stream",
     "text": [
      "Episode 1080/3000\n",
      "Fitnesses: ['-51.57', '-51.44', '-9.18', '-17.32']\n",
      "100 fitness avgs: ['-30.03', '-30.03', '-29.43', '-29.98']\n"
     ]
    },
    {
     "name": "stderr",
     "output_type": "stream",
     "text": [
      " 37%|███████████████████████████████████████▏                                                                   | 1099/3000 [10:35<15:37,  2.03it/s]"
     ]
    },
    {
     "name": "stdout",
     "output_type": "stream",
     "text": [
      "Episode 1100/3000\n",
      "Fitnesses: ['-69.08', '-50.03', '-88.06', '-71.22']\n",
      "100 fitness avgs: ['-30.15', '-29.81', '-31.09', '-30.19']\n"
     ]
    },
    {
     "name": "stderr",
     "output_type": "stream",
     "text": [
      " 37%|███████████████████████████████████████▉                                                                   | 1119/3000 [10:45<15:07,  2.07it/s]"
     ]
    },
    {
     "name": "stdout",
     "output_type": "stream",
     "text": [
      "Episode 1120/3000\n",
      "Fitnesses: ['-63.64', '-67.53', '-32.72', '-96.73']\n",
      "100 fitness avgs: ['-30.41', '-30.86', '-29.86', '-31.00']\n"
     ]
    },
    {
     "name": "stderr",
     "output_type": "stream",
     "text": [
      " 38%|████████████████████████████████████████▌                                                                  | 1139/3000 [10:55<14:55,  2.08it/s]"
     ]
    },
    {
     "name": "stdout",
     "output_type": "stream",
     "text": [
      "Episode 1140/3000\n",
      "Fitnesses: ['-29.68', '-62.41', '-11.99', '-26.11']\n",
      "100 fitness avgs: ['-29.85', '-30.43', '-30.09', '-29.79']\n"
     ]
    },
    {
     "name": "stderr",
     "output_type": "stream",
     "text": [
      " 39%|█████████████████████████████████████████▎                                                                 | 1159/3000 [11:07<16:29,  1.86it/s]"
     ]
    },
    {
     "name": "stdout",
     "output_type": "stream",
     "text": [
      "Episode 1160/3000\n",
      "Fitnesses: ['-36.11', '-26.88', '-8.29', '-4.36']\n",
      "100 fitness avgs: ['-30.19', '-29.74', '-29.71', '-29.41']\n"
     ]
    },
    {
     "name": "stderr",
     "output_type": "stream",
     "text": [
      " 39%|██████████████████████████████████████████                                                                 | 1179/3000 [11:19<18:47,  1.61it/s]"
     ]
    },
    {
     "name": "stdout",
     "output_type": "stream",
     "text": [
      "Episode 1180/3000\n",
      "Fitnesses: ['-67.49', '-33.02', '-49.64', '-22.04']\n",
      "100 fitness avgs: ['-30.06', '-29.48', '-29.76', '-29.29']\n"
     ]
    },
    {
     "name": "stderr",
     "output_type": "stream",
     "text": [
      " 40%|██████████████████████████████████████████▊                                                                | 1199/3000 [11:32<19:22,  1.55it/s]"
     ]
    },
    {
     "name": "stdout",
     "output_type": "stream",
     "text": [
      "Episode 1200/3000\n",
      "Fitnesses: ['-23.42', '-4.89', '-38.33', '-32.41']\n",
      "100 fitness avgs: ['-29.19', '-29.07', '-29.62', '-29.52']\n"
     ]
    },
    {
     "name": "stderr",
     "output_type": "stream",
     "text": [
      " 41%|███████████████████████████████████████████▍                                                               | 1219/3000 [11:47<20:27,  1.45it/s]"
     ]
    },
    {
     "name": "stdout",
     "output_type": "stream",
     "text": [
      "Episode 1220/3000\n",
      "Fitnesses: ['-60.28', '-12.89', '-58.33', '-20.07']\n",
      "100 fitness avgs: ['-29.58', '-28.80', '-29.55', '-29.37']\n"
     ]
    },
    {
     "name": "stderr",
     "output_type": "stream",
     "text": [
      " 41%|████████████████████████████████████████████▏                                                              | 1239/3000 [12:01<20:26,  1.44it/s]"
     ]
    },
    {
     "name": "stdout",
     "output_type": "stream",
     "text": [
      "Episode 1240/3000\n",
      "Fitnesses: ['-61.20', '-25.67', '-105.33', '-48.22']\n",
      "100 fitness avgs: ['-29.32', '-29.48', '-30.60', '-29.11']\n"
     ]
    },
    {
     "name": "stderr",
     "output_type": "stream",
     "text": [
      " 42%|████████████████████████████████████████████▉                                                              | 1259/3000 [12:16<20:39,  1.40it/s]"
     ]
    },
    {
     "name": "stdout",
     "output_type": "stream",
     "text": [
      "Episode 1260/3000\n",
      "Fitnesses: ['-17.60', '-15.76', '-34.66', '-21.45']\n",
      "100 fitness avgs: ['-29.29', '-29.27', '-30.66', '-29.36']\n"
     ]
    },
    {
     "name": "stderr",
     "output_type": "stream",
     "text": [
      " 43%|█████████████████████████████████████████████▌                                                             | 1279/3000 [12:30<19:16,  1.49it/s]"
     ]
    },
    {
     "name": "stdout",
     "output_type": "stream",
     "text": [
      "Episode 1280/3000\n",
      "Fitnesses: ['-93.11', '-334.56', '-22.36', '-9.23']\n",
      "100 fitness avgs: ['-30.26', '-34.04', '-29.25', '-28.98']\n"
     ]
    },
    {
     "name": "stderr",
     "output_type": "stream",
     "text": [
      " 43%|██████████████████████████████████████████████▎                                                            | 1299/3000 [12:44<20:50,  1.36it/s]"
     ]
    },
    {
     "name": "stdout",
     "output_type": "stream",
     "text": [
      "Episode 1300/3000\n",
      "Fitnesses: ['-45.98', '-15.64', '-11.16', '-14.13']\n",
      "100 fitness avgs: ['-29.24', '-30.04', '-29.97', '-28.75']\n"
     ]
    },
    {
     "name": "stderr",
     "output_type": "stream",
     "text": [
      " 44%|███████████████████████████████████████████████                                                            | 1319/3000 [12:59<19:57,  1.40it/s]"
     ]
    },
    {
     "name": "stdout",
     "output_type": "stream",
     "text": [
      "Episode 1320/3000\n",
      "Fitnesses: ['-56.96', '-98.04', '-4.88', '-9.77']\n",
      "100 fitness avgs: ['-30.38', '-31.00', '-29.66', '-28.95']\n"
     ]
    },
    {
     "name": "stderr",
     "output_type": "stream",
     "text": [
      " 45%|███████████████████████████████████████████████▊                                                           | 1339/3000 [13:14<19:39,  1.41it/s]"
     ]
    },
    {
     "name": "stdout",
     "output_type": "stream",
     "text": [
      "Episode 1340/3000\n",
      "Fitnesses: ['-7.39', '-12.17', '-84.94', '-95.38']\n",
      "100 fitness avgs: ['-29.32', '-29.40', '-29.78', '-30.64']\n"
     ]
    },
    {
     "name": "stderr",
     "output_type": "stream",
     "text": [
      " 45%|████████████████████████████████████████████████▍                                                          | 1359/3000 [13:28<19:21,  1.41it/s]"
     ]
    },
    {
     "name": "stdout",
     "output_type": "stream",
     "text": [
      "Episode 1360/3000\n",
      "Fitnesses: ['-19.49', '-26.00', '-167.04', '-19.35']\n",
      "100 fitness avgs: ['-29.18', '-29.28', '-31.35', '-29.18']\n"
     ]
    },
    {
     "name": "stderr",
     "output_type": "stream",
     "text": [
      " 46%|█████████████████████████████████████████████████▏                                                         | 1379/3000 [13:43<19:20,  1.40it/s]"
     ]
    },
    {
     "name": "stdout",
     "output_type": "stream",
     "text": [
      "Episode 1380/3000\n",
      "Fitnesses: ['-15.85', '-42.69', '-36.35', '-750.08']\n",
      "100 fitness avgs: ['-28.98', '-29.38', '-29.28', '-39.63']\n"
     ]
    },
    {
     "name": "stderr",
     "output_type": "stream",
     "text": [
      " 47%|█████████████████████████████████████████████████▉                                                         | 1399/3000 [13:58<19:35,  1.36it/s]"
     ]
    },
    {
     "name": "stdout",
     "output_type": "stream",
     "text": [
      "Episode 1400/3000\n",
      "Fitnesses: ['-44.61', '-17.93', '-8.76', '-26.20']\n",
      "100 fitness avgs: ['-29.21', '-28.83', '-28.99', '-29.24']\n"
     ]
    },
    {
     "name": "stderr",
     "output_type": "stream",
     "text": [
      " 47%|██████████████████████████████████████████████████▌                                                        | 1419/3000 [14:11<17:22,  1.52it/s]"
     ]
    },
    {
     "name": "stdout",
     "output_type": "stream",
     "text": [
      "Episode 1420/3000\n",
      "Fitnesses: ['-34.53', '-19.35', '-20.78', '-30.61']\n",
      "100 fitness avgs: ['-29.07', '-29.10', '-28.71', '-28.85']\n"
     ]
    },
    {
     "name": "stderr",
     "output_type": "stream",
     "text": [
      " 48%|███████████████████████████████████████████████████▎                                                       | 1439/3000 [14:24<15:47,  1.65it/s]"
     ]
    },
    {
     "name": "stdout",
     "output_type": "stream",
     "text": [
      "Episode 1440/3000\n",
      "Fitnesses: ['-5.66', '-22.37', '-22.48', '-7.72']\n",
      "100 fitness avgs: ['-28.78', '-28.63', '-28.76', '-28.42']\n"
     ]
    },
    {
     "name": "stderr",
     "output_type": "stream",
     "text": [
      " 49%|████████████████████████████████████████████████████                                                       | 1459/3000 [14:36<14:28,  1.77it/s]"
     ]
    },
    {
     "name": "stdout",
     "output_type": "stream",
     "text": [
      "Episode 1460/3000\n",
      "Fitnesses: ['-67.76', '-23.88', '-13.58', '-60.79']\n",
      "100 fitness avgs: ['-29.31', '-28.36', '-28.57', '-29.07']\n"
     ]
    },
    {
     "name": "stderr",
     "output_type": "stream",
     "text": [
      " 49%|████████████████████████████████████████████████████▊                                                      | 1479/3000 [14:49<15:31,  1.63it/s]"
     ]
    },
    {
     "name": "stdout",
     "output_type": "stream",
     "text": [
      "Episode 1480/3000\n",
      "Fitnesses: ['-5.48', '-55.27', '-9.49', '-5.88']\n",
      "100 fitness avgs: ['-28.25', '-28.93', '-28.80', '-28.75']\n"
     ]
    },
    {
     "name": "stderr",
     "output_type": "stream",
     "text": [
      " 50%|█████████████████████████████████████████████████████▍                                                     | 1499/3000 [15:02<15:36,  1.60it/s]"
     ]
    },
    {
     "name": "stdout",
     "output_type": "stream",
     "text": [
      "Episode 1500/3000\n",
      "Fitnesses: ['-42.00', '-20.01', '-47.36', '-3.36']\n",
      "100 fitness avgs: ['-28.44', '-28.64', '-29.17', '-28.41']\n"
     ]
    },
    {
     "name": "stderr",
     "output_type": "stream",
     "text": [
      " 51%|██████████████████████████████████████████████████████▏                                                    | 1519/3000 [15:12<12:03,  2.05it/s]"
     ]
    },
    {
     "name": "stdout",
     "output_type": "stream",
     "text": [
      "Episode 1520/3000\n",
      "Fitnesses: ['-13.65', '-35.36', '-28.09', '-21.52']\n",
      "100 fitness avgs: ['-28.22', '-28.51', '-28.63', '-28.32']\n"
     ]
    },
    {
     "name": "stderr",
     "output_type": "stream",
     "text": [
      " 51%|██████████████████████████████████████████████████████▉                                                    | 1539/3000 [15:24<13:50,  1.76it/s]"
     ]
    },
    {
     "name": "stdout",
     "output_type": "stream",
     "text": [
      "Episode 1540/3000\n",
      "Fitnesses: ['-42.45', '-23.90', '-39.55', '-28.49']\n",
      "100 fitness avgs: ['-28.40', '-28.27', '-28.65', '-28.33']\n"
     ]
    },
    {
     "name": "stderr",
     "output_type": "stream",
     "text": [
      " 52%|███████████████████████████████████████████████████████▌                                                   | 1559/3000 [15:38<16:18,  1.47it/s]"
     ]
    },
    {
     "name": "stdout",
     "output_type": "stream",
     "text": [
      "Episode 1560/3000\n",
      "Fitnesses: ['-57.86', '-32.65', '-30.74', '-26.92']\n",
      "100 fitness avgs: ['-28.65', '-28.38', '-28.43', '-28.25']\n"
     ]
    },
    {
     "name": "stderr",
     "output_type": "stream",
     "text": [
      " 53%|████████████████████████████████████████████████████████▎                                                  | 1579/3000 [15:53<17:48,  1.33it/s]"
     ]
    },
    {
     "name": "stdout",
     "output_type": "stream",
     "text": [
      "Episode 1580/3000\n",
      "Fitnesses: ['-17.13', '-47.52', '-120.74', '-10.13']\n",
      "100 fitness avgs: ['-28.11', '-28.68', '-29.42', '-28.02']\n"
     ]
    },
    {
     "name": "stderr",
     "output_type": "stream",
     "text": [
      " 53%|█████████████████████████████████████████████████████████                                                  | 1599/3000 [16:07<16:35,  1.41it/s]"
     ]
    },
    {
     "name": "stdout",
     "output_type": "stream",
     "text": [
      "Episode 1600/3000\n",
      "Fitnesses: ['-40.70', '-35.67', '-580.78', '-9.45']\n",
      "100 fitness avgs: ['-28.18', '-28.76', '-35.02', '-27.79']\n"
     ]
    },
    {
     "name": "stderr",
     "output_type": "stream",
     "text": [
      " 54%|█████████████████████████████████████████████████████████▋                                                 | 1619/3000 [16:22<17:00,  1.35it/s]"
     ]
    },
    {
     "name": "stdout",
     "output_type": "stream",
     "text": [
      "Episode 1620/3000\n",
      "Fitnesses: ['-36.27', '-51.10', '-26.66', '-59.16']\n",
      "100 fitness avgs: ['-27.89', '-28.07', '-27.77', '-28.17']\n"
     ]
    },
    {
     "name": "stderr",
     "output_type": "stream",
     "text": [
      " 55%|██████████████████████████████████████████████████████████▍                                                | 1639/3000 [16:36<15:20,  1.48it/s]"
     ]
    },
    {
     "name": "stdout",
     "output_type": "stream",
     "text": [
      "Episode 1640/3000\n",
      "Fitnesses: ['-171.04', '-57.61', '-25.36', '-45.33']\n",
      "100 fitness avgs: ['-29.52', '-28.25', '-27.86', '-28.29']\n"
     ]
    },
    {
     "name": "stderr",
     "output_type": "stream",
     "text": [
      " 55%|███████████████████████████████████████████████████████████▏                                               | 1659/3000 [16:50<14:51,  1.50it/s]"
     ]
    },
    {
     "name": "stdout",
     "output_type": "stream",
     "text": [
      "Episode 1660/3000\n",
      "Fitnesses: ['-40.71', '-18.61', '-26.94', '-17.09']\n",
      "100 fitness avgs: ['-28.02', '-28.17', '-28.27', '-28.12']\n"
     ]
    },
    {
     "name": "stderr",
     "output_type": "stream",
     "text": [
      " 56%|███████████████████████████████████████████████████████████▉                                               | 1679/3000 [17:02<12:41,  1.73it/s]"
     ]
    },
    {
     "name": "stdout",
     "output_type": "stream",
     "text": [
      "Episode 1680/3000\n",
      "Fitnesses: ['-38.22', '-49.24', '-11.59', '-35.35']\n",
      "100 fitness avgs: ['-28.24', '-28.37', '-28.07', '-28.21']\n"
     ]
    },
    {
     "name": "stderr",
     "output_type": "stream",
     "text": [
      " 57%|████████████████████████████████████████████████████████████▌                                              | 1699/3000 [17:15<13:40,  1.59it/s]"
     ]
    },
    {
     "name": "stdout",
     "output_type": "stream",
     "text": [
      "Episode 1700/3000\n",
      "Fitnesses: ['-70.06', '-25.92', '-28.92', '-6.62']\n",
      "100 fitness avgs: ['-28.56', '-28.05', '-28.21', '-27.95']\n"
     ]
    },
    {
     "name": "stderr",
     "output_type": "stream",
     "text": [
      " 57%|█████████████████████████████████████████████████████████████▎                                             | 1719/3000 [17:27<12:28,  1.71it/s]"
     ]
    },
    {
     "name": "stdout",
     "output_type": "stream",
     "text": [
      "Episode 1720/3000\n",
      "Fitnesses: ['-3.77', '-33.90', '-19.13', '-6.59']\n",
      "100 fitness avgs: ['-27.67', '-28.63', '-27.85', '-27.70']\n"
     ]
    },
    {
     "name": "stderr",
     "output_type": "stream",
     "text": [
      " 58%|██████████████████████████████████████████████████████████████                                             | 1739/3000 [17:40<11:21,  1.85it/s]"
     ]
    },
    {
     "name": "stdout",
     "output_type": "stream",
     "text": [
      "Episode 1740/3000\n",
      "Fitnesses: ['-86.33', '-38.13', '-53.77', '-75.83']\n",
      "100 fitness avgs: ['-28.35', '-27.97', '-27.97', '-28.40']\n"
     ]
    },
    {
     "name": "stderr",
     "output_type": "stream",
     "text": [
      " 59%|██████████████████████████████████████████████████████████████▋                                            | 1759/3000 [17:52<11:15,  1.84it/s]"
     ]
    },
    {
     "name": "stdout",
     "output_type": "stream",
     "text": [
      "Episode 1760/3000\n",
      "Fitnesses: ['-24.88', '-5.89', '-28.31', '-7.49']\n",
      "100 fitness avgs: ['-27.93', '-27.72', '-27.97', '-27.73']\n"
     ]
    },
    {
     "name": "stderr",
     "output_type": "stream",
     "text": [
      " 59%|███████████████████████████████████████████████████████████████▍                                           | 1779/3000 [18:03<11:05,  1.83it/s]"
     ]
    },
    {
     "name": "stdout",
     "output_type": "stream",
     "text": [
      "Episode 1780/3000\n",
      "Fitnesses: ['-1.60', '-3.76', '-57.32', '-11.66']\n",
      "100 fitness avgs: ['-27.43', '-27.47', '-28.05', '-27.54']\n"
     ]
    },
    {
     "name": "stderr",
     "output_type": "stream",
     "text": [
      " 60%|████████████████████████████████████████████████████████████████▏                                          | 1799/3000 [18:16<11:10,  1.79it/s]"
     ]
    },
    {
     "name": "stdout",
     "output_type": "stream",
     "text": [
      "Episode 1800/3000\n",
      "Fitnesses: ['-19.35', '-43.64', '-122.91', '-20.68']\n",
      "100 fitness avgs: ['-27.34', '-28.23', '-28.49', '-27.35']\n"
     ]
    },
    {
     "name": "stderr",
     "output_type": "stream",
     "text": [
      " 61%|████████████████████████████████████████████████████████████████▉                                          | 1819/3000 [18:28<11:23,  1.73it/s]"
     ]
    },
    {
     "name": "stdout",
     "output_type": "stream",
     "text": [
      "Episode 1820/3000\n",
      "Fitnesses: ['-6.53', '-66.04', '-15.98', '-136.51']\n",
      "100 fitness avgs: ['-27.11', '-27.78', '-27.23', '-29.42']\n"
     ]
    },
    {
     "name": "stderr",
     "output_type": "stream",
     "text": [
      " 61%|█████████████████████████████████████████████████████████████████▌                                         | 1839/3000 [18:41<12:01,  1.61it/s]"
     ]
    },
    {
     "name": "stdout",
     "output_type": "stream",
     "text": [
      "Episode 1840/3000\n",
      "Fitnesses: ['-20.22', '-24.31', '-3.55', '-15.65']\n",
      "100 fitness avgs: ['-27.03', '-27.19', '-26.85', '-27.10']\n"
     ]
    },
    {
     "name": "stderr",
     "output_type": "stream",
     "text": [
      " 62%|██████████████████████████████████████████████████████████████████▎                                        | 1859/3000 [18:54<12:14,  1.55it/s]"
     ]
    },
    {
     "name": "stdout",
     "output_type": "stream",
     "text": [
      "Episode 1860/3000\n",
      "Fitnesses: ['-29.59', '-41.90', '-73.37', '-51.82']\n",
      "100 fitness avgs: ['-26.88', '-27.26', '-27.53', '-27.12']\n"
     ]
    },
    {
     "name": "stderr",
     "output_type": "stream",
     "text": [
      " 63%|███████████████████████████████████████████████████████████████████                                        | 1879/3000 [19:13<16:11,  1.15it/s]"
     ]
    },
    {
     "name": "stdout",
     "output_type": "stream",
     "text": [
      "Episode 1880/3000\n",
      "Fitnesses: ['-64.74', '-18.18', '-36.59', '-65.25']\n",
      "100 fitness avgs: ['-27.28', '-27.03', '-27.22', '-27.29']\n"
     ]
    },
    {
     "name": "stderr",
     "output_type": "stream",
     "text": [
      " 63%|███████████████████████████████████████████████████████████████████▋                                       | 1899/3000 [19:30<14:51,  1.24it/s]"
     ]
    },
    {
     "name": "stdout",
     "output_type": "stream",
     "text": [
      "Episode 1900/3000\n",
      "Fitnesses: ['-64.38', '-5.38', '-48.31', '-12.10']\n",
      "100 fitness avgs: ['-27.42', '-26.80', '-27.44', '-26.87']\n"
     ]
    },
    {
     "name": "stderr",
     "output_type": "stream",
     "text": [
      " 64%|████████████████████████████████████████████████████████████████████▍                                      | 1919/3000 [19:43<10:00,  1.80it/s]"
     ]
    },
    {
     "name": "stdout",
     "output_type": "stream",
     "text": [
      "Episode 1920/3000\n",
      "Fitnesses: ['-78.78', '-27.43', '-8.84', '-51.91']\n",
      "100 fitness avgs: ['-27.34', '-26.80', '-26.61', '-27.06']\n"
     ]
    },
    {
     "name": "stderr",
     "output_type": "stream",
     "text": [
      " 65%|█████████████████████████████████████████████████████████████████████▏                                     | 1939/3000 [19:55<09:47,  1.81it/s]"
     ]
    },
    {
     "name": "stdout",
     "output_type": "stream",
     "text": [
      "Episode 1940/3000\n",
      "Fitnesses: ['-25.38', '-71.98', '-17.12', '-1.27']\n",
      "100 fitness avgs: ['-26.60', '-27.08', '-26.70', '-26.35']\n"
     ]
    },
    {
     "name": "stderr",
     "output_type": "stream",
     "text": [
      " 65%|█████████████████████████████████████████████████████████████████████▊                                     | 1959/3000 [20:08<09:42,  1.79it/s]"
     ]
    },
    {
     "name": "stdout",
     "output_type": "stream",
     "text": [
      "Episode 1960/3000\n",
      "Fitnesses: ['-14.37', '-82.50', '-13.53', '-65.12']\n",
      "100 fitness avgs: ['-26.23', '-26.92', '-26.57', '-26.74']\n"
     ]
    },
    {
     "name": "stderr",
     "output_type": "stream",
     "text": [
      " 66%|██████████████████████████████████████████████████████████████████████▌                                    | 1979/3000 [20:19<09:31,  1.79it/s]"
     ]
    },
    {
     "name": "stdout",
     "output_type": "stream",
     "text": [
      "Episode 1980/3000\n",
      "Fitnesses: ['-16.20', '-3.37', '-22.07', '-16.71']\n",
      "100 fitness avgs: ['-26.47', '-26.34', '-26.19', '-26.82']\n"
     ]
    },
    {
     "name": "stderr",
     "output_type": "stream",
     "text": [
      " 67%|███████████████████████████████████████████████████████████████████████▎                                   | 1999/3000 [20:32<09:16,  1.80it/s]"
     ]
    },
    {
     "name": "stdout",
     "output_type": "stream",
     "text": [
      "Episode 2000/3000\n",
      "Fitnesses: ['-83.87', '-13.73', '-43.78', '-48.43']\n",
      "100 fitness avgs: ['-26.91', '-26.69', '-26.51', '-26.68']\n"
     ]
    },
    {
     "name": "stderr",
     "output_type": "stream",
     "text": [
      " 67%|████████████████████████████████████████████████████████████████████████                                   | 2019/3000 [20:45<09:49,  1.66it/s]"
     ]
    },
    {
     "name": "stdout",
     "output_type": "stream",
     "text": [
      "Episode 2020/3000\n",
      "Fitnesses: ['-13.99', '-8.36', '-24.58', '-25.65']\n",
      "100 fitness avgs: ['-26.76', '-26.71', '-26.86', '-26.88']\n"
     ]
    },
    {
     "name": "stderr",
     "output_type": "stream",
     "text": [
      " 68%|████████████████████████████████████████████████████████████████████████▋                                  | 2039/3000 [20:59<11:42,  1.37it/s]"
     ]
    },
    {
     "name": "stdout",
     "output_type": "stream",
     "text": [
      "Episode 2040/3000\n",
      "Fitnesses: ['-14.71', '-53.54', '-32.35', '-18.44']\n",
      "100 fitness avgs: ['-26.47', '-26.86', '-26.65', '-26.57']\n"
     ]
    },
    {
     "name": "stderr",
     "output_type": "stream",
     "text": [
      " 69%|█████████████████████████████████████████████████████████████████████████▍                                 | 2059/3000 [21:13<10:23,  1.51it/s]"
     ]
    },
    {
     "name": "stdout",
     "output_type": "stream",
     "text": [
      "Episode 2060/3000\n",
      "Fitnesses: ['-17.95', '-3.21', '-11.36', '-12.05']\n",
      "100 fitness avgs: ['-26.21', '-26.16', '-26.15', '-26.25']\n"
     ]
    },
    {
     "name": "stderr",
     "output_type": "stream",
     "text": [
      " 69%|██████████████████████████████████████████████████████████████████████████▏                                | 2079/3000 [21:24<07:49,  1.96it/s]"
     ]
    },
    {
     "name": "stdout",
     "output_type": "stream",
     "text": [
      "Episode 2080/3000\n",
      "Fitnesses: ['-165.65', '-11.80', '-11.05', '-81.14']\n",
      "100 fitness avgs: ['-27.43', '-25.89', '-25.89', '-26.59']\n"
     ]
    },
    {
     "name": "stderr",
     "output_type": "stream",
     "text": [
      " 70%|██████████████████████████████████████████████████████████████████████████▊                                | 2099/3000 [21:37<08:11,  1.83it/s]"
     ]
    },
    {
     "name": "stdout",
     "output_type": "stream",
     "text": [
      "Episode 2100/3000\n",
      "Fitnesses: ['-39.44', '-86.27', '-50.37', '-11.87']\n",
      "100 fitness avgs: ['-26.02', '-26.49', '-26.13', '-25.75']\n"
     ]
    },
    {
     "name": "stderr",
     "output_type": "stream",
     "text": [
      " 71%|███████████████████████████████████████████████████████████████████████████▌                               | 2119/3000 [21:49<08:30,  1.73it/s]"
     ]
    },
    {
     "name": "stdout",
     "output_type": "stream",
     "text": [
      "Episode 2120/3000\n",
      "Fitnesses: ['-10.25', '-3.61', '-22.94', '-47.28']\n",
      "100 fitness avgs: ['-25.37', '-25.30', '-25.87', '-26.01']\n"
     ]
    },
    {
     "name": "stderr",
     "output_type": "stream",
     "text": [
      " 71%|████████████████████████████████████████████████████████████████████████████▎                              | 2139/3000 [22:02<09:02,  1.59it/s]"
     ]
    },
    {
     "name": "stdout",
     "output_type": "stream",
     "text": [
      "Episode 2140/3000\n",
      "Fitnesses: ['-43.46', '-6.96', '-28.16', '-38.01']\n",
      "100 fitness avgs: ['-25.11', '-24.81', '-24.96', '-25.76']\n"
     ]
    },
    {
     "name": "stderr",
     "output_type": "stream",
     "text": [
      " 72%|█████████████████████████████████████████████████████████████████████████████                              | 2159/3000 [22:16<09:17,  1.51it/s]"
     ]
    },
    {
     "name": "stdout",
     "output_type": "stream",
     "text": [
      "Episode 2160/3000\n",
      "Fitnesses: ['-68.75', '-21.28', '-20.03', '-8.31']\n",
      "100 fitness avgs: ['-24.86', '-24.53', '-24.38', '-24.40']\n"
     ]
    },
    {
     "name": "stderr",
     "output_type": "stream",
     "text": [
      " 73%|█████████████████████████████████████████████████████████████████████████████▋                             | 2179/3000 [22:31<09:54,  1.38it/s]"
     ]
    },
    {
     "name": "stdout",
     "output_type": "stream",
     "text": [
      "Episode 2180/3000\n",
      "Fitnesses: ['-47.30', '-2.22', '-51.20', '-10.68']\n",
      "100 fitness avgs: ['-24.51', '-24.04', '-24.53', '-24.15']\n"
     ]
    },
    {
     "name": "stderr",
     "output_type": "stream",
     "text": [
      " 73%|██████████████████████████████████████████████████████████████████████████████▍                            | 2199/3000 [22:47<09:40,  1.38it/s]"
     ]
    },
    {
     "name": "stdout",
     "output_type": "stream",
     "text": [
      "Episode 2200/3000\n",
      "Fitnesses: ['-73.10', '-42.17', '-14.44', '-4.43']\n",
      "100 fitness avgs: ['-24.19', '-24.36', '-23.60', '-23.98']\n"
     ]
    },
    {
     "name": "stderr",
     "output_type": "stream",
     "text": [
      " 74%|███████████████████████████████████████████████████████████████████████████████▏                           | 2219/3000 [23:04<09:56,  1.31it/s]"
     ]
    },
    {
     "name": "stdout",
     "output_type": "stream",
     "text": [
      "Episode 2220/3000\n",
      "Fitnesses: ['-29.53', '-57.16', '-25.65', '-38.96']\n",
      "100 fitness avgs: ['-24.03', '-24.31', '-23.61', '-23.74']\n"
     ]
    },
    {
     "name": "stderr",
     "output_type": "stream",
     "text": [
      " 75%|███████████████████████████████████████████████████████████████████████████████▊                           | 2239/3000 [23:14<05:23,  2.35it/s]"
     ]
    },
    {
     "name": "stdout",
     "output_type": "stream",
     "text": [
      "Episode 2240/3000\n",
      "Fitnesses: ['-9.63', '-22.64', '-8.08', '-30.37']\n",
      "100 fitness avgs: ['-23.26', '-23.39', '-23.38', '-23.47']\n"
     ]
    },
    {
     "name": "stderr",
     "output_type": "stream",
     "text": [
      " 75%|████████████████████████████████████████████████████████████████████████████████▌                          | 2259/3000 [23:26<07:02,  1.76it/s]"
     ]
    },
    {
     "name": "stdout",
     "output_type": "stream",
     "text": [
      "Episode 2260/3000\n",
      "Fitnesses: ['-37.52', '-25.12', '-58.21', '-8.67']\n",
      "100 fitness avgs: ['-23.05', '-22.92', '-23.25', '-22.76']\n"
     ]
    },
    {
     "name": "stderr",
     "output_type": "stream",
     "text": [
      " 76%|█████████████████████████████████████████████████████████████████████████████████▎                         | 2279/3000 [23:39<06:47,  1.77it/s]"
     ]
    },
    {
     "name": "stdout",
     "output_type": "stream",
     "text": [
      "Episode 2280/3000\n",
      "Fitnesses: ['-20.61', '-8.05', '-6.57', '-43.38']\n",
      "100 fitness avgs: ['-22.32', '-22.20', '-22.47', '-22.55']\n"
     ]
    },
    {
     "name": "stderr",
     "output_type": "stream",
     "text": [
      " 77%|█████████████████████████████████████████████████████████████████████████████████▉                         | 2299/3000 [23:52<07:19,  1.60it/s]"
     ]
    },
    {
     "name": "stdout",
     "output_type": "stream",
     "text": [
      "Episode 2300/3000\n",
      "Fitnesses: ['-2.65', '-4.26', '-66.91', '-8.85']\n",
      "100 fitness avgs: ['-22.23', '-21.98', '-22.88', '-22.30']\n"
     ]
    },
    {
     "name": "stderr",
     "output_type": "stream",
     "text": [
      " 77%|██████████████████████████████████████████████████████████████████████████████████▋                        | 2319/3000 [24:03<06:01,  1.88it/s]"
     ]
    },
    {
     "name": "stdout",
     "output_type": "stream",
     "text": [
      "Episode 2320/3000\n",
      "Fitnesses: ['-64.12', '-37.50', '-99.62', '-58.65']\n",
      "100 fitness avgs: ['-22.74', '-22.54', '-23.74', '-22.69']\n"
     ]
    },
    {
     "name": "stderr",
     "output_type": "stream",
     "text": [
      " 78%|███████████████████████████████████████████████████████████████████████████████████▍                       | 2339/3000 [24:15<05:39,  1.95it/s]"
     ]
    },
    {
     "name": "stdout",
     "output_type": "stream",
     "text": [
      "Episode 2340/3000\n",
      "Fitnesses: ['-6.35', '-28.64', '-9.74', '-31.62']\n",
      "100 fitness avgs: ['-22.48', '-22.91', '-22.72', '-22.88']\n"
     ]
    },
    {
     "name": "stderr",
     "output_type": "stream",
     "text": [
      " 79%|████████████████████████████████████████████████████████████████████████████████████▏                      | 2359/3000 [24:26<05:38,  1.89it/s]"
     ]
    },
    {
     "name": "stdout",
     "output_type": "stream",
     "text": [
      "Episode 2360/3000\n",
      "Fitnesses: ['-2.13', '-73.95', '-42.25', '-12.30']\n",
      "100 fitness avgs: ['-22.38', '-23.52', '-23.18', '-22.48']\n"
     ]
    },
    {
     "name": "stderr",
     "output_type": "stream",
     "text": [
      " 79%|████████████████████████████████████████████████████████████████████████████████████▊                      | 2379/3000 [24:38<06:06,  1.69it/s]"
     ]
    },
    {
     "name": "stdout",
     "output_type": "stream",
     "text": [
      "Episode 2380/3000\n",
      "Fitnesses: ['-16.13', '-190.39', '-26.20', '-446.22']\n",
      "100 fitness avgs: ['-22.45', '-25.00', '-22.55', '-27.56']\n"
     ]
    },
    {
     "name": "stderr",
     "output_type": "stream",
     "text": [
      " 80%|█████████████████████████████████████████████████████████████████████████████████████▌                     | 2399/3000 [24:51<06:22,  1.57it/s]"
     ]
    },
    {
     "name": "stdout",
     "output_type": "stream",
     "text": [
      "Episode 2400/3000\n",
      "Fitnesses: ['-12.36', '-187.58', '-26.24', '-16.11']\n",
      "100 fitness avgs: ['-22.11', '-26.41', '-22.35', '-22.15']\n"
     ]
    },
    {
     "name": "stderr",
     "output_type": "stream",
     "text": [
      " 81%|██████████████████████████████████████████████████████████████████████████████████████▎                    | 2419/3000 [25:07<07:14,  1.34it/s]"
     ]
    },
    {
     "name": "stdout",
     "output_type": "stream",
     "text": [
      "Episode 2420/3000\n",
      "Fitnesses: ['-38.91', '-10.77', '-27.69', '-38.15']\n",
      "100 fitness avgs: ['-21.95', '-21.91', '-21.88', '-21.94']\n"
     ]
    },
    {
     "name": "stderr",
     "output_type": "stream",
     "text": [
      " 81%|██████████████████████████████████████████████████████████████████████████████████████▉                    | 2439/3000 [25:23<07:26,  1.26it/s]"
     ]
    },
    {
     "name": "stdout",
     "output_type": "stream",
     "text": [
      "Episode 2440/3000\n",
      "Fitnesses: ['-68.75', '-27.76', '-4.09', '-75.14']\n",
      "100 fitness avgs: ['-21.53', '-21.15', '-20.88', '-21.59']\n"
     ]
    },
    {
     "name": "stderr",
     "output_type": "stream",
     "text": [
      " 82%|███████████████████████████████████████████████████████████████████████████████████████▋                   | 2459/3000 [25:41<07:12,  1.25it/s]"
     ]
    },
    {
     "name": "stdout",
     "output_type": "stream",
     "text": [
      "Episode 2460/3000\n",
      "Fitnesses: ['-9.51', '-5.63', '-109.36', '-20.56']\n",
      "100 fitness avgs: ['-20.87', '-20.83', '-22.51', '-20.98']\n"
     ]
    },
    {
     "name": "stderr",
     "output_type": "stream",
     "text": [
      " 83%|████████████████████████████████████████████████████████████████████████████████████████▍                  | 2479/3000 [25:59<07:28,  1.16it/s]"
     ]
    },
    {
     "name": "stdout",
     "output_type": "stream",
     "text": [
      "Episode 2480/3000\n",
      "Fitnesses: ['-35.28', '-13.09', '-22.22', '-5.37']\n",
      "100 fitness avgs: ['-20.92', '-20.74', '-20.79', '-20.66']\n"
     ]
    },
    {
     "name": "stderr",
     "output_type": "stream",
     "text": [
      " 83%|█████████████████████████████████████████████████████████████████████████████████████████▏                 | 2499/3000 [26:17<06:38,  1.26it/s]"
     ]
    },
    {
     "name": "stdout",
     "output_type": "stream",
     "text": [
      "Episode 2500/3000\n",
      "Fitnesses: ['-18.97', '-2.88', '-5.26', '-58.02']\n",
      "100 fitness avgs: ['-20.49', '-20.41', '-20.43', '-20.88']\n"
     ]
    },
    {
     "name": "stderr",
     "output_type": "stream",
     "text": [
      " 84%|█████████████████████████████████████████████████████████████████████████████████████████▊                 | 2519/3000 [26:33<06:18,  1.27it/s]"
     ]
    },
    {
     "name": "stdout",
     "output_type": "stream",
     "text": [
      "Episode 2520/3000\n",
      "Fitnesses: ['-58.09', '-32.41', '-17.16', '-23.19']\n",
      "100 fitness avgs: ['-20.82', '-20.57', '-20.41', '-20.56']\n"
     ]
    },
    {
     "name": "stderr",
     "output_type": "stream",
     "text": [
      " 85%|██████████████████████████████████████████████████████████████████████████████████████████▌                | 2539/3000 [26:52<06:38,  1.16it/s]"
     ]
    },
    {
     "name": "stdout",
     "output_type": "stream",
     "text": [
      "Episode 2540/3000\n",
      "Fitnesses: ['-63.44', '-46.84', '-6.33', '-59.85']\n",
      "100 fitness avgs: ['-20.96', '-20.80', '-20.55', '-20.93']\n"
     ]
    },
    {
     "name": "stderr",
     "output_type": "stream",
     "text": [
      " 85%|███████████████████████████████████████████████████████████████████████████████████████████▎               | 2559/3000 [27:13<06:58,  1.05it/s]"
     ]
    },
    {
     "name": "stdout",
     "output_type": "stream",
     "text": [
      "Episode 2560/3000\n",
      "Fitnesses: ['-23.96', '-42.55', '-13.33', '-25.66']\n",
      "100 fitness avgs: ['-20.29', '-20.73', '-20.18', '-20.31']\n"
     ]
    },
    {
     "name": "stderr",
     "output_type": "stream",
     "text": [
      " 86%|███████████████████████████████████████████████████████████████████████████████████████████▉               | 2579/3000 [27:34<07:07,  1.01s/it]"
     ]
    },
    {
     "name": "stdout",
     "output_type": "stream",
     "text": [
      "Episode 2580/3000\n",
      "Fitnesses: ['-4.29', '-14.22', '-80.33', '-32.95']\n",
      "100 fitness avgs: ['-20.16', '-20.25', '-21.02', '-20.57']\n"
     ]
    },
    {
     "name": "stderr",
     "output_type": "stream",
     "text": [
      " 87%|████████████████████████████████████████████████████████████████████████████████████████████▋              | 2599/3000 [27:56<07:24,  1.11s/it]"
     ]
    },
    {
     "name": "stdout",
     "output_type": "stream",
     "text": [
      "Episode 2600/3000\n",
      "Fitnesses: ['-16.64', '-18.57', '-19.25', '-18.13']\n",
      "100 fitness avgs: ['-20.14', '-20.16', '-20.58', '-20.25']\n"
     ]
    },
    {
     "name": "stderr",
     "output_type": "stream",
     "text": [
      " 87%|█████████████████████████████████████████████████████████████████████████████████████████████▍             | 2619/3000 [28:22<07:51,  1.24s/it]"
     ]
    },
    {
     "name": "stdout",
     "output_type": "stream",
     "text": [
      "Episode 2620/3000\n",
      "Fitnesses: ['-30.87', '-4.33', '-20.62', '-30.91']\n",
      "100 fitness avgs: ['-20.37', '-20.22', '-20.39', '-20.37']\n"
     ]
    },
    {
     "name": "stderr",
     "output_type": "stream",
     "text": [
      " 88%|██████████████████████████████████████████████████████████████████████████████████████████████             | 2639/3000 [28:44<06:46,  1.13s/it]"
     ]
    },
    {
     "name": "stdout",
     "output_type": "stream",
     "text": [
      "Episode 2640/3000\n",
      "Fitnesses: ['-8.81', '-12.18', '-100.01', '-12.47']\n",
      "100 fitness avgs: ['-20.24', '-20.44', '-21.16', '-20.28']\n"
     ]
    },
    {
     "name": "stderr",
     "output_type": "stream",
     "text": [
      " 89%|██████████████████████████████████████████████████████████████████████████████████████████████▊            | 2659/3000 [29:08<06:26,  1.13s/it]"
     ]
    },
    {
     "name": "stdout",
     "output_type": "stream",
     "text": [
      "Episode 2660/3000\n",
      "Fitnesses: ['-50.78', '-189.12', '-19.86', '-19.56']\n",
      "100 fitness avgs: ['-20.51', '-21.93', '-20.23', '-20.39']\n"
     ]
    },
    {
     "name": "stderr",
     "output_type": "stream",
     "text": [
      " 89%|███████████████████████████████████████████████████████████████████████████████████████████████▌           | 2679/3000 [29:31<06:10,  1.15s/it]"
     ]
    },
    {
     "name": "stdout",
     "output_type": "stream",
     "text": [
      "Episode 2680/3000\n",
      "Fitnesses: ['-92.58', '-17.41', '-49.72', '-45.73']\n",
      "100 fitness avgs: ['-21.04', '-20.28', '-20.72', '-20.41']\n"
     ]
    },
    {
     "name": "stderr",
     "output_type": "stream",
     "text": [
      " 90%|████████████████████████████████████████████████████████████████████████████████████████████████▎          | 2699/3000 [29:51<05:08,  1.02s/it]"
     ]
    },
    {
     "name": "stdout",
     "output_type": "stream",
     "text": [
      "Episode 2700/3000\n",
      "Fitnesses: ['-35.82', '-13.94', '-6.90', '-15.25']\n",
      "100 fitness avgs: ['-20.07', '-19.85', '-19.91', '-19.99']\n"
     ]
    },
    {
     "name": "stderr",
     "output_type": "stream",
     "text": [
      " 91%|████████████████████████████████████████████████████████████████████████████████████████████████▉          | 2719/3000 [30:13<04:54,  1.05s/it]"
     ]
    },
    {
     "name": "stdout",
     "output_type": "stream",
     "text": [
      "Episode 2720/3000\n",
      "Fitnesses: ['-118.17', '-1.10', '-30.79', '-55.72']\n",
      "100 fitness avgs: ['-20.70', '-19.53', '-19.83', '-20.02']\n"
     ]
    },
    {
     "name": "stderr",
     "output_type": "stream",
     "text": [
      " 91%|█████████████████████████████████████████████████████████████████████████████████████████████████▋         | 2739/3000 [30:33<04:30,  1.04s/it]"
     ]
    },
    {
     "name": "stdout",
     "output_type": "stream",
     "text": [
      "Episode 2740/3000\n",
      "Fitnesses: ['-33.25', '-5.65', '-37.35', '-47.07']\n",
      "100 fitness avgs: ['-19.38', '-19.40', '-19.72', '-19.52']\n"
     ]
    },
    {
     "name": "stderr",
     "output_type": "stream",
     "text": [
      " 92%|██████████████████████████████████████████████████████████████████████████████████████████████████▍        | 2759/3000 [30:55<04:12,  1.05s/it]"
     ]
    },
    {
     "name": "stdout",
     "output_type": "stream",
     "text": [
      "Episode 2760/3000\n",
      "Fitnesses: ['-74.67', '-76.32', '-16.42', '-13.78']\n",
      "100 fitness avgs: ['-19.79', '-20.12', '-19.52', '-19.16']\n"
     ]
    },
    {
     "name": "stderr",
     "output_type": "stream",
     "text": [
      " 93%|███████████████████████████████████████████████████████████████████████████████████████████████████        | 2779/3000 [31:17<03:49,  1.04s/it]"
     ]
    },
    {
     "name": "stdout",
     "output_type": "stream",
     "text": [
      "Episode 2780/3000\n",
      "Fitnesses: ['-52.22', '-33.43', '-16.48', '-22.94']\n",
      "100 fitness avgs: ['-19.54', '-19.71', '-19.81', '-19.61']\n"
     ]
    },
    {
     "name": "stderr",
     "output_type": "stream",
     "text": [
      " 93%|███████████████████████████████████████████████████████████████████████████████████████████████████▊       | 2799/3000 [31:39<03:31,  1.05s/it]"
     ]
    },
    {
     "name": "stdout",
     "output_type": "stream",
     "text": [
      "Episode 2800/3000\n",
      "Fitnesses: ['-4.56', '-13.31', '-86.59', '-21.45']\n",
      "100 fitness avgs: ['-19.71', '-19.59', '-20.43', '-19.67']\n"
     ]
    },
    {
     "name": "stderr",
     "output_type": "stream",
     "text": [
      " 94%|████████████████████████████████████████████████████████████████████████████████████████████████████▌      | 2819/3000 [32:01<03:07,  1.04s/it]"
     ]
    },
    {
     "name": "stdout",
     "output_type": "stream",
     "text": [
      "Episode 2820/3000\n",
      "Fitnesses: ['-21.76', '-12.87', '-13.45', '-8.98']\n",
      "100 fitness avgs: ['-19.85', '-19.65', '-19.65', '-19.69']\n"
     ]
    },
    {
     "name": "stderr",
     "output_type": "stream",
     "text": [
      " 95%|█████████████████████████████████████████████████████████████████████████████████████████████████████▎     | 2839/3000 [32:20<02:21,  1.14it/s]"
     ]
    },
    {
     "name": "stdout",
     "output_type": "stream",
     "text": [
      "Episode 2840/3000\n",
      "Fitnesses: ['-4.64', '-635.61', '-111.83', '-3.67']\n",
      "100 fitness avgs: ['-19.38', '-25.65', '-20.41', '-19.33']\n"
     ]
    },
    {
     "name": "stderr",
     "output_type": "stream",
     "text": [
      " 95%|█████████████████████████████████████████████████████████████████████████████████████████████████████▉     | 2859/3000 [32:38<02:05,  1.13it/s]"
     ]
    },
    {
     "name": "stdout",
     "output_type": "stream",
     "text": [
      "Episode 2860/3000\n",
      "Fitnesses: ['-174.14', '-39.26', '-22.83', '-13.00']\n",
      "100 fitness avgs: ['-20.79', '-19.49', '-20.36', '-20.26']\n"
     ]
    },
    {
     "name": "stderr",
     "output_type": "stream",
     "text": [
      " 96%|██████████████████████████████████████████████████████████████████████████████████████████████████████▋    | 2879/3000 [32:58<01:58,  1.02it/s]"
     ]
    },
    {
     "name": "stdout",
     "output_type": "stream",
     "text": [
      "Episode 2880/3000\n",
      "Fitnesses: ['-118.01', '-17.74', '-9.16', '-25.02']\n",
      "100 fitness avgs: ['-21.23', '-19.46', '-20.14', '-20.40']\n"
     ]
    },
    {
     "name": "stderr",
     "output_type": "stream",
     "text": [
      " 97%|███████████████████████████████████████████████████████████████████████████████████████████████████████▍   | 2899/3000 [33:15<01:28,  1.14it/s]"
     ]
    },
    {
     "name": "stdout",
     "output_type": "stream",
     "text": [
      "Episode 2900/3000\n",
      "Fitnesses: ['-38.09', '-52.88', '-85.26', '-3.42']\n",
      "100 fitness avgs: ['-20.34', '-21.58', '-20.13', '-19.31']\n"
     ]
    },
    {
     "name": "stderr",
     "output_type": "stream",
     "text": [
      " 97%|████████████████████████████████████████████████████████████████████████████████████████████████████████   | 2919/3000 [33:36<01:19,  1.02it/s]"
     ]
    },
    {
     "name": "stdout",
     "output_type": "stream",
     "text": [
      "Episode 2920/3000\n",
      "Fitnesses: ['-17.05', '-32.85', '-44.12', '-28.53']\n",
      "100 fitness avgs: ['-19.46', '-21.88', '-21.99', '-20.60']\n"
     ]
    },
    {
     "name": "stderr",
     "output_type": "stream",
     "text": [
      " 98%|████████████████████████████████████████████████████████████████████████████████████████████████████████▊  | 2939/3000 [33:52<00:48,  1.25it/s]"
     ]
    },
    {
     "name": "stdout",
     "output_type": "stream",
     "text": [
      "Episode 2940/3000\n",
      "Fitnesses: ['-107.34', '-20.40', '-41.57', '-42.36']\n",
      "100 fitness avgs: ['-20.50', '-22.06', '-19.85', '-19.85']\n"
     ]
    },
    {
     "name": "stderr",
     "output_type": "stream",
     "text": [
      " 99%|█████████████████████████████████████████████████████████████████████████████████████████████████████████▌ | 2959/3000 [34:09<00:33,  1.21it/s]"
     ]
    },
    {
     "name": "stdout",
     "output_type": "stream",
     "text": [
      "Episode 2960/3000\n",
      "Fitnesses: ['-67.42', '-61.00', '-8.35', '-32.17']\n",
      "100 fitness avgs: ['-22.54', '-20.27', '-21.95', '-19.99']\n"
     ]
    },
    {
     "name": "stderr",
     "output_type": "stream",
     "text": [
      " 99%|██████████████████████████████████████████████████████████████████████████████████████████████████████████▎| 2979/3000 [34:26<00:16,  1.28it/s]"
     ]
    },
    {
     "name": "stdout",
     "output_type": "stream",
     "text": [
      "Episode 2980/3000\n",
      "Fitnesses: ['-39.48', '-1.02', '-59.01', '-18.56']\n",
      "100 fitness avgs: ['-22.09', '-19.74', '-22.29', '-21.88']\n"
     ]
    },
    {
     "name": "stderr",
     "output_type": "stream",
     "text": [
      "100%|██████████████████████████████████████████████████████████████████████████████████████████████████████████▉| 2999/3000 [34:41<00:00,  1.32it/s]"
     ]
    },
    {
     "name": "stdout",
     "output_type": "stream",
     "text": [
      "Episode 3000/3000\n",
      "Fitnesses: ['-39.95', '-38.59', '-27.65', '-44.30']\n",
      "100 fitness avgs: ['-20.08', '-22.41', '-19.96', '-22.26']\n"
     ]
    },
    {
     "name": "stderr",
     "output_type": "stream",
     "text": [
      "100%|███████████████████████████████████████████████████████████████████████████████████████████████████████████| 3000/3000 [34:44<00:00,  1.44it/s]\n"
     ]
    }
   ],
   "source": [
    "\"\"\"\n",
    "This tutorial shows how to train an MATD3 agent on the simple speaker listener multi-particle environment.\n",
    "\n",
    "Authors: Michael (https://github.com/mikepratt1), Nickua (https://github.com/nicku-a)\n",
    "\"\"\"\n",
    "\n",
    "import os\n",
    "\n",
    "import numpy as np\n",
    "import torch\n",
    "from pettingzoo.mpe import simple_speaker_listener_v4\n",
    "from tqdm import trange\n",
    "\n",
    "from agilerl.components.multi_agent_replay_buffer import MultiAgentReplayBuffer\n",
    "from agilerl.hpo.mutation import Mutations\n",
    "from agilerl.hpo.tournament import TournamentSelection\n",
    "from agilerl.utils.utils import initialPopulation\n",
    "\n",
    "if __name__ == \"__main__\":\n",
    "    device = torch.device(\"cuda\" if torch.cuda.is_available() else \"cpu\")\n",
    "    print(\"===== AgileRL Online Multi-Agent Demo =====\")\n",
    "\n",
    "    # Define the network configuration\n",
    "    NET_CONFIG = {\n",
    "        \"arch\": \"mlp\",  # Network architecture\n",
    "        \"h_size\": [32, 32],  # Actor hidden size\n",
    "    }\n",
    "\n",
    "    # Define the initial hyperparameters\n",
    "    INIT_HP = {\n",
    "        \"POPULATION_SIZE\": 4,\n",
    "        \"ALGO\": \"MATD3\",  # Algorithm\n",
    "        # Swap image channels dimension from last to first [H, W, C] -> [C, H, W]\n",
    "        \"CHANNELS_LAST\": False,\n",
    "        \"BATCH_SIZE\": 32,  # Batch size\n",
    "        \"LR\": 0.01,  # Learning rate\n",
    "        \"GAMMA\": 0.95,  # Discount factor\n",
    "        \"MEMORY_SIZE\": 100000,  # Max memory buffer size\n",
    "        \"LEARN_STEP\": 5,  # Learning frequency\n",
    "        \"TAU\": 0.01,  # For soft update of target parameters\n",
    "        \"POLICY_FREQ\": 2,  # Policy frequnecy\n",
    "    }\n",
    "\n",
    "    # Define the simple speaker listener environment as a parallel environment\n",
    "    env = simple_speaker_listener_v4.parallel_env(continuous_actions=True)\n",
    "    env.reset()\n",
    "\n",
    "    # Configure the multi-agent algo input arguments\n",
    "    try:\n",
    "        state_dim = [env.observation_space(agent).n for agent in env.agents]\n",
    "        one_hot = True\n",
    "    except Exception:\n",
    "        state_dim = [env.observation_space(agent).shape for agent in env.agents]\n",
    "        one_hot = False\n",
    "    try:\n",
    "        action_dim = [env.action_space(agent).n for agent in env.agents]\n",
    "        INIT_HP[\"DISCRETE_ACTIONS\"] = True\n",
    "        INIT_HP[\"MAX_ACTION\"] = None\n",
    "        INIT_HP[\"MIN_ACTION\"] = None\n",
    "    except Exception:\n",
    "        action_dim = [env.action_space(agent).shape[0] for agent in env.agents]\n",
    "        INIT_HP[\"DISCRETE_ACTIONS\"] = False\n",
    "        INIT_HP[\"MAX_ACTION\"] = [env.action_space(agent).high for agent in env.agents]\n",
    "        INIT_HP[\"MIN_ACTION\"] = [env.action_space(agent).low for agent in env.agents]\n",
    "\n",
    "    # Not applicable to MPE environments, used when images are used for observations (Atari environments)\n",
    "    if INIT_HP[\"CHANNELS_LAST\"]:\n",
    "        state_dim = [\n",
    "            (state_dim[2], state_dim[0], state_dim[1]) for state_dim in state_dim\n",
    "        ]\n",
    "\n",
    "    # Append number of agents and agent IDs to the initial hyperparameter dictionary\n",
    "    INIT_HP[\"N_AGENTS\"] = env.num_agents\n",
    "    INIT_HP[\"AGENT_IDS\"] = env.agents\n",
    "\n",
    "    # Create a population ready for evolutionary hyper-parameter optimisation\n",
    "    pop = initialPopulation(\n",
    "        INIT_HP[\"ALGO\"],\n",
    "        state_dim,\n",
    "        action_dim,\n",
    "        one_hot,\n",
    "        NET_CONFIG,\n",
    "        INIT_HP,\n",
    "        population_size=INIT_HP[\"POPULATION_SIZE\"],\n",
    "        device=device,\n",
    "    )\n",
    "\n",
    "    # Configure the multi-agent replay buffer\n",
    "    field_names = [\"state\", \"action\", \"reward\", \"next_state\", \"done\"]\n",
    "    memory = MultiAgentReplayBuffer(\n",
    "        INIT_HP[\"MEMORY_SIZE\"],\n",
    "        field_names=field_names,\n",
    "        agent_ids=INIT_HP[\"AGENT_IDS\"],\n",
    "        device=device,\n",
    "    )\n",
    "\n",
    "    # Instantiate a tournament selection object (used for HPO)\n",
    "    tournament = TournamentSelection(\n",
    "        tournament_size=2,  # Tournament selection size\n",
    "        elitism=True,  # Elitism in tournament selection\n",
    "        population_size=INIT_HP[\"POPULATION_SIZE\"],  # Population size\n",
    "        evo_step=1,\n",
    "    )  # Evaluate using last N fitness scores\n",
    "\n",
    "    # Instantiate a mutations object (used for HPO)\n",
    "    mutations = Mutations(\n",
    "        algo=INIT_HP[\"ALGO\"],\n",
    "        no_mutation=0.2,  # Probability of no mutation\n",
    "        architecture=0.2,  # Probability of architecture mutation\n",
    "        new_layer_prob=0.2,  # Probability of new layer mutation\n",
    "        parameters=0.2,  # Probability of parameter mutation\n",
    "        activation=0,  # Probability of activation function mutation\n",
    "        rl_hp=0.2,  # Probability of RL hyperparameter mutation\n",
    "        rl_hp_selection=[\n",
    "            \"lr\",\n",
    "            \"learn_step\",\n",
    "            \"batch_size\",\n",
    "        ],  # RL hyperparams selected for mutation\n",
    "        mutation_sd=0.1,  # Mutation strength\n",
    "        agent_ids=INIT_HP[\"AGENT_IDS\"],\n",
    "        arch=NET_CONFIG[\"arch\"],\n",
    "        rand_seed=1,\n",
    "        device=device,\n",
    "    )\n",
    "\n",
    "    # Define training loop parameters\n",
    "    max_episodes = 3000 # 6000 #500  # Total episodes (default: 6000)\n",
    "    max_steps = 25  # Maximum steps to take in each episode\n",
    "    epsilon = 1.0  # Starting epsilon value\n",
    "    eps_end = 0.1  # Final epsilon value\n",
    "    eps_decay = 0.995  # Epsilon decay\n",
    "    evo_epochs = 20  # Evolution frequency\n",
    "    evo_loop = 1  # Number of evaluation episodes\n",
    "    elite = pop[0]  # Assign a placeholder \"elite\" agent\n",
    "\n",
    "    # Training loop\n",
    "    for idx_epi in trange(max_episodes):\n",
    "        for agent in pop:  # Loop through population\n",
    "            state, info = env.reset()  # Reset environment at start of episode\n",
    "            agent_reward = {agent_id: 0 for agent_id in env.agents}\n",
    "            if INIT_HP[\"CHANNELS_LAST\"]:\n",
    "                state = {\n",
    "                    agent_id: np.moveaxis(np.expand_dims(s, 0), [-1], [-3])\n",
    "                    for agent_id, s in state.items()\n",
    "                }\n",
    "\n",
    "            for _ in range(max_steps):\n",
    "                agent_mask = info[\"agent_mask\"] if \"agent_mask\" in info.keys() else None\n",
    "                env_defined_actions = (\n",
    "                    info[\"env_defined_actions\"]\n",
    "                    if \"env_defined_actions\" in info.keys()\n",
    "                    else None\n",
    "                )\n",
    "\n",
    "                # Get next action from agent\n",
    "                cont_actions, discrete_action = agent.getAction(\n",
    "                    state, epsilon, agent_mask, env_defined_actions\n",
    "                )\n",
    "                if agent.discrete_actions:\n",
    "                    action = discrete_action\n",
    "                else:\n",
    "                    action = cont_actions\n",
    "\n",
    "                next_state, reward, termination, truncation, info = env.step(\n",
    "                    action\n",
    "                )  # Act in environment\n",
    "\n",
    "                # Image processing if necessary for the environment\n",
    "                if INIT_HP[\"CHANNELS_LAST\"]:\n",
    "                    state = {agent_id: np.squeeze(s) for agent_id, s in state.items()}\n",
    "                    next_state = {\n",
    "                        agent_id: np.moveaxis(ns, [-1], [-3])\n",
    "                        for agent_id, ns in next_state.items()\n",
    "                    }\n",
    "\n",
    "                # Save experiences to replay buffer\n",
    "                memory.save2memory(state, cont_actions, reward, next_state, termination)\n",
    "\n",
    "                # Collect the reward\n",
    "                for agent_id, r in reward.items():\n",
    "                    agent_reward[agent_id] += r\n",
    "\n",
    "                # Learn according to learning frequency\n",
    "                if (memory.counter % agent.learn_step == 0) and (\n",
    "                    len(memory) >= agent.batch_size\n",
    "                ):\n",
    "                    experiences = memory.sample(\n",
    "                        agent.batch_size\n",
    "                    )  # Sample replay buffer\n",
    "                    agent.learn(experiences)  # Learn according to agent's RL algorithm\n",
    "\n",
    "                # Update the state\n",
    "                if INIT_HP[\"CHANNELS_LAST\"]:\n",
    "                    next_state = {\n",
    "                        agent_id: np.expand_dims(ns, 0)\n",
    "                        for agent_id, ns in next_state.items()\n",
    "                    }\n",
    "                state = next_state\n",
    "\n",
    "                # Stop episode if any agents have terminated\n",
    "                if any(truncation.values()) or any(termination.values()):\n",
    "                    break\n",
    "\n",
    "            # Save the total episode reward\n",
    "            score = sum(agent_reward.values())\n",
    "            agent.scores.append(score)\n",
    "\n",
    "        # Update epsilon for exploration\n",
    "        epsilon = max(eps_end, epsilon * eps_decay)\n",
    "\n",
    "        # Now evolve population if necessary\n",
    "        if (idx_epi + 1) % evo_epochs == 0:\n",
    "            # Evaluate population\n",
    "            fitnesses = [\n",
    "                agent.test(\n",
    "                    env,\n",
    "                    swap_channels=INIT_HP[\"CHANNELS_LAST\"],\n",
    "                    max_steps=max_steps,\n",
    "                    loop=evo_loop,\n",
    "                )\n",
    "                for agent in pop\n",
    "            ]\n",
    "\n",
    "            print(f\"Episode {idx_epi + 1}/{max_episodes}\")\n",
    "            print(f'Fitnesses: {[\"%.2f\" % fitness for fitness in fitnesses]}')\n",
    "            print(\n",
    "                f'100 fitness avgs: {[\"%.2f\" % np.mean(agent.fitness[-100:]) for agent in pop]}'\n",
    "            )\n",
    "\n",
    "            # Tournament selection and population mutation\n",
    "            elite, pop = tournament.select(pop)\n",
    "            pop = mutations.mutation(pop)\n",
    "\n",
    "    # Save the trained algorithm\n",
    "    path = \"./models/MATD3\"\n",
    "    filename = \"MATD3_trained_agent.pt\"\n",
    "    os.makedirs(path, exist_ok=True)\n",
    "    save_path = os.path.join(path, filename)\n",
    "    elite.saveCheckpoint(save_path)"
   ]
  },
  {
   "cell_type": "code",
   "execution_count": 4,
   "id": "a4757375",
   "metadata": {},
   "outputs": [
    {
     "name": "stdout",
     "output_type": "stream",
     "text": [
      "--------------- Episode: 0 ---------------\n",
      "Episodic Reward:  -81.8284499669539\n",
      "speaker_0 reward: -40.91422498347695\n",
      "listener_0 reward: -40.91422498347695\n",
      "--------------- Episode: 1 ---------------\n",
      "Episodic Reward:  -186.10305871930248\n",
      "speaker_0 reward: -93.05152935965124\n",
      "listener_0 reward: -93.05152935965124\n",
      "--------------- Episode: 2 ---------------\n",
      "Episodic Reward:  -20.01420199276354\n",
      "speaker_0 reward: -10.00710099638177\n",
      "listener_0 reward: -10.00710099638177\n",
      "--------------- Episode: 3 ---------------\n",
      "Episodic Reward:  -18.592696013850134\n",
      "speaker_0 reward: -9.296348006925067\n",
      "listener_0 reward: -9.296348006925067\n",
      "--------------- Episode: 4 ---------------\n",
      "Episodic Reward:  -22.432836521675\n",
      "speaker_0 reward: -11.2164182608375\n",
      "listener_0 reward: -11.2164182608375\n",
      "--------------- Episode: 5 ---------------\n",
      "Episodic Reward:  -36.65143788417064\n",
      "speaker_0 reward: -18.32571894208532\n",
      "listener_0 reward: -18.32571894208532\n",
      "--------------- Episode: 6 ---------------\n",
      "Episodic Reward:  -71.4280293421251\n",
      "speaker_0 reward: -35.71401467106255\n",
      "listener_0 reward: -35.71401467106255\n",
      "--------------- Episode: 7 ---------------\n",
      "Episodic Reward:  -31.829929737848662\n",
      "speaker_0 reward: -15.914964868924331\n",
      "listener_0 reward: -15.914964868924331\n",
      "--------------- Episode: 8 ---------------\n",
      "Episodic Reward:  -54.39843148534294\n",
      "speaker_0 reward: -27.19921574267147\n",
      "listener_0 reward: -27.19921574267147\n",
      "--------------- Episode: 9 ---------------\n",
      "Episodic Reward:  -18.433346147054852\n",
      "speaker_0 reward: -9.216673073527426\n",
      "listener_0 reward: -9.216673073527426\n"
     ]
    }
   ],
   "source": [
    "import os\n",
    "\n",
    "import imageio\n",
    "import numpy as np\n",
    "import torch\n",
    "from pettingzoo.mpe import simple_speaker_listener_v4\n",
    "from PIL import Image, ImageDraw\n",
    "\n",
    "from agilerl.algorithms.matd3 import MATD3\n",
    "\n",
    "\n",
    "# Define function to return image\n",
    "def _label_with_episode_number(frame, episode_num):\n",
    "    im = Image.fromarray(frame)\n",
    "\n",
    "    drawer = ImageDraw.Draw(im)\n",
    "\n",
    "    if np.mean(frame) < 128:\n",
    "        text_color = (255, 255, 255)\n",
    "    else:\n",
    "        text_color = (0, 0, 0)\n",
    "    drawer.text(\n",
    "        (im.size[0] / 20, im.size[1] / 18), f\"Episode: {episode_num+1}\", fill=text_color\n",
    "    )\n",
    "\n",
    "    return im\n",
    "\n",
    "\n",
    "if __name__ == \"__main__\":\n",
    "    device = torch.device(\"cuda\" if torch.cuda.is_available() else \"cpu\")\n",
    "\n",
    "    # Configure the environment\n",
    "    env = simple_speaker_listener_v4.parallel_env(\n",
    "        continuous_actions=True, render_mode=\"rgb_array\"\n",
    "    )\n",
    "    env.reset()\n",
    "    try:\n",
    "        state_dim = [env.observation_space(agent).n for agent in env.agents]\n",
    "        one_hot = True\n",
    "    except Exception:\n",
    "        state_dim = [env.observation_space(agent).shape for agent in env.agents]\n",
    "        one_hot = False\n",
    "    try:\n",
    "        action_dim = [env.action_space(agent).n for agent in env.agents]\n",
    "        discrete_actions = True\n",
    "        max_action = None\n",
    "        min_action = None\n",
    "    except Exception:\n",
    "        action_dim = [env.action_space(agent).shape[0] for agent in env.agents]\n",
    "        discrete_actions = False\n",
    "        max_action = [env.action_space(agent).high for agent in env.agents]\n",
    "        min_action = [env.action_space(agent).low for agent in env.agents]\n",
    "\n",
    "    # Append number of agents and agent IDs to the initial hyperparameter dictionary\n",
    "    n_agents = env.num_agents\n",
    "    agent_ids = env.agents\n",
    "\n",
    "    # Instantiate an MADDPG object\n",
    "    matd3 = MATD3(\n",
    "        state_dim,\n",
    "        action_dim,\n",
    "        one_hot,\n",
    "        n_agents,\n",
    "        agent_ids,\n",
    "        max_action,\n",
    "        min_action,\n",
    "        discrete_actions,\n",
    "        device=device,\n",
    "    )\n",
    "\n",
    "    # Load the saved algorithm into the MADDPG object\n",
    "    path = \"./models/MATD3/MATD3_trained_agent.pt\"\n",
    "    matd3.loadCheckpoint(path)\n",
    "\n",
    "    # Define test loop parameters\n",
    "    episodes = 10  # Number of episodes to test agent on\n",
    "    max_steps = 25  # Max number of steps to take in the environment in each episode\n",
    "\n",
    "    rewards = []  # List to collect total episodic reward\n",
    "    frames = []  # List to collect frames\n",
    "    indi_agent_rewards = {\n",
    "        agent_id: [] for agent_id in agent_ids\n",
    "    }  # Dictionary to collect inidivdual agent rewards\n",
    "\n",
    "    rewards = []  # List to collect total episodic reward\n",
    "    frames = []  # List to collect frames\n",
    "    indi_agent_rewards = {\n",
    "        agent_id: [] for agent_id in agent_ids\n",
    "    }  # Dictionary to collect inidivdual agent rewards\n",
    "\n",
    "    # Test loop for inference\n",
    "    for ep in range(episodes):\n",
    "        state, info = env.reset()\n",
    "        agent_reward = {agent_id: 0 for agent_id in agent_ids}\n",
    "        score = 0\n",
    "        for _ in range(max_steps):\n",
    "            agent_mask = info[\"agent_mask\"] if \"agent_mask\" in info.keys() else None\n",
    "            env_defined_actions = (\n",
    "                info[\"env_defined_actions\"]\n",
    "                if \"env_defined_actions\" in info.keys()\n",
    "                else None\n",
    "            )\n",
    "\n",
    "            # Get next action from agent\n",
    "            cont_actions, discrete_action = matd3.getAction(\n",
    "                state,\n",
    "                epsilon=0,\n",
    "                agent_mask=agent_mask,\n",
    "                env_defined_actions=env_defined_actions,\n",
    "            )\n",
    "            if matd3.discrete_actions:\n",
    "                action = discrete_action\n",
    "            else:\n",
    "                action = cont_actions\n",
    "\n",
    "            # Save the frame for this step and append to frames list\n",
    "            frame = env.render()\n",
    "            frames.append(_label_with_episode_number(frame, episode_num=ep))\n",
    "\n",
    "            # Take action in environment\n",
    "            state, reward, termination, truncation, info = env.step(action)\n",
    "\n",
    "            # Save agent's reward for this step in this episode\n",
    "            for agent_id, r in reward.items():\n",
    "                agent_reward[agent_id] += r\n",
    "\n",
    "            # Determine total score for the episode and then append to rewards list\n",
    "            score = sum(agent_reward.values())\n",
    "\n",
    "            # Stop episode if any agents have terminated\n",
    "            if any(truncation.values()) or any(termination.values()):\n",
    "                break\n",
    "\n",
    "        rewards.append(score)\n",
    "\n",
    "        # Record agent specific episodic reward\n",
    "        for agent_id in agent_ids:\n",
    "            indi_agent_rewards[agent_id].append(agent_reward[agent_id])\n",
    "\n",
    "        print(\"-\" * 15, f\"Episode: {ep}\", \"-\" * 15)\n",
    "        print(\"Episodic Reward: \", rewards[-1])\n",
    "        for agent_id, reward_list in indi_agent_rewards.items():\n",
    "            print(f\"{agent_id} reward: {reward_list[-1]}\")\n",
    "    env.close()\n",
    "\n",
    "    # Save the gif to specified path\n",
    "    gif_path = \"./videos/\"\n",
    "    os.makedirs(gif_path, exist_ok=True)\n",
    "    imageio.mimwrite(\n",
    "        os.path.join(\"./videos/\", \"speaker_listener.gif\"), frames, duration=10\n",
    "    )"
   ]
  },
  {
   "cell_type": "code",
   "execution_count": 5,
   "id": "cfadb438-9362-4b9d-9d05-ae54b857ffcf",
   "metadata": {},
   "outputs": [
    {
     "name": "stdout",
     "output_type": "stream",
     "text": [
      "/Users/work/work-worldmodel2023/venv-mpe/bin/python3: No module named pip3\n",
      "/Users/work/work-worldmodel2023/venv-mpe/bin/python3: No module named pip3\n"
     ]
    }
   ],
   "source": [
    "!python3 -m pip3 install playsound\n",
    "!python3 -m pip3 install PyObjC"
   ]
  },
  {
   "cell_type": "code",
   "execution_count": 6,
   "id": "fd62d1b5-7785-4023-8de1-0ff1f36b4239",
   "metadata": {},
   "outputs": [
    {
     "ename": "KeyboardInterrupt",
     "evalue": "",
     "output_type": "error",
     "traceback": [
      "\u001b[0;31m---------------------------------------------------------------------------\u001b[0m",
      "\u001b[0;31mKeyboardInterrupt\u001b[0m                         Traceback (most recent call last)",
      "Cell \u001b[0;32mIn[6], line 4\u001b[0m\n\u001b[1;32m      1\u001b[0m \u001b[38;5;28;01mimport\u001b[39;00m \u001b[38;5;21;01mplaysound\u001b[39;00m\n\u001b[1;32m      3\u001b[0m \u001b[38;5;28;01mwhile\u001b[39;00m \u001b[38;5;28;01mTrue\u001b[39;00m:\n\u001b[0;32m----> 4\u001b[0m     \u001b[43mplaysound\u001b[49m\u001b[38;5;241;43m.\u001b[39;49m\u001b[43mplaysound\u001b[49m\u001b[43m(\u001b[49m\u001b[38;5;124;43m\"\u001b[39;49m\u001b[38;5;124;43mfireworks.mp3\u001b[39;49m\u001b[38;5;124;43m\"\u001b[39;49m\u001b[43m)\u001b[49m\n",
      "File \u001b[0;32m~/work-worldmodel2023/venv-mpe/lib/python3.8/site-packages/playsound.py:144\u001b[0m, in \u001b[0;36m_playsoundOSX\u001b[0;34m(sound, block)\u001b[0m\n\u001b[1;32m    141\u001b[0m nssound\u001b[38;5;241m.\u001b[39mplay()\n\u001b[1;32m    143\u001b[0m \u001b[38;5;28;01mif\u001b[39;00m block:\n\u001b[0;32m--> 144\u001b[0m     \u001b[43msleep\u001b[49m\u001b[43m(\u001b[49m\u001b[43mnssound\u001b[49m\u001b[38;5;241;43m.\u001b[39;49m\u001b[43mduration\u001b[49m\u001b[43m(\u001b[49m\u001b[43m)\u001b[49m\u001b[43m)\u001b[49m\n",
      "\u001b[0;31mKeyboardInterrupt\u001b[0m: "
     ]
    }
   ],
   "source": [
    "import playsound\n",
    "\n",
    "while True:\n",
    "    playsound.playsound(\"fireworks.mp3\")"
   ]
  },
  {
   "cell_type": "code",
   "execution_count": null,
   "id": "5d75d986-de09-4449-ab01-394fcb3ce289",
   "metadata": {},
   "outputs": [],
   "source": []
  }
 ],
 "metadata": {
  "kernelspec": {
   "display_name": "Python 3 (ipykernel)",
   "language": "python",
   "name": "python3"
  },
  "language_info": {
   "codemirror_mode": {
    "name": "ipython",
    "version": 3
   },
   "file_extension": ".py",
   "mimetype": "text/x-python",
   "name": "python",
   "nbconvert_exporter": "python",
   "pygments_lexer": "ipython3",
   "version": "3.8.2"
  }
 },
 "nbformat": 4,
 "nbformat_minor": 5
}
