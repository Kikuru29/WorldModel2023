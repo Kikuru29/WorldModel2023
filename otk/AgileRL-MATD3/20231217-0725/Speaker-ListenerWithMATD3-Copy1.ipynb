{
 "cells": [
  {
   "cell_type": "markdown",
   "id": "ff4488f4",
   "metadata": {},
   "source": [
    "# AgileRL Speaker-Listener with MATD3\n",
    "https://docs.agilerl.com/en/latest/tutorials/pettingzoo/matd3.html"
   ]
  },
  {
   "cell_type": "code",
   "execution_count": 1,
   "id": "a9b039f0",
   "metadata": {},
   "outputs": [
    {
     "name": "stdout",
     "output_type": "stream",
     "text": [
      "Requirement already satisfied: pip in /Users/work/work-worldmodel2023/venv-mpe/lib/python3.8/site-packages (23.3.1)\n"
     ]
    }
   ],
   "source": [
    "!pip install --upgrade pip"
   ]
  },
  {
   "cell_type": "code",
   "execution_count": 2,
   "id": "3d2e6aa6",
   "metadata": {},
   "outputs": [
    {
     "name": "stdout",
     "output_type": "stream",
     "text": [
      "zsh:1: no matches found: pettingzoo[mpe]\n",
      "Requirement already satisfied: agilerl in /Users/work/work-worldmodel2023/venv-mpe/lib/python3.8/site-packages (0.1.19)\n",
      "Requirement already satisfied: SuperSuit<4.0.0,>=3.9.0 in /Users/work/work-worldmodel2023/venv-mpe/lib/python3.8/site-packages (from agilerl) (3.9.1)\n",
      "Requirement already satisfied: accelerate<0.19.0,>=0.18.0 in /Users/work/work-worldmodel2023/venv-mpe/lib/python3.8/site-packages (from agilerl) (0.18.0)\n",
      "Requirement already satisfied: dill<0.4.0,>=0.3.7 in /Users/work/work-worldmodel2023/venv-mpe/lib/python3.8/site-packages (from agilerl) (0.3.7)\n",
      "Requirement already satisfied: fastrand<2.0.0,>=1.3.0 in /Users/work/work-worldmodel2023/venv-mpe/lib/python3.8/site-packages (from agilerl) (1.8.0)\n",
      "Requirement already satisfied: flatten_dict<0.5.0,>=0.4.2 in /Users/work/work-worldmodel2023/venv-mpe/lib/python3.8/site-packages (from agilerl) (0.4.2)\n",
      "Requirement already satisfied: gymnasium<0.29.0,>=0.28.1 in /Users/work/work-worldmodel2023/venv-mpe/lib/python3.8/site-packages (from agilerl) (0.28.1)\n",
      "Requirement already satisfied: h5py<4.0.0,>=3.8.0 in /Users/work/work-worldmodel2023/venv-mpe/lib/python3.8/site-packages (from agilerl) (3.10.0)\n",
      "Requirement already satisfied: hydra-core<2.0.0,>=1.3.2 in /Users/work/work-worldmodel2023/venv-mpe/lib/python3.8/site-packages (from agilerl) (1.3.2)\n",
      "Requirement already satisfied: matplotlib<4.0.0,>=3.4.3 in /Users/work/work-worldmodel2023/venv-mpe/lib/python3.8/site-packages (from agilerl) (3.7.4)\n",
      "Requirement already satisfied: minari<0.5.0,>=0.4.1 in /Users/work/work-worldmodel2023/venv-mpe/lib/python3.8/site-packages (from agilerl) (0.4.2)\n",
      "Requirement already satisfied: numpy<2.0.0,>=1.24.2 in /Users/work/work-worldmodel2023/venv-mpe/lib/python3.8/site-packages (from agilerl) (1.24.4)\n",
      "Requirement already satisfied: omegaconf<3.0.0,>=2.3.0 in /Users/work/work-worldmodel2023/venv-mpe/lib/python3.8/site-packages (from agilerl) (2.3.0)\n",
      "Requirement already satisfied: pettingzoo<2.0.0,>=1.23.1 in /Users/work/work-worldmodel2023/venv-mpe/lib/python3.8/site-packages (from agilerl) (1.24.2)\n",
      "Requirement already satisfied: pre-commit<4.0.0,>=3.4.0 in /Users/work/work-worldmodel2023/venv-mpe/lib/python3.8/site-packages (from agilerl) (3.5.0)\n",
      "Requirement already satisfied: redis<5.0.0,>=4.4.4 in /Users/work/work-worldmodel2023/venv-mpe/lib/python3.8/site-packages (from agilerl) (4.6.0)\n",
      "Requirement already satisfied: termcolor<2.0.0,>=1.1.0 in /Users/work/work-worldmodel2023/venv-mpe/lib/python3.8/site-packages (from agilerl) (1.1.0)\n",
      "Requirement already satisfied: torch<3.0.0,>=2.0.1 in /Users/work/work-worldmodel2023/venv-mpe/lib/python3.8/site-packages (from agilerl) (2.1.2)\n",
      "Requirement already satisfied: tqdm<5.0.0,>=4.65.0 in /Users/work/work-worldmodel2023/venv-mpe/lib/python3.8/site-packages (from agilerl) (4.66.1)\n",
      "Requirement already satisfied: transformers<5.0.0,>=4.30.0 in /Users/work/work-worldmodel2023/venv-mpe/lib/python3.8/site-packages (from agilerl) (4.36.1)\n",
      "Requirement already satisfied: wandb<0.14.0,>=0.13.10 in /Users/work/work-worldmodel2023/venv-mpe/lib/python3.8/site-packages (from agilerl) (0.13.11)\n",
      "Requirement already satisfied: packaging>=20.0 in /Users/work/work-worldmodel2023/venv-mpe/lib/python3.8/site-packages (from accelerate<0.19.0,>=0.18.0->agilerl) (23.1)\n",
      "Requirement already satisfied: psutil in /Users/work/work-worldmodel2023/venv-mpe/lib/python3.8/site-packages (from accelerate<0.19.0,>=0.18.0->agilerl) (5.9.6)\n",
      "Requirement already satisfied: pyyaml in /Users/work/work-worldmodel2023/venv-mpe/lib/python3.8/site-packages (from accelerate<0.19.0,>=0.18.0->agilerl) (6.0.1)\n",
      "Requirement already satisfied: six<2.0,>=1.12 in /Users/work/work-worldmodel2023/venv-mpe/lib/python3.8/site-packages (from flatten_dict<0.5.0,>=0.4.2->agilerl) (1.16.0)\n",
      "Requirement already satisfied: jax-jumpy>=1.0.0 in /Users/work/work-worldmodel2023/venv-mpe/lib/python3.8/site-packages (from gymnasium<0.29.0,>=0.28.1->agilerl) (1.0.0)\n",
      "Requirement already satisfied: cloudpickle>=1.2.0 in /Users/work/work-worldmodel2023/venv-mpe/lib/python3.8/site-packages (from gymnasium<0.29.0,>=0.28.1->agilerl) (3.0.0)\n",
      "Requirement already satisfied: typing-extensions>=4.3.0 in /Users/work/work-worldmodel2023/venv-mpe/lib/python3.8/site-packages (from gymnasium<0.29.0,>=0.28.1->agilerl) (4.8.0)\n",
      "Requirement already satisfied: farama-notifications>=0.0.1 in /Users/work/work-worldmodel2023/venv-mpe/lib/python3.8/site-packages (from gymnasium<0.29.0,>=0.28.1->agilerl) (0.0.4)\n",
      "Requirement already satisfied: importlib-metadata>=4.8.0 in /Users/work/work-worldmodel2023/venv-mpe/lib/python3.8/site-packages (from gymnasium<0.29.0,>=0.28.1->agilerl) (6.8.0)\n",
      "Requirement already satisfied: antlr4-python3-runtime==4.9.* in /Users/work/work-worldmodel2023/venv-mpe/lib/python3.8/site-packages (from hydra-core<2.0.0,>=1.3.2->agilerl) (4.9.3)\n",
      "Requirement already satisfied: importlib-resources in /Users/work/work-worldmodel2023/venv-mpe/lib/python3.8/site-packages (from hydra-core<2.0.0,>=1.3.2->agilerl) (6.1.1)\n",
      "Requirement already satisfied: contourpy>=1.0.1 in /Users/work/work-worldmodel2023/venv-mpe/lib/python3.8/site-packages (from matplotlib<4.0.0,>=3.4.3->agilerl) (1.1.1)\n",
      "Requirement already satisfied: cycler>=0.10 in /Users/work/work-worldmodel2023/venv-mpe/lib/python3.8/site-packages (from matplotlib<4.0.0,>=3.4.3->agilerl) (0.12.1)\n",
      "Requirement already satisfied: fonttools>=4.22.0 in /Users/work/work-worldmodel2023/venv-mpe/lib/python3.8/site-packages (from matplotlib<4.0.0,>=3.4.3->agilerl) (4.46.0)\n",
      "Requirement already satisfied: kiwisolver>=1.0.1 in /Users/work/work-worldmodel2023/venv-mpe/lib/python3.8/site-packages (from matplotlib<4.0.0,>=3.4.3->agilerl) (1.4.5)\n",
      "Requirement already satisfied: pillow>=6.2.0 in /Users/work/work-worldmodel2023/venv-mpe/lib/python3.8/site-packages (from matplotlib<4.0.0,>=3.4.3->agilerl) (10.1.0)\n",
      "Requirement already satisfied: pyparsing>=2.3.1 in /Users/work/work-worldmodel2023/venv-mpe/lib/python3.8/site-packages (from matplotlib<4.0.0,>=3.4.3->agilerl) (3.1.1)\n",
      "Requirement already satisfied: python-dateutil>=2.7 in /Users/work/work-worldmodel2023/venv-mpe/lib/python3.8/site-packages (from matplotlib<4.0.0,>=3.4.3->agilerl) (2.8.2)\n",
      "Requirement already satisfied: google-cloud-storage==2.5.0 in /Users/work/work-worldmodel2023/venv-mpe/lib/python3.8/site-packages (from minari<0.5.0,>=0.4.1->agilerl) (2.5.0)\n",
      "Requirement already satisfied: typer==0.9.0 in /Users/work/work-worldmodel2023/venv-mpe/lib/python3.8/site-packages (from typer[all]==0.9.0->minari<0.5.0,>=0.4.1->agilerl) (0.9.0)\n",
      "Requirement already satisfied: portion==2.4.0 in /Users/work/work-worldmodel2023/venv-mpe/lib/python3.8/site-packages (from minari<0.5.0,>=0.4.1->agilerl) (2.4.0)\n",
      "Requirement already satisfied: google-auth<3.0dev,>=1.25.0 in /Users/work/work-worldmodel2023/venv-mpe/lib/python3.8/site-packages (from google-cloud-storage==2.5.0->minari<0.5.0,>=0.4.1->agilerl) (2.25.2)\n",
      "Requirement already satisfied: google-api-core!=2.0.*,!=2.1.*,!=2.2.*,!=2.3.0,<3.0.0dev,>=1.31.5 in /Users/work/work-worldmodel2023/venv-mpe/lib/python3.8/site-packages (from google-cloud-storage==2.5.0->minari<0.5.0,>=0.4.1->agilerl) (2.15.0)\n",
      "Requirement already satisfied: google-cloud-core<3.0dev,>=2.3.0 in /Users/work/work-worldmodel2023/venv-mpe/lib/python3.8/site-packages (from google-cloud-storage==2.5.0->minari<0.5.0,>=0.4.1->agilerl) (2.4.1)\n",
      "Requirement already satisfied: google-resumable-media>=2.3.2 in /Users/work/work-worldmodel2023/venv-mpe/lib/python3.8/site-packages (from google-cloud-storage==2.5.0->minari<0.5.0,>=0.4.1->agilerl) (2.7.0)\n",
      "Requirement already satisfied: requests<3.0.0dev,>=2.18.0 in /Users/work/work-worldmodel2023/venv-mpe/lib/python3.8/site-packages (from google-cloud-storage==2.5.0->minari<0.5.0,>=0.4.1->agilerl) (2.31.0)\n",
      "Requirement already satisfied: sortedcontainers~=2.2 in /Users/work/work-worldmodel2023/venv-mpe/lib/python3.8/site-packages (from portion==2.4.0->minari<0.5.0,>=0.4.1->agilerl) (2.4.0)\n",
      "Requirement already satisfied: click<9.0.0,>=7.1.1 in /Users/work/work-worldmodel2023/venv-mpe/lib/python3.8/site-packages (from typer==0.9.0->typer[all]==0.9.0->minari<0.5.0,>=0.4.1->agilerl) (8.1.7)\n",
      "Requirement already satisfied: colorama<0.5.0,>=0.4.3 in /Users/work/work-worldmodel2023/venv-mpe/lib/python3.8/site-packages (from typer[all]==0.9.0->minari<0.5.0,>=0.4.1->agilerl) (0.4.6)\n",
      "Requirement already satisfied: shellingham<2.0.0,>=1.3.0 in /Users/work/work-worldmodel2023/venv-mpe/lib/python3.8/site-packages (from typer[all]==0.9.0->minari<0.5.0,>=0.4.1->agilerl) (1.5.4)\n",
      "Requirement already satisfied: rich<14.0.0,>=10.11.0 in /Users/work/work-worldmodel2023/venv-mpe/lib/python3.8/site-packages (from typer[all]==0.9.0->minari<0.5.0,>=0.4.1->agilerl) (13.7.0)\n",
      "Requirement already satisfied: cfgv>=2.0.0 in /Users/work/work-worldmodel2023/venv-mpe/lib/python3.8/site-packages (from pre-commit<4.0.0,>=3.4.0->agilerl) (3.4.0)\n",
      "Requirement already satisfied: identify>=1.0.0 in /Users/work/work-worldmodel2023/venv-mpe/lib/python3.8/site-packages (from pre-commit<4.0.0,>=3.4.0->agilerl) (2.5.33)\n",
      "Requirement already satisfied: nodeenv>=0.11.1 in /Users/work/work-worldmodel2023/venv-mpe/lib/python3.8/site-packages (from pre-commit<4.0.0,>=3.4.0->agilerl) (1.8.0)\n",
      "Requirement already satisfied: virtualenv>=20.10.0 in /Users/work/work-worldmodel2023/venv-mpe/lib/python3.8/site-packages (from pre-commit<4.0.0,>=3.4.0->agilerl) (20.25.0)\n",
      "Requirement already satisfied: async-timeout>=4.0.2 in /Users/work/work-worldmodel2023/venv-mpe/lib/python3.8/site-packages (from redis<5.0.0,>=4.4.4->agilerl) (4.0.3)\n",
      "Requirement already satisfied: tinyscaler>=1.2.6 in /Users/work/work-worldmodel2023/venv-mpe/lib/python3.8/site-packages (from SuperSuit<4.0.0,>=3.9.0->agilerl) (1.2.7)\n",
      "Requirement already satisfied: filelock in /Users/work/work-worldmodel2023/venv-mpe/lib/python3.8/site-packages (from torch<3.0.0,>=2.0.1->agilerl) (3.13.1)\n",
      "Requirement already satisfied: sympy in /Users/work/work-worldmodel2023/venv-mpe/lib/python3.8/site-packages (from torch<3.0.0,>=2.0.1->agilerl) (1.12)\n",
      "Requirement already satisfied: networkx in /Users/work/work-worldmodel2023/venv-mpe/lib/python3.8/site-packages (from torch<3.0.0,>=2.0.1->agilerl) (3.1)\n",
      "Requirement already satisfied: jinja2 in /Users/work/work-worldmodel2023/venv-mpe/lib/python3.8/site-packages (from torch<3.0.0,>=2.0.1->agilerl) (3.1.2)\n",
      "Requirement already satisfied: fsspec in /Users/work/work-worldmodel2023/venv-mpe/lib/python3.8/site-packages (from torch<3.0.0,>=2.0.1->agilerl) (2023.12.2)\n",
      "Requirement already satisfied: huggingface-hub<1.0,>=0.19.3 in /Users/work/work-worldmodel2023/venv-mpe/lib/python3.8/site-packages (from transformers<5.0.0,>=4.30.0->agilerl) (0.19.4)\n",
      "Requirement already satisfied: regex!=2019.12.17 in /Users/work/work-worldmodel2023/venv-mpe/lib/python3.8/site-packages (from transformers<5.0.0,>=4.30.0->agilerl) (2023.10.3)\n",
      "Requirement already satisfied: tokenizers<0.19,>=0.14 in /Users/work/work-worldmodel2023/venv-mpe/lib/python3.8/site-packages (from transformers<5.0.0,>=4.30.0->agilerl) (0.15.0)\n",
      "Requirement already satisfied: safetensors>=0.3.1 in /Users/work/work-worldmodel2023/venv-mpe/lib/python3.8/site-packages (from transformers<5.0.0,>=4.30.0->agilerl) (0.4.1)\n",
      "Requirement already satisfied: GitPython!=3.1.29,>=1.0.0 in /Users/work/work-worldmodel2023/venv-mpe/lib/python3.8/site-packages (from wandb<0.14.0,>=0.13.10->agilerl) (3.1.40)\n",
      "Requirement already satisfied: sentry-sdk>=1.0.0 in /Users/work/work-worldmodel2023/venv-mpe/lib/python3.8/site-packages (from wandb<0.14.0,>=0.13.10->agilerl) (1.39.1)\n",
      "Requirement already satisfied: docker-pycreds>=0.4.0 in /Users/work/work-worldmodel2023/venv-mpe/lib/python3.8/site-packages (from wandb<0.14.0,>=0.13.10->agilerl) (0.4.0)\n",
      "Requirement already satisfied: pathtools in /Users/work/work-worldmodel2023/venv-mpe/lib/python3.8/site-packages (from wandb<0.14.0,>=0.13.10->agilerl) (0.1.2)\n",
      "Requirement already satisfied: setproctitle in /Users/work/work-worldmodel2023/venv-mpe/lib/python3.8/site-packages (from wandb<0.14.0,>=0.13.10->agilerl) (1.3.3)\n",
      "Requirement already satisfied: setuptools in /Users/work/work-worldmodel2023/venv-mpe/lib/python3.8/site-packages (from wandb<0.14.0,>=0.13.10->agilerl) (41.2.0)\n",
      "Requirement already satisfied: appdirs>=1.4.3 in /Users/work/work-worldmodel2023/venv-mpe/lib/python3.8/site-packages (from wandb<0.14.0,>=0.13.10->agilerl) (1.4.4)\n",
      "Requirement already satisfied: protobuf!=4.21.0,<5,>=3.19.0 in /Users/work/work-worldmodel2023/venv-mpe/lib/python3.8/site-packages (from wandb<0.14.0,>=0.13.10->agilerl) (4.25.1)\n",
      "Requirement already satisfied: gitdb<5,>=4.0.1 in /Users/work/work-worldmodel2023/venv-mpe/lib/python3.8/site-packages (from GitPython!=3.1.29,>=1.0.0->wandb<0.14.0,>=0.13.10->agilerl) (4.0.11)\n",
      "Requirement already satisfied: zipp>=0.5 in /Users/work/work-worldmodel2023/venv-mpe/lib/python3.8/site-packages (from importlib-metadata>=4.8.0->gymnasium<0.29.0,>=0.28.1->agilerl) (3.17.0)\n",
      "Requirement already satisfied: charset-normalizer<4,>=2 in /Users/work/work-worldmodel2023/venv-mpe/lib/python3.8/site-packages (from requests<3.0.0dev,>=2.18.0->google-cloud-storage==2.5.0->minari<0.5.0,>=0.4.1->agilerl) (3.3.2)\n",
      "Requirement already satisfied: idna<4,>=2.5 in /Users/work/work-worldmodel2023/venv-mpe/lib/python3.8/site-packages (from requests<3.0.0dev,>=2.18.0->google-cloud-storage==2.5.0->minari<0.5.0,>=0.4.1->agilerl) (3.6)\n",
      "Requirement already satisfied: urllib3<3,>=1.21.1 in /Users/work/work-worldmodel2023/venv-mpe/lib/python3.8/site-packages (from requests<3.0.0dev,>=2.18.0->google-cloud-storage==2.5.0->minari<0.5.0,>=0.4.1->agilerl) (2.1.0)\n",
      "Requirement already satisfied: certifi>=2017.4.17 in /Users/work/work-worldmodel2023/venv-mpe/lib/python3.8/site-packages (from requests<3.0.0dev,>=2.18.0->google-cloud-storage==2.5.0->minari<0.5.0,>=0.4.1->agilerl) (2023.11.17)\n",
      "Requirement already satisfied: distlib<1,>=0.3.7 in /Users/work/work-worldmodel2023/venv-mpe/lib/python3.8/site-packages (from virtualenv>=20.10.0->pre-commit<4.0.0,>=3.4.0->agilerl) (0.3.8)\n",
      "Requirement already satisfied: platformdirs<5,>=3.9.1 in /Users/work/work-worldmodel2023/venv-mpe/lib/python3.8/site-packages (from virtualenv>=20.10.0->pre-commit<4.0.0,>=3.4.0->agilerl) (4.1.0)\n",
      "Requirement already satisfied: MarkupSafe>=2.0 in /Users/work/work-worldmodel2023/venv-mpe/lib/python3.8/site-packages (from jinja2->torch<3.0.0,>=2.0.1->agilerl) (2.1.3)\n",
      "Requirement already satisfied: mpmath>=0.19 in /Users/work/work-worldmodel2023/venv-mpe/lib/python3.8/site-packages (from sympy->torch<3.0.0,>=2.0.1->agilerl) (1.3.0)\n",
      "Requirement already satisfied: smmap<6,>=3.0.1 in /Users/work/work-worldmodel2023/venv-mpe/lib/python3.8/site-packages (from gitdb<5,>=4.0.1->GitPython!=3.1.29,>=1.0.0->wandb<0.14.0,>=0.13.10->agilerl) (5.0.1)\n",
      "Requirement already satisfied: googleapis-common-protos<2.0.dev0,>=1.56.2 in /Users/work/work-worldmodel2023/venv-mpe/lib/python3.8/site-packages (from google-api-core!=2.0.*,!=2.1.*,!=2.2.*,!=2.3.0,<3.0.0dev,>=1.31.5->google-cloud-storage==2.5.0->minari<0.5.0,>=0.4.1->agilerl) (1.62.0)\n",
      "Requirement already satisfied: cachetools<6.0,>=2.0.0 in /Users/work/work-worldmodel2023/venv-mpe/lib/python3.8/site-packages (from google-auth<3.0dev,>=1.25.0->google-cloud-storage==2.5.0->minari<0.5.0,>=0.4.1->agilerl) (5.3.2)\n",
      "Requirement already satisfied: pyasn1-modules>=0.2.1 in /Users/work/work-worldmodel2023/venv-mpe/lib/python3.8/site-packages (from google-auth<3.0dev,>=1.25.0->google-cloud-storage==2.5.0->minari<0.5.0,>=0.4.1->agilerl) (0.3.0)\n",
      "Requirement already satisfied: rsa<5,>=3.1.4 in /Users/work/work-worldmodel2023/venv-mpe/lib/python3.8/site-packages (from google-auth<3.0dev,>=1.25.0->google-cloud-storage==2.5.0->minari<0.5.0,>=0.4.1->agilerl) (4.9)\n",
      "Requirement already satisfied: google-crc32c<2.0dev,>=1.0 in /Users/work/work-worldmodel2023/venv-mpe/lib/python3.8/site-packages (from google-resumable-media>=2.3.2->google-cloud-storage==2.5.0->minari<0.5.0,>=0.4.1->agilerl) (1.5.0)\n",
      "Requirement already satisfied: markdown-it-py>=2.2.0 in /Users/work/work-worldmodel2023/venv-mpe/lib/python3.8/site-packages (from rich<14.0.0,>=10.11.0->typer[all]==0.9.0->minari<0.5.0,>=0.4.1->agilerl) (3.0.0)\n",
      "Requirement already satisfied: pygments<3.0.0,>=2.13.0 in /Users/work/work-worldmodel2023/venv-mpe/lib/python3.8/site-packages (from rich<14.0.0,>=10.11.0->typer[all]==0.9.0->minari<0.5.0,>=0.4.1->agilerl) (2.17.2)\n",
      "Requirement already satisfied: mdurl~=0.1 in /Users/work/work-worldmodel2023/venv-mpe/lib/python3.8/site-packages (from markdown-it-py>=2.2.0->rich<14.0.0,>=10.11.0->typer[all]==0.9.0->minari<0.5.0,>=0.4.1->agilerl) (0.1.2)\n",
      "Requirement already satisfied: pyasn1<0.6.0,>=0.4.6 in /Users/work/work-worldmodel2023/venv-mpe/lib/python3.8/site-packages (from pyasn1-modules>=0.2.1->google-auth<3.0dev,>=1.25.0->google-cloud-storage==2.5.0->minari<0.5.0,>=0.4.1->agilerl) (0.5.1)\n",
      "Requirement already satisfied: imageio in /Users/work/work-worldmodel2023/venv-mpe/lib/python3.8/site-packages (2.33.1)\n",
      "Requirement already satisfied: numpy in /Users/work/work-worldmodel2023/venv-mpe/lib/python3.8/site-packages (from imageio) (1.24.4)\n",
      "Requirement already satisfied: pillow>=8.3.2 in /Users/work/work-worldmodel2023/venv-mpe/lib/python3.8/site-packages (from imageio) (10.1.0)\n"
     ]
    }
   ],
   "source": [
    "!pip install pettingzoo[mpe]\n",
    "!pip install agilerl\n",
    "!pip install imageio"
   ]
  },
  {
   "cell_type": "code",
   "execution_count": 3,
   "id": "afb9d627",
   "metadata": {},
   "outputs": [
    {
     "name": "stdout",
     "output_type": "stream",
     "text": [
      "===== AgileRL Online Multi-Agent Demo =====\n"
     ]
    },
    {
     "name": "stderr",
     "output_type": "stream",
     "text": [
      "/Users/work/work-worldmodel2023/venv-mpe/lib/python3.8/site-packages/urllib3/__init__.py:34: NotOpenSSLWarning: urllib3 v2 only supports OpenSSL 1.1.1+, currently the 'ssl' module is compiled with 'LibreSSL 2.8.3'. See: https://github.com/urllib3/urllib3/issues/3020\n",
      "  warnings.warn(\n",
      "/Users/work/work-worldmodel2023/venv-mpe/lib/python3.8/site-packages/tqdm/auto.py:21: TqdmWarning: IProgress not found. Please update jupyter and ipywidgets. See https://ipywidgets.readthedocs.io/en/stable/user_install.html\n",
      "  from .autonotebook import tqdm as notebook_tqdm\n",
      "  0%|▏                                                                                                         | 19/12000 [00:10<1:57:33,  1.70it/s]"
     ]
    },
    {
     "name": "stdout",
     "output_type": "stream",
     "text": [
      "Episode 20/12000\n",
      "Fitnesses: ['-38.52', '-71.39', '-226.08', '-218.68']\n",
      "100 fitness avgs: ['-38.52', '-71.39', '-226.08', '-218.68']\n"
     ]
    },
    {
     "name": "stderr",
     "output_type": "stream",
     "text": [
      "  0%|▎                                                                                                         | 39/12000 [00:21<1:32:59,  2.14it/s]"
     ]
    },
    {
     "name": "stdout",
     "output_type": "stream",
     "text": [
      "Episode 40/12000\n",
      "Fitnesses: ['-59.30', '-72.37', '-199.33', '-40.67']\n",
      "100 fitness avgs: ['-48.91', '-55.44', '-209.00', '-56.03']\n"
     ]
    },
    {
     "name": "stderr",
     "output_type": "stream",
     "text": [
      "  0%|▌                                                                                                         | 59/12000 [00:32<2:03:43,  1.61it/s]"
     ]
    },
    {
     "name": "stdout",
     "output_type": "stream",
     "text": [
      "Episode 60/12000\n",
      "Fitnesses: ['-249.93', '-61.57', '-0.38', '-85.38']\n",
      "100 fitness avgs: ['-120.66', '-53.13', '-32.73', '-65.82']\n"
     ]
    },
    {
     "name": "stderr",
     "output_type": "stream",
     "text": [
      "  1%|▋                                                                                                         | 79/12000 [00:41<1:21:38,  2.43it/s]"
     ]
    },
    {
     "name": "stdout",
     "output_type": "stream",
     "text": [
      "Episode 80/12000\n",
      "Fitnesses: ['-10.64', '-101.02', '-99.07', '-71.83']\n",
      "100 fitness avgs: ['-27.21', '-65.10', '-74.13', '-42.51']\n"
     ]
    },
    {
     "name": "stderr",
     "output_type": "stream",
     "text": [
      "  1%|▊                                                                                                         | 99/12000 [00:47<1:03:41,  3.11it/s]"
     ]
    },
    {
     "name": "stdout",
     "output_type": "stream",
     "text": [
      "Episode 100/12000\n",
      "Fitnesses: ['-67.12', '-118.78', '-152.39', '-53.18']\n",
      "100 fitness avgs: ['-35.19', '-57.76', '-89.78', '-69.94']\n"
     ]
    },
    {
     "name": "stderr",
     "output_type": "stream",
     "text": [
      "  1%|█                                                                                                          | 119/12000 [00:53<54:43,  3.62it/s]"
     ]
    },
    {
     "name": "stdout",
     "output_type": "stream",
     "text": [
      "Episode 120/12000\n",
      "Fitnesses: ['-76.76', '-51.79', '-21.51', '-118.51']\n",
      "100 fitness avgs: ['-71.08', '-66.91', '-51.72', '-49.08']\n"
     ]
    },
    {
     "name": "stderr",
     "output_type": "stream",
     "text": [
      "  1%|█▏                                                                                                       | 139/12000 [00:59<1:01:41,  3.20it/s]"
     ]
    },
    {
     "name": "stdout",
     "output_type": "stream",
     "text": [
      "Episode 140/12000\n",
      "Fitnesses: ['-12.07', '-39.22', '-41.28', '-33.55']\n",
      "100 fitness avgs: ['-46.06', '-49.94', '-63.25', '-49.12']\n"
     ]
    },
    {
     "name": "stderr",
     "output_type": "stream",
     "text": [
      "  1%|█▍                                                                                                       | 159/12000 [01:07<1:16:30,  2.58it/s]"
     ]
    },
    {
     "name": "stdout",
     "output_type": "stream",
     "text": [
      "Episode 160/12000\n",
      "Fitnesses: ['-8.44', '-13.85', '-54.77', '-20.08']\n",
      "100 fitness avgs: ['-41.35', '-45.43', '-47.15', '-42.81']\n"
     ]
    },
    {
     "name": "stderr",
     "output_type": "stream",
     "text": [
      "  1%|█▌                                                                                                       | 179/12000 [01:14<1:13:14,  2.69it/s]"
     ]
    },
    {
     "name": "stdout",
     "output_type": "stream",
     "text": [
      "Episode 180/12000\n",
      "Fitnesses: ['-60.60', '-46.75', '-27.28', '-33.38']\n",
      "100 fitness avgs: ['-43.49', '-41.95', '-43.41', '-40.47']\n"
     ]
    },
    {
     "name": "stderr",
     "output_type": "stream",
     "text": [
      "  2%|█▋                                                                                                       | 199/12000 [01:23<1:19:40,  2.47it/s]"
     ]
    },
    {
     "name": "stdout",
     "output_type": "stream",
     "text": [
      "Episode 200/12000\n",
      "Fitnesses: ['-14.73', '-19.47', '-18.25', '-50.36']\n",
      "100 fitness avgs: ['-40.54', '-41.02', '-38.25', '-42.79']\n"
     ]
    },
    {
     "name": "stderr",
     "output_type": "stream",
     "text": [
      "  2%|█▉                                                                                                       | 219/12000 [01:31<1:17:50,  2.52it/s]"
     ]
    },
    {
     "name": "stdout",
     "output_type": "stream",
     "text": [
      "Episode 220/12000\n",
      "Fitnesses: ['-39.72', '-50.44', '-25.39', '-12.33']\n",
      "100 fitness avgs: ['-40.47', '-41.87', '-41.21', '-38.41']\n"
     ]
    },
    {
     "name": "stderr",
     "output_type": "stream",
     "text": [
      "  2%|██                                                                                                       | 239/12000 [01:38<1:10:07,  2.80it/s]"
     ]
    },
    {
     "name": "stdout",
     "output_type": "stream",
     "text": [
      "Episode 240/12000\n",
      "Fitnesses: ['-64.89', '-20.64', '-7.94', '-70.32']\n",
      "100 fitness avgs: ['-40.61', '-36.93', '-35.87', '-43.64']\n"
     ]
    },
    {
     "name": "stderr",
     "output_type": "stream",
     "text": [
      "  2%|██▎                                                                                                      | 259/12000 [01:46<1:06:47,  2.93it/s]"
     ]
    },
    {
     "name": "stdout",
     "output_type": "stream",
     "text": [
      "Episode 260/12000\n",
      "Fitnesses: ['-37.80', '-28.85', '-45.83', '-41.94']\n",
      "100 fitness avgs: ['-36.02', '-36.31', '-36.63', '-36.34']\n"
     ]
    },
    {
     "name": "stderr",
     "output_type": "stream",
     "text": [
      "  2%|██▍                                                                                                      | 279/12000 [01:53<1:08:55,  2.83it/s]"
     ]
    },
    {
     "name": "stdout",
     "output_type": "stream",
     "text": [
      "Episode 280/12000\n",
      "Fitnesses: ['-10.98', '-45.96', '-10.88', '-39.50']\n",
      "100 fitness avgs: ['-34.50', '-37.02', '-34.49', '-36.27']\n"
     ]
    },
    {
     "name": "stderr",
     "output_type": "stream",
     "text": [
      "  2%|██▌                                                                                                      | 299/12000 [02:00<1:05:58,  2.96it/s]"
     ]
    },
    {
     "name": "stdout",
     "output_type": "stream",
     "text": [
      "Episode 300/12000\n",
      "Fitnesses: ['-14.49', '-32.80', '-8.58', '-37.09']\n",
      "100 fitness avgs: ['-33.16', '-34.38', '-32.76', '-34.66']\n"
     ]
    },
    {
     "name": "stderr",
     "output_type": "stream",
     "text": [
      "  3%|██▊                                                                                                      | 319/12000 [02:07<1:02:54,  3.09it/s]"
     ]
    },
    {
     "name": "stdout",
     "output_type": "stream",
     "text": [
      "Episode 320/12000\n",
      "Fitnesses: ['-29.43', '-41.35', '-39.26', '-37.47']\n",
      "100 fitness avgs: ['-32.55', '-33.67', '-34.68', '-33.43']\n"
     ]
    },
    {
     "name": "stderr",
     "output_type": "stream",
     "text": [
      "  3%|██▉                                                                                                      | 339/12000 [02:13<1:00:35,  3.21it/s]"
     ]
    },
    {
     "name": "stdout",
     "output_type": "stream",
     "text": [
      "Episode 340/12000\n",
      "Fitnesses: ['-13.84', '-11.72', '-23.06', '-25.34']\n",
      "100 fitness avgs: ['-31.45', '-31.33', '-32.82', '-32.95']\n"
     ]
    },
    {
     "name": "stderr",
     "output_type": "stream",
     "text": [
      "  3%|███▏                                                                                                       | 359/12000 [02:20<56:54,  3.41it/s]"
     ]
    },
    {
     "name": "stdout",
     "output_type": "stream",
     "text": [
      "Episode 360/12000\n",
      "Fitnesses: ['-17.06', '-22.87', '-32.03', '-22.63']\n",
      "100 fitness avgs: ['-30.54', '-30.98', '-32.77', '-32.25']\n"
     ]
    },
    {
     "name": "stderr",
     "output_type": "stream",
     "text": [
      "  3%|███▍                                                                                                       | 379/12000 [02:25<50:34,  3.83it/s]"
     ]
    },
    {
     "name": "stdout",
     "output_type": "stream",
     "text": [
      "Episode 380/12000\n",
      "Fitnesses: ['-21.25', '-53.23', '-38.65', '-24.24']\n",
      "100 fitness avgs: ['-30.05', '-31.73', '-30.96', '-30.62']\n"
     ]
    },
    {
     "name": "stderr",
     "output_type": "stream",
     "text": [
      "  3%|███▌                                                                                                       | 399/12000 [02:31<51:22,  3.76it/s]"
     ]
    },
    {
     "name": "stdout",
     "output_type": "stream",
     "text": [
      "Episode 400/12000\n",
      "Fitnesses: ['-49.70', '-29.93', '-32.95', '-8.10']\n",
      "100 fitness avgs: ['-31.03', '-30.04', '-31.06', '-28.95']\n"
     ]
    },
    {
     "name": "stderr",
     "output_type": "stream",
     "text": [
      "  3%|███▋                                                                                                       | 419/12000 [02:36<50:44,  3.80it/s]"
     ]
    },
    {
     "name": "stdout",
     "output_type": "stream",
     "text": [
      "Episode 420/12000\n",
      "Fitnesses: ['-1.68', '-39.30', '-12.75', '-26.48']\n",
      "100 fitness avgs: ['-27.65', '-31.45', '-29.22', '-30.81']\n"
     ]
    },
    {
     "name": "stderr",
     "output_type": "stream",
     "text": [
      "  4%|███▉                                                                                                       | 439/12000 [02:42<44:59,  4.28it/s]"
     ]
    },
    {
     "name": "stdout",
     "output_type": "stream",
     "text": [
      "Episode 440/12000\n",
      "Fitnesses: ['-45.80', '-12.04', '-41.06', '-88.81']\n",
      "100 fitness avgs: ['-28.48', '-28.44', '-31.28', '-30.43']\n"
     ]
    },
    {
     "name": "stderr",
     "output_type": "stream",
     "text": [
      "  4%|████                                                                                                       | 459/12000 [02:47<46:30,  4.14it/s]"
     ]
    },
    {
     "name": "stdout",
     "output_type": "stream",
     "text": [
      "Episode 460/12000\n",
      "Fitnesses: ['-6.90', '-22.06', '-54.08', '-115.02']\n",
      "100 fitness avgs: ['-27.50', '-28.16', '-29.55', '-32.20']\n"
     ]
    },
    {
     "name": "stderr",
     "output_type": "stream",
     "text": [
      "  4%|████▎                                                                                                      | 479/12000 [02:52<51:55,  3.70it/s]"
     ]
    },
    {
     "name": "stdout",
     "output_type": "stream",
     "text": [
      "Episode 480/12000\n",
      "Fitnesses: ['-8.86', '-12.51', '-1.94', '-34.02']\n",
      "100 fitness avgs: ['-26.72', '-27.51', '-26.44', '-27.77']\n"
     ]
    },
    {
     "name": "stderr",
     "output_type": "stream",
     "text": [
      "  4%|████▍                                                                                                      | 499/12000 [02:58<51:11,  3.74it/s]"
     ]
    },
    {
     "name": "stdout",
     "output_type": "stream",
     "text": [
      "Episode 500/12000\n",
      "Fitnesses: ['-17.12', '-8.04', '-82.77', '-25.81']\n",
      "100 fitness avgs: ['-26.06', '-26.73', '-29.72', '-27.44']\n"
     ]
    },
    {
     "name": "stderr",
     "output_type": "stream",
     "text": [
      "  4%|████▋                                                                                                      | 519/12000 [03:03<51:16,  3.73it/s]"
     ]
    },
    {
     "name": "stdout",
     "output_type": "stream",
     "text": [
      "Episode 520/12000\n",
      "Fitnesses: ['-62.60', '-25.00', '-24.77', '-19.91']\n",
      "100 fitness avgs: ['-28.11', '-26.66', '-27.34', '-27.15']\n"
     ]
    },
    {
     "name": "stderr",
     "output_type": "stream",
     "text": [
      "  4%|████▋                                                                                                    | 539/12000 [03:10<1:03:28,  3.01it/s]"
     ]
    },
    {
     "name": "stdout",
     "output_type": "stream",
     "text": [
      "Episode 540/12000\n",
      "Fitnesses: ['-46.37', '-101.62', '-13.93', '-9.73']\n",
      "100 fitness avgs: ['-27.86', '-30.09', '-26.66', '-27.43']\n"
     ]
    },
    {
     "name": "stderr",
     "output_type": "stream",
     "text": [
      "  5%|████▉                                                                                                    | 559/12000 [03:17<1:04:47,  2.94it/s]"
     ]
    },
    {
     "name": "stdout",
     "output_type": "stream",
     "text": [
      "Episode 560/12000\n",
      "Fitnesses: ['-41.69', '-10.25', '-100.20', '-17.73']\n",
      "100 fitness avgs: ['-27.94', '-29.38', '-30.45', '-27.50']\n"
     ]
    },
    {
     "name": "stderr",
     "output_type": "stream",
     "text": [
      "  5%|█████                                                                                                    | 579/12000 [03:24<1:01:52,  3.08it/s]"
     ]
    },
    {
     "name": "stdout",
     "output_type": "stream",
     "text": [
      "Episode 580/12000\n",
      "Fitnesses: ['-13.68', '-6.15', '-80.61', '-23.17']\n",
      "100 fitness avgs: ['-28.84', '-26.76', '-29.75', '-27.35']\n"
     ]
    },
    {
     "name": "stderr",
     "output_type": "stream",
     "text": [
      "  5%|█████▎                                                                                                     | 599/12000 [03:30<59:52,  3.17it/s]"
     ]
    },
    {
     "name": "stdout",
     "output_type": "stream",
     "text": [
      "Episode 600/12000\n",
      "Fitnesses: ['-16.05', '-28.78', '-51.19', '-32.35']\n",
      "100 fitness avgs: ['-26.41', '-28.84', '-29.58', '-26.95']\n"
     ]
    },
    {
     "name": "stderr",
     "output_type": "stream",
     "text": [
      "  5%|█████▌                                                                                                     | 619/12000 [03:36<54:37,  3.47it/s]"
     ]
    },
    {
     "name": "stdout",
     "output_type": "stream",
     "text": [
      "Episode 620/12000\n",
      "Fitnesses: ['-5.58', '-12.91', '-25.45', '-38.51']\n",
      "100 fitness avgs: ['-25.74', '-28.32', '-28.73', '-26.80']\n"
     ]
    },
    {
     "name": "stderr",
     "output_type": "stream",
     "text": [
      "  5%|█████▋                                                                                                     | 639/12000 [03:42<48:43,  3.89it/s]"
     ]
    },
    {
     "name": "stdout",
     "output_type": "stream",
     "text": [
      "Episode 640/12000\n",
      "Fitnesses: ['-29.39', '-85.15', '-34.15', '-4.29']\n",
      "100 fitness avgs: ['-25.85', '-30.10', '-28.51', '-27.57']\n"
     ]
    },
    {
     "name": "stderr",
     "output_type": "stream",
     "text": [
      "  5%|█████▉                                                                                                     | 659/12000 [03:48<50:43,  3.73it/s]"
     ]
    },
    {
     "name": "stdout",
     "output_type": "stream",
     "text": [
      "Episode 660/12000\n",
      "Fitnesses: ['-21.44', '-27.99', '-6.43', '-52.45']\n",
      "100 fitness avgs: ['-27.39', '-25.91', '-29.38', '-29.23']\n"
     ]
    },
    {
     "name": "stderr",
     "output_type": "stream",
     "text": [
      "  6%|██████                                                                                                     | 679/12000 [03:55<59:25,  3.17it/s]"
     ]
    },
    {
     "name": "stdout",
     "output_type": "stream",
     "text": [
      "Episode 680/12000\n",
      "Fitnesses: ['-33.30', '-51.91', '-44.30', '-18.34']\n",
      "100 fitness avgs: ['-29.50', '-26.68', '-29.82', '-25.69']\n"
     ]
    },
    {
     "name": "stderr",
     "output_type": "stream",
     "text": [
      "  6%|██████▏                                                                                                    | 699/12000 [04:01<54:41,  3.44it/s]"
     ]
    },
    {
     "name": "stdout",
     "output_type": "stream",
     "text": [
      "Episode 700/12000\n",
      "Fitnesses: ['-25.78', '-2.10', '-23.60', '-2.76']\n",
      "100 fitness avgs: ['-25.69', '-28.71', '-25.63', '-25.04']\n"
     ]
    },
    {
     "name": "stderr",
     "output_type": "stream",
     "text": [
      "  6%|██████▍                                                                                                    | 719/12000 [04:07<52:30,  3.58it/s]"
     ]
    },
    {
     "name": "stdout",
     "output_type": "stream",
     "text": [
      "Episode 720/12000\n",
      "Fitnesses: ['-32.64', '-19.51', '-22.52', '-4.69']\n",
      "100 fitness avgs: ['-28.82', '-28.46', '-25.55', '-28.05']\n"
     ]
    },
    {
     "name": "stderr",
     "output_type": "stream",
     "text": [
      "  6%|██████▌                                                                                                    | 739/12000 [04:12<36:40,  5.12it/s]"
     ]
    },
    {
     "name": "stdout",
     "output_type": "stream",
     "text": [
      "Episode 740/12000\n",
      "Fitnesses: ['-19.66', '-5.75', '-48.22', '-23.66']\n",
      "100 fitness avgs: ['-27.82', '-27.44', '-28.59', '-28.68']\n"
     ]
    },
    {
     "name": "stderr",
     "output_type": "stream",
     "text": [
      "  6%|██████▊                                                                                                    | 759/12000 [04:16<41:53,  4.47it/s]"
     ]
    },
    {
     "name": "stdout",
     "output_type": "stream",
     "text": [
      "Episode 760/12000\n",
      "Fitnesses: ['-18.68', '-46.40', '-30.61', '-20.07']\n",
      "100 fitness avgs: ['-27.21', '-27.94', '-27.53', '-27.25']\n"
     ]
    },
    {
     "name": "stderr",
     "output_type": "stream",
     "text": [
      "  6%|██████▉                                                                                                    | 779/12000 [04:21<40:43,  4.59it/s]"
     ]
    },
    {
     "name": "stdout",
     "output_type": "stream",
     "text": [
      "Episode 780/12000\n",
      "Fitnesses: ['-18.66', '-29.64', '-30.25', '-23.49']\n",
      "100 fitness avgs: ['-26.99', '-27.31', '-27.29', '-27.15']\n"
     ]
    },
    {
     "name": "stderr",
     "output_type": "stream",
     "text": [
      "  7%|███████                                                                                                    | 799/12000 [04:25<39:31,  4.72it/s]"
     ]
    },
    {
     "name": "stdout",
     "output_type": "stream",
     "text": [
      "Episode 800/12000\n",
      "Fitnesses: ['-47.11', '-20.11', '-19.01', '-32.62']\n",
      "100 fitness avgs: ['-27.50', '-26.82', '-27.10', '-27.13']\n"
     ]
    },
    {
     "name": "stderr",
     "output_type": "stream",
     "text": [
      "  7%|███████▎                                                                                                   | 819/12000 [04:30<42:12,  4.41it/s]"
     ]
    },
    {
     "name": "stdout",
     "output_type": "stream",
     "text": [
      "Episode 820/12000\n",
      "Fitnesses: ['-36.70', '-58.69', '-9.94', '-38.00']\n",
      "100 fitness avgs: ['-27.34', '-27.90', '-26.69', '-27.37']\n"
     ]
    },
    {
     "name": "stderr",
     "output_type": "stream",
     "text": [
      "  7%|███████▍                                                                                                   | 839/12000 [04:35<44:04,  4.22it/s]"
     ]
    },
    {
     "name": "stdout",
     "output_type": "stream",
     "text": [
      "Episode 840/12000\n",
      "Fitnesses: ['-19.77', '-30.54', '-6.66', '-120.11']\n",
      "100 fitness avgs: ['-26.52', '-27.45', '-26.21', '-29.55']\n"
     ]
    },
    {
     "name": "stderr",
     "output_type": "stream",
     "text": [
      "  7%|███████▋                                                                                                   | 859/12000 [04:40<39:31,  4.70it/s]"
     ]
    },
    {
     "name": "stdout",
     "output_type": "stream",
     "text": [
      "Episode 860/12000\n",
      "Fitnesses: ['-106.69', '-36.96', '-37.57', '-37.66']\n",
      "100 fitness avgs: ['-28.08', '-26.76', '-26.47', '-26.78']\n"
     ]
    },
    {
     "name": "stderr",
     "output_type": "stream",
     "text": [
      "  7%|███████▊                                                                                                   | 879/12000 [04:45<40:35,  4.57it/s]"
     ]
    },
    {
     "name": "stdout",
     "output_type": "stream",
     "text": [
      "Episode 880/12000\n",
      "Fitnesses: ['-28.25', '-6.01', '-31.38', '-37.46']\n",
      "100 fitness avgs: ['-26.80', '-26.29', '-26.58', '-27.01']\n"
     ]
    },
    {
     "name": "stderr",
     "output_type": "stream",
     "text": [
      "  7%|████████                                                                                                   | 899/12000 [04:50<42:51,  4.32it/s]"
     ]
    },
    {
     "name": "stdout",
     "output_type": "stream",
     "text": [
      "Episode 900/12000\n",
      "Fitnesses: ['-33.83', '-106.20', '-16.79', '-45.94']\n",
      "100 fitness avgs: ['-26.46', '-28.56', '-26.08', '-27.01']\n"
     ]
    },
    {
     "name": "stderr",
     "output_type": "stream",
     "text": [
      "  8%|████████▏                                                                                                  | 919/12000 [04:55<47:57,  3.85it/s]"
     ]
    },
    {
     "name": "stdout",
     "output_type": "stream",
     "text": [
      "Episode 920/12000\n",
      "Fitnesses: ['-42.71', '-91.14', '-85.02', '-26.27']\n",
      "100 fitness avgs: ['-26.44', '-27.50', '-27.36', '-27.00']\n"
     ]
    },
    {
     "name": "stderr",
     "output_type": "stream",
     "text": [
      "  8%|████████▎                                                                                                  | 939/12000 [05:00<46:35,  3.96it/s]"
     ]
    },
    {
     "name": "stdout",
     "output_type": "stream",
     "text": [
      "Episode 940/12000\n",
      "Fitnesses: ['-16.59', '-35.56', '-33.66', '-8.94']\n",
      "100 fitness avgs: ['-26.78', '-27.18', '-26.60', '-26.07']\n"
     ]
    },
    {
     "name": "stderr",
     "output_type": "stream",
     "text": [
      "  8%|████████▌                                                                                                  | 959/12000 [05:06<53:47,  3.42it/s]"
     ]
    },
    {
     "name": "stdout",
     "output_type": "stream",
     "text": [
      "Episode 960/12000\n",
      "Fitnesses: ['-10.97', '-39.21', '-18.27', '-15.56']\n",
      "100 fitness avgs: ['-25.76', '-26.34', '-25.91', '-26.54']\n"
     ]
    },
    {
     "name": "stderr",
     "output_type": "stream",
     "text": [
      "  8%|████████▋                                                                                                  | 979/12000 [05:13<57:17,  3.21it/s]"
     ]
    },
    {
     "name": "stdout",
     "output_type": "stream",
     "text": [
      "Episode 980/12000\n",
      "Fitnesses: ['-15.96', '-11.96', '-4.87', '-29.40']\n",
      "100 fitness avgs: ['-25.56', '-26.25', '-25.91', '-26.60']\n"
     ]
    },
    {
     "name": "stderr",
     "output_type": "stream",
     "text": [
      "  8%|████████▉                                                                                                  | 999/12000 [05:19<49:02,  3.74it/s]"
     ]
    },
    {
     "name": "stdout",
     "output_type": "stream",
     "text": [
      "Episode 1000/12000\n",
      "Fitnesses: ['-40.09', '-136.21', '-14.04', '-16.51']\n",
      "100 fitness avgs: ['-26.19', '-28.11', '-26.35', '-26.40']\n"
     ]
    },
    {
     "name": "stderr",
     "output_type": "stream",
     "text": [
      "  8%|█████████                                                                                                 | 1019/12000 [05:24<41:54,  4.37it/s]"
     ]
    },
    {
     "name": "stdout",
     "output_type": "stream",
     "text": [
      "Episode 1020/12000\n",
      "Fitnesses: ['-23.18', '-45.25', '-5.92', '-6.72']\n",
      "100 fitness avgs: ['-26.29', '-26.72', '-25.95', '-26.01']\n"
     ]
    },
    {
     "name": "stderr",
     "output_type": "stream",
     "text": [
      "  9%|█████████▏                                                                                                | 1039/12000 [05:30<47:15,  3.87it/s]"
     ]
    },
    {
     "name": "stdout",
     "output_type": "stream",
     "text": [
      "Episode 1040/12000\n",
      "Fitnesses: ['-12.74', '-31.66', '-147.80', '-249.61']\n",
      "100 fitness avgs: ['-25.70', '-26.06', '-28.62', '-30.25']\n"
     ]
    },
    {
     "name": "stderr",
     "output_type": "stream",
     "text": [
      "  9%|█████████▎                                                                                                | 1059/12000 [05:36<48:38,  3.75it/s]"
     ]
    },
    {
     "name": "stdout",
     "output_type": "stream",
     "text": [
      "Episode 1060/12000\n",
      "Fitnesses: ['-32.67', '-20.35', '-5.92', '-38.65']\n",
      "100 fitness avgs: ['-25.83', '-25.59', '-25.68', '-25.94']\n"
     ]
    },
    {
     "name": "stderr",
     "output_type": "stream",
     "text": [
      "  9%|█████████▌                                                                                                | 1079/12000 [05:41<50:23,  3.61it/s]"
     ]
    },
    {
     "name": "stdout",
     "output_type": "stream",
     "text": [
      "Episode 1080/12000\n",
      "Fitnesses: ['-14.57', '-3.27', '-0.93', '-146.87']\n",
      "100 fitness avgs: ['-25.47', '-25.18', '-25.22', '-27.92']\n"
     ]
    },
    {
     "name": "stderr",
     "output_type": "stream",
     "text": [
      "  9%|█████████▋                                                                                                | 1099/12000 [05:48<57:50,  3.14it/s]"
     ]
    },
    {
     "name": "stdout",
     "output_type": "stream",
     "text": [
      "Episode 1100/12000\n",
      "Fitnesses: ['-21.72', '-61.09', '-58.36', '-40.90']\n",
      "100 fitness avgs: ['-25.16', '-25.83', '-25.82', '-25.47']\n"
     ]
    },
    {
     "name": "stderr",
     "output_type": "stream",
     "text": [
      "  9%|█████████▉                                                                                                | 1119/12000 [05:55<55:50,  3.25it/s]"
     ]
    },
    {
     "name": "stdout",
     "output_type": "stream",
     "text": [
      "Episode 1120/12000\n",
      "Fitnesses: ['-48.94', '-60.03', '-42.45', '-38.24']\n",
      "100 fitness avgs: ['-25.58', '-26.08', '-25.47', '-25.39']\n"
     ]
    },
    {
     "name": "stderr",
     "output_type": "stream",
     "text": [
      "  9%|█████████▊                                                                                              | 1139/12000 [06:02<1:06:03,  2.74it/s]"
     ]
    },
    {
     "name": "stdout",
     "output_type": "stream",
     "text": [
      "Episode 1140/12000\n",
      "Fitnesses: ['-48.51', '-36.94', '-80.71', '-10.18']\n",
      "100 fitness avgs: ['-25.80', '-25.59', '-26.44', '-25.20']\n"
     ]
    },
    {
     "name": "stderr",
     "output_type": "stream",
     "text": [
      " 10%|██████████                                                                                              | 1159/12000 [06:10<1:04:51,  2.79it/s]"
     ]
    },
    {
     "name": "stdout",
     "output_type": "stream",
     "text": [
      "Episode 1160/12000\n",
      "Fitnesses: ['-57.99', '-16.45', '-4.30', '-6.41']\n",
      "100 fitness avgs: ['-25.76', '-25.64', '-24.84', '-24.87']\n"
     ]
    },
    {
     "name": "stderr",
     "output_type": "stream",
     "text": [
      " 10%|██████████▍                                                                                               | 1179/12000 [06:16<52:02,  3.47it/s]"
     ]
    },
    {
     "name": "stdout",
     "output_type": "stream",
     "text": [
      "Episode 1180/12000\n",
      "Fitnesses: ['-16.24', '-12.07', '-26.38', '-35.61']\n",
      "100 fitness avgs: ['-24.69', '-24.62', '-24.86', '-25.80']\n"
     ]
    },
    {
     "name": "stderr",
     "output_type": "stream",
     "text": [
      " 10%|██████████▌                                                                                               | 1199/12000 [06:22<52:48,  3.41it/s]"
     ]
    },
    {
     "name": "stdout",
     "output_type": "stream",
     "text": [
      "Episode 1200/12000\n",
      "Fitnesses: ['-15.21', '-73.79', '-25.77', '-45.90']\n",
      "100 fitness avgs: ['-24.46', '-25.44', '-24.64', '-25.05']\n"
     ]
    },
    {
     "name": "stderr",
     "output_type": "stream",
     "text": [
      " 10%|██████████▊                                                                                               | 1219/12000 [06:28<49:08,  3.66it/s]"
     ]
    },
    {
     "name": "stdout",
     "output_type": "stream",
     "text": [
      "Episode 1220/12000\n",
      "Fitnesses: ['-16.48', '-32.43', '-379.20', '-50.08']\n",
      "100 fitness avgs: ['-24.33', '-24.60', '-30.45', '-24.88']\n"
     ]
    },
    {
     "name": "stderr",
     "output_type": "stream",
     "text": [
      " 10%|██████████▉                                                                                               | 1239/12000 [06:34<48:48,  3.67it/s]"
     ]
    },
    {
     "name": "stdout",
     "output_type": "stream",
     "text": [
      "Episode 1240/12000\n",
      "Fitnesses: ['-16.37', '-112.00', '-9.72', '-150.62']\n",
      "100 fitness avgs: ['-24.21', '-31.77', '-24.10', '-26.63']\n"
     ]
    },
    {
     "name": "stderr",
     "output_type": "stream",
     "text": [
      " 10%|███████████                                                                                               | 1259/12000 [06:39<41:30,  4.31it/s]"
     ]
    },
    {
     "name": "stdout",
     "output_type": "stream",
     "text": [
      "Episode 1260/12000\n",
      "Fitnesses: ['-17.95', '-5.63', '-34.27', '-38.88']\n",
      "100 fitness avgs: ['-24.00', '-31.35', '-24.37', '-24.44']\n"
     ]
    },
    {
     "name": "stderr",
     "output_type": "stream",
     "text": [
      " 11%|███████████▎                                                                                              | 1279/12000 [06:44<38:59,  4.58it/s]"
     ]
    },
    {
     "name": "stdout",
     "output_type": "stream",
     "text": [
      "Episode 1280/12000\n",
      "Fitnesses: ['-14.26', '-132.64', '-10.19', '-47.36']\n",
      "100 fitness avgs: ['-31.09', '-32.94', '-23.78', '-24.72']\n"
     ]
    },
    {
     "name": "stderr",
     "output_type": "stream",
     "text": [
      " 11%|███████████▍                                                                                              | 1299/12000 [06:48<35:30,  5.02it/s]"
     ]
    },
    {
     "name": "stdout",
     "output_type": "stream",
     "text": [
      "Episode 1300/12000\n",
      "Fitnesses: ['-8.35', '-20.43', '-9.58', '-20.24']\n",
      "100 fitness avgs: ['-23.55', '-24.66', '-30.76', '-30.92']\n"
     ]
    },
    {
     "name": "stderr",
     "output_type": "stream",
     "text": [
      " 11%|███████████▋                                                                                              | 1319/12000 [06:53<37:11,  4.79it/s]"
     ]
    },
    {
     "name": "stdout",
     "output_type": "stream",
     "text": [
      "Episode 1320/12000\n",
      "Fitnesses: ['-52.14', '-74.98', '-34.21', '-22.18']\n",
      "100 fitness avgs: ['-23.98', '-25.42', '-23.71', '-23.53']\n"
     ]
    },
    {
     "name": "stderr",
     "output_type": "stream",
     "text": [
      " 11%|███████████▊                                                                                              | 1339/12000 [06:58<39:35,  4.49it/s]"
     ]
    },
    {
     "name": "stdout",
     "output_type": "stream",
     "text": [
      "Episode 1340/12000\n",
      "Fitnesses: ['-31.21', '-14.14', '-9.73', '-3.94']\n",
      "100 fitness avgs: ['-23.64', '-23.39', '-23.50', '-23.23']\n"
     ]
    },
    {
     "name": "stderr",
     "output_type": "stream",
     "text": [
      " 11%|████████████                                                                                              | 1359/12000 [07:03<39:56,  4.44it/s]"
     ]
    },
    {
     "name": "stdout",
     "output_type": "stream",
     "text": [
      "Episode 1360/12000\n",
      "Fitnesses: ['-16.15', '-15.79', '-48.19', '-62.77']\n",
      "100 fitness avgs: ['-23.13', '-23.12', '-23.86', '-24.08']\n"
     ]
    },
    {
     "name": "stderr",
     "output_type": "stream",
     "text": [
      " 11%|████████████▏                                                                                             | 1379/12000 [07:09<45:19,  3.90it/s]"
     ]
    },
    {
     "name": "stdout",
     "output_type": "stream",
     "text": [
      "Episode 1380/12000\n",
      "Fitnesses: ['-12.69', '-605.91', '-28.89', '-11.58']\n",
      "100 fitness avgs: ['-22.97', '-31.57', '-23.94', '-22.96']\n"
     ]
    },
    {
     "name": "stderr",
     "output_type": "stream",
     "text": [
      " 12%|████████████▎                                                                                             | 1399/12000 [07:15<48:51,  3.62it/s]"
     ]
    },
    {
     "name": "stdout",
     "output_type": "stream",
     "text": [
      "Episode 1400/12000\n",
      "Fitnesses: ['-6.48', '-13.53', '-29.99', '-37.16']\n",
      "100 fitness avgs: ['-22.73', '-22.84', '-24.02', '-23.17']\n"
     ]
    },
    {
     "name": "stderr",
     "output_type": "stream",
     "text": [
      " 12%|████████████▌                                                                                             | 1419/12000 [07:21<50:55,  3.46it/s]"
     ]
    },
    {
     "name": "stdout",
     "output_type": "stream",
     "text": [
      "Episode 1420/12000\n",
      "Fitnesses: ['-127.44', '-90.61', '-61.61', '-60.00']\n",
      "100 fitness avgs: ['-24.20', '-23.68', '-23.28', '-23.25']\n"
     ]
    },
    {
     "name": "stderr",
     "output_type": "stream",
     "text": [
      " 12%|████████████▋                                                                                             | 1439/12000 [07:27<47:38,  3.70it/s]"
     ]
    },
    {
     "name": "stdout",
     "output_type": "stream",
     "text": [
      "Episode 1440/12000\n",
      "Fitnesses: ['-34.41', '-174.30', '-25.98', '-27.78']\n",
      "100 fitness avgs: ['-23.41', '-25.35', '-23.29', '-24.25']\n"
     ]
    },
    {
     "name": "stderr",
     "output_type": "stream",
     "text": [
      " 12%|████████████▉                                                                                             | 1459/12000 [07:33<49:40,  3.54it/s]"
     ]
    },
    {
     "name": "stdout",
     "output_type": "stream",
     "text": [
      "Episode 1460/12000\n",
      "Fitnesses: ['-32.53', '-162.82', '-60.53', '-13.28']\n",
      "100 fitness avgs: ['-23.42', '-25.20', '-23.80', '-24.10']\n"
     ]
    },
    {
     "name": "stderr",
     "output_type": "stream",
     "text": [
      " 12%|█████████████                                                                                             | 1479/12000 [07:39<46:45,  3.75it/s]"
     ]
    },
    {
     "name": "stdout",
     "output_type": "stream",
     "text": [
      "Episode 1480/12000\n",
      "Fitnesses: ['-80.89', '-28.18', '-26.21', '-68.47']\n",
      "100 fitness avgs: ['-24.87', '-24.16', '-24.13', '-24.70']\n"
     ]
    },
    {
     "name": "stderr",
     "output_type": "stream",
     "text": [
      " 12%|█████████████▏                                                                                            | 1499/12000 [07:45<42:01,  4.16it/s]"
     ]
    },
    {
     "name": "stdout",
     "output_type": "stream",
     "text": [
      "Episode 1500/12000\n",
      "Fitnesses: ['-28.41', '-50.10', '-22.09', '-122.41']\n",
      "100 fitness avgs: ['-24.19', '-25.21', '-24.83', '-25.44']\n"
     ]
    },
    {
     "name": "stderr",
     "output_type": "stream",
     "text": [
      " 13%|█████████████▍                                                                                            | 1519/12000 [07:50<43:28,  4.02it/s]"
     ]
    },
    {
     "name": "stdout",
     "output_type": "stream",
     "text": [
      "Episode 1520/12000\n",
      "Fitnesses: ['-40.77', '-44.29', '-94.42', '-6.42']\n",
      "100 fitness avgs: ['-25.04', '-25.09', '-25.11', '-24.96']\n"
     ]
    },
    {
     "name": "stderr",
     "output_type": "stream",
     "text": [
      " 13%|█████████████▌                                                                                            | 1539/12000 [07:55<39:03,  4.46it/s]"
     ]
    },
    {
     "name": "stdout",
     "output_type": "stream",
     "text": [
      "Episode 1540/12000\n",
      "Fitnesses: ['-34.04', '-34.71', '-18.08', '-10.32']\n",
      "100 fitness avgs: ['-25.08', '-25.08', '-24.95', '-24.77']\n"
     ]
    },
    {
     "name": "stderr",
     "output_type": "stream",
     "text": [
      " 13%|█████████████▊                                                                                            | 1559/12000 [08:01<39:45,  4.38it/s]"
     ]
    },
    {
     "name": "stdout",
     "output_type": "stream",
     "text": [
      "Episode 1560/12000\n",
      "Fitnesses: ['-15.55', '-32.54', '-15.39', '-3.97']\n",
      "100 fitness avgs: ['-24.65', '-25.05', '-24.95', '-24.68']\n"
     ]
    },
    {
     "name": "stderr",
     "output_type": "stream",
     "text": [
      " 13%|█████████████▉                                                                                            | 1579/12000 [08:07<46:08,  3.76it/s]"
     ]
    },
    {
     "name": "stdout",
     "output_type": "stream",
     "text": [
      "Episode 1580/12000\n",
      "Fitnesses: ['-15.72', '-17.38', '-1.31', '-134.60']\n",
      "100 fitness avgs: ['-24.57', '-24.59', '-24.39', '-26.34']\n"
     ]
    },
    {
     "name": "stderr",
     "output_type": "stream",
     "text": [
      " 13%|██████████████                                                                                            | 1599/12000 [08:13<46:24,  3.74it/s]"
     ]
    },
    {
     "name": "stdout",
     "output_type": "stream",
     "text": [
      "Episode 1600/12000\n",
      "Fitnesses: ['-53.19', '-48.28', '-3.06', '-26.33']\n",
      "100 fitness avgs: ['-24.75', '-24.69', '-24.32', '-24.41']\n"
     ]
    },
    {
     "name": "stderr",
     "output_type": "stream",
     "text": [
      " 13%|██████████████▎                                                                                           | 1619/12000 [08:19<40:52,  4.23it/s]"
     ]
    },
    {
     "name": "stdout",
     "output_type": "stream",
     "text": [
      "Episode 1620/12000\n",
      "Fitnesses: ['-23.87', '-37.02', '-56.56', '-26.91']\n",
      "100 fitness avgs: ['-24.32', '-24.48', '-24.72', '-24.44']\n"
     ]
    },
    {
     "name": "stderr",
     "output_type": "stream",
     "text": [
      " 14%|██████████████▍                                                                                           | 1639/12000 [08:25<42:46,  4.04it/s]"
     ]
    },
    {
     "name": "stdout",
     "output_type": "stream",
     "text": [
      "Episode 1640/12000\n",
      "Fitnesses: ['-14.79', '-20.09', '-88.01', '-52.97']\n",
      "100 fitness avgs: ['-24.20', '-24.26', '-25.22', '-24.66']\n"
     ]
    },
    {
     "name": "stderr",
     "output_type": "stream",
     "text": [
      " 14%|██████████████▋                                                                                           | 1659/12000 [08:31<40:42,  4.23it/s]"
     ]
    },
    {
     "name": "stdout",
     "output_type": "stream",
     "text": [
      "Episode 1660/12000\n",
      "Fitnesses: ['-51.69', '-55.41', '-82.10', '-30.38']\n",
      "100 fitness avgs: ['-24.53', '-24.58', '-24.90', '-24.34']\n"
     ]
    },
    {
     "name": "stderr",
     "output_type": "stream",
     "text": [
      " 14%|██████████████▊                                                                                           | 1679/12000 [08:36<40:36,  4.24it/s]"
     ]
    },
    {
     "name": "stdout",
     "output_type": "stream",
     "text": [
      "Episode 1680/12000\n",
      "Fitnesses: ['-75.65', '-52.96', '-43.04', '-30.70']\n",
      "100 fitness avgs: ['-24.95', '-24.87', '-24.75', '-24.60']\n"
     ]
    },
    {
     "name": "stderr",
     "output_type": "stream",
     "text": [
      " 14%|███████████████                                                                                           | 1699/12000 [08:41<39:44,  4.32it/s]"
     ]
    },
    {
     "name": "stdout",
     "output_type": "stream",
     "text": [
      "Episode 1700/12000\n",
      "Fitnesses: ['-17.41', '-41.19', '-43.74', '-28.01']\n",
      "100 fitness avgs: ['-24.52', '-24.94', '-24.83', '-24.64']\n"
     ]
    },
    {
     "name": "stderr",
     "output_type": "stream",
     "text": [
      " 14%|███████████████▏                                                                                          | 1719/12000 [08:47<36:40,  4.67it/s]"
     ]
    },
    {
     "name": "stdout",
     "output_type": "stream",
     "text": [
      "Episode 1720/12000\n",
      "Fitnesses: ['-274.88', '-12.02', '-40.57', '-19.62']\n",
      "100 fitness avgs: ['-27.43', '-24.50', '-25.13', '-24.46']\n"
     ]
    },
    {
     "name": "stderr",
     "output_type": "stream",
     "text": [
      " 14%|███████████████▎                                                                                          | 1739/12000 [08:52<39:07,  4.37it/s]"
     ]
    },
    {
     "name": "stdout",
     "output_type": "stream",
     "text": [
      "Episode 1740/12000\n",
      "Fitnesses: ['-34.92', '-26.78', '-18.22', '-8.74']\n",
      "100 fitness avgs: ['-24.62', '-24.49', '-25.05', '-24.32']\n"
     ]
    },
    {
     "name": "stderr",
     "output_type": "stream",
     "text": [
      " 15%|███████████████▌                                                                                          | 1759/12000 [08:57<40:42,  4.19it/s]"
     ]
    },
    {
     "name": "stdout",
     "output_type": "stream",
     "text": [
      "Episode 1760/12000\n",
      "Fitnesses: ['-26.27', '-18.75', '-49.22', '-23.58']\n",
      "100 fitness avgs: ['-24.34', '-24.25', '-24.60', '-24.31']\n"
     ]
    },
    {
     "name": "stderr",
     "output_type": "stream",
     "text": [
      " 15%|███████████████▋                                                                                          | 1779/12000 [09:04<48:01,  3.55it/s]"
     ]
    },
    {
     "name": "stdout",
     "output_type": "stream",
     "text": [
      "Episode 1780/12000\n",
      "Fitnesses: ['-25.24', '-12.74', '-15.63', '-61.84']\n",
      "100 fitness avgs: ['-24.26', '-24.21', '-24.21', '-25.02']\n"
     ]
    },
    {
     "name": "stderr",
     "output_type": "stream",
     "text": [
      " 15%|███████████████▉                                                                                          | 1799/12000 [09:11<54:24,  3.12it/s]"
     ]
    },
    {
     "name": "stdout",
     "output_type": "stream",
     "text": [
      "Episode 1800/12000\n",
      "Fitnesses: ['-64.98', '-17.01', '-3.34', '-53.65']\n",
      "100 fitness avgs: ['-24.66', '-24.13', '-24.03', '-24.54']\n"
     ]
    },
    {
     "name": "stderr",
     "output_type": "stream",
     "text": [
      " 15%|████████████████                                                                                          | 1819/12000 [09:18<56:59,  2.98it/s]"
     ]
    },
    {
     "name": "stdout",
     "output_type": "stream",
     "text": [
      "Episode 1820/12000\n",
      "Fitnesses: ['-36.07', '-1.66', '-37.69', '-34.98']\n",
      "100 fitness avgs: ['-24.16', '-23.79', '-24.18', '-24.25']\n"
     ]
    },
    {
     "name": "stderr",
     "output_type": "stream",
     "text": [
      " 15%|████████████████▏                                                                                         | 1839/12000 [09:25<55:34,  3.05it/s]"
     ]
    },
    {
     "name": "stdout",
     "output_type": "stream",
     "text": [
      "Episode 1840/12000\n",
      "Fitnesses: ['-17.04', '-7.02', '-35.43', '-48.16']\n",
      "100 fitness avgs: ['-23.71', '-23.60', '-24.37', '-24.51']\n"
     ]
    },
    {
     "name": "stderr",
     "output_type": "stream",
     "text": [
      " 15%|████████████████                                                                                        | 1859/12000 [09:33<1:01:33,  2.75it/s]"
     ]
    },
    {
     "name": "stdout",
     "output_type": "stream",
     "text": [
      "Episode 1860/12000\n",
      "Fitnesses: ['-20.74', '-59.10', '-54.87', '-16.95']\n",
      "100 fitness avgs: ['-23.57', '-23.99', '-24.05', '-23.64']\n"
     ]
    },
    {
     "name": "stderr",
     "output_type": "stream",
     "text": [
      " 16%|████████████████▎                                                                                       | 1879/12000 [09:42<1:03:02,  2.68it/s]"
     ]
    },
    {
     "name": "stdout",
     "output_type": "stream",
     "text": [
      "Episode 1880/12000\n",
      "Fitnesses: ['-39.27', '-54.76', '-47.87', '-6.59']\n",
      "100 fitness avgs: ['-23.81', '-23.97', '-23.90', '-23.39']\n"
     ]
    },
    {
     "name": "stderr",
     "output_type": "stream",
     "text": [
      " 16%|████████████████▍                                                                                       | 1899/12000 [09:50<1:04:48,  2.60it/s]"
     ]
    },
    {
     "name": "stdout",
     "output_type": "stream",
     "text": [
      "Episode 1900/12000\n",
      "Fitnesses: ['-77.27', '-20.52', '-14.64', '-61.40']\n",
      "100 fitness avgs: ['-23.96', '-23.86', '-23.87', '-23.79']\n"
     ]
    },
    {
     "name": "stderr",
     "output_type": "stream",
     "text": [
      " 16%|████████████████▋                                                                                       | 1919/12000 [09:58<1:02:45,  2.68it/s]"
     ]
    },
    {
     "name": "stdout",
     "output_type": "stream",
     "text": [
      "Episode 1920/12000\n",
      "Fitnesses: ['-7.67', '-106.63', '-12.74', '-22.78']\n",
      "100 fitness avgs: ['-23.70', '-24.72', '-23.75', '-23.85']\n"
     ]
    },
    {
     "name": "stderr",
     "output_type": "stream",
     "text": [
      " 16%|████████████████▊                                                                                       | 1939/12000 [10:07<1:06:34,  2.52it/s]"
     ]
    },
    {
     "name": "stdout",
     "output_type": "stream",
     "text": [
      "Episode 1940/12000\n",
      "Fitnesses: ['-30.19', '-23.19', '-76.69', '-20.91']\n",
      "100 fitness avgs: ['-23.77', '-23.84', '-24.25', '-23.72']\n"
     ]
    },
    {
     "name": "stderr",
     "output_type": "stream",
     "text": [
      " 16%|█████████████████▎                                                                                        | 1959/12000 [10:16<59:32,  2.81it/s]"
     ]
    },
    {
     "name": "stdout",
     "output_type": "stream",
     "text": [
      "Episode 1960/12000\n",
      "Fitnesses: ['-17.29', '-4.62', '-18.04', '-26.32']\n",
      "100 fitness avgs: ['-23.65', '-23.52', '-23.78', '-23.74']\n"
     ]
    },
    {
     "name": "stderr",
     "output_type": "stream",
     "text": [
      " 16%|█████████████████▏                                                                                      | 1979/12000 [10:24<1:03:57,  2.61it/s]"
     ]
    },
    {
     "name": "stdout",
     "output_type": "stream",
     "text": [
      "Episode 1980/12000\n",
      "Fitnesses: ['-11.23', '-24.53', '-27.19', '-10.80']\n",
      "100 fitness avgs: ['-23.40', '-23.53', '-23.69', '-23.39']\n"
     ]
    },
    {
     "name": "stderr",
     "output_type": "stream",
     "text": [
      " 17%|█████████████████▎                                                                                      | 1999/12000 [10:33<1:04:24,  2.59it/s]"
     ]
    },
    {
     "name": "stdout",
     "output_type": "stream",
     "text": [
      "Episode 2000/12000\n",
      "Fitnesses: ['-4.84', '-13.66', '-31.36', '-22.77']\n",
      "100 fitness avgs: ['-23.21', '-23.30', '-23.48', '-23.39']\n"
     ]
    },
    {
     "name": "stderr",
     "output_type": "stream",
     "text": [
      " 17%|█████████████████▊                                                                                        | 2019/12000 [10:41<59:44,  2.78it/s]"
     ]
    },
    {
     "name": "stdout",
     "output_type": "stream",
     "text": [
      "Episode 2020/12000\n",
      "Fitnesses: ['-17.65', '-42.88', '-109.49', '-13.96']\n",
      "100 fitness avgs: ['-23.00', '-23.25', '-24.01', '-22.96']\n"
     ]
    },
    {
     "name": "stderr",
     "output_type": "stream",
     "text": [
      " 17%|██████████████████                                                                                        | 2039/12000 [10:49<59:09,  2.81it/s]"
     ]
    },
    {
     "name": "stdout",
     "output_type": "stream",
     "text": [
      "Episode 2040/12000\n",
      "Fitnesses: ['-60.30', '-22.44', '-13.51', '-25.92']\n",
      "100 fitness avgs: ['-22.97', '-23.64', '-22.54', '-22.92']\n"
     ]
    },
    {
     "name": "stderr",
     "output_type": "stream",
     "text": [
      " 17%|█████████████████▊                                                                                      | 2059/12000 [10:57<1:04:16,  2.58it/s]"
     ]
    },
    {
     "name": "stdout",
     "output_type": "stream",
     "text": [
      "Episode 2060/12000\n",
      "Fitnesses: ['-119.18', '-48.37', '-14.37', '-17.12']\n",
      "100 fitness avgs: ['-23.73', '-23.02', '-23.78', '-23.81']\n"
     ]
    },
    {
     "name": "stderr",
     "output_type": "stream",
     "text": [
      " 17%|██████████████████                                                                                      | 2079/12000 [11:07<1:21:52,  2.02it/s]"
     ]
    },
    {
     "name": "stdout",
     "output_type": "stream",
     "text": [
      "Episode 2080/12000\n",
      "Fitnesses: ['-42.05', '-15.43', '-16.06', '-26.13']\n",
      "100 fitness avgs: ['-23.48', '-23.24', '-22.46', '-23.32']\n"
     ]
    },
    {
     "name": "stderr",
     "output_type": "stream",
     "text": [
      " 17%|██████████████████▏                                                                                     | 2099/12000 [11:18<1:29:30,  1.84it/s]"
     ]
    },
    {
     "name": "stdout",
     "output_type": "stream",
     "text": [
      "Episode 2100/12000\n",
      "Fitnesses: ['-4.62', '-51.65', '-10.66', '-29.89']\n",
      "100 fitness avgs: ['-22.10', '-22.65', '-22.16', '-22.44']\n"
     ]
    },
    {
     "name": "stderr",
     "output_type": "stream",
     "text": [
      " 18%|██████████████████▎                                                                                     | 2119/12000 [11:30<1:38:15,  1.68it/s]"
     ]
    },
    {
     "name": "stdout",
     "output_type": "stream",
     "text": [
      "Episode 2120/12000\n",
      "Fitnesses: ['-21.09', '-16.24', '-107.97', '-54.38']\n",
      "100 fitness avgs: ['-22.10', '-22.11', '-22.97', '-22.49']\n"
     ]
    },
    {
     "name": "stderr",
     "output_type": "stream",
     "text": [
      " 18%|██████████████████▌                                                                                     | 2139/12000 [11:43<1:41:04,  1.63it/s]"
     ]
    },
    {
     "name": "stdout",
     "output_type": "stream",
     "text": [
      "Episode 2140/12000\n",
      "Fitnesses: ['-8.11', '-22.38', '-14.39', '-56.59']\n",
      "100 fitness avgs: ['-21.80', '-21.93', '-21.86', '-22.27']\n"
     ]
    },
    {
     "name": "stderr",
     "output_type": "stream",
     "text": [
      " 18%|██████████████████▋                                                                                     | 2159/12000 [12:02<2:28:06,  1.11it/s]"
     ]
    },
    {
     "name": "stdout",
     "output_type": "stream",
     "text": [
      "Episode 2160/12000\n",
      "Fitnesses: ['-32.35', '-17.62', '-7.20', '-19.04']\n",
      "100 fitness avgs: ['-21.98', '-21.90', '-21.73', '-21.85']\n"
     ]
    },
    {
     "name": "stderr",
     "output_type": "stream",
     "text": [
      " 18%|██████████████████▉                                                                                     | 2179/12000 [12:19<2:02:24,  1.34it/s]"
     ]
    },
    {
     "name": "stdout",
     "output_type": "stream",
     "text": [
      "Episode 2180/12000\n",
      "Fitnesses: ['-134.80', '-39.55', '-15.89', '-33.22']\n",
      "100 fitness avgs: ['-22.81', '-21.86', '-21.74', '-21.91']\n"
     ]
    },
    {
     "name": "stderr",
     "output_type": "stream",
     "text": [
      " 18%|███████████████████                                                                                     | 2199/12000 [12:33<1:59:51,  1.36it/s]"
     ]
    },
    {
     "name": "stdout",
     "output_type": "stream",
     "text": [
      "Episode 2200/12000\n",
      "Fitnesses: ['-13.57', '-72.16', '-10.34', '-65.58']\n",
      "100 fitness avgs: ['-21.68', '-22.26', '-21.76', '-22.37']\n"
     ]
    },
    {
     "name": "stderr",
     "output_type": "stream",
     "text": [
      " 18%|███████████████████▏                                                                                    | 2219/12000 [12:48<1:43:53,  1.57it/s]"
     ]
    },
    {
     "name": "stdout",
     "output_type": "stream",
     "text": [
      "Episode 2220/12000\n",
      "Fitnesses: ['-49.94', '-18.35', '-47.35', '-68.19']\n",
      "100 fitness avgs: ['-22.14', '-21.82', '-22.11', '-22.93']\n"
     ]
    },
    {
     "name": "stderr",
     "output_type": "stream",
     "text": [
      " 19%|███████████████████▍                                                                                    | 2239/12000 [13:00<1:29:15,  1.82it/s]"
     ]
    },
    {
     "name": "stdout",
     "output_type": "stream",
     "text": [
      "Episode 2240/12000\n",
      "Fitnesses: ['-61.11', '-5.54', '-26.73', '-28.66']\n",
      "100 fitness avgs: ['-22.23', '-21.67', '-21.89', '-21.90']\n"
     ]
    },
    {
     "name": "stderr",
     "output_type": "stream",
     "text": [
      " 19%|███████████████████▌                                                                                    | 2259/12000 [13:15<2:17:21,  1.18it/s]"
     ]
    },
    {
     "name": "stdout",
     "output_type": "stream",
     "text": [
      "Episode 2260/12000\n",
      "Fitnesses: ['-41.75', '-9.50', '-31.02', '-41.61']\n",
      "100 fitness avgs: ['-21.80', '-21.48', '-22.25', '-22.01']\n"
     ]
    },
    {
     "name": "stderr",
     "output_type": "stream",
     "text": [
      " 19%|███████████████████▊                                                                                    | 2279/12000 [13:34<2:25:48,  1.11it/s]"
     ]
    },
    {
     "name": "stdout",
     "output_type": "stream",
     "text": [
      "Episode 2280/12000\n",
      "Fitnesses: ['-20.49', '-62.44', '-89.79', '-41.78']\n",
      "100 fitness avgs: ['-21.58', '-22.00', '-22.27', '-22.32']\n"
     ]
    },
    {
     "name": "stderr",
     "output_type": "stream",
     "text": [
      " 19%|███████████████████▉                                                                                    | 2299/12000 [13:53<2:34:01,  1.05it/s]"
     ]
    },
    {
     "name": "stdout",
     "output_type": "stream",
     "text": [
      "Episode 2300/12000\n",
      "Fitnesses: ['-3.91', '-82.77', '-72.67', '-58.15']\n",
      "100 fitness avgs: ['-21.53', '-22.32', '-22.22', '-22.76']\n"
     ]
    },
    {
     "name": "stderr",
     "output_type": "stream",
     "text": [
      " 19%|████████████████████                                                                                    | 2319/12000 [14:13<2:39:58,  1.01it/s]"
     ]
    },
    {
     "name": "stdout",
     "output_type": "stream",
     "text": [
      "Episode 2320/12000\n",
      "Fitnesses: ['-49.04', '-21.57', '-106.38', '-46.05']\n",
      "100 fitness avgs: ['-21.73', '-22.69', '-23.53', '-22.93']\n"
     ]
    },
    {
     "name": "stderr",
     "output_type": "stream",
     "text": [
      " 19%|████████████████████▎                                                                                   | 2339/12000 [14:31<2:12:46,  1.21it/s]"
     ]
    },
    {
     "name": "stdout",
     "output_type": "stream",
     "text": [
      "Episode 2340/12000\n",
      "Fitnesses: ['-9.11', '-44.68', '-94.42', '-12.77']\n",
      "100 fitness avgs: ['-22.66', '-23.02', '-23.51', '-22.70']\n"
     ]
    },
    {
     "name": "stderr",
     "output_type": "stream",
     "text": [
      " 20%|████████████████████▍                                                                                   | 2359/12000 [14:48<2:15:31,  1.19it/s]"
     ]
    },
    {
     "name": "stdout",
     "output_type": "stream",
     "text": [
      "Episode 2360/12000\n",
      "Fitnesses: ['-21.35', '-17.93', '-8.50', '-38.55']\n",
      "100 fitness avgs: ['-22.70', '-22.71', '-22.93', '-22.91']\n"
     ]
    },
    {
     "name": "stderr",
     "output_type": "stream",
     "text": [
      " 20%|████████████████████▌                                                                                   | 2379/12000 [15:04<2:09:12,  1.24it/s]"
     ]
    },
    {
     "name": "stdout",
     "output_type": "stream",
     "text": [
      "Episode 2380/12000\n",
      "Fitnesses: ['-28.15', '-85.99', '-31.66', '-26.00']\n",
      "100 fitness avgs: ['-23.00', '-23.58', '-23.03', '-22.75']\n"
     ]
    },
    {
     "name": "stderr",
     "output_type": "stream",
     "text": [
      " 20%|████████████████████▊                                                                                   | 2399/12000 [15:26<2:44:52,  1.03s/it]"
     ]
    },
    {
     "name": "stdout",
     "output_type": "stream",
     "text": [
      "Episode 2400/12000\n",
      "Fitnesses: ['-44.35', '-30.50', '-39.35', '-36.21']\n",
      "100 fitness avgs: ['-22.90', '-23.04', '-22.85', '-22.82']\n"
     ]
    },
    {
     "name": "stderr",
     "output_type": "stream",
     "text": [
      " 20%|████████████████████▉                                                                                   | 2419/12000 [15:48<2:51:35,  1.07s/it]"
     ]
    },
    {
     "name": "stdout",
     "output_type": "stream",
     "text": [
      "Episode 2420/12000\n",
      "Fitnesses: ['-14.02', '-51.40', '-9.19', '-17.09']\n",
      "100 fitness avgs: ['-23.05', '-23.43', '-22.81', '-22.89']\n"
     ]
    },
    {
     "name": "stderr",
     "output_type": "stream",
     "text": [
      " 20%|█████████████████████▏                                                                                  | 2439/12000 [16:07<2:36:46,  1.02it/s]"
     ]
    },
    {
     "name": "stdout",
     "output_type": "stream",
     "text": [
      "Episode 2440/12000\n",
      "Fitnesses: ['-19.16', '-55.40', '-49.37', '-17.88']\n",
      "100 fitness avgs: ['-22.88', '-23.49', '-23.26', '-22.87']\n"
     ]
    },
    {
     "name": "stderr",
     "output_type": "stream",
     "text": [
      " 20%|█████████████████████▎                                                                                  | 2459/12000 [16:26<2:13:55,  1.19it/s]"
     ]
    },
    {
     "name": "stdout",
     "output_type": "stream",
     "text": [
      "Episode 2460/12000\n",
      "Fitnesses: ['-38.56', '-117.46', '-28.34', '-6.06']\n",
      "100 fitness avgs: ['-23.03', '-23.84', '-22.95', '-22.71']\n"
     ]
    },
    {
     "name": "stderr",
     "output_type": "stream",
     "text": [
      " 21%|█████████████████████▍                                                                                  | 2479/12000 [16:42<2:11:37,  1.21it/s]"
     ]
    },
    {
     "name": "stdout",
     "output_type": "stream",
     "text": [
      "Episode 2480/12000\n",
      "Fitnesses: ['-5.01', '-48.47', '-12.08', '-34.70']\n",
      "100 fitness avgs: ['-22.64', '-24.20', '-23.03', '-22.93']\n"
     ]
    },
    {
     "name": "stderr",
     "output_type": "stream",
     "text": [
      " 21%|█████████████████████▋                                                                                  | 2499/12000 [16:59<2:13:02,  1.19it/s]"
     ]
    },
    {
     "name": "stdout",
     "output_type": "stream",
     "text": [
      "Episode 2500/12000\n",
      "Fitnesses: ['-56.51', '-37.45', '-36.27', '-10.70']\n",
      "100 fitness avgs: ['-22.94', '-23.15', '-23.14', '-22.88']\n"
     ]
    },
    {
     "name": "stderr",
     "output_type": "stream",
     "text": [
      " 21%|█████████████████████▊                                                                                  | 2519/12000 [17:21<2:59:59,  1.14s/it]"
     ]
    },
    {
     "name": "stdout",
     "output_type": "stream",
     "text": [
      "Episode 2520/12000\n",
      "Fitnesses: ['-50.25', '-5.77', '-27.00', '-15.72']\n",
      "100 fitness avgs: ['-23.13', '-22.69', '-23.17', '-23.04']\n"
     ]
    },
    {
     "name": "stderr",
     "output_type": "stream",
     "text": [
      " 21%|██████████████████████                                                                                  | 2539/12000 [17:42<2:55:16,  1.11s/it]"
     ]
    },
    {
     "name": "stdout",
     "output_type": "stream",
     "text": [
      "Episode 2540/12000\n",
      "Fitnesses: ['-10.52', '-60.03', '-33.00', '-73.94']\n",
      "100 fitness avgs: ['-21.78', '-22.63', '-22.00', '-22.77']\n"
     ]
    },
    {
     "name": "stderr",
     "output_type": "stream",
     "text": [
      " 21%|██████████████████████▏                                                                                 | 2559/12000 [18:04<2:44:44,  1.05s/it]"
     ]
    },
    {
     "name": "stdout",
     "output_type": "stream",
     "text": [
      "Episode 2560/12000\n",
      "Fitnesses: ['-201.67', '-32.46', '-53.97', '-69.23']\n",
      "100 fitness avgs: ['-23.69', '-22.85', '-23.07', '-22.59']\n"
     ]
    },
    {
     "name": "stderr",
     "output_type": "stream",
     "text": [
      " 21%|██████████████████████▎                                                                                 | 2579/12000 [18:21<2:01:03,  1.30it/s]"
     ]
    },
    {
     "name": "stdout",
     "output_type": "stream",
     "text": [
      "Episode 2580/12000\n",
      "Fitnesses: ['-31.53', '-18.78', '-25.79', '-13.91']\n",
      "100 fitness avgs: ['-23.03', '-23.12', '-23.19', '-22.85']\n"
     ]
    },
    {
     "name": "stderr",
     "output_type": "stream",
     "text": [
      " 22%|██████████████████████▌                                                                                 | 2599/12000 [18:38<1:57:09,  1.34it/s]"
     ]
    },
    {
     "name": "stdout",
     "output_type": "stream",
     "text": [
      "Episode 2600/12000\n",
      "Fitnesses: ['-58.94', '-9.06', '-4.72', '-30.50']\n",
      "100 fitness avgs: ['-23.15', '-22.66', '-22.61', '-23.13']\n"
     ]
    },
    {
     "name": "stderr",
     "output_type": "stream",
     "text": [
      " 22%|██████████████████████▋                                                                                 | 2619/12000 [18:53<1:56:20,  1.34it/s]"
     ]
    },
    {
     "name": "stdout",
     "output_type": "stream",
     "text": [
      "Episode 2620/12000\n",
      "Fitnesses: ['-25.01', '-17.58', '-62.78', '-65.21']\n",
      "100 fitness avgs: ['-22.73', '-22.66', '-23.63', '-23.18']\n"
     ]
    },
    {
     "name": "stderr",
     "output_type": "stream",
     "text": [
      " 22%|██████████████████████▊                                                                                 | 2639/12000 [19:10<2:22:42,  1.09it/s]"
     ]
    },
    {
     "name": "stdout",
     "output_type": "stream",
     "text": [
      "Episode 2640/12000\n",
      "Fitnesses: ['-12.75', '-57.89', '-17.56', '-43.23']\n",
      "100 fitness avgs: ['-21.94', '-22.46', '-21.98', '-22.24']\n"
     ]
    },
    {
     "name": "stderr",
     "output_type": "stream",
     "text": [
      " 22%|███████████████████████                                                                                 | 2659/12000 [19:30<2:24:23,  1.08it/s]"
     ]
    },
    {
     "name": "stdout",
     "output_type": "stream",
     "text": [
      "Episode 2660/12000\n",
      "Fitnesses: ['-39.97', '-6.35', '-52.84', '-12.33']\n",
      "100 fitness avgs: ['-22.27', '-21.93', '-22.45', '-22.04']\n"
     ]
    },
    {
     "name": "stderr",
     "output_type": "stream",
     "text": [
      " 22%|███████████████████████▏                                                                                | 2679/12000 [19:49<2:23:40,  1.08it/s]"
     ]
    },
    {
     "name": "stdout",
     "output_type": "stream",
     "text": [
      "Episode 2680/12000\n",
      "Fitnesses: ['-14.73', '-18.28', '-7.18', '-17.10']\n",
      "100 fitness avgs: ['-21.75', '-21.78', '-21.67', '-21.88']\n"
     ]
    },
    {
     "name": "stderr",
     "output_type": "stream",
     "text": [
      " 22%|███████████████████████▍                                                                                | 2699/12000 [20:05<2:06:13,  1.23it/s]"
     ]
    },
    {
     "name": "stdout",
     "output_type": "stream",
     "text": [
      "Episode 2700/12000\n",
      "Fitnesses: ['-19.23', '-16.95', '-91.07', '-207.92']\n",
      "100 fitness avgs: ['-21.84', '-21.82', '-22.77', '-23.81']\n"
     ]
    },
    {
     "name": "stderr",
     "output_type": "stream",
     "text": [
      " 23%|███████████████████████▌                                                                                | 2719/12000 [20:23<2:00:52,  1.28it/s]"
     ]
    },
    {
     "name": "stdout",
     "output_type": "stream",
     "text": [
      "Episode 2720/12000\n",
      "Fitnesses: ['-17.08', '-37.45', '-99.53', '-52.03']\n",
      "100 fitness avgs: ['-21.95', '-23.10', '-22.77', '-22.30']\n"
     ]
    },
    {
     "name": "stderr",
     "output_type": "stream",
     "text": [
      " 23%|███████████████████████▋                                                                                | 2739/12000 [20:40<2:00:38,  1.28it/s]"
     ]
    },
    {
     "name": "stdout",
     "output_type": "stream",
     "text": [
      "Episode 2740/12000\n",
      "Fitnesses: ['-17.48', '-23.66', '-15.66', '-9.67']\n",
      "100 fitness avgs: ['-22.06', '-22.12', '-22.04', '-23.14']\n"
     ]
    },
    {
     "name": "stderr",
     "output_type": "stream",
     "text": [
      " 23%|███████████████████████▉                                                                                | 2759/12000 [20:56<2:01:14,  1.27it/s]"
     ]
    },
    {
     "name": "stdout",
     "output_type": "stream",
     "text": [
      "Episode 2760/12000\n",
      "Fitnesses: ['-96.36', '-38.67', '-41.64', '-28.99']\n",
      "100 fitness avgs: ['-23.90', '-22.25', '-23.35', '-22.13']\n"
     ]
    },
    {
     "name": "stderr",
     "output_type": "stream",
     "text": [
      " 23%|████████████████████████                                                                                | 2779/12000 [21:15<2:26:48,  1.05it/s]"
     ]
    },
    {
     "name": "stdout",
     "output_type": "stream",
     "text": [
      "Episode 2780/12000\n",
      "Fitnesses: ['-24.22', '-6.01', '-45.11', '-10.27']\n",
      "100 fitness avgs: ['-22.08', '-22.01', '-22.29', '-21.94']\n"
     ]
    },
    {
     "name": "stderr",
     "output_type": "stream",
     "text": [
      " 23%|████████████████████████▎                                                                               | 2799/12000 [21:34<2:24:21,  1.06it/s]"
     ]
    },
    {
     "name": "stdout",
     "output_type": "stream",
     "text": [
      "Episode 2800/12000\n",
      "Fitnesses: ['-22.09', '-19.81', '-7.56', '-59.13']\n",
      "100 fitness avgs: ['-22.04', '-22.09', '-21.83', '-22.34']\n"
     ]
    },
    {
     "name": "stderr",
     "output_type": "stream",
     "text": [
      " 23%|████████████████████████▍                                                                               | 2819/12000 [21:54<2:26:22,  1.05it/s]"
     ]
    },
    {
     "name": "stdout",
     "output_type": "stream",
     "text": [
      "Episode 2820/12000\n",
      "Fitnesses: ['-32.07', '-40.82', '-33.29', '-22.28']\n",
      "100 fitness avgs: ['-22.05', '-22.13', '-22.06', '-22.21']\n"
     ]
    },
    {
     "name": "stderr",
     "output_type": "stream",
     "text": [
      " 24%|████████████████████████▌                                                                               | 2839/12000 [22:15<2:26:31,  1.04it/s]"
     ]
    },
    {
     "name": "stdout",
     "output_type": "stream",
     "text": [
      "Episode 2840/12000\n",
      "Fitnesses: ['-23.07', '-2.83', '-60.56', '-13.75']\n",
      "100 fitness avgs: ['-22.38', '-22.17', '-22.75', '-22.13']\n"
     ]
    },
    {
     "name": "stderr",
     "output_type": "stream",
     "text": [
      " 24%|████████████████████████▊                                                                               | 2859/12000 [22:34<2:02:15,  1.25it/s]"
     ]
    },
    {
     "name": "stdout",
     "output_type": "stream",
     "text": [
      "Episode 2860/12000\n",
      "Fitnesses: ['-18.54', '-10.20', '-46.95', '-16.38']\n",
      "100 fitness avgs: ['-21.98', '-21.90', '-22.27', '-21.96']\n"
     ]
    },
    {
     "name": "stderr",
     "output_type": "stream",
     "text": [
      " 24%|████████████████████████▉                                                                               | 2879/12000 [22:50<1:57:57,  1.29it/s]"
     ]
    },
    {
     "name": "stdout",
     "output_type": "stream",
     "text": [
      "Episode 2880/12000\n",
      "Fitnesses: ['-45.45', '-28.36', '-37.45', '-56.10']\n",
      "100 fitness avgs: ['-22.04', '-21.87', '-22.04', '-22.15']\n"
     ]
    },
    {
     "name": "stderr",
     "output_type": "stream",
     "text": [
      " 24%|█████████████████████████                                                                               | 2899/12000 [23:06<2:06:08,  1.20it/s]"
     ]
    },
    {
     "name": "stdout",
     "output_type": "stream",
     "text": [
      "Episode 2900/12000\n",
      "Fitnesses: ['-56.00', '-37.14', '-55.82', '-104.36']\n",
      "100 fitness avgs: ['-21.97', '-21.78', '-22.14', '-22.73']\n"
     ]
    },
    {
     "name": "stderr",
     "output_type": "stream",
     "text": [
      " 24%|█████████████████████████▎                                                                              | 2919/12000 [23:25<2:21:33,  1.07it/s]"
     ]
    },
    {
     "name": "stdout",
     "output_type": "stream",
     "text": [
      "Episode 2920/12000\n",
      "Fitnesses: ['-37.40', '-13.39', '-63.01', '-54.09']\n",
      "100 fitness avgs: ['-21.89', '-22.01', '-22.15', '-22.25']\n"
     ]
    },
    {
     "name": "stderr",
     "output_type": "stream",
     "text": [
      " 24%|█████████████████████████▍                                                                              | 2939/12000 [23:44<2:23:35,  1.05it/s]"
     ]
    },
    {
     "name": "stdout",
     "output_type": "stream",
     "text": [
      "Episode 2940/12000\n",
      "Fitnesses: ['-36.50', '-39.31', '-46.11', '-67.94']\n",
      "100 fitness avgs: ['-22.21', '-22.48', '-22.31', '-22.41']\n"
     ]
    },
    {
     "name": "stderr",
     "output_type": "stream",
     "text": [
      " 25%|█████████████████████████▋                                                                              | 2959/12000 [24:05<2:20:04,  1.08it/s]"
     ]
    },
    {
     "name": "stdout",
     "output_type": "stream",
     "text": [
      "Episode 2960/12000\n",
      "Fitnesses: ['-58.59', '-26.12', '-15.78', '-33.83']\n",
      "100 fitness avgs: ['-22.64', '-22.31', '-22.31', '-22.49']\n"
     ]
    },
    {
     "name": "stderr",
     "output_type": "stream",
     "text": [
      " 25%|█████████████████████████▊                                                                              | 2979/12000 [24:24<1:52:00,  1.34it/s]"
     ]
    },
    {
     "name": "stdout",
     "output_type": "stream",
     "text": [
      "Episode 2980/12000\n",
      "Fitnesses: ['-4.94', '-8.12', '-27.46', '-45.58']\n",
      "100 fitness avgs: ['-22.06', '-22.09', '-22.30', '-22.47']\n"
     ]
    },
    {
     "name": "stderr",
     "output_type": "stream",
     "text": [
      " 25%|█████████████████████████▉                                                                              | 2999/12000 [24:39<1:47:35,  1.39it/s]"
     ]
    },
    {
     "name": "stdout",
     "output_type": "stream",
     "text": [
      "Episode 3000/12000\n",
      "Fitnesses: ['-20.49', '-36.57', '-19.66', '-72.75']\n",
      "100 fitness avgs: ['-22.13', '-22.29', '-22.12', '-22.88']\n"
     ]
    },
    {
     "name": "stderr",
     "output_type": "stream",
     "text": [
      " 25%|██████████████████████████▏                                                                             | 3019/12000 [24:55<2:00:23,  1.24it/s]"
     ]
    },
    {
     "name": "stdout",
     "output_type": "stream",
     "text": [
      "Episode 3020/12000\n",
      "Fitnesses: ['-64.85', '-14.60', '-22.74', '-34.73']\n",
      "100 fitness avgs: ['-22.71', '-22.21', '-22.29', '-22.42']\n"
     ]
    },
    {
     "name": "stderr",
     "output_type": "stream",
     "text": [
      " 25%|██████████████████████████▎                                                                             | 3039/12000 [25:15<2:39:30,  1.07s/it]"
     ]
    },
    {
     "name": "stdout",
     "output_type": "stream",
     "text": [
      "Episode 3040/12000\n",
      "Fitnesses: ['-7.32', '-12.11', '-3.12', '-21.28']\n",
      "100 fitness avgs: ['-21.96', '-22.01', '-21.92', '-22.18']\n"
     ]
    },
    {
     "name": "stderr",
     "output_type": "stream",
     "text": [
      " 25%|██████████████████████████▌                                                                             | 3059/12000 [25:37<2:35:15,  1.04s/it]"
     ]
    },
    {
     "name": "stdout",
     "output_type": "stream",
     "text": [
      "Episode 3060/12000\n",
      "Fitnesses: ['-76.97', '-45.90', '-7.83', '-407.45']\n",
      "100 fitness avgs: ['-22.63', '-22.36', '-22.03', '-25.94']\n"
     ]
    },
    {
     "name": "stderr",
     "output_type": "stream",
     "text": [
      " 26%|██████████████████████████▋                                                                             | 3079/12000 [25:59<2:22:26,  1.04it/s]"
     ]
    },
    {
     "name": "stdout",
     "output_type": "stream",
     "text": [
      "Episode 3080/12000\n",
      "Fitnesses: ['-55.63', '-21.44', '-15.58', '-8.99']\n",
      "100 fitness avgs: ['-22.58', '-22.23', '-22.51', '-22.11']\n"
     ]
    },
    {
     "name": "stderr",
     "output_type": "stream",
     "text": [
      " 26%|██████████████████████████▊                                                                             | 3099/12000 [26:19<2:24:40,  1.03it/s]"
     ]
    },
    {
     "name": "stdout",
     "output_type": "stream",
     "text": [
      "Episode 3100/12000\n",
      "Fitnesses: ['-60.91', '-1.08', '-33.86', '-22.41']\n",
      "100 fitness avgs: ['-22.50', '-22.30', '-22.23', '-22.58']\n"
     ]
    },
    {
     "name": "stderr",
     "output_type": "stream",
     "text": [
      " 26%|███████████████████████████                                                                             | 3119/12000 [26:35<1:53:53,  1.30it/s]"
     ]
    },
    {
     "name": "stdout",
     "output_type": "stream",
     "text": [
      "Episode 3120/12000\n",
      "Fitnesses: ['-74.44', '-109.56', '-18.35', '-9.13']\n",
      "100 fitness avgs: ['-22.62', '-22.90', '-21.99', '-22.25']\n"
     ]
    },
    {
     "name": "stderr",
     "output_type": "stream",
     "text": [
      " 26%|███████████████████████████▏                                                                            | 3139/12000 [26:51<1:49:05,  1.35it/s]"
     ]
    },
    {
     "name": "stdout",
     "output_type": "stream",
     "text": [
      "Episode 3140/12000\n",
      "Fitnesses: ['-59.14', '-75.12', '-90.49', '-22.10']\n",
      "100 fitness avgs: ['-22.74', '-22.90', '-23.05', '-22.37']\n"
     ]
    },
    {
     "name": "stderr",
     "output_type": "stream",
     "text": [
      " 26%|███████████████████████████▍                                                                            | 3159/12000 [27:07<2:09:52,  1.13it/s]"
     ]
    },
    {
     "name": "stdout",
     "output_type": "stream",
     "text": [
      "Episode 3160/12000\n",
      "Fitnesses: ['-18.11', '-11.97', '-64.09', '-5.80']\n",
      "100 fitness avgs: ['-22.51', '-22.82', '-22.97', '-22.38']\n"
     ]
    },
    {
     "name": "stderr",
     "output_type": "stream",
     "text": [
      " 26%|███████████████████████████▌                                                                            | 3179/12000 [27:27<2:20:40,  1.05it/s]"
     ]
    },
    {
     "name": "stdout",
     "output_type": "stream",
     "text": [
      "Episode 3180/12000\n",
      "Fitnesses: ['-45.99', '-22.15', '-93.47', '-52.03']\n",
      "100 fitness avgs: ['-22.72', '-22.48', '-23.32', '-22.78']\n"
     ]
    },
    {
     "name": "stderr",
     "output_type": "stream",
     "text": [
      " 27%|███████████████████████████▋                                                                            | 3199/12000 [27:45<1:59:27,  1.23it/s]"
     ]
    },
    {
     "name": "stdout",
     "output_type": "stream",
     "text": [
      "Episode 3200/12000\n",
      "Fitnesses: ['-23.41', '-53.15', '-13.10', '-39.74']\n",
      "100 fitness avgs: ['-22.57', '-23.10', '-23.30', '-22.97']\n"
     ]
    },
    {
     "name": "stderr",
     "output_type": "stream",
     "text": [
      " 27%|███████████████████████████▉                                                                            | 3219/12000 [28:03<1:59:13,  1.23it/s]"
     ]
    },
    {
     "name": "stdout",
     "output_type": "stream",
     "text": [
      "Episode 3220/12000\n",
      "Fitnesses: ['-15.39', '-3.38', '-32.38', '-33.21']\n",
      "100 fitness avgs: ['-23.29', '-23.17', '-23.13', '-22.73']\n"
     ]
    },
    {
     "name": "stderr",
     "output_type": "stream",
     "text": [
      " 27%|████████████████████████████                                                                            | 3239/12000 [28:19<1:37:24,  1.50it/s]"
     ]
    },
    {
     "name": "stdout",
     "output_type": "stream",
     "text": [
      "Episode 3240/12000\n",
      "Fitnesses: ['-22.85', '-38.22', '-34.02', '-27.59']\n",
      "100 fitness avgs: ['-23.30', '-23.45', '-23.37', '-23.31']\n"
     ]
    },
    {
     "name": "stderr",
     "output_type": "stream",
     "text": [
      " 27%|████████████████████████████▏                                                                           | 3259/12000 [28:33<1:23:27,  1.75it/s]"
     ]
    },
    {
     "name": "stdout",
     "output_type": "stream",
     "text": [
      "Episode 3260/12000\n",
      "Fitnesses: ['-30.62', '-22.47', '-75.55', '-37.02']\n",
      "100 fitness avgs: ['-23.43', '-23.35', '-23.88', '-23.50']\n"
     ]
    },
    {
     "name": "stderr",
     "output_type": "stream",
     "text": [
      " 27%|████████████████████████████▍                                                                           | 3279/12000 [28:45<1:28:28,  1.64it/s]"
     ]
    },
    {
     "name": "stdout",
     "output_type": "stream",
     "text": [
      "Episode 3280/12000\n",
      "Fitnesses: ['-49.24', '-25.01', '-1.13', '-34.64']\n",
      "100 fitness avgs: ['-23.74', '-23.65', '-23.34', '-23.67']\n"
     ]
    },
    {
     "name": "stderr",
     "output_type": "stream",
     "text": [
      " 27%|████████████████████████████▌                                                                           | 3299/12000 [29:03<2:07:37,  1.14it/s]"
     ]
    },
    {
     "name": "stdout",
     "output_type": "stream",
     "text": [
      "Episode 3300/12000\n",
      "Fitnesses: ['-31.11', '-1.87', '-23.51', '-38.76']\n",
      "100 fitness avgs: ['-23.56', '-23.61', '-23.82', '-23.98']\n"
     ]
    },
    {
     "name": "stderr",
     "output_type": "stream",
     "text": [
      " 28%|████████████████████████████▊                                                                           | 3319/12000 [29:24<2:36:19,  1.08s/it]"
     ]
    },
    {
     "name": "stdout",
     "output_type": "stream",
     "text": [
      "Episode 3320/12000\n",
      "Fitnesses: ['-45.66', '-2.73', '-64.32', '-1.81']\n",
      "100 fitness avgs: ['-23.84', '-23.78', '-24.24', '-23.36']\n"
     ]
    },
    {
     "name": "stderr",
     "output_type": "stream",
     "text": [
      " 28%|████████████████████████████▉                                                                           | 3339/12000 [29:43<2:09:11,  1.12it/s]"
     ]
    },
    {
     "name": "stdout",
     "output_type": "stream",
     "text": [
      "Episode 3340/12000\n",
      "Fitnesses: ['-46.50', '-11.94', '-32.62', '-45.40']\n",
      "100 fitness avgs: ['-23.79', '-23.44', '-24.07', '-24.20']\n"
     ]
    },
    {
     "name": "stderr",
     "output_type": "stream",
     "text": [
      " 28%|█████████████████████████████                                                                           | 3359/12000 [30:04<2:18:24,  1.04it/s]"
     ]
    },
    {
     "name": "stdout",
     "output_type": "stream",
     "text": [
      "Episode 3360/12000\n",
      "Fitnesses: ['-6.94', '-48.80', '-31.04', '-46.19']\n",
      "100 fitness avgs: ['-23.35', '-23.77', '-24.22', '-23.74']\n"
     ]
    },
    {
     "name": "stderr",
     "output_type": "stream",
     "text": [
      " 28%|█████████████████████████████▎                                                                          | 3379/12000 [30:24<1:54:06,  1.26it/s]"
     ]
    },
    {
     "name": "stdout",
     "output_type": "stream",
     "text": [
      "Episode 3380/12000\n",
      "Fitnesses: ['-28.04', '-31.57', '-2.92', '-2.42']\n",
      "100 fitness avgs: ['-23.51', '-23.55', '-24.13', '-23.65']\n"
     ]
    },
    {
     "name": "stderr",
     "output_type": "stream",
     "text": [
      " 28%|█████████████████████████████▍                                                                          | 3399/12000 [30:41<2:00:25,  1.19it/s]"
     ]
    },
    {
     "name": "stdout",
     "output_type": "stream",
     "text": [
      "Episode 3400/12000\n",
      "Fitnesses: ['-14.80', '-9.19', '-30.07', '-5.77']\n",
      "100 fitness avgs: ['-23.73', '-23.68', '-23.88', '-23.54']\n"
     ]
    },
    {
     "name": "stderr",
     "output_type": "stream",
     "text": [
      " 28%|█████████████████████████████▋                                                                          | 3419/12000 [31:02<2:31:53,  1.06s/it]"
     ]
    },
    {
     "name": "stdout",
     "output_type": "stream",
     "text": [
      "Episode 3420/12000\n",
      "Fitnesses: ['-30.71', '-8.59', '-48.45', '-26.62']\n",
      "100 fitness avgs: ['-22.57', '-22.35', '-22.89', '-22.88']\n"
     ]
    },
    {
     "name": "stderr",
     "output_type": "stream",
     "text": [
      " 29%|█████████████████████████████▊                                                                          | 3439/12000 [31:32<3:31:36,  1.48s/it]"
     ]
    },
    {
     "name": "stdout",
     "output_type": "stream",
     "text": [
      "Episode 3440/12000\n",
      "Fitnesses: ['-34.64', '-65.58', '-71.32', '-68.64']\n",
      "100 fitness avgs: ['-22.42', '-23.25', '-23.01', '-22.76']\n"
     ]
    },
    {
     "name": "stderr",
     "output_type": "stream",
     "text": [
      " 29%|█████████████████████████████▉                                                                          | 3459/12000 [32:06<3:58:03,  1.67s/it]"
     ]
    },
    {
     "name": "stdout",
     "output_type": "stream",
     "text": [
      "Episode 3460/12000\n",
      "Fitnesses: ['-15.32', '-13.22', '-45.48', '-3.45']\n",
      "100 fitness avgs: ['-22.44', '-23.25', '-23.08', '-22.66']\n"
     ]
    },
    {
     "name": "stderr",
     "output_type": "stream",
     "text": [
      " 29%|██████████████████████████████▏                                                                         | 3479/12000 [32:41<3:59:46,  1.69s/it]"
     ]
    },
    {
     "name": "stdout",
     "output_type": "stream",
     "text": [
      "Episode 3480/12000\n",
      "Fitnesses: ['-4.88', '-38.74', '-31.41', '-49.99']\n",
      "100 fitness avgs: ['-21.90', '-22.24', '-22.17', '-22.35']\n"
     ]
    },
    {
     "name": "stderr",
     "output_type": "stream",
     "text": [
      " 29%|██████████████████████████████▎                                                                         | 3499/12000 [33:21<5:18:53,  2.25s/it]"
     ]
    },
    {
     "name": "stdout",
     "output_type": "stream",
     "text": [
      "Episode 3500/12000\n",
      "Fitnesses: ['-45.54', '-35.40', '-53.97', '-18.57']\n",
      "100 fitness avgs: ['-22.14', '-22.37', '-22.49', '-22.21']\n"
     ]
    },
    {
     "name": "stderr",
     "output_type": "stream",
     "text": [
      " 29%|██████████████████████████████▍                                                                         | 3519/12000 [34:14<6:25:42,  2.73s/it]"
     ]
    },
    {
     "name": "stdout",
     "output_type": "stream",
     "text": [
      "Episode 3520/12000\n",
      "Fitnesses: ['-44.04', '-17.50', '-42.99', '-61.14']\n",
      "100 fitness avgs: ['-22.24', '-22.14', '-22.16', '-22.41']\n"
     ]
    },
    {
     "name": "stderr",
     "output_type": "stream",
     "text": [
      " 29%|██████████████████████████████▋                                                                         | 3539/12000 [34:57<4:58:24,  2.12s/it]"
     ]
    },
    {
     "name": "stdout",
     "output_type": "stream",
     "text": [
      "Episode 3540/12000\n",
      "Fitnesses: ['-56.96', '-57.76', '-11.92', '-27.34']\n",
      "100 fitness avgs: ['-22.53', '-22.56', '-22.08', '-22.25']\n"
     ]
    },
    {
     "name": "stderr",
     "output_type": "stream",
     "text": [
      " 30%|██████████████████████████████▊                                                                         | 3559/12000 [35:40<5:13:04,  2.23s/it]"
     ]
    },
    {
     "name": "stdout",
     "output_type": "stream",
     "text": [
      "Episode 3560/12000\n",
      "Fitnesses: ['-34.63', '-0.56', '-71.77', '-49.90']\n",
      "100 fitness avgs: ['-22.39', '-22.05', '-23.21', '-22.54']\n"
     ]
    },
    {
     "name": "stderr",
     "output_type": "stream",
     "text": [
      " 30%|███████████████████████████████                                                                         | 3579/12000 [36:40<6:36:01,  2.82s/it]"
     ]
    },
    {
     "name": "stdout",
     "output_type": "stream",
     "text": [
      "Episode 3580/12000\n",
      "Fitnesses: ['-57.11', '-42.67', '-37.88', '-7.73']\n",
      "100 fitness avgs: ['-22.44', '-22.30', '-22.25', '-22.29']\n"
     ]
    },
    {
     "name": "stderr",
     "output_type": "stream",
     "text": [
      " 30%|███████████████████████████████▏                                                                        | 3599/12000 [37:42<8:13:22,  3.52s/it]"
     ]
    },
    {
     "name": "stdout",
     "output_type": "stream",
     "text": [
      "Episode 3600/12000\n",
      "Fitnesses: ['-56.71', '-39.86', '-37.13', '-23.15']\n",
      "100 fitness avgs: ['-22.83', '-22.66', '-22.63', '-22.45']\n"
     ]
    },
    {
     "name": "stderr",
     "output_type": "stream",
     "text": [
      " 30%|███████████████████████████████▎                                                                        | 3619/12000 [38:45<6:35:27,  2.83s/it]"
     ]
    },
    {
     "name": "stdout",
     "output_type": "stream",
     "text": [
      "Episode 3620/12000\n",
      "Fitnesses: ['-30.60', '-11.54', '-21.91', '-20.29']\n",
      "100 fitness avgs: ['-22.52', '-22.51', '-22.43', '-22.42']\n"
     ]
    },
    {
     "name": "stderr",
     "output_type": "stream",
     "text": [
      " 30%|███████████████████████████████▌                                                                        | 3639/12000 [39:43<7:25:53,  3.20s/it]"
     ]
    },
    {
     "name": "stdout",
     "output_type": "stream",
     "text": [
      "Episode 3640/12000\n",
      "Fitnesses: ['-30.66', '-19.68', '-42.60', '-1.87']\n",
      "100 fitness avgs: ['-22.67', '-22.57', '-22.69', '-22.38']\n"
     ]
    },
    {
     "name": "stderr",
     "output_type": "stream",
     "text": [
      " 30%|███████████████████████████████▋                                                                        | 3659/12000 [40:37<5:36:17,  2.42s/it]"
     ]
    },
    {
     "name": "stdout",
     "output_type": "stream",
     "text": [
      "Episode 3660/12000\n",
      "Fitnesses: ['-9.81', '-19.28', '-28.79', '-28.75']\n",
      "100 fitness avgs: ['-21.96', '-22.05', '-22.15', '-22.34']\n"
     ]
    },
    {
     "name": "stderr",
     "output_type": "stream",
     "text": [
      " 31%|███████████████████████████████▉                                                                        | 3679/12000 [41:12<4:33:05,  1.97s/it]"
     ]
    },
    {
     "name": "stdout",
     "output_type": "stream",
     "text": [
      "Episode 3680/12000\n",
      "Fitnesses: ['-20.88', '-27.37', '-32.04', '-383.17']\n",
      "100 fitness avgs: ['-21.86', '-21.93', '-21.97', '-25.48']\n"
     ]
    },
    {
     "name": "stderr",
     "output_type": "stream",
     "text": [
      " 31%|████████████████████████████████                                                                        | 3699/12000 [41:57<5:16:59,  2.29s/it]"
     ]
    },
    {
     "name": "stdout",
     "output_type": "stream",
     "text": [
      "Episode 3700/12000\n",
      "Fitnesses: ['-17.57', '-37.31', '-74.37', '-24.84']\n",
      "100 fitness avgs: ['-21.76', '-22.07', '-22.39', '-21.89']\n"
     ]
    },
    {
     "name": "stderr",
     "output_type": "stream",
     "text": [
      " 31%|████████████████████████████████▏                                                                       | 3719/12000 [42:39<4:27:10,  1.94s/it]"
     ]
    },
    {
     "name": "stdout",
     "output_type": "stream",
     "text": [
      "Episode 3720/12000\n",
      "Fitnesses: ['-26.30', '-47.87', '-11.08', '-33.59']\n",
      "100 fitness avgs: ['-21.90', '-22.12', '-21.88', '-21.97']\n"
     ]
    },
    {
     "name": "stderr",
     "output_type": "stream",
     "text": [
      " 31%|████████████████████████████████▍                                                                       | 3739/12000 [43:20<5:31:47,  2.41s/it]"
     ]
    },
    {
     "name": "stdout",
     "output_type": "stream",
     "text": [
      "Episode 3740/12000\n",
      "Fitnesses: ['-22.86', '-14.26', '-22.10', '-21.23']\n",
      "100 fitness avgs: ['-22.03', '-21.95', '-22.03', '-22.01']\n"
     ]
    },
    {
     "name": "stderr",
     "output_type": "stream",
     "text": [
      " 31%|████████████████████████████████▌                                                                       | 3759/12000 [44:13<6:11:30,  2.70s/it]"
     ]
    },
    {
     "name": "stdout",
     "output_type": "stream",
     "text": [
      "Episode 3760/12000\n",
      "Fitnesses: ['-10.67', '-742.70', '-17.82', '-8.93']\n",
      "100 fitness avgs: ['-21.87', '-29.25', '-22.02', '-21.93']\n"
     ]
    },
    {
     "name": "stderr",
     "output_type": "stream",
     "text": [
      " 31%|████████████████████████████████▊                                                                       | 3779/12000 [44:57<5:00:40,  2.19s/it]"
     ]
    },
    {
     "name": "stdout",
     "output_type": "stream",
     "text": [
      "Episode 3780/12000\n",
      "Fitnesses: ['-7.99', '-39.27', '-25.94', '-46.87']\n",
      "100 fitness avgs: ['-21.76', '-22.08', '-21.94', '-29.47']\n"
     ]
    },
    {
     "name": "stderr",
     "output_type": "stream",
     "text": [
      " 32%|████████████████████████████████▉                                                                       | 3799/12000 [45:47<6:08:06,  2.69s/it]"
     ]
    },
    {
     "name": "stdout",
     "output_type": "stream",
     "text": [
      "Episode 3800/12000\n",
      "Fitnesses: ['-24.20', '-20.77', '-20.74', '-10.61']\n",
      "100 fitness avgs: ['-21.97', '-22.12', '-29.64', '-22.01']\n"
     ]
    },
    {
     "name": "stderr",
     "output_type": "stream",
     "text": [
      " 32%|█████████████████████████████████                                                                       | 3819/12000 [46:30<4:31:56,  1.99s/it]"
     ]
    },
    {
     "name": "stdout",
     "output_type": "stream",
     "text": [
      "Episode 3820/12000\n",
      "Fitnesses: ['-17.02', '-18.50', '-17.99', '-58.99']\n",
      "100 fitness avgs: ['-22.17', '-22.18', '-22.18', '-22.69']\n"
     ]
    },
    {
     "name": "stderr",
     "output_type": "stream",
     "text": [
      " 32%|█████████████████████████████████▎                                                                      | 3839/12000 [47:08<4:43:48,  2.09s/it]"
     ]
    },
    {
     "name": "stdout",
     "output_type": "stream",
     "text": [
      "Episode 3840/12000\n",
      "Fitnesses: ['-2.76', '-13.90', '-23.34', '-9.00']\n",
      "100 fitness avgs: ['-22.03', '-22.15', '-22.23', '-22.09']\n"
     ]
    },
    {
     "name": "stderr",
     "output_type": "stream",
     "text": [
      " 32%|█████████████████████████████████▍                                                                      | 3859/12000 [47:53<5:19:31,  2.35s/it]"
     ]
    },
    {
     "name": "stdout",
     "output_type": "stream",
     "text": [
      "Episode 3860/12000\n",
      "Fitnesses: ['-31.21', '-29.09', '-28.83', '-31.29']\n",
      "100 fitness avgs: ['-22.17', '-22.15', '-22.21', '-22.17']\n"
     ]
    },
    {
     "name": "stderr",
     "output_type": "stream",
     "text": [
      " 32%|█████████████████████████████████▌                                                                      | 3879/12000 [48:34<4:15:04,  1.88s/it]"
     ]
    },
    {
     "name": "stdout",
     "output_type": "stream",
     "text": [
      "Episode 3880/12000\n",
      "Fitnesses: ['-37.71', '-11.92', '-30.74', '-73.72']\n",
      "100 fitness avgs: ['-22.11', '-21.85', '-22.04', '-22.41']\n"
     ]
    },
    {
     "name": "stderr",
     "output_type": "stream",
     "text": [
      " 32%|█████████████████████████████████▊                                                                      | 3899/12000 [49:12<4:45:23,  2.11s/it]"
     ]
    },
    {
     "name": "stdout",
     "output_type": "stream",
     "text": [
      "Episode 3900/12000\n",
      "Fitnesses: ['-36.42', '-66.50', '-31.36', '-7.41']\n",
      "100 fitness avgs: ['-22.01', '-22.50', '-21.96', '-21.97']\n"
     ]
    },
    {
     "name": "stderr",
     "output_type": "stream",
     "text": [
      " 33%|█████████████████████████████████▉                                                                      | 3919/12000 [49:56<5:00:06,  2.23s/it]"
     ]
    },
    {
     "name": "stdout",
     "output_type": "stream",
     "text": [
      "Episode 3920/12000\n",
      "Fitnesses: ['-17.36', '-39.52', '-6.99', '-53.23']\n",
      "100 fitness avgs: ['-22.02', '-22.76', '-21.92', '-22.41']\n"
     ]
    },
    {
     "name": "stderr",
     "output_type": "stream",
     "text": [
      " 33%|██████████████████████████████████▏                                                                     | 3939/12000 [50:41<4:33:08,  2.03s/it]"
     ]
    },
    {
     "name": "stdout",
     "output_type": "stream",
     "text": [
      "Episode 3940/12000\n",
      "Fitnesses: ['-260.36', '-8.20', '-42.70', '-9.20']\n",
      "100 fitness avgs: ['-24.31', '-22.64', '-22.13', '-21.80']\n"
     ]
    },
    {
     "name": "stderr",
     "output_type": "stream",
     "text": [
      " 33%|██████████████████████████████████▎                                                                     | 3959/12000 [51:15<4:26:00,  1.98s/it]"
     ]
    },
    {
     "name": "stdout",
     "output_type": "stream",
     "text": [
      "Episode 3960/12000\n",
      "Fitnesses: ['-56.10', '-332.95', '-20.56', '-42.02']\n",
      "100 fitness avgs: ['-23.15', '-25.92', '-21.96', '-23.01']\n"
     ]
    },
    {
     "name": "stderr",
     "output_type": "stream",
     "text": [
      " 33%|██████████████████████████████████▍                                                                     | 3979/12000 [52:02<4:55:23,  2.21s/it]"
     ]
    },
    {
     "name": "stdout",
     "output_type": "stream",
     "text": [
      "Episode 3980/12000\n",
      "Fitnesses: ['-58.11', '-13.67', '-8.82', '-36.14']\n",
      "100 fitness avgs: ['-22.43', '-21.98', '-23.13', '-23.26']\n"
     ]
    },
    {
     "name": "stderr",
     "output_type": "stream",
     "text": [
      " 33%|██████████████████████████████████▋                                                                     | 3999/12000 [52:42<4:12:25,  1.89s/it]"
     ]
    },
    {
     "name": "stdout",
     "output_type": "stream",
     "text": [
      "Episode 4000/12000\n",
      "Fitnesses: ['-50.97', '-28.02', '-16.75', '-28.87']\n",
      "100 fitness avgs: ['-23.50', '-23.27', '-23.29', '-22.14']\n"
     ]
    },
    {
     "name": "stderr",
     "output_type": "stream",
     "text": [
      " 33%|██████████████████████████████████▊                                                                     | 4019/12000 [53:23<5:14:08,  2.36s/it]"
     ]
    },
    {
     "name": "stdout",
     "output_type": "stream",
     "text": [
      "Episode 4020/12000\n",
      "Fitnesses: ['-37.84', '-6.66', '-15.29', '-6.89']\n",
      "100 fitness avgs: ['-22.57', '-22.24', '-22.33', '-22.26']\n"
     ]
    },
    {
     "name": "stderr",
     "output_type": "stream",
     "text": [
      " 34%|███████████████████████████████████                                                                     | 4039/12000 [54:09<5:13:42,  2.36s/it]"
     ]
    },
    {
     "name": "stdout",
     "output_type": "stream",
     "text": [
      "Episode 4040/12000\n",
      "Fitnesses: ['-45.69', '-18.90', '-4.78', '-19.02']\n",
      "100 fitness avgs: ['-22.47', '-22.54', '-22.09', '-22.21']\n"
     ]
    },
    {
     "name": "stderr",
     "output_type": "stream",
     "text": [
      " 34%|███████████████████████████████████▏                                                                    | 4059/12000 [54:48<4:08:39,  1.88s/it]"
     ]
    },
    {
     "name": "stdout",
     "output_type": "stream",
     "text": [
      "Episode 4060/12000\n",
      "Fitnesses: ['-39.62', '-23.36', '-20.39', '-42.82']\n",
      "100 fitness avgs: ['-22.31', '-22.60', '-22.51', '-22.34']\n"
     ]
    },
    {
     "name": "stderr",
     "output_type": "stream",
     "text": [
      " 34%|███████████████████████████████████▎                                                                    | 4079/12000 [55:31<5:16:26,  2.40s/it]"
     ]
    },
    {
     "name": "stdout",
     "output_type": "stream",
     "text": [
      "Episode 4080/12000\n",
      "Fitnesses: ['-8.16', '-54.53', '-14.71', '-25.13']\n",
      "100 fitness avgs: ['-22.43', '-22.74', '-22.50', '-22.60']\n"
     ]
    },
    {
     "name": "stderr",
     "output_type": "stream",
     "text": [
      " 34%|███████████████████████████████████▌                                                                    | 4099/12000 [56:15<4:45:17,  2.17s/it]"
     ]
    },
    {
     "name": "stdout",
     "output_type": "stream",
     "text": [
      "Episode 4100/12000\n",
      "Fitnesses: ['-643.42', '-2.66', '-44.29', '-33.30']\n",
      "100 fitness avgs: ['-28.76', '-22.52', '-22.77', '-22.66']\n"
     ]
    },
    {
     "name": "stderr",
     "output_type": "stream",
     "text": [
      " 34%|███████████████████████████████████▋                                                                    | 4119/12000 [56:55<4:19:00,  1.97s/it]"
     ]
    },
    {
     "name": "stdout",
     "output_type": "stream",
     "text": [
      "Episode 4120/12000\n",
      "Fitnesses: ['-21.53', '-65.82', '-24.29', '-31.86']\n",
      "100 fitness avgs: ['-22.58', '-23.16', '-22.85', '-22.93']\n"
     ]
    },
    {
     "name": "stderr",
     "output_type": "stream",
     "text": [
      " 34%|███████████████████████████████████▊                                                                    | 4139/12000 [57:42<5:22:09,  2.46s/it]"
     ]
    },
    {
     "name": "stdout",
     "output_type": "stream",
     "text": [
      "Episode 4140/12000\n",
      "Fitnesses: ['-40.32', '-14.60', '-37.24', '-59.99']\n",
      "100 fitness avgs: ['-22.90', '-22.92', '-23.14', '-23.37']\n"
     ]
    },
    {
     "name": "stderr",
     "output_type": "stream",
     "text": [
      " 35%|████████████████████████████████████                                                                    | 4159/12000 [58:28<4:40:47,  2.15s/it]"
     ]
    },
    {
     "name": "stdout",
     "output_type": "stream",
     "text": [
      "Episode 4160/12000\n",
      "Fitnesses: ['-53.48', '-30.49', '-12.78', '-38.12']\n",
      "100 fitness avgs: ['-23.38', '-23.15', '-23.20', '-23.45']\n"
     ]
    },
    {
     "name": "stderr",
     "output_type": "stream",
     "text": [
      " 35%|████████████████████████████████████▏                                                                   | 4179/12000 [59:08<4:40:04,  2.15s/it]"
     ]
    },
    {
     "name": "stdout",
     "output_type": "stream",
     "text": [
      "Episode 4180/12000\n",
      "Fitnesses: ['-15.20', '-6.63', '-47.51', '-22.43']\n",
      "100 fitness avgs: ['-22.95', '-22.87', '-23.53', '-22.98']\n"
     ]
    },
    {
     "name": "stderr",
     "output_type": "stream",
     "text": [
      " 35%|████████████████████████████████████▍                                                                   | 4199/12000 [59:58<5:19:04,  2.45s/it]"
     ]
    },
    {
     "name": "stdout",
     "output_type": "stream",
     "text": [
      "Episode 4200/12000\n",
      "Fitnesses: ['-20.05', '-60.94', '-1.51', '-35.49']\n",
      "100 fitness avgs: ['-22.97', '-23.37', '-23.44', '-23.12']\n"
     ]
    },
    {
     "name": "stderr",
     "output_type": "stream",
     "text": [
      " 35%|███████████████████████████████████▊                                                                  | 4219/12000 [1:00:38<3:49:02,  1.77s/it]"
     ]
    },
    {
     "name": "stdout",
     "output_type": "stream",
     "text": [
      "Episode 4220/12000\n",
      "Fitnesses: ['-544.50', '-15.98', '-6.05', '-16.72']\n",
      "100 fitness avgs: ['-28.70', '-22.94', '-23.25', '-23.43']\n"
     ]
    },
    {
     "name": "stderr",
     "output_type": "stream",
     "text": [
      " 35%|████████████████████████████████████                                                                  | 4239/12000 [1:01:13<4:20:28,  2.01s/it]"
     ]
    },
    {
     "name": "stdout",
     "output_type": "stream",
     "text": [
      "Episode 4240/12000\n",
      "Fitnesses: ['-7.42', '-42.43', '-90.54', '-64.29']\n",
      "100 fitness avgs: ['-23.27', '-23.31', '-29.55', '-23.53']\n"
     ]
    },
    {
     "name": "stderr",
     "output_type": "stream",
     "text": [
      " 35%|████████████████████████████████████▏                                                                 | 4259/12000 [1:01:55<4:35:25,  2.13s/it]"
     ]
    },
    {
     "name": "stdout",
     "output_type": "stream",
     "text": [
      "Episode 4260/12000\n",
      "Fitnesses: ['-62.68', '-32.03', '-40.84', '-1.10']\n",
      "100 fitness avgs: ['-23.80', '-23.50', '-29.87', '-23.19']\n"
     ]
    },
    {
     "name": "stderr",
     "output_type": "stream",
     "text": [
      " 36%|████████████████████████████████████▎                                                                 | 4279/12000 [1:02:30<3:18:14,  1.54s/it]"
     ]
    },
    {
     "name": "stdout",
     "output_type": "stream",
     "text": [
      "Episode 4280/12000\n",
      "Fitnesses: ['-18.41', '-27.57', '-10.52', '-51.13']\n",
      "100 fitness avgs: ['-22.47', '-22.56', '-29.08', '-29.48']\n"
     ]
    },
    {
     "name": "stderr",
     "output_type": "stream",
     "text": [
      " 36%|████████████████████████████████████▌                                                                 | 4299/12000 [1:02:55<2:42:40,  1.27s/it]"
     ]
    },
    {
     "name": "stdout",
     "output_type": "stream",
     "text": [
      "Episode 4300/12000\n",
      "Fitnesses: ['-281.59', '-64.74', '-82.78', '-209.49']\n",
      "100 fitness avgs: ['-31.31', '-22.54', '-29.32', '-30.59']\n"
     ]
    },
    {
     "name": "stderr",
     "output_type": "stream",
     "text": [
      " 36%|████████████████████████████████████▋                                                                 | 4319/12000 [1:03:35<4:42:27,  2.21s/it]"
     ]
    },
    {
     "name": "stdout",
     "output_type": "stream",
     "text": [
      "Episode 4320/12000\n",
      "Fitnesses: ['-31.95', '-23.79', '-86.44', '-598.34']\n",
      "100 fitness avgs: ['-22.64', '-30.61', '-23.19', '-35.09']\n"
     ]
    },
    {
     "name": "stderr",
     "output_type": "stream",
     "text": [
      " 36%|████████████████████████████████████▉                                                                 | 4339/12000 [1:04:12<3:56:03,  1.85s/it]"
     ]
    },
    {
     "name": "stdout",
     "output_type": "stream",
     "text": [
      "Episode 4340/12000\n",
      "Fitnesses: ['-14.40', '-61.19', '-55.20', '-31.18']\n",
      "100 fitness avgs: ['-30.63', '-23.13', '-31.04', '-23.37']\n"
     ]
    },
    {
     "name": "stderr",
     "output_type": "stream",
     "text": [
      " 36%|█████████████████████████████████████                                                                 | 4359/12000 [1:04:44<3:09:47,  1.49s/it]"
     ]
    },
    {
     "name": "stdout",
     "output_type": "stream",
     "text": [
      "Episode 4360/12000\n",
      "Fitnesses: ['-10.23', '-6.73', '-58.68', '-25.97']\n",
      "100 fitness avgs: ['-30.55', '-23.26', '-31.44', '-23.45']\n"
     ]
    },
    {
     "name": "stderr",
     "output_type": "stream",
     "text": [
      " 36%|█████████████████████████████████████▏                                                                | 4379/12000 [1:05:21<4:35:58,  2.17s/it]"
     ]
    },
    {
     "name": "stdout",
     "output_type": "stream",
     "text": [
      "Episode 4380/12000\n",
      "Fitnesses: ['-15.57', '-58.11', '-39.07', '-34.25']\n",
      "100 fitness avgs: ['-23.16', '-23.77', '-23.39', '-30.63']\n"
     ]
    },
    {
     "name": "stderr",
     "output_type": "stream",
     "text": [
      " 37%|█████████████████████████████████████▍                                                                | 4399/12000 [1:06:10<5:12:59,  2.47s/it]"
     ]
    },
    {
     "name": "stdout",
     "output_type": "stream",
     "text": [
      "Episode 4400/12000\n",
      "Fitnesses: ['-2.75', '-13.68', '-19.93', '-21.72']\n",
      "100 fitness avgs: ['-22.79', '-30.38', '-23.20', '-23.21']\n"
     ]
    },
    {
     "name": "stderr",
     "output_type": "stream",
     "text": [
      " 37%|█████████████████████████████████████▌                                                                | 4419/12000 [1:06:42<3:08:30,  1.49s/it]"
     ]
    },
    {
     "name": "stdout",
     "output_type": "stream",
     "text": [
      "Episode 4420/12000\n",
      "Fitnesses: ['-8.55', '-15.78', '-4.28', '-20.02']\n",
      "100 fitness avgs: ['-22.78', '-30.44', '-30.33', '-30.48']\n"
     ]
    },
    {
     "name": "stderr",
     "output_type": "stream",
     "text": [
      " 37%|█████████████████████████████████████▋                                                                | 4439/12000 [1:07:02<2:09:33,  1.03s/it]"
     ]
    },
    {
     "name": "stdout",
     "output_type": "stream",
     "text": [
      "Episode 4440/12000\n",
      "Fitnesses: ['-10.88', '-32.57', '-12.42', '-45.11']\n",
      "100 fitness avgs: ['-30.26', '-30.47', '-30.39', '-30.71']\n"
     ]
    },
    {
     "name": "stderr",
     "output_type": "stream",
     "text": [
      " 37%|█████████████████████████████████████▉                                                                | 4460/12000 [1:07:28<2:37:33,  1.25s/it]"
     ]
    },
    {
     "name": "stdout",
     "output_type": "stream",
     "text": [
      "Episode 4460/12000\n",
      "Fitnesses: ['-3.16', '-27.22', '-66.30', '-18.25']\n",
      "100 fitness avgs: ['-29.90', '-30.14', '-30.66', '-30.05']\n"
     ]
    },
    {
     "name": "stderr",
     "output_type": "stream",
     "text": [
      " 37%|██████████████████████████████████████                                                                | 4479/12000 [1:07:51<2:33:57,  1.23s/it]"
     ]
    },
    {
     "name": "stdout",
     "output_type": "stream",
     "text": [
      "Episode 4480/12000\n",
      "Fitnesses: ['-19.32', '-16.90', '-5.23', '-20.81']\n",
      "100 fitness avgs: ['-29.98', '-30.10', '-29.99', '-30.23']\n"
     ]
    },
    {
     "name": "stderr",
     "output_type": "stream",
     "text": [
      " 37%|██████████████████████████████████████▏                                                               | 4499/12000 [1:08:15<2:36:48,  1.25s/it]"
     ]
    },
    {
     "name": "stdout",
     "output_type": "stream",
     "text": [
      "Episode 4500/12000\n",
      "Fitnesses: ['-29.54', '-26.07', '-46.56', '-8.80']\n",
      "100 fitness avgs: ['-29.92', '-29.88', '-30.33', '-29.70']\n"
     ]
    },
    {
     "name": "stderr",
     "output_type": "stream",
     "text": [
      " 38%|██████████████████████████████████████▍                                                               | 4519/12000 [1:08:36<2:08:08,  1.03s/it]"
     ]
    },
    {
     "name": "stdout",
     "output_type": "stream",
     "text": [
      "Episode 4520/12000\n",
      "Fitnesses: ['-33.95', '-24.26', '-51.90', '-32.40']\n",
      "100 fitness avgs: ['-29.88', '-29.79', '-30.06', '-30.08']\n"
     ]
    },
    {
     "name": "stderr",
     "output_type": "stream",
     "text": [
      " 38%|██████████████████████████████████████▌                                                               | 4540/12000 [1:08:57<2:07:39,  1.03s/it]"
     ]
    },
    {
     "name": "stdout",
     "output_type": "stream",
     "text": [
      "Episode 4540/12000\n",
      "Fitnesses: ['-37.51', '-12.54', '-52.07', '-30.59']\n",
      "100 fitness avgs: ['-29.56', '-29.31', '-29.71', '-29.49']\n"
     ]
    },
    {
     "name": "stderr",
     "output_type": "stream",
     "text": [
      " 38%|██████████████████████████████████████▊                                                               | 4559/12000 [1:09:18<2:32:37,  1.23s/it]"
     ]
    },
    {
     "name": "stdout",
     "output_type": "stream",
     "text": [
      "Episode 4560/12000\n",
      "Fitnesses: ['-4.69', '-31.31', '-51.77', '-46.89']\n",
      "100 fitness avgs: ['-29.03', '-29.48', '-29.68', '-29.70']\n"
     ]
    },
    {
     "name": "stderr",
     "output_type": "stream",
     "text": [
      " 38%|██████████████████████████████████████▉                                                               | 4579/12000 [1:09:42<2:31:19,  1.22s/it]"
     ]
    },
    {
     "name": "stdout",
     "output_type": "stream",
     "text": [
      "Episode 4580/12000\n",
      "Fitnesses: ['-36.07', '-53.40', '-8.67', '-29.62']\n",
      "100 fitness avgs: ['-29.25', '-29.43', '-29.65', '-29.86']\n"
     ]
    },
    {
     "name": "stderr",
     "output_type": "stream",
     "text": [
      " 38%|███████████████████████████████████████                                                               | 4599/12000 [1:10:13<3:15:04,  1.58s/it]"
     ]
    },
    {
     "name": "stdout",
     "output_type": "stream",
     "text": [
      "Episode 4600/12000\n",
      "Fitnesses: ['-31.36', '-29.54', '-323.30', '-7.35']\n",
      "100 fitness avgs: ['-29.92', '-29.50', '-32.84', '-29.68']\n"
     ]
    },
    {
     "name": "stderr",
     "output_type": "stream",
     "text": [
      " 38%|███████████████████████████████████████▎                                                              | 4619/12000 [1:10:35<2:09:54,  1.06s/it]"
     ]
    },
    {
     "name": "stdout",
     "output_type": "stream",
     "text": [
      "Episode 4620/12000\n",
      "Fitnesses: ['-3.20', '-75.08', '-23.04', '-12.58']\n",
      "100 fitness avgs: ['-29.54', '-30.49', '-29.73', '-29.87']\n"
     ]
    },
    {
     "name": "stderr",
     "output_type": "stream",
     "text": [
      " 39%|███████████████████████████████████████▍                                                              | 4640/12000 [1:10:56<2:11:21,  1.07s/it]"
     ]
    },
    {
     "name": "stdout",
     "output_type": "stream",
     "text": [
      "Episode 4640/12000\n",
      "Fitnesses: ['-12.46', '-7.73', '-42.66', '-22.88']\n",
      "100 fitness avgs: ['-29.53', '-29.48', '-29.83', '-29.97']\n"
     ]
    },
    {
     "name": "stderr",
     "output_type": "stream",
     "text": [
      " 39%|███████████████████████████████████████▌                                                              | 4659/12000 [1:11:17<2:35:22,  1.27s/it]"
     ]
    },
    {
     "name": "stdout",
     "output_type": "stream",
     "text": [
      "Episode 4660/12000\n",
      "Fitnesses: ['-13.84', '-45.40', '-93.26', '-7.85']\n",
      "100 fitness avgs: ['-29.56', '-29.88', '-30.40', '-29.50']\n"
     ]
    },
    {
     "name": "stderr",
     "output_type": "stream",
     "text": [
      " 39%|███████████████████████████████████████▊                                                              | 4679/12000 [1:11:42<2:36:26,  1.28s/it]"
     ]
    },
    {
     "name": "stdout",
     "output_type": "stream",
     "text": [
      "Episode 4680/12000\n",
      "Fitnesses: ['-18.91', '-40.73', '-65.26', '-27.70']\n",
      "100 fitness avgs: ['-29.62', '-29.84', '-30.08', '-30.08']\n"
     ]
    },
    {
     "name": "stderr",
     "output_type": "stream",
     "text": [
      " 39%|███████████████████████████████████████▉                                                              | 4699/12000 [1:12:06<2:29:01,  1.22s/it]"
     ]
    },
    {
     "name": "stdout",
     "output_type": "stream",
     "text": [
      "Episode 4700/12000\n",
      "Fitnesses: ['-31.28', '-39.05', '-14.94', '-28.40']\n",
      "100 fitness avgs: ['-29.76', '-29.84', '-29.60', '-30.20']\n"
     ]
    },
    {
     "name": "stderr",
     "output_type": "stream",
     "text": [
      " 39%|████████████████████████████████████████                                                              | 4719/12000 [1:12:29<2:06:28,  1.04s/it]"
     ]
    },
    {
     "name": "stdout",
     "output_type": "stream",
     "text": [
      "Episode 4720/12000\n",
      "Fitnesses: ['-21.36', '-10.03', '-24.48', '-10.71']\n",
      "100 fitness avgs: ['-29.64', '-30.12', '-29.83', '-29.53']\n"
     ]
    },
    {
     "name": "stderr",
     "output_type": "stream",
     "text": [
      " 39%|████████████████████████████████████████▎                                                             | 4739/12000 [1:12:50<2:05:46,  1.04s/it]"
     ]
    },
    {
     "name": "stdout",
     "output_type": "stream",
     "text": [
      "Episode 4740/12000\n",
      "Fitnesses: ['-68.33', '-32.23', '-23.95', '-61.25']\n",
      "100 fitness avgs: ['-30.65', '-29.70', '-30.21', '-30.10']\n"
     ]
    },
    {
     "name": "stderr",
     "output_type": "stream",
     "text": [
      " 40%|████████████████████████████████████████▍                                                             | 4759/12000 [1:13:11<2:27:22,  1.22s/it]"
     ]
    },
    {
     "name": "stdout",
     "output_type": "stream",
     "text": [
      "Episode 4760/12000\n",
      "Fitnesses: ['-66.94', '-16.96', '-7.47', '-2.94']\n",
      "100 fitness avgs: ['-30.59', '-30.09', '-29.48', '-29.84']\n"
     ]
    },
    {
     "name": "stderr",
     "output_type": "stream",
     "text": [
      " 40%|████████████████████████████████████████▌                                                             | 4779/12000 [1:13:35<2:32:30,  1.27s/it]"
     ]
    },
    {
     "name": "stdout",
     "output_type": "stream",
     "text": [
      "Episode 4780/12000\n",
      "Fitnesses: ['-36.60', '-26.62', '-21.50', '-7.91']\n",
      "100 fitness avgs: ['-29.96', '-29.51', '-29.81', '-29.32']\n"
     ]
    },
    {
     "name": "stderr",
     "output_type": "stream",
     "text": [
      " 40%|████████████████████████████████████████▊                                                             | 4799/12000 [1:14:00<2:25:22,  1.21s/it]"
     ]
    },
    {
     "name": "stdout",
     "output_type": "stream",
     "text": [
      "Episode 4800/12000\n",
      "Fitnesses: ['-74.40', '-121.08', '-16.36', '-17.29']\n",
      "100 fitness avgs: ['-29.87', '-30.52', '-29.77', '-29.78']\n"
     ]
    },
    {
     "name": "stderr",
     "output_type": "stream",
     "text": [
      " 40%|████████████████████████████████████████▉                                                             | 4819/12000 [1:14:24<2:10:14,  1.09s/it]"
     ]
    },
    {
     "name": "stdout",
     "output_type": "stream",
     "text": [
      "Episode 4820/12000\n",
      "Fitnesses: ['-13.08', '-48.26', '-1.41', '-8.71']\n",
      "100 fitness avgs: ['-29.68', '-30.13', '-29.57', '-29.64']\n"
     ]
    },
    {
     "name": "stderr",
     "output_type": "stream",
     "text": [
      " 40%|█████████████████████████████████████████▏                                                            | 4839/12000 [1:14:44<2:01:52,  1.02s/it]"
     ]
    },
    {
     "name": "stdout",
     "output_type": "stream",
     "text": [
      "Episode 4840/12000\n",
      "Fitnesses: ['-9.84', '-47.09', '-24.58', '-0.98']\n",
      "100 fitness avgs: ['-29.64', '-30.02', '-29.79', '-29.66']\n"
     ]
    },
    {
     "name": "stderr",
     "output_type": "stream",
     "text": [
      " 40%|█████████████████████████████████████████▎                                                            | 4859/12000 [1:15:03<2:00:57,  1.02s/it]"
     ]
    },
    {
     "name": "stdout",
     "output_type": "stream",
     "text": [
      "Episode 4860/12000\n",
      "Fitnesses: ['-12.65', '-115.59', '-79.71', '-27.09']\n",
      "100 fitness avgs: ['-29.69', '-30.85', '-30.71', '-30.19']\n"
     ]
    },
    {
     "name": "stderr",
     "output_type": "stream",
     "text": [
      " 41%|█████████████████████████████████████████▍                                                            | 4879/12000 [1:15:28<2:25:47,  1.23s/it]"
     ]
    },
    {
     "name": "stdout",
     "output_type": "stream",
     "text": [
      "Episode 4880/12000\n",
      "Fitnesses: ['-40.60', '-60.00', '-26.97', '-15.86']\n",
      "100 fitness avgs: ['-29.64', '-30.33', '-30.00', '-30.42']\n"
     ]
    },
    {
     "name": "stderr",
     "output_type": "stream",
     "text": [
      " 41%|█████████████████████████████████████████▋                                                            | 4899/12000 [1:15:52<2:25:17,  1.23s/it]"
     ]
    },
    {
     "name": "stdout",
     "output_type": "stream",
     "text": [
      "Episode 4900/12000\n",
      "Fitnesses: ['-7.33', '-19.58', '-41.97', '-28.19']\n",
      "100 fitness avgs: ['-29.93', '-29.28', '-30.28', '-30.05']\n"
     ]
    },
    {
     "name": "stderr",
     "output_type": "stream",
     "text": [
      " 41%|█████████████████████████████████████████▊                                                            | 4919/12000 [1:16:16<2:25:57,  1.24s/it]"
     ]
    },
    {
     "name": "stdout",
     "output_type": "stream",
     "text": [
      "Episode 4920/12000\n",
      "Fitnesses: ['-36.52', '-17.50', '-96.30', '-24.14']\n",
      "100 fitness avgs: ['-30.16', '-29.97', '-30.88', '-30.04']\n"
     ]
    },
    {
     "name": "stderr",
     "output_type": "stream",
     "text": [
      " 41%|█████████████████████████████████████████▉                                                            | 4940/12000 [1:16:38<2:00:38,  1.03s/it]"
     ]
    },
    {
     "name": "stdout",
     "output_type": "stream",
     "text": [
      "Episode 4940/12000\n",
      "Fitnesses: ['-43.62', '-44.87', '-83.64', '-86.81']\n",
      "100 fitness avgs: ['-29.95', '-30.03', '-30.35', '-30.45']\n"
     ]
    },
    {
     "name": "stderr",
     "output_type": "stream",
     "text": [
      " 41%|██████████████████████████████████████████▏                                                           | 4960/12000 [1:16:57<1:59:41,  1.02s/it]"
     ]
    },
    {
     "name": "stdout",
     "output_type": "stream",
     "text": [
      "Episode 4960/12000\n",
      "Fitnesses: ['-67.84', '-34.04', '-41.95', '-44.86']\n",
      "100 fitness avgs: ['-30.47', '-30.63', '-30.61', '-30.24']\n"
     ]
    },
    {
     "name": "stderr",
     "output_type": "stream",
     "text": [
      " 41%|██████████████████████████████████████████▎                                                           | 4979/12000 [1:17:18<2:27:02,  1.26s/it]"
     ]
    },
    {
     "name": "stdout",
     "output_type": "stream",
     "text": [
      "Episode 4980/12000\n",
      "Fitnesses: ['-67.06', '-73.67', '-35.42', '-8.61']\n",
      "100 fitness avgs: ['-31.25', '-31.32', '-30.93', '-30.66']\n"
     ]
    },
    {
     "name": "stderr",
     "output_type": "stream",
     "text": [
      " 42%|██████████████████████████████████████████▍                                                           | 4999/12000 [1:17:49<3:04:25,  1.58s/it]"
     ]
    },
    {
     "name": "stdout",
     "output_type": "stream",
     "text": [
      "Episode 5000/12000\n",
      "Fitnesses: ['-17.91', '-108.82', '-42.73', '-212.89']\n",
      "100 fitness avgs: ['-30.65', '-31.82', '-31.48', '-32.60']\n"
     ]
    },
    {
     "name": "stderr",
     "output_type": "stream",
     "text": [
      " 42%|██████████████████████████████████████████▋                                                           | 5019/12000 [1:18:13<2:20:52,  1.21s/it]"
     ]
    },
    {
     "name": "stdout",
     "output_type": "stream",
     "text": [
      "Episode 5020/12000\n",
      "Fitnesses: ['-22.74', '-31.86', '-61.96', '-15.85']\n",
      "100 fitness avgs: ['-30.73', '-31.65', '-31.12', '-30.66']\n"
     ]
    },
    {
     "name": "stderr",
     "output_type": "stream",
     "text": [
      " 42%|██████████████████████████████████████████▊                                                           | 5039/12000 [1:18:34<1:56:50,  1.01s/it]"
     ]
    },
    {
     "name": "stdout",
     "output_type": "stream",
     "text": [
      "Episode 5040/12000\n",
      "Fitnesses: ['-25.85', '-25.58', '-68.10', '-57.17']\n",
      "100 fitness avgs: ['-30.80', '-30.86', '-31.22', '-31.11']\n"
     ]
    },
    {
     "name": "stderr",
     "output_type": "stream",
     "text": [
      " 42%|███████████████████████████████████████████                                                           | 5060/12000 [1:18:55<1:55:37,  1.00it/s]"
     ]
    },
    {
     "name": "stdout",
     "output_type": "stream",
     "text": [
      "Episode 5060/12000\n",
      "Fitnesses: ['-6.04', '-49.68', '-29.01', '-45.75']\n",
      "100 fitness avgs: ['-30.85', '-31.53', '-31.08', '-31.18']\n"
     ]
    },
    {
     "name": "stderr",
     "output_type": "stream",
     "text": [
      " 42%|███████████████████████████████████████████▏                                                          | 5079/12000 [1:19:15<2:18:46,  1.20s/it]"
     ]
    },
    {
     "name": "stdout",
     "output_type": "stream",
     "text": [
      "Episode 5080/12000\n",
      "Fitnesses: ['-63.43', '-22.44', '-30.12', '-7.57']\n",
      "100 fitness avgs: ['-30.92', '-30.74', '-30.82', '-30.37']\n"
     ]
    },
    {
     "name": "stderr",
     "output_type": "stream",
     "text": [
      " 42%|███████████████████████████████████████████▎                                                          | 5099/12000 [1:19:39<2:21:25,  1.23s/it]"
     ]
    },
    {
     "name": "stdout",
     "output_type": "stream",
     "text": [
      "Episode 5100/12000\n",
      "Fitnesses: ['-7.98', '-17.97', '-48.13', '-4.49']\n",
      "100 fitness avgs: ['-30.22', '-30.32', '-31.00', '-30.64']\n"
     ]
    },
    {
     "name": "stderr",
     "output_type": "stream",
     "text": [
      " 43%|███████████████████████████████████████████▌                                                          | 5119/12000 [1:20:09<3:02:07,  1.59s/it]"
     ]
    },
    {
     "name": "stdout",
     "output_type": "stream",
     "text": [
      "Episode 5120/12000\n",
      "Fitnesses: ['-711.48', '-44.64', '-14.84', '-74.56']\n",
      "100 fitness avgs: ['-37.66', '-31.00', '-30.70', '-31.30']\n"
     ]
    },
    {
     "name": "stderr",
     "output_type": "stream",
     "text": [
      " 43%|███████████████████████████████████████████▋                                                          | 5139/12000 [1:20:31<1:54:12,  1.00it/s]"
     ]
    },
    {
     "name": "stdout",
     "output_type": "stream",
     "text": [
      "Episode 5140/12000\n",
      "Fitnesses: ['-31.06', '-18.28', '-27.24', '-24.59']\n",
      "100 fitness avgs: ['-30.79', '-30.66', '-31.05', '-30.72']\n"
     ]
    },
    {
     "name": "stderr",
     "output_type": "stream",
     "text": [
      " 43%|███████████████████████████████████████████▊                                                          | 5159/12000 [1:20:50<1:53:48,  1.00it/s]"
     ]
    },
    {
     "name": "stdout",
     "output_type": "stream",
     "text": [
      "Episode 5160/12000\n",
      "Fitnesses: ['-21.67', '-4.21', '-33.23', '-64.91']\n",
      "100 fitness avgs: ['-30.70', '-30.58', '-30.87', '-31.19']\n"
     ]
    },
    {
     "name": "stderr",
     "output_type": "stream",
     "text": [
      " 43%|████████████████████████████████████████████                                                          | 5179/12000 [1:21:11<2:13:12,  1.17s/it]"
     ]
    },
    {
     "name": "stdout",
     "output_type": "stream",
     "text": [
      "Episode 5180/12000\n",
      "Fitnesses: ['-40.03', '-58.36', '-8.93', '-33.61']\n",
      "100 fitness avgs: ['-30.05', '-30.34', '-30.35', '-29.99']\n"
     ]
    },
    {
     "name": "stderr",
     "output_type": "stream",
     "text": [
      " 43%|████████████████████████████████████████████▏                                                         | 5199/12000 [1:21:34<2:16:47,  1.21s/it]"
     ]
    },
    {
     "name": "stdout",
     "output_type": "stream",
     "text": [
      "Episode 5200/12000\n",
      "Fitnesses: ['-0.40', '-43.20', '-28.91', '-16.30']\n",
      "100 fitness avgs: ['-30.22', '-30.29', '-30.21', '-30.02']\n"
     ]
    },
    {
     "name": "stderr",
     "output_type": "stream",
     "text": [
      " 43%|████████████████████████████████████████████▎                                                         | 5219/12000 [1:21:58<2:13:40,  1.18s/it]"
     ]
    },
    {
     "name": "stdout",
     "output_type": "stream",
     "text": [
      "Episode 5220/12000\n",
      "Fitnesses: ['-14.11', '-78.72', '-65.91', '-23.61']\n",
      "100 fitness avgs: ['-30.33', '-30.97', '-30.83', '-30.42']\n"
     ]
    },
    {
     "name": "stderr",
     "output_type": "stream",
     "text": [
      " 44%|████████████████████████████████████████████▌                                                         | 5239/12000 [1:22:21<2:05:30,  1.11s/it]"
     ]
    },
    {
     "name": "stdout",
     "output_type": "stream",
     "text": [
      "Episode 5240/12000\n",
      "Fitnesses: ['-35.33', '-8.13', '-69.78', '-45.88']\n",
      "100 fitness avgs: ['-30.45', '-30.69', '-30.89', '-31.06']\n"
     ]
    },
    {
     "name": "stderr",
     "output_type": "stream",
     "text": [
      " 44%|████████████████████████████████████████████▋                                                         | 5259/12000 [1:22:40<1:51:11,  1.01it/s]"
     ]
    },
    {
     "name": "stdout",
     "output_type": "stream",
     "text": [
      "Episode 5260/12000\n",
      "Fitnesses: ['-15.46', '-51.35', '-28.20', '-39.78']\n",
      "100 fitness avgs: ['-30.53', '-31.27', '-30.66', '-30.78']\n"
     ]
    },
    {
     "name": "stderr",
     "output_type": "stream",
     "text": [
      " 44%|████████████████████████████████████████████▊                                                         | 5279/12000 [1:22:59<1:50:37,  1.01it/s]"
     ]
    },
    {
     "name": "stdout",
     "output_type": "stream",
     "text": [
      "Episode 5280/12000\n",
      "Fitnesses: ['-42.22', '-14.79', '-61.71', '-15.87']\n",
      "100 fitness avgs: ['-30.95', '-30.80', '-31.38', '-30.81']\n"
     ]
    },
    {
     "name": "stderr",
     "output_type": "stream",
     "text": [
      " 44%|█████████████████████████████████████████████                                                         | 5299/12000 [1:23:22<2:11:48,  1.18s/it]"
     ]
    },
    {
     "name": "stdout",
     "output_type": "stream",
     "text": [
      "Episode 5300/12000\n",
      "Fitnesses: ['-9.11', '-24.79', '-21.77', '-39.13']\n",
      "100 fitness avgs: ['-30.58', '-30.73', '-30.72', '-30.88']\n"
     ]
    },
    {
     "name": "stderr",
     "output_type": "stream",
     "text": [
      " 44%|█████████████████████████████████████████████▏                                                        | 5319/12000 [1:23:45<2:13:04,  1.20s/it]"
     ]
    },
    {
     "name": "stdout",
     "output_type": "stream",
     "text": [
      "Episode 5320/12000\n",
      "Fitnesses: ['-17.90', '-36.19', '-18.80', '-32.00']\n",
      "100 fitness avgs: ['-30.74', '-31.06', '-30.89', '-30.88']\n"
     ]
    },
    {
     "name": "stderr",
     "output_type": "stream",
     "text": [
      " 44%|█████████████████████████████████████████████▍                                                        | 5339/12000 [1:24:09<2:12:21,  1.19s/it]"
     ]
    },
    {
     "name": "stdout",
     "output_type": "stream",
     "text": [
      "Episode 5340/12000\n",
      "Fitnesses: ['-20.23', '-31.76', '-137.30', '-44.07']\n",
      "100 fitness avgs: ['-30.82', '-31.08', '-32.13', '-31.21']\n"
     ]
    },
    {
     "name": "stderr",
     "output_type": "stream",
     "text": [
      " 45%|█████████████████████████████████████████████▌                                                        | 5360/12000 [1:24:31<1:48:49,  1.02it/s]"
     ]
    },
    {
     "name": "stdout",
     "output_type": "stream",
     "text": [
      "Episode 5360/12000\n",
      "Fitnesses: ['-25.37', '-61.33', '-19.60', '-28.35']\n",
      "100 fitness avgs: ['-31.01', '-31.37', '-31.21', '-31.04']\n"
     ]
    },
    {
     "name": "stderr",
     "output_type": "stream",
     "text": [
      " 45%|█████████████████████████████████████████████▋                                                        | 5380/12000 [1:24:50<1:47:23,  1.03it/s]"
     ]
    },
    {
     "name": "stdout",
     "output_type": "stream",
     "text": [
      "Episode 5380/12000\n",
      "Fitnesses: ['-16.48', '-59.04', '-41.58', '-68.33']\n",
      "100 fitness avgs: ['-31.06', '-31.48', '-31.31', '-31.40']\n"
     ]
    },
    {
     "name": "stderr",
     "output_type": "stream",
     "text": [
      " 45%|█████████████████████████████████████████████▉                                                        | 5399/12000 [1:25:09<2:07:00,  1.15s/it]"
     ]
    },
    {
     "name": "stdout",
     "output_type": "stream",
     "text": [
      "Episode 5400/12000\n",
      "Fitnesses: ['-36.09', '-3.94', '-29.38', '-20.43']\n",
      "100 fitness avgs: ['-31.36', '-31.29', '-31.30', '-31.21']\n"
     ]
    },
    {
     "name": "stderr",
     "output_type": "stream",
     "text": [
      " 45%|██████████████████████████████████████████████                                                        | 5419/12000 [1:25:32<2:09:46,  1.18s/it]"
     ]
    },
    {
     "name": "stdout",
     "output_type": "stream",
     "text": [
      "Episode 5420/12000\n",
      "Fitnesses: ['-88.54', '-28.79', '-50.97', '-40.52']\n",
      "100 fitness avgs: ['-32.09', '-31.50', '-31.72', '-31.61']\n"
     ]
    },
    {
     "name": "stderr",
     "output_type": "stream",
     "text": [
      " 45%|██████████████████████████████████████████████▏                                                       | 5439/12000 [1:25:56<2:12:16,  1.21s/it]"
     ]
    },
    {
     "name": "stdout",
     "output_type": "stream",
     "text": [
      "Episode 5440/12000\n",
      "Fitnesses: ['-65.70', '-84.82', '-27.39', '-28.62']\n",
      "100 fitness avgs: ['-31.47', '-31.66', '-31.08', '-31.21']\n"
     ]
    },
    {
     "name": "stderr",
     "output_type": "stream",
     "text": [
      " 45%|██████████████████████████████████████████████▍                                                       | 5459/12000 [1:26:19<2:07:43,  1.17s/it]"
     ]
    },
    {
     "name": "stdout",
     "output_type": "stream",
     "text": [
      "Episode 5460/12000\n",
      "Fitnesses: ['-11.47', '-19.97', '-17.52', '-19.40']\n",
      "100 fitness avgs: ['-31.16', '-31.38', '-31.61', '-31.24']\n"
     ]
    },
    {
     "name": "stderr",
     "output_type": "stream",
     "text": [
      " 46%|██████████████████████████████████████████████▌                                                       | 5479/12000 [1:26:38<1:48:46,  1.00s/it]"
     ]
    },
    {
     "name": "stdout",
     "output_type": "stream",
     "text": [
      "Episode 5480/12000\n",
      "Fitnesses: ['-5.32', '-41.68', '-100.88', '-11.39']\n",
      "100 fitness avgs: ['-30.83', '-31.19', '-32.23', '-31.34']\n"
     ]
    },
    {
     "name": "stderr",
     "output_type": "stream",
     "text": [
      " 46%|██████████████████████████████████████████████▋                                                       | 5499/12000 [1:26:57<1:46:48,  1.01it/s]"
     ]
    },
    {
     "name": "stdout",
     "output_type": "stream",
     "text": [
      "Episode 5500/12000\n",
      "Fitnesses: ['-41.85', '-31.25', '-65.30', '-78.91']\n",
      "100 fitness avgs: ['-30.90', '-30.79', '-31.49', '-31.27']\n"
     ]
    },
    {
     "name": "stderr",
     "output_type": "stream",
     "text": [
      " 46%|██████████████████████████████████████████████▉                                                       | 5519/12000 [1:27:19<2:11:17,  1.22s/it]"
     ]
    },
    {
     "name": "stdout",
     "output_type": "stream",
     "text": [
      "Episode 5520/12000\n",
      "Fitnesses: ['-60.27', '-68.82', '-47.62', '-20.45']\n",
      "100 fitness avgs: ['-31.22', '-31.30', '-31.09', '-31.30']\n"
     ]
    },
    {
     "name": "stderr",
     "output_type": "stream",
     "text": [
      " 46%|███████████████████████████████████████████████                                                       | 5539/12000 [1:27:43<2:10:50,  1.22s/it]"
     ]
    },
    {
     "name": "stdout",
     "output_type": "stream",
     "text": [
      "Episode 5540/12000\n",
      "Fitnesses: ['-19.09', '-118.76', '-22.75', '-44.89']\n",
      "100 fitness avgs: ['-31.37', '-32.29', '-31.20', '-31.63']\n"
     ]
    },
    {
     "name": "stderr",
     "output_type": "stream",
     "text": [
      " 46%|███████████████████████████████████████████████▎                                                      | 5559/12000 [1:28:06<2:07:45,  1.19s/it]"
     ]
    },
    {
     "name": "stdout",
     "output_type": "stream",
     "text": [
      "Episode 5560/12000\n",
      "Fitnesses: ['-17.85', '-41.62', '-11.57', '-34.43']\n",
      "100 fitness avgs: ['-31.20', '-31.70', '-30.97', '-31.62']\n"
     ]
    },
    {
     "name": "stderr",
     "output_type": "stream",
     "text": [
      " 46%|███████████████████████████████████████████████▍                                                      | 5580/12000 [1:28:29<1:44:57,  1.02it/s]"
     ]
    },
    {
     "name": "stdout",
     "output_type": "stream",
     "text": [
      "Episode 5580/12000\n",
      "Fitnesses: ['-53.26', '-33.22', '-10.10', '-10.99']\n",
      "100 fitness avgs: ['-31.42', '-31.22', '-30.99', '-31.23']\n"
     ]
    },
    {
     "name": "stderr",
     "output_type": "stream",
     "text": [
      " 47%|███████████████████████████████████████████████▌                                                      | 5599/12000 [1:28:47<1:43:58,  1.03it/s]"
     ]
    },
    {
     "name": "stdout",
     "output_type": "stream",
     "text": [
      "Episode 5600/12000\n",
      "Fitnesses: ['-67.32', '-10.10', '-47.89', '-64.05']\n",
      "100 fitness avgs: ['-31.29', '-31.15', '-31.33', '-31.69']\n"
     ]
    },
    {
     "name": "stderr",
     "output_type": "stream",
     "text": [
      " 47%|███████████████████████████████████████████████▊                                                      | 5619/12000 [1:29:06<1:49:23,  1.03s/it]"
     ]
    },
    {
     "name": "stdout",
     "output_type": "stream",
     "text": [
      "Episode 5620/12000\n",
      "Fitnesses: ['-40.78', '-22.19', '-38.67', '-44.70']\n",
      "100 fitness avgs: ['-31.45', '-31.26', '-31.60', '-31.49']\n"
     ]
    },
    {
     "name": "stderr",
     "output_type": "stream",
     "text": [
      " 47%|███████████████████████████████████████████████▉                                                      | 5639/12000 [1:29:29<2:08:28,  1.21s/it]"
     ]
    },
    {
     "name": "stdout",
     "output_type": "stream",
     "text": [
      "Episode 5640/12000\n",
      "Fitnesses: ['-52.02', '-33.32', '-2.79', '-17.81']\n",
      "100 fitness avgs: ['-31.76', '-31.92', '-31.27', '-31.61']\n"
     ]
    },
    {
     "name": "stderr",
     "output_type": "stream",
     "text": [
      " 47%|████████████████████████████████████████████████                                                      | 5659/12000 [1:29:52<2:06:31,  1.20s/it]"
     ]
    },
    {
     "name": "stdout",
     "output_type": "stream",
     "text": [
      "Episode 5660/12000\n",
      "Fitnesses: ['-26.14', '-11.86', '-9.24', '-8.95']\n",
      "100 fitness avgs: ['-31.43', '-31.94', '-31.26', '-31.60']\n"
     ]
    },
    {
     "name": "stderr",
     "output_type": "stream",
     "text": [
      " 47%|████████████████████████████████████████████████▎                                                     | 5679/12000 [1:30:16<2:06:23,  1.20s/it]"
     ]
    },
    {
     "name": "stdout",
     "output_type": "stream",
     "text": [
      "Episode 5680/12000\n",
      "Fitnesses: ['-45.18', '-45.79', '-11.09', '-13.33']\n",
      "100 fitness avgs: ['-31.84', '-31.51', '-31.84', '-31.86']\n"
     ]
    },
    {
     "name": "stderr",
     "output_type": "stream",
     "text": [
      " 47%|████████████████████████████████████████████████▍                                                     | 5699/12000 [1:30:36<1:43:38,  1.01it/s]"
     ]
    },
    {
     "name": "stdout",
     "output_type": "stream",
     "text": [
      "Episode 5700/12000\n",
      "Fitnesses: ['-56.70', '-13.87', '-8.88', '-26.01']\n",
      "100 fitness avgs: ['-32.23', '-31.82', '-31.77', '-31.95']\n"
     ]
    },
    {
     "name": "stderr",
     "output_type": "stream",
     "text": [
      " 48%|████████████████████████████████████████████████▌                                                     | 5719/12000 [1:30:55<1:43:26,  1.01it/s]"
     ]
    },
    {
     "name": "stdout",
     "output_type": "stream",
     "text": [
      "Episode 5720/12000\n",
      "Fitnesses: ['-9.41', '-32.42', '-47.01', '-77.17']\n",
      "100 fitness avgs: ['-31.61', '-31.89', '-32.15', '-32.28']\n"
     ]
    },
    {
     "name": "stderr",
     "output_type": "stream",
     "text": [
      " 48%|████████████████████████████████████████████████▊                                                     | 5739/12000 [1:31:17<2:04:34,  1.19s/it]"
     ]
    },
    {
     "name": "stdout",
     "output_type": "stream",
     "text": [
      "Episode 5740/12000\n",
      "Fitnesses: ['-31.30', '-121.52', '-43.00', '-27.22']\n",
      "100 fitness avgs: ['-31.70', '-32.88', '-31.81', '-31.66']\n"
     ]
    },
    {
     "name": "stderr",
     "output_type": "stream",
     "text": [
      " 48%|████████████████████████████████████████████████▉                                                     | 5759/12000 [1:31:40<2:04:54,  1.20s/it]"
     ]
    },
    {
     "name": "stdout",
     "output_type": "stream",
     "text": [
      "Episode 5760/12000\n",
      "Fitnesses: ['-12.30', '-17.92', '-3.65', '-72.15']\n",
      "100 fitness avgs: ['-31.69', '-31.75', '-31.60', '-32.29']\n"
     ]
    },
    {
     "name": "stderr",
     "output_type": "stream",
     "text": [
      " 48%|█████████████████████████████████████████████████                                                     | 5779/12000 [1:32:11<2:46:49,  1.61s/it]"
     ]
    },
    {
     "name": "stdout",
     "output_type": "stream",
     "text": [
      "Episode 5780/12000\n",
      "Fitnesses: ['-497.11', '-11.56', '-62.45', '-9.32']\n",
      "100 fitness avgs: ['-36.32', '-32.15', '-31.97', '-31.58']\n"
     ]
    },
    {
     "name": "stderr",
     "output_type": "stream",
     "text": [
      " 48%|█████████████████████████████████████████████████▎                                                    | 5799/12000 [1:32:33<1:42:51,  1.00it/s]"
     ]
    },
    {
     "name": "stdout",
     "output_type": "stream",
     "text": [
      "Episode 5800/12000\n",
      "Fitnesses: ['-21.02', '-50.33', '-53.10', '-6.91']\n",
      "100 fitness avgs: ['-31.68', '-32.54', '-32.01', '-31.93']\n"
     ]
    },
    {
     "name": "stderr",
     "output_type": "stream",
     "text": [
      " 48%|█████████████████████████████████████████████████▍                                                    | 5819/12000 [1:32:52<1:40:34,  1.02it/s]"
     ]
    },
    {
     "name": "stdout",
     "output_type": "stream",
     "text": [
      "Episode 5820/12000\n",
      "Fitnesses: ['-50.35', '-33.08', '-49.02', '-23.22']\n",
      "100 fitness avgs: ['-32.27', '-32.09', '-32.33', '-31.75']\n"
     ]
    },
    {
     "name": "stderr",
     "output_type": "stream",
     "text": [
      " 49%|█████████████████████████████████████████████████▋                                                    | 5839/12000 [1:33:12<2:02:33,  1.19s/it]"
     ]
    },
    {
     "name": "stdout",
     "output_type": "stream",
     "text": [
      "Episode 5840/12000\n",
      "Fitnesses: ['-5.74', '-49.06', '-44.79', '-43.73']\n",
      "100 fitness avgs: ['-31.71', '-32.15', '-32.45', '-32.44']\n"
     ]
    },
    {
     "name": "stderr",
     "output_type": "stream",
     "text": [
      " 49%|█████████████████████████████████████████████████▊                                                    | 5859/12000 [1:33:36<2:03:00,  1.20s/it]"
     ]
    },
    {
     "name": "stdout",
     "output_type": "stream",
     "text": [
      "Episode 5860/12000\n",
      "Fitnesses: ['-57.62', '-72.26', '-65.90', '-10.14']\n",
      "100 fitness avgs: ['-32.00', '-32.15', '-32.82', '-32.25']\n"
     ]
    },
    {
     "name": "stderr",
     "output_type": "stream",
     "text": [
      " 49%|█████████████████████████████████████████████████▉                                                    | 5879/12000 [1:34:00<2:03:34,  1.21s/it]"
     ]
    },
    {
     "name": "stdout",
     "output_type": "stream",
     "text": [
      "Episode 5880/12000\n",
      "Fitnesses: ['-33.78', '-35.52', '-5.62', '-16.84']\n",
      "100 fitness avgs: ['-32.28', '-32.30', '-32.00', '-32.11']\n"
     ]
    },
    {
     "name": "stderr",
     "output_type": "stream",
     "text": [
      " 49%|██████████████████████████████████████████████████▏                                                   | 5899/12000 [1:34:24<1:54:16,  1.12s/it]"
     ]
    },
    {
     "name": "stdout",
     "output_type": "stream",
     "text": [
      "Episode 5900/12000\n",
      "Fitnesses: ['-30.30', '-51.68', '-10.19', '-26.23']\n",
      "100 fitness avgs: ['-31.64', '-31.85', '-31.44', '-31.60']\n"
     ]
    },
    {
     "name": "stderr",
     "output_type": "stream",
     "text": [
      " 49%|██████████████████████████████████████████████████▎                                                   | 5919/12000 [1:34:43<1:44:05,  1.03s/it]"
     ]
    },
    {
     "name": "stdout",
     "output_type": "stream",
     "text": [
      "Episode 5920/12000\n",
      "Fitnesses: ['-51.75', '-14.48', '-0.63', '-22.89']\n",
      "100 fitness avgs: ['-31.56', '-31.39', '-31.25', '-31.27']\n"
     ]
    },
    {
     "name": "stderr",
     "output_type": "stream",
     "text": [
      " 49%|██████████████████████████████████████████████████▍                                                   | 5939/12000 [1:35:03<1:40:35,  1.00it/s]"
     ]
    },
    {
     "name": "stdout",
     "output_type": "stream",
     "text": [
      "Episode 5940/12000\n",
      "Fitnesses: ['-34.48', '-19.11', '-55.55', '-91.81']\n",
      "100 fitness avgs: ['-31.51', '-31.36', '-31.86', '-32.09']\n"
     ]
    },
    {
     "name": "stderr",
     "output_type": "stream",
     "text": [
      " 50%|██████████████████████████████████████████████████▋                                                   | 5959/12000 [1:35:26<2:04:25,  1.24s/it]"
     ]
    },
    {
     "name": "stdout",
     "output_type": "stream",
     "text": [
      "Episode 5960/12000\n",
      "Fitnesses: ['-41.36', '-71.08', '-13.38', '-20.94']\n",
      "100 fitness avgs: ['-31.21', '-31.66', '-31.44', '-31.16']\n"
     ]
    },
    {
     "name": "stderr",
     "output_type": "stream",
     "text": [
      " 50%|██████████████████████████████████████████████████▊                                                   | 5979/12000 [1:35:50<2:05:58,  1.26s/it]"
     ]
    },
    {
     "name": "stdout",
     "output_type": "stream",
     "text": [
      "Episode 5980/12000\n",
      "Fitnesses: ['-13.00', '-13.92', '-24.51', '-13.13']\n",
      "100 fitness avgs: ['-31.48', '-31.49', '-31.32', '-31.48']\n"
     ]
    },
    {
     "name": "stderr",
     "output_type": "stream",
     "text": [
      " 50%|██████████████████████████████████████████████████▉                                                   | 5999/12000 [1:36:14<2:01:48,  1.22s/it]"
     ]
    },
    {
     "name": "stdout",
     "output_type": "stream",
     "text": [
      "Episode 6000/12000\n",
      "Fitnesses: ['-17.65', '-36.08', '-100.99', '-43.46']\n",
      "100 fitness avgs: ['-31.37', '-31.56', '-32.21', '-31.63']\n"
     ]
    },
    {
     "name": "stderr",
     "output_type": "stream",
     "text": [
      " 50%|███████████████████████████████████████████████████▏                                                  | 6019/12000 [1:36:35<1:37:34,  1.02it/s]"
     ]
    },
    {
     "name": "stdout",
     "output_type": "stream",
     "text": [
      "Episode 6020/12000\n",
      "Fitnesses: ['-29.05', '-6.99', '-45.98', '-12.42']\n",
      "100 fitness avgs: ['-31.60', '-31.38', '-32.60', '-31.43']\n"
     ]
    },
    {
     "name": "stderr",
     "output_type": "stream",
     "text": [
      " 50%|███████████████████████████████████████████████████▎                                                  | 6039/12000 [1:36:54<1:38:59,  1.00it/s]"
     ]
    },
    {
     "name": "stdout",
     "output_type": "stream",
     "text": [
      "Episode 6040/12000\n",
      "Fitnesses: ['-12.28', '-35.86', '-103.94', '-33.12']\n",
      "100 fitness avgs: ['-31.04', '-31.33', '-31.96', '-31.25']\n"
     ]
    },
    {
     "name": "stderr",
     "output_type": "stream",
     "text": [
      " 50%|███████████████████████████████████████████████████▌                                                  | 6059/12000 [1:37:16<2:03:14,  1.24s/it]"
     ]
    },
    {
     "name": "stdout",
     "output_type": "stream",
     "text": [
      "Episode 6060/12000\n",
      "Fitnesses: ['-35.67', '-47.53', '-8.98', '-15.28']\n",
      "100 fitness avgs: ['-31.20', '-31.52', '-31.22', '-31.20']\n"
     ]
    },
    {
     "name": "stderr",
     "output_type": "stream",
     "text": [
      " 51%|███████████████████████████████████████████████████▋                                                  | 6079/12000 [1:37:40<1:59:36,  1.21s/it]"
     ]
    },
    {
     "name": "stdout",
     "output_type": "stream",
     "text": [
      "Episode 6080/12000\n",
      "Fitnesses: ['-26.16', '-19.94', '-38.22', '-85.05']\n",
      "100 fitness avgs: ['-31.40', '-31.34', '-31.82', '-31.97']\n"
     ]
    },
    {
     "name": "stderr",
     "output_type": "stream",
     "text": [
      " 51%|███████████████████████████████████████████████████▊                                                  | 6099/12000 [1:38:03<1:55:50,  1.18s/it]"
     ]
    },
    {
     "name": "stdout",
     "output_type": "stream",
     "text": [
      "Episode 6100/12000\n",
      "Fitnesses: ['-25.44', '-58.70', '-18.75', '-84.21']\n",
      "100 fitness avgs: ['-31.15', '-31.97', '-31.08', '-31.74']\n"
     ]
    },
    {
     "name": "stderr",
     "output_type": "stream",
     "text": [
      " 51%|████████████████████████████████████████████████████                                                  | 6119/12000 [1:38:26<1:43:13,  1.05s/it]"
     ]
    },
    {
     "name": "stdout",
     "output_type": "stream",
     "text": [
      "Episode 6120/12000\n",
      "Fitnesses: ['-33.78', '-9.66', '-33.14', '-11.84']\n",
      "100 fitness avgs: ['-31.18', '-30.94', '-31.24', '-31.84']\n"
     ]
    },
    {
     "name": "stderr",
     "output_type": "stream",
     "text": [
      " 51%|████████████████████████████████████████████████████▏                                                 | 6139/12000 [1:38:46<1:36:36,  1.01it/s]"
     ]
    },
    {
     "name": "stdout",
     "output_type": "stream",
     "text": [
      "Episode 6140/12000\n",
      "Fitnesses: ['-17.05', '-16.54', '-16.29', '-69.00']\n",
      "100 fitness avgs: ['-30.73', '-30.73', '-31.63', '-31.25']\n"
     ]
    },
    {
     "name": "stderr",
     "output_type": "stream",
     "text": [
      " 51%|████████████████████████████████████████████████████▎                                                 | 6159/12000 [1:39:05<1:37:52,  1.01s/it]"
     ]
    },
    {
     "name": "stdout",
     "output_type": "stream",
     "text": [
      "Episode 6160/12000\n",
      "Fitnesses: ['-60.67', '-14.59', '-19.74', '-14.85']\n",
      "100 fitness avgs: ['-31.86', '-30.50', '-31.45', '-30.50']\n"
     ]
    },
    {
     "name": "stderr",
     "output_type": "stream",
     "text": [
      " 51%|████████████████████████████████████████████████████▌                                                 | 6179/12000 [1:39:29<1:58:31,  1.22s/it]"
     ]
    },
    {
     "name": "stdout",
     "output_type": "stream",
     "text": [
      "Episode 6180/12000\n",
      "Fitnesses: ['-8.48', '-18.15', '-3.70', '-5.02']\n",
      "100 fitness avgs: ['-30.11', '-31.16', '-31.01', '-30.07']\n"
     ]
    },
    {
     "name": "stderr",
     "output_type": "stream",
     "text": [
      " 52%|████████████████████████████████████████████████████▋                                                 | 6199/12000 [1:39:53<1:57:05,  1.21s/it]"
     ]
    },
    {
     "name": "stdout",
     "output_type": "stream",
     "text": [
      "Episode 6200/12000\n",
      "Fitnesses: ['-19.84', '-24.61', '-28.90', '-42.16']\n",
      "100 fitness avgs: ['-31.20', '-30.34', '-30.35', '-30.51']\n"
     ]
    },
    {
     "name": "stderr",
     "output_type": "stream",
     "text": [
      " 52%|████████████████████████████████████████████████████▊                                                 | 6219/12000 [1:40:17<1:58:51,  1.23s/it]"
     ]
    },
    {
     "name": "stdout",
     "output_type": "stream",
     "text": [
      "Episode 6220/12000\n",
      "Fitnesses: ['-55.13', '-9.64', '-6.24', '-5.92']\n",
      "100 fitness avgs: ['-26.30', '-25.85', '-24.96', '-24.95']\n"
     ]
    },
    {
     "name": "stderr",
     "output_type": "stream",
     "text": [
      " 52%|█████████████████████████████████████████████████████                                                 | 6240/12000 [1:40:38<1:34:56,  1.01it/s]"
     ]
    },
    {
     "name": "stdout",
     "output_type": "stream",
     "text": [
      "Episode 6240/12000\n",
      "Fitnesses: ['-13.12', '-12.94', '-30.20', '-25.02']\n",
      "100 fitness avgs: ['-24.18', '-24.18', '-24.35', '-24.30']\n"
     ]
    },
    {
     "name": "stderr",
     "output_type": "stream",
     "text": [
      " 52%|█████████████████████████████████████████████████████▏                                                | 6259/12000 [1:40:56<1:35:09,  1.01it/s]"
     ]
    },
    {
     "name": "stdout",
     "output_type": "stream",
     "text": [
      "Episode 6260/12000\n",
      "Fitnesses: ['-19.07', '-29.57', '-4.85', '-33.59']\n",
      "100 fitness avgs: ['-23.96', '-24.07', '-23.94', '-24.10']\n"
     ]
    },
    {
     "name": "stderr",
     "output_type": "stream",
     "text": [
      " 52%|█████████████████████████████████████████████████████▎                                                | 6279/12000 [1:41:25<2:30:10,  1.58s/it]"
     ]
    },
    {
     "name": "stdout",
     "output_type": "stream",
     "text": [
      "Episode 6280/12000\n",
      "Fitnesses: ['-38.05', '-147.77', '-20.25', '-380.91']\n",
      "100 fitness avgs: ['-24.21', '-25.44', '-24.04', '-27.77']\n"
     ]
    },
    {
     "name": "stderr",
     "output_type": "stream",
     "text": [
      " 52%|█████████████████████████████████████████████████████▌                                                | 6299/12000 [1:41:49<1:56:00,  1.22s/it]"
     ]
    },
    {
     "name": "stdout",
     "output_type": "stream",
     "text": [
      "Episode 6300/12000\n",
      "Fitnesses: ['-99.34', '-20.90', '-28.64', '-66.62']\n",
      "100 fitness avgs: ['-22.93', '-22.33', '-22.40', '-24.01']\n"
     ]
    },
    {
     "name": "stderr",
     "output_type": "stream",
     "text": [
      " 53%|█████████████████████████████████████████████████████▋                                                | 6319/12000 [1:42:13<1:56:17,  1.23s/it]"
     ]
    },
    {
     "name": "stdout",
     "output_type": "stream",
     "text": [
      "Episode 6320/12000\n",
      "Fitnesses: ['-60.44', '-16.99', '-97.49', '-13.02']\n",
      "100 fitness avgs: ['-22.69', '-22.87', '-23.14', '-22.22']\n"
     ]
    },
    {
     "name": "stderr",
     "output_type": "stream",
     "text": [
      " 53%|█████████████████████████████████████████████████████▉                                                | 6339/12000 [1:42:35<1:37:51,  1.04s/it]"
     ]
    },
    {
     "name": "stdout",
     "output_type": "stream",
     "text": [
      "Episode 6340/12000\n",
      "Fitnesses: ['-49.00', '-40.08', '-38.50', '-7.58']\n",
      "100 fitness avgs: ['-22.57', '-22.48', '-23.11', '-22.80']\n"
     ]
    },
    {
     "name": "stderr",
     "output_type": "stream",
     "text": [
      " 53%|██████████████████████████████████████████████████████                                                | 6360/12000 [1:42:56<1:37:01,  1.03s/it]"
     ]
    },
    {
     "name": "stdout",
     "output_type": "stream",
     "text": [
      "Episode 6360/12000\n",
      "Fitnesses: ['-57.02', '-18.27', '-11.98', '-82.51']\n",
      "100 fitness avgs: ['-23.27', '-22.56', '-22.82', '-23.20']\n"
     ]
    },
    {
     "name": "stderr",
     "output_type": "stream",
     "text": [
      " 53%|██████████████████████████████████████████████████████▏                                               | 6379/12000 [1:43:18<1:57:27,  1.25s/it]"
     ]
    },
    {
     "name": "stdout",
     "output_type": "stream",
     "text": [
      "Episode 6380/12000\n",
      "Fitnesses: ['-9.22', '-42.61', '-58.84', '-37.11']\n",
      "100 fitness avgs: ['-22.56', '-23.28', '-22.80', '-22.59']\n"
     ]
    },
    {
     "name": "stderr",
     "output_type": "stream",
     "text": [
      " 53%|██████████████████████████████████████████████████████▍                                               | 6399/12000 [1:43:42<1:55:48,  1.24s/it]"
     ]
    },
    {
     "name": "stdout",
     "output_type": "stream",
     "text": [
      "Episode 6400/12000\n",
      "Fitnesses: ['-11.73', '-45.61', '-44.34', '-47.86']\n",
      "100 fitness avgs: ['-22.55', '-22.88', '-22.89', '-23.62']\n"
     ]
    },
    {
     "name": "stderr",
     "output_type": "stream",
     "text": [
      " 53%|██████████████████████████████████████████████████████▌                                               | 6419/12000 [1:44:07<1:58:05,  1.27s/it]"
     ]
    },
    {
     "name": "stdout",
     "output_type": "stream",
     "text": [
      "Episode 6420/12000\n",
      "Fitnesses: ['-12.79', '-56.26', '-37.54', '-8.82']\n",
      "100 fitness avgs: ['-22.63', '-23.07', '-23.22', '-22.93']\n"
     ]
    },
    {
     "name": "stderr",
     "output_type": "stream",
     "text": [
      " 54%|██████████████████████████████████████████████████████▋                                               | 6439/12000 [1:44:30<1:39:27,  1.07s/it]"
     ]
    },
    {
     "name": "stdout",
     "output_type": "stream",
     "text": [
      "Episode 6440/12000\n",
      "Fitnesses: ['-9.42', '-58.96', '-69.97', '-39.82']\n",
      "100 fitness avgs: ['-22.91', '-23.71', '-23.22', '-23.22']\n"
     ]
    },
    {
     "name": "stderr",
     "output_type": "stream",
     "text": [
      " 54%|██████████████████████████████████████████████████████▉                                               | 6459/12000 [1:44:51<1:37:30,  1.06s/it]"
     ]
    },
    {
     "name": "stdout",
     "output_type": "stream",
     "text": [
      "Episode 6460/12000\n",
      "Fitnesses: ['-28.26', '-59.33', '-27.82', '-79.27']\n",
      "100 fitness avgs: ['-23.17', '-23.78', '-23.16', '-23.68']\n"
     ]
    },
    {
     "name": "stderr",
     "output_type": "stream",
     "text": [
      " 54%|███████████████████████████████████████████████████████                                               | 6479/12000 [1:45:21<2:40:02,  1.74s/it]"
     ]
    },
    {
     "name": "stdout",
     "output_type": "stream",
     "text": [
      "Episode 6480/12000\n",
      "Fitnesses: ['-22.91', '-44.89', '-118.93', '-30.94']\n",
      "100 fitness avgs: ['-23.20', '-23.42', '-24.16', '-23.28']\n"
     ]
    },
    {
     "name": "stderr",
     "output_type": "stream",
     "text": [
      " 54%|███████████████████████████████████████████████████████▏                                              | 6499/12000 [1:45:47<1:55:50,  1.26s/it]"
     ]
    },
    {
     "name": "stdout",
     "output_type": "stream",
     "text": [
      "Episode 6500/12000\n",
      "Fitnesses: ['-53.63', '-35.95', '-12.97', '-17.57']\n",
      "100 fitness avgs: ['-23.65', '-23.55', '-23.24', '-23.37']\n"
     ]
    },
    {
     "name": "stderr",
     "output_type": "stream",
     "text": [
      " 54%|███████████████████████████████████████████████████████▍                                              | 6519/12000 [1:46:12<1:59:27,  1.31s/it]"
     ]
    },
    {
     "name": "stdout",
     "output_type": "stream",
     "text": [
      "Episode 6520/12000\n",
      "Fitnesses: ['-31.77', '-35.54', '-38.54', '-5.33']\n",
      "100 fitness avgs: ['-23.31', '-23.48', '-23.69', '-23.36']\n"
     ]
    },
    {
     "name": "stderr",
     "output_type": "stream",
     "text": [
      " 54%|███████████████████████████████████████████████████████▌                                              | 6539/12000 [1:46:42<2:10:05,  1.43s/it]"
     ]
    },
    {
     "name": "stdout",
     "output_type": "stream",
     "text": [
      "Episode 6540/12000\n",
      "Fitnesses: ['-25.19', '-26.96', '-31.00', '-620.48']\n",
      "100 fitness avgs: ['-23.24', '-23.25', '-23.41', '-29.14']\n"
     ]
    },
    {
     "name": "stderr",
     "output_type": "stream",
     "text": [
      " 55%|███████████████████████████████████████████████████████▊                                              | 6559/12000 [1:47:24<3:43:59,  2.47s/it]"
     ]
    },
    {
     "name": "stdout",
     "output_type": "stream",
     "text": [
      "Episode 6560/12000\n",
      "Fitnesses: ['-11.70', '-376.90', '-22.38', '-130.66']\n",
      "100 fitness avgs: ['-22.88', '-26.54', '-23.01', '-24.09']\n"
     ]
    },
    {
     "name": "stderr",
     "output_type": "stream",
     "text": [
      " 55%|███████████████████████████████████████████████████████▉                                              | 6579/12000 [1:48:02<2:55:39,  1.94s/it]"
     ]
    },
    {
     "name": "stdout",
     "output_type": "stream",
     "text": [
      "Episode 6580/12000\n",
      "Fitnesses: ['-67.77', '-297.34', '-40.44', '-35.14']\n",
      "100 fitness avgs: ['-23.48', '-26.98', '-23.20', '-23.15']\n"
     ]
    },
    {
     "name": "stderr",
     "output_type": "stream",
     "text": [
      " 55%|████████████████████████████████████████████████████████                                              | 6599/12000 [1:48:39<2:30:15,  1.67s/it]"
     ]
    },
    {
     "name": "stdout",
     "output_type": "stream",
     "text": [
      "Episode 6600/12000\n",
      "Fitnesses: ['-63.44', '-37.92', '-52.56', '-26.84']\n",
      "100 fitness avgs: ['-23.71', '-23.46', '-23.60', '-27.17']\n"
     ]
    },
    {
     "name": "stderr",
     "output_type": "stream",
     "text": [
      " 55%|████████████████████████████████████████████████████████▎                                             | 6619/12000 [1:49:11<2:51:57,  1.92s/it]"
     ]
    },
    {
     "name": "stdout",
     "output_type": "stream",
     "text": [
      "Episode 6620/12000\n",
      "Fitnesses: ['-30.73', '-10.10', '-14.72', '-21.46']\n",
      "100 fitness avgs: ['-27.45', '-23.52', '-23.72', '-23.64']\n"
     ]
    },
    {
     "name": "stderr",
     "output_type": "stream",
     "text": [
      " 55%|████████████████████████████████████████████████████████▍                                             | 6639/12000 [1:49:36<1:54:02,  1.28s/it]"
     ]
    },
    {
     "name": "stdout",
     "output_type": "stream",
     "text": [
      "Episode 6640/12000\n",
      "Fitnesses: ['-35.39', '-5.19', '-39.32', '-34.58']\n",
      "100 fitness avgs: ['-23.80', '-23.61', '-23.84', '-23.99']\n"
     ]
    },
    {
     "name": "stderr",
     "output_type": "stream",
     "text": [
      " 55%|████████████████████████████████████████████████████████▌                                             | 6659/12000 [1:50:11<2:38:50,  1.78s/it]"
     ]
    },
    {
     "name": "stdout",
     "output_type": "stream",
     "text": [
      "Episode 6660/12000\n",
      "Fitnesses: ['-5.55', '-638.35', '-16.60', '-13.51']\n",
      "100 fitness avgs: ['-23.59', '-30.29', '-23.93', '-23.67']\n"
     ]
    },
    {
     "name": "stderr",
     "output_type": "stream",
     "text": [
      " 56%|████████████████████████████████████████████████████████▊                                             | 6679/12000 [1:50:35<1:35:21,  1.08s/it]"
     ]
    },
    {
     "name": "stdout",
     "output_type": "stream",
     "text": [
      "Episode 6680/12000\n",
      "Fitnesses: ['-7.67', '-51.61', '-30.06', '-63.62']\n",
      "100 fitness avgs: ['-23.48', '-23.92', '-23.78', '-24.37']\n"
     ]
    },
    {
     "name": "stderr",
     "output_type": "stream",
     "text": [
      " 56%|████████████████████████████████████████████████████████▉                                             | 6699/12000 [1:50:55<1:33:14,  1.06s/it]"
     ]
    },
    {
     "name": "stdout",
     "output_type": "stream",
     "text": [
      "Episode 6700/12000\n",
      "Fitnesses: ['-21.57', '-39.68', '-38.88', '-9.32']\n",
      "100 fitness avgs: ['-23.54', '-23.72', '-24.61', '-23.42']\n"
     ]
    },
    {
     "name": "stderr",
     "output_type": "stream",
     "text": [
      " 56%|█████████████████████████████████████████████████████████                                             | 6719/12000 [1:51:19<1:51:21,  1.27s/it]"
     ]
    },
    {
     "name": "stdout",
     "output_type": "stream",
     "text": [
      "Episode 6720/12000\n",
      "Fitnesses: ['-10.47', '-13.33', '-15.72', '-20.85']\n",
      "100 fitness avgs: ['-23.31', '-23.34', '-24.56', '-23.54']\n"
     ]
    },
    {
     "name": "stderr",
     "output_type": "stream",
     "text": [
      " 56%|█████████████████████████████████████████████████████████▎                                            | 6739/12000 [1:51:53<2:34:27,  1.76s/it]"
     ]
    },
    {
     "name": "stdout",
     "output_type": "stream",
     "text": [
      "Episode 6740/12000\n",
      "Fitnesses: ['-733.98', '-36.36', '-10.71', '-11.64']\n",
      "100 fitness avgs: ['-30.04', '-23.09', '-22.84', '-22.84']\n"
     ]
    },
    {
     "name": "stderr",
     "output_type": "stream",
     "text": [
      " 56%|█████████████████████████████████████████████████████████▍                                            | 6759/12000 [1:52:18<1:53:31,  1.30s/it]"
     ]
    },
    {
     "name": "stdout",
     "output_type": "stream",
     "text": [
      "Episode 6760/12000\n",
      "Fitnesses: ['-10.34', '-69.04', '-1.73', '-31.25']\n",
      "100 fitness avgs: ['-22.91', '-23.75', '-23.08', '-23.37']\n"
     ]
    },
    {
     "name": "stderr",
     "output_type": "stream",
     "text": [
      " 56%|█████████████████████████████████████████████████████████▌                                            | 6779/12000 [1:52:41<1:32:13,  1.06s/it]"
     ]
    },
    {
     "name": "stdout",
     "output_type": "stream",
     "text": [
      "Episode 6780/12000\n",
      "Fitnesses: ['-24.36', '-79.62', '-33.52', '-32.76']\n",
      "100 fitness avgs: ['-23.11', '-23.96', '-23.03', '-23.19']\n"
     ]
    },
    {
     "name": "stderr",
     "output_type": "stream",
     "text": [
      " 57%|█████████████████████████████████████████████████████████▊                                            | 6799/12000 [1:53:01<1:29:02,  1.03s/it]"
     ]
    },
    {
     "name": "stdout",
     "output_type": "stream",
     "text": [
      "Episode 6800/12000\n",
      "Fitnesses: ['-1.34', '-5.45', '-5.87', '-29.47']\n",
      "100 fitness avgs: ['-22.95', '-22.91', '-22.99', '-23.23']\n"
     ]
    },
    {
     "name": "stderr",
     "output_type": "stream",
     "text": [
      " 57%|█████████████████████████████████████████████████████████▉                                            | 6819/12000 [1:53:33<2:26:22,  1.70s/it]"
     ]
    },
    {
     "name": "stdout",
     "output_type": "stream",
     "text": [
      "Episode 6820/12000\n",
      "Fitnesses: ['-33.54', '-594.29', '-16.62', '-17.37']\n",
      "100 fitness avgs: ['-23.27', '-28.88', '-23.06', '-23.11']\n"
     ]
    },
    {
     "name": "stderr",
     "output_type": "stream",
     "text": [
      " 57%|██████████████████████████████████████████████████████████▏                                           | 6839/12000 [1:53:58<1:50:21,  1.28s/it]"
     ]
    },
    {
     "name": "stdout",
     "output_type": "stream",
     "text": [
      "Episode 6840/12000\n",
      "Fitnesses: ['-11.28', '-14.45', '-21.21', '-11.46']\n",
      "100 fitness avgs: ['-22.70', '-22.94', '-22.85', '-22.75']\n"
     ]
    },
    {
     "name": "stderr",
     "output_type": "stream",
     "text": [
      " 57%|██████████████████████████████████████████████████████████▎                                           | 6859/12000 [1:54:23<1:46:39,  1.24s/it]"
     ]
    },
    {
     "name": "stdout",
     "output_type": "stream",
     "text": [
      "Episode 6860/12000\n",
      "Fitnesses: ['-38.80', '-39.17', '-50.80', '-19.12']\n",
      "100 fitness avgs: ['-22.30', '-22.30', '-22.42', '-22.10']\n"
     ]
    },
    {
     "name": "stderr",
     "output_type": "stream",
     "text": [
      " 57%|██████████████████████████████████████████████████████████▍                                           | 6880/12000 [1:54:45<1:28:58,  1.04s/it]"
     ]
    },
    {
     "name": "stdout",
     "output_type": "stream",
     "text": [
      "Episode 6880/12000\n",
      "Fitnesses: ['-33.88', '-43.74', '-10.60', '-11.16']\n",
      "100 fitness avgs: ['-22.28', '-22.57', '-22.25', '-22.25']\n"
     ]
    },
    {
     "name": "stderr",
     "output_type": "stream",
     "text": [
      " 57%|██████████████████████████████████████████████████████████▋                                           | 6899/12000 [1:55:05<1:29:21,  1.05s/it]"
     ]
    },
    {
     "name": "stdout",
     "output_type": "stream",
     "text": [
      "Episode 6900/12000\n",
      "Fitnesses: ['-4.38', '-35.21', '-30.24', '-39.08']\n",
      "100 fitness avgs: ['-22.22', '-22.56', '-22.48', '-22.56']\n"
     ]
    },
    {
     "name": "stderr",
     "output_type": "stream",
     "text": [
      " 58%|██████████████████████████████████████████████████████████▊                                           | 6919/12000 [1:55:30<1:48:39,  1.28s/it]"
     ]
    },
    {
     "name": "stdout",
     "output_type": "stream",
     "text": [
      "Episode 6920/12000\n",
      "Fitnesses: ['-25.88', '-43.53', '-48.61', '-20.64']\n",
      "100 fitness avgs: ['-22.23', '-22.41', '-22.73', '-22.45']\n"
     ]
    },
    {
     "name": "stderr",
     "output_type": "stream",
     "text": [
      " 58%|██████████████████████████████████████████████████████████▉                                           | 6939/12000 [1:55:55<1:48:51,  1.29s/it]"
     ]
    },
    {
     "name": "stdout",
     "output_type": "stream",
     "text": [
      "Episode 6940/12000\n",
      "Fitnesses: ['-32.68', '-5.56', '-79.85', '-61.10']\n",
      "100 fitness avgs: ['-21.91', '-21.63', '-22.17', '-22.19']\n"
     ]
    },
    {
     "name": "stderr",
     "output_type": "stream",
     "text": [
      " 58%|███████████████████████████████████████████████████████████▏                                          | 6959/12000 [1:56:20<1:46:32,  1.27s/it]"
     ]
    },
    {
     "name": "stdout",
     "output_type": "stream",
     "text": [
      "Episode 6960/12000\n",
      "Fitnesses: ['-42.13', '-28.25', '-32.47', '-34.55']\n",
      "100 fitness avgs: ['-21.72', '-21.85', '-21.62', '-21.64']\n"
     ]
    },
    {
     "name": "stderr",
     "output_type": "stream",
     "text": [
      " 58%|███████████████████████████████████████████████████████████▎                                          | 6979/12000 [1:56:42<1:29:56,  1.07s/it]"
     ]
    },
    {
     "name": "stdout",
     "output_type": "stream",
     "text": [
      "Episode 6980/12000\n",
      "Fitnesses: ['-17.78', '-76.83', '-33.89', '-11.00']\n",
      "100 fitness avgs: ['-21.94', '-22.53', '-22.10', '-21.64']\n"
     ]
    },
    {
     "name": "stderr",
     "output_type": "stream",
     "text": [
      " 58%|███████████████████████████████████████████████████████████▍                                          | 6999/12000 [1:57:03<1:29:40,  1.08s/it]"
     ]
    },
    {
     "name": "stdout",
     "output_type": "stream",
     "text": [
      "Episode 7000/12000\n",
      "Fitnesses: ['-9.87', '-13.10', '-17.59', '-37.42']\n",
      "100 fitness avgs: ['-21.56', '-21.59', '-21.64', '-21.84']\n"
     ]
    },
    {
     "name": "stderr",
     "output_type": "stream",
     "text": [
      " 58%|███████████████████████████████████████████████████████████▋                                          | 7019/12000 [1:57:27<1:45:28,  1.27s/it]"
     ]
    },
    {
     "name": "stdout",
     "output_type": "stream",
     "text": [
      "Episode 7020/12000\n",
      "Fitnesses: ['-138.03', '-9.86', '-73.62', '-58.01']\n",
      "100 fitness avgs: ['-22.71', '-21.47', '-22.15', '-21.95']\n"
     ]
    },
    {
     "name": "stderr",
     "output_type": "stream",
     "text": [
      " 59%|███████████████████████████████████████████████████████████▊                                          | 7039/12000 [1:58:02<2:27:57,  1.79s/it]"
     ]
    },
    {
     "name": "stdout",
     "output_type": "stream",
     "text": [
      "Episode 7040/12000\n",
      "Fitnesses: ['-30.77', '-16.88', '-12.79', '-258.49']\n",
      "100 fitness avgs: ['-21.52', '-21.86', '-21.34', '-23.79']\n"
     ]
    },
    {
     "name": "stderr",
     "output_type": "stream",
     "text": [
      " 59%|████████████████████████████████████████████████████████████                                          | 7059/12000 [1:58:27<1:44:50,  1.27s/it]"
     ]
    },
    {
     "name": "stdout",
     "output_type": "stream",
     "text": [
      "Episode 7060/12000\n",
      "Fitnesses: ['-9.88', '-21.50', '-51.60', '-93.74']\n",
      "100 fitness avgs: ['-21.15', '-21.44', '-21.56', '-22.51']\n"
     ]
    },
    {
     "name": "stderr",
     "output_type": "stream",
     "text": [
      " 59%|████████████████████████████████████████████████████████████▏                                         | 7079/12000 [1:58:48<1:29:09,  1.09s/it]"
     ]
    },
    {
     "name": "stdout",
     "output_type": "stream",
     "text": [
      "Episode 7080/12000\n",
      "Fitnesses: ['-39.83', '-5.74', '-45.92', '-4.48']\n",
      "100 fitness avgs: ['-21.24', '-20.90', '-21.30', '-20.89']\n"
     ]
    },
    {
     "name": "stderr",
     "output_type": "stream",
     "text": [
      " 59%|████████████████████████████████████████████████████████████▎                                         | 7099/12000 [1:59:10<1:43:35,  1.27s/it]"
     ]
    },
    {
     "name": "stdout",
     "output_type": "stream",
     "text": [
      "Episode 7100/12000\n",
      "Fitnesses: ['-8.60', '-3.69', '-61.78', '-35.83']\n",
      "100 fitness avgs: ['-20.93', '-21.24', '-21.48', '-21.22']\n"
     ]
    },
    {
     "name": "stderr",
     "output_type": "stream",
     "text": [
      " 59%|████████████████████████████████████████████████████████████▌                                         | 7119/12000 [1:59:36<1:46:06,  1.30s/it]"
     ]
    },
    {
     "name": "stdout",
     "output_type": "stream",
     "text": [
      "Episode 7120/12000\n",
      "Fitnesses: ['-13.63', '-6.75', '-24.98', '-16.18']\n",
      "100 fitness avgs: ['-21.22', '-20.85', '-21.34', '-20.94']\n"
     ]
    },
    {
     "name": "stderr",
     "output_type": "stream",
     "text": [
      " 59%|████████████████████████████████████████████████████████████▋                                         | 7139/12000 [2:00:01<1:42:41,  1.27s/it]"
     ]
    },
    {
     "name": "stdout",
     "output_type": "stream",
     "text": [
      "Episode 7140/12000\n",
      "Fitnesses: ['-28.78', '-49.91', '-46.61', '-56.38']\n",
      "100 fitness avgs: ['-20.89', '-21.20', '-21.16', '-21.17']\n"
     ]
    },
    {
     "name": "stderr",
     "output_type": "stream",
     "text": [
      " 60%|████████████████████████████████████████████████████████████▊                                         | 7159/12000 [2:00:26<1:39:33,  1.23s/it]"
     ]
    },
    {
     "name": "stdout",
     "output_type": "stream",
     "text": [
      "Episode 7160/12000\n",
      "Fitnesses: ['-5.65', '-15.05', '-38.98', '-81.75']\n",
      "100 fitness avgs: ['-20.91', '-21.31', '-21.24', '-21.94']\n"
     ]
    },
    {
     "name": "stderr",
     "output_type": "stream",
     "text": [
      " 60%|█████████████████████████████████████████████████████████████                                         | 7179/12000 [2:00:47<1:26:12,  1.07s/it]"
     ]
    },
    {
     "name": "stdout",
     "output_type": "stream",
     "text": [
      "Episode 7180/12000\n",
      "Fitnesses: ['-45.37', '-11.82', '-96.23', '-60.19']\n",
      "100 fitness avgs: ['-20.96', '-21.02', '-22.50', '-21.11']\n"
     ]
    },
    {
     "name": "stderr",
     "output_type": "stream",
     "text": [
      " 60%|█████████████████████████████████████████████████████████████▏                                        | 7199/12000 [2:01:09<1:38:51,  1.24s/it]"
     ]
    },
    {
     "name": "stdout",
     "output_type": "stream",
     "text": [
      "Episode 7200/12000\n",
      "Fitnesses: ['-31.63', '-21.14', '-46.66', '-16.19']\n",
      "100 fitness avgs: ['-21.05', '-20.88', '-21.20', '-20.90']\n"
     ]
    },
    {
     "name": "stderr",
     "output_type": "stream",
     "text": [
      " 60%|█████████████████████████████████████████████████████████████▎                                        | 7219/12000 [2:01:35<1:44:57,  1.32s/it]"
     ]
    },
    {
     "name": "stdout",
     "output_type": "stream",
     "text": [
      "Episode 7220/12000\n",
      "Fitnesses: ['-56.50', '-35.10', '-46.18', '-16.99']\n",
      "100 fitness avgs: ['-20.80', '-20.59', '-20.70', '-20.39']\n"
     ]
    },
    {
     "name": "stderr",
     "output_type": "stream",
     "text": [
      " 60%|█████████████████████████████████████████████████████████████▌                                        | 7239/12000 [2:02:01<1:44:09,  1.31s/it]"
     ]
    },
    {
     "name": "stdout",
     "output_type": "stream",
     "text": [
      "Episode 7240/12000\n",
      "Fitnesses: ['-48.73', '-32.86', '-5.49', '-42.57']\n",
      "100 fitness avgs: ['-20.80', '-20.84', '-20.56', '-20.93']\n"
     ]
    },
    {
     "name": "stderr",
     "output_type": "stream",
     "text": [
      " 60%|█████████████████████████████████████████████████████████████▋                                        | 7259/12000 [2:02:27<1:41:25,  1.28s/it]"
     ]
    },
    {
     "name": "stdout",
     "output_type": "stream",
     "text": [
      "Episode 7260/12000\n",
      "Fitnesses: ['-6.66', '-91.00', '-28.11', '-9.91']\n",
      "100 fitness avgs: ['-20.35', '-21.19', '-20.56', '-20.75']\n"
     ]
    },
    {
     "name": "stderr",
     "output_type": "stream",
     "text": [
      " 61%|█████████████████████████████████████████████████████████████▊                                        | 7279/12000 [2:02:48<1:26:16,  1.10s/it]"
     ]
    },
    {
     "name": "stdout",
     "output_type": "stream",
     "text": [
      "Episode 7280/12000\n",
      "Fitnesses: ['-8.15', '-30.36', '-10.17', '-82.33']\n",
      "100 fitness avgs: ['-20.27', '-20.89', '-20.29', '-21.01']\n"
     ]
    },
    {
     "name": "stderr",
     "output_type": "stream",
     "text": [
      " 61%|██████████████████████████████████████████████████████████████                                        | 7299/12000 [2:03:11<1:41:10,  1.29s/it]"
     ]
    },
    {
     "name": "stdout",
     "output_type": "stream",
     "text": [
      "Episode 7300/12000\n",
      "Fitnesses: ['-23.99', '-13.90', '-7.93', '-19.80']\n",
      "100 fitness avgs: ['-20.29', '-20.19', '-20.13', '-20.25']\n"
     ]
    },
    {
     "name": "stderr",
     "output_type": "stream",
     "text": [
      " 61%|██████████████████████████████████████████████████████████████▏                                       | 7319/12000 [2:03:37<1:43:49,  1.33s/it]"
     ]
    },
    {
     "name": "stdout",
     "output_type": "stream",
     "text": [
      "Episode 7320/12000\n",
      "Fitnesses: ['-48.42', '-7.61', '-3.71', '-44.52']\n",
      "100 fitness avgs: ['-20.43', '-20.08', '-20.14', '-20.51']\n"
     ]
    },
    {
     "name": "stderr",
     "output_type": "stream",
     "text": [
      " 61%|██████████████████████████████████████████████████████████████▍                                       | 7339/12000 [2:04:03<1:38:25,  1.27s/it]"
     ]
    },
    {
     "name": "stdout",
     "output_type": "stream",
     "text": [
      "Episode 7340/12000\n",
      "Fitnesses: ['-34.80', '-52.54', '-46.61', '-13.85']\n",
      "100 fitness avgs: ['-20.17', '-20.71', '-20.29', '-19.96']\n"
     ]
    },
    {
     "name": "stderr",
     "output_type": "stream",
     "text": [
      " 61%|██████████████████████████████████████████████████████████████▌                                       | 7359/12000 [2:04:29<1:37:38,  1.26s/it]"
     ]
    },
    {
     "name": "stdout",
     "output_type": "stream",
     "text": [
      "Episode 7360/12000\n",
      "Fitnesses: ['-66.77', '-8.14', '-5.10', '-74.12']\n",
      "100 fitness avgs: ['-20.43', '-20.06', '-20.03', '-20.72']\n"
     ]
    },
    {
     "name": "stderr",
     "output_type": "stream",
     "text": [
      " 61%|██████████████████████████████████████████████████████████████▋                                       | 7379/12000 [2:04:50<1:23:57,  1.09s/it]"
     ]
    },
    {
     "name": "stdout",
     "output_type": "stream",
     "text": [
      "Episode 7380/12000\n",
      "Fitnesses: ['-59.14', '-8.27', '-2.63', '-14.46']\n",
      "100 fitness avgs: ['-20.45', '-20.35', '-19.89', '-20.04']\n"
     ]
    },
    {
     "name": "stderr",
     "output_type": "stream",
     "text": [
      " 62%|██████████████████████████████████████████████████████████████▉                                       | 7399/12000 [2:05:13<1:39:36,  1.30s/it]"
     ]
    },
    {
     "name": "stdout",
     "output_type": "stream",
     "text": [
      "Episode 7400/12000\n",
      "Fitnesses: ['-21.70', '-12.89', '-8.75', '-30.46']\n",
      "100 fitness avgs: ['-19.81', '-19.72', '-19.68', '-19.90']\n"
     ]
    },
    {
     "name": "stderr",
     "output_type": "stream",
     "text": [
      " 62%|███████████████████████████████████████████████████████████████                                       | 7419/12000 [2:05:38<1:38:54,  1.30s/it]"
     ]
    },
    {
     "name": "stdout",
     "output_type": "stream",
     "text": [
      "Episode 7420/12000\n",
      "Fitnesses: ['-14.26', '-12.42', '-46.31', '-16.48']\n",
      "100 fitness avgs: ['-19.54', '-19.56', '-19.86', '-19.60']\n"
     ]
    },
    {
     "name": "stderr",
     "output_type": "stream",
     "text": [
      " 62%|███████████████████████████████████████████████████████████████▏                                      | 7439/12000 [2:06:12<2:15:03,  1.78s/it]"
     ]
    },
    {
     "name": "stdout",
     "output_type": "stream",
     "text": [
      "Episode 7440/12000\n",
      "Fitnesses: ['-60.85', '-32.17', '-41.97', '-315.62']\n",
      "100 fitness avgs: ['-19.89', '-19.65', '-19.71', '-22.44']\n"
     ]
    },
    {
     "name": "stderr",
     "output_type": "stream",
     "text": [
      " 62%|███████████████████████████████████████████████████████████████▍                                      | 7459/12000 [2:06:36<1:21:17,  1.07s/it]"
     ]
    },
    {
     "name": "stdout",
     "output_type": "stream",
     "text": [
      "Episode 7460/12000\n",
      "Fitnesses: ['-53.51', '-25.38', '-25.87', '-9.38']\n",
      "100 fitness avgs: ['-20.07', '-19.84', '-19.79', '-19.87']\n"
     ]
    },
    {
     "name": "stderr",
     "output_type": "stream",
     "text": [
      " 62%|███████████████████████████████████████████████████████████████▌                                      | 7479/12000 [2:06:57<1:21:16,  1.08s/it]"
     ]
    },
    {
     "name": "stdout",
     "output_type": "stream",
     "text": [
      "Episode 7480/12000\n",
      "Fitnesses: ['-35.76', '-60.42', '-70.94', '-90.54']\n",
      "100 fitness avgs: ['-20.18', '-20.40', '-20.53', '-20.73']\n"
     ]
    },
    {
     "name": "stderr",
     "output_type": "stream",
     "text": [
      " 62%|███████████████████████████████████████████████████████████████▋                                      | 7499/12000 [2:07:21<1:37:56,  1.31s/it]"
     ]
    },
    {
     "name": "stdout",
     "output_type": "stream",
     "text": [
      "Episode 7500/12000\n",
      "Fitnesses: ['-49.02', '-29.68', '-15.64', '-19.56']\n",
      "100 fitness avgs: ['-20.36', '-20.16', '-20.02', '-20.06']\n"
     ]
    },
    {
     "name": "stderr",
     "output_type": "stream",
     "text": [
      " 63%|███████████████████████████████████████████████████████████████▉                                      | 7519/12000 [2:07:47<1:36:44,  1.30s/it]"
     ]
    },
    {
     "name": "stdout",
     "output_type": "stream",
     "text": [
      "Episode 7520/12000\n",
      "Fitnesses: ['-58.62', '-24.83', '-18.43', '-18.30']\n",
      "100 fitness avgs: ['-20.13', '-19.93', '-19.87', '-19.77']\n"
     ]
    },
    {
     "name": "stderr",
     "output_type": "stream",
     "text": [
      " 63%|████████████████████████████████████████████████████████████████                                      | 7539/12000 [2:08:12<1:36:34,  1.30s/it]"
     ]
    },
    {
     "name": "stdout",
     "output_type": "stream",
     "text": [
      "Episode 7540/12000\n",
      "Fitnesses: ['-29.12', '-7.08', '-33.29', '-40.60']\n",
      "100 fitness avgs: ['-19.83', '-19.78', '-19.98', '-20.05']\n"
     ]
    },
    {
     "name": "stderr",
     "output_type": "stream",
     "text": [
      " 63%|████████████████████████████████████████████████████████████████▎                                     | 7559/12000 [2:08:36<1:20:26,  1.09s/it]"
     ]
    },
    {
     "name": "stdout",
     "output_type": "stream",
     "text": [
      "Episode 7560/12000\n",
      "Fitnesses: ['-28.74', '-22.95', '-14.63', '-40.84']\n",
      "100 fitness avgs: ['-19.95', '-20.16', '-19.81', '-20.12']\n"
     ]
    },
    {
     "name": "stderr",
     "output_type": "stream",
     "text": [
      " 63%|████████████████████████████████████████████████████████████████▍                                     | 7579/12000 [2:09:05<1:54:10,  1.55s/it]"
     ]
    },
    {
     "name": "stdout",
     "output_type": "stream",
     "text": [
      "Episode 7580/12000\n",
      "Fitnesses: ['-66.62', '-184.99', '-15.88', '-17.11']\n",
      "100 fitness avgs: ['-20.14', '-21.64', '-19.99', '-20.00']\n"
     ]
    },
    {
     "name": "stderr",
     "output_type": "stream",
     "text": [
      " 63%|████████████████████████████████████████████████████████████████▌                                     | 7599/12000 [2:09:44<2:30:19,  2.05s/it]"
     ]
    },
    {
     "name": "stdout",
     "output_type": "stream",
     "text": [
      "Episode 7600/12000\n",
      "Fitnesses: ['-49.06', '-89.21', '-43.60', '-63.84']\n",
      "100 fitness avgs: ['-20.00', '-22.05', '-19.95', '-20.30']\n"
     ]
    },
    {
     "name": "stderr",
     "output_type": "stream",
     "text": [
      " 63%|████████████████████████████████████████████████████████████████▊                                     | 7619/12000 [2:10:22<2:24:36,  1.98s/it]"
     ]
    },
    {
     "name": "stdout",
     "output_type": "stream",
     "text": [
      "Episode 7620/12000\n",
      "Fitnesses: ['-72.95', '-6.92', '-4.97', '-423.24']\n",
      "100 fitness avgs: ['-20.29', '-19.68', '-19.66', '-23.85']\n"
     ]
    },
    {
     "name": "stderr",
     "output_type": "stream",
     "text": [
      " 64%|████████████████████████████████████████████████████████████████▉                                     | 7639/12000 [2:10:54<1:53:01,  1.55s/it]"
     ]
    },
    {
     "name": "stdout",
     "output_type": "stream",
     "text": [
      "Episode 7640/12000\n",
      "Fitnesses: ['-23.90', '-41.94', '-78.81', '-389.82']\n",
      "100 fitness avgs: ['-19.57', '-19.75', '-20.14', '-27.41']\n"
     ]
    },
    {
     "name": "stderr",
     "output_type": "stream",
     "text": [
      " 64%|█████████████████████████████████████████████████████████████████                                     | 7659/12000 [2:11:17<1:33:25,  1.29s/it]"
     ]
    },
    {
     "name": "stdout",
     "output_type": "stream",
     "text": [
      "Episode 7660/12000\n",
      "Fitnesses: ['-17.95', '-59.95', '-22.57', '-34.76']\n",
      "100 fitness avgs: ['-19.63', '-20.23', '-19.68', '-19.80']\n"
     ]
    },
    {
     "name": "stderr",
     "output_type": "stream",
     "text": [
      " 64%|█████████████████████████████████████████████████████████████████▎                                    | 7679/12000 [2:11:43<1:33:19,  1.30s/it]"
     ]
    },
    {
     "name": "stdout",
     "output_type": "stream",
     "text": [
      "Episode 7680/12000\n",
      "Fitnesses: ['-8.19', '-33.11', '-18.35', '-18.44']\n",
      "100 fitness avgs: ['-19.58', '-19.87', '-19.73', '-19.85']\n"
     ]
    },
    {
     "name": "stderr",
     "output_type": "stream",
     "text": [
      " 64%|█████████████████████████████████████████████████████████████████▍                                    | 7699/12000 [2:12:08<1:32:25,  1.29s/it]"
     ]
    },
    {
     "name": "stdout",
     "output_type": "stream",
     "text": [
      "Episode 7700/12000\n",
      "Fitnesses: ['-25.99', '-45.79', '-14.19', '-29.81']\n",
      "100 fitness avgs: ['-19.75', '-20.24', '-19.78', '-20.08']\n"
     ]
    },
    {
     "name": "stderr",
     "output_type": "stream",
     "text": [
      " 64%|█████████████████████████████████████████████████████████████████▌                                    | 7719/12000 [2:12:40<1:46:47,  1.50s/it]"
     ]
    },
    {
     "name": "stdout",
     "output_type": "stream",
     "text": [
      "Episode 7720/12000\n",
      "Fitnesses: ['-7.13', '-463.75', '-48.09', '-7.47']\n",
      "100 fitness avgs: ['-19.76', '-24.63', '-20.17', '-19.76']\n"
     ]
    },
    {
     "name": "stderr",
     "output_type": "stream",
     "text": [
      " 64%|█████████████████████████████████████████████████████████████████▊                                    | 7739/12000 [2:13:02<1:16:14,  1.07s/it]"
     ]
    },
    {
     "name": "stdout",
     "output_type": "stream",
     "text": [
      "Episode 7740/12000\n",
      "Fitnesses: ['-12.19', '-18.12', '-26.50', '-74.41']\n",
      "100 fitness avgs: ['-19.61', '-20.08', '-20.16', '-20.23']\n"
     ]
    },
    {
     "name": "stderr",
     "output_type": "stream",
     "text": [
      " 65%|█████████████████████████████████████████████████████████████████▉                                    | 7759/12000 [2:13:27<1:33:37,  1.32s/it]"
     ]
    },
    {
     "name": "stdout",
     "output_type": "stream",
     "text": [
      "Episode 7760/12000\n",
      "Fitnesses: ['-12.82', '-24.41', '-14.79', '-28.47']\n",
      "100 fitness avgs: ['-19.70', '-20.28', '-20.19', '-20.32']\n"
     ]
    },
    {
     "name": "stderr",
     "output_type": "stream",
     "text": [
      " 65%|██████████████████████████████████████████████████████████████████                                    | 7779/12000 [2:13:53<1:32:58,  1.32s/it]"
     ]
    },
    {
     "name": "stdout",
     "output_type": "stream",
     "text": [
      "Episode 7780/12000\n",
      "Fitnesses: ['-15.28', '-22.34', '-44.37', '-18.62']\n",
      "100 fitness avgs: ['-19.23', '-19.79', '-20.10', '-19.84']\n"
     ]
    },
    {
     "name": "stderr",
     "output_type": "stream",
     "text": [
      " 65%|██████████████████████████████████████████████████████████████████▎                                   | 7799/12000 [2:14:18<1:30:18,  1.29s/it]"
     ]
    },
    {
     "name": "stdout",
     "output_type": "stream",
     "text": [
      "Episode 7800/12000\n",
      "Fitnesses: ['-12.82', '-12.97', '-10.86', '-34.51']\n",
      "100 fitness avgs: ['-19.29', '-19.29', '-19.27', '-19.50']\n"
     ]
    },
    {
     "name": "stderr",
     "output_type": "stream",
     "text": [
      " 65%|██████████████████████████████████████████████████████████████████▍                                   | 7819/12000 [2:14:47<1:37:02,  1.39s/it]"
     ]
    },
    {
     "name": "stdout",
     "output_type": "stream",
     "text": [
      "Episode 7820/12000\n",
      "Fitnesses: ['-15.12', '-363.78', '-30.21', '-64.46']\n",
      "100 fitness avgs: ['-19.09', '-22.57', '-19.24', '-19.58']\n"
     ]
    },
    {
     "name": "stderr",
     "output_type": "stream",
     "text": [
      " 65%|██████████████████████████████████████████████████████████████████▋                                   | 7839/12000 [2:15:09<1:26:26,  1.25s/it]"
     ]
    },
    {
     "name": "stdout",
     "output_type": "stream",
     "text": [
      "Episode 7840/12000\n",
      "Fitnesses: ['-6.29', '-57.04', '-30.65', '-6.08']\n",
      "100 fitness avgs: ['-18.71', '-19.71', '-19.45', '-18.71']\n"
     ]
    },
    {
     "name": "stderr",
     "output_type": "stream",
     "text": [
      " 65%|██████████████████████████████████████████████████████████████████▊                                   | 7859/12000 [2:15:34<1:28:03,  1.28s/it]"
     ]
    },
    {
     "name": "stdout",
     "output_type": "stream",
     "text": [
      "Episode 7860/12000\n",
      "Fitnesses: ['-33.70', '-10.11', '-19.34', '-16.05']\n",
      "100 fitness avgs: ['-18.95', '-18.71', '-19.81', '-18.77']\n"
     ]
    },
    {
     "name": "stderr",
     "output_type": "stream",
     "text": [
      " 66%|██████████████████████████████████████████████████████████████████▉                                   | 7879/12000 [2:16:00<1:28:16,  1.29s/it]"
     ]
    },
    {
     "name": "stdout",
     "output_type": "stream",
     "text": [
      "Episode 7880/12000\n",
      "Fitnesses: ['-18.27', '-7.78', '-7.77', '-8.11']\n",
      "100 fitness avgs: ['-18.84', '-18.79', '-19.83', '-18.74']\n"
     ]
    },
    {
     "name": "stderr",
     "output_type": "stream",
     "text": [
      " 66%|███████████████████████████████████████████████████████████████████▏                                  | 7899/12000 [2:16:26<1:30:46,  1.33s/it]"
     ]
    },
    {
     "name": "stdout",
     "output_type": "stream",
     "text": [
      "Episode 7900/12000\n",
      "Fitnesses: ['-15.06', '-33.26', '-10.77', '-2.02']\n",
      "100 fitness avgs: ['-19.67', '-19.86', '-18.54', '-18.51']\n"
     ]
    },
    {
     "name": "stderr",
     "output_type": "stream",
     "text": [
      " 66%|███████████████████████████████████████████████████████████████████▎                                  | 7919/12000 [2:16:48<1:14:30,  1.10s/it]"
     ]
    },
    {
     "name": "stdout",
     "output_type": "stream",
     "text": [
      "Episode 7920/12000\n",
      "Fitnesses: ['-31.49', '-70.04', '-11.48', '-80.22']\n",
      "100 fitness avgs: ['-18.68', '-19.10', '-19.64', '-20.51']\n"
     ]
    },
    {
     "name": "stderr",
     "output_type": "stream",
     "text": [
      " 66%|███████████████████████████████████████████████████████████████████▍                                  | 7939/12000 [2:17:10<1:27:59,  1.30s/it]"
     ]
    },
    {
     "name": "stdout",
     "output_type": "stream",
     "text": [
      "Episode 7940/12000\n",
      "Fitnesses: ['-8.47', '-2.49', '-7.76', '-14.76']\n",
      "100 fitness avgs: ['-19.17', '-18.15', '-19.17', '-19.24']\n"
     ]
    },
    {
     "name": "stderr",
     "output_type": "stream",
     "text": [
      " 66%|███████████████████████████████████████████████████████████████████▋                                  | 7959/12000 [2:17:36<1:28:10,  1.31s/it]"
     ]
    },
    {
     "name": "stdout",
     "output_type": "stream",
     "text": [
      "Episode 7960/12000\n",
      "Fitnesses: ['-20.06', '-48.75', '-39.69', '-45.95']\n",
      "100 fitness avgs: ['-18.21', '-19.52', '-18.41', '-19.50']\n"
     ]
    },
    {
     "name": "stderr",
     "output_type": "stream",
     "text": [
      " 66%|███████████████████████████████████████████████████████████████████▊                                  | 7979/12000 [2:18:01<1:25:54,  1.28s/it]"
     ]
    },
    {
     "name": "stdout",
     "output_type": "stream",
     "text": [
      "Episode 7980/12000\n",
      "Fitnesses: ['-5.95', '-20.14', '-3.64', '-19.82']\n",
      "100 fitness avgs: ['-18.14', '-19.57', '-18.12', '-18.28']\n"
     ]
    },
    {
     "name": "stderr",
     "output_type": "stream",
     "text": [
      " 67%|███████████████████████████████████████████████████████████████████▉                                  | 7999/12000 [2:18:25<1:24:24,  1.27s/it]"
     ]
    },
    {
     "name": "stdout",
     "output_type": "stream",
     "text": [
      "Episode 8000/12000\n",
      "Fitnesses: ['-14.54', '-2.77', '-2.63', '-21.77']\n",
      "100 fitness avgs: ['-18.09', '-18.13', '-17.97', '-18.16']\n"
     ]
    },
    {
     "name": "stderr",
     "output_type": "stream",
     "text": [
      " 67%|████████████████████████████████████████████████████████████████████▏                                 | 8019/12000 [2:18:46<1:07:19,  1.01s/it]"
     ]
    },
    {
     "name": "stdout",
     "output_type": "stream",
     "text": [
      "Episode 8020/12000\n",
      "Fitnesses: ['-27.49', '-35.55', '-11.25', '-8.82']\n",
      "100 fitness avgs: ['-18.12', '-18.37', '-17.96', '-18.05']\n"
     ]
    },
    {
     "name": "stderr",
     "output_type": "stream",
     "text": [
      " 67%|████████████████████████████████████████████████████████████████████▎                                 | 8039/12000 [2:19:06<1:13:23,  1.11s/it]"
     ]
    },
    {
     "name": "stdout",
     "output_type": "stream",
     "text": [
      "Episode 8040/12000\n",
      "Fitnesses: ['-41.53', '-10.04', '-5.59', '-49.79']\n",
      "100 fitness avgs: ['-18.11', '-17.70', '-17.75', '-18.19']\n"
     ]
    },
    {
     "name": "stderr",
     "output_type": "stream",
     "text": [
      " 67%|████████████████████████████████████████████████████████████████████▌                                 | 8059/12000 [2:19:39<1:54:30,  1.74s/it]"
     ]
    },
    {
     "name": "stdout",
     "output_type": "stream",
     "text": [
      "Episode 8060/12000\n",
      "Fitnesses: ['-206.44', '-11.40', '-20.77', '-5.26']\n",
      "100 fitness avgs: ['-19.73', '-18.13', '-18.23', '-18.16']\n"
     ]
    },
    {
     "name": "stderr",
     "output_type": "stream",
     "text": [
      " 67%|████████████████████████████████████████████████████████████████████▋                                 | 8079/12000 [2:20:04<1:22:19,  1.26s/it]"
     ]
    },
    {
     "name": "stdout",
     "output_type": "stream",
     "text": [
      "Episode 8080/12000\n",
      "Fitnesses: ['-15.93', '-30.20', '-6.66', '-41.29']\n",
      "100 fitness avgs: ['-18.12', '-18.26', '-18.00', '-18.35']\n"
     ]
    },
    {
     "name": "stderr",
     "output_type": "stream",
     "text": [
      " 67%|████████████████████████████████████████████████████████████████████▊                                 | 8099/12000 [2:20:34<1:29:16,  1.37s/it]"
     ]
    },
    {
     "name": "stdout",
     "output_type": "stream",
     "text": [
      "Episode 8100/12000\n",
      "Fitnesses: ['-6.81', '-16.96', '-318.68', '-37.03']\n",
      "100 fitness avgs: ['-17.88', '-18.10', '-21.00', '-18.30']\n"
     ]
    },
    {
     "name": "stderr",
     "output_type": "stream",
     "text": [
      " 68%|█████████████████████████████████████████████████████████████████████                                 | 8119/12000 [2:20:55<1:09:15,  1.07s/it]"
     ]
    },
    {
     "name": "stdout",
     "output_type": "stream",
     "text": [
      "Episode 8120/12000\n",
      "Fitnesses: ['-25.64', '-9.64', '-50.05', '-24.16']\n",
      "100 fitness avgs: ['-18.04', '-17.88', '-18.50', '-18.24']\n"
     ]
    },
    {
     "name": "stderr",
     "output_type": "stream",
     "text": [
      " 68%|█████████████████████████████████████████████████████████████████████▏                                | 8139/12000 [2:21:18<1:23:07,  1.29s/it]"
     ]
    },
    {
     "name": "stdout",
     "output_type": "stream",
     "text": [
      "Episode 8140/12000\n",
      "Fitnesses: ['-11.51', '-11.39', '-11.92', '-55.81']\n",
      "100 fitness avgs: ['-17.83', '-17.83', '-17.99', '-18.27']\n"
     ]
    },
    {
     "name": "stderr",
     "output_type": "stream",
     "text": [
      " 68%|█████████████████████████████████████████████████████████████████████▎                                | 8159/12000 [2:21:44<1:23:17,  1.30s/it]"
     ]
    },
    {
     "name": "stdout",
     "output_type": "stream",
     "text": [
      "Episode 8160/12000\n",
      "Fitnesses: ['-63.80', '-48.59', '-20.41', '-4.49']\n",
      "100 fitness avgs: ['-18.32', '-18.17', '-17.88', '-17.73']\n"
     ]
    },
    {
     "name": "stderr",
     "output_type": "stream",
     "text": [
      " 68%|█████████████████████████████████████████████████████████████████████▌                                | 8179/12000 [2:22:09<1:22:50,  1.30s/it]"
     ]
    },
    {
     "name": "stdout",
     "output_type": "stream",
     "text": [
      "Episode 8180/12000\n",
      "Fitnesses: ['-33.42', '-10.66', '-1.07', '-28.96']\n",
      "100 fitness avgs: ['-17.98', '-18.19', '-17.65', '-18.52']\n"
     ]
    },
    {
     "name": "stderr",
     "output_type": "stream",
     "text": [
      " 68%|█████████████████████████████████████████████████████████████████████▋                                | 8199/12000 [2:22:33<1:08:24,  1.08s/it]"
     ]
    },
    {
     "name": "stdout",
     "output_type": "stream",
     "text": [
      "Episode 8200/12000\n",
      "Fitnesses: ['-55.39', '-18.80', '-34.63', '-23.17']\n",
      "100 fitness avgs: ['-17.96', '-18.46', '-17.75', '-17.64']\n"
     ]
    },
    {
     "name": "stderr",
     "output_type": "stream",
     "text": [
      " 68%|█████████████████████████████████████████████████████████████████████▊                                | 8219/12000 [2:22:53<1:05:22,  1.04s/it]"
     ]
    },
    {
     "name": "stdout",
     "output_type": "stream",
     "text": [
      "Episode 8220/12000\n",
      "Fitnesses: ['-76.32', '-40.10', '-76.44', '-25.17']\n",
      "100 fitness avgs: ['-19.17', '-18.81', '-18.34', '-18.66']\n"
     ]
    },
    {
     "name": "stderr",
     "output_type": "stream",
     "text": [
      " 69%|██████████████████████████████████████████████████████████████████████                                | 8239/12000 [2:23:16<1:21:01,  1.29s/it]"
     ]
    },
    {
     "name": "stdout",
     "output_type": "stream",
     "text": [
      "Episode 8240/12000\n",
      "Fitnesses: ['-9.18', '-28.40', '-20.16', '-13.59']\n",
      "100 fitness avgs: ['-18.50', '-18.84', '-18.61', '-18.69']\n"
     ]
    },
    {
     "name": "stderr",
     "output_type": "stream",
     "text": [
      " 69%|██████████████████████████████████████████████████████████████████████▏                               | 8259/12000 [2:23:41<1:20:18,  1.29s/it]"
     ]
    },
    {
     "name": "stdout",
     "output_type": "stream",
     "text": [
      "Episode 8260/12000\n",
      "Fitnesses: ['-10.61', '-2.73', '-14.65', '-47.59']\n",
      "100 fitness avgs: ['-18.56', '-18.48', '-18.60', '-19.04']\n"
     ]
    },
    {
     "name": "stderr",
     "output_type": "stream",
     "text": [
      " 69%|██████████████████████████████████████████████████████████████████████▎                               | 8279/12000 [2:24:06<1:19:19,  1.28s/it]"
     ]
    },
    {
     "name": "stdout",
     "output_type": "stream",
     "text": [
      "Episode 8280/12000\n",
      "Fitnesses: ['-7.85', '-63.47', '-21.94', '-26.09']\n",
      "100 fitness avgs: ['-18.35', '-18.99', '-18.57', '-18.54']\n"
     ]
    },
    {
     "name": "stderr",
     "output_type": "stream",
     "text": [
      " 69%|██████████████████████████████████████████████████████████████████████▌                               | 8299/12000 [2:24:31<1:10:41,  1.15s/it]"
     ]
    },
    {
     "name": "stdout",
     "output_type": "stream",
     "text": [
      "Episode 8300/12000\n",
      "Fitnesses: ['-31.03', '-30.39', '-19.73', '-65.74']\n",
      "100 fitness avgs: ['-17.67', '-17.88', '-17.78', '-18.20']\n"
     ]
    },
    {
     "name": "stderr",
     "output_type": "stream",
     "text": [
      " 69%|██████████████████████████████████████████████████████████████████████▋                               | 8319/12000 [2:24:52<1:03:32,  1.04s/it]"
     ]
    },
    {
     "name": "stdout",
     "output_type": "stream",
     "text": [
      "Episode 8320/12000\n",
      "Fitnesses: ['-6.30', '-47.87', '-61.27', '-14.00']\n",
      "100 fitness avgs: ['-17.67', '-18.19', '-18.22', '-17.75']\n"
     ]
    },
    {
     "name": "stderr",
     "output_type": "stream",
     "text": [
      " 69%|██████████████████████████████████████████████████████████████████████▉                               | 8339/12000 [2:25:14<1:16:38,  1.26s/it]"
     ]
    },
    {
     "name": "stdout",
     "output_type": "stream",
     "text": [
      "Episode 8340/12000\n",
      "Fitnesses: ['-32.24', '-9.06', '-10.58', '-50.84']\n",
      "100 fitness avgs: ['-17.92', '-17.76', '-18.25', '-18.18']\n"
     ]
    },
    {
     "name": "stderr",
     "output_type": "stream",
     "text": [
      " 70%|███████████████████████████████████████████████████████████████████████                               | 8359/12000 [2:25:38<1:17:28,  1.28s/it]"
     ]
    },
    {
     "name": "stdout",
     "output_type": "stream",
     "text": [
      "Episode 8360/12000\n",
      "Fitnesses: ['-24.46', '-17.12', '-3.22', '-13.14']\n",
      "100 fitness avgs: ['-17.89', '-17.97', '-17.83', '-18.26']\n"
     ]
    },
    {
     "name": "stderr",
     "output_type": "stream",
     "text": [
      " 70%|███████████████████████████████████████████████████████████████████████▏                              | 8379/12000 [2:26:02<1:12:51,  1.21s/it]"
     ]
    },
    {
     "name": "stdout",
     "output_type": "stream",
     "text": [
      "Episode 8380/12000\n",
      "Fitnesses: ['-19.38', '-13.89', '-34.37', '-9.41']\n",
      "100 fitness avgs: ['-17.93', '-17.88', '-18.51', '-18.26']\n"
     ]
    },
    {
     "name": "stderr",
     "output_type": "stream",
     "text": [
      " 70%|███████████████████████████████████████████████████████████████████████▍                              | 8399/12000 [2:26:28<1:17:28,  1.29s/it]"
     ]
    },
    {
     "name": "stdout",
     "output_type": "stream",
     "text": [
      "Episode 8400/12000\n",
      "Fitnesses: ['-63.70', '-4.11', '-7.54', '-64.54']\n",
      "100 fitness avgs: ['-18.44', '-17.85', '-17.88', '-18.45']\n"
     ]
    },
    {
     "name": "stderr",
     "output_type": "stream",
     "text": [
      " 70%|███████████████████████████████████████████████████████████████████████▌                              | 8419/12000 [2:26:49<1:03:22,  1.06s/it]"
     ]
    },
    {
     "name": "stdout",
     "output_type": "stream",
     "text": [
      "Episode 8420/12000\n",
      "Fitnesses: ['-19.22', '-48.33', '-33.39', '-24.93']\n",
      "100 fitness avgs: ['-17.95', '-18.28', '-18.13', '-18.61']\n"
     ]
    },
    {
     "name": "stderr",
     "output_type": "stream",
     "text": [
      " 70%|███████████████████████████████████████████████████████████████████████▋                              | 8439/12000 [2:27:10<1:14:33,  1.26s/it]"
     ]
    },
    {
     "name": "stdout",
     "output_type": "stream",
     "text": [
      "Episode 8440/12000\n",
      "Fitnesses: ['-1.75', '-28.09', '-14.74', '-53.05']\n",
      "100 fitness avgs: ['-17.88', '-18.14', '-18.01', '-19.04']\n"
     ]
    },
    {
     "name": "stderr",
     "output_type": "stream",
     "text": [
      " 70%|███████████████████████████████████████████████████████████████████████▉                              | 8459/12000 [2:27:36<1:16:13,  1.29s/it]"
     ]
    },
    {
     "name": "stdout",
     "output_type": "stream",
     "text": [
      "Episode 8460/12000\n",
      "Fitnesses: ['-29.04', '-52.23', '-26.20', '-25.15']\n",
      "100 fitness avgs: ['-17.89', '-18.12', '-17.86', '-18.11']\n"
     ]
    },
    {
     "name": "stderr",
     "output_type": "stream",
     "text": [
      " 71%|████████████████████████████████████████████████████████████████████████                              | 8479/12000 [2:28:01<1:16:22,  1.30s/it]"
     ]
    },
    {
     "name": "stdout",
     "output_type": "stream",
     "text": [
      "Episode 8480/12000\n",
      "Fitnesses: ['-35.60', '-15.76', '-17.81', '-8.74']\n",
      "100 fitness avgs: ['-18.16', '-17.96', '-17.98', '-17.89']\n"
     ]
    },
    {
     "name": "stderr",
     "output_type": "stream",
     "text": [
      " 71%|████████████████████████████████████████████████████████████████████████▏                             | 8499/12000 [2:28:27<1:16:34,  1.31s/it]"
     ]
    },
    {
     "name": "stdout",
     "output_type": "stream",
     "text": [
      "Episode 8500/12000\n",
      "Fitnesses: ['-30.47', '-43.37', '-55.27', '-56.19']\n",
      "100 fitness avgs: ['-17.84', '-18.03', '-18.08', '-18.16']\n"
     ]
    },
    {
     "name": "stderr",
     "output_type": "stream",
     "text": [
      " 71%|████████████████████████████████████████████████████████████████████████▍                             | 8520/12000 [2:28:49<1:01:07,  1.05s/it]"
     ]
    },
    {
     "name": "stdout",
     "output_type": "stream",
     "text": [
      "Episode 8520/12000\n",
      "Fitnesses: ['-18.73', '-11.39', '-41.74', '-52.10']\n",
      "100 fitness avgs: ['-17.97', '-17.90', '-18.45', '-18.50']\n"
     ]
    },
    {
     "name": "stderr",
     "output_type": "stream",
     "text": [
      " 71%|████████████████████████████████████████████████████████████████████████▌                             | 8539/12000 [2:29:10<1:12:30,  1.26s/it]"
     ]
    },
    {
     "name": "stdout",
     "output_type": "stream",
     "text": [
      "Episode 8540/12000\n",
      "Fitnesses: ['-21.16', '-11.08', '-17.49', '-26.35']\n",
      "100 fitness avgs: ['-17.86', '-17.83', '-17.82', '-17.91']\n"
     ]
    },
    {
     "name": "stderr",
     "output_type": "stream",
     "text": [
      " 71%|████████████████████████████████████████████████████████████████████████▊                             | 8559/12000 [2:29:36<1:15:55,  1.32s/it]"
     ]
    },
    {
     "name": "stdout",
     "output_type": "stream",
     "text": [
      "Episode 8560/12000\n",
      "Fitnesses: ['-29.87', '-41.84', '-24.35', '-34.43']\n",
      "100 fitness avgs: ['-18.01', '-18.21', '-17.95', '-18.06']\n"
     ]
    },
    {
     "name": "stderr",
     "output_type": "stream",
     "text": [
      " 71%|████████████████████████████████████████████████████████████████████████▉                             | 8579/12000 [2:30:01<1:13:51,  1.30s/it]"
     ]
    },
    {
     "name": "stdout",
     "output_type": "stream",
     "text": [
      "Episode 8580/12000\n",
      "Fitnesses: ['-15.09', '-15.94', '-28.73', '-75.31']\n",
      "100 fitness avgs: ['-17.75', '-17.86', '-17.95', '-18.35']\n"
     ]
    },
    {
     "name": "stderr",
     "output_type": "stream",
     "text": [
      " 72%|█████████████████████████████████████████████████████████████████████████                             | 8599/12000 [2:30:26<1:11:53,  1.27s/it]"
     ]
    },
    {
     "name": "stdout",
     "output_type": "stream",
     "text": [
      "Episode 8600/12000\n",
      "Fitnesses: ['-22.59', '-7.78', '-4.65', '-11.62']\n",
      "100 fitness avgs: ['-17.59', '-17.44', '-18.01', '-17.48']\n"
     ]
    },
    {
     "name": "stderr",
     "output_type": "stream",
     "text": [
      " 72%|█████████████████████████████████████████████████████████████████████████▎                            | 8619/12000 [2:30:48<1:00:40,  1.08s/it]"
     ]
    },
    {
     "name": "stdout",
     "output_type": "stream",
     "text": [
      "Episode 8620/12000\n",
      "Fitnesses: ['-65.76', '-11.12', '-26.84', '-39.53']\n",
      "100 fitness avgs: ['-18.46', '-17.91', '-18.07', '-18.20']\n"
     ]
    },
    {
     "name": "stderr",
     "output_type": "stream",
     "text": [
      " 72%|█████████████████████████████████████████████████████████████████████████▍                            | 8639/12000 [2:31:10<1:09:55,  1.25s/it]"
     ]
    },
    {
     "name": "stdout",
     "output_type": "stream",
     "text": [
      "Episode 8640/12000\n",
      "Fitnesses: ['-20.32', '-10.33', '-12.82', '-37.55']\n",
      "100 fitness avgs: ['-18.06', '-17.96', '-17.99', '-18.23']\n"
     ]
    },
    {
     "name": "stderr",
     "output_type": "stream",
     "text": [
      " 72%|█████████████████████████████████████████████████████████████████████████▌                            | 8659/12000 [2:31:36<1:15:15,  1.35s/it]"
     ]
    },
    {
     "name": "stdout",
     "output_type": "stream",
     "text": [
      "Episode 8660/12000\n",
      "Fitnesses: ['-37.03', '-12.90', '-38.35', '-18.84']\n",
      "100 fitness avgs: ['-18.28', '-18.04', '-18.32', '-18.20']\n"
     ]
    },
    {
     "name": "stderr",
     "output_type": "stream",
     "text": [
      " 72%|█████████████████████████████████████████████████████████████████████████▊                            | 8679/12000 [2:32:01<1:12:18,  1.31s/it]"
     ]
    },
    {
     "name": "stdout",
     "output_type": "stream",
     "text": [
      "Episode 8680/12000\n",
      "Fitnesses: ['-24.35', '-7.48', '-61.34', '-18.78']\n",
      "100 fitness avgs: ['-18.20', '-18.03', '-18.57', '-18.31']\n"
     ]
    },
    {
     "name": "stderr",
     "output_type": "stream",
     "text": [
      " 72%|█████████████████████████████████████████████████████████████████████████▉                            | 8699/12000 [2:32:27<1:12:53,  1.32s/it]"
     ]
    },
    {
     "name": "stdout",
     "output_type": "stream",
     "text": [
      "Episode 8700/12000\n",
      "Fitnesses: ['-28.71', '-13.47', '-23.96', '-33.44']\n",
      "100 fitness avgs: ['-18.23', '-18.35', '-18.45', '-18.81']\n"
     ]
    },
    {
     "name": "stderr",
     "output_type": "stream",
     "text": [
      " 73%|███████████████████████████████████████████████████████████████████████████▌                            | 8719/12000 [2:32:49<59:32,  1.09s/it]"
     ]
    },
    {
     "name": "stdout",
     "output_type": "stream",
     "text": [
      "Episode 8720/12000\n",
      "Fitnesses: ['-26.23', '-0.83', '-18.79', '-37.69']\n",
      "100 fitness avgs: ['-18.48', '-18.22', '-18.40', '-18.59']\n"
     ]
    },
    {
     "name": "stderr",
     "output_type": "stream",
     "text": [
      " 73%|██████████████████████████████████████████████████████████████████████████▎                           | 8739/12000 [2:33:11<1:09:22,  1.28s/it]"
     ]
    },
    {
     "name": "stdout",
     "output_type": "stream",
     "text": [
      "Episode 8740/12000\n",
      "Fitnesses: ['-33.64', '-12.92', '-29.33', '-15.07']\n",
      "100 fitness avgs: ['-18.45', '-18.50', '-18.41', '-18.52']\n"
     ]
    },
    {
     "name": "stderr",
     "output_type": "stream",
     "text": [
      " 73%|██████████████████████████████████████████████████████████████████████████▍                           | 8759/12000 [2:33:37<1:11:46,  1.33s/it]"
     ]
    },
    {
     "name": "stdout",
     "output_type": "stream",
     "text": [
      "Episode 8760/12000\n",
      "Fitnesses: ['-9.38', '-30.50', '-17.61', '-44.32']\n",
      "100 fitness avgs: ['-18.49', '-18.70', '-18.57', '-18.75']\n"
     ]
    },
    {
     "name": "stderr",
     "output_type": "stream",
     "text": [
      " 73%|██████████████████████████████████████████████████████████████████████████▌                           | 8779/12000 [2:34:03<1:10:37,  1.32s/it]"
     ]
    },
    {
     "name": "stdout",
     "output_type": "stream",
     "text": [
      "Episode 8780/12000\n",
      "Fitnesses: ['-21.63', '-6.86', '-40.37', '-12.76']\n",
      "100 fitness avgs: ['-18.37', '-18.48', '-18.56', '-18.36']\n"
     ]
    },
    {
     "name": "stderr",
     "output_type": "stream",
     "text": [
      " 73%|██████████████████████████████████████████████████████████████████████████▊                           | 8799/12000 [2:34:28<1:09:46,  1.31s/it]"
     ]
    },
    {
     "name": "stdout",
     "output_type": "stream",
     "text": [
      "Episode 8800/12000\n",
      "Fitnesses: ['-17.80', '-9.03', '-15.66', '-5.83']\n",
      "100 fitness avgs: ['-18.61', '-18.40', '-18.58', '-18.37']\n"
     ]
    },
    {
     "name": "stderr",
     "output_type": "stream",
     "text": [
      " 73%|████████████████████████████████████████████████████████████████████████████▍                           | 8819/12000 [2:34:50<56:17,  1.06s/it]"
     ]
    },
    {
     "name": "stdout",
     "output_type": "stream",
     "text": [
      "Episode 8820/12000\n",
      "Fitnesses: ['-37.92', '-39.96', '-7.60', '-57.21']\n",
      "100 fitness avgs: ['-18.59', '-18.63', '-18.52', '-18.99']\n"
     ]
    },
    {
     "name": "stderr",
     "output_type": "stream",
     "text": [
      " 74%|███████████████████████████████████████████████████████████████████████████▏                          | 8839/12000 [2:35:21<1:35:51,  1.82s/it]"
     ]
    },
    {
     "name": "stdout",
     "output_type": "stream",
     "text": [
      "Episode 8840/12000\n",
      "Fitnesses: ['-16.58', '-106.02', '-9.42', '-25.96']\n",
      "100 fitness avgs: ['-18.57', '-19.58', '-18.50', '-18.66']\n"
     ]
    },
    {
     "name": "stderr",
     "output_type": "stream",
     "text": [
      " 74%|███████████████████████████████████████████████████████████████████████████▎                          | 8859/12000 [2:35:47<1:08:54,  1.32s/it]"
     ]
    },
    {
     "name": "stdout",
     "output_type": "stream",
     "text": [
      "Episode 8860/12000\n",
      "Fitnesses: ['-20.70', '-8.09', '-8.26', '-25.66']\n",
      "100 fitness avgs: ['-18.31', '-18.26', '-18.26', '-18.36']\n"
     ]
    },
    {
     "name": "stderr",
     "output_type": "stream",
     "text": [
      " 74%|███████████████████████████████████████████████████████████████████████████▍                          | 8879/12000 [2:36:14<1:09:01,  1.33s/it]"
     ]
    },
    {
     "name": "stdout",
     "output_type": "stream",
     "text": [
      "Episode 8880/12000\n",
      "Fitnesses: ['-21.73', '-15.97', '-24.16', '-13.34']\n",
      "100 fitness avgs: ['-18.36', '-18.36', '-18.39', '-18.28']\n"
     ]
    },
    {
     "name": "stderr",
     "output_type": "stream",
     "text": [
      " 74%|█████████████████████████████████████████████████████████████████████████████                           | 8899/12000 [2:36:38<58:03,  1.12s/it]"
     ]
    },
    {
     "name": "stdout",
     "output_type": "stream",
     "text": [
      "Episode 8900/12000\n",
      "Fitnesses: ['-18.90', '-64.70', '-70.94', '-7.04']\n",
      "100 fitness avgs: ['-18.17', '-18.62', '-18.69', '-18.13']\n"
     ]
    },
    {
     "name": "stderr",
     "output_type": "stream",
     "text": [
      " 74%|█████████████████████████████████████████████████████████████████████████████▎                          | 8920/12000 [2:37:00<55:27,  1.08s/it]"
     ]
    },
    {
     "name": "stdout",
     "output_type": "stream",
     "text": [
      "Episode 8920/12000\n",
      "Fitnesses: ['-9.63', '-0.61', '-20.11', '-70.28']\n",
      "100 fitness avgs: ['-18.02', '-17.93', '-18.68', '-19.12']\n"
     ]
    },
    {
     "name": "stderr",
     "output_type": "stream",
     "text": [
      " 74%|███████████████████████████████████████████████████████████████████████████▉                          | 8939/12000 [2:37:24<1:06:23,  1.30s/it]"
     ]
    },
    {
     "name": "stdout",
     "output_type": "stream",
     "text": [
      "Episode 8940/12000\n",
      "Fitnesses: ['-33.96', '-48.57', '-31.22', '-86.50']\n",
      "100 fitness avgs: ['-18.21', '-19.11', '-18.94', '-19.49']\n"
     ]
    },
    {
     "name": "stderr",
     "output_type": "stream",
     "text": [
      " 75%|████████████████████████████████████████████████████████████████████████████▏                         | 8959/12000 [2:37:50<1:06:34,  1.31s/it]"
     ]
    },
    {
     "name": "stdout",
     "output_type": "stream",
     "text": [
      "Episode 8960/12000\n",
      "Fitnesses: ['-15.73', '-33.32', '-45.33', '-5.01']\n",
      "100 fitness avgs: ['-18.77', '-19.12', '-18.34', '-17.94']\n"
     ]
    },
    {
     "name": "stderr",
     "output_type": "stream",
     "text": [
      " 75%|████████████████████████████████████████████████████████████████████████████▎                         | 8979/12000 [2:38:16<1:08:23,  1.36s/it]"
     ]
    },
    {
     "name": "stdout",
     "output_type": "stream",
     "text": [
      "Episode 8980/12000\n",
      "Fitnesses: ['-24.37', '-33.29', '-4.60', '-5.09']\n",
      "100 fitness avgs: ['-18.07', '-19.34', '-17.87', '-17.88']\n"
     ]
    },
    {
     "name": "stderr",
     "output_type": "stream",
     "text": [
      " 75%|█████████████████████████████████████████████████████████████████████████████▉                          | 8999/12000 [2:38:40<55:23,  1.11s/it]"
     ]
    },
    {
     "name": "stdout",
     "output_type": "stream",
     "text": [
      "Episode 9000/12000\n",
      "Fitnesses: ['-9.51', '-4.75', '-10.86', '-43.06']\n",
      "100 fitness avgs: ['-17.84', '-19.26', '-17.86', '-19.64']\n"
     ]
    },
    {
     "name": "stderr",
     "output_type": "stream",
     "text": [
      " 75%|████████████████████████████████████████████████████████████████████████████▋                         | 9019/12000 [2:39:09<1:23:06,  1.67s/it]"
     ]
    },
    {
     "name": "stdout",
     "output_type": "stream",
     "text": [
      "Episode 9020/12000\n",
      "Fitnesses: ['-24.81', '-4.44', '-66.64', '-20.22']\n",
      "100 fitness avgs: ['-19.41', '-17.80', '-19.83', '-19.36']\n"
     ]
    },
    {
     "name": "stderr",
     "output_type": "stream",
     "text": [
      " 75%|████████████████████████████████████████████████████████████████████████████▊                         | 9039/12000 [2:39:56<2:01:26,  2.46s/it]"
     ]
    },
    {
     "name": "stdout",
     "output_type": "stream",
     "text": [
      "Episode 9040/12000\n",
      "Fitnesses: ['-253.43', '-0.82', '-14.95', '-473.49']\n",
      "100 fitness avgs: ['-20.21', '-19.24', '-19.38', '-22.41']\n"
     ]
    },
    {
     "name": "stderr",
     "output_type": "stream",
     "text": [
      " 75%|█████████████████████████████████████████████████████████████████████████████                         | 9059/12000 [2:40:21<1:02:00,  1.26s/it]"
     ]
    },
    {
     "name": "stdout",
     "output_type": "stream",
     "text": [
      "Episode 9060/12000\n",
      "Fitnesses: ['-5.50', '-19.64', '-17.45', '-18.87']\n",
      "100 fitness avgs: ['-19.20', '-19.34', '-19.32', '-19.33']\n"
     ]
    },
    {
     "name": "stderr",
     "output_type": "stream",
     "text": [
      " 76%|██████████████████████████████████████████████████████████████████████████████▋                         | 9079/12000 [2:40:45<51:38,  1.06s/it]"
     ]
    },
    {
     "name": "stdout",
     "output_type": "stream",
     "text": [
      "Episode 9080/12000\n",
      "Fitnesses: ['-10.28', '-8.19', '-53.98', '-72.07']\n",
      "100 fitness avgs: ['-19.26', '-19.24', '-19.83', '-19.99']\n"
     ]
    },
    {
     "name": "stderr",
     "output_type": "stream",
     "text": [
      " 76%|██████████████████████████████████████████████████████████████████████████████▊                         | 9099/12000 [2:41:05<52:02,  1.08s/it]"
     ]
    },
    {
     "name": "stdout",
     "output_type": "stream",
     "text": [
      "Episode 9100/12000\n",
      "Fitnesses: ['-47.58', '-20.61', '-58.61', '-45.97']\n",
      "100 fitness avgs: ['-19.63', '-19.36', '-20.50', '-20.37']\n"
     ]
    },
    {
     "name": "stderr",
     "output_type": "stream",
     "text": [
      " 76%|█████████████████████████████████████████████████████████████████████████████▌                        | 9119/12000 [2:41:30<1:01:19,  1.28s/it]"
     ]
    },
    {
     "name": "stdout",
     "output_type": "stream",
     "text": [
      "Episode 9120/12000\n",
      "Fitnesses: ['-44.65', '-9.35', '-10.99', '-29.56']\n",
      "100 fitness avgs: ['-19.64', '-19.29', '-19.57', '-20.50']\n"
     ]
    },
    {
     "name": "stderr",
     "output_type": "stream",
     "text": [
      " 76%|█████████████████████████████████████████████████████████████████████████████▋                        | 9139/12000 [2:41:55<1:01:19,  1.29s/it]"
     ]
    },
    {
     "name": "stdout",
     "output_type": "stream",
     "text": [
      "Episode 9140/12000\n",
      "Fitnesses: ['-9.61', '-10.34', '-6.10', '-1.30']\n",
      "100 fitness avgs: ['-18.89', '-20.11', '-18.85', '-19.16']\n"
     ]
    },
    {
     "name": "stderr",
     "output_type": "stream",
     "text": [
      " 76%|█████████████████████████████████████████████████████████████████████████████▊                        | 9159/12000 [2:42:20<1:02:19,  1.32s/it]"
     ]
    },
    {
     "name": "stdout",
     "output_type": "stream",
     "text": [
      "Episode 9160/12000\n",
      "Fitnesses: ['-50.78', '-25.31', '-39.53', '-25.36']\n",
      "100 fitness avgs: ['-19.51', '-19.26', '-19.40', '-20.21']\n"
     ]
    },
    {
     "name": "stderr",
     "output_type": "stream",
     "text": [
      " 76%|███████████████████████████████████████████████████████████████████████████████▌                        | 9179/12000 [2:42:43<49:33,  1.05s/it]"
     ]
    },
    {
     "name": "stdout",
     "output_type": "stream",
     "text": [
      "Episode 9180/12000\n",
      "Fitnesses: ['-5.42', '-44.05', '-35.80', '-34.08']\n",
      "100 fitness avgs: ['-19.19', '-19.58', '-19.50', '-19.74']\n"
     ]
    },
    {
     "name": "stderr",
     "output_type": "stream",
     "text": [
      " 77%|███████████████████████████████████████████████████████████████████████████████▋                        | 9199/12000 [2:43:03<48:56,  1.05s/it]"
     ]
    },
    {
     "name": "stdout",
     "output_type": "stream",
     "text": [
      "Episode 9200/12000\n",
      "Fitnesses: ['-25.02', '-58.16', '-8.78', '-17.73']\n",
      "100 fitness avgs: ['-19.28', '-20.00', '-19.12', '-19.21']\n"
     ]
    },
    {
     "name": "stderr",
     "output_type": "stream",
     "text": [
      " 77%|███████████████████████████████████████████████████████████████████████████████▉                        | 9219/12000 [2:43:28<58:33,  1.26s/it]"
     ]
    },
    {
     "name": "stdout",
     "output_type": "stream",
     "text": [
      "Episode 9220/12000\n",
      "Fitnesses: ['-19.73', '-3.28', '-28.02', '-34.29']\n",
      "100 fitness avgs: ['-18.97', '-19.68', '-19.14', '-19.11']\n"
     ]
    },
    {
     "name": "stderr",
     "output_type": "stream",
     "text": [
      " 77%|████████████████████████████████████████████████████████████████████████████████                        | 9239/12000 [2:43:53<59:54,  1.30s/it]"
     ]
    },
    {
     "name": "stdout",
     "output_type": "stream",
     "text": [
      "Episode 9240/12000\n",
      "Fitnesses: ['-13.77', '-6.45', '-5.52', '-14.16']\n",
      "100 fitness avgs: ['-19.76', '-19.69', '-19.11', '-19.05']\n"
     ]
    },
    {
     "name": "stderr",
     "output_type": "stream",
     "text": [
      " 77%|████████████████████████████████████████████████████████████████████████████████▏                       | 9259/12000 [2:44:19<59:04,  1.29s/it]"
     ]
    },
    {
     "name": "stdout",
     "output_type": "stream",
     "text": [
      "Episode 9260/12000\n",
      "Fitnesses: ['-27.04', '-27.86', '-28.14', '-27.76']\n",
      "100 fitness avgs: ['-19.32', '-19.90', '-19.98', '-19.32']\n"
     ]
    },
    {
     "name": "stderr",
     "output_type": "stream",
     "text": [
      " 77%|████████████████████████████████████████████████████████████████████████████████▍                       | 9279/12000 [2:44:42<48:23,  1.07s/it]"
     ]
    },
    {
     "name": "stdout",
     "output_type": "stream",
     "text": [
      "Episode 9280/12000\n",
      "Fitnesses: ['-19.75', '-8.71', '-53.81', '-65.47']\n",
      "100 fitness avgs: ['-19.43', '-19.33', '-19.78', '-20.55']\n"
     ]
    },
    {
     "name": "stderr",
     "output_type": "stream",
     "text": [
      " 77%|████████████████████████████████████████████████████████████████████████████████▌                       | 9299/12000 [2:45:03<48:15,  1.07s/it]"
     ]
    },
    {
     "name": "stdout",
     "output_type": "stream",
     "text": [
      "Episode 9300/12000\n",
      "Fitnesses: ['-1.81', '-2.48', '-40.19', '-14.40']\n",
      "100 fitness avgs: ['-19.11', '-19.11', '-19.49', '-19.34']\n"
     ]
    },
    {
     "name": "stderr",
     "output_type": "stream",
     "text": [
      " 78%|████████████████████████████████████████████████████████████████████████████████▊                       | 9319/12000 [2:45:29<58:59,  1.32s/it]"
     ]
    },
    {
     "name": "stdout",
     "output_type": "stream",
     "text": [
      "Episode 9320/12000\n",
      "Fitnesses: ['-10.09', '-10.81', '-60.18', '-20.68']\n",
      "100 fitness avgs: ['-19.17', '-19.41', '-19.68', '-19.66']\n"
     ]
    },
    {
     "name": "stderr",
     "output_type": "stream",
     "text": [
      " 78%|████████████████████████████████████████████████████████████████████████████████▉                       | 9339/12000 [2:45:55<59:02,  1.33s/it]"
     ]
    },
    {
     "name": "stdout",
     "output_type": "stream",
     "text": [
      "Episode 9340/12000\n",
      "Fitnesses: ['-2.19', '-35.54', '-13.41', '-29.70']\n",
      "100 fitness avgs: ['-18.84', '-19.41', '-18.96', '-19.12']\n"
     ]
    },
    {
     "name": "stderr",
     "output_type": "stream",
     "text": [
      " 78%|█████████████████████████████████████████████████████████████████████████████████                       | 9359/12000 [2:46:21<58:32,  1.33s/it]"
     ]
    },
    {
     "name": "stdout",
     "output_type": "stream",
     "text": [
      "Episode 9360/12000\n",
      "Fitnesses: ['-46.25', '-11.16', '-19.10', '-21.35']\n",
      "100 fitness avgs: ['-19.26', '-19.18', '-19.10', '-19.01']\n"
     ]
    },
    {
     "name": "stderr",
     "output_type": "stream",
     "text": [
      " 78%|█████████████████████████████████████████████████████████████████████████████████▎                      | 9379/12000 [2:46:45<48:41,  1.11s/it]"
     ]
    },
    {
     "name": "stdout",
     "output_type": "stream",
     "text": [
      "Episode 9380/12000\n",
      "Fitnesses: ['-9.78', '-11.97', '-12.41', '-3.05']\n",
      "100 fitness avgs: ['-19.25', '-19.10', '-19.10', '-19.01']\n"
     ]
    },
    {
     "name": "stderr",
     "output_type": "stream",
     "text": [
      " 78%|█████████████████████████████████████████████████████████████████████████████████▍                      | 9399/12000 [2:47:07<55:45,  1.29s/it]"
     ]
    },
    {
     "name": "stdout",
     "output_type": "stream",
     "text": [
      "Episode 9400/12000\n",
      "Fitnesses: ['-36.52', '-24.71', '-29.26', '-8.79']\n",
      "100 fitness avgs: ['-19.25', '-19.13', '-19.42', '-19.21']\n"
     ]
    },
    {
     "name": "stderr",
     "output_type": "stream",
     "text": [
      " 78%|████████████████████████████████████████████████████████████████████████████████                      | 9419/12000 [2:47:35<1:00:08,  1.40s/it]"
     ]
    },
    {
     "name": "stdout",
     "output_type": "stream",
     "text": [
      "Episode 9420/12000\n",
      "Fitnesses: ['-22.32', '-24.35', '-7.08', '-4.83']\n",
      "100 fitness avgs: ['-19.31', '-19.53', '-19.08', '-19.13']\n"
     ]
    },
    {
     "name": "stderr",
     "output_type": "stream",
     "text": [
      " 79%|████████████████████████████████████████████████████████████████████████████████▏                     | 9439/12000 [2:48:03<1:01:17,  1.44s/it]"
     ]
    },
    {
     "name": "stdout",
     "output_type": "stream",
     "text": [
      "Episode 9440/12000\n",
      "Fitnesses: ['-17.76', '-13.94', '-13.82', '-22.40']\n",
      "100 fitness avgs: ['-18.70', '-18.67', '-18.61', '-18.75']\n"
     ]
    },
    {
     "name": "stderr",
     "output_type": "stream",
     "text": [
      " 79%|█████████████████████████████████████████████████████████████████████████████████▉                      | 9459/12000 [2:48:30<59:08,  1.40s/it]"
     ]
    },
    {
     "name": "stdout",
     "output_type": "stream",
     "text": [
      "Episode 9460/12000\n",
      "Fitnesses: ['-23.96', '-0.96', '-23.87', '-3.48']\n",
      "100 fitness avgs: ['-18.75', '-18.62', '-18.75', '-18.69']\n"
     ]
    },
    {
     "name": "stderr",
     "output_type": "stream",
     "text": [
      " 79%|██████████████████████████████████████████████████████████████████████████████████▏                     | 9479/12000 [2:48:53<49:04,  1.17s/it]"
     ]
    },
    {
     "name": "stdout",
     "output_type": "stream",
     "text": [
      "Episode 9480/12000\n",
      "Fitnesses: ['-5.75', '-21.09', '-18.36', '-9.26']\n",
      "100 fitness avgs: ['-18.32', '-18.47', '-18.45', '-18.43']\n"
     ]
    },
    {
     "name": "stderr",
     "output_type": "stream",
     "text": [
      " 79%|██████████████████████████████████████████████████████████████████████████████████▎                     | 9499/12000 [2:49:19<59:43,  1.43s/it]"
     ]
    },
    {
     "name": "stdout",
     "output_type": "stream",
     "text": [
      "Episode 9500/12000\n",
      "Fitnesses: ['-5.68', '-6.90', '-16.39', '-8.75']\n",
      "100 fitness avgs: ['-18.08', '-18.09', '-18.29', '-18.11']\n"
     ]
    },
    {
     "name": "stderr",
     "output_type": "stream",
     "text": [
      " 79%|████████████████████████████████████████████████████████████████████████████████▉                     | 9519/12000 [2:49:48<1:01:17,  1.48s/it]"
     ]
    },
    {
     "name": "stdout",
     "output_type": "stream",
     "text": [
      "Episode 9520/12000\n",
      "Fitnesses: ['-30.01', '-20.78', '-3.04', '-7.39']\n",
      "100 fitness avgs: ['-18.20', '-18.12', '-17.94', '-17.97']\n"
     ]
    },
    {
     "name": "stderr",
     "output_type": "stream",
     "text": [
      " 79%|█████████████████████████████████████████████████████████████████████████████████                     | 9539/12000 [2:50:17<1:01:42,  1.50s/it]"
     ]
    },
    {
     "name": "stdout",
     "output_type": "stream",
     "text": [
      "Episode 9540/12000\n",
      "Fitnesses: ['-13.78', '-9.24', '-27.74', '-42.34']\n",
      "100 fitness avgs: ['-17.67', '-17.62', '-17.99', '-17.96']\n"
     ]
    },
    {
     "name": "stderr",
     "output_type": "stream",
     "text": [
      " 80%|██████████████████████████████████████████████████████████████████████████████████▊                     | 9559/12000 [2:50:44<49:42,  1.22s/it]"
     ]
    },
    {
     "name": "stdout",
     "output_type": "stream",
     "text": [
      "Episode 9560/12000\n",
      "Fitnesses: ['-25.46', '-40.61', '-20.51', '-24.13']\n",
      "100 fitness avgs: ['-17.65', '-17.85', '-17.60', '-17.68']\n"
     ]
    },
    {
     "name": "stderr",
     "output_type": "stream",
     "text": [
      " 80%|█████████████████████████████████████████████████████████████████████████████████▍                    | 9579/12000 [2:51:23<1:31:45,  2.27s/it]"
     ]
    },
    {
     "name": "stdout",
     "output_type": "stream",
     "text": [
      "Episode 9580/12000\n",
      "Fitnesses: ['-10.56', '-136.82', '-20.64', '-23.42']\n",
      "100 fitness avgs: ['-17.55', '-18.89', '-17.70', '-17.76']\n"
     ]
    },
    {
     "name": "stderr",
     "output_type": "stream",
     "text": [
      " 80%|███████████████████████████████████████████████████████████████████████████████████▏                    | 9599/12000 [2:51:53<59:43,  1.49s/it]"
     ]
    },
    {
     "name": "stdout",
     "output_type": "stream",
     "text": [
      "Episode 9600/12000\n",
      "Fitnesses: ['-29.57', '-9.02', '-16.35', '-10.98']\n",
      "100 fitness avgs: ['-17.35', '-17.15', '-17.22', '-17.17']\n"
     ]
    },
    {
     "name": "stderr",
     "output_type": "stream",
     "text": [
      " 80%|█████████████████████████████████████████████████████████████████████████████████▊                    | 9619/12000 [2:52:23<1:01:08,  1.54s/it]"
     ]
    },
    {
     "name": "stdout",
     "output_type": "stream",
     "text": [
      "Episode 9620/12000\n",
      "Fitnesses: ['-41.82', '-17.18', '-45.11', '-7.94']\n",
      "100 fitness avgs: ['-17.51', '-17.34', '-17.57', '-17.18']\n"
     ]
    },
    {
     "name": "stderr",
     "output_type": "stream",
     "text": [
      " 80%|█████████████████████████████████████████████████████████████████████████████████▉                    | 9639/12000 [2:52:58<1:07:54,  1.73s/it]"
     ]
    },
    {
     "name": "stdout",
     "output_type": "stream",
     "text": [
      "Episode 9640/12000\n",
      "Fitnesses: ['-29.20', '-19.72', '-666.23', '-11.79']\n",
      "100 fitness avgs: ['-17.23', '-17.13', '-23.60', '-17.39']\n"
     ]
    },
    {
     "name": "stderr",
     "output_type": "stream",
     "text": [
      " 80%|███████████████████████████████████████████████████████████████████████████████████▋                    | 9659/12000 [2:53:27<58:34,  1.50s/it]"
     ]
    },
    {
     "name": "stdout",
     "output_type": "stream",
     "text": [
      "Episode 9660/12000\n",
      "Fitnesses: ['-39.15', '-45.76', '-3.29', '-18.98']\n",
      "100 fitness avgs: ['-17.56', '-17.63', '-17.20', '-17.36']\n"
     ]
    },
    {
     "name": "stderr",
     "output_type": "stream",
     "text": [
      " 81%|███████████████████████████████████████████████████████████████████████████████████▉                    | 9679/12000 [2:53:56<58:28,  1.51s/it]"
     ]
    },
    {
     "name": "stdout",
     "output_type": "stream",
     "text": [
      "Episode 9680/12000\n",
      "Fitnesses: ['-3.64', '-3.47', '-17.68', '-12.42']\n",
      "100 fitness avgs: ['-17.05', '-17.05', '-17.55', '-17.14']\n"
     ]
    },
    {
     "name": "stderr",
     "output_type": "stream",
     "text": [
      " 81%|████████████████████████████████████████████████████████████████████████████████████                    | 9699/12000 [2:54:26<59:15,  1.55s/it]"
     ]
    },
    {
     "name": "stdout",
     "output_type": "stream",
     "text": [
      "Episode 9700/12000\n",
      "Fitnesses: ['-4.98', '-28.45', '-60.18', '-16.84']\n",
      "100 fitness avgs: ['-16.96', '-17.20', '-18.01', '-17.08']\n"
     ]
    },
    {
     "name": "stderr",
     "output_type": "stream",
     "text": [
      " 81%|████████████████████████████████████████████████████████████████████████████████████▏                   | 9719/12000 [2:54:53<47:49,  1.26s/it]"
     ]
    },
    {
     "name": "stdout",
     "output_type": "stream",
     "text": [
      "Episode 9720/12000\n",
      "Fitnesses: ['-9.08', '-1.35', '-19.91', '-38.86']\n",
      "100 fitness avgs: ['-16.98', '-17.02', '-17.09', '-17.28']\n"
     ]
    },
    {
     "name": "stderr",
     "output_type": "stream",
     "text": [
      " 81%|████████████████████████████████████████████████████████████████████████████████████▍                   | 9739/12000 [2:55:21<59:59,  1.59s/it]"
     ]
    },
    {
     "name": "stdout",
     "output_type": "stream",
     "text": [
      "Episode 9740/12000\n",
      "Fitnesses: ['-22.24', '-20.55', '-33.37', '-11.63']\n",
      "100 fitness avgs: ['-17.12', '-17.06', '-17.23', '-17.02']\n"
     ]
    },
    {
     "name": "stderr",
     "output_type": "stream",
     "text": [
      " 81%|████████████████████████████████████████████████████████████████████████████████████▌                   | 9759/12000 [2:55:52<58:33,  1.57s/it]"
     ]
    },
    {
     "name": "stdout",
     "output_type": "stream",
     "text": [
      "Episode 9760/12000\n",
      "Fitnesses: ['-16.95', '-11.42', '-28.02', '-36.17']\n",
      "100 fitness avgs: ['-17.06', '-17.00', '-17.27', '-17.35']\n"
     ]
    },
    {
     "name": "stderr",
     "output_type": "stream",
     "text": [
      " 81%|████████████████████████████████████████████████████████████████████████████████████▊                   | 9779/12000 [2:56:23<58:57,  1.59s/it]"
     ]
    },
    {
     "name": "stdout",
     "output_type": "stream",
     "text": [
      "Episode 9780/12000\n",
      "Fitnesses: ['-13.03', '-1.86', '-43.99', '-4.73']\n",
      "100 fitness avgs: ['-16.98', '-16.87', '-17.29', '-16.95']\n"
     ]
    },
    {
     "name": "stderr",
     "output_type": "stream",
     "text": [
      " 82%|████████████████████████████████████████████████████████████████████████████████████▉                   | 9799/12000 [2:56:50<46:18,  1.26s/it]"
     ]
    },
    {
     "name": "stdout",
     "output_type": "stream",
     "text": [
      "Episode 9800/12000\n",
      "Fitnesses: ['-10.45', '-25.15', '-63.21', '-20.15']\n",
      "100 fitness avgs: ['-16.86', '-17.09', '-17.39', '-16.96']\n"
     ]
    },
    {
     "name": "stderr",
     "output_type": "stream",
     "text": [
      " 82%|█████████████████████████████████████████████████████████████████████████████████████                   | 9819/12000 [2:57:17<58:23,  1.61s/it]"
     ]
    },
    {
     "name": "stdout",
     "output_type": "stream",
     "text": [
      "Episode 9820/12000\n",
      "Fitnesses: ['-32.67', '-14.95', '-34.88', '-8.85']\n",
      "100 fitness avgs: ['-17.04', '-16.96', '-17.06', '-16.80']\n"
     ]
    },
    {
     "name": "stderr",
     "output_type": "stream",
     "text": [
      " 82%|█████████████████████████████████████████████████████████████████████████████████████▎                  | 9839/12000 [2:57:48<56:26,  1.57s/it]"
     ]
    },
    {
     "name": "stdout",
     "output_type": "stream",
     "text": [
      "Episode 9840/12000\n",
      "Fitnesses: ['-20.26', '-42.95', '-5.90', '-14.88']\n",
      "100 fitness avgs: ['-16.94', '-17.33', '-16.96', '-17.05']\n"
     ]
    },
    {
     "name": "stderr",
     "output_type": "stream",
     "text": [
      " 82%|█████████████████████████████████████████████████████████████████████████████████████▍                  | 9859/12000 [2:58:18<54:17,  1.52s/it]"
     ]
    },
    {
     "name": "stdout",
     "output_type": "stream",
     "text": [
      "Episode 9860/12000\n",
      "Fitnesses: ['-62.94', '-35.08', '-28.15', '-22.05']\n",
      "100 fitness avgs: ['-17.43', '-17.52', '-17.08', '-17.02']\n"
     ]
    },
    {
     "name": "stderr",
     "output_type": "stream",
     "text": [
      " 82%|███████████████████████████████████████████████████████████████████████████████████▉                  | 9879/12000 [2:58:56<1:03:46,  1.80s/it]"
     ]
    },
    {
     "name": "stdout",
     "output_type": "stream",
     "text": [
      "Episode 9880/12000\n",
      "Fitnesses: ['-4.78', '-15.33', '-17.42', '-1083.67']\n",
      "100 fitness avgs: ['-16.99', '-17.59', '-17.17', '-27.78']\n"
     ]
    },
    {
     "name": "stderr",
     "output_type": "stream",
     "text": [
      " 82%|█████████████████████████████████████████████████████████████████████████████████████▊                  | 9899/12000 [2:59:23<51:11,  1.46s/it]"
     ]
    },
    {
     "name": "stdout",
     "output_type": "stream",
     "text": [
      "Episode 9900/12000\n",
      "Fitnesses: ['-54.63', '-6.11', '-17.38', '-48.73']\n",
      "100 fitness avgs: ['-17.51', '-17.03', '-17.75', '-17.45']\n"
     ]
    },
    {
     "name": "stderr",
     "output_type": "stream",
     "text": [
      " 83%|█████████████████████████████████████████████████████████████████████████████████████▉                  | 9919/12000 [2:59:52<50:13,  1.45s/it]"
     ]
    },
    {
     "name": "stdout",
     "output_type": "stream",
     "text": [
      "Episode 9920/12000\n",
      "Fitnesses: ['-7.61', '-13.44', '-13.73', '-11.76']\n",
      "100 fitness avgs: ['-16.79', '-17.57', '-17.28', '-17.32']\n"
     ]
    },
    {
     "name": "stderr",
     "output_type": "stream",
     "text": [
      " 83%|██████████████████████████████████████████████████████████████████████████████████████▏                 | 9939/12000 [3:00:20<49:44,  1.45s/it]"
     ]
    },
    {
     "name": "stdout",
     "output_type": "stream",
     "text": [
      "Episode 9940/12000\n",
      "Fitnesses: ['-38.55', '-20.30', '-5.76', '-12.59']\n",
      "100 fitness avgs: ['-17.15', '-16.97', '-17.31', '-16.89']\n"
     ]
    },
    {
     "name": "stderr",
     "output_type": "stream",
     "text": [
      " 83%|██████████████████████████████████████████████████████████████████████████████████████▎                 | 9959/12000 [3:00:45<40:16,  1.18s/it]"
     ]
    },
    {
     "name": "stdout",
     "output_type": "stream",
     "text": [
      "Episode 9960/12000\n",
      "Fitnesses: ['-35.00', '-37.68', '-22.80', '-5.60']\n",
      "100 fitness avgs: ['-17.46', '-17.07', '-17.34', '-16.74']\n"
     ]
    },
    {
     "name": "stderr",
     "output_type": "stream",
     "text": [
      " 83%|██████████████████████████████████████████████████████████████████████████████████████▍                 | 9979/12000 [3:01:09<45:41,  1.36s/it]"
     ]
    },
    {
     "name": "stdout",
     "output_type": "stream",
     "text": [
      "Episode 9980/12000\n",
      "Fitnesses: ['-5.18', '-48.63', '-47.86', '-13.61']\n",
      "100 fitness avgs: ['-16.76', '-17.91', '-17.78', '-17.44']\n"
     ]
    },
    {
     "name": "stderr",
     "output_type": "stream",
     "text": [
      " 83%|██████████████████████████████████████████████████████████████████████████████████████▋                 | 9999/12000 [3:01:38<47:49,  1.43s/it]"
     ]
    },
    {
     "name": "stdout",
     "output_type": "stream",
     "text": [
      "Episode 10000/12000\n",
      "Fitnesses: ['-35.25', '-15.44', '-19.38', '-21.82']\n",
      "100 fitness avgs: ['-16.97', '-17.44', '-16.81', '-16.83']\n"
     ]
    },
    {
     "name": "stderr",
     "output_type": "stream",
     "text": [
      " 83%|████████████████████████████████████████████████████████████████████████████████████▎                | 10019/12000 [3:02:16<1:06:05,  2.00s/it]"
     ]
    },
    {
     "name": "stdout",
     "output_type": "stream",
     "text": [
      "Episode 10020/12000\n",
      "Fitnesses: ['-379.51', '-33.39', '-28.19', '-16.44']\n",
      "100 fitness avgs: ['-21.15', '-17.05', '-17.03', '-17.52']\n"
     ]
    },
    {
     "name": "stderr",
     "output_type": "stream",
     "text": [
      " 84%|██████████████████████████████████████████████████████████████████████████████████████▏                | 10039/12000 [3:02:43<38:48,  1.19s/it]"
     ]
    },
    {
     "name": "stdout",
     "output_type": "stream",
     "text": [
      "Episode 10040/12000\n",
      "Fitnesses: ['-11.93', '-33.94', '-32.34', '-19.35']\n",
      "100 fitness avgs: ['-17.22', '-16.98', '-17.43', '-17.30']\n"
     ]
    },
    {
     "name": "stderr",
     "output_type": "stream",
     "text": [
      " 84%|██████████████████████████████████████████████████████████████████████████████████████▎                | 10059/12000 [3:03:05<36:16,  1.12s/it]"
     ]
    },
    {
     "name": "stdout",
     "output_type": "stream",
     "text": [
      "Episode 10060/12000\n",
      "Fitnesses: ['-42.31', '-23.97', '-51.83', '-35.37']\n",
      "100 fitness avgs: ['-17.53', '-17.35', '-17.63', '-17.54']\n"
     ]
    },
    {
     "name": "stderr",
     "output_type": "stream",
     "text": [
      " 84%|██████████████████████████████████████████████████████████████████████████████████████▌                | 10079/12000 [3:03:32<43:21,  1.35s/it]"
     ]
    },
    {
     "name": "stdout",
     "output_type": "stream",
     "text": [
      "Episode 10080/12000\n",
      "Fitnesses: ['-6.34', '-43.92', '-3.86', '-36.19']\n",
      "100 fitness avgs: ['-17.35', '-17.91', '-17.51', '-17.65']\n"
     ]
    },
    {
     "name": "stderr",
     "output_type": "stream",
     "text": [
      " 84%|██████████████████████████████████████████████████████████████████████████████████████▋                | 10099/12000 [3:03:58<43:36,  1.38s/it]"
     ]
    },
    {
     "name": "stdout",
     "output_type": "stream",
     "text": [
      "Episode 10100/12000\n",
      "Fitnesses: ['-29.54', '-27.70', '-17.05', '-29.73']\n",
      "100 fitness avgs: ['-17.74', '-17.72', '-17.75', '-17.74']\n"
     ]
    },
    {
     "name": "stderr",
     "output_type": "stream",
     "text": [
      " 84%|█████████████████████████████████████████████████████████████████████████████████████▏               | 10119/12000 [3:04:37<1:03:02,  2.01s/it]"
     ]
    },
    {
     "name": "stdout",
     "output_type": "stream",
     "text": [
      "Episode 10120/12000\n",
      "Fitnesses: ['-13.04', '-33.16', '-163.53', '-117.15']\n",
      "100 fitness avgs: ['-17.78', '-17.95', '-19.29', '-18.82']\n"
     ]
    },
    {
     "name": "stderr",
     "output_type": "stream",
     "text": [
      " 84%|███████████████████████████████████████████████████████████████████████████████████████                | 10139/12000 [3:05:00<35:36,  1.15s/it]"
     ]
    },
    {
     "name": "stdout",
     "output_type": "stream",
     "text": [
      "Episode 10140/12000\n",
      "Fitnesses: ['-24.91', '-6.15', '-8.43', '-24.90']\n",
      "100 fitness avgs: ['-17.92', '-17.73', '-17.75', '-18.09']\n"
     ]
    },
    {
     "name": "stderr",
     "output_type": "stream",
     "text": [
      " 85%|███████████████████████████████████████████████████████████████████████████████████████▏               | 10159/12000 [3:05:25<41:49,  1.36s/it]"
     ]
    },
    {
     "name": "stdout",
     "output_type": "stream",
     "text": [
      "Episode 10160/12000\n",
      "Fitnesses: ['-49.71', '-10.85', '-27.73', '-80.95']\n",
      "100 fitness avgs: ['-17.59', '-17.22', '-17.56', '-17.92']\n"
     ]
    },
    {
     "name": "stderr",
     "output_type": "stream",
     "text": [
      " 85%|███████████████████████████████████████████████████████████████████████████████████████▎               | 10179/12000 [3:05:52<41:13,  1.36s/it]"
     ]
    },
    {
     "name": "stdout",
     "output_type": "stream",
     "text": [
      "Episode 10180/12000\n",
      "Fitnesses: ['-20.58', '-4.18', '-32.22', '-30.82']\n",
      "100 fitness avgs: ['-17.14', '-17.34', '-17.62', '-17.24']\n"
     ]
    },
    {
     "name": "stderr",
     "output_type": "stream",
     "text": [
      " 85%|███████████████████████████████████████████████████████████████████████████████████████▌               | 10199/12000 [3:06:19<40:43,  1.36s/it]"
     ]
    },
    {
     "name": "stdout",
     "output_type": "stream",
     "text": [
      "Episode 10200/12000\n",
      "Fitnesses: ['-8.85', '-18.19', '-42.67', '-28.61']\n",
      "100 fitness avgs: ['-17.24', '-17.62', '-17.58', '-17.44']\n"
     ]
    },
    {
     "name": "stderr",
     "output_type": "stream",
     "text": [
      " 85%|███████████████████████████████████████████████████████████████████████████████████████▋               | 10219/12000 [3:06:43<33:13,  1.12s/it]"
     ]
    },
    {
     "name": "stdout",
     "output_type": "stream",
     "text": [
      "Episode 10220/12000\n",
      "Fitnesses: ['-19.57', '-6.14', '-33.41', '-6.49']\n",
      "100 fitness avgs: ['-17.19', '-17.25', '-17.32', '-17.05']\n"
     ]
    },
    {
     "name": "stderr",
     "output_type": "stream",
     "text": [
      " 85%|███████████████████████████████████████████████████████████████████████████████████████▉               | 10239/12000 [3:07:06<34:37,  1.18s/it]"
     ]
    },
    {
     "name": "stdout",
     "output_type": "stream",
     "text": [
      "Episode 10240/12000\n",
      "Fitnesses: ['-119.27', '-32.98', '-17.66', '-29.21']\n",
      "100 fitness avgs: ['-18.35', '-17.49', '-17.33', '-17.45']\n"
     ]
    },
    {
     "name": "stderr",
     "output_type": "stream",
     "text": [
      " 85%|████████████████████████████████████████████████████████████████████████████████████████               | 10259/12000 [3:07:33<40:12,  1.39s/it]"
     ]
    },
    {
     "name": "stdout",
     "output_type": "stream",
     "text": [
      "Episode 10260/12000\n",
      "Fitnesses: ['-43.06', '-45.79', '-13.73', '-6.39']\n",
      "100 fitness avgs: ['-17.66', '-17.84', '-17.36', '-17.44']\n"
     ]
    },
    {
     "name": "stderr",
     "output_type": "stream",
     "text": [
      " 86%|████████████████████████████████████████████████████████████████████████████████████████▏              | 10279/12000 [3:07:59<38:23,  1.34s/it]"
     ]
    },
    {
     "name": "stdout",
     "output_type": "stream",
     "text": [
      "Episode 10280/12000\n",
      "Fitnesses: ['-49.62', '-74.72', '-31.10', '-4.07']\n",
      "100 fitness avgs: ['-17.72', '-17.89', '-17.93', '-17.48']\n"
     ]
    },
    {
     "name": "stderr",
     "output_type": "stream",
     "text": [
      " 86%|████████████████████████████████████████████████████████████████████████████████████████▍              | 10299/12000 [3:08:26<38:59,  1.38s/it]"
     ]
    },
    {
     "name": "stdout",
     "output_type": "stream",
     "text": [
      "Episode 10300/12000\n",
      "Fitnesses: ['-2.39', '-17.99', '-27.49', '-8.00']\n",
      "100 fitness avgs: ['-17.31', '-17.70', '-18.01', '-17.78']\n"
     ]
    },
    {
     "name": "stderr",
     "output_type": "stream",
     "text": [
      " 86%|████████████████████████████████████████████████████████████████████████████████████████▌              | 10319/12000 [3:08:49<30:31,  1.09s/it]"
     ]
    },
    {
     "name": "stdout",
     "output_type": "stream",
     "text": [
      "Episode 10320/12000\n",
      "Fitnesses: ['-8.39', '-39.56', '-9.26', '-14.17']\n",
      "100 fitness avgs: ['-16.78', '-17.49', '-16.79', '-16.84']\n"
     ]
    },
    {
     "name": "stderr",
     "output_type": "stream",
     "text": [
      " 86%|███████████████████████████████████████████████████████████████████████████████████████              | 10339/12000 [3:09:31<1:07:11,  2.43s/it]"
     ]
    },
    {
     "name": "stdout",
     "output_type": "stream",
     "text": [
      "Episode 10340/12000\n",
      "Fitnesses: ['-121.59', '-266.46', '-3.23', '-30.43']\n",
      "100 fitness avgs: ['-17.89', '-19.39', '-16.71', '-17.69']\n"
     ]
    },
    {
     "name": "stderr",
     "output_type": "stream",
     "text": [
      " 86%|████████████████████████████████████████████████████████████████████████████████████████▉              | 10359/12000 [3:10:08<51:25,  1.88s/it]"
     ]
    },
    {
     "name": "stdout",
     "output_type": "stream",
     "text": [
      "Episode 10360/12000\n",
      "Fitnesses: ['-25.77', '-70.70', '-9.27', '-384.53']\n",
      "100 fitness avgs: ['-16.84', '-17.29', '-17.65', '-21.60']\n"
     ]
    },
    {
     "name": "stderr",
     "output_type": "stream",
     "text": [
      " 86%|█████████████████████████████████████████████████████████████████████████████████████████              | 10379/12000 [3:10:34<36:15,  1.34s/it]"
     ]
    },
    {
     "name": "stdout",
     "output_type": "stream",
     "text": [
      "Episode 10380/12000\n",
      "Fitnesses: ['-5.97', '-11.07', '-29.35', '-15.99']\n",
      "100 fitness avgs: ['-17.61', '-17.30', '-17.85', '-16.90']\n"
     ]
    },
    {
     "name": "stderr",
     "output_type": "stream",
     "text": [
      " 87%|█████████████████████████████████████████████████████████████████████████████████████████▎             | 10399/12000 [3:10:57<29:19,  1.10s/it]"
     ]
    },
    {
     "name": "stdout",
     "output_type": "stream",
     "text": [
      "Episode 10400/12000\n",
      "Fitnesses: ['-26.19', '-23.64', '-10.84', '-28.47']\n",
      "100 fitness avgs: ['-17.83', '-17.10', '-17.68', '-17.15']\n"
     ]
    },
    {
     "name": "stderr",
     "output_type": "stream",
     "text": [
      " 87%|█████████████████████████████████████████████████████████████████████████████████████████▍             | 10419/12000 [3:11:22<36:26,  1.38s/it]"
     ]
    },
    {
     "name": "stdout",
     "output_type": "stream",
     "text": [
      "Episode 10420/12000\n",
      "Fitnesses: ['-56.97', '-23.76', '-55.93', '-18.45']\n",
      "100 fitness avgs: ['-18.06', '-17.73', '-18.05', '-17.67']\n"
     ]
    },
    {
     "name": "stderr",
     "output_type": "stream",
     "text": [
      " 87%|█████████████████████████████████████████████████████████████████████████████████████████▌             | 10439/12000 [3:11:49<35:02,  1.35s/it]"
     ]
    },
    {
     "name": "stdout",
     "output_type": "stream",
     "text": [
      "Episode 10440/12000\n",
      "Fitnesses: ['-12.40', '-7.74', '-28.40', '-13.30']\n",
      "100 fitness avgs: ['-17.52', '-17.85', '-17.68', '-17.52']\n"
     ]
    },
    {
     "name": "stderr",
     "output_type": "stream",
     "text": [
      " 87%|█████████████████████████████████████████████████████████████████████████████████████████▊             | 10459/12000 [3:12:16<34:52,  1.36s/it]"
     ]
    },
    {
     "name": "stdout",
     "output_type": "stream",
     "text": [
      "Episode 10460/12000\n",
      "Fitnesses: ['-24.44', '-33.99', '-27.40', '-14.81']\n",
      "100 fitness avgs: ['-17.85', '-17.60', '-17.88', '-17.75']\n"
     ]
    },
    {
     "name": "stderr",
     "output_type": "stream",
     "text": [
      " 87%|█████████████████████████████████████████████████████████████████████████████████████████▉             | 10479/12000 [3:12:41<29:18,  1.16s/it]"
     ]
    },
    {
     "name": "stdout",
     "output_type": "stream",
     "text": [
      "Episode 10480/12000\n",
      "Fitnesses: ['-82.18', '-18.53', '-18.00', '-43.92']\n",
      "100 fitness avgs: ['-18.48', '-17.85', '-17.94', '-18.20']\n"
     ]
    },
    {
     "name": "stderr",
     "output_type": "stream",
     "text": [
      " 87%|██████████████████████████████████████████████████████████████████████████████████████████             | 10499/12000 [3:13:03<27:08,  1.08s/it]"
     ]
    },
    {
     "name": "stdout",
     "output_type": "stream",
     "text": [
      "Episode 10500/12000\n",
      "Fitnesses: ['-15.83', '-24.45', '-18.92', '-18.84']\n",
      "100 fitness avgs: ['-17.79', '-17.88', '-17.73', '-17.73']\n"
     ]
    },
    {
     "name": "stderr",
     "output_type": "stream",
     "text": [
      " 88%|██████████████████████████████████████████████████████████████████████████████████████████▎            | 10519/12000 [3:13:28<32:52,  1.33s/it]"
     ]
    },
    {
     "name": "stdout",
     "output_type": "stream",
     "text": [
      "Episode 10520/12000\n",
      "Fitnesses: ['-20.42', '-14.29', '-43.49', '-146.37']\n",
      "100 fitness avgs: ['-17.88', '-17.76', '-18.05', '-19.14']\n"
     ]
    },
    {
     "name": "stderr",
     "output_type": "stream",
     "text": [
      " 88%|██████████████████████████████████████████████████████████████████████████████████████████▍            | 10539/12000 [3:13:54<31:48,  1.31s/it]"
     ]
    },
    {
     "name": "stdout",
     "output_type": "stream",
     "text": [
      "Episode 10540/12000\n",
      "Fitnesses: ['-62.22', '-37.55', '-36.88', '-20.73']\n",
      "100 fitness avgs: ['-18.21', '-18.08', '-17.95', '-17.92']\n"
     ]
    },
    {
     "name": "stderr",
     "output_type": "stream",
     "text": [
      " 88%|██████████████████████████████████████████████████████████████████████████████████████████▋            | 10559/12000 [3:14:20<31:41,  1.32s/it]"
     ]
    },
    {
     "name": "stdout",
     "output_type": "stream",
     "text": [
      "Episode 10560/12000\n",
      "Fitnesses: ['-11.17', '-37.01', '-5.97', '-11.34']\n",
      "100 fitness avgs: ['-17.78', '-18.08', '-17.77', '-17.95']\n"
     ]
    },
    {
     "name": "stderr",
     "output_type": "stream",
     "text": [
      " 88%|██████████████████████████████████████████████████████████████████████████████████████████▊            | 10579/12000 [3:14:44<25:44,  1.09s/it]"
     ]
    },
    {
     "name": "stdout",
     "output_type": "stream",
     "text": [
      "Episode 10580/12000\n",
      "Fitnesses: ['-6.19', '-67.28', '-17.30', '-96.91']\n",
      "100 fitness avgs: ['-17.08', '-17.69', '-17.19', '-18.17']\n"
     ]
    },
    {
     "name": "stderr",
     "output_type": "stream",
     "text": [
      " 88%|██████████████████████████████████████████████████████████████████████████████████████████▉            | 10599/12000 [3:15:05<25:08,  1.08s/it]"
     ]
    },
    {
     "name": "stdout",
     "output_type": "stream",
     "text": [
      "Episode 10600/12000\n",
      "Fitnesses: ['-24.38', '-5.14', '-9.69', '-38.29']\n",
      "100 fitness avgs: ['-17.28', '-17.08', '-17.24', '-17.53']\n"
     ]
    },
    {
     "name": "stderr",
     "output_type": "stream",
     "text": [
      " 88%|███████████████████████████████████████████████████████████████████████████████████████████▏           | 10619/12000 [3:15:31<30:00,  1.30s/it]"
     ]
    },
    {
     "name": "stdout",
     "output_type": "stream",
     "text": [
      "Episode 10620/12000\n",
      "Fitnesses: ['-11.07', '-9.01', '-21.51', '-38.19']\n",
      "100 fitness avgs: ['-17.08', '-17.26', '-17.35', '-17.36']\n"
     ]
    },
    {
     "name": "stderr",
     "output_type": "stream",
     "text": [
      " 89%|███████████████████████████████████████████████████████████████████████████████████████████▎           | 10639/12000 [3:15:57<29:22,  1.30s/it]"
     ]
    },
    {
     "name": "stdout",
     "output_type": "stream",
     "text": [
      "Episode 10640/12000\n",
      "Fitnesses: ['-32.04', '-12.24', '-20.08', '-29.14']\n",
      "100 fitness avgs: ['-17.37', '-17.27', '-17.25', '-17.17']\n"
     ]
    },
    {
     "name": "stderr",
     "output_type": "stream",
     "text": [
      " 89%|███████████████████████████████████████████████████████████████████████████████████████████▍           | 10659/12000 [3:16:23<29:39,  1.33s/it]"
     ]
    },
    {
     "name": "stdout",
     "output_type": "stream",
     "text": [
      "Episode 10660/12000\n",
      "Fitnesses: ['-8.07', '-10.75', '-34.63', '-30.70']\n",
      "100 fitness avgs: ['-17.17', '-17.09', '-17.43', '-17.37']\n"
     ]
    },
    {
     "name": "stderr",
     "output_type": "stream",
     "text": [
      " 89%|███████████████████████████████████████████████████████████████████████████████████████████▋           | 10679/12000 [3:16:47<24:01,  1.09s/it]"
     ]
    },
    {
     "name": "stdout",
     "output_type": "stream",
     "text": [
      "Episode 10680/12000\n",
      "Fitnesses: ['-48.39', '-64.62', '-81.35', '-8.76']\n",
      "100 fitness avgs: ['-17.46', '-17.55', '-17.72', '-17.27']\n"
     ]
    },
    {
     "name": "stderr",
     "output_type": "stream",
     "text": [
      " 89%|███████████████████████████████████████████████████████████████████████████████████████████▊           | 10699/12000 [3:17:10<29:15,  1.35s/it]"
     ]
    },
    {
     "name": "stdout",
     "output_type": "stream",
     "text": [
      "Episode 10700/12000\n",
      "Fitnesses: ['-16.56', '-24.64', '-57.46', '-1.33']\n",
      "100 fitness avgs: ['-17.30', '-17.38', '-17.71', '-17.15']\n"
     ]
    },
    {
     "name": "stderr",
     "output_type": "stream",
     "text": [
      " 89%|████████████████████████████████████████████████████████████████████████████████████████████           | 10719/12000 [3:17:37<29:44,  1.39s/it]"
     ]
    },
    {
     "name": "stdout",
     "output_type": "stream",
     "text": [
      "Episode 10720/12000\n",
      "Fitnesses: ['-7.95', '-11.88', '-48.05', '-11.89']\n",
      "100 fitness avgs: ['-17.22', '-17.41', '-17.62', '-17.49']\n"
     ]
    },
    {
     "name": "stderr",
     "output_type": "stream",
     "text": [
      " 89%|████████████████████████████████████████████████████████████████████████████████████████████▏          | 10739/12000 [3:18:16<42:08,  2.01s/it]"
     ]
    },
    {
     "name": "stdout",
     "output_type": "stream",
     "text": [
      "Episode 10740/12000\n",
      "Fitnesses: ['-35.09', '-35.35', '-527.37', '-17.74']\n",
      "100 fitness avgs: ['-17.28', '-17.47', '-22.47', '-17.30']\n"
     ]
    },
    {
     "name": "stderr",
     "output_type": "stream",
     "text": [
      " 90%|████████████████████████████████████████████████████████████████████████████████████████████▎          | 10759/12000 [3:18:43<25:27,  1.23s/it]"
     ]
    },
    {
     "name": "stdout",
     "output_type": "stream",
     "text": [
      "Episode 10760/12000\n",
      "Fitnesses: ['-35.33', '-30.03', '-3.61', '-27.69']\n",
      "100 fitness avgs: ['-17.21', '-17.15', '-17.07', '-17.11']\n"
     ]
    },
    {
     "name": "stderr",
     "output_type": "stream",
     "text": [
      " 90%|████████████████████████████████████████████████████████████████████████████████████████████▌          | 10779/12000 [3:19:06<24:19,  1.20s/it]"
     ]
    },
    {
     "name": "stdout",
     "output_type": "stream",
     "text": [
      "Episode 10780/12000\n",
      "Fitnesses: ['-18.45', '-13.69', '-80.65', '-13.11']\n",
      "100 fitness avgs: ['-17.18', '-17.18', '-17.80', '-17.18']\n"
     ]
    },
    {
     "name": "stderr",
     "output_type": "stream",
     "text": [
      " 90%|████████████████████████████████████████████████████████████████████████████████████████████▋          | 10799/12000 [3:19:33<27:59,  1.40s/it]"
     ]
    },
    {
     "name": "stdout",
     "output_type": "stream",
     "text": [
      "Episode 10800/12000\n",
      "Fitnesses: ['-13.44', '-3.72', '-5.57', '-5.88']\n",
      "100 fitness avgs: ['-17.13', '-17.04', '-17.05', '-17.06']\n"
     ]
    },
    {
     "name": "stderr",
     "output_type": "stream",
     "text": [
      " 90%|████████████████████████████████████████████████████████████████████████████████████████████▊          | 10819/12000 [3:20:01<27:03,  1.37s/it]"
     ]
    },
    {
     "name": "stdout",
     "output_type": "stream",
     "text": [
      "Episode 10820/12000\n",
      "Fitnesses: ['-39.98', '-22.03', '-29.47', '-26.62']\n",
      "100 fitness avgs: ['-17.36', '-17.18', '-17.26', '-17.24']\n"
     ]
    },
    {
     "name": "stderr",
     "output_type": "stream",
     "text": [
      " 90%|█████████████████████████████████████████████████████████████████████████████████████████████          | 10839/12000 [3:20:28<26:57,  1.39s/it]"
     ]
    },
    {
     "name": "stdout",
     "output_type": "stream",
     "text": [
      "Episode 10840/12000\n",
      "Fitnesses: ['-19.01', '-13.40', '-63.29', '-55.28']\n",
      "100 fitness avgs: ['-17.21', '-17.23', '-17.71', '-17.57']\n"
     ]
    },
    {
     "name": "stderr",
     "output_type": "stream",
     "text": [
      " 90%|█████████████████████████████████████████████████████████████████████████████████████████████▏         | 10859/12000 [3:20:52<21:39,  1.14s/it]"
     ]
    },
    {
     "name": "stdout",
     "output_type": "stream",
     "text": [
      "Episode 10860/12000\n",
      "Fitnesses: ['-15.32', '-14.75', '-30.52', '-44.38']\n",
      "100 fitness avgs: ['-17.30', '-17.29', '-17.43', '-17.59']\n"
     ]
    },
    {
     "name": "stderr",
     "output_type": "stream",
     "text": [
      " 91%|█████████████████████████████████████████████████████████████████████████████████████████████▍         | 10879/12000 [3:21:17<26:00,  1.39s/it]"
     ]
    },
    {
     "name": "stdout",
     "output_type": "stream",
     "text": [
      "Episode 10880/12000\n",
      "Fitnesses: ['-20.01', '-14.59', '-30.34', '-184.22']\n",
      "100 fitness avgs: ['-17.36', '-17.31', '-17.47', '-19.00']\n"
     ]
    },
    {
     "name": "stderr",
     "output_type": "stream",
     "text": [
      " 91%|█████████████████████████████████████████████████████████████████████████████████████████████▌         | 10899/12000 [3:22:07<48:37,  2.65s/it]"
     ]
    },
    {
     "name": "stdout",
     "output_type": "stream",
     "text": [
      "Episode 10900/12000\n",
      "Fitnesses: ['-81.72', '-63.70', '-20.14', '-64.10']\n",
      "100 fitness avgs: ['-17.41', '-18.93', '-16.80', '-17.24']\n"
     ]
    },
    {
     "name": "stderr",
     "output_type": "stream",
     "text": [
      " 91%|█████████████████████████████████████████████████████████████████████████████████████████████▋         | 10919/12000 [3:22:50<34:46,  1.93s/it]"
     ]
    },
    {
     "name": "stdout",
     "output_type": "stream",
     "text": [
      "Episode 10920/12000\n",
      "Fitnesses: ['-49.85', '-5.70', '-100.05', '-34.68']\n",
      "100 fitness avgs: ['-17.10', '-18.79', '-18.21', '-19.08']\n"
     ]
    },
    {
     "name": "stderr",
     "output_type": "stream",
     "text": [
      " 91%|█████████████████████████████████████████████████████████████████████████████████████████████▉         | 10939/12000 [3:23:14<24:14,  1.37s/it]"
     ]
    },
    {
     "name": "stdout",
     "output_type": "stream",
     "text": [
      "Episode 10940/12000\n",
      "Fitnesses: ['-3.71', '-23.01', '-9.40', '-23.73']\n",
      "100 fitness avgs: ['-18.34', '-18.53', '-18.39', '-16.85']\n"
     ]
    },
    {
     "name": "stderr",
     "output_type": "stream",
     "text": [
      " 91%|██████████████████████████████████████████████████████████████████████████████████████████████         | 10959/12000 [3:23:42<24:39,  1.42s/it]"
     ]
    },
    {
     "name": "stdout",
     "output_type": "stream",
     "text": [
      "Episode 10960/12000\n",
      "Fitnesses: ['-3.78', '-21.47', '-14.38', '-14.45']\n",
      "100 fitness avgs: ['-18.04', '-18.22', '-18.15', '-18.21']\n"
     ]
    },
    {
     "name": "stderr",
     "output_type": "stream",
     "text": [
      " 91%|██████████████████████████████████████████████████████████████████████████████████████████████▏        | 10979/12000 [3:24:10<24:20,  1.43s/it]"
     ]
    },
    {
     "name": "stdout",
     "output_type": "stream",
     "text": [
      "Episode 10980/12000\n",
      "Fitnesses: ['-2.55', '-47.72', '-11.45', '-0.51']\n",
      "100 fitness avgs: ['-17.73', '-18.19', '-17.82', '-17.71']\n"
     ]
    },
    {
     "name": "stderr",
     "output_type": "stream",
     "text": [
      " 92%|██████████████████████████████████████████████████████████████████████████████████████████████▍        | 10999/12000 [3:24:38<23:16,  1.39s/it]"
     ]
    },
    {
     "name": "stdout",
     "output_type": "stream",
     "text": [
      "Episode 11000/12000\n",
      "Fitnesses: ['-13.84', '-6.89', '-2.77', '-27.27']\n",
      "100 fitness avgs: ['-17.81', '-17.76', '-17.72', '-17.94']\n"
     ]
    },
    {
     "name": "stderr",
     "output_type": "stream",
     "text": [
      " 92%|██████████████████████████████████████████████████████████████████████████████████████████████▌        | 11019/12000 [3:25:01<18:50,  1.15s/it]"
     ]
    },
    {
     "name": "stdout",
     "output_type": "stream",
     "text": [
      "Episode 11020/12000\n",
      "Fitnesses: ['-8.86', '-56.61', '-3.21', '-47.91']\n",
      "100 fitness avgs: ['-17.60', '-18.08', '-17.54', '-17.99']\n"
     ]
    },
    {
     "name": "stderr",
     "output_type": "stream",
     "text": [
      " 92%|██████████████████████████████████████████████████████████████████████████████████████████████▊        | 11039/12000 [3:25:28<23:05,  1.44s/it]"
     ]
    },
    {
     "name": "stdout",
     "output_type": "stream",
     "text": [
      "Episode 11040/12000\n",
      "Fitnesses: ['-30.14', '-7.14', '-35.94', '-16.91']\n",
      "100 fitness avgs: ['-17.84', '-17.61', '-17.90', '-17.76']\n"
     ]
    },
    {
     "name": "stderr",
     "output_type": "stream",
     "text": [
      " 92%|██████████████████████████████████████████████████████████████████████████████████████████████▉        | 11059/12000 [3:25:56<22:41,  1.45s/it]"
     ]
    },
    {
     "name": "stdout",
     "output_type": "stream",
     "text": [
      "Episode 11060/12000\n",
      "Fitnesses: ['-22.65', '-14.52', '-9.65', '-15.07']\n",
      "100 fitness avgs: ['-17.78', '-17.85', '-17.94', '-17.70']\n"
     ]
    },
    {
     "name": "stderr",
     "output_type": "stream",
     "text": [
      " 92%|███████████████████████████████████████████████████████████████████████████████████████████████        | 11079/12000 [3:26:24<21:56,  1.43s/it]"
     ]
    },
    {
     "name": "stdout",
     "output_type": "stream",
     "text": [
      "Episode 11080/12000\n",
      "Fitnesses: ['-67.15', '-31.15', '-18.09', '-13.25']\n",
      "100 fitness avgs: ['-18.53', '-18.17', '-17.95', '-17.99']\n"
     ]
    },
    {
     "name": "stderr",
     "output_type": "stream",
     "text": [
      " 92%|███████████████████████████████████████████████████████████████████████████████████████████████▎       | 11099/12000 [3:26:48<16:47,  1.12s/it]"
     ]
    },
    {
     "name": "stdout",
     "output_type": "stream",
     "text": [
      "Episode 11100/12000\n",
      "Fitnesses: ['-7.67', '-22.19', '-35.43', '-25.13']\n",
      "100 fitness avgs: ['-17.86', '-17.97', '-18.10', '-18.03']\n"
     ]
    },
    {
     "name": "stderr",
     "output_type": "stream",
     "text": [
      " 93%|███████████████████████████████████████████████████████████████████████████████████████████████▍       | 11119/12000 [3:27:12<20:19,  1.38s/it]"
     ]
    },
    {
     "name": "stdout",
     "output_type": "stream",
     "text": [
      "Episode 11120/12000\n",
      "Fitnesses: ['-25.43', '-18.22', '-37.42', '-24.43']\n",
      "100 fitness avgs: ['-17.67', '-17.70', '-17.79', '-17.66']\n"
     ]
    },
    {
     "name": "stderr",
     "output_type": "stream",
     "text": [
      " 93%|███████████████████████████████████████████████████████████████████████████████████████████████▌       | 11139/12000 [3:27:38<19:17,  1.34s/it]"
     ]
    },
    {
     "name": "stdout",
     "output_type": "stream",
     "text": [
      "Episode 11140/12000\n",
      "Fitnesses: ['-37.42', '-25.94', '-59.44', '-6.45']\n",
      "100 fitness avgs: ['-18.06', '-18.03', '-18.28', '-17.75']\n"
     ]
    },
    {
     "name": "stderr",
     "output_type": "stream",
     "text": [
      " 93%|███████████████████████████████████████████████████████████████████████████████████████████████▊       | 11159/12000 [3:28:03<17:42,  1.26s/it]"
     ]
    },
    {
     "name": "stdout",
     "output_type": "stream",
     "text": [
      "Episode 11160/12000\n",
      "Fitnesses: ['-13.52', '-6.93', '-21.82', '-3.34']\n",
      "100 fitness avgs: ['-17.64', '-17.57', '-17.72', '-17.53']\n"
     ]
    },
    {
     "name": "stderr",
     "output_type": "stream",
     "text": [
      " 93%|███████████████████████████████████████████████████████████████████████████████████████████████▉       | 11179/12000 [3:28:28<17:35,  1.29s/it]"
     ]
    },
    {
     "name": "stdout",
     "output_type": "stream",
     "text": [
      "Episode 11180/12000\n",
      "Fitnesses: ['-40.05', '-44.06', '-41.18', '-19.28']\n",
      "100 fitness avgs: ['-17.88', '-17.92', '-17.89', '-17.78']\n"
     ]
    },
    {
     "name": "stderr",
     "output_type": "stream",
     "text": [
      " 93%|████████████████████████████████████████████████████████████████████████████████████████████████       | 11199/12000 [3:28:51<14:04,  1.05s/it]"
     ]
    },
    {
     "name": "stdout",
     "output_type": "stream",
     "text": [
      "Episode 11200/12000\n",
      "Fitnesses: ['-30.50', '-6.07', '-28.93', '-5.78']\n",
      "100 fitness avgs: ['-17.99', '-17.75', '-17.98', '-17.86']\n"
     ]
    },
    {
     "name": "stderr",
     "output_type": "stream",
     "text": [
      " 93%|████████████████████████████████████████████████████████████████████████████████████████████████▎      | 11219/12000 [3:29:13<16:25,  1.26s/it]"
     ]
    },
    {
     "name": "stdout",
     "output_type": "stream",
     "text": [
      "Episode 11220/12000\n",
      "Fitnesses: ['-64.20', '-21.26', '-2.61', '-24.01']\n",
      "100 fitness avgs: ['-18.16', '-17.73', '-17.43', '-17.76']\n"
     ]
    },
    {
     "name": "stderr",
     "output_type": "stream",
     "text": [
      " 94%|████████████████████████████████████████████████████████████████████████████████████████████████▍      | 11239/12000 [3:29:38<16:20,  1.29s/it]"
     ]
    },
    {
     "name": "stdout",
     "output_type": "stream",
     "text": [
      "Episode 11240/12000\n",
      "Fitnesses: ['-9.15', '-22.68', '-6.99', '-41.60']\n",
      "100 fitness avgs: ['-17.47', '-17.60', '-17.75', '-17.79']\n"
     ]
    },
    {
     "name": "stderr",
     "output_type": "stream",
     "text": [
      " 94%|████████████████████████████████████████████████████████████████████████████████████████████████▋      | 11259/12000 [3:30:03<15:36,  1.26s/it]"
     ]
    },
    {
     "name": "stdout",
     "output_type": "stream",
     "text": [
      "Episode 11260/12000\n",
      "Fitnesses: ['-12.34', '-41.22', '-9.86', '-44.94']\n",
      "100 fitness avgs: ['-17.59', '-17.60', '-17.29', '-17.64']\n"
     ]
    },
    {
     "name": "stderr",
     "output_type": "stream",
     "text": [
      " 94%|████████████████████████████████████████████████████████████████████████████████████████████████▊      | 11279/12000 [3:30:27<15:03,  1.25s/it]"
     ]
    },
    {
     "name": "stdout",
     "output_type": "stream",
     "text": [
      "Episode 11280/12000\n",
      "Fitnesses: ['-20.55', '-1.67', '-44.41', '-43.36']\n",
      "100 fitness avgs: ['-17.41', '-17.22', '-17.65', '-17.99']\n"
     ]
    },
    {
     "name": "stderr",
     "output_type": "stream",
     "text": [
      " 94%|████████████████████████████████████████████████████████████████████████████████████████████████▉      | 11299/12000 [3:30:50<11:59,  1.03s/it]"
     ]
    },
    {
     "name": "stdout",
     "output_type": "stream",
     "text": [
      "Episode 11300/12000\n",
      "Fitnesses: ['-11.37', '-2.11', '-11.77', '-20.39']\n",
      "100 fitness avgs: ['-17.31', '-17.41', '-17.32', '-17.40']\n"
     ]
    },
    {
     "name": "stderr",
     "output_type": "stream",
     "text": [
      " 94%|█████████████████████████████████████████████████████████████████████████████████████████████████▏     | 11319/12000 [3:31:11<14:02,  1.24s/it]"
     ]
    },
    {
     "name": "stdout",
     "output_type": "stream",
     "text": [
      "Episode 11320/12000\n",
      "Fitnesses: ['-60.80', '-45.07', '-56.99', '-39.32']\n",
      "100 fitness avgs: ['-17.92', '-17.76', '-17.78', '-17.70']\n"
     ]
    },
    {
     "name": "stderr",
     "output_type": "stream",
     "text": [
      " 94%|█████████████████████████████████████████████████████████████████████████████████████████████████▎     | 11339/12000 [3:31:45<19:14,  1.75s/it]"
     ]
    },
    {
     "name": "stdout",
     "output_type": "stream",
     "text": [
      "Episode 11340/12000\n",
      "Fitnesses: ['-25.03', '-11.69', '-1253.66', '-25.70']\n",
      "100 fitness avgs: ['-17.66', '-17.52', '-29.94', '-17.66']\n"
     ]
    },
    {
     "name": "stderr",
     "output_type": "stream",
     "text": [
      " 95%|█████████████████████████████████████████████████████████████████████████████████████████████████▍     | 11359/12000 [3:32:10<13:22,  1.25s/it]"
     ]
    },
    {
     "name": "stdout",
     "output_type": "stream",
     "text": [
      "Episode 11360/12000\n",
      "Fitnesses: ['-55.54', '-23.15', '-93.96', '-24.09']\n",
      "100 fitness avgs: ['-17.97', '-17.64', '-18.49', '-17.78']\n"
     ]
    },
    {
     "name": "stderr",
     "output_type": "stream",
     "text": [
      " 95%|█████████████████████████████████████████████████████████████████████████████████████████████████▋     | 11379/12000 [3:32:34<12:54,  1.25s/it]"
     ]
    },
    {
     "name": "stdout",
     "output_type": "stream",
     "text": [
      "Episode 11380/12000\n",
      "Fitnesses: ['-26.70', '-179.27', '-53.01', '-12.03']\n",
      "100 fitness avgs: ['-17.81', '-19.48', '-18.07', '-17.66']\n"
     ]
    },
    {
     "name": "stderr",
     "output_type": "stream",
     "text": [
      " 95%|█████████████████████████████████████████████████████████████████████████████████████████████████▊     | 11399/12000 [3:32:56<10:22,  1.04s/it]"
     ]
    },
    {
     "name": "stdout",
     "output_type": "stream",
     "text": [
      "Episode 11400/12000\n",
      "Fitnesses: ['-43.33', '-9.84', '-51.29', '-25.95']\n",
      "100 fitness avgs: ['-18.01', '-17.82', '-18.09', '-17.84']\n"
     ]
    },
    {
     "name": "stderr",
     "output_type": "stream",
     "text": [
      " 95%|██████████████████████████████████████████████████████████████████████████████████████████████████     | 11419/12000 [3:33:19<12:04,  1.25s/it]"
     ]
    },
    {
     "name": "stdout",
     "output_type": "stream",
     "text": [
      "Episode 11420/12000\n",
      "Fitnesses: ['-53.07', '-51.46', '-33.79', '-24.86']\n",
      "100 fitness avgs: ['-18.30', '-18.29', '-18.13', '-18.21']\n"
     ]
    },
    {
     "name": "stderr",
     "output_type": "stream",
     "text": [
      " 95%|██████████████████████████████████████████████████████████████████████████████████████████████████▏    | 11439/12000 [3:33:43<11:33,  1.24s/it]"
     ]
    },
    {
     "name": "stdout",
     "output_type": "stream",
     "text": [
      "Episode 11440/12000\n",
      "Fitnesses: ['-235.33', '-36.73', '-33.14', '-13.40']\n",
      "100 fitness avgs: ['-20.39', '-18.40', '-18.28', '-18.17']\n"
     ]
    },
    {
     "name": "stderr",
     "output_type": "stream",
     "text": [
      " 95%|██████████████████████████████████████████████████████████████████████████████████████████████████▎    | 11459/12000 [3:34:08<11:28,  1.27s/it]"
     ]
    },
    {
     "name": "stdout",
     "output_type": "stream",
     "text": [
      "Episode 11460/12000\n",
      "Fitnesses: ['-48.22', '-7.82', '-23.33', '-4.05']\n",
      "100 fitness avgs: ['-18.64', '-18.35', '-18.50', '-18.31']\n"
     ]
    },
    {
     "name": "stderr",
     "output_type": "stream",
     "text": [
      " 96%|██████████████████████████████████████████████████████████████████████████████████████████████████▌    | 11479/12000 [3:34:32<10:57,  1.26s/it]"
     ]
    },
    {
     "name": "stdout",
     "output_type": "stream",
     "text": [
      "Episode 11480/12000\n",
      "Fitnesses: ['-21.27', '-34.07', '-9.19', '-40.66']\n",
      "100 fitness avgs: ['-18.47', '-18.59', '-18.54', '-18.70']\n"
     ]
    },
    {
     "name": "stderr",
     "output_type": "stream",
     "text": [
      " 96%|██████████████████████████████████████████████████████████████████████████████████████████████████▋    | 11499/12000 [3:34:53<08:28,  1.02s/it]"
     ]
    },
    {
     "name": "stdout",
     "output_type": "stream",
     "text": [
      "Episode 11500/12000\n",
      "Fitnesses: ['-39.54', '-39.69', '-4.20', '-12.98']\n",
      "100 fitness avgs: ['-18.86', '-18.92', '-18.44', '-18.60']\n"
     ]
    },
    {
     "name": "stderr",
     "output_type": "stream",
     "text": [
      " 96%|██████████████████████████████████████████████████████████████████████████████████████████████████▊    | 11519/12000 [3:35:15<10:06,  1.26s/it]"
     ]
    },
    {
     "name": "stdout",
     "output_type": "stream",
     "text": [
      "Episode 11520/12000\n",
      "Fitnesses: ['-6.20', '-3.25', '-31.81', '-17.38']\n",
      "100 fitness avgs: ['-18.47', '-18.92', '-18.89', '-19.01']\n"
     ]
    },
    {
     "name": "stderr",
     "output_type": "stream",
     "text": [
      " 96%|███████████████████████████████████████████████████████████████████████████████████████████████████    | 11539/12000 [3:35:48<12:58,  1.69s/it]"
     ]
    },
    {
     "name": "stdout",
     "output_type": "stream",
     "text": [
      "Episode 11540/12000\n",
      "Fitnesses: ['-5.65', '-275.85', '-101.22', '-53.60']\n",
      "100 fitness avgs: ['-18.89', '-21.59', '-19.84', '-18.91']\n"
     ]
    },
    {
     "name": "stderr",
     "output_type": "stream",
     "text": [
      " 96%|███████████████████████████████████████████████████████████████████████████████████████████████████▏   | 11559/12000 [3:36:13<08:54,  1.21s/it]"
     ]
    },
    {
     "name": "stdout",
     "output_type": "stream",
     "text": [
      "Episode 11560/12000\n",
      "Fitnesses: ['-25.73', '-15.02', '-114.83', '-1.94']\n",
      "100 fitness avgs: ['-18.94', '-18.86', '-19.83', '-18.70']\n"
     ]
    },
    {
     "name": "stderr",
     "output_type": "stream",
     "text": [
      " 96%|███████████████████████████████████████████████████████████████████████████████████████████████████▍   | 11579/12000 [3:36:37<08:40,  1.24s/it]"
     ]
    },
    {
     "name": "stdout",
     "output_type": "stream",
     "text": [
      "Episode 11580/12000\n",
      "Fitnesses: ['-31.40', '-39.19', '-40.31', '-36.13']\n",
      "100 fitness avgs: ['-18.91', '-19.23', '-19.00', '-19.11']\n"
     ]
    },
    {
     "name": "stderr",
     "output_type": "stream",
     "text": [
      " 97%|███████████████████████████████████████████████████████████████████████████████████████████████████▌   | 11599/12000 [3:36:58<06:45,  1.01s/it]"
     ]
    },
    {
     "name": "stdout",
     "output_type": "stream",
     "text": [
      "Episode 11600/12000\n",
      "Fitnesses: ['-57.70', '-2.63', '-128.81', '-12.44']\n",
      "100 fitness avgs: ['-19.40', '-19.05', '-20.42', '-19.15']\n"
     ]
    },
    {
     "name": "stderr",
     "output_type": "stream",
     "text": [
      " 97%|███████████████████████████████████████████████████████████████████████████████████████████████████▋   | 11619/12000 [3:37:20<07:43,  1.22s/it]"
     ]
    },
    {
     "name": "stdout",
     "output_type": "stream",
     "text": [
      "Episode 11620/12000\n",
      "Fitnesses: ['-9.72', '-24.65', '-13.45', '-15.56']\n",
      "100 fitness avgs: ['-18.73', '-18.98', '-18.86', '-19.13']\n"
     ]
    },
    {
     "name": "stderr",
     "output_type": "stream",
     "text": [
      " 97%|███████████████████████████████████████████████████████████████████████████████████████████████████▉   | 11639/12000 [3:37:44<07:20,  1.22s/it]"
     ]
    },
    {
     "name": "stdout",
     "output_type": "stream",
     "text": [
      "Episode 11640/12000\n",
      "Fitnesses: ['-19.12', '-30.51', '-3.50', '-73.78']\n",
      "100 fitness avgs: ['-18.80', '-19.05', '-18.65', '-19.35']\n"
     ]
    },
    {
     "name": "stderr",
     "output_type": "stream",
     "text": [
      " 97%|████████████████████████████████████████████████████████████████████████████████████████████████████   | 11659/12000 [3:38:08<07:08,  1.26s/it]"
     ]
    },
    {
     "name": "stdout",
     "output_type": "stream",
     "text": [
      "Episode 11660/12000\n",
      "Fitnesses: ['-62.78', '-7.22', '-6.83', '-16.47']\n",
      "100 fitness avgs: ['-19.24', '-18.69', '-18.68', '-18.78']\n"
     ]
    },
    {
     "name": "stderr",
     "output_type": "stream",
     "text": [
      " 97%|████████████████████████████████████████████████████████████████████████████████████████████████████▏  | 11679/12000 [3:38:32<06:34,  1.23s/it]"
     ]
    },
    {
     "name": "stdout",
     "output_type": "stream",
     "text": [
      "Episode 11680/12000\n",
      "Fitnesses: ['-17.19', '-26.35', '-20.45', '-17.18']\n",
      "100 fitness avgs: ['-18.82', '-18.91', '-18.85', '-18.92']\n"
     ]
    },
    {
     "name": "stderr",
     "output_type": "stream",
     "text": [
      " 97%|████████████████████████████████████████████████████████████████████████████████████████████████████▍  | 11699/12000 [3:39:01<06:59,  1.39s/it]"
     ]
    },
    {
     "name": "stdout",
     "output_type": "stream",
     "text": [
      "Episode 11700/12000\n",
      "Fitnesses: ['-4.20', '-30.85', '-739.94', '-50.53']\n",
      "100 fitness avgs: ['-18.79', '-18.96', '-26.05', '-19.25']\n"
     ]
    },
    {
     "name": "stderr",
     "output_type": "stream",
     "text": [
      " 98%|████████████████████████████████████████████████████████████████████████████████████████████████████▌  | 11719/12000 [3:39:24<05:42,  1.22s/it]"
     ]
    },
    {
     "name": "stdout",
     "output_type": "stream",
     "text": [
      "Episode 11720/12000\n",
      "Fitnesses: ['-28.19', '-31.14', '-42.27', '-149.43']\n",
      "100 fitness avgs: ['-19.06', '-19.09', '-19.37', '-20.73']\n"
     ]
    },
    {
     "name": "stderr",
     "output_type": "stream",
     "text": [
      " 98%|████████████████████████████████████████████████████████████████████████████████████████████████████▊  | 11739/12000 [3:39:48<05:17,  1.22s/it]"
     ]
    },
    {
     "name": "stdout",
     "output_type": "stream",
     "text": [
      "Episode 11740/12000\n",
      "Fitnesses: ['-55.35', '-43.43', '-2.55', '-30.05']\n",
      "100 fitness avgs: ['-19.49', '-19.38', '-18.97', '-19.27']\n"
     ]
    },
    {
     "name": "stderr",
     "output_type": "stream",
     "text": [
      " 98%|████████████████████████████████████████████████████████████████████████████████████████████████████▉  | 11759/12000 [3:40:12<04:45,  1.18s/it]"
     ]
    },
    {
     "name": "stdout",
     "output_type": "stream",
     "text": [
      "Episode 11760/12000\n",
      "Fitnesses: ['-30.87', '-22.21', '-4.55', '-12.51']\n",
      "100 fitness avgs: ['-19.16', '-19.07', '-18.90', '-19.39']\n"
     ]
    },
    {
     "name": "stderr",
     "output_type": "stream",
     "text": [
      " 98%|█████████████████████████████████████████████████████████████████████████████████████████████████████  | 11779/12000 [3:40:36<04:30,  1.22s/it]"
     ]
    },
    {
     "name": "stdout",
     "output_type": "stream",
     "text": [
      "Episode 11780/12000\n",
      "Fitnesses: ['-33.48', '-0.45', '-44.56', '-52.49']\n",
      "100 fitness avgs: ['-19.21', '-19.37', '-19.81', '-19.58']\n"
     ]
    },
    {
     "name": "stderr",
     "output_type": "stream",
     "text": [
      " 98%|█████████████████████████████████████████████████████████████████████████████████████████████████████▎ | 11799/12000 [3:40:57<03:17,  1.02it/s]"
     ]
    },
    {
     "name": "stdout",
     "output_type": "stream",
     "text": [
      "Episode 11800/12000\n",
      "Fitnesses: ['-12.31', '-161.39', '-46.51', '-25.59']\n",
      "100 fitness avgs: ['-19.29', '-20.78', '-19.64', '-19.87']\n"
     ]
    },
    {
     "name": "stderr",
     "output_type": "stream",
     "text": [
      " 98%|█████████████████████████████████████████████████████████████████████████████████████████████████████▍ | 11819/12000 [3:41:19<03:44,  1.24s/it]"
     ]
    },
    {
     "name": "stdout",
     "output_type": "stream",
     "text": [
      "Episode 11820/12000\n",
      "Fitnesses: ['-11.30', '-10.54', '-84.52', '-63.68']\n",
      "100 fitness avgs: ['-19.26', '-19.82', '-19.99', '-19.78']\n"
     ]
    },
    {
     "name": "stderr",
     "output_type": "stream",
     "text": [
      " 99%|█████████████████████████████████████████████████████████████████████████████████████████████████████▌ | 11839/12000 [3:41:43<03:13,  1.20s/it]"
     ]
    },
    {
     "name": "stdout",
     "output_type": "stream",
     "text": [
      "Episode 11840/12000\n",
      "Fitnesses: ['-44.29', '-15.11', '-15.87', '-15.40']\n",
      "100 fitness avgs: ['-20.21', '-19.92', '-19.92', '-19.35']\n"
     ]
    },
    {
     "name": "stderr",
     "output_type": "stream",
     "text": [
      " 99%|█████████████████████████████████████████████████████████████████████████████████████████████████████▊ | 11859/12000 [3:42:07<02:53,  1.23s/it]"
     ]
    },
    {
     "name": "stdout",
     "output_type": "stream",
     "text": [
      "Episode 11860/12000\n",
      "Fitnesses: ['-81.04', '-17.20', '-53.21', '-27.13']\n",
      "100 fitness avgs: ['-20.51', '-19.87', '-20.23', '-19.97']\n"
     ]
    },
    {
     "name": "stderr",
     "output_type": "stream",
     "text": [
      " 99%|█████████████████████████████████████████████████████████████████████████████████████████████████████▉ | 11879/12000 [3:42:41<03:28,  1.73s/it]"
     ]
    },
    {
     "name": "stdout",
     "output_type": "stream",
     "text": [
      "Episode 11880/12000\n",
      "Fitnesses: ['-298.68', '-5.17', '-11.36', '-15.03']\n",
      "100 fitness avgs: ['-22.81', '-19.97', '-20.29', '-19.97']\n"
     ]
    },
    {
     "name": "stderr",
     "output_type": "stream",
     "text": [
      " 99%|██████████████████████████████████████████████████████████████████████████████████████████████████████▏| 11899/12000 [3:43:02<01:45,  1.04s/it]"
     ]
    },
    {
     "name": "stdout",
     "output_type": "stream",
     "text": [
      "Episode 11900/12000\n",
      "Fitnesses: ['-42.42', '-6.68', '-20.87', '-74.56']\n",
      "100 fitness avgs: ['-19.91', '-19.87', '-19.69', '-20.23']\n"
     ]
    },
    {
     "name": "stderr",
     "output_type": "stream",
     "text": [
      " 99%|██████████████████████████████████████████████████████████████████████████████████████████████████████▎| 11919/12000 [3:43:34<02:20,  1.73s/it]"
     ]
    },
    {
     "name": "stdout",
     "output_type": "stream",
     "text": [
      "Episode 11920/12000\n",
      "Fitnesses: ['-49.74', '-28.85', '-20.94', '-236.18']\n",
      "100 fitness avgs: ['-20.23', '-19.84', '-19.94', '-22.13']\n"
     ]
    },
    {
     "name": "stderr",
     "output_type": "stream",
     "text": [
      " 99%|██████████████████████████████████████████████████████████████████████████████████████████████████████▍| 11939/12000 [3:43:59<01:15,  1.24s/it]"
     ]
    },
    {
     "name": "stdout",
     "output_type": "stream",
     "text": [
      "Episode 11940/12000\n",
      "Fitnesses: ['-126.41', '-33.99', '-25.51', '-14.28']\n",
      "100 fitness avgs: ['-21.15', '-20.51', '-20.04', '-20.32']\n"
     ]
    },
    {
     "name": "stderr",
     "output_type": "stream",
     "text": [
      "100%|██████████████████████████████████████████████████████████████████████████████████████████████████████▋| 11959/12000 [3:44:23<00:50,  1.23s/it]"
     ]
    },
    {
     "name": "stdout",
     "output_type": "stream",
     "text": [
      "Episode 11960/12000\n",
      "Fitnesses: ['-52.41', '-38.14', '-26.56', '-13.50']\n",
      "100 fitness avgs: ['-20.61', '-21.30', '-20.36', '-19.95']\n"
     ]
    },
    {
     "name": "stderr",
     "output_type": "stream",
     "text": [
      "100%|██████████████████████████████████████████████████████████████████████████████████████████████████████▊| 11979/12000 [3:44:47<00:22,  1.06s/it]"
     ]
    },
    {
     "name": "stdout",
     "output_type": "stream",
     "text": [
      "Episode 11980/12000\n",
      "Fitnesses: ['-59.94', '-27.61', '-12.79', '-37.58']\n",
      "100 fitness avgs: ['-20.41', '-20.09', '-19.94', '-20.19']\n"
     ]
    },
    {
     "name": "stderr",
     "output_type": "stream",
     "text": [
      "100%|██████████████████████████████████████████████████████████████████████████████████████████████████████▉| 11999/12000 [3:45:06<00:01,  1.07s/it]"
     ]
    },
    {
     "name": "stdout",
     "output_type": "stream",
     "text": [
      "Episode 12000/12000\n",
      "Fitnesses: ['-27.38', '-28.37', '-31.92', '-24.59']\n",
      "100 fitness avgs: ['-20.06', '-20.22', '-20.10', '-20.03']\n"
     ]
    },
    {
     "name": "stderr",
     "output_type": "stream",
     "text": [
      "100%|███████████████████████████████████████████████████████████████████████████████████████████████████████| 12000/12000 [3:45:08<00:00,  1.13s/it]\n"
     ]
    }
   ],
   "source": [
    "\"\"\"\n",
    "This tutorial shows how to train an MATD3 agent on the simple speaker listener multi-particle environment.\n",
    "\n",
    "Authors: Michael (https://github.com/mikepratt1), Nickua (https://github.com/nicku-a)\n",
    "\"\"\"\n",
    "\n",
    "import os\n",
    "\n",
    "import numpy as np\n",
    "import torch\n",
    "from pettingzoo.mpe import simple_speaker_listener_v4\n",
    "from tqdm import trange\n",
    "\n",
    "from agilerl.components.multi_agent_replay_buffer import MultiAgentReplayBuffer\n",
    "from agilerl.hpo.mutation import Mutations\n",
    "from agilerl.hpo.tournament import TournamentSelection\n",
    "from agilerl.utils.utils import initialPopulation\n",
    "\n",
    "if __name__ == \"__main__\":\n",
    "    device = torch.device(\"cuda\" if torch.cuda.is_available() else \"cpu\")\n",
    "    print(\"===== AgileRL Online Multi-Agent Demo =====\")\n",
    "\n",
    "    # Define the network configuration\n",
    "    NET_CONFIG = {\n",
    "        \"arch\": \"mlp\",  # Network architecture\n",
    "        \"h_size\": [32, 32],  # Actor hidden size\n",
    "    }\n",
    "\n",
    "    # Define the initial hyperparameters\n",
    "    INIT_HP = {\n",
    "        \"POPULATION_SIZE\": 4,\n",
    "        \"ALGO\": \"MATD3\",  # Algorithm\n",
    "        # Swap image channels dimension from last to first [H, W, C] -> [C, H, W]\n",
    "        \"CHANNELS_LAST\": False,\n",
    "        \"BATCH_SIZE\": 32,  # Batch size\n",
    "        \"LR\": 0.01,  # Learning rate\n",
    "        \"GAMMA\": 0.95,  # Discount factor\n",
    "        \"MEMORY_SIZE\": 100000,  # Max memory buffer size\n",
    "        \"LEARN_STEP\": 5,  # Learning frequency\n",
    "        \"TAU\": 0.01,  # For soft update of target parameters\n",
    "        \"POLICY_FREQ\": 2,  # Policy frequnecy\n",
    "    }\n",
    "\n",
    "    # Define the simple speaker listener environment as a parallel environment\n",
    "    env = simple_speaker_listener_v4.parallel_env(continuous_actions=True)\n",
    "    env.reset()\n",
    "\n",
    "    # Configure the multi-agent algo input arguments\n",
    "    try:\n",
    "        state_dim = [env.observation_space(agent).n for agent in env.agents]\n",
    "        one_hot = True\n",
    "    except Exception:\n",
    "        state_dim = [env.observation_space(agent).shape for agent in env.agents]\n",
    "        one_hot = False\n",
    "    try:\n",
    "        action_dim = [env.action_space(agent).n for agent in env.agents]\n",
    "        INIT_HP[\"DISCRETE_ACTIONS\"] = True\n",
    "        INIT_HP[\"MAX_ACTION\"] = None\n",
    "        INIT_HP[\"MIN_ACTION\"] = None\n",
    "    except Exception:\n",
    "        action_dim = [env.action_space(agent).shape[0] for agent in env.agents]\n",
    "        INIT_HP[\"DISCRETE_ACTIONS\"] = False\n",
    "        INIT_HP[\"MAX_ACTION\"] = [env.action_space(agent).high for agent in env.agents]\n",
    "        INIT_HP[\"MIN_ACTION\"] = [env.action_space(agent).low for agent in env.agents]\n",
    "\n",
    "    # Not applicable to MPE environments, used when images are used for observations (Atari environments)\n",
    "    if INIT_HP[\"CHANNELS_LAST\"]:\n",
    "        state_dim = [\n",
    "            (state_dim[2], state_dim[0], state_dim[1]) for state_dim in state_dim\n",
    "        ]\n",
    "\n",
    "    # Append number of agents and agent IDs to the initial hyperparameter dictionary\n",
    "    INIT_HP[\"N_AGENTS\"] = env.num_agents\n",
    "    INIT_HP[\"AGENT_IDS\"] = env.agents\n",
    "\n",
    "    # Create a population ready for evolutionary hyper-parameter optimisation\n",
    "    pop = initialPopulation(\n",
    "        INIT_HP[\"ALGO\"],\n",
    "        state_dim,\n",
    "        action_dim,\n",
    "        one_hot,\n",
    "        NET_CONFIG,\n",
    "        INIT_HP,\n",
    "        population_size=INIT_HP[\"POPULATION_SIZE\"],\n",
    "        device=device,\n",
    "    )\n",
    "\n",
    "    # Configure the multi-agent replay buffer\n",
    "    field_names = [\"state\", \"action\", \"reward\", \"next_state\", \"done\"]\n",
    "    memory = MultiAgentReplayBuffer(\n",
    "        INIT_HP[\"MEMORY_SIZE\"],\n",
    "        field_names=field_names,\n",
    "        agent_ids=INIT_HP[\"AGENT_IDS\"],\n",
    "        device=device,\n",
    "    )\n",
    "\n",
    "    # Instantiate a tournament selection object (used for HPO)\n",
    "    tournament = TournamentSelection(\n",
    "        tournament_size=2,  # Tournament selection size\n",
    "        elitism=True,  # Elitism in tournament selection\n",
    "        population_size=INIT_HP[\"POPULATION_SIZE\"],  # Population size\n",
    "        evo_step=1,\n",
    "    )  # Evaluate using last N fitness scores\n",
    "\n",
    "    # Instantiate a mutations object (used for HPO)\n",
    "    mutations = Mutations(\n",
    "        algo=INIT_HP[\"ALGO\"],\n",
    "        no_mutation=0.2,  # Probability of no mutation\n",
    "        architecture=0.2,  # Probability of architecture mutation\n",
    "        new_layer_prob=0.2,  # Probability of new layer mutation\n",
    "        parameters=0.2,  # Probability of parameter mutation\n",
    "        activation=0,  # Probability of activation function mutation\n",
    "        rl_hp=0.2,  # Probability of RL hyperparameter mutation\n",
    "        rl_hp_selection=[\n",
    "            \"lr\",\n",
    "            \"learn_step\",\n",
    "            \"batch_size\",\n",
    "        ],  # RL hyperparams selected for mutation\n",
    "        mutation_sd=0.1,  # Mutation strength\n",
    "        agent_ids=INIT_HP[\"AGENT_IDS\"],\n",
    "        arch=NET_CONFIG[\"arch\"],\n",
    "        rand_seed=1,\n",
    "        device=device,\n",
    "    )\n",
    "\n",
    "    # Define training loop parameters\n",
    "    max_episodes = 12000 # 6000 #500  # Total episodes (default: 6000)\n",
    "    max_steps = 25  # Maximum steps to take in each episode\n",
    "    epsilon = 1.0  # Starting epsilon value\n",
    "    eps_end = 0.1  # Final epsilon value\n",
    "    eps_decay = 0.995  # Epsilon decay\n",
    "    evo_epochs = 20  # Evolution frequency\n",
    "    evo_loop = 1  # Number of evaluation episodes\n",
    "    elite = pop[0]  # Assign a placeholder \"elite\" agent\n",
    "\n",
    "    # Training loop\n",
    "    for idx_epi in trange(max_episodes):\n",
    "        for agent in pop:  # Loop through population\n",
    "            state, info = env.reset()  # Reset environment at start of episode\n",
    "            agent_reward = {agent_id: 0 for agent_id in env.agents}\n",
    "            if INIT_HP[\"CHANNELS_LAST\"]:\n",
    "                state = {\n",
    "                    agent_id: np.moveaxis(np.expand_dims(s, 0), [-1], [-3])\n",
    "                    for agent_id, s in state.items()\n",
    "                }\n",
    "\n",
    "            for _ in range(max_steps):\n",
    "                agent_mask = info[\"agent_mask\"] if \"agent_mask\" in info.keys() else None\n",
    "                env_defined_actions = (\n",
    "                    info[\"env_defined_actions\"]\n",
    "                    if \"env_defined_actions\" in info.keys()\n",
    "                    else None\n",
    "                )\n",
    "\n",
    "                # Get next action from agent\n",
    "                cont_actions, discrete_action = agent.getAction(\n",
    "                    state, epsilon, agent_mask, env_defined_actions\n",
    "                )\n",
    "                if agent.discrete_actions:\n",
    "                    action = discrete_action\n",
    "                else:\n",
    "                    action = cont_actions\n",
    "\n",
    "                next_state, reward, termination, truncation, info = env.step(\n",
    "                    action\n",
    "                )  # Act in environment\n",
    "\n",
    "                # Image processing if necessary for the environment\n",
    "                if INIT_HP[\"CHANNELS_LAST\"]:\n",
    "                    state = {agent_id: np.squeeze(s) for agent_id, s in state.items()}\n",
    "                    next_state = {\n",
    "                        agent_id: np.moveaxis(ns, [-1], [-3])\n",
    "                        for agent_id, ns in next_state.items()\n",
    "                    }\n",
    "\n",
    "                # Save experiences to replay buffer\n",
    "                memory.save2memory(state, cont_actions, reward, next_state, termination)\n",
    "\n",
    "                # Collect the reward\n",
    "                for agent_id, r in reward.items():\n",
    "                    agent_reward[agent_id] += r\n",
    "\n",
    "                # Learn according to learning frequency\n",
    "                if (memory.counter % agent.learn_step == 0) and (\n",
    "                    len(memory) >= agent.batch_size\n",
    "                ):\n",
    "                    experiences = memory.sample(\n",
    "                        agent.batch_size\n",
    "                    )  # Sample replay buffer\n",
    "                    agent.learn(experiences)  # Learn according to agent's RL algorithm\n",
    "\n",
    "                # Update the state\n",
    "                if INIT_HP[\"CHANNELS_LAST\"]:\n",
    "                    next_state = {\n",
    "                        agent_id: np.expand_dims(ns, 0)\n",
    "                        for agent_id, ns in next_state.items()\n",
    "                    }\n",
    "                state = next_state\n",
    "\n",
    "                # Stop episode if any agents have terminated\n",
    "                if any(truncation.values()) or any(termination.values()):\n",
    "                    break\n",
    "\n",
    "            # Save the total episode reward\n",
    "            score = sum(agent_reward.values())\n",
    "            agent.scores.append(score)\n",
    "\n",
    "        # Update epsilon for exploration\n",
    "        epsilon = max(eps_end, epsilon * eps_decay)\n",
    "\n",
    "        # Now evolve population if necessary\n",
    "        if (idx_epi + 1) % evo_epochs == 0:\n",
    "            # Evaluate population\n",
    "            fitnesses = [\n",
    "                agent.test(\n",
    "                    env,\n",
    "                    swap_channels=INIT_HP[\"CHANNELS_LAST\"],\n",
    "                    max_steps=max_steps,\n",
    "                    loop=evo_loop,\n",
    "                )\n",
    "                for agent in pop\n",
    "            ]\n",
    "\n",
    "            print(f\"Episode {idx_epi + 1}/{max_episodes}\")\n",
    "            print(f'Fitnesses: {[\"%.2f\" % fitness for fitness in fitnesses]}')\n",
    "            print(\n",
    "                f'100 fitness avgs: {[\"%.2f\" % np.mean(agent.fitness[-100:]) for agent in pop]}'\n",
    "            )\n",
    "\n",
    "            # Tournament selection and population mutation\n",
    "            elite, pop = tournament.select(pop)\n",
    "            pop = mutations.mutation(pop)\n",
    "\n",
    "    # Save the trained algorithm\n",
    "    path = \"./models/MATD3\"\n",
    "    filename = \"MATD3_trained_agent.pt\"\n",
    "    os.makedirs(path, exist_ok=True)\n",
    "    save_path = os.path.join(path, filename)\n",
    "    elite.saveCheckpoint(save_path)"
   ]
  },
  {
   "cell_type": "code",
   "execution_count": 4,
   "id": "a4757375",
   "metadata": {},
   "outputs": [
    {
     "name": "stdout",
     "output_type": "stream",
     "text": [
      "--------------- Episode: 0 ---------------\n",
      "Episodic Reward:  -29.656328152047827\n",
      "speaker_0 reward: -14.828164076023914\n",
      "listener_0 reward: -14.828164076023914\n",
      "--------------- Episode: 1 ---------------\n",
      "Episodic Reward:  -43.685793542075196\n",
      "speaker_0 reward: -21.842896771037598\n",
      "listener_0 reward: -21.842896771037598\n",
      "--------------- Episode: 2 ---------------\n",
      "Episodic Reward:  -40.386467363608766\n",
      "speaker_0 reward: -20.193233681804383\n",
      "listener_0 reward: -20.193233681804383\n",
      "--------------- Episode: 3 ---------------\n",
      "Episodic Reward:  -17.783197393937677\n",
      "speaker_0 reward: -8.891598696968838\n",
      "listener_0 reward: -8.891598696968838\n",
      "--------------- Episode: 4 ---------------\n",
      "Episodic Reward:  -53.37553114577834\n",
      "speaker_0 reward: -26.68776557288917\n",
      "listener_0 reward: -26.68776557288917\n",
      "--------------- Episode: 5 ---------------\n",
      "Episodic Reward:  -37.74547676071327\n",
      "speaker_0 reward: -18.872738380356633\n",
      "listener_0 reward: -18.872738380356633\n",
      "--------------- Episode: 6 ---------------\n",
      "Episodic Reward:  -29.05194829709767\n",
      "speaker_0 reward: -14.525974148548835\n",
      "listener_0 reward: -14.525974148548835\n",
      "--------------- Episode: 7 ---------------\n",
      "Episodic Reward:  -35.16842895858937\n",
      "speaker_0 reward: -17.584214479294683\n",
      "listener_0 reward: -17.584214479294683\n",
      "--------------- Episode: 8 ---------------\n",
      "Episodic Reward:  -79.97345077858611\n",
      "speaker_0 reward: -39.986725389293056\n",
      "listener_0 reward: -39.986725389293056\n",
      "--------------- Episode: 9 ---------------\n",
      "Episodic Reward:  -67.83598804880039\n",
      "speaker_0 reward: -33.917994024400194\n",
      "listener_0 reward: -33.917994024400194\n"
     ]
    }
   ],
   "source": [
    "import os\n",
    "\n",
    "import imageio\n",
    "import numpy as np\n",
    "import torch\n",
    "from pettingzoo.mpe import simple_speaker_listener_v4\n",
    "from PIL import Image, ImageDraw\n",
    "\n",
    "from agilerl.algorithms.matd3 import MATD3\n",
    "\n",
    "\n",
    "# Define function to return image\n",
    "def _label_with_episode_number(frame, episode_num):\n",
    "    im = Image.fromarray(frame)\n",
    "\n",
    "    drawer = ImageDraw.Draw(im)\n",
    "\n",
    "    if np.mean(frame) < 128:\n",
    "        text_color = (255, 255, 255)\n",
    "    else:\n",
    "        text_color = (0, 0, 0)\n",
    "    drawer.text(\n",
    "        (im.size[0] / 20, im.size[1] / 18), f\"Episode: {episode_num+1}\", fill=text_color\n",
    "    )\n",
    "\n",
    "    return im\n",
    "\n",
    "\n",
    "if __name__ == \"__main__\":\n",
    "    device = torch.device(\"cuda\" if torch.cuda.is_available() else \"cpu\")\n",
    "\n",
    "    # Configure the environment\n",
    "    env = simple_speaker_listener_v4.parallel_env(\n",
    "        continuous_actions=True, render_mode=\"rgb_array\"\n",
    "    )\n",
    "    env.reset()\n",
    "    try:\n",
    "        state_dim = [env.observation_space(agent).n for agent in env.agents]\n",
    "        one_hot = True\n",
    "    except Exception:\n",
    "        state_dim = [env.observation_space(agent).shape for agent in env.agents]\n",
    "        one_hot = False\n",
    "    try:\n",
    "        action_dim = [env.action_space(agent).n for agent in env.agents]\n",
    "        discrete_actions = True\n",
    "        max_action = None\n",
    "        min_action = None\n",
    "    except Exception:\n",
    "        action_dim = [env.action_space(agent).shape[0] for agent in env.agents]\n",
    "        discrete_actions = False\n",
    "        max_action = [env.action_space(agent).high for agent in env.agents]\n",
    "        min_action = [env.action_space(agent).low for agent in env.agents]\n",
    "\n",
    "    # Append number of agents and agent IDs to the initial hyperparameter dictionary\n",
    "    n_agents = env.num_agents\n",
    "    agent_ids = env.agents\n",
    "\n",
    "    # Instantiate an MADDPG object\n",
    "    matd3 = MATD3(\n",
    "        state_dim,\n",
    "        action_dim,\n",
    "        one_hot,\n",
    "        n_agents,\n",
    "        agent_ids,\n",
    "        max_action,\n",
    "        min_action,\n",
    "        discrete_actions,\n",
    "        device=device,\n",
    "    )\n",
    "\n",
    "    # Load the saved algorithm into the MADDPG object\n",
    "    path = \"./models/MATD3/MATD3_trained_agent.pt\"\n",
    "    matd3.loadCheckpoint(path)\n",
    "\n",
    "    # Define test loop parameters\n",
    "    episodes = 10  # Number of episodes to test agent on\n",
    "    max_steps = 25  # Max number of steps to take in the environment in each episode\n",
    "\n",
    "    rewards = []  # List to collect total episodic reward\n",
    "    frames = []  # List to collect frames\n",
    "    indi_agent_rewards = {\n",
    "        agent_id: [] for agent_id in agent_ids\n",
    "    }  # Dictionary to collect inidivdual agent rewards\n",
    "\n",
    "    rewards = []  # List to collect total episodic reward\n",
    "    frames = []  # List to collect frames\n",
    "    indi_agent_rewards = {\n",
    "        agent_id: [] for agent_id in agent_ids\n",
    "    }  # Dictionary to collect inidivdual agent rewards\n",
    "\n",
    "    # Test loop for inference\n",
    "    for ep in range(episodes):\n",
    "        state, info = env.reset()\n",
    "        agent_reward = {agent_id: 0 for agent_id in agent_ids}\n",
    "        score = 0\n",
    "        for _ in range(max_steps):\n",
    "            agent_mask = info[\"agent_mask\"] if \"agent_mask\" in info.keys() else None\n",
    "            env_defined_actions = (\n",
    "                info[\"env_defined_actions\"]\n",
    "                if \"env_defined_actions\" in info.keys()\n",
    "                else None\n",
    "            )\n",
    "\n",
    "            # Get next action from agent\n",
    "            cont_actions, discrete_action = matd3.getAction(\n",
    "                state,\n",
    "                epsilon=0,\n",
    "                agent_mask=agent_mask,\n",
    "                env_defined_actions=env_defined_actions,\n",
    "            )\n",
    "            if matd3.discrete_actions:\n",
    "                action = discrete_action\n",
    "            else:\n",
    "                action = cont_actions\n",
    "\n",
    "            # Save the frame for this step and append to frames list\n",
    "            frame = env.render()\n",
    "            frames.append(_label_with_episode_number(frame, episode_num=ep))\n",
    "\n",
    "            # Take action in environment\n",
    "            state, reward, termination, truncation, info = env.step(action)\n",
    "\n",
    "            # Save agent's reward for this step in this episode\n",
    "            for agent_id, r in reward.items():\n",
    "                agent_reward[agent_id] += r\n",
    "\n",
    "            # Determine total score for the episode and then append to rewards list\n",
    "            score = sum(agent_reward.values())\n",
    "\n",
    "            # Stop episode if any agents have terminated\n",
    "            if any(truncation.values()) or any(termination.values()):\n",
    "                break\n",
    "\n",
    "        rewards.append(score)\n",
    "\n",
    "        # Record agent specific episodic reward\n",
    "        for agent_id in agent_ids:\n",
    "            indi_agent_rewards[agent_id].append(agent_reward[agent_id])\n",
    "\n",
    "        print(\"-\" * 15, f\"Episode: {ep}\", \"-\" * 15)\n",
    "        print(\"Episodic Reward: \", rewards[-1])\n",
    "        for agent_id, reward_list in indi_agent_rewards.items():\n",
    "            print(f\"{agent_id} reward: {reward_list[-1]}\")\n",
    "    env.close()\n",
    "\n",
    "    # Save the gif to specified path\n",
    "    gif_path = \"./videos/\"\n",
    "    os.makedirs(gif_path, exist_ok=True)\n",
    "    imageio.mimwrite(\n",
    "        os.path.join(\"./videos/\", \"speaker_listener.gif\"), frames, duration=10\n",
    "    )"
   ]
  },
  {
   "cell_type": "code",
   "execution_count": 5,
   "id": "cfadb438-9362-4b9d-9d05-ae54b857ffcf",
   "metadata": {},
   "outputs": [
    {
     "name": "stdout",
     "output_type": "stream",
     "text": [
      "/Users/work/work-worldmodel2023/venv-mpe/bin/python3: No module named pip3\n",
      "/Users/work/work-worldmodel2023/venv-mpe/bin/python3: No module named pip3\n"
     ]
    }
   ],
   "source": [
    "!python3 -m pip3 install playsound\n",
    "!python3 -m pip3 install PyObjC"
   ]
  },
  {
   "cell_type": "code",
   "execution_count": 6,
   "id": "fd62d1b5-7785-4023-8de1-0ff1f36b4239",
   "metadata": {},
   "outputs": [
    {
     "ename": "KeyboardInterrupt",
     "evalue": "",
     "output_type": "error",
     "traceback": [
      "\u001b[0;31m---------------------------------------------------------------------------\u001b[0m",
      "\u001b[0;31mKeyboardInterrupt\u001b[0m                         Traceback (most recent call last)",
      "Cell \u001b[0;32mIn[6], line 4\u001b[0m\n\u001b[1;32m      1\u001b[0m \u001b[38;5;28;01mimport\u001b[39;00m \u001b[38;5;21;01mplaysound\u001b[39;00m\n\u001b[1;32m      3\u001b[0m \u001b[38;5;28;01mwhile\u001b[39;00m \u001b[38;5;28;01mTrue\u001b[39;00m:\n\u001b[0;32m----> 4\u001b[0m     \u001b[43mplaysound\u001b[49m\u001b[38;5;241;43m.\u001b[39;49m\u001b[43mplaysound\u001b[49m\u001b[43m(\u001b[49m\u001b[38;5;124;43m\"\u001b[39;49m\u001b[38;5;124;43mfireworks.mp3\u001b[39;49m\u001b[38;5;124;43m\"\u001b[39;49m\u001b[43m)\u001b[49m\n",
      "File \u001b[0;32m~/work-worldmodel2023/venv-mpe/lib/python3.8/site-packages/playsound.py:144\u001b[0m, in \u001b[0;36m_playsoundOSX\u001b[0;34m(sound, block)\u001b[0m\n\u001b[1;32m    141\u001b[0m nssound\u001b[38;5;241m.\u001b[39mplay()\n\u001b[1;32m    143\u001b[0m \u001b[38;5;28;01mif\u001b[39;00m block:\n\u001b[0;32m--> 144\u001b[0m     \u001b[43msleep\u001b[49m\u001b[43m(\u001b[49m\u001b[43mnssound\u001b[49m\u001b[38;5;241;43m.\u001b[39;49m\u001b[43mduration\u001b[49m\u001b[43m(\u001b[49m\u001b[43m)\u001b[49m\u001b[43m)\u001b[49m\n",
      "\u001b[0;31mKeyboardInterrupt\u001b[0m: "
     ]
    }
   ],
   "source": [
    "import playsound\n",
    "\n",
    "while True:\n",
    "    playsound.playsound(\"fireworks.mp3\")"
   ]
  },
  {
   "cell_type": "code",
   "execution_count": null,
   "id": "5d75d986-de09-4449-ab01-394fcb3ce289",
   "metadata": {},
   "outputs": [],
   "source": []
  }
 ],
 "metadata": {
  "kernelspec": {
   "display_name": "Python 3 (ipykernel)",
   "language": "python",
   "name": "python3"
  },
  "language_info": {
   "codemirror_mode": {
    "name": "ipython",
    "version": 3
   },
   "file_extension": ".py",
   "mimetype": "text/x-python",
   "name": "python",
   "nbconvert_exporter": "python",
   "pygments_lexer": "ipython3",
   "version": "3.8.2"
  }
 },
 "nbformat": 4,
 "nbformat_minor": 5
}
