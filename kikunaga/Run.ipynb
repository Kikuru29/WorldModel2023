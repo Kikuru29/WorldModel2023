{
 "cells": [
  {
   "cell_type": "code",
   "execution_count": 1,
   "metadata": {},
   "outputs": [
    {
     "name": "stdout",
     "output_type": "stream",
     "text": [
      "20231231-2326\n",
      "===== AgileRL Online Multi-Agent Demo =====\n",
      "state_dim [(3,), (11,)]\n",
      "action_dim [3, 5]\n",
      "one_hot False\n",
      "NET_CONFIG\n",
      "{'arch': 'mlp', 'h_size': [32, 32]}\n",
      "INIT_HP\n",
      "{'AGENT_IDS': ['speaker_0', 'listener_0'],\n",
      " 'ALGO': 'MATD3',\n",
      " 'BATCH_SIZE': 32,\n",
      " 'CHANNELS_LAST': False,\n",
      " 'DISCRETE_ACTIONS': False,\n",
      " 'GAMMA': 0.95,\n",
      " 'LEARN_STEP': 5,\n",
      " 'LR': 0.01,\n",
      " 'MAX_ACTION': [array([1., 1., 1.], dtype=float32),\n",
      "                array([1., 1., 1., 1., 1.], dtype=float32)],\n",
      " 'MEMORY_SIZE': 100000,\n",
      " 'MIN_ACTION': [array([0., 0., 0.], dtype=float32),\n",
      "                array([0., 0., 0., 0., 0.], dtype=float32)],\n",
      " 'N_AGENTS': 2,\n",
      " 'POLICY_FREQ': 2,\n",
      " 'POPULATION_SIZE': 4,\n",
      " 'TAU': 0.01}\n",
      "device cpu\n"
     ]
    },
    {
     "name": "stderr",
     "output_type": "stream",
     "text": [
      "/Users/kikunagarikuto/anaconda3/envs/pytorch-tensorflow/lib/python3.11/site-packages/tqdm/auto.py:21: TqdmWarning: IProgress not found. Please update jupyter and ipywidgets. See https://ipywidgets.readthedocs.io/en/stable/user_install.html\n",
      "  from .autonotebook import tqdm as notebook_tqdm\n",
      "/Users/kikunagarikuto/anaconda3/envs/pytorch-tensorflow/lib/python3.11/site-packages/transformers/utils/generic.py:441: UserWarning: torch.utils._pytree._register_pytree_node is deprecated. Please use torch.utils._pytree.register_pytree_node instead.\n",
      "  _torch_pytree._register_pytree_node(\n",
      "  0%|          | 20/5000 [00:03<15:58,  5.19it/s]"
     ]
    },
    {
     "name": "stdout",
     "output_type": "stream",
     "text": [
      "Episode 20/5000\n",
      "Fitnesses: ['-255.00', '-492.66', '-86.47', '-177.90']\n",
      "100 fitness avgs: ['-255.00', '-492.66', '-86.47', '-177.90']\n"
     ]
    },
    {
     "name": "stderr",
     "output_type": "stream",
     "text": [
      "  1%|          | 40/5000 [00:06<17:12,  4.80it/s]"
     ]
    },
    {
     "name": "stdout",
     "output_type": "stream",
     "text": [
      "Episode 40/5000\n",
      "Fitnesses: ['-46.27', '-49.06', '-196.54', '-274.34']\n",
      "100 fitness avgs: ['-66.37', '-67.76', '-141.50', '-180.40']\n"
     ]
    },
    {
     "name": "stderr",
     "output_type": "stream",
     "text": [
      "  1%|          | 60/5000 [00:09<14:35,  5.64it/s]"
     ]
    },
    {
     "name": "stdout",
     "output_type": "stream",
     "text": [
      "Episode 60/5000\n",
      "Fitnesses: ['-143.37', '-307.14', '-28.91', '-135.88']\n",
      "100 fitness avgs: ['-92.04', '-196.72', '-53.89', '-89.54']\n"
     ]
    },
    {
     "name": "stderr",
     "output_type": "stream",
     "text": [
      "  2%|▏         | 80/5000 [00:12<15:50,  5.17it/s]"
     ]
    },
    {
     "name": "stdout",
     "output_type": "stream",
     "text": [
      "Episode 80/5000\n",
      "Fitnesses: ['-7.62', '-95.22', '-198.27', '-33.73']\n",
      "100 fitness avgs: ['-42.32', '-64.22', '-89.98', '-48.85']\n"
     ]
    },
    {
     "name": "stderr",
     "output_type": "stream",
     "text": [
      "  2%|▏         | 100/5000 [00:16<15:26,  5.29it/s]"
     ]
    },
    {
     "name": "stdout",
     "output_type": "stream",
     "text": [
      "Episode 100/5000\n",
      "Fitnesses: ['-205.18', '-122.72', '-132.98', '-617.59']\n",
      "100 fitness avgs: ['-74.89', '-63.62', '-60.45', '-157.37']\n"
     ]
    },
    {
     "name": "stderr",
     "output_type": "stream",
     "text": [
      "  2%|▏         | 120/5000 [00:19<15:56,  5.10it/s]"
     ]
    },
    {
     "name": "stdout",
     "output_type": "stream",
     "text": [
      "Episode 120/5000\n",
      "Fitnesses: ['-78.02', '-11.22', '-40.16', '-8.64']\n",
      "100 fitness avgs: ['-66.02', '-54.89', '-57.07', '-51.82']\n"
     ]
    },
    {
     "name": "stderr",
     "output_type": "stream",
     "text": [
      "  3%|▎         | 140/5000 [00:23<16:05,  5.03it/s]"
     ]
    },
    {
     "name": "stdout",
     "output_type": "stream",
     "text": [
      "Episode 140/5000\n",
      "Fitnesses: ['-42.54', '-10.95', '-85.02', '-73.02']\n",
      "100 fitness avgs: ['-50.49', '-45.98', '-61.06', '-57.48']\n"
     ]
    },
    {
     "name": "stderr",
     "output_type": "stream",
     "text": [
      "  3%|▎         | 160/5000 [00:26<15:48,  5.10it/s]"
     ]
    },
    {
     "name": "stdout",
     "output_type": "stream",
     "text": [
      "Episode 160/5000\n",
      "Fitnesses: ['-40.12', '-8.42', '-40.27', '-4.68']\n",
      "100 fitness avgs: ['-45.24', '-41.28', '-45.26', '-54.02']\n"
     ]
    },
    {
     "name": "stderr",
     "output_type": "stream",
     "text": [
      "  4%|▎         | 180/5000 [00:29<17:25,  4.61it/s]"
     ]
    },
    {
     "name": "stdout",
     "output_type": "stream",
     "text": [
      "Episode 180/5000\n",
      "Fitnesses: ['-26.38', '-20.56', '-81.57', '-47.06']\n",
      "100 fitness avgs: ['-50.94', '-38.98', '-57.08', '-41.92']\n"
     ]
    },
    {
     "name": "stderr",
     "output_type": "stream",
     "text": [
      "  4%|▍         | 200/5000 [00:32<13:47,  5.80it/s]"
     ]
    },
    {
     "name": "stdout",
     "output_type": "stream",
     "text": [
      "Episode 200/5000\n",
      "Fitnesses: ['-52.43', '-39.89', '-35.78', '-5.28']\n",
      "100 fitness avgs: ['-40.33', '-39.07', '-38.66', '-51.90']\n"
     ]
    },
    {
     "name": "stderr",
     "output_type": "stream",
     "text": [
      "  4%|▍         | 220/5000 [00:35<14:40,  5.43it/s]"
     ]
    },
    {
     "name": "stdout",
     "output_type": "stream",
     "text": [
      "Episode 220/5000\n",
      "Fitnesses: ['-2.19', '-47.71', '-19.16', '-81.63']\n",
      "100 fitness avgs: ['-47.38', '-51.52', '-37.26', '-42.57']\n"
     ]
    },
    {
     "name": "stderr",
     "output_type": "stream",
     "text": [
      "  5%|▍         | 240/5000 [00:39<16:20,  4.86it/s]"
     ]
    },
    {
     "name": "stdout",
     "output_type": "stream",
     "text": [
      "Episode 240/5000\n",
      "Fitnesses: ['-37.74', '-11.90', '-63.80', '-5.92']\n",
      "100 fitness avgs: ['-46.57', '-44.42', '-39.47', '-47.72']\n"
     ]
    },
    {
     "name": "stderr",
     "output_type": "stream",
     "text": [
      "  5%|▌         | 259/5000 [00:42<16:44,  4.72it/s]"
     ]
    },
    {
     "name": "stdout",
     "output_type": "stream",
     "text": [
      "Episode 260/5000\n",
      "Fitnesses: ['-6.49', '-21.82', '-297.37', '-9.66']\n",
      "100 fitness avgs: ['-44.55', '-42.68', '-63.88', '-44.79']\n"
     ]
    },
    {
     "name": "stderr",
     "output_type": "stream",
     "text": [
      "  6%|▌         | 280/5000 [00:47<18:16,  4.30it/s]"
     ]
    },
    {
     "name": "stdout",
     "output_type": "stream",
     "text": [
      "Episode 280/5000\n",
      "Fitnesses: ['-22.70', '-290.72', '-47.10', '-19.81']\n",
      "100 fitness avgs: ['-42.99', '-80.08', '-44.96', '-43.01']\n"
     ]
    },
    {
     "name": "stderr",
     "output_type": "stream",
     "text": [
      "  6%|▌         | 300/5000 [00:51<17:23,  4.50it/s]"
     ]
    },
    {
     "name": "stdout",
     "output_type": "stream",
     "text": [
      "Episode 300/5000\n",
      "Fitnesses: ['-10.67', '-75.62', '-77.74', '-59.09']\n",
      "100 fitness avgs: ['-40.85', '-45.18', '-45.32', '-45.90']\n"
     ]
    },
    {
     "name": "stderr",
     "output_type": "stream",
     "text": [
      "  6%|▋         | 320/5000 [00:54<17:27,  4.47it/s]"
     ]
    },
    {
     "name": "stdout",
     "output_type": "stream",
     "text": [
      "Episode 320/5000\n",
      "Fitnesses: ['-55.10', '-15.80', '-27.41', '-76.02']\n",
      "100 fitness avgs: ['-41.74', '-39.28', '-44.07', '-43.05']\n"
     ]
    },
    {
     "name": "stderr",
     "output_type": "stream",
     "text": [
      "  7%|▋         | 339/5000 [00:58<14:59,  5.18it/s]"
     ]
    },
    {
     "name": "stdout",
     "output_type": "stream",
     "text": [
      "Episode 340/5000\n",
      "Fitnesses: ['-31.86', '-25.68', '-64.19', '-43.25']\n",
      "100 fitness avgs: ['-38.85', '-38.48', '-40.75', '-39.52']\n"
     ]
    },
    {
     "name": "stderr",
     "output_type": "stream",
     "text": [
      "  7%|▋         | 360/5000 [01:02<17:46,  4.35it/s]"
     ]
    },
    {
     "name": "stdout",
     "output_type": "stream",
     "text": [
      "Episode 360/5000\n",
      "Fitnesses: ['-53.50', '-43.58', '-41.02', '-19.18']\n",
      "100 fitness avgs: ['-39.32', '-38.77', '-38.62', '-37.41']\n"
     ]
    },
    {
     "name": "stderr",
     "output_type": "stream",
     "text": [
      "  8%|▊         | 380/5000 [01:07<18:30,  4.16it/s]"
     ]
    },
    {
     "name": "stdout",
     "output_type": "stream",
     "text": [
      "Episode 380/5000\n",
      "Fitnesses: ['-36.41', '-28.18', '-82.82', '-24.40']\n",
      "100 fitness avgs: ['-37.36', '-38.07', '-40.95', '-37.88']\n"
     ]
    },
    {
     "name": "stderr",
     "output_type": "stream",
     "text": [
      "  8%|▊         | 400/5000 [01:11<17:58,  4.27it/s]"
     ]
    },
    {
     "name": "stdout",
     "output_type": "stream",
     "text": [
      "Episode 400/5000\n",
      "Fitnesses: ['-3.55', '-20.23', '-112.70', '-39.28']\n",
      "100 fitness avgs: ['-36.16', '-36.50', '-41.62', '-38.14']\n"
     ]
    },
    {
     "name": "stderr",
     "output_type": "stream",
     "text": [
      "  8%|▊         | 420/5000 [01:15<18:45,  4.07it/s]"
     ]
    },
    {
     "name": "stdout",
     "output_type": "stream",
     "text": [
      "Episode 420/5000\n",
      "Fitnesses: ['-29.28', '-7.15', '-13.87', '-91.46']\n",
      "100 fitness avgs: ['-35.83', '-34.78', '-40.30', '-38.79']\n"
     ]
    },
    {
     "name": "stderr",
     "output_type": "stream",
     "text": [
      "  9%|▉         | 440/5000 [01:18<16:44,  4.54it/s]"
     ]
    },
    {
     "name": "stdout",
     "output_type": "stream",
     "text": [
      "Episode 440/5000\n",
      "Fitnesses: ['-23.75', '-7.14', '-24.80', '-21.67']\n",
      "100 fitness avgs: ['-34.28', '-33.52', '-39.59', '-39.45']\n"
     ]
    },
    {
     "name": "stderr",
     "output_type": "stream",
     "text": [
      "  9%|▉         | 460/5000 [01:22<17:33,  4.31it/s]"
     ]
    },
    {
     "name": "stdout",
     "output_type": "stream",
     "text": [
      "Episode 460/5000\n",
      "Fitnesses: ['-47.42', '-68.16', '-37.96', '-14.95']\n",
      "100 fitness avgs: ['-34.13', '-35.03', '-33.72', '-32.72']\n"
     ]
    },
    {
     "name": "stderr",
     "output_type": "stream",
     "text": [
      " 10%|▉         | 480/5000 [01:25<15:10,  4.96it/s]"
     ]
    },
    {
     "name": "stdout",
     "output_type": "stream",
     "text": [
      "Episode 480/5000\n",
      "Fitnesses: ['-92.25', '-36.32', '-24.16', '-4.45']\n",
      "100 fitness avgs: ['-35.20', '-35.08', '-33.71', '-32.89']\n"
     ]
    },
    {
     "name": "stderr",
     "output_type": "stream",
     "text": [
      " 10%|▉         | 499/5000 [01:28<11:29,  6.52it/s]"
     ]
    },
    {
     "name": "stdout",
     "output_type": "stream",
     "text": [
      "Episode 500/5000\n",
      "Fitnesses: ['-49.75', '-67.02', '-27.07', '-61.96']\n",
      "100 fitness avgs: ['-33.56', '-36.47', '-32.66', '-36.16']\n"
     ]
    },
    {
     "name": "stderr",
     "output_type": "stream",
     "text": [
      " 10%|█         | 520/5000 [01:32<15:11,  4.92it/s]"
     ]
    },
    {
     "name": "stdout",
     "output_type": "stream",
     "text": [
      "Episode 520/5000\n",
      "Fitnesses: ['-32.05', '-49.23', '-21.76', '-6.94']\n",
      "100 fitness avgs: ['-32.63', '-36.96', '-32.24', '-31.67']\n"
     ]
    },
    {
     "name": "stderr",
     "output_type": "stream",
     "text": [
      " 11%|█         | 539/5000 [01:35<13:18,  5.58it/s]"
     ]
    },
    {
     "name": "stdout",
     "output_type": "stream",
     "text": [
      "Episode 540/5000\n",
      "Fitnesses: ['-7.66', '-47.37', '-20.02', '-83.79']\n",
      "100 fitness avgs: ['-30.78', '-32.80', '-31.79', '-33.60']\n"
     ]
    },
    {
     "name": "stderr",
     "output_type": "stream",
     "text": [
      " 11%|█         | 559/5000 [01:39<13:03,  5.67it/s]"
     ]
    },
    {
     "name": "stdout",
     "output_type": "stream",
     "text": [
      "Episode 560/5000\n",
      "Fitnesses: ['-25.84', '-43.04', '-49.05', '-42.96']\n",
      "100 fitness avgs: ['-30.60', '-31.22', '-31.43', '-31.21']\n"
     ]
    },
    {
     "name": "stderr",
     "output_type": "stream",
     "text": [
      " 12%|█▏        | 579/5000 [01:43<15:12,  4.85it/s]"
     ]
    },
    {
     "name": "stdout",
     "output_type": "stream",
     "text": [
      "Episode 580/5000\n",
      "Fitnesses: ['-21.14', '-25.75', '-36.61', '-11.38']\n",
      "100 fitness avgs: ['-30.28', '-30.44', '-31.40', '-29.94']\n"
     ]
    },
    {
     "name": "stderr",
     "output_type": "stream",
     "text": [
      " 12%|█▏        | 599/5000 [01:48<16:18,  4.50it/s]"
     ]
    },
    {
     "name": "stdout",
     "output_type": "stream",
     "text": [
      "Episode 600/5000\n",
      "Fitnesses: ['-37.49', '-3.64', '-67.64', '-56.02']\n",
      "100 fitness avgs: ['-30.19', '-29.06', '-31.20', '-30.81']\n"
     ]
    },
    {
     "name": "stderr",
     "output_type": "stream",
     "text": [
      " 12%|█▏        | 619/5000 [01:52<16:03,  4.55it/s]"
     ]
    },
    {
     "name": "stdout",
     "output_type": "stream",
     "text": [
      "Episode 620/5000\n",
      "Fitnesses: ['-74.46', '-6.49', '-66.72', '-61.85']\n",
      "100 fitness avgs: ['-30.53', '-29.43', '-31.37', '-30.12']\n"
     ]
    },
    {
     "name": "stderr",
     "output_type": "stream",
     "text": [
      " 13%|█▎        | 639/5000 [01:57<15:48,  4.60it/s]"
     ]
    },
    {
     "name": "stdout",
     "output_type": "stream",
     "text": [
      "Episode 640/5000\n",
      "Fitnesses: ['-7.75', '-37.42', '-5.69', '-117.89']\n",
      "100 fitness avgs: ['-28.75', '-31.56', '-30.57', '-32.19']\n"
     ]
    },
    {
     "name": "stderr",
     "output_type": "stream",
     "text": [
      " 13%|█▎        | 659/5000 [02:02<15:43,  4.60it/s]"
     ]
    },
    {
     "name": "stdout",
     "output_type": "stream",
     "text": [
      "Episode 660/5000\n",
      "Fitnesses: ['-23.14', '-24.28', '-68.15', '-32.72']\n",
      "100 fitness avgs: ['-30.34', '-30.38', '-29.94', '-28.87']\n"
     ]
    },
    {
     "name": "stderr",
     "output_type": "stream",
     "text": [
      " 14%|█▎        | 679/5000 [02:07<16:11,  4.45it/s]"
     ]
    },
    {
     "name": "stdout",
     "output_type": "stream",
     "text": [
      "Episode 680/5000\n",
      "Fitnesses: ['-22.28', '-45.83', '-49.76', '-43.87']\n",
      "100 fitness avgs: ['-30.11', '-30.83', '-29.48', '-30.77']\n"
     ]
    },
    {
     "name": "stderr",
     "output_type": "stream",
     "text": [
      " 14%|█▍        | 699/5000 [02:11<15:46,  4.55it/s]"
     ]
    },
    {
     "name": "stdout",
     "output_type": "stream",
     "text": [
      "Episode 700/5000\n",
      "Fitnesses: ['-84.10', '-31.24', '-10.96', '-37.39']\n",
      "100 fitness avgs: ['-31.65', '-30.14', '-29.56', '-30.31']\n"
     ]
    },
    {
     "name": "stderr",
     "output_type": "stream",
     "text": [
      " 14%|█▍        | 719/5000 [02:15<13:00,  5.49it/s]"
     ]
    },
    {
     "name": "stdout",
     "output_type": "stream",
     "text": [
      "Episode 720/5000\n",
      "Fitnesses: ['-62.78', '-17.82', '-20.85', '-8.33']\n",
      "100 fitness avgs: ['-30.48', '-29.97', '-29.32', '-28.97']\n"
     ]
    },
    {
     "name": "stderr",
     "output_type": "stream",
     "text": [
      " 15%|█▍        | 739/5000 [02:19<13:08,  5.40it/s]"
     ]
    },
    {
     "name": "stdout",
     "output_type": "stream",
     "text": [
      "Episode 740/5000\n",
      "Fitnesses: ['-53.32', '-22.98', '-5.78', '-47.69']\n",
      "100 fitness avgs: ['-29.63', '-29.78', '-28.34', '-29.47']\n"
     ]
    },
    {
     "name": "stderr",
     "output_type": "stream",
     "text": [
      " 15%|█▌        | 759/5000 [02:24<13:07,  5.38it/s]"
     ]
    },
    {
     "name": "stdout",
     "output_type": "stream",
     "text": [
      "Episode 760/5000\n",
      "Fitnesses: ['-32.75', '-6.31', '-53.06', '-27.46']\n",
      "100 fitness avgs: ['-28.46', '-27.76', '-28.99', '-29.42']\n"
     ]
    },
    {
     "name": "stderr",
     "output_type": "stream",
     "text": [
      " 16%|█▌        | 779/5000 [02:28<11:58,  5.87it/s]"
     ]
    },
    {
     "name": "stdout",
     "output_type": "stream",
     "text": [
      "Episode 780/5000\n",
      "Fitnesses: ['-14.26', '-60.24', '-34.67', '-31.59']\n",
      "100 fitness avgs: ['-27.42', '-29.27', '-29.14', '-29.48']\n"
     ]
    },
    {
     "name": "stderr",
     "output_type": "stream",
     "text": [
      " 16%|█▌        | 800/5000 [02:31<13:49,  5.06it/s]"
     ]
    },
    {
     "name": "stdout",
     "output_type": "stream",
     "text": [
      "Episode 800/5000\n",
      "Fitnesses: ['-235.77', '-5.76', '-56.92', '-66.17']\n",
      "100 fitness avgs: ['-32.62', '-26.87', '-28.15', '-30.39']\n"
     ]
    },
    {
     "name": "stderr",
     "output_type": "stream",
     "text": [
      " 16%|█▋        | 819/5000 [02:34<09:59,  6.97it/s]"
     ]
    },
    {
     "name": "stdout",
     "output_type": "stream",
     "text": [
      "Episode 820/5000\n",
      "Fitnesses: ['-25.96', '-0.99', '-245.62', '-92.50']\n",
      "100 fitness avgs: ['-26.85', '-27.49', '-37.82', '-28.47']\n"
     ]
    },
    {
     "name": "stderr",
     "output_type": "stream",
     "text": [
      " 17%|█▋        | 839/5000 [02:37<09:40,  7.17it/s]"
     ]
    },
    {
     "name": "stdout",
     "output_type": "stream",
     "text": [
      "Episode 840/5000\n",
      "Fitnesses: ['-22.29', '-61.42', '-10.10', '-45.85']\n",
      "100 fitness avgs: ['-27.37', '-28.30', '-28.04', '-27.93']\n"
     ]
    },
    {
     "name": "stderr",
     "output_type": "stream",
     "text": [
      " 17%|█▋        | 859/5000 [02:40<10:56,  6.31it/s]"
     ]
    },
    {
     "name": "stdout",
     "output_type": "stream",
     "text": [
      "Episode 860/5000\n",
      "Fitnesses: ['-18.12', '-21.17', '-13.19', '-26.48']\n",
      "100 fitness avgs: ['-27.81', '-27.22', '-27.69', '-28.26']\n"
     ]
    },
    {
     "name": "stderr",
     "output_type": "stream",
     "text": [
      " 18%|█▊        | 879/5000 [02:44<11:51,  5.79it/s]"
     ]
    },
    {
     "name": "stdout",
     "output_type": "stream",
     "text": [
      "Episode 880/5000\n",
      "Fitnesses: ['-14.20', '-30.27', '-29.05', '-76.70']\n",
      "100 fitness avgs: ['-27.39', '-27.75', '-27.72', '-28.81']\n"
     ]
    },
    {
     "name": "stderr",
     "output_type": "stream",
     "text": [
      " 18%|█▊        | 899/5000 [02:48<12:55,  5.29it/s]"
     ]
    },
    {
     "name": "stdout",
     "output_type": "stream",
     "text": [
      "Episode 900/5000\n",
      "Fitnesses: ['-14.24', '-16.71', '-2.76', '-35.83']\n",
      "100 fitness avgs: ['-27.09', '-27.15', '-27.17', '-27.90']\n"
     ]
    },
    {
     "name": "stderr",
     "output_type": "stream",
     "text": [
      " 18%|█▊        | 919/5000 [02:53<14:15,  4.77it/s]"
     ]
    },
    {
     "name": "stdout",
     "output_type": "stream",
     "text": [
      "Episode 920/5000\n",
      "Fitnesses: ['-50.17', '-0.77', '-38.17', '-144.05']\n",
      "100 fitness avgs: ['-27.67', '-26.59', '-27.39', '-30.43']\n"
     ]
    },
    {
     "name": "stderr",
     "output_type": "stream",
     "text": [
      " 19%|█▉        | 939/5000 [02:57<12:58,  5.22it/s]"
     ]
    },
    {
     "name": "stdout",
     "output_type": "stream",
     "text": [
      "Episode 940/5000\n",
      "Fitnesses: ['-54.89', '-79.28', '-22.34', '-55.63']\n",
      "100 fitness avgs: ['-27.20', '-28.49', '-26.50', '-28.26']\n"
     ]
    },
    {
     "name": "stderr",
     "output_type": "stream",
     "text": [
      " 19%|█▉        | 959/5000 [03:00<12:01,  5.60it/s]"
     ]
    },
    {
     "name": "stdout",
     "output_type": "stream",
     "text": [
      "Episode 960/5000\n",
      "Fitnesses: ['-9.91', '-35.69', '-50.61', '-34.55']\n",
      "100 fitness avgs: ['-26.16', '-28.42', '-27.68', '-26.67']\n"
     ]
    },
    {
     "name": "stderr",
     "output_type": "stream",
     "text": [
      " 20%|█▉        | 979/5000 [03:04<12:01,  5.57it/s]"
     ]
    },
    {
     "name": "stdout",
     "output_type": "stream",
     "text": [
      "Episode 980/5000\n",
      "Fitnesses: ['-12.65', '-16.06', '-26.80', '-34.81']\n",
      "100 fitness avgs: ['-25.88', '-26.45', '-26.67', '-26.84']\n"
     ]
    },
    {
     "name": "stderr",
     "output_type": "stream",
     "text": [
      " 20%|█▉        | 999/5000 [03:08<12:04,  5.53it/s]"
     ]
    },
    {
     "name": "stdout",
     "output_type": "stream",
     "text": [
      "Episode 1000/5000\n",
      "Fitnesses: ['-61.91', '-31.57', '-18.33', '-0.82']\n",
      "100 fitness avgs: ['-26.60', '-26.56', '-25.73', '-26.16']\n"
     ]
    },
    {
     "name": "stderr",
     "output_type": "stream",
     "text": [
      " 20%|██        | 1019/5000 [03:12<12:10,  5.45it/s]"
     ]
    },
    {
     "name": "stdout",
     "output_type": "stream",
     "text": [
      "Episode 1020/5000\n",
      "Fitnesses: ['-61.93', '-16.58', '-36.06', '-35.31']\n",
      "100 fitness avgs: ['-26.86', '-25.55', '-26.35', '-26.34']\n"
     ]
    },
    {
     "name": "stderr",
     "output_type": "stream",
     "text": [
      " 21%|██        | 1039/5000 [03:16<12:05,  5.46it/s]"
     ]
    },
    {
     "name": "stdout",
     "output_type": "stream",
     "text": [
      "Episode 1040/5000\n",
      "Fitnesses: ['-57.74', '-23.47', '-8.02', '-32.33']\n",
      "100 fitness avgs: ['-26.17', '-26.28', '-25.21', '-25.68']\n"
     ]
    },
    {
     "name": "stderr",
     "output_type": "stream",
     "text": [
      " 21%|██        | 1059/5000 [03:20<12:07,  5.42it/s]"
     ]
    },
    {
     "name": "stdout",
     "output_type": "stream",
     "text": [
      "Episode 1060/5000\n",
      "Fitnesses: ['-19.98', '-87.02', '-88.21', '-7.95']\n",
      "100 fitness avgs: ['-25.12', '-26.84', '-27.34', '-24.89']\n"
     ]
    },
    {
     "name": "stderr",
     "output_type": "stream",
     "text": [
      " 22%|██▏       | 1079/5000 [03:24<11:07,  5.88it/s]"
     ]
    },
    {
     "name": "stdout",
     "output_type": "stream",
     "text": [
      "Episode 1080/5000\n",
      "Fitnesses: ['-20.88', '-51.77', '-11.58', '-61.87']\n",
      "100 fitness avgs: ['-24.81', '-25.39', '-24.64', '-25.57']\n"
     ]
    },
    {
     "name": "stderr",
     "output_type": "stream",
     "text": [
      " 22%|██▏       | 1099/5000 [03:28<13:44,  4.73it/s]"
     ]
    },
    {
     "name": "stdout",
     "output_type": "stream",
     "text": [
      "Episode 1100/5000\n",
      "Fitnesses: ['-37.83', '-19.75', '-39.85', '-27.74']\n",
      "100 fitness avgs: ['-24.88', '-24.55', '-24.92', '-24.87']\n"
     ]
    },
    {
     "name": "stderr",
     "output_type": "stream",
     "text": [
      " 22%|██▏       | 1119/5000 [03:33<12:02,  5.37it/s]"
     ]
    },
    {
     "name": "stdout",
     "output_type": "stream",
     "text": [
      "Episode 1120/5000\n",
      "Fitnesses: ['-104.12', '-29.46', '-41.31', '-37.97']\n",
      "100 fitness avgs: ['-25.97', '-24.96', '-25.18', '-24.79']\n"
     ]
    },
    {
     "name": "stderr",
     "output_type": "stream",
     "text": [
      " 23%|██▎       | 1139/5000 [03:36<11:34,  5.56it/s]"
     ]
    },
    {
     "name": "stdout",
     "output_type": "stream",
     "text": [
      "Episode 1140/5000\n",
      "Fitnesses: ['-36.38', '-1.36', '-56.61', '-23.77']\n",
      "100 fitness avgs: ['-25.16', '-24.38', '-25.52', '-24.94']\n"
     ]
    },
    {
     "name": "stderr",
     "output_type": "stream",
     "text": [
      " 23%|██▎       | 1159/5000 [03:40<12:20,  5.19it/s]"
     ]
    },
    {
     "name": "stdout",
     "output_type": "stream",
     "text": [
      "Episode 1160/5000\n",
      "Fitnesses: ['-339.38', '-3.03', '-157.12', '-63.65']\n",
      "100 fitness avgs: ['-29.81', '-24.57', '-26.67', '-25.83']\n"
     ]
    },
    {
     "name": "stderr",
     "output_type": "stream",
     "text": [
      " 24%|██▎       | 1179/5000 [03:46<17:52,  3.56it/s]"
     ]
    },
    {
     "name": "stdout",
     "output_type": "stream",
     "text": [
      "Episode 1180/5000\n",
      "Fitnesses: ['-28.00', '-145.76', '-26.52', '-253.44']\n",
      "100 fitness avgs: ['-24.62', '-27.86', '-25.84', '-28.44']\n"
     ]
    },
    {
     "name": "stderr",
     "output_type": "stream",
     "text": [
      " 24%|██▍       | 1199/5000 [03:52<17:12,  3.68it/s]"
     ]
    },
    {
     "name": "stdout",
     "output_type": "stream",
     "text": [
      "Episode 1200/5000\n",
      "Fitnesses: ['-16.02', '-42.43', '-32.81', '-183.81']\n",
      "100 fitness avgs: ['-25.68', '-28.10', '-25.96', '-30.46']\n"
     ]
    },
    {
     "name": "stderr",
     "output_type": "stream",
     "text": [
      " 24%|██▍       | 1219/5000 [03:58<16:37,  3.79it/s]"
     ]
    },
    {
     "name": "stdout",
     "output_type": "stream",
     "text": [
      "Episode 1220/5000\n",
      "Fitnesses: ['-65.26', '-17.74', '-216.60', '-81.41']\n",
      "100 fitness avgs: ['-26.32', '-25.55', '-29.08', '-26.86']\n"
     ]
    },
    {
     "name": "stderr",
     "output_type": "stream",
     "text": [
      " 25%|██▍       | 1239/5000 [04:05<17:30,  3.58it/s]"
     ]
    },
    {
     "name": "stdout",
     "output_type": "stream",
     "text": [
      "Episode 1240/5000\n",
      "Fitnesses: ['-18.90', '-7.49', '-36.76', '-3.76']\n",
      "100 fitness avgs: ['-25.44', '-26.02', '-26.49', '-25.96']\n"
     ]
    },
    {
     "name": "stderr",
     "output_type": "stream",
     "text": [
      " 25%|██▌       | 1259/5000 [04:11<19:41,  3.17it/s]"
     ]
    },
    {
     "name": "stdout",
     "output_type": "stream",
     "text": [
      "Episode 1260/5000\n",
      "Fitnesses: ['-6.30', '-33.67', '-151.96', '-22.13']\n",
      "100 fitness avgs: ['-25.65', '-26.08', '-28.02', '-25.90']\n"
     ]
    },
    {
     "name": "stderr",
     "output_type": "stream",
     "text": [
      " 26%|██▌       | 1279/5000 [04:20<24:57,  2.48it/s]"
     ]
    },
    {
     "name": "stdout",
     "output_type": "stream",
     "text": [
      "Episode 1280/5000\n",
      "Fitnesses: ['-22.63', '-3.16', '-39.46', '-18.41']\n",
      "100 fitness avgs: ['-25.60', '-25.30', '-26.29', '-25.54']\n"
     ]
    },
    {
     "name": "stderr",
     "output_type": "stream",
     "text": [
      " 26%|██▌       | 1299/5000 [04:29<25:42,  2.40it/s]"
     ]
    },
    {
     "name": "stdout",
     "output_type": "stream",
     "text": [
      "Episode 1300/5000\n",
      "Fitnesses: ['-2.37', '-67.86', '-38.85', '-19.61']\n",
      "100 fitness avgs: ['-24.94', '-25.95', '-25.51', '-25.21']\n"
     ]
    },
    {
     "name": "stderr",
     "output_type": "stream",
     "text": [
      " 26%|██▋       | 1319/5000 [04:39<31:54,  1.92it/s]"
     ]
    },
    {
     "name": "stdout",
     "output_type": "stream",
     "text": [
      "Episode 1320/5000\n",
      "Fitnesses: ['-40.74', '-73.39', '-20.96', '-49.18']\n",
      "100 fitness avgs: ['-25.18', '-25.68', '-25.15', '-25.31']\n"
     ]
    },
    {
     "name": "stderr",
     "output_type": "stream",
     "text": [
      " 27%|██▋       | 1339/5000 [04:51<33:21,  1.83it/s]"
     ]
    },
    {
     "name": "stdout",
     "output_type": "stream",
     "text": [
      "Episode 1340/5000\n",
      "Fitnesses: ['-20.75', '-2.40', '-65.79', '-15.29']\n",
      "100 fitness avgs: ['-25.08', '-24.97', '-25.79', '-25.04']\n"
     ]
    },
    {
     "name": "stderr",
     "output_type": "stream",
     "text": [
      " 27%|██▋       | 1359/5000 [05:01<29:37,  2.05it/s]"
     ]
    },
    {
     "name": "stdout",
     "output_type": "stream",
     "text": [
      "Episode 1360/5000\n",
      "Fitnesses: ['-1.49', '-14.48', '-48.32', '-14.88']\n",
      "100 fitness avgs: ['-24.62', '-24.82', '-25.31', '-25.63']\n"
     ]
    },
    {
     "name": "stderr",
     "output_type": "stream",
     "text": [
      " 28%|██▊       | 1379/5000 [05:11<28:21,  2.13it/s]"
     ]
    },
    {
     "name": "stdout",
     "output_type": "stream",
     "text": [
      "Episode 1380/5000\n",
      "Fitnesses: ['-21.73', '-27.94', '-0.36', '-20.83']\n",
      "100 fitness avgs: ['-24.58', '-24.67', '-24.27', '-24.76']\n"
     ]
    },
    {
     "name": "stderr",
     "output_type": "stream",
     "text": [
      " 28%|██▊       | 1399/5000 [05:20<25:47,  2.33it/s]"
     ]
    },
    {
     "name": "stdout",
     "output_type": "stream",
     "text": [
      "Episode 1400/5000\n",
      "Fitnesses: ['-28.36', '-94.94', '-32.82', '-41.53']\n",
      "100 fitness avgs: ['-24.33', '-25.28', '-24.87', '-25.00']\n"
     ]
    },
    {
     "name": "stderr",
     "output_type": "stream",
     "text": [
      " 28%|██▊       | 1419/5000 [05:29<25:00,  2.39it/s]"
     ]
    },
    {
     "name": "stdout",
     "output_type": "stream",
     "text": [
      "Episode 1420/5000\n",
      "Fitnesses: ['-9.38', '-52.73', '-7.39', '-12.78']\n",
      "100 fitness avgs: ['-24.12', '-24.73', '-24.75', '-24.17']\n"
     ]
    },
    {
     "name": "stderr",
     "output_type": "stream",
     "text": [
      " 29%|██▉       | 1439/5000 [05:39<31:00,  1.91it/s]"
     ]
    },
    {
     "name": "stdout",
     "output_type": "stream",
     "text": [
      "Episode 1440/5000\n",
      "Fitnesses: ['-44.43', '-0.88', '-26.82', '-69.53']\n",
      "100 fitness avgs: ['-25.02', '-24.42', '-24.78', '-24.75']\n"
     ]
    },
    {
     "name": "stderr",
     "output_type": "stream",
     "text": [
      " 29%|██▉       | 1459/5000 [05:48<24:18,  2.43it/s]"
     ]
    },
    {
     "name": "stdout",
     "output_type": "stream",
     "text": [
      "Episode 1460/5000\n",
      "Fitnesses: ['-13.37', '-7.32', '-17.94', '-25.42']\n",
      "100 fitness avgs: ['-24.27', '-24.18', '-24.68', '-24.43']\n"
     ]
    },
    {
     "name": "stderr",
     "output_type": "stream",
     "text": [
      " 30%|██▉       | 1479/5000 [05:59<27:53,  2.10it/s]"
     ]
    },
    {
     "name": "stdout",
     "output_type": "stream",
     "text": [
      "Episode 1480/5000\n",
      "Fitnesses: ['-81.09', '-7.49', '-58.23', '-40.02']\n",
      "100 fitness avgs: ['-24.95', '-24.45', '-24.64', '-24.89']\n"
     ]
    },
    {
     "name": "stderr",
     "output_type": "stream",
     "text": [
      " 30%|██▉       | 1499/5000 [06:09<29:56,  1.95it/s]"
     ]
    },
    {
     "name": "stdout",
     "output_type": "stream",
     "text": [
      "Episode 1500/5000\n",
      "Fitnesses: ['-30.29', '-22.11', '-16.44', '-75.29']\n",
      "100 fitness avgs: ['-24.53', '-24.61', '-24.35', '-25.13']\n"
     ]
    },
    {
     "name": "stderr",
     "output_type": "stream",
     "text": [
      " 30%|███       | 1519/5000 [06:20<27:00,  2.15it/s]"
     ]
    },
    {
     "name": "stdout",
     "output_type": "stream",
     "text": [
      "Episode 1520/5000\n",
      "Fitnesses: ['-45.48', '-25.32', '-6.39', '-25.22']\n",
      "100 fitness avgs: ['-24.62', '-24.62', '-24.37', '-24.36']\n"
     ]
    },
    {
     "name": "stderr",
     "output_type": "stream",
     "text": [
      " 31%|███       | 1539/5000 [06:30<26:54,  2.14it/s]"
     ]
    },
    {
     "name": "stdout",
     "output_type": "stream",
     "text": [
      "Episode 1540/5000\n",
      "Fitnesses: ['-53.20', '-32.50', '-61.08', '-20.72']\n",
      "100 fitness avgs: ['-24.74', '-24.48', '-24.85', '-24.32']\n"
     ]
    },
    {
     "name": "stderr",
     "output_type": "stream",
     "text": [
      " 31%|███       | 1559/5000 [06:42<30:33,  1.88it/s]"
     ]
    },
    {
     "name": "stdout",
     "output_type": "stream",
     "text": [
      "Episode 1560/5000\n",
      "Fitnesses: ['-47.49', '-27.10', '-61.23', '-31.26']\n",
      "100 fitness avgs: ['-24.62', '-24.51', '-24.95', '-24.41']\n"
     ]
    },
    {
     "name": "stderr",
     "output_type": "stream",
     "text": [
      " 32%|███▏      | 1579/5000 [06:52<26:18,  2.17it/s]"
     ]
    },
    {
     "name": "stdout",
     "output_type": "stream",
     "text": [
      "Episode 1580/5000\n",
      "Fitnesses: ['-9.41', '-50.14', '-10.40', '-6.81']\n",
      "100 fitness avgs: ['-24.32', '-24.83', '-24.23', '-24.39']\n"
     ]
    },
    {
     "name": "stderr",
     "output_type": "stream",
     "text": [
      " 32%|███▏      | 1599/5000 [07:02<28:55,  1.96it/s]"
     ]
    },
    {
     "name": "stdout",
     "output_type": "stream",
     "text": [
      "Episode 1600/5000\n",
      "Fitnesses: ['-69.69', '-16.02', '-102.24', '-82.79']\n",
      "100 fitness avgs: ['-24.96', '-24.29', '-25.37', '-25.12']\n"
     ]
    },
    {
     "name": "stderr",
     "output_type": "stream",
     "text": [
      " 32%|███▏      | 1619/5000 [07:13<28:37,  1.97it/s]"
     ]
    },
    {
     "name": "stdout",
     "output_type": "stream",
     "text": [
      "Episode 1620/5000\n",
      "Fitnesses: ['-18.74', '-27.23', '-15.66', '-20.48']\n",
      "100 fitness avgs: ['-24.22', '-25.15', '-24.18', '-24.91']\n"
     ]
    },
    {
     "name": "stderr",
     "output_type": "stream",
     "text": [
      " 33%|███▎      | 1639/5000 [07:23<27:59,  2.00it/s]"
     ]
    },
    {
     "name": "stdout",
     "output_type": "stream",
     "text": [
      "Episode 1640/5000\n",
      "Fitnesses: ['-37.68', '-47.72', '-32.49', '-2.28']\n",
      "100 fitness avgs: ['-24.35', '-24.47', '-24.28', '-23.92']\n"
     ]
    },
    {
     "name": "stderr",
     "output_type": "stream",
     "text": [
      " 33%|███▎      | 1659/5000 [07:34<29:43,  1.87it/s]"
     ]
    },
    {
     "name": "stdout",
     "output_type": "stream",
     "text": [
      "Episode 1660/5000\n",
      "Fitnesses: ['-44.42', '-20.49', '-6.03', '-20.40']\n",
      "100 fitness avgs: ['-24.16', '-23.88', '-24.25', '-24.24']\n"
     ]
    },
    {
     "name": "stderr",
     "output_type": "stream",
     "text": [
      " 34%|███▎      | 1679/5000 [07:44<25:08,  2.20it/s]"
     ]
    },
    {
     "name": "stdout",
     "output_type": "stream",
     "text": [
      "Episode 1680/5000\n",
      "Fitnesses: ['-19.61', '-37.69', '-17.08', '-10.56']\n",
      "100 fitness avgs: ['-24.19', '-24.04', '-23.79', '-24.09']\n"
     ]
    },
    {
     "name": "stderr",
     "output_type": "stream",
     "text": [
      " 34%|███▍      | 1699/5000 [07:56<30:30,  1.80it/s]"
     ]
    },
    {
     "name": "stdout",
     "output_type": "stream",
     "text": [
      "Episode 1700/5000\n",
      "Fitnesses: ['-47.04', '-21.73', '-53.16', '-33.99']\n",
      "100 fitness avgs: ['-24.36', '-24.06', '-24.14', '-24.31']\n"
     ]
    },
    {
     "name": "stderr",
     "output_type": "stream",
     "text": [
      " 34%|███▍      | 1719/5000 [08:09<34:17,  1.59it/s]"
     ]
    },
    {
     "name": "stdout",
     "output_type": "stream",
     "text": [
      "Episode 1720/5000\n",
      "Fitnesses: ['-47.19', '-70.83', '-56.39', '-65.62']\n",
      "100 fitness avgs: ['-24.33', '-24.60', '-24.68', '-24.84']\n"
     ]
    },
    {
     "name": "stderr",
     "output_type": "stream",
     "text": [
      " 35%|███▍      | 1739/5000 [08:22<34:23,  1.58it/s]"
     ]
    },
    {
     "name": "stdout",
     "output_type": "stream",
     "text": [
      "Episode 1740/5000\n",
      "Fitnesses: ['-37.13', '-7.56', '-23.37', '-9.13']\n",
      "100 fitness avgs: ['-24.47', '-24.13', '-24.82', '-24.15']\n"
     ]
    },
    {
     "name": "stderr",
     "output_type": "stream",
     "text": [
      " 35%|███▌      | 1759/5000 [08:36<35:21,  1.53it/s]"
     ]
    },
    {
     "name": "stdout",
     "output_type": "stream",
     "text": [
      "Episode 1760/5000\n",
      "Fitnesses: ['-22.82', '-40.81', '-45.55', '-66.75']\n",
      "100 fitness avgs: ['-24.12', '-24.34', '-24.38', '-24.62']\n"
     ]
    },
    {
     "name": "stderr",
     "output_type": "stream",
     "text": [
      " 36%|███▌      | 1779/5000 [08:49<34:56,  1.54it/s]"
     ]
    },
    {
     "name": "stdout",
     "output_type": "stream",
     "text": [
      "Episode 1780/5000\n",
      "Fitnesses: ['-43.37', '-35.39', '-42.10', '-20.29']\n",
      "100 fitness avgs: ['-24.34', '-24.25', '-24.54', '-24.08']\n"
     ]
    },
    {
     "name": "stderr",
     "output_type": "stream",
     "text": [
      " 36%|███▌      | 1799/5000 [09:02<34:34,  1.54it/s]"
     ]
    },
    {
     "name": "stdout",
     "output_type": "stream",
     "text": [
      "Episode 1800/5000\n",
      "Fitnesses: ['-42.72', '-15.08', '-18.40', '-23.77']\n",
      "100 fitness avgs: ['-24.28', '-23.98', '-24.18', '-24.24']\n"
     ]
    },
    {
     "name": "stderr",
     "output_type": "stream",
     "text": [
      " 36%|███▋      | 1819/5000 [09:15<31:39,  1.68it/s]"
     ]
    },
    {
     "name": "stdout",
     "output_type": "stream",
     "text": [
      "Episode 1820/5000\n",
      "Fitnesses: ['-4.59', '-49.90', '-24.82', '-13.90']\n",
      "100 fitness avgs: ['-23.76', '-24.56', '-24.19', '-23.87']\n"
     ]
    },
    {
     "name": "stderr",
     "output_type": "stream",
     "text": [
      " 37%|███▋      | 1839/5000 [09:28<32:49,  1.61it/s]"
     ]
    },
    {
     "name": "stdout",
     "output_type": "stream",
     "text": [
      "Episode 1840/5000\n",
      "Fitnesses: ['-46.67', '-72.18', '-77.33', '-42.12']\n",
      "100 fitness avgs: ['-24.01', '-25.08', '-24.35', '-23.96']\n"
     ]
    },
    {
     "name": "stderr",
     "output_type": "stream",
     "text": [
      " 37%|███▋      | 1859/5000 [09:42<33:37,  1.56it/s]"
     ]
    },
    {
     "name": "stdout",
     "output_type": "stream",
     "text": [
      "Episode 1860/5000\n",
      "Fitnesses: ['-33.82', '-26.24', '-11.87', '-20.62']\n",
      "100 fitness avgs: ['-24.07', '-24.37', '-23.88', '-23.98']\n"
     ]
    },
    {
     "name": "stderr",
     "output_type": "stream",
     "text": [
      " 38%|███▊      | 1879/5000 [09:55<33:29,  1.55it/s]"
     ]
    },
    {
     "name": "stdout",
     "output_type": "stream",
     "text": [
      "Episode 1880/5000\n",
      "Fitnesses: ['-9.11', '-60.14', '-4.43', '-21.87']\n",
      "100 fitness avgs: ['-23.72', '-24.27', '-23.86', '-23.86']\n"
     ]
    },
    {
     "name": "stderr",
     "output_type": "stream",
     "text": [
      " 38%|███▊      | 1899/5000 [10:09<34:01,  1.52it/s]  "
     ]
    },
    {
     "name": "stdout",
     "output_type": "stream",
     "text": [
      "Episode 1900/5000\n",
      "Fitnesses: ['-70.58', '-26.10', '-14.96', '-20.16']\n",
      "100 fitness avgs: ['-24.35', '-23.88', '-23.63', '-23.69']\n"
     ]
    },
    {
     "name": "stderr",
     "output_type": "stream",
     "text": [
      " 38%|███▊      | 1919/5000 [10:23<36:33,  1.40it/s]"
     ]
    },
    {
     "name": "stdout",
     "output_type": "stream",
     "text": [
      "Episode 1920/5000\n",
      "Fitnesses: ['-17.86', '-49.06', '-54.05', '-52.01']\n",
      "100 fitness avgs: ['-23.57', '-23.95', '-24.00', '-23.93']\n"
     ]
    },
    {
     "name": "stderr",
     "output_type": "stream",
     "text": [
      " 39%|███▉      | 1939/5000 [10:42<46:52,  1.09it/s]  "
     ]
    },
    {
     "name": "stdout",
     "output_type": "stream",
     "text": [
      "Episode 1940/5000\n",
      "Fitnesses: ['-16.81', '-13.72', '-17.49', '-6.85']\n",
      "100 fitness avgs: ['-23.50', '-23.47', '-23.88', '-23.40']\n"
     ]
    },
    {
     "name": "stderr",
     "output_type": "stream",
     "text": [
      " 39%|███▉      | 1959/5000 [11:01<49:00,  1.03it/s]  "
     ]
    },
    {
     "name": "stdout",
     "output_type": "stream",
     "text": [
      "Episode 1960/5000\n",
      "Fitnesses: ['-32.73', '-24.94', '-84.52', '-34.50']\n",
      "100 fitness avgs: ['-23.49', '-23.52', '-24.09', '-23.58']\n"
     ]
    },
    {
     "name": "stderr",
     "output_type": "stream",
     "text": [
      " 40%|███▉      | 1979/5000 [11:21<46:49,  1.08it/s]  "
     ]
    },
    {
     "name": "stdout",
     "output_type": "stream",
     "text": [
      "Episode 1980/5000\n",
      "Fitnesses: ['-19.62', '-40.33', '-13.02', '-31.65']\n",
      "100 fitness avgs: ['-23.48', '-23.75', '-23.48', '-23.60']\n"
     ]
    },
    {
     "name": "stderr",
     "output_type": "stream",
     "text": [
      " 40%|███▉      | 1999/5000 [11:42<48:07,  1.04it/s]  "
     ]
    },
    {
     "name": "stdout",
     "output_type": "stream",
     "text": [
      "Episode 2000/5000\n",
      "Fitnesses: ['-50.25', '-22.67', '-42.35', '-64.65']\n",
      "100 fitness avgs: ['-23.74', '-23.47', '-23.67', '-23.89']\n"
     ]
    },
    {
     "name": "stderr",
     "output_type": "stream",
     "text": [
      " 40%|████      | 2019/5000 [12:02<49:14,  1.01it/s]  "
     ]
    },
    {
     "name": "stdout",
     "output_type": "stream",
     "text": [
      "Episode 2020/5000\n",
      "Fitnesses: ['-103.41', '-37.33', '-28.64', '-28.95']\n",
      "100 fitness avgs: ['-23.64', '-22.98', '-23.17', '-23.17']\n"
     ]
    },
    {
     "name": "stderr",
     "output_type": "stream",
     "text": [
      " 41%|████      | 2039/5000 [12:22<47:27,  1.04it/s]  "
     ]
    },
    {
     "name": "stdout",
     "output_type": "stream",
     "text": [
      "Episode 2040/5000\n",
      "Fitnesses: ['-6.78', '-3.30', '-15.53', '-24.53']\n",
      "100 fitness avgs: ['-22.77', '-22.74', '-22.86', '-22.76']\n"
     ]
    },
    {
     "name": "stderr",
     "output_type": "stream",
     "text": [
      " 41%|████      | 2059/5000 [12:40<44:51,  1.09it/s]"
     ]
    },
    {
     "name": "stdout",
     "output_type": "stream",
     "text": [
      "Episode 2060/5000\n",
      "Fitnesses: ['-9.61', '-16.80', '-62.99', '-14.57']\n",
      "100 fitness avgs: ['-22.54', '-22.65', '-23.11', '-22.59']\n"
     ]
    },
    {
     "name": "stderr",
     "output_type": "stream",
     "text": [
      " 42%|████▏     | 2079/5000 [13:00<47:38,  1.02it/s]"
     ]
    },
    {
     "name": "stdout",
     "output_type": "stream",
     "text": [
      "Episode 2080/5000\n",
      "Fitnesses: ['-34.06', '-28.14', '-56.82', '-64.28']\n",
      "100 fitness avgs: ['-22.81', '-22.75', '-23.08', '-23.16']\n"
     ]
    },
    {
     "name": "stderr",
     "output_type": "stream",
     "text": [
      " 42%|████▏     | 2099/5000 [13:20<46:28,  1.04it/s]  "
     ]
    },
    {
     "name": "stdout",
     "output_type": "stream",
     "text": [
      "Episode 2100/5000\n",
      "Fitnesses: ['-55.75', '-32.62', '-47.42', '-10.61']\n",
      "100 fitness avgs: ['-21.98', '-21.74', '-21.95', '-21.86']\n"
     ]
    },
    {
     "name": "stderr",
     "output_type": "stream",
     "text": [
      " 42%|████▏     | 2119/5000 [13:39<45:34,  1.05it/s]  "
     ]
    },
    {
     "name": "stdout",
     "output_type": "stream",
     "text": [
      "Episode 2120/5000\n",
      "Fitnesses: ['-8.41', '-13.20', '-14.92', '-0.77']\n",
      "100 fitness avgs: ['-21.54', '-21.59', '-21.70', '-21.47']\n"
     ]
    },
    {
     "name": "stderr",
     "output_type": "stream",
     "text": [
      " 43%|████▎     | 2139/5000 [14:00<46:19,  1.03it/s]  "
     ]
    },
    {
     "name": "stdout",
     "output_type": "stream",
     "text": [
      "Episode 2140/5000\n",
      "Fitnesses: ['-26.96', '-3.06', '-42.29', '-31.04']\n",
      "100 fitness avgs: ['-20.89', '-20.72', '-21.04', '-20.93']\n"
     ]
    },
    {
     "name": "stderr",
     "output_type": "stream",
     "text": [
      " 43%|████▎     | 2159/5000 [14:21<47:19,  1.00it/s]  "
     ]
    },
    {
     "name": "stdout",
     "output_type": "stream",
     "text": [
      "Episode 2160/5000\n",
      "Fitnesses: ['-2.55', '-35.52', '-23.75', '-44.76']\n",
      "100 fitness avgs: ['-20.70', '-21.19', '-21.23', '-21.33']\n"
     ]
    },
    {
     "name": "stderr",
     "output_type": "stream",
     "text": [
      " 44%|████▎     | 2179/5000 [14:39<43:45,  1.07it/s]"
     ]
    },
    {
     "name": "stdout",
     "output_type": "stream",
     "text": [
      "Episode 2180/5000\n",
      "Fitnesses: ['-34.52', '-3.76', '-2.59', '-17.78']\n",
      "100 fitness avgs: ['-20.23', '-19.92', '-20.44', '-20.69']\n"
     ]
    },
    {
     "name": "stderr",
     "output_type": "stream",
     "text": [
      " 44%|████▍     | 2199/5000 [14:59<45:57,  1.02it/s]"
     ]
    },
    {
     "name": "stdout",
     "output_type": "stream",
     "text": [
      "Episode 2200/5000\n",
      "Fitnesses: ['-7.11', '-54.66', '-16.41', '-33.57']\n",
      "100 fitness avgs: ['-20.46', '-20.93', '-20.55', '-20.21']\n"
     ]
    },
    {
     "name": "stderr",
     "output_type": "stream",
     "text": [
      " 44%|████▍     | 2219/5000 [15:14<32:39,  1.42it/s]  "
     ]
    },
    {
     "name": "stdout",
     "output_type": "stream",
     "text": [
      "Episode 2220/5000\n",
      "Fitnesses: ['-43.81', '-45.01', '-69.21', '-93.10']\n",
      "100 fitness avgs: ['-20.42', '-20.91', '-20.77', '-21.01']\n"
     ]
    },
    {
     "name": "stderr",
     "output_type": "stream",
     "text": [
      " 45%|████▍     | 2239/5000 [15:28<28:36,  1.61it/s]"
     ]
    },
    {
     "name": "stdout",
     "output_type": "stream",
     "text": [
      "Episode 2240/5000\n",
      "Fitnesses: ['-12.16', '-18.85', '-16.80', '-7.43']\n",
      "100 fitness avgs: ['-20.48', '-20.55', '-21.11', '-20.43']\n"
     ]
    },
    {
     "name": "stderr",
     "output_type": "stream",
     "text": [
      " 45%|████▌     | 2259/5000 [15:42<29:59,  1.52it/s]"
     ]
    },
    {
     "name": "stdout",
     "output_type": "stream",
     "text": [
      "Episode 2260/5000\n",
      "Fitnesses: ['-25.04', '-4.85', '-46.16', '-7.55']\n",
      "100 fitness avgs: ['-20.59', '-20.39', '-21.48', '-20.46']\n"
     ]
    },
    {
     "name": "stderr",
     "output_type": "stream",
     "text": [
      " 46%|████▌     | 2279/5000 [15:56<30:28,  1.49it/s]"
     ]
    },
    {
     "name": "stdout",
     "output_type": "stream",
     "text": [
      "Episode 2280/5000\n",
      "Fitnesses: ['-52.60', '-5.21', '-11.77', '-25.01']\n",
      "100 fitness avgs: ['-20.71', '-20.44', '-20.31', '-20.44']\n"
     ]
    },
    {
     "name": "stderr",
     "output_type": "stream",
     "text": [
      " 46%|████▌     | 2299/5000 [16:09<28:43,  1.57it/s]"
     ]
    },
    {
     "name": "stdout",
     "output_type": "stream",
     "text": [
      "Episode 2300/5000\n",
      "Fitnesses: ['-8.93', '-29.78', '-11.75', '-44.62']\n",
      "100 fitness avgs: ['-20.43', '-20.50', '-20.45', '-20.78']\n"
     ]
    },
    {
     "name": "stderr",
     "output_type": "stream",
     "text": [
      " 46%|████▋     | 2319/5000 [16:22<29:39,  1.51it/s]"
     ]
    },
    {
     "name": "stdout",
     "output_type": "stream",
     "text": [
      "Episode 2320/5000\n",
      "Fitnesses: ['-18.96', '-67.70', '-20.94', '-27.51']\n",
      "100 fitness avgs: ['-20.46', '-20.97', '-20.48', '-20.57']\n"
     ]
    },
    {
     "name": "stderr",
     "output_type": "stream",
     "text": [
      " 47%|████▋     | 2339/5000 [16:36<29:50,  1.49it/s]"
     ]
    },
    {
     "name": "stdout",
     "output_type": "stream",
     "text": [
      "Episode 2340/5000\n",
      "Fitnesses: ['-23.63', '-16.54', '-60.29', '-24.90']\n",
      "100 fitness avgs: ['-20.44', '-20.37', '-20.80', '-20.45']\n"
     ]
    },
    {
     "name": "stderr",
     "output_type": "stream",
     "text": [
      " 47%|████▋     | 2359/5000 [16:51<30:35,  1.44it/s]"
     ]
    },
    {
     "name": "stdout",
     "output_type": "stream",
     "text": [
      "Episode 2360/5000\n",
      "Fitnesses: ['-60.64', '-28.70', '-12.71', '-37.37']\n",
      "100 fitness avgs: ['-20.56', '-20.24', '-20.17', '-20.40']\n"
     ]
    },
    {
     "name": "stderr",
     "output_type": "stream",
     "text": [
      " 48%|████▊     | 2379/5000 [17:03<26:18,  1.66it/s]"
     ]
    },
    {
     "name": "stdout",
     "output_type": "stream",
     "text": [
      "Episode 2380/5000\n",
      "Fitnesses: ['-11.58', '-16.29', '-19.20', '-20.76']\n",
      "100 fitness avgs: ['-20.04', '-20.16', '-20.19', '-20.53']\n"
     ]
    },
    {
     "name": "stderr",
     "output_type": "stream",
     "text": [
      " 48%|████▊     | 2399/5000 [17:16<25:14,  1.72it/s]"
     ]
    },
    {
     "name": "stdout",
     "output_type": "stream",
     "text": [
      "Episode 2400/5000\n",
      "Fitnesses: ['-47.94', '-18.71', '-20.86', '-30.11']\n",
      "100 fitness avgs: ['-20.48', '-20.34', '-20.33', '-20.43']\n"
     ]
    },
    {
     "name": "stderr",
     "output_type": "stream",
     "text": [
      " 48%|████▊     | 2419/5000 [17:25<17:08,  2.51it/s]"
     ]
    },
    {
     "name": "stdout",
     "output_type": "stream",
     "text": [
      "Episode 2420/5000\n",
      "Fitnesses: ['-8.67', '-34.14', '-32.20', '-5.28']\n",
      "100 fitness avgs: ['-20.36', '-20.61', '-20.59', '-20.41']\n"
     ]
    },
    {
     "name": "stderr",
     "output_type": "stream",
     "text": [
      " 49%|████▉     | 2439/5000 [17:37<24:52,  1.72it/s]"
     ]
    },
    {
     "name": "stdout",
     "output_type": "stream",
     "text": [
      "Episode 2440/5000\n",
      "Fitnesses: ['-9.84', '-42.44', '-7.92', '-16.60']\n",
      "100 fitness avgs: ['-20.44', '-20.76', '-20.42', '-20.69']\n"
     ]
    },
    {
     "name": "stderr",
     "output_type": "stream",
     "text": [
      " 49%|████▉     | 2459/5000 [17:51<29:26,  1.44it/s]"
     ]
    },
    {
     "name": "stdout",
     "output_type": "stream",
     "text": [
      "Episode 2460/5000\n",
      "Fitnesses: ['-8.27', '-8.00', '-14.90', '-41.92']\n",
      "100 fitness avgs: ['-20.02', '-20.02', '-20.09', '-20.36']\n"
     ]
    },
    {
     "name": "stderr",
     "output_type": "stream",
     "text": [
      " 50%|████▉     | 2479/5000 [18:07<34:19,  1.22it/s]"
     ]
    },
    {
     "name": "stdout",
     "output_type": "stream",
     "text": [
      "Episode 2480/5000\n",
      "Fitnesses: ['-27.76', '-57.16', '-33.71', '-28.63']\n",
      "100 fitness avgs: ['-20.25', '-20.55', '-20.38', '-20.26']\n"
     ]
    },
    {
     "name": "stderr",
     "output_type": "stream",
     "text": [
      " 50%|████▉     | 2499/5000 [18:26<36:33,  1.14it/s]  "
     ]
    },
    {
     "name": "stdout",
     "output_type": "stream",
     "text": [
      "Episode 2500/5000\n",
      "Fitnesses: ['-6.47', '-73.99', '-7.40', '-18.70']\n",
      "100 fitness avgs: ['-20.05', '-20.73', '-20.06', '-20.18']\n"
     ]
    },
    {
     "name": "stderr",
     "output_type": "stream",
     "text": [
      " 50%|█████     | 2519/5000 [18:43<35:02,  1.18it/s]"
     ]
    },
    {
     "name": "stdout",
     "output_type": "stream",
     "text": [
      "Episode 2520/5000\n",
      "Fitnesses: ['-5.55', '-8.75', '-20.09', '-24.58']\n",
      "100 fitness avgs: ['-20.03', '-20.20', '-20.19', '-20.23']\n"
     ]
    },
    {
     "name": "stderr",
     "output_type": "stream",
     "text": [
      " 51%|█████     | 2539/5000 [19:01<34:41,  1.18it/s]"
     ]
    },
    {
     "name": "stdout",
     "output_type": "stream",
     "text": [
      "Episode 2540/5000\n",
      "Fitnesses: ['-39.20', '-43.90', '-21.24', '-33.61']\n",
      "100 fitness avgs: ['-20.35', '-20.56', '-20.17', '-20.45']\n"
     ]
    },
    {
     "name": "stderr",
     "output_type": "stream",
     "text": [
      " 51%|█████     | 2559/5000 [19:19<35:45,  1.14it/s]"
     ]
    },
    {
     "name": "stdout",
     "output_type": "stream",
     "text": [
      "Episode 2560/5000\n",
      "Fitnesses: ['-11.19', '-29.63', '-26.45', '-11.55']\n",
      "100 fitness avgs: ['-20.02', '-20.49', '-20.18', '-20.31']\n"
     ]
    },
    {
     "name": "stderr",
     "output_type": "stream",
     "text": [
      " 52%|█████▏    | 2579/5000 [19:36<30:45,  1.31it/s]  "
     ]
    },
    {
     "name": "stdout",
     "output_type": "stream",
     "text": [
      "Episode 2580/5000\n",
      "Fitnesses: ['-42.59', '-54.19', '-10.83', '-30.94']\n",
      "100 fitness avgs: ['-20.34', '-20.60', '-20.17', '-20.50']\n"
     ]
    },
    {
     "name": "stderr",
     "output_type": "stream",
     "text": [
      " 52%|█████▏    | 2599/5000 [19:53<34:03,  1.18it/s]"
     ]
    },
    {
     "name": "stdout",
     "output_type": "stream",
     "text": [
      "Episode 2600/5000\n",
      "Fitnesses: ['-11.88', '-26.04', '-31.08', '-65.90']\n",
      "100 fitness avgs: ['-19.91', '-20.22', '-20.44', '-20.46']\n"
     ]
    },
    {
     "name": "stderr",
     "output_type": "stream",
     "text": [
      " 52%|█████▏    | 2619/5000 [20:12<36:54,  1.08it/s]"
     ]
    },
    {
     "name": "stdout",
     "output_type": "stream",
     "text": [
      "Episode 2620/5000\n",
      "Fitnesses: ['-19.64', '-59.64', '-65.19', '-47.61']\n",
      "100 fitness avgs: ['-19.44', '-20.15', '-20.21', '-20.03']\n"
     ]
    },
    {
     "name": "stderr",
     "output_type": "stream",
     "text": [
      " 53%|█████▎    | 2639/5000 [20:29<33:38,  1.17it/s]"
     ]
    },
    {
     "name": "stdout",
     "output_type": "stream",
     "text": [
      "Episode 2640/5000\n",
      "Fitnesses: ['-19.18', '-69.30', '-28.19', '-20.50']\n",
      "100 fitness avgs: ['-19.58', '-20.79', '-19.67', '-20.30']\n"
     ]
    },
    {
     "name": "stderr",
     "output_type": "stream",
     "text": [
      " 53%|█████▎    | 2659/5000 [20:46<29:16,  1.33it/s]"
     ]
    },
    {
     "name": "stdout",
     "output_type": "stream",
     "text": [
      "Episode 2660/5000\n",
      "Fitnesses: ['-46.39', '-5.33', '-90.67', '-17.20']\n",
      "100 fitness avgs: ['-19.81', '-19.49', '-20.97', '-19.52']\n"
     ]
    },
    {
     "name": "stderr",
     "output_type": "stream",
     "text": [
      " 54%|█████▎    | 2679/5000 [21:02<28:56,  1.34it/s]"
     ]
    },
    {
     "name": "stdout",
     "output_type": "stream",
     "text": [
      "Episode 2680/5000\n",
      "Fitnesses: ['-55.50', '-49.68', '-8.17', '-3.30']\n",
      "100 fitness avgs: ['-19.82', '-19.77', '-20.83', '-19.30']\n"
     ]
    },
    {
     "name": "stderr",
     "output_type": "stream",
     "text": [
      " 54%|█████▍    | 2699/5000 [21:16<25:00,  1.53it/s]"
     ]
    },
    {
     "name": "stdout",
     "output_type": "stream",
     "text": [
      "Episode 2700/5000\n",
      "Fitnesses: ['-21.64', '-37.60', '-3.99', '-34.43']\n",
      "100 fitness avgs: ['-19.41', '-19.57', '-19.70', '-19.54']\n"
     ]
    },
    {
     "name": "stderr",
     "output_type": "stream",
     "text": [
      " 54%|█████▍    | 2719/5000 [21:30<25:02,  1.52it/s]"
     ]
    },
    {
     "name": "stdout",
     "output_type": "stream",
     "text": [
      "Episode 2720/5000\n",
      "Fitnesses: ['-81.78', '-13.02', '-24.63', '-8.28']\n",
      "100 fitness avgs: ['-20.43', '-19.74', '-19.57', '-19.41']\n"
     ]
    },
    {
     "name": "stderr",
     "output_type": "stream",
     "text": [
      " 55%|█████▍    | 2739/5000 [21:43<22:43,  1.66it/s]"
     ]
    },
    {
     "name": "stdout",
     "output_type": "stream",
     "text": [
      "Episode 2740/5000\n",
      "Fitnesses: ['-59.28', '-43.25', '-17.31', '-17.57']\n",
      "100 fitness avgs: ['-19.94', '-19.78', '-19.69', '-19.69']\n"
     ]
    },
    {
     "name": "stderr",
     "output_type": "stream",
     "text": [
      " 55%|█████▌    | 2759/5000 [21:57<24:27,  1.53it/s]"
     ]
    },
    {
     "name": "stdout",
     "output_type": "stream",
     "text": [
      "Episode 2760/5000\n",
      "Fitnesses: ['-43.45', '-17.24', '-54.95', '-25.27']\n",
      "100 fitness avgs: ['-20.06', '-19.89', '-20.18', '-19.88']\n"
     ]
    },
    {
     "name": "stderr",
     "output_type": "stream",
     "text": [
      " 56%|█████▌    | 2779/5000 [22:10<21:42,  1.71it/s]"
     ]
    },
    {
     "name": "stdout",
     "output_type": "stream",
     "text": [
      "Episode 2780/5000\n",
      "Fitnesses: ['-5.95', '-27.61', '-39.33', '-37.76']\n",
      "100 fitness avgs: ['-19.81', '-20.01', '-20.14', '-20.13']\n"
     ]
    },
    {
     "name": "stderr",
     "output_type": "stream",
     "text": [
      " 56%|█████▌    | 2799/5000 [22:21<19:01,  1.93it/s]"
     ]
    },
    {
     "name": "stdout",
     "output_type": "stream",
     "text": [
      "Episode 2800/5000\n",
      "Fitnesses: ['-10.37', '-35.01', '-31.58', '-6.00']\n",
      "100 fitness avgs: ['-19.85', '-20.42', '-20.07', '-19.81']\n"
     ]
    },
    {
     "name": "stderr",
     "output_type": "stream",
     "text": [
      " 56%|█████▋    | 2819/5000 [22:32<18:51,  1.93it/s]"
     ]
    },
    {
     "name": "stdout",
     "output_type": "stream",
     "text": [
      "Episode 2820/5000\n",
      "Fitnesses: ['-35.44', '-11.76', '-33.74', '-14.04']\n",
      "100 fitness avgs: ['-19.24', '-19.00', '-19.27', '-19.03']\n"
     ]
    },
    {
     "name": "stderr",
     "output_type": "stream",
     "text": [
      " 57%|█████▋    | 2839/5000 [22:44<19:38,  1.83it/s]"
     ]
    },
    {
     "name": "stdout",
     "output_type": "stream",
     "text": [
      "Episode 2840/5000\n",
      "Fitnesses: ['-5.84', '-30.04', '-18.32', '-39.96']\n",
      "100 fitness avgs: ['-18.96', '-19.20', '-19.11', '-19.57']\n"
     ]
    },
    {
     "name": "stderr",
     "output_type": "stream",
     "text": [
      " 57%|█████▋    | 2859/5000 [22:58<25:13,  1.41it/s]"
     ]
    },
    {
     "name": "stdout",
     "output_type": "stream",
     "text": [
      "Episode 2860/5000\n",
      "Fitnesses: ['-5.44', '-27.65', '-8.28', '-37.04']\n",
      "100 fitness avgs: ['-18.88', '-19.11', '-18.91', '-19.20']\n"
     ]
    },
    {
     "name": "stderr",
     "output_type": "stream",
     "text": [
      " 58%|█████▊    | 2879/5000 [23:10<20:53,  1.69it/s]"
     ]
    },
    {
     "name": "stdout",
     "output_type": "stream",
     "text": [
      "Episode 2880/5000\n",
      "Fitnesses: ['-32.64', '-54.74', '-37.65', '-24.96']\n",
      "100 fitness avgs: ['-18.92', '-19.17', '-19.19', '-19.06']\n"
     ]
    },
    {
     "name": "stderr",
     "output_type": "stream",
     "text": [
      " 58%|█████▊    | 2899/5000 [23:22<18:56,  1.85it/s]"
     ]
    },
    {
     "name": "stdout",
     "output_type": "stream",
     "text": [
      "Episode 2900/5000\n",
      "Fitnesses: ['-97.89', '-55.55', '-16.09', '-11.31']\n",
      "100 fitness avgs: ['-20.02', '-19.59', '-19.20', '-19.15']\n"
     ]
    },
    {
     "name": "stderr",
     "output_type": "stream",
     "text": [
      " 58%|█████▊    | 2919/5000 [23:35<21:22,  1.62it/s]"
     ]
    },
    {
     "name": "stdout",
     "output_type": "stream",
     "text": [
      "Episode 2920/5000\n",
      "Fitnesses: ['-42.04', '-35.99', '-12.38', '-7.27']\n",
      "100 fitness avgs: ['-19.56', '-19.50', '-19.27', '-19.22']\n"
     ]
    },
    {
     "name": "stderr",
     "output_type": "stream",
     "text": [
      " 59%|█████▉    | 2939/5000 [23:47<20:21,  1.69it/s]"
     ]
    },
    {
     "name": "stdout",
     "output_type": "stream",
     "text": [
      "Episode 2940/5000\n",
      "Fitnesses: ['-27.13', '-50.25', '-59.69', '-75.05']\n",
      "100 fitness avgs: ['-19.26', '-19.49', '-19.64', '-19.79']\n"
     ]
    },
    {
     "name": "stderr",
     "output_type": "stream",
     "text": [
      " 59%|█████▉    | 2959/5000 [24:00<21:49,  1.56it/s]"
     ]
    },
    {
     "name": "stdout",
     "output_type": "stream",
     "text": [
      "Episode 2960/5000\n",
      "Fitnesses: ['-46.85', '-40.17', '-4.61', '-67.28']\n",
      "100 fitness avgs: ['-19.63', '-20.10', '-19.21', '-20.21']\n"
     ]
    },
    {
     "name": "stderr",
     "output_type": "stream",
     "text": [
      " 60%|█████▉    | 2979/5000 [24:12<20:00,  1.68it/s]"
     ]
    },
    {
     "name": "stdout",
     "output_type": "stream",
     "text": [
      "Episode 2980/5000\n",
      "Fitnesses: ['-46.88', '-47.85', '-14.40', '-44.27']\n",
      "100 fitness avgs: ['-19.55', '-19.56', '-19.23', '-19.53']\n"
     ]
    },
    {
     "name": "stderr",
     "output_type": "stream",
     "text": [
      " 60%|█████▉    | 2999/5000 [24:24<19:04,  1.75it/s]"
     ]
    },
    {
     "name": "stdout",
     "output_type": "stream",
     "text": [
      "Episode 3000/5000\n",
      "Fitnesses: ['-19.30', '-13.88', '-14.22', '-54.69']\n",
      "100 fitness avgs: ['-19.24', '-19.48', '-19.49', '-19.59']\n"
     ]
    },
    {
     "name": "stderr",
     "output_type": "stream",
     "text": [
      " 60%|██████    | 3019/5000 [24:38<22:19,  1.48it/s]"
     ]
    },
    {
     "name": "stdout",
     "output_type": "stream",
     "text": [
      "Episode 3020/5000\n",
      "Fitnesses: ['-13.13', '-75.34', '-6.28', '-49.41']\n",
      "100 fitness avgs: ['-19.45', '-20.07', '-19.38', '-19.81']\n"
     ]
    },
    {
     "name": "stderr",
     "output_type": "stream",
     "text": [
      " 61%|██████    | 3039/5000 [24:52<23:15,  1.41it/s]"
     ]
    },
    {
     "name": "stdout",
     "output_type": "stream",
     "text": [
      "Episode 3040/5000\n",
      "Fitnesses: ['-65.14', '-6.69', '-12.69', '-39.05']\n",
      "100 fitness avgs: ['-19.95', '-19.80', '-19.49', '-19.76']\n"
     ]
    },
    {
     "name": "stderr",
     "output_type": "stream",
     "text": [
      " 61%|██████    | 3059/5000 [25:10<26:11,  1.24it/s]"
     ]
    },
    {
     "name": "stdout",
     "output_type": "stream",
     "text": [
      "Episode 3060/5000\n",
      "Fitnesses: ['-17.10', '-53.88', '-61.99', '-64.44']\n",
      "100 fitness avgs: ['-19.89', '-20.26', '-20.34', '-20.36']\n"
     ]
    },
    {
     "name": "stderr",
     "output_type": "stream",
     "text": [
      " 62%|██████▏   | 3079/5000 [25:28<27:53,  1.15it/s]"
     ]
    },
    {
     "name": "stdout",
     "output_type": "stream",
     "text": [
      "Episode 3080/5000\n",
      "Fitnesses: ['-5.52', '-33.76', '-21.48', '-41.48']\n",
      "100 fitness avgs: ['-19.83', '-20.48', '-20.44', '-20.19']\n"
     ]
    },
    {
     "name": "stderr",
     "output_type": "stream",
     "text": [
      " 62%|██████▏   | 3099/5000 [25:46<26:54,  1.18it/s]"
     ]
    },
    {
     "name": "stdout",
     "output_type": "stream",
     "text": [
      "Episode 3100/5000\n",
      "Fitnesses: ['-8.75', '-37.08', '-3.80', '-31.33']\n",
      "100 fitness avgs: ['-19.54', '-20.43', '-20.10', '-19.76']\n"
     ]
    },
    {
     "name": "stderr",
     "output_type": "stream",
     "text": [
      " 62%|██████▏   | 3119/5000 [26:06<28:11,  1.11it/s]"
     ]
    },
    {
     "name": "stdout",
     "output_type": "stream",
     "text": [
      "Episode 3120/5000\n",
      "Fitnesses: ['-29.58', '-38.73', '-11.16', '-74.42']\n",
      "100 fitness avgs: ['-20.10', '-19.63', '-19.35', '-20.21']\n"
     ]
    },
    {
     "name": "stderr",
     "output_type": "stream",
     "text": [
      " 63%|██████▎   | 3139/5000 [26:25<29:35,  1.05it/s]"
     ]
    },
    {
     "name": "stdout",
     "output_type": "stream",
     "text": [
      "Episode 3140/5000\n",
      "Fitnesses: ['-2.45', '-23.80', '-12.50', '-40.27']\n",
      "100 fitness avgs: ['-19.01', '-19.97', '-19.39', '-19.39']\n"
     ]
    },
    {
     "name": "stderr",
     "output_type": "stream",
     "text": [
      " 63%|██████▎   | 3159/5000 [26:44<28:52,  1.06it/s]"
     ]
    },
    {
     "name": "stdout",
     "output_type": "stream",
     "text": [
      "Episode 3160/5000\n",
      "Fitnesses: ['-19.71', '-40.63', '-33.77', '-58.31']\n",
      "100 fitness avgs: ['-18.58', '-18.78', '-19.09', '-19.92']\n"
     ]
    },
    {
     "name": "stderr",
     "output_type": "stream",
     "text": [
      " 64%|██████▎   | 3179/5000 [27:05<30:01,  1.01it/s]"
     ]
    },
    {
     "name": "stdout",
     "output_type": "stream",
     "text": [
      "Episode 3180/5000\n",
      "Fitnesses: ['-26.73', '-41.53', '-49.64', '-75.02']\n",
      "100 fitness avgs: ['-18.58', '-18.93', '-18.81', '-19.58']\n"
     ]
    },
    {
     "name": "stderr",
     "output_type": "stream",
     "text": [
      " 64%|██████▍   | 3199/5000 [27:27<31:31,  1.05s/it]"
     ]
    },
    {
     "name": "stdout",
     "output_type": "stream",
     "text": [
      "Episode 3200/5000\n",
      "Fitnesses: ['-6.45', '-9.91', '-22.12', '-47.16']\n",
      "100 fitness avgs: ['-18.48', '-18.87', '-18.87', '-19.12']\n"
     ]
    },
    {
     "name": "stderr",
     "output_type": "stream",
     "text": [
      " 64%|██████▍   | 3219/5000 [27:46<27:32,  1.08it/s]"
     ]
    },
    {
     "name": "stdout",
     "output_type": "stream",
     "text": [
      "Episode 3220/5000\n",
      "Fitnesses: ['-14.41', '-6.32', '-56.43', '-5.34']\n",
      "100 fitness avgs: ['-17.97', '-18.28', '-18.39', '-17.88']\n"
     ]
    },
    {
     "name": "stderr",
     "output_type": "stream",
     "text": [
      " 65%|██████▍   | 3239/5000 [28:04<25:14,  1.16it/s]"
     ]
    },
    {
     "name": "stdout",
     "output_type": "stream",
     "text": [
      "Episode 3240/5000\n",
      "Fitnesses: ['-65.48', '-7.96', '-20.45', '-10.55']\n",
      "100 fitness avgs: ['-18.50', '-17.92', '-18.05', '-18.35']\n"
     ]
    },
    {
     "name": "stderr",
     "output_type": "stream",
     "text": [
      " 65%|██████▌   | 3259/5000 [28:18<22:12,  1.31it/s]"
     ]
    },
    {
     "name": "stdout",
     "output_type": "stream",
     "text": [
      "Episode 3260/5000\n",
      "Fitnesses: ['-44.25', '-47.12', '-25.14', '-41.87']\n",
      "100 fitness avgs: ['-18.30', '-18.33', '-18.11', '-18.70']\n"
     ]
    },
    {
     "name": "stderr",
     "output_type": "stream",
     "text": [
      " 66%|██████▌   | 3279/5000 [28:35<23:23,  1.23it/s]"
     ]
    },
    {
     "name": "stdout",
     "output_type": "stream",
     "text": [
      "Episode 3280/5000\n",
      "Fitnesses: ['-20.86', '-30.96', '-33.62', '-19.55']\n",
      "100 fitness avgs: ['-18.29', '-18.98', '-18.61', '-18.28']\n"
     ]
    },
    {
     "name": "stderr",
     "output_type": "stream",
     "text": [
      " 66%|██████▌   | 3299/5000 [28:47<15:54,  1.78it/s]"
     ]
    },
    {
     "name": "stdout",
     "output_type": "stream",
     "text": [
      "Episode 3300/5000\n",
      "Fitnesses: ['-54.52', '-4.62', '-13.21', '-38.15']\n",
      "100 fitness avgs: ['-18.80', '-18.31', '-18.40', '-18.97']\n"
     ]
    },
    {
     "name": "stderr",
     "output_type": "stream",
     "text": [
      " 66%|██████▋   | 3319/5000 [29:00<16:52,  1.66it/s]"
     ]
    },
    {
     "name": "stdout",
     "output_type": "stream",
     "text": [
      "Episode 3320/5000\n",
      "Fitnesses: ['-33.03', '-38.16', '-46.93', '-22.34']\n",
      "100 fitness avgs: ['-18.15', '-18.86', '-18.94', '-18.04']\n"
     ]
    },
    {
     "name": "stderr",
     "output_type": "stream",
     "text": [
      " 67%|██████▋   | 3339/5000 [29:12<14:51,  1.86it/s]"
     ]
    },
    {
     "name": "stdout",
     "output_type": "stream",
     "text": [
      "Episode 3340/5000\n",
      "Fitnesses: ['-10.60', '-33.42', '-37.70', '-12.67']\n",
      "100 fitness avgs: ['-18.13', '-18.35', '-19.21', '-18.15']\n"
     ]
    },
    {
     "name": "stderr",
     "output_type": "stream",
     "text": [
      " 67%|██████▋   | 3359/5000 [29:26<16:46,  1.63it/s]"
     ]
    },
    {
     "name": "stdout",
     "output_type": "stream",
     "text": [
      "Episode 3360/5000\n",
      "Fitnesses: ['-7.06', '-20.68', '-9.02', '-11.19']\n",
      "100 fitness avgs: ['-18.05', '-18.19', '-18.07', '-18.09']\n"
     ]
    },
    {
     "name": "stderr",
     "output_type": "stream",
     "text": [
      " 68%|██████▊   | 3379/5000 [29:41<19:23,  1.39it/s]"
     ]
    },
    {
     "name": "stdout",
     "output_type": "stream",
     "text": [
      "Episode 3380/5000\n",
      "Fitnesses: ['-12.18', '-81.95', '-49.55', '-31.66']\n",
      "100 fitness avgs: ['-17.97', '-18.66', '-18.36', '-18.16']\n"
     ]
    },
    {
     "name": "stderr",
     "output_type": "stream",
     "text": [
      " 68%|██████▊   | 3399/5000 [29:57<20:18,  1.31it/s]"
     ]
    },
    {
     "name": "stdout",
     "output_type": "stream",
     "text": [
      "Episode 3400/5000\n",
      "Fitnesses: ['-49.13', '-11.37', '-109.76', '-36.14']\n",
      "100 fitness avgs: ['-18.04', '-17.86', '-18.84', '-18.11']\n"
     ]
    },
    {
     "name": "stderr",
     "output_type": "stream",
     "text": [
      " 68%|██████▊   | 3419/5000 [30:14<21:47,  1.21it/s]"
     ]
    },
    {
     "name": "stdout",
     "output_type": "stream",
     "text": [
      "Episode 3420/5000\n",
      "Fitnesses: ['-37.48', '-26.44', '-17.47', '-25.97']\n",
      "100 fitness avgs: ['-18.16', '-18.30', '-17.96', '-18.04']\n"
     ]
    },
    {
     "name": "stderr",
     "output_type": "stream",
     "text": [
      " 69%|██████▉   | 3439/5000 [30:33<24:15,  1.07it/s]"
     ]
    },
    {
     "name": "stdout",
     "output_type": "stream",
     "text": [
      "Episode 3440/5000\n",
      "Fitnesses: ['-13.36', '-14.89', '-85.21', '-33.16']\n",
      "100 fitness avgs: ['-18.08', '-18.44', '-19.14', '-18.28']\n"
     ]
    },
    {
     "name": "stderr",
     "output_type": "stream",
     "text": [
      " 69%|██████▉   | 3459/5000 [30:52<25:44,  1.00s/it]"
     ]
    },
    {
     "name": "stdout",
     "output_type": "stream",
     "text": [
      "Episode 3460/5000\n",
      "Fitnesses: ['-21.60', '-52.89', '-76.85', '-11.52']\n",
      "100 fitness avgs: ['-18.23', '-18.54', '-18.98', '-19.18']\n"
     ]
    },
    {
     "name": "stderr",
     "output_type": "stream",
     "text": [
      " 70%|██████▉   | 3479/5000 [31:15<28:33,  1.13s/it]"
     ]
    },
    {
     "name": "stdout",
     "output_type": "stream",
     "text": [
      "Episode 3480/5000\n",
      "Fitnesses: ['-20.02', '-8.01', '-15.08', '-48.65']\n",
      "100 fitness avgs: ['-18.80', '-18.68', '-17.80', '-18.13']\n"
     ]
    },
    {
     "name": "stderr",
     "output_type": "stream",
     "text": [
      " 70%|██████▉   | 3499/5000 [31:37<28:23,  1.13s/it]"
     ]
    },
    {
     "name": "stdout",
     "output_type": "stream",
     "text": [
      "Episode 3500/5000\n",
      "Fitnesses: ['-37.12', '-30.65', '-25.43', '-14.83']\n",
      "100 fitness avgs: ['-18.83', '-17.88', '-17.83', '-18.73']\n"
     ]
    },
    {
     "name": "stderr",
     "output_type": "stream",
     "text": [
      " 70%|███████   | 3519/5000 [31:59<26:01,  1.05s/it]"
     ]
    },
    {
     "name": "stdout",
     "output_type": "stream",
     "text": [
      "Episode 3520/5000\n",
      "Fitnesses: ['-65.20', '-28.30', '-49.81', '-81.75']\n",
      "100 fitness avgs: ['-19.32', '-18.95', '-18.26', '-19.58']\n"
     ]
    },
    {
     "name": "stderr",
     "output_type": "stream",
     "text": [
      " 71%|███████   | 3539/5000 [32:20<26:11,  1.08s/it]"
     ]
    },
    {
     "name": "stdout",
     "output_type": "stream",
     "text": [
      "Episode 3540/5000\n",
      "Fitnesses: ['-13.10', '-7.95', '-26.94', '-109.52']\n",
      "100 fitness avgs: ['-18.87', '-19.19', '-19.38', '-19.15']\n"
     ]
    },
    {
     "name": "stderr",
     "output_type": "stream",
     "text": [
      " 71%|███████   | 3559/5000 [32:36<18:13,  1.32it/s]"
     ]
    },
    {
     "name": "stdout",
     "output_type": "stream",
     "text": [
      "Episode 3560/5000\n",
      "Fitnesses: ['-4.35', '-19.83', '-11.08', '-6.86']\n",
      "100 fitness avgs: ['-18.76', '-19.10', '-18.82', '-18.46']\n"
     ]
    },
    {
     "name": "stderr",
     "output_type": "stream",
     "text": [
      " 72%|███████▏  | 3579/5000 [32:52<18:45,  1.26it/s]"
     ]
    },
    {
     "name": "stdout",
     "output_type": "stream",
     "text": [
      "Episode 3580/5000\n",
      "Fitnesses: ['-41.48', '-11.59', '-15.95', '-17.47']\n",
      "100 fitness avgs: ['-19.10', '-18.51', '-18.85', '-18.93']\n"
     ]
    },
    {
     "name": "stderr",
     "output_type": "stream",
     "text": [
      " 72%|███████▏  | 3599/5000 [33:10<20:20,  1.15it/s]"
     ]
    },
    {
     "name": "stdout",
     "output_type": "stream",
     "text": [
      "Episode 3600/5000\n",
      "Fitnesses: ['-14.82', '-9.61', '-38.70', '-25.92']\n",
      "100 fitness avgs: ['-18.50', '-18.45', '-18.74', '-18.61']\n"
     ]
    },
    {
     "name": "stderr",
     "output_type": "stream",
     "text": [
      " 72%|███████▏  | 3619/5000 [33:25<17:08,  1.34it/s]"
     ]
    },
    {
     "name": "stdout",
     "output_type": "stream",
     "text": [
      "Episode 3620/5000\n",
      "Fitnesses: ['-70.65', '-1.82', '-3.59', '-51.20']\n",
      "100 fitness avgs: ['-19.00', '-18.47', '-18.33', '-18.97']\n"
     ]
    },
    {
     "name": "stderr",
     "output_type": "stream",
     "text": [
      " 73%|███████▎  | 3639/5000 [33:41<16:57,  1.34it/s]"
     ]
    },
    {
     "name": "stdout",
     "output_type": "stream",
     "text": [
      "Episode 3640/5000\n",
      "Fitnesses: ['-34.87', '-38.32', '-22.92', '-2.48']\n",
      "100 fitness avgs: ['-18.34', '-18.38', '-18.72', '-18.02']\n"
     ]
    },
    {
     "name": "stderr",
     "output_type": "stream",
     "text": [
      " 73%|███████▎  | 3659/5000 [33:57<17:23,  1.29it/s]"
     ]
    },
    {
     "name": "stdout",
     "output_type": "stream",
     "text": [
      "Episode 3660/5000\n",
      "Fitnesses: ['-11.24', '-50.69', '-15.99', '-52.36']\n",
      "100 fitness avgs: ['-18.07', '-18.47', '-18.44', '-18.48']\n"
     ]
    },
    {
     "name": "stderr",
     "output_type": "stream",
     "text": [
      " 74%|███████▎  | 3679/5000 [34:15<16:58,  1.30it/s]"
     ]
    },
    {
     "name": "stdout",
     "output_type": "stream",
     "text": [
      "Episode 3680/5000\n",
      "Fitnesses: ['-17.12', '-29.59', '-3.75', '-64.47']\n",
      "100 fitness avgs: ['-18.14', '-18.63', '-18.40', '-18.98']\n"
     ]
    },
    {
     "name": "stderr",
     "output_type": "stream",
     "text": [
      " 74%|███████▍  | 3699/5000 [34:33<18:44,  1.16it/s]"
     ]
    },
    {
     "name": "stdout",
     "output_type": "stream",
     "text": [
      "Episode 3700/5000\n",
      "Fitnesses: ['-19.95', '-48.35', '-17.75', '-12.42']\n",
      "100 fitness avgs: ['-18.38', '-18.40', '-18.36', '-18.30']\n"
     ]
    },
    {
     "name": "stderr",
     "output_type": "stream",
     "text": [
      " 74%|███████▍  | 3719/5000 [34:52<18:47,  1.14it/s]"
     ]
    },
    {
     "name": "stdout",
     "output_type": "stream",
     "text": [
      "Episode 3720/5000\n",
      "Fitnesses: ['-54.00', '-13.58', '-22.52', '-97.26']\n",
      "100 fitness avgs: ['-18.37', '-18.07', '-18.06', '-18.86']\n"
     ]
    },
    {
     "name": "stderr",
     "output_type": "stream",
     "text": [
      " 75%|███████▍  | 3739/5000 [35:08<16:23,  1.28it/s]"
     ]
    },
    {
     "name": "stdout",
     "output_type": "stream",
     "text": [
      "Episode 3740/5000\n",
      "Fitnesses: ['-83.20', '-58.56', '-26.27', '-21.29']\n",
      "100 fitness avgs: ['-18.82', '-18.57', '-18.25', '-18.51']\n"
     ]
    },
    {
     "name": "stderr",
     "output_type": "stream",
     "text": [
      " 75%|███████▌  | 3759/5000 [35:24<15:33,  1.33it/s]"
     ]
    },
    {
     "name": "stdout",
     "output_type": "stream",
     "text": [
      "Episode 3760/5000\n",
      "Fitnesses: ['-46.74', '-50.72', '-59.05', '-27.55']\n",
      "100 fitness avgs: ['-18.75', '-18.85', '-18.87', '-18.56']\n"
     ]
    },
    {
     "name": "stderr",
     "output_type": "stream",
     "text": [
      " 76%|███████▌  | 3779/5000 [35:40<15:09,  1.34it/s]"
     ]
    },
    {
     "name": "stdout",
     "output_type": "stream",
     "text": [
      "Episode 3780/5000\n",
      "Fitnesses: ['-31.78', '-31.78', '-16.43', '-35.68']\n",
      "100 fitness avgs: ['-18.67', '-18.67', '-18.52', '-18.90']\n"
     ]
    },
    {
     "name": "stderr",
     "output_type": "stream",
     "text": [
      " 76%|███████▌  | 3799/5000 [35:56<15:42,  1.27it/s]"
     ]
    },
    {
     "name": "stdout",
     "output_type": "stream",
     "text": [
      "Episode 3800/5000\n",
      "Fitnesses: ['-27.77', '-20.61', '-26.31', '-30.05']\n",
      "100 fitness avgs: ['-18.65', '-18.96', '-18.63', '-18.67']\n"
     ]
    },
    {
     "name": "stderr",
     "output_type": "stream",
     "text": [
      " 76%|███████▋  | 3819/5000 [36:14<16:20,  1.20it/s]"
     ]
    },
    {
     "name": "stdout",
     "output_type": "stream",
     "text": [
      "Episode 3820/5000\n",
      "Fitnesses: ['-7.15', '-11.26', '-40.60', '-72.96']\n",
      "100 fitness avgs: ['-18.98', '-19.03', '-18.99', '-19.33']\n"
     ]
    },
    {
     "name": "stderr",
     "output_type": "stream",
     "text": [
      " 77%|███████▋  | 3839/5000 [36:28<12:26,  1.56it/s]"
     ]
    },
    {
     "name": "stdout",
     "output_type": "stream",
     "text": [
      "Episode 3840/5000\n",
      "Fitnesses: ['-48.55', '-75.72', '-24.35', '-61.20']\n",
      "100 fitness avgs: ['-19.00', '-19.27', '-18.76', '-19.17']\n"
     ]
    },
    {
     "name": "stderr",
     "output_type": "stream",
     "text": [
      " 77%|███████▋  | 3859/5000 [36:40<11:20,  1.68it/s]"
     ]
    },
    {
     "name": "stdout",
     "output_type": "stream",
     "text": [
      "Episode 3860/5000\n",
      "Fitnesses: ['-12.49', '-30.10', '-24.65', '-48.45']\n",
      "100 fitness avgs: ['-18.77', '-18.94', '-18.89', '-19.13']\n"
     ]
    },
    {
     "name": "stderr",
     "output_type": "stream",
     "text": [
      " 78%|███████▊  | 3879/5000 [36:53<10:43,  1.74it/s]"
     ]
    },
    {
     "name": "stdout",
     "output_type": "stream",
     "text": [
      "Episode 3880/5000\n",
      "Fitnesses: ['-10.51', '-64.68', '-35.00', '-34.00']\n",
      "100 fitness avgs: ['-18.78', '-19.44', '-19.20', '-19.14']\n"
     ]
    },
    {
     "name": "stderr",
     "output_type": "stream",
     "text": [
      " 78%|███████▊  | 3899/5000 [37:05<11:17,  1.62it/s]"
     ]
    },
    {
     "name": "stdout",
     "output_type": "stream",
     "text": [
      "Episode 3900/5000\n",
      "Fitnesses: ['-24.71', '-14.62', '-21.39', '-47.99']\n",
      "100 fitness avgs: ['-18.88', '-18.78', '-18.85', '-19.47']\n"
     ]
    },
    {
     "name": "stderr",
     "output_type": "stream",
     "text": [
      " 78%|███████▊  | 3919/5000 [37:19<10:42,  1.68it/s]"
     ]
    },
    {
     "name": "stdout",
     "output_type": "stream",
     "text": [
      "Episode 3920/5000\n",
      "Fitnesses: ['-68.12', '-12.92', '-39.54', '-39.55']\n",
      "100 fitness avgs: ['-19.28', '-18.83', '-18.99', '-19.10']\n"
     ]
    },
    {
     "name": "stderr",
     "output_type": "stream",
     "text": [
      " 79%|███████▉  | 3939/5000 [37:32<10:43,  1.65it/s]"
     ]
    },
    {
     "name": "stdout",
     "output_type": "stream",
     "text": [
      "Episode 3940/5000\n",
      "Fitnesses: ['-35.35', '-27.77', '-22.79', '-47.27']\n",
      "100 fitness avgs: ['-19.05', '-19.14', '-19.09', '-19.33']\n"
     ]
    },
    {
     "name": "stderr",
     "output_type": "stream",
     "text": [
      " 79%|███████▉  | 3959/5000 [37:47<11:18,  1.54it/s]"
     ]
    },
    {
     "name": "stdout",
     "output_type": "stream",
     "text": [
      "Episode 3960/5000\n",
      "Fitnesses: ['-8.79', '-28.24', '-18.31', '-31.12']\n",
      "100 fitness avgs: ['-18.83', '-19.07', '-18.92', '-19.01']\n"
     ]
    },
    {
     "name": "stderr",
     "output_type": "stream",
     "text": [
      " 80%|███████▉  | 3979/5000 [37:59<09:53,  1.72it/s]"
     ]
    },
    {
     "name": "stdout",
     "output_type": "stream",
     "text": [
      "Episode 3980/5000\n",
      "Fitnesses: ['-22.19', '-13.53', '-55.47', '-30.66']\n",
      "100 fitness avgs: ['-18.92', '-18.93', '-19.25', '-19.10']\n"
     ]
    },
    {
     "name": "stderr",
     "output_type": "stream",
     "text": [
      " 80%|███████▉  | 3999/5000 [38:12<09:48,  1.70it/s]"
     ]
    },
    {
     "name": "stdout",
     "output_type": "stream",
     "text": [
      "Episode 4000/5000\n",
      "Fitnesses: ['-26.11', '-23.57', '-20.94', '-43.77']\n",
      "100 fitness avgs: ['-18.69', '-18.66', '-18.63', '-19.03']\n"
     ]
    },
    {
     "name": "stderr",
     "output_type": "stream",
     "text": [
      " 80%|████████  | 4019/5000 [38:24<09:31,  1.72it/s]"
     ]
    },
    {
     "name": "stdout",
     "output_type": "stream",
     "text": [
      "Episode 4020/5000\n",
      "Fitnesses: ['-32.90', '-32.41', '-14.17', '-17.00']\n",
      "100 fitness avgs: ['-18.67', '-18.72', '-18.89', '-18.92']\n"
     ]
    },
    {
     "name": "stderr",
     "output_type": "stream",
     "text": [
      " 81%|████████  | 4039/5000 [38:36<09:18,  1.72it/s]"
     ]
    },
    {
     "name": "stdout",
     "output_type": "stream",
     "text": [
      "Episode 4040/5000\n",
      "Fitnesses: ['-43.93', '-64.09', '-37.88', '-36.34']\n",
      "100 fitness avgs: ['-19.30', '-19.50', '-19.02', '-19.06']\n"
     ]
    },
    {
     "name": "stderr",
     "output_type": "stream",
     "text": [
      " 81%|████████  | 4059/5000 [38:49<09:09,  1.71it/s]"
     ]
    },
    {
     "name": "stdout",
     "output_type": "stream",
     "text": [
      "Episode 4060/5000\n",
      "Fitnesses: ['-38.11', '-17.72', '-8.24', '-28.25']\n",
      "100 fitness avgs: ['-19.29', '-19.09', '-18.95', '-19.43']\n"
     ]
    },
    {
     "name": "stderr",
     "output_type": "stream",
     "text": [
      " 82%|████████▏ | 4079/5000 [39:00<07:41,  2.00it/s]"
     ]
    },
    {
     "name": "stdout",
     "output_type": "stream",
     "text": [
      "Episode 4080/5000\n",
      "Fitnesses: ['-59.82', '-104.34', '-20.46', '-10.29']\n",
      "100 fitness avgs: ['-18.98', '-19.56', '-18.59', '-18.49']\n"
     ]
    },
    {
     "name": "stderr",
     "output_type": "stream",
     "text": [
      " 82%|████████▏ | 4099/5000 [39:14<09:21,  1.60it/s]"
     ]
    },
    {
     "name": "stdout",
     "output_type": "stream",
     "text": [
      "Episode 4100/5000\n",
      "Fitnesses: ['-25.98', '-54.69', '-45.20', '-19.42']\n",
      "100 fitness avgs: ['-18.64', '-18.93', '-18.83', '-19.07']\n"
     ]
    },
    {
     "name": "stderr",
     "output_type": "stream",
     "text": [
      " 82%|████████▏ | 4119/5000 [39:26<08:30,  1.73it/s]"
     ]
    },
    {
     "name": "stdout",
     "output_type": "stream",
     "text": [
      "Episode 4120/5000\n",
      "Fitnesses: ['-61.25', '-44.54', '-5.21', '-30.72']\n",
      "100 fitness avgs: ['-19.67', '-19.36', '-18.68', '-19.37']\n"
     ]
    },
    {
     "name": "stderr",
     "output_type": "stream",
     "text": [
      " 83%|████████▎ | 4139/5000 [39:38<07:44,  1.85it/s]"
     ]
    },
    {
     "name": "stdout",
     "output_type": "stream",
     "text": [
      "Episode 4140/5000\n",
      "Fitnesses: ['-20.09', '-45.24', '-45.81', '-8.50']\n",
      "100 fitness avgs: ['-18.46', '-19.40', '-19.40', '-19.03']\n"
     ]
    },
    {
     "name": "stderr",
     "output_type": "stream",
     "text": [
      " 83%|████████▎ | 4159/5000 [39:49<06:46,  2.07it/s]"
     ]
    },
    {
     "name": "stdout",
     "output_type": "stream",
     "text": [
      "Episode 4160/5000\n",
      "Fitnesses: ['-15.52', '-7.42', '-18.81', '-34.92']\n",
      "100 fitness avgs: ['-18.95', '-19.24', '-18.41', '-19.14']\n"
     ]
    },
    {
     "name": "stderr",
     "output_type": "stream",
     "text": [
      " 84%|████████▎ | 4179/5000 [39:57<05:41,  2.40it/s]"
     ]
    },
    {
     "name": "stdout",
     "output_type": "stream",
     "text": [
      "Episode 4180/5000\n",
      "Fitnesses: ['-21.64', '-32.77', '-36.05', '-13.57']\n",
      "100 fitness avgs: ['-19.43', '-19.25', '-19.28', '-19.35']\n"
     ]
    },
    {
     "name": "stderr",
     "output_type": "stream",
     "text": [
      " 84%|████████▍ | 4199/5000 [40:08<05:21,  2.49it/s]"
     ]
    },
    {
     "name": "stdout",
     "output_type": "stream",
     "text": [
      "Episode 4200/5000\n",
      "Fitnesses: ['-13.20', '-21.29', '-19.62', '-18.62']\n",
      "100 fitness avgs: ['-19.41', '-19.49', '-19.38', '-19.47']\n"
     ]
    },
    {
     "name": "stderr",
     "output_type": "stream",
     "text": [
      " 84%|████████▍ | 4219/5000 [40:18<05:29,  2.37it/s]"
     ]
    },
    {
     "name": "stdout",
     "output_type": "stream",
     "text": [
      "Episode 4220/5000\n",
      "Fitnesses: ['-3.84', '-19.31', '-14.49', '-38.50']\n",
      "100 fitness avgs: ['-19.01', '-19.25', '-19.12', '-19.41']\n"
     ]
    },
    {
     "name": "stderr",
     "output_type": "stream",
     "text": [
      " 85%|████████▍ | 4239/5000 [40:28<05:52,  2.16it/s]"
     ]
    },
    {
     "name": "stdout",
     "output_type": "stream",
     "text": [
      "Episode 4240/5000\n",
      "Fitnesses: ['-19.93', '-9.66', '-26.45', '-22.27']\n",
      "100 fitness avgs: ['-19.14', '-19.27', '-19.20', '-19.16']\n"
     ]
    },
    {
     "name": "stderr",
     "output_type": "stream",
     "text": [
      " 85%|████████▌ | 4259/5000 [40:37<05:27,  2.26it/s]"
     ]
    },
    {
     "name": "stdout",
     "output_type": "stream",
     "text": [
      "Episode 4260/5000\n",
      "Fitnesses: ['-8.07', '-3.77', '-28.48', '-57.88']\n",
      "100 fitness avgs: ['-19.10', '-18.95', '-19.17', '-19.47']\n"
     ]
    },
    {
     "name": "stderr",
     "output_type": "stream",
     "text": [
      " 86%|████████▌ | 4279/5000 [40:50<06:35,  1.82it/s]"
     ]
    },
    {
     "name": "stdout",
     "output_type": "stream",
     "text": [
      "Episode 4280/5000\n",
      "Fitnesses: ['-14.72', '-15.00', '-33.71', '-42.75']\n",
      "100 fitness avgs: ['-19.04', '-19.05', '-19.23', '-19.48']\n"
     ]
    },
    {
     "name": "stderr",
     "output_type": "stream",
     "text": [
      " 86%|████████▌ | 4299/5000 [41:01<05:44,  2.04it/s]"
     ]
    },
    {
     "name": "stdout",
     "output_type": "stream",
     "text": [
      "Episode 4300/5000\n",
      "Fitnesses: ['-5.26', '-33.62', '-3.21', '-41.24']\n",
      "100 fitness avgs: ['-19.01', '-19.72', '-19.18', '-19.37']\n"
     ]
    },
    {
     "name": "stderr",
     "output_type": "stream",
     "text": [
      " 86%|████████▋ | 4319/5000 [41:12<05:42,  1.99it/s]"
     ]
    },
    {
     "name": "stdout",
     "output_type": "stream",
     "text": [
      "Episode 4320/5000\n",
      "Fitnesses: ['-58.74', '-5.92', '-64.04', '-37.00']\n",
      "100 fitness avgs: ['-19.57', '-19.59', '-19.82', '-19.19']\n"
     ]
    },
    {
     "name": "stderr",
     "output_type": "stream",
     "text": [
      " 87%|████████▋ | 4339/5000 [41:25<05:56,  1.85it/s]"
     ]
    },
    {
     "name": "stdout",
     "output_type": "stream",
     "text": [
      "Episode 4340/5000\n",
      "Fitnesses: ['-47.42', '-38.70', '-7.51', '-35.53']\n",
      "100 fitness avgs: ['-19.90', '-19.79', '-19.50', '-19.76']\n"
     ]
    },
    {
     "name": "stderr",
     "output_type": "stream",
     "text": [
      " 87%|████████▋ | 4359/5000 [41:32<03:32,  3.01it/s]"
     ]
    },
    {
     "name": "stdout",
     "output_type": "stream",
     "text": [
      "Episode 4360/5000\n",
      "Fitnesses: ['-25.96', '-18.02', '-20.61', '-20.85']\n",
      "100 fitness avgs: ['-19.47', '-19.40', '-19.42', '-19.42']\n"
     ]
    },
    {
     "name": "stderr",
     "output_type": "stream",
     "text": [
      " 88%|████████▊ | 4379/5000 [41:39<03:18,  3.13it/s]"
     ]
    },
    {
     "name": "stdout",
     "output_type": "stream",
     "text": [
      "Episode 4380/5000\n",
      "Fitnesses: ['-161.26', '-25.19', '-30.89', '-6.43']\n",
      "100 fitness avgs: ['-20.84', '-19.51', '-19.54', '-19.32']\n"
     ]
    },
    {
     "name": "stderr",
     "output_type": "stream",
     "text": [
      " 88%|████████▊ | 4399/5000 [41:47<02:37,  3.82it/s]"
     ]
    },
    {
     "name": "stdout",
     "output_type": "stream",
     "text": [
      "Episode 4400/5000\n",
      "Fitnesses: ['-7.64', '-45.24', '-64.77', '-48.61']\n",
      "100 fitness avgs: ['-19.10', '-19.66', '-19.67', '-19.73']\n"
     ]
    },
    {
     "name": "stderr",
     "output_type": "stream",
     "text": [
      " 88%|████████▊ | 4419/5000 [41:55<02:57,  3.27it/s]"
     ]
    },
    {
     "name": "stdout",
     "output_type": "stream",
     "text": [
      "Episode 4420/5000\n",
      "Fitnesses: ['-57.68', '-4.18', '-98.41', '-15.24']\n",
      "100 fitness avgs: ['-19.62', '-19.65', '-20.60', '-19.76']\n"
     ]
    },
    {
     "name": "stderr",
     "output_type": "stream",
     "text": [
      " 89%|████████▉ | 4439/5000 [42:02<02:27,  3.80it/s]"
     ]
    },
    {
     "name": "stdout",
     "output_type": "stream",
     "text": [
      "Episode 4440/5000\n",
      "Fitnesses: ['-27.07', '-60.67', '-64.90', '-37.19']\n",
      "100 fitness avgs: ['-19.84', '-20.29', '-20.22', '-19.91']\n"
     ]
    },
    {
     "name": "stderr",
     "output_type": "stream",
     "text": [
      " 89%|████████▉ | 4459/5000 [42:08<02:23,  3.76it/s]"
     ]
    },
    {
     "name": "stdout",
     "output_type": "stream",
     "text": [
      "Episode 4460/5000\n",
      "Fitnesses: ['-13.40', '-67.18', '-44.26', '-57.22']\n",
      "100 fitness avgs: ['-19.90', '-20.88', '-20.65', '-20.41']\n"
     ]
    },
    {
     "name": "stderr",
     "output_type": "stream",
     "text": [
      " 90%|████████▉ | 4479/5000 [42:14<01:59,  4.38it/s]"
     ]
    },
    {
     "name": "stdout",
     "output_type": "stream",
     "text": [
      "Episode 4480/5000\n",
      "Fitnesses: ['-5.47', '-14.38', '-31.53', '-2.80']\n",
      "100 fitness avgs: ['-19.68', '-19.76', '-20.44', '-20.40']\n"
     ]
    },
    {
     "name": "stderr",
     "output_type": "stream",
     "text": [
      " 90%|████████▉ | 4499/5000 [42:20<01:53,  4.42it/s]"
     ]
    },
    {
     "name": "stdout",
     "output_type": "stream",
     "text": [
      "Episode 4500/5000\n",
      "Fitnesses: ['-112.02', '-73.60', '-14.56', '-43.12']\n",
      "100 fitness avgs: ['-21.46', '-20.44', '-20.53', '-20.04']\n"
     ]
    },
    {
     "name": "stderr",
     "output_type": "stream",
     "text": [
      " 90%|█████████ | 4519/5000 [42:25<01:57,  4.10it/s]"
     ]
    },
    {
     "name": "stdout",
     "output_type": "stream",
     "text": [
      "Episode 4520/5000\n",
      "Fitnesses: ['-22.96', '-13.33', '-19.94', '-26.94']\n",
      "100 fitness avgs: ['-20.70', '-20.60', '-20.58', '-20.65']\n"
     ]
    },
    {
     "name": "stderr",
     "output_type": "stream",
     "text": [
      " 91%|█████████ | 4539/5000 [42:30<01:43,  4.45it/s]"
     ]
    },
    {
     "name": "stdout",
     "output_type": "stream",
     "text": [
      "Episode 4540/5000\n",
      "Fitnesses: ['-7.90', '-13.75', '-44.73', '-60.19']\n",
      "100 fitness avgs: ['-20.47', '-20.50', '-20.93', '-20.97']\n"
     ]
    },
    {
     "name": "stderr",
     "output_type": "stream",
     "text": [
      " 91%|█████████ | 4559/5000 [42:36<01:30,  4.87it/s]"
     ]
    },
    {
     "name": "stdout",
     "output_type": "stream",
     "text": [
      "Episode 4560/5000\n",
      "Fitnesses: ['-18.80', '-20.03', '-31.79', '-177.05']\n",
      "100 fitness avgs: ['-20.39', '-20.44', '-20.52', '-22.48']\n"
     ]
    },
    {
     "name": "stderr",
     "output_type": "stream",
     "text": [
      " 92%|█████████▏| 4579/5000 [42:42<01:21,  5.18it/s]"
     ]
    },
    {
     "name": "stdout",
     "output_type": "stream",
     "text": [
      "Episode 4580/5000\n",
      "Fitnesses: ['-28.67', '-39.36', '-12.75', '-96.56']\n",
      "100 fitness avgs: ['-20.57', '-20.68', '-20.46', '-21.25']\n"
     ]
    },
    {
     "name": "stderr",
     "output_type": "stream",
     "text": [
      " 92%|█████████▏| 4599/5000 [42:47<01:25,  4.70it/s]"
     ]
    },
    {
     "name": "stdout",
     "output_type": "stream",
     "text": [
      "Episode 4600/5000\n",
      "Fitnesses: ['-58.72', '-22.58', '-26.59', '-9.36']\n",
      "100 fitness avgs: ['-20.93', '-20.57', '-20.72', '-20.43']\n"
     ]
    },
    {
     "name": "stderr",
     "output_type": "stream",
     "text": [
      " 92%|█████████▏| 4619/5000 [42:52<01:12,  5.23it/s]"
     ]
    },
    {
     "name": "stdout",
     "output_type": "stream",
     "text": [
      "Episode 4620/5000\n",
      "Fitnesses: ['-15.41', '-2.82', '-49.13', '-44.16']\n",
      "100 fitness avgs: ['-20.39', '-20.55', '-20.86', '-20.68']\n"
     ]
    },
    {
     "name": "stderr",
     "output_type": "stream",
     "text": [
      " 93%|█████████▎| 4639/5000 [42:59<01:19,  4.54it/s]"
     ]
    },
    {
     "name": "stdout",
     "output_type": "stream",
     "text": [
      "Episode 4640/5000\n",
      "Fitnesses: ['-6.90', '-22.46', '-7.51', '-25.70']\n",
      "100 fitness avgs: ['-20.34', '-20.33', '-20.19', '-20.37']\n"
     ]
    },
    {
     "name": "stderr",
     "output_type": "stream",
     "text": [
      " 93%|█████████▎| 4659/5000 [43:03<00:56,  5.99it/s]"
     ]
    },
    {
     "name": "stdout",
     "output_type": "stream",
     "text": [
      "Episode 4660/5000\n",
      "Fitnesses: ['-82.74', '-13.67', '-47.29', '-39.37']\n",
      "100 fitness avgs: ['-21.11', '-20.42', '-20.76', '-20.68']\n"
     ]
    },
    {
     "name": "stderr",
     "output_type": "stream",
     "text": [
      " 94%|█████████▎| 4679/5000 [43:08<00:50,  6.31it/s]"
     ]
    },
    {
     "name": "stdout",
     "output_type": "stream",
     "text": [
      "Episode 4680/5000\n",
      "Fitnesses: ['-31.66', '-36.88', '-38.18', '-14.23']\n",
      "100 fitness avgs: ['-20.70', '-21.01', '-21.11', '-20.87']\n"
     ]
    },
    {
     "name": "stderr",
     "output_type": "stream",
     "text": [
      " 94%|█████████▍| 4699/5000 [43:13<00:55,  5.40it/s]"
     ]
    },
    {
     "name": "stdout",
     "output_type": "stream",
     "text": [
      "Episode 4700/5000\n",
      "Fitnesses: ['-60.74', '-23.54', '-32.73', '-5.48']\n",
      "100 fitness avgs: ['-21.26', '-20.72', '-21.12', '-20.85']\n"
     ]
    },
    {
     "name": "stderr",
     "output_type": "stream",
     "text": [
      " 94%|█████████▍| 4719/5000 [43:18<00:54,  5.14it/s]"
     ]
    },
    {
     "name": "stdout",
     "output_type": "stream",
     "text": [
      "Episode 4720/5000\n",
      "Fitnesses: ['-32.81', '-23.96', '-17.50', '-42.36']\n",
      "100 fitness avgs: ['-21.09', '-21.28', '-20.82', '-21.19']\n"
     ]
    },
    {
     "name": "stderr",
     "output_type": "stream",
     "text": [
      " 95%|█████████▍| 4739/5000 [43:22<00:43,  6.04it/s]"
     ]
    },
    {
     "name": "stdout",
     "output_type": "stream",
     "text": [
      "Episode 4740/5000\n",
      "Fitnesses: ['-83.89', '-12.63', '-26.79', '-72.93']\n",
      "100 fitness avgs: ['-21.22', '-20.51', '-20.65', '-21.58']\n"
     ]
    },
    {
     "name": "stderr",
     "output_type": "stream",
     "text": [
      " 95%|█████████▌| 4759/5000 [43:27<00:43,  5.56it/s]"
     ]
    },
    {
     "name": "stdout",
     "output_type": "stream",
     "text": [
      "Episode 4760/5000\n",
      "Fitnesses: ['-39.70', '-77.17', '-28.40', '-78.37']\n",
      "100 fitness avgs: ['-20.73', '-22.18', '-21.69', '-21.83']\n"
     ]
    },
    {
     "name": "stderr",
     "output_type": "stream",
     "text": [
      " 96%|█████████▌| 4779/5000 [43:32<00:52,  4.17it/s]"
     ]
    },
    {
     "name": "stdout",
     "output_type": "stream",
     "text": [
      "Episode 4780/5000\n",
      "Fitnesses: ['-43.63', '-13.47', '-23.92', '-30.65']\n",
      "100 fitness avgs: ['-22.06', '-21.76', '-21.87', '-21.93']\n"
     ]
    },
    {
     "name": "stderr",
     "output_type": "stream",
     "text": [
      " 96%|█████████▌| 4799/5000 [43:39<00:44,  4.48it/s]"
     ]
    },
    {
     "name": "stdout",
     "output_type": "stream",
     "text": [
      "Episode 4800/5000\n",
      "Fitnesses: ['-25.70', '-48.81', '-43.11', '-36.60']\n",
      "100 fitness avgs: ['-21.96', '-22.30', '-22.13', '-22.24']\n"
     ]
    },
    {
     "name": "stderr",
     "output_type": "stream",
     "text": [
      " 96%|█████████▋| 4819/5000 [43:44<00:44,  4.04it/s]"
     ]
    },
    {
     "name": "stdout",
     "output_type": "stream",
     "text": [
      "Episode 4820/5000\n",
      "Fitnesses: ['-9.62', '-48.99', '-58.29', '-50.44']\n",
      "100 fitness avgs: ['-21.94', '-22.33', '-22.42', '-22.35']\n"
     ]
    },
    {
     "name": "stderr",
     "output_type": "stream",
     "text": [
      " 97%|█████████▋| 4839/5000 [43:51<00:38,  4.15it/s]"
     ]
    },
    {
     "name": "stdout",
     "output_type": "stream",
     "text": [
      "Episode 4840/5000\n",
      "Fitnesses: ['-5.39', '-37.46', '-57.15', '-54.25']\n",
      "100 fitness avgs: ['-21.93', '-22.25', '-22.45', '-22.42']\n"
     ]
    },
    {
     "name": "stderr",
     "output_type": "stream",
     "text": [
      " 97%|█████████▋| 4859/5000 [43:58<00:40,  3.48it/s]"
     ]
    },
    {
     "name": "stdout",
     "output_type": "stream",
     "text": [
      "Episode 4860/5000\n",
      "Fitnesses: ['-35.42', '-64.80', '-22.46', '-17.85']\n",
      "100 fitness avgs: ['-22.01', '-22.31', '-21.88', '-21.84']\n"
     ]
    },
    {
     "name": "stderr",
     "output_type": "stream",
     "text": [
      " 98%|█████████▊| 4879/5000 [44:05<00:36,  3.32it/s]"
     ]
    },
    {
     "name": "stdout",
     "output_type": "stream",
     "text": [
      "Episode 4880/5000\n",
      "Fitnesses: ['-54.00', '-51.64', '-9.28', '-34.85']\n",
      "100 fitness avgs: ['-22.13', '-22.15', '-21.68', '-21.98']\n"
     ]
    },
    {
     "name": "stderr",
     "output_type": "stream",
     "text": [
      " 98%|█████████▊| 4899/5000 [44:14<00:45,  2.21it/s]"
     ]
    },
    {
     "name": "stdout",
     "output_type": "stream",
     "text": [
      "Episode 4900/5000\n",
      "Fitnesses: ['-116.26', '-62.46', '-21.07', '-65.86']\n",
      "100 fitness avgs: ['-22.73', '-22.19', '-21.78', '-22.22']\n"
     ]
    },
    {
     "name": "stderr",
     "output_type": "stream",
     "text": [
      " 98%|█████████▊| 4919/5000 [44:24<00:34,  2.36it/s]"
     ]
    },
    {
     "name": "stdout",
     "output_type": "stream",
     "text": [
      "Episode 4920/5000\n",
      "Fitnesses: ['-4.73', '-13.40', '-20.51', '-12.92']\n",
      "100 fitness avgs: ['-21.75', '-21.84', '-21.91', '-22.28']\n"
     ]
    },
    {
     "name": "stderr",
     "output_type": "stream",
     "text": [
      " 99%|█████████▉| 4939/5000 [44:33<00:25,  2.43it/s]"
     ]
    },
    {
     "name": "stdout",
     "output_type": "stream",
     "text": [
      "Episode 4940/5000\n",
      "Fitnesses: ['-12.96', '-4.78', '-39.05', '-40.98']\n",
      "100 fitness avgs: ['-21.61', '-22.06', '-21.87', '-21.89']\n"
     ]
    },
    {
     "name": "stderr",
     "output_type": "stream",
     "text": [
      " 99%|█████████▉| 4959/5000 [44:41<00:15,  2.57it/s]"
     ]
    },
    {
     "name": "stdout",
     "output_type": "stream",
     "text": [
      "Episode 4960/5000\n",
      "Fitnesses: ['-10.10', '-1.20', '-7.76', '-26.71']\n",
      "100 fitness avgs: ['-22.11', '-22.02', '-21.90', '-22.28']\n"
     ]
    },
    {
     "name": "stderr",
     "output_type": "stream",
     "text": [
      "100%|█████████▉| 4979/5000 [44:51<00:09,  2.11it/s]"
     ]
    },
    {
     "name": "stdout",
     "output_type": "stream",
     "text": [
      "Episode 4980/5000\n",
      "Fitnesses: ['-68.03', '-16.68', '-48.60', '-60.88']\n",
      "100 fitness avgs: ['-22.26', '-21.63', '-22.16', '-22.28']\n"
     ]
    },
    {
     "name": "stderr",
     "output_type": "stream",
     "text": [
      "100%|█████████▉| 4999/5000 [44:58<00:00,  3.77it/s]"
     ]
    },
    {
     "name": "stdout",
     "output_type": "stream",
     "text": [
      "Episode 5000/5000\n",
      "Fitnesses: ['-39.20', '-41.51', '-29.36', '-11.29']\n",
      "100 fitness avgs: ['-21.88', '-21.90', '-22.31', '-21.60']\n"
     ]
    },
    {
     "name": "stderr",
     "output_type": "stream",
     "text": [
      "100%|██████████| 5000/5000 [45:00<00:00,  1.85it/s]\n"
     ]
    }
   ],
   "source": [
    "%run Speaker-ListenerWthMATD3_Training.py"
   ]
  }
 ],
 "metadata": {
  "kernelspec": {
   "display_name": "pytorch-tensorflow",
   "language": "python",
   "name": "python3"
  },
  "language_info": {
   "codemirror_mode": {
    "name": "ipython",
    "version": 3
   },
   "file_extension": ".py",
   "mimetype": "text/x-python",
   "name": "python",
   "nbconvert_exporter": "python",
   "pygments_lexer": "ipython3",
   "version": "3.11.5"
  }
 },
 "nbformat": 4,
 "nbformat_minor": 2
}
