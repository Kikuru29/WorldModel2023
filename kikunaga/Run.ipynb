{
 "cells": [
  {
   "cell_type": "code",
   "execution_count": 1,
   "metadata": {},
   "outputs": [
    {
     "name": "stdout",
     "output_type": "stream",
     "text": [
      "20231231-1405\n",
      "===== AgileRL Online Multi-Agent Demo =====\n",
      "state_dim [(3,), (11,)]\n",
      "action_dim [3, 5]\n",
      "one_hot False\n",
      "NET_CONFIG\n",
      "{'arch': 'mlp', 'h_size': [32, 32]}\n",
      "INIT_HP\n",
      "{'AGENT_IDS': ['speaker_0', 'listener_0'],\n",
      " 'ALGO': 'MATD3',\n",
      " 'BATCH_SIZE': 32,\n",
      " 'CHANNELS_LAST': False,\n",
      " 'DISCRETE_ACTIONS': False,\n",
      " 'GAMMA': 0.95,\n",
      " 'LEARN_STEP': 5,\n",
      " 'LR': 0.01,\n",
      " 'MAX_ACTION': [array([1., 1., 1.], dtype=float32),\n",
      "                array([1., 1., 1., 1., 1.], dtype=float32)],\n",
      " 'MEMORY_SIZE': 100000,\n",
      " 'MIN_ACTION': [array([0., 0., 0.], dtype=float32),\n",
      "                array([0., 0., 0., 0., 0.], dtype=float32)],\n",
      " 'N_AGENTS': 2,\n",
      " 'POLICY_FREQ': 2,\n",
      " 'POPULATION_SIZE': 4,\n",
      " 'TAU': 0.01}\n",
      "device cpu\n"
     ]
    },
    {
     "name": "stderr",
     "output_type": "stream",
     "text": [
      "/Users/kikunagarikuto/anaconda3/envs/pytorch-tensorflow/lib/python3.11/site-packages/tqdm/auto.py:21: TqdmWarning: IProgress not found. Please update jupyter and ipywidgets. See https://ipywidgets.readthedocs.io/en/stable/user_install.html\n",
      "  from .autonotebook import tqdm as notebook_tqdm\n",
      "/Users/kikunagarikuto/anaconda3/envs/pytorch-tensorflow/lib/python3.11/site-packages/transformers/utils/generic.py:441: UserWarning: torch.utils._pytree._register_pytree_node is deprecated. Please use torch.utils._pytree.register_pytree_node instead.\n",
      "  _torch_pytree._register_pytree_node(\n",
      "  0%|          | 20/50000 [00:02<1:34:37,  8.80it/s]"
     ]
    },
    {
     "name": "stdout",
     "output_type": "stream",
     "text": [
      "Episode 20/50000\n",
      "Fitnesses: ['-564.28', '-268.16', '-87.02', '-283.28']\n",
      "100 fitness avgs: ['-564.28', '-268.16', '-87.02', '-283.28']\n"
     ]
    },
    {
     "name": "stderr",
     "output_type": "stream",
     "text": [
      "  0%|          | 40/50000 [00:04<1:51:18,  7.48it/s]"
     ]
    },
    {
     "name": "stdout",
     "output_type": "stream",
     "text": [
      "Episode 40/50000\n",
      "Fitnesses: ['-130.01', '-46.66', '-104.85', '-48.64']\n",
      "100 fitness avgs: ['-108.51', '-66.84', '-95.94', '-165.96']\n"
     ]
    },
    {
     "name": "stderr",
     "output_type": "stream",
     "text": [
      "  0%|          | 59/50000 [00:06<1:16:16, 10.91it/s]"
     ]
    },
    {
     "name": "stdout",
     "output_type": "stream",
     "text": [
      "Episode 60/50000\n",
      "Fitnesses: ['-346.44', '-181.13', '-79.24', '-652.22']\n",
      "100 fitness avgs: ['-160.04', '-124.33', '-137.05', '-261.97']\n"
     ]
    },
    {
     "name": "stderr",
     "output_type": "stream",
     "text": [
      "  0%|          | 79/50000 [00:08<1:23:11, 10.00it/s]"
     ]
    },
    {
     "name": "stdout",
     "output_type": "stream",
     "text": [
      "Episode 80/50000\n",
      "Fitnesses: ['-15.61', '-110.62', '-207.76', '-51.59']\n",
      "100 fitness avgs: ['-106.69', '-120.91', '-154.73', '-106.15']\n"
     ]
    },
    {
     "name": "stderr",
     "output_type": "stream",
     "text": [
      "  0%|          | 100/50000 [00:10<1:58:16,  7.03it/s]"
     ]
    },
    {
     "name": "stdout",
     "output_type": "stream",
     "text": [
      "Episode 100/50000\n",
      "Fitnesses: ['-51.79', '-66.79', '-31.77', '-15.63']\n",
      "100 fitness avgs: ['-95.71', '-98.27', '-91.27', '-88.48']\n"
     ]
    },
    {
     "name": "stderr",
     "output_type": "stream",
     "text": [
      "  0%|          | 120/50000 [00:13<2:16:56,  6.07it/s]"
     ]
    },
    {
     "name": "stdout",
     "output_type": "stream",
     "text": [
      "Episode 120/50000\n",
      "Fitnesses: ['-252.35', '-256.21', '-195.35', '-74.62']\n",
      "100 fitness avgs: ['-115.79', '-116.43', '-106.29', '-88.50']\n"
     ]
    },
    {
     "name": "stderr",
     "output_type": "stream",
     "text": [
      "  0%|          | 141/50000 [00:16<2:05:11,  6.64it/s]"
     ]
    },
    {
     "name": "stdout",
     "output_type": "stream",
     "text": [
      "Episode 140/50000\n",
      "Fitnesses: ['-9.68', '-97.10', '-61.80', '-24.58']\n",
      "100 fitness avgs: ['-77.24', '-104.98', '-108.08', '-94.62']\n"
     ]
    },
    {
     "name": "stderr",
     "output_type": "stream",
     "text": [
      "  0%|          | 160/50000 [00:18<1:45:37,  7.86it/s]"
     ]
    },
    {
     "name": "stdout",
     "output_type": "stream",
     "text": [
      "Episode 160/50000\n",
      "Fitnesses: ['-60.59', '-55.57', '-101.01', '-638.49']\n",
      "100 fitness avgs: ['-75.16', '-74.53', '-95.42', '-162.60']\n"
     ]
    },
    {
     "name": "stderr",
     "output_type": "stream",
     "text": [
      "  0%|          | 181/50000 [00:21<1:32:22,  8.99it/s]"
     ]
    },
    {
     "name": "stdout",
     "output_type": "stream",
     "text": [
      "Episode 180/50000\n",
      "Fitnesses: ['-53.10', '-97.52', '-36.63', '-8.86']\n",
      "100 fitness avgs: ['-72.15', '-95.65', '-70.88', '-67.79']\n"
     ]
    },
    {
     "name": "stderr",
     "output_type": "stream",
     "text": [
      "  0%|          | 201/50000 [00:22<1:26:23,  9.61it/s]"
     ]
    },
    {
     "name": "stdout",
     "output_type": "stream",
     "text": [
      "Episode 200/50000\n",
      "Fitnesses: ['-25.45', '-37.34', '-116.05', '-43.09']\n",
      "100 fitness avgs: ['-63.56', '-67.52', '-76.54', '-65.32']\n"
     ]
    },
    {
     "name": "stderr",
     "output_type": "stream",
     "text": [
      "  0%|          | 221/50000 [00:24<1:26:53,  9.55it/s]"
     ]
    },
    {
     "name": "stdout",
     "output_type": "stream",
     "text": [
      "Episode 220/50000\n",
      "Fitnesses: ['-30.11', '-32.93', '-44.51', '-65.03']\n",
      "100 fitness avgs: ['-60.52', '-62.38', '-63.43', '-63.69']\n"
     ]
    },
    {
     "name": "stderr",
     "output_type": "stream",
     "text": [
      "  0%|          | 239/50000 [00:26<1:10:14, 11.81it/s]"
     ]
    },
    {
     "name": "stdout",
     "output_type": "stream",
     "text": [
      "Episode 240/50000\n",
      "Fitnesses: ['-31.58', '-17.43', '-34.60', '-36.71']\n",
      "100 fitness avgs: ['-58.10', '-59.83', '-60.06', '-58.53']\n"
     ]
    },
    {
     "name": "stderr",
     "output_type": "stream",
     "text": [
      "  1%|          | 261/50000 [00:28<1:23:27,  9.93it/s]"
     ]
    },
    {
     "name": "stdout",
     "output_type": "stream",
     "text": [
      "Episode 260/50000\n",
      "Fitnesses: ['-58.91', '-23.48', '-4.25', '-82.92']\n",
      "100 fitness avgs: ['-59.76', '-55.44', '-55.77', '-60.41']\n"
     ]
    },
    {
     "name": "stderr",
     "output_type": "stream",
     "text": [
      "  1%|          | 281/50000 [00:30<1:28:54,  9.32it/s]"
     ]
    },
    {
     "name": "stdout",
     "output_type": "stream",
     "text": [
      "Episode 280/50000\n",
      "Fitnesses: ['-25.55', '-4.32', '-57.64', '-5.86']\n",
      "100 fitness avgs: ['-53.61', '-55.80', '-55.60', '-52.20']\n"
     ]
    },
    {
     "name": "stderr",
     "output_type": "stream",
     "text": [
      "  1%|          | 300/50000 [00:32<1:36:52,  8.55it/s]"
     ]
    },
    {
     "name": "stdout",
     "output_type": "stream",
     "text": [
      "Episode 300/50000\n",
      "Fitnesses: ['-29.44', '-51.11', '-64.82', '-20.45']\n",
      "100 fitness avgs: ['-54.05', '-55.49', '-53.04', '-53.45']\n"
     ]
    },
    {
     "name": "stderr",
     "output_type": "stream",
     "text": [
      "  1%|          | 320/50000 [00:35<2:22:09,  5.82it/s]"
     ]
    },
    {
     "name": "stdout",
     "output_type": "stream",
     "text": [
      "Episode 320/50000\n",
      "Fitnesses: ['-84.81', '-5.64', '-23.54', '-61.55']\n",
      "100 fitness avgs: ['-55.41', '-51.02', '-52.14', '-53.95']\n"
     ]
    },
    {
     "name": "stderr",
     "output_type": "stream",
     "text": [
      "  1%|          | 340/50000 [00:38<1:51:55,  7.39it/s]"
     ]
    },
    {
     "name": "stdout",
     "output_type": "stream",
     "text": [
      "Episode 340/50000\n",
      "Fitnesses: ['-21.89', '-53.66', '-16.24', '-113.95']\n",
      "100 fitness avgs: ['-49.31', '-51.18', '-48.97', '-54.72']\n"
     ]
    },
    {
     "name": "stderr",
     "output_type": "stream",
     "text": [
      "  1%|          | 360/50000 [00:41<2:13:28,  6.20it/s]"
     ]
    },
    {
     "name": "stdout",
     "output_type": "stream",
     "text": [
      "Episode 360/50000\n",
      "Fitnesses: ['-37.49', '-130.77', '-8.49', '-9.02']\n",
      "100 fitness avgs: ['-48.34', '-58.95', '-52.15', '-46.75']\n"
     ]
    },
    {
     "name": "stderr",
     "output_type": "stream",
     "text": [
      "  1%|          | 380/50000 [00:43<1:58:03,  7.00it/s]"
     ]
    },
    {
     "name": "stdout",
     "output_type": "stream",
     "text": [
      "Episode 380/50000\n",
      "Fitnesses: ['-56.69', '-489.06', '-17.98', '-514.68']\n",
      "100 fitness avgs: ['-52.39', '-71.53', '-50.35', '-72.88']\n"
     ]
    },
    {
     "name": "stderr",
     "output_type": "stream",
     "text": [
      "  1%|          | 400/50000 [00:46<2:09:38,  6.38it/s]"
     ]
    },
    {
     "name": "stdout",
     "output_type": "stream",
     "text": [
      "Episode 400/50000\n",
      "Fitnesses: ['-25.65', '-11.42', '-14.76', '-110.10']\n",
      "100 fitness avgs: ['-49.12', '-48.41', '-50.51', '-73.46']\n"
     ]
    },
    {
     "name": "stderr",
     "output_type": "stream",
     "text": [
      "  1%|          | 420/50000 [00:49<2:30:30,  5.49it/s]"
     ]
    },
    {
     "name": "stdout",
     "output_type": "stream",
     "text": [
      "Episode 420/50000\n",
      "Fitnesses: ['-13.15', '-46.15', '-36.37', '-0.58']\n",
      "100 fitness avgs: ['-46.73', '-48.30', '-71.69', '-48.13']\n"
     ]
    },
    {
     "name": "stderr",
     "output_type": "stream",
     "text": [
      "  1%|          | 440/50000 [00:52<2:08:49,  6.41it/s]"
     ]
    },
    {
     "name": "stdout",
     "output_type": "stream",
     "text": [
      "Episode 440/50000\n",
      "Fitnesses: ['-34.40', '-38.59', '-14.47', '-37.07']\n",
      "100 fitness avgs: ['-47.51', '-70.19', '-45.26', '-46.29']\n"
     ]
    },
    {
     "name": "stderr",
     "output_type": "stream",
     "text": [
      "  1%|          | 460/50000 [00:55<2:27:25,  5.60it/s]"
     ]
    },
    {
     "name": "stdout",
     "output_type": "stream",
     "text": [
      "Episode 460/50000\n",
      "Fitnesses: ['-30.64', '-43.91', '-34.96', '-69.07']\n",
      "100 fitness avgs: ['-44.63', '-46.19', '-46.96', '-46.30']\n"
     ]
    },
    {
     "name": "stderr",
     "output_type": "stream",
     "text": [
      "  1%|          | 480/50000 [00:57<1:51:40,  7.39it/s]"
     ]
    },
    {
     "name": "stdout",
     "output_type": "stream",
     "text": [
      "Episode 480/50000\n",
      "Fitnesses: ['-15.72', '-60.07', '-42.28', '-17.79']\n",
      "100 fitness avgs: ['-43.42', '-45.27', '-44.53', '-45.00']\n"
     ]
    },
    {
     "name": "stderr",
     "output_type": "stream",
     "text": [
      "  1%|          | 500/50000 [01:00<1:47:31,  7.67it/s]"
     ]
    },
    {
     "name": "stdout",
     "output_type": "stream",
     "text": [
      "Episode 500/50000\n",
      "Fitnesses: ['-11.80', '-15.21', '-1.64', '-28.53']\n",
      "100 fitness avgs: ['-42.16', '-43.81', '-41.75', '-42.83']\n"
     ]
    },
    {
     "name": "stderr",
     "output_type": "stream",
     "text": [
      "  1%|          | 520/50000 [01:02<2:09:52,  6.35it/s]"
     ]
    },
    {
     "name": "stdout",
     "output_type": "stream",
     "text": [
      "Episode 520/50000\n",
      "Fitnesses: ['-57.67', '-51.32', '-20.20', '-27.95']\n",
      "100 fitness avgs: ['-42.36', '-42.12', '-40.92', '-41.22']\n"
     ]
    },
    {
     "name": "stderr",
     "output_type": "stream",
     "text": [
      "  1%|          | 540/50000 [01:05<2:38:07,  5.21it/s]"
     ]
    },
    {
     "name": "stdout",
     "output_type": "stream",
     "text": [
      "Episode 540/50000\n",
      "Fitnesses: ['-13.95', '-18.11', '-16.14', '-38.58']\n",
      "100 fitness avgs: ['-39.92', '-41.23', '-40.00', '-41.12']\n"
     ]
    },
    {
     "name": "stderr",
     "output_type": "stream",
     "text": [
      "  1%|          | 560/50000 [01:08<2:26:16,  5.63it/s]"
     ]
    },
    {
     "name": "stdout",
     "output_type": "stream",
     "text": [
      "Episode 560/50000\n",
      "Fitnesses: ['-9.64', '-1.45', '-4.36', '-31.29']\n",
      "100 fitness avgs: ['-38.84', '-39.81', '-38.65', '-39.62']\n"
     ]
    },
    {
     "name": "stderr",
     "output_type": "stream",
     "text": [
      "  1%|          | 580/50000 [01:12<2:38:46,  5.19it/s]"
     ]
    },
    {
     "name": "stdout",
     "output_type": "stream",
     "text": [
      "Episode 580/50000\n",
      "Fitnesses: ['-32.39', '-19.72', '-87.29', '-44.56']\n",
      "100 fitness avgs: ['-39.55', '-39.12', '-41.26', '-38.86']\n"
     ]
    },
    {
     "name": "stderr",
     "output_type": "stream",
     "text": [
      "  1%|          | 599/50000 [01:15<2:14:47,  6.11it/s]"
     ]
    },
    {
     "name": "stdout",
     "output_type": "stream",
     "text": [
      "Episode 600/50000\n",
      "Fitnesses: ['-4.47', '-9.66', '-63.81', '-128.27']\n",
      "100 fitness avgs: ['-37.96', '-38.56', '-40.36', '-42.09']\n"
     ]
    },
    {
     "name": "stderr",
     "output_type": "stream",
     "text": [
      "  1%|          | 620/50000 [01:18<2:54:31,  4.72it/s]"
     ]
    },
    {
     "name": "stdout",
     "output_type": "stream",
     "text": [
      "Episode 620/50000\n",
      "Fitnesses: ['-26.84', '-202.53', '-20.33', '-185.07']\n",
      "100 fitness avgs: ['-37.60', '-43.27', '-41.39', '-42.71']\n"
     ]
    },
    {
     "name": "stderr",
     "output_type": "stream",
     "text": [
      "  1%|▏         | 640/50000 [01:22<2:54:51,  4.70it/s]"
     ]
    },
    {
     "name": "stdout",
     "output_type": "stream",
     "text": [
      "Episode 640/50000\n",
      "Fitnesses: ['-24.07', '-14.97', '-4.33', '-24.60']\n",
      "100 fitness avgs: ['-40.85', '-41.84', '-36.56', '-37.20']\n"
     ]
    },
    {
     "name": "stderr",
     "output_type": "stream",
     "text": [
      "  1%|▏         | 660/50000 [01:25<2:52:15,  4.77it/s]"
     ]
    },
    {
     "name": "stdout",
     "output_type": "stream",
     "text": [
      "Episode 660/50000\n",
      "Fitnesses: ['-23.45', '-165.38', '-13.36', '-30.69']\n",
      "100 fitness avgs: ['-36.17', '-40.47', '-40.98', '-41.50']\n"
     ]
    },
    {
     "name": "stderr",
     "output_type": "stream",
     "text": [
      "  1%|▏         | 679/50000 [01:28<2:11:31,  6.25it/s]"
     ]
    },
    {
     "name": "stdout",
     "output_type": "stream",
     "text": [
      "Episode 680/50000\n",
      "Fitnesses: ['-51.87', '-23.58', '-61.86', '-20.24']\n",
      "100 fitness avgs: ['-41.30', '-40.98', '-42.10', '-40.37']\n"
     ]
    },
    {
     "name": "stderr",
     "output_type": "stream",
     "text": [
      "  1%|▏         | 700/50000 [01:32<2:22:05,  5.78it/s]"
     ]
    },
    {
     "name": "stdout",
     "output_type": "stream",
     "text": [
      "Episode 700/50000\n",
      "Fitnesses: ['-38.18', '-10.03', '-5.39', '-44.23']\n",
      "100 fitness avgs: ['-40.31', '-40.09', '-39.37', '-41.38']\n"
     ]
    },
    {
     "name": "stderr",
     "output_type": "stream",
     "text": [
      "  1%|▏         | 720/50000 [01:35<2:40:14,  5.13it/s]"
     ]
    },
    {
     "name": "stdout",
     "output_type": "stream",
     "text": [
      "Episode 720/50000\n",
      "Fitnesses: ['-25.51', '-44.57', '-24.88', '-10.49']\n",
      "100 fitness avgs: ['-38.98', '-40.42', '-38.97', '-39.48']\n"
     ]
    },
    {
     "name": "stderr",
     "output_type": "stream",
     "text": [
      "  1%|▏         | 740/50000 [01:38<2:54:42,  4.70it/s]"
     ]
    },
    {
     "name": "stdout",
     "output_type": "stream",
     "text": [
      "Episode 740/50000\n",
      "Fitnesses: ['-45.80', '-23.40', '-17.81', '-24.40']\n",
      "100 fitness avgs: ['-39.65', '-38.55', '-38.39', '-38.57']\n"
     ]
    },
    {
     "name": "stderr",
     "output_type": "stream",
     "text": [
      "  2%|▏         | 760/50000 [01:41<2:53:28,  4.73it/s]"
     ]
    },
    {
     "name": "stdout",
     "output_type": "stream",
     "text": [
      "Episode 760/50000\n",
      "Fitnesses: ['-27.73', '-85.02', '-24.66', '-10.84']\n",
      "100 fitness avgs: ['-38.11', '-39.77', '-38.18', '-37.67']\n"
     ]
    },
    {
     "name": "stderr",
     "output_type": "stream",
     "text": [
      "  2%|▏         | 780/50000 [01:45<2:44:51,  4.98it/s]"
     ]
    },
    {
     "name": "stdout",
     "output_type": "stream",
     "text": [
      "Episode 780/50000\n",
      "Fitnesses: ['-36.04', '-42.49', '-80.25', '-4.31']\n",
      "100 fitness avgs: ['-37.63', '-37.79', '-38.76', '-38.86']\n"
     ]
    },
    {
     "name": "stderr",
     "output_type": "stream",
     "text": [
      "  2%|▏         | 800/50000 [01:48<2:48:49,  4.86it/s]"
     ]
    },
    {
     "name": "stdout",
     "output_type": "stream",
     "text": [
      "Episode 800/50000\n",
      "Fitnesses: ['-15.53', '-15.92', '-11.74', '-58.96']\n",
      "100 fitness avgs: ['-38.28', '-38.19', '-36.98', '-39.36']\n"
     ]
    },
    {
     "name": "stderr",
     "output_type": "stream",
     "text": [
      "  2%|▏         | 819/50000 [01:50<1:29:09,  9.19it/s]"
     ]
    },
    {
     "name": "stdout",
     "output_type": "stream",
     "text": [
      "Episode 820/50000\n",
      "Fitnesses: ['-48.26', '-22.00', '-22.41', '-27.89']\n",
      "100 fitness avgs: ['-37.26', '-36.61', '-36.62', '-36.76']\n"
     ]
    },
    {
     "name": "stderr",
     "output_type": "stream",
     "text": [
      "  2%|▏         | 840/50000 [01:54<2:44:41,  4.98it/s]"
     ]
    },
    {
     "name": "stdout",
     "output_type": "stream",
     "text": [
      "Episode 840/50000\n",
      "Fitnesses: ['-38.66', '-83.58', '-28.81', '-34.65']\n",
      "100 fitness avgs: ['-36.66', '-37.87', '-36.57', '-36.57']\n"
     ]
    },
    {
     "name": "stderr",
     "output_type": "stream",
     "text": [
      "  2%|▏         | 860/50000 [01:57<2:43:17,  5.02it/s]"
     ]
    },
    {
     "name": "stdout",
     "output_type": "stream",
     "text": [
      "Episode 860/50000\n",
      "Fitnesses: ['-36.77', '-33.99', '-22.26', '-28.89']\n",
      "100 fitness avgs: ['-36.57', '-36.51', '-36.33', '-36.39']\n"
     ]
    },
    {
     "name": "stderr",
     "output_type": "stream",
     "text": [
      "  2%|▏         | 880/50000 [01:59<2:02:48,  6.67it/s]"
     ]
    },
    {
     "name": "stdout",
     "output_type": "stream",
     "text": [
      "Episode 880/50000\n",
      "Fitnesses: ['-23.82', '-18.26', '-11.11', '-49.80']\n",
      "100 fitness avgs: ['-36.04', '-35.92', '-35.76', '-36.69']\n"
     ]
    },
    {
     "name": "stderr",
     "output_type": "stream",
     "text": [
      "  2%|▏         | 899/50000 [02:01<1:35:57,  8.53it/s]"
     ]
    },
    {
     "name": "stdout",
     "output_type": "stream",
     "text": [
      "Episode 900/50000\n",
      "Fitnesses: ['-35.53', '-30.73', '-104.98', '-16.02']\n",
      "100 fitness avgs: ['-35.75', '-35.64', '-37.45', '-35.32']\n"
     ]
    },
    {
     "name": "stderr",
     "output_type": "stream",
     "text": [
      "  2%|▏         | 920/50000 [02:05<2:24:44,  5.65it/s]"
     ]
    },
    {
     "name": "stdout",
     "output_type": "stream",
     "text": [
      "Episode 920/50000\n",
      "Fitnesses: ['-10.17', '-13.56', '-51.83', '-26.22']\n",
      "100 fitness avgs: ['-34.77', '-34.84', '-35.68', '-35.12']\n"
     ]
    },
    {
     "name": "stderr",
     "output_type": "stream",
     "text": [
      "  2%|▏         | 940/50000 [02:07<2:22:49,  5.72it/s]"
     ]
    },
    {
     "name": "stdout",
     "output_type": "stream",
     "text": [
      "Episode 940/50000\n",
      "Fitnesses: ['-15.38', '-36.08', '-44.57', '-49.24']\n",
      "100 fitness avgs: ['-34.36', '-35.14', '-35.32', '-35.42']\n"
     ]
    },
    {
     "name": "stderr",
     "output_type": "stream",
     "text": [
      "  2%|▏         | 959/50000 [02:10<1:37:53,  8.35it/s]"
     ]
    },
    {
     "name": "stdout",
     "output_type": "stream",
     "text": [
      "Episode 960/50000\n",
      "Fitnesses: ['-7.58', '-31.56', '-52.96', '-46.13']\n",
      "100 fitness avgs: ['-33.80', '-35.24', '-35.69', '-35.55']\n"
     ]
    },
    {
     "name": "stderr",
     "output_type": "stream",
     "text": [
      "  2%|▏         | 980/50000 [02:13<2:19:00,  5.88it/s]"
     ]
    },
    {
     "name": "stdout",
     "output_type": "stream",
     "text": [
      "Episode 980/50000\n",
      "Fitnesses: ['-60.47', '-98.39', '-118.08', '-8.17']\n",
      "100 fitness avgs: ['-34.34', '-36.83', '-35.52', '-33.28']\n"
     ]
    },
    {
     "name": "stderr",
     "output_type": "stream",
     "text": [
      "  2%|▏         | 1000/50000 [02:16<2:13:38,  6.11it/s]"
     ]
    },
    {
     "name": "stdout",
     "output_type": "stream",
     "text": [
      "Episode 1000/50000\n",
      "Fitnesses: ['-58.12', '-10.57', '-37.23', '-42.01']\n",
      "100 fitness avgs: ['-33.77', '-32.82', '-33.36', '-35.65']\n"
     ]
    },
    {
     "name": "stderr",
     "output_type": "stream",
     "text": [
      "  2%|▏         | 1019/50000 [02:18<1:42:25,  7.97it/s]"
     ]
    },
    {
     "name": "stdout",
     "output_type": "stream",
     "text": [
      "Episode 1020/50000\n",
      "Fitnesses: ['-34.57', '-22.10', '-28.53', '-62.54']\n",
      "100 fitness avgs: ['-32.86', '-33.14', '-32.74', '-33.41']\n"
     ]
    },
    {
     "name": "stderr",
     "output_type": "stream",
     "text": [
      "  2%|▏         | 1039/50000 [02:21<1:44:58,  7.77it/s]"
     ]
    },
    {
     "name": "stdout",
     "output_type": "stream",
     "text": [
      "Episode 1040/50000\n",
      "Fitnesses: ['-30.44', '-11.48', '-42.23', '-37.50']\n",
      "100 fitness avgs: ['-33.08', '-32.72', '-32.92', '-32.83']\n"
     ]
    },
    {
     "name": "stderr",
     "output_type": "stream",
     "text": [
      "  2%|▏         | 1060/50000 [02:24<2:24:30,  5.64it/s]"
     ]
    },
    {
     "name": "stdout",
     "output_type": "stream",
     "text": [
      "Episode 1060/50000\n",
      "Fitnesses: ['-45.92', '-33.58', '-11.53', '-38.62']\n",
      "100 fitness avgs: ['-32.97', '-33.09', '-32.43', '-32.83']\n"
     ]
    },
    {
     "name": "stderr",
     "output_type": "stream",
     "text": [
      "  2%|▏         | 1079/50000 [02:27<1:54:41,  7.11it/s]"
     ]
    },
    {
     "name": "stdout",
     "output_type": "stream",
     "text": [
      "Episode 1080/50000\n",
      "Fitnesses: ['-18.32', '-15.90', '-89.53', '-1.35']\n",
      "100 fitness avgs: ['-32.17', '-32.12', '-33.88', '-31.85']\n"
     ]
    },
    {
     "name": "stderr",
     "output_type": "stream",
     "text": [
      "  2%|▏         | 1099/50000 [02:30<1:49:12,  7.46it/s]"
     ]
    },
    {
     "name": "stdout",
     "output_type": "stream",
     "text": [
      "Episode 1100/50000\n",
      "Fitnesses: ['-8.65', '-5.92', '-5.30', '-119.14']\n",
      "100 fitness avgs: ['-31.43', '-31.65', '-33.36', '-33.70']\n"
     ]
    },
    {
     "name": "stderr",
     "output_type": "stream",
     "text": [
      "  2%|▏         | 1120/50000 [02:34<2:42:10,  5.02it/s]"
     ]
    },
    {
     "name": "stdout",
     "output_type": "stream",
     "text": [
      "Episode 1120/50000\n",
      "Fitnesses: ['-10.95', '-22.91', '-22.29', '-33.03']\n",
      "100 fitness avgs: ['-32.96', '-31.49', '-33.16', '-33.35']\n"
     ]
    },
    {
     "name": "stderr",
     "output_type": "stream",
     "text": [
      "  2%|▏         | 1139/50000 [02:37<2:38:04,  5.15it/s]"
     ]
    },
    {
     "name": "stdout",
     "output_type": "stream",
     "text": [
      "Episode 1140/50000\n",
      "Fitnesses: ['-7.43', '-26.96', '-11.39', '-6.16']\n",
      "100 fitness avgs: ['-32.51', '-32.85', '-32.58', '-32.49']\n"
     ]
    },
    {
     "name": "stderr",
     "output_type": "stream",
     "text": [
      "  2%|▏         | 1159/50000 [02:41<2:14:08,  6.07it/s]"
     ]
    },
    {
     "name": "stdout",
     "output_type": "stream",
     "text": [
      "Episode 1160/50000\n",
      "Fitnesses: ['-16.37', '-16.99', '-9.78', '-20.44']\n",
      "100 fitness avgs: ['-32.21', '-32.24', '-32.12', '-32.28']\n"
     ]
    },
    {
     "name": "stderr",
     "output_type": "stream",
     "text": [
      "  2%|▏         | 1180/50000 [02:44<2:48:12,  4.84it/s]"
     ]
    },
    {
     "name": "stdout",
     "output_type": "stream",
     "text": [
      "Episode 1180/50000\n",
      "Fitnesses: ['-18.70', '-30.61', '-19.19', '-28.18']\n",
      "100 fitness avgs: ['-31.89', '-32.09', '-31.90', '-32.14']\n"
     ]
    },
    {
     "name": "stderr",
     "output_type": "stream",
     "text": [
      "  2%|▏         | 1200/50000 [02:47<2:08:30,  6.33it/s]"
     ]
    },
    {
     "name": "stdout",
     "output_type": "stream",
     "text": [
      "Episode 1200/50000\n",
      "Fitnesses: ['-66.05', '-15.19', '-27.27', '-29.05']\n",
      "100 fitness avgs: ['-32.46', '-31.61', '-31.82', '-31.85']\n"
     ]
    },
    {
     "name": "stderr",
     "output_type": "stream",
     "text": [
      "  2%|▏         | 1220/50000 [02:49<1:55:30,  7.04it/s]"
     ]
    },
    {
     "name": "stdout",
     "output_type": "stream",
     "text": [
      "Episode 1220/50000\n",
      "Fitnesses: ['-19.47', '-46.03', '-81.90', '-92.07']\n",
      "100 fitness avgs: ['-31.42', '-32.68', '-32.64', '-32.80']\n"
     ]
    },
    {
     "name": "stderr",
     "output_type": "stream",
     "text": [
      "  2%|▏         | 1240/50000 [02:52<2:33:14,  5.30it/s]"
     ]
    },
    {
     "name": "stdout",
     "output_type": "stream",
     "text": [
      "Episode 1240/50000\n",
      "Fitnesses: ['-72.86', '-31.29', '-36.36', '-7.67']\n",
      "100 fitness avgs: ['-32.08', '-32.62', '-32.70', '-31.03']\n"
     ]
    },
    {
     "name": "stderr",
     "output_type": "stream",
     "text": [
      "  3%|▎         | 1260/50000 [02:56<2:40:03,  5.08it/s]"
     ]
    },
    {
     "name": "stdout",
     "output_type": "stream",
     "text": [
      "Episode 1260/50000\n",
      "Fitnesses: ['-15.22', '-15.26', '-144.48', '-20.97']\n",
      "100 fitness avgs: ['-30.78', '-30.78', '-32.83', '-32.43']\n"
     ]
    },
    {
     "name": "stderr",
     "output_type": "stream",
     "text": [
      "  3%|▎         | 1279/50000 [02:58<1:52:58,  7.19it/s]"
     ]
    },
    {
     "name": "stdout",
     "output_type": "stream",
     "text": [
      "Episode 1280/50000\n",
      "Fitnesses: ['-29.64', '-43.41', '-64.69', '-1185.21']\n",
      "100 fitness avgs: ['-30.76', '-30.98', '-31.31', '-48.82']\n"
     ]
    },
    {
     "name": "stderr",
     "output_type": "stream",
     "text": [
      "  3%|▎         | 1299/50000 [03:01<1:38:46,  8.22it/s]"
     ]
    },
    {
     "name": "stdout",
     "output_type": "stream",
     "text": [
      "Episode 1300/50000\n",
      "Fitnesses: ['-48.44', '-21.79', '-17.18', '-10.92']\n",
      "100 fitness avgs: ['-31.04', '-31.17', '-31.09', '-30.67']\n"
     ]
    },
    {
     "name": "stderr",
     "output_type": "stream",
     "text": [
      "  3%|▎         | 1320/50000 [03:04<2:25:20,  5.58it/s]"
     ]
    },
    {
     "name": "stdout",
     "output_type": "stream",
     "text": [
      "Episode 1320/50000\n",
      "Fitnesses: ['-18.96', '-9.35', '-67.45', '-25.83']\n",
      "100 fitness avgs: ['-30.49', '-30.83', '-31.65', '-31.08']\n"
     ]
    },
    {
     "name": "stderr",
     "output_type": "stream",
     "text": [
      "  3%|▎         | 1340/50000 [03:07<1:57:02,  6.93it/s]"
     ]
    },
    {
     "name": "stdout",
     "output_type": "stream",
     "text": [
      "Episode 1340/50000\n",
      "Fitnesses: ['-6.52', '-53.97', '-22.34', '-53.15']\n",
      "100 fitness avgs: ['-30.47', '-31.18', '-30.71', '-31.41']\n"
     ]
    },
    {
     "name": "stderr",
     "output_type": "stream",
     "text": [
      "  3%|▎         | 1360/50000 [03:10<2:32:28,  5.32it/s]"
     ]
    },
    {
     "name": "stdout",
     "output_type": "stream",
     "text": [
      "Episode 1360/50000\n",
      "Fitnesses: ['-5.44', '-28.14', '-49.59', '-67.10']\n",
      "100 fitness avgs: ['-30.10', '-30.67', '-31.68', '-31.01']\n"
     ]
    },
    {
     "name": "stderr",
     "output_type": "stream",
     "text": [
      "  3%|▎         | 1379/50000 [03:13<2:03:03,  6.59it/s]"
     ]
    },
    {
     "name": "stdout",
     "output_type": "stream",
     "text": [
      "Episode 1380/50000\n",
      "Fitnesses: ['-27.61', '-57.07', '-13.90', '-93.40']\n",
      "100 fitness avgs: ['-30.07', '-31.05', '-30.43', '-32.58']\n"
     ]
    },
    {
     "name": "stderr",
     "output_type": "stream",
     "text": [
      "  3%|▎         | 1400/50000 [03:16<2:23:01,  5.66it/s]"
     ]
    },
    {
     "name": "stdout",
     "output_type": "stream",
     "text": [
      "Episode 1400/50000\n",
      "Fitnesses: ['-76.31', '-20.60', '-14.27', '-3.92']\n",
      "100 fitness avgs: ['-31.08', '-30.90', '-30.20', '-29.69']\n"
     ]
    },
    {
     "name": "stderr",
     "output_type": "stream",
     "text": [
      "  3%|▎         | 1420/50000 [03:19<2:23:31,  5.64it/s]"
     ]
    },
    {
     "name": "stdout",
     "output_type": "stream",
     "text": [
      "Episode 1420/50000\n",
      "Fitnesses: ['-326.34', '-13.26', '-9.63', '-3.26']\n",
      "100 fitness avgs: ['-33.87', '-29.96', '-30.60', '-29.82']\n"
     ]
    },
    {
     "name": "stderr",
     "output_type": "stream",
     "text": [
      "  3%|▎         | 1440/50000 [03:21<1:56:30,  6.95it/s]"
     ]
    },
    {
     "name": "stdout",
     "output_type": "stream",
     "text": [
      "Episode 1440/50000\n",
      "Fitnesses: ['-121.91', '-9.49', '-514.99', '-24.42']\n",
      "100 fitness avgs: ['-31.10', '-29.53', '-36.69', '-30.52']\n"
     ]
    },
    {
     "name": "stderr",
     "output_type": "stream",
     "text": [
      "  3%|▎         | 1459/50000 [03:24<1:52:22,  7.20it/s]"
     ]
    },
    {
     "name": "stdout",
     "output_type": "stream",
     "text": [
      "Episode 1460/50000\n",
      "Fitnesses: ['-84.12', '-23.71', '-27.91', '-99.41']\n",
      "100 fitness avgs: ['-30.28', '-29.45', '-30.48', '-30.49']\n"
     ]
    },
    {
     "name": "stderr",
     "output_type": "stream",
     "text": [
      "  3%|▎         | 1480/50000 [03:29<3:28:15,  3.88it/s]"
     ]
    },
    {
     "name": "stdout",
     "output_type": "stream",
     "text": [
      "Episode 1480/50000\n",
      "Fitnesses: ['-49.23', '-40.07', '-73.46', '-112.80']\n",
      "100 fitness avgs: ['-29.72', '-29.60', '-31.06', '-30.58']\n"
     ]
    },
    {
     "name": "stderr",
     "output_type": "stream",
     "text": [
      "  3%|▎         | 1499/50000 [03:33<2:45:23,  4.89it/s]"
     ]
    },
    {
     "name": "stdout",
     "output_type": "stream",
     "text": [
      "Episode 1500/50000\n",
      "Fitnesses: ['-1.30', '-222.96', '-14.57', '-16.49']\n",
      "100 fitness avgs: ['-29.22', '-33.15', '-29.40', '-30.87']\n"
     ]
    },
    {
     "name": "stderr",
     "output_type": "stream",
     "text": [
      "  3%|▎         | 1519/50000 [03:36<2:06:23,  6.39it/s]"
     ]
    },
    {
     "name": "stdout",
     "output_type": "stream",
     "text": [
      "Episode 1520/50000\n",
      "Fitnesses: ['-15.49', '-20.68', '-52.23', '-35.02']\n",
      "100 fitness avgs: ['-29.04', '-30.73', '-31.15', '-29.47']\n"
     ]
    },
    {
     "name": "stderr",
     "output_type": "stream",
     "text": [
      "  3%|▎         | 1540/50000 [03:39<2:40:38,  5.03it/s]"
     ]
    },
    {
     "name": "stdout",
     "output_type": "stream",
     "text": [
      "Episode 1540/50000\n",
      "Fitnesses: ['-40.17', '-73.05', '-31.64', '-14.63']\n",
      "100 fitness avgs: ['-29.18', '-31.28', '-30.75', '-28.85']\n"
     ]
    },
    {
     "name": "stderr",
     "output_type": "stream",
     "text": [
      "  3%|▎         | 1559/50000 [03:43<2:14:24,  6.01it/s]"
     ]
    },
    {
     "name": "stdout",
     "output_type": "stream",
     "text": [
      "Episode 1560/50000\n",
      "Fitnesses: ['-62.17', '-359.31', '-72.22', '-11.94']\n",
      "100 fitness avgs: ['-29.28', '-34.96', '-31.81', '-28.96']\n"
     ]
    },
    {
     "name": "stderr",
     "output_type": "stream",
     "text": [
      "  3%|▎         | 1579/50000 [03:46<2:27:28,  5.47it/s]"
     ]
    },
    {
     "name": "stdout",
     "output_type": "stream",
     "text": [
      "Episode 1580/50000\n",
      "Fitnesses: ['-197.45', '-45.36', '-2.88', '-11.18']\n",
      "100 fitness avgs: ['-31.10', '-31.98', '-28.63', '-28.74']\n"
     ]
    },
    {
     "name": "stderr",
     "output_type": "stream",
     "text": [
      "  3%|▎         | 1599/50000 [03:50<2:29:33,  5.39it/s]"
     ]
    },
    {
     "name": "stdout",
     "output_type": "stream",
     "text": [
      "Episode 1600/50000\n",
      "Fitnesses: ['-42.72', '-36.09', '-9.24', '-27.61']\n",
      "100 fitness avgs: ['-28.81', '-32.03', '-28.39', '-28.62']\n"
     ]
    },
    {
     "name": "stderr",
     "output_type": "stream",
     "text": [
      "  3%|▎         | 1619/50000 [03:55<3:02:42,  4.41it/s]"
     ]
    },
    {
     "name": "stdout",
     "output_type": "stream",
     "text": [
      "Episode 1620/50000\n",
      "Fitnesses: ['-12.91', '-11.53', '-9.39', '-36.05']\n",
      "100 fitness avgs: ['-28.20', '-28.18', '-28.38', '-28.49']\n"
     ]
    },
    {
     "name": "stderr",
     "output_type": "stream",
     "text": [
      "  3%|▎         | 1640/50000 [03:59<3:21:42,  4.00it/s]"
     ]
    },
    {
     "name": "stdout",
     "output_type": "stream",
     "text": [
      "Episode 1640/50000\n",
      "Fitnesses: ['-50.33', '-18.19', '-6.45', '-97.95']\n",
      "100 fitness avgs: ['-28.65', '-28.26', '-28.12', '-29.05']\n"
     ]
    },
    {
     "name": "stderr",
     "output_type": "stream",
     "text": [
      "  3%|▎         | 1659/50000 [04:03<2:50:15,  4.73it/s]"
     ]
    },
    {
     "name": "stdout",
     "output_type": "stream",
     "text": [
      "Episode 1660/50000\n",
      "Fitnesses: ['-37.46', '-39.94', '-144.19', '-29.85']\n",
      "100 fitness avgs: ['-28.23', '-28.26', '-29.66', '-28.14']\n"
     ]
    },
    {
     "name": "stderr",
     "output_type": "stream",
     "text": [
      "  3%|▎         | 1679/50000 [04:08<2:43:21,  4.93it/s]"
     ]
    },
    {
     "name": "stdout",
     "output_type": "stream",
     "text": [
      "Episode 1680/50000\n",
      "Fitnesses: ['-75.16', '-75.44', '-107.82', '-18.96']\n",
      "100 fitness avgs: ['-28.70', '-28.82', '-29.18', '-28.15']\n"
     ]
    },
    {
     "name": "stderr",
     "output_type": "stream",
     "text": [
      "  3%|▎         | 1699/50000 [04:12<2:48:27,  4.78it/s]"
     ]
    },
    {
     "name": "stdout",
     "output_type": "stream",
     "text": [
      "Episode 1700/50000\n",
      "Fitnesses: ['-15.98', '-81.26', '-16.96', '-4.53']\n",
      "100 fitness avgs: ['-28.00', '-29.31', '-28.56', '-28.53']\n"
     ]
    },
    {
     "name": "stderr",
     "output_type": "stream",
     "text": [
      "  3%|▎         | 1719/50000 [04:16<2:42:59,  4.94it/s]"
     ]
    },
    {
     "name": "stdout",
     "output_type": "stream",
     "text": [
      "Episode 1720/50000\n",
      "Fitnesses: ['-61.73', '-28.86', '-28.56', '-26.51']\n",
      "100 fitness avgs: ['-28.92', '-28.01', '-28.53', '-28.51']\n"
     ]
    },
    {
     "name": "stderr",
     "output_type": "stream",
     "text": [
      "  3%|▎         | 1739/50000 [04:21<2:54:31,  4.61it/s]"
     ]
    },
    {
     "name": "stdout",
     "output_type": "stream",
     "text": [
      "Episode 1740/50000\n",
      "Fitnesses: ['-582.46', '-5.79', '-43.32', '-100.33']\n",
      "100 fitness avgs: ['-34.88', '-28.25', '-29.09', '-29.36']\n"
     ]
    },
    {
     "name": "stderr",
     "output_type": "stream",
     "text": [
      "  4%|▎         | 1760/50000 [04:26<3:07:04,  4.30it/s]"
     ]
    },
    {
     "name": "stdout",
     "output_type": "stream",
     "text": [
      "Episode 1760/50000\n",
      "Fitnesses: ['-145.32', '-41.66', '-17.86', '-34.50']\n",
      "100 fitness avgs: ['-29.58', '-29.50', '-28.13', '-28.32']\n"
     ]
    },
    {
     "name": "stderr",
     "output_type": "stream",
     "text": [
      "  4%|▎         | 1779/50000 [04:29<2:37:25,  5.11it/s]"
     ]
    },
    {
     "name": "stdout",
     "output_type": "stream",
     "text": [
      "Episode 1780/50000\n",
      "Fitnesses: ['-27.32', '-89.18', '-26.49', '-82.43']\n",
      "100 fitness avgs: ['-28.12', '-28.82', '-28.11', '-28.93']\n"
     ]
    },
    {
     "name": "stderr",
     "output_type": "stream",
     "text": [
      "  4%|▎         | 1799/50000 [04:34<2:44:53,  4.87it/s]"
     ]
    },
    {
     "name": "stdout",
     "output_type": "stream",
     "text": [
      "Episode 1800/50000\n",
      "Fitnesses: ['-30.67', '-38.93', '-45.20', '-115.69']\n",
      "100 fitness avgs: ['-28.14', '-28.24', '-28.31', '-29.89']\n"
     ]
    },
    {
     "name": "stderr",
     "output_type": "stream",
     "text": [
      "  4%|▎         | 1819/50000 [04:38<2:54:20,  4.61it/s]"
     ]
    },
    {
     "name": "stdout",
     "output_type": "stream",
     "text": [
      "Episode 1820/50000\n",
      "Fitnesses: ['-53.73', '-13.68', '-33.73', '-132.14']\n",
      "100 fitness avgs: ['-28.42', '-27.98', '-28.30', '-29.45']\n"
     ]
    },
    {
     "name": "stderr",
     "output_type": "stream",
     "text": [
      "  4%|▎         | 1839/50000 [04:43<3:00:06,  4.46it/s]"
     ]
    },
    {
     "name": "stdout",
     "output_type": "stream",
     "text": [
      "Episode 1840/50000\n",
      "Fitnesses: ['-23.00', '-51.93', '-34.99', '-19.27']\n",
      "100 fitness avgs: ['-27.93', '-28.56', '-28.06', '-27.89']\n"
     ]
    },
    {
     "name": "stderr",
     "output_type": "stream",
     "text": [
      "  4%|▎         | 1860/50000 [04:48<3:32:50,  3.77it/s]"
     ]
    },
    {
     "name": "stdout",
     "output_type": "stream",
     "text": [
      "Episode 1860/50000\n",
      "Fitnesses: ['-10.99', '-8.36', '-117.34', '-32.41']\n",
      "100 fitness avgs: ['-27.71', '-27.72', '-29.02', '-27.94']\n"
     ]
    },
    {
     "name": "stderr",
     "output_type": "stream",
     "text": [
      "  4%|▍         | 1880/50000 [04:52<3:28:03,  3.85it/s]"
     ]
    },
    {
     "name": "stdout",
     "output_type": "stream",
     "text": [
      "Episode 1880/50000\n",
      "Fitnesses: ['-2.67', '-248.10', '-18.76', '-68.99']\n",
      "100 fitness avgs: ['-27.45', '-30.28', '-27.84', '-28.16']\n"
     ]
    },
    {
     "name": "stderr",
     "output_type": "stream",
     "text": [
      "  4%|▍         | 1900/50000 [04:58<3:55:23,  3.41it/s]"
     ]
    },
    {
     "name": "stdout",
     "output_type": "stream",
     "text": [
      "Episode 1900/50000\n",
      "Fitnesses: ['-21.06', '-5.71', '-25.37', '-61.58']\n",
      "100 fitness avgs: ['-27.38', '-27.61', '-30.23', '-28.19']\n"
     ]
    },
    {
     "name": "stderr",
     "output_type": "stream",
     "text": [
      "  4%|▍         | 1919/50000 [05:03<3:31:32,  3.79it/s]"
     ]
    },
    {
     "name": "stdout",
     "output_type": "stream",
     "text": [
      "Episode 1920/50000\n",
      "Fitnesses: ['-7.80', '-8.08', '-18.21', '-101.75']\n",
      "100 fitness avgs: ['-27.40', '-27.40', '-27.29', '-30.97']\n"
     ]
    },
    {
     "name": "stderr",
     "output_type": "stream",
     "text": [
      "  4%|▍         | 1939/50000 [05:08<3:37:54,  3.68it/s]"
     ]
    },
    {
     "name": "stdout",
     "output_type": "stream",
     "text": [
      "Episode 1940/50000\n",
      "Fitnesses: ['-66.86', '-32.56', '-69.24', '-16.77']\n",
      "100 fitness avgs: ['-27.81', '-27.45', '-27.83', '-27.29']\n"
     ]
    },
    {
     "name": "stderr",
     "output_type": "stream",
     "text": [
      "  4%|▍         | 1959/50000 [05:13<3:16:42,  4.07it/s]"
     ]
    },
    {
     "name": "stdout",
     "output_type": "stream",
     "text": [
      "Episode 1960/50000\n",
      "Fitnesses: ['-2.00', '-3.61', '-45.39', '-87.65']\n",
      "100 fitness avgs: ['-27.03', '-27.21', '-27.64', '-28.42']\n"
     ]
    },
    {
     "name": "stderr",
     "output_type": "stream",
     "text": [
      "  4%|▍         | 1979/50000 [05:18<2:50:17,  4.70it/s]"
     ]
    },
    {
     "name": "stdout",
     "output_type": "stream",
     "text": [
      "Episode 1980/50000\n",
      "Fitnesses: ['-22.19', '-69.43', '-66.53', '-81.82']\n",
      "100 fitness avgs: ['-26.99', '-27.64', '-27.61', '-27.76']\n"
     ]
    },
    {
     "name": "stderr",
     "output_type": "stream",
     "text": [
      "  4%|▍         | 1999/50000 [05:23<3:17:45,  4.05it/s]"
     ]
    },
    {
     "name": "stdout",
     "output_type": "stream",
     "text": [
      "Episode 2000/50000\n",
      "Fitnesses: ['-93.06', '-28.96', '-16.62', '-102.61']\n",
      "100 fitness avgs: ['-27.65', '-27.01', '-27.65', '-27.74']\n"
     ]
    },
    {
     "name": "stderr",
     "output_type": "stream",
     "text": [
      "  4%|▍         | 2020/50000 [05:28<3:26:26,  3.87it/s]"
     ]
    },
    {
     "name": "stdout",
     "output_type": "stream",
     "text": [
      "Episode 2020/50000\n",
      "Fitnesses: ['-149.18', '-166.13', '-21.59', '-50.76']\n",
      "100 fitness avgs: ['-28.27', '-27.80', '-27.00', '-27.29']\n"
     ]
    },
    {
     "name": "stderr",
     "output_type": "stream",
     "text": [
      "  4%|▍         | 2039/50000 [05:32<2:58:51,  4.47it/s]"
     ]
    },
    {
     "name": "stdout",
     "output_type": "stream",
     "text": [
      "Episode 2040/50000\n",
      "Fitnesses: ['-42.25', '-67.20', '-125.25', '-65.41']\n",
      "100 fitness avgs: ['-26.37', '-26.91', '-28.00', '-26.89']\n"
     ]
    },
    {
     "name": "stderr",
     "output_type": "stream",
     "text": [
      "  4%|▍         | 2059/50000 [05:36<2:40:28,  4.98it/s]"
     ]
    },
    {
     "name": "stdout",
     "output_type": "stream",
     "text": [
      "Episode 2060/50000\n",
      "Fitnesses: ['-76.32', '-26.08', '-44.24', '-27.31']\n",
      "100 fitness avgs: ['-25.32', '-25.36', '-25.54', '-25.35']\n"
     ]
    },
    {
     "name": "stderr",
     "output_type": "stream",
     "text": [
      "  4%|▍         | 2079/50000 [05:41<2:44:06,  4.87it/s]"
     ]
    },
    {
     "name": "stdout",
     "output_type": "stream",
     "text": [
      "Episode 2080/50000\n",
      "Fitnesses: ['-10.18', '-22.73', '-13.39', '-13.52']\n",
      "100 fitness avgs: ['-24.95', '-25.25', '-24.94', '-25.16']\n"
     ]
    },
    {
     "name": "stderr",
     "output_type": "stream",
     "text": [
      "  4%|▍         | 2099/50000 [05:46<3:05:48,  4.30it/s]"
     ]
    },
    {
     "name": "stdout",
     "output_type": "stream",
     "text": [
      "Episode 2100/50000\n",
      "Fitnesses: ['-53.73', '-1.28', '-10.27', '-73.32']\n",
      "100 fitness avgs: ['-25.17', '-24.63', '-24.73', '-25.35']\n"
     ]
    },
    {
     "name": "stderr",
     "output_type": "stream",
     "text": [
      "  4%|▍         | 2119/50000 [05:51<3:36:09,  3.69it/s]"
     ]
    },
    {
     "name": "stdout",
     "output_type": "stream",
     "text": [
      "Episode 2120/50000\n",
      "Fitnesses: ['-9.27', '-51.59', '-95.62', '-27.67']\n",
      "100 fitness avgs: ['-23.98', '-24.40', '-24.84', '-24.16']\n"
     ]
    },
    {
     "name": "stderr",
     "output_type": "stream",
     "text": [
      "  4%|▍         | 2139/50000 [05:57<3:48:08,  3.50it/s]"
     ]
    },
    {
     "name": "stdout",
     "output_type": "stream",
     "text": [
      "Episode 2140/50000\n",
      "Fitnesses: ['-12.39', '-47.31', '-14.71', '-146.40']\n",
      "100 fitness avgs: ['-24.01', '-24.36', '-24.45', '-26.21']\n"
     ]
    },
    {
     "name": "stderr",
     "output_type": "stream",
     "text": [
      "  4%|▍         | 2159/50000 [06:03<3:45:15,  3.54it/s]"
     ]
    },
    {
     "name": "stdout",
     "output_type": "stream",
     "text": [
      "Episode 2160/50000\n",
      "Fitnesses: ['-62.27', '-260.87', '-1.22', '-11.68']\n",
      "100 fitness avgs: ['-24.02', '-28.21', '-23.76', '-23.97']\n"
     ]
    },
    {
     "name": "stderr",
     "output_type": "stream",
     "text": [
      "  4%|▍         | 2179/50000 [06:08<3:41:16,  3.60it/s]"
     ]
    },
    {
     "name": "stdout",
     "output_type": "stream",
     "text": [
      "Episode 2180/50000\n",
      "Fitnesses: ['-28.43', '-13.11', '-47.96', '-20.43']\n",
      "100 fitness avgs: ['-23.96', '-23.81', '-24.36', '-23.88']\n"
     ]
    },
    {
     "name": "stderr",
     "output_type": "stream",
     "text": [
      "  4%|▍         | 2199/50000 [06:14<3:43:54,  3.56it/s]"
     ]
    },
    {
     "name": "stdout",
     "output_type": "stream",
     "text": [
      "Episode 2200/50000\n",
      "Fitnesses: ['-116.70', '-24.96', '-43.31', '-31.09']\n",
      "100 fitness avgs: ['-24.72', '-23.95', '-24.06', '-23.86']\n"
     ]
    },
    {
     "name": "stderr",
     "output_type": "stream",
     "text": [
      "  4%|▍         | 2219/50000 [06:20<3:44:45,  3.54it/s]"
     ]
    },
    {
     "name": "stdout",
     "output_type": "stream",
     "text": [
      "Episode 2220/50000\n",
      "Fitnesses: ['-61.85', '-148.69', '-91.16', '-44.76']\n",
      "100 fitness avgs: ['-23.92', '-24.70', '-24.22', '-23.66']\n"
     ]
    },
    {
     "name": "stderr",
     "output_type": "stream",
     "text": [
      "  4%|▍         | 2239/50000 [06:26<4:16:29,  3.10it/s]"
     ]
    },
    {
     "name": "stdout",
     "output_type": "stream",
     "text": [
      "Episode 2240/50000\n",
      "Fitnesses: ['-22.05', '-3.35', '-6.53', '-26.94']\n",
      "100 fitness avgs: ['-23.71', '-23.52', '-23.55', '-24.02']\n"
     ]
    },
    {
     "name": "stderr",
     "output_type": "stream",
     "text": [
      "  5%|▍         | 2259/50000 [06:32<4:06:19,  3.23it/s]"
     ]
    },
    {
     "name": "stdout",
     "output_type": "stream",
     "text": [
      "Episode 2260/50000\n",
      "Fitnesses: ['-21.23', '-50.08', '-8.98', '-70.41']\n",
      "100 fitness avgs: ['-23.14', '-23.43', '-23.02', '-23.67']\n"
     ]
    },
    {
     "name": "stderr",
     "output_type": "stream",
     "text": [
      "  5%|▍         | 2279/50000 [06:40<5:17:25,  2.51it/s]"
     ]
    },
    {
     "name": "stdout",
     "output_type": "stream",
     "text": [
      "Episode 2280/50000\n",
      "Fitnesses: ['-44.02', '-13.56', '-46.90', '-17.24']\n",
      "100 fitness avgs: ['-23.42', '-23.11', '-23.57', '-23.56']\n"
     ]
    },
    {
     "name": "stderr",
     "output_type": "stream",
     "text": [
      "  5%|▍         | 2299/50000 [06:48<4:50:39,  2.74it/s]"
     ]
    },
    {
     "name": "stdout",
     "output_type": "stream",
     "text": [
      "Episode 2300/50000\n",
      "Fitnesses: ['-2.27', '-96.61', '-54.76', '-40.39']\n",
      "100 fitness avgs: ['-22.84', '-24.23', '-23.81', '-23.67']\n"
     ]
    },
    {
     "name": "stderr",
     "output_type": "stream",
     "text": [
      "  5%|▍         | 2319/50000 [06:57<6:20:05,  2.09it/s]"
     ]
    },
    {
     "name": "stdout",
     "output_type": "stream",
     "text": [
      "Episode 2320/50000\n",
      "Fitnesses: ['-8.10', '-28.25', '-17.97', '-13.29']\n",
      "100 fitness avgs: ['-22.86', '-24.04', '-23.79', '-22.92']\n"
     ]
    },
    {
     "name": "stderr",
     "output_type": "stream",
     "text": [
      "  5%|▍         | 2339/50000 [07:08<7:47:31,  1.70it/s]"
     ]
    },
    {
     "name": "stdout",
     "output_type": "stream",
     "text": [
      "Episode 2340/50000\n",
      "Fitnesses: ['-97.16', '-51.49', '-8.08', '-11.06']\n",
      "100 fitness avgs: ['-22.70', '-22.29', '-21.86', '-21.89']\n"
     ]
    },
    {
     "name": "stderr",
     "output_type": "stream",
     "text": [
      "  5%|▍         | 2359/50000 [07:20<7:47:36,  1.70it/s]"
     ]
    },
    {
     "name": "stdout",
     "output_type": "stream",
     "text": [
      "Episode 2360/50000\n",
      "Fitnesses: ['-3.64', '-15.67', '-28.38', '-92.81']\n",
      "100 fitness avgs: ['-21.81', '-21.96', '-22.06', '-22.70']\n"
     ]
    },
    {
     "name": "stderr",
     "output_type": "stream",
     "text": [
      "  5%|▍         | 2379/50000 [07:32<7:49:29,  1.69it/s] "
     ]
    },
    {
     "name": "stdout",
     "output_type": "stream",
     "text": [
      "Episode 2380/50000\n",
      "Fitnesses: ['-24.13', '-31.21', '-8.31', '-69.49']\n",
      "100 fitness avgs: ['-21.87', '-22.09', '-21.71', '-22.32']\n"
     ]
    },
    {
     "name": "stderr",
     "output_type": "stream",
     "text": [
      "  5%|▍         | 2399/50000 [07:43<7:40:46,  1.72it/s]"
     ]
    },
    {
     "name": "stdout",
     "output_type": "stream",
     "text": [
      "Episode 2400/50000\n",
      "Fitnesses: ['-9.07', '-24.40', '-13.48', '-21.47']\n",
      "100 fitness avgs: ['-21.69', '-21.84', '-21.73', '-21.81']\n"
     ]
    },
    {
     "name": "stderr",
     "output_type": "stream",
     "text": [
      "  5%|▍         | 2419/50000 [07:55<7:39:53,  1.72it/s]"
     ]
    },
    {
     "name": "stdout",
     "output_type": "stream",
     "text": [
      "Episode 2420/50000\n",
      "Fitnesses: ['-9.74', '-154.73', '-22.20', '-94.64']\n",
      "100 fitness avgs: ['-21.66', '-23.11', '-21.78', '-22.50']\n"
     ]
    },
    {
     "name": "stderr",
     "output_type": "stream",
     "text": [
      "  5%|▍         | 2439/50000 [08:06<7:35:30,  1.74it/s]"
     ]
    },
    {
     "name": "stdout",
     "output_type": "stream",
     "text": [
      "Episode 2440/50000\n",
      "Fitnesses: ['-37.85', '-36.90', '-27.53', '-28.99']\n",
      "100 fitness avgs: ['-21.89', '-22.73', '-21.79', '-21.80']\n"
     ]
    },
    {
     "name": "stderr",
     "output_type": "stream",
     "text": [
      "  5%|▍         | 2459/50000 [08:18<7:54:43,  1.67it/s]"
     ]
    },
    {
     "name": "stdout",
     "output_type": "stream",
     "text": [
      "Episode 2460/50000\n",
      "Fitnesses: ['-2.22', '-49.90', '-49.79', '-16.83']\n",
      "100 fitness avgs: ['-21.50', '-21.99', '-21.98', '-22.59']\n"
     ]
    },
    {
     "name": "stderr",
     "output_type": "stream",
     "text": [
      "  5%|▍         | 2479/50000 [08:29<7:26:15,  1.77it/s]"
     ]
    },
    {
     "name": "stdout",
     "output_type": "stream",
     "text": [
      "Episode 2480/50000\n",
      "Fitnesses: ['-75.33', '-102.44', '-5.00', '-19.18']\n",
      "100 fitness avgs: ['-22.10', '-22.37', '-21.87', '-22.03']\n"
     ]
    },
    {
     "name": "stderr",
     "output_type": "stream",
     "text": [
      "  5%|▍         | 2499/50000 [08:40<7:26:00,  1.78it/s]"
     ]
    },
    {
     "name": "stdout",
     "output_type": "stream",
     "text": [
      "Episode 2500/50000\n",
      "Fitnesses: ['-8.49', '-36.02', '-42.76', '-19.92']\n",
      "100 fitness avgs: ['-21.94', '-22.21', '-22.28', '-22.21']\n"
     ]
    },
    {
     "name": "stderr",
     "output_type": "stream",
     "text": [
      "  5%|▌         | 2519/50000 [08:51<7:24:06,  1.78it/s]"
     ]
    },
    {
     "name": "stdout",
     "output_type": "stream",
     "text": [
      "Episode 2520/50000\n",
      "Fitnesses: ['-19.86', '-55.65', '-43.31', '-25.22']\n",
      "100 fitness avgs: ['-21.62', '-22.25', '-21.86', '-21.68']\n"
     ]
    },
    {
     "name": "stderr",
     "output_type": "stream",
     "text": [
      "  5%|▌         | 2539/50000 [09:03<7:28:37,  1.76it/s]"
     ]
    },
    {
     "name": "stdout",
     "output_type": "stream",
     "text": [
      "Episode 2540/50000\n",
      "Fitnesses: ['-12.07', '-4.80', '-49.78', '-26.79']\n",
      "100 fitness avgs: ['-21.56', '-21.54', '-21.99', '-21.95']\n"
     ]
    },
    {
     "name": "stderr",
     "output_type": "stream",
     "text": [
      "  5%|▌         | 2559/50000 [09:14<7:34:00,  1.74it/s]"
     ]
    },
    {
     "name": "stdout",
     "output_type": "stream",
     "text": [
      "Episode 2560/50000\n",
      "Fitnesses: ['-27.54', '-64.37', '-60.44', '-47.80']\n",
      "100 fitness avgs: ['-21.81', '-22.17', '-22.13', '-22.01']\n"
     ]
    },
    {
     "name": "stderr",
     "output_type": "stream",
     "text": [
      "  5%|▌         | 2579/50000 [09:25<7:25:45,  1.77it/s]"
     ]
    },
    {
     "name": "stdout",
     "output_type": "stream",
     "text": [
      "Episode 2580/50000\n",
      "Fitnesses: ['-13.67', '-28.57', '-198.69', '-27.64']\n",
      "100 fitness avgs: ['-21.74', '-22.10', '-23.59', '-21.88']\n"
     ]
    },
    {
     "name": "stderr",
     "output_type": "stream",
     "text": [
      "  5%|▌         | 2599/50000 [09:36<7:41:37,  1.71it/s]"
     ]
    },
    {
     "name": "stdout",
     "output_type": "stream",
     "text": [
      "Episode 2600/50000\n",
      "Fitnesses: ['-8.53', '-52.98', '-36.00', '-16.47']\n",
      "100 fitness avgs: ['-21.79', '-22.37', '-22.20', '-22.22']\n"
     ]
    },
    {
     "name": "stderr",
     "output_type": "stream",
     "text": [
      "  5%|▌         | 2619/50000 [09:47<7:18:15,  1.80it/s]"
     ]
    },
    {
     "name": "stdout",
     "output_type": "stream",
     "text": [
      "Episode 2620/50000\n",
      "Fitnesses: ['-36.75', '-56.85', '-44.46', '-79.19']\n",
      "100 fitness avgs: ['-20.30', '-20.93', '-20.81', '-21.16']\n"
     ]
    },
    {
     "name": "stderr",
     "output_type": "stream",
     "text": [
      "  5%|▌         | 2639/50000 [10:00<8:30:17,  1.55it/s]"
     ]
    },
    {
     "name": "stdout",
     "output_type": "stream",
     "text": [
      "Episode 2640/50000\n",
      "Fitnesses: ['-767.45', '-9.54', '-29.17', '-53.99']\n",
      "100 fitness avgs: ['-27.83', '-20.25', '-20.95', '-20.69']\n"
     ]
    },
    {
     "name": "stderr",
     "output_type": "stream",
     "text": [
      "  5%|▌         | 2659/50000 [10:11<7:35:22,  1.73it/s]"
     ]
    },
    {
     "name": "stdout",
     "output_type": "stream",
     "text": [
      "Episode 2660/50000\n",
      "Fitnesses: ['-34.14', '-44.67', '-52.02', '-17.27']\n",
      "100 fitness avgs: ['-20.46', '-21.01', '-21.34', '-20.29']\n"
     ]
    },
    {
     "name": "stderr",
     "output_type": "stream",
     "text": [
      "  5%|▌         | 2679/50000 [10:24<8:26:24,  1.56it/s]"
     ]
    },
    {
     "name": "stdout",
     "output_type": "stream",
     "text": [
      "Episode 2680/50000\n",
      "Fitnesses: ['-15.19', '-86.25', '-468.77', '-70.62']\n",
      "100 fitness avgs: ['-20.24', '-20.95', '-24.77', '-20.96']\n"
     ]
    },
    {
     "name": "stderr",
     "output_type": "stream",
     "text": [
      "  5%|▌         | 2699/50000 [10:37<8:27:56,  1.55it/s] "
     ]
    },
    {
     "name": "stdout",
     "output_type": "stream",
     "text": [
      "Episode 2700/50000\n",
      "Fitnesses: ['-53.64', '-646.27', '-36.97', '-36.44']\n",
      "100 fitness avgs: ['-20.72', '-27.36', '-21.28', '-21.27']\n"
     ]
    },
    {
     "name": "stderr",
     "output_type": "stream",
     "text": [
      "  5%|▌         | 2719/50000 [10:50<8:32:26,  1.54it/s]"
     ]
    },
    {
     "name": "stdout",
     "output_type": "stream",
     "text": [
      "Episode 2720/50000\n",
      "Fitnesses: ['-31.48', '-883.16', '-18.78', '-21.25']\n",
      "100 fitness avgs: ['-21.34', '-35.94', '-20.66', '-21.24']\n"
     ]
    },
    {
     "name": "stderr",
     "output_type": "stream",
     "text": [
      "  5%|▌         | 2739/50000 [11:03<8:55:29,  1.47it/s] "
     ]
    },
    {
     "name": "stdout",
     "output_type": "stream",
     "text": [
      "Episode 2740/50000\n",
      "Fitnesses: ['-7.93', '-96.10', '-27.54', '-664.56']\n",
      "100 fitness avgs: ['-20.56', '-21.44', '-21.43', '-42.41']\n"
     ]
    },
    {
     "name": "stderr",
     "output_type": "stream",
     "text": [
      "  6%|▌         | 2759/50000 [11:15<8:03:14,  1.63it/s]"
     ]
    },
    {
     "name": "stdout",
     "output_type": "stream",
     "text": [
      "Episode 2760/50000\n",
      "Fitnesses: ['-60.18', '-0.41', '-36.92', '-9.83']\n",
      "100 fitness avgs: ['-21.05', '-20.45', '-21.69', '-21.42']\n"
     ]
    },
    {
     "name": "stderr",
     "output_type": "stream",
     "text": [
      "  6%|▌         | 2779/50000 [11:26<6:56:25,  1.89it/s]"
     ]
    },
    {
     "name": "stdout",
     "output_type": "stream",
     "text": [
      "Episode 2780/50000\n",
      "Fitnesses: ['-34.37', '-59.56', '-28.23', '-257.36']\n",
      "100 fitness avgs: ['-20.44', '-20.69', '-21.62', '-22.67']\n"
     ]
    },
    {
     "name": "stderr",
     "output_type": "stream",
     "text": [
      "  6%|▌         | 2799/50000 [11:36<7:31:47,  1.74it/s]"
     ]
    },
    {
     "name": "stdout",
     "output_type": "stream",
     "text": [
      "Episode 2800/50000\n",
      "Fitnesses: ['-182.40', '-4.56', '-35.42', '-10.18']\n",
      "100 fitness avgs: ['-23.32', '-20.37', '-20.67', '-20.67']\n"
     ]
    },
    {
     "name": "stderr",
     "output_type": "stream",
     "text": [
      "  6%|▌         | 2819/50000 [11:47<7:09:53,  1.83it/s]"
     ]
    },
    {
     "name": "stdout",
     "output_type": "stream",
     "text": [
      "Episode 2820/50000\n",
      "Fitnesses: ['-11.52', '-34.15', '-71.10', '-271.81']\n",
      "100 fitness avgs: ['-20.26', '-20.49', '-20.86', '-25.82']\n"
     ]
    },
    {
     "name": "stderr",
     "output_type": "stream",
     "text": [
      "  6%|▌         | 2839/50000 [11:59<7:56:01,  1.65it/s]"
     ]
    },
    {
     "name": "stdout",
     "output_type": "stream",
     "text": [
      "Episode 2840/50000\n",
      "Fitnesses: ['-24.53', '-72.71', '-66.96', '-9.16']\n",
      "100 fitness avgs: ['-20.12', '-20.83', '-20.54', '-20.56']\n"
     ]
    },
    {
     "name": "stderr",
     "output_type": "stream",
     "text": [
      "  6%|▌         | 2859/50000 [12:11<7:57:52,  1.64it/s]"
     ]
    },
    {
     "name": "stdout",
     "output_type": "stream",
     "text": [
      "Episode 2860/50000\n",
      "Fitnesses: ['-18.54', '-20.74', '-30.95', '-74.53']\n",
      "100 fitness avgs: ['-20.53', '-20.53', '-20.63', '-21.09']\n"
     ]
    },
    {
     "name": "stderr",
     "output_type": "stream",
     "text": [
      "  6%|▌         | 2879/50000 [12:22<7:44:07,  1.69it/s]"
     ]
    },
    {
     "name": "stdout",
     "output_type": "stream",
     "text": [
      "Episode 2880/50000\n",
      "Fitnesses: ['-21.47', '-7.15', '-32.36', '-55.94']\n",
      "100 fitness avgs: ['-20.63', '-20.49', '-20.74', '-20.97']\n"
     ]
    },
    {
     "name": "stderr",
     "output_type": "stream",
     "text": [
      "  6%|▌         | 2899/50000 [12:34<7:49:37,  1.67it/s]"
     ]
    },
    {
     "name": "stdout",
     "output_type": "stream",
     "text": [
      "Episode 2900/50000\n",
      "Fitnesses: ['-109.36', '-2.53', '-46.69', '-14.52']\n",
      "100 fitness avgs: ['-21.42', '-20.49', '-20.79', '-20.96']\n"
     ]
    },
    {
     "name": "stderr",
     "output_type": "stream",
     "text": [
      "  6%|▌         | 2919/50000 [12:46<7:29:41,  1.74it/s] "
     ]
    },
    {
     "name": "stdout",
     "output_type": "stream",
     "text": [
      "Episode 2920/50000\n",
      "Fitnesses: ['-60.51', '-49.89', '-5.12', '-178.35']\n",
      "100 fitness avgs: ['-21.00', '-20.89', '-20.44', '-22.64']\n"
     ]
    },
    {
     "name": "stderr",
     "output_type": "stream",
     "text": [
      "  6%|▌         | 2939/50000 [12:57<7:17:51,  1.79it/s]"
     ]
    },
    {
     "name": "stdout",
     "output_type": "stream",
     "text": [
      "Episode 2940/50000\n",
      "Fitnesses: ['-9.24', '-16.83', '-54.73', '-50.42']\n",
      "100 fitness avgs: ['-20.38', '-20.46', '-21.28', '-21.24']\n"
     ]
    },
    {
     "name": "stderr",
     "output_type": "stream",
     "text": [
      "  6%|▌         | 2959/50000 [13:09<7:28:18,  1.75it/s]"
     ]
    },
    {
     "name": "stdout",
     "output_type": "stream",
     "text": [
      "Episode 2960/50000\n",
      "Fitnesses: ['-82.41', '-18.08', '-4.03', '-11.13']\n",
      "100 fitness avgs: ['-21.13', '-20.49', '-20.42', '-20.42']\n"
     ]
    },
    {
     "name": "stderr",
     "output_type": "stream",
     "text": [
      "  6%|▌         | 2979/50000 [13:20<7:29:03,  1.75it/s]"
     ]
    },
    {
     "name": "stdout",
     "output_type": "stream",
     "text": [
      "Episode 2980/50000\n",
      "Fitnesses: ['-228.49', '-61.19', '-134.77', '-15.02']\n",
      "100 fitness avgs: ['-22.63', '-20.95', '-21.69', '-20.49']\n"
     ]
    },
    {
     "name": "stderr",
     "output_type": "stream",
     "text": [
      "  6%|▌         | 2999/50000 [13:31<7:23:25,  1.77it/s]"
     ]
    },
    {
     "name": "stdout",
     "output_type": "stream",
     "text": [
      "Episode 3000/50000\n",
      "Fitnesses: ['-31.03', '-20.97', '-7.61', '-44.31']\n",
      "100 fitness avgs: ['-20.43', '-20.33', '-20.19', '-20.56']\n"
     ]
    },
    {
     "name": "stderr",
     "output_type": "stream",
     "text": [
      "  6%|▌         | 3019/50000 [13:44<8:40:54,  1.50it/s]"
     ]
    },
    {
     "name": "stdout",
     "output_type": "stream",
     "text": [
      "Episode 3020/50000\n",
      "Fitnesses: ['-124.06', '-32.30', '-23.73', '-4.80']\n",
      "100 fitness avgs: ['-21.21', '-20.53', '-20.34', '-20.02']\n"
     ]
    },
    {
     "name": "stderr",
     "output_type": "stream",
     "text": [
      "  6%|▌         | 3039/50000 [13:56<7:39:43,  1.70it/s] "
     ]
    },
    {
     "name": "stdout",
     "output_type": "stream",
     "text": [
      "Episode 3040/50000\n",
      "Fitnesses: ['-47.88', '-57.41', '-65.48', '-107.63']\n",
      "100 fitness avgs: ['-20.39', '-20.48', '-21.07', '-21.49']\n"
     ]
    },
    {
     "name": "stderr",
     "output_type": "stream",
     "text": [
      "  6%|▌         | 3059/50000 [14:09<7:53:59,  1.65it/s] "
     ]
    },
    {
     "name": "stdout",
     "output_type": "stream",
     "text": [
      "Episode 3060/50000\n",
      "Fitnesses: ['-27.07', '-12.34', '-26.74', '-13.14']\n",
      "100 fitness avgs: ['-20.27', '-20.12', '-20.27', '-20.13']\n"
     ]
    },
    {
     "name": "stderr",
     "output_type": "stream",
     "text": [
      "  6%|▌         | 3079/50000 [14:21<7:46:12,  1.68it/s] "
     ]
    },
    {
     "name": "stdout",
     "output_type": "stream",
     "text": [
      "Episode 3080/50000\n",
      "Fitnesses: ['-109.78', '-4.41', '-194.48', '-107.39']\n",
      "100 fitness avgs: ['-20.33', '-19.42', '-21.17', '-20.30']\n"
     ]
    },
    {
     "name": "stderr",
     "output_type": "stream",
     "text": [
      "  6%|▌         | 3099/50000 [14:33<7:42:35,  1.69it/s]"
     ]
    },
    {
     "name": "stdout",
     "output_type": "stream",
     "text": [
      "Episode 3100/50000\n",
      "Fitnesses: ['-29.40', '-96.65', '-26.21', '-6.76']\n",
      "100 fitness avgs: ['-19.66', '-21.24', '-21.38', '-20.32']\n"
     ]
    },
    {
     "name": "stderr",
     "output_type": "stream",
     "text": [
      "  6%|▌         | 3119/50000 [14:45<7:53:00,  1.65it/s]"
     ]
    },
    {
     "name": "stdout",
     "output_type": "stream",
     "text": [
      "Episode 3120/50000\n",
      "Fitnesses: ['-18.98', '-117.95', '-169.52', '-38.58']\n",
      "100 fitness avgs: ['-20.40', '-21.39', '-21.90', '-20.59']\n"
     ]
    },
    {
     "name": "stderr",
     "output_type": "stream",
     "text": [
      "  6%|▋         | 3139/50000 [14:57<8:06:31,  1.61it/s] "
     ]
    },
    {
     "name": "stdout",
     "output_type": "stream",
     "text": [
      "Episode 3140/50000\n",
      "Fitnesses: ['-16.82', '-89.58', '-75.05', '-93.48']\n",
      "100 fitness avgs: ['-20.49', '-22.72', '-21.27', '-21.26']\n"
     ]
    },
    {
     "name": "stderr",
     "output_type": "stream",
     "text": [
      "  6%|▋         | 3159/50000 [15:09<7:39:24,  1.70it/s]"
     ]
    },
    {
     "name": "stdout",
     "output_type": "stream",
     "text": [
      "Episode 3160/50000\n",
      "Fitnesses: ['-59.06', '-50.44', '-31.41', '-31.08']\n",
      "100 fitness avgs: ['-20.98', '-20.90', '-22.94', '-21.47']\n"
     ]
    },
    {
     "name": "stderr",
     "output_type": "stream",
     "text": [
      "  6%|▋         | 3179/50000 [15:20<7:41:21,  1.69it/s]"
     ]
    },
    {
     "name": "stdout",
     "output_type": "stream",
     "text": [
      "Episode 3180/50000\n",
      "Fitnesses: ['-28.04', '-11.30', '-4.14', '-15.86']\n",
      "100 fitness avgs: ['-21.56', '-20.91', '-20.75', '-22.91']\n"
     ]
    },
    {
     "name": "stderr",
     "output_type": "stream",
     "text": [
      "  6%|▋         | 3199/50000 [15:32<7:53:19,  1.65it/s]"
     ]
    },
    {
     "name": "stdout",
     "output_type": "stream",
     "text": [
      "Episode 3200/50000\n",
      "Fitnesses: ['-66.81', '-69.14', '-62.43', '-68.03']\n",
      "100 fitness avgs: ['-21.27', '-21.29', '-21.22', '-21.28']\n"
     ]
    },
    {
     "name": "stderr",
     "output_type": "stream",
     "text": [
      "  6%|▋         | 3219/50000 [15:44<7:41:11,  1.69it/s]"
     ]
    },
    {
     "name": "stdout",
     "output_type": "stream",
     "text": [
      "Episode 3220/50000\n",
      "Fitnesses: ['-19.82', '-5.20', '-24.98', '-29.91']\n",
      "100 fitness avgs: ['-21.23', '-21.12', '-21.33', '-21.33']\n"
     ]
    },
    {
     "name": "stderr",
     "output_type": "stream",
     "text": [
      "  6%|▋         | 3239/50000 [15:56<7:50:54,  1.65it/s]"
     ]
    },
    {
     "name": "stdout",
     "output_type": "stream",
     "text": [
      "Episode 3240/50000\n",
      "Fitnesses: ['-53.24', '-52.45', '-75.56', '-40.01']\n",
      "100 fitness avgs: ['-21.58', '-21.57', '-21.91', '-21.55']\n"
     ]
    },
    {
     "name": "stderr",
     "output_type": "stream",
     "text": [
      "  7%|▋         | 3259/50000 [16:08<7:51:11,  1.65it/s]"
     ]
    },
    {
     "name": "stdout",
     "output_type": "stream",
     "text": [
      "Episode 3260/50000\n",
      "Fitnesses: ['-80.98', '-16.32', '-20.43', '-83.99']\n",
      "100 fitness avgs: ['-22.21', '-21.92', '-21.60', '-22.26']\n"
     ]
    },
    {
     "name": "stderr",
     "output_type": "stream",
     "text": [
      "  7%|▋         | 3279/50000 [16:21<8:06:38,  1.60it/s]"
     ]
    },
    {
     "name": "stdout",
     "output_type": "stream",
     "text": [
      "Episode 3280/50000\n",
      "Fitnesses: ['-13.40', '-31.66', '-89.15', '-135.09']\n",
      "100 fitness avgs: ['-21.40', '-21.27', '-22.16', '-22.91']\n"
     ]
    },
    {
     "name": "stderr",
     "output_type": "stream",
     "text": [
      "  7%|▋         | 3299/50000 [16:34<8:36:15,  1.51it/s]"
     ]
    },
    {
     "name": "stdout",
     "output_type": "stream",
     "text": [
      "Episode 3300/50000\n",
      "Fitnesses: ['-3.06', '-10.59', '-19.03', '-210.59']\n",
      "100 fitness avgs: ['-21.22', '-21.29', '-21.24', '-24.05']\n"
     ]
    },
    {
     "name": "stderr",
     "output_type": "stream",
     "text": [
      "  7%|▋         | 3319/50000 [16:46<8:15:05,  1.57it/s]"
     ]
    },
    {
     "name": "stdout",
     "output_type": "stream",
     "text": [
      "Episode 3320/50000\n",
      "Fitnesses: ['-255.23', '-47.03', '-33.52', '-25.09']\n",
      "100 fitness avgs: ['-23.68', '-21.62', '-21.46', '-21.45']\n"
     ]
    },
    {
     "name": "stderr",
     "output_type": "stream",
     "text": [
      "  7%|▋         | 3339/50000 [17:03<11:38:20,  1.11it/s]"
     ]
    },
    {
     "name": "stdout",
     "output_type": "stream",
     "text": [
      "Episode 3340/50000\n",
      "Fitnesses: ['-86.04', '-8.89', '-22.54', '-23.61']\n",
      "100 fitness avgs: ['-22.09', '-21.31', '-21.46', '-21.46']\n"
     ]
    },
    {
     "name": "stderr",
     "output_type": "stream",
     "text": [
      "  7%|▋         | 3359/50000 [17:21<11:28:38,  1.13it/s]"
     ]
    },
    {
     "name": "stdout",
     "output_type": "stream",
     "text": [
      "Episode 3360/50000\n",
      "Fitnesses: ['-128.27', '-212.51', '-296.77', '-85.99']\n",
      "100 fitness avgs: ['-22.32', '-23.16', '-24.00', '-22.04']\n"
     ]
    },
    {
     "name": "stderr",
     "output_type": "stream",
     "text": [
      "  7%|▋         | 3379/50000 [17:35<9:26:27,  1.37it/s] "
     ]
    },
    {
     "name": "stdout",
     "output_type": "stream",
     "text": [
      "Episode 3380/50000\n",
      "Fitnesses: ['-45.85', '-23.01', '-29.87', '-14.41']\n",
      "100 fitness avgs: ['-22.36', '-22.13', '-22.48', '-22.04']\n"
     ]
    },
    {
     "name": "stderr",
     "output_type": "stream",
     "text": [
      "  7%|▋         | 3399/50000 [17:52<10:49:56,  1.20it/s]"
     ]
    },
    {
     "name": "stdout",
     "output_type": "stream",
     "text": [
      "Episode 3400/50000\n",
      "Fitnesses: ['-104.78', '-33.70', '-130.94', '-34.84']\n",
      "100 fitness avgs: ['-22.95', '-22.67', '-23.21', '-22.25']\n"
     ]
    },
    {
     "name": "stderr",
     "output_type": "stream",
     "text": [
      "  7%|▋         | 3419/50000 [18:10<12:03:02,  1.07it/s]"
     ]
    },
    {
     "name": "stdout",
     "output_type": "stream",
     "text": [
      "Episode 3420/50000\n",
      "Fitnesses: ['-16.50', '-94.99', '-33.14', '-24.16']\n",
      "100 fitness avgs: ['-22.80', '-23.59', '-22.97', '-22.46']\n"
     ]
    },
    {
     "name": "stderr",
     "output_type": "stream",
     "text": [
      "  7%|▋         | 3439/50000 [18:31<13:10:50,  1.02s/it]"
     ]
    },
    {
     "name": "stdout",
     "output_type": "stream",
     "text": [
      "Episode 3440/50000\n",
      "Fitnesses: ['-39.48', '-60.37', '-77.41', '-17.18']\n",
      "100 fitness avgs: ['-23.10', '-23.31', '-23.48', '-23.05']\n"
     ]
    },
    {
     "name": "stderr",
     "output_type": "stream",
     "text": [
      "  7%|▋         | 3459/50000 [18:50<12:29:17,  1.04it/s]"
     ]
    },
    {
     "name": "stdout",
     "output_type": "stream",
     "text": [
      "Episode 3460/50000\n",
      "Fitnesses: ['-10.20', '-36.01', '-8.88', '-56.15']\n",
      "100 fitness avgs: ['-22.91', '-23.43', '-22.90', '-23.43']\n"
     ]
    },
    {
     "name": "stderr",
     "output_type": "stream",
     "text": [
      "  7%|▋         | 3479/50000 [19:09<12:39:10,  1.02it/s]"
     ]
    },
    {
     "name": "stdout",
     "output_type": "stream",
     "text": [
      "Episode 3480/50000\n",
      "Fitnesses: ['-54.31', '-19.32', '-77.77', '-26.78']\n",
      "100 fitness avgs: ['-23.04', '-22.69', '-23.29', '-23.30']\n"
     ]
    },
    {
     "name": "stderr",
     "output_type": "stream",
     "text": [
      "  7%|▋         | 3499/50000 [19:27<11:26:55,  1.13it/s]"
     ]
    },
    {
     "name": "stdout",
     "output_type": "stream",
     "text": [
      "Episode 3500/50000\n",
      "Fitnesses: ['-206.65', '-45.28', '-19.12', '-37.17']\n",
      "100 fitness avgs: ['-24.74', '-23.13', '-22.87', '-23.05']\n"
     ]
    },
    {
     "name": "stderr",
     "output_type": "stream",
     "text": [
      "  7%|▋         | 3519/50000 [19:40<7:52:14,  1.64it/s] "
     ]
    },
    {
     "name": "stdout",
     "output_type": "stream",
     "text": [
      "Episode 3520/50000\n",
      "Fitnesses: ['-22.51', '-11.26', '-63.24', '-27.46']\n",
      "100 fitness avgs: ['-22.94', '-22.83', '-23.35', '-22.99']\n"
     ]
    },
    {
     "name": "stderr",
     "output_type": "stream",
     "text": [
      "  7%|▋         | 3539/50000 [19:53<8:20:49,  1.55it/s]"
     ]
    },
    {
     "name": "stdout",
     "output_type": "stream",
     "text": [
      "Episode 3540/50000\n",
      "Fitnesses: ['-16.44', '-42.56', '-6.21', '-48.95']\n",
      "100 fitness avgs: ['-22.59', '-22.85', '-23.01', '-23.03']\n"
     ]
    },
    {
     "name": "stderr",
     "output_type": "stream",
     "text": [
      "  7%|▋         | 3559/50000 [20:05<7:57:31,  1.62it/s]"
     ]
    },
    {
     "name": "stdout",
     "output_type": "stream",
     "text": [
      "Episode 3560/50000\n",
      "Fitnesses: ['-35.62', '-24.55', '-123.99', '-36.59']\n",
      "100 fitness avgs: ['-23.24', '-23.13', '-24.15', '-23.10']\n"
     ]
    },
    {
     "name": "stderr",
     "output_type": "stream",
     "text": [
      "  7%|▋         | 3579/50000 [20:20<10:22:29,  1.24it/s]"
     ]
    },
    {
     "name": "stdout",
     "output_type": "stream",
     "text": [
      "Episode 3580/50000\n",
      "Fitnesses: ['-95.42', '-126.61', '-136.09', '-23.41']\n",
      "100 fitness avgs: ['-24.06', '-24.33', '-24.46', '-23.34']\n"
     ]
    },
    {
     "name": "stderr",
     "output_type": "stream",
     "text": [
      "  7%|▋         | 3599/50000 [20:39<12:26:16,  1.04it/s]"
     ]
    },
    {
     "name": "stdout",
     "output_type": "stream",
     "text": [
      "Episode 3600/50000\n",
      "Fitnesses: ['-28.18', '-103.14', '-245.47', '-471.95']\n",
      "100 fitness avgs: ['-23.34', '-24.09', '-26.51', '-28.78']\n"
     ]
    },
    {
     "name": "stderr",
     "output_type": "stream",
     "text": [
      "  7%|▋         | 3619/50000 [20:55<10:19:19,  1.25it/s]"
     ]
    },
    {
     "name": "stdout",
     "output_type": "stream",
     "text": [
      "Episode 3620/50000\n",
      "Fitnesses: ['-55.81', '-366.48', '-50.64', '-255.80']\n",
      "100 fitness avgs: ['-23.81', '-30.08', '-23.76', '-25.81']\n"
     ]
    },
    {
     "name": "stderr",
     "output_type": "stream",
     "text": [
      "  7%|▋         | 3639/50000 [21:09<9:14:44,  1.39it/s] "
     ]
    },
    {
     "name": "stdout",
     "output_type": "stream",
     "text": [
      "Episode 3640/50000\n",
      "Fitnesses: ['-34.90', '-25.80', '-31.79', '-14.89']\n",
      "100 fitness avgs: ['-24.04', '-23.95', '-26.06', '-23.89']\n"
     ]
    },
    {
     "name": "stderr",
     "output_type": "stream",
     "text": [
      "  7%|▋         | 3659/50000 [21:24<9:44:20,  1.32it/s] "
     ]
    },
    {
     "name": "stdout",
     "output_type": "stream",
     "text": [
      "Episode 3660/50000\n",
      "Fitnesses: ['-16.47', '-154.11', '-120.88', '-27.15']\n",
      "100 fitness avgs: ['-23.66', '-25.03', '-24.85', '-23.76']\n"
     ]
    },
    {
     "name": "stderr",
     "output_type": "stream",
     "text": [
      "  7%|▋         | 3679/50000 [21:37<9:04:49,  1.42it/s] "
     ]
    },
    {
     "name": "stdout",
     "output_type": "stream",
     "text": [
      "Episode 3680/50000\n",
      "Fitnesses: ['-7.63', '-8.11', '-106.39', '-7.47']\n",
      "100 fitness avgs: ['-22.98', '-22.98', '-25.16', '-22.98']\n"
     ]
    },
    {
     "name": "stderr",
     "output_type": "stream",
     "text": [
      "  7%|▋         | 3699/50000 [21:50<8:11:17,  1.57it/s]"
     ]
    },
    {
     "name": "stdout",
     "output_type": "stream",
     "text": [
      "Episode 3700/50000\n",
      "Fitnesses: ['-69.67', '-31.69', '-22.94', '-34.29']\n",
      "100 fitness avgs: ['-23.63', '-23.25', '-23.17', '-23.27']\n"
     ]
    },
    {
     "name": "stderr",
     "output_type": "stream",
     "text": [
      "  7%|▋         | 3719/50000 [22:03<8:08:20,  1.58it/s] "
     ]
    },
    {
     "name": "stdout",
     "output_type": "stream",
     "text": [
      "Episode 3720/50000\n",
      "Fitnesses: ['-71.10', '-59.15', '-172.66', '-7.29']\n",
      "100 fitness avgs: ['-23.61', '-23.49', '-24.71', '-23.06']\n"
     ]
    },
    {
     "name": "stderr",
     "output_type": "stream",
     "text": [
      "  7%|▋         | 3739/50000 [22:16<8:12:26,  1.57it/s] "
     ]
    },
    {
     "name": "stdout",
     "output_type": "stream",
     "text": [
      "Episode 3740/50000\n",
      "Fitnesses: ['-38.77', '-21.55', '-157.12', '-7.92']\n",
      "100 fitness avgs: ['-23.39', '-23.65', '-24.57', '-23.52']\n"
     ]
    },
    {
     "name": "stderr",
     "output_type": "stream",
     "text": [
      "  8%|▊         | 3759/50000 [22:28<8:20:05,  1.54it/s]"
     ]
    },
    {
     "name": "stdout",
     "output_type": "stream",
     "text": [
      "Episode 3760/50000\n",
      "Fitnesses: ['-15.02', '-122.54', '-17.75', '-167.55']\n",
      "100 fitness avgs: ['-23.49', '-24.43', '-23.65', '-25.01']\n"
     ]
    },
    {
     "name": "stderr",
     "output_type": "stream",
     "text": [
      "  8%|▊         | 3779/50000 [22:39<7:08:03,  1.80it/s]"
     ]
    },
    {
     "name": "stdout",
     "output_type": "stream",
     "text": [
      "Episode 3780/50000\n",
      "Fitnesses: ['-60.16', '-136.11', '-51.35', '-11.46']\n",
      "100 fitness avgs: ['-23.82', '-24.75', '-24.68', '-23.34']\n"
     ]
    },
    {
     "name": "stderr",
     "output_type": "stream",
     "text": [
      "  8%|▊         | 3799/50000 [22:53<8:36:33,  1.49it/s] "
     ]
    },
    {
     "name": "stdout",
     "output_type": "stream",
     "text": [
      "Episode 3800/50000\n",
      "Fitnesses: ['-14.51', '-13.05', '-45.40', '-18.09']\n",
      "100 fitness avgs: ['-23.18', '-23.16', '-23.48', '-24.56']\n"
     ]
    },
    {
     "name": "stderr",
     "output_type": "stream",
     "text": [
      "  8%|▊         | 3819/50000 [23:06<8:21:03,  1.54it/s] "
     ]
    },
    {
     "name": "stdout",
     "output_type": "stream",
     "text": [
      "Episode 3820/50000\n",
      "Fitnesses: ['-25.01', '-58.24', '-81.94', '-81.67']\n",
      "100 fitness avgs: ['-23.27', '-23.62', '-23.86', '-23.84']\n"
     ]
    },
    {
     "name": "stderr",
     "output_type": "stream",
     "text": [
      "  8%|▊         | 3839/50000 [23:17<7:10:17,  1.79it/s]"
     ]
    },
    {
     "name": "stdout",
     "output_type": "stream",
     "text": [
      "Episode 3840/50000\n",
      "Fitnesses: ['-10.25', '-33.98', '-650.38', '-62.65']\n",
      "100 fitness avgs: ['-23.18', '-23.99', '-29.59', '-24.05']\n"
     ]
    },
    {
     "name": "stderr",
     "output_type": "stream",
     "text": [
      "  8%|▊         | 3859/50000 [23:30<8:34:06,  1.50it/s]"
     ]
    },
    {
     "name": "stdout",
     "output_type": "stream",
     "text": [
      "Episode 3860/50000\n",
      "Fitnesses: ['-24.89', '-10.37', '-48.83', '-33.63']\n",
      "100 fitness avgs: ['-23.11', '-23.83', '-23.35', '-24.00']\n"
     ]
    },
    {
     "name": "stderr",
     "output_type": "stream",
     "text": [
      "  8%|▊         | 3879/50000 [23:42<8:11:25,  1.56it/s]"
     ]
    },
    {
     "name": "stdout",
     "output_type": "stream",
     "text": [
      "Episode 3880/50000\n",
      "Fitnesses: ['-67.31', '-60.79', '-9.05', '-45.22']\n",
      "100 fitness avgs: ['-24.32', '-23.53', '-23.01', '-24.10']\n"
     ]
    },
    {
     "name": "stderr",
     "output_type": "stream",
     "text": [
      "  8%|▊         | 3899/50000 [23:55<8:23:43,  1.53it/s] "
     ]
    },
    {
     "name": "stdout",
     "output_type": "stream",
     "text": [
      "Episode 3900/50000\n",
      "Fitnesses: ['-21.97', '-14.81', '-45.41', '-32.78']\n",
      "100 fitness avgs: ['-23.17', '-24.19', '-23.93', '-23.80']\n"
     ]
    },
    {
     "name": "stderr",
     "output_type": "stream",
     "text": [
      "  8%|▊         | 3919/50000 [24:09<8:31:47,  1.50it/s] "
     ]
    },
    {
     "name": "stdout",
     "output_type": "stream",
     "text": [
      "Episode 3920/50000\n",
      "Fitnesses: ['-18.92', '-103.93', '-71.59', '-33.51']\n",
      "100 fitness avgs: ['-24.30', '-24.76', '-24.83', '-24.45']\n"
     ]
    },
    {
     "name": "stderr",
     "output_type": "stream",
     "text": [
      "  8%|▊         | 3939/50000 [24:24<9:34:55,  1.34it/s] "
     ]
    },
    {
     "name": "stdout",
     "output_type": "stream",
     "text": [
      "Episode 3940/50000\n",
      "Fitnesses: ['-152.89', '-83.45', '-31.86', '-16.25']\n",
      "100 fitness avgs: ['-25.50', '-24.96', '-24.75', '-24.66']\n"
     ]
    },
    {
     "name": "stderr",
     "output_type": "stream",
     "text": [
      "  8%|▊         | 3959/50000 [24:37<8:15:12,  1.55it/s] "
     ]
    },
    {
     "name": "stdout",
     "output_type": "stream",
     "text": [
      "Episode 3960/50000\n",
      "Fitnesses: ['-73.05', '-29.64', '-52.05', '-33.55']\n",
      "100 fitness avgs: ['-25.36', '-25.01', '-25.99', '-25.05']\n"
     ]
    },
    {
     "name": "stderr",
     "output_type": "stream",
     "text": [
      "  8%|▊         | 3979/50000 [24:51<8:48:13,  1.45it/s] "
     ]
    },
    {
     "name": "stdout",
     "output_type": "stream",
     "text": [
      "Episode 3980/50000\n",
      "Fitnesses: ['-15.67', '-4.72', '-68.11', '-18.65']\n",
      "100 fitness avgs: ['-24.35', '-24.28', '-24.92', '-24.38']\n"
     ]
    },
    {
     "name": "stderr",
     "output_type": "stream",
     "text": [
      "  8%|▊         | 3999/50000 [25:04<8:29:57,  1.50it/s]"
     ]
    },
    {
     "name": "stdout",
     "output_type": "stream",
     "text": [
      "Episode 4000/50000\n",
      "Fitnesses: ['-12.28', '-6.42', '-9.20', '-98.44']\n",
      "100 fitness avgs: ['-24.24', '-24.81', '-24.21', '-25.73']\n"
     ]
    },
    {
     "name": "stderr",
     "output_type": "stream",
     "text": [
      "  8%|▊         | 4019/50000 [25:21<12:00:46,  1.06it/s]"
     ]
    },
    {
     "name": "stdout",
     "output_type": "stream",
     "text": [
      "Episode 4020/50000\n",
      "Fitnesses: ['-232.58', '-37.38', '-18.01', '-91.23']\n",
      "100 fitness avgs: ['-26.92', '-25.89', '-24.78', '-24.90']\n"
     ]
    },
    {
     "name": "stderr",
     "output_type": "stream",
     "text": [
      "  8%|▊         | 4039/50000 [25:35<8:30:47,  1.50it/s] "
     ]
    },
    {
     "name": "stdout",
     "output_type": "stream",
     "text": [
      "Episode 4040/50000\n",
      "Fitnesses: ['-30.54', '-358.92', '-26.73', '-98.86']\n",
      "100 fitness avgs: ['-24.66', '-27.95', '-24.75', '-25.34']\n"
     ]
    },
    {
     "name": "stderr",
     "output_type": "stream",
     "text": [
      "  8%|▊         | 4059/50000 [25:54<12:55:14,  1.01s/it]"
     ]
    },
    {
     "name": "stdout",
     "output_type": "stream",
     "text": [
      "Episode 4060/50000\n",
      "Fitnesses: ['-7.30', '-13.22', '-64.03', '-15.74']\n",
      "100 fitness avgs: ['-24.06', '-24.03', '-24.63', '-24.14']\n"
     ]
    },
    {
     "name": "stderr",
     "output_type": "stream",
     "text": [
      "  8%|▊         | 4079/50000 [26:12<11:46:33,  1.08it/s]"
     ]
    },
    {
     "name": "stdout",
     "output_type": "stream",
     "text": [
      "Episode 4080/50000\n",
      "Fitnesses: ['-118.45', '-18.27', '-43.40', '-23.02']\n",
      "100 fitness avgs: ['-25.11', '-24.11', '-24.44', '-24.13']\n"
     ]
    },
    {
     "name": "stderr",
     "output_type": "stream",
     "text": [
      "  8%|▊         | 4099/50000 [26:31<11:35:21,  1.10it/s]"
     ]
    },
    {
     "name": "stdout",
     "output_type": "stream",
     "text": [
      "Episode 4100/50000\n",
      "Fitnesses: ['-0.85', '-95.05', '-2.94', '-20.46']\n",
      "100 fitness avgs: ['-24.10', '-25.38', '-24.12', '-24.32']\n"
     ]
    },
    {
     "name": "stderr",
     "output_type": "stream",
     "text": [
      "  8%|▊         | 4119/50000 [26:50<12:00:53,  1.06it/s]"
     ]
    },
    {
     "name": "stdout",
     "output_type": "stream",
     "text": [
      "Episode 4120/50000\n",
      "Fitnesses: ['-93.23', '-159.18', '-35.73', '-15.84']\n",
      "100 fitness avgs: ['-24.94', '-25.62', '-24.58', '-24.17']\n"
     ]
    },
    {
     "name": "stderr",
     "output_type": "stream",
     "text": [
      "  8%|▊         | 4139/50000 [27:10<12:48:59,  1.01s/it]"
     ]
    },
    {
     "name": "stdout",
     "output_type": "stream",
     "text": [
      "Episode 4140/50000\n",
      "Fitnesses: ['-42.39', '-43.30', '-7.22', '-6.75']\n",
      "100 fitness avgs: ['-24.12', '-24.13', '-25.22', '-25.22']\n"
     ]
    },
    {
     "name": "stderr",
     "output_type": "stream",
     "text": [
      "  8%|▊         | 4159/50000 [27:30<13:04:56,  1.03s/it]"
     ]
    },
    {
     "name": "stdout",
     "output_type": "stream",
     "text": [
      "Episode 4160/50000\n",
      "Fitnesses: ['-20.25', '-69.97', '-125.69', '-17.95']\n",
      "100 fitness avgs: ['-25.41', '-25.91', '-26.46', '-24.29']\n"
     ]
    },
    {
     "name": "stderr",
     "output_type": "stream",
     "text": [
      "  8%|▊         | 4179/50000 [27:49<12:26:09,  1.02it/s]"
     ]
    },
    {
     "name": "stdout",
     "output_type": "stream",
     "text": [
      "Episode 4180/50000\n",
      "Fitnesses: ['-0.20', '-250.16', '-81.68', '-62.34']\n",
      "100 fitness avgs: ['-24.16', '-28.28', '-24.97', '-26.40']\n"
     ]
    },
    {
     "name": "stderr",
     "output_type": "stream",
     "text": [
      "  8%|▊         | 4199/50000 [28:07<11:43:44,  1.08it/s]"
     ]
    },
    {
     "name": "stdout",
     "output_type": "stream",
     "text": [
      "Episode 4200/50000\n",
      "Fitnesses: ['-3.75', '-73.27', '-137.84', '-96.17']\n",
      "100 fitness avgs: ['-23.88', '-24.58', '-25.23', '-24.81']\n"
     ]
    },
    {
     "name": "stderr",
     "output_type": "stream",
     "text": [
      "  8%|▊         | 4219/50000 [28:26<12:06:35,  1.05it/s]"
     ]
    },
    {
     "name": "stdout",
     "output_type": "stream",
     "text": [
      "Episode 4220/50000\n",
      "Fitnesses: ['-130.72', '-100.73', '-176.83', '-116.90']\n",
      "100 fitness avgs: ['-24.74', '-25.37', '-25.21', '-25.30']\n"
     ]
    },
    {
     "name": "stderr",
     "output_type": "stream",
     "text": [
      "  8%|▊         | 4239/50000 [28:45<11:46:08,  1.08it/s]"
     ]
    },
    {
     "name": "stdout",
     "output_type": "stream",
     "text": [
      "Episode 4240/50000\n",
      "Fitnesses: ['-10.50', '-1.45', '-53.70', '-17.76']\n",
      "100 fitness avgs: ['-25.44', '-25.35', '-25.87', '-25.35']\n"
     ]
    },
    {
     "name": "stderr",
     "output_type": "stream",
     "text": [
      "  9%|▊         | 4259/50000 [29:04<12:14:09,  1.04it/s]"
     ]
    },
    {
     "name": "stdout",
     "output_type": "stream",
     "text": [
      "Episode 4260/50000\n",
      "Fitnesses: ['-101.07', '-25.33', '-77.81', '-28.53']\n",
      "100 fitness avgs: ['-26.27', '-25.51', '-26.04', '-25.64']\n"
     ]
    },
    {
     "name": "stderr",
     "output_type": "stream",
     "text": [
      "  9%|▊         | 4279/50000 [29:21<11:04:47,  1.15it/s]"
     ]
    },
    {
     "name": "stdout",
     "output_type": "stream",
     "text": [
      "Episode 4280/50000\n",
      "Fitnesses: ['-85.64', '-14.53', '-12.92', '-23.49']\n",
      "100 fitness avgs: ['-26.23', '-26.05', '-26.03', '-25.74']\n"
     ]
    },
    {
     "name": "stderr",
     "output_type": "stream",
     "text": [
      "  9%|▊         | 4299/50000 [29:39<11:51:31,  1.07it/s]"
     ]
    },
    {
     "name": "stdout",
     "output_type": "stream",
     "text": [
      "Episode 4300/50000\n",
      "Fitnesses: ['-11.24', '-70.80', '-50.95', '-13.32']\n",
      "100 fitness avgs: ['-26.12', '-26.72', '-26.22', '-26.14']\n"
     ]
    },
    {
     "name": "stderr",
     "output_type": "stream",
     "text": [
      "  9%|▊         | 4319/50000 [29:57<11:57:52,  1.06it/s]"
     ]
    },
    {
     "name": "stdout",
     "output_type": "stream",
     "text": [
      "Episode 4320/50000\n",
      "Fitnesses: ['-18.56', '-3.13', '-12.50', '-49.49']\n",
      "100 fitness avgs: ['-26.17', '-26.12', '-26.11', '-26.50']\n"
     ]
    },
    {
     "name": "stderr",
     "output_type": "stream",
     "text": [
      "  9%|▊         | 4339/50000 [30:13<10:40:38,  1.19it/s]"
     ]
    },
    {
     "name": "stdout",
     "output_type": "stream",
     "text": [
      "Episode 4340/50000\n",
      "Fitnesses: ['-38.11', '-162.29', '-139.19', '-102.97']\n",
      "100 fitness avgs: ['-26.42', '-27.72', '-27.43', '-27.06']\n"
     ]
    },
    {
     "name": "stderr",
     "output_type": "stream",
     "text": [
      "  9%|▊         | 4359/50000 [30:31<11:03:50,  1.15it/s]"
     ]
    },
    {
     "name": "stdout",
     "output_type": "stream",
     "text": [
      "Episode 4360/50000\n",
      "Fitnesses: ['-20.06', '-46.82', '-28.44', '-73.84']\n",
      "100 fitness avgs: ['-26.58', '-27.49', '-27.31', '-27.12']\n"
     ]
    },
    {
     "name": "stderr",
     "output_type": "stream",
     "text": [
      "  9%|▉         | 4379/50000 [30:50<11:53:06,  1.07it/s]"
     ]
    },
    {
     "name": "stdout",
     "output_type": "stream",
     "text": [
      "Episode 4380/50000\n",
      "Fitnesses: ['-47.11', '-87.37', '-82.70', '-7.83']\n",
      "100 fitness avgs: ['-26.97', '-27.38', '-27.33', '-27.49']\n"
     ]
    },
    {
     "name": "stderr",
     "output_type": "stream",
     "text": [
      "  9%|▉         | 4399/50000 [31:09<12:11:23,  1.04it/s]"
     ]
    },
    {
     "name": "stdout",
     "output_type": "stream",
     "text": [
      "Episode 4400/50000\n",
      "Fitnesses: ['-58.97', '-19.21', '-5.84', '-163.53']\n",
      "100 fitness avgs: ['-27.99', '-27.07', '-27.30', '-29.03']\n"
     ]
    },
    {
     "name": "stderr",
     "output_type": "stream",
     "text": [
      "  9%|▉         | 4419/50000 [31:29<13:18:53,  1.05s/it]"
     ]
    },
    {
     "name": "stdout",
     "output_type": "stream",
     "text": [
      "Episode 4420/50000\n",
      "Fitnesses: ['-33.68', '-58.77', '-41.57', '-17.19']\n",
      "100 fitness avgs: ['-27.54', '-27.79', '-28.31', '-27.37']\n"
     ]
    },
    {
     "name": "stderr",
     "output_type": "stream",
     "text": [
      "  9%|▉         | 4439/50000 [31:50<12:56:00,  1.02s/it]"
     ]
    },
    {
     "name": "stdout",
     "output_type": "stream",
     "text": [
      "Episode 4440/50000\n",
      "Fitnesses: ['-24.89', '-55.54', '-139.63', '-8.75']\n",
      "100 fitness avgs: ['-27.34', '-28.59', '-28.49', '-28.12']\n"
     ]
    },
    {
     "name": "stderr",
     "output_type": "stream",
     "text": [
      "  9%|▉         | 4459/50000 [32:11<13:14:31,  1.05s/it]"
     ]
    },
    {
     "name": "stdout",
     "output_type": "stream",
     "text": [
      "Episode 4460/50000\n",
      "Fitnesses: ['-92.61', '-19.12', '-129.41', '-146.88']\n",
      "100 fitness avgs: ['-28.55', '-27.81', '-28.14', '-28.32']\n"
     ]
    },
    {
     "name": "stderr",
     "output_type": "stream",
     "text": [
      "  9%|▉         | 4479/50000 [32:30<12:19:45,  1.03it/s]"
     ]
    },
    {
     "name": "stdout",
     "output_type": "stream",
     "text": [
      "Episode 4480/50000\n",
      "Fitnesses: ['-52.21', '-5.82', '-30.16', '-27.14']\n",
      "100 fitness avgs: ['-28.28', '-28.15', '-28.39', '-28.77']\n"
     ]
    },
    {
     "name": "stderr",
     "output_type": "stream",
     "text": [
      "  9%|▉         | 4499/50000 [32:50<12:59:38,  1.03s/it]"
     ]
    },
    {
     "name": "stdout",
     "output_type": "stream",
     "text": [
      "Episode 4500/50000\n",
      "Fitnesses: ['-76.47', '-12.55', '-139.17', '-59.71']\n",
      "100 fitness avgs: ['-28.83', '-28.43', '-29.59', '-28.66']\n"
     ]
    },
    {
     "name": "stderr",
     "output_type": "stream",
     "text": [
      "  9%|▉         | 4519/50000 [33:10<11:59:49,  1.05it/s]"
     ]
    },
    {
     "name": "stdout",
     "output_type": "stream",
     "text": [
      "Episode 4520/50000\n",
      "Fitnesses: ['-14.73', '-24.29', '-74.69', '-72.88']\n",
      "100 fitness avgs: ['-28.33', '-28.42', '-28.93', '-29.14']\n"
     ]
    },
    {
     "name": "stderr",
     "output_type": "stream",
     "text": [
      "  9%|▉         | 4539/50000 [33:29<12:15:39,  1.03it/s]"
     ]
    },
    {
     "name": "stdout",
     "output_type": "stream",
     "text": [
      "Episode 4540/50000\n",
      "Fitnesses: ['-68.72', '-86.19', '-45.87', '-36.91']\n",
      "100 fitness avgs: ['-28.97', '-29.14', '-28.74', '-28.74']\n"
     ]
    },
    {
     "name": "stderr",
     "output_type": "stream",
     "text": [
      "  9%|▉         | 4559/50000 [33:47<11:55:42,  1.06it/s]"
     ]
    },
    {
     "name": "stdout",
     "output_type": "stream",
     "text": [
      "Episode 4560/50000\n",
      "Fitnesses: ['-29.91', '-0.53', '-114.08', '-61.93']\n",
      "100 fitness avgs: ['-28.77', '-28.47', '-29.61', '-29.08']\n"
     ]
    },
    {
     "name": "stderr",
     "output_type": "stream",
     "text": [
      "  9%|▉         | 4579/50000 [34:07<12:11:30,  1.03it/s]"
     ]
    },
    {
     "name": "stdout",
     "output_type": "stream",
     "text": [
      "Episode 4580/50000\n",
      "Fitnesses: ['-16.97', '-136.56', '-156.59', '-22.03']\n",
      "100 fitness avgs: ['-28.50', '-30.00', '-30.20', '-28.85']\n"
     ]
    },
    {
     "name": "stderr",
     "output_type": "stream",
     "text": [
      "  9%|▉         | 4599/50000 [34:27<12:22:22,  1.02it/s]"
     ]
    },
    {
     "name": "stdout",
     "output_type": "stream",
     "text": [
      "Episode 4600/50000\n",
      "Fitnesses: ['-38.26', '-143.69', '-4.98', '-2.17']\n",
      "100 fitness avgs: ['-28.80', '-31.35', '-29.96', '-28.79']\n"
     ]
    },
    {
     "name": "stderr",
     "output_type": "stream",
     "text": [
      "  9%|▉         | 4619/50000 [34:47<12:49:52,  1.02s/it]"
     ]
    },
    {
     "name": "stdout",
     "output_type": "stream",
     "text": [
      "Episode 4620/50000\n",
      "Fitnesses: ['-25.94', '-8.87', '-5.53', '-70.19']\n",
      "100 fitness avgs: ['-28.68', '-28.51', '-28.48', '-30.30']\n"
     ]
    },
    {
     "name": "stderr",
     "output_type": "stream",
     "text": [
      "  9%|▉         | 4639/50000 [35:06<11:49:38,  1.07it/s]"
     ]
    },
    {
     "name": "stdout",
     "output_type": "stream",
     "text": [
      "Episode 4640/50000\n",
      "Fitnesses: ['-92.49', '-99.34', '-110.54', '-39.85']\n",
      "100 fitness avgs: ['-29.31', '-29.37', '-29.49', '-28.81']\n"
     ]
    },
    {
     "name": "stderr",
     "output_type": "stream",
     "text": [
      "  9%|▉         | 4659/50000 [35:25<11:58:56,  1.05it/s]"
     ]
    },
    {
     "name": "stdout",
     "output_type": "stream",
     "text": [
      "Episode 4660/50000\n",
      "Fitnesses: ['-17.68', '-20.39', '-45.41', '-37.22']\n",
      "100 fitness avgs: ['-28.82', '-29.34', '-29.77', '-29.51']\n"
     ]
    },
    {
     "name": "stderr",
     "output_type": "stream",
     "text": [
      "  9%|▉         | 4679/50000 [35:44<11:55:22,  1.06it/s]"
     ]
    },
    {
     "name": "stdout",
     "output_type": "stream",
     "text": [
      "Episode 4680/50000\n",
      "Fitnesses: ['-119.14', '-87.27', '-123.80', '-18.45']\n",
      "100 fitness avgs: ['-29.86', '-30.23', '-29.90', '-29.54']\n"
     ]
    },
    {
     "name": "stderr",
     "output_type": "stream",
     "text": [
      "  9%|▉         | 4699/50000 [36:03<12:11:42,  1.03it/s]"
     ]
    },
    {
     "name": "stdout",
     "output_type": "stream",
     "text": [
      "Episode 4700/50000\n",
      "Fitnesses: ['-109.15', '-94.18', '-106.81', '-53.38']\n",
      "100 fitness avgs: ['-30.09', '-29.94', '-30.07', '-29.85']\n"
     ]
    },
    {
     "name": "stderr",
     "output_type": "stream",
     "text": [
      "  9%|▉         | 4719/50000 [36:21<11:47:54,  1.07it/s]"
     ]
    },
    {
     "name": "stdout",
     "output_type": "stream",
     "text": [
      "Episode 4720/50000\n",
      "Fitnesses: ['-29.32', '-25.92', '-113.00', '-3.48']\n",
      "100 fitness avgs: ['-29.96', '-29.93', '-30.80', '-29.70']\n"
     ]
    },
    {
     "name": "stderr",
     "output_type": "stream",
     "text": [
      "  9%|▉         | 4739/50000 [36:41<12:16:39,  1.02it/s]"
     ]
    },
    {
     "name": "stdout",
     "output_type": "stream",
     "text": [
      "Episode 4740/50000\n",
      "Fitnesses: ['-9.16', '-9.31', '-77.51', '-102.57']\n",
      "100 fitness avgs: ['-29.71', '-29.94', '-30.62', '-30.87']\n"
     ]
    },
    {
     "name": "stderr",
     "output_type": "stream",
     "text": [
      " 10%|▉         | 4759/50000 [37:00<12:09:49,  1.03it/s]"
     ]
    },
    {
     "name": "stdout",
     "output_type": "stream",
     "text": [
      "Episode 4760/50000\n",
      "Fitnesses: ['-174.21', '-139.95', '-130.76', '-22.41']\n",
      "100 fitness avgs: ['-31.45', '-31.11', '-31.02', '-31.09']\n"
     ]
    },
    {
     "name": "stderr",
     "output_type": "stream",
     "text": [
      " 10%|▉         | 4779/50000 [37:20<12:10:48,  1.03it/s]"
     ]
    },
    {
     "name": "stdout",
     "output_type": "stream",
     "text": [
      "Episode 4780/50000\n",
      "Fitnesses: ['-104.13', '-135.47', '-16.00', '-0.50']\n",
      "100 fitness avgs: ['-31.79', '-32.10', '-30.91', '-30.68']\n"
     ]
    },
    {
     "name": "stderr",
     "output_type": "stream",
     "text": [
      " 10%|▉         | 4799/50000 [37:38<12:20:21,  1.02it/s]"
     ]
    },
    {
     "name": "stdout",
     "output_type": "stream",
     "text": [
      "Episode 4800/50000\n",
      "Fitnesses: ['-65.76', '-8.37', '-0.84', '-8.54']\n",
      "100 fitness avgs: ['-31.29', '-32.14', '-32.07', '-31.83']\n"
     ]
    },
    {
     "name": "stderr",
     "output_type": "stream",
     "text": [
      " 10%|▉         | 4819/50000 [37:57<12:00:44,  1.04it/s]"
     ]
    },
    {
     "name": "stdout",
     "output_type": "stream",
     "text": [
      "Episode 4820/50000\n",
      "Fitnesses: ['-41.78', '-72.49', '-175.05', '-20.92']\n",
      "100 fitness avgs: ['-31.77', '-32.15', '-32.87', '-31.33']\n"
     ]
    },
    {
     "name": "stderr",
     "output_type": "stream",
     "text": [
      " 10%|▉         | 4839/50000 [38:15<11:57:31,  1.05it/s]"
     ]
    },
    {
     "name": "stdout",
     "output_type": "stream",
     "text": [
      "Episode 4840/50000\n",
      "Fitnesses: ['-1.22', '-89.33', '-91.34', '-33.86']\n",
      "100 fitness avgs: ['-31.25', '-32.57', '-32.59', '-31.57']\n"
     ]
    },
    {
     "name": "stderr",
     "output_type": "stream",
     "text": [
      " 10%|▉         | 4859/50000 [38:34<11:27:51,  1.09it/s]"
     ]
    },
    {
     "name": "stdout",
     "output_type": "stream",
     "text": [
      "Episode 4860/50000\n",
      "Fitnesses: ['-40.22', '-66.02', '-119.03', '-23.62']\n",
      "100 fitness avgs: ['-31.46', '-33.05', '-33.58', '-31.30']\n"
     ]
    },
    {
     "name": "stderr",
     "output_type": "stream",
     "text": [
      " 10%|▉         | 4879/50000 [38:52<11:43:30,  1.07it/s]"
     ]
    },
    {
     "name": "stdout",
     "output_type": "stream",
     "text": [
      "Episode 4880/50000\n",
      "Fitnesses: ['-11.11', '-0.96', '-102.77', '-92.78']\n",
      "100 fitness avgs: ['-31.20', '-32.84', '-32.11', '-32.18']\n"
     ]
    },
    {
     "name": "stderr",
     "output_type": "stream",
     "text": [
      " 10%|▉         | 4899/50000 [39:11<11:37:42,  1.08it/s]"
     ]
    },
    {
     "name": "stdout",
     "output_type": "stream",
     "text": [
      "Episode 4900/50000\n",
      "Fitnesses: ['-20.20', '-104.09', '-15.98', '-42.71']\n",
      "100 fitness avgs: ['-33.02', '-32.21', '-31.33', '-33.25']\n"
     ]
    },
    {
     "name": "stderr",
     "output_type": "stream",
     "text": [
      " 10%|▉         | 4919/50000 [39:29<11:41:28,  1.07it/s]"
     ]
    },
    {
     "name": "stdout",
     "output_type": "stream",
     "text": [
      "Episode 4920/50000\n",
      "Fitnesses: ['-77.57', '-10.80', '-71.50', '-10.24']\n",
      "100 fitness avgs: ['-32.05', '-31.39', '-33.68', '-33.30']\n"
     ]
    },
    {
     "name": "stderr",
     "output_type": "stream",
     "text": [
      " 10%|▉         | 4939/50000 [39:47<11:17:51,  1.11it/s]"
     ]
    },
    {
     "name": "stdout",
     "output_type": "stream",
     "text": [
      "Episode 4940/50000\n",
      "Fitnesses: ['-34.15', '-15.28', '-199.28', '-10.60']\n",
      "100 fitness avgs: ['-33.47', '-31.37', '-35.12', '-33.62']\n"
     ]
    },
    {
     "name": "stderr",
     "output_type": "stream",
     "text": [
      " 10%|▉         | 4959/50000 [40:04<11:08:09,  1.12it/s]"
     ]
    },
    {
     "name": "stdout",
     "output_type": "stream",
     "text": [
      "Episode 4960/50000\n",
      "Fitnesses: ['-12.00', '-1.83', '-68.03', '-32.41']\n",
      "100 fitness avgs: ['-33.70', '-33.45', '-32.01', '-31.65']\n"
     ]
    },
    {
     "name": "stderr",
     "output_type": "stream",
     "text": [
      " 10%|▉         | 4979/50000 [40:22<11:12:33,  1.12it/s]"
     ]
    },
    {
     "name": "stdout",
     "output_type": "stream",
     "text": [
      "Episode 4980/50000\n",
      "Fitnesses: ['-16.14', '-13.33', '-36.36', '-2.98']\n",
      "100 fitness avgs: ['-33.46', '-31.64', '-33.66', '-31.53']\n"
     ]
    },
    {
     "name": "stderr",
     "output_type": "stream",
     "text": [
      " 10%|▉         | 4999/50000 [40:38<10:06:37,  1.24it/s]"
     ]
    },
    {
     "name": "stdout",
     "output_type": "stream",
     "text": [
      "Episode 5000/50000\n",
      "Fitnesses: ['-83.06', '-72.65', '-42.57', '-16.16']\n",
      "100 fitness avgs: ['-32.29', '-32.18', '-31.88', '-31.72']\n"
     ]
    },
    {
     "name": "stderr",
     "output_type": "stream",
     "text": [
      " 10%|█         | 5019/50000 [40:54<9:21:20,  1.34it/s] "
     ]
    },
    {
     "name": "stdout",
     "output_type": "stream",
     "text": [
      "Episode 5020/50000\n",
      "Fitnesses: ['-57.13', '-7.57', '-56.56', '-335.54']\n",
      "100 fitness avgs: ['-32.25', '-32.32', '-32.24', '-35.03']\n"
     ]
    },
    {
     "name": "stderr",
     "output_type": "stream",
     "text": [
      " 10%|█         | 5039/50000 [41:10<10:09:27,  1.23it/s]"
     ]
    },
    {
     "name": "stdout",
     "output_type": "stream",
     "text": [
      "Episode 5040/50000\n",
      "Fitnesses: ['-111.86', '-24.81', '-20.66', '-10.47']\n",
      "100 fitness avgs: ['-32.96', '-32.09', '-34.76', '-31.87']\n"
     ]
    },
    {
     "name": "stderr",
     "output_type": "stream",
     "text": [
      " 10%|█         | 5059/50000 [41:21<7:51:12,  1.59it/s] "
     ]
    },
    {
     "name": "stdout",
     "output_type": "stream",
     "text": [
      "Episode 5060/50000\n",
      "Fitnesses: ['-31.44', '-2.11', '-45.30', '-21.95']\n",
      "100 fitness avgs: ['-32.06', '-31.77', '-32.20', '-31.97']\n"
     ]
    },
    {
     "name": "stderr",
     "output_type": "stream",
     "text": [
      " 10%|█         | 5079/50000 [41:34<8:13:34,  1.52it/s]"
     ]
    },
    {
     "name": "stdout",
     "output_type": "stream",
     "text": [
      "Episode 5080/50000\n",
      "Fitnesses: ['-12.14', '-34.24', '-8.28', '-24.45']\n",
      "100 fitness avgs: ['-30.82', '-31.47', '-31.07', '-31.37']\n"
     ]
    },
    {
     "name": "stderr",
     "output_type": "stream",
     "text": [
      " 10%|█         | 5099/50000 [41:47<8:21:55,  1.49it/s]"
     ]
    },
    {
     "name": "stdout",
     "output_type": "stream",
     "text": [
      "Episode 5100/50000\n",
      "Fitnesses: ['-48.91', '-41.97', '-40.18', '-5.54']\n",
      "100 fitness avgs: ['-31.49', '-31.72', '-31.71', '-31.46']\n"
     ]
    },
    {
     "name": "stderr",
     "output_type": "stream",
     "text": [
      " 10%|█         | 5119/50000 [42:00<8:10:08,  1.53it/s]"
     ]
    },
    {
     "name": "stdout",
     "output_type": "stream",
     "text": [
      "Episode 5120/50000\n",
      "Fitnesses: ['-13.23', '-33.20', '-11.39', '-38.90']\n",
      "100 fitness avgs: ['-31.40', '-31.60', '-31.63', '-31.66']\n"
     ]
    },
    {
     "name": "stderr",
     "output_type": "stream",
     "text": [
      " 10%|█         | 5139/50000 [42:13<8:25:44,  1.48it/s]"
     ]
    },
    {
     "name": "stdout",
     "output_type": "stream",
     "text": [
      "Episode 5140/50000\n",
      "Fitnesses: ['-32.87', '-7.82', '-30.18', '-16.05']\n",
      "100 fitness avgs: ['-31.79', '-31.51', '-31.73', '-31.39']\n"
     ]
    },
    {
     "name": "stderr",
     "output_type": "stream",
     "text": [
      " 10%|█         | 5159/50000 [42:26<8:19:35,  1.50it/s]"
     ]
    },
    {
     "name": "stdout",
     "output_type": "stream",
     "text": [
      "Episode 5160/50000\n",
      "Fitnesses: ['-15.46', '-12.94', '-83.85', '-8.65']\n",
      "100 fitness avgs: ['-31.16', '-31.02', '-31.84', '-31.32']\n"
     ]
    },
    {
     "name": "stderr",
     "output_type": "stream",
     "text": [
      " 10%|█         | 5179/50000 [42:39<8:04:58,  1.54it/s] "
     ]
    },
    {
     "name": "stdout",
     "output_type": "stream",
     "text": [
      "Episode 5180/50000\n",
      "Fitnesses: ['-44.08', '-60.40', '-21.56', '-6.70']\n",
      "100 fitness avgs: ['-31.72', '-31.58', '-31.19', '-31.34']\n"
     ]
    },
    {
     "name": "stderr",
     "output_type": "stream",
     "text": [
      " 10%|█         | 5199/50000 [42:53<8:50:50,  1.41it/s]"
     ]
    },
    {
     "name": "stdout",
     "output_type": "stream",
     "text": [
      "Episode 5200/50000\n",
      "Fitnesses: ['-20.01', '-17.63', '-40.60', '-44.98']\n",
      "100 fitness avgs: ['-30.92', '-30.74', '-31.50', '-31.41']\n"
     ]
    },
    {
     "name": "stderr",
     "output_type": "stream",
     "text": [
      " 10%|█         | 5219/50000 [43:08<9:43:38,  1.28it/s] "
     ]
    },
    {
     "name": "stdout",
     "output_type": "stream",
     "text": [
      "Episode 5220/50000\n",
      "Fitnesses: ['-2.74', '-23.93', '-90.13', '-63.54']\n",
      "100 fitness avgs: ['-30.57', '-30.79', '-31.45', '-31.93']\n"
     ]
    },
    {
     "name": "stderr",
     "output_type": "stream",
     "text": [
      " 10%|█         | 5239/50000 [43:21<7:59:18,  1.56it/s] "
     ]
    },
    {
     "name": "stdout",
     "output_type": "stream",
     "text": [
      "Episode 5240/50000\n",
      "Fitnesses: ['-17.20', '-100.79', '-23.86', '-34.04']\n",
      "100 fitness avgs: ['-29.99', '-30.83', '-30.06', '-30.16']\n"
     ]
    },
    {
     "name": "stderr",
     "output_type": "stream",
     "text": [
      " 11%|█         | 5260/50000 [43:34<7:09:14,  1.74it/s] "
     ]
    },
    {
     "name": "stdout",
     "output_type": "stream",
     "text": [
      "Episode 5260/50000\n",
      "Fitnesses: ['-40.99', '-5.29', '-40.04', '-33.86']\n",
      "100 fitness avgs: ['-30.24', '-29.88', '-30.29', '-30.17']\n"
     ]
    },
    {
     "name": "stderr",
     "output_type": "stream",
     "text": [
      " 11%|█         | 5280/50000 [43:42<5:18:48,  2.34it/s]"
     ]
    },
    {
     "name": "stdout",
     "output_type": "stream",
     "text": [
      "Episode 5280/50000\n",
      "Fitnesses: ['-92.12', '-49.77', '-47.01', '-11.73']\n",
      "100 fitness avgs: ['-30.67', '-30.24', '-30.22', '-30.22']\n"
     ]
    },
    {
     "name": "stderr",
     "output_type": "stream",
     "text": [
      " 11%|█         | 5299/50000 [43:51<6:17:49,  1.97it/s]"
     ]
    },
    {
     "name": "stdout",
     "output_type": "stream",
     "text": [
      "Episode 5300/50000\n",
      "Fitnesses: ['-8.64', '-15.79', '-81.78', '-46.60']\n",
      "100 fitness avgs: ['-30.20', '-30.27', '-30.96', '-30.58']\n"
     ]
    },
    {
     "name": "stderr",
     "output_type": "stream",
     "text": [
      " 11%|█         | 5319/50000 [44:04<7:51:06,  1.58it/s]"
     ]
    },
    {
     "name": "stdout",
     "output_type": "stream",
     "text": [
      "Episode 5320/50000\n",
      "Fitnesses: ['-29.09', '-12.74', '-42.12', '-48.39']\n",
      "100 fitness avgs: ['-30.24', '-30.08', '-30.44', '-30.81']\n"
     ]
    },
    {
     "name": "stderr",
     "output_type": "stream",
     "text": [
      " 11%|█         | 5339/50000 [44:15<7:32:24,  1.65it/s]"
     ]
    },
    {
     "name": "stdout",
     "output_type": "stream",
     "text": [
      "Episode 5340/50000\n",
      "Fitnesses: ['-4.88', '-25.83', '-8.71', '-96.27']\n",
      "100 fitness avgs: ['-30.04', '-30.25', '-30.81', '-31.31']\n"
     ]
    },
    {
     "name": "stderr",
     "output_type": "stream",
     "text": [
      " 11%|█         | 5359/50000 [44:29<8:39:13,  1.43it/s]"
     ]
    },
    {
     "name": "stdout",
     "output_type": "stream",
     "text": [
      "Episode 5360/50000\n",
      "Fitnesses: ['-20.22', '-13.62', '-44.81', '-65.95']\n",
      "100 fitness avgs: ['-28.96', '-28.89', '-29.41', '-29.41']\n"
     ]
    },
    {
     "name": "stderr",
     "output_type": "stream",
     "text": [
      " 11%|█         | 5379/50000 [44:43<8:48:35,  1.41it/s]"
     ]
    },
    {
     "name": "stdout",
     "output_type": "stream",
     "text": [
      "Episode 5380/50000\n",
      "Fitnesses: ['-26.92', '-20.01', '-50.70', '-24.65']\n",
      "100 fitness avgs: ['-28.86', '-28.79', '-29.10', '-28.84']\n"
     ]
    },
    {
     "name": "stderr",
     "output_type": "stream",
     "text": [
      " 11%|█         | 5399/50000 [44:54<7:08:00,  1.74it/s]"
     ]
    },
    {
     "name": "stdout",
     "output_type": "stream",
     "text": [
      "Episode 5400/50000\n",
      "Fitnesses: ['-3.78', '-189.86', '-13.13', '-51.89']\n",
      "100 fitness avgs: ['-28.49', '-30.42', '-28.63', '-29.02']\n"
     ]
    },
    {
     "name": "stderr",
     "output_type": "stream",
     "text": [
      " 11%|█         | 5419/50000 [45:04<5:47:31,  2.14it/s]"
     ]
    },
    {
     "name": "stdout",
     "output_type": "stream",
     "text": [
      "Episode 5420/50000\n",
      "Fitnesses: ['-162.32', '-43.54', '-181.47', '-44.19']\n",
      "100 fitness avgs: ['-29.78', '-29.12', '-31.91', '-29.13']\n"
     ]
    },
    {
     "name": "stderr",
     "output_type": "stream",
     "text": [
      " 11%|█         | 5439/50000 [45:17<8:02:47,  1.54it/s]"
     ]
    },
    {
     "name": "stdout",
     "output_type": "stream",
     "text": [
      "Episode 5440/50000\n",
      "Fitnesses: ['-27.28', '-26.96', '-6.74', '-13.70']\n",
      "100 fitness avgs: ['-29.22', '-29.22', '-29.02', '-29.09']\n"
     ]
    },
    {
     "name": "stderr",
     "output_type": "stream",
     "text": [
      " 11%|█         | 5459/50000 [45:29<8:00:13,  1.55it/s]"
     ]
    },
    {
     "name": "stdout",
     "output_type": "stream",
     "text": [
      "Episode 5460/50000\n",
      "Fitnesses: ['-26.57', '-13.87', '-52.79', '-6.27']\n",
      "100 fitness avgs: ['-29.20', '-29.07', '-29.53', '-28.99']\n"
     ]
    },
    {
     "name": "stderr",
     "output_type": "stream",
     "text": [
      " 11%|█         | 5479/50000 [45:42<8:03:20,  1.54it/s] "
     ]
    },
    {
     "name": "stdout",
     "output_type": "stream",
     "text": [
      "Episode 5480/50000\n",
      "Fitnesses: ['-175.80', '-67.92', '-0.31', '-35.61']\n",
      "100 fitness avgs: ['-30.56', '-29.56', '-28.88', '-29.23']\n"
     ]
    },
    {
     "name": "stderr",
     "output_type": "stream",
     "text": [
      " 11%|█         | 5499/50000 [45:55<8:12:11,  1.51it/s]"
     ]
    },
    {
     "name": "stdout",
     "output_type": "stream",
     "text": [
      "Episode 5500/50000\n",
      "Fitnesses: ['-10.09', '-30.19', '-9.06', '-38.99']\n",
      "100 fitness avgs: ['-28.79', '-29.67', '-29.13', '-29.75']\n"
     ]
    },
    {
     "name": "stderr",
     "output_type": "stream",
     "text": [
      " 11%|█         | 5519/50000 [46:11<9:27:40,  1.31it/s] "
     ]
    },
    {
     "name": "stdout",
     "output_type": "stream",
     "text": [
      "Episode 5520/50000\n",
      "Fitnesses: ['-66.60', '-28.82', '-132.26', '-19.29']\n",
      "100 fitness avgs: ['-29.17', '-28.79', '-30.36', '-28.35']\n"
     ]
    },
    {
     "name": "stderr",
     "output_type": "stream",
     "text": [
      " 11%|█         | 5539/50000 [46:23<7:43:45,  1.60it/s]"
     ]
    },
    {
     "name": "stdout",
     "output_type": "stream",
     "text": [
      "Episode 5540/50000\n",
      "Fitnesses: ['-10.27', '-15.26', '-14.20', '-22.45']\n",
      "100 fitness avgs: ['-28.39', '-28.44', '-28.87', '-28.51']\n"
     ]
    },
    {
     "name": "stderr",
     "output_type": "stream",
     "text": [
      " 11%|█         | 5559/50000 [46:36<8:11:25,  1.51it/s] "
     ]
    },
    {
     "name": "stdout",
     "output_type": "stream",
     "text": [
      "Episode 5560/50000\n",
      "Fitnesses: ['-35.50', '-54.39', '-19.99', '-27.34']\n",
      "100 fitness avgs: ['-28.50', '-29.17', '-28.34', '-28.42']\n"
     ]
    },
    {
     "name": "stderr",
     "output_type": "stream",
     "text": [
      " 11%|█         | 5579/50000 [46:50<8:14:40,  1.50it/s]"
     ]
    },
    {
     "name": "stdout",
     "output_type": "stream",
     "text": [
      "Episode 5580/50000\n",
      "Fitnesses: ['-10.40', '-19.72', '-29.16', '-25.82']\n",
      "100 fitness avgs: ['-28.21', '-28.31', '-28.48', '-28.37']\n"
     ]
    },
    {
     "name": "stderr",
     "output_type": "stream",
     "text": [
      " 11%|█         | 5599/50000 [47:04<9:01:29,  1.37it/s]"
     ]
    },
    {
     "name": "stdout",
     "output_type": "stream",
     "text": [
      "Episode 5600/50000\n",
      "Fitnesses: ['-57.09', '-34.01', '-49.19', '-453.20']\n",
      "100 fitness avgs: ['-28.50', '-28.37', '-28.52', '-32.46']\n"
     ]
    },
    {
     "name": "stderr",
     "output_type": "stream",
     "text": [
      " 11%|█         | 5619/50000 [47:17<7:57:30,  1.55it/s] "
     ]
    },
    {
     "name": "stdout",
     "output_type": "stream",
     "text": [
      "Episode 5620/50000\n",
      "Fitnesses: ['-121.84', '-10.69', '-54.99', '-21.81']\n",
      "100 fitness avgs: ['-29.03', '-28.05', '-28.36', '-28.18']\n"
     ]
    },
    {
     "name": "stderr",
     "output_type": "stream",
     "text": [
      " 11%|█▏        | 5639/50000 [47:30<8:22:40,  1.47it/s]"
     ]
    },
    {
     "name": "stdout",
     "output_type": "stream",
     "text": [
      "Episode 5640/50000\n",
      "Fitnesses: ['-13.69', '-32.87', '-4.99', '-59.89']\n",
      "100 fitness avgs: ['-28.04', '-28.23', '-27.95', '-28.50']\n"
     ]
    },
    {
     "name": "stderr",
     "output_type": "stream",
     "text": [
      " 11%|█▏        | 5659/50000 [47:44<8:08:24,  1.51it/s] "
     ]
    },
    {
     "name": "stdout",
     "output_type": "stream",
     "text": [
      "Episode 5660/50000\n",
      "Fitnesses: ['-77.14', '-3.81', '-26.36', '-38.25']\n",
      "100 fitness avgs: ['-28.56', '-28.11', '-28.05', '-28.45']\n"
     ]
    },
    {
     "name": "stderr",
     "output_type": "stream",
     "text": [
      " 11%|█▏        | 5679/50000 [47:57<8:13:26,  1.50it/s]"
     ]
    },
    {
     "name": "stdout",
     "output_type": "stream",
     "text": [
      "Episode 5680/50000\n",
      "Fitnesses: ['-62.18', '-35.06', '-20.63', '-51.05']\n",
      "100 fitness avgs: ['-28.65', '-28.38', '-28.58', '-28.48']\n"
     ]
    },
    {
     "name": "stderr",
     "output_type": "stream",
     "text": [
      " 11%|█▏        | 5699/50000 [48:09<7:37:00,  1.62it/s]"
     ]
    },
    {
     "name": "stdout",
     "output_type": "stream",
     "text": [
      "Episode 5700/50000\n",
      "Fitnesses: ['-67.60', '-67.87', '-134.76', '-33.64']\n",
      "100 fitness avgs: ['-29.02', '-29.02', '-29.49', '-28.68']\n"
     ]
    },
    {
     "name": "stderr",
     "output_type": "stream",
     "text": [
      " 11%|█▏        | 5719/50000 [48:21<7:31:23,  1.63it/s]"
     ]
    },
    {
     "name": "stdout",
     "output_type": "stream",
     "text": [
      "Episode 5720/50000\n",
      "Fitnesses: ['-32.12', '-64.40', '-75.77', '-136.79']\n",
      "100 fitness avgs: ['-28.41', '-29.07', '-29.19', '-30.27']\n"
     ]
    },
    {
     "name": "stderr",
     "output_type": "stream",
     "text": [
      " 11%|█▏        | 5739/50000 [48:38<10:39:03,  1.15it/s]"
     ]
    },
    {
     "name": "stdout",
     "output_type": "stream",
     "text": [
      "Episode 5740/50000\n",
      "Fitnesses: ['-85.73', '-23.34', '-52.91', '-28.96']\n",
      "100 fitness avgs: ['-29.19', '-28.57', '-29.52', '-28.62']\n"
     ]
    },
    {
     "name": "stderr",
     "output_type": "stream",
     "text": [
      " 12%|█▏        | 5759/50000 [48:50<7:36:14,  1.62it/s] "
     ]
    },
    {
     "name": "stdout",
     "output_type": "stream",
     "text": [
      "Episode 5760/50000\n",
      "Fitnesses: ['-12.34', '-85.32', '-4.12', '-41.24']\n",
      "100 fitness avgs: ['-28.54', '-30.23', '-28.46', '-29.79']\n"
     ]
    },
    {
     "name": "stderr",
     "output_type": "stream",
     "text": [
      " 12%|█▏        | 5779/50000 [49:04<8:53:53,  1.38it/s]"
     ]
    },
    {
     "name": "stdout",
     "output_type": "stream",
     "text": [
      "Episode 5780/50000\n",
      "Fitnesses: ['-9.88', '-57.05', '-26.78', '-11.01']\n",
      "100 fitness avgs: ['-28.44', '-28.91', '-28.61', '-28.45']\n"
     ]
    },
    {
     "name": "stderr",
     "output_type": "stream",
     "text": [
      " 12%|█▏        | 5799/50000 [49:18<8:52:24,  1.38it/s] "
     ]
    },
    {
     "name": "stdout",
     "output_type": "stream",
     "text": [
      "Episode 5800/50000\n",
      "Fitnesses: ['-56.57', '-61.80', '-91.08', '-21.05']\n",
      "100 fitness avgs: ['-28.88', '-29.10', '-29.22', '-28.53']\n"
     ]
    },
    {
     "name": "stderr",
     "output_type": "stream",
     "text": [
      " 12%|█▏        | 5819/50000 [49:33<8:39:35,  1.42it/s] "
     ]
    },
    {
     "name": "stdout",
     "output_type": "stream",
     "text": [
      "Episode 5820/50000\n",
      "Fitnesses: ['-23.37', '-29.81', '-8.78', '-53.78']\n",
      "100 fitness avgs: ['-28.52', '-28.58', '-28.71', '-29.39']\n"
     ]
    },
    {
     "name": "stderr",
     "output_type": "stream",
     "text": [
      " 12%|█▏        | 5839/50000 [49:46<8:37:51,  1.42it/s] "
     ]
    },
    {
     "name": "stdout",
     "output_type": "stream",
     "text": [
      "Episode 5840/50000\n",
      "Fitnesses: ['-12.31', '-13.00', '-31.76', '-48.80']\n",
      "100 fitness avgs: ['-28.73', '-28.74', '-28.73', '-29.10']\n"
     ]
    },
    {
     "name": "stderr",
     "output_type": "stream",
     "text": [
      " 12%|█▏        | 5859/50000 [50:01<8:49:28,  1.39it/s] "
     ]
    },
    {
     "name": "stdout",
     "output_type": "stream",
     "text": [
      "Episode 5860/50000\n",
      "Fitnesses: ['-54.21', '-8.05', '-37.37', '-22.33']\n",
      "100 fitness avgs: ['-29.03', '-28.57', '-28.86', '-28.71']\n"
     ]
    },
    {
     "name": "stderr",
     "output_type": "stream",
     "text": [
      " 12%|█▏        | 5879/50000 [50:16<9:02:59,  1.35it/s] "
     ]
    },
    {
     "name": "stdout",
     "output_type": "stream",
     "text": [
      "Episode 5880/50000\n",
      "Fitnesses: ['-22.05', '-16.55', '-4.93', '-35.03']\n",
      "100 fitness avgs: ['-28.18', '-28.27', '-28.15', '-28.77']\n"
     ]
    },
    {
     "name": "stderr",
     "output_type": "stream",
     "text": [
      " 12%|█▏        | 5899/50000 [50:30<8:55:58,  1.37it/s] "
     ]
    },
    {
     "name": "stdout",
     "output_type": "stream",
     "text": [
      "Episode 5900/50000\n",
      "Fitnesses: ['-31.47', '-21.66', '-46.98', '-21.98']\n",
      "100 fitness avgs: ['-28.14', '-28.16', '-28.41', '-28.16']\n"
     ]
    },
    {
     "name": "stderr",
     "output_type": "stream",
     "text": [
      " 12%|█▏        | 5919/50000 [50:44<8:45:17,  1.40it/s]"
     ]
    },
    {
     "name": "stdout",
     "output_type": "stream",
     "text": [
      "Episode 5920/50000\n",
      "Fitnesses: ['-57.78', '-28.33', '-10.21', '-37.87']\n",
      "100 fitness avgs: ['-27.69', '-27.40', '-27.22', '-27.50']\n"
     ]
    },
    {
     "name": "stderr",
     "output_type": "stream",
     "text": [
      " 12%|█▏        | 5939/50000 [50:59<8:56:12,  1.37it/s] "
     ]
    },
    {
     "name": "stdout",
     "output_type": "stream",
     "text": [
      "Episode 5940/50000\n",
      "Fitnesses: ['-60.26', '-1.76', '-14.11', '-12.45']\n",
      "100 fitness avgs: ['-27.51', '-27.10', '-27.32', '-27.03']\n"
     ]
    },
    {
     "name": "stderr",
     "output_type": "stream",
     "text": [
      " 12%|█▏        | 5959/50000 [51:15<10:38:02,  1.15it/s]"
     ]
    },
    {
     "name": "stdout",
     "output_type": "stream",
     "text": [
      "Episode 5960/50000\n",
      "Fitnesses: ['-46.37', '-4.83', '-5.87', '-398.56']\n",
      "100 fitness avgs: ['-27.23', '-26.74', '-26.75', '-30.75']\n"
     ]
    },
    {
     "name": "stderr",
     "output_type": "stream",
     "text": [
      " 12%|█▏        | 5979/50000 [51:32<9:55:33,  1.23it/s] "
     ]
    },
    {
     "name": "stdout",
     "output_type": "stream",
     "text": [
      "Episode 5980/50000\n",
      "Fitnesses: ['-4.94', '-533.44', '-39.08', '-15.88']\n",
      "100 fitness avgs: ['-26.74', '-36.04', '-27.08', '-26.86']\n"
     ]
    },
    {
     "name": "stderr",
     "output_type": "stream",
     "text": [
      " 12%|█▏        | 5999/50000 [51:46<9:39:11,  1.27it/s] "
     ]
    },
    {
     "name": "stdout",
     "output_type": "stream",
     "text": [
      "Episode 6000/50000\n",
      "Fitnesses: ['-25.30', '-2.90', '-12.39', '-32.34']\n",
      "100 fitness avgs: ['-26.90', '-26.68', '-26.77', '-27.09']\n"
     ]
    },
    {
     "name": "stderr",
     "output_type": "stream",
     "text": [
      " 12%|█▏        | 6019/50000 [52:01<9:48:44,  1.25it/s] "
     ]
    },
    {
     "name": "stdout",
     "output_type": "stream",
     "text": [
      "Episode 6020/50000\n",
      "Fitnesses: ['-45.25', '-18.27', '-97.41', '-22.95']\n",
      "100 fitness avgs: ['-26.22', '-26.36', '-27.16', '-26.00']\n"
     ]
    },
    {
     "name": "stderr",
     "output_type": "stream",
     "text": [
      " 12%|█▏        | 6039/50000 [52:17<9:12:16,  1.33it/s] "
     ]
    },
    {
     "name": "stdout",
     "output_type": "stream",
     "text": [
      "Episode 6040/50000\n",
      "Fitnesses: ['-60.59', '-20.26', '-61.07', '-12.42']\n",
      "100 fitness avgs: ['-26.70', '-25.93', '-26.34', '-25.85']\n"
     ]
    },
    {
     "name": "stderr",
     "output_type": "stream",
     "text": [
      " 12%|█▏        | 6059/50000 [52:30<8:23:53,  1.45it/s] "
     ]
    },
    {
     "name": "stdout",
     "output_type": "stream",
     "text": [
      "Episode 6060/50000\n",
      "Fitnesses: ['-4.05', '-51.36', '-11.74', '-36.86']\n",
      "100 fitness avgs: ['-25.82', '-26.37', '-25.98', '-26.15']\n"
     ]
    },
    {
     "name": "stderr",
     "output_type": "stream",
     "text": [
      " 12%|█▏        | 6079/50000 [52:44<8:43:47,  1.40it/s]"
     ]
    },
    {
     "name": "stdout",
     "output_type": "stream",
     "text": [
      "Episode 6080/50000\n",
      "Fitnesses: ['-24.62', '-19.25', '-72.83', '-16.32']\n",
      "100 fitness avgs: ['-25.88', '-25.99', '-26.37', '-25.80']\n"
     ]
    },
    {
     "name": "stderr",
     "output_type": "stream",
     "text": [
      " 12%|█▏        | 6099/50000 [52:58<8:12:45,  1.48it/s]"
     ]
    },
    {
     "name": "stdout",
     "output_type": "stream",
     "text": [
      "Episode 6100/50000\n",
      "Fitnesses: ['-17.84', '-45.02', '-32.28', '-8.72']\n",
      "100 fitness avgs: ['-25.97', '-26.43', '-26.12', '-26.07']\n"
     ]
    },
    {
     "name": "stderr",
     "output_type": "stream",
     "text": [
      " 12%|█▏        | 6119/50000 [53:11<8:17:57,  1.47it/s] "
     ]
    },
    {
     "name": "stdout",
     "output_type": "stream",
     "text": [
      "Episode 6120/50000\n",
      "Fitnesses: ['-16.61', '-9.89', '-12.07', '-94.01']\n",
      "100 fitness avgs: ['-26.07', '-26.01', '-26.03', '-26.85']\n"
     ]
    },
    {
     "name": "stderr",
     "output_type": "stream",
     "text": [
      " 12%|█▏        | 6139/50000 [53:24<7:46:52,  1.57it/s]"
     ]
    },
    {
     "name": "stdout",
     "output_type": "stream",
     "text": [
      "Episode 6140/50000\n",
      "Fitnesses: ['-38.87', '-37.18', '-32.14', '-24.21']\n",
      "100 fitness avgs: ['-25.97', '-25.95', '-25.92', '-25.82']\n"
     ]
    },
    {
     "name": "stderr",
     "output_type": "stream",
     "text": [
      " 12%|█▏        | 6159/50000 [53:39<9:24:29,  1.29it/s] "
     ]
    },
    {
     "name": "stdout",
     "output_type": "stream",
     "text": [
      "Episode 6160/50000\n",
      "Fitnesses: ['-52.56', '-33.34', '-398.55', '-47.41']\n",
      "100 fitness avgs: ['-26.17', '-26.08', '-29.76', '-26.12']\n"
     ]
    },
    {
     "name": "stderr",
     "output_type": "stream",
     "text": [
      " 12%|█▏        | 6179/50000 [53:53<8:21:50,  1.46it/s]"
     ]
    },
    {
     "name": "stdout",
     "output_type": "stream",
     "text": [
      "Episode 6180/50000\n",
      "Fitnesses: ['-54.53', '-38.39', '-23.64', '-23.43']\n",
      "100 fitness avgs: ['-26.62', '-26.50', '-26.31', '-26.31']\n"
     ]
    },
    {
     "name": "stderr",
     "output_type": "stream",
     "text": [
      " 12%|█▏        | 6199/50000 [54:06<8:03:42,  1.51it/s]"
     ]
    },
    {
     "name": "stdout",
     "output_type": "stream",
     "text": [
      "Episode 6200/50000\n",
      "Fitnesses: ['-2.14', '-16.93', '-30.11', '-44.42']\n",
      "100 fitness avgs: ['-25.37', '-25.52', '-25.84', '-25.98']\n"
     ]
    },
    {
     "name": "stderr",
     "output_type": "stream",
     "text": [
      " 12%|█▏        | 6219/50000 [54:19<7:57:07,  1.53it/s]"
     ]
    },
    {
     "name": "stdout",
     "output_type": "stream",
     "text": [
      "Episode 6220/50000\n",
      "Fitnesses: ['-11.62', '-30.41', '-18.68', '-21.70']\n",
      "100 fitness avgs: ['-24.48', '-24.67', '-24.70', '-24.58']\n"
     ]
    },
    {
     "name": "stderr",
     "output_type": "stream",
     "text": [
      " 12%|█▏        | 6239/50000 [54:32<8:02:36,  1.51it/s]"
     ]
    },
    {
     "name": "stdout",
     "output_type": "stream",
     "text": [
      "Episode 6240/50000\n",
      "Fitnesses: ['-17.24', '-29.25', '-5.62', '-19.66']\n",
      "100 fitness avgs: ['-24.55', '-24.67', '-24.65', '-24.57']\n"
     ]
    },
    {
     "name": "stderr",
     "output_type": "stream",
     "text": [
      " 13%|█▎        | 6259/50000 [54:47<8:12:15,  1.48it/s] "
     ]
    },
    {
     "name": "stdout",
     "output_type": "stream",
     "text": [
      "Episode 6260/50000\n",
      "Fitnesses: ['-58.19', '-22.37', '-18.76', '-22.52']\n",
      "100 fitness avgs: ['-24.95', '-24.49', '-24.55', '-24.49']\n"
     ]
    },
    {
     "name": "stderr",
     "output_type": "stream",
     "text": [
      " 13%|█▎        | 6279/50000 [55:00<8:06:16,  1.50it/s]"
     ]
    },
    {
     "name": "stdout",
     "output_type": "stream",
     "text": [
      "Episode 6280/50000\n",
      "Fitnesses: ['-73.00', '-0.65', '-20.80', '-10.18']\n",
      "100 fitness avgs: ['-25.05', '-24.26', '-24.53', '-24.35']\n"
     ]
    },
    {
     "name": "stderr",
     "output_type": "stream",
     "text": [
      " 13%|█▎        | 6299/50000 [55:13<8:19:57,  1.46it/s] "
     ]
    },
    {
     "name": "stdout",
     "output_type": "stream",
     "text": [
      "Episode 6300/50000\n",
      "Fitnesses: ['-5.93', '-55.36', '-123.50', '-88.57']\n",
      "100 fitness avgs: ['-23.81', '-24.30', '-24.98', '-24.73']\n"
     ]
    },
    {
     "name": "stderr",
     "output_type": "stream",
     "text": [
      " 13%|█▎        | 6319/50000 [55:27<7:53:47,  1.54it/s] "
     ]
    },
    {
     "name": "stdout",
     "output_type": "stream",
     "text": [
      "Episode 6320/50000\n",
      "Fitnesses: ['-93.54', '-30.27', '-84.04', '-87.93']\n",
      "100 fitness avgs: ['-24.71', '-25.00', '-25.54', '-25.15']\n"
     ]
    },
    {
     "name": "stderr",
     "output_type": "stream",
     "text": [
      " 13%|█▎        | 6339/50000 [55:38<6:53:33,  1.76it/s]"
     ]
    },
    {
     "name": "stdout",
     "output_type": "stream",
     "text": [
      "Episode 6340/50000\n",
      "Fitnesses: ['-38.67', '-28.80', '-77.11', '-880.32']\n",
      "100 fitness avgs: ['-25.01', '-24.91', '-25.39', '-33.42']\n"
     ]
    },
    {
     "name": "stderr",
     "output_type": "stream",
     "text": [
      " 13%|█▎        | 6359/50000 [55:51<7:57:03,  1.52it/s]"
     ]
    },
    {
     "name": "stdout",
     "output_type": "stream",
     "text": [
      "Episode 6360/50000\n",
      "Fitnesses: ['-20.34', '-7.69', '-43.43', '-12.50']\n",
      "100 fitness avgs: ['-24.91', '-25.27', '-25.14', '-25.31']\n"
     ]
    },
    {
     "name": "stderr",
     "output_type": "stream",
     "text": [
      " 13%|█▎        | 6379/50000 [56:04<8:09:59,  1.48it/s] "
     ]
    },
    {
     "name": "stdout",
     "output_type": "stream",
     "text": [
      "Episode 6380/50000\n",
      "Fitnesses: ['-3.78', '-17.14', '-3.53', '-17.08']\n",
      "100 fitness avgs: ['-24.48', '-24.66', '-24.47', '-24.66']\n"
     ]
    },
    {
     "name": "stderr",
     "output_type": "stream",
     "text": [
      " 13%|█▎        | 6399/50000 [56:17<8:26:56,  1.43it/s]"
     ]
    },
    {
     "name": "stdout",
     "output_type": "stream",
     "text": [
      "Episode 6400/50000\n",
      "Fitnesses: ['-38.36', '-105.23', '-11.18', '-27.98']\n",
      "100 fitness avgs: ['-24.80', '-25.47', '-24.53', '-24.70']\n"
     ]
    },
    {
     "name": "stderr",
     "output_type": "stream",
     "text": [
      " 13%|█▎        | 6419/50000 [56:30<7:48:44,  1.55it/s]"
     ]
    },
    {
     "name": "stdout",
     "output_type": "stream",
     "text": [
      "Episode 6420/50000\n",
      "Fitnesses: ['-3.91', '-26.40', '-25.91', '-5.49']\n",
      "100 fitness avgs: ['-24.40', '-25.56', '-24.78', '-24.41']\n"
     ]
    },
    {
     "name": "stderr",
     "output_type": "stream",
     "text": [
      " 13%|█▎        | 6439/50000 [56:43<7:47:26,  1.55it/s]"
     ]
    },
    {
     "name": "stdout",
     "output_type": "stream",
     "text": [
      "Episode 6440/50000\n",
      "Fitnesses: ['-32.73', '-50.65', '-5.24', '-54.77']\n",
      "100 fitness avgs: ['-24.48', '-25.82', '-24.20', '-24.71']\n"
     ]
    },
    {
     "name": "stderr",
     "output_type": "stream",
     "text": [
      " 13%|█▎        | 6459/50000 [56:56<7:55:02,  1.53it/s]"
     ]
    },
    {
     "name": "stdout",
     "output_type": "stream",
     "text": [
      "Episode 6460/50000\n",
      "Fitnesses: ['-9.51', '-25.57', '-121.27', '-43.00']\n",
      "100 fitness avgs: ['-23.00', '-23.16', '-24.63', '-24.95']\n"
     ]
    },
    {
     "name": "stderr",
     "output_type": "stream",
     "text": [
      " 13%|█▎        | 6479/50000 [57:10<8:19:45,  1.45it/s] "
     ]
    },
    {
     "name": "stdout",
     "output_type": "stream",
     "text": [
      "Episode 6480/50000\n",
      "Fitnesses: ['-42.91', '-26.38', '-89.89', '-32.90']\n",
      "100 fitness avgs: ['-23.13', '-22.96', '-25.55', '-23.19']\n"
     ]
    },
    {
     "name": "stderr",
     "output_type": "stream",
     "text": [
      " 13%|█▎        | 6499/50000 [57:24<9:01:41,  1.34it/s]"
     ]
    },
    {
     "name": "stdout",
     "output_type": "stream",
     "text": [
      "Episode 6500/50000\n",
      "Fitnesses: ['-17.99', '-15.30', '-17.89', '-65.92']\n",
      "100 fitness avgs: ['-23.02', '-23.22', '-23.02', '-23.50']\n"
     ]
    },
    {
     "name": "stderr",
     "output_type": "stream",
     "text": [
      " 13%|█▎        | 6519/50000 [57:39<8:47:32,  1.37it/s] "
     ]
    },
    {
     "name": "stdout",
     "output_type": "stream",
     "text": [
      "Episode 6520/50000\n",
      "Fitnesses: ['-12.91', '-46.16', '-27.76', '-37.75']\n",
      "100 fitness avgs: ['-23.10', '-23.24', '-23.05', '-23.63']\n"
     ]
    },
    {
     "name": "stderr",
     "output_type": "stream",
     "text": [
      " 13%|█▎        | 6539/50000 [57:52<8:11:16,  1.47it/s]"
     ]
    },
    {
     "name": "stdout",
     "output_type": "stream",
     "text": [
      "Episode 6540/50000\n",
      "Fitnesses: ['-8.23', '-38.18', '-18.58', '-19.93']\n",
      "100 fitness avgs: ['-22.82', '-23.07', '-23.45', '-22.88']\n"
     ]
    },
    {
     "name": "stderr",
     "output_type": "stream",
     "text": [
      " 13%|█▎        | 6559/50000 [58:07<8:37:05,  1.40it/s] "
     ]
    },
    {
     "name": "stdout",
     "output_type": "stream",
     "text": [
      "Episode 6560/50000\n",
      "Fitnesses: ['-26.90', '-52.98', '-33.43', '-22.77']\n",
      "100 fitness avgs: ['-22.79', '-23.68', '-22.85', '-22.75']\n"
     ]
    },
    {
     "name": "stderr",
     "output_type": "stream",
     "text": [
      " 13%|█▎        | 6579/50000 [58:21<8:58:51,  1.34it/s]"
     ]
    },
    {
     "name": "stdout",
     "output_type": "stream",
     "text": [
      "Episode 6580/50000\n",
      "Fitnesses: ['-9.60', '-13.85', '-6.48', '-13.41']\n",
      "100 fitness avgs: ['-22.62', '-23.60', '-22.59', '-22.77']\n"
     ]
    },
    {
     "name": "stderr",
     "output_type": "stream",
     "text": [
      " 13%|█▎        | 6599/50000 [58:35<8:19:59,  1.45it/s] "
     ]
    },
    {
     "name": "stdout",
     "output_type": "stream",
     "text": [
      "Episode 6600/50000\n",
      "Fitnesses: ['-22.13', '-14.53', '-18.84', '-14.86']\n",
      "100 fitness avgs: ['-22.79', '-22.71', '-22.79', '-22.72']\n"
     ]
    },
    {
     "name": "stderr",
     "output_type": "stream",
     "text": [
      " 13%|█▎        | 6619/50000 [58:50<8:31:14,  1.41it/s] "
     ]
    },
    {
     "name": "stdout",
     "output_type": "stream",
     "text": [
      "Episode 6620/50000\n",
      "Fitnesses: ['-49.01', '-32.17', '-26.82', '-10.98']\n",
      "100 fitness avgs: ['-23.12', '-22.95', '-22.97', '-22.81']\n"
     ]
    },
    {
     "name": "stderr",
     "output_type": "stream",
     "text": [
      " 13%|█▎        | 6639/50000 [59:07<10:21:42,  1.16it/s]"
     ]
    },
    {
     "name": "stdout",
     "output_type": "stream",
     "text": [
      "Episode 6640/50000\n",
      "Fitnesses: ['-20.79', '-76.58', '-53.91', '-10.23']\n",
      "100 fitness avgs: ['-22.62', '-23.18', '-22.95', '-22.67']\n"
     ]
    },
    {
     "name": "stderr",
     "output_type": "stream",
     "text": [
      " 13%|█▎        | 6659/50000 [59:22<8:59:30,  1.34it/s] "
     ]
    },
    {
     "name": "stdout",
     "output_type": "stream",
     "text": [
      "Episode 6660/50000\n",
      "Fitnesses: ['-36.10', '-7.36', '-2.76', '-58.01']\n",
      "100 fitness avgs: ['-22.86', '-22.52', '-22.52', '-23.35']\n"
     ]
    },
    {
     "name": "stderr",
     "output_type": "stream",
     "text": [
      " 13%|█▎        | 6679/50000 [59:37<8:59:02,  1.34it/s] "
     ]
    },
    {
     "name": "stdout",
     "output_type": "stream",
     "text": [
      "Episode 6680/50000\n",
      "Fitnesses: ['-10.10', '-28.37', '-47.71', '-65.34']\n",
      "100 fitness avgs: ['-21.43', '-21.61', '-21.81', '-21.98']\n"
     ]
    },
    {
     "name": "stderr",
     "output_type": "stream",
     "text": [
      " 13%|█▎        | 6699/50000 [59:52<8:57:26,  1.34it/s] "
     ]
    },
    {
     "name": "stdout",
     "output_type": "stream",
     "text": [
      "Episode 6700/50000\n",
      "Fitnesses: ['-23.72', '-38.75', '-32.63', '-3.68']\n",
      "100 fitness avgs: ['-21.14', '-21.29', '-21.22', '-20.93']\n"
     ]
    },
    {
     "name": "stderr",
     "output_type": "stream",
     "text": [
      " 13%|█▎        | 6719/50000 [1:00:10<10:27:18,  1.15it/s]"
     ]
    },
    {
     "name": "stdout",
     "output_type": "stream",
     "text": [
      "Episode 6720/50000\n",
      "Fitnesses: ['-624.18', '-25.07', '-10.73', '-14.21']\n",
      "100 fitness avgs: ['-26.92', '-21.22', '-20.78', '-20.82']\n"
     ]
    },
    {
     "name": "stderr",
     "output_type": "stream",
     "text": [
      " 13%|█▎        | 6739/50000 [1:00:27<10:19:52,  1.16it/s]"
     ]
    },
    {
     "name": "stdout",
     "output_type": "stream",
     "text": [
      "Episode 6740/50000\n",
      "Fitnesses: ['-43.96', '-25.45', '-635.93', '-33.64']\n",
      "100 fitness avgs: ['-20.20', '-20.05', '-32.25', '-20.13']\n"
     ]
    },
    {
     "name": "stderr",
     "output_type": "stream",
     "text": [
      " 14%|█▎        | 6759/50000 [1:00:42<9:00:21,  1.33it/s] "
     ]
    },
    {
     "name": "stdout",
     "output_type": "stream",
     "text": [
      "Episode 6760/50000\n",
      "Fitnesses: ['-11.11', '-55.42', '-4.51', '-15.91']\n",
      "100 fitness avgs: ['-19.93', '-20.53', '-19.87', '-20.06']\n"
     ]
    },
    {
     "name": "stderr",
     "output_type": "stream",
     "text": [
      " 14%|█▎        | 6779/50000 [1:00:59<10:16:51,  1.17it/s]"
     ]
    },
    {
     "name": "stdout",
     "output_type": "stream",
     "text": [
      "Episode 6780/50000\n",
      "Fitnesses: ['-39.61', '-42.60', '-22.25', '-75.45']\n",
      "100 fitness avgs: ['-19.22', '-19.45', '-19.11', '-19.78']\n"
     ]
    },
    {
     "name": "stderr",
     "output_type": "stream",
     "text": [
      " 14%|█▎        | 6799/50000 [1:01:17<10:24:59,  1.15it/s]"
     ]
    },
    {
     "name": "stdout",
     "output_type": "stream",
     "text": [
      "Episode 6800/50000\n",
      "Fitnesses: ['-74.11', '-27.80', '-5.63', '-11.53']\n",
      "100 fitness avgs: ['-19.77', '-19.31', '-19.19', '-19.14']\n"
     ]
    },
    {
     "name": "stderr",
     "output_type": "stream",
     "text": [
      " 14%|█▎        | 6819/50000 [1:01:36<11:38:27,  1.03it/s]"
     ]
    },
    {
     "name": "stdout",
     "output_type": "stream",
     "text": [
      "Episode 6820/50000\n",
      "Fitnesses: ['-5.05', '-2.59', '-6.56', '-4.65']\n",
      "100 fitness avgs: ['-19.03', '-19.01', '-19.00', '-19.03']\n"
     ]
    },
    {
     "name": "stderr",
     "output_type": "stream",
     "text": [
      " 14%|█▎        | 6839/50000 [1:01:57<12:49:45,  1.07s/it]"
     ]
    },
    {
     "name": "stdout",
     "output_type": "stream",
     "text": [
      "Episode 6840/50000\n",
      "Fitnesses: ['-31.77', '-72.57', '-58.90', '-49.70']\n",
      "100 fitness avgs: ['-19.32', '-19.72', '-19.61', '-19.52']\n"
     ]
    },
    {
     "name": "stderr",
     "output_type": "stream",
     "text": [
      " 14%|█▎        | 6859/50000 [1:02:18<12:28:45,  1.04s/it]"
     ]
    },
    {
     "name": "stdout",
     "output_type": "stream",
     "text": [
      "Episode 6860/50000\n",
      "Fitnesses: ['-68.21', '-36.14', '-25.05', '-10.40']\n",
      "100 fitness avgs: ['-19.76', '-19.64', '-19.63', '-19.18']\n"
     ]
    },
    {
     "name": "stderr",
     "output_type": "stream",
     "text": [
      " 14%|█▍        | 6879/50000 [1:02:38<12:06:27,  1.01s/it]"
     ]
    },
    {
     "name": "stdout",
     "output_type": "stream",
     "text": [
      "Episode 6880/50000\n",
      "Fitnesses: ['-100.41', '-3.75', '-59.01', '-10.68']\n",
      "100 fitness avgs: ['-20.08', '-19.11', '-19.66', '-19.62']\n"
     ]
    },
    {
     "name": "stderr",
     "output_type": "stream",
     "text": [
      " 14%|█▍        | 6899/50000 [1:03:01<13:44:29,  1.15s/it]"
     ]
    },
    {
     "name": "stdout",
     "output_type": "stream",
     "text": [
      "Episode 6900/50000\n",
      "Fitnesses: ['-424.24', '-152.78', '-119.41', '-12.87']\n",
      "100 fitness avgs: ['-23.19', '-20.99', '-20.66', '-20.05']\n"
     ]
    },
    {
     "name": "stderr",
     "output_type": "stream",
     "text": [
      " 14%|█▍        | 6919/50000 [1:03:23<13:17:21,  1.11s/it]"
     ]
    },
    {
     "name": "stdout",
     "output_type": "stream",
     "text": [
      "Episode 6920/50000\n",
      "Fitnesses: ['-36.40', '-51.17', '-7.57', '-68.16']\n",
      "100 fitness avgs: ['-20.30', '-20.45', '-20.62', '-20.62']\n"
     ]
    },
    {
     "name": "stderr",
     "output_type": "stream",
     "text": [
      " 14%|█▍        | 6939/50000 [1:03:44<12:04:02,  1.01s/it]"
     ]
    },
    {
     "name": "stdout",
     "output_type": "stream",
     "text": [
      "Episode 6940/50000\n",
      "Fitnesses: ['-86.50', '-63.77', '-77.84', '-141.51']\n",
      "100 fitness avgs: ['-21.34', '-20.79', '-21.25', '-21.71']\n"
     ]
    },
    {
     "name": "stderr",
     "output_type": "stream",
     "text": [
      " 14%|█▍        | 6959/50000 [1:04:05<12:15:21,  1.03s/it]"
     ]
    },
    {
     "name": "stdout",
     "output_type": "stream",
     "text": [
      "Episode 6960/50000\n",
      "Fitnesses: ['-12.91', '-185.70', '-37.28', '-88.50']\n",
      "100 fitness avgs: ['-20.59', '-22.32', '-20.83', '-21.81']\n"
     ]
    },
    {
     "name": "stderr",
     "output_type": "stream",
     "text": [
      " 14%|█▍        | 6979/50000 [1:04:23<10:44:33,  1.11it/s]"
     ]
    },
    {
     "name": "stdout",
     "output_type": "stream",
     "text": [
      "Episode 6980/50000\n",
      "Fitnesses: ['-29.47', '-143.86', '-24.13', '-7.47']\n",
      "100 fitness avgs: ['-20.75', '-21.90', '-21.92', '-21.75']\n"
     ]
    },
    {
     "name": "stderr",
     "output_type": "stream",
     "text": [
      " 14%|█▍        | 6999/50000 [1:04:37<8:16:52,  1.44it/s] "
     ]
    },
    {
     "name": "stdout",
     "output_type": "stream",
     "text": [
      "Episode 7000/50000\n",
      "Fitnesses: ['-30.33', '-14.32', '-62.94', '-14.17']\n",
      "100 fitness avgs: ['-21.89', '-21.73', '-22.39', '-21.90']\n"
     ]
    },
    {
     "name": "stderr",
     "output_type": "stream",
     "text": [
      " 14%|█▍        | 7019/50000 [1:04:51<8:44:38,  1.37it/s]"
     ]
    },
    {
     "name": "stdout",
     "output_type": "stream",
     "text": [
      "Episode 7020/50000\n",
      "Fitnesses: ['-17.90', '-2.27', '-10.75', '-37.30']\n",
      "100 fitness avgs: ['-21.51', '-21.35', '-21.27', '-21.53']\n"
     ]
    },
    {
     "name": "stderr",
     "output_type": "stream",
     "text": [
      " 14%|█▍        | 7039/50000 [1:05:09<11:10:40,  1.07it/s]"
     ]
    },
    {
     "name": "stdout",
     "output_type": "stream",
     "text": [
      "Episode 7040/50000\n",
      "Fitnesses: ['-55.82', '-421.82', '-6.69', '-191.45']\n",
      "100 fitness avgs: ['-21.80', '-25.38', '-21.31', '-23.08']\n"
     ]
    },
    {
     "name": "stderr",
     "output_type": "stream",
     "text": [
      " 14%|█▍        | 7059/50000 [1:05:22<8:06:50,  1.47it/s] "
     ]
    },
    {
     "name": "stdout",
     "output_type": "stream",
     "text": [
      "Episode 7060/50000\n",
      "Fitnesses: ['-105.99', '-26.46', '-85.19', '-37.15']\n",
      "100 fitness avgs: ['-21.92', '-21.61', '-22.20', '-21.23']\n"
     ]
    },
    {
     "name": "stderr",
     "output_type": "stream",
     "text": [
      " 14%|█▍        | 7079/50000 [1:05:36<7:59:53,  1.49it/s]"
     ]
    },
    {
     "name": "stdout",
     "output_type": "stream",
     "text": [
      "Episode 7080/50000\n",
      "Fitnesses: ['-62.49', '-76.95', '-78.07', '-13.88']\n",
      "100 fitness avgs: ['-21.90', '-22.04', '-21.67', '-21.03']\n"
     ]
    },
    {
     "name": "stderr",
     "output_type": "stream",
     "text": [
      " 14%|█▍        | 7099/50000 [1:05:50<8:24:50,  1.42it/s] "
     ]
    },
    {
     "name": "stdout",
     "output_type": "stream",
     "text": [
      "Episode 7100/50000\n",
      "Fitnesses: ['-9.50', '-13.27', '-11.66', '-39.46']\n",
      "100 fitness avgs: ['-21.07', '-21.97', '-21.96', '-21.37']\n"
     ]
    },
    {
     "name": "stderr",
     "output_type": "stream",
     "text": [
      " 14%|█▍        | 7119/50000 [1:06:03<7:59:34,  1.49it/s]"
     ]
    },
    {
     "name": "stdout",
     "output_type": "stream",
     "text": [
      "Episode 7120/50000\n",
      "Fitnesses: ['-24.03', '-25.72', '-19.39', '-19.63']\n",
      "100 fitness avgs: ['-21.17', '-21.19', '-21.13', '-22.02']\n"
     ]
    },
    {
     "name": "stderr",
     "output_type": "stream",
     "text": [
      " 14%|█▍        | 7139/50000 [1:06:17<8:01:26,  1.48it/s]"
     ]
    },
    {
     "name": "stdout",
     "output_type": "stream",
     "text": [
      "Episode 7140/50000\n",
      "Fitnesses: ['-55.69', '-46.19', '-68.96', '-103.39']\n",
      "100 fitness avgs: ['-21.52', '-21.43', '-21.70', '-22.00']\n"
     ]
    },
    {
     "name": "stderr",
     "output_type": "stream",
     "text": [
      " 14%|█▍        | 7159/50000 [1:06:31<8:29:26,  1.40it/s]"
     ]
    },
    {
     "name": "stdout",
     "output_type": "stream",
     "text": [
      "Episode 7160/50000\n",
      "Fitnesses: ['-10.20', '-85.17', '-54.31', '-21.92']\n",
      "100 fitness avgs: ['-21.40', '-22.15', '-22.12', '-21.61']\n"
     ]
    },
    {
     "name": "stderr",
     "output_type": "stream",
     "text": [
      " 14%|█▍        | 7179/50000 [1:06:44<8:13:33,  1.45it/s]"
     ]
    },
    {
     "name": "stdout",
     "output_type": "stream",
     "text": [
      "Episode 7180/50000\n",
      "Fitnesses: ['-26.33', '-41.10', '-23.92', '-23.89']\n",
      "100 fitness avgs: ['-21.45', '-21.60', '-21.64', '-21.42']\n"
     ]
    },
    {
     "name": "stderr",
     "output_type": "stream",
     "text": [
      " 14%|█▍        | 7199/50000 [1:06:59<8:25:45,  1.41it/s] "
     ]
    },
    {
     "name": "stdout",
     "output_type": "stream",
     "text": [
      "Episode 7200/50000\n",
      "Fitnesses: ['-31.39', '-23.22', '-63.51', '-12.61']\n",
      "100 fitness avgs: ['-21.56', '-21.51', '-21.88', '-21.37']\n"
     ]
    },
    {
     "name": "stderr",
     "output_type": "stream",
     "text": [
      " 14%|█▍        | 7219/50000 [1:07:12<8:08:56,  1.46it/s]"
     ]
    },
    {
     "name": "stdout",
     "output_type": "stream",
     "text": [
      "Episode 7220/50000\n",
      "Fitnesses: ['-25.74', '-38.54', '-18.57', '-39.87']\n",
      "100 fitness avgs: ['-21.60', '-21.92', '-22.04', '-21.75']\n"
     ]
    },
    {
     "name": "stderr",
     "output_type": "stream",
     "text": [
      " 14%|█▍        | 7239/50000 [1:07:26<8:14:33,  1.44it/s]"
     ]
    },
    {
     "name": "stdout",
     "output_type": "stream",
     "text": [
      "Episode 7240/50000\n",
      "Fitnesses: ['-37.12', '-12.08', '-32.50', '-49.98']\n",
      "100 fitness avgs: ['-22.24', '-21.69', '-22.19', '-22.37']\n"
     ]
    },
    {
     "name": "stderr",
     "output_type": "stream",
     "text": [
      " 15%|█▍        | 7259/50000 [1:07:41<9:21:45,  1.27it/s]"
     ]
    },
    {
     "name": "stdout",
     "output_type": "stream",
     "text": [
      "Episode 7260/50000\n",
      "Fitnesses: ['-5.14', '-39.30', '-47.17', '-12.40']\n",
      "100 fitness avgs: ['-21.34', '-22.35', '-21.76', '-21.91']\n"
     ]
    },
    {
     "name": "stderr",
     "output_type": "stream",
     "text": [
      " 15%|█▍        | 7279/50000 [1:07:56<8:48:08,  1.35it/s] "
     ]
    },
    {
     "name": "stdout",
     "output_type": "stream",
     "text": [
      "Episode 7280/50000\n",
      "Fitnesses: ['-40.18', '-13.48', '-48.06', '-10.10']\n",
      "100 fitness avgs: ['-21.62', '-21.77', '-21.70', '-21.32']\n"
     ]
    },
    {
     "name": "stderr",
     "output_type": "stream",
     "text": [
      " 15%|█▍        | 7299/50000 [1:08:11<8:44:38,  1.36it/s] "
     ]
    },
    {
     "name": "stdout",
     "output_type": "stream",
     "text": [
      "Episode 7300/50000\n",
      "Fitnesses: ['-30.84', '-38.07', '-42.77', '-12.47']\n",
      "100 fitness avgs: ['-21.54', '-21.61', '-21.66', '-21.36']\n"
     ]
    },
    {
     "name": "stderr",
     "output_type": "stream",
     "text": [
      " 15%|█▍        | 7319/50000 [1:08:26<9:08:00,  1.30it/s] "
     ]
    },
    {
     "name": "stdout",
     "output_type": "stream",
     "text": [
      "Episode 7320/50000\n",
      "Fitnesses: ['-64.70', '-26.70', '-44.65', '-60.87']\n",
      "100 fitness avgs: ['-21.88', '-21.50', '-21.86', '-22.10']\n"
     ]
    },
    {
     "name": "stderr",
     "output_type": "stream",
     "text": [
      " 15%|█▍        | 7339/50000 [1:08:41<8:51:04,  1.34it/s] "
     ]
    },
    {
     "name": "stdout",
     "output_type": "stream",
     "text": [
      "Episode 7340/50000\n",
      "Fitnesses: ['-48.31', '-34.67', '-6.33', '-34.24']\n",
      "100 fitness avgs: ['-21.93', '-22.39', '-21.88', '-21.79']\n"
     ]
    },
    {
     "name": "stderr",
     "output_type": "stream",
     "text": [
      " 15%|█▍        | 7359/50000 [1:08:54<7:36:14,  1.56it/s] "
     ]
    },
    {
     "name": "stdout",
     "output_type": "stream",
     "text": [
      "Episode 7360/50000\n",
      "Fitnesses: ['-45.52', '-9.49', '-23.23', '-112.81']\n",
      "100 fitness avgs: ['-22.19', '-21.83', '-21.89', '-22.92']\n"
     ]
    },
    {
     "name": "stderr",
     "output_type": "stream",
     "text": [
      " 15%|█▍        | 7379/50000 [1:09:09<8:38:46,  1.37it/s]"
     ]
    },
    {
     "name": "stdout",
     "output_type": "stream",
     "text": [
      "Episode 7380/50000\n",
      "Fitnesses: ['-26.84', '-32.60', '-7.36', '-14.73']\n",
      "100 fitness avgs: ['-21.86', '-22.27', '-22.02', '-21.73']\n"
     ]
    },
    {
     "name": "stderr",
     "output_type": "stream",
     "text": [
      " 15%|█▍        | 7399/50000 [1:09:23<8:25:09,  1.41it/s] "
     ]
    },
    {
     "name": "stdout",
     "output_type": "stream",
     "text": [
      "Episode 7400/50000\n",
      "Fitnesses: ['-48.24', '-55.36', '-54.44', '-12.19']\n",
      "100 fitness avgs: ['-21.98', '-22.06', '-22.05', '-21.34']\n"
     ]
    },
    {
     "name": "stderr",
     "output_type": "stream",
     "text": [
      " 15%|█▍        | 7419/50000 [1:09:38<8:55:55,  1.32it/s] "
     ]
    },
    {
     "name": "stdout",
     "output_type": "stream",
     "text": [
      "Episode 7420/50000\n",
      "Fitnesses: ['-15.63', '-65.74', '-225.27', '-11.37']\n",
      "100 fitness avgs: ['-21.06', '-22.21', '-23.16', '-21.73']\n"
     ]
    },
    {
     "name": "stderr",
     "output_type": "stream",
     "text": [
      " 15%|█▍        | 7439/50000 [1:09:53<9:15:37,  1.28it/s] "
     ]
    },
    {
     "name": "stdout",
     "output_type": "stream",
     "text": [
      "Episode 7440/50000\n",
      "Fitnesses: ['-6.63', '-33.01', '-16.19', '-82.47']\n",
      "100 fitness avgs: ['-21.72', '-21.99', '-21.15', '-22.48']\n"
     ]
    },
    {
     "name": "stderr",
     "output_type": "stream",
     "text": [
      " 15%|█▍        | 7459/50000 [1:10:08<8:40:17,  1.36it/s] "
     ]
    },
    {
     "name": "stdout",
     "output_type": "stream",
     "text": [
      "Episode 7460/50000\n",
      "Fitnesses: ['-20.63', '-16.54', '-44.55', '-85.82']\n",
      "100 fitness avgs: ['-21.79', '-21.75', '-22.03', '-21.87']\n"
     ]
    },
    {
     "name": "stderr",
     "output_type": "stream",
     "text": [
      " 15%|█▍        | 7479/50000 [1:10:23<9:16:06,  1.27it/s] "
     ]
    },
    {
     "name": "stdout",
     "output_type": "stream",
     "text": [
      "Episode 7480/50000\n",
      "Fitnesses: ['-114.52', '-65.47', '-8.08', '-10.52']\n",
      "100 fitness avgs: ['-22.89', '-22.68', '-22.11', '-21.89']\n"
     ]
    },
    {
     "name": "stderr",
     "output_type": "stream",
     "text": [
      " 15%|█▍        | 7499/50000 [1:10:39<8:57:08,  1.32it/s] "
     ]
    },
    {
     "name": "stdout",
     "output_type": "stream",
     "text": [
      "Episode 7500/50000\n",
      "Fitnesses: ['-32.86', '-20.74', '-74.00', '-45.52']\n",
      "100 fitness avgs: ['-22.34', '-22.21', '-22.53', '-22.46']\n"
     ]
    },
    {
     "name": "stderr",
     "output_type": "stream",
     "text": [
      " 15%|█▌        | 7519/50000 [1:10:54<8:48:22,  1.34it/s] "
     ]
    },
    {
     "name": "stdout",
     "output_type": "stream",
     "text": [
      "Episode 7520/50000\n",
      "Fitnesses: ['-58.41', '-16.86', '-22.70', '-16.51']\n",
      "100 fitness avgs: ['-22.61', '-22.31', '-22.37', '-22.31']\n"
     ]
    },
    {
     "name": "stderr",
     "output_type": "stream",
     "text": [
      " 15%|█▌        | 7539/50000 [1:11:06<7:13:23,  1.63it/s]"
     ]
    },
    {
     "name": "stdout",
     "output_type": "stream",
     "text": [
      "Episode 7540/50000\n",
      "Fitnesses: ['-42.43', '-487.07', '-31.17', '-16.22']\n",
      "100 fitness avgs: ['-22.63', '-27.14', '-22.52', '-22.43']\n"
     ]
    },
    {
     "name": "stderr",
     "output_type": "stream",
     "text": [
      " 15%|█▌        | 7559/50000 [1:11:23<10:20:10,  1.14it/s]"
     ]
    },
    {
     "name": "stdout",
     "output_type": "stream",
     "text": [
      "Episode 7560/50000\n",
      "Fitnesses: ['-557.75', '-35.22', '-15.04', '-81.19']\n",
      "100 fitness avgs: ['-27.81', '-22.58', '-22.38', '-23.13']\n"
     ]
    },
    {
     "name": "stderr",
     "output_type": "stream",
     "text": [
      " 15%|█▌        | 7579/50000 [1:11:38<8:57:53,  1.31it/s] "
     ]
    },
    {
     "name": "stdout",
     "output_type": "stream",
     "text": [
      "Episode 7580/50000\n",
      "Fitnesses: ['-31.46', '-159.25', '-11.82', '-35.70']\n",
      "100 fitness avgs: ['-22.59', '-23.87', '-23.15', '-22.84']\n"
     ]
    },
    {
     "name": "stderr",
     "output_type": "stream",
     "text": [
      " 15%|█▌        | 7599/50000 [1:11:53<10:25:33,  1.13it/s]"
     ]
    },
    {
     "name": "stdout",
     "output_type": "stream",
     "text": [
      "Episode 7600/50000\n",
      "Fitnesses: ['-28.80', '-6.21', '-15.50', '-8.25']\n",
      "100 fitness avgs: ['-22.86', '-22.08', '-22.18', '-22.10']\n"
     ]
    },
    {
     "name": "stderr",
     "output_type": "stream",
     "text": [
      " 15%|█▌        | 7619/50000 [1:12:08<8:44:23,  1.35it/s] "
     ]
    },
    {
     "name": "stdout",
     "output_type": "stream",
     "text": [
      "Episode 7620/50000\n",
      "Fitnesses: ['-34.27', '-21.90', '-0.99', '-16.72']\n",
      "100 fitness avgs: ['-22.32', '-22.29', '-22.01', '-22.14']\n"
     ]
    },
    {
     "name": "stderr",
     "output_type": "stream",
     "text": [
      " 15%|█▌        | 7639/50000 [1:12:24<9:42:51,  1.21it/s] "
     ]
    },
    {
     "name": "stdout",
     "output_type": "stream",
     "text": [
      "Episode 7640/50000\n",
      "Fitnesses: ['-15.69', '-331.13', '-56.91', '-21.62']\n",
      "100 fitness avgs: ['-21.83', '-25.27', '-22.56', '-22.03']\n"
     ]
    },
    {
     "name": "stderr",
     "output_type": "stream",
     "text": [
      " 15%|█▌        | 7659/50000 [1:12:40<9:19:03,  1.26it/s] "
     ]
    },
    {
     "name": "stdout",
     "output_type": "stream",
     "text": [
      "Episode 7660/50000\n",
      "Fitnesses: ['-18.61', '-141.81', '-89.43', '-28.56']\n",
      "100 fitness avgs: ['-21.64', '-22.87', '-22.35', '-21.93']\n"
     ]
    },
    {
     "name": "stderr",
     "output_type": "stream",
     "text": [
      " 15%|█▌        | 7679/50000 [1:12:54<8:24:03,  1.40it/s]"
     ]
    },
    {
     "name": "stdout",
     "output_type": "stream",
     "text": [
      "Episode 7680/50000\n",
      "Fitnesses: ['-4.90', '-11.01', '-29.03', '-29.68']\n",
      "100 fitness avgs: ['-21.48', '-21.54', '-22.02', '-22.02']\n"
     ]
    },
    {
     "name": "stderr",
     "output_type": "stream",
     "text": [
      " 15%|█▌        | 7699/50000 [1:13:09<8:48:42,  1.33it/s] "
     ]
    },
    {
     "name": "stdout",
     "output_type": "stream",
     "text": [
      "Episode 7700/50000\n",
      "Fitnesses: ['-44.28', '-18.69', '-18.62', '-2.12']\n",
      "100 fitness avgs: ['-21.59', '-21.39', '-21.87', '-21.23']\n"
     ]
    },
    {
     "name": "stderr",
     "output_type": "stream",
     "text": [
      " 15%|█▌        | 7719/50000 [1:13:26<9:51:28,  1.19it/s] "
     ]
    },
    {
     "name": "stdout",
     "output_type": "stream",
     "text": [
      "Episode 7720/50000\n",
      "Fitnesses: ['-25.94', '-48.60', '-21.74', '-706.98']\n",
      "100 fitness avgs: ['-21.16', '-21.56', '-21.12', '-28.62']\n"
     ]
    },
    {
     "name": "stderr",
     "output_type": "stream",
     "text": [
      " 15%|█▌        | 7739/50000 [1:13:40<8:40:53,  1.35it/s] "
     ]
    },
    {
     "name": "stdout",
     "output_type": "stream",
     "text": [
      "Episode 7740/50000\n",
      "Fitnesses: ['-16.49', '-18.61', '-80.66', '-35.41']\n",
      "100 fitness avgs: ['-21.05', '-21.07', '-21.74', '-21.24']\n"
     ]
    },
    {
     "name": "stderr",
     "output_type": "stream",
     "text": [
      " 16%|█▌        | 7759/50000 [1:13:55<8:47:01,  1.34it/s] "
     ]
    },
    {
     "name": "stdout",
     "output_type": "stream",
     "text": [
      "Episode 7760/50000\n",
      "Fitnesses: ['-51.86', '-3.37', '-61.49', '-5.73']\n",
      "100 fitness avgs: ['-21.53', '-21.07', '-21.63', '-21.75']\n"
     ]
    },
    {
     "name": "stderr",
     "output_type": "stream",
     "text": [
      " 16%|█▌        | 7779/50000 [1:14:09<8:22:03,  1.40it/s]"
     ]
    },
    {
     "name": "stdout",
     "output_type": "stream",
     "text": [
      "Episode 7780/50000\n",
      "Fitnesses: ['-52.63', '-34.48', '-49.99', '-3.79']\n",
      "100 fitness avgs: ['-21.49', '-22.00', '-22.15', '-21.69']\n"
     ]
    },
    {
     "name": "stderr",
     "output_type": "stream",
     "text": [
      " 16%|█▌        | 7799/50000 [1:14:23<8:29:01,  1.38it/s] "
     ]
    },
    {
     "name": "stdout",
     "output_type": "stream",
     "text": [
      "Episode 7800/50000\n",
      "Fitnesses: ['-4.04', '-24.96', '-38.30', '-22.73']\n",
      "100 fitness avgs: ['-21.17', '-21.38', '-21.82', '-21.35']\n"
     ]
    },
    {
     "name": "stderr",
     "output_type": "stream",
     "text": [
      " 16%|█▌        | 7819/50000 [1:14:37<8:16:28,  1.42it/s]"
     ]
    },
    {
     "name": "stdout",
     "output_type": "stream",
     "text": [
      "Episode 7820/50000\n",
      "Fitnesses: ['-40.34', '-67.07', '-39.51', '-9.12']\n",
      "100 fitness avgs: ['-21.48', '-21.75', '-21.47', '-21.36']\n"
     ]
    },
    {
     "name": "stderr",
     "output_type": "stream",
     "text": [
      " 16%|█▌        | 7839/50000 [1:14:51<8:02:42,  1.46it/s]"
     ]
    },
    {
     "name": "stdout",
     "output_type": "stream",
     "text": [
      "Episode 7840/50000\n",
      "Fitnesses: ['-23.67', '-63.87', '-16.18', '-60.04']\n",
      "100 fitness avgs: ['-21.47', '-21.87', '-21.40', '-21.95']\n"
     ]
    },
    {
     "name": "stderr",
     "output_type": "stream",
     "text": [
      " 16%|█▌        | 7859/50000 [1:15:05<8:06:18,  1.44it/s]"
     ]
    },
    {
     "name": "stdout",
     "output_type": "stream",
     "text": [
      "Episode 7860/50000\n",
      "Fitnesses: ['-26.45', '-93.38', '-42.10', '-40.93']\n",
      "100 fitness avgs: ['-21.44', '-22.18', '-21.59', '-22.14']\n"
     ]
    },
    {
     "name": "stderr",
     "output_type": "stream",
     "text": [
      " 16%|█▌        | 7879/50000 [1:15:19<8:27:49,  1.38it/s]"
     ]
    },
    {
     "name": "stdout",
     "output_type": "stream",
     "text": [
      "Episode 7880/50000\n",
      "Fitnesses: ['-56.18', '-12.34', '-29.43', '-24.68']\n",
      "100 fitness avgs: ['-21.83', '-21.40', '-22.27', '-21.52']\n"
     ]
    },
    {
     "name": "stderr",
     "output_type": "stream",
     "text": [
      " 16%|█▌        | 7899/50000 [1:15:34<8:38:50,  1.35it/s]"
     ]
    },
    {
     "name": "stdout",
     "output_type": "stream",
     "text": [
      "Episode 7900/50000\n",
      "Fitnesses: ['-16.11', '-97.28', '-18.35', '-24.66']\n",
      "100 fitness avgs: ['-21.34', '-22.15', '-21.36', '-21.55']\n"
     ]
    },
    {
     "name": "stderr",
     "output_type": "stream",
     "text": [
      " 16%|█▌        | 7919/50000 [1:15:48<8:25:37,  1.39it/s]"
     ]
    },
    {
     "name": "stdout",
     "output_type": "stream",
     "text": [
      "Episode 7920/50000\n",
      "Fitnesses: ['-25.39', '-18.09', '-8.86', '-67.04']\n",
      "100 fitness avgs: ['-21.49', '-21.42', '-21.32', '-21.91']\n"
     ]
    },
    {
     "name": "stderr",
     "output_type": "stream",
     "text": [
      " 16%|█▌        | 7939/50000 [1:16:02<8:49:28,  1.32it/s] "
     ]
    },
    {
     "name": "stdout",
     "output_type": "stream",
     "text": [
      "Episode 7940/50000\n",
      "Fitnesses: ['-21.65', '-9.32', '-86.88', '-11.24']\n",
      "100 fitness avgs: ['-21.42', '-21.38', '-22.07', '-21.31']\n"
     ]
    },
    {
     "name": "stderr",
     "output_type": "stream",
     "text": [
      " 16%|█▌        | 7959/50000 [1:16:15<7:25:09,  1.57it/s]"
     ]
    },
    {
     "name": "stdout",
     "output_type": "stream",
     "text": [
      "Episode 7960/50000\n",
      "Fitnesses: ['-2.97', '-6.90', '-86.54', '-31.49']\n",
      "100 fitness avgs: ['-21.37', '-21.33', '-22.88', '-21.65']\n"
     ]
    },
    {
     "name": "stderr",
     "output_type": "stream",
     "text": [
      " 16%|█▌        | 7979/50000 [1:16:31<9:14:35,  1.26it/s] "
     ]
    },
    {
     "name": "stdout",
     "output_type": "stream",
     "text": [
      "Episode 7980/50000\n",
      "Fitnesses: ['-40.89', '-41.52', '-55.33', '-272.51']\n",
      "100 fitness avgs: ['-21.73', '-21.70', '-21.87', '-24.01']\n"
     ]
    },
    {
     "name": "stderr",
     "output_type": "stream",
     "text": [
      " 16%|█▌        | 7999/50000 [1:16:46<8:37:31,  1.35it/s] "
     ]
    },
    {
     "name": "stdout",
     "output_type": "stream",
     "text": [
      "Episode 8000/50000\n",
      "Fitnesses: ['-24.91', '-25.59', '-27.39', '-119.77']\n",
      "100 fitness avgs: ['-21.95', '-21.95', '-21.97', '-25.18']\n"
     ]
    },
    {
     "name": "stderr",
     "output_type": "stream",
     "text": [
      " 16%|█▌        | 8019/50000 [1:16:59<7:36:08,  1.53it/s]"
     ]
    },
    {
     "name": "stdout",
     "output_type": "stream",
     "text": [
      "Episode 8020/50000\n",
      "Fitnesses: ['-30.67', '-253.83', '-61.91', '-14.16']\n",
      "100 fitness avgs: ['-22.02', '-24.26', '-22.33', '-21.86']\n"
     ]
    },
    {
     "name": "stderr",
     "output_type": "stream",
     "text": [
      " 16%|█▌        | 8039/50000 [1:17:13<7:29:33,  1.56it/s]"
     ]
    },
    {
     "name": "stdout",
     "output_type": "stream",
     "text": [
      "Episode 8040/50000\n",
      "Fitnesses: ['-31.51', '-28.23', '-66.68', '-75.87']\n",
      "100 fitness avgs: ['-21.97', '-21.94', '-22.32', '-22.58']\n"
     ]
    },
    {
     "name": "stderr",
     "output_type": "stream",
     "text": [
      " 16%|█▌        | 8059/50000 [1:17:25<7:10:22,  1.62it/s]"
     ]
    },
    {
     "name": "stdout",
     "output_type": "stream",
     "text": [
      "Episode 8060/50000\n",
      "Fitnesses: ['-5.83', '-1.44', '-404.68', '-38.38']\n",
      "100 fitness avgs: ['-21.88', '-21.83', '-25.90', '-22.24']\n"
     ]
    },
    {
     "name": "stderr",
     "output_type": "stream",
     "text": [
      " 16%|█▌        | 8079/50000 [1:17:39<8:41:31,  1.34it/s]"
     ]
    },
    {
     "name": "stdout",
     "output_type": "stream",
     "text": [
      "Episode 8080/50000\n",
      "Fitnesses: ['-5.57', '-16.43', '-38.76', '-126.21']\n",
      "100 fitness avgs: ['-21.70', '-21.81', '-22.03', '-22.95']\n"
     ]
    },
    {
     "name": "stderr",
     "output_type": "stream",
     "text": [
      " 16%|█▌        | 8099/50000 [1:17:54<8:34:10,  1.36it/s] "
     ]
    },
    {
     "name": "stdout",
     "output_type": "stream",
     "text": [
      "Episode 8100/50000\n",
      "Fitnesses: ['-9.05', '-39.98', '-67.76', '-64.11']\n",
      "100 fitness avgs: ['-21.70', '-22.01', '-22.62', '-22.36']\n"
     ]
    },
    {
     "name": "stderr",
     "output_type": "stream",
     "text": [
      " 16%|█▌        | 8119/50000 [1:18:08<8:21:47,  1.39it/s] "
     ]
    },
    {
     "name": "stdout",
     "output_type": "stream",
     "text": [
      "Episode 8120/50000\n",
      "Fitnesses: ['-36.34', '-5.79', '-27.23', '-62.31']\n",
      "100 fitness avgs: ['-21.94', '-21.64', '-22.51', '-22.51']\n"
     ]
    },
    {
     "name": "stderr",
     "output_type": "stream",
     "text": [
      " 16%|█▋        | 8139/50000 [1:18:21<7:15:21,  1.60it/s]"
     ]
    },
    {
     "name": "stdout",
     "output_type": "stream",
     "text": [
      "Episode 8140/50000\n",
      "Fitnesses: ['-270.46', '-9.99', '-52.43', '-24.56']\n",
      "100 fitness avgs: ['-24.02', '-22.29', '-21.84', '-21.56']\n"
     ]
    },
    {
     "name": "stderr",
     "output_type": "stream",
     "text": [
      " 16%|█▋        | 8159/50000 [1:18:35<8:51:21,  1.31it/s]"
     ]
    },
    {
     "name": "stdout",
     "output_type": "stream",
     "text": [
      "Episode 8160/50000\n",
      "Fitnesses: ['-108.54', '-57.11', '-15.93', '-16.17']\n",
      "100 fitness avgs: ['-23.04', '-24.26', '-22.12', '-21.39']\n"
     ]
    },
    {
     "name": "stderr",
     "output_type": "stream",
     "text": [
      " 16%|█▋        | 8179/50000 [1:18:52<9:40:23,  1.20it/s] "
     ]
    },
    {
     "name": "stdout",
     "output_type": "stream",
     "text": [
      "Episode 8180/50000\n",
      "Fitnesses: ['-16.58', '-10.18', '-292.07', '-39.21']\n",
      "100 fitness avgs: ['-22.05', '-21.26', '-25.73', '-21.55']\n"
     ]
    },
    {
     "name": "stderr",
     "output_type": "stream",
     "text": [
      " 16%|█▋        | 8199/50000 [1:19:06<8:37:06,  1.35it/s] "
     ]
    },
    {
     "name": "stdout",
     "output_type": "stream",
     "text": [
      "Episode 8200/50000\n",
      "Fitnesses: ['-35.80', '-13.91', '-49.05', '-23.52']\n",
      "100 fitness avgs: ['-21.59', '-21.38', '-22.52', '-22.26']\n"
     ]
    },
    {
     "name": "stderr",
     "output_type": "stream",
     "text": [
      " 16%|█▋        | 8219/50000 [1:19:21<8:35:15,  1.35it/s] "
     ]
    },
    {
     "name": "stdout",
     "output_type": "stream",
     "text": [
      "Episode 8220/50000\n",
      "Fitnesses: ['-25.14', '-39.13', '-81.56', '-13.09']\n",
      "100 fitness avgs: ['-21.51', '-21.65', '-22.07', '-21.39']\n"
     ]
    },
    {
     "name": "stderr",
     "output_type": "stream",
     "text": [
      " 16%|█▋        | 8239/50000 [1:19:36<8:40:23,  1.34it/s]"
     ]
    },
    {
     "name": "stdout",
     "output_type": "stream",
     "text": [
      "Episode 8240/50000\n",
      "Fitnesses: ['-40.40', '-93.81', '-13.06', '-36.84']\n",
      "100 fitness avgs: ['-21.62', '-22.42', '-21.47', '-21.85']\n"
     ]
    },
    {
     "name": "stderr",
     "output_type": "stream",
     "text": [
      " 17%|█▋        | 8259/50000 [1:19:51<8:43:03,  1.33it/s] "
     ]
    },
    {
     "name": "stdout",
     "output_type": "stream",
     "text": [
      "Episode 8260/50000\n",
      "Fitnesses: ['-38.57', '-7.60', '-6.20', '-5.09']\n",
      "100 fitness avgs: ['-21.63', '-21.47', '-21.68', '-21.30']\n"
     ]
    },
    {
     "name": "stderr",
     "output_type": "stream",
     "text": [
      " 17%|█▋        | 8279/50000 [1:20:06<8:32:28,  1.36it/s]"
     ]
    },
    {
     "name": "stdout",
     "output_type": "stream",
     "text": [
      "Episode 8280/50000\n",
      "Fitnesses: ['-8.16', '-5.80', '-30.55', '-30.81']\n",
      "100 fitness avgs: ['-21.28', '-21.43', '-21.89', '-21.89']\n"
     ]
    },
    {
     "name": "stderr",
     "output_type": "stream",
     "text": [
      " 17%|█▋        | 8299/50000 [1:20:21<8:55:17,  1.30it/s]"
     ]
    },
    {
     "name": "stdout",
     "output_type": "stream",
     "text": [
      "Episode 8300/50000\n",
      "Fitnesses: ['-40.66', '-10.84', '-23.11', '-87.84']\n",
      "100 fitness avgs: ['-20.95', '-20.50', '-21.23', '-21.42']\n"
     ]
    },
    {
     "name": "stderr",
     "output_type": "stream",
     "text": [
      " 17%|█▋        | 8319/50000 [1:20:35<8:54:13,  1.30it/s] "
     ]
    },
    {
     "name": "stdout",
     "output_type": "stream",
     "text": [
      "Episode 8320/50000\n",
      "Fitnesses: ['-42.79', '-6.34', '-80.22', '-14.48']\n",
      "100 fitness avgs: ['-20.62', '-20.99', '-21.45', '-20.79']\n"
     ]
    },
    {
     "name": "stderr",
     "output_type": "stream",
     "text": [
      " 17%|█▋        | 8339/50000 [1:20:50<8:41:52,  1.33it/s]"
     ]
    },
    {
     "name": "stdout",
     "output_type": "stream",
     "text": [
      "Episode 8340/50000\n",
      "Fitnesses: ['-83.21', '-11.71', '-12.79', '-10.61']\n",
      "100 fitness avgs: ['-21.06', '-19.97', '-20.35', '-20.33']\n"
     ]
    },
    {
     "name": "stderr",
     "output_type": "stream",
     "text": [
      " 17%|█▋        | 8359/50000 [1:21:04<8:23:27,  1.38it/s]"
     ]
    },
    {
     "name": "stdout",
     "output_type": "stream",
     "text": [
      "Episode 8360/50000\n",
      "Fitnesses: ['-27.07', '-51.63', '-52.18', '-20.56']\n",
      "100 fitness avgs: ['-20.52', '-20.77', '-20.77', '-20.46']\n"
     ]
    },
    {
     "name": "stderr",
     "output_type": "stream",
     "text": [
      " 17%|█▋        | 8379/50000 [1:21:18<8:19:09,  1.39it/s]"
     ]
    },
    {
     "name": "stdout",
     "output_type": "stream",
     "text": [
      "Episode 8380/50000\n",
      "Fitnesses: ['-16.67', '-90.42', '-33.17', '-13.08']\n",
      "100 fitness avgs: ['-20.59', '-21.32', '-20.82', '-20.86']\n"
     ]
    },
    {
     "name": "stderr",
     "output_type": "stream",
     "text": [
      " 17%|█▋        | 8399/50000 [1:21:33<8:07:36,  1.42it/s] "
     ]
    },
    {
     "name": "stdout",
     "output_type": "stream",
     "text": [
      "Episode 8400/50000\n",
      "Fitnesses: ['-21.93', '-5.80', '-26.79', '-3.69']\n",
      "100 fitness avgs: ['-20.97', '-20.53', '-21.02', '-20.79']\n"
     ]
    },
    {
     "name": "stderr",
     "output_type": "stream",
     "text": [
      " 17%|█▋        | 8419/50000 [1:21:47<8:02:09,  1.44it/s] "
     ]
    },
    {
     "name": "stdout",
     "output_type": "stream",
     "text": [
      "Episode 8420/50000\n",
      "Fitnesses: ['-17.71', '-40.63', '-93.70', '-19.36']\n",
      "100 fitness avgs: ['-20.93', '-21.15', '-21.68', '-20.94']\n"
     ]
    },
    {
     "name": "stderr",
     "output_type": "stream",
     "text": [
      " 17%|█▋        | 8439/50000 [1:22:02<8:20:05,  1.39it/s] "
     ]
    },
    {
     "name": "stdout",
     "output_type": "stream",
     "text": [
      "Episode 8440/50000\n",
      "Fitnesses: ['-52.96', '-21.26', '-67.80', '-71.24']\n",
      "100 fitness avgs: ['-21.40', '-21.09', '-21.57', '-21.59']\n"
     ]
    },
    {
     "name": "stderr",
     "output_type": "stream",
     "text": [
      " 17%|█▋        | 8459/50000 [1:22:16<8:03:25,  1.43it/s] "
     ]
    },
    {
     "name": "stdout",
     "output_type": "stream",
     "text": [
      "Episode 8460/50000\n",
      "Fitnesses: ['-7.58', '-60.83', '-22.77', '-38.73']\n",
      "100 fitness avgs: ['-20.91', '-21.44', '-21.06', '-21.70']\n"
     ]
    },
    {
     "name": "stderr",
     "output_type": "stream",
     "text": [
      " 17%|█▋        | 8479/50000 [1:22:31<8:30:12,  1.36it/s]"
     ]
    },
    {
     "name": "stdout",
     "output_type": "stream",
     "text": [
      "Episode 8480/50000\n",
      "Fitnesses: ['-10.86', '-29.94', '-21.90', '-42.10']\n",
      "100 fitness avgs: ['-20.69', '-21.03', '-20.95', '-21.53']\n"
     ]
    },
    {
     "name": "stderr",
     "output_type": "stream",
     "text": [
      " 17%|█▋        | 8499/50000 [1:22:45<8:11:24,  1.41it/s] "
     ]
    },
    {
     "name": "stdout",
     "output_type": "stream",
     "text": [
      "Episode 8500/50000\n",
      "Fitnesses: ['-14.19', '-14.38', '-11.09', '-25.44']\n",
      "100 fitness avgs: ['-20.67', '-21.02', '-20.64', '-21.13']\n"
     ]
    },
    {
     "name": "stderr",
     "output_type": "stream",
     "text": [
      " 17%|█▋        | 8519/50000 [1:22:59<8:21:16,  1.38it/s]"
     ]
    },
    {
     "name": "stdout",
     "output_type": "stream",
     "text": [
      "Episode 8520/50000\n",
      "Fitnesses: ['-24.01', '-44.46', '-59.78', '-10.11']\n",
      "100 fitness avgs: ['-20.75', '-20.96', '-21.11', '-20.61']\n"
     ]
    },
    {
     "name": "stderr",
     "output_type": "stream",
     "text": [
      " 17%|█▋        | 8539/50000 [1:23:14<8:35:50,  1.34it/s] "
     ]
    },
    {
     "name": "stdout",
     "output_type": "stream",
     "text": [
      "Episode 8540/50000\n",
      "Fitnesses: ['-19.75', '-10.82', '-28.25', '-42.33']\n",
      "100 fitness avgs: ['-20.73', '-20.78', '-20.82', '-21.45']\n"
     ]
    },
    {
     "name": "stderr",
     "output_type": "stream",
     "text": [
      " 17%|█▋        | 8559/50000 [1:23:28<8:28:29,  1.36it/s] "
     ]
    },
    {
     "name": "stdout",
     "output_type": "stream",
     "text": [
      "Episode 8560/50000\n",
      "Fitnesses: ['-55.74', '-42.78', '-38.58', '-44.32']\n",
      "100 fitness avgs: ['-21.11', '-20.98', '-20.89', '-21.03']\n"
     ]
    },
    {
     "name": "stderr",
     "output_type": "stream",
     "text": [
      " 17%|█▋        | 8579/50000 [1:23:43<8:14:34,  1.40it/s] "
     ]
    },
    {
     "name": "stdout",
     "output_type": "stream",
     "text": [
      "Episode 8580/50000\n",
      "Fitnesses: ['-1.41', '-51.08', '-79.75', '-46.11']\n",
      "100 fitness avgs: ['-20.81', '-21.30', '-21.73', '-21.25']\n"
     ]
    },
    {
     "name": "stderr",
     "output_type": "stream",
     "text": [
      " 17%|█▋        | 8599/50000 [1:23:57<8:23:33,  1.37it/s]"
     ]
    },
    {
     "name": "stdout",
     "output_type": "stream",
     "text": [
      "Episode 8600/50000\n",
      "Fitnesses: ['-45.43', '-26.40', '-49.98', '-26.10']\n",
      "100 fitness avgs: ['-21.07', '-21.38', '-21.56', '-20.88']\n"
     ]
    },
    {
     "name": "stderr",
     "output_type": "stream",
     "text": [
      " 17%|█▋        | 8619/50000 [1:24:16<10:57:56,  1.05it/s]"
     ]
    },
    {
     "name": "stdout",
     "output_type": "stream",
     "text": [
      "Episode 8620/50000\n",
      "Fitnesses: ['-32.65', '-22.44', '-601.06', '-47.73']\n",
      "100 fitness avgs: ['-20.94', '-20.84', '-26.62', '-21.59']\n"
     ]
    },
    {
     "name": "stderr",
     "output_type": "stream",
     "text": [
      " 17%|█▋        | 8639/50000 [1:24:30<8:22:50,  1.37it/s] "
     ]
    },
    {
     "name": "stdout",
     "output_type": "stream",
     "text": [
      "Episode 8640/50000\n",
      "Fitnesses: ['-2.10', '-18.50', '-43.79', '-24.88']\n",
      "100 fitness avgs: ['-20.75', '-21.02', '-21.27', '-21.08']\n"
     ]
    },
    {
     "name": "stderr",
     "output_type": "stream",
     "text": [
      " 17%|█▋        | 8659/50000 [1:24:45<8:12:47,  1.40it/s]"
     ]
    },
    {
     "name": "stdout",
     "output_type": "stream",
     "text": [
      "Episode 8660/50000\n",
      "Fitnesses: ['-71.76', '-39.85', '-9.04', '-50.46']\n",
      "100 fitness avgs: ['-21.44', '-21.12', '-21.15', '-21.56']\n"
     ]
    },
    {
     "name": "stderr",
     "output_type": "stream",
     "text": [
      " 17%|█▋        | 8679/50000 [1:24:59<8:11:32,  1.40it/s]"
     ]
    },
    {
     "name": "stdout",
     "output_type": "stream",
     "text": [
      "Episode 8680/50000\n",
      "Fitnesses: ['-14.76', '-17.09', '-20.12', '-21.86']\n",
      "100 fitness avgs: ['-21.19', '-21.19', '-21.22', '-21.68']\n"
     ]
    },
    {
     "name": "stderr",
     "output_type": "stream",
     "text": [
      " 17%|█▋        | 8699/50000 [1:25:17<11:09:25,  1.03it/s]"
     ]
    },
    {
     "name": "stdout",
     "output_type": "stream",
     "text": [
      "Episode 8700/50000\n",
      "Fitnesses: ['-89.36', '-21.97', '-33.16', '-167.12']\n",
      "100 fitness avgs: ['-22.05', '-21.41', '-21.52', '-22.83']\n"
     ]
    },
    {
     "name": "stderr",
     "output_type": "stream",
     "text": [
      " 17%|█▋        | 8719/50000 [1:25:36<10:46:13,  1.06it/s]"
     ]
    },
    {
     "name": "stdout",
     "output_type": "stream",
     "text": [
      "Episode 8720/50000\n",
      "Fitnesses: ['-28.57', '-240.67', '-42.87', '-208.84']\n",
      "100 fitness avgs: ['-21.55', '-24.31', '-21.81', '-24.00']\n"
     ]
    },
    {
     "name": "stderr",
     "output_type": "stream",
     "text": [
      " 17%|█▋        | 8739/50000 [1:25:53<9:28:34,  1.21it/s] "
     ]
    },
    {
     "name": "stdout",
     "output_type": "stream",
     "text": [
      "Episode 8740/50000\n",
      "Fitnesses: ['-21.03', '-28.08', '-258.23', '-78.06']\n",
      "100 fitness avgs: ['-21.51', '-21.58', '-26.64', '-22.08']\n"
     ]
    },
    {
     "name": "stderr",
     "output_type": "stream",
     "text": [
      " 18%|█▊        | 8759/50000 [1:26:07<8:14:23,  1.39it/s] "
     ]
    },
    {
     "name": "stdout",
     "output_type": "stream",
     "text": [
      "Episode 8760/50000\n",
      "Fitnesses: ['-6.80', '-49.54', '-16.00', '-13.84']\n",
      "100 fitness avgs: ['-21.53', '-22.03', '-21.62', '-21.67']\n"
     ]
    },
    {
     "name": "stderr",
     "output_type": "stream",
     "text": [
      " 18%|█▊        | 8779/50000 [1:26:23<9:07:20,  1.26it/s] "
     ]
    },
    {
     "name": "stdout",
     "output_type": "stream",
     "text": [
      "Episode 8780/50000\n",
      "Fitnesses: ['-91.92', '-0.82', '-17.93', '-386.30']\n",
      "100 fitness avgs: ['-22.05', '-21.28', '-21.31', '-25.00']\n"
     ]
    },
    {
     "name": "stderr",
     "output_type": "stream",
     "text": [
      " 18%|█▊        | 8799/50000 [1:26:38<8:13:10,  1.39it/s] "
     ]
    },
    {
     "name": "stdout",
     "output_type": "stream",
     "text": [
      "Episode 8800/50000\n",
      "Fitnesses: ['-43.72', '-46.03', '-87.41', '-60.83']\n",
      "100 fitness avgs: ['-21.66', '-21.69', '-22.13', '-21.84']\n"
     ]
    },
    {
     "name": "stderr",
     "output_type": "stream",
     "text": [
      " 18%|█▊        | 8819/50000 [1:26:52<8:25:58,  1.36it/s]"
     ]
    },
    {
     "name": "stdout",
     "output_type": "stream",
     "text": [
      "Episode 8820/50000\n",
      "Fitnesses: ['-29.58', '-69.92', '-7.69', '-19.22']\n",
      "100 fitness avgs: ['-21.91', '-22.34', '-21.71', '-21.81']\n"
     ]
    },
    {
     "name": "stderr",
     "output_type": "stream",
     "text": [
      " 18%|█▊        | 8839/50000 [1:27:09<9:37:11,  1.19it/s] "
     ]
    },
    {
     "name": "stdout",
     "output_type": "stream",
     "text": [
      "Episode 8840/50000\n",
      "Fitnesses: ['-9.00', '-40.78', '-93.75', '-30.67']\n",
      "100 fitness avgs: ['-21.21', '-22.15', '-22.15', '-21.43']\n"
     ]
    },
    {
     "name": "stderr",
     "output_type": "stream",
     "text": [
      " 18%|█▊        | 8859/50000 [1:27:26<9:29:57,  1.20it/s] "
     ]
    },
    {
     "name": "stdout",
     "output_type": "stream",
     "text": [
      "Episode 8860/50000\n",
      "Fitnesses: ['-3.39', '-536.58', '-67.79', '-22.54']\n",
      "100 fitness avgs: ['-21.00', '-27.27', '-21.64', '-21.19']\n"
     ]
    },
    {
     "name": "stderr",
     "output_type": "stream",
     "text": [
      " 18%|█▊        | 8879/50000 [1:27:41<8:30:11,  1.34it/s] "
     ]
    },
    {
     "name": "stdout",
     "output_type": "stream",
     "text": [
      "Episode 8880/50000\n",
      "Fitnesses: ['-22.42', '-18.92', '-5.94', '-21.08']\n",
      "100 fitness avgs: ['-21.12', '-21.08', '-21.14', '-21.29']\n"
     ]
    },
    {
     "name": "stderr",
     "output_type": "stream",
     "text": [
      " 18%|█▊        | 8899/50000 [1:27:56<8:38:15,  1.32it/s] "
     ]
    },
    {
     "name": "stdout",
     "output_type": "stream",
     "text": [
      "Episode 8900/50000\n",
      "Fitnesses: ['-59.13', '-31.43', '-6.61', '-26.82']\n",
      "100 fitness avgs: ['-20.54', '-20.26', '-20.01', '-20.19']\n"
     ]
    },
    {
     "name": "stderr",
     "output_type": "stream",
     "text": [
      " 18%|█▊        | 8919/50000 [1:28:11<8:43:32,  1.31it/s] "
     ]
    },
    {
     "name": "stdout",
     "output_type": "stream",
     "text": [
      "Episode 8920/50000\n",
      "Fitnesses: ['-6.32', '-55.17', '-19.18', '-19.83']\n",
      "100 fitness avgs: ['-20.00', '-20.67', '-20.31', '-20.31']\n"
     ]
    },
    {
     "name": "stderr",
     "output_type": "stream",
     "text": [
      " 18%|█▊        | 8939/50000 [1:28:27<8:41:18,  1.31it/s] "
     ]
    },
    {
     "name": "stdout",
     "output_type": "stream",
     "text": [
      "Episode 8940/50000\n",
      "Fitnesses: ['-1.46', '-17.19', '-13.20', '-117.16']\n",
      "100 fitness avgs: ['-19.24', '-19.39', '-19.36', '-20.39']\n"
     ]
    },
    {
     "name": "stderr",
     "output_type": "stream",
     "text": [
      " 18%|█▊        | 8959/50000 [1:28:42<8:42:44,  1.31it/s] "
     ]
    },
    {
     "name": "stdout",
     "output_type": "stream",
     "text": [
      "Episode 8960/50000\n",
      "Fitnesses: ['-13.57', '-32.29', '-1.43', '-19.04']\n",
      "100 fitness avgs: ['-18.49', '-18.83', '-18.48', '-18.66']\n"
     ]
    },
    {
     "name": "stderr",
     "output_type": "stream",
     "text": [
      " 18%|█▊        | 8979/50000 [1:28:58<8:34:53,  1.33it/s] "
     ]
    },
    {
     "name": "stdout",
     "output_type": "stream",
     "text": [
      "Episode 8980/50000\n",
      "Fitnesses: ['-49.97', '-52.66', '-24.01', '-42.75']\n",
      "100 fitness avgs: ['-18.74', '-18.95', '-18.49', '-18.67']\n"
     ]
    },
    {
     "name": "stderr",
     "output_type": "stream",
     "text": [
      " 18%|█▊        | 8999/50000 [1:29:13<8:31:35,  1.34it/s]"
     ]
    },
    {
     "name": "stdout",
     "output_type": "stream",
     "text": [
      "Episode 9000/50000\n",
      "Fitnesses: ['-31.40', '-20.13', '-43.34', '-32.40']\n",
      "100 fitness avgs: ['-18.66', '-19.01', '-19.03', '-18.67']\n"
     ]
    },
    {
     "name": "stderr",
     "output_type": "stream",
     "text": [
      " 18%|█▊        | 9019/50000 [1:29:28<9:12:55,  1.24it/s]"
     ]
    },
    {
     "name": "stdout",
     "output_type": "stream",
     "text": [
      "Episode 9020/50000\n",
      "Fitnesses: ['-45.19', '-26.10', '-40.34', '-57.65']\n",
      "100 fitness avgs: ['-19.43', '-18.90', '-19.05', '-19.21']\n"
     ]
    },
    {
     "name": "stderr",
     "output_type": "stream",
     "text": [
      " 18%|█▊        | 9039/50000 [1:29:43<8:28:03,  1.34it/s] "
     ]
    },
    {
     "name": "stdout",
     "output_type": "stream",
     "text": [
      "Episode 9040/50000\n",
      "Fitnesses: ['-67.83', '-16.72', '-8.72', '-57.60']\n",
      "100 fitness avgs: ['-19.51', '-19.00', '-19.23', '-19.72']\n"
     ]
    },
    {
     "name": "stderr",
     "output_type": "stream",
     "text": [
      " 18%|█▊        | 9059/50000 [1:29:55<7:13:26,  1.57it/s]"
     ]
    },
    {
     "name": "stdout",
     "output_type": "stream",
     "text": [
      "Episode 9060/50000\n",
      "Fitnesses: ['-334.44', '-66.65', '-22.75', '-3.66']\n",
      "100 fitness avgs: ['-22.21', '-19.29', '-19.37', '-19.39']\n"
     ]
    },
    {
     "name": "stderr",
     "output_type": "stream",
     "text": [
      " 18%|█▊        | 9079/50000 [1:30:10<8:34:42,  1.33it/s]"
     ]
    },
    {
     "name": "stdout",
     "output_type": "stream",
     "text": [
      "Episode 9080/50000\n",
      "Fitnesses: ['-9.43', '-15.67', '-40.06', '-30.01']\n",
      "100 fitness avgs: ['-19.34', '-19.41', '-19.63', '-19.53']\n"
     ]
    },
    {
     "name": "stderr",
     "output_type": "stream",
     "text": [
      " 18%|█▊        | 9099/50000 [1:30:25<8:49:46,  1.29it/s] "
     ]
    },
    {
     "name": "stdout",
     "output_type": "stream",
     "text": [
      "Episode 9100/50000\n",
      "Fitnesses: ['-56.27', '-73.51', '-161.90', '-35.15']\n",
      "100 fitness avgs: ['-19.81', '-20.05', '-20.87', '-19.66']\n"
     ]
    },
    {
     "name": "stderr",
     "output_type": "stream",
     "text": [
      " 18%|█▊        | 9119/50000 [1:30:41<8:52:40,  1.28it/s] "
     ]
    },
    {
     "name": "stdout",
     "output_type": "stream",
     "text": [
      "Episode 9120/50000\n",
      "Fitnesses: ['-42.68', '-66.34', '-25.91', '-52.84']\n",
      "100 fitness avgs: ['-19.89', '-20.13', '-19.73', '-20.38']\n"
     ]
    },
    {
     "name": "stderr",
     "output_type": "stream",
     "text": [
      " 18%|█▊        | 9139/50000 [1:31:00<11:21:20,  1.00s/it]"
     ]
    },
    {
     "name": "stdout",
     "output_type": "stream",
     "text": [
      "Episode 9140/50000\n",
      "Fitnesses: ['-830.21', '-22.78', '-14.23', '-205.94']\n",
      "100 fitness avgs: ['-27.57', '-19.66', '-19.41', '-21.49']\n"
     ]
    },
    {
     "name": "stderr",
     "output_type": "stream",
     "text": [
      " 18%|█▊        | 9159/50000 [1:31:17<9:45:20,  1.16it/s] "
     ]
    },
    {
     "name": "stdout",
     "output_type": "stream",
     "text": [
      "Episode 9160/50000\n",
      "Fitnesses: ['-20.07', '-27.91', '-52.89', '-123.98']\n",
      "100 fitness avgs: ['-19.51', '-19.84', '-20.09', '-22.63']\n"
     ]
    },
    {
     "name": "stderr",
     "output_type": "stream",
     "text": [
      " 18%|█▊        | 9179/50000 [1:31:32<8:35:50,  1.32it/s] "
     ]
    },
    {
     "name": "stdout",
     "output_type": "stream",
     "text": [
      "Episode 9180/50000\n",
      "Fitnesses: ['-31.19', '-50.48', '-8.81', '-28.50']\n",
      "100 fitness avgs: ['-19.58', '-19.77', '-19.69', '-19.55']\n"
     ]
    },
    {
     "name": "stderr",
     "output_type": "stream",
     "text": [
      " 18%|█▊        | 9199/50000 [1:31:49<9:56:45,  1.14it/s] "
     ]
    },
    {
     "name": "stdout",
     "output_type": "stream",
     "text": [
      "Episode 9200/50000\n",
      "Fitnesses: ['-500.11', '-4.80', '-8.67', '-52.74']\n",
      "100 fitness avgs: ['-24.56', '-19.47', '-19.65', '-20.17']\n"
     ]
    },
    {
     "name": "stderr",
     "output_type": "stream",
     "text": [
      " 18%|█▊        | 9219/50000 [1:32:06<9:51:05,  1.15it/s] "
     ]
    },
    {
     "name": "stdout",
     "output_type": "stream",
     "text": [
      "Episode 9220/50000\n",
      "Fitnesses: ['-411.26', '-7.35', '-49.16', '-35.17']\n",
      "100 fitness avgs: ['-23.19', '-19.15', '-19.57', '-19.43']\n"
     ]
    },
    {
     "name": "stderr",
     "output_type": "stream",
     "text": [
      " 18%|█▊        | 9239/50000 [1:32:21<8:36:54,  1.31it/s] "
     ]
    },
    {
     "name": "stdout",
     "output_type": "stream",
     "text": [
      "Episode 9240/50000\n",
      "Fitnesses: ['-21.28', '-49.77', '-65.28', '-30.95']\n",
      "100 fitness avgs: ['-19.24', '-19.94', '-19.68', '-19.62']\n"
     ]
    },
    {
     "name": "stderr",
     "output_type": "stream",
     "text": [
      " 19%|█▊        | 9259/50000 [1:32:37<8:39:36,  1.31it/s]"
     ]
    },
    {
     "name": "stdout",
     "output_type": "stream",
     "text": [
      "Episode 9260/50000\n",
      "Fitnesses: ['-27.96', '-10.92', '-9.85', '-9.52']\n",
      "100 fitness avgs: ['-19.47', '-20.00', '-19.29', '-19.72']\n"
     ]
    },
    {
     "name": "stderr",
     "output_type": "stream",
     "text": [
      " 19%|█▊        | 9279/50000 [1:32:52<8:39:15,  1.31it/s] "
     ]
    },
    {
     "name": "stdout",
     "output_type": "stream",
     "text": [
      "Episode 9280/50000\n",
      "Fitnesses: ['-39.30', '-17.47', '-77.35', '-29.83']\n",
      "100 fitness avgs: ['-20.02', '-19.80', '-19.96', '-20.20']\n"
     ]
    },
    {
     "name": "stderr",
     "output_type": "stream",
     "text": [
      " 19%|█▊        | 9299/50000 [1:33:06<8:24:51,  1.34it/s]"
     ]
    },
    {
     "name": "stdout",
     "output_type": "stream",
     "text": [
      "Episode 9300/50000\n",
      "Fitnesses: ['-35.82', '-35.44', '-45.03', '-22.90']\n",
      "100 fitness avgs: ['-19.85', '-20.06', '-19.94', '-19.88']\n"
     ]
    },
    {
     "name": "stderr",
     "output_type": "stream",
     "text": [
      " 19%|█▊        | 9319/50000 [1:33:21<8:39:54,  1.30it/s]"
     ]
    },
    {
     "name": "stdout",
     "output_type": "stream",
     "text": [
      "Episode 9320/50000\n",
      "Fitnesses: ['-34.19', '-48.72', '-17.01', '-8.53']\n",
      "100 fitness avgs: ['-19.78', '-20.10', '-19.79', '-19.52']\n"
     ]
    },
    {
     "name": "stderr",
     "output_type": "stream",
     "text": [
      " 19%|█▊        | 9339/50000 [1:33:35<8:15:34,  1.37it/s]"
     ]
    },
    {
     "name": "stdout",
     "output_type": "stream",
     "text": [
      "Episode 9340/50000\n",
      "Fitnesses: ['-18.50', '-27.52', '-36.16', '-19.58']\n",
      "100 fitness avgs: ['-19.64', '-19.99', '-20.08', '-19.91']\n"
     ]
    },
    {
     "name": "stderr",
     "output_type": "stream",
     "text": [
      " 19%|█▊        | 9359/50000 [1:33:50<8:15:59,  1.37it/s] "
     ]
    },
    {
     "name": "stdout",
     "output_type": "stream",
     "text": [
      "Episode 9360/50000\n",
      "Fitnesses: ['-6.04', '-26.61', '-29.36', '-20.89']\n",
      "100 fitness avgs: ['-19.25', '-19.72', '-19.83', '-19.40']\n"
     ]
    },
    {
     "name": "stderr",
     "output_type": "stream",
     "text": [
      " 19%|█▉        | 9379/50000 [1:34:06<9:09:48,  1.23it/s]"
     ]
    },
    {
     "name": "stdout",
     "output_type": "stream",
     "text": [
      "Episode 9380/50000\n",
      "Fitnesses: ['-11.95', '-48.97', '-73.11', '-22.90']\n",
      "100 fitness avgs: ['-19.29', '-19.66', '-19.90', '-19.55']\n"
     ]
    },
    {
     "name": "stderr",
     "output_type": "stream",
     "text": [
      " 19%|█▉        | 9399/50000 [1:34:21<9:03:01,  1.25it/s] "
     ]
    },
    {
     "name": "stdout",
     "output_type": "stream",
     "text": [
      "Episode 9400/50000\n",
      "Fitnesses: ['-17.24', '-38.70', '-41.12', '-18.98']\n",
      "100 fitness avgs: ['-18.92', '-19.51', '-19.16', '-19.31']\n"
     ]
    },
    {
     "name": "stderr",
     "output_type": "stream",
     "text": [
      " 19%|█▉        | 9419/50000 [1:34:37<8:51:29,  1.27it/s] "
     ]
    },
    {
     "name": "stdout",
     "output_type": "stream",
     "text": [
      "Episode 9420/50000\n",
      "Fitnesses: ['-8.36', '-12.45', '-44.77', '-45.67']\n",
      "100 fitness avgs: ['-18.89', '-19.52', '-19.26', '-19.26']\n"
     ]
    },
    {
     "name": "stderr",
     "output_type": "stream",
     "text": [
      " 19%|█▉        | 9439/50000 [1:34:53<8:49:14,  1.28it/s] "
     ]
    },
    {
     "name": "stdout",
     "output_type": "stream",
     "text": [
      "Episode 9440/50000\n",
      "Fitnesses: ['-20.42', '-11.73', '-11.57', '-18.66']\n",
      "100 fitness avgs: ['-19.03', '-18.94', '-18.94', '-19.01']\n"
     ]
    },
    {
     "name": "stderr",
     "output_type": "stream",
     "text": [
      " 19%|█▉        | 9459/50000 [1:35:09<9:04:19,  1.24it/s] "
     ]
    },
    {
     "name": "stdout",
     "output_type": "stream",
     "text": [
      "Episode 9460/50000\n",
      "Fitnesses: ['-75.89', '-120.12', '-47.99', '-13.51']\n",
      "100 fitness avgs: ['-19.25', '-19.70', '-19.05', '-18.63']\n"
     ]
    },
    {
     "name": "stderr",
     "output_type": "stream",
     "text": [
      " 19%|█▉        | 9479/50000 [1:35:24<8:43:01,  1.29it/s] "
     ]
    },
    {
     "name": "stdout",
     "output_type": "stream",
     "text": [
      "Episode 9480/50000\n",
      "Fitnesses: ['-38.12', '-90.76', '-34.15', '-197.14']\n",
      "100 fitness avgs: ['-18.93', '-19.87', '-19.51', '-21.14']\n"
     ]
    },
    {
     "name": "stderr",
     "output_type": "stream",
     "text": [
      " 19%|█▉        | 9499/50000 [1:35:39<8:34:16,  1.31it/s]"
     ]
    },
    {
     "name": "stdout",
     "output_type": "stream",
     "text": [
      "Episode 9500/50000\n",
      "Fitnesses: ['-5.55', '-53.55', '-14.21', '-29.56']\n",
      "100 fitness avgs: ['-19.24', '-19.14', '-19.69', '-18.90']\n"
     ]
    },
    {
     "name": "stderr",
     "output_type": "stream",
     "text": [
      " 19%|█▉        | 9519/50000 [1:35:54<8:24:16,  1.34it/s]"
     ]
    },
    {
     "name": "stdout",
     "output_type": "stream",
     "text": [
      "Episode 9520/50000\n",
      "Fitnesses: ['-68.26', '-136.56', '-44.90', '-11.83']\n",
      "100 fitness avgs: ['-19.70', '-20.38', '-19.46', '-19.13']\n"
     ]
    },
    {
     "name": "stderr",
     "output_type": "stream",
     "text": [
      " 19%|█▉        | 9539/50000 [1:36:09<8:13:46,  1.37it/s] "
     ]
    },
    {
     "name": "stdout",
     "output_type": "stream",
     "text": [
      "Episode 9540/50000\n",
      "Fitnesses: ['-30.40', '-4.97', '-57.17', '-25.25']\n",
      "100 fitness avgs: ['-19.27', '-19.35', '-20.11', '-19.79']\n"
     ]
    },
    {
     "name": "stderr",
     "output_type": "stream",
     "text": [
      " 19%|█▉        | 9559/50000 [1:36:24<8:30:10,  1.32it/s]"
     ]
    },
    {
     "name": "stdout",
     "output_type": "stream",
     "text": [
      "Episode 9560/50000\n",
      "Fitnesses: ['-4.05', '-71.42', '-33.20', '-17.50']\n",
      "100 fitness avgs: ['-19.24', '-20.35', '-20.29', '-19.38']\n"
     ]
    },
    {
     "name": "stderr",
     "output_type": "stream",
     "text": [
      " 19%|█▉        | 9579/50000 [1:36:38<7:41:40,  1.46it/s] "
     ]
    },
    {
     "name": "stdout",
     "output_type": "stream",
     "text": [
      "Episode 9580/50000\n",
      "Fitnesses: ['-680.98', '-10.03', '-16.79', '-75.97']\n",
      "100 fitness avgs: ['-25.74', '-20.07', '-19.09', '-19.69']\n"
     ]
    },
    {
     "name": "stderr",
     "output_type": "stream",
     "text": [
      " 19%|█▉        | 9599/50000 [1:36:56<9:50:02,  1.14it/s] "
     ]
    },
    {
     "name": "stdout",
     "output_type": "stream",
     "text": [
      "Episode 9600/50000\n",
      "Fitnesses: ['-82.05', '-6.87', '-83.97', '-6.69']\n",
      "100 fitness avgs: ['-20.81', '-19.67', '-19.85', '-19.08']\n"
     ]
    },
    {
     "name": "stderr",
     "output_type": "stream",
     "text": [
      " 19%|█▉        | 9619/50000 [1:37:11<8:30:05,  1.32it/s] "
     ]
    },
    {
     "name": "stdout",
     "output_type": "stream",
     "text": [
      "Episode 9620/50000\n",
      "Fitnesses: ['-4.54', '-9.90', '-16.96', '-72.37']\n",
      "100 fitness avgs: ['-19.11', '-19.94', '-20.01', '-20.39']\n"
     ]
    },
    {
     "name": "stderr",
     "output_type": "stream",
     "text": [
      " 19%|█▉        | 9639/50000 [1:37:26<8:28:22,  1.32it/s]"
     ]
    },
    {
     "name": "stdout",
     "output_type": "stream",
     "text": [
      "Episode 9640/50000\n",
      "Fitnesses: ['-51.66', '-16.93', '-61.02', '-14.01']\n",
      "100 fitness avgs: ['-19.47', '-19.13', '-20.46', '-19.10']\n"
     ]
    },
    {
     "name": "stderr",
     "output_type": "stream",
     "text": [
      " 19%|█▉        | 9659/50000 [1:37:40<8:13:04,  1.36it/s]"
     ]
    },
    {
     "name": "stdout",
     "output_type": "stream",
     "text": [
      "Episode 9660/50000\n",
      "Fitnesses: ['-9.08', '-44.33', '-58.20', '-9.85']\n",
      "100 fitness avgs: ['-19.00', '-20.72', '-19.52', '-19.01']\n"
     ]
    },
    {
     "name": "stderr",
     "output_type": "stream",
     "text": [
      " 19%|█▉        | 9679/50000 [1:37:54<8:07:19,  1.38it/s]"
     ]
    },
    {
     "name": "stdout",
     "output_type": "stream",
     "text": [
      "Episode 9680/50000\n",
      "Fitnesses: ['-52.79', '-20.25', '-62.98', '-81.06']\n",
      "100 fitness avgs: ['-19.42', '-19.09', '-19.52', '-19.71']\n"
     ]
    },
    {
     "name": "stderr",
     "output_type": "stream",
     "text": [
      " 19%|█▉        | 9699/50000 [1:38:12<9:50:44,  1.14it/s] "
     ]
    },
    {
     "name": "stdout",
     "output_type": "stream",
     "text": [
      "Episode 9700/50000\n",
      "Fitnesses: ['-690.40', '-33.73', '-9.87', '-29.68']\n",
      "100 fitness avgs: ['-25.98', '-19.84', '-19.17', '-19.70']\n"
     ]
    },
    {
     "name": "stderr",
     "output_type": "stream",
     "text": [
      " 19%|█▉        | 9719/50000 [1:38:26<8:01:46,  1.39it/s] "
     ]
    },
    {
     "name": "stdout",
     "output_type": "stream",
     "text": [
      "Episode 9720/50000\n",
      "Fitnesses: ['-56.78', '-41.86', '-55.55', '-10.49']\n",
      "100 fitness avgs: ['-19.48', '-20.00', '-19.99', '-19.02']\n"
     ]
    },
    {
     "name": "stderr",
     "output_type": "stream",
     "text": [
      " 19%|█▉        | 9739/50000 [1:38:41<8:05:02,  1.38it/s]"
     ]
    },
    {
     "name": "stdout",
     "output_type": "stream",
     "text": [
      "Episode 9740/50000\n",
      "Fitnesses: ['-35.23', '-10.14', '-12.26', '-15.15']\n",
      "100 fitness avgs: ['-18.56', '-18.78', '-18.80', '-19.34']\n"
     ]
    },
    {
     "name": "stderr",
     "output_type": "stream",
     "text": [
      " 20%|█▉        | 9759/50000 [1:38:55<8:00:17,  1.40it/s]"
     ]
    },
    {
     "name": "stdout",
     "output_type": "stream",
     "text": [
      "Episode 9760/50000\n",
      "Fitnesses: ['-26.73', '-19.72', '-39.50', '-5.00']\n",
      "100 fitness avgs: ['-18.99', '-18.91', '-19.11', '-18.79']\n"
     ]
    },
    {
     "name": "stderr",
     "output_type": "stream",
     "text": [
      " 20%|█▉        | 9779/50000 [1:39:09<8:06:43,  1.38it/s]"
     ]
    },
    {
     "name": "stdout",
     "output_type": "stream",
     "text": [
      "Episode 9780/50000\n",
      "Fitnesses: ['-5.99', '-70.54', '-56.43', '-60.66']\n",
      "100 fitness avgs: ['-18.81', '-19.46', '-19.44', '-19.48']\n"
     ]
    },
    {
     "name": "stderr",
     "output_type": "stream",
     "text": [
      " 20%|█▉        | 9799/50000 [1:39:21<6:44:41,  1.66it/s]"
     ]
    },
    {
     "name": "stdout",
     "output_type": "stream",
     "text": [
      "Episode 9800/50000\n",
      "Fitnesses: ['-118.28', '-6.99', '-54.58', '-305.47']\n",
      "100 fitness avgs: ['-19.77', '-19.33', '-19.80', '-22.27']\n"
     ]
    },
    {
     "name": "stderr",
     "output_type": "stream",
     "text": [
      " 20%|█▉        | 9819/50000 [1:39:36<8:14:18,  1.35it/s]"
     ]
    },
    {
     "name": "stdout",
     "output_type": "stream",
     "text": [
      "Episode 9820/50000\n",
      "Fitnesses: ['-8.16', '-71.79', '-32.75', '-20.79']\n",
      "100 fitness avgs: ['-19.32', '-19.95', '-20.04', '-19.88']\n"
     ]
    },
    {
     "name": "stderr",
     "output_type": "stream",
     "text": [
      " 20%|█▉        | 9839/50000 [1:39:49<7:23:07,  1.51it/s]"
     ]
    },
    {
     "name": "stdout",
     "output_type": "stream",
     "text": [
      "Episode 9840/50000\n",
      "Fitnesses: ['-9.89', '-43.59', '-135.49', '-26.69']\n",
      "100 fitness avgs: ['-19.25', '-20.23', '-21.23', '-19.42']\n"
     ]
    },
    {
     "name": "stderr",
     "output_type": "stream",
     "text": [
      " 20%|█▉        | 9859/50000 [1:40:03<7:37:35,  1.46it/s]"
     ]
    },
    {
     "name": "stdout",
     "output_type": "stream",
     "text": [
      "Episode 9860/50000\n",
      "Fitnesses: ['-65.24', '-68.18', '-42.15', '-23.26']\n",
      "100 fitness avgs: ['-19.64', '-19.67', '-19.41', '-19.39']\n"
     ]
    },
    {
     "name": "stderr",
     "output_type": "stream",
     "text": [
      " 20%|█▉        | 9879/50000 [1:40:13<6:01:47,  1.85it/s]"
     ]
    },
    {
     "name": "stdout",
     "output_type": "stream",
     "text": [
      "Episode 9880/50000\n",
      "Fitnesses: ['-90.92', '-617.30', '-38.39', '-79.33']\n",
      "100 fitness avgs: ['-20.18', '-25.44', '-19.90', '-20.08']\n"
     ]
    },
    {
     "name": "stderr",
     "output_type": "stream",
     "text": [
      " 20%|█▉        | 9899/50000 [1:40:30<9:19:03,  1.20it/s]"
     ]
    },
    {
     "name": "stdout",
     "output_type": "stream",
     "text": [
      "Episode 9900/50000\n",
      "Fitnesses: ['-20.76', '-21.60', '-18.75', '-17.19']\n",
      "100 fitness avgs: ['-19.95', '-20.14', '-19.93', '-19.91']\n"
     ]
    },
    {
     "name": "stderr",
     "output_type": "stream",
     "text": [
      " 20%|█▉        | 9919/50000 [1:40:44<7:57:42,  1.40it/s] "
     ]
    },
    {
     "name": "stdout",
     "output_type": "stream",
     "text": [
      "Episode 9920/50000\n",
      "Fitnesses: ['-89.89', '-103.89', '-28.85', '-23.24']\n",
      "100 fitness avgs: ['-20.63', '-20.81', '-20.02', '-19.96']\n"
     ]
    },
    {
     "name": "stderr",
     "output_type": "stream",
     "text": [
      " 20%|█▉        | 9939/50000 [1:40:59<7:50:17,  1.42it/s] "
     ]
    },
    {
     "name": "stdout",
     "output_type": "stream",
     "text": [
      "Episode 9940/50000\n",
      "Fitnesses: ['-14.31', '-9.02', '-8.56', '-10.55']\n",
      "100 fitness avgs: ['-20.01', '-20.02', '-20.80', '-19.98']\n"
     ]
    },
    {
     "name": "stderr",
     "output_type": "stream",
     "text": [
      " 20%|█▉        | 9959/50000 [1:41:14<8:27:38,  1.31it/s]"
     ]
    },
    {
     "name": "stdout",
     "output_type": "stream",
     "text": [
      "Episode 9960/50000\n",
      "Fitnesses: ['-19.45', '-24.87', '-50.30', '-81.87']\n",
      "100 fitness avgs: ['-20.96', '-20.24', '-21.27', '-21.59']\n"
     ]
    },
    {
     "name": "stderr",
     "output_type": "stream",
     "text": [
      " 20%|█▉        | 9979/50000 [1:41:28<7:54:02,  1.41it/s]"
     ]
    },
    {
     "name": "stdout",
     "output_type": "stream",
     "text": [
      "Episode 9980/50000\n",
      "Fitnesses: ['-50.92', '-19.86', '-10.58', '-19.38']\n",
      "100 fitness avgs: ['-21.06', '-20.75', '-19.93', '-20.75']\n"
     ]
    },
    {
     "name": "stderr",
     "output_type": "stream",
     "text": [
      " 20%|█▉        | 9999/50000 [1:41:42<8:09:39,  1.36it/s]"
     ]
    },
    {
     "name": "stdout",
     "output_type": "stream",
     "text": [
      "Episode 10000/50000\n",
      "Fitnesses: ['-31.54', '-19.65', '-3.59', '-42.97']\n",
      "100 fitness avgs: ['-20.00', '-21.01', '-20.54', '-20.11']\n"
     ]
    },
    {
     "name": "stderr",
     "output_type": "stream",
     "text": [
      " 20%|██        | 10019/50000 [1:41:57<8:00:17,  1.39it/s]"
     ]
    },
    {
     "name": "stdout",
     "output_type": "stream",
     "text": [
      "Episode 10020/50000\n",
      "Fitnesses: ['-32.68', '-21.62', '-53.97', '-49.66']\n",
      "100 fitness avgs: ['-20.73', '-20.07', '-20.40', '-21.37']\n"
     ]
    },
    {
     "name": "stderr",
     "output_type": "stream",
     "text": [
      " 20%|██        | 10039/50000 [1:42:12<8:25:07,  1.32it/s]"
     ]
    },
    {
     "name": "stdout",
     "output_type": "stream",
     "text": [
      "Episode 10040/50000\n",
      "Fitnesses: ['-36.85', '-7.06', '-8.80', '-34.01']\n",
      "100 fitness avgs: ['-20.16', '-21.15', '-20.53', '-21.42']\n"
     ]
    },
    {
     "name": "stderr",
     "output_type": "stream",
     "text": [
      " 20%|██        | 10059/50000 [1:42:26<8:28:32,  1.31it/s]"
     ]
    },
    {
     "name": "stdout",
     "output_type": "stream",
     "text": [
      "Episode 10060/50000\n",
      "Fitnesses: ['-15.21', '-33.97', '-7.45', '-20.77']\n",
      "100 fitness avgs: ['-21.29', '-20.86', '-21.21', '-21.35']\n"
     ]
    },
    {
     "name": "stderr",
     "output_type": "stream",
     "text": [
      " 20%|██        | 10079/50000 [1:42:41<8:24:29,  1.32it/s]"
     ]
    },
    {
     "name": "stdout",
     "output_type": "stream",
     "text": [
      "Episode 10080/50000\n",
      "Fitnesses: ['-28.30', '-27.08', '-18.17', '-122.22']\n",
      "100 fitness avgs: ['-21.44', '-21.43', '-20.98', '-22.46']\n"
     ]
    },
    {
     "name": "stderr",
     "output_type": "stream",
     "text": [
      " 20%|██        | 10099/50000 [1:42:56<8:16:32,  1.34it/s]"
     ]
    },
    {
     "name": "stdout",
     "output_type": "stream",
     "text": [
      "Episode 10100/50000\n",
      "Fitnesses: ['-5.72', '-14.19', '-19.30', '-44.65']\n",
      "100 fitness avgs: ['-20.95', '-21.03', '-21.54', '-21.34']\n"
     ]
    },
    {
     "name": "stderr",
     "output_type": "stream",
     "text": [
      " 20%|██        | 10119/50000 [1:43:11<8:33:13,  1.30it/s] "
     ]
    },
    {
     "name": "stdout",
     "output_type": "stream",
     "text": [
      "Episode 10120/50000\n",
      "Fitnesses: ['-6.63', '-62.87', '-21.12', '-42.57']\n",
      "100 fitness avgs: ['-20.96', '-21.60', '-21.10', '-21.91']\n"
     ]
    },
    {
     "name": "stderr",
     "output_type": "stream",
     "text": [
      " 20%|██        | 10139/50000 [1:43:26<8:13:34,  1.35it/s] "
     ]
    },
    {
     "name": "stdout",
     "output_type": "stream",
     "text": [
      "Episode 10140/50000\n",
      "Fitnesses: ['-72.21', '-8.51', '-63.93', '-11.98']\n",
      "100 fitness avgs: ['-21.43', '-21.75', '-21.35', '-20.98']\n"
     ]
    },
    {
     "name": "stderr",
     "output_type": "stream",
     "text": [
      " 20%|██        | 10159/50000 [1:43:42<9:03:48,  1.22it/s]"
     ]
    },
    {
     "name": "stdout",
     "output_type": "stream",
     "text": [
      "Episode 10160/50000\n",
      "Fitnesses: ['-29.46', '-12.12', '-69.31', '-58.42']\n",
      "100 fitness avgs: ['-21.88', '-21.39', '-21.51', '-21.77']\n"
     ]
    },
    {
     "name": "stderr",
     "output_type": "stream",
     "text": [
      " 20%|██        | 10179/50000 [1:43:56<8:14:53,  1.34it/s]"
     ]
    },
    {
     "name": "stdout",
     "output_type": "stream",
     "text": [
      "Episode 10180/50000\n",
      "Fitnesses: ['-36.86', '-69.35', '-10.12', '-73.57']\n",
      "100 fitness avgs: ['-21.66', '-22.37', '-21.88', '-22.14']\n"
     ]
    },
    {
     "name": "stderr",
     "output_type": "stream",
     "text": [
      " 20%|██        | 10199/50000 [1:44:11<8:12:35,  1.35it/s]"
     ]
    },
    {
     "name": "stdout",
     "output_type": "stream",
     "text": [
      "Episode 10200/50000\n",
      "Fitnesses: ['-69.14', '-22.07', '-32.08', '-43.02']\n",
      "100 fitness avgs: ['-22.44', '-21.74', '-21.84', '-21.95']\n"
     ]
    },
    {
     "name": "stderr",
     "output_type": "stream",
     "text": [
      " 20%|██        | 10219/50000 [1:44:29<10:01:30,  1.10it/s]"
     ]
    },
    {
     "name": "stdout",
     "output_type": "stream",
     "text": [
      "Episode 10220/50000\n",
      "Fitnesses: ['-26.77', '-35.71', '-13.43', '-35.58']\n",
      "100 fitness avgs: ['-21.62', '-21.71', '-21.48', '-21.81']\n"
     ]
    },
    {
     "name": "stderr",
     "output_type": "stream",
     "text": [
      " 20%|██        | 10239/50000 [1:44:45<9:02:45,  1.22it/s] "
     ]
    },
    {
     "name": "stdout",
     "output_type": "stream",
     "text": [
      "Episode 10240/50000\n",
      "Fitnesses: ['-27.18', '-184.95', '-40.62', '-29.16']\n",
      "100 fitness avgs: ['-21.39', '-23.29', '-21.52', '-21.41']\n"
     ]
    },
    {
     "name": "stderr",
     "output_type": "stream",
     "text": [
      " 21%|██        | 10259/50000 [1:44:59<7:50:41,  1.41it/s] "
     ]
    },
    {
     "name": "stdout",
     "output_type": "stream",
     "text": [
      "Episode 10260/50000\n",
      "Fitnesses: ['-8.65', '-95.33', '-60.14', '-28.21']\n",
      "100 fitness avgs: ['-21.41', '-22.30', '-21.93', '-21.74']\n"
     ]
    },
    {
     "name": "stderr",
     "output_type": "stream",
     "text": [
      " 21%|██        | 10279/50000 [1:45:14<8:15:31,  1.34it/s]"
     ]
    },
    {
     "name": "stdout",
     "output_type": "stream",
     "text": [
      "Episode 10280/50000\n",
      "Fitnesses: ['-25.40', '-24.45', '-13.57', '-35.02']\n",
      "100 fitness avgs: ['-21.36', '-21.35', '-21.76', '-21.97']\n"
     ]
    },
    {
     "name": "stderr",
     "output_type": "stream",
     "text": [
      " 21%|██        | 10299/50000 [1:45:28<7:38:12,  1.44it/s]"
     ]
    },
    {
     "name": "stdout",
     "output_type": "stream",
     "text": [
      "Episode 10300/50000\n",
      "Fitnesses: ['-22.53', '-59.08', '-46.30', '-150.26']\n",
      "100 fitness avgs: ['-21.75', '-22.12', '-21.99', '-22.62']\n"
     ]
    },
    {
     "name": "stderr",
     "output_type": "stream",
     "text": [
      " 21%|██        | 10319/50000 [1:45:40<6:48:03,  1.62it/s]"
     ]
    },
    {
     "name": "stdout",
     "output_type": "stream",
     "text": [
      "Episode 10320/50000\n",
      "Fitnesses: ['-29.62', '-37.85', '-18.27', '-98.15']\n",
      "100 fitness avgs: ['-21.98', '-22.30', '-21.87', '-22.67']\n"
     ]
    },
    {
     "name": "stderr",
     "output_type": "stream",
     "text": [
      " 21%|██        | 10339/50000 [1:45:53<6:51:50,  1.61it/s]"
     ]
    },
    {
     "name": "stdout",
     "output_type": "stream",
     "text": [
      "Episode 10340/50000\n",
      "Fitnesses: ['-35.41', '-7.15', '-43.82', '-0.84']\n",
      "100 fitness avgs: ['-22.12', '-21.84', '-22.32', '-21.77']\n"
     ]
    },
    {
     "name": "stderr",
     "output_type": "stream",
     "text": [
      " 21%|██        | 10359/50000 [1:46:07<7:49:59,  1.41it/s]"
     ]
    },
    {
     "name": "stdout",
     "output_type": "stream",
     "text": [
      "Episode 10360/50000\n",
      "Fitnesses: ['-19.72', '-13.73', '-40.13', '-25.94']\n",
      "100 fitness avgs: ['-21.45', '-21.39', '-21.66', '-21.86']\n"
     ]
    },
    {
     "name": "stderr",
     "output_type": "stream",
     "text": [
      " 21%|██        | 10379/50000 [1:46:21<7:56:28,  1.39it/s]"
     ]
    },
    {
     "name": "stdout",
     "output_type": "stream",
     "text": [
      "Episode 10380/50000\n",
      "Fitnesses: ['-139.85', '-81.52', '-43.93', '-7.47']\n",
      "100 fitness avgs: ['-22.66', '-22.08', '-21.97', '-21.40']\n"
     ]
    },
    {
     "name": "stderr",
     "output_type": "stream",
     "text": [
      " 21%|██        | 10399/50000 [1:46:35<8:01:30,  1.37it/s]"
     ]
    },
    {
     "name": "stdout",
     "output_type": "stream",
     "text": [
      "Episode 10400/50000\n",
      "Fitnesses: ['-44.13', '-57.78', '-99.78', '-24.01']\n",
      "100 fitness avgs: ['-21.80', '-21.94', '-22.36', '-22.87']\n"
     ]
    },
    {
     "name": "stderr",
     "output_type": "stream",
     "text": [
      " 21%|██        | 10419/50000 [1:46:49<8:01:12,  1.37it/s]"
     ]
    },
    {
     "name": "stdout",
     "output_type": "stream",
     "text": [
      "Episode 10420/50000\n",
      "Fitnesses: ['-54.47', '-31.16', '-64.90', '-39.39']\n",
      "100 fitness avgs: ['-23.23', '-21.94', '-23.34', '-23.08']\n"
     ]
    },
    {
     "name": "stderr",
     "output_type": "stream",
     "text": [
      " 21%|██        | 10439/50000 [1:47:04<8:03:21,  1.36it/s]"
     ]
    },
    {
     "name": "stdout",
     "output_type": "stream",
     "text": [
      "Episode 10440/50000\n",
      "Fitnesses: ['-99.62', '-7.63', '-7.80', '-13.56']\n",
      "100 fitness avgs: ['-22.72', '-22.95', '-22.95', '-21.86']\n"
     ]
    },
    {
     "name": "stderr",
     "output_type": "stream",
     "text": [
      " 21%|██        | 10459/50000 [1:47:19<8:29:38,  1.29it/s]"
     ]
    },
    {
     "name": "stdout",
     "output_type": "stream",
     "text": [
      "Episode 10460/50000\n",
      "Fitnesses: ['-14.10', '-40.28', '-21.96', '-17.85']\n",
      "100 fitness avgs: ['-23.01', '-23.27', '-22.00', '-22.82']\n"
     ]
    },
    {
     "name": "stderr",
     "output_type": "stream",
     "text": [
      " 21%|██        | 10479/50000 [1:47:36<9:32:03,  1.15it/s] "
     ]
    },
    {
     "name": "stdout",
     "output_type": "stream",
     "text": [
      "Episode 10480/50000\n",
      "Fitnesses: ['-49.58', '-32.25', '-79.41', '-13.43']\n",
      "100 fitness avgs: ['-23.40', '-23.04', '-23.96', '-23.04']\n"
     ]
    },
    {
     "name": "stderr",
     "output_type": "stream",
     "text": [
      " 21%|██        | 10499/50000 [1:47:55<10:18:49,  1.06it/s]"
     ]
    },
    {
     "name": "stdout",
     "output_type": "stream",
     "text": [
      "Episode 10500/50000\n",
      "Fitnesses: ['-148.06', '-16.38', '-54.23', '-145.60']\n",
      "100 fitness avgs: ['-24.41', '-23.09', '-23.83', '-24.38']\n"
     ]
    },
    {
     "name": "stderr",
     "output_type": "stream",
     "text": [
      " 21%|██        | 10519/50000 [1:48:09<7:40:49,  1.43it/s] "
     ]
    },
    {
     "name": "stdout",
     "output_type": "stream",
     "text": [
      "Episode 10520/50000\n",
      "Fitnesses: ['-15.03', '-22.06', '-19.77', '-20.87']\n",
      "100 fitness avgs: ['-23.14', '-23.95', '-23.93', '-23.20']\n"
     ]
    },
    {
     "name": "stderr",
     "output_type": "stream",
     "text": [
      " 21%|██        | 10539/50000 [1:48:23<7:48:49,  1.40it/s]"
     ]
    },
    {
     "name": "stdout",
     "output_type": "stream",
     "text": [
      "Episode 10540/50000\n",
      "Fitnesses: ['-5.14', '-14.02', '-30.63', '-41.39']\n",
      "100 fitness avgs: ['-22.99', '-23.14', '-24.04', '-24.17']\n"
     ]
    },
    {
     "name": "stderr",
     "output_type": "stream",
     "text": [
      " 21%|██        | 10559/50000 [1:48:38<8:35:08,  1.28it/s] "
     ]
    },
    {
     "name": "stdout",
     "output_type": "stream",
     "text": [
      "Episode 10560/50000\n",
      "Fitnesses: ['-58.86', '-43.68', '-37.26', '-25.05']\n",
      "100 fitness avgs: ['-23.20', '-24.22', '-22.98', '-22.86']\n"
     ]
    },
    {
     "name": "stderr",
     "output_type": "stream",
     "text": [
      " 21%|██        | 10579/50000 [1:48:52<7:46:37,  1.41it/s]"
     ]
    },
    {
     "name": "stdout",
     "output_type": "stream",
     "text": [
      "Episode 10580/50000\n",
      "Fitnesses: ['-76.04', '-26.05', '-10.06', '-42.53']\n",
      "100 fitness avgs: ['-23.60', '-23.10', '-22.94', '-23.27']\n"
     ]
    },
    {
     "name": "stderr",
     "output_type": "stream",
     "text": [
      " 21%|██        | 10599/50000 [1:49:06<7:58:17,  1.37it/s]"
     ]
    },
    {
     "name": "stdout",
     "output_type": "stream",
     "text": [
      "Episode 10600/50000\n",
      "Fitnesses: ['-9.97', '-2.00', '-9.45', '-24.38']\n",
      "100 fitness avgs: ['-22.78', '-22.86', '-22.78', '-22.93']\n"
     ]
    },
    {
     "name": "stderr",
     "output_type": "stream",
     "text": [
      " 21%|██        | 10619/50000 [1:49:19<7:40:15,  1.43it/s]"
     ]
    },
    {
     "name": "stdout",
     "output_type": "stream",
     "text": [
      "Episode 10620/50000\n",
      "Fitnesses: ['-219.34', '-7.93', '-18.61', '-27.51']\n",
      "100 fitness avgs: ['-24.83', '-22.72', '-22.75', '-22.91']\n"
     ]
    },
    {
     "name": "stderr",
     "output_type": "stream",
     "text": [
      " 21%|██▏       | 10639/50000 [1:49:33<7:24:29,  1.48it/s]"
     ]
    },
    {
     "name": "stdout",
     "output_type": "stream",
     "text": [
      "Episode 10640/50000\n",
      "Fitnesses: ['-6.18', '-73.38', '-51.01', '-12.20']\n",
      "100 fitness avgs: ['-22.76', '-23.63', '-23.40', '-22.82']\n"
     ]
    },
    {
     "name": "stderr",
     "output_type": "stream",
     "text": [
      " 21%|██▏       | 10659/50000 [1:49:47<7:41:18,  1.42it/s]"
     ]
    },
    {
     "name": "stdout",
     "output_type": "stream",
     "text": [
      "Episode 10660/50000\n",
      "Fitnesses: ['-4.19', '-38.86', '-78.87', '-9.75']\n",
      "100 fitness avgs: ['-22.40', '-22.81', '-23.15', '-22.52']\n"
     ]
    },
    {
     "name": "stderr",
     "output_type": "stream",
     "text": [
      " 21%|██▏       | 10679/50000 [1:50:00<7:14:59,  1.51it/s]"
     ]
    },
    {
     "name": "stdout",
     "output_type": "stream",
     "text": [
      "Episode 10680/50000\n",
      "Fitnesses: ['-25.81', '-22.33', '-17.94', '-75.41']\n",
      "100 fitness avgs: ['-22.46', '-22.42', '-23.13', '-23.36']\n"
     ]
    },
    {
     "name": "stderr",
     "output_type": "stream",
     "text": [
      " 21%|██▏       | 10699/50000 [1:50:13<6:39:17,  1.64it/s]"
     ]
    },
    {
     "name": "stdout",
     "output_type": "stream",
     "text": [
      "Episode 10700/50000\n",
      "Fitnesses: ['-65.27', '-73.47', '-6.23', '-43.26']\n",
      "100 fitness avgs: ['-23.56', '-22.97', '-22.30', '-23.34']\n"
     ]
    },
    {
     "name": "stderr",
     "output_type": "stream",
     "text": [
      " 21%|██▏       | 10719/50000 [1:50:26<7:31:50,  1.45it/s]"
     ]
    },
    {
     "name": "stdout",
     "output_type": "stream",
     "text": [
      "Episode 10720/50000\n",
      "Fitnesses: ['-13.65', '-35.56', '-8.57', '-138.32']\n",
      "100 fitness avgs: ['-22.15', '-23.63', '-22.10', '-24.44']\n"
     ]
    },
    {
     "name": "stderr",
     "output_type": "stream",
     "text": [
      " 21%|██▏       | 10739/50000 [1:50:39<7:15:27,  1.50it/s]"
     ]
    },
    {
     "name": "stdout",
     "output_type": "stream",
     "text": [
      "Episode 10740/50000\n",
      "Fitnesses: ['-12.27', '-40.37', '-6.86', '-28.23']\n",
      "100 fitness avgs: ['-21.94', '-22.28', '-21.94', '-24.44']\n"
     ]
    },
    {
     "name": "stderr",
     "output_type": "stream",
     "text": [
      " 22%|██▏       | 10759/50000 [1:50:52<7:06:39,  1.53it/s]"
     ]
    },
    {
     "name": "stdout",
     "output_type": "stream",
     "text": [
      "Episode 10760/50000\n",
      "Fitnesses: ['-25.10', '-14.35', '-27.64', '-47.55']\n",
      "100 fitness avgs: ['-22.05', '-24.44', '-22.08', '-22.28']\n"
     ]
    },
    {
     "name": "stderr",
     "output_type": "stream",
     "text": [
      " 22%|██▏       | 10779/50000 [1:51:06<7:20:43,  1.48it/s]"
     ]
    },
    {
     "name": "stdout",
     "output_type": "stream",
     "text": [
      "Episode 10780/50000\n",
      "Fitnesses: ['-56.86', '-38.78', '-35.90', '-31.60']\n",
      "100 fitness avgs: ['-25.01', '-24.82', '-24.80', '-24.75']\n"
     ]
    },
    {
     "name": "stderr",
     "output_type": "stream",
     "text": [
      " 22%|██▏       | 10799/50000 [1:51:19<7:24:45,  1.47it/s]"
     ]
    },
    {
     "name": "stdout",
     "output_type": "stream",
     "text": [
      "Episode 10800/50000\n",
      "Fitnesses: ['-7.70', '-51.32', '-11.49', '-36.08']\n",
      "100 fitness avgs: ['-24.37', '-24.85', '-24.41', '-24.65']\n"
     ]
    },
    {
     "name": "stderr",
     "output_type": "stream",
     "text": [
      " 22%|██▏       | 10819/50000 [1:51:32<7:24:54,  1.47it/s]"
     ]
    },
    {
     "name": "stdout",
     "output_type": "stream",
     "text": [
      "Episode 10820/50000\n",
      "Fitnesses: ['-18.13', '-29.73', '-21.94', '-47.74']\n",
      "100 fitness avgs: ['-24.47', '-24.59', '-24.55', '-24.77']\n"
     ]
    },
    {
     "name": "stderr",
     "output_type": "stream",
     "text": [
      " 22%|██▏       | 10839/50000 [1:51:46<7:47:49,  1.40it/s]"
     ]
    },
    {
     "name": "stdout",
     "output_type": "stream",
     "text": [
      "Episode 10840/50000\n",
      "Fitnesses: ['-15.55', '-57.15', '-98.74', '-42.84']\n",
      "100 fitness avgs: ['-24.54', '-25.03', '-25.37', '-24.81']\n"
     ]
    },
    {
     "name": "stderr",
     "output_type": "stream",
     "text": [
      " 22%|██▏       | 10859/50000 [1:52:00<7:53:21,  1.38it/s]"
     ]
    },
    {
     "name": "stdout",
     "output_type": "stream",
     "text": [
      "Episode 10860/50000\n",
      "Fitnesses: ['-46.60', '-46.80', '-1.23', '-5.22']\n",
      "100 fitness avgs: ['-24.78', '-25.05', '-24.60', '-24.86']\n"
     ]
    },
    {
     "name": "stderr",
     "output_type": "stream",
     "text": [
      " 22%|██▏       | 10879/50000 [1:52:15<7:36:27,  1.43it/s] "
     ]
    },
    {
     "name": "stdout",
     "output_type": "stream",
     "text": [
      "Episode 10880/50000\n",
      "Fitnesses: ['-25.95', '-11.28', '-16.02', '-74.93']\n",
      "100 fitness avgs: ['-24.80', '-24.91', '-24.96', '-25.29']\n"
     ]
    },
    {
     "name": "stderr",
     "output_type": "stream",
     "text": [
      " 22%|██▏       | 10899/50000 [1:52:28<7:15:49,  1.50it/s]"
     ]
    },
    {
     "name": "stdout",
     "output_type": "stream",
     "text": [
      "Episode 10900/50000\n",
      "Fitnesses: ['-13.58', '-55.30', '-11.27', '-19.42']\n",
      "100 fitness avgs: ['-24.98', '-25.29', '-24.96', '-25.04']\n"
     ]
    },
    {
     "name": "stderr",
     "output_type": "stream",
     "text": [
      " 22%|██▏       | 10919/50000 [1:52:41<7:08:06,  1.52it/s]"
     ]
    },
    {
     "name": "stdout",
     "output_type": "stream",
     "text": [
      "Episode 10920/50000\n",
      "Fitnesses: ['-19.45', '-37.41', '-10.32', '-37.97']\n",
      "100 fitness avgs: ['-25.09', '-25.27', '-25.08', '-25.36']\n"
     ]
    },
    {
     "name": "stderr",
     "output_type": "stream",
     "text": [
      " 22%|██▏       | 10939/50000 [1:52:55<7:26:33,  1.46it/s]"
     ]
    },
    {
     "name": "stdout",
     "output_type": "stream",
     "text": [
      "Episode 10940/50000\n",
      "Fitnesses: ['-77.88', '-53.94', '-71.79', '-14.81']\n",
      "100 fitness avgs: ['-25.84', '-25.79', '-25.79', '-25.22']\n"
     ]
    },
    {
     "name": "stderr",
     "output_type": "stream",
     "text": [
      " 22%|██▏       | 10959/50000 [1:53:08<7:16:11,  1.49it/s]"
     ]
    },
    {
     "name": "stdout",
     "output_type": "stream",
     "text": [
      "Episode 10960/50000\n",
      "Fitnesses: ['-57.46', '-118.63', '-39.79', '-11.85']\n",
      "100 fitness avgs: ['-25.66', '-26.27', '-25.48', '-25.78']\n"
     ]
    },
    {
     "name": "stderr",
     "output_type": "stream",
     "text": [
      " 22%|██▏       | 10979/50000 [1:53:22<7:53:05,  1.37it/s]"
     ]
    },
    {
     "name": "stdout",
     "output_type": "stream",
     "text": [
      "Episode 10980/50000\n",
      "Fitnesses: ['-4.61', '-6.02', '-49.46', '-27.88']\n",
      "100 fitness avgs: ['-25.58', '-25.30', '-26.03', '-25.82']\n"
     ]
    },
    {
     "name": "stderr",
     "output_type": "stream",
     "text": [
      " 22%|██▏       | 10999/50000 [1:53:35<7:00:50,  1.54it/s]"
     ]
    },
    {
     "name": "stdout",
     "output_type": "stream",
     "text": [
      "Episode 11000/50000\n",
      "Fitnesses: ['-20.14', '-26.48', '-23.79', '-23.42']\n",
      "100 fitness avgs: ['-25.47', '-25.77', '-25.74', '-25.50']\n"
     ]
    },
    {
     "name": "stderr",
     "output_type": "stream",
     "text": [
      " 22%|██▏       | 11019/50000 [1:53:50<8:42:56,  1.24it/s]"
     ]
    },
    {
     "name": "stdout",
     "output_type": "stream",
     "text": [
      "Episode 11020/50000\n",
      "Fitnesses: ['-8.46', '-68.28', '-8.01', '-5.72']\n",
      "100 fitness avgs: ['-24.98', '-25.61', '-24.97', '-24.95']\n"
     ]
    },
    {
     "name": "stderr",
     "output_type": "stream",
     "text": [
      " 22%|██▏       | 11039/50000 [1:54:04<7:27:59,  1.45it/s]"
     ]
    },
    {
     "name": "stdout",
     "output_type": "stream",
     "text": [
      "Episode 11040/50000\n",
      "Fitnesses: ['-7.68', '-28.49', '-6.67', '-9.02']\n",
      "100 fitness avgs: ['-24.45', '-24.68', '-24.46', '-24.46']\n"
     ]
    },
    {
     "name": "stderr",
     "output_type": "stream",
     "text": [
      " 22%|██▏       | 11059/50000 [1:54:17<7:24:52,  1.46it/s]"
     ]
    },
    {
     "name": "stdout",
     "output_type": "stream",
     "text": [
      "Episode 11060/50000\n",
      "Fitnesses: ['-12.90', '-14.17', '-31.35', '-40.69']\n",
      "100 fitness avgs: ['-24.56', '-24.56', '-24.73', '-24.82']\n"
     ]
    },
    {
     "name": "stderr",
     "output_type": "stream",
     "text": [
      " 22%|██▏       | 11079/50000 [1:54:31<7:39:42,  1.41it/s]"
     ]
    },
    {
     "name": "stdout",
     "output_type": "stream",
     "text": [
      "Episode 11080/50000\n",
      "Fitnesses: ['-94.56', '-28.00', '-19.78', '-41.55']\n",
      "100 fitness avgs: ['-25.35', '-24.68', '-24.60', '-24.82']\n"
     ]
    },
    {
     "name": "stderr",
     "output_type": "stream",
     "text": [
      " 22%|██▏       | 11099/50000 [1:54:45<7:24:31,  1.46it/s] "
     ]
    },
    {
     "name": "stdout",
     "output_type": "stream",
     "text": [
      "Episode 11100/50000\n",
      "Fitnesses: ['-5.65', '-13.82', '-9.80', '-23.98']\n",
      "100 fitness avgs: ['-24.30', '-24.47', '-24.56', '-24.49']\n"
     ]
    },
    {
     "name": "stderr",
     "output_type": "stream",
     "text": [
      " 22%|██▏       | 11119/50000 [1:54:59<7:24:35,  1.46it/s]"
     ]
    },
    {
     "name": "stdout",
     "output_type": "stream",
     "text": [
      "Episode 11120/50000\n",
      "Fitnesses: ['-11.64', '-25.81', '-35.06', '-31.78']\n",
      "100 fitness avgs: ['-24.16', '-24.30', '-24.56', '-24.36']\n"
     ]
    },
    {
     "name": "stderr",
     "output_type": "stream",
     "text": [
      " 22%|██▏       | 11139/50000 [1:55:12<7:19:14,  1.47it/s]"
     ]
    },
    {
     "name": "stdout",
     "output_type": "stream",
     "text": [
      "Episode 11140/50000\n",
      "Fitnesses: ['-10.92', '-31.72', '-20.74', '-35.41']\n",
      "100 fitness avgs: ['-24.13', '-24.33', '-24.37', '-24.37']\n"
     ]
    },
    {
     "name": "stderr",
     "output_type": "stream",
     "text": [
      " 22%|██▏       | 11159/50000 [1:55:25<7:14:30,  1.49it/s]"
     ]
    },
    {
     "name": "stdout",
     "output_type": "stream",
     "text": [
      "Episode 11160/50000\n",
      "Fitnesses: ['-6.90', '-68.56', '-22.62', '-14.86']\n",
      "100 fitness avgs: ['-24.00', '-24.61', '-24.15', '-24.31']\n"
     ]
    },
    {
     "name": "stderr",
     "output_type": "stream",
     "text": [
      " 22%|██▏       | 11179/50000 [1:55:39<7:27:36,  1.45it/s]"
     ]
    },
    {
     "name": "stdout",
     "output_type": "stream",
     "text": [
      "Episode 11180/50000\n",
      "Fitnesses: ['-30.78', '-23.03', '-29.81', '-8.72']\n",
      "100 fitness avgs: ['-24.02', '-23.94', '-24.33', '-23.80']\n"
     ]
    },
    {
     "name": "stderr",
     "output_type": "stream",
     "text": [
      " 22%|██▏       | 11199/50000 [1:55:52<7:19:10,  1.47it/s]"
     ]
    },
    {
     "name": "stdout",
     "output_type": "stream",
     "text": [
      "Episode 11200/50000\n",
      "Fitnesses: ['-26.24', '-24.35', '-17.32', '-38.99']\n",
      "100 fitness avgs: ['-24.01', '-23.99', '-23.92', '-24.14']\n"
     ]
    },
    {
     "name": "stderr",
     "output_type": "stream",
     "text": [
      " 22%|██▏       | 11219/50000 [1:56:06<7:20:26,  1.47it/s]"
     ]
    },
    {
     "name": "stdout",
     "output_type": "stream",
     "text": [
      "Episode 11220/50000\n",
      "Fitnesses: ['-12.85', '-7.49', '-89.75', '-19.20']\n",
      "100 fitness avgs: ['-23.98', '-23.92', '-24.84', '-24.04']\n"
     ]
    },
    {
     "name": "stderr",
     "output_type": "stream",
     "text": [
      " 22%|██▏       | 11239/50000 [1:56:20<7:33:43,  1.42it/s]"
     ]
    },
    {
     "name": "stdout",
     "output_type": "stream",
     "text": [
      "Episode 11240/50000\n",
      "Fitnesses: ['-8.54', '-22.57', '-17.39', '-45.27']\n",
      "100 fitness avgs: ['-23.80', '-23.94', '-23.89', '-24.16']\n"
     ]
    },
    {
     "name": "stderr",
     "output_type": "stream",
     "text": [
      " 23%|██▎       | 11259/50000 [1:56:34<7:32:39,  1.43it/s] "
     ]
    },
    {
     "name": "stdout",
     "output_type": "stream",
     "text": [
      "Episode 11260/50000\n",
      "Fitnesses: ['-49.18', '-19.60', '-27.32', '-13.31']\n",
      "100 fitness avgs: ['-24.19', '-23.89', '-24.11', '-23.83']\n"
     ]
    },
    {
     "name": "stderr",
     "output_type": "stream",
     "text": [
      " 23%|██▎       | 11279/50000 [1:56:49<7:54:44,  1.36it/s]"
     ]
    },
    {
     "name": "stdout",
     "output_type": "stream",
     "text": [
      "Episode 11280/50000\n",
      "Fitnesses: ['-29.28', '-15.52', '-14.12', '-79.31']\n",
      "100 fitness avgs: ['-23.35', '-23.57', '-23.26', '-23.85']\n"
     ]
    },
    {
     "name": "stderr",
     "output_type": "stream",
     "text": [
      " 23%|██▎       | 11299/50000 [1:57:03<7:47:28,  1.38it/s]"
     ]
    },
    {
     "name": "stdout",
     "output_type": "stream",
     "text": [
      "Episode 11300/50000\n",
      "Fitnesses: ['-17.31', '-26.87', '-19.56', '-11.48']\n",
      "100 fitness avgs: ['-23.21', '-23.61', '-23.54', '-23.24']\n"
     ]
    },
    {
     "name": "stderr",
     "output_type": "stream",
     "text": [
      " 23%|██▎       | 11319/50000 [1:57:20<9:01:55,  1.19it/s] "
     ]
    },
    {
     "name": "stdout",
     "output_type": "stream",
     "text": [
      "Episode 11320/50000\n",
      "Fitnesses: ['-47.01', '-40.81', '-44.37', '-62.17']\n",
      "100 fitness avgs: ['-23.62', '-23.53', '-23.59', '-23.77']\n"
     ]
    },
    {
     "name": "stderr",
     "output_type": "stream",
     "text": [
      " 23%|██▎       | 11339/50000 [1:57:34<7:33:45,  1.42it/s] "
     ]
    },
    {
     "name": "stdout",
     "output_type": "stream",
     "text": [
      "Episode 11340/50000\n",
      "Fitnesses: ['-22.28', '-29.53', '-44.31', '-58.44']\n",
      "100 fitness avgs: ['-23.57', '-23.64', '-23.85', '-23.99']\n"
     ]
    },
    {
     "name": "stderr",
     "output_type": "stream",
     "text": [
      " 23%|██▎       | 11359/50000 [1:57:47<7:15:26,  1.48it/s]"
     ]
    },
    {
     "name": "stdout",
     "output_type": "stream",
     "text": [
      "Episode 11360/50000\n",
      "Fitnesses: ['-28.30', '-0.57', '-52.50', '-14.86']\n",
      "100 fitness avgs: ['-23.79', '-23.58', '-24.10', '-23.73']\n"
     ]
    },
    {
     "name": "stderr",
     "output_type": "stream",
     "text": [
      " 23%|██▎       | 11379/50000 [1:58:01<7:23:44,  1.45it/s]"
     ]
    },
    {
     "name": "stdout",
     "output_type": "stream",
     "text": [
      "Episode 11380/50000\n",
      "Fitnesses: ['-24.62', '-5.41', '-55.10', '-6.34']\n",
      "100 fitness avgs: ['-23.71', '-23.72', '-24.02', '-23.67']\n"
     ]
    },
    {
     "name": "stderr",
     "output_type": "stream",
     "text": [
      " 23%|██▎       | 11399/50000 [1:58:15<7:26:36,  1.44it/s]"
     ]
    },
    {
     "name": "stdout",
     "output_type": "stream",
     "text": [
      "Episode 11400/50000\n",
      "Fitnesses: ['-84.95', '-8.27', '-39.16', '-19.10']\n",
      "100 fitness avgs: ['-24.40', '-23.58', '-23.89', '-23.69']\n"
     ]
    },
    {
     "name": "stderr",
     "output_type": "stream",
     "text": [
      " 23%|██▎       | 11419/50000 [1:58:32<9:09:01,  1.17it/s]"
     ]
    },
    {
     "name": "stdout",
     "output_type": "stream",
     "text": [
      "Episode 11420/50000\n",
      "Fitnesses: ['-33.95', '-8.81', '-14.49', '-10.39']\n",
      "100 fitness avgs: ['-23.84', '-23.69', '-23.64', '-23.60']\n"
     ]
    },
    {
     "name": "stderr",
     "output_type": "stream",
     "text": [
      " 23%|██▎       | 11439/50000 [1:58:48<8:41:40,  1.23it/s] "
     ]
    },
    {
     "name": "stdout",
     "output_type": "stream",
     "text": [
      "Episode 11440/50000\n",
      "Fitnesses: ['-0.68', '-68.37', '-75.85', '-345.65']\n",
      "100 fitness avgs: ['-23.59', '-24.26', '-24.48', '-26.94']\n"
     ]
    },
    {
     "name": "stderr",
     "output_type": "stream",
     "text": [
      " 23%|██▎       | 11459/50000 [1:59:04<8:37:30,  1.24it/s] "
     ]
    },
    {
     "name": "stdout",
     "output_type": "stream",
     "text": [
      "Episode 11460/50000\n",
      "Fitnesses: ['-38.70', '-696.20', '-12.50', '-1.59']\n",
      "100 fitness avgs: ['-23.21', '-30.68', '-22.95', '-23.74']\n"
     ]
    },
    {
     "name": "stderr",
     "output_type": "stream",
     "text": [
      " 23%|██▎       | 11479/50000 [1:59:19<7:37:29,  1.40it/s] "
     ]
    },
    {
     "name": "stdout",
     "output_type": "stream",
     "text": [
      "Episode 11480/50000\n",
      "Fitnesses: ['-12.85', '-75.25', '-40.13', '-3.66']\n",
      "100 fitness avgs: ['-23.52', '-24.15', '-23.80', '-22.91']\n"
     ]
    },
    {
     "name": "stderr",
     "output_type": "stream",
     "text": [
      " 23%|██▎       | 11499/50000 [1:59:31<6:55:09,  1.55it/s]"
     ]
    },
    {
     "name": "stdout",
     "output_type": "stream",
     "text": [
      "Episode 11500/50000\n",
      "Fitnesses: ['-189.41', '-0.64', '-9.62', '-6.59']\n",
      "100 fitness avgs: ['-24.75', '-22.86', '-22.95', '-22.92']\n"
     ]
    },
    {
     "name": "stderr",
     "output_type": "stream",
     "text": [
      " 23%|██▎       | 11519/50000 [1:59:46<8:25:43,  1.27it/s]"
     ]
    },
    {
     "name": "stdout",
     "output_type": "stream",
     "text": [
      "Episode 11520/50000\n",
      "Fitnesses: ['-1.71', '-44.12', '-18.13', '-60.03']\n",
      "100 fitness avgs: ['-22.43', '-22.94', '-22.59', '-23.10']\n"
     ]
    },
    {
     "name": "stderr",
     "output_type": "stream",
     "text": [
      " 23%|██▎       | 11539/50000 [2:00:01<7:52:44,  1.36it/s]"
     ]
    },
    {
     "name": "stdout",
     "output_type": "stream",
     "text": [
      "Episode 11540/50000\n",
      "Fitnesses: ['-29.96', '-38.62', '-65.20', '-10.93']\n",
      "100 fitness avgs: ['-22.68', '-23.28', '-23.19', '-22.49']\n"
     ]
    },
    {
     "name": "stderr",
     "output_type": "stream",
     "text": [
      " 23%|██▎       | 11559/50000 [2:00:16<7:44:46,  1.38it/s] "
     ]
    },
    {
     "name": "stdout",
     "output_type": "stream",
     "text": [
      "Episode 11560/50000\n",
      "Fitnesses: ['-8.80', '-21.93', '-11.43', '-6.92']\n",
      "100 fitness avgs: ['-22.53', '-22.86', '-22.56', '-22.52']\n"
     ]
    },
    {
     "name": "stderr",
     "output_type": "stream",
     "text": [
      " 23%|██▎       | 11579/50000 [2:00:30<7:53:15,  1.35it/s]"
     ]
    },
    {
     "name": "stdout",
     "output_type": "stream",
     "text": [
      "Episode 11580/50000\n",
      "Fitnesses: ['-24.44', '-36.68', '-50.10', '-36.61']\n",
      "100 fitness avgs: ['-22.59', '-22.71', '-22.85', '-22.71']\n"
     ]
    },
    {
     "name": "stderr",
     "output_type": "stream",
     "text": [
      " 23%|██▎       | 11599/50000 [2:00:47<9:03:20,  1.18it/s] "
     ]
    },
    {
     "name": "stdout",
     "output_type": "stream",
     "text": [
      "Episode 11600/50000\n",
      "Fitnesses: ['-24.31', '-49.96', '-5.05', '-12.44']\n",
      "100 fitness avgs: ['-22.77', '-23.02', '-22.70', '-22.77']\n"
     ]
    },
    {
     "name": "stderr",
     "output_type": "stream",
     "text": [
      " 23%|██▎       | 11619/50000 [2:01:02<7:39:11,  1.39it/s]"
     ]
    },
    {
     "name": "stdout",
     "output_type": "stream",
     "text": [
      "Episode 11620/50000\n",
      "Fitnesses: ['-37.86', '-10.34', '-13.02', '-77.42']\n",
      "100 fitness avgs: ['-23.03', '-22.83', '-22.86', '-23.50']\n"
     ]
    },
    {
     "name": "stderr",
     "output_type": "stream",
     "text": [
      " 23%|██▎       | 11639/50000 [2:01:16<7:39:25,  1.39it/s]"
     ]
    },
    {
     "name": "stdout",
     "output_type": "stream",
     "text": [
      "Episode 11640/50000\n",
      "Fitnesses: ['-64.04', '-19.34', '-11.15', '-12.04']\n",
      "100 fitness avgs: ['-23.33', '-22.88', '-23.47', '-22.84']\n"
     ]
    },
    {
     "name": "stderr",
     "output_type": "stream",
     "text": [
      " 23%|██▎       | 11659/50000 [2:01:30<7:48:10,  1.36it/s]"
     ]
    },
    {
     "name": "stdout",
     "output_type": "stream",
     "text": [
      "Episode 11660/50000\n",
      "Fitnesses: ['-3.63', '-12.62', '-46.40', '-38.54']\n",
      "100 fitness avgs: ['-23.41', '-22.92', '-23.84', '-23.17']\n"
     ]
    },
    {
     "name": "stderr",
     "output_type": "stream",
     "text": [
      " 23%|██▎       | 11679/50000 [2:01:45<8:00:18,  1.33it/s]"
     ]
    },
    {
     "name": "stdout",
     "output_type": "stream",
     "text": [
      "Episode 11680/50000\n",
      "Fitnesses: ['-8.20', '-20.24', '-50.08', '-22.50']\n",
      "100 fitness avgs: ['-23.29', '-23.17', '-23.47', '-23.20']\n"
     ]
    },
    {
     "name": "stderr",
     "output_type": "stream",
     "text": [
      " 23%|██▎       | 11699/50000 [2:02:00<7:40:45,  1.39it/s]"
     ]
    },
    {
     "name": "stdout",
     "output_type": "stream",
     "text": [
      "Episode 11700/50000\n",
      "Fitnesses: ['-23.23', '-3.00', '-11.15', '-13.66']\n",
      "100 fitness avgs: ['-23.43', '-23.22', '-23.19', '-23.33']\n"
     ]
    },
    {
     "name": "stderr",
     "output_type": "stream",
     "text": [
      " 23%|██▎       | 11719/50000 [2:02:15<8:05:48,  1.31it/s]"
     ]
    },
    {
     "name": "stdout",
     "output_type": "stream",
     "text": [
      "Episode 11720/50000\n",
      "Fitnesses: ['-3.37', '-39.43', '-15.92', '-23.61']\n",
      "100 fitness avgs: ['-22.69', '-23.05', '-22.82', '-22.89']\n"
     ]
    },
    {
     "name": "stderr",
     "output_type": "stream",
     "text": [
      " 23%|██▎       | 11739/50000 [2:02:32<9:11:12,  1.16it/s]"
     ]
    },
    {
     "name": "stdout",
     "output_type": "stream",
     "text": [
      "Episode 11740/50000\n",
      "Fitnesses: ['-56.38', '-8.64', '-139.58', '-15.14']\n",
      "100 fitness avgs: ['-23.15', '-22.68', '-23.99', '-22.87']\n"
     ]
    },
    {
     "name": "stderr",
     "output_type": "stream",
     "text": [
      " 24%|██▎       | 11759/50000 [2:02:47<7:48:52,  1.36it/s] "
     ]
    },
    {
     "name": "stdout",
     "output_type": "stream",
     "text": [
      "Episode 11760/50000\n",
      "Fitnesses: ['-31.30', '-78.79', '-68.22', '-57.14']\n",
      "100 fitness avgs: ['-22.79', '-23.27', '-23.16', '-23.05']\n"
     ]
    },
    {
     "name": "stderr",
     "output_type": "stream",
     "text": [
      " 24%|██▎       | 11779/50000 [2:03:02<8:02:01,  1.32it/s]"
     ]
    },
    {
     "name": "stdout",
     "output_type": "stream",
     "text": [
      "Episode 11780/50000\n",
      "Fitnesses: ['-21.86', '-8.85', '-2.44', '-85.33']\n",
      "100 fitness avgs: ['-22.40', '-22.27', '-22.21', '-23.51']\n"
     ]
    },
    {
     "name": "stderr",
     "output_type": "stream",
     "text": [
      " 24%|██▎       | 11799/50000 [2:03:17<7:54:28,  1.34it/s]"
     ]
    },
    {
     "name": "stdout",
     "output_type": "stream",
     "text": [
      "Episode 11800/50000\n",
      "Fitnesses: ['-55.06', '-15.65', '-21.90', '-67.77']\n",
      "100 fitness avgs: ['-22.69', '-22.36', '-22.55', '-23.01']\n"
     ]
    },
    {
     "name": "stderr",
     "output_type": "stream",
     "text": [
      " 24%|██▎       | 11819/50000 [2:03:32<7:51:12,  1.35it/s]"
     ]
    },
    {
     "name": "stdout",
     "output_type": "stream",
     "text": [
      "Episode 11820/50000\n",
      "Fitnesses: ['-11.05', '-31.81', '-127.46', '-3.09']\n",
      "100 fitness avgs: ['-22.39', '-22.60', '-23.55', '-22.64']\n"
     ]
    },
    {
     "name": "stderr",
     "output_type": "stream",
     "text": [
      " 24%|██▎       | 11839/50000 [2:03:46<7:56:43,  1.33it/s]"
     ]
    },
    {
     "name": "stdout",
     "output_type": "stream",
     "text": [
      "Episode 11840/50000\n",
      "Fitnesses: ['-68.14', '-85.22', '-10.38', '-21.25']\n",
      "100 fitness avgs: ['-23.22', '-23.35', '-22.60', '-22.75']\n"
     ]
    },
    {
     "name": "stderr",
     "output_type": "stream",
     "text": [
      " 24%|██▎       | 11859/50000 [2:04:01<8:29:33,  1.25it/s]"
     ]
    },
    {
     "name": "stdout",
     "output_type": "stream",
     "text": [
      "Episode 11860/50000\n",
      "Fitnesses: ['-24.82', '-23.46', '-17.68', '-71.25']\n",
      "100 fitness avgs: ['-22.20', '-22.18', '-22.28', '-22.66']\n"
     ]
    },
    {
     "name": "stderr",
     "output_type": "stream",
     "text": [
      " 24%|██▍       | 11879/50000 [2:04:17<8:03:43,  1.31it/s] "
     ]
    },
    {
     "name": "stdout",
     "output_type": "stream",
     "text": [
      "Episode 11880/50000\n",
      "Fitnesses: ['-7.99', '-42.86', '-9.60', '-152.92']\n",
      "100 fitness avgs: ['-21.97', '-22.24', '-21.90', '-23.42']\n"
     ]
    },
    {
     "name": "stderr",
     "output_type": "stream",
     "text": [
      " 24%|██▍       | 11899/50000 [2:04:32<7:56:04,  1.33it/s]"
     ]
    },
    {
     "name": "stdout",
     "output_type": "stream",
     "text": [
      "Episode 11900/50000\n",
      "Fitnesses: ['-8.61', '-26.85', '-32.28', '-60.76']\n",
      "100 fitness avgs: ['-21.85', '-21.96', '-22.01', '-22.30']\n"
     ]
    },
    {
     "name": "stderr",
     "output_type": "stream",
     "text": [
      " 24%|██▍       | 11919/50000 [2:04:46<7:51:08,  1.35it/s]"
     ]
    },
    {
     "name": "stdout",
     "output_type": "stream",
     "text": [
      "Episode 11920/50000\n",
      "Fitnesses: ['-75.23', '-50.73', '-48.18', '-41.29']\n",
      "100 fitness avgs: ['-21.56', '-21.32', '-21.40', '-21.23']\n"
     ]
    },
    {
     "name": "stderr",
     "output_type": "stream",
     "text": [
      " 24%|██▍       | 11939/50000 [2:05:01<8:00:14,  1.32it/s]"
     ]
    },
    {
     "name": "stdout",
     "output_type": "stream",
     "text": [
      "Episode 11940/50000\n",
      "Fitnesses: ['-62.22', '-15.26', '-34.74', '-82.24']\n",
      "100 fitness avgs: ['-21.76', '-21.47', '-21.49', '-21.96']\n"
     ]
    },
    {
     "name": "stderr",
     "output_type": "stream",
     "text": [
      " 24%|██▍       | 11959/50000 [2:05:17<8:02:58,  1.31it/s]"
     ]
    },
    {
     "name": "stdout",
     "output_type": "stream",
     "text": [
      "Episode 11960/50000\n",
      "Fitnesses: ['-23.80', '-16.88', '-47.57', '-13.57']\n",
      "100 fitness avgs: ['-21.51', '-21.46', '-21.75', '-21.41']\n"
     ]
    },
    {
     "name": "stderr",
     "output_type": "stream",
     "text": [
      " 24%|██▍       | 11979/50000 [2:05:31<7:41:55,  1.37it/s]"
     ]
    },
    {
     "name": "stdout",
     "output_type": "stream",
     "text": [
      "Episode 11980/50000\n",
      "Fitnesses: ['-14.18', '-6.46', '-5.05', '-32.61']\n",
      "100 fitness avgs: ['-21.35', '-21.33', '-21.31', '-21.54']\n"
     ]
    },
    {
     "name": "stderr",
     "output_type": "stream",
     "text": [
      " 24%|██▍       | 11999/50000 [2:05:46<7:49:00,  1.35it/s]"
     ]
    },
    {
     "name": "stdout",
     "output_type": "stream",
     "text": [
      "Episode 12000/50000\n",
      "Fitnesses: ['-39.62', '-50.92', '-24.59', '-28.59']\n",
      "100 fitness avgs: ['-21.67', '-21.79', '-21.52', '-21.79']\n"
     ]
    },
    {
     "name": "stderr",
     "output_type": "stream",
     "text": [
      " 24%|██▍       | 12019/50000 [2:06:01<7:52:56,  1.34it/s]"
     ]
    },
    {
     "name": "stdout",
     "output_type": "stream",
     "text": [
      "Episode 12020/50000\n",
      "Fitnesses: ['-14.43', '-6.93', '-38.09', '-33.17']\n",
      "100 fitness avgs: ['-21.34', '-21.27', '-21.84', '-21.68']\n"
     ]
    },
    {
     "name": "stderr",
     "output_type": "stream",
     "text": [
      " 24%|██▍       | 12039/50000 [2:06:16<7:51:49,  1.34it/s]"
     ]
    },
    {
     "name": "stdout",
     "output_type": "stream",
     "text": [
      "Episode 12040/50000\n",
      "Fitnesses: ['-34.11', '-41.29', '-57.61', '-4.44']\n",
      "100 fitness avgs: ['-21.52', '-22.00', '-21.75', '-21.30']\n"
     ]
    },
    {
     "name": "stderr",
     "output_type": "stream",
     "text": [
      " 24%|██▍       | 12059/50000 [2:06:31<7:57:51,  1.32it/s]"
     ]
    },
    {
     "name": "stdout",
     "output_type": "stream",
     "text": [
      "Episode 12060/50000\n",
      "Fitnesses: ['-12.64', '-75.39', '-3.65', '-88.01']\n",
      "100 fitness avgs: ['-21.08', '-21.93', '-20.99', '-22.06']\n"
     ]
    },
    {
     "name": "stderr",
     "output_type": "stream",
     "text": [
      " 24%|██▍       | 12079/50000 [2:06:45<7:43:28,  1.36it/s]"
     ]
    },
    {
     "name": "stdout",
     "output_type": "stream",
     "text": [
      "Episode 12080/50000\n",
      "Fitnesses: ['-15.58', '-34.33', '-54.51', '-33.23']\n",
      "100 fitness avgs: ['-20.97', '-21.16', '-21.36', '-22.21']\n"
     ]
    },
    {
     "name": "stderr",
     "output_type": "stream",
     "text": [
      " 24%|██▍       | 12099/50000 [2:07:01<8:04:12,  1.30it/s]"
     ]
    },
    {
     "name": "stdout",
     "output_type": "stream",
     "text": [
      "Episode 12100/50000\n",
      "Fitnesses: ['-62.48', '-23.68', '-39.69', '-20.66']\n",
      "100 fitness avgs: ['-21.54', '-21.34', '-22.55', '-21.31']\n"
     ]
    },
    {
     "name": "stderr",
     "output_type": "stream",
     "text": [
      " 24%|██▍       | 12119/50000 [2:07:14<7:06:31,  1.48it/s]"
     ]
    },
    {
     "name": "stdout",
     "output_type": "stream",
     "text": [
      "Episode 12120/50000\n",
      "Fitnesses: ['-36.37', '-8.11', '-49.54', '-259.68']\n",
      "100 fitness avgs: ['-21.60', '-21.32', '-22.98', '-23.87']\n"
     ]
    },
    {
     "name": "stderr",
     "output_type": "stream",
     "text": [
      " 24%|██▍       | 12139/50000 [2:07:28<7:49:40,  1.34it/s]"
     ]
    },
    {
     "name": "stdout",
     "output_type": "stream",
     "text": [
      "Episode 12140/50000\n",
      "Fitnesses: ['-42.00', '-50.39', '-25.92', '-36.18']\n",
      "100 fitness avgs: ['-21.02', '-21.10', '-22.52', '-21.24']\n"
     ]
    },
    {
     "name": "stderr",
     "output_type": "stream",
     "text": [
      " 24%|██▍       | 12159/50000 [2:07:40<6:32:50,  1.61it/s]"
     ]
    },
    {
     "name": "stdout",
     "output_type": "stream",
     "text": [
      "Episode 12160/50000\n",
      "Fitnesses: ['-9.54', '-145.22', '-18.61', '-14.39']\n",
      "100 fitness avgs: ['-22.49', '-22.35', '-21.08', '-21.04']\n"
     ]
    },
    {
     "name": "stderr",
     "output_type": "stream",
     "text": [
      " 24%|██▍       | 12179/50000 [2:07:55<7:45:51,  1.35it/s]"
     ]
    },
    {
     "name": "stdout",
     "output_type": "stream",
     "text": [
      "Episode 12180/50000\n",
      "Fitnesses: ['-21.49', '-17.37', '-30.53', '-19.10']\n",
      "100 fitness avgs: ['-22.34', '-20.85', '-22.43', '-20.86']\n"
     ]
    },
    {
     "name": "stderr",
     "output_type": "stream",
     "text": [
      " 24%|██▍       | 12199/50000 [2:08:09<7:29:33,  1.40it/s]"
     ]
    },
    {
     "name": "stdout",
     "output_type": "stream",
     "text": [
      "Episode 12200/50000\n",
      "Fitnesses: ['-21.15', '-56.74', '-44.10', '-17.55']\n",
      "100 fitness avgs: ['-20.84', '-21.21', '-21.07', '-22.29']\n"
     ]
    },
    {
     "name": "stderr",
     "output_type": "stream",
     "text": [
      " 24%|██▍       | 12219/50000 [2:08:21<6:32:16,  1.61it/s]"
     ]
    },
    {
     "name": "stdout",
     "output_type": "stream",
     "text": [
      "Episode 12220/50000\n",
      "Fitnesses: ['-516.71', '-15.65', '-13.95', '-6.98']\n",
      "100 fitness avgs: ['-27.32', '-22.31', '-20.84', '-20.77']\n"
     ]
    },
    {
     "name": "stderr",
     "output_type": "stream",
     "text": [
      " 24%|██▍       | 12239/50000 [2:08:35<7:45:57,  1.35it/s]"
     ]
    },
    {
     "name": "stdout",
     "output_type": "stream",
     "text": [
      "Episode 12240/50000\n",
      "Fitnesses: ['-10.36', '-31.63', '-69.12', '-52.00']\n",
      "100 fitness avgs: ['-20.60', '-20.89', '-21.26', '-21.02']\n"
     ]
    },
    {
     "name": "stderr",
     "output_type": "stream",
     "text": [
      " 25%|██▍       | 12259/50000 [2:08:49<7:09:40,  1.46it/s]"
     ]
    },
    {
     "name": "stdout",
     "output_type": "stream",
     "text": [
      "Episode 12260/50000\n",
      "Fitnesses: ['-6.66', '-6.83', '-94.76', '-92.31']\n",
      "100 fitness avgs: ['-20.07', '-20.35', '-20.95', '-21.34']\n"
     ]
    },
    {
     "name": "stderr",
     "output_type": "stream",
     "text": [
      " 25%|██▍       | 12279/50000 [2:09:02<6:57:28,  1.51it/s]"
     ]
    },
    {
     "name": "stdout",
     "output_type": "stream",
     "text": [
      "Episode 12280/50000\n",
      "Fitnesses: ['-9.12', '-35.46', '-48.96', '-68.70']\n",
      "100 fitness avgs: ['-20.02', '-20.57', '-20.42', '-20.62']\n"
     ]
    },
    {
     "name": "stderr",
     "output_type": "stream",
     "text": [
      " 25%|██▍       | 12299/50000 [2:09:16<7:19:48,  1.43it/s]"
     ]
    },
    {
     "name": "stdout",
     "output_type": "stream",
     "text": [
      "Episode 12300/50000\n",
      "Fitnesses: ['-35.59', '-15.34', '-7.50', '-47.02']\n",
      "100 fitness avgs: ['-20.16', '-19.95', '-19.87', '-20.82']\n"
     ]
    },
    {
     "name": "stderr",
     "output_type": "stream",
     "text": [
      " 25%|██▍       | 12319/50000 [2:09:29<7:04:14,  1.48it/s]"
     ]
    },
    {
     "name": "stdout",
     "output_type": "stream",
     "text": [
      "Episode 12320/50000\n",
      "Fitnesses: ['-44.52', '-18.54', '-20.94', '-44.18']\n",
      "100 fitness avgs: ['-20.14', '-19.88', '-19.90', '-20.13']\n"
     ]
    },
    {
     "name": "stderr",
     "output_type": "stream",
     "text": [
      " 25%|██▍       | 12339/50000 [2:09:43<7:08:29,  1.46it/s]"
     ]
    },
    {
     "name": "stdout",
     "output_type": "stream",
     "text": [
      "Episode 12340/50000\n",
      "Fitnesses: ['-83.01', '-15.02', '-15.69', '-40.66']\n",
      "100 fitness avgs: ['-20.70', '-20.02', '-20.05', '-20.54']\n"
     ]
    },
    {
     "name": "stderr",
     "output_type": "stream",
     "text": [
      " 25%|██▍       | 12359/50000 [2:09:59<8:16:06,  1.26it/s]"
     ]
    },
    {
     "name": "stdout",
     "output_type": "stream",
     "text": [
      "Episode 12360/50000\n",
      "Fitnesses: ['-625.62', '-26.19', '-10.06', '-15.26']\n",
      "100 fitness avgs: ['-26.08', '-20.08', '-19.92', '-20.00']\n"
     ]
    },
    {
     "name": "stderr",
     "output_type": "stream",
     "text": [
      " 25%|██▍       | 12379/50000 [2:10:13<7:49:10,  1.34it/s]"
     ]
    },
    {
     "name": "stdout",
     "output_type": "stream",
     "text": [
      "Episode 12380/50000\n",
      "Fitnesses: ['-54.28', '-4.32', '-10.93', '-399.26']\n",
      "100 fitness avgs: ['-20.39', '-19.97', '-20.12', '-30.00']\n"
     ]
    },
    {
     "name": "stderr",
     "output_type": "stream",
     "text": [
      " 25%|██▍       | 12399/50000 [2:10:27<7:04:30,  1.48it/s] "
     ]
    },
    {
     "name": "stdout",
     "output_type": "stream",
     "text": [
      "Episode 12400/50000\n",
      "Fitnesses: ['-35.00', '-97.17', '-36.55', '-37.12']\n",
      "100 fitness avgs: ['-19.88', '-20.50', '-20.04', '-19.90']\n"
     ]
    },
    {
     "name": "stderr",
     "output_type": "stream",
     "text": [
      " 25%|██▍       | 12419/50000 [2:10:40<7:08:01,  1.46it/s]"
     ]
    },
    {
     "name": "stdout",
     "output_type": "stream",
     "text": [
      "Episode 12420/50000\n",
      "Fitnesses: ['-93.23', '-36.91', '-38.21', '-38.51']\n",
      "100 fitness avgs: ['-20.50', '-19.96', '-19.97', '-19.96']\n"
     ]
    },
    {
     "name": "stderr",
     "output_type": "stream",
     "text": [
      " 25%|██▍       | 12439/50000 [2:10:54<7:21:24,  1.42it/s]"
     ]
    },
    {
     "name": "stdout",
     "output_type": "stream",
     "text": [
      "Episode 12440/50000\n",
      "Fitnesses: ['-81.94', '-22.23', '-23.18', '-14.45']\n",
      "100 fitness avgs: ['-19.78', '-19.20', '-19.20', '-19.11']\n"
     ]
    },
    {
     "name": "stderr",
     "output_type": "stream",
     "text": [
      " 25%|██▍       | 12459/50000 [2:11:08<7:06:18,  1.47it/s]"
     ]
    },
    {
     "name": "stdout",
     "output_type": "stream",
     "text": [
      "Episode 12460/50000\n",
      "Fitnesses: ['-57.54', '-77.83', '-12.63', '-40.18']\n",
      "100 fitness avgs: ['-19.51', '-19.71', '-19.14', '-19.33']\n"
     ]
    },
    {
     "name": "stderr",
     "output_type": "stream",
     "text": [
      " 25%|██▍       | 12479/50000 [2:11:21<7:17:25,  1.43it/s]"
     ]
    },
    {
     "name": "stdout",
     "output_type": "stream",
     "text": [
      "Episode 12480/50000\n",
      "Fitnesses: ['-22.71', '-37.15', '-86.98', '-22.43']\n",
      "100 fitness avgs: ['-19.05', '-19.38', '-19.88', '-19.61']\n"
     ]
    },
    {
     "name": "stderr",
     "output_type": "stream",
     "text": [
      " 25%|██▍       | 12499/50000 [2:11:33<6:09:58,  1.69it/s]"
     ]
    },
    {
     "name": "stdout",
     "output_type": "stream",
     "text": [
      "Episode 12500/50000\n",
      "Fitnesses: ['-24.03', '-16.32', '-39.58', '-669.88']\n",
      "100 fitness avgs: ['-19.69', '-19.61', '-19.84', '-25.58']\n"
     ]
    },
    {
     "name": "stderr",
     "output_type": "stream",
     "text": [
      " 25%|██▌       | 12519/50000 [2:11:47<7:13:12,  1.44it/s]"
     ]
    },
    {
     "name": "stdout",
     "output_type": "stream",
     "text": [
      "Episode 12520/50000\n",
      "Fitnesses: ['-6.86', '-25.52', '-7.62', '-40.37']\n",
      "100 fitness avgs: ['-19.53', '-19.72', '-19.54', '-19.86']\n"
     ]
    },
    {
     "name": "stderr",
     "output_type": "stream",
     "text": [
      " 25%|██▌       | 12539/50000 [2:12:00<7:07:42,  1.46it/s]"
     ]
    },
    {
     "name": "stdout",
     "output_type": "stream",
     "text": [
      "Episode 12540/50000\n",
      "Fitnesses: ['-66.21', '-127.93', '-19.51', '-9.83']\n",
      "100 fitness avgs: ['-20.14', '-20.94', '-19.67', '-19.91']\n"
     ]
    },
    {
     "name": "stderr",
     "output_type": "stream",
     "text": [
      " 25%|██▌       | 12559/50000 [2:12:14<7:25:37,  1.40it/s]"
     ]
    },
    {
     "name": "stdout",
     "output_type": "stream",
     "text": [
      "Episode 12560/50000\n",
      "Fitnesses: ['-56.94', '-19.60', '-68.65', '-16.91']\n",
      "100 fitness avgs: ['-20.23', '-19.86', '-20.11', '-19.59']\n"
     ]
    },
    {
     "name": "stderr",
     "output_type": "stream",
     "text": [
      " 25%|██▌       | 12579/50000 [2:12:28<7:28:22,  1.39it/s]"
     ]
    },
    {
     "name": "stdout",
     "output_type": "stream",
     "text": [
      "Episode 12580/50000\n",
      "Fitnesses: ['-11.51', '-15.71', '-54.13', '-52.96']\n",
      "100 fitness avgs: ['-19.45', '-19.49', '-19.87', '-19.86']\n"
     ]
    },
    {
     "name": "stderr",
     "output_type": "stream",
     "text": [
      " 25%|██▌       | 12599/50000 [2:12:42<7:24:20,  1.40it/s]"
     ]
    },
    {
     "name": "stdout",
     "output_type": "stream",
     "text": [
      "Episode 12600/50000\n",
      "Fitnesses: ['-10.98', '-2.10', '-3.02', '-21.76']\n",
      "100 fitness avgs: ['-19.54', '-19.49', '-19.50', '-19.64']\n"
     ]
    },
    {
     "name": "stderr",
     "output_type": "stream",
     "text": [
      " 25%|██▌       | 12619/50000 [2:12:56<7:07:49,  1.46it/s]"
     ]
    },
    {
     "name": "stdout",
     "output_type": "stream",
     "text": [
      "Episode 12620/50000\n",
      "Fitnesses: ['-143.17', '-31.51', '-93.42', '-80.14']\n",
      "100 fitness avgs: ['-20.84', '-19.72', '-20.34', '-20.21']\n"
     ]
    },
    {
     "name": "stderr",
     "output_type": "stream",
     "text": [
      " 25%|██▌       | 12639/50000 [2:13:09<7:15:45,  1.43it/s]"
     ]
    },
    {
     "name": "stdout",
     "output_type": "stream",
     "text": [
      "Episode 12640/50000\n",
      "Fitnesses: ['-30.50', '-36.99', '-14.92', '-45.64']\n",
      "100 fitness avgs: ['-19.97', '-20.65', '-20.30', '-20.60']\n"
     ]
    },
    {
     "name": "stderr",
     "output_type": "stream",
     "text": [
      " 25%|██▌       | 12659/50000 [2:13:24<7:17:15,  1.42it/s]"
     ]
    },
    {
     "name": "stdout",
     "output_type": "stream",
     "text": [
      "Episode 12660/50000\n",
      "Fitnesses: ['-49.33', '-10.68', '-78.62', '-17.92']\n",
      "100 fitness avgs: ['-20.00', '-19.62', '-20.30', '-19.36']\n"
     ]
    },
    {
     "name": "stderr",
     "output_type": "stream",
     "text": [
      " 25%|██▌       | 12679/50000 [2:13:37<6:54:05,  1.50it/s]"
     ]
    },
    {
     "name": "stdout",
     "output_type": "stream",
     "text": [
      "Episode 12680/50000\n",
      "Fitnesses: ['-22.75', '-125.66', '-70.44', '-82.80']\n",
      "100 fitness avgs: ['-19.66', '-20.69', '-19.88', '-20.26']\n"
     ]
    },
    {
     "name": "stderr",
     "output_type": "stream",
     "text": [
      " 25%|██▌       | 12699/50000 [2:13:50<7:05:18,  1.46it/s]"
     ]
    },
    {
     "name": "stdout",
     "output_type": "stream",
     "text": [
      "Episode 12700/50000\n",
      "Fitnesses: ['-32.46', '-34.26', '-12.39', '-68.23']\n",
      "100 fitness avgs: ['-19.56', '-20.17', '-19.57', '-20.51']\n"
     ]
    },
    {
     "name": "stderr",
     "output_type": "stream",
     "text": [
      " 25%|██▌       | 12719/50000 [2:14:04<7:09:48,  1.45it/s]"
     ]
    },
    {
     "name": "stdout",
     "output_type": "stream",
     "text": [
      "Episode 12720/50000\n",
      "Fitnesses: ['-22.06', '-44.93', '-123.82', '-70.52']\n",
      "100 fitness avgs: ['-18.41', '-18.64', '-19.43', '-18.90']\n"
     ]
    },
    {
     "name": "stderr",
     "output_type": "stream",
     "text": [
      " 25%|██▌       | 12739/50000 [2:14:20<8:03:01,  1.29it/s]"
     ]
    },
    {
     "name": "stdout",
     "output_type": "stream",
     "text": [
      "Episode 12740/50000\n",
      "Fitnesses: ['-209.97', '-9.15', '-44.38', '-130.22']\n",
      "100 fitness avgs: ['-20.23', '-19.24', '-18.57', '-19.66']\n"
     ]
    },
    {
     "name": "stderr",
     "output_type": "stream",
     "text": [
      " 26%|██▌       | 12759/50000 [2:14:33<7:03:31,  1.47it/s]"
     ]
    },
    {
     "name": "stdout",
     "output_type": "stream",
     "text": [
      "Episode 12760/50000\n",
      "Fitnesses: ['-49.79', '-27.55', '-59.51', '-17.77']\n",
      "100 fitness avgs: ['-19.59', '-19.79', '-19.02', '-19.27']\n"
     ]
    },
    {
     "name": "stderr",
     "output_type": "stream",
     "text": [
      " 26%|██▌       | 12779/50000 [2:14:48<7:47:11,  1.33it/s]"
     ]
    },
    {
     "name": "stdout",
     "output_type": "stream",
     "text": [
      "Episode 12780/50000\n",
      "Fitnesses: ['-64.07', '-60.83', '-49.18', '-54.34']\n",
      "100 fitness avgs: ['-19.60', '-19.88', '-19.97', '-19.50']\n"
     ]
    },
    {
     "name": "stderr",
     "output_type": "stream",
     "text": [
      " 26%|██▌       | 12799/50000 [2:15:01<7:11:15,  1.44it/s]"
     ]
    },
    {
     "name": "stdout",
     "output_type": "stream",
     "text": [
      "Episode 12800/50000\n",
      "Fitnesses: ['-40.04', '-64.14', '-11.35', '-69.88']\n",
      "100 fitness avgs: ['-20.25', '-20.03', '-19.50', '-20.47']\n"
     ]
    },
    {
     "name": "stderr",
     "output_type": "stream",
     "text": [
      " 26%|██▌       | 12819/50000 [2:15:15<7:34:43,  1.36it/s]"
     ]
    },
    {
     "name": "stdout",
     "output_type": "stream",
     "text": [
      "Episode 12820/50000\n",
      "Fitnesses: ['-43.44', '-16.25', '-64.70', '-9.54']\n",
      "100 fitness avgs: ['-19.71', '-19.44', '-19.93', '-19.90']\n"
     ]
    },
    {
     "name": "stderr",
     "output_type": "stream",
     "text": [
      " 26%|██▌       | 12839/50000 [2:15:29<7:31:54,  1.37it/s]"
     ]
    },
    {
     "name": "stdout",
     "output_type": "stream",
     "text": [
      "Episode 12840/50000\n",
      "Fitnesses: ['-13.25', '-4.60', '-33.35', '-6.13']\n",
      "100 fitness avgs: ['-19.46', '-18.92', '-19.66', '-19.39']\n"
     ]
    },
    {
     "name": "stderr",
     "output_type": "stream",
     "text": [
      " 26%|██▌       | 12859/50000 [2:15:45<7:48:08,  1.32it/s] "
     ]
    },
    {
     "name": "stdout",
     "output_type": "stream",
     "text": [
      "Episode 12860/50000\n",
      "Fitnesses: ['-5.64', '-56.81', '-26.24', '-22.88']\n",
      "100 fitness avgs: ['-18.92', '-19.43', '-19.67', '-19.09']\n"
     ]
    },
    {
     "name": "stderr",
     "output_type": "stream",
     "text": [
      " 26%|██▌       | 12879/50000 [2:15:59<7:20:26,  1.40it/s]"
     ]
    },
    {
     "name": "stdout",
     "output_type": "stream",
     "text": [
      "Episode 12880/50000\n",
      "Fitnesses: ['-49.99', '-42.22', '-58.37', '-1.41']\n",
      "100 fitness avgs: ['-19.31', '-19.23', '-19.39', '-18.82']\n"
     ]
    },
    {
     "name": "stderr",
     "output_type": "stream",
     "text": [
      " 26%|██▌       | 12899/50000 [2:16:15<8:23:45,  1.23it/s] "
     ]
    },
    {
     "name": "stdout",
     "output_type": "stream",
     "text": [
      "Episode 12900/50000\n",
      "Fitnesses: ['-205.55', '-69.12', '-23.33', '-35.18']\n",
      "100 fitness avgs: ['-20.76', '-19.89', '-19.35', '-19.47']\n"
     ]
    },
    {
     "name": "stderr",
     "output_type": "stream",
     "text": [
      " 26%|██▌       | 12919/50000 [2:16:27<6:24:53,  1.61it/s]"
     ]
    },
    {
     "name": "stdout",
     "output_type": "stream",
     "text": [
      "Episode 12920/50000\n",
      "Fitnesses: ['-23.82', '-21.78', '-40.39', '-23.12']\n",
      "100 fitness avgs: ['-19.21', '-19.19', '-19.50', '-19.21']\n"
     ]
    },
    {
     "name": "stderr",
     "output_type": "stream",
     "text": [
      " 26%|██▌       | 12939/50000 [2:16:42<7:29:02,  1.38it/s]"
     ]
    },
    {
     "name": "stdout",
     "output_type": "stream",
     "text": [
      "Episode 12940/50000\n",
      "Fitnesses: ['-56.97', '-12.56', '-7.25', '-123.31']\n",
      "100 fitness avgs: ['-19.22', '-18.78', '-18.75', '-19.90']\n"
     ]
    },
    {
     "name": "stderr",
     "output_type": "stream",
     "text": [
      " 26%|██▌       | 12959/50000 [2:16:57<7:28:29,  1.38it/s]"
     ]
    },
    {
     "name": "stdout",
     "output_type": "stream",
     "text": [
      "Episode 12960/50000\n",
      "Fitnesses: ['-53.03', '-6.45', '-5.10', '-41.82']\n",
      "100 fitness avgs: ['-19.16', '-18.69', '-18.71', '-19.52']\n"
     ]
    },
    {
     "name": "stderr",
     "output_type": "stream",
     "text": [
      " 26%|██▌       | 12979/50000 [2:17:13<8:34:11,  1.20it/s]"
     ]
    },
    {
     "name": "stdout",
     "output_type": "stream",
     "text": [
      "Episode 12980/50000\n",
      "Fitnesses: ['-15.33', '-12.83', '-19.72', '-149.30']\n",
      "100 fitness avgs: ['-18.82', '-18.78', '-19.68', '-20.16']\n"
     ]
    },
    {
     "name": "stderr",
     "output_type": "stream",
     "text": [
      " 26%|██▌       | 12999/50000 [2:17:28<7:27:19,  1.38it/s] "
     ]
    },
    {
     "name": "stdout",
     "output_type": "stream",
     "text": [
      "Episode 13000/50000\n",
      "Fitnesses: ['-131.82', '-24.01', '-32.48', '-9.96']\n",
      "100 fitness avgs: ['-19.89', '-18.86', '-18.94', '-19.57']\n"
     ]
    },
    {
     "name": "stderr",
     "output_type": "stream",
     "text": [
      " 26%|██▌       | 13019/50000 [2:17:42<7:26:40,  1.38it/s]"
     ]
    },
    {
     "name": "stdout",
     "output_type": "stream",
     "text": [
      "Episode 13020/50000\n",
      "Fitnesses: ['-35.86', '-16.25', '-58.06', '-99.77']\n",
      "100 fitness avgs: ['-19.87', '-19.68', '-19.38', '-19.88']\n"
     ]
    },
    {
     "name": "stderr",
     "output_type": "stream",
     "text": [
      " 26%|██▌       | 13039/50000 [2:17:56<7:53:44,  1.30it/s]"
     ]
    },
    {
     "name": "stdout",
     "output_type": "stream",
     "text": [
      "Episode 13040/50000\n",
      "Fitnesses: ['-60.79', '-59.31', '-1.01', '-57.12']\n",
      "100 fitness avgs: ['-20.21', '-20.40', '-19.81', '-20.38']\n"
     ]
    },
    {
     "name": "stderr",
     "output_type": "stream",
     "text": [
      " 26%|██▌       | 13059/50000 [2:18:11<7:41:46,  1.33it/s]"
     ]
    },
    {
     "name": "stdout",
     "output_type": "stream",
     "text": [
      "Episode 13060/50000\n",
      "Fitnesses: ['-58.07', '-196.87', '-40.17', '-78.82']\n",
      "100 fitness avgs: ['-20.25', '-22.04', '-20.64', '-20.45']\n"
     ]
    },
    {
     "name": "stderr",
     "output_type": "stream",
     "text": [
      " 26%|██▌       | 13079/50000 [2:18:26<7:48:24,  1.31it/s]"
     ]
    },
    {
     "name": "stdout",
     "output_type": "stream",
     "text": [
      "Episode 13080/50000\n",
      "Fitnesses: ['-92.76', '-17.78', '-12.48', '-15.26']\n",
      "100 fitness avgs: ['-21.37', '-20.62', '-20.57', '-20.20']\n"
     ]
    },
    {
     "name": "stderr",
     "output_type": "stream",
     "text": [
      " 26%|██▌       | 13099/50000 [2:18:41<7:30:33,  1.37it/s] "
     ]
    },
    {
     "name": "stdout",
     "output_type": "stream",
     "text": [
      "Episode 13100/50000\n",
      "Fitnesses: ['-196.09', '-36.88', '-19.07', '-34.47']\n",
      "100 fitness avgs: ['-22.47', '-20.93', '-20.70', '-20.49']\n"
     ]
    },
    {
     "name": "stderr",
     "output_type": "stream",
     "text": [
      " 26%|██▌       | 13119/50000 [2:18:55<7:12:48,  1.42it/s]"
     ]
    },
    {
     "name": "stdout",
     "output_type": "stream",
     "text": [
      "Episode 13120/50000\n",
      "Fitnesses: ['-65.86', '-8.01', '-169.76', '-22.99']\n",
      "100 fitness avgs: ['-21.24', '-20.66', '-22.07', '-21.04']\n"
     ]
    },
    {
     "name": "stderr",
     "output_type": "stream",
     "text": [
      " 26%|██▋       | 13139/50000 [2:19:09<7:21:50,  1.39it/s]"
     ]
    },
    {
     "name": "stdout",
     "output_type": "stream",
     "text": [
      "Episode 13140/50000\n",
      "Fitnesses: ['-18.23', '-26.50', '-34.63', '-82.58']\n",
      "100 fitness avgs: ['-20.74', '-21.20', '-20.90', '-21.96']\n"
     ]
    },
    {
     "name": "stderr",
     "output_type": "stream",
     "text": [
      " 26%|██▋       | 13159/50000 [2:19:23<7:15:50,  1.41it/s]"
     ]
    },
    {
     "name": "stdout",
     "output_type": "stream",
     "text": [
      "Episode 13160/50000\n",
      "Fitnesses: ['-133.75', '-55.39', '-114.48', '-12.37']\n",
      "100 fitness avgs: ['-22.00', '-21.22', '-21.81', '-20.95']\n"
     ]
    },
    {
     "name": "stderr",
     "output_type": "stream",
     "text": [
      " 26%|██▋       | 13179/50000 [2:19:37<7:27:06,  1.37it/s]"
     ]
    },
    {
     "name": "stdout",
     "output_type": "stream",
     "text": [
      "Episode 13180/50000\n",
      "Fitnesses: ['-54.19', '-91.37', '-30.46', '-29.37']\n",
      "100 fitness avgs: ['-21.41', '-22.05', '-21.17', '-21.43']\n"
     ]
    },
    {
     "name": "stderr",
     "output_type": "stream",
     "text": [
      " 26%|██▋       | 13199/50000 [2:19:52<7:19:52,  1.39it/s]"
     ]
    },
    {
     "name": "stdout",
     "output_type": "stream",
     "text": [
      "Episode 13200/50000\n",
      "Fitnesses: ['-25.60', '-27.30', '-44.13', '-17.61']\n",
      "100 fitness avgs: ['-21.51', '-22.15', '-21.68', '-21.41']\n"
     ]
    },
    {
     "name": "stderr",
     "output_type": "stream",
     "text": [
      " 26%|██▋       | 13219/50000 [2:20:06<7:13:17,  1.41it/s]"
     ]
    },
    {
     "name": "stdout",
     "output_type": "stream",
     "text": [
      "Episode 13220/50000\n",
      "Fitnesses: ['-496.75', '-126.13', '-21.47', '-62.05']\n",
      "100 fitness avgs: ['-26.30', '-22.70', '-21.65', '-22.69']\n"
     ]
    },
    {
     "name": "stderr",
     "output_type": "stream",
     "text": [
      " 26%|██▋       | 13239/50000 [2:20:21<7:18:03,  1.40it/s]"
     ]
    },
    {
     "name": "stdout",
     "output_type": "stream",
     "text": [
      "Episode 13240/50000\n",
      "Fitnesses: ['-27.49', '-199.46', '-19.13', '-16.77']\n",
      "100 fitness avgs: ['-21.84', '-28.21', '-22.80', '-21.73']\n"
     ]
    },
    {
     "name": "stderr",
     "output_type": "stream",
     "text": [
      " 27%|██▋       | 13259/50000 [2:20:35<7:28:30,  1.37it/s]"
     ]
    },
    {
     "name": "stdout",
     "output_type": "stream",
     "text": [
      "Episode 13260/50000\n",
      "Fitnesses: ['-39.50', '-276.45', '-26.89', '-226.84']\n",
      "100 fitness avgs: ['-21.93', '-30.78', '-21.91', '-24.87']\n"
     ]
    },
    {
     "name": "stderr",
     "output_type": "stream",
     "text": [
      " 27%|██▋       | 13279/50000 [2:20:51<8:54:22,  1.15it/s]"
     ]
    },
    {
     "name": "stdout",
     "output_type": "stream",
     "text": [
      "Episode 13280/50000\n",
      "Fitnesses: ['-18.26', '-94.23', '-101.54', '-7.29']\n",
      "100 fitness avgs: ['-21.95', '-22.71', '-22.81', '-21.84']\n"
     ]
    },
    {
     "name": "stderr",
     "output_type": "stream",
     "text": [
      " 27%|██▋       | 13299/50000 [2:21:10<9:55:15,  1.03it/s] "
     ]
    },
    {
     "name": "stdout",
     "output_type": "stream",
     "text": [
      "Episode 13300/50000\n",
      "Fitnesses: ['-43.27', '-78.21', '-2.18', '-37.79']\n",
      "100 fitness avgs: ['-22.10', '-23.32', '-22.56', '-23.01']\n"
     ]
    },
    {
     "name": "stderr",
     "output_type": "stream",
     "text": [
      " 27%|██▋       | 13319/50000 [2:21:32<11:07:13,  1.09s/it]"
     ]
    },
    {
     "name": "stdout",
     "output_type": "stream",
     "text": [
      "Episode 13320/50000\n",
      "Fitnesses: ['-169.55', '-118.61', '-685.39', '-11.03']\n",
      "100 fitness avgs: ['-23.85', '-23.34', '-29.01', '-22.26']\n"
     ]
    },
    {
     "name": "stderr",
     "output_type": "stream",
     "text": [
      " 27%|██▋       | 13339/50000 [2:21:53<11:05:44,  1.09s/it]"
     ]
    },
    {
     "name": "stdout",
     "output_type": "stream",
     "text": [
      "Episode 13340/50000\n",
      "Fitnesses: ['-28.28', '-13.47', '-6.04', '-37.23']\n",
      "100 fitness avgs: ['-22.25', '-22.10', '-23.11', '-22.34']\n"
     ]
    },
    {
     "name": "stderr",
     "output_type": "stream",
     "text": [
      " 27%|██▋       | 13359/50000 [2:22:14<10:44:15,  1.05s/it]"
     ]
    },
    {
     "name": "stdout",
     "output_type": "stream",
     "text": [
      "Episode 13360/50000\n",
      "Fitnesses: ['-93.18', '-79.02', '-105.01', '-13.50']\n",
      "100 fitness avgs: ['-23.89', '-22.75', '-23.01', '-22.24']\n"
     ]
    },
    {
     "name": "stderr",
     "output_type": "stream",
     "text": [
      " 27%|██▋       | 13379/50000 [2:22:36<10:53:35,  1.07s/it]"
     ]
    },
    {
     "name": "stdout",
     "output_type": "stream",
     "text": [
      "Episode 13380/50000\n",
      "Fitnesses: ['-49.38', '-50.08', '-22.40', '-3.20']\n",
      "100 fitness avgs: ['-22.67', '-23.18', '-22.40', '-23.86']\n"
     ]
    },
    {
     "name": "stderr",
     "output_type": "stream",
     "text": [
      " 27%|██▋       | 13399/50000 [2:22:57<10:36:59,  1.04s/it]"
     ]
    },
    {
     "name": "stdout",
     "output_type": "stream",
     "text": [
      "Episode 13400/50000\n",
      "Fitnesses: ['-13.19', '-166.51', '-117.86', '-64.48']\n",
      "100 fitness avgs: ['-23.80', '-24.14', '-23.66', '-23.12']\n"
     ]
    },
    {
     "name": "stderr",
     "output_type": "stream",
     "text": [
      " 27%|██▋       | 13419/50000 [2:23:18<11:00:09,  1.08s/it]"
     ]
    },
    {
     "name": "stdout",
     "output_type": "stream",
     "text": [
      "Episode 13420/50000\n",
      "Fitnesses: ['-2.91', '-10.08', '-13.19', '-5.63']\n",
      "100 fitness avgs: ['-23.74', '-23.81', '-23.70', '-23.77']\n"
     ]
    },
    {
     "name": "stderr",
     "output_type": "stream",
     "text": [
      " 27%|██▋       | 13439/50000 [2:23:40<11:08:22,  1.10s/it]"
     ]
    },
    {
     "name": "stdout",
     "output_type": "stream",
     "text": [
      "Episode 13440/50000\n",
      "Fitnesses: ['-2.22', '-52.15', '-80.44', '-28.85']\n",
      "100 fitness avgs: ['-23.75', '-24.25', '-24.54', '-24.02']\n"
     ]
    },
    {
     "name": "stderr",
     "output_type": "stream",
     "text": [
      " 27%|██▋       | 13459/50000 [2:24:01<11:17:39,  1.11s/it]"
     ]
    },
    {
     "name": "stdout",
     "output_type": "stream",
     "text": [
      "Episode 13460/50000\n",
      "Fitnesses: ['-31.31', '-168.15', '-146.80', '-74.92']\n",
      "100 fitness avgs: ['-23.68', '-25.05', '-25.10', '-24.12']\n"
     ]
    },
    {
     "name": "stderr",
     "output_type": "stream",
     "text": [
      " 27%|██▋       | 13479/50000 [2:24:22<11:06:14,  1.09s/it]"
     ]
    },
    {
     "name": "stdout",
     "output_type": "stream",
     "text": [
      "Episode 13480/50000\n",
      "Fitnesses: ['-24.38', '-22.67', '-20.93', '-241.28']\n",
      "100 fitness avgs: ['-23.89', '-25.29', '-24.29', '-26.49']\n"
     ]
    },
    {
     "name": "stderr",
     "output_type": "stream",
     "text": [
      " 27%|██▋       | 13499/50000 [2:24:45<11:30:00,  1.13s/it]"
     ]
    },
    {
     "name": "stdout",
     "output_type": "stream",
     "text": [
      "Episode 13500/50000\n",
      "Fitnesses: ['-11.93', '-0.37', '-44.16', '-62.44']\n",
      "100 fitness avgs: ['-24.40', '-26.49', '-24.72', '-25.91']\n"
     ]
    },
    {
     "name": "stderr",
     "output_type": "stream",
     "text": [
      " 27%|██▋       | 13519/50000 [2:25:07<11:27:07,  1.13s/it]"
     ]
    },
    {
     "name": "stdout",
     "output_type": "stream",
     "text": [
      "Episode 13520/50000\n",
      "Fitnesses: ['-16.77', '-17.30', '-80.78', '-56.62']\n",
      "100 fitness avgs: ['-26.64', '-26.65', '-25.52', '-27.04']\n"
     ]
    },
    {
     "name": "stderr",
     "output_type": "stream",
     "text": [
      " 27%|██▋       | 13539/50000 [2:25:29<11:19:22,  1.12s/it]"
     ]
    },
    {
     "name": "stdout",
     "output_type": "stream",
     "text": [
      "Episode 13540/50000\n",
      "Fitnesses: ['-39.23', '-70.59', '-100.96', '-51.81']\n",
      "100 fitness avgs: ['-26.92', '-27.24', '-27.54', '-27.05']\n"
     ]
    },
    {
     "name": "stderr",
     "output_type": "stream",
     "text": [
      " 27%|██▋       | 13559/50000 [2:25:53<11:23:35,  1.13s/it]"
     ]
    },
    {
     "name": "stdout",
     "output_type": "stream",
     "text": [
      "Episode 13560/50000\n",
      "Fitnesses: ['-63.01', '-65.86', '-44.58', '-36.88']\n",
      "100 fitness avgs: ['-27.48', '-27.83', '-27.62', '-27.35']\n"
     ]
    },
    {
     "name": "stderr",
     "output_type": "stream",
     "text": [
      " 27%|██▋       | 13579/50000 [2:26:14<11:02:17,  1.09s/it]"
     ]
    },
    {
     "name": "stdout",
     "output_type": "stream",
     "text": [
      "Episode 13580/50000\n",
      "Fitnesses: ['-154.10', '-74.09', '-10.77', '-29.76']\n",
      "100 fitness avgs: ['-28.65', '-27.98', '-27.21', '-27.40']\n"
     ]
    },
    {
     "name": "stderr",
     "output_type": "stream",
     "text": [
      " 27%|██▋       | 13599/50000 [2:26:36<11:15:59,  1.11s/it]"
     ]
    },
    {
     "name": "stdout",
     "output_type": "stream",
     "text": [
      "Episode 13600/50000\n",
      "Fitnesses: ['-14.62', '-102.99', '-27.51', '-7.89']\n",
      "100 fitness avgs: ['-27.12', '-28.77', '-27.24', '-27.05']\n"
     ]
    },
    {
     "name": "stderr",
     "output_type": "stream",
     "text": [
      " 27%|██▋       | 13619/50000 [2:26:58<11:17:25,  1.12s/it]"
     ]
    },
    {
     "name": "stdout",
     "output_type": "stream",
     "text": [
      "Episode 13620/50000\n",
      "Fitnesses: ['-9.78', '-93.15', '-6.36', '-92.63']\n",
      "100 fitness avgs: ['-26.37', '-27.21', '-26.34', '-28.92']\n"
     ]
    },
    {
     "name": "stderr",
     "output_type": "stream",
     "text": [
      " 27%|██▋       | 13639/50000 [2:27:19<10:58:49,  1.09s/it]"
     ]
    },
    {
     "name": "stdout",
     "output_type": "stream",
     "text": [
      "Episode 13640/50000\n",
      "Fitnesses: ['-139.92', '-1.29', '-124.54', '-21.65']\n",
      "100 fitness avgs: ['-27.63', '-27.11', '-27.47', '-29.03']\n"
     ]
    },
    {
     "name": "stderr",
     "output_type": "stream",
     "text": [
      " 27%|██▋       | 13659/50000 [2:27:41<11:07:22,  1.10s/it]"
     ]
    },
    {
     "name": "stdout",
     "output_type": "stream",
     "text": [
      "Episode 13660/50000\n",
      "Fitnesses: ['-49.02', '-83.65', '-214.15', '-10.19']\n",
      "100 fitness avgs: ['-27.56', '-27.91', '-31.13', '-27.54']\n"
     ]
    },
    {
     "name": "stderr",
     "output_type": "stream",
     "text": [
      " 27%|██▋       | 13679/50000 [2:28:03<11:20:00,  1.12s/it]"
     ]
    },
    {
     "name": "stdout",
     "output_type": "stream",
     "text": [
      "Episode 13680/50000\n",
      "Fitnesses: ['-60.76', '-128.83', '-23.78', '-172.52']\n",
      "100 fitness avgs: ['-28.06', '-28.77', '-27.69', '-29.20']\n"
     ]
    },
    {
     "name": "stderr",
     "output_type": "stream",
     "text": [
      " 27%|██▋       | 13699/50000 [2:28:23<9:59:21,  1.01it/s] "
     ]
    },
    {
     "name": "stdout",
     "output_type": "stream",
     "text": [
      "Episode 13700/50000\n",
      "Fitnesses: ['-16.42', '-65.58', '-29.61', '-15.69']\n",
      "100 fitness avgs: ['-27.83', '-28.69', '-28.33', '-28.19']\n"
     ]
    },
    {
     "name": "stderr",
     "output_type": "stream",
     "text": [
      " 27%|██▋       | 13719/50000 [2:28:43<10:06:09,  1.00s/it]"
     ]
    },
    {
     "name": "stdout",
     "output_type": "stream",
     "text": [
      "Episode 13720/50000\n",
      "Fitnesses: ['-29.08', '-127.52', '-4.22', '-6.27']\n",
      "100 fitness avgs: ['-28.45', '-29.43', '-28.34', '-27.86']\n"
     ]
    },
    {
     "name": "stderr",
     "output_type": "stream",
     "text": [
      " 27%|██▋       | 13739/50000 [2:29:03<10:02:44,  1.00it/s]"
     ]
    },
    {
     "name": "stdout",
     "output_type": "stream",
     "text": [
      "Episode 13740/50000\n",
      "Fitnesses: ['-69.36', '-89.14', '-266.08', '-8.35']\n",
      "100 fitness avgs: ['-28.94', '-30.24', '-30.43', '-28.44']\n"
     ]
    },
    {
     "name": "stderr",
     "output_type": "stream",
     "text": [
      " 28%|██▊       | 13759/50000 [2:29:21<9:19:03,  1.08it/s] "
     ]
    },
    {
     "name": "stdout",
     "output_type": "stream",
     "text": [
      "Episode 13760/50000\n",
      "Fitnesses: ['-14.00', '-27.52', '-19.87', '-49.33']\n",
      "100 fitness avgs: ['-28.27', '-28.91', '-28.33', '-29.13']\n"
     ]
    },
    {
     "name": "stderr",
     "output_type": "stream",
     "text": [
      " 28%|██▊       | 13779/50000 [2:29:43<10:57:25,  1.09s/it]"
     ]
    },
    {
     "name": "stdout",
     "output_type": "stream",
     "text": [
      "Episode 13780/50000\n",
      "Fitnesses: ['-17.15', '-4.30', '-24.73', '-11.96']\n",
      "100 fitness avgs: ['-28.42', '-28.29', '-28.49', '-28.37']\n"
     ]
    },
    {
     "name": "stderr",
     "output_type": "stream",
     "text": [
      " 28%|██▊       | 13799/50000 [2:30:05<11:13:15,  1.12s/it]"
     ]
    },
    {
     "name": "stdout",
     "output_type": "stream",
     "text": [
      "Episode 13800/50000\n",
      "Fitnesses: ['-47.95', '-79.68', '-44.78', '-143.53']\n",
      "100 fitness avgs: ['-28.22', '-28.61', '-28.32', '-29.25']\n"
     ]
    },
    {
     "name": "stderr",
     "output_type": "stream",
     "text": [
      " 28%|██▊       | 13819/50000 [2:30:25<10:29:40,  1.04s/it]"
     ]
    },
    {
     "name": "stdout",
     "output_type": "stream",
     "text": [
      "Episode 13820/50000\n",
      "Fitnesses: ['-6.64', '-27.86', '-7.43', '-3.02']\n",
      "100 fitness avgs: ['-28.35', '-28.56', '-28.66', '-28.31']\n"
     ]
    },
    {
     "name": "stderr",
     "output_type": "stream",
     "text": [
      " 28%|██▊       | 13839/50000 [2:30:41<8:18:20,  1.21it/s] "
     ]
    },
    {
     "name": "stdout",
     "output_type": "stream",
     "text": [
      "Episode 13840/50000\n",
      "Fitnesses: ['-17.98', '-58.77', '-56.42', '-23.47']\n",
      "100 fitness avgs: ['-28.28', '-28.69', '-28.70', '-28.68']\n"
     ]
    },
    {
     "name": "stderr",
     "output_type": "stream",
     "text": [
      " 28%|██▊       | 13859/50000 [2:30:58<8:49:07,  1.14it/s]"
     ]
    },
    {
     "name": "stdout",
     "output_type": "stream",
     "text": [
      "Episode 13860/50000\n",
      "Fitnesses: ['-111.24', '-32.37', '-85.70', '-0.50']\n",
      "100 fitness avgs: ['-29.22', '-28.43', '-28.96', '-28.51']\n"
     ]
    },
    {
     "name": "stderr",
     "output_type": "stream",
     "text": [
      " 28%|██▊       | 13879/50000 [2:31:16<9:22:51,  1.07it/s] "
     ]
    },
    {
     "name": "stdout",
     "output_type": "stream",
     "text": [
      "Episode 13880/50000\n",
      "Fitnesses: ['-71.07', '-71.50', '-131.26', '-15.10']\n",
      "100 fitness avgs: ['-29.14', '-29.06', '-29.66', '-28.58']\n"
     ]
    },
    {
     "name": "stderr",
     "output_type": "stream",
     "text": [
      " 28%|██▊       | 13899/50000 [2:31:34<9:12:51,  1.09it/s] "
     ]
    },
    {
     "name": "stdout",
     "output_type": "stream",
     "text": [
      "Episode 13900/50000\n",
      "Fitnesses: ['-23.02', '-14.54', '-8.34', '-21.51']\n",
      "100 fitness avgs: ['-28.72', '-28.64', '-29.06', '-29.19']\n"
     ]
    },
    {
     "name": "stderr",
     "output_type": "stream",
     "text": [
      " 28%|██▊       | 13919/50000 [2:31:50<7:58:49,  1.26it/s] "
     ]
    },
    {
     "name": "stdout",
     "output_type": "stream",
     "text": [
      "Episode 13920/50000\n",
      "Fitnesses: ['-140.68', '-331.99', '-37.55', '-26.49']\n",
      "100 fitness avgs: ['-30.06', '-31.97', '-29.02', '-28.91']\n"
     ]
    },
    {
     "name": "stderr",
     "output_type": "stream",
     "text": [
      " 28%|██▊       | 13939/50000 [2:32:05<7:15:11,  1.38it/s] "
     ]
    },
    {
     "name": "stdout",
     "output_type": "stream",
     "text": [
      "Episode 13940/50000\n",
      "Fitnesses: ['-40.83', '-2.42', '-26.68', '-21.76']\n",
      "100 fitness avgs: ['-28.97', '-29.73', '-28.94', '-29.93']\n"
     ]
    },
    {
     "name": "stderr",
     "output_type": "stream",
     "text": [
      " 28%|██▊       | 13959/50000 [2:32:20<7:24:37,  1.35it/s]"
     ]
    },
    {
     "name": "stdout",
     "output_type": "stream",
     "text": [
      "Episode 13960/50000\n",
      "Fitnesses: ['-51.45', '-89.57', '-45.46', '-28.32']\n",
      "100 fitness avgs: ['-30.08', '-29.67', '-30.21', '-29.06']\n"
     ]
    },
    {
     "name": "stderr",
     "output_type": "stream",
     "text": [
      " 28%|██▊       | 13979/50000 [2:32:35<7:41:31,  1.30it/s]"
     ]
    },
    {
     "name": "stdout",
     "output_type": "stream",
     "text": [
      "Episode 13980/50000\n",
      "Fitnesses: ['-36.47', '-22.22', '-21.38', '-59.50']\n",
      "100 fitness avgs: ['-29.37', '-30.38', '-30.37', '-30.76']\n"
     ]
    },
    {
     "name": "stderr",
     "output_type": "stream",
     "text": [
      " 28%|██▊       | 13999/50000 [2:32:49<7:05:20,  1.41it/s]"
     ]
    },
    {
     "name": "stdout",
     "output_type": "stream",
     "text": [
      "Episode 14000/50000\n",
      "Fitnesses: ['-10.22', '-0.80', '-40.32', '-8.55']\n",
      "100 fitness avgs: ['-30.23', '-30.14', '-30.54', '-29.21']\n"
     ]
    },
    {
     "name": "stderr",
     "output_type": "stream",
     "text": [
      " 28%|██▊       | 14019/50000 [2:33:03<7:14:36,  1.38it/s]"
     ]
    },
    {
     "name": "stdout",
     "output_type": "stream",
     "text": [
      "Episode 14020/50000\n",
      "Fitnesses: ['-2.88', '-32.57', '-13.90', '-55.59']\n",
      "100 fitness avgs: ['-30.02', '-30.32', '-29.21', '-30.55']\n"
     ]
    },
    {
     "name": "stderr",
     "output_type": "stream",
     "text": [
      " 28%|██▊       | 14039/50000 [2:33:18<7:25:29,  1.35it/s]"
     ]
    },
    {
     "name": "stdout",
     "output_type": "stream",
     "text": [
      "Episode 14040/50000\n",
      "Fitnesses: ['-49.68', '-47.46', '-44.98', '-31.32']\n",
      "100 fitness avgs: ['-30.47', '-30.45', '-29.61', '-30.29']\n"
     ]
    },
    {
     "name": "stderr",
     "output_type": "stream",
     "text": [
      " 28%|██▊       | 14059/50000 [2:33:32<7:09:24,  1.39it/s]"
     ]
    },
    {
     "name": "stdout",
     "output_type": "stream",
     "text": [
      "Episode 14060/50000\n",
      "Fitnesses: ['-40.51', '-14.53', '-13.19', '-14.98']\n",
      "100 fitness avgs: ['-30.66', '-29.72', '-29.71', '-30.56']\n"
     ]
    },
    {
     "name": "stderr",
     "output_type": "stream",
     "text": [
      " 28%|██▊       | 14079/50000 [2:33:45<6:50:59,  1.46it/s]"
     ]
    },
    {
     "name": "stdout",
     "output_type": "stream",
     "text": [
      "Episode 14080/50000\n",
      "Fitnesses: ['-87.53', '-28.90', '-72.56', '-20.11']\n",
      "100 fitness avgs: ['-30.24', '-29.65', '-30.10', '-29.58']\n"
     ]
    },
    {
     "name": "stderr",
     "output_type": "stream",
     "text": [
      " 28%|██▊       | 14099/50000 [2:34:00<7:34:42,  1.32it/s]"
     ]
    },
    {
     "name": "stdout",
     "output_type": "stream",
     "text": [
      "Episode 14100/50000\n",
      "Fitnesses: ['-102.90', '-28.61', '-14.05', '-10.02']\n",
      "100 fitness avgs: ['-30.40', '-29.66', '-29.59', '-30.00']\n"
     ]
    },
    {
     "name": "stderr",
     "output_type": "stream",
     "text": [
      " 28%|██▊       | 14119/50000 [2:34:14<7:11:15,  1.39it/s]"
     ]
    },
    {
     "name": "stdout",
     "output_type": "stream",
     "text": [
      "Episode 14120/50000\n",
      "Fitnesses: ['-20.68', '-51.07', '-28.99', '-72.60']\n",
      "100 fitness avgs: ['-30.12', '-30.02', '-29.80', '-30.23']\n"
     ]
    },
    {
     "name": "stderr",
     "output_type": "stream",
     "text": [
      " 28%|██▊       | 14139/50000 [2:34:28<7:24:21,  1.35it/s]"
     ]
    },
    {
     "name": "stdout",
     "output_type": "stream",
     "text": [
      "Episode 14140/50000\n",
      "Fitnesses: ['-72.14', '-71.98', '-20.32', '-33.62']\n",
      "100 fitness avgs: ['-30.42', '-30.42', '-29.91', '-29.93']\n"
     ]
    },
    {
     "name": "stderr",
     "output_type": "stream",
     "text": [
      " 28%|██▊       | 14159/50000 [2:34:41<6:22:05,  1.56it/s]"
     ]
    },
    {
     "name": "stdout",
     "output_type": "stream",
     "text": [
      "Episode 14160/50000\n",
      "Fitnesses: ['-28.43', '-23.67', '-35.79', '-415.36']\n",
      "100 fitness avgs: ['-30.05', '-30.52', '-30.12', '-33.94']\n"
     ]
    },
    {
     "name": "stderr",
     "output_type": "stream",
     "text": [
      " 28%|██▊       | 14179/50000 [2:34:55<7:21:00,  1.35it/s]"
     ]
    },
    {
     "name": "stdout",
     "output_type": "stream",
     "text": [
      "Episode 14180/50000\n",
      "Fitnesses: ['-105.52', '-17.12', '-17.34', '-99.15']\n",
      "100 fitness avgs: ['-31.40', '-30.12', '-30.52', '-30.94']\n"
     ]
    },
    {
     "name": "stderr",
     "output_type": "stream",
     "text": [
      " 28%|██▊       | 14199/50000 [2:35:09<7:00:16,  1.42it/s]"
     ]
    },
    {
     "name": "stdout",
     "output_type": "stream",
     "text": [
      "Episode 14200/50000\n",
      "Fitnesses: ['-13.15', '-82.17', '-10.87', '-24.60']\n",
      "100 fitness avgs: ['-30.04', '-30.73', '-30.41', '-30.55']\n"
     ]
    },
    {
     "name": "stderr",
     "output_type": "stream",
     "text": [
      " 28%|██▊       | 14219/50000 [2:35:23<7:00:50,  1.42it/s]"
     ]
    },
    {
     "name": "stdout",
     "output_type": "stream",
     "text": [
      "Episode 14220/50000\n",
      "Fitnesses: ['-5.47', '-7.78', '-58.78', '-49.95']\n",
      "100 fitness avgs: ['-30.40', '-30.42', '-30.55', '-30.84']\n"
     ]
    },
    {
     "name": "stderr",
     "output_type": "stream",
     "text": [
      " 28%|██▊       | 14239/50000 [2:35:37<6:44:44,  1.47it/s]"
     ]
    },
    {
     "name": "stdout",
     "output_type": "stream",
     "text": [
      "Episode 14240/50000\n",
      "Fitnesses: ['-41.79', '-7.23', '-17.36', '-21.04']\n",
      "100 fitness avgs: ['-30.71', '-30.81', '-30.91', '-30.53']\n"
     ]
    },
    {
     "name": "stderr",
     "output_type": "stream",
     "text": [
      " 29%|██▊       | 14259/50000 [2:35:51<6:53:59,  1.44it/s]"
     ]
    },
    {
     "name": "stdout",
     "output_type": "stream",
     "text": [
      "Episode 14260/50000\n",
      "Fitnesses: ['-4.64', '-27.84', '-99.39', '-66.24']\n",
      "100 fitness avgs: ['-30.79', '-31.02', '-31.74', '-31.51']\n"
     ]
    },
    {
     "name": "stderr",
     "output_type": "stream",
     "text": [
      " 29%|██▊       | 14279/50000 [2:36:05<6:57:08,  1.43it/s]"
     ]
    },
    {
     "name": "stdout",
     "output_type": "stream",
     "text": [
      "Episode 14280/50000\n",
      "Fitnesses: ['-79.17', '-25.52', '-188.29', '-25.14']\n",
      "100 fitness avgs: ['-31.49', '-31.67', '-32.82', '-30.95']\n"
     ]
    },
    {
     "name": "stderr",
     "output_type": "stream",
     "text": [
      " 29%|██▊       | 14299/50000 [2:36:18<7:06:27,  1.40it/s]"
     ]
    },
    {
     "name": "stdout",
     "output_type": "stream",
     "text": [
      "Episode 14300/50000\n",
      "Fitnesses: ['-4.88', '-28.39', '-67.53', '-36.89']\n",
      "100 fitness avgs: ['-30.93', '-31.70', '-33.42', '-31.97']\n"
     ]
    },
    {
     "name": "stderr",
     "output_type": "stream",
     "text": [
      " 29%|██▊       | 14319/50000 [2:36:32<6:51:26,  1.45it/s]"
     ]
    },
    {
     "name": "stdout",
     "output_type": "stream",
     "text": [
      "Episode 14320/50000\n",
      "Fitnesses: ['-7.43', '-2.02', '-10.85', '-122.03']\n",
      "100 fitness avgs: ['-30.79', '-33.23', '-31.60', '-31.94']\n"
     ]
    },
    {
     "name": "stderr",
     "output_type": "stream",
     "text": [
      " 29%|██▊       | 14339/50000 [2:36:45<6:46:40,  1.46it/s]"
     ]
    },
    {
     "name": "stdout",
     "output_type": "stream",
     "text": [
      "Episode 14340/50000\n",
      "Fitnesses: ['-19.56', '-21.19', '-54.66', '-4.23']\n",
      "100 fitness avgs: ['-33.26', '-30.85', '-31.18', '-30.68']\n"
     ]
    },
    {
     "name": "stderr",
     "output_type": "stream",
     "text": [
      " 29%|██▊       | 14359/50000 [2:36:59<6:49:11,  1.45it/s]"
     ]
    },
    {
     "name": "stdout",
     "output_type": "stream",
     "text": [
      "Episode 14360/50000\n",
      "Fitnesses: ['-10.20', '-45.99', '-13.56', '-15.61']\n",
      "100 fitness avgs: ['-30.63', '-31.15', '-33.25', '-30.68']\n"
     ]
    },
    {
     "name": "stderr",
     "output_type": "stream",
     "text": [
      " 29%|██▉       | 14379/50000 [2:37:11<6:10:05,  1.60it/s]"
     ]
    },
    {
     "name": "stdout",
     "output_type": "stream",
     "text": [
      "Episode 14380/50000\n",
      "Fitnesses: ['-562.76', '-10.11', '-59.29', '-20.91']\n",
      "100 fitness avgs: ['-36.21', '-31.21', '-31.17', '-33.41']\n"
     ]
    },
    {
     "name": "stderr",
     "output_type": "stream",
     "text": [
      " 29%|██▉       | 14399/50000 [2:37:25<6:58:16,  1.42it/s]"
     ]
    },
    {
     "name": "stdout",
     "output_type": "stream",
     "text": [
      "Episode 14400/50000\n",
      "Fitnesses: ['-31.23', '-32.73', '-6.70', '-17.01']\n",
      "100 fitness avgs: ['-31.15', '-33.37', '-30.87', '-33.21']\n"
     ]
    },
    {
     "name": "stderr",
     "output_type": "stream",
     "text": [
      " 29%|██▉       | 14419/50000 [2:37:39<6:49:33,  1.45it/s]"
     ]
    },
    {
     "name": "stdout",
     "output_type": "stream",
     "text": [
      "Episode 14420/50000\n",
      "Fitnesses: ['-52.91', '-35.13', '-51.60', '-33.16']\n",
      "100 fitness avgs: ['-31.03', '-33.19', '-31.02', '-31.11']\n"
     ]
    },
    {
     "name": "stderr",
     "output_type": "stream",
     "text": [
      " 29%|██▉       | 14439/50000 [2:37:53<6:53:24,  1.43it/s]"
     ]
    },
    {
     "name": "stdout",
     "output_type": "stream",
     "text": [
      "Episode 14440/50000\n",
      "Fitnesses: ['-56.20', '-27.46', '-30.38', '-12.57']\n",
      "100 fitness avgs: ['-31.53', '-33.33', '-31.27', '-31.00']\n"
     ]
    },
    {
     "name": "stderr",
     "output_type": "stream",
     "text": [
      " 29%|██▉       | 14459/50000 [2:38:07<7:05:07,  1.39it/s]"
     ]
    },
    {
     "name": "stdout",
     "output_type": "stream",
     "text": [
      "Episode 14460/50000\n",
      "Fitnesses: ['-80.71', '-6.84', '-74.17', '-22.66']\n",
      "100 fitness avgs: ['-31.03', '-30.56', '-31.24', '-32.77']\n"
     ]
    },
    {
     "name": "stderr",
     "output_type": "stream",
     "text": [
      " 29%|██▉       | 14479/50000 [2:38:22<6:52:31,  1.44it/s]"
     ]
    },
    {
     "name": "stdout",
     "output_type": "stream",
     "text": [
      "Episode 14480/50000\n",
      "Fitnesses: ['-52.61', '-46.54', '-42.08', '-7.67']\n",
      "100 fitness avgs: ['-30.87', '-31.48', '-32.97', '-30.88']\n"
     ]
    },
    {
     "name": "stderr",
     "output_type": "stream",
     "text": [
      " 29%|██▉       | 14499/50000 [2:38:36<6:44:14,  1.46it/s]"
     ]
    },
    {
     "name": "stdout",
     "output_type": "stream",
     "text": [
      "Episode 14500/50000\n",
      "Fitnesses: ['-15.15', '-39.56', '-15.99', '-22.07']\n",
      "100 fitness avgs: ['-30.87', '-31.11', '-30.88', '-30.94']\n"
     ]
    },
    {
     "name": "stderr",
     "output_type": "stream",
     "text": [
      " 29%|██▉       | 14519/50000 [2:38:50<7:07:51,  1.38it/s]"
     ]
    },
    {
     "name": "stdout",
     "output_type": "stream",
     "text": [
      "Episode 14520/50000\n",
      "Fitnesses: ['-47.26', '-10.92', '-10.97', '-8.70']\n",
      "100 fitness avgs: ['-31.27', '-30.92', '-30.91', '-30.89']\n"
     ]
    },
    {
     "name": "stderr",
     "output_type": "stream",
     "text": [
      " 29%|██▉       | 14539/50000 [2:39:02<5:57:35,  1.65it/s]"
     ]
    },
    {
     "name": "stdout",
     "output_type": "stream",
     "text": [
      "Episode 14540/50000\n",
      "Fitnesses: ['-65.20', '-174.59', '-23.71', '-34.48']\n",
      "100 fitness avgs: ['-31.34', '-32.44', '-31.31', '-31.06']\n"
     ]
    },
    {
     "name": "stderr",
     "output_type": "stream",
     "text": [
      " 29%|██▉       | 14559/50000 [2:39:16<7:13:25,  1.36it/s]"
     ]
    },
    {
     "name": "stdout",
     "output_type": "stream",
     "text": [
      "Episode 14560/50000\n",
      "Fitnesses: ['-19.82', '-29.32', '-63.71', '-28.65']\n",
      "100 fitness avgs: ['-31.34', '-31.44', '-31.78', '-31.46']\n"
     ]
    },
    {
     "name": "stderr",
     "output_type": "stream",
     "text": [
      " 29%|██▉       | 14579/50000 [2:39:29<7:03:40,  1.39it/s]"
     ]
    },
    {
     "name": "stdout",
     "output_type": "stream",
     "text": [
      "Episode 14580/50000\n",
      "Fitnesses: ['-50.66', '-15.41', '-30.52', '-68.03']\n",
      "100 fitness avgs: ['-31.69', '-31.44', '-31.49', '-31.98']\n"
     ]
    },
    {
     "name": "stderr",
     "output_type": "stream",
     "text": [
      " 29%|██▉       | 14599/50000 [2:39:43<6:35:05,  1.49it/s]"
     ]
    },
    {
     "name": "stdout",
     "output_type": "stream",
     "text": [
      "Episode 14600/50000\n",
      "Fitnesses: ['-93.05', '-2.11', '-12.90', '-10.05']\n",
      "100 fitness avgs: ['-32.34', '-31.49', '-31.54', '-31.57']\n"
     ]
    },
    {
     "name": "stderr",
     "output_type": "stream",
     "text": [
      " 29%|██▉       | 14619/50000 [2:39:56<6:50:47,  1.44it/s]"
     ]
    },
    {
     "name": "stdout",
     "output_type": "stream",
     "text": [
      "Episode 14620/50000\n",
      "Fitnesses: ['-2.37', '-9.66', '-17.43', '-43.41']\n",
      "100 fitness avgs: ['-31.20', '-31.32', '-31.40', '-31.66']\n"
     ]
    },
    {
     "name": "stderr",
     "output_type": "stream",
     "text": [
      " 29%|██▉       | 14639/50000 [2:40:12<7:44:21,  1.27it/s]"
     ]
    },
    {
     "name": "stdout",
     "output_type": "stream",
     "text": [
      "Episode 14640/50000\n",
      "Fitnesses: ['-39.24', '-29.80', '-197.08', '-53.47']\n",
      "100 fitness avgs: ['-31.29', '-31.40', '-32.87', '-31.43']\n"
     ]
    },
    {
     "name": "stderr",
     "output_type": "stream",
     "text": [
      " 29%|██▉       | 14659/50000 [2:40:26<6:59:00,  1.41it/s]"
     ]
    },
    {
     "name": "stdout",
     "output_type": "stream",
     "text": [
      "Episode 14660/50000\n",
      "Fitnesses: ['-21.79', '-59.14', '-14.44', '-89.56']\n",
      "100 fitness avgs: ['-31.43', '-31.70', '-31.36', '-32.00']\n"
     ]
    },
    {
     "name": "stderr",
     "output_type": "stream",
     "text": [
      " 29%|██▉       | 14679/50000 [2:40:39<6:28:46,  1.51it/s]"
     ]
    },
    {
     "name": "stdout",
     "output_type": "stream",
     "text": [
      "Episode 14680/50000\n",
      "Fitnesses: ['-13.09', '-152.95', '-26.96', '-9.46']\n",
      "100 fitness avgs: ['-30.79', '-32.26', '-31.00', '-30.75']\n"
     ]
    },
    {
     "name": "stderr",
     "output_type": "stream",
     "text": [
      " 29%|██▉       | 14699/50000 [2:40:52<6:02:40,  1.62it/s]"
     ]
    },
    {
     "name": "stdout",
     "output_type": "stream",
     "text": [
      "Episode 14700/50000\n",
      "Fitnesses: ['-34.62', '-77.64', '-38.69', '-157.91']\n",
      "100 fitness avgs: ['-30.97', '-31.40', '-31.26', '-33.71']\n"
     ]
    },
    {
     "name": "stderr",
     "output_type": "stream",
     "text": [
      " 29%|██▉       | 14719/50000 [2:41:07<7:48:56,  1.25it/s]"
     ]
    },
    {
     "name": "stdout",
     "output_type": "stream",
     "text": [
      "Episode 14720/50000\n",
      "Fitnesses: ['-31.54', '-43.53', '-23.41', '-24.39']\n",
      "100 fitness avgs: ['-30.05', '-30.60', '-29.97', '-30.27']\n"
     ]
    },
    {
     "name": "stderr",
     "output_type": "stream",
     "text": [
      " 29%|██▉       | 14739/50000 [2:41:21<7:15:01,  1.35it/s]"
     ]
    },
    {
     "name": "stdout",
     "output_type": "stream",
     "text": [
      "Episode 14740/50000\n",
      "Fitnesses: ['-6.75', '-15.18', '-47.62', '-17.95']\n",
      "100 fitness avgs: ['-29.95', '-30.11', '-30.35', '-30.36']\n"
     ]
    },
    {
     "name": "stderr",
     "output_type": "stream",
     "text": [
      " 30%|██▉       | 14759/50000 [2:41:35<6:40:46,  1.47it/s]"
     ]
    },
    {
     "name": "stdout",
     "output_type": "stream",
     "text": [
      "Episode 14760/50000\n",
      "Fitnesses: ['-5.39', '-52.28', '-13.09', '-7.10']\n",
      "100 fitness avgs: ['-29.82', '-30.46', '-29.90', '-30.25']\n"
     ]
    },
    {
     "name": "stderr",
     "output_type": "stream",
     "text": [
      " 30%|██▉       | 14779/50000 [2:41:49<6:45:20,  1.45it/s]"
     ]
    },
    {
     "name": "stdout",
     "output_type": "stream",
     "text": [
      "Episode 14780/50000\n",
      "Fitnesses: ['-23.58', '-29.03', '-42.70', '-22.88']\n",
      "100 fitness avgs: ['-29.51', '-29.99', '-29.78', '-29.93']\n"
     ]
    },
    {
     "name": "stderr",
     "output_type": "stream",
     "text": [
      " 30%|██▉       | 14799/50000 [2:42:02<5:50:20,  1.67it/s]"
     ]
    },
    {
     "name": "stdout",
     "output_type": "stream",
     "text": [
      "Episode 14800/50000\n",
      "Fitnesses: ['-41.40', '-16.38', '-44.49', '-20.93']\n",
      "100 fitness avgs: ['-30.23', '-29.98', '-29.85', '-30.03']\n"
     ]
    },
    {
     "name": "stderr",
     "output_type": "stream",
     "text": [
      " 30%|██▉       | 14819/50000 [2:42:14<6:01:38,  1.62it/s]"
     ]
    },
    {
     "name": "stdout",
     "output_type": "stream",
     "text": [
      "Episode 14820/50000\n",
      "Fitnesses: ['-74.28', '-35.13', '-60.26', '-80.73']\n",
      "100 fitness avgs: ['-30.56', '-30.42', '-30.47', '-30.63']\n"
     ]
    },
    {
     "name": "stderr",
     "output_type": "stream",
     "text": [
      " 30%|██▉       | 14839/50000 [2:42:26<6:16:50,  1.56it/s]"
     ]
    },
    {
     "name": "stdout",
     "output_type": "stream",
     "text": [
      "Episode 14840/50000\n",
      "Fitnesses: ['-40.07', '-516.75', '-39.68', '-54.79']\n",
      "100 fitness avgs: ['-30.78', '-35.59', '-30.77', '-30.92']\n"
     ]
    },
    {
     "name": "stderr",
     "output_type": "stream",
     "text": [
      " 30%|██▉       | 14859/50000 [2:42:41<7:12:52,  1.35it/s]"
     ]
    },
    {
     "name": "stdout",
     "output_type": "stream",
     "text": [
      "Episode 14860/50000\n",
      "Fitnesses: ['-13.81', '-12.35', '-11.37', '-9.85']\n",
      "100 fitness avgs: ['-30.85', '-30.99', '-30.98', '-30.81']\n"
     ]
    },
    {
     "name": "stderr",
     "output_type": "stream",
     "text": [
      " 30%|██▉       | 14879/50000 [2:42:55<7:19:32,  1.33it/s]"
     ]
    },
    {
     "name": "stdout",
     "output_type": "stream",
     "text": [
      "Episode 14880/50000\n",
      "Fitnesses: ['-48.81', '-7.34', '-39.22', '-15.62']\n",
      "100 fitness avgs: ['-30.88', '-30.64', '-30.78', '-30.72']\n"
     ]
    },
    {
     "name": "stderr",
     "output_type": "stream",
     "text": [
      " 30%|██▉       | 14899/50000 [2:43:10<7:01:20,  1.39it/s]"
     ]
    },
    {
     "name": "stdout",
     "output_type": "stream",
     "text": [
      "Episode 14900/50000\n",
      "Fitnesses: ['-50.32', '-8.42', '-7.03', '-41.55']\n",
      "100 fitness avgs: ['-30.91', '-30.49', '-30.48', '-30.82']\n"
     ]
    },
    {
     "name": "stderr",
     "output_type": "stream",
     "text": [
      " 30%|██▉       | 14919/50000 [2:43:24<6:56:49,  1.40it/s]"
     ]
    },
    {
     "name": "stdout",
     "output_type": "stream",
     "text": [
      "Episode 14920/50000\n",
      "Fitnesses: ['-8.44', '-84.61', '-2.89', '-24.23']\n",
      "100 fitness avgs: ['-30.35', '-31.45', '-30.64', '-30.85']\n"
     ]
    },
    {
     "name": "stderr",
     "output_type": "stream",
     "text": [
      " 30%|██▉       | 14939/50000 [2:43:39<7:07:34,  1.37it/s]"
     ]
    },
    {
     "name": "stdout",
     "output_type": "stream",
     "text": [
      "Episode 14940/50000\n",
      "Fitnesses: ['-21.52', '-2.11', '-132.32', '-10.21']\n",
      "100 fitness avgs: ['-30.73', '-30.24', '-31.83', '-31.43']\n"
     ]
    },
    {
     "name": "stderr",
     "output_type": "stream",
     "text": [
      " 30%|██▉       | 14959/50000 [2:43:51<6:08:10,  1.59it/s]"
     ]
    },
    {
     "name": "stdout",
     "output_type": "stream",
     "text": [
      "Episode 14960/50000\n",
      "Fitnesses: ['-164.74', '-60.54', '-4.88', '-29.36']\n",
      "100 fitness avgs: ['-31.84', '-30.80', '-30.24', '-30.97']\n"
     ]
    },
    {
     "name": "stderr",
     "output_type": "stream",
     "text": [
      " 30%|██▉       | 14979/50000 [2:44:06<6:58:22,  1.40it/s]"
     ]
    },
    {
     "name": "stdout",
     "output_type": "stream",
     "text": [
      "Episode 14980/50000\n",
      "Fitnesses: ['-39.71', '-35.50', '-13.57', '-26.07']\n",
      "100 fitness avgs: ['-30.48', '-31.17', '-30.22', '-31.08']\n"
     ]
    },
    {
     "name": "stderr",
     "output_type": "stream",
     "text": [
      " 30%|██▉       | 14999/50000 [2:44:20<7:15:58,  1.34it/s]"
     ]
    },
    {
     "name": "stdout",
     "output_type": "stream",
     "text": [
      "Episode 15000/50000\n",
      "Fitnesses: ['-43.80', '-40.30', '-43.14', '-18.53']\n",
      "100 fitness avgs: ['-30.33', '-30.30', '-30.33', '-30.34']\n"
     ]
    },
    {
     "name": "stderr",
     "output_type": "stream",
     "text": [
      " 30%|███       | 15019/50000 [2:44:36<7:16:27,  1.34it/s] "
     ]
    },
    {
     "name": "stdout",
     "output_type": "stream",
     "text": [
      "Episode 15020/50000\n",
      "Fitnesses: ['-15.31', '-6.44', '-23.99', '-42.64']\n",
      "100 fitness avgs: ['-29.50', '-29.37', '-29.54', '-29.73']\n"
     ]
    },
    {
     "name": "stderr",
     "output_type": "stream",
     "text": [
      " 30%|███       | 15039/50000 [2:44:50<7:12:08,  1.35it/s]"
     ]
    },
    {
     "name": "stdout",
     "output_type": "stream",
     "text": [
      "Episode 15040/50000\n",
      "Fitnesses: ['-18.67', '-22.29', '-19.62', '-51.09']\n",
      "100 fitness avgs: ['-28.98', '-29.02', '-28.99', '-29.48']\n"
     ]
    },
    {
     "name": "stderr",
     "output_type": "stream",
     "text": [
      " 30%|███       | 15059/50000 [2:45:04<7:02:40,  1.38it/s]"
     ]
    },
    {
     "name": "stdout",
     "output_type": "stream",
     "text": [
      "Episode 15060/50000\n",
      "Fitnesses: ['-23.68', '-73.58', '-10.77', '-35.77']\n",
      "100 fitness avgs: ['-28.82', '-29.32', '-28.70', '-28.94']\n"
     ]
    },
    {
     "name": "stderr",
     "output_type": "stream",
     "text": [
      " 30%|███       | 15079/50000 [2:45:16<5:53:05,  1.65it/s]"
     ]
    },
    {
     "name": "stdout",
     "output_type": "stream",
     "text": [
      "Episode 15080/50000\n",
      "Fitnesses: ['-306.92', '-40.04', '-6.36', '-46.30']\n",
      "100 fitness avgs: ['-31.64', '-28.97', '-28.88', '-29.28']\n"
     ]
    },
    {
     "name": "stderr",
     "output_type": "stream",
     "text": [
      " 30%|███       | 15099/50000 [2:45:28<5:52:05,  1.65it/s]"
     ]
    },
    {
     "name": "stdout",
     "output_type": "stream",
     "text": [
      "Episode 15100/50000\n",
      "Fitnesses: ['-18.79', '-430.30', '-13.11', '-14.34']\n",
      "100 fitness avgs: ['-28.87', '-35.75', '-28.82', '-28.83']\n"
     ]
    },
    {
     "name": "stderr",
     "output_type": "stream",
     "text": [
      " 30%|███       | 15119/50000 [2:45:42<6:40:28,  1.45it/s]"
     ]
    },
    {
     "name": "stdout",
     "output_type": "stream",
     "text": [
      "Episode 15120/50000\n",
      "Fitnesses: ['-24.42', '-64.51', '-34.26', '-45.20']\n",
      "100 fitness avgs: ['-28.98', '-29.38', '-29.08', '-29.25']\n"
     ]
    },
    {
     "name": "stderr",
     "output_type": "stream",
     "text": [
      " 30%|███       | 15139/50000 [2:45:56<6:42:33,  1.44it/s]"
     ]
    },
    {
     "name": "stdout",
     "output_type": "stream",
     "text": [
      "Episode 15140/50000\n",
      "Fitnesses: ['-29.18', '-38.61', '-21.51', '-34.65']\n",
      "100 fitness avgs: ['-29.09', '-29.19', '-29.01', '-29.15']\n"
     ]
    },
    {
     "name": "stderr",
     "output_type": "stream",
     "text": [
      " 30%|███       | 15159/50000 [2:46:09<6:39:50,  1.45it/s]"
     ]
    },
    {
     "name": "stdout",
     "output_type": "stream",
     "text": [
      "Episode 15160/50000\n",
      "Fitnesses: ['-2.93', '-45.45', '-26.79', '-27.49']\n",
      "100 fitness avgs: ['-28.49', '-28.91', '-28.73', '-28.91']\n"
     ]
    },
    {
     "name": "stderr",
     "output_type": "stream",
     "text": [
      " 30%|███       | 15179/50000 [2:46:23<6:37:58,  1.46it/s]"
     ]
    },
    {
     "name": "stdout",
     "output_type": "stream",
     "text": [
      "Episode 15180/50000\n",
      "Fitnesses: ['-18.75', '-12.27', '-2.80', '-17.66']\n",
      "100 fitness avgs: ['-28.38', '-28.32', '-28.46', '-28.37']\n"
     ]
    },
    {
     "name": "stderr",
     "output_type": "stream",
     "text": [
      " 30%|███       | 15199/50000 [2:46:36<6:38:50,  1.45it/s]"
     ]
    },
    {
     "name": "stdout",
     "output_type": "stream",
     "text": [
      "Episode 15200/50000\n",
      "Fitnesses: ['-95.21', '-3.97', '-4.85', '-36.91']\n",
      "100 fitness avgs: ['-29.16', '-28.10', '-28.16', '-28.43']\n"
     ]
    },
    {
     "name": "stderr",
     "output_type": "stream",
     "text": [
      " 30%|███       | 15219/50000 [2:46:52<7:35:24,  1.27it/s]"
     ]
    },
    {
     "name": "stdout",
     "output_type": "stream",
     "text": [
      "Episode 15220/50000\n",
      "Fitnesses: ['-43.27', '-46.44', '-14.94', '-13.23']\n",
      "100 fitness avgs: ['-28.32', '-28.35', '-28.10', '-28.08']\n"
     ]
    },
    {
     "name": "stderr",
     "output_type": "stream",
     "text": [
      " 30%|███       | 15239/50000 [2:47:09<8:05:21,  1.19it/s]"
     ]
    },
    {
     "name": "stdout",
     "output_type": "stream",
     "text": [
      "Episode 15240/50000\n",
      "Fitnesses: ['-23.30', '-12.41', '-10.08', '-16.34']\n",
      "100 fitness avgs: ['-28.04', '-27.93', '-27.91', '-27.99']\n"
     ]
    },
    {
     "name": "stderr",
     "output_type": "stream",
     "text": [
      " 31%|███       | 15259/50000 [2:47:23<6:51:07,  1.41it/s]"
     ]
    },
    {
     "name": "stdout",
     "output_type": "stream",
     "text": [
      "Episode 15260/50000\n",
      "Fitnesses: ['-64.34', '-65.55', '-55.25', '-16.83']\n",
      "100 fitness avgs: ['-28.28', '-28.32', '-28.32', '-27.83']\n"
     ]
    },
    {
     "name": "stderr",
     "output_type": "stream",
     "text": [
      " 31%|███       | 15279/50000 [2:47:36<6:45:58,  1.43it/s]"
     ]
    },
    {
     "name": "stdout",
     "output_type": "stream",
     "text": [
      "Episode 15280/50000\n",
      "Fitnesses: ['-89.09', '-38.29', '-20.43', '-75.90']\n",
      "100 fitness avgs: ['-27.78', '-27.76', '-27.09', '-28.14']\n"
     ]
    },
    {
     "name": "stderr",
     "output_type": "stream",
     "text": [
      " 31%|███       | 15299/50000 [2:47:51<6:56:57,  1.39it/s]"
     ]
    },
    {
     "name": "stdout",
     "output_type": "stream",
     "text": [
      "Episode 15300/50000\n",
      "Fitnesses: ['-27.49', '-62.10', '-72.51', '-62.13']\n",
      "100 fitness avgs: ['-27.35', '-28.36', '-27.80', '-28.38']\n"
     ]
    },
    {
     "name": "stderr",
     "output_type": "stream",
     "text": [
      " 31%|███       | 15319/50000 [2:48:05<6:53:29,  1.40it/s]"
     ]
    },
    {
     "name": "stdout",
     "output_type": "stream",
     "text": [
      "Episode 15320/50000\n",
      "Fitnesses: ['-12.24', '-6.07', '-11.57', '-24.15']\n",
      "100 fitness avgs: ['-26.28', '-27.24', '-27.31', '-27.42']\n"
     ]
    },
    {
     "name": "stderr",
     "output_type": "stream",
     "text": [
      " 31%|███       | 15339/50000 [2:48:22<8:04:02,  1.19it/s]"
     ]
    },
    {
     "name": "stdout",
     "output_type": "stream",
     "text": [
      "Episode 15340/50000\n",
      "Fitnesses: ['-322.47', '-86.38', '-31.27', '-12.06']\n",
      "100 fitness avgs: ['-30.40', '-28.11', '-27.56', '-27.30']\n"
     ]
    },
    {
     "name": "stderr",
     "output_type": "stream",
     "text": [
      " 31%|███       | 15359/50000 [2:48:36<7:09:13,  1.35it/s]"
     ]
    },
    {
     "name": "stdout",
     "output_type": "stream",
     "text": [
      "Episode 15360/50000\n",
      "Fitnesses: ['-5.41', '-87.25', '-13.45', '-67.88']\n",
      "100 fitness avgs: ['-26.42', '-27.50', '-26.50', '-27.31']\n"
     ]
    },
    {
     "name": "stderr",
     "output_type": "stream",
     "text": [
      " 31%|███       | 15379/50000 [2:48:49<6:16:13,  1.53it/s]"
     ]
    },
    {
     "name": "stdout",
     "output_type": "stream",
     "text": [
      "Episode 15380/50000\n",
      "Fitnesses: ['-41.85', '-3.86', '-656.20', '-98.30']\n",
      "100 fitness avgs: ['-26.81', '-26.51', '-33.03', '-28.26']\n"
     ]
    },
    {
     "name": "stderr",
     "output_type": "stream",
     "text": [
      " 31%|███       | 15399/50000 [2:49:04<7:11:09,  1.34it/s]"
     ]
    },
    {
     "name": "stdout",
     "output_type": "stream",
     "text": [
      "Episode 15400/50000\n",
      "Fitnesses: ['-120.81', '-11.80', '-17.35', '-120.54']\n",
      "100 fitness avgs: ['-27.58', '-26.49', '-26.55', '-27.88']\n"
     ]
    },
    {
     "name": "stderr",
     "output_type": "stream",
     "text": [
      " 31%|███       | 15419/50000 [2:49:19<7:14:14,  1.33it/s] "
     ]
    },
    {
     "name": "stdout",
     "output_type": "stream",
     "text": [
      "Episode 15420/50000\n",
      "Fitnesses: ['-28.97', '-124.72', '-135.00', '-17.91']\n",
      "100 fitness avgs: ['-26.75', '-28.80', '-29.20', '-26.70']\n"
     ]
    },
    {
     "name": "stderr",
     "output_type": "stream",
     "text": [
      " 31%|███       | 15439/50000 [2:49:34<7:17:19,  1.32it/s]"
     ]
    }
   ],
   "source": [
    "%run Speaker-ListenerWthMATD3_Training.py"
   ]
  }
 ],
 "metadata": {
  "kernelspec": {
   "display_name": "pytorch-tensorflow",
   "language": "python",
   "name": "python3"
  },
  "language_info": {
   "codemirror_mode": {
    "name": "ipython",
    "version": 3
   },
   "file_extension": ".py",
   "mimetype": "text/x-python",
   "name": "python",
   "nbconvert_exporter": "python",
   "pygments_lexer": "ipython3",
   "version": "3.11.5"
  }
 },
 "nbformat": 4,
 "nbformat_minor": 2
}
