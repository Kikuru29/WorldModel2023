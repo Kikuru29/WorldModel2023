{
 "cells": [
  {
   "cell_type": "code",
   "execution_count": null,
   "metadata": {},
   "outputs": [],
   "source": [
    "#environment_setup.py\n",
    "from pettingzoo.mpe import simple_speaker_listener_v4\n",
    "\n",
    "def setup_environment():\n",
    "    # シンプルなスピーカーリスナー環境を並列環境として定義\n",
    "    env = simple_speaker_listener_v4.parallel_env(continuous_actions=True)\n",
    "    env.reset()\n",
    "    return env\n"
   ]
  },
  {
   "cell_type": "code",
   "execution_count": null,
   "metadata": {},
   "outputs": [],
   "source": [
    "#environment_setup.py\n",
    "import torch\n",
    "\n",
    "def get_net_config():\n",
    "    return {\n",
    "        \"arch\": \"mlp\",  # ネットワークアーキテクチャ\n",
    "        \"h_size\": [32, 32],  # アクターの隠れ層のサイズ\n",
    "    }\n",
    "\n",
    "def get_initial_hyperparameters():\n",
    "    return {\n",
    "        # ... (INIT_HP辞書の残り)\n",
    "    }\n",
    "\n",
    "def get_device():\n",
    "    return torch.device(\"cuda\" if torch.cuda.is_available() else \"cpu\")\n"
   ]
  },
  {
   "cell_type": "code",
   "execution_count": null,
   "metadata": {},
   "outputs": [],
   "source": [
    "#agents.py\n",
    "from agilerl.utils.utils import initialPopulation\n",
    "\n",
    "def create_population(INIT_HP, state_dim, action_dim, one_hot, NET_CONFIG, device):\n",
    "    return initialPopulation(\n",
    "        # ... (その他のパラメータ)\n",
    "    )\n"
   ]
  },
  {
   "cell_type": "code",
   "execution_count": null,
   "metadata": {},
   "outputs": [],
   "source": [
    "#replay_buffer.py\n",
    "from agilerl.components.multi_agent_replay_buffer import MultiAgentReplayBuffer\n",
    "\n",
    "def setup_replay_buffer(INIT_HP, device):\n",
    "    field_names = [\"state\", \"action\", \"reward\", \"next_state\", \"done\"]\n",
    "    return MultiAgentReplayBuffer(\n",
    "        # ... (その他のパラメータ)\n",
    "    )\n"
   ]
  },
  {
   "cell_type": "code",
   "execution_count": null,
   "metadata": {},
   "outputs": [],
   "source": [
    "#hpo.py\n",
    "from agilerl.hpo.mutation import Mutations\n",
    "from agilerl.hpo.tournament import TournamentSelection\n",
    "\n",
    "def setup_tournament(INIT_HP):\n",
    "    return TournamentSelection(\n",
    "        # ... (その他のパラメータ)\n",
    "    )\n",
    "\n",
    "def setup_mutations(INIT_HP, NET_CONFIG, device):\n",
    "    return Mutations(\n",
    "        # ... (その他のパラメータ)\n",
    "    )\n"
   ]
  },
  {
   "cell_type": "code",
   "execution_count": null,
   "metadata": {},
   "outputs": [],
   "source": [
    "#main.py\n",
    "import datetime\n",
    "import numpy as np\n",
    "from tqdm import trange\n",
    "import os\n",
    "\n",
    "# モジュールをインポート\n",
    "import environment_setup\n",
    "import config\n",
    "import agents\n",
    "import replay_buffer\n",
    "import hpo\n",
    "\n",
    "def main():\n",
    "    # ... (トレーニングループの残りのコード)\n",
    "\n",
    "if __name__ == \"__main__\":\n",
    "    main()\n"
   ]
  },
  {
   "cell_type": "code",
   "execution_count": null,
   "metadata": {},
   "outputs": [],
   "source": [
    "#environment.py\n",
    "from pettingzoo.mpe import simple_speaker_listener_v4\n",
    "\n",
    "def setup_environment(render_mode=\"rgb_array\"):\n",
    "    env = simple_speaker_listener_v4.parallel_env(continuous_actions=True, render_mode=render_mode)\n",
    "    env.reset()\n",
    "    return env\n"
   ]
  },
  {
   "cell_type": "code",
   "execution_count": null,
   "metadata": {},
   "outputs": [],
   "source": [
    "#utils.py\n",
    "from PIL import Image, ImageDraw\n",
    "\n",
    "def label_with_episode_number(frame, episode_num):\n",
    "    im = Image.fromarray(frame)\n",
    "    drawer = ImageDraw.Draw(im)\n",
    "    text_color = (255, 255, 255) if np.mean(frame) < 128 else (0, 0, 0)\n",
    "    drawer.text((im.size[0] / 20, im.size[1] / 18), f\"Episode: {episode_num+1}\", fill=text_color)\n",
    "    return im\n"
   ]
  },
  {
   "cell_type": "code",
   "execution_count": null,
   "metadata": {},
   "outputs": [],
   "source": [
    "#agent.py\n",
    "from agilerl.algorithms.matd3 import MATD3\n",
    "\n",
    "def load_matd3_agent(path, state_dim, action_dim, one_hot, n_agents, agent_ids, max_action, min_action, discrete_actions, device):\n",
    "    matd3 = MATD3(state_dim, action_dim, one_hot, n_agents, agent_ids, max_action, min_action, discrete_actions, device=device)\n",
    "    matd3.loadCheckpoint(path)\n",
    "    return matd3\n"
   ]
  },
  {
   "cell_type": "code",
   "execution_count": null,
   "metadata": {},
   "outputs": [],
   "source": [
    "#main.py\n",
    "import os\n",
    "import imageio\n",
    "import numpy as np\n",
    "import torch\n",
    "\n",
    "# モジュールのインポート\n",
    "import environment\n",
    "import utils\n",
    "import agent\n",
    "\n",
    "def main():\n",
    "    device = torch.device(\"cuda\" if torch.cuda.is_available() else \"cpu\")\n",
    "    env = environment.setup_environment()\n",
    "    # ... (残りのメインスクリプトコード)\n",
    "\n",
    "if __name__ == \"__main__\":\n",
    "    main()\n"
   ]
  }
 ],
 "metadata": {
  "language_info": {
   "name": "python"
  }
 },
 "nbformat": 4,
 "nbformat_minor": 2
}
