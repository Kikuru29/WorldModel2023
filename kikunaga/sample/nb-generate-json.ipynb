{
 "cells": [
  {
   "cell_type": "markdown",
   "id": "bdb58e6a-cfd1-4f72-a36b-4b48311c81b0",
   "metadata": {},
   "source": [
    "# パラメータ指示用Jsonファイルの作成スクリプト"
   ]
  },
  {
   "cell_type": "code",
   "execution_count": 32,
   "id": "a5ad5234-3bb9-49ab-9756-0d5586231128",
   "metadata": {},
   "outputs": [],
   "source": [
    "import pprint\n",
    "import json"
   ]
  },
  {
   "cell_type": "code",
   "execution_count": 33,
   "id": "31e9ab40-3fda-4a39-ad95-bb604dbc78f7",
   "metadata": {},
   "outputs": [],
   "source": [
    "# Define the network configuration\n",
    "# ネットワークコンフィグレーションの定義\n",
    "NET_CONFIG = {\n",
    "    \"arch\": \"mlp\",  # Network architecture\n",
    "    \"h_size\": [32, 32],  # Actor hidden size\n",
    "}\n",
    "# Define the initial hyperparameters\n",
    "# 初期ハイパーパラメータの定義\n",
    "INIT_HP = {\n",
    "    \"POPULATION_SIZE\": 4,\n",
    "    \"ALGO\": \"MATD3\",  # Algorithm\n",
    "    # Swap image channels dimension from last to first [H, W, C] -> [C, H, W]\n",
    "    \"CHANNELS_LAST\": False,\n",
    "    \"BATCH_SIZE\": 32,  # Batch size\n",
    "    \"LR\": 0.01,  # Learning rate\n",
    "    \"GAMMA\": 0.95,  # Discount factor\n",
    "    \"MEMORY_SIZE\": 100000,  # Max memory buffer size\n",
    "    \"LEARN_STEP\": 5,  # Learning frequency\n",
    "    \"TAU\": 0.01,  # For soft update of target parameters\n",
    "    \"POLICY_FREQ\": 2,  # Policy frequnecy\n",
    "}\n",
    "\n",
    "PARAM_TRAIN = {\n",
    "    \"max_episodes\" : 10, # 6000 #500  # Total episodes (default: 6000)\n",
    "    \"max_steps\" : 100, #25  # Maximum steps to take in each episode\n",
    "    \"epsilon\" : 1.0,  # Starting epsilon value\n",
    "    \"eps_end\" : 0.1,  # Final epsilon value\n",
    "    \"eps_decay\" : 0.995,  # Epsilon decay\n",
    "    \"evo_epochs\" : 20,  # Evolution frequency\n",
    "    \"evo_loop\" : 1,  # Number of evaluation episodes\n",
    "}\n",
    "\n",
    "#max_episodes = 10 # 6000 #500  # Total episodes (default: 6000)\n",
    "#max_steps = 100 #25  # Maximum steps to take in each episode\n",
    "#epsilon = 1.0  # Starting epsilon value\n",
    "#eps_end = 0.1  # Final epsilon value\n",
    "#eps_decay = 0.995  # Epsilon decay\n",
    "#evo_epochs = 20  # Evolution frequency\n",
    "#evo_loop = 1  # Number of evaluation episodes"
   ]
  },
  {
   "cell_type": "code",
   "execution_count": 34,
   "id": "f86754f1-5116-46d8-a059-d680c141b310",
   "metadata": {},
   "outputs": [],
   "source": [
    "param_json = {\n",
    "    \"NET_CONFIG\":NET_CONFIG,\n",
    "    \"INIT_HP\":INIT_HP,\n",
    "    \"PARAM_TRAIN\":PARAM_TRAIN\n",
    "}"
   ]
  },
  {
   "cell_type": "code",
   "execution_count": 35,
   "id": "c41ef72e-27ae-461f-9056-465b47f24b32",
   "metadata": {},
   "outputs": [
    {
     "name": "stdout",
     "output_type": "stream",
     "text": [
      "{\n",
      "  \"NET_CONFIG\": {\n",
      "    \"arch\": \"mlp\",\n",
      "    \"h_size\": [\n",
      "      32,\n",
      "      32\n",
      "    ]\n",
      "  },\n",
      "  \"INIT_HP\": {\n",
      "    \"POPULATION_SIZE\": 4,\n",
      "    \"ALGO\": \"MATD3\",\n",
      "    \"CHANNELS_LAST\": false,\n",
      "    \"BATCH_SIZE\": 32,\n",
      "    \"LR\": 0.01,\n",
      "    \"GAMMA\": 0.95,\n",
      "    \"MEMORY_SIZE\": 100000,\n",
      "    \"LEARN_STEP\": 5,\n",
      "    \"TAU\": 0.01,\n",
      "    \"POLICY_FREQ\": 2\n",
      "  },\n",
      "  \"PARAM_TRAIN\": {\n",
      "    \"max_episodes\": 10,\n",
      "    \"max_steps\": 100,\n",
      "    \"epsilon\": 1.0,\n",
      "    \"eps_end\": 0.1,\n",
      "    \"eps_decay\": 0.995,\n",
      "    \"evo_epochs\": 20,\n",
      "    \"evo_loop\": 1\n",
      "  }\n",
      "}\n"
     ]
    }
   ],
   "source": [
    "#プレビュー\n",
    "print(json.dumps(param_json, indent=2))"
   ]
  },
  {
   "cell_type": "code",
   "execution_count": 36,
   "id": "200c6d1d-db92-45a3-84c3-48e2a5c6bd7b",
   "metadata": {},
   "outputs": [],
   "source": [
    "#ファイル出力\n",
    "with open(\"./parameters.json\", mode=\"wt\", encoding=\"utf-8\") as f:\n",
    "    json.dump(param_json, f, ensure_ascii=False, indent=2)"
   ]
  },
  {
   "cell_type": "code",
   "execution_count": 37,
   "id": "099afb35-f889-404f-a547-0eae44339a5b",
   "metadata": {},
   "outputs": [
    {
     "name": "stdout",
     "output_type": "stream",
     "text": [
      "{'INIT_HP': {'ALGO': 'MATD3',\n",
      "             'BATCH_SIZE': 32,\n",
      "             'CHANNELS_LAST': False,\n",
      "             'GAMMA': 0.95,\n",
      "             'LEARN_STEP': 5,\n",
      "             'LR': 0.01,\n",
      "             'MEMORY_SIZE': 100000,\n",
      "             'POLICY_FREQ': 2,\n",
      "             'POPULATION_SIZE': 4,\n",
      "             'TAU': 0.01},\n",
      " 'NET_CONFIG': {'arch': 'mlp', 'h_size': [32, 32]},\n",
      " 'PARAM_TRAIN': {'eps_decay': 0.995,\n",
      "                 'eps_end': 0.1,\n",
      "                 'epsilon': 1.0,\n",
      "                 'evo_epochs': 20,\n",
      "                 'evo_loop': 1,\n",
      "                 'max_episodes': 10,\n",
      "                 'max_steps': 100}}\n"
     ]
    }
   ],
   "source": [
    "#読み込みテスト\n",
    "with open(\"./parameters.json\", mode=\"rt\", encoding=\"utf-8\") as f:\n",
    "    param_read = json.load(f)\n",
    "\n",
    "pprint.pprint(param_read)"
   ]
  },
  {
   "cell_type": "code",
   "execution_count": 38,
   "id": "d0e56a69-95f6-4d0c-a458-5dc75a178c0b",
   "metadata": {},
   "outputs": [
    {
     "data": {
      "text/plain": [
       "4"
      ]
     },
     "execution_count": 38,
     "metadata": {},
     "output_type": "execute_result"
    }
   ],
   "source": [
    "param_read[\"INIT_HP\"][\"POPULATION_SIZE\"]"
   ]
  },
  {
   "cell_type": "code",
   "execution_count": null,
   "id": "9c97e872-1560-40f9-90e0-196e0f995256",
   "metadata": {},
   "outputs": [],
   "source": []
  }
 ],
 "metadata": {
  "kernelspec": {
   "display_name": "Python 3 (ipykernel)",
   "language": "python",
   "name": "python3"
  },
  "language_info": {
   "codemirror_mode": {
    "name": "ipython",
    "version": 3
   },
   "file_extension": ".py",
   "mimetype": "text/x-python",
   "name": "python",
   "nbconvert_exporter": "python",
   "pygments_lexer": "ipython3",
   "version": "3.8.2"
  }
 },
 "nbformat": 4,
 "nbformat_minor": 5
}
